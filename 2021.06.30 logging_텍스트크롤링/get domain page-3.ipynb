{
 "cells": [
  {
   "cell_type": "code",
   "execution_count": 2,
   "id": "26056c44-cfa3-4ea1-aaeb-2922724d0ddd",
   "metadata": {},
   "outputs": [],
   "source": [
    "import json\n",
    "import time\n",
    "\n",
    "import requests"
   ]
  },
  {
   "cell_type": "code",
   "execution_count": 2,
   "id": "4dbd6104-3586-4472-b600-9c8d86cda2f8",
   "metadata": {},
   "outputs": [],
   "source": [
    "# 크롤링 대상 URL 리스트\n",
    "PAGE_URL_LIST = [\n",
    "    'http://example.com/1.page'\n",
    "    'http://example.com/2.page',\n",
    "    'http://example.com/3.page',\n",
    "]"
   ]
  },
  {
   "cell_type": "code",
   "execution_count": 2,
   "id": "bef4e723-dff1-40dc-ad5a-d71e0c546d6a",
   "metadata": {},
   "outputs": [],
   "source": [
    "def fetch_pages():\n",
    "    \"\"\"페이지의 내용을 추출합니다\"\"\"\n",
    "    # 처리 기록 전용 로그 파일을 append 모드로 엽니다\n",
    "    f_info_log = open('crawler_info.log', 'a')\n",
    "\n",
    "    # 오류 기록 전용 로그 파일을 append 모드로 엽니다\n",
    "    f_error_log = open('crawler_error.log', 'a')\n",
    "\n",
    "    # 추출 내용을 저장할 딕셔너리\n",
    "    page_contents = {}\n",
    "\n",
    "    # 터미널에 처리 시작을 출력하고, 로그 파일에도 메시지를 출력합니다.\n",
    "    msg = \"크롤링을 시작합니다\\n\"\n",
    "    print(msg)\n",
    "    f_info_log.write(msg)\n",
    "\n",
    "    for page_url in PAGE_URL_LIST:\n",
    "        r = requests.get(page_url, timeout=30)\n",
    "        try:\n",
    "            r.raise_for_status()  # 응답에 문제가 있으면 예외를 발생시킵니다.\n",
    "        except requests.exceptions.RequestException as e:\n",
    "            # requests와 관련된 예외가 발생하면\n",
    "            # 터미널과 오류 로그에 오류를 출력합니다.\n",
    "            msg = \"[ERROR] {exception}\\n\".format(exception=e)\n",
    "            print(msg)\n",
    "            f_error_log.write(msg)\n",
    "            continue  # 예외가 발생하면 반복을 중지하는게 아니라 건너 뜁니다.\n",
    "        # 정상적으로 내용을 추출했다면 딕셔너리에 내용을 저장합니다.\n",
    "        page_contents[page_url] = r.text\n",
    "        time.sleep(1)  # 상대 사이트에 대한 부하를 고려해서 요청 간격을 설정합니다.\n",
    "\n",
    "    f_info_log.close()\n",
    "    f_error_log.close()\n",
    "\n",
    "    return page_contents"
   ]
  },
  {
   "cell_type": "code",
   "execution_count": 2,
   "id": "c4aa8396-bbe6-427a-86d9-5d3512f4350a",
   "metadata": {},
   "outputs": [],
   "source": [
    "if __name__ == '__main__':\n",
    "    page_contents = fetch_pages()\n",
    "    f_page_contents = open('page_contents.json', 'w')\n",
    "    json.dump(page_contents, f_page_contents, ensure_ascii=False)\n",
    "    f_page_contents.close()"
   ]
  },
  {
   "cell_type": "code",
   "execution_count": 3,
   "id": "b42011c0-057a-4bb8-8d7d-272ed1fd3320",
   "metadata": {},
   "outputs": [],
   "source": []
  },
  {
   "cell_type": "code",
   "execution_count": 4,
   "id": "caa1a4b4-409f-429c-a13d-e386a4b48d3a",
   "metadata": {},
   "outputs": [
    {
     "name": "stdout",
     "output_type": "stream",
     "text": [
      "페이지 URL: http://www.google.co.kr/, HTTP 상태: 200, 처리 시간(초): 0.23622\n",
      "페이지 URL: http://www.naver.com/, HTTP 상태: 200, 처리 시간(초): 0.150658\n",
      "페이지 URL: http://www.daum.net/, HTTP 상태: 200, 처리 시간(초): 0.139226\n"
     ]
    }
   ],
   "source": []
  },
  {
   "cell_type": "code",
   "execution_count": null,
   "id": "66ec5680-47b4-4095-99fc-01de6ca9a237",
   "metadata": {},
   "outputs": [],
   "source": []
  }
 ],
 "metadata": {
  "kernelspec": {
   "display_name": "Python Django",
   "language": "python",
   "name": "django"
  },
  "language_info": {
   "codemirror_mode": {
    "name": "ipython",
    "version": 3
   },
   "file_extension": ".py",
   "mimetype": "text/x-python",
   "name": "python",
   "nbconvert_exporter": "python",
   "pygments_lexer": "ipython3",
   "version": "3.8.3"
  }
 },
 "nbformat": 4,
 "nbformat_minor": 5
}
