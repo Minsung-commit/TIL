{
 "cells": [
  {
   "cell_type": "code",
   "execution_count": 1,
   "id": "33c63b89-adde-4bbd-9238-4491cc663f7c",
   "metadata": {},
   "outputs": [],
   "source": [
    "import time\n",
    "\n",
    "import requests"
   ]
  },
  {
   "cell_type": "code",
   "execution_count": 2,
   "id": "b42011c0-057a-4bb8-8d7d-272ed1fd3320",
   "metadata": {},
   "outputs": [],
   "source": [
    "PAGE_URL_LIST = [\n",
    "    'http://www.google.co.kr/',\n",
    "    'http://www.naver.com/',\n",
    "    'http://www.daum.net/',\n",
    "]"
   ]
  },
  {
   "cell_type": "code",
   "execution_count": 3,
   "id": "caa1a4b4-409f-429c-a13d-e386a4b48d3a",
   "metadata": {},
   "outputs": [
    {
     "name": "stdout",
     "output_type": "stream",
     "text": [
      "페이지 URL:http://www.google.co.kr/, HTTP 상태: 200, 처리 시간(초): 0.320296\n",
      "페이지 URL:http://www.naver.com/, HTTP 상태: 200, 처리 시간(초): 0.14349\n",
      "페이지 URL:http://www.daum.net/, HTTP 상태: 200, 처리 시간(초): 0.145426\n"
     ]
    }
   ],
   "source": [
    "\n",
    "\n",
    "for page_url in PAGE_URL_LIST:\n",
    "    res = requests.get(page_url, timeout=30)\n",
    "    print(\n",
    "        \"페이지 URL:{}, HTTP 상태: {}, 처리 시간(초): {}\".format(\n",
    "            page_url,\n",
    "            res.status_code,\n",
    "            res.elapsed.total_seconds()\n",
    "        )\n",
    "    )\n",
    "    time.sleep(1)\n"
   ]
  },
  {
   "cell_type": "code",
   "execution_count": null,
   "id": "66ec5680-47b4-4095-99fc-01de6ca9a237",
   "metadata": {},
   "outputs": [],
   "source": []
  }
 ],
 "metadata": {
  "kernelspec": {
   "display_name": "Python Django",
   "language": "python",
   "name": "django"
  },
  "language_info": {
   "codemirror_mode": {
    "name": "ipython",
    "version": 3
   },
   "file_extension": ".py",
   "mimetype": "text/x-python",
   "name": "python",
   "nbconvert_exporter": "python",
   "pygments_lexer": "ipython3",
   "version": "3.8.3"
  }
 },
 "nbformat": 4,
 "nbformat_minor": 5
}
