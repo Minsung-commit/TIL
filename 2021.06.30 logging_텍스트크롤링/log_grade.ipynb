{
 "cells": [
  {
   "cell_type": "code",
   "execution_count": 1,
   "id": "5c5679c2-4435-4aef-87f6-1c08e3dbc384",
   "metadata": {},
   "outputs": [],
   "source": [
    "# colorlog 모듈을 설치한 뒤에 실행해주셔야 합니다\n",
    "# 오류에서 확인하기 힘듭니다.\n",
    "\"\"\"로그 전용 모듈\"\"\"\n",
    "import logging.config\n",
    "\n",
    "import settings"
   ]
  },
  {
   "cell_type": "code",
   "execution_count": 2,
   "id": "d73d71fe-69a6-4a64-b958-d7187284d314",
   "metadata": {},
   "outputs": [],
   "source": [
    "def get_my_logger(name):\n",
    "    logging.config.dictConfig(settings.LOGGING_CONF)\n",
    "    return logging.getLogger(name)"
   ]
  },
  {
   "cell_type": "code",
   "execution_count": 3,
   "id": "4e038efb-0caa-4aa0-9f57-0003f42036ab",
   "metadata": {},
   "outputs": [
    {
     "name": "stderr",
     "output_type": "stream",
     "text": [
      "\u001b[01;30m[DEBUG]\t2021-06-30 16:52:59\tDEBUG 레벨입니다.\u001b[0m\n",
      "\u001b[37m[INFO]\t2021-06-30 16:52:59\tINFO 레벨입니다.\u001b[0m\n",
      "\u001b[33m[WARNING]\t2021-06-30 16:52:59\tWARNING 레벨입니다.\u001b[0m\n",
      "\u001b[31m[ERROR]\t2021-06-30 16:52:59\tERROR 레벨입니다.\u001b[0m\n",
      "\u001b[01;31m[CRITICAL]\t2021-06-30 16:52:59\tCRITICAL 레벨입니다.\u001b[0m\n"
     ]
    }
   ],
   "source": [
    "logger = get_my_logger(__name__)\n",
    "\n",
    "if __name__ == '__main__':\n",
    "    \"\"\"my_logging를 사용해봅니다.\"\"\"\n",
    "    logger.debug('DEBUG 레벨입니다.')\n",
    "    logger.info('INFO 레벨입니다.')\n",
    "    logger.warning('WARNING 레벨입니다.')\n",
    "    logger.error('ERROR 레벨입니다.')\n",
    "    logger.critical('CRITICAL 레벨입니다.')"
   ]
  },
  {
   "cell_type": "code",
   "execution_count": null,
   "id": "22180f38-438a-46a1-a518-091afd5b36d0",
   "metadata": {},
   "outputs": [],
   "source": []
  }
 ],
 "metadata": {
  "kernelspec": {
   "display_name": "Python Django",
   "language": "python",
   "name": "django"
  },
  "language_info": {
   "codemirror_mode": {
    "name": "ipython",
    "version": 3
   },
   "file_extension": ".py",
   "mimetype": "text/x-python",
   "name": "python",
   "nbconvert_exporter": "python",
   "pygments_lexer": "ipython3",
   "version": "3.8.3"
  }
 },
 "nbformat": 4,
 "nbformat_minor": 5
}
