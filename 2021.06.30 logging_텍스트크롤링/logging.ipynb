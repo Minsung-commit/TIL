{
 "cells": [
  {
   "cell_type": "code",
   "execution_count": 1,
   "id": "98a03673-2bb7-4ba5-941d-c5269557b941",
   "metadata": {},
   "outputs": [],
   "source": [
    "from logging import (\n",
    "    getLogger,\n",
    "    Formatter,\n",
    "    FileHandler,\n",
    "    StreamHandler,\n",
    "    DEBUG,\n",
    "    ERROR,\n",
    ")\n",
    "import requests"
   ]
  },
  {
   "cell_type": "code",
   "execution_count": 2,
   "id": "ddef94dd-53ce-4c20-8e3d-ea98bc04aa65",
   "metadata": {},
   "outputs": [],
   "source": [
    "# 로거 : __name__에는 실행 모듈 이름 logging_sample이 들어감(파일 이름)\n",
    "logger = getLogger(__name__)"
   ]
  },
  {
   "cell_type": "code",
   "execution_count": 3,
   "id": "28c394fa-0add-4fbc-b9c7-8b0bcf990f09",
   "metadata": {},
   "outputs": [],
   "source": [
    "# 출력 형식\n",
    "default_format = '[%(levelname)s] %(asctime)s %(name)s %(filename)s:%(lineno)d %(message)s'\n",
    "default_formatter = Formatter(default_format)\n",
    "funcname_formatter = Formatter(default_format + ' (%(funcName)s)')"
   ]
  },
  {
   "cell_type": "code",
   "execution_count": 4,
   "id": "8ad1ca56-cd27-47c7-abfe-3548e28b368f",
   "metadata": {},
   "outputs": [],
   "source": [
    "# 로그 전용 핸들러: 콘솔 출력 전용\n",
    "log_stream_handler = StreamHandler()\n",
    "log_stream_handler.setFormatter(default_formatter)\n",
    "log_stream_handler.setLevel(DEBUG)"
   ]
  },
  {
   "cell_type": "code",
   "execution_count": 5,
   "id": "fb9ed29c-21ed-4b55-aa28-08c4c21854cb",
   "metadata": {},
   "outputs": [],
   "source": [
    "# 로그 전용 핸들러: 파일 출력 전용\n",
    "log_file_handler = FileHandler(filename=\"crawler.log\")\n",
    "log_file_handler.setFormatter(funcname_formatter)\n",
    "log_file_handler.setLevel(ERROR)"
   ]
  },
  {
   "cell_type": "code",
   "execution_count": 6,
   "id": "18443265-10f4-49ed-ba3b-042c664c7e77",
   "metadata": {},
   "outputs": [
    {
     "name": "stderr",
     "output_type": "stream",
     "text": [
      "[INFO] 2021-06-30 17:12:30,740 __main__ <ipython-input-6-eab93999e09f>:7 크롤링을 시작했습니다.\n",
      "[WARNING] 2021-06-30 17:12:30,752 __main__ <ipython-input-6-eab93999e09f>:8 외부 사이트 링크는 크롤링하지 않습니다.\n",
      "[ERROR] 2021-06-30 17:12:30,756 __main__ <ipython-input-6-eab93999e09f>:9 페이지를 찾을 수 없습니다.\n",
      "[ERROR] 2021-06-30 17:12:30,782 __main__ <ipython-input-6-eab93999e09f>:14 요청 중에 예외가 발생했습니다: MissingSchema(\"Invalid URL '#invalid_url': No schema supplied. Perhaps you meant http://#invalid_url?\")\n",
      "Traceback (most recent call last):\n",
      "  File \"<ipython-input-6-eab93999e09f>\", line 12, in logging_example\n",
      "    r = requests.get('#invalid_url', timeout=1)\n",
      "  File \"C:\\anaconda3\\envs\\django\\lib\\site-packages\\requests\\api.py\", line 76, in get\n",
      "    return request('get', url, params=params, **kwargs)\n",
      "  File \"C:\\anaconda3\\envs\\django\\lib\\site-packages\\requests\\api.py\", line 61, in request\n",
      "    return session.request(method=method, url=url, **kwargs)\n",
      "  File \"C:\\anaconda3\\envs\\django\\lib\\site-packages\\requests\\sessions.py\", line 528, in request\n",
      "    prep = self.prepare_request(req)\n",
      "  File \"C:\\anaconda3\\envs\\django\\lib\\site-packages\\requests\\sessions.py\", line 456, in prepare_request\n",
      "    p.prepare(\n",
      "  File \"C:\\anaconda3\\envs\\django\\lib\\site-packages\\requests\\models.py\", line 316, in prepare\n",
      "    self.prepare_url(url, params)\n",
      "  File \"C:\\anaconda3\\envs\\django\\lib\\site-packages\\requests\\models.py\", line 390, in prepare_url\n",
      "    raise MissingSchema(error)\n",
      "requests.exceptions.MissingSchema: Invalid URL '#invalid_url': No schema supplied. Perhaps you meant http://#invalid_url?\n"
     ]
    }
   ],
   "source": [
    "# 로거에 핸들러와 레벨 설정하기\n",
    "logger.setLevel(DEBUG)\n",
    "logger.addHandler(log_stream_handler)\n",
    "logger.addHandler(log_file_handler)\n",
    "\n",
    "def logging_example():\n",
    "    logger.info('크롤링을 시작했습니다.')\n",
    "    logger.warning('외부 사이트 링크는 크롤링하지 않습니다.')\n",
    "    logger.error('페이지를 찾을 수 없습니다.')\n",
    "    \n",
    "    try:\n",
    "        r = requests.get('#invalid_url', timeout=1)\n",
    "    except requests.exceptions.RequestException as e:\n",
    "        logger.exception('요청 중에 예외가 발생했습니다: %r', e)\n",
    "\n",
    "if __name__ == '__main__':\n",
    "    logging_example()"
   ]
  },
  {
   "cell_type": "code",
   "execution_count": null,
   "id": "83d7dcc5-c454-4f38-8b2d-41b57be13d94",
   "metadata": {},
   "outputs": [],
   "source": []
  }
 ],
 "metadata": {
  "kernelspec": {
   "display_name": "Python Django",
   "language": "python",
   "name": "django"
  },
  "language_info": {
   "codemirror_mode": {
    "name": "ipython",
    "version": 3
   },
   "file_extension": ".py",
   "mimetype": "text/x-python",
   "name": "python",
   "nbconvert_exporter": "python",
   "pygments_lexer": "ipython3",
   "version": "3.8.3"
  }
 },
 "nbformat": 4,
 "nbformat_minor": 5
}
