{
 "cells": [
  {
   "cell_type": "code",
   "execution_count": 21,
   "id": "c14f60bf-237a-4312-b233-24fb4e4b9347",
   "metadata": {},
   "outputs": [],
   "source": [
    "# 윈도우에서는 한글 인코딩 오류가 발생할 수 있습니다.\n",
    "# 한글 인코딩 오류가 발생한다면\n",
    "# Message.log(message_type=\"info\", msg=\"데이터를 저장했습니다.\")\n",
    "# 위의 코드 부분의 msg를 영어로 수정해서 사용해주세요.\n",
    "\n",
    "import json\n",
    "import sys\n",
    "\n",
    "from eliot import Message, start_action, to_file, write_traceback\n",
    "import requests"
   ]
  },
  {
   "cell_type": "code",
   "execution_count": 22,
   "id": "781d8953-ec14-4c66-a1f5-e765e5a87807",
   "metadata": {},
   "outputs": [],
   "source": [
    "# 로그 출력을 표준 출력으로 설정(터미널에 출력하기)\n",
    "to_file(sys.stdout)\n",
    "# 크롤링 대상 URL 리스트\n",
    "PAGE_URL_LIST = [\n",
    "    'http://www.google.co.kr/',\n",
    "    'http://www.naver.com/',\n",
    "    'http://www.daum.net/',\n",
    "]"
   ]
  },
  {
   "cell_type": "code",
   "execution_count": 23,
   "id": "04bf00fd-4403-4635-ae9d-1d82c1a2a8b8",
   "metadata": {},
   "outputs": [],
   "source": [
    "def fetch_pages():\n",
    "    \"\"\"페이지의 내용을 추출합니다.\"\"\"\n",
    "    # 어떤 처리의 로그인지는 action_type으로 지정\n",
    "    with start_action(action_type=\"fetch_pages\"):\n",
    "        page_contents = {}\n",
    "        for page_url in PAGE_URL_LIST:\n",
    "            # 어떤 처리의 로그인지 action_type으로 출력\n",
    "            with start_action(action_type=\"download\", url=page_url):\n",
    "                try:\n",
    "                    r = requests.get(page_url, timeout=30)\n",
    "                    r.raise_for_status()\n",
    "                except requests.exceptions.RequestException as e:\n",
    "                    write_traceback()  # 예외가 발생하면 트레이스백 출력\n",
    "                    continue\n",
    "                page_contents[page_url] = r.text\n",
    "        return page_contents"
   ]
  },
  {
   "cell_type": "code",
   "execution_count": 26,
   "id": "5251b1fb-152b-4d80-9520-270783addfee",
   "metadata": {},
   "outputs": [
    {
     "name": "stdout",
     "output_type": "stream",
     "text": [
      "{\"action_status\": \"started\", \"timestamp\": 1625041679.1356192, \"task_uuid\": \"1ed91229-3721-4386-b05e-12eaa8001e18\", \"action_type\": \"fetch_pages\", \"task_level\": [1]}\n",
      "{\"action_status\": \"started\", \"timestamp\": 1625041679.1356192, \"task_uuid\": \"1ed91229-3721-4386-b05e-12eaa8001e18\", \"action_type\": \"fetch_pages\", \"task_level\": [1]}\n",
      "{\"action_status\": \"started\", \"timestamp\": 1625041679.1356192, \"task_uuid\": \"1ed91229-3721-4386-b05e-12eaa8001e18\", \"action_type\": \"fetch_pages\", \"task_level\": [1]}\n",
      "{\"action_status\": \"started\", \"timestamp\": 1625041679.1356192, \"task_uuid\": \"1ed91229-3721-4386-b05e-12eaa8001e18\", \"action_type\": \"fetch_pages\", \"task_level\": [1]}\n",
      "{\"action_status\": \"started\", \"timestamp\": 1625041679.1356192, \"task_uuid\": \"1ed91229-3721-4386-b05e-12eaa8001e18\", \"action_type\": \"fetch_pages\", \"task_level\": [1]}\n",
      "{\"url\": \"http://www.google.co.kr/\", \"action_status\": \"started\", \"timestamp\": 1625041679.149107, \"task_uuid\": \"1ed91229-3721-4386-b05e-12eaa8001e18\", \"action_type\": \"download\", \"task_level\": [2, 1]}\n",
      "{\"url\": \"http://www.google.co.kr/\", \"action_status\": \"started\", \"timestamp\": 1625041679.149107, \"task_uuid\": \"1ed91229-3721-4386-b05e-12eaa8001e18\", \"action_type\": \"download\", \"task_level\": [2, 1]}\n",
      "{\"url\": \"http://www.google.co.kr/\", \"action_status\": \"started\", \"timestamp\": 1625041679.149107, \"task_uuid\": \"1ed91229-3721-4386-b05e-12eaa8001e18\", \"action_type\": \"download\", \"task_level\": [2, 1]}\n",
      "{\"url\": \"http://www.google.co.kr/\", \"action_status\": \"started\", \"timestamp\": 1625041679.149107, \"task_uuid\": \"1ed91229-3721-4386-b05e-12eaa8001e18\", \"action_type\": \"download\", \"task_level\": [2, 1]}\n",
      "{\"url\": \"http://www.google.co.kr/\", \"action_status\": \"started\", \"timestamp\": 1625041679.149107, \"task_uuid\": \"1ed91229-3721-4386-b05e-12eaa8001e18\", \"action_type\": \"download\", \"task_level\": [2, 1]}\n",
      "{\"action_status\": \"succeeded\", \"timestamp\": 1625041679.3321419, \"task_uuid\": \"1ed91229-3721-4386-b05e-12eaa8001e18\", \"action_type\": \"download\", \"task_level\": [2, 2]}\n",
      "{\"action_status\": \"succeeded\", \"timestamp\": 1625041679.3321419, \"task_uuid\": \"1ed91229-3721-4386-b05e-12eaa8001e18\", \"action_type\": \"download\", \"task_level\": [2, 2]}\n",
      "{\"action_status\": \"succeeded\", \"timestamp\": 1625041679.3321419, \"task_uuid\": \"1ed91229-3721-4386-b05e-12eaa8001e18\", \"action_type\": \"download\", \"task_level\": [2, 2]}\n",
      "{\"action_status\": \"succeeded\", \"timestamp\": 1625041679.3321419, \"task_uuid\": \"1ed91229-3721-4386-b05e-12eaa8001e18\", \"action_type\": \"download\", \"task_level\": [2, 2]}\n",
      "{\"action_status\": \"succeeded\", \"timestamp\": 1625041679.3321419, \"task_uuid\": \"1ed91229-3721-4386-b05e-12eaa8001e18\", \"action_type\": \"download\", \"task_level\": [2, 2]}\n",
      "{\"url\": \"http://www.naver.com/\", \"action_status\": \"started\", \"timestamp\": 1625041679.337127, \"task_uuid\": \"1ed91229-3721-4386-b05e-12eaa8001e18\", \"action_type\": \"download\", \"task_level\": [3, 1]}\n",
      "{\"url\": \"http://www.naver.com/\", \"action_status\": \"started\", \"timestamp\": 1625041679.337127, \"task_uuid\": \"1ed91229-3721-4386-b05e-12eaa8001e18\", \"action_type\": \"download\", \"task_level\": [3, 1]}\n",
      "{\"url\": \"http://www.naver.com/\", \"action_status\": \"started\", \"timestamp\": 1625041679.337127, \"task_uuid\": \"1ed91229-3721-4386-b05e-12eaa8001e18\", \"action_type\": \"download\", \"task_level\": [3, 1]}\n",
      "{\"url\": \"http://www.naver.com/\", \"action_status\": \"started\", \"timestamp\": 1625041679.337127, \"task_uuid\": \"1ed91229-3721-4386-b05e-12eaa8001e18\", \"action_type\": \"download\", \"task_level\": [3, 1]}\n",
      "{\"url\": \"http://www.naver.com/\", \"action_status\": \"started\", \"timestamp\": 1625041679.337127, \"task_uuid\": \"1ed91229-3721-4386-b05e-12eaa8001e18\", \"action_type\": \"download\", \"task_level\": [3, 1]}\n",
      "{\"action_status\": \"succeeded\", \"timestamp\": 1625041679.449202, \"task_uuid\": \"1ed91229-3721-4386-b05e-12eaa8001e18\", \"action_type\": \"download\", \"task_level\": [3, 2]}\n",
      "{\"action_status\": \"succeeded\", \"timestamp\": 1625041679.449202, \"task_uuid\": \"1ed91229-3721-4386-b05e-12eaa8001e18\", \"action_type\": \"download\", \"task_level\": [3, 2]}\n",
      "{\"action_status\": \"succeeded\", \"timestamp\": 1625041679.449202, \"task_uuid\": \"1ed91229-3721-4386-b05e-12eaa8001e18\", \"action_type\": \"download\", \"task_level\": [3, 2]}\n",
      "{\"action_status\": \"succeeded\", \"timestamp\": 1625041679.449202, \"task_uuid\": \"1ed91229-3721-4386-b05e-12eaa8001e18\", \"action_type\": \"download\", \"task_level\": [3, 2]}\n",
      "{\"action_status\": \"succeeded\", \"timestamp\": 1625041679.449202, \"task_uuid\": \"1ed91229-3721-4386-b05e-12eaa8001e18\", \"action_type\": \"download\", \"task_level\": [3, 2]}\n",
      "{\"url\": \"http://www.daum.net/\", \"action_status\": \"started\", \"timestamp\": 1625041679.462219, \"task_uuid\": \"1ed91229-3721-4386-b05e-12eaa8001e18\", \"action_type\": \"download\", \"task_level\": [4, 1]}\n",
      "{\"url\": \"http://www.daum.net/\", \"action_status\": \"started\", \"timestamp\": 1625041679.462219, \"task_uuid\": \"1ed91229-3721-4386-b05e-12eaa8001e18\", \"action_type\": \"download\", \"task_level\": [4, 1]}\n",
      "{\"url\": \"http://www.daum.net/\", \"action_status\": \"started\", \"timestamp\": 1625041679.462219, \"task_uuid\": \"1ed91229-3721-4386-b05e-12eaa8001e18\", \"action_type\": \"download\", \"task_level\": [4, 1]}\n",
      "{\"url\": \"http://www.daum.net/\", \"action_status\": \"started\", \"timestamp\": 1625041679.462219, \"task_uuid\": \"1ed91229-3721-4386-b05e-12eaa8001e18\", \"action_type\": \"download\", \"task_level\": [4, 1]}\n",
      "{\"url\": \"http://www.daum.net/\", \"action_status\": \"started\", \"timestamp\": 1625041679.462219, \"task_uuid\": \"1ed91229-3721-4386-b05e-12eaa8001e18\", \"action_type\": \"download\", \"task_level\": [4, 1]}\n",
      "{\"action_status\": \"succeeded\", \"timestamp\": 1625041679.6293702, \"task_uuid\": \"1ed91229-3721-4386-b05e-12eaa8001e18\", \"action_type\": \"download\", \"task_level\": [4, 2]}\n",
      "{\"action_status\": \"succeeded\", \"timestamp\": 1625041679.6293702, \"task_uuid\": \"1ed91229-3721-4386-b05e-12eaa8001e18\", \"action_type\": \"download\", \"task_level\": [4, 2]}\n",
      "{\"action_status\": \"succeeded\", \"timestamp\": 1625041679.6293702, \"task_uuid\": \"1ed91229-3721-4386-b05e-12eaa8001e18\", \"action_type\": \"download\", \"task_level\": [4, 2]}\n",
      "{\"action_status\": \"succeeded\", \"timestamp\": 1625041679.6293702, \"task_uuid\": \"1ed91229-3721-4386-b05e-12eaa8001e18\", \"action_type\": \"download\", \"task_level\": [4, 2]}\n",
      "{\"action_status\": \"succeeded\", \"timestamp\": 1625041679.6293702, \"task_uuid\": \"1ed91229-3721-4386-b05e-12eaa8001e18\", \"action_type\": \"download\", \"task_level\": [4, 2]}\n",
      "{\"action_status\": \"succeeded\", \"timestamp\": 1625041679.6433413, \"task_uuid\": \"1ed91229-3721-4386-b05e-12eaa8001e18\", \"action_type\": \"fetch_pages\", \"task_level\": [5]}\n",
      "{\"action_status\": \"succeeded\", \"timestamp\": 1625041679.6433413, \"task_uuid\": \"1ed91229-3721-4386-b05e-12eaa8001e18\", \"action_type\": \"fetch_pages\", \"task_level\": [5]}\n",
      "{\"action_status\": \"succeeded\", \"timestamp\": 1625041679.6433413, \"task_uuid\": \"1ed91229-3721-4386-b05e-12eaa8001e18\", \"action_type\": \"fetch_pages\", \"task_level\": [5]}\n",
      "{\"action_status\": \"succeeded\", \"timestamp\": 1625041679.6433413, \"task_uuid\": \"1ed91229-3721-4386-b05e-12eaa8001e18\", \"action_type\": \"fetch_pages\", \"task_level\": [5]}\n",
      "{\"action_status\": \"succeeded\", \"timestamp\": 1625041679.6433413, \"task_uuid\": \"1ed91229-3721-4386-b05e-12eaa8001e18\", \"action_type\": \"fetch_pages\", \"task_level\": [5]}\n"
     ]
    },
    {
     "ename": "UnicodeEncodeError",
     "evalue": "'cp949' codec can't encode character '\\U0001f499' in position 102650: illegal multibyte sequence",
     "output_type": "error",
     "traceback": [
      "\u001b[1;31m---------------------------------------------------------------------------\u001b[0m",
      "\u001b[1;31mUnicodeEncodeError\u001b[0m                        Traceback (most recent call last)",
      "\u001b[1;32m<ipython-input-26-8f0f8e2d9f8c>\u001b[0m in \u001b[0;36m<module>\u001b[1;34m\u001b[0m\n\u001b[0;32m      2\u001b[0m     \u001b[0mpage_contents\u001b[0m \u001b[1;33m=\u001b[0m \u001b[0mfetch_pages\u001b[0m\u001b[1;33m(\u001b[0m\u001b[1;33m)\u001b[0m\u001b[1;33m\u001b[0m\u001b[1;33m\u001b[0m\u001b[0m\n\u001b[0;32m      3\u001b[0m     \u001b[1;32mwith\u001b[0m \u001b[0mopen\u001b[0m\u001b[1;33m(\u001b[0m\u001b[1;34m'page_contents.json'\u001b[0m\u001b[1;33m,\u001b[0m \u001b[1;34m'w'\u001b[0m\u001b[1;33m)\u001b[0m \u001b[1;32mas\u001b[0m \u001b[0mf_page_contents\u001b[0m\u001b[1;33m:\u001b[0m\u001b[1;33m\u001b[0m\u001b[1;33m\u001b[0m\u001b[0m\n\u001b[1;32m----> 4\u001b[1;33m         \u001b[0mjson\u001b[0m\u001b[1;33m.\u001b[0m\u001b[0mdump\u001b[0m\u001b[1;33m(\u001b[0m\u001b[0mpage_contents\u001b[0m\u001b[1;33m,\u001b[0m \u001b[0mf_page_contents\u001b[0m\u001b[1;33m,\u001b[0m \u001b[0mensure_ascii\u001b[0m\u001b[1;33m=\u001b[0m\u001b[1;32mFalse\u001b[0m\u001b[1;33m)\u001b[0m\u001b[1;33m\u001b[0m\u001b[1;33m\u001b[0m\u001b[0m\n\u001b[0m\u001b[0;32m      5\u001b[0m \u001b[1;33m\u001b[0m\u001b[0m\n\u001b[0;32m      6\u001b[0m     \u001b[1;31m# 단순하게 로그 메시지만 출력할 수도 있음\u001b[0m\u001b[1;33m\u001b[0m\u001b[1;33m\u001b[0m\u001b[1;33m\u001b[0m\u001b[0m\n",
      "\u001b[1;32mC:\\anaconda3\\envs\\django\\lib\\json\\__init__.py\u001b[0m in \u001b[0;36mdump\u001b[1;34m(obj, fp, skipkeys, ensure_ascii, check_circular, allow_nan, cls, indent, separators, default, sort_keys, **kw)\u001b[0m\n\u001b[0;32m    178\u001b[0m     \u001b[1;31m# a debuggability cost\u001b[0m\u001b[1;33m\u001b[0m\u001b[1;33m\u001b[0m\u001b[1;33m\u001b[0m\u001b[0m\n\u001b[0;32m    179\u001b[0m     \u001b[1;32mfor\u001b[0m \u001b[0mchunk\u001b[0m \u001b[1;32min\u001b[0m \u001b[0miterable\u001b[0m\u001b[1;33m:\u001b[0m\u001b[1;33m\u001b[0m\u001b[1;33m\u001b[0m\u001b[0m\n\u001b[1;32m--> 180\u001b[1;33m         \u001b[0mfp\u001b[0m\u001b[1;33m.\u001b[0m\u001b[0mwrite\u001b[0m\u001b[1;33m(\u001b[0m\u001b[0mchunk\u001b[0m\u001b[1;33m)\u001b[0m\u001b[1;33m\u001b[0m\u001b[1;33m\u001b[0m\u001b[0m\n\u001b[0m\u001b[0;32m    181\u001b[0m \u001b[1;33m\u001b[0m\u001b[0m\n\u001b[0;32m    182\u001b[0m \u001b[1;33m\u001b[0m\u001b[0m\n",
      "\u001b[1;31mUnicodeEncodeError\u001b[0m: 'cp949' codec can't encode character '\\U0001f499' in position 102650: illegal multibyte sequence"
     ]
    }
   ],
   "source": [
    "if __name__ == '__main__':\n",
    "    page_contents = fetch_pages()\n",
    "    with open('page_contents.json', 'w') as f_page_contents:\n",
    "        json.dump(page_contents, f_page_contents, ensure_ascii=False)\n",
    "        \n",
    "    # 단순하게 로그 메시지만 출력할 수도 있음\n",
    "#     Message.log(message_type=\"info\", msg=\"you've just saved data\")\n",
    "    Message.log(message_type=\"info\", msg=\"데이터를 저장했습니다.\")"
   ]
  },
  {
   "cell_type": "code",
   "execution_count": null,
   "id": "10b48ad9-e9ce-4c1b-a2ed-d78abb6b328f",
   "metadata": {},
   "outputs": [],
   "source": []
  }
 ],
 "metadata": {
  "kernelspec": {
   "display_name": "Python Django",
   "language": "python",
   "name": "django"
  },
  "language_info": {
   "codemirror_mode": {
    "name": "ipython",
    "version": 3
   },
   "file_extension": ".py",
   "mimetype": "text/x-python",
   "name": "python",
   "nbconvert_exporter": "python",
   "pygments_lexer": "ipython3",
   "version": "3.8.3"
  }
 },
 "nbformat": 4,
 "nbformat_minor": 5
}
