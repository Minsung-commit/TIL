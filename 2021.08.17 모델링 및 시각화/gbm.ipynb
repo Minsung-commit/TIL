{
 "cells": [
  {
   "cell_type": "code",
   "execution_count": 1,
   "id": "7b46a6d6",
   "metadata": {},
   "outputs": [],
   "source": [
    "import numpy as np\n",
    "import pandas as pd\n",
    "import matplotlib.pyplot as plt\n",
    "import seaborn as sns\n",
    "\n",
    "from sklearn.model_selection import train_test_split\n",
    "from sklearn.metrics import mean_squared_error"
   ]
  },
  {
   "cell_type": "code",
   "execution_count": 2,
   "id": "adee9dbf",
   "metadata": {},
   "outputs": [],
   "source": [
    "df = pd.read_csv('./seoul_4.csv')"
   ]
  },
  {
   "cell_type": "code",
   "execution_count": 3,
   "id": "5e4163c5",
   "metadata": {},
   "outputs": [
    {
     "data": {
      "text/html": [
       "<div>\n",
       "<style scoped>\n",
       "    .dataframe tbody tr th:only-of-type {\n",
       "        vertical-align: middle;\n",
       "    }\n",
       "\n",
       "    .dataframe tbody tr th {\n",
       "        vertical-align: top;\n",
       "    }\n",
       "\n",
       "    .dataframe thead th {\n",
       "        text-align: right;\n",
       "    }\n",
       "</style>\n",
       "<table border=\"1\" class=\"dataframe\">\n",
       "  <thead>\n",
       "    <tr style=\"text-align: right;\">\n",
       "      <th></th>\n",
       "      <th>gu_l</th>\n",
       "      <th>dong_l</th>\n",
       "      <th>s_c</th>\n",
       "      <th>used_y</th>\n",
       "      <th>square</th>\n",
       "      <th>per_cost_man</th>\n",
       "      <th>floor</th>\n",
       "      <th>YN_r</th>\n",
       "      <th>YN_top10</th>\n",
       "      <th>cost</th>\n",
       "    </tr>\n",
       "  </thead>\n",
       "  <tbody>\n",
       "    <tr>\n",
       "      <th>0</th>\n",
       "      <td>0</td>\n",
       "      <td>8</td>\n",
       "      <td>1</td>\n",
       "      <td>32</td>\n",
       "      <td>77.75</td>\n",
       "      <td>1922.829582</td>\n",
       "      <td>7</td>\n",
       "      <td>1</td>\n",
       "      <td>1</td>\n",
       "      <td>149500</td>\n",
       "    </tr>\n",
       "    <tr>\n",
       "      <th>1</th>\n",
       "      <td>0</td>\n",
       "      <td>8</td>\n",
       "      <td>1</td>\n",
       "      <td>33</td>\n",
       "      <td>54.98</td>\n",
       "      <td>2619.134231</td>\n",
       "      <td>7</td>\n",
       "      <td>1</td>\n",
       "      <td>1</td>\n",
       "      <td>144000</td>\n",
       "    </tr>\n",
       "    <tr>\n",
       "      <th>2</th>\n",
       "      <td>0</td>\n",
       "      <td>8</td>\n",
       "      <td>1</td>\n",
       "      <td>33</td>\n",
       "      <td>79.97</td>\n",
       "      <td>2035.138177</td>\n",
       "      <td>7</td>\n",
       "      <td>1</td>\n",
       "      <td>1</td>\n",
       "      <td>162750</td>\n",
       "    </tr>\n",
       "    <tr>\n",
       "      <th>3</th>\n",
       "      <td>0</td>\n",
       "      <td>8</td>\n",
       "      <td>1</td>\n",
       "      <td>33</td>\n",
       "      <td>79.97</td>\n",
       "      <td>2000.750281</td>\n",
       "      <td>8</td>\n",
       "      <td>1</td>\n",
       "      <td>1</td>\n",
       "      <td>160000</td>\n",
       "    </tr>\n",
       "    <tr>\n",
       "      <th>4</th>\n",
       "      <td>0</td>\n",
       "      <td>8</td>\n",
       "      <td>1</td>\n",
       "      <td>33</td>\n",
       "      <td>79.97</td>\n",
       "      <td>1875.703389</td>\n",
       "      <td>5</td>\n",
       "      <td>1</td>\n",
       "      <td>1</td>\n",
       "      <td>150000</td>\n",
       "    </tr>\n",
       "  </tbody>\n",
       "</table>\n",
       "</div>"
      ],
      "text/plain": [
       "   gu_l  dong_l  s_c  used_y  square  per_cost_man  floor  YN_r  YN_top10  \\\n",
       "0     0       8    1      32   77.75   1922.829582      7     1         1   \n",
       "1     0       8    1      33   54.98   2619.134231      7     1         1   \n",
       "2     0       8    1      33   79.97   2035.138177      7     1         1   \n",
       "3     0       8    1      33   79.97   2000.750281      8     1         1   \n",
       "4     0       8    1      33   79.97   1875.703389      5     1         1   \n",
       "\n",
       "     cost  \n",
       "0  149500  \n",
       "1  144000  \n",
       "2  162750  \n",
       "3  160000  \n",
       "4  150000  "
      ]
     },
     "execution_count": 3,
     "metadata": {},
     "output_type": "execute_result"
    }
   ],
   "source": [
    "df.head()"
   ]
  },
  {
   "cell_type": "code",
   "execution_count": 4,
   "id": "9dd5abc1",
   "metadata": {},
   "outputs": [],
   "source": [
    "X = df.drop(['cost'], axis = 1)\n",
    "y = df['cost']\n",
    "\n",
    "X_train, X_test, y_train, y_test = train_test_split(X, y,\n",
    "                                                   test_size = 0.2,\n",
    "                                                   random_state = 99)"
   ]
  },
  {
   "cell_type": "markdown",
   "id": "6d684dba",
   "metadata": {},
   "source": [
    "## GBM"
   ]
  },
  {
   "cell_type": "code",
   "execution_count": 5,
   "id": "cd0ff4ba",
   "metadata": {},
   "outputs": [],
   "source": [
    "from sklearn.ensemble import GradientBoostingRegressor"
   ]
  },
  {
   "cell_type": "code",
   "execution_count": 6,
   "id": "2d526844",
   "metadata": {},
   "outputs": [],
   "source": [
    "gbr = GradientBoostingRegressor(loss = 'ls',\n",
    "                                learning_rate = 0.001,\n",
    "                                max_features = 2,\n",
    "                                max_depth = 4,\n",
    "                                criterion = 'mse',\n",
    "                                n_estimators = 9000,\n",
    "                                random_state = 99)"
   ]
  },
  {
   "cell_type": "code",
   "execution_count": 7,
   "id": "aa8efe67",
   "metadata": {
    "scrolled": true
   },
   "outputs": [
    {
     "name": "stdout",
     "output_type": "stream",
     "text": [
      "CPU times: user 3 µs, sys: 1 µs, total: 4 µs\n",
      "Wall time: 7.87 µs\n"
     ]
    },
    {
     "data": {
      "text/plain": [
       "GradientBoostingRegressor(criterion='mse', learning_rate=0.001, max_depth=4,\n",
       "                          max_features=2, n_estimators=9000, random_state=99)"
      ]
     },
     "execution_count": 7,
     "metadata": {},
     "output_type": "execute_result"
    }
   ],
   "source": [
    "%time\n",
    "gbr.fit(X_train, y_train)"
   ]
  },
  {
   "cell_type": "code",
   "execution_count": 9,
   "id": "ef4027d6",
   "metadata": {},
   "outputs": [
    {
     "data": {
      "text/plain": [
       "68405116.07221945"
      ]
     },
     "execution_count": 9,
     "metadata": {},
     "output_type": "execute_result"
    }
   ],
   "source": [
    "# 모델 평가\n",
    "mean_squared_error(y_test, gbr.predict(X_test))"
   ]
  },
  {
   "cell_type": "code",
   "execution_count": 10,
   "id": "256f999f",
   "metadata": {
    "scrolled": true
   },
   "outputs": [
    {
     "data": {
      "text/plain": [
       "array([0.0844798 , 0.01602277, 0.00818802, 0.04973684, 0.36684495,\n",
       "       0.44946208, 0.01837623, 0.00342219, 0.00346712])"
      ]
     },
     "execution_count": 10,
     "metadata": {},
     "output_type": "execute_result"
    }
   ],
   "source": [
    "# feature importance\n",
    "gbr.feature_importances_"
   ]
  },
  {
   "cell_type": "code",
   "execution_count": 11,
   "id": "ad95fe38",
   "metadata": {},
   "outputs": [
    {
     "data": {
      "text/plain": [
       "Index(['gu_l', 'dong_l', 's_c', 'used_y', 'square', 'per_cost_man', 'floor',\n",
       "       'YN_r', 'YN_top10', 'cost'],\n",
       "      dtype='object')"
      ]
     },
     "execution_count": 11,
     "metadata": {},
     "output_type": "execute_result"
    }
   ],
   "source": [
    "df.columns"
   ]
  },
  {
   "cell_type": "code",
   "execution_count": 12,
   "id": "ac9bd40f",
   "metadata": {},
   "outputs": [
    {
     "name": "stderr",
     "output_type": "stream",
     "text": [
      "/home/ubuntu/anaconda3/envs/multi/lib/python3.7/site-packages/seaborn/_decorators.py:43: FutureWarning: Pass the following variables as keyword args: x, y. From version 0.12, the only valid positional argument will be `data`, and passing other arguments without an explicit keyword will result in an error or misinterpretation.\n",
      "  FutureWarning\n"
     ]
    },
    {
     "data": {
      "image/png": "[encoded data removed]",
      "text/plain": [
       "<Figure size 700x500 with 1 Axes>"
      ]
     },
     "metadata": {},
     "output_type": "display_data"
    }
   ],
   "source": [
    "plt.figure(figsize = (7,5))\n",
    "sns.barplot(gbr.feature_importances_,\n",
    "            ['gu_l', 'dong_l', 's_c', 'used_y', 'square', 'per_cost_man', 'floor',\n",
    "       'YN_r', 'YN_top10'])\n",
    "plt.show()"
   ]
  },
  {
   "cell_type": "code",
   "execution_count": null,
   "id": "158de205",
   "metadata": {},
   "outputs": [],
   "source": []
  },
  {
   "cell_type": "code",
   "execution_count": null,
   "id": "dff8bb83",
   "metadata": {
    "scrolled": false
   },
   "outputs": [],
   "source": [
    "# 하이퍼 파라미터 튜닝 ---- 너무 오래걸릴것같아서 확인못함\n",
    "%time\n",
    "from sklearn.model_selection import GridSearchCV\n",
    "\n",
    "params = {\n",
    "    'loss' : ['ls', 'lad', 'huber', 'quantile'],\n",
    "    'learning_rate' : [0.1, 0.01, 0.001, 0.0001],\n",
    "    'max_features' : [1,2,3,4],\n",
    "    'max_depth' : [1,2,3,4]\n",
    "}\n",
    "\n",
    "grid_cv = GridSearchCV(gbr, param_grid = params, cv=4, scoring='neg_mean_squared_error', verbose=1)\n",
    "grid_cv.fit(X_train, y_train)"
   ]
  },
  {
   "cell_type": "code",
   "execution_count": null,
   "id": "8126545e",
   "metadata": {},
   "outputs": [],
   "source": [
    "print(f'최적의 하이퍼 파라미터 : {grid_cv.best_params_}')\n",
    "print(f'최고 예측 정확도 : {grid_cv.best_score_}')"
   ]
  }
 ],
 "metadata": {
  "kernelspec": {
   "display_name": "Python 3",
   "language": "python",
   "name": "python3"
  },
  "language_info": {
   "codemirror_mode": {
    "name": "ipython",
    "version": 3
   },
   "file_extension": ".py",
   "mimetype": "text/x-python",
   "name": "python",
   "nbconvert_exporter": "python",
   "pygments_lexer": "ipython3",
   "version": "3.7.11"
  }
 },
 "nbformat": 4,
 "nbformat_minor": 5
}
