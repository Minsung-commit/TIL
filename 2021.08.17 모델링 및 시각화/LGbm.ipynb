{
 "cells": [
  {
   "cell_type": "code",
   "execution_count": 1,
   "id": "d05e335c",
   "metadata": {},
   "outputs": [],
   "source": [
    "import numpy as np\n",
    "import pandas as pd\n",
    "import matplotlib.pyplot as plt\n",
    "import seaborn as sns\n",
    "\n",
    "from sklearn.model_selection import train_test_split\n",
    "from sklearn.metrics import mean_squared_error\n",
    "\n",
    "df = pd.read_csv('./seoul_4.csv')"
   ]
  },
  {
   "cell_type": "code",
   "execution_count": 2,
   "id": "bd7b4aa8",
   "metadata": {},
   "outputs": [
    {
     "data": {
      "text/html": [
       "<div>\n",
       "<style scoped>\n",
       "    .dataframe tbody tr th:only-of-type {\n",
       "        vertical-align: middle;\n",
       "    }\n",
       "\n",
       "    .dataframe tbody tr th {\n",
       "        vertical-align: top;\n",
       "    }\n",
       "\n",
       "    .dataframe thead th {\n",
       "        text-align: right;\n",
       "    }\n",
       "</style>\n",
       "<table border=\"1\" class=\"dataframe\">\n",
       "  <thead>\n",
       "    <tr style=\"text-align: right;\">\n",
       "      <th></th>\n",
       "      <th>gu_l</th>\n",
       "      <th>dong_l</th>\n",
       "      <th>s_c</th>\n",
       "      <th>used_y</th>\n",
       "      <th>square</th>\n",
       "      <th>per_cost_man</th>\n",
       "      <th>floor</th>\n",
       "      <th>YN_r</th>\n",
       "      <th>YN_top10</th>\n",
       "      <th>cost</th>\n",
       "    </tr>\n",
       "  </thead>\n",
       "  <tbody>\n",
       "    <tr>\n",
       "      <th>0</th>\n",
       "      <td>0</td>\n",
       "      <td>8</td>\n",
       "      <td>1</td>\n",
       "      <td>32</td>\n",
       "      <td>77.75</td>\n",
       "      <td>1922.829582</td>\n",
       "      <td>7</td>\n",
       "      <td>1</td>\n",
       "      <td>1</td>\n",
       "      <td>149500</td>\n",
       "    </tr>\n",
       "    <tr>\n",
       "      <th>1</th>\n",
       "      <td>0</td>\n",
       "      <td>8</td>\n",
       "      <td>1</td>\n",
       "      <td>33</td>\n",
       "      <td>54.98</td>\n",
       "      <td>2619.134231</td>\n",
       "      <td>7</td>\n",
       "      <td>1</td>\n",
       "      <td>1</td>\n",
       "      <td>144000</td>\n",
       "    </tr>\n",
       "    <tr>\n",
       "      <th>2</th>\n",
       "      <td>0</td>\n",
       "      <td>8</td>\n",
       "      <td>1</td>\n",
       "      <td>33</td>\n",
       "      <td>79.97</td>\n",
       "      <td>2035.138177</td>\n",
       "      <td>7</td>\n",
       "      <td>1</td>\n",
       "      <td>1</td>\n",
       "      <td>162750</td>\n",
       "    </tr>\n",
       "    <tr>\n",
       "      <th>3</th>\n",
       "      <td>0</td>\n",
       "      <td>8</td>\n",
       "      <td>1</td>\n",
       "      <td>33</td>\n",
       "      <td>79.97</td>\n",
       "      <td>2000.750281</td>\n",
       "      <td>8</td>\n",
       "      <td>1</td>\n",
       "      <td>1</td>\n",
       "      <td>160000</td>\n",
       "    </tr>\n",
       "    <tr>\n",
       "      <th>4</th>\n",
       "      <td>0</td>\n",
       "      <td>8</td>\n",
       "      <td>1</td>\n",
       "      <td>33</td>\n",
       "      <td>79.97</td>\n",
       "      <td>1875.703389</td>\n",
       "      <td>5</td>\n",
       "      <td>1</td>\n",
       "      <td>1</td>\n",
       "      <td>150000</td>\n",
       "    </tr>\n",
       "  </tbody>\n",
       "</table>\n",
       "</div>"
      ],
      "text/plain": [
       "   gu_l  dong_l  s_c  used_y  square  per_cost_man  floor  YN_r  YN_top10  \\\n",
       "0     0       8    1      32   77.75   1922.829582      7     1         1   \n",
       "1     0       8    1      33   54.98   2619.134231      7     1         1   \n",
       "2     0       8    1      33   79.97   2035.138177      7     1         1   \n",
       "3     0       8    1      33   79.97   2000.750281      8     1         1   \n",
       "4     0       8    1      33   79.97   1875.703389      5     1         1   \n",
       "\n",
       "     cost  \n",
       "0  149500  \n",
       "1  144000  \n",
       "2  162750  \n",
       "3  160000  \n",
       "4  150000  "
      ]
     },
     "execution_count": 2,
     "metadata": {},
     "output_type": "execute_result"
    }
   ],
   "source": [
    "df.head()"
   ]
  },
  {
   "cell_type": "code",
   "execution_count": 3,
   "id": "d12b999d",
   "metadata": {},
   "outputs": [],
   "source": [
    "X = df.drop(['cost'], axis = 1)\n",
    "y = df['cost']\n",
    "\n",
    "X_train, X_test, y_train, y_test = train_test_split(X, y,\n",
    "                                                   test_size = 0.2,\n",
    "                                                   random_state = 99)"
   ]
  },
  {
   "cell_type": "code",
   "execution_count": 4,
   "id": "6fd6999a",
   "metadata": {},
   "outputs": [],
   "source": [
    "from lightgbm import LGBMRegressor"
   ]
  },
  {
   "cell_type": "code",
   "execution_count": 8,
   "id": "5d5e7574",
   "metadata": {},
   "outputs": [
    {
     "name": "stdout",
     "output_type": "stream",
     "text": [
      "CPU times: user 3 µs, sys: 1 µs, total: 4 µs\n",
      "Wall time: 7.87 µs\n"
     ]
    },
    {
     "data": {
      "text/plain": [
       "LGBMRegressor(learning_rate=0.001, linear_tree=True, max_depth=4,\n",
       "              n_estimators=9000, objective='regression')"
      ]
     },
     "execution_count": 8,
     "metadata": {},
     "output_type": "execute_result"
    }
   ],
   "source": [
    "%time\n",
    "lgb = LGBMRegressor(linear_tree = True,\n",
    "                   boosting_type = 'gbdt',\n",
    "                   objective = 'regression',\n",
    "                   n_estimators = 9000,\n",
    "                   learning_rate = 0.001,\n",
    "                   max_depth = 4,\n",
    "                   n_jobs = -1)\n",
    "\n",
    "lgb.fit(X_train, y_train)"
   ]
  },
  {
   "cell_type": "code",
   "execution_count": 10,
   "id": "13ab9a00",
   "metadata": {},
   "outputs": [],
   "source": [
    "MSE = mean_squared_error(y_test, lgb.predict(X_test))"
   ]
  },
  {
   "cell_type": "code",
   "execution_count": 11,
   "id": "6139d5a9",
   "metadata": {},
   "outputs": [
    {
     "name": "stdout",
     "output_type": "stream",
     "text": [
      "MSE : 1840645.7708133506\n",
      "RMSE : 1356.7040100233178\n"
     ]
    }
   ],
   "source": [
    "from math import sqrt\n",
    "print(f'MSE : {MSE}')\n",
    "print(f'RMSE : {sqrt(MSE)}')"
   ]
  },
  {
   "cell_type": "code",
   "execution_count": 12,
   "id": "cb785aeb",
   "metadata": {},
   "outputs": [
    {
     "data": {
      "text/plain": [
       "array([  814,   775,   115,  3521, 65528, 58378,  1437,   492,    64],\n",
       "      dtype=int32)"
      ]
     },
     "execution_count": 12,
     "metadata": {},
     "output_type": "execute_result"
    }
   ],
   "source": [
    "lgb.feature_importances_"
   ]
  },
  {
   "cell_type": "code",
   "execution_count": 13,
   "id": "1c367c3d",
   "metadata": {},
   "outputs": [
    {
     "name": "stderr",
     "output_type": "stream",
     "text": [
      "/home/ubuntu/anaconda3/envs/multi/lib/python3.7/site-packages/seaborn/_decorators.py:43: FutureWarning: Pass the following variables as keyword args: x, y. From version 0.12, the only valid positional argument will be `data`, and passing other arguments without an explicit keyword will result in an error or misinterpretation.\n",
      "  FutureWarning\n"
     ]
    },
    {
     "data": {
      "image/png": "[encoded data removed]",
      "text/plain": [
       "<Figure size 700x500 with 1 Axes>"
      ]
     },
     "metadata": {},
     "output_type": "display_data"
    }
   ],
   "source": [
    "plt.figure(figsize=(7,5))\n",
    "sns.barplot(lgb.feature_importances_,['gu_l', 'dong_l', 's_c', 'used_y', 'square', 'per_cost_man', 'floor',\n",
    "       'YN_r', 'YN_top10'])\n",
    "plt.show()"
   ]
  },
  {
   "cell_type": "code",
   "execution_count": 15,
   "id": "7d2cb65d",
   "metadata": {},
   "outputs": [
    {
     "data": {
      "text/plain": [
       "array([61639.22126685, 95455.92701305, 12672.29064517, ...,\n",
       "       64198.58781466, 30043.93045572, 53401.96328612])"
      ]
     },
     "execution_count": 15,
     "metadata": {},
     "output_type": "execute_result"
    }
   ],
   "source": [
    "lgb.predict(X_test)"
   ]
  },
  {
   "cell_type": "code",
   "execution_count": 16,
   "id": "bf6202ba",
   "metadata": {},
   "outputs": [
    {
     "data": {
      "text/plain": [
       "['lgb_model.pkl']"
      ]
     },
     "execution_count": 16,
     "metadata": {},
     "output_type": "execute_result"
    }
   ],
   "source": [
    "import joblib\n",
    "\n",
    "joblib.dump(lgb, 'lgb_model.pkl')"
   ]
  },
  {
   "cell_type": "code",
   "execution_count": 38,
   "id": "ad7ebd8b",
   "metadata": {},
   "outputs": [
    {
     "data": {
      "text/plain": [
       "array([61639.22126685, 95455.92701305, 12672.29064517, ...,\n",
       "       64198.58781466, 30043.93045572, 53401.96328612])"
      ]
     },
     "execution_count": 38,
     "metadata": {},
     "output_type": "execute_result"
    }
   ],
   "source": [
    "lgb_from_joblib = joblib.load('lgb_model.pkl') \n",
    "lgb_from_joblib.predict(X_test)"
   ]
  },
  {
   "cell_type": "code",
   "execution_count": null,
   "id": "60b98bc4",
   "metadata": {},
   "outputs": [],
   "source": []
  },
  {
   "cell_type": "code",
   "execution_count": null,
   "id": "b79272fc",
   "metadata": {},
   "outputs": [],
   "source": []
  },
  {
   "cell_type": "code",
   "execution_count": 19,
   "id": "b7fde9f5",
   "metadata": {},
   "outputs": [
    {
     "name": "stdout",
     "output_type": "stream",
     "text": [
      "CPU times: user 4 µs, sys: 0 ns, total: 4 µs\n",
      "Wall time: 8.34 µs\n",
      "Fitting 4 folds for each of 16 candidates, totalling 64 fits\n"
     ]
    },
    {
     "name": "stderr",
     "output_type": "stream",
     "text": [
      "[Parallel(n_jobs=1)]: Using backend SequentialBackend with 1 concurrent workers.\n",
      "[Parallel(n_jobs=1)]: Done  64 out of  64 | elapsed: 31.7min finished\n"
     ]
    },
    {
     "data": {
      "text/plain": [
       "GridSearchCV(cv=4,\n",
       "             estimator=LGBMRegressor(learning_rate=0.001, linear_tree=True,\n",
       "                                     max_depth=4, n_estimators=9000,\n",
       "                                     objective='regression'),\n",
       "             param_grid={'learning_rate': [0.1, 0.01, 0.001, 0.0001],\n",
       "                         'max_depth': [1, 2, 3, 4]},\n",
       "             scoring='neg_mean_squared_error', verbose=1)"
      ]
     },
     "execution_count": 19,
     "metadata": {},
     "output_type": "execute_result"
    }
   ],
   "source": [
    "# 하이퍼 파라미터 튜닝\n",
    "%time\n",
    "from sklearn.model_selection import GridSearchCV\n",
    "\n",
    "params = {\n",
    "    'learning_rate' : [0.1, 0.01, 0.001, 0.0001],\n",
    "    'max_depth' : [1,2,3,4]\n",
    "}\n",
    "\n",
    "grid_cv = GridSearchCV(lgb, param_grid = params, cv=4, scoring='neg_mean_squared_error', verbose=1)\n",
    "grid_cv.fit(X_train, y_train)"
   ]
  },
  {
   "cell_type": "code",
   "execution_count": 39,
   "id": "8494b5d1",
   "metadata": {},
   "outputs": [
    {
     "name": "stdout",
     "output_type": "stream",
     "text": [
      "최적의 하이퍼 파라미터 : {'learning_rate': 0.1, 'max_depth': 3}\n",
      "예측 오차 : -108724.62673063952\n"
     ]
    }
   ],
   "source": [
    "print(f'최적의 하이퍼 파라미터 : {grid_cv.best_params_}')\n",
    "print(f'예측 오차 : {grid_cv.best_score_}')"
   ]
  },
  {
   "cell_type": "code",
   "execution_count": 22,
   "id": "67157fdc",
   "metadata": {},
   "outputs": [
    {
     "name": "stdout",
     "output_type": "stream",
     "text": [
      "CPU times: user 3 µs, sys: 0 ns, total: 3 µs\n",
      "Wall time: 8.34 µs\n"
     ]
    },
    {
     "data": {
      "text/plain": [
       "LGBMRegressor(linear_tree=True, max_depth=3, n_estimators=9000,\n",
       "              objective='regression')"
      ]
     },
     "execution_count": 22,
     "metadata": {},
     "output_type": "execute_result"
    }
   ],
   "source": [
    "%time\n",
    "lgb_r = LGBMRegressor(linear_tree = True,\n",
    "                   boosting_type = 'gbdt',\n",
    "                   objective = 'regression',\n",
    "                   n_estimators = 9000,\n",
    "                   learning_rate = 0.1,\n",
    "                   max_depth = 3,\n",
    "                   n_jobs = -1)\n",
    "\n",
    "lgb_r.fit(X_train, y_train)"
   ]
  },
  {
   "cell_type": "code",
   "execution_count": 23,
   "id": "5d23f5d7",
   "metadata": {},
   "outputs": [],
   "source": [
    "MSE = mean_squared_error(y_test, lgb_r.predict(X_test))"
   ]
  },
  {
   "cell_type": "code",
   "execution_count": 24,
   "id": "981ec513",
   "metadata": {},
   "outputs": [
    {
     "name": "stdout",
     "output_type": "stream",
     "text": [
      "MSE : 567499.0195975406\n",
      "RMSE : 753.3253079497201\n"
     ]
    }
   ],
   "source": [
    "print(f'MSE : {MSE}')\n",
    "print(f'RMSE : {sqrt(MSE)}')"
   ]
  },
  {
   "cell_type": "code",
   "execution_count": 25,
   "id": "d5aa3080",
   "metadata": {},
   "outputs": [
    {
     "data": {
      "text/plain": [
       "array([ 1573,  3091,   549,  4700, 21558, 24328,  4166,   267,   180],\n",
       "      dtype=int32)"
      ]
     },
     "execution_count": 25,
     "metadata": {},
     "output_type": "execute_result"
    }
   ],
   "source": [
    "lgb_r.feature_importances_"
   ]
  },
  {
   "cell_type": "code",
   "execution_count": 26,
   "id": "4038f067",
   "metadata": {},
   "outputs": [
    {
     "name": "stderr",
     "output_type": "stream",
     "text": [
      "/home/ubuntu/anaconda3/envs/multi/lib/python3.7/site-packages/seaborn/_decorators.py:43: FutureWarning: Pass the following variables as keyword args: x, y. From version 0.12, the only valid positional argument will be `data`, and passing other arguments without an explicit keyword will result in an error or misinterpretation.\n",
      "  FutureWarning\n"
     ]
    },
    {
     "data": {
      "image/png": "[encoded data removed]",
      "text/plain": [
       "<Figure size 700x500 with 1 Axes>"
      ]
     },
     "metadata": {},
     "output_type": "display_data"
    }
   ],
   "source": [
    "plt.figure(figsize=(7,5))\n",
    "sns.barplot(lgb_r.feature_importances_,['gu_l', 'dong_l', 's_c', 'used_y', 'square', 'per_cost_man', 'floor',\n",
    "       'YN_r', 'YN_top10'])\n",
    "plt.show()"
   ]
  },
  {
   "cell_type": "code",
   "execution_count": 28,
   "id": "e1525c9f",
   "metadata": {},
   "outputs": [
    {
     "data": {
      "text/plain": [
       "array([62367.85823819, 96022.79343194, 13945.8592962 , ...,\n",
       "       64524.48066443, 29734.16940386, 53551.33030008])"
      ]
     },
     "execution_count": 28,
     "metadata": {},
     "output_type": "execute_result"
    }
   ],
   "source": [
    "lgb_r.predict(X_test)"
   ]
  },
  {
   "cell_type": "code",
   "execution_count": 40,
   "id": "fb7fbd8a",
   "metadata": {},
   "outputs": [
    {
     "data": {
      "text/plain": [
       "['lgb_model_re.pkl']"
      ]
     },
     "execution_count": 40,
     "metadata": {},
     "output_type": "execute_result"
    }
   ],
   "source": [
    "joblib.dump(lgb_r, 'lgb_model_re.pkl')"
   ]
  },
  {
   "cell_type": "code",
   "execution_count": 41,
   "id": "e7ea5eee",
   "metadata": {},
   "outputs": [
    {
     "data": {
      "text/plain": [
       "array([62367.85823819, 96022.79343194, 13945.8592962 , ...,\n",
       "       64524.48066443, 29734.16940386, 53551.33030008])"
      ]
     },
     "execution_count": 41,
     "metadata": {},
     "output_type": "execute_result"
    }
   ],
   "source": [
    "lgb_re_from_joblib = joblib.load('lgb_model_re.pkl') \n",
    "lgb_re_from_joblib.predict(X_test)"
   ]
  },
  {
   "cell_type": "code",
   "execution_count": null,
   "id": "20a75d45",
   "metadata": {},
   "outputs": [],
   "source": []
  }
 ],
 "metadata": {
  "kernelspec": {
   "display_name": "Python 3",
   "language": "python",
   "name": "python3"
  },
  "language_info": {
   "codemirror_mode": {
    "name": "ipython",
    "version": 3
   },
   "file_extension": ".py",
   "mimetype": "text/x-python",
   "name": "python",
   "nbconvert_exporter": "python",
   "pygments_lexer": "ipython3",
   "version": "3.7.11"
  }
 },
 "nbformat": 4,
 "nbformat_minor": 5
}
