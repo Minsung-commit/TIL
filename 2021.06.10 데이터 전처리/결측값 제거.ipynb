{
 "cells": [
  {
   "cell_type": "code",
   "execution_count": 1,
   "id": "c5bc7ffe-415b-471c-bcdc-30b3d94fb169",
   "metadata": {},
   "outputs": [
    {
     "name": "stdout",
     "output_type": "stream",
     "text": [
      "Missing: 1605\n",
      "Missing: 0\n"
     ]
    }
   ],
   "source": []
  },
  {
   "cell_type": "code",
   "execution_count": 2,
   "id": "07a4cccd-34a8-45e6-8131-5e0562af929e",
   "metadata": {},
   "outputs": [],
   "source": [
    "# statistical imputation transform for the horse colic dataset\n",
    "\n",
    "from numpy import isnan\n",
    "from pandas import read_csv\n",
    "from sklearn.impute import SimpleImputer"
   ]
  },
  {
   "cell_type": "code",
   "execution_count": 3,
   "id": "aa6be602-dfac-4330-80c5-6959412ce6b4",
   "metadata": {},
   "outputs": [],
   "source": [
    "\n",
    "# load dataset\n",
    "url = 'https://raw.githubusercontent.com/jbrownlee/Datasets/master/horse-colic.csv'\n",
    "dataframe = read_csv(url, header=None, na_values='?')"
   ]
  },
  {
   "cell_type": "code",
   "execution_count": 4,
   "id": "af9d8772-a1ea-4b6b-9ec6-ef176029454a",
   "metadata": {},
   "outputs": [],
   "source": [
    "# split into input and output elements\n",
    "data = dataframe.values\n",
    "ix = [i for i in range(data.shape[1]) if i != 23]\n",
    "X, y = data[:, ix], data[:, 23]"
   ]
  },
  {
   "cell_type": "code",
   "execution_count": 5,
   "id": "a5650133-99b8-4888-941a-680320089cb4",
   "metadata": {},
   "outputs": [
    {
     "name": "stdout",
     "output_type": "stream",
     "text": [
      "Missing: 1605\n"
     ]
    }
   ],
   "source": [
    "# print total missing\n",
    "print('Missing: %d' % sum(isnan(X).flatten()))"
   ]
  },
  {
   "cell_type": "code",
   "execution_count": 25,
   "id": "97679663-03b8-4d66-b73e-8a5f7cbe8666",
   "metadata": {},
   "outputs": [],
   "source": [
    "# define imputer\n",
    "imputer = SimpleImputer(strategy='median')"
   ]
  },
  {
   "cell_type": "code",
   "execution_count": 26,
   "id": "2a450fb8-c828-4d38-97a5-bb62e639572a",
   "metadata": {},
   "outputs": [
    {
     "data": {
      "text/plain": [
       "SimpleImputer(strategy='median')"
      ]
     },
     "execution_count": 26,
     "metadata": {},
     "output_type": "execute_result"
    }
   ],
   "source": [
    "# fit on the dataset\n",
    "imputer.fit(X)"
   ]
  },
  {
   "cell_type": "code",
   "execution_count": 32,
   "id": "2eb32e22-6da1-4338-8b8a-4e4d5c28e724",
   "metadata": {},
   "outputs": [],
   "source": [
    "# transform the dataset\n",
    "Xtrans = imputer.transform(X).round()"
   ]
  },
  {
   "cell_type": "code",
   "execution_count": 33,
   "id": "6eb398fa-2357-4616-9968-5778c158af57",
   "metadata": {},
   "outputs": [
    {
     "name": "stdout",
     "output_type": "stream",
     "text": [
      "Missing: 0\n"
     ]
    }
   ],
   "source": [
    "# print total missing\n",
    "print('Missing: %d' % sum(isnan(Xtrans).flatten()))"
   ]
  },
  {
   "cell_type": "code",
   "execution_count": 41,
   "id": "3dc93dca-24a0-4f48-947c-e16bb7dca5cd",
   "metadata": {},
   "outputs": [],
   "source": [
    "import pandas"
   ]
  },
  {
   "cell_type": "code",
   "execution_count": 42,
   "id": "9c55b1bc-6f96-4a54-8db2-d7a64423de8b",
   "metadata": {},
   "outputs": [],
   "source": [
    "PP = pandas.DataFrame(Xtrans)"
   ]
  },
  {
   "cell_type": "code",
   "execution_count": 46,
   "id": "0c7bec21-65ef-4e17-9afa-0ba63f575abb",
   "metadata": {},
   "outputs": [],
   "source": [
    "PP.to_csv('../pratice.csv')"
   ]
  },
  {
   "cell_type": "code",
   "execution_count": null,
   "id": "3aff6963-a1f3-4a6c-801b-62f63264a196",
   "metadata": {},
   "outputs": [],
   "source": []
  }
 ],
 "metadata": {
  "kernelspec": {
   "display_name": "Python Multi",
   "language": "python",
   "name": "multi"
  },
  "language_info": {
   "codemirror_mode": {
    "name": "ipython",
    "version": 3
   },
   "file_extension": ".py",
   "mimetype": "text/x-python",
   "name": "python",
   "nbconvert_exporter": "python",
   "pygments_lexer": "ipython3",
   "version": "3.7.6"
  }
 },
 "nbformat": 4,
 "nbformat_minor": 5
}
