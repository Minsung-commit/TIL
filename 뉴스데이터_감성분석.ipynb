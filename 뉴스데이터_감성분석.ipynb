{
  "nbformat": 4,
  "nbformat_minor": 0,
  "metadata": {
    "colab": {
      "name": "뉴스데이터 감성분석.ipynb",
      "provenance": [],
      "collapsed_sections": []
    },
    "kernelspec": {
      "name": "python3",
      "display_name": "Python 3"
    },
    "language_info": {
      "name": "python"
    }
  },
  "cells": [
    {
      "cell_type": "code",
      "source": [
        "%%bash\n",
        "apt-get update\n",
        "apt-get install g++ openjdk-8-jdk python-dev python3-dev\n",
        "pip3 install JPype1\n",
        "pip3 install konlpy"
      ],
      "metadata": {
        "colab": {
          "base_uri": "https://localhost:8080/"
        },
        "id": "ZcZfx5vQX-Lc",
        "outputId": "823bc52d-c836-4c80-a220-3a8124e8ef79"
      },
      "execution_count": 1,
      "outputs": [
        {
          "output_type": "stream",
          "name": "stdout",
          "text": [
            "Get:1 http://security.ubuntu.com/ubuntu bionic-security InRelease [88.7 kB]\n",
            "Hit:2 http://archive.ubuntu.com/ubuntu bionic InRelease\n",
            "Get:3 https://cloud.r-project.org/bin/linux/ubuntu bionic-cran40/ InRelease [3,626 B]\n",
            "Get:4 http://ppa.launchpad.net/c2d4u.team/c2d4u4.0+/ubuntu bionic InRelease [15.9 kB]\n",
            "Get:5 http://archive.ubuntu.com/ubuntu bionic-updates InRelease [88.7 kB]\n",
            "Hit:6 http://ppa.launchpad.net/cran/libgit2/ubuntu bionic InRelease\n",
            "Ign:7 https://developer.download.nvidia.com/compute/cuda/repos/ubuntu1804/x86_64  InRelease\n",
            "Ign:8 https://developer.download.nvidia.com/compute/machine-learning/repos/ubuntu1804/x86_64  InRelease\n",
            "Get:9 https://developer.download.nvidia.com/compute/cuda/repos/ubuntu1804/x86_64  Release [696 B]\n",
            "Hit:10 https://developer.download.nvidia.com/compute/machine-learning/repos/ubuntu1804/x86_64  Release\n",
            "Get:11 https://developer.download.nvidia.com/compute/cuda/repos/ubuntu1804/x86_64  Release.gpg [836 B]\n",
            "Get:12 http://archive.ubuntu.com/ubuntu bionic-backports InRelease [74.6 kB]\n",
            "Get:13 http://security.ubuntu.com/ubuntu bionic-security/universe amd64 Packages [1,459 kB]\n",
            "Get:14 http://ppa.launchpad.net/deadsnakes/ppa/ubuntu bionic InRelease [15.9 kB]\n",
            "Get:16 http://archive.ubuntu.com/ubuntu bionic-updates/restricted amd64 Packages [758 kB]\n",
            "Get:17 https://developer.download.nvidia.com/compute/cuda/repos/ubuntu1804/x86_64  Packages [867 kB]\n",
            "Hit:18 http://ppa.launchpad.net/graphics-drivers/ppa/ubuntu bionic InRelease\n",
            "Get:19 http://security.ubuntu.com/ubuntu bionic-security/main amd64 Packages [2,498 kB]\n",
            "Get:20 http://ppa.launchpad.net/c2d4u.team/c2d4u4.0+/ubuntu bionic/main Sources [1,823 kB]\n",
            "Get:21 http://security.ubuntu.com/ubuntu bionic-security/restricted amd64 Packages [725 kB]\n",
            "Get:22 http://archive.ubuntu.com/ubuntu bionic-updates/universe amd64 Packages [2,238 kB]\n",
            "Get:23 http://archive.ubuntu.com/ubuntu bionic-updates/main amd64 Packages [2,935 kB]\n",
            "Get:24 http://ppa.launchpad.net/c2d4u.team/c2d4u4.0+/ubuntu bionic/main amd64 Packages [934 kB]\n",
            "Get:25 http://ppa.launchpad.net/deadsnakes/ppa/ubuntu bionic/main amd64 Packages [45.3 kB]\n",
            "Fetched 14.6 MB in 8s (1,915 kB/s)\n",
            "Reading package lists...\n",
            "Reading package lists...\n",
            "Building dependency tree...\n",
            "Reading state information...\n",
            "python-dev is already the newest version (2.7.15~rc1-1).\n",
            "g++ is already the newest version (4:7.4.0-1ubuntu2.3).\n",
            "g++ set to manually installed.\n",
            "python3-dev is already the newest version (3.6.7-1~18.04).\n",
            "python3-dev set to manually installed.\n",
            "The following additional packages will be installed:\n",
            "  fonts-dejavu-core fonts-dejavu-extra libatk-wrapper-java\n",
            "  libatk-wrapper-java-jni libgail-common libgail18 libgtk2.0-0 libgtk2.0-bin\n",
            "  libgtk2.0-common libxxf86dga1 openjdk-8-jdk-headless openjdk-8-jre\n",
            "  openjdk-8-jre-headless x11-utils\n",
            "Suggested packages:\n",
            "  gvfs openjdk-8-demo openjdk-8-source visualvm icedtea-8-plugin libnss-mdns\n",
            "  fonts-ipafont-gothic fonts-ipafont-mincho fonts-wqy-microhei\n",
            "  fonts-wqy-zenhei fonts-indic mesa-utils\n",
            "The following NEW packages will be installed:\n",
            "  fonts-dejavu-core fonts-dejavu-extra libatk-wrapper-java\n",
            "  libatk-wrapper-java-jni libgail-common libgail18 libgtk2.0-0 libgtk2.0-bin\n",
            "  libgtk2.0-common libxxf86dga1 openjdk-8-jdk openjdk-8-jdk-headless\n",
            "  openjdk-8-jre openjdk-8-jre-headless x11-utils\n",
            "0 upgraded, 15 newly installed, 0 to remove and 56 not upgraded.\n",
            "Need to get 43.5 MB of archives.\n",
            "After this operation, 163 MB of additional disk space will be used.\n",
            "Get:1 http://archive.ubuntu.com/ubuntu bionic/main amd64 libxxf86dga1 amd64 2:1.1.4-1 [13.7 kB]\n",
            "Get:2 http://archive.ubuntu.com/ubuntu bionic/main amd64 fonts-dejavu-core all 2.37-1 [1,041 kB]\n",
            "Get:3 http://archive.ubuntu.com/ubuntu bionic/main amd64 fonts-dejavu-extra all 2.37-1 [1,953 kB]\n",
            "Get:4 http://archive.ubuntu.com/ubuntu bionic/main amd64 x11-utils amd64 7.7+3build1 [196 kB]\n",
            "Get:5 http://archive.ubuntu.com/ubuntu bionic/main amd64 libatk-wrapper-java all 0.33.3-20ubuntu0.1 [34.7 kB]\n",
            "Get:6 http://archive.ubuntu.com/ubuntu bionic/main amd64 libatk-wrapper-java-jni amd64 0.33.3-20ubuntu0.1 [28.3 kB]\n",
            "Get:7 http://archive.ubuntu.com/ubuntu bionic/main amd64 libgtk2.0-common all 2.24.32-1ubuntu1 [125 kB]\n",
            "Get:8 http://archive.ubuntu.com/ubuntu bionic/main amd64 libgtk2.0-0 amd64 2.24.32-1ubuntu1 [1,769 kB]\n",
            "Get:9 http://archive.ubuntu.com/ubuntu bionic/main amd64 libgail18 amd64 2.24.32-1ubuntu1 [14.2 kB]\n",
            "Get:10 http://archive.ubuntu.com/ubuntu bionic/main amd64 libgail-common amd64 2.24.32-1ubuntu1 [112 kB]\n",
            "Get:11 http://archive.ubuntu.com/ubuntu bionic/main amd64 libgtk2.0-bin amd64 2.24.32-1ubuntu1 [7,536 B]\n",
            "Get:12 http://archive.ubuntu.com/ubuntu bionic-updates/universe amd64 openjdk-8-jre-headless amd64 8u312-b07-0ubuntu1~18.04 [28.2 MB]\n",
            "Get:13 http://archive.ubuntu.com/ubuntu bionic-updates/universe amd64 openjdk-8-jre amd64 8u312-b07-0ubuntu1~18.04 [69.6 kB]\n",
            "Get:14 http://archive.ubuntu.com/ubuntu bionic-updates/universe amd64 openjdk-8-jdk-headless amd64 8u312-b07-0ubuntu1~18.04 [8,298 kB]\n",
            "Get:15 http://archive.ubuntu.com/ubuntu bionic-updates/universe amd64 openjdk-8-jdk amd64 8u312-b07-0ubuntu1~18.04 [1,625 kB]\n",
            "Fetched 43.5 MB in 7s (6,473 kB/s)\n",
            "Selecting previously unselected package libxxf86dga1:amd64.\r\n",
            "(Reading database ... \r(Reading database ... 5%\r(Reading database ... 10%\r(Reading database ... 15%\r(Reading database ... 20%\r(Reading database ... 25%\r(Reading database ... 30%\r(Reading database ... 35%\r(Reading database ... 40%\r(Reading database ... 45%\r(Reading database ... 50%\r(Reading database ... 55%\r(Reading database ... 60%\r(Reading database ... 65%\r(Reading database ... 70%\r(Reading database ... 75%\r(Reading database ... 80%\r(Reading database ... 85%\r(Reading database ... 90%\r(Reading database ... 95%\r(Reading database ... 100%\r(Reading database ... 155229 files and directories currently installed.)\r\n",
            "Preparing to unpack .../00-libxxf86dga1_2%3a1.1.4-1_amd64.deb ...\r\n",
            "Unpacking libxxf86dga1:amd64 (2:1.1.4-1) ...\r\n",
            "Selecting previously unselected package fonts-dejavu-core.\r\n",
            "Preparing to unpack .../01-fonts-dejavu-core_2.37-1_all.deb ...\r\n",
            "Unpacking fonts-dejavu-core (2.37-1) ...\r\n",
            "Selecting previously unselected package fonts-dejavu-extra.\r\n",
            "Preparing to unpack .../02-fonts-dejavu-extra_2.37-1_all.deb ...\r\n",
            "Unpacking fonts-dejavu-extra (2.37-1) ...\r\n",
            "Selecting previously unselected package x11-utils.\r\n",
            "Preparing to unpack .../03-x11-utils_7.7+3build1_amd64.deb ...\r\n",
            "Unpacking x11-utils (7.7+3build1) ...\r\n",
            "Selecting previously unselected package libatk-wrapper-java.\r\n",
            "Preparing to unpack .../04-libatk-wrapper-java_0.33.3-20ubuntu0.1_all.deb ...\r\n",
            "Unpacking libatk-wrapper-java (0.33.3-20ubuntu0.1) ...\r\n",
            "Selecting previously unselected package libatk-wrapper-java-jni:amd64.\r\n",
            "Preparing to unpack .../05-libatk-wrapper-java-jni_0.33.3-20ubuntu0.1_amd64.deb ...\r\n",
            "Unpacking libatk-wrapper-java-jni:amd64 (0.33.3-20ubuntu0.1) ...\r\n",
            "Selecting previously unselected package libgtk2.0-common.\r\n",
            "Preparing to unpack .../06-libgtk2.0-common_2.24.32-1ubuntu1_all.deb ...\r\n",
            "Unpacking libgtk2.0-common (2.24.32-1ubuntu1) ...\r\n",
            "Selecting previously unselected package libgtk2.0-0:amd64.\r\n",
            "Preparing to unpack .../07-libgtk2.0-0_2.24.32-1ubuntu1_amd64.deb ...\r\n",
            "Unpacking libgtk2.0-0:amd64 (2.24.32-1ubuntu1) ...\r\n",
            "Selecting previously unselected package libgail18:amd64.\r\n",
            "Preparing to unpack .../08-libgail18_2.24.32-1ubuntu1_amd64.deb ...\r\n",
            "Unpacking libgail18:amd64 (2.24.32-1ubuntu1) ...\r\n",
            "Selecting previously unselected package libgail-common:amd64.\r\n",
            "Preparing to unpack .../09-libgail-common_2.24.32-1ubuntu1_amd64.deb ...\r\n",
            "Unpacking libgail-common:amd64 (2.24.32-1ubuntu1) ...\r\n",
            "Selecting previously unselected package libgtk2.0-bin.\r\n",
            "Preparing to unpack .../10-libgtk2.0-bin_2.24.32-1ubuntu1_amd64.deb ...\r\n",
            "Unpacking libgtk2.0-bin (2.24.32-1ubuntu1) ...\r\n",
            "Selecting previously unselected package openjdk-8-jre-headless:amd64.\r\n",
            "Preparing to unpack .../11-openjdk-8-jre-headless_8u312-b07-0ubuntu1~18.04_amd64.deb ...\r\n",
            "Unpacking openjdk-8-jre-headless:amd64 (8u312-b07-0ubuntu1~18.04) ...\r\n",
            "Selecting previously unselected package openjdk-8-jre:amd64.\r\n",
            "Preparing to unpack .../12-openjdk-8-jre_8u312-b07-0ubuntu1~18.04_amd64.deb ...\r\n",
            "Unpacking openjdk-8-jre:amd64 (8u312-b07-0ubuntu1~18.04) ...\r\n",
            "Selecting previously unselected package openjdk-8-jdk-headless:amd64.\r\n",
            "Preparing to unpack .../13-openjdk-8-jdk-headless_8u312-b07-0ubuntu1~18.04_amd64.deb ...\r\n",
            "Unpacking openjdk-8-jdk-headless:amd64 (8u312-b07-0ubuntu1~18.04) ...\r\n",
            "Selecting previously unselected package openjdk-8-jdk:amd64.\r\n",
            "Preparing to unpack .../14-openjdk-8-jdk_8u312-b07-0ubuntu1~18.04_amd64.deb ...\r\n",
            "Unpacking openjdk-8-jdk:amd64 (8u312-b07-0ubuntu1~18.04) ...\r\n",
            "Setting up libgtk2.0-common (2.24.32-1ubuntu1) ...\r\n",
            "Setting up fonts-dejavu-core (2.37-1) ...\r\n",
            "Setting up libxxf86dga1:amd64 (2:1.1.4-1) ...\r\n",
            "Setting up fonts-dejavu-extra (2.37-1) ...\r\n",
            "Setting up openjdk-8-jre-headless:amd64 (8u312-b07-0ubuntu1~18.04) ...\r\n",
            "update-alternatives: using /usr/lib/jvm/java-8-openjdk-amd64/jre/bin/orbd to provide /usr/bin/orbd (orbd) in auto mode\r\n",
            "update-alternatives: using /usr/lib/jvm/java-8-openjdk-amd64/jre/bin/servertool to provide /usr/bin/servertool (servertool) in auto mode\r\n",
            "update-alternatives: using /usr/lib/jvm/java-8-openjdk-amd64/jre/bin/tnameserv to provide /usr/bin/tnameserv (tnameserv) in auto mode\r\n",
            "Setting up libgtk2.0-0:amd64 (2.24.32-1ubuntu1) ...\r\n",
            "Setting up libgail18:amd64 (2.24.32-1ubuntu1) ...\r\n",
            "Setting up openjdk-8-jdk-headless:amd64 (8u312-b07-0ubuntu1~18.04) ...\r\n",
            "update-alternatives: using /usr/lib/jvm/java-8-openjdk-amd64/bin/idlj to provide /usr/bin/idlj (idlj) in auto mode\r\n",
            "update-alternatives: using /usr/lib/jvm/java-8-openjdk-amd64/bin/wsimport to provide /usr/bin/wsimport (wsimport) in auto mode\r\n",
            "update-alternatives: using /usr/lib/jvm/java-8-openjdk-amd64/bin/jsadebugd to provide /usr/bin/jsadebugd (jsadebugd) in auto mode\r\n",
            "update-alternatives: using /usr/lib/jvm/java-8-openjdk-amd64/bin/native2ascii to provide /usr/bin/native2ascii (native2ascii) in auto mode\r\n",
            "update-alternatives: using /usr/lib/jvm/java-8-openjdk-amd64/bin/javah to provide /usr/bin/javah (javah) in auto mode\r\n",
            "update-alternatives: using /usr/lib/jvm/java-8-openjdk-amd64/bin/hsdb to provide /usr/bin/hsdb (hsdb) in auto mode\r\n",
            "update-alternatives: using /usr/lib/jvm/java-8-openjdk-amd64/bin/clhsdb to provide /usr/bin/clhsdb (clhsdb) in auto mode\r\n",
            "update-alternatives: using /usr/lib/jvm/java-8-openjdk-amd64/bin/xjc to provide /usr/bin/xjc (xjc) in auto mode\r\n",
            "update-alternatives: using /usr/lib/jvm/java-8-openjdk-amd64/bin/schemagen to provide /usr/bin/schemagen (schemagen) in auto mode\r\n",
            "update-alternatives: using /usr/lib/jvm/java-8-openjdk-amd64/bin/extcheck to provide /usr/bin/extcheck (extcheck) in auto mode\r\n",
            "update-alternatives: using /usr/lib/jvm/java-8-openjdk-amd64/bin/jhat to provide /usr/bin/jhat (jhat) in auto mode\r\n",
            "update-alternatives: using /usr/lib/jvm/java-8-openjdk-amd64/bin/wsgen to provide /usr/bin/wsgen (wsgen) in auto mode\r\n",
            "Setting up x11-utils (7.7+3build1) ...\r\n",
            "Setting up libgail-common:amd64 (2.24.32-1ubuntu1) ...\r\n",
            "Setting up libatk-wrapper-java (0.33.3-20ubuntu0.1) ...\r\n",
            "Setting up libgtk2.0-bin (2.24.32-1ubuntu1) ...\r\n",
            "Setting up libatk-wrapper-java-jni:amd64 (0.33.3-20ubuntu0.1) ...\r\n",
            "Setting up openjdk-8-jre:amd64 (8u312-b07-0ubuntu1~18.04) ...\r\n",
            "update-alternatives: using /usr/lib/jvm/java-8-openjdk-amd64/jre/bin/policytool to provide /usr/bin/policytool (policytool) in auto mode\r\n",
            "Setting up openjdk-8-jdk:amd64 (8u312-b07-0ubuntu1~18.04) ...\r\n",
            "update-alternatives: using /usr/lib/jvm/java-8-openjdk-amd64/bin/appletviewer to provide /usr/bin/appletviewer (appletviewer) in auto mode\r\n",
            "update-alternatives: using /usr/lib/jvm/java-8-openjdk-amd64/bin/jconsole to provide /usr/bin/jconsole (jconsole) in auto mode\r\n",
            "Processing triggers for man-db (2.8.3-2ubuntu0.1) ...\r\n",
            "Processing triggers for hicolor-icon-theme (0.17-2) ...\r\n",
            "Processing triggers for fontconfig (2.12.6-0ubuntu2) ...\r\n",
            "Processing triggers for mime-support (3.60ubuntu1) ...\r\n",
            "Processing triggers for libc-bin (2.27-3ubuntu1.3) ...\r\n",
            "/sbin/ldconfig.real: /usr/local/lib/python3.7/dist-packages/ideep4py/lib/libmkldnn.so.0 is not a symbolic link\r\n",
            "\r\n",
            "Collecting JPype1\n",
            "  Downloading JPype1-1.3.0-cp37-cp37m-manylinux_2_5_x86_64.manylinux1_x86_64.whl (448 kB)\n",
            "Requirement already satisfied: typing-extensions in /usr/local/lib/python3.7/dist-packages (from JPype1) (3.10.0.2)\n",
            "Installing collected packages: JPype1\n",
            "Successfully installed JPype1-1.3.0\n",
            "Collecting konlpy\n",
            "  Downloading konlpy-0.6.0-py2.py3-none-any.whl (19.4 MB)\n",
            "Requirement already satisfied: numpy>=1.6 in /usr/local/lib/python3.7/dist-packages (from konlpy) (1.19.5)\n",
            "Requirement already satisfied: JPype1>=0.7.0 in /usr/local/lib/python3.7/dist-packages (from konlpy) (1.3.0)\n",
            "Requirement already satisfied: lxml>=4.1.0 in /usr/local/lib/python3.7/dist-packages (from konlpy) (4.2.6)\n",
            "Requirement already satisfied: typing-extensions in /usr/local/lib/python3.7/dist-packages (from JPype1>=0.7.0->konlpy) (3.10.0.2)\n",
            "Installing collected packages: konlpy\n",
            "Successfully installed konlpy-0.6.0\n"
          ]
        }
      ]
    },
    {
      "cell_type": "code",
      "source": [
        "%env JAVA_HOME \"/usr/lib/jvm/java-8-openjdk-amd64\""
      ],
      "metadata": {
        "colab": {
          "base_uri": "https://localhost:8080/"
        },
        "id": "4p8atNfiX_Rq",
        "outputId": "e10e01d9-9534-411d-c717-291f03208fdb"
      },
      "execution_count": 2,
      "outputs": [
        {
          "output_type": "stream",
          "name": "stdout",
          "text": [
            "env: JAVA_HOME=\"/usr/lib/jvm/java-8-openjdk-amd64\"\n"
          ]
        }
      ]
    },
    {
      "cell_type": "code",
      "source": [
        "%%bash\n",
        "bash <(curl -s https://raw.githubusercontent.com/konlpy/konlpy/master/scripts/mecab.sh)\n",
        "pip3 install /tmp/mecab-python-0.996"
      ],
      "metadata": {
        "id": "uZ1yOXzlYByx"
      },
      "execution_count": null,
      "outputs": []
    },
    {
      "cell_type": "code",
      "source": [
        "import konlpy\n",
        "from konlpy.tag import Kkma, Komoran, Hannanum, Okt\n",
        "from konlpy.utils import pprint\n",
        "from konlpy.tag import Mecab"
      ],
      "metadata": {
        "id": "C8k8JZzHYEP-"
      },
      "execution_count": 4,
      "outputs": []
    },
    {
      "cell_type": "code",
      "source": [
        "!pip install jamo"
      ],
      "metadata": {
        "colab": {
          "base_uri": "https://localhost:8080/"
        },
        "id": "ynrZb4aYcRzx",
        "outputId": "9074a5ad-53c4-4ff9-9cc2-4386499b0766"
      },
      "execution_count": 5,
      "outputs": [
        {
          "output_type": "stream",
          "name": "stdout",
          "text": [
            "Collecting jamo\n",
            "  Downloading jamo-0.4.1-py3-none-any.whl (9.5 kB)\n",
            "Installing collected packages: jamo\n",
            "Successfully installed jamo-0.4.1\n"
          ]
        }
      ]
    },
    {
      "cell_type": "code",
      "execution_count": 6,
      "metadata": {
        "id": "beNqUaqWgyKB"
      },
      "outputs": [],
      "source": [
        "import pandas as pd\n",
        "import numpy as np\n",
        "import re"
      ]
    },
    {
      "cell_type": "code",
      "source": [
        "mecab = Mecab()\n",
        "okt = Okt()"
      ],
      "metadata": {
        "id": "51rRq9otYGOU"
      },
      "execution_count": 7,
      "outputs": []
    },
    {
      "cell_type": "code",
      "source": [
        "data = pd.read_csv('/content/drive/MyDrive/1-8월 뉴스.csv')"
      ],
      "metadata": {
        "id": "F1R78JBRg47M"
      },
      "execution_count": 8,
      "outputs": []
    },
    {
      "cell_type": "code",
      "source": [
        "def sub_special(s): ## 특수문자, 숫자, 영어, 중복공백 제거\n",
        "  rs = re.sub(r'[^가-힣]',' ',s)\n",
        "  rr = re.sub(' +', '', rs)\n",
        "  return rr"
      ],
      "metadata": {
        "id": "0u0DCXd_G0RD"
      },
      "execution_count": 9,
      "outputs": []
    },
    {
      "cell_type": "code",
      "source": [
        "sample = data.copy()\n",
        "sample['cleansed'] = np.NaN\n",
        "sample.cleansed = sample.text.apply(sub_special)\n",
        "sample['mecab'] = sample.cleansed.apply(mecab.nouns)\n",
        "# sample['okt'] = sample.cleansed.apply(okt.morphs)"
      ],
      "metadata": {
        "id": "oPFvdP5_S1-9"
      },
      "execution_count": 44,
      "outputs": []
    },
    {
      "cell_type": "code",
      "source": [
        "# with open(\"./stopwords.txt\", 'r', encoding='utf-8') as f:\n",
        "  ttt = f.readlines()"
      ],
      "metadata": {
        "id": "-Q_nooPjA6w_"
      },
      "execution_count": 11,
      "outputs": []
    },
    {
      "cell_type": "code",
      "source": [
        "def sub_special_token(s):\n",
        "  rs = re.sub(r'[^가-힣]',' ',s)\n",
        "  return rs"
      ],
      "metadata": {
        "id": "1IlrqkVEBfGI"
      },
      "execution_count": 12,
      "outputs": []
    },
    {
      "cell_type": "code",
      "source": [
        "ttt"
      ],
      "metadata": {
        "id": "0zoXBsIbB2KR"
      },
      "execution_count": null,
      "outputs": []
    },
    {
      "cell_type": "code",
      "source": [
        "tmp = []\n",
        "for i in ttt:\n",
        "  tmp.append(sub_special(i))"
      ],
      "metadata": {
        "id": "rueURstRBDCN"
      },
      "execution_count": 14,
      "outputs": []
    },
    {
      "cell_type": "code",
      "source": [
        "stopwords = tmp"
      ],
      "metadata": {
        "id": "c_LLJFXkBxr8"
      },
      "execution_count": 15,
      "outputs": []
    },
    {
      "cell_type": "code",
      "source": [
        ""
      ],
      "metadata": {
        "id": "o4RfG898DsJe"
      },
      "execution_count": 46,
      "outputs": []
    },
    {
      "cell_type": "code",
      "source": [
        ""
      ],
      "metadata": {
        "id": "N1Q6eUd3D0ZZ"
      },
      "execution_count": 47,
      "outputs": []
    },
    {
      "cell_type": "code",
      "source": [
        "stopwords"
      ],
      "metadata": {
        "id": "YSNzsncODXUY"
      },
      "execution_count": null,
      "outputs": []
    },
    {
      "cell_type": "code",
      "source": [
        "def word_cleansing(data): \n",
        "  for i in range(len(data)): #불용어 제거\n",
        "    result = []\n",
        "    for w in data.mecab[i]:\n",
        "      if w not in stopwords:\n",
        "        result.append(w)\n",
        "    data.mecab[i] = result"
      ],
      "metadata": {
        "id": "jIjhBOymCXso"
      },
      "execution_count": 30,
      "outputs": []
    },
    {
      "cell_type": "code",
      "source": [
        "word_cleansing(sample)"
      ],
      "metadata": {
        "id": "LLARH2FWCfH6"
      },
      "execution_count": 49,
      "outputs": []
    },
    {
      "cell_type": "code",
      "source": [
        "sample.mecab"
      ],
      "metadata": {
        "id": "aYRZNobVDI2g"
      },
      "execution_count": null,
      "outputs": []
    },
    {
      "cell_type": "code",
      "source": [
        "sample.cleansed"
      ],
      "metadata": {
        "colab": {
          "base_uri": "https://localhost:8080/"
        },
        "id": "NycWYECwZO2L",
        "outputId": "ad356853-6315-4dac-8cf9-d55ae30bbb38"
      },
      "execution_count": 158,
      "outputs": [
        {
          "output_type": "execute_result",
          "data": {
            "text/plain": [
              "0        [이, 땅, 에서, 비정규직, 이, 라는, 표현, 이, 광범위, 하, 게, 쓰인, ...\n",
              "1        [일자리, 보다, 일거리, 노동, 의, 미래, 를, 모두, 알, 수, 는, 없, 다...\n",
              "2        [일자리, 보다, 일거리, 학습, 데이터, 가공, 기업, 크, 라, 우드, 웍스, ...\n",
              "3        [새로, 태어나, 는, 아이, 들, 은, 줄어들, 고, 어르신, 들, 은, 계속, ...\n",
              "4        [새천년, 의, 시작, 과, 함께, 세상, 에, 나온, 년, 대생, 들, 이, 어느...\n",
              "                               ...                        \n",
              "29036    [직장, 인, 씨, 는, 수도권, 사회적 거리두기, 단계, 를, 시행, 하, 는, ...\n",
              "29037    [일, 시, 부터, 서울, 전역, 에, 강화, 된, 사회적 거리두기, 단계, 가, ...\n",
              "29038    [수도, 권, 의, 사회적 거리두기, 단계, 시행, 기간, 에, 맞춰, 서울, 시내...\n",
              "29039    [일, 부터, 일, 째, 무기, 한, 집단, 휴진, 을, 이, 어, 가, 고, 있,...\n",
              "29040    [전공의, 들, 의, 집단휴업, 을, 둘러싼, 의, 정, 갈등, 이, 고조, 되, ...\n",
              "Name: cleansed, Length: 29041, dtype: object"
            ]
          },
          "metadata": {},
          "execution_count": 158
        }
      ]
    },
    {
      "cell_type": "code",
      "source": [
        "cd /tmp/mecab-ko-dic-2.1.1-20180720/"
      ],
      "metadata": {
        "colab": {
          "base_uri": "https://localhost:8080/"
        },
        "id": "rhz-XLA7Z5nx",
        "outputId": "c526ab29-067b-4d44-8b61-aa8f4cd1fb55"
      },
      "execution_count": 18,
      "outputs": [
        {
          "output_type": "stream",
          "name": "stdout",
          "text": [
            "/tmp/mecab-ko-dic-2.1.1-20180720\n"
          ]
        }
      ]
    },
    {
      "cell_type": "code",
      "source": [
        "with open(\"./user-dic/nnp.csv\", 'r', encoding='utf-8') as f: \n",
        "  file_data = f.readlines()"
      ],
      "metadata": {
        "id": "diEZ0de-bQ7A"
      },
      "execution_count": 19,
      "outputs": []
    },
    {
      "cell_type": "code",
      "source": [
        "file_data"
      ],
      "metadata": {
        "colab": {
          "base_uri": "https://localhost:8080/"
        },
        "id": "RxHZTBYvGgkg",
        "outputId": "e6974f53-dc91-4b34-bb3d-2ade873dcbbd"
      },
      "execution_count": 20,
      "outputs": [
        {
          "output_type": "execute_result",
          "data": {
            "text/plain": [
              "['대우,,,,NNP,*,F,대우,*,*,*,*,*\\n', '구글,,,,NNP,*,T,구글,*,*,*,*,*\\n']"
            ]
          },
          "metadata": {},
          "execution_count": 20
        }
      ]
    },
    {
      "cell_type": "code",
      "source": [
        "dic_list = []"
      ],
      "metadata": {
        "id": "4iRPfNSjG_we"
      },
      "execution_count": 21,
      "outputs": []
    },
    {
      "cell_type": "code",
      "source": [
        "from jamo import h2j, j2hcj \n",
        "def get_jongsung_TF(sample_text):\n",
        "  sample_text_list = list(sample_text)\n",
        "  last_word = sample_text_list[-1]\n",
        "  last_word_jamo_list = list(j2hcj(h2j(last_word)))\n",
        "  last_jamo = last_word_jamo_list[-1]\n",
        "  jongsung_TF = \"T\"\n",
        "  if last_jamo in ['ㅏ', 'ㅑ', 'ㅓ', 'ㅕ', 'ㅗ', 'ㅛ', 'ㅜ', 'ㅠ', 'ㅡ', 'ㅣ', 'ㅘ', 'ㅚ', 'ㅙ', 'ㅝ', 'ㅞ', 'ㅢ', 'ㅐ,ㅔ', 'ㅟ', 'ㅖ', 'ㅒ']:\n",
        "    jongsung_TF = \"F\"\n",
        "  return jongsung_TF\n"
      ],
      "metadata": {
        "id": "2ltd9T90cik1"
      },
      "execution_count": 22,
      "outputs": []
    },
    {
      "cell_type": "code",
      "source": [
        "with open(\"./user-dic/nnp.csv\", 'r', encoding='utf-8') as f:\n",
        "  file_data = f.readlines()\n",
        "  word_list = ['집단휴업', '집단휴진', '사회적 거리두기', '수도권', '거리두기', '직장인']\n",
        "  for word in word_list:\n",
        "    jongsung_TF = get_jongsung_TF(word)\n",
        "    line = '{},,,,NNP,*,{},{},*,*,*,*,*\\n'.format(word, jongsung_TF, word)\n",
        "    file_data.append(line)"
      ],
      "metadata": {
        "id": "LwXZbsWgMLbW"
      },
      "execution_count": 23,
      "outputs": []
    },
    {
      "cell_type": "code",
      "source": [
        "with open(\"./user-dic/nnp.csv\", 'w', encoding='utf-8') as f:\n",
        "  for line in file_data:\n",
        "    f.write(line)"
      ],
      "metadata": {
        "id": "mu33GtSbMfGC"
      },
      "execution_count": 24,
      "outputs": []
    },
    {
      "cell_type": "code",
      "source": [
        "# word_list = ['집단휴업', '집단휴진', '사회적 거리두기'] \n",
        "# for word in word_list:\n",
        "#   jongsung_TF = get_jongsung_TF(word)\n",
        "#   line = '{},,,,NNP,*,{},{},*,*,*,*,*\\n'.format(word, jongsung_TF, word)\n",
        "#   dic_list.append(line)\n",
        "# tmp = '수도권,,,0,NNP,*,T,수도권,*,*,*,*,*\\n'\n",
        "# dic_list.append(tmp)"
      ],
      "metadata": {
        "id": "fzp3uvXVc18q"
      },
      "execution_count": 25,
      "outputs": []
    },
    {
      "cell_type": "code",
      "source": [
        "# dic_list"
      ],
      "metadata": {
        "id": "aEtKgE2bHOFG"
      },
      "execution_count": 26,
      "outputs": []
    },
    {
      "cell_type": "code",
      "source": [
        "# with open(\"./user-dic/nnp.csv\", 'w', encoding='utf-8') as f:\n",
        "#   for line in dic_list:\n",
        "#     f.write(line)"
      ],
      "metadata": {
        "id": "VQI4hFzJdr5L"
      },
      "execution_count": 27,
      "outputs": []
    },
    {
      "cell_type": "code",
      "source": [
        "with open(\"./user-dic/nnp.csv\", 'r', encoding='utf-8') as f:\n",
        "  file_new = f.readlines()\n",
        "file_new"
      ],
      "metadata": {
        "colab": {
          "base_uri": "https://localhost:8080/"
        },
        "id": "in8Xc3nULWoA",
        "outputId": "6d3de081-a727-4fde-ce37-18bda3e8474e"
      },
      "execution_count": 28,
      "outputs": [
        {
          "output_type": "execute_result",
          "data": {
            "text/plain": [
              "['대우,,,,NNP,*,F,대우,*,*,*,*,*\\n',\n",
              " '구글,,,,NNP,*,T,구글,*,*,*,*,*\\n',\n",
              " '집단휴업,,,0,NNP,*,T,집단휴업,*,*,*,*,*\\n',\n",
              " '집단휴진,,,0,NNP,*,T,집단휴진,*,*,*,*,*\\n',\n",
              " '사회적 거리두기,,,0,NNP,*,F,사회적 거리두기,*,*,*,*,*\\n',\n",
              " '수도권,,,0,NNP,*,T,수도권,*,*,*,*,*\\n']"
            ]
          },
          "metadata": {},
          "execution_count": 28
        }
      ]
    },
    {
      "cell_type": "code",
      "source": [
        "!bash ./tools/add-userdic.sh\n",
        "!make install"
      ],
      "metadata": {
        "id": "FarRsBKBJYr8"
      },
      "execution_count": null,
      "outputs": []
    },
    {
      "cell_type": "code",
      "source": [
        "mecab = Mecab()\n",
        "sample['mecab'] = sample.cleansed.apply(mecab.morphs)"
      ],
      "metadata": {
        "id": "aJQtHqZbg-Nx"
      },
      "execution_count": 31,
      "outputs": []
    },
    {
      "cell_type": "code",
      "source": [
        "stop_words = '의 가 이 은 들 기자 는 좀 잘 에 을 를 부터 이 에서 씨 인 년 대생 일 다음 달 가운데 쓰 여년 겁니다 무엇'\n",
        "stop_words=stop_words.split(' ')\n",
        "stop = stop_words + stopwords\n",
        "stop = pd.Series(stop)\n",
        "stopwords = stop.unique().tolist()"
      ],
      "metadata": {
        "id": "iuPc83PuitJh"
      },
      "execution_count": 99,
      "outputs": []
    },
    {
      "cell_type": "code",
      "source": [
        "word_cleansing(sample)"
      ],
      "metadata": {
        "colab": {
          "base_uri": "https://localhost:8080/"
        },
        "id": "wboHKf2NlaeT",
        "outputId": "974e661f-994c-4b5a-91ba-cb2b4f68f505"
      },
      "execution_count": 100,
      "outputs": [
        {
          "output_type": "stream",
          "name": "stderr",
          "text": [
            "/usr/local/lib/python3.7/dist-packages/ipykernel_launcher.py:7: SettingWithCopyWarning: \n",
            "A value is trying to be set on a copy of a slice from a DataFrame\n",
            "\n",
            "See the caveats in the documentation: https://pandas.pydata.org/pandas-docs/stable/user_guide/indexing.html#returning-a-view-versus-a-copy\n",
            "  import sys\n"
          ]
        }
      ]
    },
    {
      "cell_type": "code",
      "source": [
        "sample.mecab"
      ],
      "metadata": {
        "colab": {
          "base_uri": "https://localhost:8080/"
        },
        "id": "d8CzLfUsK034",
        "outputId": "c0ebbbdd-649e-4640-9378-91ae6aa1f4e8"
      },
      "execution_count": 53,
      "outputs": [
        {
          "output_type": "execute_result",
          "data": {
            "text/plain": [
              "0        [땅, 비정규직, 표현, 광범위, 정부, 신규, 일자리, 창출, 비정규직, 정규직,...\n",
              "1        [일자리, 일거리, 노동, 미래, 현실, 변화, 면면, 준비, 짐작, 경향신문, 노...\n",
              "2        [일자리, 일거리, 학습, 데이터, 공기업, 우드, 웍스, 교육장, 참관, 소화전,...\n",
              "3        [아이, 어르신, 나이, 다년, 새해, 정부, 정책, 발표, 혜택, 경향신문, 저출...\n",
              "4        [새천년, 시작, 세상, 변화, 대가, 전후, 밀레니엄, 베이비, 세대, 분류, 가...\n",
              "                               ...                        \n",
              "29036    [직장, 수도, 거리, 두기, 단계, 시행, 일간, 무급, 휴가, 사용, 통보, 회...\n",
              "29037    [일시, 서울, 전역, 강화, 거리, 두기, 단계, 시행, 전문가, 기대, 만큼, ...\n",
              "29038    [수도, 거리, 두기, 단계, 시행, 기간, 서울, 시내버스, 야간, 운행, 감축,...\n",
              "29039    [집단휴진, 전공, 인턴, 레지던트, 정부, 갈등, 벼랑, 끝, 전공, 협의회, 비...\n",
              "29040    [전공의, 집단휴업, 의정, 갈등, 고조, 의료, 현장, 의대, 교수, 후배, 의사...\n",
              "Name: mecab, Length: 29041, dtype: object"
            ]
          },
          "metadata": {},
          "execution_count": 53
        }
      ]
    },
    {
      "cell_type": "code",
      "source": [
        "from gensim.models import Word2Vec"
      ],
      "metadata": {
        "id": "SfQw8lOvLGo0"
      },
      "execution_count": 34,
      "outputs": []
    },
    {
      "cell_type": "code",
      "source": [
        "from sklearn.cluster import KMeans"
      ],
      "metadata": {
        "id": "_yZBPzFQTPW_"
      },
      "execution_count": 35,
      "outputs": []
    },
    {
      "cell_type": "code",
      "source": [
        "def embedding(data):\n",
        "    embedding_model = Word2Vec(data.mecab, vector_size=200, window = 2, min_count=3, workers=4, epochs=100, sg=1)\n",
        "    return embedding_model"
      ],
      "metadata": {
        "id": "VyMb6J7tTSAI"
      },
      "execution_count": 36,
      "outputs": []
    },
    {
      "cell_type": "code",
      "source": [
        "def get_sentence_mean_vector(morphs):\n",
        "    vector = []\n",
        "    for i in morphs:\n",
        "        try:\n",
        "            vector.append(embedding_model.wv[i])\n",
        "        except KeyError as e:\n",
        "            pass\n",
        "    try:\n",
        "        return sum(vector)/len(vector)\n",
        "    except IndexError as e:\n",
        "        pass"
      ],
      "metadata": {
        "id": "OSlR3pZITkPR"
      },
      "execution_count": 37,
      "outputs": []
    },
    {
      "cell_type": "code",
      "source": [
        "def create_model(data):\n",
        "    word_vectors = data['wv'].to_list() \n",
        "    num_clusters = 15\n",
        "\n",
        "    # K means 를 정의하고 학습시킨다.\n",
        "    kmeans_clustering = KMeans(n_clusters=num_clusters, init='k-means++', n_init=25, max_iter = 600, random_state=0)\n",
        "    idx = kmeans_clustering.fit_predict( word_vectors )\n",
        "    data['category'] = idx"
      ],
      "metadata": {
        "id": "bPCzJBbnTxss"
      },
      "execution_count": 104,
      "outputs": []
    },
    {
      "cell_type": "code",
      "source": [
        "embedding_model = Word2Vec(sample.mecab, size=50, window = 2, min_count=3, workers=4, iter=10, sg=1, seed=0)"
      ],
      "metadata": {
        "id": "JQw6TMfXT0Ve"
      },
      "execution_count": 101,
      "outputs": []
    },
    {
      "cell_type": "code",
      "source": [
        "sample['wv'] = sample['mecab'].map(get_sentence_mean_vector)"
      ],
      "metadata": {
        "id": "-gnrgTzUU2QJ"
      },
      "execution_count": 102,
      "outputs": []
    },
    {
      "cell_type": "code",
      "source": [
        "create_model(sample)"
      ],
      "metadata": {
        "id": "cUXNH_EzkYph"
      },
      "execution_count": 105,
      "outputs": []
    },
    {
      "cell_type": "code",
      "source": [
        "import matplotlib.pyplot as plt"
      ],
      "metadata": {
        "id": "Z9z52899pS7U"
      },
      "execution_count": 75,
      "outputs": []
    },
    {
      "cell_type": "code",
      "source": [
        "def elbow(data, Clusters):\n",
        "\n",
        "    word_vectors = data['wv'].to_list()\n",
        "    sse = []\n",
        "    for i in range(1,Clusters):\n",
        "        kmeans = KMeans(n_clusters=i, init='k-means++',n_init=25, max_iter = 600, random_state=0)\n",
        "        kmeans.fit(word_vectors)\n",
        "        sse.append(kmeans.inertia_)\n",
        "    plt.figure(figsize=(7,6))\n",
        "    plt.plot(range(1,Clusters), sse, marker='o')\n",
        "    plt.xlabel('number of cluster')\n",
        "    plt.xticks(np.arange(0,Clusters,1))\n",
        "    plt.ylabel('SSE')\n",
        "    plt.title('Elbow Method - number of cluster : '+str(Clusters))\n",
        "    plt.show()\n",
        "elbow(sample, 30)\n"
      ],
      "metadata": {
        "colab": {
          "base_uri": "https://localhost:8080/",
          "height": 404
        },
        "id": "ORiBWMDxoyfn",
        "outputId": "440f73c8-a032-4275-b6e8-bf498fbe2b66"
      },
      "execution_count": 103,
      "outputs": [
        {
          "output_type": "display_data",
          "data": {
            "image/png": "[encoded data removed]",
            "text/plain": [
              "<Figure size 504x432 with 1 Axes>"
            ]
          },
          "metadata": {
            "needs_background": "light"
          }
        }
      ]
    },
    {
      "cell_type": "code",
      "source": [
        "print(sse)"
      ],
      "metadata": {
        "id": "Sr0L7E5Iqxlg"
      },
      "execution_count": null,
      "outputs": []
    },
    {
      "cell_type": "code",
      "source": [
        "sample.date.value_counts()"
      ],
      "metadata": {
        "colab": {
          "base_uri": "https://localhost:8080/"
        },
        "id": "pEY_0cI-kfCt",
        "outputId": "2e8edd08-d6e3-4908-9939-af16d15ffac4"
      },
      "execution_count": 110,
      "outputs": [
        {
          "output_type": "execute_result",
          "data": {
            "text/plain": [
              "2020-06-16    170\n",
              "2020-08-21    169\n",
              "2020-07-01    169\n",
              "2020-05-12    168\n",
              "2020-04-16    165\n",
              "             ... \n",
              "2020-03-08      1\n",
              "2020-04-26      1\n",
              "2020-08-30      1\n",
              "2020-05-10      1\n",
              "2020-01-27      1\n",
              "Name: date, Length: 231, dtype: int64"
            ]
          },
          "metadata": {},
          "execution_count": 110
        }
      ]
    },
    {
      "cell_type": "code",
      "source": [
        "aaa = sample['title'][sample['category'] == 12]"
      ],
      "metadata": {
        "id": "MvWHMX4xkwTD"
      },
      "execution_count": 142,
      "outputs": []
    },
    {
      "cell_type": "code",
      "source": [
        "aaa"
      ],
      "metadata": {
        "colab": {
          "base_uri": "https://localhost:8080/"
        },
        "id": "E-iy-9ZfzeF8",
        "outputId": "1b39cc6b-b47a-4622-aad0-b9fa5e467c67"
      },
      "execution_count": 143,
      "outputs": [
        {
          "output_type": "execute_result",
          "data": {
            "text/plain": [
              "37                                   [포토] 갈등 녹이고… 솟아라 새 희망\n",
              "44       공수처발 한파에 국회 올스톱 위기... 총리 인준·민생입법 어쩌나 [공수처법 통과 이후]\n",
              "118                             文 “권력기관 개혁 계속… 대통령권한 다할 것”\n",
              "146                    靑, 6일 비서관 인사 단행할 듯…윤건영 서울 구로을 출마 유력\n",
              "156                      靑, 추미애 임명 수순… 野 ‘정세균 청문회’ 보이콧 움직임\n",
              "                               ...                        \n",
              "28997    [팔면봉] 與 선장 된 이낙연, 靑엔 할 말 하고 野와 협치하고 코로나 이겨 정권 ...\n",
              "29006                                 파업 유지案, 전공의 1차투표땐 부결\n",
              "29012          [outlook] 일본 혐한여론 강해, 아베 후임 누가 돼도 한·일훈풍 힘들다\n",
              "29018                        모든 중재안 거부, 환자 곁에 오지 않겠다는 전공의들\n",
              "29027               이낙연 “곧 재난지원금 논의 정리”…상임위 재배분 ‘협치 카드’ 검토\n",
              "Name: title, Length: 2532, dtype: object"
            ]
          },
          "metadata": {},
          "execution_count": 143
        }
      ]
    },
    {
      "cell_type": "code",
      "source": [
        "cd /content/drive/MyDrive/textrank-master"
      ],
      "metadata": {
        "colab": {
          "base_uri": "https://localhost:8080/"
        },
        "id": "Bef_1xSgyCCm",
        "outputId": "102e6709-ea08-43d9-920d-906fce68c5b4"
      },
      "execution_count": 86,
      "outputs": [
        {
          "output_type": "stream",
          "name": "stdout",
          "text": [
            "/content/drive/MyDrive/textrank-master\n"
          ]
        }
      ]
    },
    {
      "cell_type": "code",
      "source": [
        "import textrank"
      ],
      "metadata": {
        "id": "1eA3QiFeyDFv"
      },
      "execution_count": 87,
      "outputs": []
    },
    {
      "cell_type": "code",
      "source": [
        "from textrank import KeywordSummarizer\n",
        "def token(docs):\n",
        "    return docs"
      ],
      "metadata": {
        "id": "V2RKJR39ySXd"
      },
      "execution_count": 89,
      "outputs": []
    },
    {
      "cell_type": "code",
      "source": [
        "keyword_extractor = KeywordSummarizer(tokenize = token,\n",
        "    min_count=3,\n",
        "    window=8,                     # cooccurrence within a sentence\n",
        "    min_cooccurrence=2,\n",
        "    vocab_to_idx=None,             # you can specify vocabulary to build word graph\n",
        "    df=0.85,                       # PageRank damping factor\n",
        "    max_iter=30,                   # PageRank maximum iteration\n",
        "    verbose=False)\n",
        "\n",
        "keywords1 = keyword_extractor.summarize(aaa, topk=20)"
      ],
      "metadata": {
        "id": "2oWriCUXyuBi"
      },
      "execution_count": 119,
      "outputs": []
    },
    {
      "cell_type": "code",
      "source": [
        "for i in range(0,15):\n",
        "  num = i\n",
        "  aaa = sample['mecab'][sample['category'] == num]\n",
        "  globals()['keywords_{}'.format(i)] = keyword_extractor.summarize(aaa, topk=20)"
      ],
      "metadata": {
        "id": "VRAsJ-De9UQR"
      },
      "execution_count": 127,
      "outputs": []
    },
    {
      "cell_type": "code",
      "source": [
        "# 0 = 코로나\n",
        "# 1 = 선거/정치 \n",
        "# 2 = 사고/재해\n",
        "# 3 = 위안부/여성피해\n",
        "# 4 = 제외\n",
        "# 5 = 코로나/정부지원\n",
        "# 6 = 제외\n",
        "# 7 = 코로나방역\n",
        "# 8 = 국내외정세\n",
        "# 9 = 한국영화/기생충\n",
        "# 10 = 코로나확진\n",
        "# 11 = 코로나경제\n",
        "# 12 = 정치\n",
        "# 13 = 검찰/대검\n",
        "# 14 = 부동산"
      ],
      "metadata": {
        "id": "acjuFKa_7Z1g"
      },
      "execution_count": 115,
      "outputs": []
    },
    {
      "cell_type": "code",
      "source": [
        "category_list = ['코로나', '선거/정치', '사고/재해', '위안부/여성피해', '제외', '코로나/정부지원', '제외', '코로나방역','북한/국내외정세', '한국영화/기생충', '코로나확진', '코로나경제','정치','검찰/대검','부동산']"
      ],
      "metadata": {
        "id": "tsg-xjdjDx9O"
      },
      "execution_count": 147,
      "outputs": []
    },
    {
      "cell_type": "code",
      "source": [
        "tmp = []\n",
        "for i in range(0,15):\n",
        "  for x in range(len(sample)):\n",
        "    if sample['category'][x] == i:\n",
        "      tmp.append(category_list[i])"
      ],
      "metadata": {
        "id": "c93ljYqZDVb2"
      },
      "execution_count": 153,
      "outputs": []
    },
    {
      "cell_type": "code",
      "source": [
        "tmp = []\n",
        "for x in range(len(sample)):\n",
        "  for i in range(0,15):\n",
        "    if sample['category'][x] == i:\n",
        "      tmp.append(category_list[i])"
      ],
      "metadata": {
        "id": "gCSW6Pq4GQZn"
      },
      "execution_count": 157,
      "outputs": []
    },
    {
      "cell_type": "code",
      "source": [
        "sample.category_txt = tmp"
      ],
      "metadata": {
        "id": "T3zEitGt8l7X"
      },
      "execution_count": 159,
      "outputs": []
    },
    {
      "cell_type": "code",
      "source": [
        "sample.category_txt.value_counts()"
      ],
      "metadata": {
        "colab": {
          "base_uri": "https://localhost:8080/"
        },
        "id": "VTlsKKn9zbbf",
        "outputId": "b89772ad-0503-4452-fb8e-5006da164424"
      },
      "execution_count": 162,
      "outputs": [
        {
          "output_type": "execute_result",
          "data": {
            "text/plain": [
              "선거/정치       3381\n",
              "북한/국내외정세    3146\n",
              "코로나확진       2965\n",
              "정치          2532\n",
              "코로나/정부지원    2504\n",
              "코로나방역       2341\n",
              "위안부/여성피해    2296\n",
              "코로나         1889\n",
              "코로나경제       1782\n",
              "한국영화/기생충    1691\n",
              "검찰/대검       1631\n",
              "부동산         1574\n",
              "사고/재해        809\n",
              "제외           500\n",
              "Name: category_txt, dtype: int64"
            ]
          },
          "metadata": {},
          "execution_count": 162
        }
      ]
    },
    {
      "cell_type": "code",
      "source": [
        "sample.category.value_counts()"
      ],
      "metadata": {
        "colab": {
          "base_uri": "https://localhost:8080/"
        },
        "id": "vmWJHcAKGsah",
        "outputId": "9470310d-221d-4590-e89f-ce06d0a787c9"
      },
      "execution_count": 163,
      "outputs": [
        {
          "output_type": "execute_result",
          "data": {
            "text/plain": [
              "1     3381\n",
              "8     3146\n",
              "10    2965\n",
              "12    2532\n",
              "5     2504\n",
              "7     2341\n",
              "3     2296\n",
              "0     1889\n",
              "11    1782\n",
              "9     1691\n",
              "13    1631\n",
              "14    1574\n",
              "2      809\n",
              "6      370\n",
              "4      130\n",
              "Name: category, dtype: int64"
            ]
          },
          "metadata": {},
          "execution_count": 163
        }
      ]
    },
    {
      "cell_type": "code",
      "source": [
        ""
      ],
      "metadata": {
        "id": "mLrNLX66G2rG"
      },
      "execution_count": null,
      "outputs": []
    }
  ]
}