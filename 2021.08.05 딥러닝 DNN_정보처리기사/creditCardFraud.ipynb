{
  "nbformat": 4,
  "nbformat_minor": 0,
  "metadata": {
    "colab": {
      "name": "creditCardFraud.ipynb",
      "provenance": [],
      "authorship_tag": "ABX9TyMKyHL7G9xLzAIp1wHLYg2b",
      "include_colab_link": true
    },
    "kernelspec": {
      "name": "python3",
      "display_name": "Python 3"
    },
    "language_info": {
      "name": "python"
    }
  },
  "cells": [
    {
      "cell_type": "markdown",
      "metadata": {
        "id": "view-in-github",
        "colab_type": "text"
      },
      "source": [
        "<a href=\"https://colab.research.google.com/github/Minsung-commit/TIL/blob/master/creditCardFraud.ipynb\" target=\"_parent\"><img src=\"https://colab.research.google.com/assets/colab-badge.svg\" alt=\"Open In Colab\"/></a>"
      ]
    },
    {
      "cell_type": "code",
      "metadata": {
        "id": "HrWVmU0F2dZz"
      },
      "source": [
        ""
      ],
      "execution_count": null,
      "outputs": []
    },
    {
      "cell_type": "code",
      "metadata": {
        "colab": {
          "base_uri": "https://localhost:8080/"
        },
        "id": "VjzHebp42hC6",
        "outputId": "b3515596-5dcd-483b-f0f8-f82e09438ed4"
      },
      "source": [
        "from google.colab import drive\n",
        "drive.mount('/content/drive')"
      ],
      "execution_count": 1,
      "outputs": [
        {
          "output_type": "stream",
          "text": [
            "Mounted at /content/drive\n"
          ],
          "name": "stdout"
        }
      ]
    },
    {
      "cell_type": "code",
      "metadata": {
        "colab": {
          "base_uri": "https://localhost:8080/"
        },
        "id": "GzyK03IK2o1s",
        "outputId": "231d3fd4-c215-46d4-fd41-ef0de14cd56b"
      },
      "source": [
        "!unzip /content/drive/My\\ Drive/Colab\\ Notebooks/datasets/creditCardFraud.zip"
      ],
      "execution_count": 2,
      "outputs": [
        {
          "output_type": "stream",
          "text": [
            "Archive:  /content/drive/My Drive/Colab Notebooks/datasets/creditCardFraud.zip\n",
            "  inflating: creditcard.csv          \n"
          ],
          "name": "stdout"
        }
      ]
    },
    {
      "cell_type": "code",
      "metadata": {
        "id": "lHBxqhIf-Mp0"
      },
      "source": [
        "import pandas as pd\n",
        "\n",
        "df = pd.read_csv('creditcard.csv')"
      ],
      "execution_count": 6,
      "outputs": []
    },
    {
      "cell_type": "code",
      "metadata": {
        "colab": {
          "base_uri": "https://localhost:8080/"
        },
        "id": "1m0BZ2WD-V_k",
        "outputId": "8cee9bd3-f503-4f8a-9262-3fdda2e4af33"
      },
      "source": [
        "df.info()"
      ],
      "execution_count": 7,
      "outputs": [
        {
          "output_type": "stream",
          "text": [
            "<class 'pandas.core.frame.DataFrame'>\n",
            "RangeIndex: 284807 entries, 0 to 284806\n",
            "Data columns (total 31 columns):\n",
            " #   Column  Non-Null Count   Dtype  \n",
            "---  ------  --------------   -----  \n",
            " 0   Time    284807 non-null  float64\n",
            " 1   V1      284807 non-null  float64\n",
            " 2   V2      284807 non-null  float64\n",
            " 3   V3      284807 non-null  float64\n",
            " 4   V4      284807 non-null  float64\n",
            " 5   V5      284807 non-null  float64\n",
            " 6   V6      284807 non-null  float64\n",
            " 7   V7      284807 non-null  float64\n",
            " 8   V8      284807 non-null  float64\n",
            " 9   V9      284807 non-null  float64\n",
            " 10  V10     284807 non-null  float64\n",
            " 11  V11     284807 non-null  float64\n",
            " 12  V12     284807 non-null  float64\n",
            " 13  V13     284807 non-null  float64\n",
            " 14  V14     284807 non-null  float64\n",
            " 15  V15     284807 non-null  float64\n",
            " 16  V16     284807 non-null  float64\n",
            " 17  V17     284807 non-null  float64\n",
            " 18  V18     284807 non-null  float64\n",
            " 19  V19     284807 non-null  float64\n",
            " 20  V20     284807 non-null  float64\n",
            " 21  V21     284807 non-null  float64\n",
            " 22  V22     284807 non-null  float64\n",
            " 23  V23     284807 non-null  float64\n",
            " 24  V24     284807 non-null  float64\n",
            " 25  V25     284807 non-null  float64\n",
            " 26  V26     284807 non-null  float64\n",
            " 27  V27     284807 non-null  float64\n",
            " 28  V28     284807 non-null  float64\n",
            " 29  Amount  284807 non-null  float64\n",
            " 30  Class   284807 non-null  int64  \n",
            "dtypes: float64(30), int64(1)\n",
            "memory usage: 67.4 MB\n"
          ],
          "name": "stdout"
        }
      ]
    },
    {
      "cell_type": "code",
      "metadata": {
        "id": "NuulGcXc-fQy"
      },
      "source": [
        "df.drop('Time', axis = 1, inplace = True)"
      ],
      "execution_count": 9,
      "outputs": []
    },
    {
      "cell_type": "code",
      "metadata": {
        "colab": {
          "base_uri": "https://localhost:8080/"
        },
        "id": "SvIyehFB-mu2",
        "outputId": "6a77c29d-cbc8-4f9f-912f-ab74535e9283"
      },
      "source": [
        "df.info()"
      ],
      "execution_count": 10,
      "outputs": [
        {
          "output_type": "stream",
          "text": [
            "<class 'pandas.core.frame.DataFrame'>\n",
            "RangeIndex: 284807 entries, 0 to 284806\n",
            "Data columns (total 30 columns):\n",
            " #   Column  Non-Null Count   Dtype  \n",
            "---  ------  --------------   -----  \n",
            " 0   V1      284807 non-null  float64\n",
            " 1   V2      284807 non-null  float64\n",
            " 2   V3      284807 non-null  float64\n",
            " 3   V4      284807 non-null  float64\n",
            " 4   V5      284807 non-null  float64\n",
            " 5   V6      284807 non-null  float64\n",
            " 6   V7      284807 non-null  float64\n",
            " 7   V8      284807 non-null  float64\n",
            " 8   V9      284807 non-null  float64\n",
            " 9   V10     284807 non-null  float64\n",
            " 10  V11     284807 non-null  float64\n",
            " 11  V12     284807 non-null  float64\n",
            " 12  V13     284807 non-null  float64\n",
            " 13  V14     284807 non-null  float64\n",
            " 14  V15     284807 non-null  float64\n",
            " 15  V16     284807 non-null  float64\n",
            " 16  V17     284807 non-null  float64\n",
            " 17  V18     284807 non-null  float64\n",
            " 18  V19     284807 non-null  float64\n",
            " 19  V20     284807 non-null  float64\n",
            " 20  V21     284807 non-null  float64\n",
            " 21  V22     284807 non-null  float64\n",
            " 22  V23     284807 non-null  float64\n",
            " 23  V24     284807 non-null  float64\n",
            " 24  V25     284807 non-null  float64\n",
            " 25  V26     284807 non-null  float64\n",
            " 26  V27     284807 non-null  float64\n",
            " 27  V28     284807 non-null  float64\n",
            " 28  Amount  284807 non-null  float64\n",
            " 29  Class   284807 non-null  int64  \n",
            "dtypes: float64(29), int64(1)\n",
            "memory usage: 65.2 MB\n"
          ],
          "name": "stdout"
        }
      ]
    },
    {
      "cell_type": "code",
      "metadata": {
        "id": "zIaWZkOO-qJX"
      },
      "source": [
        "from sklearn.model_selection import train_test_split\n",
        "X = df.iloc[:, :-1]\n",
        "y = df.iloc[:, -1]\n",
        "X_train, X_test, y_train, y_test = train_test_split(X, y,\n",
        "                                                    test_size = 0.3,\n",
        "                                                    random_state = 2045,\n",
        "                                                    stratify = y)"
      ],
      "execution_count": 12,
      "outputs": []
    },
    {
      "cell_type": "code",
      "metadata": {
        "colab": {
          "base_uri": "https://localhost:8080/",
          "height": 35
        },
        "id": "ZI5G7SFh_OWx",
        "outputId": "72aaef6f-6fae-424d-afe3-58d96927245b"
      },
      "source": [
        "import tensorflow\n",
        "\n",
        "tensorflow.__version__"
      ],
      "execution_count": 13,
      "outputs": [
        {
          "output_type": "execute_result",
          "data": {
            "application/vnd.google.colaboratory.intrinsic+json": {
              "type": "string"
            },
            "text/plain": [
              "'2.5.0'"
            ]
          },
          "metadata": {
            "tags": []
          },
          "execution_count": 13
        }
      ]
    },
    {
      "cell_type": "code",
      "metadata": {
        "id": "CD__kWm5_Ygp"
      },
      "source": [
        "from tensorflow.keras import models\n",
        "from tensorflow.keras import layers\n",
        "\n",
        "\n",
        "ccfd = models.Sequential()"
      ],
      "execution_count": 14,
      "outputs": []
    },
    {
      "cell_type": "code",
      "metadata": {
        "id": "CC4xofxZ_kcK"
      },
      "source": [
        "ccfd.add(layers.Dense(128, activation='relu', input_shape = (29,)))\n",
        "ccfd.add(layers.Dense(64, activation='relu'))\n",
        "ccfd.add(layers.Dense(32, activation='relu'))\n",
        "ccfd.add(layers.Dense(1, activation='sigmoid'))"
      ],
      "execution_count": 15,
      "outputs": []
    },
    {
      "cell_type": "code",
      "metadata": {
        "colab": {
          "base_uri": "https://localhost:8080/"
        },
        "id": "RHyOXaMJ_6Gz",
        "outputId": "bf1435d6-152b-43a4-8c05-413cba5bb17b"
      },
      "source": [
        "ccfd.summary()"
      ],
      "execution_count": 16,
      "outputs": [
        {
          "output_type": "stream",
          "text": [
            "Model: \"sequential\"\n",
            "_________________________________________________________________\n",
            "Layer (type)                 Output Shape              Param #   \n",
            "=================================================================\n",
            "dense (Dense)                (None, 128)               3840      \n",
            "_________________________________________________________________\n",
            "dense_1 (Dense)              (None, 64)                8256      \n",
            "_________________________________________________________________\n",
            "dense_2 (Dense)              (None, 32)                2080      \n",
            "_________________________________________________________________\n",
            "dense_3 (Dense)              (None, 1)                 33        \n",
            "=================================================================\n",
            "Total params: 14,209\n",
            "Trainable params: 14,209\n",
            "Non-trainable params: 0\n",
            "_________________________________________________________________\n"
          ],
          "name": "stdout"
        }
      ]
    },
    {
      "cell_type": "code",
      "metadata": {
        "colab": {
          "base_uri": "https://localhost:8080/"
        },
        "id": "n9XlXlKI_8He",
        "outputId": "8b5eca7b-9a23-444a-da4b-d5f0c77eeff8"
      },
      "source": [
        "ccfd.compile(loss = 'binary_crossentropy',\n",
        "             optimizer = 'adam',\n",
        "             metrics = ['Recall'])\n",
        "\n",
        "\n",
        "\n",
        "hist_ccfd = ccfd.fit(X_train, y_train,\n",
        "                     epochs = 50,\n",
        "                     batch_size = 1024,\n",
        "                     validation_data = (X_test, y_test))"
      ],
      "execution_count": 19,
      "outputs": [
        {
          "output_type": "stream",
          "text": [
            "Epoch 1/50\n",
            "195/195 [==============================] - 3s 9ms/step - loss: 0.0447 - recall: 0.4070 - val_loss: 0.0073 - val_recall: 0.8311\n",
            "Epoch 2/50\n",
            "195/195 [==============================] - 1s 6ms/step - loss: 0.0117 - recall: 0.7326 - val_loss: 0.0471 - val_recall: 0.3784\n",
            "Epoch 3/50\n",
            "195/195 [==============================] - 1s 6ms/step - loss: 0.0388 - recall: 0.6424 - val_loss: 0.0039 - val_recall: 0.8176\n",
            "Epoch 4/50\n",
            "195/195 [==============================] - 1s 7ms/step - loss: 0.0061 - recall: 0.7616 - val_loss: 0.0038 - val_recall: 0.8311\n",
            "Epoch 5/50\n",
            "195/195 [==============================] - 1s 6ms/step - loss: 0.0102 - recall: 0.7413 - val_loss: 0.0097 - val_recall: 0.7973\n",
            "Epoch 6/50\n",
            "195/195 [==============================] - 1s 6ms/step - loss: 0.0068 - recall: 0.7529 - val_loss: 0.0035 - val_recall: 0.8378\n",
            "Epoch 7/50\n",
            "195/195 [==============================] - 1s 7ms/step - loss: 0.0040 - recall: 0.7878 - val_loss: 0.0031 - val_recall: 0.8311\n",
            "Epoch 8/50\n",
            "195/195 [==============================] - 1s 6ms/step - loss: 0.0076 - recall: 0.7442 - val_loss: 0.0130 - val_recall: 0.7230\n",
            "Epoch 9/50\n",
            "195/195 [==============================] - 1s 7ms/step - loss: 0.0062 - recall: 0.7674 - val_loss: 0.0030 - val_recall: 0.8446\n",
            "Epoch 10/50\n",
            "195/195 [==============================] - 1s 6ms/step - loss: 0.0035 - recall: 0.8169 - val_loss: 0.0033 - val_recall: 0.8176\n",
            "Epoch 11/50\n",
            "195/195 [==============================] - 1s 6ms/step - loss: 0.0069 - recall: 0.7500 - val_loss: 0.0036 - val_recall: 0.8311\n",
            "Epoch 12/50\n",
            "195/195 [==============================] - 1s 7ms/step - loss: 0.0041 - recall: 0.7849 - val_loss: 0.0041 - val_recall: 0.8649\n",
            "Epoch 13/50\n",
            "195/195 [==============================] - 1s 6ms/step - loss: 0.0031 - recall: 0.8052 - val_loss: 0.0035 - val_recall: 0.8446\n",
            "Epoch 14/50\n",
            "195/195 [==============================] - 1s 6ms/step - loss: 0.0088 - recall: 0.7384 - val_loss: 0.0034 - val_recall: 0.8581\n",
            "Epoch 15/50\n",
            "195/195 [==============================] - 1s 6ms/step - loss: 0.0030 - recall: 0.8256 - val_loss: 0.0036 - val_recall: 0.7905\n",
            "Epoch 16/50\n",
            "195/195 [==============================] - 1s 7ms/step - loss: 0.0029 - recall: 0.8256 - val_loss: 0.0030 - val_recall: 0.8581\n",
            "Epoch 17/50\n",
            "195/195 [==============================] - 1s 6ms/step - loss: 0.0027 - recall: 0.8285 - val_loss: 0.0080 - val_recall: 0.8716\n",
            "Epoch 18/50\n",
            "195/195 [==============================] - 1s 6ms/step - loss: 0.0028 - recall: 0.8256 - val_loss: 0.0029 - val_recall: 0.7770\n",
            "Epoch 19/50\n",
            "195/195 [==============================] - 1s 6ms/step - loss: 0.0025 - recall: 0.8372 - val_loss: 0.0030 - val_recall: 0.7770\n",
            "Epoch 20/50\n",
            "195/195 [==============================] - 1s 7ms/step - loss: 0.0025 - recall: 0.8314 - val_loss: 0.0032 - val_recall: 0.8243\n",
            "Epoch 21/50\n",
            "195/195 [==============================] - 1s 6ms/step - loss: 0.0026 - recall: 0.8285 - val_loss: 0.0031 - val_recall: 0.8041\n",
            "Epoch 22/50\n",
            "195/195 [==============================] - 1s 7ms/step - loss: 0.0033 - recall: 0.8198 - val_loss: 0.0053 - val_recall: 0.7297\n",
            "Epoch 23/50\n",
            "195/195 [==============================] - 1s 7ms/step - loss: 0.0029 - recall: 0.8314 - val_loss: 0.0032 - val_recall: 0.7568\n",
            "Epoch 24/50\n",
            "195/195 [==============================] - 1s 7ms/step - loss: 0.0028 - recall: 0.8343 - val_loss: 0.0032 - val_recall: 0.8176\n",
            "Epoch 25/50\n",
            "195/195 [==============================] - 1s 6ms/step - loss: 0.0023 - recall: 0.8401 - val_loss: 0.0038 - val_recall: 0.8716\n",
            "Epoch 26/50\n",
            "195/195 [==============================] - 1s 6ms/step - loss: 0.0021 - recall: 0.8314 - val_loss: 0.0031 - val_recall: 0.8446\n",
            "Epoch 27/50\n",
            "195/195 [==============================] - 1s 7ms/step - loss: 0.0021 - recall: 0.8488 - val_loss: 0.0032 - val_recall: 0.7703\n",
            "Epoch 28/50\n",
            "195/195 [==============================] - 1s 6ms/step - loss: 0.0019 - recall: 0.8401 - val_loss: 0.0032 - val_recall: 0.8446\n",
            "Epoch 29/50\n",
            "195/195 [==============================] - 1s 6ms/step - loss: 0.0021 - recall: 0.8488 - val_loss: 0.0030 - val_recall: 0.8176\n",
            "Epoch 30/50\n",
            "195/195 [==============================] - 1s 7ms/step - loss: 0.0020 - recall: 0.8314 - val_loss: 0.0041 - val_recall: 0.8581\n",
            "Epoch 31/50\n",
            "195/195 [==============================] - 1s 6ms/step - loss: 0.0034 - recall: 0.8314 - val_loss: 0.0035 - val_recall: 0.8446\n",
            "Epoch 32/50\n",
            "195/195 [==============================] - 1s 6ms/step - loss: 0.0020 - recall: 0.8547 - val_loss: 0.0031 - val_recall: 0.8581\n",
            "Epoch 33/50\n",
            "195/195 [==============================] - 1s 6ms/step - loss: 0.0017 - recall: 0.8605 - val_loss: 0.0036 - val_recall: 0.8784\n",
            "Epoch 34/50\n",
            "195/195 [==============================] - 1s 6ms/step - loss: 0.0019 - recall: 0.8343 - val_loss: 0.0033 - val_recall: 0.8581\n",
            "Epoch 35/50\n",
            "195/195 [==============================] - 1s 7ms/step - loss: 0.0032 - recall: 0.8459 - val_loss: 0.0079 - val_recall: 0.7297\n",
            "Epoch 36/50\n",
            "195/195 [==============================] - 1s 7ms/step - loss: 0.0034 - recall: 0.8052 - val_loss: 0.0037 - val_recall: 0.8514\n",
            "Epoch 37/50\n",
            "195/195 [==============================] - 1s 7ms/step - loss: 0.0045 - recall: 0.8198 - val_loss: 0.0052 - val_recall: 0.7635\n",
            "Epoch 38/50\n",
            "195/195 [==============================] - 1s 6ms/step - loss: 0.0028 - recall: 0.7907 - val_loss: 0.0038 - val_recall: 0.7703\n",
            "Epoch 39/50\n",
            "195/195 [==============================] - 1s 7ms/step - loss: 0.0025 - recall: 0.8488 - val_loss: 0.0038 - val_recall: 0.8446\n",
            "Epoch 40/50\n",
            "195/195 [==============================] - 1s 7ms/step - loss: 0.0017 - recall: 0.8692 - val_loss: 0.0039 - val_recall: 0.8378\n",
            "Epoch 41/50\n",
            "195/195 [==============================] - 1s 7ms/step - loss: 0.0017 - recall: 0.8750 - val_loss: 0.0038 - val_recall: 0.8446\n",
            "Epoch 42/50\n",
            "195/195 [==============================] - 1s 7ms/step - loss: 0.0018 - recall: 0.8576 - val_loss: 0.0042 - val_recall: 0.7095\n",
            "Epoch 43/50\n",
            "195/195 [==============================] - 1s 6ms/step - loss: 0.0025 - recall: 0.8634 - val_loss: 0.0062 - val_recall: 0.7838\n",
            "Epoch 44/50\n",
            "195/195 [==============================] - 1s 7ms/step - loss: 0.0023 - recall: 0.8488 - val_loss: 0.0049 - val_recall: 0.8378\n",
            "Epoch 45/50\n",
            "195/195 [==============================] - 1s 7ms/step - loss: 0.0018 - recall: 0.8401 - val_loss: 0.0039 - val_recall: 0.8446\n",
            "Epoch 46/50\n",
            "195/195 [==============================] - 1s 7ms/step - loss: 0.0049 - recall: 0.8517 - val_loss: 0.0050 - val_recall: 0.8446\n",
            "Epoch 47/50\n",
            "195/195 [==============================] - 1s 7ms/step - loss: 0.0048 - recall: 0.8343 - val_loss: 0.0041 - val_recall: 0.8243\n",
            "Epoch 48/50\n",
            "195/195 [==============================] - 1s 6ms/step - loss: 0.0019 - recall: 0.8634 - val_loss: 0.0040 - val_recall: 0.8378\n",
            "Epoch 49/50\n",
            "195/195 [==============================] - 1s 6ms/step - loss: 0.0017 - recall: 0.8779 - val_loss: 0.0043 - val_recall: 0.8378\n",
            "Epoch 50/50\n",
            "195/195 [==============================] - 1s 6ms/step - loss: 0.0014 - recall: 0.8663 - val_loss: 0.0042 - val_recall: 0.8446\n"
          ],
          "name": "stdout"
        }
      ]
    },
    {
      "cell_type": "code",
      "metadata": {
        "colab": {
          "base_uri": "https://localhost:8080/"
        },
        "id": "jcvump3aAJ5P",
        "outputId": "fd63e455-ace4-402c-8df2-92787618da28"
      },
      "source": [
        "loss, recall = ccfd.evaluate(X_test, y_test)\n",
        "\n",
        "print('loss = {:.5f}'.format(loss))\n",
        "print('recall = {:.5f}'.format(recall))"
      ],
      "execution_count": 20,
      "outputs": [
        {
          "output_type": "stream",
          "text": [
            "2671/2671 [==============================] - 3s 1ms/step - loss: 0.0042 - recall: 0.8446\n",
            "loss = 0.00416\n",
            "recall = 0.84459\n"
          ],
          "name": "stdout"
        }
      ]
    },
    {
      "cell_type": "code",
      "metadata": {
        "colab": {
          "base_uri": "https://localhost:8080/"
        },
        "id": "oJvnzp0HBBru",
        "outputId": "bc603d16-1bd2-4ae8-d972-8b53d5db373f"
      },
      "source": [
        "y_hat = ccfd.predict_classes(X_test)\n",
        "\n",
        "from sklearn.metrics import confusion_matrix\n",
        "\n",
        "confusion_matrix(y_test, y_hat)"
      ],
      "execution_count": 21,
      "outputs": [
        {
          "output_type": "stream",
          "text": [
            "/usr/local/lib/python3.7/dist-packages/tensorflow/python/keras/engine/sequential.py:455: UserWarning: `model.predict_classes()` is deprecated and will be removed after 2021-01-01. Please use instead:* `np.argmax(model.predict(x), axis=-1)`,   if your model does multi-class classification   (e.g. if it uses a `softmax` last-layer activation).* `(model.predict(x) > 0.5).astype(\"int32\")`,   if your model does binary classification   (e.g. if it uses a `sigmoid` last-layer activation).\n",
            "  warnings.warn('`model.predict_classes()` is deprecated and '\n"
          ],
          "name": "stderr"
        },
        {
          "output_type": "execute_result",
          "data": {
            "text/plain": [
              "array([[85282,    13],\n",
              "       [   23,   125]])"
            ]
          },
          "metadata": {
            "tags": []
          },
          "execution_count": 21
        }
      ]
    },
    {
      "cell_type": "code",
      "metadata": {
        "colab": {
          "base_uri": "https://localhost:8080/"
        },
        "id": "w8CcuU9PBnwT",
        "outputId": "a187dff5-528d-40e8-e72c-21cf3a977222"
      },
      "source": [
        "from sklearn.metrics import accuracy_score, precision_score, recall_score\n",
        "\n",
        "print(accuracy_score(y_test, y_hat))\n",
        "print(precision_score(y_test, y_hat, pos_label=1))\n",
        "print(recall_score(y_test, y_hat, pos_label=1))"
      ],
      "execution_count": 23,
      "outputs": [
        {
          "output_type": "stream",
          "text": [
            "0.9995786664794073\n",
            "0.9057971014492754\n",
            "0.8445945945945946\n"
          ],
          "name": "stdout"
        }
      ]
    },
    {
      "cell_type": "code",
      "metadata": {
        "colab": {
          "base_uri": "https://localhost:8080/"
        },
        "id": "Gwu41hONB7x3",
        "outputId": "08a1ef0a-c272-4876-90f7-69237646c610"
      },
      "source": [
        "print(precision_score(y_test, y_hat, pos_label=0))\n",
        "print(recall_score(y_test, y_hat, pos_label=0))"
      ],
      "execution_count": 24,
      "outputs": [
        {
          "output_type": "stream",
          "text": [
            "0.9997303792274779\n",
            "0.9998475877835746\n"
          ],
          "name": "stdout"
        }
      ]
    },
    {
      "cell_type": "code",
      "metadata": {
        "id": "vqp3SZMuCXBB"
      },
      "source": [
        ""
      ],
      "execution_count": null,
      "outputs": []
    }
  ]
}