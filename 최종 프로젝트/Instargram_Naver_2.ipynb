{
  "nbformat": 4,
  "nbformat_minor": 0,
  "metadata": {
    "colab": {
      "name": "Instargram_Naver",
      "provenance": [],
      "collapsed_sections": []
    },
    "kernelspec": {
      "name": "python3",
      "display_name": "Python 3"
    },
    "language_info": {
      "name": "python"
    }
  },
  "cells": [
    {
      "cell_type": "code",
      "metadata": {
        "id": "lNrCuj73myP9"
      },
      "source": [
        "# 필수 모듈 호출\n",
        "import pandas as pd\n",
        "import numpy as np\n",
        "import re"
      ],
      "execution_count": 1,
      "outputs": []
    },
    {
      "cell_type": "code",
      "metadata": {
        "id": "icHRw2bNOeXa"
      },
      "source": [
        "import matplotlib.pyplot as plt\n",
        "import seaborn as sns"
      ],
      "execution_count": 100,
      "outputs": []
    },
    {
      "cell_type": "code",
      "metadata": {
        "colab": {
          "base_uri": "https://localhost:8080/"
        },
        "id": "SbAistvXn-K6",
        "outputId": "adbbd41e-ceb5-4c57-8579-2d516fc3b1c6"
      },
      "source": [
        "! pip install tomotopy #호출\n",
        "import tomotopy as tp\n",
        "!pip install kiwipiepy # 한국어 형태소 분석기\n",
        "from kiwipiepy import Kiwi\n",
        "kiwi = Kiwi()"
      ],
      "execution_count": 2,
      "outputs": [
        {
          "output_type": "stream",
          "name": "stdout",
          "text": [
            "Collecting tomotopy\n",
            "  Downloading tomotopy-0.12.2-cp37-cp37m-manylinux_2_12_x86_64.manylinux2010_x86_64.whl (16.3 MB)\n",
            "\u001b[K     |████████████████████████████████| 16.3 MB 124 kB/s \n",
            "\u001b[?25hRequirement already satisfied: numpy>=1.11.0 in /usr/local/lib/python3.7/dist-packages (from tomotopy) (1.19.5)\n",
            "Installing collected packages: tomotopy\n",
            "Successfully installed tomotopy-0.12.2\n",
            "Collecting kiwipiepy\n",
            "  Downloading kiwipiepy-0.10.1-cp37-cp37m-manylinux_2_12_x86_64.manylinux2010_x86_64.whl (495 kB)\n",
            "\u001b[K     |████████████████████████████████| 495 kB 5.0 MB/s \n",
            "\u001b[?25hCollecting kiwipiepy-model~=0.10\n",
            "  Downloading kiwipiepy_model-0.10.0.tar.gz (25.7 MB)\n",
            "\u001b[K     |████████████████████████████████| 25.7 MB 66 kB/s \n",
            "\u001b[?25hBuilding wheels for collected packages: kiwipiepy-model\n",
            "  Building wheel for kiwipiepy-model (setup.py) ... \u001b[?25l\u001b[?25hdone\n",
            "  Created wheel for kiwipiepy-model: filename=kiwipiepy_model-0.10.0-py3-none-any.whl size=25882656 sha256=05caab46df03ba1693808c7dbf0a79c4885ee61373be041d2c552378ae2eb83d\n",
            "  Stored in directory: /root/.cache/pip/wheels/42/2f/c9/c82156eb15ed5ebb5475002723d1ab319947aca25bd663cd1d\n",
            "Successfully built kiwipiepy-model\n",
            "Installing collected packages: kiwipiepy-model, kiwipiepy\n",
            "Successfully installed kiwipiepy-0.10.1 kiwipiepy-model-0.10.0\n"
          ]
        }
      ]
    },
    {
      "cell_type": "code",
      "metadata": {
        "id": "ShtGVutzoSt1"
      },
      "source": [
        "# 데이터 로드\n",
        "\n",
        "insta_data = pd.read_csv('tot_dataset.csv')"
      ],
      "execution_count": 3,
      "outputs": []
    },
    {
      "cell_type": "code",
      "metadata": {
        "id": "s1NeehdNwcaw"
      },
      "source": [
        "naver_data = pd.read_csv('total_blog_dataset.csv')"
      ],
      "execution_count": 4,
      "outputs": []
    },
    {
      "cell_type": "markdown",
      "metadata": {
        "id": "fs4nmArRDxvd"
      },
      "source": [
        "#전처리 함수 정의 및 불용어 리스트 생성"
      ]
    },
    {
      "cell_type": "code",
      "metadata": {
        "id": "GgO9xFsarWMw"
      },
      "source": [
        "stop_words = '의 가 이 은 들 는 좀 잘 속초 걍 년대 과 했 거 해서 게 찍 느낌 많이 듯 뷰 박 링크 인스타그램 할인 성수기 홈페이지 주말 블로그 인원 추가 ㅎㅎ 너무 게스트 넘 하우스 드리다 이용 위치 쓰다 진짜 넘 찍 거 먹 ㅠㅠ ㅎㅎㅎ ㅠ 물 였 ㅠㅠㅠ ㅠㅠ ㅠ ㅋㅋㅋ ㅋㅋ ㅋ ㅎㅎㅎ ㅎㅎ ㅎ 화장실 도 뭐 오픈 최대 준비 룸 빵 거 많이 방법 달리 스럽다 특별자치도 를 에어비 으로 자 에 와 한 하다 아 휴 아이구 포스팅 아이쿠 아이고 어 나 우리 저희 따라 의해 을 를 에 의 가 으로 로 에게 뿐이다 의거하여 근거하여 입각하여 기준으로 예하면 예를 들면 예를 들자면 저 소인 소생 저희 지말고 하지마 하지마라 다른 물론 또한 그리고 비길수 없다 해서는 안된다 뿐만 아니라 만이 아니다 만은 아니다 막론하고 관계없이 그치지 않다 그러나 그런데 하지만 든간에 논하지 않다 따지지 않다 설사 비록 더라도 아니면 만 못하다 하는 편이 낫다 불문하고 향하여 향해서 향하다 쪽으로 틈타 이용하여 타다 오르다 제외하고 이 외에 이 밖에 하여야 비로소 한다면 몰라도 외에도 이곳 여기 부터 기점으로 따라서 할 생각이다 하려고하다 이리하여 그리하여 그렇게 함으로써 하지만 일때 할때 앞에서 중에서 보는데서 으로써 로써 까지 해야한다 일것이다 반드시 할줄알다 할수있다 할수있어 임에 틀림없다 한다면 등 등등 제 겨우 단지 다만 할뿐 딩동 댕그 대해서 대하여 대하면 훨씬 얼마나 얼마만큼 얼마큼 남짓 이제 분 도움 여 ㅁ ㅎ ㄶ 얼마간 둥 오랜만 약간 체크 체크아웃 가격 정보 비 수기 평일 기준 약 전국  예약 되어다 스마트 빔 블루투스 스피커 이 외 드라이어 다리미 구비 되어다 있다 주방 음식 조리 가능하다 환기 제한 전남 제부도 있다 냄새 나 요리 삼가다 경주시 부탁드리다 후 번길 문의 다 가격 수기 비성수기 주소  좀 조금 다수 몇 얼마 지만 하물며 또한 그러나 그렇지만 하지만 이외에도 대해 말하자면 뿐이다 다음에 반대로 반대로 말하자면 이와 반대로 바꾸어서 말하면 바꾸어서 한다면 만약 그렇지않으면 까악 툭 딱 삐걱거리다 보드득 비걱거리다 꽈당 응당 해야한다 에 가서 각 각각 여러분 각종 각자 제각기 하도록하다 와 과 그러므로 그래서 고로 한 까닭에 하기 때문에 거니와 이지만 대하여 관하여 관한 과연 실로 아니나다를가 생각한대로 진짜로 한적이있다 하곤하였다 하 하하 허허 아하 거바 와 오 왜 어째서 무엇때문에 어찌 하겠는가 무슨 어디 어느곳 더군다나 하물며 더욱이는 어느때 언제 야 이봐 어이 여보시오 흐흐 흥 휴 헉헉 헐떡헐떡 영차 여차 어기여차 끙끙 아야 앗 아야 콸콸 졸졸 좍좍 뚝뚝 주룩주룩 솨 우르르 그래도 또 그리고 바꾸어말하면 바꾸어말하자면 혹은 혹시 답다 및 그에 따르는 때가 되어 즉 지든지 설령 가령 하더라도 할지라도 일지라도 지든지 몇 거의 하마터면 인젠 이젠 된바에야 된이상 만큼 어찌됏든 그위에 게다가 점에서 보아 비추어 보아 고려하면 하게될것이다 일것이다 비교적 좀 보다더 비하면 시키다 하게하다 할만하다 의해서 연이서 이어서 잇따라 포항 우도 양양 전주시 통영 제천 여수시 순천 고성 합천 한림읍 전주 경북 구좌읍 돌산읍 태안 하동 포항시 제주시 밀양 양평 울산 무무 뒤따라 뒤이어 결국 의지하여 기대여 통하여 자마자 더욱더 불구하고 얼마든지 마음대로 주저하지 않고 곧 즉시 바로 당장 하자마자 밖에 안된다 하면된다 그래 그렇지 요컨대 다시 말하자면 바꿔 춘천 층 남해 스테이 서울 여수 거제 추천 경주 곳 객실 이다 강원도 강원 홍천 부산 영도 호 객실 교동 풀빌라 빌라 풀 스튜디오 펜션 말하면 즉 구체적으로 말하자면 시작하여 시초에 이상 허 헉 허걱 바와같이 해도좋다 해도된다 게다가 더구나 하물며 와르르 팍 퍽 펄렁 동안 이래 하고있었다 이었다 에서 로부터 까지 예하면 했어요 해요 함께 같이 더불어 마저 마저도 양자 모두 습니다 가까스로 하려고하다 즈음하여 다른 다른 방면으로 해봐요 습니까 했어요 말할것도 없고 무릎쓰고 개의치않고 하는것만 못하다 하는것이 낫다 매 매번 들 모 어느것 어느 로써 갖고말하자면 어디 어느쪽 어느것 어느해 어느 년도 라 해도 언젠가 어떤것 어느것 저기 저쪽 저것 그때 그럼 그러면 요만한걸 그래 그때 저것만큼 그저 이르기까지 할 줄 안다 할 힘이 있다 너 너희 당신 어찌 설마 차라리 할지언정 할지라도 할망정 할지언정 구토하다 게우다 토하다 메쓰겁다 옆사람 퉤 쳇 의거하여 근거하여 의해 따라 힘입어 그 다음 버금 두번째로 기타 첫번째로 나머지는 그중에서 견지에서 형식으로 쓰여 입장에서 위해서 단지 의해되다 하도록시키다 뿐만아니라 반대로 전후 전자 앞의것 잠시 잠깐 하면서 그렇지만 다음에 그러한즉 그런즉 남들 아무거나 어찌하든지 같다 비슷하다 예컨대 이럴정도로 어떻게 만약 만일 위에서 서술한바와같이 인 듯하다 하지 않는다면 만약에 무엇 무슨 어느 어떤 아래윗 조차 한데 그럼에도 불구하고 여전히 심지어 까지도 조차도 하지 않도록 않기 위하여 때 시각 무렵 시간 동안 어때 어떠한 하여금 네 예 우선 누구 누가 알겠는가 아무도 줄은모른다 줄은 몰랏다 하는 김에 겸사겸사 하는바 그런 까닭에 한 이유는 그러니 그러니까 때문에 그 너희 그들 너희들 타인 것 것들 너 위하여 공동으로 동시에 하기 위하여 어찌하여 무엇때문에 붕붕 윙윙 나 우리 엉엉 휘익 윙윙 오호 아하 어쨋든 만 못하다 하기보다는 차라리 하는 편이 낫다 흐흐 놀라다 상대적으로 말하자면 마치 아니라면 쉿 그렇지 않으면 그렇지 않다면 안 그러면 아니었다면 하든지 아니면 이라면 좋아 알았어 하는것도 그만이다 어쩔수 없다 하나 일 일반적으로 일단 한켠으로는 오자마자 이렇게되면 이와같다면 전부 한마디 한항목 근거로 하기에 아울러 하지 않도록 않기 위해서 이르기까지 이 되다 로 인하여 까닭으로 이유만으로 이로 인하여 그래서 이 때문에 그러므로 그런 까닭에 알 수 있다 결론을 낼 수 있다 으로 인하여 있다 어떤것 관계가 있다 관련이 있다 연관되다 어떤것들 에 대해 이리하여 그리하여 여부 하기보다는 하느니 하면 할수록 운운 이러이러하다 하구나 하도다 다시말하면 다음으로 에 있다 에 달려 있다 우리 우리들 오히려 하기는한데 어떻게 어떻해 어찌됏어 어때 어째서 본대로 자 이 이쪽 여기 이것 이번 이렇게말하자면 이런 이러한 이와 같은 요만큼 요만한 것 얼마 안 되는 것 이만큼 이 정도의 이렇게 많은 것 이와 같다 이때 이렇구나 것과 같이 끼익 삐걱 따위 와 같은 사람들 부류의 사람들 왜냐하면 중의하나 오직 오로지 에 한하다 하기만 하면 도착하다 까지 미치다 도달하다 정도에 이르다 할 지경이다 결과에 이르다 관해서는 여러분 하고 있다 한 후 혼자 자기 자기집 자신 우에 종합한것과같이 총적으로 보면 총적으로 말하면 총적으로 대로 하다 으로서 참 그만이다 할 따름이다 쿵 탕탕 쾅쾅 둥둥 봐 봐라 아이야 아니 와아 응 아이 참나 년 월 일 령 영 일 이 삼 사 오 육 륙 칠 팔 구 이천육 이천칠 이천팔 이천구 하나 둘 셋 넷 다섯 여섯 일곱 여덟 아홉 령 영 이 있 하 것 들 그 되 수 이 보 않 없 나 사람 주 아니 등 같 우리 때 년 가 한 지 대하 오 말 일 그렇 위하 때문 그것 두 말하 알 그러나 받 못하 일 그런 또 문제 더 사회 많 그리고 좋 크 따르 중 나오 가지 씨 시키 만들 지금 생각하 그러 속 하나 집 살 모르 적 월 데 자신 안 어떤 내 내 경우 감성 숙소 호텔 제주 제주도 강원도 강릉 속초 속초시 에어비앤비 명 생각 시간 그녀 수 약 다시 이런 앞 보이 번 나 다른 어떻 여자 개 전 들 사실 이렇 점 싶 말 정도 좀 원 잘 통하 놓 사실 이렇 점 싶 말 정도 좀 원 잘 통하 ㅆ 재 채 독 롭 도란도 팅 감성비앤비 공간 참여 이벤트 당첨자 기간 부산 #부산숙소 #부산에어비앤비 #부산여행 경기 경주시 있는 한 #경주숙소 강원도 제주 제주시 #제주숙소 #제주감성숙소 #제주숙소추천 남해군 서면 춘천시 남해 광안리 편 반 안면도 산방산 님 사장 정말 날 꼭 찾다 직접 날 그냥 맘 근데 스타 욕 편 째 첫 맛 채 황리단 황리단길 미리 열다 거제도 공간 광안리 광안대교 스다 해운대 헤이 윤슬 울릉도 손 옆 홍보 입실시간 에디터' #불용어 리스트 형성"
      ],
      "execution_count": 5,
      "outputs": []
    },
    {
      "cell_type": "code",
      "metadata": {
        "id": "Pk2WROfwrYSW"
      },
      "source": [
        "stop_words=stop_words.split(' ')"
      ],
      "execution_count": 6,
      "outputs": []
    },
    {
      "cell_type": "code",
      "metadata": {
        "id": "_qpyB1Vb4x_D"
      },
      "source": [
        "stop_location = pd.read_csv('location_words.csv')\n",
        "stop_location.columns = ['index', 'location']\n",
        "stop_location = stop_location.location.tolist()"
      ],
      "execution_count": 7,
      "outputs": []
    },
    {
      "cell_type": "code",
      "metadata": {
        "id": "c92Pam2292uK"
      },
      "source": [
        "stop = stop_words + stop_location\n",
        "stop = pd.Series(stop)\n",
        "stopwords = stop.unique().tolist()"
      ],
      "execution_count": 8,
      "outputs": []
    },
    {
      "cell_type": "code",
      "metadata": {
        "id": "TW-TNviomOTj"
      },
      "source": [
        "def tokenize(sent):\n",
        "    res, score = kiwi.analyze(sent)[0] # 첫번째 결과를 사용\n",
        "    return [word + ('다' if tag.startswith('V') else '') # 동사에는 '다'를 붙여줌\n",
        "            for word, tag, _, _ in res\n",
        "            if not tag.startswith('E') and not tag.startswith('J') and not tag.startswith('S') and not tag.startswith('W') and word not in stopwords] # 조사, 어미, 특수기호 및 stopwords에 포함된 단어는 제거"
      ],
      "execution_count": 9,
      "outputs": []
    },
    {
      "cell_type": "code",
      "metadata": {
        "id": "E7xjMEiBSsdR"
      },
      "source": [
        "#\"\"\"한글빼고 전부 제거\"\"\"\n",
        "def sub_special(s):\n",
        "  rs = re.sub(r'[^가-힣]',' ',s)\n",
        "  rr = re.sub(' +', ' ', rs)\n",
        "  return rr"
      ],
      "execution_count": 10,
      "outputs": []
    },
    {
      "cell_type": "code",
      "metadata": {
        "id": "mJOcHZZztAta"
      },
      "source": [
        "#\"\"\"한글빼고 전부 제거\"\"\"\n",
        "def sub_special_token(s):\n",
        "  rs = re.sub(r'[^가-힣]',' ',s).strip().split()\n",
        "  return rs"
      ],
      "execution_count": 11,
      "outputs": []
    },
    {
      "cell_type": "code",
      "metadata": {
        "id": "YIG8pgA5UKzw"
      },
      "source": [
        "def word_cleansing(data): \n",
        "  for i in range(len(data)): #불용어 제거\n",
        "    result = []\n",
        "    for w in data.content[i]:\n",
        "      if w not in stopwords:\n",
        "        result.append(w)\n",
        "    data.content[i] = result"
      ],
      "execution_count": 12,
      "outputs": []
    },
    {
      "cell_type": "markdown",
      "metadata": {
        "id": "0Y_57bwEpdGZ"
      },
      "source": [
        "## naver데이터 전처리"
      ]
    },
    {
      "cell_type": "code",
      "metadata": {
        "colab": {
          "base_uri": "https://localhost:8080/",
          "height": 423
        },
        "id": "9Hq0vM9Hphn2",
        "outputId": "83592e0d-2b8c-4cd0-ff78-d37dc05480af"
      },
      "source": [
        "# 데이터 확인\n",
        "naver_data"
      ],
      "execution_count": 13,
      "outputs": [
        {
          "output_type": "execute_result",
          "data": {
            "text/html": [
              "<div>\n",
              "<style scoped>\n",
              "    .dataframe tbody tr th:only-of-type {\n",
              "        vertical-align: middle;\n",
              "    }\n",
              "\n",
              "    .dataframe tbody tr th {\n",
              "        vertical-align: top;\n",
              "    }\n",
              "\n",
              "    .dataframe thead th {\n",
              "        text-align: right;\n",
              "    }\n",
              "</style>\n",
              "<table border=\"1\" class=\"dataframe\">\n",
              "  <thead>\n",
              "    <tr style=\"text-align: right;\">\n",
              "      <th></th>\n",
              "      <th>Unnamed: 0</th>\n",
              "      <th>content</th>\n",
              "    </tr>\n",
              "  </thead>\n",
              "  <tbody>\n",
              "    <tr>\n",
              "      <th>0</th>\n",
              "      <td>0</td>\n",
              "      <td>['여행', '다녀오다', '게으르다', '여행', '고민', '바라다', '올리다...</td>\n",
              "    </tr>\n",
              "    <tr>\n",
              "      <th>1</th>\n",
              "      <td>1</td>\n",
              "      <td>['다녀오다', '후기', '휴가', '틈나다', '호캉스', '다녀오다', '다녀...</td>\n",
              "    </tr>\n",
              "    <tr>\n",
              "      <th>2</th>\n",
              "      <td>2</td>\n",
              "      <td>['여행', '쓰다', '거', '고르다', '아무래도', '여행', '주제', '...</td>\n",
              "    </tr>\n",
              "    <tr>\n",
              "      <th>3</th>\n",
              "      <td>3</td>\n",
              "      <td>['오늘', '지나다', '휴가', '찐친', '다녀오다', '메이킷슬', '후기'...</td>\n",
              "    </tr>\n",
              "    <tr>\n",
              "      <th>4</th>\n",
              "      <td>4</td>\n",
              "      <td>['지인', '소개', '#시우재', '마침', '이것저것', '기념일', '재다'...</td>\n",
              "    </tr>\n",
              "    <tr>\n",
              "      <th>...</th>\n",
              "      <td>...</td>\n",
              "      <td>...</td>\n",
              "    </tr>\n",
              "    <tr>\n",
              "      <th>3731</th>\n",
              "      <td>331</td>\n",
              "      <td>['국내', '여행지', '여행', '맨션자두', '들어가다', '커다랗다', '널...</td>\n",
              "    </tr>\n",
              "    <tr>\n",
              "      <th>3732</th>\n",
              "      <td>332</td>\n",
              "      <td>['영이', '분기', '여행', '스테이솔', '여행지', '편', '영이', '...</td>\n",
              "    </tr>\n",
              "    <tr>\n",
              "      <th>3733</th>\n",
              "      <td>333</td>\n",
              "      <td>['다귀', '쉼터', '오늘', '째', '하얗다', '외관', '매듭', '스무...</td>\n",
              "    </tr>\n",
              "    <tr>\n",
              "      <th>3734</th>\n",
              "      <td>334</td>\n",
              "      <td>['아파트먼트', '여행', '자주', '불구', '잡다', '놀다', '거', '...</td>\n",
              "    </tr>\n",
              "    <tr>\n",
              "      <th>3735</th>\n",
              "      <td>335</td>\n",
              "      <td>['포도봉', '미루다', '미루다', '숙소콕', '여행', '다행', '맞추다'...</td>\n",
              "    </tr>\n",
              "  </tbody>\n",
              "</table>\n",
              "<p>3736 rows × 2 columns</p>\n",
              "</div>"
            ],
            "text/plain": [
              "      Unnamed: 0                                            content\n",
              "0              0  ['여행', '다녀오다', '게으르다', '여행', '고민', '바라다', '올리다...\n",
              "1              1  ['다녀오다', '후기', '휴가', '틈나다', '호캉스', '다녀오다', '다녀...\n",
              "2              2  ['여행', '쓰다', '거', '고르다', '아무래도', '여행', '주제', '...\n",
              "3              3  ['오늘', '지나다', '휴가', '찐친', '다녀오다', '메이킷슬', '후기'...\n",
              "4              4  ['지인', '소개', '#시우재', '마침', '이것저것', '기념일', '재다'...\n",
              "...          ...                                                ...\n",
              "3731         331  ['국내', '여행지', '여행', '맨션자두', '들어가다', '커다랗다', '널...\n",
              "3732         332  ['영이', '분기', '여행', '스테이솔', '여행지', '편', '영이', '...\n",
              "3733         333  ['다귀', '쉼터', '오늘', '째', '하얗다', '외관', '매듭', '스무...\n",
              "3734         334  ['아파트먼트', '여행', '자주', '불구', '잡다', '놀다', '거', '...\n",
              "3735         335  ['포도봉', '미루다', '미루다', '숙소콕', '여행', '다행', '맞추다'...\n",
              "\n",
              "[3736 rows x 2 columns]"
            ]
          },
          "metadata": {},
          "execution_count": 13
        }
      ]
    },
    {
      "cell_type": "code",
      "metadata": {
        "id": "KUXuuiIKpkzd"
      },
      "source": [
        "# 인덱스 제거\n",
        "naver_data.drop('Unnamed: 0', axis=1, inplace=True)"
      ],
      "execution_count": 14,
      "outputs": []
    },
    {
      "cell_type": "code",
      "metadata": {
        "id": "71f3huevTo44"
      },
      "source": [
        "for i in range(len(naver_data)):\n",
        "  naver_data.content[i] = sub_special_token(naver_data.content[i])"
      ],
      "execution_count": 15,
      "outputs": []
    },
    {
      "cell_type": "code",
      "metadata": {
        "colab": {
          "base_uri": "https://localhost:8080/",
          "height": 423
        },
        "id": "n6NxqLqEyryX",
        "outputId": "b51fec0d-002b-4e32-f2d4-42b6728c37c9"
      },
      "source": [
        "naver_data"
      ],
      "execution_count": 16,
      "outputs": [
        {
          "output_type": "execute_result",
          "data": {
            "text/html": [
              "<div>\n",
              "<style scoped>\n",
              "    .dataframe tbody tr th:only-of-type {\n",
              "        vertical-align: middle;\n",
              "    }\n",
              "\n",
              "    .dataframe tbody tr th {\n",
              "        vertical-align: top;\n",
              "    }\n",
              "\n",
              "    .dataframe thead th {\n",
              "        text-align: right;\n",
              "    }\n",
              "</style>\n",
              "<table border=\"1\" class=\"dataframe\">\n",
              "  <thead>\n",
              "    <tr style=\"text-align: right;\">\n",
              "      <th></th>\n",
              "      <th>content</th>\n",
              "    </tr>\n",
              "  </thead>\n",
              "  <tbody>\n",
              "    <tr>\n",
              "      <th>0</th>\n",
              "      <td>[여행, 다녀오다, 게으르다, 여행, 고민, 바라다, 올리다, 오늘, 리뷰, 박, ...</td>\n",
              "    </tr>\n",
              "    <tr>\n",
              "      <th>1</th>\n",
              "      <td>[다녀오다, 후기, 휴가, 틈나다, 호캉스, 다녀오다, 다녀오다, 주변, 듯, 아고...</td>\n",
              "    </tr>\n",
              "    <tr>\n",
              "      <th>2</th>\n",
              "      <td>[여행, 쓰다, 거, 고르다, 아무래도, 여행, 주제, 자체, 쉬, 편안, 쉬다, ...</td>\n",
              "    </tr>\n",
              "    <tr>\n",
              "      <th>3</th>\n",
              "      <td>[오늘, 지나다, 휴가, 찐친, 다녀오다, 메이킷슬, 후기, 돈, 산, 스타, 인테...</td>\n",
              "    </tr>\n",
              "    <tr>\n",
              "      <th>4</th>\n",
              "      <td>[지인, 소개, 시우재, 마침, 이것저것, 기념일, 재다, 날, 다녀오다, 멀리, ...</td>\n",
              "    </tr>\n",
              "    <tr>\n",
              "      <th>...</th>\n",
              "      <td>...</td>\n",
              "    </tr>\n",
              "    <tr>\n",
              "      <th>3731</th>\n",
              "      <td>[국내, 여행지, 여행, 맨션자두, 들어가다, 커다랗다, 널판지, 깔다, 발, 편하...</td>\n",
              "    </tr>\n",
              "    <tr>\n",
              "      <th>3732</th>\n",
              "      <td>[영이, 분기, 여행, 스테이솔, 여행지, 편, 영이, 퇴근, 오빠, 먼저, 카페,...</td>\n",
              "    </tr>\n",
              "    <tr>\n",
              "      <th>3733</th>\n",
              "      <td>[다귀, 쉼터, 오늘, 째, 하얗다, 외관, 매듭, 스무, 날, 시장, 포장, 시장...</td>\n",
              "    </tr>\n",
              "    <tr>\n",
              "      <th>3734</th>\n",
              "      <td>[아파트먼트, 여행, 자주, 불구, 잡다, 놀다, 거, 처음, 고르다, 급하다, 잡...</td>\n",
              "    </tr>\n",
              "    <tr>\n",
              "      <th>3735</th>\n",
              "      <td>[포도봉, 미루다, 미루다, 숙소콕, 여행, 다행, 맞추다, 다녀오다, 찾다, 정말...</td>\n",
              "    </tr>\n",
              "  </tbody>\n",
              "</table>\n",
              "<p>3736 rows × 1 columns</p>\n",
              "</div>"
            ],
            "text/plain": [
              "                                                content\n",
              "0     [여행, 다녀오다, 게으르다, 여행, 고민, 바라다, 올리다, 오늘, 리뷰, 박, ...\n",
              "1     [다녀오다, 후기, 휴가, 틈나다, 호캉스, 다녀오다, 다녀오다, 주변, 듯, 아고...\n",
              "2     [여행, 쓰다, 거, 고르다, 아무래도, 여행, 주제, 자체, 쉬, 편안, 쉬다, ...\n",
              "3     [오늘, 지나다, 휴가, 찐친, 다녀오다, 메이킷슬, 후기, 돈, 산, 스타, 인테...\n",
              "4     [지인, 소개, 시우재, 마침, 이것저것, 기념일, 재다, 날, 다녀오다, 멀리, ...\n",
              "...                                                 ...\n",
              "3731  [국내, 여행지, 여행, 맨션자두, 들어가다, 커다랗다, 널판지, 깔다, 발, 편하...\n",
              "3732  [영이, 분기, 여행, 스테이솔, 여행지, 편, 영이, 퇴근, 오빠, 먼저, 카페,...\n",
              "3733  [다귀, 쉼터, 오늘, 째, 하얗다, 외관, 매듭, 스무, 날, 시장, 포장, 시장...\n",
              "3734  [아파트먼트, 여행, 자주, 불구, 잡다, 놀다, 거, 처음, 고르다, 급하다, 잡...\n",
              "3735  [포도봉, 미루다, 미루다, 숙소콕, 여행, 다행, 맞추다, 다녀오다, 찾다, 정말...\n",
              "\n",
              "[3736 rows x 1 columns]"
            ]
          },
          "metadata": {},
          "execution_count": 16
        }
      ]
    },
    {
      "cell_type": "code",
      "metadata": {
        "id": "3xn5mHZeqLX7"
      },
      "source": [
        "#클린징\n",
        "word_cleansing(naver_data)"
      ],
      "execution_count": 17,
      "outputs": []
    },
    {
      "cell_type": "code",
      "metadata": {
        "colab": {
          "base_uri": "https://localhost:8080/",
          "height": 423
        },
        "id": "-0gSTtnfqRNq",
        "outputId": "529046ec-3a57-49e3-b9e1-f47b83d4787e"
      },
      "source": [
        "naver_data"
      ],
      "execution_count": 18,
      "outputs": [
        {
          "output_type": "execute_result",
          "data": {
            "text/html": [
              "<div>\n",
              "<style scoped>\n",
              "    .dataframe tbody tr th:only-of-type {\n",
              "        vertical-align: middle;\n",
              "    }\n",
              "\n",
              "    .dataframe tbody tr th {\n",
              "        vertical-align: top;\n",
              "    }\n",
              "\n",
              "    .dataframe thead th {\n",
              "        text-align: right;\n",
              "    }\n",
              "</style>\n",
              "<table border=\"1\" class=\"dataframe\">\n",
              "  <thead>\n",
              "    <tr style=\"text-align: right;\">\n",
              "      <th></th>\n",
              "      <th>content</th>\n",
              "    </tr>\n",
              "  </thead>\n",
              "  <tbody>\n",
              "    <tr>\n",
              "      <th>0</th>\n",
              "      <td>[여행, 다녀오다, 게으르다, 여행, 고민, 바라다, 올리다, 오늘, 리뷰, 편안,...</td>\n",
              "    </tr>\n",
              "    <tr>\n",
              "      <th>1</th>\n",
              "      <td>[다녀오다, 후기, 휴가, 틈나다, 호캉스, 다녀오다, 다녀오다, 주변, 아고다, ...</td>\n",
              "    </tr>\n",
              "    <tr>\n",
              "      <th>2</th>\n",
              "      <td>[여행, 고르다, 아무래도, 여행, 주제, 자체, 쉬, 편안, 쉬다, 중요, 부분,...</td>\n",
              "    </tr>\n",
              "    <tr>\n",
              "      <th>3</th>\n",
              "      <td>[오늘, 지나다, 휴가, 찐친, 다녀오다, 메이킷슬, 후기, 돈, 산, 인테리어, ...</td>\n",
              "    </tr>\n",
              "    <tr>\n",
              "      <th>4</th>\n",
              "      <td>[지인, 소개, 시우재, 마침, 이것저것, 기념일, 재다, 다녀오다, 멀리, 놀다,...</td>\n",
              "    </tr>\n",
              "    <tr>\n",
              "      <th>...</th>\n",
              "      <td>...</td>\n",
              "    </tr>\n",
              "    <tr>\n",
              "      <th>3731</th>\n",
              "      <td>[국내, 여행지, 여행, 맨션자두, 들어가다, 커다랗다, 널판지, 깔다, 발, 편하...</td>\n",
              "    </tr>\n",
              "    <tr>\n",
              "      <th>3732</th>\n",
              "      <td>[영이, 분기, 여행, 스테이솔, 여행지, 영이, 퇴근, 오빠, 먼저, 카페, 데이...</td>\n",
              "    </tr>\n",
              "    <tr>\n",
              "      <th>3733</th>\n",
              "      <td>[다귀, 쉼터, 오늘, 하얗다, 외관, 매듭, 스무, 시장, 포장, 시장, 네비찍,...</td>\n",
              "    </tr>\n",
              "    <tr>\n",
              "      <th>3734</th>\n",
              "      <td>[아파트먼트, 여행, 자주, 불구, 잡다, 놀다, 처음, 고르다, 급하다, 잡다, ...</td>\n",
              "    </tr>\n",
              "    <tr>\n",
              "      <th>3735</th>\n",
              "      <td>[포도봉, 미루다, 미루다, 숙소콕, 여행, 다행, 맞추다, 다녀오다, 예쁘다, 룰...</td>\n",
              "    </tr>\n",
              "  </tbody>\n",
              "</table>\n",
              "<p>3736 rows × 1 columns</p>\n",
              "</div>"
            ],
            "text/plain": [
              "                                                content\n",
              "0     [여행, 다녀오다, 게으르다, 여행, 고민, 바라다, 올리다, 오늘, 리뷰, 편안,...\n",
              "1     [다녀오다, 후기, 휴가, 틈나다, 호캉스, 다녀오다, 다녀오다, 주변, 아고다, ...\n",
              "2     [여행, 고르다, 아무래도, 여행, 주제, 자체, 쉬, 편안, 쉬다, 중요, 부분,...\n",
              "3     [오늘, 지나다, 휴가, 찐친, 다녀오다, 메이킷슬, 후기, 돈, 산, 인테리어, ...\n",
              "4     [지인, 소개, 시우재, 마침, 이것저것, 기념일, 재다, 다녀오다, 멀리, 놀다,...\n",
              "...                                                 ...\n",
              "3731  [국내, 여행지, 여행, 맨션자두, 들어가다, 커다랗다, 널판지, 깔다, 발, 편하...\n",
              "3732  [영이, 분기, 여행, 스테이솔, 여행지, 영이, 퇴근, 오빠, 먼저, 카페, 데이...\n",
              "3733  [다귀, 쉼터, 오늘, 하얗다, 외관, 매듭, 스무, 시장, 포장, 시장, 네비찍,...\n",
              "3734  [아파트먼트, 여행, 자주, 불구, 잡다, 놀다, 처음, 고르다, 급하다, 잡다, ...\n",
              "3735  [포도봉, 미루다, 미루다, 숙소콕, 여행, 다행, 맞추다, 다녀오다, 예쁘다, 룰...\n",
              "\n",
              "[3736 rows x 1 columns]"
            ]
          },
          "metadata": {},
          "execution_count": 18
        }
      ]
    },
    {
      "cell_type": "markdown",
      "metadata": {
        "id": "LtopmzNWr4e2"
      },
      "source": [
        "## 인스타그램 데이터 전처리"
      ]
    },
    {
      "cell_type": "code",
      "metadata": {
        "colab": {
          "base_uri": "https://localhost:8080/",
          "height": 614
        },
        "id": "NJge9do4r-NY",
        "outputId": "a837b787-e03f-4cab-9f3e-2080e685f6b4"
      },
      "source": [
        "# 데이터 확인\n",
        "insta_data"
      ],
      "execution_count": 19,
      "outputs": [
        {
          "output_type": "execute_result",
          "data": {
            "text/html": [
              "<div>\n",
              "<style scoped>\n",
              "    .dataframe tbody tr th:only-of-type {\n",
              "        vertical-align: middle;\n",
              "    }\n",
              "\n",
              "    .dataframe tbody tr th {\n",
              "        vertical-align: top;\n",
              "    }\n",
              "\n",
              "    .dataframe thead th {\n",
              "        text-align: right;\n",
              "    }\n",
              "</style>\n",
              "<table border=\"1\" class=\"dataframe\">\n",
              "  <thead>\n",
              "    <tr style=\"text-align: right;\">\n",
              "      <th></th>\n",
              "      <th>Unnamed: 0</th>\n",
              "      <th>content</th>\n",
              "      <th>date</th>\n",
              "      <th>like</th>\n",
              "      <th>tags</th>\n",
              "      <th>name</th>\n",
              "      <th>overlap</th>\n",
              "      <th>place</th>\n",
              "    </tr>\n",
              "  </thead>\n",
              "  <tbody>\n",
              "    <tr>\n",
              "      <th>0</th>\n",
              "      <td>0</td>\n",
              "      <td>속초_파도의무늬오션뷰 감성 에어비앤비\"파도의무늬\"'파도의무늬'는물결이 일렁이고 윤슬...</td>\n",
              "      <td>2021-09-06</td>\n",
              "      <td>39</td>\n",
              "      <td>['#데일리감성속초로', '#데일리감성_속초강원도', '#데일리감성_강원——————...</td>\n",
              "      <td>파도의무늬</td>\n",
              "      <td>1</td>\n",
              "      <td>NaN</td>\n",
              "    </tr>\n",
              "    <tr>\n",
              "      <th>1</th>\n",
              "      <td>1</td>\n",
              "      <td>강릉_스테이 시호일시간의 흔적을 담은 감성숙소\"스테이 시호일\"'스테이 시호일'은60...</td>\n",
              "      <td>2021-09-03</td>\n",
              "      <td>12</td>\n",
              "      <td>['#데일리감성강릉으로', '#데일리감성_강릉강원도', '#데일리감성_강원—————...</td>\n",
              "      <td>스테이 시호일</td>\n",
              "      <td>1</td>\n",
              "      <td>NaN</td>\n",
              "    </tr>\n",
              "    <tr>\n",
              "      <th>2</th>\n",
              "      <td>2</td>\n",
              "      <td>제주_까만돌멩이구좌읍 조식주는 예쁜 숙소\"까만돌멩이\"'까만돌멩이'는가족 및 커플 또...</td>\n",
              "      <td>2021-09-03</td>\n",
              "      <td>33</td>\n",
              "      <td>['#데일리감성제주도', '#데일리감성_제주—————————————————']</td>\n",
              "      <td>까만돌멩이</td>\n",
              "      <td>1</td>\n",
              "      <td>제주특별자치도 제주시 구좌읍 계룡길 32</td>\n",
              "    </tr>\n",
              "    <tr>\n",
              "      <th>3</th>\n",
              "      <td>3</td>\n",
              "      <td>단양_권장사양인스타감성 가득한 독채 숙소\"권장사양\"'권장사양'은 자연경관으로 둘러쌓...</td>\n",
              "      <td>2021-09-02</td>\n",
              "      <td>36</td>\n",
              "      <td>['#데일리감성단양으로', '#데일리감성_단양충청북도', '#데일리감성_충북————...</td>\n",
              "      <td>권장사양</td>\n",
              "      <td>1</td>\n",
              "      <td>NaN</td>\n",
              "    </tr>\n",
              "    <tr>\n",
              "      <th>4</th>\n",
              "      <td>4</td>\n",
              "      <td>강릉_라온가따뜻한 느낌의 힐링 감성숙소\"라온가\"'라온가'는 주택을 개조한 숙소이며'...</td>\n",
              "      <td>2021-09-01</td>\n",
              "      <td>24</td>\n",
              "      <td>['#데일리감성강릉으로', '#데일리감성_강릉강원도', '#데일리감성_강원—————...</td>\n",
              "      <td>라온가</td>\n",
              "      <td>1</td>\n",
              "      <td>NaN</td>\n",
              "    </tr>\n",
              "    <tr>\n",
              "      <th>...</th>\n",
              "      <td>...</td>\n",
              "      <td>...</td>\n",
              "      <td>...</td>\n",
              "      <td>...</td>\n",
              "      <td>...</td>\n",
              "      <td>...</td>\n",
              "      <td>...</td>\n",
              "      <td>...</td>\n",
              "    </tr>\n",
              "    <tr>\n",
              "      <th>604</th>\n",
              "      <td>604</td>\n",
              "      <td>.한 폭의 그림같은 오션뷰, \"제주_Salt”🌊✨액자 창문 너머로 보이는 바다만 보...</td>\n",
              "      <td>2021-06-24</td>\n",
              "      <td>142</td>\n",
              "      <td>['#제주', '#솔트', '#제주숙소', '#제주여행', '#제주숙소추천', '#...</td>\n",
              "      <td>솔트</td>\n",
              "      <td>2</td>\n",
              "      <td>NaN</td>\n",
              "    </tr>\n",
              "    <tr>\n",
              "      <th>605</th>\n",
              "      <td>605</td>\n",
              "      <td>.통창 리버뷰가 환상적인 \"춘천_피그멜리온이펙트\"리버+마운틴뷰를 보며 월풀스파를 즐...</td>\n",
              "      <td>2021-06-15</td>\n",
              "      <td>87</td>\n",
              "      <td>['#춘천', '#피그멜리온이펙트', '#춘천숙소', '#춘천여행', '#춘천숙소추...</td>\n",
              "      <td>피그멜리온이펙트</td>\n",
              "      <td>2</td>\n",
              "      <td>강원도 춘천시 서면 경춘로 405</td>\n",
              "    </tr>\n",
              "    <tr>\n",
              "      <th>606</th>\n",
              "      <td>606</td>\n",
              "      <td>작은 시골 동네 안에 위치한 오붓&amp;편안한 감성숙소,곡성_품안의밤!🧡논밭뷰를 보며 여...</td>\n",
              "      <td>2021-04-21</td>\n",
              "      <td>68</td>\n",
              "      <td>['#곡성', '#품안의밤', '#곡성숙소', '#곡성여행', '#곡성숙소추천', ...</td>\n",
              "      <td>품안의밤</td>\n",
              "      <td>2</td>\n",
              "      <td>NaN</td>\n",
              "    </tr>\n",
              "    <tr>\n",
              "      <th>607</th>\n",
              "      <td>607</td>\n",
              "      <td>KBS2에서 방송됐던 \"한 번 다녀왔습니다\"의 웨딩촬영지로 유명한 강릉_더브리앙뜨!...</td>\n",
              "      <td>2021-04-19</td>\n",
              "      <td>57</td>\n",
              "      <td>['#강릉', '#더브리앙뜨', '#강릉숙소', '#강릉여행', '#강릉데이트', ...</td>\n",
              "      <td>더브리앙뜨</td>\n",
              "      <td>2</td>\n",
              "      <td>강원도 강릉시 사천면 중앙서로 92-43</td>\n",
              "    </tr>\n",
              "    <tr>\n",
              "      <th>608</th>\n",
              "      <td>608</td>\n",
              "      <td>.고풍스런 미칀 한옥뷰맛집 제주 한라궁호텔!🧡아침에 눈을 뜨면 보이는 한옥정원뷰 객...</td>\n",
              "      <td>2021-03-19</td>\n",
              "      <td>90</td>\n",
              "      <td>['#제주도', '#한라궁호텔', '#한라궁', '#제주숙소', '#감성숙소', '...</td>\n",
              "      <td>한라궁호텔</td>\n",
              "      <td>2</td>\n",
              "      <td>제주특별자치도 서귀포시 정방연로 6</td>\n",
              "    </tr>\n",
              "  </tbody>\n",
              "</table>\n",
              "<p>609 rows × 8 columns</p>\n",
              "</div>"
            ],
            "text/plain": [
              "     Unnamed: 0  ...                   place\n",
              "0             0  ...                     NaN\n",
              "1             1  ...                     NaN\n",
              "2             2  ...  제주특별자치도 제주시 구좌읍 계룡길 32\n",
              "3             3  ...                     NaN\n",
              "4             4  ...                     NaN\n",
              "..          ...  ...                     ...\n",
              "604         604  ...                     NaN\n",
              "605         605  ...      강원도 춘천시 서면 경춘로 405\n",
              "606         606  ...                     NaN\n",
              "607         607  ...  강원도 강릉시 사천면 중앙서로 92-43\n",
              "608         608  ...     제주특별자치도 서귀포시 정방연로 6\n",
              "\n",
              "[609 rows x 8 columns]"
            ]
          },
          "metadata": {},
          "execution_count": 19
        }
      ]
    },
    {
      "cell_type": "code",
      "metadata": {
        "colab": {
          "base_uri": "https://localhost:8080/"
        },
        "id": "sUrbjnVosFMa",
        "outputId": "b895a6c5-ee5b-424c-f6b5-4ceb6a666997"
      },
      "source": [
        "# 1차 클린징(영어, 특수문자, 숫자제거)\n",
        "for i in range(len(insta_data.content)):\n",
        "  insta_data.content[i] = sub_special(insta_data.content[i])"
      ],
      "execution_count": 20,
      "outputs": [
        {
          "output_type": "stream",
          "name": "stderr",
          "text": [
            "/usr/local/lib/python3.7/dist-packages/ipykernel_launcher.py:3: SettingWithCopyWarning: \n",
            "A value is trying to be set on a copy of a slice from a DataFrame\n",
            "\n",
            "See the caveats in the documentation: https://pandas.pydata.org/pandas-docs/stable/user_guide/indexing.html#returning-a-view-versus-a-copy\n",
            "  This is separate from the ipykernel package so we can avoid doing imports until\n"
          ]
        }
      ]
    },
    {
      "cell_type": "code",
      "metadata": {
        "colab": {
          "base_uri": "https://localhost:8080/"
        },
        "id": "fiSI3WnPtlHZ",
        "outputId": "760b8507-2338-4fec-c3a0-68f940140127"
      },
      "source": [
        "# 토큰화\n",
        "for i in range(len(insta_data.content)):\n",
        "  insta_data.content[i]= tokenize(insta_data.content[i])"
      ],
      "execution_count": 21,
      "outputs": [
        {
          "output_type": "stream",
          "name": "stderr",
          "text": [
            "/usr/local/lib/python3.7/dist-packages/ipykernel_launcher.py:3: SettingWithCopyWarning: \n",
            "A value is trying to be set on a copy of a slice from a DataFrame\n",
            "\n",
            "See the caveats in the documentation: https://pandas.pydata.org/pandas-docs/stable/user_guide/indexing.html#returning-a-view-versus-a-copy\n",
            "  This is separate from the ipykernel package so we can avoid doing imports until\n"
          ]
        }
      ]
    },
    {
      "cell_type": "code",
      "metadata": {
        "colab": {
          "base_uri": "https://localhost:8080/"
        },
        "id": "pHchHAcSt6k9",
        "outputId": "3d2773ea-6055-4995-9919-1a958cc10ef4"
      },
      "source": [
        "# 2차 클린징(불용어 처리)\n",
        "word_cleansing(insta_data)"
      ],
      "execution_count": 22,
      "outputs": [
        {
          "output_type": "stream",
          "name": "stderr",
          "text": [
            "/usr/local/lib/python3.7/dist-packages/ipykernel_launcher.py:7: SettingWithCopyWarning: \n",
            "A value is trying to be set on a copy of a slice from a DataFrame\n",
            "\n",
            "See the caveats in the documentation: https://pandas.pydata.org/pandas-docs/stable/user_guide/indexing.html#returning-a-view-versus-a-copy\n",
            "  import sys\n"
          ]
        }
      ]
    },
    {
      "cell_type": "code",
      "metadata": {
        "colab": {
          "base_uri": "https://localhost:8080/"
        },
        "id": "Fk-Griq4vKNg",
        "outputId": "8caca76a-436b-493d-9d18-fc7c6bcce202"
      },
      "source": [
        "insta_data.content"
      ],
      "execution_count": 23,
      "outputs": [
        {
          "output_type": "execute_result",
          "data": {
            "text/plain": [
              "0      [파도의무늬오션뷰, 무늬, 무늬, 물결, 일렁이다, 반짝거리다, 철썩, 철썩, 치다...\n",
              "1      [시호일시간, 흔적, 담다, 시호, 시호, 번화가, 유명, 흔적, 품다, 주택, 상...\n",
              "2      [까맣다, 돌멩이, 조식, 예쁘다, 까맣다, 돌멩이, 까맣다, 돌멩이, 가족, 커플...\n",
              "3      [권장, 가득, 권장, 권장, 자연경관, 두르다, 쌓이다, 마당, 힐, 링, 판, ...\n",
              "4      [라온가, 따뜻, 힐링, 라온, 온, 주택, 개조, 라온, 우리말, 즐겁다, 뜻, ...\n",
              "                             ...                        \n",
              "604    [폭, 그림, 오션뷰, 액자, 창문, 너머, 바다, 감성숙소랍니돠, 미니멀리즘, 추...\n",
              "605    [리버뷰, 피그멜리온이펙, 트다, 리버, 마운틴뷰, 월풀스파, 즐기다, 뷰맛, 원룸...\n",
              "606    [시골, 동네, 오붓, 편안, 밤, 논밭뷰, 여유, 만끽, 힐링, 게스트하우스, 사...\n",
              "607    [다녀오다, 웨딩촬영지, 유명, 더브리앙, 뜨다, 화이트, 앤, 우드, 톤, 좋아하...\n",
              "608    [고풍스, 런, 미칀, 한옥뷰, 한라궁, 아침, 눈, 뜨다, 한옥정원뷰, 제주오션뷰...\n",
              "Name: content, Length: 609, dtype: object"
            ]
          },
          "metadata": {},
          "execution_count": 23
        }
      ]
    },
    {
      "cell_type": "code",
      "metadata": {
        "id": "nJ_1SlAbvcad"
      },
      "source": [
        "n_content = pd.DataFrame(naver_data.copy())\n",
        "i_content = pd.DataFrame(insta_data.content.copy())"
      ],
      "execution_count": 24,
      "outputs": []
    },
    {
      "cell_type": "code",
      "metadata": {
        "id": "D-UzWRAbKQyr"
      },
      "source": [
        "i_data = pd.DataFrame(insta_data[['Unnamed: 0', 'content']].copy())"
      ],
      "execution_count": 63,
      "outputs": []
    },
    {
      "cell_type": "code",
      "metadata": {
        "id": "i3JbNSoBKkp9"
      },
      "source": [
        "i_data.columns = ['item_idx', 'content']"
      ],
      "execution_count": 65,
      "outputs": []
    },
    {
      "cell_type": "code",
      "metadata": {
        "colab": {
          "base_uri": "https://localhost:8080/",
          "height": 423
        },
        "id": "4chsKh8FKtwQ",
        "outputId": "c03b8259-df03-4251-f714-77e952ce50bb"
      },
      "source": [
        "i_data"
      ],
      "execution_count": 66,
      "outputs": [
        {
          "output_type": "execute_result",
          "data": {
            "text/html": [
              "<div>\n",
              "<style scoped>\n",
              "    .dataframe tbody tr th:only-of-type {\n",
              "        vertical-align: middle;\n",
              "    }\n",
              "\n",
              "    .dataframe tbody tr th {\n",
              "        vertical-align: top;\n",
              "    }\n",
              "\n",
              "    .dataframe thead th {\n",
              "        text-align: right;\n",
              "    }\n",
              "</style>\n",
              "<table border=\"1\" class=\"dataframe\">\n",
              "  <thead>\n",
              "    <tr style=\"text-align: right;\">\n",
              "      <th></th>\n",
              "      <th>item_idx</th>\n",
              "      <th>content</th>\n",
              "    </tr>\n",
              "  </thead>\n",
              "  <tbody>\n",
              "    <tr>\n",
              "      <th>0</th>\n",
              "      <td>0</td>\n",
              "      <td>[파도의무늬오션뷰, 무늬, 무늬, 물결, 일렁이다, 반짝거리다, 철썩, 철썩, 치다...</td>\n",
              "    </tr>\n",
              "    <tr>\n",
              "      <th>1</th>\n",
              "      <td>1</td>\n",
              "      <td>[시호일시간, 흔적, 담다, 시호, 시호, 번화가, 유명, 흔적, 품다, 주택, 상...</td>\n",
              "    </tr>\n",
              "    <tr>\n",
              "      <th>2</th>\n",
              "      <td>2</td>\n",
              "      <td>[까맣다, 돌멩이, 조식, 예쁘다, 까맣다, 돌멩이, 까맣다, 돌멩이, 가족, 커플...</td>\n",
              "    </tr>\n",
              "    <tr>\n",
              "      <th>3</th>\n",
              "      <td>3</td>\n",
              "      <td>[권장, 가득, 권장, 권장, 자연경관, 두르다, 쌓이다, 마당, 힐, 링, 판, ...</td>\n",
              "    </tr>\n",
              "    <tr>\n",
              "      <th>4</th>\n",
              "      <td>4</td>\n",
              "      <td>[라온가, 따뜻, 힐링, 라온, 온, 주택, 개조, 라온, 우리말, 즐겁다, 뜻, ...</td>\n",
              "    </tr>\n",
              "    <tr>\n",
              "      <th>...</th>\n",
              "      <td>...</td>\n",
              "      <td>...</td>\n",
              "    </tr>\n",
              "    <tr>\n",
              "      <th>604</th>\n",
              "      <td>604</td>\n",
              "      <td>[폭, 그림, 오션뷰, 액자, 창문, 너머, 바다, 감성숙소랍니돠, 미니멀리즘, 추...</td>\n",
              "    </tr>\n",
              "    <tr>\n",
              "      <th>605</th>\n",
              "      <td>605</td>\n",
              "      <td>[리버뷰, 피그멜리온이펙, 트다, 리버, 마운틴뷰, 월풀스파, 즐기다, 뷰맛, 원룸...</td>\n",
              "    </tr>\n",
              "    <tr>\n",
              "      <th>606</th>\n",
              "      <td>606</td>\n",
              "      <td>[시골, 동네, 오붓, 편안, 밤, 논밭뷰, 여유, 만끽, 힐링, 게스트하우스, 사...</td>\n",
              "    </tr>\n",
              "    <tr>\n",
              "      <th>607</th>\n",
              "      <td>607</td>\n",
              "      <td>[다녀오다, 웨딩촬영지, 유명, 더브리앙, 뜨다, 화이트, 앤, 우드, 톤, 좋아하...</td>\n",
              "    </tr>\n",
              "    <tr>\n",
              "      <th>608</th>\n",
              "      <td>608</td>\n",
              "      <td>[고풍스, 런, 미칀, 한옥뷰, 한라궁, 아침, 눈, 뜨다, 한옥정원뷰, 제주오션뷰...</td>\n",
              "    </tr>\n",
              "  </tbody>\n",
              "</table>\n",
              "<p>609 rows × 2 columns</p>\n",
              "</div>"
            ],
            "text/plain": [
              "     item_idx                                            content\n",
              "0           0  [파도의무늬오션뷰, 무늬, 무늬, 물결, 일렁이다, 반짝거리다, 철썩, 철썩, 치다...\n",
              "1           1  [시호일시간, 흔적, 담다, 시호, 시호, 번화가, 유명, 흔적, 품다, 주택, 상...\n",
              "2           2  [까맣다, 돌멩이, 조식, 예쁘다, 까맣다, 돌멩이, 까맣다, 돌멩이, 가족, 커플...\n",
              "3           3  [권장, 가득, 권장, 권장, 자연경관, 두르다, 쌓이다, 마당, 힐, 링, 판, ...\n",
              "4           4  [라온가, 따뜻, 힐링, 라온, 온, 주택, 개조, 라온, 우리말, 즐겁다, 뜻, ...\n",
              "..        ...                                                ...\n",
              "604       604  [폭, 그림, 오션뷰, 액자, 창문, 너머, 바다, 감성숙소랍니돠, 미니멀리즘, 추...\n",
              "605       605  [리버뷰, 피그멜리온이펙, 트다, 리버, 마운틴뷰, 월풀스파, 즐기다, 뷰맛, 원룸...\n",
              "606       606  [시골, 동네, 오붓, 편안, 밤, 논밭뷰, 여유, 만끽, 힐링, 게스트하우스, 사...\n",
              "607       607  [다녀오다, 웨딩촬영지, 유명, 더브리앙, 뜨다, 화이트, 앤, 우드, 톤, 좋아하...\n",
              "608       608  [고풍스, 런, 미칀, 한옥뷰, 한라궁, 아침, 눈, 뜨다, 한옥정원뷰, 제주오션뷰...\n",
              "\n",
              "[609 rows x 2 columns]"
            ]
          },
          "metadata": {},
          "execution_count": 66
        }
      ]
    },
    {
      "cell_type": "code",
      "metadata": {
        "colab": {
          "base_uri": "https://localhost:8080/",
          "height": 423
        },
        "id": "A_vIYw3RwKry",
        "outputId": "d4a5c151-d3a0-41c7-97ad-5a91b02030d6"
      },
      "source": [
        "n_content"
      ],
      "execution_count": 25,
      "outputs": [
        {
          "output_type": "execute_result",
          "data": {
            "text/html": [
              "<div>\n",
              "<style scoped>\n",
              "    .dataframe tbody tr th:only-of-type {\n",
              "        vertical-align: middle;\n",
              "    }\n",
              "\n",
              "    .dataframe tbody tr th {\n",
              "        vertical-align: top;\n",
              "    }\n",
              "\n",
              "    .dataframe thead th {\n",
              "        text-align: right;\n",
              "    }\n",
              "</style>\n",
              "<table border=\"1\" class=\"dataframe\">\n",
              "  <thead>\n",
              "    <tr style=\"text-align: right;\">\n",
              "      <th></th>\n",
              "      <th>content</th>\n",
              "    </tr>\n",
              "  </thead>\n",
              "  <tbody>\n",
              "    <tr>\n",
              "      <th>0</th>\n",
              "      <td>[여행, 다녀오다, 게으르다, 여행, 고민, 바라다, 올리다, 오늘, 리뷰, 편안,...</td>\n",
              "    </tr>\n",
              "    <tr>\n",
              "      <th>1</th>\n",
              "      <td>[다녀오다, 후기, 휴가, 틈나다, 호캉스, 다녀오다, 다녀오다, 주변, 아고다, ...</td>\n",
              "    </tr>\n",
              "    <tr>\n",
              "      <th>2</th>\n",
              "      <td>[여행, 고르다, 아무래도, 여행, 주제, 자체, 쉬, 편안, 쉬다, 중요, 부분,...</td>\n",
              "    </tr>\n",
              "    <tr>\n",
              "      <th>3</th>\n",
              "      <td>[오늘, 지나다, 휴가, 찐친, 다녀오다, 메이킷슬, 후기, 돈, 산, 인테리어, ...</td>\n",
              "    </tr>\n",
              "    <tr>\n",
              "      <th>4</th>\n",
              "      <td>[지인, 소개, 시우재, 마침, 이것저것, 기념일, 재다, 다녀오다, 멀리, 놀다,...</td>\n",
              "    </tr>\n",
              "    <tr>\n",
              "      <th>...</th>\n",
              "      <td>...</td>\n",
              "    </tr>\n",
              "    <tr>\n",
              "      <th>3731</th>\n",
              "      <td>[국내, 여행지, 여행, 맨션자두, 들어가다, 커다랗다, 널판지, 깔다, 발, 편하...</td>\n",
              "    </tr>\n",
              "    <tr>\n",
              "      <th>3732</th>\n",
              "      <td>[영이, 분기, 여행, 스테이솔, 여행지, 영이, 퇴근, 오빠, 먼저, 카페, 데이...</td>\n",
              "    </tr>\n",
              "    <tr>\n",
              "      <th>3733</th>\n",
              "      <td>[다귀, 쉼터, 오늘, 하얗다, 외관, 매듭, 스무, 시장, 포장, 시장, 네비찍,...</td>\n",
              "    </tr>\n",
              "    <tr>\n",
              "      <th>3734</th>\n",
              "      <td>[아파트먼트, 여행, 자주, 불구, 잡다, 놀다, 처음, 고르다, 급하다, 잡다, ...</td>\n",
              "    </tr>\n",
              "    <tr>\n",
              "      <th>3735</th>\n",
              "      <td>[포도봉, 미루다, 미루다, 숙소콕, 여행, 다행, 맞추다, 다녀오다, 예쁘다, 룰...</td>\n",
              "    </tr>\n",
              "  </tbody>\n",
              "</table>\n",
              "<p>3736 rows × 1 columns</p>\n",
              "</div>"
            ],
            "text/plain": [
              "                                                content\n",
              "0     [여행, 다녀오다, 게으르다, 여행, 고민, 바라다, 올리다, 오늘, 리뷰, 편안,...\n",
              "1     [다녀오다, 후기, 휴가, 틈나다, 호캉스, 다녀오다, 다녀오다, 주변, 아고다, ...\n",
              "2     [여행, 고르다, 아무래도, 여행, 주제, 자체, 쉬, 편안, 쉬다, 중요, 부분,...\n",
              "3     [오늘, 지나다, 휴가, 찐친, 다녀오다, 메이킷슬, 후기, 돈, 산, 인테리어, ...\n",
              "4     [지인, 소개, 시우재, 마침, 이것저것, 기념일, 재다, 다녀오다, 멀리, 놀다,...\n",
              "...                                                 ...\n",
              "3731  [국내, 여행지, 여행, 맨션자두, 들어가다, 커다랗다, 널판지, 깔다, 발, 편하...\n",
              "3732  [영이, 분기, 여행, 스테이솔, 여행지, 영이, 퇴근, 오빠, 먼저, 카페, 데이...\n",
              "3733  [다귀, 쉼터, 오늘, 하얗다, 외관, 매듭, 스무, 시장, 포장, 시장, 네비찍,...\n",
              "3734  [아파트먼트, 여행, 자주, 불구, 잡다, 놀다, 처음, 고르다, 급하다, 잡다, ...\n",
              "3735  [포도봉, 미루다, 미루다, 숙소콕, 여행, 다행, 맞추다, 다녀오다, 예쁘다, 룰...\n",
              "\n",
              "[3736 rows x 1 columns]"
            ]
          },
          "metadata": {},
          "execution_count": 25
        }
      ]
    },
    {
      "cell_type": "code",
      "metadata": {
        "colab": {
          "base_uri": "https://localhost:8080/",
          "height": 423
        },
        "id": "wIScT-Te38u_",
        "outputId": "26abfdd9-17ed-4669-95ae-ff16dcc55655"
      },
      "source": [
        "i_content"
      ],
      "execution_count": 26,
      "outputs": [
        {
          "output_type": "execute_result",
          "data": {
            "text/html": [
              "<div>\n",
              "<style scoped>\n",
              "    .dataframe tbody tr th:only-of-type {\n",
              "        vertical-align: middle;\n",
              "    }\n",
              "\n",
              "    .dataframe tbody tr th {\n",
              "        vertical-align: top;\n",
              "    }\n",
              "\n",
              "    .dataframe thead th {\n",
              "        text-align: right;\n",
              "    }\n",
              "</style>\n",
              "<table border=\"1\" class=\"dataframe\">\n",
              "  <thead>\n",
              "    <tr style=\"text-align: right;\">\n",
              "      <th></th>\n",
              "      <th>content</th>\n",
              "    </tr>\n",
              "  </thead>\n",
              "  <tbody>\n",
              "    <tr>\n",
              "      <th>0</th>\n",
              "      <td>[파도의무늬오션뷰, 무늬, 무늬, 물결, 일렁이다, 반짝거리다, 철썩, 철썩, 치다...</td>\n",
              "    </tr>\n",
              "    <tr>\n",
              "      <th>1</th>\n",
              "      <td>[시호일시간, 흔적, 담다, 시호, 시호, 번화가, 유명, 흔적, 품다, 주택, 상...</td>\n",
              "    </tr>\n",
              "    <tr>\n",
              "      <th>2</th>\n",
              "      <td>[까맣다, 돌멩이, 조식, 예쁘다, 까맣다, 돌멩이, 까맣다, 돌멩이, 가족, 커플...</td>\n",
              "    </tr>\n",
              "    <tr>\n",
              "      <th>3</th>\n",
              "      <td>[권장, 가득, 권장, 권장, 자연경관, 두르다, 쌓이다, 마당, 힐, 링, 판, ...</td>\n",
              "    </tr>\n",
              "    <tr>\n",
              "      <th>4</th>\n",
              "      <td>[라온가, 따뜻, 힐링, 라온, 온, 주택, 개조, 라온, 우리말, 즐겁다, 뜻, ...</td>\n",
              "    </tr>\n",
              "    <tr>\n",
              "      <th>...</th>\n",
              "      <td>...</td>\n",
              "    </tr>\n",
              "    <tr>\n",
              "      <th>604</th>\n",
              "      <td>[폭, 그림, 오션뷰, 액자, 창문, 너머, 바다, 감성숙소랍니돠, 미니멀리즘, 추...</td>\n",
              "    </tr>\n",
              "    <tr>\n",
              "      <th>605</th>\n",
              "      <td>[리버뷰, 피그멜리온이펙, 트다, 리버, 마운틴뷰, 월풀스파, 즐기다, 뷰맛, 원룸...</td>\n",
              "    </tr>\n",
              "    <tr>\n",
              "      <th>606</th>\n",
              "      <td>[시골, 동네, 오붓, 편안, 밤, 논밭뷰, 여유, 만끽, 힐링, 게스트하우스, 사...</td>\n",
              "    </tr>\n",
              "    <tr>\n",
              "      <th>607</th>\n",
              "      <td>[다녀오다, 웨딩촬영지, 유명, 더브리앙, 뜨다, 화이트, 앤, 우드, 톤, 좋아하...</td>\n",
              "    </tr>\n",
              "    <tr>\n",
              "      <th>608</th>\n",
              "      <td>[고풍스, 런, 미칀, 한옥뷰, 한라궁, 아침, 눈, 뜨다, 한옥정원뷰, 제주오션뷰...</td>\n",
              "    </tr>\n",
              "  </tbody>\n",
              "</table>\n",
              "<p>609 rows × 1 columns</p>\n",
              "</div>"
            ],
            "text/plain": [
              "                                               content\n",
              "0    [파도의무늬오션뷰, 무늬, 무늬, 물결, 일렁이다, 반짝거리다, 철썩, 철썩, 치다...\n",
              "1    [시호일시간, 흔적, 담다, 시호, 시호, 번화가, 유명, 흔적, 품다, 주택, 상...\n",
              "2    [까맣다, 돌멩이, 조식, 예쁘다, 까맣다, 돌멩이, 까맣다, 돌멩이, 가족, 커플...\n",
              "3    [권장, 가득, 권장, 권장, 자연경관, 두르다, 쌓이다, 마당, 힐, 링, 판, ...\n",
              "4    [라온가, 따뜻, 힐링, 라온, 온, 주택, 개조, 라온, 우리말, 즐겁다, 뜻, ...\n",
              "..                                                 ...\n",
              "604  [폭, 그림, 오션뷰, 액자, 창문, 너머, 바다, 감성숙소랍니돠, 미니멀리즘, 추...\n",
              "605  [리버뷰, 피그멜리온이펙, 트다, 리버, 마운틴뷰, 월풀스파, 즐기다, 뷰맛, 원룸...\n",
              "606  [시골, 동네, 오붓, 편안, 밤, 논밭뷰, 여유, 만끽, 힐링, 게스트하우스, 사...\n",
              "607  [다녀오다, 웨딩촬영지, 유명, 더브리앙, 뜨다, 화이트, 앤, 우드, 톤, 좋아하...\n",
              "608  [고풍스, 런, 미칀, 한옥뷰, 한라궁, 아침, 눈, 뜨다, 한옥정원뷰, 제주오션뷰...\n",
              "\n",
              "[609 rows x 1 columns]"
            ]
          },
          "metadata": {},
          "execution_count": 26
        }
      ]
    },
    {
      "cell_type": "code",
      "metadata": {
        "id": "zlSEkyQWv5UW"
      },
      "source": [
        "all_content = pd.concat([i_content, n_content])"
      ],
      "execution_count": 27,
      "outputs": []
    },
    {
      "cell_type": "code",
      "metadata": {
        "id": "RDTLKUkhLSqc"
      },
      "source": [
        "all_items = pd.concat([i_data, n_content])"
      ],
      "execution_count": 67,
      "outputs": []
    },
    {
      "cell_type": "code",
      "metadata": {
        "colab": {
          "base_uri": "https://localhost:8080/",
          "height": 423
        },
        "id": "AJt7NEhpLaRy",
        "outputId": "29bba3f6-0656-47b0-c597-7f2b80d06d44"
      },
      "source": [
        "all_items"
      ],
      "execution_count": 68,
      "outputs": [
        {
          "output_type": "execute_result",
          "data": {
            "text/html": [
              "<div>\n",
              "<style scoped>\n",
              "    .dataframe tbody tr th:only-of-type {\n",
              "        vertical-align: middle;\n",
              "    }\n",
              "\n",
              "    .dataframe tbody tr th {\n",
              "        vertical-align: top;\n",
              "    }\n",
              "\n",
              "    .dataframe thead th {\n",
              "        text-align: right;\n",
              "    }\n",
              "</style>\n",
              "<table border=\"1\" class=\"dataframe\">\n",
              "  <thead>\n",
              "    <tr style=\"text-align: right;\">\n",
              "      <th></th>\n",
              "      <th>item_idx</th>\n",
              "      <th>content</th>\n",
              "    </tr>\n",
              "  </thead>\n",
              "  <tbody>\n",
              "    <tr>\n",
              "      <th>0</th>\n",
              "      <td>0.0</td>\n",
              "      <td>[파도의무늬오션뷰, 무늬, 무늬, 물결, 일렁이다, 반짝거리다, 철썩, 철썩, 치다...</td>\n",
              "    </tr>\n",
              "    <tr>\n",
              "      <th>1</th>\n",
              "      <td>1.0</td>\n",
              "      <td>[시호일시간, 흔적, 담다, 시호, 시호, 번화가, 유명, 흔적, 품다, 주택, 상...</td>\n",
              "    </tr>\n",
              "    <tr>\n",
              "      <th>2</th>\n",
              "      <td>2.0</td>\n",
              "      <td>[까맣다, 돌멩이, 조식, 예쁘다, 까맣다, 돌멩이, 까맣다, 돌멩이, 가족, 커플...</td>\n",
              "    </tr>\n",
              "    <tr>\n",
              "      <th>3</th>\n",
              "      <td>3.0</td>\n",
              "      <td>[권장, 가득, 권장, 권장, 자연경관, 두르다, 쌓이다, 마당, 힐, 링, 판, ...</td>\n",
              "    </tr>\n",
              "    <tr>\n",
              "      <th>4</th>\n",
              "      <td>4.0</td>\n",
              "      <td>[라온가, 따뜻, 힐링, 라온, 온, 주택, 개조, 라온, 우리말, 즐겁다, 뜻, ...</td>\n",
              "    </tr>\n",
              "    <tr>\n",
              "      <th>...</th>\n",
              "      <td>...</td>\n",
              "      <td>...</td>\n",
              "    </tr>\n",
              "    <tr>\n",
              "      <th>3731</th>\n",
              "      <td>NaN</td>\n",
              "      <td>[국내, 여행지, 여행, 맨션자두, 들어가다, 커다랗다, 널판지, 깔다, 발, 편하...</td>\n",
              "    </tr>\n",
              "    <tr>\n",
              "      <th>3732</th>\n",
              "      <td>NaN</td>\n",
              "      <td>[영이, 분기, 여행, 스테이솔, 여행지, 영이, 퇴근, 오빠, 먼저, 카페, 데이...</td>\n",
              "    </tr>\n",
              "    <tr>\n",
              "      <th>3733</th>\n",
              "      <td>NaN</td>\n",
              "      <td>[다귀, 쉼터, 오늘, 하얗다, 외관, 매듭, 스무, 시장, 포장, 시장, 네비찍,...</td>\n",
              "    </tr>\n",
              "    <tr>\n",
              "      <th>3734</th>\n",
              "      <td>NaN</td>\n",
              "      <td>[아파트먼트, 여행, 자주, 불구, 잡다, 놀다, 처음, 고르다, 급하다, 잡다, ...</td>\n",
              "    </tr>\n",
              "    <tr>\n",
              "      <th>3735</th>\n",
              "      <td>NaN</td>\n",
              "      <td>[포도봉, 미루다, 미루다, 숙소콕, 여행, 다행, 맞추다, 다녀오다, 예쁘다, 룰...</td>\n",
              "    </tr>\n",
              "  </tbody>\n",
              "</table>\n",
              "<p>4345 rows × 2 columns</p>\n",
              "</div>"
            ],
            "text/plain": [
              "      item_idx                                            content\n",
              "0          0.0  [파도의무늬오션뷰, 무늬, 무늬, 물결, 일렁이다, 반짝거리다, 철썩, 철썩, 치다...\n",
              "1          1.0  [시호일시간, 흔적, 담다, 시호, 시호, 번화가, 유명, 흔적, 품다, 주택, 상...\n",
              "2          2.0  [까맣다, 돌멩이, 조식, 예쁘다, 까맣다, 돌멩이, 까맣다, 돌멩이, 가족, 커플...\n",
              "3          3.0  [권장, 가득, 권장, 권장, 자연경관, 두르다, 쌓이다, 마당, 힐, 링, 판, ...\n",
              "4          4.0  [라온가, 따뜻, 힐링, 라온, 온, 주택, 개조, 라온, 우리말, 즐겁다, 뜻, ...\n",
              "...        ...                                                ...\n",
              "3731       NaN  [국내, 여행지, 여행, 맨션자두, 들어가다, 커다랗다, 널판지, 깔다, 발, 편하...\n",
              "3732       NaN  [영이, 분기, 여행, 스테이솔, 여행지, 영이, 퇴근, 오빠, 먼저, 카페, 데이...\n",
              "3733       NaN  [다귀, 쉼터, 오늘, 하얗다, 외관, 매듭, 스무, 시장, 포장, 시장, 네비찍,...\n",
              "3734       NaN  [아파트먼트, 여행, 자주, 불구, 잡다, 놀다, 처음, 고르다, 급하다, 잡다, ...\n",
              "3735       NaN  [포도봉, 미루다, 미루다, 숙소콕, 여행, 다행, 맞추다, 다녀오다, 예쁘다, 룰...\n",
              "\n",
              "[4345 rows x 2 columns]"
            ]
          },
          "metadata": {},
          "execution_count": 68
        }
      ]
    },
    {
      "cell_type": "code",
      "metadata": {
        "id": "YvqkkPwev_yY"
      },
      "source": [
        "all_content.reset_index(drop=True, inplace=True)"
      ],
      "execution_count": 28,
      "outputs": []
    },
    {
      "cell_type": "code",
      "metadata": {
        "id": "Lra3uwXzLjJ7"
      },
      "source": [
        "all_items.reset_index(drop=True, inplace=True)"
      ],
      "execution_count": 69,
      "outputs": []
    },
    {
      "cell_type": "code",
      "metadata": {
        "id": "__uiFzIy4Yp_"
      },
      "source": [
        "drop = [index for index in range(len(all_content)) if len(all_content.content[index]) < 1] #빈 샘플 제거"
      ],
      "execution_count": 38,
      "outputs": []
    },
    {
      "cell_type": "code",
      "metadata": {
        "id": "ayTXNoHYLnLw"
      },
      "source": [
        "drop = [index for index in range(len(all_items)) if len(all_items.content[index]) < 1] #빈 샘플 제거"
      ],
      "execution_count": 77,
      "outputs": []
    },
    {
      "cell_type": "code",
      "metadata": {
        "colab": {
          "base_uri": "https://localhost:8080/"
        },
        "id": "JCRWZp_L5eC5",
        "outputId": "7895d751-90a6-41e6-8992-13d0ea312cd8"
      },
      "source": [
        "drop"
      ],
      "execution_count": 78,
      "outputs": [
        {
          "output_type": "execute_result",
          "data": {
            "text/plain": [
              "[4008]"
            ]
          },
          "metadata": {},
          "execution_count": 78
        }
      ]
    },
    {
      "cell_type": "code",
      "metadata": {
        "id": "1OBPQPEx5SEg"
      },
      "source": [
        "# 빈 샘플 제거\n",
        "for i in drop:\n",
        "  all_content.drop(all_content.index[i], inplace=True)"
      ],
      "execution_count": 40,
      "outputs": []
    },
    {
      "cell_type": "code",
      "metadata": {
        "id": "9QqQHi_YLuNd"
      },
      "source": [
        "# 빈 샘플 제거\n",
        "for i in drop:\n",
        "  all_items.drop(all_items.index[i], inplace=True)"
      ],
      "execution_count": 79,
      "outputs": []
    },
    {
      "cell_type": "code",
      "metadata": {
        "id": "gvn_z3L65360"
      },
      "source": [
        "all_content.reset_index(drop=True, inplace=True)"
      ],
      "execution_count": 74,
      "outputs": []
    },
    {
      "cell_type": "code",
      "metadata": {
        "id": "iCVAVsA8L3vf"
      },
      "source": [
        "all_items.reset_index(drop=True, inplace=True)"
      ],
      "execution_count": 80,
      "outputs": []
    },
    {
      "cell_type": "markdown",
      "metadata": {
        "id": "_3AkmoStWmyV"
      },
      "source": [
        "#TOMOTOPY_LDA_KIWI"
      ]
    },
    {
      "cell_type": "code",
      "metadata": {
        "colab": {
          "base_uri": "https://localhost:8080/"
        },
        "id": "oBMHoNby5xXe",
        "outputId": "21f68f3f-847f-416a-d423-8ec06c0c3210"
      },
      "source": [
        "len(all_content.content[0])"
      ],
      "execution_count": 33,
      "outputs": [
        {
          "output_type": "execute_result",
          "data": {
            "text/plain": [
              "58"
            ]
          },
          "metadata": {},
          "execution_count": 33
        }
      ]
    },
    {
      "cell_type": "code",
      "metadata": {
        "id": "m1EIcf3rWmyW",
        "colab": {
          "base_uri": "https://localhost:8080/"
        },
        "outputId": "67a61538-9f5e-4990-bf4a-631dca75afae"
      },
      "source": [
        "for i in range(len(all_content)): # 빈 리스트 확인\n",
        "  if len(all_content.content[i]) < 1:\n",
        "    print(i)"
      ],
      "execution_count": 34,
      "outputs": [
        {
          "output_type": "stream",
          "name": "stdout",
          "text": [
            "4008\n"
          ]
        }
      ]
    },
    {
      "cell_type": "code",
      "metadata": {
        "id": "6HqPfZoseNDI",
        "colab": {
          "base_uri": "https://localhost:8080/",
          "height": 423
        },
        "outputId": "72d160ca-888c-44e0-d095-ca3ff5f910d0"
      },
      "source": [
        "all_content"
      ],
      "execution_count": 48,
      "outputs": [
        {
          "output_type": "execute_result",
          "data": {
            "text/html": [
              "<div>\n",
              "<style scoped>\n",
              "    .dataframe tbody tr th:only-of-type {\n",
              "        vertical-align: middle;\n",
              "    }\n",
              "\n",
              "    .dataframe tbody tr th {\n",
              "        vertical-align: top;\n",
              "    }\n",
              "\n",
              "    .dataframe thead th {\n",
              "        text-align: right;\n",
              "    }\n",
              "</style>\n",
              "<table border=\"1\" class=\"dataframe\">\n",
              "  <thead>\n",
              "    <tr style=\"text-align: right;\">\n",
              "      <th></th>\n",
              "      <th>content</th>\n",
              "    </tr>\n",
              "  </thead>\n",
              "  <tbody>\n",
              "    <tr>\n",
              "      <th>0</th>\n",
              "      <td>[파도의무늬오션뷰, 무늬, 무늬, 물결, 일렁이다, 반짝거리다, 철썩, 철썩, 치다...</td>\n",
              "    </tr>\n",
              "    <tr>\n",
              "      <th>1</th>\n",
              "      <td>[시호일시간, 흔적, 담다, 시호, 시호, 번화가, 유명, 흔적, 품다, 주택, 상...</td>\n",
              "    </tr>\n",
              "    <tr>\n",
              "      <th>2</th>\n",
              "      <td>[까맣다, 돌멩이, 조식, 예쁘다, 까맣다, 돌멩이, 까맣다, 돌멩이, 가족, 커플...</td>\n",
              "    </tr>\n",
              "    <tr>\n",
              "      <th>3</th>\n",
              "      <td>[권장, 가득, 권장, 권장, 자연경관, 두르다, 쌓이다, 마당, 힐, 링, 판, ...</td>\n",
              "    </tr>\n",
              "    <tr>\n",
              "      <th>4</th>\n",
              "      <td>[라온가, 따뜻, 힐링, 라온, 온, 주택, 개조, 라온, 우리말, 즐겁다, 뜻, ...</td>\n",
              "    </tr>\n",
              "    <tr>\n",
              "      <th>...</th>\n",
              "      <td>...</td>\n",
              "    </tr>\n",
              "    <tr>\n",
              "      <th>4337</th>\n",
              "      <td>[국내, 여행지, 여행, 맨션자두, 들어가다, 커다랗다, 널판지, 깔다, 발, 편하...</td>\n",
              "    </tr>\n",
              "    <tr>\n",
              "      <th>4338</th>\n",
              "      <td>[영이, 분기, 여행, 스테이솔, 여행지, 영이, 퇴근, 오빠, 먼저, 카페, 데이...</td>\n",
              "    </tr>\n",
              "    <tr>\n",
              "      <th>4339</th>\n",
              "      <td>[다귀, 쉼터, 오늘, 하얗다, 외관, 매듭, 스무, 시장, 포장, 시장, 네비찍,...</td>\n",
              "    </tr>\n",
              "    <tr>\n",
              "      <th>4340</th>\n",
              "      <td>[아파트먼트, 여행, 자주, 불구, 잡다, 놀다, 처음, 고르다, 급하다, 잡다, ...</td>\n",
              "    </tr>\n",
              "    <tr>\n",
              "      <th>4341</th>\n",
              "      <td>[포도봉, 미루다, 미루다, 숙소콕, 여행, 다행, 맞추다, 다녀오다, 예쁘다, 룰...</td>\n",
              "    </tr>\n",
              "  </tbody>\n",
              "</table>\n",
              "<p>4342 rows × 1 columns</p>\n",
              "</div>"
            ],
            "text/plain": [
              "                                                content\n",
              "0     [파도의무늬오션뷰, 무늬, 무늬, 물결, 일렁이다, 반짝거리다, 철썩, 철썩, 치다...\n",
              "1     [시호일시간, 흔적, 담다, 시호, 시호, 번화가, 유명, 흔적, 품다, 주택, 상...\n",
              "2     [까맣다, 돌멩이, 조식, 예쁘다, 까맣다, 돌멩이, 까맣다, 돌멩이, 가족, 커플...\n",
              "3     [권장, 가득, 권장, 권장, 자연경관, 두르다, 쌓이다, 마당, 힐, 링, 판, ...\n",
              "4     [라온가, 따뜻, 힐링, 라온, 온, 주택, 개조, 라온, 우리말, 즐겁다, 뜻, ...\n",
              "...                                                 ...\n",
              "4337  [국내, 여행지, 여행, 맨션자두, 들어가다, 커다랗다, 널판지, 깔다, 발, 편하...\n",
              "4338  [영이, 분기, 여행, 스테이솔, 여행지, 영이, 퇴근, 오빠, 먼저, 카페, 데이...\n",
              "4339  [다귀, 쉼터, 오늘, 하얗다, 외관, 매듭, 스무, 시장, 포장, 시장, 네비찍,...\n",
              "4340  [아파트먼트, 여행, 자주, 불구, 잡다, 놀다, 처음, 고르다, 급하다, 잡다, ...\n",
              "4341  [포도봉, 미루다, 미루다, 숙소콕, 여행, 다행, 맞추다, 다녀오다, 예쁘다, 룰...\n",
              "\n",
              "[4342 rows x 1 columns]"
            ]
          },
          "metadata": {},
          "execution_count": 48
        }
      ]
    },
    {
      "cell_type": "code",
      "metadata": {
        "id": "5zK7R2l8WmyW"
      },
      "source": [
        "model = tp.LDAModel(k=10, alpha=0.1, eta=0.01, min_cf=3, )\n",
        "# LDAModel을 생성\n",
        "# 토픽의 개수(k)는 20개, alpha 파라미터는 0.1, eta 파라미터는 0.01\n",
        "# 전체 말뭉치에 5회 미만 등장한 단어들은 제거"
      ],
      "execution_count": 81,
      "outputs": []
    },
    {
      "cell_type": "code",
      "metadata": {
        "id": "Vcfup1psWmyW"
      },
      "source": [
        "for row in all_content.content:\n",
        "    model.add_doc(row) # 행 별로 model에 추가합니다."
      ],
      "execution_count": 51,
      "outputs": []
    },
    {
      "cell_type": "code",
      "metadata": {
        "id": "biG9_DR7L-2T"
      },
      "source": [
        "for row in all_items.content:\n",
        "    model.add_doc(row) # 행 별로 model에 추가합니다."
      ],
      "execution_count": 82,
      "outputs": []
    },
    {
      "cell_type": "code",
      "metadata": {
        "id": "FPiLODgGWmyW",
        "colab": {
          "base_uri": "https://localhost:8080/"
        },
        "outputId": "97e97827-fb6b-44c2-b92e-c5d8c1ae4cbd"
      },
      "source": [
        "# model의 num_words나 num_vocabs 등은 train을 시작해야 확정됩니다.\n",
        "# 따라서 이 값을 확인하기 위해서 train(0)을 하여 실제 train은 하지 않고\n",
        "# 학습 준비만 시킵니다.\n",
        "# num_words, num_vocabs에 관심 없다면 이부분은 생략해도 됩니다.\n",
        "model.train(0) \n",
        "print('Total docs:', len(model.docs))\n",
        "print('Total words:', model.num_words)\n",
        "print('Vocab size:', model.num_vocabs)"
      ],
      "execution_count": 83,
      "outputs": [
        {
          "output_type": "stream",
          "name": "stdout",
          "text": [
            "Total docs: 4342\n",
            "Total words: 875658\n",
            "Vocab size: 14727\n"
          ]
        }
      ]
    },
    {
      "cell_type": "code",
      "metadata": {
        "id": "oOInH6DZWmyW",
        "colab": {
          "base_uri": "https://localhost:8080/"
        },
        "outputId": "f5b02d1b-f71a-47ee-a63d-0f1330443e41"
      },
      "source": [
        "# 다음 구문은 train을 총 200회 반복하면서, \n",
        "# 매 단계별로 로그 가능도 값을 출력해줍니다.\n",
        "# 혹은 단순히 model.train(200)으로 200회 반복도 가능합니다.\n",
        "for i in range(200):\n",
        "    print('Iteration {}\\tLL per word: {}'.format(i, model.ll_per_word))\n",
        "    model.train(1)"
      ],
      "execution_count": 84,
      "outputs": [
        {
          "output_type": "stream",
          "name": "stdout",
          "text": [
            "Iteration 0\tLL per word: -10.551662991336789\n",
            "Iteration 1\tLL per word: -10.218686448354486\n",
            "Iteration 2\tLL per word: -10.002886722402794\n",
            "Iteration 3\tLL per word: -9.838710019271456\n",
            "Iteration 4\tLL per word: -9.712847538840546\n",
            "Iteration 5\tLL per word: -9.608343345698826\n",
            "Iteration 6\tLL per word: -9.520550239053996\n",
            "Iteration 7\tLL per word: -9.445259328779004\n",
            "Iteration 8\tLL per word: -9.371888459823738\n",
            "Iteration 9\tLL per word: -9.301614680807875\n",
            "Iteration 10\tLL per word: -9.216463912278746\n",
            "Iteration 11\tLL per word: -9.180624596299715\n",
            "Iteration 12\tLL per word: -9.139986403461341\n",
            "Iteration 13\tLL per word: -9.101808919250374\n",
            "Iteration 14\tLL per word: -9.067126935475445\n",
            "Iteration 15\tLL per word: -9.032021951753789\n",
            "Iteration 16\tLL per word: -9.001246598285862\n",
            "Iteration 17\tLL per word: -8.973401178911157\n",
            "Iteration 18\tLL per word: -8.946967719245448\n",
            "Iteration 19\tLL per word: -8.923082459156893\n",
            "Iteration 20\tLL per word: -8.89678154841504\n",
            "Iteration 21\tLL per word: -8.880788195619429\n",
            "Iteration 22\tLL per word: -8.862385196296014\n",
            "Iteration 23\tLL per word: -8.841209668087092\n",
            "Iteration 24\tLL per word: -8.822122898082304\n",
            "Iteration 25\tLL per word: -8.802403947426003\n",
            "Iteration 26\tLL per word: -8.785361530479092\n",
            "Iteration 27\tLL per word: -8.770145539542439\n",
            "Iteration 28\tLL per word: -8.754896179222433\n",
            "Iteration 29\tLL per word: -8.742366256759587\n",
            "Iteration 30\tLL per word: -8.726180739817634\n",
            "Iteration 31\tLL per word: -8.71552932140049\n",
            "Iteration 32\tLL per word: -8.705520904597236\n",
            "Iteration 33\tLL per word: -8.691665949917205\n",
            "Iteration 34\tLL per word: -8.682321611449355\n",
            "Iteration 35\tLL per word: -8.669099298156329\n",
            "Iteration 36\tLL per word: -8.65690376986045\n",
            "Iteration 37\tLL per word: -8.650113527310847\n",
            "Iteration 38\tLL per word: -8.641258367007552\n",
            "Iteration 39\tLL per word: -8.633401935343482\n",
            "Iteration 40\tLL per word: -8.62295424091807\n",
            "Iteration 41\tLL per word: -8.614322216839719\n",
            "Iteration 42\tLL per word: -8.60716093238747\n",
            "Iteration 43\tLL per word: -8.599422006747917\n",
            "Iteration 44\tLL per word: -8.590417535063114\n",
            "Iteration 45\tLL per word: -8.586829119171709\n",
            "Iteration 46\tLL per word: -8.578991666409879\n",
            "Iteration 47\tLL per word: -8.573805492374026\n",
            "Iteration 48\tLL per word: -8.569146491433624\n",
            "Iteration 49\tLL per word: -8.5647105551966\n",
            "Iteration 50\tLL per word: -8.560887222081051\n",
            "Iteration 51\tLL per word: -8.557246744439619\n",
            "Iteration 52\tLL per word: -8.553432673565329\n",
            "Iteration 53\tLL per word: -8.548209060275353\n",
            "Iteration 54\tLL per word: -8.542238163506719\n",
            "Iteration 55\tLL per word: -8.535101643152792\n",
            "Iteration 56\tLL per word: -8.527985653376607\n",
            "Iteration 57\tLL per word: -8.525225336157712\n",
            "Iteration 58\tLL per word: -8.521295414756903\n",
            "Iteration 59\tLL per word: -8.51676912932564\n",
            "Iteration 60\tLL per word: -8.511150161263679\n",
            "Iteration 61\tLL per word: -8.508060298145756\n",
            "Iteration 62\tLL per word: -8.504436576373056\n",
            "Iteration 63\tLL per word: -8.502311842429622\n",
            "Iteration 64\tLL per word: -8.499699790378829\n",
            "Iteration 65\tLL per word: -8.49573917777072\n",
            "Iteration 66\tLL per word: -8.49434581912141\n",
            "Iteration 67\tLL per word: -8.489634479647227\n",
            "Iteration 68\tLL per word: -8.486975617009934\n",
            "Iteration 69\tLL per word: -8.483804452523577\n",
            "Iteration 70\tLL per word: -8.481823606035574\n",
            "Iteration 71\tLL per word: -8.480150693964855\n",
            "Iteration 72\tLL per word: -8.47718175848443\n",
            "Iteration 73\tLL per word: -8.475411292217922\n",
            "Iteration 74\tLL per word: -8.47301972924055\n",
            "Iteration 75\tLL per word: -8.473450215054868\n",
            "Iteration 76\tLL per word: -8.470220526244079\n",
            "Iteration 77\tLL per word: -8.46753354566614\n",
            "Iteration 78\tLL per word: -8.46475303220783\n",
            "Iteration 79\tLL per word: -8.462091078763518\n",
            "Iteration 80\tLL per word: -8.461981371293788\n",
            "Iteration 81\tLL per word: -8.459587106330115\n",
            "Iteration 82\tLL per word: -8.457929507832597\n",
            "Iteration 83\tLL per word: -8.45385574636245\n",
            "Iteration 84\tLL per word: -8.452431675796506\n",
            "Iteration 85\tLL per word: -8.450552935936887\n",
            "Iteration 86\tLL per word: -8.44874018019814\n",
            "Iteration 87\tLL per word: -8.446724294736022\n",
            "Iteration 88\tLL per word: -8.44381721370222\n",
            "Iteration 89\tLL per word: -8.441770584218837\n",
            "Iteration 90\tLL per word: -8.439356578580533\n",
            "Iteration 91\tLL per word: -8.43679003440001\n",
            "Iteration 92\tLL per word: -8.433917649212363\n",
            "Iteration 93\tLL per word: -8.431407512599936\n",
            "Iteration 94\tLL per word: -8.431443299291152\n",
            "Iteration 95\tLL per word: -8.428878187350113\n",
            "Iteration 96\tLL per word: -8.428582541726687\n",
            "Iteration 97\tLL per word: -8.429101653770433\n",
            "Iteration 98\tLL per word: -8.427418566205299\n",
            "Iteration 99\tLL per word: -8.424874129106211\n",
            "Iteration 100\tLL per word: -8.423251028405875\n",
            "Iteration 101\tLL per word: -8.420525072442626\n",
            "Iteration 102\tLL per word: -8.419849442523228\n",
            "Iteration 103\tLL per word: -8.419631341484687\n",
            "Iteration 104\tLL per word: -8.417731633891046\n",
            "Iteration 105\tLL per word: -8.416884831690293\n",
            "Iteration 106\tLL per word: -8.415511931632826\n",
            "Iteration 107\tLL per word: -8.41420373862992\n",
            "Iteration 108\tLL per word: -8.411723818370962\n",
            "Iteration 109\tLL per word: -8.40864715283137\n",
            "Iteration 110\tLL per word: -8.408263290544642\n",
            "Iteration 111\tLL per word: -8.408642127225809\n",
            "Iteration 112\tLL per word: -8.408355563053444\n",
            "Iteration 113\tLL per word: -8.406909910131297\n",
            "Iteration 114\tLL per word: -8.406853325276252\n",
            "Iteration 115\tLL per word: -8.40604817814464\n",
            "Iteration 116\tLL per word: -8.404195665318918\n",
            "Iteration 117\tLL per word: -8.40488897330712\n",
            "Iteration 118\tLL per word: -8.404082271823167\n",
            "Iteration 119\tLL per word: -8.401485639046363\n",
            "Iteration 120\tLL per word: -8.401079881788553\n",
            "Iteration 121\tLL per word: -8.400902972193622\n",
            "Iteration 122\tLL per word: -8.398326284369732\n",
            "Iteration 123\tLL per word: -8.396993823351092\n",
            "Iteration 124\tLL per word: -8.396301888801332\n",
            "Iteration 125\tLL per word: -8.394701892951748\n",
            "Iteration 126\tLL per word: -8.393394887259015\n",
            "Iteration 127\tLL per word: -8.393062611313958\n",
            "Iteration 128\tLL per word: -8.393424379167293\n",
            "Iteration 129\tLL per word: -8.39539766273611\n",
            "Iteration 130\tLL per word: -8.393791076330801\n",
            "Iteration 131\tLL per word: -8.393458176766043\n",
            "Iteration 132\tLL per word: -8.392392125549321\n",
            "Iteration 133\tLL per word: -8.392006166172363\n",
            "Iteration 134\tLL per word: -8.389904920291608\n",
            "Iteration 135\tLL per word: -8.391184631103156\n",
            "Iteration 136\tLL per word: -8.38979127464842\n",
            "Iteration 137\tLL per word: -8.391429214506037\n",
            "Iteration 138\tLL per word: -8.391336757023147\n",
            "Iteration 139\tLL per word: -8.389515644523009\n",
            "Iteration 140\tLL per word: -8.387730972498943\n",
            "Iteration 141\tLL per word: -8.388379847442211\n",
            "Iteration 142\tLL per word: -8.388281038692483\n",
            "Iteration 143\tLL per word: -8.384847479302275\n",
            "Iteration 144\tLL per word: -8.38377045970182\n",
            "Iteration 145\tLL per word: -8.385744404307331\n",
            "Iteration 146\tLL per word: -8.385210920117222\n",
            "Iteration 147\tLL per word: -8.384616997155687\n",
            "Iteration 148\tLL per word: -8.38265014021494\n",
            "Iteration 149\tLL per word: -8.381675677934247\n",
            "Iteration 150\tLL per word: -8.381385833083595\n",
            "Iteration 151\tLL per word: -8.380089504918425\n",
            "Iteration 152\tLL per word: -8.380177384849969\n",
            "Iteration 153\tLL per word: -8.379067353315655\n",
            "Iteration 154\tLL per word: -8.37928732086892\n",
            "Iteration 155\tLL per word: -8.37748298648831\n",
            "Iteration 156\tLL per word: -8.377437340393545\n",
            "Iteration 157\tLL per word: -8.376449926859078\n",
            "Iteration 158\tLL per word: -8.377303205689849\n",
            "Iteration 159\tLL per word: -8.375581311992265\n",
            "Iteration 160\tLL per word: -8.376683344086365\n",
            "Iteration 161\tLL per word: -8.376073270078608\n",
            "Iteration 162\tLL per word: -8.376594282459966\n",
            "Iteration 163\tLL per word: -8.376040147068462\n",
            "Iteration 164\tLL per word: -8.374890592271056\n",
            "Iteration 165\tLL per word: -8.373292101813337\n",
            "Iteration 166\tLL per word: -8.374162208001072\n",
            "Iteration 167\tLL per word: -8.374455378253808\n",
            "Iteration 168\tLL per word: -8.375900775838392\n",
            "Iteration 169\tLL per word: -8.375964107802114\n",
            "Iteration 170\tLL per word: -8.374856588831376\n",
            "Iteration 171\tLL per word: -8.374931782155294\n",
            "Iteration 172\tLL per word: -8.375535188395993\n",
            "Iteration 173\tLL per word: -8.372514805329706\n",
            "Iteration 174\tLL per word: -8.37209161774936\n",
            "Iteration 175\tLL per word: -8.372870822827256\n",
            "Iteration 176\tLL per word: -8.372729996651252\n",
            "Iteration 177\tLL per word: -8.37228369032149\n",
            "Iteration 178\tLL per word: -8.372057663103247\n",
            "Iteration 179\tLL per word: -8.37387472722369\n",
            "Iteration 180\tLL per word: -8.374643903929291\n",
            "Iteration 181\tLL per word: -8.373702568326184\n",
            "Iteration 182\tLL per word: -8.37268707098872\n",
            "Iteration 183\tLL per word: -8.372950522043219\n",
            "Iteration 184\tLL per word: -8.372916531045163\n",
            "Iteration 185\tLL per word: -8.370767094538303\n",
            "Iteration 186\tLL per word: -8.370352018945988\n",
            "Iteration 187\tLL per word: -8.372212169992983\n",
            "Iteration 188\tLL per word: -8.371215249713655\n",
            "Iteration 189\tLL per word: -8.37057970436056\n",
            "Iteration 190\tLL per word: -8.368744858479\n",
            "Iteration 191\tLL per word: -8.366699029264982\n",
            "Iteration 192\tLL per word: -8.36648582577062\n",
            "Iteration 193\tLL per word: -8.36923604213993\n",
            "Iteration 194\tLL per word: -8.367922609794384\n",
            "Iteration 195\tLL per word: -8.368039606618124\n",
            "Iteration 196\tLL per word: -8.36715881680063\n",
            "Iteration 197\tLL per word: -8.365874730400197\n",
            "Iteration 198\tLL per word: -8.367413767167825\n",
            "Iteration 199\tLL per word: -8.367696899391087\n"
          ]
        }
      ]
    },
    {
      "cell_type": "code",
      "metadata": {
        "id": "D2wD0hd_WmyX",
        "colab": {
          "base_uri": "https://localhost:8080/"
        },
        "outputId": "72eaca3a-7c5a-422e-de84-96d3c319ea37"
      },
      "source": [
        "# 학습된 토픽들을 출력해보도록 합시다.\n",
        "for i in range(model.k):\n",
        "    # 토픽 개수가 총 20개이니, 0~19번까지의 토픽별 상위 단어 10개를 뽑아봅시다.\n",
        "    res = model.get_topic_words(i, top_n=20)\n",
        "    print('Topic #{}'.format(i), end='\\t')\n",
        "    print(', '.join(w for w, p in res))"
      ],
      "execution_count": 54,
      "outputs": [
        {
          "output_type": "stream",
          "name": "stdout",
          "text": [
            "Topic #0\t여행, 즐기다, 바다, 실시간, 국내, 힐링, 오션뷰, 기록, 바라보다, 보내다, 여행지, 퇴, 수영장, 핫, 비애, 다녀오다, 느끼다, 출처, 비수기, 노을\n",
            "Topic #1\t먹다, 찍다, 넘다, 이쁘다, 친구, 못, 들어가다, 예쁘다, 놀다, 저녁, 귀엽다, 맛있다, 아침, 아쉽다, 와인, 이거, 엄, 깔끔, 후기, 벌레\n",
            "Topic #2\t먹다, 조식, 카페, 맛있다, 아침, 커피, 음료, 제공, 웰컴, 과일, 잔, 저녁, 챙기다, 메뉴, 샐러드, 선택, 체크인, 티, 여행, 샌드위치\n",
            "Topic #3\t바베큐, 수영장, 탕, 놀다, 즐기다, 굽다, 야외, 캠핑, 가족, 자쿠지, 물놀이, 스파, 여름, 리조트, 넓다, 여행, 불, 사용, 힐링, 바비큐\n",
            "Topic #4\t한옥, 여행, 마당, 숙박, 느끼다, 즐기다, 국내, 고즈넉, 힐링, 마루, 한옥스테, 모든, 소, 예쁘다, 공휴일, 가득, 현대, 독채, 현재, 한옥스테이\n",
            "Topic #5\t침대, 문, 사용, 커피, 냉장고, 침실, 깔끔, 거실, 수건, 들어가다, 테이블, 편하다, 조명, 따로, 예쁘다, 쪽, 인테리어, 주차, 식기, 샴푸\n",
            "Topic #6\t예쁘다, 여행, 아침, 찍다, 마음, 밤, 아쉽다, 좋아하다, 나가다, 먹다, 눈, 밖, 없이, 기분, 처음, 도착, 못, 들어오다, 남편, 저녁\n",
            "Topic #7\t조식, 돌담, 여행, 서쪽, 거리, 제주감성숙소, 귤, 애, 동쪽, 밖, 아침, 공항, 문자, 예쁘다, 조용, 자쿠지, 실, 신혼여행, 네이버, 민박\n",
            "Topic #8\t느끼다, 분위기, 마당, 마음, 인테리어, 즐기다, 풍경, 거실, 편안, 여행, 침실, 가득, 쉬다, 머물다, 정원, 조용, 소품, 가족, 마을, 스럽\n",
            "Topic #9\t바다, 여행, 카페, 오션뷰, 테라스, 건물, 숙박, 해변, 후기, 거리, 참고, 근처, 해수욕장, 소개, 괜찮다, 침대, 깔끔, 시설, 아래, 욕조\n"
          ]
        }
      ]
    },
    {
      "cell_type": "markdown",
      "metadata": {
        "id": "PXdnwWnXbzeZ"
      },
      "source": [
        "# 문헌별 토픽 분류"
      ]
    },
    {
      "cell_type": "code",
      "metadata": {
        "colab": {
          "base_uri": "https://localhost:8080/"
        },
        "id": "9YZr8XD4IiXZ",
        "outputId": "8064d93e-3a7b-420f-958c-cfe51b5e0790"
      },
      "source": [
        "len(model.docs)"
      ],
      "execution_count": 55,
      "outputs": [
        {
          "output_type": "execute_result",
          "data": {
            "text/plain": [
              "4342"
            ]
          },
          "metadata": {},
          "execution_count": 55
        }
      ]
    },
    {
      "cell_type": "code",
      "metadata": {
        "id": "QyUYlXjvINqr"
      },
      "source": [
        "# 먼저 토픽 개수만큼 공간을 만들어줍니다.\n",
        "buckets = [[] for _ in range(model.k)]\n",
        "# 전체 문헌에 대해, top 1 주제 번호를 찾아 그 그룹에 해당 문헌을 포함시킵니다.\n",
        "for i, d in enumerate(model.docs):\n",
        "    buckets[d.get_topics(top_n=1)[0][0]].append([i,d])"
      ],
      "execution_count": 56,
      "outputs": []
    },
    {
      "cell_type": "code",
      "metadata": {
        "id": "rIEkHWHNISch"
      },
      "source": [
        "topic_table = pd.DataFrame() #테이블 생성\n",
        "doc_index = []\n",
        "content = []\n",
        "topics = []\n",
        "\n",
        "for i in range(len(model.docs)): # 인덱스별 값을 개별 변수로 테이블에 배정\n",
        "  doc_index = int(i)\n",
        "  content = all_content.content[i]\n",
        "  topics = int(model.docs[i].get_topics(top_n=1)[0][0])\n",
        "  topic_table = topic_table.append(pd.Series([doc_index, content, topics]), ignore_index=True)"
      ],
      "execution_count": 57,
      "outputs": []
    },
    {
      "cell_type": "code",
      "metadata": {
        "id": "eIEZDOHqMI7S"
      },
      "source": [
        "topic_table = pd.DataFrame() #테이블 생성\n",
        "doc_index = []\n",
        "content = []\n",
        "topics = []\n",
        "item_idx = []\n",
        "\n",
        "for i in range(len(model.docs)): # 인덱스별 값을 개별 변수로 테이블에 배정\n",
        "  doc_index = int(i)\n",
        "  content = all_items.content[i]\n",
        "  item_idx = all_items.item_idx[i]\n",
        "  topics = int(model.docs[i].get_topics(top_n=1)[0][0])\n",
        "  topic_table = topic_table.append(pd.Series([doc_index,item_idx, content, topics]), ignore_index=True)"
      ],
      "execution_count": 87,
      "outputs": []
    },
    {
      "cell_type": "code",
      "metadata": {
        "colab": {
          "base_uri": "https://localhost:8080/",
          "height": 423
        },
        "id": "6HA7df8yC1T_",
        "outputId": "f114983a-a134-41dd-d749-28985b499bb4"
      },
      "source": [
        "topic_table"
      ],
      "execution_count": 88,
      "outputs": [
        {
          "output_type": "execute_result",
          "data": {
            "text/html": [
              "<div>\n",
              "<style scoped>\n",
              "    .dataframe tbody tr th:only-of-type {\n",
              "        vertical-align: middle;\n",
              "    }\n",
              "\n",
              "    .dataframe tbody tr th {\n",
              "        vertical-align: top;\n",
              "    }\n",
              "\n",
              "    .dataframe thead th {\n",
              "        text-align: right;\n",
              "    }\n",
              "</style>\n",
              "<table border=\"1\" class=\"dataframe\">\n",
              "  <thead>\n",
              "    <tr style=\"text-align: right;\">\n",
              "      <th></th>\n",
              "      <th>0</th>\n",
              "      <th>1</th>\n",
              "      <th>2</th>\n",
              "      <th>3</th>\n",
              "    </tr>\n",
              "  </thead>\n",
              "  <tbody>\n",
              "    <tr>\n",
              "      <th>0</th>\n",
              "      <td>0.0</td>\n",
              "      <td>0.0</td>\n",
              "      <td>[파도의무늬오션뷰, 무늬, 무늬, 물결, 일렁이다, 반짝거리다, 철썩, 철썩, 치다...</td>\n",
              "      <td>1.0</td>\n",
              "    </tr>\n",
              "    <tr>\n",
              "      <th>1</th>\n",
              "      <td>1.0</td>\n",
              "      <td>1.0</td>\n",
              "      <td>[시호일시간, 흔적, 담다, 시호, 시호, 번화가, 유명, 흔적, 품다, 주택, 상...</td>\n",
              "      <td>1.0</td>\n",
              "    </tr>\n",
              "    <tr>\n",
              "      <th>2</th>\n",
              "      <td>2.0</td>\n",
              "      <td>2.0</td>\n",
              "      <td>[까맣다, 돌멩이, 조식, 예쁘다, 까맣다, 돌멩이, 까맣다, 돌멩이, 가족, 커플...</td>\n",
              "      <td>0.0</td>\n",
              "    </tr>\n",
              "    <tr>\n",
              "      <th>3</th>\n",
              "      <td>3.0</td>\n",
              "      <td>3.0</td>\n",
              "      <td>[권장, 가득, 권장, 권장, 자연경관, 두르다, 쌓이다, 마당, 힐, 링, 판, ...</td>\n",
              "      <td>5.0</td>\n",
              "    </tr>\n",
              "    <tr>\n",
              "      <th>4</th>\n",
              "      <td>4.0</td>\n",
              "      <td>4.0</td>\n",
              "      <td>[라온가, 따뜻, 힐링, 라온, 온, 주택, 개조, 라온, 우리말, 즐겁다, 뜻, ...</td>\n",
              "      <td>3.0</td>\n",
              "    </tr>\n",
              "    <tr>\n",
              "      <th>...</th>\n",
              "      <td>...</td>\n",
              "      <td>...</td>\n",
              "      <td>...</td>\n",
              "      <td>...</td>\n",
              "    </tr>\n",
              "    <tr>\n",
              "      <th>4337</th>\n",
              "      <td>4337.0</td>\n",
              "      <td>NaN</td>\n",
              "      <td>[국내, 여행지, 여행, 맨션자두, 들어가다, 커다랗다, 널판지, 깔다, 발, 편하...</td>\n",
              "      <td>4.0</td>\n",
              "    </tr>\n",
              "    <tr>\n",
              "      <th>4338</th>\n",
              "      <td>4338.0</td>\n",
              "      <td>NaN</td>\n",
              "      <td>[영이, 분기, 여행, 스테이솔, 여행지, 영이, 퇴근, 오빠, 먼저, 카페, 데이...</td>\n",
              "      <td>8.0</td>\n",
              "    </tr>\n",
              "    <tr>\n",
              "      <th>4339</th>\n",
              "      <td>4339.0</td>\n",
              "      <td>NaN</td>\n",
              "      <td>[다귀, 쉼터, 오늘, 하얗다, 외관, 매듭, 스무, 시장, 포장, 시장, 네비찍,...</td>\n",
              "      <td>9.0</td>\n",
              "    </tr>\n",
              "    <tr>\n",
              "      <th>4340</th>\n",
              "      <td>4340.0</td>\n",
              "      <td>NaN</td>\n",
              "      <td>[아파트먼트, 여행, 자주, 불구, 잡다, 놀다, 처음, 고르다, 급하다, 잡다, ...</td>\n",
              "      <td>9.0</td>\n",
              "    </tr>\n",
              "    <tr>\n",
              "      <th>4341</th>\n",
              "      <td>4341.0</td>\n",
              "      <td>NaN</td>\n",
              "      <td>[포도봉, 미루다, 미루다, 숙소콕, 여행, 다행, 맞추다, 다녀오다, 예쁘다, 룰...</td>\n",
              "      <td>8.0</td>\n",
              "    </tr>\n",
              "  </tbody>\n",
              "</table>\n",
              "<p>4342 rows × 4 columns</p>\n",
              "</div>"
            ],
            "text/plain": [
              "           0    1                                                  2    3\n",
              "0        0.0  0.0  [파도의무늬오션뷰, 무늬, 무늬, 물결, 일렁이다, 반짝거리다, 철썩, 철썩, 치다...  1.0\n",
              "1        1.0  1.0  [시호일시간, 흔적, 담다, 시호, 시호, 번화가, 유명, 흔적, 품다, 주택, 상...  1.0\n",
              "2        2.0  2.0  [까맣다, 돌멩이, 조식, 예쁘다, 까맣다, 돌멩이, 까맣다, 돌멩이, 가족, 커플...  0.0\n",
              "3        3.0  3.0  [권장, 가득, 권장, 권장, 자연경관, 두르다, 쌓이다, 마당, 힐, 링, 판, ...  5.0\n",
              "4        4.0  4.0  [라온가, 따뜻, 힐링, 라온, 온, 주택, 개조, 라온, 우리말, 즐겁다, 뜻, ...  3.0\n",
              "...      ...  ...                                                ...  ...\n",
              "4337  4337.0  NaN  [국내, 여행지, 여행, 맨션자두, 들어가다, 커다랗다, 널판지, 깔다, 발, 편하...  4.0\n",
              "4338  4338.0  NaN  [영이, 분기, 여행, 스테이솔, 여행지, 영이, 퇴근, 오빠, 먼저, 카페, 데이...  8.0\n",
              "4339  4339.0  NaN  [다귀, 쉼터, 오늘, 하얗다, 외관, 매듭, 스무, 시장, 포장, 시장, 네비찍,...  9.0\n",
              "4340  4340.0  NaN  [아파트먼트, 여행, 자주, 불구, 잡다, 놀다, 처음, 고르다, 급하다, 잡다, ...  9.0\n",
              "4341  4341.0  NaN  [포도봉, 미루다, 미루다, 숙소콕, 여행, 다행, 맞추다, 다녀오다, 예쁘다, 룰...  8.0\n",
              "\n",
              "[4342 rows x 4 columns]"
            ]
          },
          "metadata": {},
          "execution_count": 88
        }
      ]
    },
    {
      "cell_type": "code",
      "metadata": {
        "id": "M3Zw1u244X-w"
      },
      "source": [
        "topic_table.columns = ['doc_index','item_index', 'content', 'topic']"
      ],
      "execution_count": 89,
      "outputs": []
    },
    {
      "cell_type": "code",
      "metadata": {
        "id": "PO4SZZn65hth"
      },
      "source": [
        "topic_table = pd.DataFrame(topic_table)"
      ],
      "execution_count": 90,
      "outputs": []
    },
    {
      "cell_type": "code",
      "metadata": {
        "colab": {
          "base_uri": "https://localhost:8080/",
          "height": 423
        },
        "id": "vKTNmI-5Elca",
        "outputId": "771d38c9-ab96-47cc-a72e-0ddf71e24df1"
      },
      "source": [
        "topic_table"
      ],
      "execution_count": 91,
      "outputs": [
        {
          "output_type": "execute_result",
          "data": {
            "text/html": [
              "<div>\n",
              "<style scoped>\n",
              "    .dataframe tbody tr th:only-of-type {\n",
              "        vertical-align: middle;\n",
              "    }\n",
              "\n",
              "    .dataframe tbody tr th {\n",
              "        vertical-align: top;\n",
              "    }\n",
              "\n",
              "    .dataframe thead th {\n",
              "        text-align: right;\n",
              "    }\n",
              "</style>\n",
              "<table border=\"1\" class=\"dataframe\">\n",
              "  <thead>\n",
              "    <tr style=\"text-align: right;\">\n",
              "      <th></th>\n",
              "      <th>doc_index</th>\n",
              "      <th>item_index</th>\n",
              "      <th>content</th>\n",
              "      <th>topic</th>\n",
              "    </tr>\n",
              "  </thead>\n",
              "  <tbody>\n",
              "    <tr>\n",
              "      <th>0</th>\n",
              "      <td>0.0</td>\n",
              "      <td>0.0</td>\n",
              "      <td>[파도의무늬오션뷰, 무늬, 무늬, 물결, 일렁이다, 반짝거리다, 철썩, 철썩, 치다...</td>\n",
              "      <td>1.0</td>\n",
              "    </tr>\n",
              "    <tr>\n",
              "      <th>1</th>\n",
              "      <td>1.0</td>\n",
              "      <td>1.0</td>\n",
              "      <td>[시호일시간, 흔적, 담다, 시호, 시호, 번화가, 유명, 흔적, 품다, 주택, 상...</td>\n",
              "      <td>1.0</td>\n",
              "    </tr>\n",
              "    <tr>\n",
              "      <th>2</th>\n",
              "      <td>2.0</td>\n",
              "      <td>2.0</td>\n",
              "      <td>[까맣다, 돌멩이, 조식, 예쁘다, 까맣다, 돌멩이, 까맣다, 돌멩이, 가족, 커플...</td>\n",
              "      <td>0.0</td>\n",
              "    </tr>\n",
              "    <tr>\n",
              "      <th>3</th>\n",
              "      <td>3.0</td>\n",
              "      <td>3.0</td>\n",
              "      <td>[권장, 가득, 권장, 권장, 자연경관, 두르다, 쌓이다, 마당, 힐, 링, 판, ...</td>\n",
              "      <td>5.0</td>\n",
              "    </tr>\n",
              "    <tr>\n",
              "      <th>4</th>\n",
              "      <td>4.0</td>\n",
              "      <td>4.0</td>\n",
              "      <td>[라온가, 따뜻, 힐링, 라온, 온, 주택, 개조, 라온, 우리말, 즐겁다, 뜻, ...</td>\n",
              "      <td>3.0</td>\n",
              "    </tr>\n",
              "    <tr>\n",
              "      <th>...</th>\n",
              "      <td>...</td>\n",
              "      <td>...</td>\n",
              "      <td>...</td>\n",
              "      <td>...</td>\n",
              "    </tr>\n",
              "    <tr>\n",
              "      <th>4337</th>\n",
              "      <td>4337.0</td>\n",
              "      <td>NaN</td>\n",
              "      <td>[국내, 여행지, 여행, 맨션자두, 들어가다, 커다랗다, 널판지, 깔다, 발, 편하...</td>\n",
              "      <td>4.0</td>\n",
              "    </tr>\n",
              "    <tr>\n",
              "      <th>4338</th>\n",
              "      <td>4338.0</td>\n",
              "      <td>NaN</td>\n",
              "      <td>[영이, 분기, 여행, 스테이솔, 여행지, 영이, 퇴근, 오빠, 먼저, 카페, 데이...</td>\n",
              "      <td>8.0</td>\n",
              "    </tr>\n",
              "    <tr>\n",
              "      <th>4339</th>\n",
              "      <td>4339.0</td>\n",
              "      <td>NaN</td>\n",
              "      <td>[다귀, 쉼터, 오늘, 하얗다, 외관, 매듭, 스무, 시장, 포장, 시장, 네비찍,...</td>\n",
              "      <td>9.0</td>\n",
              "    </tr>\n",
              "    <tr>\n",
              "      <th>4340</th>\n",
              "      <td>4340.0</td>\n",
              "      <td>NaN</td>\n",
              "      <td>[아파트먼트, 여행, 자주, 불구, 잡다, 놀다, 처음, 고르다, 급하다, 잡다, ...</td>\n",
              "      <td>9.0</td>\n",
              "    </tr>\n",
              "    <tr>\n",
              "      <th>4341</th>\n",
              "      <td>4341.0</td>\n",
              "      <td>NaN</td>\n",
              "      <td>[포도봉, 미루다, 미루다, 숙소콕, 여행, 다행, 맞추다, 다녀오다, 예쁘다, 룰...</td>\n",
              "      <td>8.0</td>\n",
              "    </tr>\n",
              "  </tbody>\n",
              "</table>\n",
              "<p>4342 rows × 4 columns</p>\n",
              "</div>"
            ],
            "text/plain": [
              "      doc_index  ...  topic\n",
              "0           0.0  ...    1.0\n",
              "1           1.0  ...    1.0\n",
              "2           2.0  ...    0.0\n",
              "3           3.0  ...    5.0\n",
              "4           4.0  ...    3.0\n",
              "...         ...  ...    ...\n",
              "4337     4337.0  ...    4.0\n",
              "4338     4338.0  ...    8.0\n",
              "4339     4339.0  ...    9.0\n",
              "4340     4340.0  ...    9.0\n",
              "4341     4341.0  ...    8.0\n",
              "\n",
              "[4342 rows x 4 columns]"
            ]
          },
          "metadata": {},
          "execution_count": 91
        }
      ]
    },
    {
      "cell_type": "code",
      "metadata": {
        "id": "amg57ZYAEnwX"
      },
      "source": [
        "insta_data.columns = ['item_index', 'content', 'date', 'like', 'tags', 'name', 'overlap', 'place']"
      ],
      "execution_count": 94,
      "outputs": []
    },
    {
      "cell_type": "code",
      "metadata": {
        "colab": {
          "base_uri": "https://localhost:8080/",
          "height": 597
        },
        "id": "WvZkv5PsN_bB",
        "outputId": "75d6537f-7834-40da-8839-9a29062e449b"
      },
      "source": [
        "insta_data"
      ],
      "execution_count": 95,
      "outputs": [
        {
          "output_type": "execute_result",
          "data": {
            "text/html": [
              "<div>\n",
              "<style scoped>\n",
              "    .dataframe tbody tr th:only-of-type {\n",
              "        vertical-align: middle;\n",
              "    }\n",
              "\n",
              "    .dataframe tbody tr th {\n",
              "        vertical-align: top;\n",
              "    }\n",
              "\n",
              "    .dataframe thead th {\n",
              "        text-align: right;\n",
              "    }\n",
              "</style>\n",
              "<table border=\"1\" class=\"dataframe\">\n",
              "  <thead>\n",
              "    <tr style=\"text-align: right;\">\n",
              "      <th></th>\n",
              "      <th>item_index</th>\n",
              "      <th>content</th>\n",
              "      <th>date</th>\n",
              "      <th>like</th>\n",
              "      <th>tags</th>\n",
              "      <th>name</th>\n",
              "      <th>overlap</th>\n",
              "      <th>place</th>\n",
              "    </tr>\n",
              "  </thead>\n",
              "  <tbody>\n",
              "    <tr>\n",
              "      <th>0</th>\n",
              "      <td>0</td>\n",
              "      <td>[파도의무늬오션뷰, 무늬, 무늬, 물결, 일렁이다, 반짝거리다, 철썩, 철썩, 치다...</td>\n",
              "      <td>2021-09-06</td>\n",
              "      <td>39</td>\n",
              "      <td>['#데일리감성속초로', '#데일리감성_속초강원도', '#데일리감성_강원——————...</td>\n",
              "      <td>파도의무늬</td>\n",
              "      <td>1</td>\n",
              "      <td>NaN</td>\n",
              "    </tr>\n",
              "    <tr>\n",
              "      <th>1</th>\n",
              "      <td>1</td>\n",
              "      <td>[시호일시간, 흔적, 담다, 시호, 시호, 번화가, 유명, 흔적, 품다, 주택, 상...</td>\n",
              "      <td>2021-09-03</td>\n",
              "      <td>12</td>\n",
              "      <td>['#데일리감성강릉으로', '#데일리감성_강릉강원도', '#데일리감성_강원—————...</td>\n",
              "      <td>스테이 시호일</td>\n",
              "      <td>1</td>\n",
              "      <td>NaN</td>\n",
              "    </tr>\n",
              "    <tr>\n",
              "      <th>2</th>\n",
              "      <td>2</td>\n",
              "      <td>[까맣다, 돌멩이, 조식, 예쁘다, 까맣다, 돌멩이, 까맣다, 돌멩이, 가족, 커플...</td>\n",
              "      <td>2021-09-03</td>\n",
              "      <td>33</td>\n",
              "      <td>['#데일리감성제주도', '#데일리감성_제주—————————————————']</td>\n",
              "      <td>까만돌멩이</td>\n",
              "      <td>1</td>\n",
              "      <td>제주특별자치도 제주시 구좌읍 계룡길 32</td>\n",
              "    </tr>\n",
              "    <tr>\n",
              "      <th>3</th>\n",
              "      <td>3</td>\n",
              "      <td>[권장, 가득, 권장, 권장, 자연경관, 두르다, 쌓이다, 마당, 힐, 링, 판, ...</td>\n",
              "      <td>2021-09-02</td>\n",
              "      <td>36</td>\n",
              "      <td>['#데일리감성단양으로', '#데일리감성_단양충청북도', '#데일리감성_충북————...</td>\n",
              "      <td>권장사양</td>\n",
              "      <td>1</td>\n",
              "      <td>NaN</td>\n",
              "    </tr>\n",
              "    <tr>\n",
              "      <th>4</th>\n",
              "      <td>4</td>\n",
              "      <td>[라온가, 따뜻, 힐링, 라온, 온, 주택, 개조, 라온, 우리말, 즐겁다, 뜻, ...</td>\n",
              "      <td>2021-09-01</td>\n",
              "      <td>24</td>\n",
              "      <td>['#데일리감성강릉으로', '#데일리감성_강릉강원도', '#데일리감성_강원—————...</td>\n",
              "      <td>라온가</td>\n",
              "      <td>1</td>\n",
              "      <td>NaN</td>\n",
              "    </tr>\n",
              "    <tr>\n",
              "      <th>...</th>\n",
              "      <td>...</td>\n",
              "      <td>...</td>\n",
              "      <td>...</td>\n",
              "      <td>...</td>\n",
              "      <td>...</td>\n",
              "      <td>...</td>\n",
              "      <td>...</td>\n",
              "      <td>...</td>\n",
              "    </tr>\n",
              "    <tr>\n",
              "      <th>604</th>\n",
              "      <td>604</td>\n",
              "      <td>[폭, 그림, 오션뷰, 액자, 창문, 너머, 바다, 감성숙소랍니돠, 미니멀리즘, 추...</td>\n",
              "      <td>2021-06-24</td>\n",
              "      <td>142</td>\n",
              "      <td>['#제주', '#솔트', '#제주숙소', '#제주여행', '#제주숙소추천', '#...</td>\n",
              "      <td>솔트</td>\n",
              "      <td>2</td>\n",
              "      <td>NaN</td>\n",
              "    </tr>\n",
              "    <tr>\n",
              "      <th>605</th>\n",
              "      <td>605</td>\n",
              "      <td>[리버뷰, 피그멜리온이펙, 트다, 리버, 마운틴뷰, 월풀스파, 즐기다, 뷰맛, 원룸...</td>\n",
              "      <td>2021-06-15</td>\n",
              "      <td>87</td>\n",
              "      <td>['#춘천', '#피그멜리온이펙트', '#춘천숙소', '#춘천여행', '#춘천숙소추...</td>\n",
              "      <td>피그멜리온이펙트</td>\n",
              "      <td>2</td>\n",
              "      <td>강원도 춘천시 서면 경춘로 405</td>\n",
              "    </tr>\n",
              "    <tr>\n",
              "      <th>606</th>\n",
              "      <td>606</td>\n",
              "      <td>[시골, 동네, 오붓, 편안, 밤, 논밭뷰, 여유, 만끽, 힐링, 게스트하우스, 사...</td>\n",
              "      <td>2021-04-21</td>\n",
              "      <td>68</td>\n",
              "      <td>['#곡성', '#품안의밤', '#곡성숙소', '#곡성여행', '#곡성숙소추천', ...</td>\n",
              "      <td>품안의밤</td>\n",
              "      <td>2</td>\n",
              "      <td>NaN</td>\n",
              "    </tr>\n",
              "    <tr>\n",
              "      <th>607</th>\n",
              "      <td>607</td>\n",
              "      <td>[다녀오다, 웨딩촬영지, 유명, 더브리앙, 뜨다, 화이트, 앤, 우드, 톤, 좋아하...</td>\n",
              "      <td>2021-04-19</td>\n",
              "      <td>57</td>\n",
              "      <td>['#강릉', '#더브리앙뜨', '#강릉숙소', '#강릉여행', '#강릉데이트', ...</td>\n",
              "      <td>더브리앙뜨</td>\n",
              "      <td>2</td>\n",
              "      <td>강원도 강릉시 사천면 중앙서로 92-43</td>\n",
              "    </tr>\n",
              "    <tr>\n",
              "      <th>608</th>\n",
              "      <td>608</td>\n",
              "      <td>[고풍스, 런, 미칀, 한옥뷰, 한라궁, 아침, 눈, 뜨다, 한옥정원뷰, 제주오션뷰...</td>\n",
              "      <td>2021-03-19</td>\n",
              "      <td>90</td>\n",
              "      <td>['#제주도', '#한라궁호텔', '#한라궁', '#제주숙소', '#감성숙소', '...</td>\n",
              "      <td>한라궁호텔</td>\n",
              "      <td>2</td>\n",
              "      <td>제주특별자치도 서귀포시 정방연로 6</td>\n",
              "    </tr>\n",
              "  </tbody>\n",
              "</table>\n",
              "<p>609 rows × 8 columns</p>\n",
              "</div>"
            ],
            "text/plain": [
              "     item_index  ...                   place\n",
              "0             0  ...                     NaN\n",
              "1             1  ...                     NaN\n",
              "2             2  ...  제주특별자치도 제주시 구좌읍 계룡길 32\n",
              "3             3  ...                     NaN\n",
              "4             4  ...                     NaN\n",
              "..          ...  ...                     ...\n",
              "604         604  ...                     NaN\n",
              "605         605  ...      강원도 춘천시 서면 경춘로 405\n",
              "606         606  ...                     NaN\n",
              "607         607  ...  강원도 강릉시 사천면 중앙서로 92-43\n",
              "608         608  ...     제주특별자치도 서귀포시 정방연로 6\n",
              "\n",
              "[609 rows x 8 columns]"
            ]
          },
          "metadata": {},
          "execution_count": 95
        }
      ]
    },
    {
      "cell_type": "code",
      "metadata": {
        "id": "FBuoOpoQC4rX"
      },
      "source": [
        "merge_inner = pd.merge(topic_table, insta_data, on='item_index')"
      ],
      "execution_count": 96,
      "outputs": []
    },
    {
      "cell_type": "code",
      "metadata": {
        "id": "nQ4J33LND4za"
      },
      "source": [
        "merge_inner.drop('content_y', axis=1, inplace=True)"
      ],
      "execution_count": 98,
      "outputs": []
    },
    {
      "cell_type": "code",
      "metadata": {
        "colab": {
          "base_uri": "https://localhost:8080/",
          "height": 701
        },
        "id": "NpRz8rGyODIz",
        "outputId": "b463b3e9-c991-4913-db3d-2096631fb7b2"
      },
      "source": [
        "merge_inner"
      ],
      "execution_count": 99,
      "outputs": [
        {
          "output_type": "execute_result",
          "data": {
            "text/html": [
              "<div>\n",
              "<style scoped>\n",
              "    .dataframe tbody tr th:only-of-type {\n",
              "        vertical-align: middle;\n",
              "    }\n",
              "\n",
              "    .dataframe tbody tr th {\n",
              "        vertical-align: top;\n",
              "    }\n",
              "\n",
              "    .dataframe thead th {\n",
              "        text-align: right;\n",
              "    }\n",
              "</style>\n",
              "<table border=\"1\" class=\"dataframe\">\n",
              "  <thead>\n",
              "    <tr style=\"text-align: right;\">\n",
              "      <th></th>\n",
              "      <th>doc_index</th>\n",
              "      <th>item_index</th>\n",
              "      <th>content_x</th>\n",
              "      <th>topic</th>\n",
              "      <th>date</th>\n",
              "      <th>like</th>\n",
              "      <th>tags</th>\n",
              "      <th>name</th>\n",
              "      <th>overlap</th>\n",
              "      <th>place</th>\n",
              "    </tr>\n",
              "  </thead>\n",
              "  <tbody>\n",
              "    <tr>\n",
              "      <th>0</th>\n",
              "      <td>0.0</td>\n",
              "      <td>0.0</td>\n",
              "      <td>[파도의무늬오션뷰, 무늬, 무늬, 물결, 일렁이다, 반짝거리다, 철썩, 철썩, 치다...</td>\n",
              "      <td>1.0</td>\n",
              "      <td>2021-09-06</td>\n",
              "      <td>39</td>\n",
              "      <td>['#데일리감성속초로', '#데일리감성_속초강원도', '#데일리감성_강원——————...</td>\n",
              "      <td>파도의무늬</td>\n",
              "      <td>1</td>\n",
              "      <td>NaN</td>\n",
              "    </tr>\n",
              "    <tr>\n",
              "      <th>1</th>\n",
              "      <td>1.0</td>\n",
              "      <td>1.0</td>\n",
              "      <td>[시호일시간, 흔적, 담다, 시호, 시호, 번화가, 유명, 흔적, 품다, 주택, 상...</td>\n",
              "      <td>1.0</td>\n",
              "      <td>2021-09-03</td>\n",
              "      <td>12</td>\n",
              "      <td>['#데일리감성강릉으로', '#데일리감성_강릉강원도', '#데일리감성_강원—————...</td>\n",
              "      <td>스테이 시호일</td>\n",
              "      <td>1</td>\n",
              "      <td>NaN</td>\n",
              "    </tr>\n",
              "    <tr>\n",
              "      <th>2</th>\n",
              "      <td>2.0</td>\n",
              "      <td>2.0</td>\n",
              "      <td>[까맣다, 돌멩이, 조식, 예쁘다, 까맣다, 돌멩이, 까맣다, 돌멩이, 가족, 커플...</td>\n",
              "      <td>0.0</td>\n",
              "      <td>2021-09-03</td>\n",
              "      <td>33</td>\n",
              "      <td>['#데일리감성제주도', '#데일리감성_제주—————————————————']</td>\n",
              "      <td>까만돌멩이</td>\n",
              "      <td>1</td>\n",
              "      <td>제주특별자치도 제주시 구좌읍 계룡길 32</td>\n",
              "    </tr>\n",
              "    <tr>\n",
              "      <th>3</th>\n",
              "      <td>3.0</td>\n",
              "      <td>3.0</td>\n",
              "      <td>[권장, 가득, 권장, 권장, 자연경관, 두르다, 쌓이다, 마당, 힐, 링, 판, ...</td>\n",
              "      <td>5.0</td>\n",
              "      <td>2021-09-02</td>\n",
              "      <td>36</td>\n",
              "      <td>['#데일리감성단양으로', '#데일리감성_단양충청북도', '#데일리감성_충북————...</td>\n",
              "      <td>권장사양</td>\n",
              "      <td>1</td>\n",
              "      <td>NaN</td>\n",
              "    </tr>\n",
              "    <tr>\n",
              "      <th>4</th>\n",
              "      <td>4.0</td>\n",
              "      <td>4.0</td>\n",
              "      <td>[라온가, 따뜻, 힐링, 라온, 온, 주택, 개조, 라온, 우리말, 즐겁다, 뜻, ...</td>\n",
              "      <td>3.0</td>\n",
              "      <td>2021-09-01</td>\n",
              "      <td>24</td>\n",
              "      <td>['#데일리감성강릉으로', '#데일리감성_강릉강원도', '#데일리감성_강원—————...</td>\n",
              "      <td>라온가</td>\n",
              "      <td>1</td>\n",
              "      <td>NaN</td>\n",
              "    </tr>\n",
              "    <tr>\n",
              "      <th>...</th>\n",
              "      <td>...</td>\n",
              "      <td>...</td>\n",
              "      <td>...</td>\n",
              "      <td>...</td>\n",
              "      <td>...</td>\n",
              "      <td>...</td>\n",
              "      <td>...</td>\n",
              "      <td>...</td>\n",
              "      <td>...</td>\n",
              "      <td>...</td>\n",
              "    </tr>\n",
              "    <tr>\n",
              "      <th>603</th>\n",
              "      <td>603.0</td>\n",
              "      <td>604.0</td>\n",
              "      <td>[폭, 그림, 오션뷰, 액자, 창문, 너머, 바다, 감성숙소랍니돠, 미니멀리즘, 추...</td>\n",
              "      <td>5.0</td>\n",
              "      <td>2021-06-24</td>\n",
              "      <td>142</td>\n",
              "      <td>['#제주', '#솔트', '#제주숙소', '#제주여행', '#제주숙소추천', '#...</td>\n",
              "      <td>솔트</td>\n",
              "      <td>2</td>\n",
              "      <td>NaN</td>\n",
              "    </tr>\n",
              "    <tr>\n",
              "      <th>604</th>\n",
              "      <td>604.0</td>\n",
              "      <td>605.0</td>\n",
              "      <td>[리버뷰, 피그멜리온이펙, 트다, 리버, 마운틴뷰, 월풀스파, 즐기다, 뷰맛, 원룸...</td>\n",
              "      <td>5.0</td>\n",
              "      <td>2021-06-15</td>\n",
              "      <td>87</td>\n",
              "      <td>['#춘천', '#피그멜리온이펙트', '#춘천숙소', '#춘천여행', '#춘천숙소추...</td>\n",
              "      <td>피그멜리온이펙트</td>\n",
              "      <td>2</td>\n",
              "      <td>강원도 춘천시 서면 경춘로 405</td>\n",
              "    </tr>\n",
              "    <tr>\n",
              "      <th>605</th>\n",
              "      <td>605.0</td>\n",
              "      <td>606.0</td>\n",
              "      <td>[시골, 동네, 오붓, 편안, 밤, 논밭뷰, 여유, 만끽, 힐링, 게스트하우스, 사...</td>\n",
              "      <td>5.0</td>\n",
              "      <td>2021-04-21</td>\n",
              "      <td>68</td>\n",
              "      <td>['#곡성', '#품안의밤', '#곡성숙소', '#곡성여행', '#곡성숙소추천', ...</td>\n",
              "      <td>품안의밤</td>\n",
              "      <td>2</td>\n",
              "      <td>NaN</td>\n",
              "    </tr>\n",
              "    <tr>\n",
              "      <th>606</th>\n",
              "      <td>606.0</td>\n",
              "      <td>607.0</td>\n",
              "      <td>[다녀오다, 웨딩촬영지, 유명, 더브리앙, 뜨다, 화이트, 앤, 우드, 톤, 좋아하...</td>\n",
              "      <td>5.0</td>\n",
              "      <td>2021-04-19</td>\n",
              "      <td>57</td>\n",
              "      <td>['#강릉', '#더브리앙뜨', '#강릉숙소', '#강릉여행', '#강릉데이트', ...</td>\n",
              "      <td>더브리앙뜨</td>\n",
              "      <td>2</td>\n",
              "      <td>강원도 강릉시 사천면 중앙서로 92-43</td>\n",
              "    </tr>\n",
              "    <tr>\n",
              "      <th>607</th>\n",
              "      <td>607.0</td>\n",
              "      <td>608.0</td>\n",
              "      <td>[고풍스, 런, 미칀, 한옥뷰, 한라궁, 아침, 눈, 뜨다, 한옥정원뷰, 제주오션뷰...</td>\n",
              "      <td>5.0</td>\n",
              "      <td>2021-03-19</td>\n",
              "      <td>90</td>\n",
              "      <td>['#제주도', '#한라궁호텔', '#한라궁', '#제주숙소', '#감성숙소', '...</td>\n",
              "      <td>한라궁호텔</td>\n",
              "      <td>2</td>\n",
              "      <td>제주특별자치도 서귀포시 정방연로 6</td>\n",
              "    </tr>\n",
              "  </tbody>\n",
              "</table>\n",
              "<p>608 rows × 10 columns</p>\n",
              "</div>"
            ],
            "text/plain": [
              "     doc_index  item_index  ... overlap                   place\n",
              "0          0.0         0.0  ...       1                     NaN\n",
              "1          1.0         1.0  ...       1                     NaN\n",
              "2          2.0         2.0  ...       1  제주특별자치도 제주시 구좌읍 계룡길 32\n",
              "3          3.0         3.0  ...       1                     NaN\n",
              "4          4.0         4.0  ...       1                     NaN\n",
              "..         ...         ...  ...     ...                     ...\n",
              "603      603.0       604.0  ...       2                     NaN\n",
              "604      604.0       605.0  ...       2      강원도 춘천시 서면 경춘로 405\n",
              "605      605.0       606.0  ...       2                     NaN\n",
              "606      606.0       607.0  ...       2  강원도 강릉시 사천면 중앙서로 92-43\n",
              "607      607.0       608.0  ...       2     제주특별자치도 서귀포시 정방연로 6\n",
              "\n",
              "[608 rows x 10 columns]"
            ]
          },
          "metadata": {},
          "execution_count": 99
        }
      ]
    },
    {
      "cell_type": "code",
      "metadata": {
        "colab": {
          "base_uri": "https://localhost:8080/",
          "height": 265
        },
        "id": "3HvD-M8EOWZR",
        "outputId": "07b979c6-ee44-4c28-f394-58e1b635bd6b"
      },
      "source": [
        "plt.hist(merge_inner.topic)\n",
        "plt.show()"
      ],
      "execution_count": 101,
      "outputs": [
        {
          "output_type": "display_data",
          "data": {
            "image/png": "[encoded data removed]",
            "text/plain": [
              "<Figure size 432x288 with 1 Axes>"
            ]
          },
          "metadata": {
            "needs_background": "light"
          }
        }
      ]
    },
    {
      "cell_type": "code",
      "metadata": {
        "id": "DOakE9jDPUeB"
      },
      "source": [
        "## 클래스별 불균형 / 정확한 분류가 되었다고 판단할 수 없음.\n",
        "## Topic #5\t침대, 문, 사용, 커피, 냉장고, 침실, 깔끔, 거실, 수건, 들어가다, 테이블, 편하다, 조명, 따로, 예쁘다, 쪽, 인테리어, 주차, 식기, 샴푸"
      ],
      "execution_count": 102,
      "outputs": []
    },
    {
      "cell_type": "code",
      "metadata": {
        "id": "nk8Hsb9dP2-7"
      },
      "source": [
        ""
      ],
      "execution_count": null,
      "outputs": []
    }
  ]
}