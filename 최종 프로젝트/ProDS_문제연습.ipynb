{
  "nbformat": 4,
  "nbformat_minor": 0,
  "metadata": {
    "colab": {
      "name": "ProDS 문제연습.ipynb",
      "provenance": [],
      "authorship_tag": "ABX9TyNKd++hy+zMIFnuiWshUg9Q",
      "include_colab_link": true
    },
    "kernelspec": {
      "name": "python3",
      "display_name": "Python 3"
    },
    "language_info": {
      "name": "python"
    }
  },
  "cells": [
    {
      "cell_type": "markdown",
      "metadata": {
        "id": "view-in-github",
        "colab_type": "text"
      },
      "source": [
        "<a href=\"https://colab.research.google.com/github/Minsung-commit/TIL/blob/master/ProDS_%EB%AC%B8%EC%A0%9C%EC%97%B0%EC%8A%B5.ipynb\" target=\"_parent\"><img src=\"https://colab.research.google.com/assets/colab-badge.svg\" alt=\"Open In Colab\"/></a>"
      ]
    },
    {
      "cell_type": "code",
      "metadata": {
        "id": "gOkmxPp4P1US"
      },
      "source": [
        "import pandas as pd\n",
        "import numpy as np"
      ],
      "execution_count": 1,
      "outputs": []
    },
    {
      "cell_type": "code",
      "metadata": {
        "id": "lNuEIgBQQCdm"
      },
      "source": [
        "dt = pd.read_csv('./Dataset_02.csv')"
      ],
      "execution_count": 2,
      "outputs": []
    },
    {
      "cell_type": "code",
      "metadata": {
        "id": "3zuCSM40QSWW"
      },
      "source": [
        "df = pd.DataFrame(dt)"
      ],
      "execution_count": 4,
      "outputs": []
    },
    {
      "cell_type": "code",
      "metadata": {
        "colab": {
          "base_uri": "https://localhost:8080/"
        },
        "id": "yYij7RiqQW-_",
        "outputId": "9f067712-d659-4028-a97f-994fbf37813f"
      },
      "source": [
        "df.info()"
      ],
      "execution_count": 5,
      "outputs": [
        {
          "output_type": "stream",
          "text": [
            "<class 'pandas.core.frame.DataFrame'>\n",
            "RangeIndex: 200 entries, 0 to 199\n",
            "Data columns (total 6 columns):\n",
            " #   Column       Non-Null Count  Dtype  \n",
            "---  ------       --------------  -----  \n",
            " 0   Age          200 non-null    int64  \n",
            " 1   Sex          200 non-null    object \n",
            " 2   BP           200 non-null    object \n",
            " 3   Cholesterol  200 non-null    object \n",
            " 4   Na_to_K      200 non-null    float64\n",
            " 5   Drug         200 non-null    object \n",
            "dtypes: float64(1), int64(1), object(4)\n",
            "memory usage: 9.5+ KB\n"
          ],
          "name": "stdout"
        }
      ]
    },
    {
      "cell_type": "code",
      "metadata": {
        "id": "diycpNUdQhfu"
      },
      "source": [
        "# Tip 변수 생성 후 카이스퀘어 검정(변수가 모두 범주형 변수일 때)\n",
        "\n",
        "# 변수 변환 Bining\n",
        "\n",
        "#np.where\n",
        "#Series.cut()\n",
        "\n",
        "Q2 = df.copy()\n",
        "\n",
        "Q2['Age_gr'] = np.where(Q2.Age<20, '10',\n",
        "                        np.where(Q2.Age < 30, '20',\n",
        "                                 np.where(Q2.Age < 40, '30',\n",
        "                                          np.where(Q2.Age < 50, '40',\n",
        "                                                   np.where(Q2.Age < 60, '50', '60')))))\n"
      ],
      "execution_count": 7,
      "outputs": []
    },
    {
      "cell_type": "code",
      "metadata": {
        "id": "n0ShimK8S3gz"
      },
      "source": [
        "age_gr = pd.cut(Q2.Age, [0,20,30,40,50,60, Q2.Age.max()+1],\n",
        "       right = False,\n",
        "       labels=[10,20,30,40,50,60])\n",
        "\n",
        "# 최소값 표현 include_lowest=True\n"
      ],
      "execution_count": 8,
      "outputs": []
    },
    {
      "cell_type": "code",
      "metadata": {
        "id": "VVcqRjTjUbW7"
      },
      "source": [
        "age_gr"
      ],
      "execution_count": null,
      "outputs": []
    },
    {
      "cell_type": "code",
      "metadata": {
        "id": "FDmzFlu2Ucnp"
      },
      "source": [
        "Na_K_gr = pd.cut(Q2.Na_to_K, [Q2.Na_to_K.min(), 10, 20, 30, Q2.Na_to_K.max()+1],\n",
        "                 right = True,\n",
        "                 labels = ['Lv1', 'Lv2', 'Lv3', 'Lv4'],\n",
        "                 include_lowest = True)"
      ],
      "execution_count": 14,
      "outputs": []
    },
    {
      "cell_type": "code",
      "metadata": {
        "id": "vMEBgfB6Vjvw"
      },
      "source": [
        "Q2['Na_K_gr'] = Na_K_gr"
      ],
      "execution_count": 15,
      "outputs": []
    },
    {
      "cell_type": "code",
      "metadata": {
        "id": "60oETPFYWK1T"
      },
      "source": [
        "import scipy.stats as sc #카이제곱 검정"
      ],
      "execution_count": 16,
      "outputs": []
    },
    {
      "cell_type": "code",
      "metadata": {
        "colab": {
          "base_uri": "https://localhost:8080/"
        },
        "id": "3Ldw3IS0WeS9",
        "outputId": "cb3314e5-b8f3-4721-c991-7809f882aa2c"
      },
      "source": [
        "Q2.columns"
      ],
      "execution_count": 17,
      "outputs": [
        {
          "output_type": "execute_result",
          "data": {
            "text/plain": [
              "Index(['Age', 'Sex', 'BP', 'Cholesterol', 'Na_to_K', 'Drug', 'Age_gr',\n",
              "       'Na_K_gr'],\n",
              "      dtype='object')"
            ]
          },
          "metadata": {},
          "execution_count": 17
        }
      ]
    },
    {
      "cell_type": "code",
      "metadata": {
        "id": "c83FiNyCWRXQ"
      },
      "source": [
        "# 입력 값이 빈도 테이블로 들어가도록 변경\n",
        "\n",
        "sc.chi2_contingency()"
      ],
      "execution_count": null,
      "outputs": []
    },
    {
      "cell_type": "code",
      "metadata": {
        "colab": {
          "base_uri": "https://localhost:8080/"
        },
        "id": "SKPW6ISRWkmx",
        "outputId": "4afe75ac-70a0-4e57-8f4a-c04d48727f9d"
      },
      "source": [
        "Age_t = pd.crosstab(Q2.Age_gr, Q2.Drug)\n",
        "out_age_t = sc.chi2_contingency(Age_t)\n",
        "print(out_age_t[1])\n",
        "\n",
        "Q2_temp = []"
      ],
      "execution_count": 27,
      "outputs": [
        {
          "output_type": "stream",
          "text": [
            "0.0007010113024729462\n"
          ],
          "name": "stdout"
        }
      ]
    },
    {
      "cell_type": "code",
      "metadata": {
        "colab": {
          "base_uri": "https://localhost:8080/"
        },
        "id": "362xB_RFWzcD",
        "outputId": "c41987ec-9e24-43ef-f1a8-6a0e99ef1ef4"
      },
      "source": [
        "for i in ['Sex', 'BP', 'Cholesterol','Age_gr','Na_K_gr'] :\n",
        "  temp = pd.crosstab(Q2[i], Q2.Drug)\n",
        "  out_temp = sc.chi2_contingency(temp)\n",
        "  Q2_temp.append([i, out_temp[1]])\n",
        "\n",
        "Q2_temp"
      ],
      "execution_count": 28,
      "outputs": [
        {
          "output_type": "execute_result",
          "data": {
            "text/plain": [
              "[['Sex', 0.7138369773987128],\n",
              " ['BP', 5.0417334144665895e-27],\n",
              " ['Cholesterol', 0.0005962588389856497],\n",
              " ['Age_gr', 0.0007010113024729462],\n",
              " ['Na_K_gr', 1.1254641594413981e-14]]"
            ]
          },
          "metadata": {},
          "execution_count": 28
        }
      ]
    },
    {
      "cell_type": "code",
      "metadata": {
        "id": "agt6a-G-Zfzg"
      },
      "source": [
        "Q2_temp = pd.DataFrame(Q2_temp)\n",
        "\n",
        "Q2_temp.columns = ['var', 'pvalues']"
      ],
      "execution_count": 30,
      "outputs": []
    },
    {
      "cell_type": "code",
      "metadata": {
        "id": "DNjIZ-9UakCn"
      },
      "source": [
        "Q2_temp = Q2_temp[Q2_temp.pvalues < 0.05] #유의미한 변수 찾기 p값이 0.05 이하"
      ],
      "execution_count": 31,
      "outputs": []
    },
    {
      "cell_type": "code",
      "metadata": {
        "colab": {
          "base_uri": "https://localhost:8080/",
          "height": 80
        },
        "id": "dUEA00quboOk",
        "outputId": "2cd7e168-718e-4eb6-a17c-6f5c7a5bec23"
      },
      "source": [
        "Q2_temp.sort_values(by='pvalues').tail(1) #정답"
      ],
      "execution_count": 34,
      "outputs": [
        {
          "output_type": "execute_result",
          "data": {
            "text/html": [
              "<div>\n",
              "<style scoped>\n",
              "    .dataframe tbody tr th:only-of-type {\n",
              "        vertical-align: middle;\n",
              "    }\n",
              "\n",
              "    .dataframe tbody tr th {\n",
              "        vertical-align: top;\n",
              "    }\n",
              "\n",
              "    .dataframe thead th {\n",
              "        text-align: right;\n",
              "    }\n",
              "</style>\n",
              "<table border=\"1\" class=\"dataframe\">\n",
              "  <thead>\n",
              "    <tr style=\"text-align: right;\">\n",
              "      <th></th>\n",
              "      <th>var</th>\n",
              "      <th>pvalues</th>\n",
              "    </tr>\n",
              "  </thead>\n",
              "  <tbody>\n",
              "    <tr>\n",
              "      <th>3</th>\n",
              "      <td>Age_gr</td>\n",
              "      <td>0.000701</td>\n",
              "    </tr>\n",
              "  </tbody>\n",
              "</table>\n",
              "</div>"
            ],
            "text/plain": [
              "      var   pvalues\n",
              "3  Age_gr  0.000701"
            ]
          },
          "metadata": {},
          "execution_count": 34
        }
      ]
    },
    {
      "cell_type": "markdown",
      "metadata": {
        "id": "ayjf3SH0bwig"
      },
      "source": [
        "## 문제 3"
      ]
    },
    {
      "cell_type": "code",
      "metadata": {
        "id": "FkCo-ZHqfyFu"
      },
      "source": [
        "df_sex = pd.get_dummies(df.Sex)"
      ],
      "execution_count": 36,
      "outputs": []
    },
    {
      "cell_type": "code",
      "metadata": {
        "id": "t48t3Tzrf_Uw"
      },
      "source": [
        "df_sex.drop(\"M\", axis=1, inplace=True)"
      ],
      "execution_count": 38,
      "outputs": []
    },
    {
      "cell_type": "code",
      "metadata": {
        "id": "mDdl15npgawz"
      },
      "source": [
        "df_sex"
      ],
      "execution_count": null,
      "outputs": []
    },
    {
      "cell_type": "code",
      "metadata": {
        "id": "6AZzDi4ggfXB"
      },
      "source": [
        "import numpy as np\n",
        "from sklearn.tree import DecisionTreeClassifier, plot_tree, export_text"
      ],
      "execution_count": 40,
      "outputs": []
    },
    {
      "cell_type": "code",
      "metadata": {
        "id": "i4QEM2Efg2i_"
      },
      "source": [
        "df_chol = pd.get_dummies(df.Cholesterol)"
      ],
      "execution_count": 41,
      "outputs": []
    },
    {
      "cell_type": "code",
      "metadata": {
        "id": "TCA5GEXbg9m_"
      },
      "source": [
        "df_chol = df_chol.HIGH"
      ],
      "execution_count": 43,
      "outputs": []
    },
    {
      "cell_type": "code",
      "metadata": {
        "id": "F5JBzL6hg_jC"
      },
      "source": [
        "df_bp = []\n",
        "\n",
        "for i in df.BP:\n",
        "  if i == \"LOW\":\n",
        "    df_bp.append(0)\n",
        "  elif i == \"NORMAL\":\n",
        "    df_bp.append(1)\n",
        "  else:\n",
        "    df_bp.append(2)\n",
        "\n",
        "df_bp = pd.DataFrame(df_bp)"
      ],
      "execution_count": 47,
      "outputs": []
    },
    {
      "cell_type": "code",
      "metadata": {
        "id": "9ySgeTUAhl_U"
      },
      "source": [
        "Q3 = df"
      ],
      "execution_count": 54,
      "outputs": []
    },
    {
      "cell_type": "code",
      "metadata": {
        "id": "l2k0g7heh4Lj"
      },
      "source": [
        "Q3['BP_cd'] = df_bp\n",
        "Q3['Cholesterol_cd'] = df_chol\n",
        "Q3['Sex_cd'] = df_sex"
      ],
      "execution_count": 55,
      "outputs": []
    },
    {
      "cell_type": "code",
      "metadata": {
        "id": "UKVIgek2iH6O"
      },
      "source": [
        "x_var = ['Age', 'Na_to_K', \n",
        "         'Sex_cd', 'BP_cd', \n",
        "         'Cholesterol_cd']"
      ],
      "execution_count": 58,
      "outputs": []
    },
    {
      "cell_type": "code",
      "metadata": {
        "id": "5BvRZCyJjuwS"
      },
      "source": [
        "dt = DecisionTreeClassifier().fit(Q3[x_var], Q3.Drug)"
      ],
      "execution_count": 59,
      "outputs": []
    },
    {
      "cell_type": "code",
      "metadata": {
        "colab": {
          "base_uri": "https://localhost:8080/",
          "height": 468
        },
        "id": "t_J_amTJj3RY",
        "outputId": "2d95f18e-fd71-422d-beff-e9872937d300"
      },
      "source": [
        "plot_tree(dt, feature_names=x_var, class_names=Q3.Drug.unique())"
      ],
      "execution_count": 60,
      "outputs": [
        {
          "output_type": "execute_result",
          "data": {
            "text/plain": [
              "[Text(223.20000000000002, 195.696, 'Na_to_K <= 14.829\\ngini = 0.694\\nsamples = 200\\nvalue = [91, 23, 16, 16, 54]\\nclass = DrugY'),\n",
              " Text(186.0, 152.208, 'BP_cd <= 1.5\\ngini = 0.667\\nsamples = 109\\nvalue = [0, 23, 16, 16, 54]\\nclass = drugB'),\n",
              " Text(111.60000000000001, 108.72, 'BP_cd <= 0.5\\ngini = 0.353\\nsamples = 70\\nvalue = [0, 0, 0, 16, 54]\\nclass = drugB'),\n",
              " Text(74.4, 65.232, 'Cholesterol_cd <= 0.5\\ngini = 0.498\\nsamples = 34\\nvalue = [0, 0, 0, 16, 18]\\nclass = drugB'),\n",
              " Text(37.2, 21.744, 'gini = 0.0\\nsamples = 18\\nvalue = [0, 0, 0, 0, 18]\\nclass = drugB'),\n",
              " Text(111.60000000000001, 21.744, 'gini = 0.0\\nsamples = 16\\nvalue = [0, 0, 0, 16, 0]\\nclass = drugA'),\n",
              " Text(148.8, 65.232, 'gini = 0.0\\nsamples = 36\\nvalue = [0, 0, 0, 0, 36]\\nclass = drugB'),\n",
              " Text(260.40000000000003, 108.72, 'Age <= 50.5\\ngini = 0.484\\nsamples = 39\\nvalue = [0, 23, 16, 0, 0]\\nclass = drugC'),\n",
              " Text(223.20000000000002, 65.232, 'gini = 0.0\\nsamples = 23\\nvalue = [0, 23, 0, 0, 0]\\nclass = drugC'),\n",
              " Text(297.6, 65.232, 'gini = 0.0\\nsamples = 16\\nvalue = [0, 0, 16, 0, 0]\\nclass = drugX'),\n",
              " Text(260.40000000000003, 152.208, 'gini = 0.0\\nsamples = 91\\nvalue = [91, 0, 0, 0, 0]\\nclass = DrugY')]"
            ]
          },
          "metadata": {},
          "execution_count": 60
        },
        {
          "output_type": "display_data",
          "data": {
            "image/png": "[encoded data removed]",
            "text/plain": [
              "<Figure size 432x288 with 1 Axes>"
            ]
          },
          "metadata": {
            "needs_background": "light"
          }
        }
      ]
    },
    {
      "cell_type": "code",
      "metadata": {
        "colab": {
          "base_uri": "https://localhost:8080/",
          "height": 106
        },
        "id": "D_84IyGlkLDr",
        "outputId": "31656ee3-06ab-49dd-e4ef-dd208c345569"
      },
      "source": [
        "export_text(dt,feature_names=x_var, decimals=3)"
      ],
      "execution_count": 64,
      "outputs": [
        {
          "output_type": "execute_result",
          "data": {
            "application/vnd.google.colaboratory.intrinsic+json": {
              "type": "string"
            },
            "text/plain": [
              "'|--- Na_to_K <= 14.829\\n|   |--- BP_cd <= 1.500\\n|   |   |--- BP_cd <= 0.500\\n|   |   |   |--- Cholesterol_cd <= 0.500\\n|   |   |   |   |--- class: drugX\\n|   |   |   |--- Cholesterol_cd >  0.500\\n|   |   |   |   |--- class: drugC\\n|   |   |--- BP_cd >  0.500\\n|   |   |   |--- class: drugX\\n|   |--- BP_cd >  1.500\\n|   |   |--- Age <= 50.500\\n|   |   |   |--- class: drugA\\n|   |   |--- Age >  50.500\\n|   |   |   |--- class: drugB\\n|--- Na_to_K >  14.829\\n|   |--- class: DrugY\\n'"
            ]
          },
          "metadata": {},
          "execution_count": 64
        }
      ]
    },
    {
      "cell_type": "code",
      "metadata": {
        "id": "NC0XAoIckWpl"
      },
      "source": [
        "#Na_to_K <= 14.829"
      ],
      "execution_count": 65,
      "outputs": []
    },
    {
      "cell_type": "markdown",
      "metadata": {
        "id": "4oIGuPQRmApy"
      },
      "source": [
        "# 문제세트 3"
      ]
    },
    {
      "cell_type": "code",
      "metadata": {
        "id": "ahNIwcjRmENo"
      },
      "source": [
        "#변수 생성(forehead_ration)\n",
        "#생성된 변수 기준으로 평균과 표준편차 계산\n",
        "# 평균 - 3*표준편차, 평균 + 3*표준편차 = 이상치"
      ],
      "execution_count": 66,
      "outputs": []
    },
    {
      "cell_type": "code",
      "metadata": {
        "id": "LarySJNlmXaO"
      },
      "source": [
        "data = pd.DataFrame(pd.read_csv('./Dataset_03.csv'))"
      ],
      "execution_count": 67,
      "outputs": []
    },
    {
      "cell_type": "code",
      "metadata": {
        "colab": {
          "base_uri": "https://localhost:8080/"
        },
        "id": "AfK2sIt3mkdi",
        "outputId": "a710e466-db5e-4fad-c545-ee2fbce9c569"
      },
      "source": [
        "data.info()"
      ],
      "execution_count": 68,
      "outputs": [
        {
          "output_type": "stream",
          "text": [
            "<class 'pandas.core.frame.DataFrame'>\n",
            "RangeIndex: 5001 entries, 0 to 5000\n",
            "Data columns (total 8 columns):\n",
            " #   Column                     Non-Null Count  Dtype  \n",
            "---  ------                     --------------  -----  \n",
            " 0   long_hair                  5001 non-null   int64  \n",
            " 1   forehead_width_cm          5001 non-null   float64\n",
            " 2   forehead_height_cm         5001 non-null   float64\n",
            " 3   nose_wide                  5001 non-null   int64  \n",
            " 4   nose_long                  5001 non-null   int64  \n",
            " 5   lips_thin                  5001 non-null   int64  \n",
            " 6   distance_nose_to_lip_long  5001 non-null   int64  \n",
            " 7   gender                     5001 non-null   object \n",
            "dtypes: float64(2), int64(5), object(1)\n",
            "memory usage: 312.7+ KB\n"
          ],
          "name": "stdout"
        }
      ]
    },
    {
      "cell_type": "code",
      "metadata": {
        "id": "fXZw0Amwmmbn"
      },
      "source": [
        "forehead_ratio = data.forehead_width_cm/data.forehead_height_cm * 100"
      ],
      "execution_count": 89,
      "outputs": []
    },
    {
      "cell_type": "code",
      "metadata": {
        "id": "h7Nyja8enOIL"
      },
      "source": [
        "dt = data.copy()"
      ],
      "execution_count": 90,
      "outputs": []
    },
    {
      "cell_type": "code",
      "metadata": {
        "id": "tCfiNN9UnIfQ"
      },
      "source": [
        "dt['forehead_ratio'] = forehead_ratio"
      ],
      "execution_count": 91,
      "outputs": []
    },
    {
      "cell_type": "code",
      "metadata": {
        "colab": {
          "base_uri": "https://localhost:8080/"
        },
        "id": "f5LM6tNanJ9T",
        "outputId": "355a087f-5ad6-43b8-b67b-ce205ae06250"
      },
      "source": [
        "dt['forehead_ratio'].describe()"
      ],
      "execution_count": 92,
      "outputs": [
        {
          "output_type": "execute_result",
          "data": {
            "text/plain": [
              "count    5001.000000\n",
              "mean      223.361872\n",
              "std        26.452530\n",
              "min       161.971831\n",
              "25%       204.285714\n",
              "50%       221.875000\n",
              "75%       240.677966\n",
              "max       303.921569\n",
              "Name: forehead_ratio, dtype: float64"
            ]
          },
          "metadata": {},
          "execution_count": 92
        }
      ]
    },
    {
      "cell_type": "code",
      "metadata": {
        "id": "FZCg2S8foLfS"
      },
      "source": [
        "m1 = dt['forehead_ratio'].mean()\n",
        "std1 = dt['forehead_ratio'].std()"
      ],
      "execution_count": 93,
      "outputs": []
    },
    {
      "cell_type": "code",
      "metadata": {
        "id": "IMaFjzjEoXzh"
      },
      "source": [
        "LL = m1 - (3*std1)\n",
        "UU = m1 + (3*std1)"
      ],
      "execution_count": 94,
      "outputs": []
    },
    {
      "cell_type": "code",
      "metadata": {
        "id": "7RO7AfEsnYWf"
      },
      "source": [
        "out = dt[(dt['forehead_ratio']<LL) | (dt['forehead_ratio']>UU)]"
      ],
      "execution_count": 95,
      "outputs": []
    },
    {
      "cell_type": "code",
      "metadata": {
        "colab": {
          "base_uri": "https://localhost:8080/",
          "height": 161
        },
        "id": "5brcVffhpg-n",
        "outputId": "13eab0f7-b3ab-4731-8910-458998756153"
      },
      "source": [
        "out"
      ],
      "execution_count": 96,
      "outputs": [
        {
          "output_type": "execute_result",
          "data": {
            "text/html": [
              "<div>\n",
              "<style scoped>\n",
              "    .dataframe tbody tr th:only-of-type {\n",
              "        vertical-align: middle;\n",
              "    }\n",
              "\n",
              "    .dataframe tbody tr th {\n",
              "        vertical-align: top;\n",
              "    }\n",
              "\n",
              "    .dataframe thead th {\n",
              "        text-align: right;\n",
              "    }\n",
              "</style>\n",
              "<table border=\"1\" class=\"dataframe\">\n",
              "  <thead>\n",
              "    <tr style=\"text-align: right;\">\n",
              "      <th></th>\n",
              "      <th>long_hair</th>\n",
              "      <th>forehead_width_cm</th>\n",
              "      <th>forehead_height_cm</th>\n",
              "      <th>nose_wide</th>\n",
              "      <th>nose_long</th>\n",
              "      <th>lips_thin</th>\n",
              "      <th>distance_nose_to_lip_long</th>\n",
              "      <th>gender</th>\n",
              "      <th>forehead_ratio</th>\n",
              "    </tr>\n",
              "  </thead>\n",
              "  <tbody>\n",
              "    <tr>\n",
              "      <th>1641</th>\n",
              "      <td>1</td>\n",
              "      <td>15.5</td>\n",
              "      <td>5.1</td>\n",
              "      <td>1</td>\n",
              "      <td>1</td>\n",
              "      <td>1</td>\n",
              "      <td>1</td>\n",
              "      <td>Male</td>\n",
              "      <td>303.921569</td>\n",
              "    </tr>\n",
              "    <tr>\n",
              "      <th>1817</th>\n",
              "      <td>1</td>\n",
              "      <td>15.5</td>\n",
              "      <td>5.1</td>\n",
              "      <td>1</td>\n",
              "      <td>0</td>\n",
              "      <td>1</td>\n",
              "      <td>1</td>\n",
              "      <td>Male</td>\n",
              "      <td>303.921569</td>\n",
              "    </tr>\n",
              "    <tr>\n",
              "      <th>4948</th>\n",
              "      <td>0</td>\n",
              "      <td>15.5</td>\n",
              "      <td>5.1</td>\n",
              "      <td>1</td>\n",
              "      <td>1</td>\n",
              "      <td>1</td>\n",
              "      <td>1</td>\n",
              "      <td>Male</td>\n",
              "      <td>303.921569</td>\n",
              "    </tr>\n",
              "  </tbody>\n",
              "</table>\n",
              "</div>"
            ],
            "text/plain": [
              "      long_hair  forehead_width_cm  ...  gender  forehead_ratio\n",
              "1641          1               15.5  ...    Male      303.921569\n",
              "1817          1               15.5  ...    Male      303.921569\n",
              "4948          0               15.5  ...    Male      303.921569\n",
              "\n",
              "[3 rows x 9 columns]"
            ]
          },
          "metadata": {},
          "execution_count": 96
        }
      ]
    },
    {
      "cell_type": "code",
      "metadata": {
        "id": "Bp8chbLaop_1"
      },
      "source": [
        "ans = len(out)"
      ],
      "execution_count": 97,
      "outputs": []
    },
    {
      "cell_type": "code",
      "metadata": {
        "colab": {
          "base_uri": "https://localhost:8080/"
        },
        "id": "6_uzj6HppKN9",
        "outputId": "9a27dbda-d25b-4a89-c7f4-1d0a87f61b28"
      },
      "source": [
        "ans"
      ],
      "execution_count": 98,
      "outputs": [
        {
          "output_type": "execute_result",
          "data": {
            "text/plain": [
              "3"
            ]
          },
          "metadata": {},
          "execution_count": 98
        }
      ]
    },
    {
      "cell_type": "markdown",
      "metadata": {
        "id": "41Dqlt9ipd2m"
      },
      "source": [
        "## 문제 2"
      ]
    },
    {
      "cell_type": "code",
      "metadata": {
        "id": "PSJNlhyHvdbB"
      },
      "source": [
        "# 독립인 두 집단 간의 평균 차이 검정\n",
        "\n",
        "from scipy.stats import ttest_1samp, ttest_ind, ttest_rel"
      ],
      "execution_count": 99,
      "outputs": []
    },
    {
      "cell_type": "code",
      "metadata": {
        "id": "1JBNzkvDvp0A"
      },
      "source": [
        "Q1 = data.copy()"
      ],
      "execution_count": 100,
      "outputs": []
    },
    {
      "cell_type": "code",
      "metadata": {
        "colab": {
          "base_uri": "https://localhost:8080/"
        },
        "id": "4y5ar-itvmw8",
        "outputId": "604e7224-24d4-4fae-8290-e47307fe8cdd"
      },
      "source": [
        "ttest_ind(dt.forehead_ratio[dt.gender == 'Male'],\n",
        "          dt.forehead_ratio[dt.gender == 'Female'],\n",
        "          equal_var = False)"
      ],
      "execution_count": 105,
      "outputs": [
        {
          "output_type": "execute_result",
          "data": {
            "text/plain": [
              "Ttest_indResult(statistic=2.9994984197510854, pvalue=0.002718670239066328)"
            ]
          },
          "metadata": {},
          "execution_count": 105
        }
      ]
    },
    {
      "cell_type": "markdown",
      "metadata": {
        "id": "0b5d30Pj0ezY"
      },
      "source": [
        "## 문제 3"
      ]
    },
    {
      "cell_type": "code",
      "metadata": {
        "id": "bHe64B5Sv6TA"
      },
      "source": [
        "from sklearn.linear_model import LogisticRegression\n",
        "from sklearn.model_selection import train_test_split\n",
        "from sklearn import metrics\n",
        "from sklearn.metrics import  classification_report, precision_score"
      ],
      "execution_count": 111,
      "outputs": []
    },
    {
      "cell_type": "code",
      "metadata": {
        "id": "33n5J-yi0Ia7"
      },
      "source": [
        "Q3 = data.copy()"
      ],
      "execution_count": 109,
      "outputs": []
    },
    {
      "cell_type": "code",
      "metadata": {
        "id": "-oiA00st0laW"
      },
      "source": [
        "X = Q3.drop('gender', axis=1)\n",
        "y = Q3.gender"
      ],
      "execution_count": 110,
      "outputs": []
    },
    {
      "cell_type": "code",
      "metadata": {
        "id": "0Gcxp-Bo0tUj"
      },
      "source": [
        "X_train, X_test, y_train, y_test = train_test_split(X, y, test_size = 0.3, random_state = 123) "
      ],
      "execution_count": 117,
      "outputs": []
    },
    {
      "cell_type": "code",
      "metadata": {
        "id": "QX3wcufH0_yG"
      },
      "source": [
        "y_test"
      ],
      "execution_count": null,
      "outputs": []
    },
    {
      "cell_type": "code",
      "metadata": {
        "id": "VAHQBti51Ekn"
      },
      "source": [
        "model = LogisticRegression()"
      ],
      "execution_count": 122,
      "outputs": []
    },
    {
      "cell_type": "code",
      "metadata": {
        "colab": {
          "base_uri": "https://localhost:8080/"
        },
        "id": "4xI0sUjG1pD1",
        "outputId": "e18f1fd3-1379-4556-bf46-5cc5e6142a2c"
      },
      "source": [
        "model.fit(X_train, y_train)"
      ],
      "execution_count": 123,
      "outputs": [
        {
          "output_type": "execute_result",
          "data": {
            "text/plain": [
              "LogisticRegression(C=1.0, class_weight=None, dual=False, fit_intercept=True,\n",
              "                   intercept_scaling=1, l1_ratio=None, max_iter=100,\n",
              "                   multi_class='auto', n_jobs=None, penalty='l2',\n",
              "                   random_state=None, solver='lbfgs', tol=0.0001, verbose=0,\n",
              "                   warm_start=False)"
            ]
          },
          "metadata": {},
          "execution_count": 123
        }
      ]
    },
    {
      "cell_type": "code",
      "metadata": {
        "id": "6v2b-eKk13CO"
      },
      "source": [
        "pred = model.predict(X_test)"
      ],
      "execution_count": 124,
      "outputs": []
    },
    {
      "cell_type": "code",
      "metadata": {
        "colab": {
          "base_uri": "https://localhost:8080/"
        },
        "id": "_Gu86zrN2R4H",
        "outputId": "eaeb75fd-e9d6-416f-a640-0d699d79fed6"
      },
      "source": [
        "precision_score(y_test, pred, pos_label='Male')"
      ],
      "execution_count": 130,
      "outputs": [
        {
          "output_type": "execute_result",
          "data": {
            "text/plain": [
              "0.9596354166666666"
            ]
          },
          "metadata": {},
          "execution_count": 130
        }
      ]
    },
    {
      "cell_type": "code",
      "metadata": {
        "colab": {
          "base_uri": "https://localhost:8080/"
        },
        "id": "oI_w1L882AoN",
        "outputId": "f0d49e04-44ad-42f6-d5fd-f01b9333f969"
      },
      "source": [
        "print(classification_report(y_test, pred))"
      ],
      "execution_count": 129,
      "outputs": [
        {
          "output_type": "stream",
          "text": [
            "              precision    recall  f1-score   support\n",
            "\n",
            "      Female       0.97      0.96      0.96       743\n",
            "        Male       0.96      0.97      0.97       758\n",
            "\n",
            "    accuracy                           0.97      1501\n",
            "   macro avg       0.97      0.97      0.97      1501\n",
            "weighted avg       0.97      0.97      0.97      1501\n",
            "\n"
          ],
          "name": "stdout"
        }
      ]
    },
    {
      "cell_type": "code",
      "metadata": {
        "colab": {
          "base_uri": "https://localhost:8080/",
          "height": 171
        },
        "id": "MAeksMBr2HVU",
        "outputId": "ecda4ff3-214e-4ae2-d4e8-ba81baedb381"
      },
      "source": [
        "(pred[:, 1] > 0.7).sum()"
      ],
      "execution_count": 131,
      "outputs": [
        {
          "output_type": "error",
          "ename": "IndexError",
          "evalue": "ignored",
          "traceback": [
            "\u001b[0;31m---------------------------------------------------------------------------\u001b[0m",
            "\u001b[0;31mIndexError\u001b[0m                                Traceback (most recent call last)",
            "\u001b[0;32m<ipython-input-131-8c33e8288425>\u001b[0m in \u001b[0;36m<module>\u001b[0;34m()\u001b[0m\n\u001b[0;32m----> 1\u001b[0;31m \u001b[0;34m(\u001b[0m\u001b[0mpred\u001b[0m\u001b[0;34m[\u001b[0m\u001b[0;34m:\u001b[0m\u001b[0;34m,\u001b[0m \u001b[0;36m1\u001b[0m\u001b[0;34m]\u001b[0m \u001b[0;34m>\u001b[0m \u001b[0;36m0.7\u001b[0m\u001b[0;34m)\u001b[0m\u001b[0;34m.\u001b[0m\u001b[0msum\u001b[0m\u001b[0;34m(\u001b[0m\u001b[0;34m)\u001b[0m\u001b[0;34m\u001b[0m\u001b[0;34m\u001b[0m\u001b[0m\n\u001b[0m",
            "\u001b[0;31mIndexError\u001b[0m: too many indices for array: array is 1-dimensional, but 2 were indexed"
          ]
        }
      ]
    },
    {
      "cell_type": "markdown",
      "metadata": {
        "id": "9uvbQiKf7Qpv"
      },
      "source": [
        "#문제세트 4"
      ]
    },
    {
      "cell_type": "markdown",
      "metadata": {
        "id": "Tb7RtXjV7Ync"
      },
      "source": [
        "## 문제 1\n"
      ]
    },
    {
      "cell_type": "code",
      "metadata": {
        "id": "04MbOaO07aZz"
      },
      "source": [
        "data = pd.DataFrame(pd.read_csv('./Dataset_04.csv'))"
      ],
      "execution_count": 132,
      "outputs": []
    },
    {
      "cell_type": "code",
      "metadata": {
        "id": "f8VtWnSq7nuf"
      },
      "source": [
        "q1 = data.copy()"
      ],
      "execution_count": 135,
      "outputs": []
    },
    {
      "cell_type": "code",
      "metadata": {
        "colab": {
          "base_uri": "https://localhost:8080/"
        },
        "id": "xRmavHJR7p3m",
        "outputId": "9c7bd7fb-7b4d-41f8-ed96-88edf62f9457"
      },
      "source": [
        "q1.info()"
      ],
      "execution_count": 136,
      "outputs": [
        {
          "output_type": "stream",
          "text": [
            "<class 'pandas.core.frame.DataFrame'>\n",
            "RangeIndex: 6718 entries, 0 to 6717\n",
            "Data columns (total 4 columns):\n",
            " #   Column    Non-Null Count  Dtype  \n",
            "---  ------    --------------  -----  \n",
            " 0   LOCATION  6718 non-null   object \n",
            " 1   SUBJECT   6718 non-null   object \n",
            " 2   TIME      6718 non-null   int64  \n",
            " 3   Value     6718 non-null   float64\n",
            "dtypes: float64(1), int64(1), object(2)\n",
            "memory usage: 210.1+ KB\n"
          ],
          "name": "stdout"
        }
      ]
    },
    {
      "cell_type": "code",
      "metadata": {
        "id": "C8O-mzM37ucw"
      },
      "source": [
        "q1_kor = (q1[q1['LOCATION'] == 'KOR'])"
      ],
      "execution_count": 140,
      "outputs": []
    },
    {
      "cell_type": "code",
      "metadata": {
        "colab": {
          "base_uri": "https://localhost:8080/",
          "height": 420
        },
        "id": "Rg-AAunY73ak",
        "outputId": "c160aa1a-912d-4d63-ea21-c0a17f1c6331"
      },
      "source": [
        "q1_kor"
      ],
      "execution_count": 141,
      "outputs": [
        {
          "output_type": "execute_result",
          "data": {
            "text/html": [
              "<div>\n",
              "<style scoped>\n",
              "    .dataframe tbody tr th:only-of-type {\n",
              "        vertical-align: middle;\n",
              "    }\n",
              "\n",
              "    .dataframe tbody tr th {\n",
              "        vertical-align: top;\n",
              "    }\n",
              "\n",
              "    .dataframe thead th {\n",
              "        text-align: right;\n",
              "    }\n",
              "</style>\n",
              "<table border=\"1\" class=\"dataframe\">\n",
              "  <thead>\n",
              "    <tr style=\"text-align: right;\">\n",
              "      <th></th>\n",
              "      <th>LOCATION</th>\n",
              "      <th>SUBJECT</th>\n",
              "      <th>TIME</th>\n",
              "      <th>Value</th>\n",
              "    </tr>\n",
              "  </thead>\n",
              "  <tbody>\n",
              "    <tr>\n",
              "      <th>442</th>\n",
              "      <td>KOR</td>\n",
              "      <td>BEEF</td>\n",
              "      <td>1991</td>\n",
              "      <td>5.085481</td>\n",
              "    </tr>\n",
              "    <tr>\n",
              "      <th>443</th>\n",
              "      <td>KOR</td>\n",
              "      <td>BEEF</td>\n",
              "      <td>1992</td>\n",
              "      <td>5.685434</td>\n",
              "    </tr>\n",
              "    <tr>\n",
              "      <th>444</th>\n",
              "      <td>KOR</td>\n",
              "      <td>BEEF</td>\n",
              "      <td>1993</td>\n",
              "      <td>5.325765</td>\n",
              "    </tr>\n",
              "    <tr>\n",
              "      <th>445</th>\n",
              "      <td>KOR</td>\n",
              "      <td>BEEF</td>\n",
              "      <td>1994</td>\n",
              "      <td>5.698819</td>\n",
              "    </tr>\n",
              "    <tr>\n",
              "      <th>446</th>\n",
              "      <td>KOR</td>\n",
              "      <td>BEEF</td>\n",
              "      <td>1995</td>\n",
              "      <td>6.568429</td>\n",
              "    </tr>\n",
              "    <tr>\n",
              "      <th>...</th>\n",
              "      <td>...</td>\n",
              "      <td>...</td>\n",
              "      <td>...</td>\n",
              "      <td>...</td>\n",
              "    </tr>\n",
              "    <tr>\n",
              "      <th>583</th>\n",
              "      <td>KOR</td>\n",
              "      <td>SHEEP</td>\n",
              "      <td>2022</td>\n",
              "      <td>0.197951</td>\n",
              "    </tr>\n",
              "    <tr>\n",
              "      <th>584</th>\n",
              "      <td>KOR</td>\n",
              "      <td>SHEEP</td>\n",
              "      <td>2023</td>\n",
              "      <td>0.199098</td>\n",
              "    </tr>\n",
              "    <tr>\n",
              "      <th>585</th>\n",
              "      <td>KOR</td>\n",
              "      <td>SHEEP</td>\n",
              "      <td>2024</td>\n",
              "      <td>0.200266</td>\n",
              "    </tr>\n",
              "    <tr>\n",
              "      <th>586</th>\n",
              "      <td>KOR</td>\n",
              "      <td>SHEEP</td>\n",
              "      <td>2025</td>\n",
              "      <td>0.201451</td>\n",
              "    </tr>\n",
              "    <tr>\n",
              "      <th>587</th>\n",
              "      <td>KOR</td>\n",
              "      <td>SHEEP</td>\n",
              "      <td>2026</td>\n",
              "      <td>0.202656</td>\n",
              "    </tr>\n",
              "  </tbody>\n",
              "</table>\n",
              "<p>146 rows × 4 columns</p>\n",
              "</div>"
            ],
            "text/plain": [
              "    LOCATION SUBJECT  TIME     Value\n",
              "442      KOR    BEEF  1991  5.085481\n",
              "443      KOR    BEEF  1992  5.685434\n",
              "444      KOR    BEEF  1993  5.325765\n",
              "445      KOR    BEEF  1994  5.698819\n",
              "446      KOR    BEEF  1995  6.568429\n",
              "..       ...     ...   ...       ...\n",
              "583      KOR   SHEEP  2022  0.197951\n",
              "584      KOR   SHEEP  2023  0.199098\n",
              "585      KOR   SHEEP  2024  0.200266\n",
              "586      KOR   SHEEP  2025  0.201451\n",
              "587      KOR   SHEEP  2026  0.202656\n",
              "\n",
              "[146 rows x 4 columns]"
            ]
          },
          "metadata": {},
          "execution_count": 141
        }
      ]
    },
    {
      "cell_type": "code",
      "metadata": {
        "id": "YAX3mleP76DQ"
      },
      "source": [
        "q1_out = pd.pivot_table(data = q1_kor, index='TIME',\n",
        "                        values = 'Value',\n",
        "                        aggfunc = 'sum')"
      ],
      "execution_count": 147,
      "outputs": []
    },
    {
      "cell_type": "code",
      "metadata": {
        "id": "PKVS15hH8c7D"
      },
      "source": [
        "q1_reset = q1_out.reset_index()"
      ],
      "execution_count": 150,
      "outputs": []
    },
    {
      "cell_type": "code",
      "metadata": {
        "id": "a02Ckwet8d4J"
      },
      "source": [
        "answer = q1_reset.corr()['Value']['TIME']"
      ],
      "execution_count": 153,
      "outputs": []
    },
    {
      "cell_type": "code",
      "metadata": {
        "colab": {
          "base_uri": "https://localhost:8080/"
        },
        "id": "_XZU84EV-LAb",
        "outputId": "31f9a2a8-c0e8-4036-ec0d-c74d716af4ad"
      },
      "source": [
        "answer.round(3)"
      ],
      "execution_count": 154,
      "outputs": [
        {
          "output_type": "execute_result",
          "data": {
            "text/plain": [
              "0.96"
            ]
          },
          "metadata": {},
          "execution_count": 154
        }
      ]
    },
    {
      "cell_type": "markdown",
      "metadata": {
        "id": "RBIowHdS-2j7"
      },
      "source": [
        "## 문제 2\n",
        "  - 대응표본일때는 ttest rel\n",
        "  - 단일표본일때는 ttest ind"
      ]
    },
    {
      "cell_type": "code",
      "metadata": {
        "id": "b8DYiUfV-6ZS"
      },
      "source": [
        "q2 = data.copy()"
      ],
      "execution_count": 155,
      "outputs": []
    },
    {
      "cell_type": "code",
      "metadata": {
        "id": "jDT-dNun_B8E"
      },
      "source": [
        "q2 = q2.loc[((q2.LOCATION == 'JPN')|(q2.LOCATION =='KOR'))]"
      ],
      "execution_count": 163,
      "outputs": []
    },
    {
      "cell_type": "code",
      "metadata": {
        "id": "JvNwnTz-_Rm-"
      },
      "source": [
        "q2_pivot = pd.pivot_table(data=q2, values='Value', index=['TIME','SUBJECT'], columns = 'LOCATION', aggfunc='sum')"
      ],
      "execution_count": 170,
      "outputs": []
    },
    {
      "cell_type": "code",
      "metadata": {
        "id": "fv0W8HY_Apf0"
      },
      "source": [
        "q2_reset = q2_pivot.reset_index()"
      ],
      "execution_count": 171,
      "outputs": []
    },
    {
      "cell_type": "code",
      "metadata": {
        "id": "696ipgBlBbne"
      },
      "source": [
        "q2q2 = q2_reset.dropna()"
      ],
      "execution_count": 173,
      "outputs": []
    },
    {
      "cell_type": "code",
      "metadata": {
        "colab": {
          "base_uri": "https://localhost:8080/",
          "height": 420
        },
        "id": "XA5BBnvyJ6Q2",
        "outputId": "01c76474-ef8b-4c1e-b565-69e6a28e7428"
      },
      "source": [
        "q2q2"
      ],
      "execution_count": 196,
      "outputs": [
        {
          "output_type": "execute_result",
          "data": {
            "text/html": [
              "<div>\n",
              "<style scoped>\n",
              "    .dataframe tbody tr th:only-of-type {\n",
              "        vertical-align: middle;\n",
              "    }\n",
              "\n",
              "    .dataframe tbody tr th {\n",
              "        vertical-align: top;\n",
              "    }\n",
              "\n",
              "    .dataframe thead th {\n",
              "        text-align: right;\n",
              "    }\n",
              "</style>\n",
              "<table border=\"1\" class=\"dataframe\">\n",
              "  <thead>\n",
              "    <tr style=\"text-align: right;\">\n",
              "      <th>LOCATION</th>\n",
              "      <th>TIME</th>\n",
              "      <th>SUBJECT</th>\n",
              "      <th>JPN</th>\n",
              "      <th>KOR</th>\n",
              "    </tr>\n",
              "  </thead>\n",
              "  <tbody>\n",
              "    <tr>\n",
              "      <th>2</th>\n",
              "      <td>1990</td>\n",
              "      <td>POULTRY</td>\n",
              "      <td>12.844865</td>\n",
              "      <td>5.570102</td>\n",
              "    </tr>\n",
              "    <tr>\n",
              "      <th>3</th>\n",
              "      <td>1990</td>\n",
              "      <td>SHEEP</td>\n",
              "      <td>0.756696</td>\n",
              "      <td>0.204153</td>\n",
              "    </tr>\n",
              "    <tr>\n",
              "      <th>4</th>\n",
              "      <td>1991</td>\n",
              "      <td>BEEF</td>\n",
              "      <td>6.517055</td>\n",
              "      <td>5.085481</td>\n",
              "    </tr>\n",
              "    <tr>\n",
              "      <th>5</th>\n",
              "      <td>1991</td>\n",
              "      <td>PIG</td>\n",
              "      <td>13.239267</td>\n",
              "      <td>9.930182</td>\n",
              "    </tr>\n",
              "    <tr>\n",
              "      <th>6</th>\n",
              "      <td>1991</td>\n",
              "      <td>POULTRY</td>\n",
              "      <td>12.055422</td>\n",
              "      <td>6.738203</td>\n",
              "    </tr>\n",
              "    <tr>\n",
              "      <th>...</th>\n",
              "      <td>...</td>\n",
              "      <td>...</td>\n",
              "      <td>...</td>\n",
              "      <td>...</td>\n",
              "    </tr>\n",
              "    <tr>\n",
              "      <th>143</th>\n",
              "      <td>2025</td>\n",
              "      <td>SHEEP</td>\n",
              "      <td>0.125060</td>\n",
              "      <td>0.201451</td>\n",
              "    </tr>\n",
              "    <tr>\n",
              "      <th>144</th>\n",
              "      <td>2026</td>\n",
              "      <td>BEEF</td>\n",
              "      <td>6.844875</td>\n",
              "      <td>10.737425</td>\n",
              "    </tr>\n",
              "    <tr>\n",
              "      <th>145</th>\n",
              "      <td>2026</td>\n",
              "      <td>PIG</td>\n",
              "      <td>15.544018</td>\n",
              "      <td>29.544063</td>\n",
              "    </tr>\n",
              "    <tr>\n",
              "      <th>146</th>\n",
              "      <td>2026</td>\n",
              "      <td>POULTRY</td>\n",
              "      <td>14.768340</td>\n",
              "      <td>17.907865</td>\n",
              "    </tr>\n",
              "    <tr>\n",
              "      <th>147</th>\n",
              "      <td>2026</td>\n",
              "      <td>SHEEP</td>\n",
              "      <td>0.122136</td>\n",
              "      <td>0.202656</td>\n",
              "    </tr>\n",
              "  </tbody>\n",
              "</table>\n",
              "<p>146 rows × 4 columns</p>\n",
              "</div>"
            ],
            "text/plain": [
              "LOCATION  TIME  SUBJECT        JPN        KOR\n",
              "2         1990  POULTRY  12.844865   5.570102\n",
              "3         1990    SHEEP   0.756696   0.204153\n",
              "4         1991     BEEF   6.517055   5.085481\n",
              "5         1991      PIG  13.239267   9.930182\n",
              "6         1991  POULTRY  12.055422   6.738203\n",
              "..         ...      ...        ...        ...\n",
              "143       2025    SHEEP   0.125060   0.201451\n",
              "144       2026     BEEF   6.844875  10.737425\n",
              "145       2026      PIG  15.544018  29.544063\n",
              "146       2026  POULTRY  14.768340  17.907865\n",
              "147       2026    SHEEP   0.122136   0.202656\n",
              "\n",
              "[146 rows x 4 columns]"
            ]
          },
          "metadata": {},
          "execution_count": 196
        }
      ]
    },
    {
      "cell_type": "code",
      "metadata": {
        "id": "G5r2skJpCOx2"
      },
      "source": [
        "sub_list = q2q2.SUBJECT.unique().tolist()"
      ],
      "execution_count": 178,
      "outputs": []
    },
    {
      "cell_type": "code",
      "metadata": {
        "id": "1OyQlXmFCeEN"
      },
      "source": [
        "q2_list = []\n",
        "\n",
        "for i in sub_list:\n",
        "  temp = q2q2[q2q2.SUBJECT==i]\n",
        "  pvalue = ttest_rel(temp['KOR'], temp['JPN']).pvalue\n",
        "  q2_list = q2_list +[[i, pvalue]]"
      ],
      "execution_count": 179,
      "outputs": []
    },
    {
      "cell_type": "code",
      "metadata": {
        "id": "Tvr5_cN5DtXs"
      },
      "source": [
        "q2_list = pd.DataFrame(q2_list, columns=['sub','pvalue'])"
      ],
      "execution_count": 180,
      "outputs": []
    },
    {
      "cell_type": "code",
      "metadata": {
        "id": "c0UjoEMbD0jB"
      },
      "source": [
        "q2_ans = q2_list[q2_list.pvalue >= 0.05] # 차이가 없다는 말은 귀무가설을 채택하겠다는 의미"
      ],
      "execution_count": 182,
      "outputs": []
    },
    {
      "cell_type": "code",
      "metadata": {
        "colab": {
          "base_uri": "https://localhost:8080/"
        },
        "id": "4HIT3MMeEDSH",
        "outputId": "eb3b86e9-4f88-4466-ef51-ef4907f7c97c"
      },
      "source": [
        "print(q2_ans['sub'])"
      ],
      "execution_count": 186,
      "outputs": [
        {
          "output_type": "stream",
          "text": [
            "0    POULTRY\n",
            "Name: sub, dtype: object\n"
          ],
          "name": "stdout"
        }
      ]
    },
    {
      "cell_type": "markdown",
      "metadata": {
        "id": "bRCNaxOgE_oL"
      },
      "source": [
        "## 문제 3"
      ]
    },
    {
      "cell_type": "code",
      "metadata": {
        "id": "bhQ94OabFB0E"
      },
      "source": [
        "from sklearn.linear_model import LinearRegression\n",
        "from sklearn.metrics import r2_score, mean_absolute_error\n",
        "from statsmodels.api import  OLS, add_constant"
      ],
      "execution_count": 187,
      "outputs": []
    },
    {
      "cell_type": "code",
      "metadata": {
        "id": "iGVp_PS6FfSc"
      },
      "source": [
        "q3 = data.copy()"
      ],
      "execution_count": 188,
      "outputs": []
    },
    {
      "cell_type": "code",
      "metadata": {
        "id": "-xN8wV_LGIVb"
      },
      "source": [
        "q3 = q3[q3.LOCATION == 'KOR']"
      ],
      "execution_count": 189,
      "outputs": []
    },
    {
      "cell_type": "code",
      "metadata": {
        "id": "_XpImRjfGM4E"
      },
      "source": [
        "q3q3 = q3.groupby(by=['TIME','SUBJECT'])"
      ],
      "execution_count": 190,
      "outputs": []
    },
    {
      "cell_type": "code",
      "metadata": {
        "id": "OT0YHg0XJRaT"
      },
      "source": [
        "q3 = q3q3.sum()"
      ],
      "execution_count": 194,
      "outputs": []
    },
    {
      "cell_type": "code",
      "metadata": {
        "id": "DOt4j6uoJSGB"
      },
      "source": [
        "q3 = q3.reset_index()"
      ],
      "execution_count": 197,
      "outputs": []
    },
    {
      "cell_type": "code",
      "metadata": {
        "colab": {
          "base_uri": "https://localhost:8080/",
          "height": 420
        },
        "id": "bM_OFhqjK0dS",
        "outputId": "142cf4f8-66a9-4264-f592-d92a48242f5d"
      },
      "source": [
        "q3"
      ],
      "execution_count": 198,
      "outputs": [
        {
          "output_type": "execute_result",
          "data": {
            "text/html": [
              "<div>\n",
              "<style scoped>\n",
              "    .dataframe tbody tr th:only-of-type {\n",
              "        vertical-align: middle;\n",
              "    }\n",
              "\n",
              "    .dataframe tbody tr th {\n",
              "        vertical-align: top;\n",
              "    }\n",
              "\n",
              "    .dataframe thead th {\n",
              "        text-align: right;\n",
              "    }\n",
              "</style>\n",
              "<table border=\"1\" class=\"dataframe\">\n",
              "  <thead>\n",
              "    <tr style=\"text-align: right;\">\n",
              "      <th></th>\n",
              "      <th>TIME</th>\n",
              "      <th>SUBJECT</th>\n",
              "      <th>Value</th>\n",
              "    </tr>\n",
              "  </thead>\n",
              "  <tbody>\n",
              "    <tr>\n",
              "      <th>0</th>\n",
              "      <td>1990</td>\n",
              "      <td>POULTRY</td>\n",
              "      <td>5.570102</td>\n",
              "    </tr>\n",
              "    <tr>\n",
              "      <th>1</th>\n",
              "      <td>1990</td>\n",
              "      <td>SHEEP</td>\n",
              "      <td>0.204153</td>\n",
              "    </tr>\n",
              "    <tr>\n",
              "      <th>2</th>\n",
              "      <td>1991</td>\n",
              "      <td>BEEF</td>\n",
              "      <td>5.085481</td>\n",
              "    </tr>\n",
              "    <tr>\n",
              "      <th>3</th>\n",
              "      <td>1991</td>\n",
              "      <td>PIG</td>\n",
              "      <td>9.930182</td>\n",
              "    </tr>\n",
              "    <tr>\n",
              "      <th>4</th>\n",
              "      <td>1991</td>\n",
              "      <td>POULTRY</td>\n",
              "      <td>6.738203</td>\n",
              "    </tr>\n",
              "    <tr>\n",
              "      <th>...</th>\n",
              "      <td>...</td>\n",
              "      <td>...</td>\n",
              "      <td>...</td>\n",
              "    </tr>\n",
              "    <tr>\n",
              "      <th>141</th>\n",
              "      <td>2025</td>\n",
              "      <td>SHEEP</td>\n",
              "      <td>0.201451</td>\n",
              "    </tr>\n",
              "    <tr>\n",
              "      <th>142</th>\n",
              "      <td>2026</td>\n",
              "      <td>BEEF</td>\n",
              "      <td>10.737425</td>\n",
              "    </tr>\n",
              "    <tr>\n",
              "      <th>143</th>\n",
              "      <td>2026</td>\n",
              "      <td>PIG</td>\n",
              "      <td>29.544063</td>\n",
              "    </tr>\n",
              "    <tr>\n",
              "      <th>144</th>\n",
              "      <td>2026</td>\n",
              "      <td>POULTRY</td>\n",
              "      <td>17.907865</td>\n",
              "    </tr>\n",
              "    <tr>\n",
              "      <th>145</th>\n",
              "      <td>2026</td>\n",
              "      <td>SHEEP</td>\n",
              "      <td>0.202656</td>\n",
              "    </tr>\n",
              "  </tbody>\n",
              "</table>\n",
              "<p>146 rows × 3 columns</p>\n",
              "</div>"
            ],
            "text/plain": [
              "     TIME  SUBJECT      Value\n",
              "0    1990  POULTRY   5.570102\n",
              "1    1990    SHEEP   0.204153\n",
              "2    1991     BEEF   5.085481\n",
              "3    1991      PIG   9.930182\n",
              "4    1991  POULTRY   6.738203\n",
              "..    ...      ...        ...\n",
              "141  2025    SHEEP   0.201451\n",
              "142  2026     BEEF  10.737425\n",
              "143  2026      PIG  29.544063\n",
              "144  2026  POULTRY  17.907865\n",
              "145  2026    SHEEP   0.202656\n",
              "\n",
              "[146 rows x 3 columns]"
            ]
          },
          "metadata": {},
          "execution_count": 198
        }
      ]
    },
    {
      "cell_type": "code",
      "metadata": {
        "id": "D8YZsFJpJ1fS"
      },
      "source": [
        "q3_out = []\n",
        "\n",
        "for i in sub_list:\n",
        "  temp = q3[q3.SUBJECT == i]\n",
        "  lm = LinearRegression()\n",
        "  lm.fit(temp[['TIME']], temp.Value)\n",
        "  # X(입력 변수) 2차원 구조로 입력\n",
        "  r2_score = lm.score(temp[['TIME']], temp.Value)\n",
        "  q3_out = q3_out + [[i, r2_score]]"
      ],
      "execution_count": 202,
      "outputs": []
    },
    {
      "cell_type": "code",
      "metadata": {
        "id": "bvwcLFUhMESJ"
      },
      "source": [
        "q3_out = pd.DataFrame(q3_out, columns=['sub', 'r2_score'])"
      ],
      "execution_count": 203,
      "outputs": []
    },
    {
      "cell_type": "code",
      "metadata": {
        "id": "L14uWeAaMKsd"
      },
      "source": [
        "temp2 = q3[q3.SUBJECT == 'POULTRY']\n",
        "lm2=LinearRegression().fit(temp2[['TIME']], temp2.Value)"
      ],
      "execution_count": 204,
      "outputs": []
    },
    {
      "cell_type": "code",
      "metadata": {
        "id": "Uf5uwS0GMbst"
      },
      "source": [
        "pred = lm2.predict(temp2[['TIME']])"
      ],
      "execution_count": 205,
      "outputs": []
    },
    {
      "cell_type": "code",
      "metadata": {
        "id": "dEmOhb7xMs5u"
      },
      "source": [
        "# MAPE\n",
        "mape = (abs(temp2.Value - pred)/temp2.Value).sum() * 100 / len(temp2)"
      ],
      "execution_count": 209,
      "outputs": []
    },
    {
      "cell_type": "code",
      "metadata": {
        "colab": {
          "base_uri": "https://localhost:8080/"
        },
        "id": "n6IUQcgpNJFI",
        "outputId": "e973c672-2521-4745-bf19-2496d768a72a"
      },
      "source": [
        "mape"
      ],
      "execution_count": 210,
      "outputs": [
        {
          "output_type": "execute_result",
          "data": {
            "text/plain": [
              "5.783357902874551"
            ]
          },
          "metadata": {},
          "execution_count": 210
        }
      ]
    },
    {
      "cell_type": "code",
      "metadata": {
        "id": "HPTdhf0_NTOf"
      },
      "source": [
        ""
      ],
      "execution_count": null,
      "outputs": []
    }
  ]
}