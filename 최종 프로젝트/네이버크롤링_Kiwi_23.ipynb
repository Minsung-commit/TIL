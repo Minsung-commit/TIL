{
  "nbformat": 4,
  "nbformat_minor": 0,
  "metadata": {
    "colab": {
      "name": "네이버크롤링_Kiwi",
      "provenance": [],
      "collapsed_sections": [
        "6qW1Lg8vNfM-",
        "Hs8x2Y7yMT_l",
        "AW9C899D02Lc",
        "1c7JNaAmGBGX"
      ],
      "include_colab_link": true
    },
    "kernelspec": {
      "display_name": "Python 3",
      "name": "python3"
    },
    "language_info": {
      "name": "python"
    }
  },
  "cells": [
    {
      "cell_type": "markdown",
      "metadata": {
        "id": "view-in-github",
        "colab_type": "text"
      },
      "source": [
        "<a href=\"https://colab.research.google.com/github/Minsung-commit/TIL/blob/master/%EB%84%A4%EC%9D%B4%EB%B2%84%ED%81%AC%EB%A1%A4%EB%A7%81_Kiwi_23.ipynb\" target=\"_parent\"><img src=\"https://colab.research.google.com/assets/colab-badge.svg\" alt=\"Open In Colab\"/></a>"
      ]
    },
    {
      "cell_type": "code",
      "metadata": {
        "colab": {
          "base_uri": "https://localhost:8080/"
        },
        "id": "c2D3n6CcKAug",
        "outputId": "84d7e715-ae4d-4732-bf04-5dfa254dd895"
      },
      "source": [
        "%%bash\n",
        "apt-get update\n",
        "apt-get install g++ openjdk-8-jdk python-dev python3-dev\n",
        "pip3 install JPype1\n",
        "pip3 install konlpy"
      ],
      "execution_count": null,
      "outputs": [
        {
          "name": "stdout",
          "output_type": "stream",
          "text": [
            "Get:1 http://security.ubuntu.com/ubuntu bionic-security InRelease [88.7 kB]\n",
            "Get:2 https://cloud.r-project.org/bin/linux/ubuntu bionic-cran40/ InRelease [3,626 B]\n",
            "Ign:3 https://developer.download.nvidia.com/compute/cuda/repos/ubuntu1804/x86_64  InRelease\n",
            "Ign:4 https://developer.download.nvidia.com/compute/machine-learning/repos/ubuntu1804/x86_64  InRelease\n",
            "Get:5 http://ppa.launchpad.net/c2d4u.team/c2d4u4.0+/ubuntu bionic InRelease [15.9 kB]\n",
            "Hit:6 https://developer.download.nvidia.com/compute/cuda/repos/ubuntu1804/x86_64  Release\n",
            "Hit:7 https://developer.download.nvidia.com/compute/machine-learning/repos/ubuntu1804/x86_64  Release\n",
            "Hit:8 http://archive.ubuntu.com/ubuntu bionic InRelease\n",
            "Get:9 https://cloud.r-project.org/bin/linux/ubuntu bionic-cran40/ Packages [67.4 kB]\n",
            "Get:10 http://archive.ubuntu.com/ubuntu bionic-updates InRelease [88.7 kB]\n",
            "Hit:11 http://ppa.launchpad.net/cran/libgit2/ubuntu bionic InRelease\n",
            "Get:12 http://security.ubuntu.com/ubuntu bionic-security/restricted amd64 Packages [581 kB]\n",
            "Hit:13 http://ppa.launchpad.net/deadsnakes/ppa/ubuntu bionic InRelease\n",
            "Get:14 http://security.ubuntu.com/ubuntu bionic-security/universe amd64 Packages [1,428 kB]\n",
            "Get:15 http://security.ubuntu.com/ubuntu bionic-security/main amd64 Packages [2,335 kB]\n",
            "Get:16 http://archive.ubuntu.com/ubuntu bionic-backports InRelease [74.6 kB]\n",
            "Hit:17 http://ppa.launchpad.net/graphics-drivers/ppa/ubuntu bionic InRelease\n",
            "Get:20 http://ppa.launchpad.net/c2d4u.team/c2d4u4.0+/ubuntu bionic/main Sources [1,802 kB]\n",
            "Get:21 http://archive.ubuntu.com/ubuntu bionic-updates/restricted amd64 Packages [613 kB]\n",
            "Get:22 http://ppa.launchpad.net/c2d4u.team/c2d4u4.0+/ubuntu bionic/main amd64 Packages [922 kB]\n",
            "Get:23 http://archive.ubuntu.com/ubuntu bionic-updates/main amd64 Packages [2,770 kB]\n",
            "Get:24 http://archive.ubuntu.com/ubuntu bionic-updates/universe amd64 Packages [2,202 kB]\n",
            "Fetched 13.0 MB in 4s (3,695 kB/s)\n",
            "Reading package lists...\n",
            "Reading package lists...\n",
            "Building dependency tree...\n",
            "Reading state information...\n",
            "python-dev is already the newest version (2.7.15~rc1-1).\n",
            "g++ is already the newest version (4:7.4.0-1ubuntu2.3).\n",
            "g++ set to manually installed.\n",
            "python3-dev is already the newest version (3.6.7-1~18.04).\n",
            "python3-dev set to manually installed.\n",
            "The following additional packages will be installed:\n",
            "  fonts-dejavu-core fonts-dejavu-extra libatk-wrapper-java\n",
            "  libatk-wrapper-java-jni libgail-common libgail18 libgtk2.0-0 libgtk2.0-bin\n",
            "  libgtk2.0-common libxxf86dga1 openjdk-8-jdk-headless openjdk-8-jre\n",
            "  openjdk-8-jre-headless x11-utils\n",
            "Suggested packages:\n",
            "  gvfs openjdk-8-demo openjdk-8-source visualvm icedtea-8-plugin libnss-mdns\n",
            "  fonts-ipafont-gothic fonts-ipafont-mincho fonts-wqy-microhei\n",
            "  fonts-wqy-zenhei fonts-indic mesa-utils\n",
            "The following NEW packages will be installed:\n",
            "  fonts-dejavu-core fonts-dejavu-extra libatk-wrapper-java\n",
            "  libatk-wrapper-java-jni libgail-common libgail18 libgtk2.0-0 libgtk2.0-bin\n",
            "  libgtk2.0-common libxxf86dga1 openjdk-8-jdk openjdk-8-jdk-headless\n",
            "  openjdk-8-jre openjdk-8-jre-headless x11-utils\n",
            "0 upgraded, 15 newly installed, 0 to remove and 61 not upgraded.\n",
            "Need to get 43.5 MB of archives.\n",
            "After this operation, 163 MB of additional disk space will be used.\n",
            "Get:1 http://archive.ubuntu.com/ubuntu bionic/main amd64 libxxf86dga1 amd64 2:1.1.4-1 [13.7 kB]\n",
            "Get:2 http://archive.ubuntu.com/ubuntu bionic/main amd64 fonts-dejavu-core all 2.37-1 [1,041 kB]\n",
            "Get:3 http://archive.ubuntu.com/ubuntu bionic/main amd64 fonts-dejavu-extra all 2.37-1 [1,953 kB]\n",
            "Get:4 http://archive.ubuntu.com/ubuntu bionic/main amd64 x11-utils amd64 7.7+3build1 [196 kB]\n",
            "Get:5 http://archive.ubuntu.com/ubuntu bionic/main amd64 libatk-wrapper-java all 0.33.3-20ubuntu0.1 [34.7 kB]\n",
            "Get:6 http://archive.ubuntu.com/ubuntu bionic/main amd64 libatk-wrapper-java-jni amd64 0.33.3-20ubuntu0.1 [28.3 kB]\n",
            "Get:7 http://archive.ubuntu.com/ubuntu bionic/main amd64 libgtk2.0-common all 2.24.32-1ubuntu1 [125 kB]\n",
            "Get:8 http://archive.ubuntu.com/ubuntu bionic/main amd64 libgtk2.0-0 amd64 2.24.32-1ubuntu1 [1,769 kB]\n",
            "Get:9 http://archive.ubuntu.com/ubuntu bionic/main amd64 libgail18 amd64 2.24.32-1ubuntu1 [14.2 kB]\n",
            "Get:10 http://archive.ubuntu.com/ubuntu bionic/main amd64 libgail-common amd64 2.24.32-1ubuntu1 [112 kB]\n",
            "Get:11 http://archive.ubuntu.com/ubuntu bionic/main amd64 libgtk2.0-bin amd64 2.24.32-1ubuntu1 [7,536 B]\n",
            "Get:12 http://archive.ubuntu.com/ubuntu bionic-updates/universe amd64 openjdk-8-jre-headless amd64 8u292-b10-0ubuntu1~18.04 [28.2 MB]\n",
            "Get:13 http://archive.ubuntu.com/ubuntu bionic-updates/universe amd64 openjdk-8-jre amd64 8u292-b10-0ubuntu1~18.04 [69.6 kB]\n",
            "Get:14 http://archive.ubuntu.com/ubuntu bionic-updates/universe amd64 openjdk-8-jdk-headless amd64 8u292-b10-0ubuntu1~18.04 [8,284 kB]\n",
            "Get:15 http://archive.ubuntu.com/ubuntu bionic-updates/universe amd64 openjdk-8-jdk amd64 8u292-b10-0ubuntu1~18.04 [1,644 kB]\n",
            "Fetched 43.5 MB in 3s (16.6 MB/s)\n",
            "Selecting previously unselected package libxxf86dga1:amd64.\r\n",
            "(Reading database ... \r(Reading database ... 5%\r(Reading database ... 10%\r(Reading database ... 15%\r(Reading database ... 20%\r(Reading database ... 25%\r(Reading database ... 30%\r(Reading database ... 35%\r(Reading database ... 40%\r(Reading database ... 45%\r(Reading database ... 50%\r(Reading database ... 55%\r(Reading database ... 60%\r(Reading database ... 65%\r(Reading database ... 70%\r(Reading database ... 75%\r(Reading database ... 80%\r(Reading database ... 85%\r(Reading database ... 90%\r(Reading database ... 95%\r(Reading database ... 100%\r(Reading database ... 155013 files and directories currently installed.)\r\n",
            "Preparing to unpack .../00-libxxf86dga1_2%3a1.1.4-1_amd64.deb ...\r\n",
            "Unpacking libxxf86dga1:amd64 (2:1.1.4-1) ...\r\n",
            "Selecting previously unselected package fonts-dejavu-core.\r\n",
            "Preparing to unpack .../01-fonts-dejavu-core_2.37-1_all.deb ...\r\n",
            "Unpacking fonts-dejavu-core (2.37-1) ...\r\n",
            "Selecting previously unselected package fonts-dejavu-extra.\r\n",
            "Preparing to unpack .../02-fonts-dejavu-extra_2.37-1_all.deb ...\r\n",
            "Unpacking fonts-dejavu-extra (2.37-1) ...\r\n",
            "Selecting previously unselected package x11-utils.\r\n",
            "Preparing to unpack .../03-x11-utils_7.7+3build1_amd64.deb ...\r\n",
            "Unpacking x11-utils (7.7+3build1) ...\r\n",
            "Selecting previously unselected package libatk-wrapper-java.\r\n",
            "Preparing to unpack .../04-libatk-wrapper-java_0.33.3-20ubuntu0.1_all.deb ...\r\n",
            "Unpacking libatk-wrapper-java (0.33.3-20ubuntu0.1) ...\r\n",
            "Selecting previously unselected package libatk-wrapper-java-jni:amd64.\r\n",
            "Preparing to unpack .../05-libatk-wrapper-java-jni_0.33.3-20ubuntu0.1_amd64.deb ...\r\n",
            "Unpacking libatk-wrapper-java-jni:amd64 (0.33.3-20ubuntu0.1) ...\r\n",
            "Selecting previously unselected package libgtk2.0-common.\r\n",
            "Preparing to unpack .../06-libgtk2.0-common_2.24.32-1ubuntu1_all.deb ...\r\n",
            "Unpacking libgtk2.0-common (2.24.32-1ubuntu1) ...\r\n",
            "Selecting previously unselected package libgtk2.0-0:amd64.\r\n",
            "Preparing to unpack .../07-libgtk2.0-0_2.24.32-1ubuntu1_amd64.deb ...\r\n",
            "Unpacking libgtk2.0-0:amd64 (2.24.32-1ubuntu1) ...\r\n",
            "Selecting previously unselected package libgail18:amd64.\r\n",
            "Preparing to unpack .../08-libgail18_2.24.32-1ubuntu1_amd64.deb ...\r\n",
            "Unpacking libgail18:amd64 (2.24.32-1ubuntu1) ...\r\n",
            "Selecting previously unselected package libgail-common:amd64.\r\n",
            "Preparing to unpack .../09-libgail-common_2.24.32-1ubuntu1_amd64.deb ...\r\n",
            "Unpacking libgail-common:amd64 (2.24.32-1ubuntu1) ...\r\n",
            "Selecting previously unselected package libgtk2.0-bin.\r\n",
            "Preparing to unpack .../10-libgtk2.0-bin_2.24.32-1ubuntu1_amd64.deb ...\r\n",
            "Unpacking libgtk2.0-bin (2.24.32-1ubuntu1) ...\r\n",
            "Selecting previously unselected package openjdk-8-jre-headless:amd64.\r\n",
            "Preparing to unpack .../11-openjdk-8-jre-headless_8u292-b10-0ubuntu1~18.04_amd64.deb ...\r\n",
            "Unpacking openjdk-8-jre-headless:amd64 (8u292-b10-0ubuntu1~18.04) ...\r\n",
            "Selecting previously unselected package openjdk-8-jre:amd64.\r\n",
            "Preparing to unpack .../12-openjdk-8-jre_8u292-b10-0ubuntu1~18.04_amd64.deb ...\r\n",
            "Unpacking openjdk-8-jre:amd64 (8u292-b10-0ubuntu1~18.04) ...\r\n",
            "Selecting previously unselected package openjdk-8-jdk-headless:amd64.\r\n",
            "Preparing to unpack .../13-openjdk-8-jdk-headless_8u292-b10-0ubuntu1~18.04_amd64.deb ...\r\n",
            "Unpacking openjdk-8-jdk-headless:amd64 (8u292-b10-0ubuntu1~18.04) ...\r\n",
            "Selecting previously unselected package openjdk-8-jdk:amd64.\r\n",
            "Preparing to unpack .../14-openjdk-8-jdk_8u292-b10-0ubuntu1~18.04_amd64.deb ...\r\n",
            "Unpacking openjdk-8-jdk:amd64 (8u292-b10-0ubuntu1~18.04) ...\r\n",
            "Setting up libgtk2.0-common (2.24.32-1ubuntu1) ...\r\n",
            "Setting up fonts-dejavu-core (2.37-1) ...\r\n",
            "Setting up libxxf86dga1:amd64 (2:1.1.4-1) ...\r\n",
            "Setting up fonts-dejavu-extra (2.37-1) ...\r\n",
            "Setting up openjdk-8-jre-headless:amd64 (8u292-b10-0ubuntu1~18.04) ...\r\n",
            "update-alternatives: using /usr/lib/jvm/java-8-openjdk-amd64/jre/bin/orbd to provide /usr/bin/orbd (orbd) in auto mode\r\n",
            "update-alternatives: using /usr/lib/jvm/java-8-openjdk-amd64/jre/bin/servertool to provide /usr/bin/servertool (servertool) in auto mode\r\n",
            "update-alternatives: using /usr/lib/jvm/java-8-openjdk-amd64/jre/bin/tnameserv to provide /usr/bin/tnameserv (tnameserv) in auto mode\r\n",
            "Setting up libgtk2.0-0:amd64 (2.24.32-1ubuntu1) ...\r\n",
            "Setting up libgail18:amd64 (2.24.32-1ubuntu1) ...\r\n",
            "Setting up openjdk-8-jdk-headless:amd64 (8u292-b10-0ubuntu1~18.04) ...\r\n",
            "update-alternatives: using /usr/lib/jvm/java-8-openjdk-amd64/bin/idlj to provide /usr/bin/idlj (idlj) in auto mode\r\n",
            "update-alternatives: using /usr/lib/jvm/java-8-openjdk-amd64/bin/wsimport to provide /usr/bin/wsimport (wsimport) in auto mode\r\n",
            "update-alternatives: using /usr/lib/jvm/java-8-openjdk-amd64/bin/jsadebugd to provide /usr/bin/jsadebugd (jsadebugd) in auto mode\r\n",
            "update-alternatives: using /usr/lib/jvm/java-8-openjdk-amd64/bin/native2ascii to provide /usr/bin/native2ascii (native2ascii) in auto mode\r\n",
            "update-alternatives: using /usr/lib/jvm/java-8-openjdk-amd64/bin/javah to provide /usr/bin/javah (javah) in auto mode\r\n",
            "update-alternatives: using /usr/lib/jvm/java-8-openjdk-amd64/bin/hsdb to provide /usr/bin/hsdb (hsdb) in auto mode\r\n",
            "update-alternatives: using /usr/lib/jvm/java-8-openjdk-amd64/bin/clhsdb to provide /usr/bin/clhsdb (clhsdb) in auto mode\r\n",
            "update-alternatives: using /usr/lib/jvm/java-8-openjdk-amd64/bin/extcheck to provide /usr/bin/extcheck (extcheck) in auto mode\r\n",
            "update-alternatives: using /usr/lib/jvm/java-8-openjdk-amd64/bin/schemagen to provide /usr/bin/schemagen (schemagen) in auto mode\r\n",
            "update-alternatives: using /usr/lib/jvm/java-8-openjdk-amd64/bin/xjc to provide /usr/bin/xjc (xjc) in auto mode\r\n",
            "update-alternatives: using /usr/lib/jvm/java-8-openjdk-amd64/bin/jhat to provide /usr/bin/jhat (jhat) in auto mode\r\n",
            "update-alternatives: using /usr/lib/jvm/java-8-openjdk-amd64/bin/wsgen to provide /usr/bin/wsgen (wsgen) in auto mode\r\n",
            "Setting up x11-utils (7.7+3build1) ...\r\n",
            "Setting up libgail-common:amd64 (2.24.32-1ubuntu1) ...\r\n",
            "Setting up libatk-wrapper-java (0.33.3-20ubuntu0.1) ...\r\n",
            "Setting up libgtk2.0-bin (2.24.32-1ubuntu1) ...\r\n",
            "Setting up libatk-wrapper-java-jni:amd64 (0.33.3-20ubuntu0.1) ...\r\n",
            "Setting up openjdk-8-jre:amd64 (8u292-b10-0ubuntu1~18.04) ...\r\n",
            "update-alternatives: using /usr/lib/jvm/java-8-openjdk-amd64/jre/bin/policytool to provide /usr/bin/policytool (policytool) in auto mode\r\n",
            "Setting up openjdk-8-jdk:amd64 (8u292-b10-0ubuntu1~18.04) ...\r\n",
            "update-alternatives: using /usr/lib/jvm/java-8-openjdk-amd64/bin/appletviewer to provide /usr/bin/appletviewer (appletviewer) in auto mode\r\n",
            "update-alternatives: using /usr/lib/jvm/java-8-openjdk-amd64/bin/jconsole to provide /usr/bin/jconsole (jconsole) in auto mode\r\n",
            "Processing triggers for man-db (2.8.3-2ubuntu0.1) ...\r\n",
            "Processing triggers for hicolor-icon-theme (0.17-2) ...\r\n",
            "Processing triggers for fontconfig (2.12.6-0ubuntu2) ...\r\n",
            "Processing triggers for mime-support (3.60ubuntu1) ...\r\n",
            "Processing triggers for libc-bin (2.27-3ubuntu1.3) ...\r\n",
            "/sbin/ldconfig.real: /usr/local/lib/python3.7/dist-packages/ideep4py/lib/libmkldnn.so.0 is not a symbolic link\r\n",
            "\r\n",
            "Collecting JPype1\n",
            "  Downloading JPype1-1.3.0-cp37-cp37m-manylinux_2_5_x86_64.manylinux1_x86_64.whl (448 kB)\n",
            "Requirement already satisfied: typing-extensions in /usr/local/lib/python3.7/dist-packages (from JPype1) (3.7.4.3)\n",
            "Installing collected packages: JPype1\n",
            "Successfully installed JPype1-1.3.0\n",
            "Collecting konlpy\n",
            "  Downloading konlpy-0.5.2-py2.py3-none-any.whl (19.4 MB)\n",
            "Requirement already satisfied: lxml>=4.1.0 in /usr/local/lib/python3.7/dist-packages (from konlpy) (4.2.6)\n",
            "Requirement already satisfied: tweepy>=3.7.0 in /usr/local/lib/python3.7/dist-packages (from konlpy) (3.10.0)\n",
            "Collecting beautifulsoup4==4.6.0\n",
            "  Downloading beautifulsoup4-4.6.0-py3-none-any.whl (86 kB)\n",
            "Requirement already satisfied: JPype1>=0.7.0 in /usr/local/lib/python3.7/dist-packages (from konlpy) (1.3.0)\n",
            "Collecting colorama\n",
            "  Downloading colorama-0.4.4-py2.py3-none-any.whl (16 kB)\n",
            "Requirement already satisfied: numpy>=1.6 in /usr/local/lib/python3.7/dist-packages (from konlpy) (1.19.5)\n",
            "Requirement already satisfied: typing-extensions in /usr/local/lib/python3.7/dist-packages (from JPype1>=0.7.0->konlpy) (3.7.4.3)\n",
            "Requirement already satisfied: requests-oauthlib>=0.7.0 in /usr/local/lib/python3.7/dist-packages (from tweepy>=3.7.0->konlpy) (1.3.0)\n",
            "Requirement already satisfied: requests[socks]>=2.11.1 in /usr/local/lib/python3.7/dist-packages (from tweepy>=3.7.0->konlpy) (2.23.0)\n",
            "Requirement already satisfied: six>=1.10.0 in /usr/local/lib/python3.7/dist-packages (from tweepy>=3.7.0->konlpy) (1.15.0)\n",
            "Requirement already satisfied: oauthlib>=3.0.0 in /usr/local/lib/python3.7/dist-packages (from requests-oauthlib>=0.7.0->tweepy>=3.7.0->konlpy) (3.1.1)\n",
            "Requirement already satisfied: chardet<4,>=3.0.2 in /usr/local/lib/python3.7/dist-packages (from requests[socks]>=2.11.1->tweepy>=3.7.0->konlpy) (3.0.4)\n",
            "Requirement already satisfied: idna<3,>=2.5 in /usr/local/lib/python3.7/dist-packages (from requests[socks]>=2.11.1->tweepy>=3.7.0->konlpy) (2.10)\n",
            "Requirement already satisfied: certifi>=2017.4.17 in /usr/local/lib/python3.7/dist-packages (from requests[socks]>=2.11.1->tweepy>=3.7.0->konlpy) (2021.5.30)\n",
            "Requirement already satisfied: urllib3!=1.25.0,!=1.25.1,<1.26,>=1.21.1 in /usr/local/lib/python3.7/dist-packages (from requests[socks]>=2.11.1->tweepy>=3.7.0->konlpy) (1.24.3)\n",
            "Requirement already satisfied: PySocks!=1.5.7,>=1.5.6 in /usr/local/lib/python3.7/dist-packages (from requests[socks]>=2.11.1->tweepy>=3.7.0->konlpy) (1.7.1)\n",
            "Installing collected packages: colorama, beautifulsoup4, konlpy\n",
            "  Attempting uninstall: beautifulsoup4\n",
            "    Found existing installation: beautifulsoup4 4.6.3\n",
            "    Uninstalling beautifulsoup4-4.6.3:\n",
            "      Successfully uninstalled beautifulsoup4-4.6.3\n",
            "Successfully installed beautifulsoup4-4.6.0 colorama-0.4.4 konlpy-0.5.2\n"
          ]
        }
      ]
    },
    {
      "cell_type": "code",
      "metadata": {
        "colab": {
          "base_uri": "https://localhost:8080/"
        },
        "id": "817hwtGGKHHV",
        "outputId": "3836cac8-6a73-40e3-cd70-dbe71dc36d76"
      },
      "source": [
        "%env JAVA_HOME \"/usr/lib/jvm/java-8-openjdk-amd64\""
      ],
      "execution_count": null,
      "outputs": [
        {
          "name": "stdout",
          "output_type": "stream",
          "text": [
            "env: JAVA_HOME=\"/usr/lib/jvm/java-8-openjdk-amd64\"\n"
          ]
        }
      ]
    },
    {
      "cell_type": "code",
      "metadata": {
        "colab": {
          "base_uri": "https://localhost:8080/"
        },
        "id": "Uo2knITZKHhs",
        "outputId": "5228d661-4703-4b25-dfeb-704c6e833ea0"
      },
      "source": [
        "%%bash\n",
        "bash <(curl -s https://raw.githubusercontent.com/konlpy/konlpy/master/scripts/mecab.sh)\n",
        "pip3 install /tmp/mecab-python-0.996"
      ],
      "execution_count": null,
      "outputs": [
        {
          "name": "stdout",
          "output_type": "stream",
          "text": [
            "Installing automake (A dependency for mecab-ko)\n",
            "Hit:1 https://cloud.r-project.org/bin/linux/ubuntu bionic-cran40/ InRelease\n",
            "Hit:2 http://security.ubuntu.com/ubuntu bionic-security InRelease\n",
            "Ign:3 https://developer.download.nvidia.com/compute/cuda/repos/ubuntu1804/x86_64  InRelease\n",
            "Ign:4 https://developer.download.nvidia.com/compute/machine-learning/repos/ubuntu1804/x86_64  InRelease\n",
            "Hit:5 https://developer.download.nvidia.com/compute/cuda/repos/ubuntu1804/x86_64  Release\n",
            "Hit:6 http://ppa.launchpad.net/c2d4u.team/c2d4u4.0+/ubuntu bionic InRelease\n",
            "Hit:7 https://developer.download.nvidia.com/compute/machine-learning/repos/ubuntu1804/x86_64  Release\n",
            "Hit:8 http://archive.ubuntu.com/ubuntu bionic InRelease\n",
            "Hit:9 http://archive.ubuntu.com/ubuntu bionic-updates InRelease\n",
            "Hit:11 http://ppa.launchpad.net/cran/libgit2/ubuntu bionic InRelease\n",
            "Hit:12 http://archive.ubuntu.com/ubuntu bionic-backports InRelease\n",
            "Hit:14 http://ppa.launchpad.net/deadsnakes/ppa/ubuntu bionic InRelease\n",
            "Hit:15 http://ppa.launchpad.net/graphics-drivers/ppa/ubuntu bionic InRelease\n",
            "Reading package lists...\n",
            "Reading package lists...\n",
            "Building dependency tree...\n",
            "Reading state information...\n",
            "The following additional packages will be installed:\n",
            "  autoconf autotools-dev libsigsegv2 m4\n",
            "Suggested packages:\n",
            "  autoconf-archive gnu-standards autoconf-doc libtool gettext m4-doc\n",
            "The following NEW packages will be installed:\n",
            "  autoconf automake autotools-dev libsigsegv2 m4\n",
            "0 upgraded, 5 newly installed, 0 to remove and 61 not upgraded.\n",
            "Need to get 1,082 kB of archives.\n",
            "After this operation, 3,994 kB of additional disk space will be used.\n",
            "Get:1 http://archive.ubuntu.com/ubuntu bionic/main amd64 libsigsegv2 amd64 2.12-1 [14.7 kB]\n",
            "Get:2 http://archive.ubuntu.com/ubuntu bionic/main amd64 m4 amd64 1.4.18-1 [197 kB]\n",
            "Get:3 http://archive.ubuntu.com/ubuntu bionic/main amd64 autoconf all 2.69-11 [322 kB]\n",
            "Get:4 http://archive.ubuntu.com/ubuntu bionic/main amd64 autotools-dev all 20180224.1 [39.6 kB]\n",
            "Get:5 http://archive.ubuntu.com/ubuntu bionic/main amd64 automake all 1:1.15.1-3ubuntu2 [509 kB]\n",
            "Fetched 1,082 kB in 1s (1,028 kB/s)\n",
            "Selecting previously unselected package libsigsegv2:amd64.\r\n",
            "(Reading database ... \r(Reading database ... 5%\r(Reading database ... 10%\r(Reading database ... 15%\r(Reading database ... 20%\r(Reading database ... 25%\r(Reading database ... 30%\r(Reading database ... 35%\r(Reading database ... 40%\r(Reading database ... 45%\r(Reading database ... 50%\r(Reading database ... 55%\r(Reading database ... 60%\r(Reading database ... 65%\r(Reading database ... 70%\r(Reading database ... 75%\r(Reading database ... 80%\r(Reading database ... 85%\r(Reading database ... 90%\r(Reading database ... 95%\r(Reading database ... 100%\r(Reading database ... 155589 files and directories currently installed.)\r\n",
            "Preparing to unpack .../libsigsegv2_2.12-1_amd64.deb ...\r\n",
            "Unpacking libsigsegv2:amd64 (2.12-1) ...\r\n",
            "Selecting previously unselected package m4.\r\n",
            "Preparing to unpack .../archives/m4_1.4.18-1_amd64.deb ...\r\n",
            "Unpacking m4 (1.4.18-1) ...\r\n",
            "Selecting previously unselected package autoconf.\r\n",
            "Preparing to unpack .../autoconf_2.69-11_all.deb ...\r\n",
            "Unpacking autoconf (2.69-11) ...\r\n",
            "Selecting previously unselected package autotools-dev.\r\n",
            "Preparing to unpack .../autotools-dev_20180224.1_all.deb ...\r\n",
            "Unpacking autotools-dev (20180224.1) ...\r\n",
            "Selecting previously unselected package automake.\r\n",
            "Preparing to unpack .../automake_1%3a1.15.1-3ubuntu2_all.deb ...\r\n",
            "Unpacking automake (1:1.15.1-3ubuntu2) ...\r\n",
            "Setting up libsigsegv2:amd64 (2.12-1) ...\r\n",
            "Setting up m4 (1.4.18-1) ...\r\n",
            "Setting up autotools-dev (20180224.1) ...\r\n",
            "Setting up autoconf (2.69-11) ...\r\n",
            "Setting up automake (1:1.15.1-3ubuntu2) ...\r\n",
            "update-alternatives: using /usr/bin/automake-1.15 to provide /usr/bin/automake (automake) in auto mode\r\n",
            "Processing triggers for libc-bin (2.27-3ubuntu1.3) ...\r\n",
            "/sbin/ldconfig.real: /usr/local/lib/python3.7/dist-packages/ideep4py/lib/libmkldnn.so.0 is not a symbolic link\r\n",
            "\r\n",
            "Processing triggers for man-db (2.8.3-2ubuntu0.1) ...\r\n",
            "Install mecab-ko-dic\n",
            "mecab-0.996-ko-0.9.2/\n",
            "mecab-0.996-ko-0.9.2/example/\n",
            "mecab-0.996-ko-0.9.2/example/example.cpp\n",
            "mecab-0.996-ko-0.9.2/example/example_lattice.cpp\n",
            "mecab-0.996-ko-0.9.2/example/example_lattice.c\n",
            "mecab-0.996-ko-0.9.2/example/example.c\n",
            "mecab-0.996-ko-0.9.2/example/thread_test.cpp\n",
            "mecab-0.996-ko-0.9.2/mecab-config.in\n",
            "mecab-0.996-ko-0.9.2/man/\n",
            "mecab-0.996-ko-0.9.2/man/Makefile.am\n",
            "mecab-0.996-ko-0.9.2/man/mecab.1\n",
            "mecab-0.996-ko-0.9.2/man/Makefile.in\n",
            "mecab-0.996-ko-0.9.2/mecab.iss.in\n",
            "mecab-0.996-ko-0.9.2/config.guess\n",
            "mecab-0.996-ko-0.9.2/README\n",
            "mecab-0.996-ko-0.9.2/COPYING\n",
            "mecab-0.996-ko-0.9.2/CHANGES.md\n",
            "mecab-0.996-ko-0.9.2/README.md\n",
            "mecab-0.996-ko-0.9.2/INSTALL\n",
            "mecab-0.996-ko-0.9.2/config.sub\n",
            "mecab-0.996-ko-0.9.2/configure.in\n",
            "mecab-0.996-ko-0.9.2/swig/\n",
            "mecab-0.996-ko-0.9.2/swig/Makefile\n",
            "mecab-0.996-ko-0.9.2/swig/version.h.in\n",
            "mecab-0.996-ko-0.9.2/swig/version.h\n",
            "mecab-0.996-ko-0.9.2/swig/MeCab.i\n",
            "mecab-0.996-ko-0.9.2/aclocal.m4\n",
            "mecab-0.996-ko-0.9.2/LGPL\n",
            "mecab-0.996-ko-0.9.2/Makefile.am\n",
            "mecab-0.996-ko-0.9.2/configure\n",
            "mecab-0.996-ko-0.9.2/tests/\n",
            "mecab-0.996-ko-0.9.2/tests/autolink/\n",
            "mecab-0.996-ko-0.9.2/tests/autolink/unk.def\n",
            "mecab-0.996-ko-0.9.2/tests/autolink/dicrc\n",
            "mecab-0.996-ko-0.9.2/tests/autolink/dic.csv\n",
            "mecab-0.996-ko-0.9.2/tests/autolink/test\n",
            "mecab-0.996-ko-0.9.2/tests/autolink/char.def\n",
            "mecab-0.996-ko-0.9.2/tests/autolink/matrix.def\n",
            "mecab-0.996-ko-0.9.2/tests/autolink/test.gld\n",
            "mecab-0.996-ko-0.9.2/tests/t9/\n",
            "mecab-0.996-ko-0.9.2/tests/t9/unk.def\n",
            "mecab-0.996-ko-0.9.2/tests/t9/ipadic.pl\n",
            "mecab-0.996-ko-0.9.2/tests/t9/dicrc\n",
            "mecab-0.996-ko-0.9.2/tests/t9/dic.csv\n",
            "mecab-0.996-ko-0.9.2/tests/t9/test\n",
            "mecab-0.996-ko-0.9.2/tests/t9/char.def\n",
            "mecab-0.996-ko-0.9.2/tests/t9/matrix.def\n",
            "mecab-0.996-ko-0.9.2/tests/t9/mkdic.pl\n",
            "mecab-0.996-ko-0.9.2/tests/t9/test.gld\n",
            "mecab-0.996-ko-0.9.2/tests/cost-train/\n",
            "mecab-0.996-ko-0.9.2/tests/cost-train/ipa.train\n",
            "mecab-0.996-ko-0.9.2/tests/cost-train/ipa.test\n",
            "mecab-0.996-ko-0.9.2/tests/cost-train/seed/\n",
            "mecab-0.996-ko-0.9.2/tests/cost-train/seed/rewrite.def\n",
            "mecab-0.996-ko-0.9.2/tests/cost-train/seed/feature.def\n",
            "mecab-0.996-ko-0.9.2/tests/cost-train/seed/unk.def\n",
            "mecab-0.996-ko-0.9.2/tests/cost-train/seed/dicrc\n",
            "mecab-0.996-ko-0.9.2/tests/cost-train/seed/dic.csv\n",
            "mecab-0.996-ko-0.9.2/tests/cost-train/seed/char.def\n",
            "mecab-0.996-ko-0.9.2/tests/cost-train/seed/matrix.def\n",
            "mecab-0.996-ko-0.9.2/tests/run-eval.sh\n",
            "mecab-0.996-ko-0.9.2/tests/run-cost-train.sh\n",
            "mecab-0.996-ko-0.9.2/tests/Makefile.am\n",
            "mecab-0.996-ko-0.9.2/tests/katakana/\n",
            "mecab-0.996-ko-0.9.2/tests/katakana/unk.def\n",
            "mecab-0.996-ko-0.9.2/tests/katakana/dicrc\n",
            "mecab-0.996-ko-0.9.2/tests/katakana/dic.csv\n",
            "mecab-0.996-ko-0.9.2/tests/katakana/test\n",
            "mecab-0.996-ko-0.9.2/tests/katakana/char.def\n",
            "mecab-0.996-ko-0.9.2/tests/katakana/matrix.def\n",
            "mecab-0.996-ko-0.9.2/tests/katakana/test.gld\n",
            "mecab-0.996-ko-0.9.2/tests/eval/\n",
            "mecab-0.996-ko-0.9.2/tests/eval/answer\n",
            "mecab-0.996-ko-0.9.2/tests/eval/system\n",
            "mecab-0.996-ko-0.9.2/tests/eval/test.gld\n",
            "mecab-0.996-ko-0.9.2/tests/shiin/\n",
            "mecab-0.996-ko-0.9.2/tests/shiin/unk.def\n",
            "mecab-0.996-ko-0.9.2/tests/shiin/dicrc\n",
            "mecab-0.996-ko-0.9.2/tests/shiin/dic.csv\n",
            "mecab-0.996-ko-0.9.2/tests/shiin/test\n",
            "mecab-0.996-ko-0.9.2/tests/shiin/char.def\n",
            "mecab-0.996-ko-0.9.2/tests/shiin/matrix.def\n",
            "mecab-0.996-ko-0.9.2/tests/shiin/mkdic.pl\n",
            "mecab-0.996-ko-0.9.2/tests/shiin/test.gld\n",
            "mecab-0.996-ko-0.9.2/tests/latin/\n",
            "mecab-0.996-ko-0.9.2/tests/latin/unk.def\n",
            "mecab-0.996-ko-0.9.2/tests/latin/dicrc\n",
            "mecab-0.996-ko-0.9.2/tests/latin/dic.csv\n",
            "mecab-0.996-ko-0.9.2/tests/latin/test\n",
            "mecab-0.996-ko-0.9.2/tests/latin/char.def\n",
            "mecab-0.996-ko-0.9.2/tests/latin/matrix.def\n",
            "mecab-0.996-ko-0.9.2/tests/latin/test.gld\n",
            "mecab-0.996-ko-0.9.2/tests/chartype/\n",
            "mecab-0.996-ko-0.9.2/tests/chartype/unk.def\n",
            "mecab-0.996-ko-0.9.2/tests/chartype/dicrc\n",
            "mecab-0.996-ko-0.9.2/tests/chartype/dic.csv\n",
            "mecab-0.996-ko-0.9.2/tests/chartype/test\n",
            "mecab-0.996-ko-0.9.2/tests/chartype/char.def\n",
            "mecab-0.996-ko-0.9.2/tests/chartype/matrix.def\n",
            "mecab-0.996-ko-0.9.2/tests/chartype/test.gld\n",
            "mecab-0.996-ko-0.9.2/tests/run-dics.sh\n",
            "mecab-0.996-ko-0.9.2/tests/ngram/\n",
            "mecab-0.996-ko-0.9.2/tests/ngram/unk.def\n",
            "mecab-0.996-ko-0.9.2/tests/ngram/dicrc\n",
            "mecab-0.996-ko-0.9.2/tests/ngram/dic.csv\n",
            "mecab-0.996-ko-0.9.2/tests/ngram/test\n",
            "mecab-0.996-ko-0.9.2/tests/ngram/char.def\n",
            "mecab-0.996-ko-0.9.2/tests/ngram/matrix.def\n",
            "mecab-0.996-ko-0.9.2/tests/ngram/test.gld\n",
            "mecab-0.996-ko-0.9.2/tests/Makefile.in\n",
            "mecab-0.996-ko-0.9.2/ltmain.sh\n",
            "mecab-0.996-ko-0.9.2/config.rpath\n",
            "mecab-0.996-ko-0.9.2/config.h.in\n",
            "mecab-0.996-ko-0.9.2/mecabrc.in\n",
            "mecab-0.996-ko-0.9.2/GPL\n",
            "mecab-0.996-ko-0.9.2/Makefile.train\n",
            "mecab-0.996-ko-0.9.2/ChangeLog\n",
            "mecab-0.996-ko-0.9.2/install-sh\n",
            "mecab-0.996-ko-0.9.2/AUTHORS\n",
            "mecab-0.996-ko-0.9.2/doc/\n",
            "mecab-0.996-ko-0.9.2/doc/bindings.html\n",
            "mecab-0.996-ko-0.9.2/doc/posid.html\n",
            "mecab-0.996-ko-0.9.2/doc/unk.html\n",
            "mecab-0.996-ko-0.9.2/doc/learn.html\n",
            "mecab-0.996-ko-0.9.2/doc/format.html\n",
            "mecab-0.996-ko-0.9.2/doc/libmecab.html\n",
            "mecab-0.996-ko-0.9.2/doc/mecab.css\n",
            "mecab-0.996-ko-0.9.2/doc/feature.html\n",
            "mecab-0.996-ko-0.9.2/doc/Makefile.am\n",
            "mecab-0.996-ko-0.9.2/doc/soft.html\n",
            "mecab-0.996-ko-0.9.2/doc/en/\n",
            "mecab-0.996-ko-0.9.2/doc/en/bindings.html\n",
            "mecab-0.996-ko-0.9.2/doc/dic-detail.html\n",
            "mecab-0.996-ko-0.9.2/doc/flow.png\n",
            "mecab-0.996-ko-0.9.2/doc/mecab.html\n",
            "mecab-0.996-ko-0.9.2/doc/index.html\n",
            "mecab-0.996-ko-0.9.2/doc/result.png\n",
            "mecab-0.996-ko-0.9.2/doc/doxygen/\n",
            "mecab-0.996-ko-0.9.2/doc/doxygen/tab_a.png\n",
            "mecab-0.996-ko-0.9.2/doc/doxygen/globals_eval.html\n",
            "mecab-0.996-ko-0.9.2/doc/doxygen/classMeCab_1_1Tagger-members.html\n",
            "mecab-0.996-ko-0.9.2/doc/doxygen/functions_vars.html\n",
            "mecab-0.996-ko-0.9.2/doc/doxygen/doxygen.css\n",
            "mecab-0.996-ko-0.9.2/doc/doxygen/tab_r.gif\n",
            "mecab-0.996-ko-0.9.2/doc/doxygen/classMeCab_1_1Lattice.html\n",
            "mecab-0.996-ko-0.9.2/doc/doxygen/functions.html\n",
            "mecab-0.996-ko-0.9.2/doc/doxygen/classMeCab_1_1Tagger.html\n",
            "mecab-0.996-ko-0.9.2/doc/doxygen/mecab_8h_source.html\n",
            "mecab-0.996-ko-0.9.2/doc/doxygen/tabs.css\n",
            "mecab-0.996-ko-0.9.2/doc/doxygen/nav_f.png\n",
            "mecab-0.996-ko-0.9.2/doc/doxygen/tab_b.png\n",
            "mecab-0.996-ko-0.9.2/doc/doxygen/globals.html\n",
            "mecab-0.996-ko-0.9.2/doc/doxygen/nav_h.png\n",
            "mecab-0.996-ko-0.9.2/doc/doxygen/tab_h.png\n",
            "mecab-0.996-ko-0.9.2/doc/doxygen/classMeCab_1_1Model.html\n",
            "mecab-0.996-ko-0.9.2/doc/doxygen/globals_func.html\n",
            "mecab-0.996-ko-0.9.2/doc/doxygen/closed.png\n",
            "mecab-0.996-ko-0.9.2/doc/doxygen/tab_l.gif\n",
            "mecab-0.996-ko-0.9.2/doc/doxygen/structmecab__path__t-members.html\n",
            "mecab-0.996-ko-0.9.2/doc/doxygen/functions_func.html\n",
            "mecab-0.996-ko-0.9.2/doc/doxygen/globals_type.html\n",
            "mecab-0.996-ko-0.9.2/doc/doxygen/classMeCab_1_1Lattice-members.html\n",
            "mecab-0.996-ko-0.9.2/doc/doxygen/structmecab__node__t.html\n",
            "mecab-0.996-ko-0.9.2/doc/doxygen/namespacemembers_func.html\n",
            "mecab-0.996-ko-0.9.2/doc/doxygen/tab_s.png\n",
            "mecab-0.996-ko-0.9.2/doc/doxygen/structmecab__dictionary__info__t-members.html\n",
            "mecab-0.996-ko-0.9.2/doc/doxygen/namespacemembers_type.html\n",
            "mecab-0.996-ko-0.9.2/doc/doxygen/classMeCab_1_1Model-members.html\n",
            "mecab-0.996-ko-0.9.2/doc/doxygen/structmecab__dictionary__info__t.html\n",
            "mecab-0.996-ko-0.9.2/doc/doxygen/namespaces.html\n",
            "mecab-0.996-ko-0.9.2/doc/doxygen/namespacemembers.html\n",
            "mecab-0.996-ko-0.9.2/doc/doxygen/namespaceMeCab.html\n",
            "mecab-0.996-ko-0.9.2/doc/doxygen/structmecab__path__t.html\n",
            "mecab-0.996-ko-0.9.2/doc/doxygen/files.html\n",
            "mecab-0.996-ko-0.9.2/doc/doxygen/structmecab__node__t-members.html\n",
            "mecab-0.996-ko-0.9.2/doc/doxygen/index.html\n",
            "mecab-0.996-ko-0.9.2/doc/doxygen/annotated.html\n",
            "mecab-0.996-ko-0.9.2/doc/doxygen/globals_defs.html\n",
            "mecab-0.996-ko-0.9.2/doc/doxygen/classes.html\n",
            "mecab-0.996-ko-0.9.2/doc/doxygen/mecab_8h-source.html\n",
            "mecab-0.996-ko-0.9.2/doc/doxygen/doxygen.png\n",
            "mecab-0.996-ko-0.9.2/doc/doxygen/tab_b.gif\n",
            "mecab-0.996-ko-0.9.2/doc/doxygen/bc_s.png\n",
            "mecab-0.996-ko-0.9.2/doc/doxygen/open.png\n",
            "mecab-0.996-ko-0.9.2/doc/doxygen/mecab_8h.html\n",
            "mecab-0.996-ko-0.9.2/doc/dic.html\n",
            "mecab-0.996-ko-0.9.2/doc/partial.html\n",
            "mecab-0.996-ko-0.9.2/doc/feature.png\n",
            "mecab-0.996-ko-0.9.2/doc/Makefile.in\n",
            "mecab-0.996-ko-0.9.2/missing\n",
            "mecab-0.996-ko-0.9.2/BSD\n",
            "mecab-0.996-ko-0.9.2/NEWS\n",
            "mecab-0.996-ko-0.9.2/mkinstalldirs\n",
            "mecab-0.996-ko-0.9.2/src/\n",
            "mecab-0.996-ko-0.9.2/src/dictionary.h\n",
            "mecab-0.996-ko-0.9.2/src/writer.h\n",
            "mecab-0.996-ko-0.9.2/src/utils.h\n",
            "mecab-0.996-ko-0.9.2/src/string_buffer.cpp\n",
            "mecab-0.996-ko-0.9.2/src/tokenizer.cpp\n",
            "mecab-0.996-ko-0.9.2/src/make.bat\n",
            "mecab-0.996-ko-0.9.2/src/mecab.h\n",
            "mecab-0.996-ko-0.9.2/src/freelist.h\n",
            "mecab-0.996-ko-0.9.2/src/string_buffer.h\n",
            "mecab-0.996-ko-0.9.2/src/learner_tagger.h\n",
            "mecab-0.996-ko-0.9.2/src/dictionary_compiler.cpp\n",
            "mecab-0.996-ko-0.9.2/src/eval.cpp\n",
            "mecab-0.996-ko-0.9.2/src/mecab-system-eval.cpp\n",
            "mecab-0.996-ko-0.9.2/src/darts.h\n",
            "mecab-0.996-ko-0.9.2/src/param.h\n",
            "mecab-0.996-ko-0.9.2/src/char_property.h\n",
            "mecab-0.996-ko-0.9.2/src/learner_node.h\n",
            "mecab-0.996-ko-0.9.2/src/mecab-dict-gen.cpp\n",
            "mecab-0.996-ko-0.9.2/src/mecab-dict-index.cpp\n",
            "mecab-0.996-ko-0.9.2/src/winmain.h\n",
            "mecab-0.996-ko-0.9.2/src/thread.h\n",
            "mecab-0.996-ko-0.9.2/src/context_id.cpp\n",
            "mecab-0.996-ko-0.9.2/src/Makefile.am\n",
            "mecab-0.996-ko-0.9.2/src/connector.h\n",
            "mecab-0.996-ko-0.9.2/src/common.h\n",
            "mecab-0.996-ko-0.9.2/src/dictionary_rewriter.cpp\n",
            "mecab-0.996-ko-0.9.2/src/Makefile.msvc.in\n",
            "mecab-0.996-ko-0.9.2/src/dictionary_rewriter.h\n",
            "mecab-0.996-ko-0.9.2/src/feature_index.h\n",
            "mecab-0.996-ko-0.9.2/src/iconv_utils.cpp\n",
            "mecab-0.996-ko-0.9.2/src/char_property.cpp\n",
            "mecab-0.996-ko-0.9.2/src/mecab-test-gen.cpp\n",
            "mecab-0.996-ko-0.9.2/src/tagger.cpp\n",
            "mecab-0.996-ko-0.9.2/src/mecab-cost-train.cpp\n",
            "mecab-0.996-ko-0.9.2/src/learner.cpp\n",
            "mecab-0.996-ko-0.9.2/src/dictionary.cpp\n",
            "mecab-0.996-ko-0.9.2/src/lbfgs.cpp\n",
            "mecab-0.996-ko-0.9.2/src/ucs.h\n",
            "mecab-0.996-ko-0.9.2/src/writer.cpp\n",
            "mecab-0.996-ko-0.9.2/src/learner_tagger.cpp\n",
            "mecab-0.996-ko-0.9.2/src/lbfgs.h\n",
            "mecab-0.996-ko-0.9.2/src/libmecab.cpp\n",
            "mecab-0.996-ko-0.9.2/src/tokenizer.h\n",
            "mecab-0.996-ko-0.9.2/src/mecab.cpp\n",
            "mecab-0.996-ko-0.9.2/src/utils.cpp\n",
            "mecab-0.996-ko-0.9.2/src/dictionary_generator.cpp\n",
            "mecab-0.996-ko-0.9.2/src/param.cpp\n",
            "mecab-0.996-ko-0.9.2/src/context_id.h\n",
            "mecab-0.996-ko-0.9.2/src/mmap.h\n",
            "mecab-0.996-ko-0.9.2/src/viterbi.h\n",
            "mecab-0.996-ko-0.9.2/src/viterbi.cpp\n",
            "mecab-0.996-ko-0.9.2/src/stream_wrapper.h\n",
            "mecab-0.996-ko-0.9.2/src/feature_index.cpp\n",
            "mecab-0.996-ko-0.9.2/src/nbest_generator.h\n",
            "mecab-0.996-ko-0.9.2/src/ucstable.h\n",
            "mecab-0.996-ko-0.9.2/src/nbest_generator.cpp\n",
            "mecab-0.996-ko-0.9.2/src/iconv_utils.h\n",
            "mecab-0.996-ko-0.9.2/src/connector.cpp\n",
            "mecab-0.996-ko-0.9.2/src/Makefile.in\n",
            "mecab-0.996-ko-0.9.2/src/scoped_ptr.h\n",
            "mecab-0.996-ko-0.9.2/Makefile.in\n",
            "checking for a BSD-compatible install... /usr/bin/install -c\n",
            "checking whether build environment is sane... yes\n",
            "checking for a thread-safe mkdir -p... /bin/mkdir -p\n",
            "checking for gawk... no\n",
            "checking for mawk... mawk\n",
            "checking whether make sets $(MAKE)... yes\n",
            "checking for gcc... gcc\n",
            "checking whether the C compiler works... yes\n",
            "checking for C compiler default output file name... a.out\n",
            "checking for suffix of executables... \n",
            "checking whether we are cross compiling... no\n",
            "checking for suffix of object files... o\n",
            "checking whether we are using the GNU C compiler... yes\n",
            "checking whether gcc accepts -g... yes\n",
            "checking for gcc option to accept ISO C89... none needed\n",
            "checking for style of include used by make... GNU\n",
            "checking dependency style of gcc... none\n",
            "checking for g++... g++\n",
            "checking whether we are using the GNU C++ compiler... yes\n",
            "checking whether g++ accepts -g... yes\n",
            "checking dependency style of g++... none\n",
            "checking how to run the C preprocessor... gcc -E\n",
            "checking for grep that handles long lines and -e... /bin/grep\n",
            "checking for egrep... /bin/grep -E\n",
            "checking whether gcc needs -traditional... no\n",
            "checking whether make sets $(MAKE)... (cached) yes\n",
            "checking build system type... x86_64-unknown-linux-gnu\n",
            "checking host system type... x86_64-unknown-linux-gnu\n",
            "checking how to print strings... printf\n",
            "checking for a sed that does not truncate output... /bin/sed\n",
            "checking for fgrep... /bin/grep -F\n",
            "checking for ld used by gcc... /usr/bin/ld\n",
            "checking if the linker (/usr/bin/ld) is GNU ld... yes\n",
            "checking for BSD- or MS-compatible name lister (nm)... /usr/bin/nm -B\n",
            "checking the name lister (/usr/bin/nm -B) interface... BSD nm\n",
            "checking whether ln -s works... yes\n",
            "checking the maximum length of command line arguments... 1572864\n",
            "checking whether the shell understands some XSI constructs... yes\n",
            "checking whether the shell understands \"+=\"... yes\n",
            "checking how to convert x86_64-unknown-linux-gnu file names to x86_64-unknown-linux-gnu format... func_convert_file_noop\n",
            "checking how to convert x86_64-unknown-linux-gnu file names to toolchain format... func_convert_file_noop\n",
            "checking for /usr/bin/ld option to reload object files... -r\n",
            "checking for objdump... objdump\n",
            "checking how to recognize dependent libraries... pass_all\n",
            "checking for dlltool... dlltool\n",
            "checking how to associate runtime and link libraries... printf %s\\n\n",
            "checking for ar... ar\n",
            "checking for archiver @FILE support... @\n",
            "checking for strip... strip\n",
            "checking for ranlib... ranlib\n",
            "checking command to parse /usr/bin/nm -B output from gcc object... ok\n",
            "checking for sysroot... no\n",
            "checking for mt... no\n",
            "checking if : is a manifest tool... no\n",
            "checking for ANSI C header files... yes\n",
            "checking for sys/types.h... yes\n",
            "checking for sys/stat.h... yes\n",
            "checking for stdlib.h... yes\n",
            "checking for string.h... yes\n",
            "checking for memory.h... yes\n",
            "checking for strings.h... yes\n",
            "checking for inttypes.h... yes\n",
            "checking for stdint.h... yes\n",
            "checking for unistd.h... yes\n",
            "checking for dlfcn.h... yes\n",
            "checking for objdir... .libs\n",
            "checking if gcc supports -fno-rtti -fno-exceptions... no\n",
            "checking for gcc option to produce PIC... -fPIC -DPIC\n",
            "checking if gcc PIC flag -fPIC -DPIC works... yes\n",
            "checking if gcc static flag -static works... yes\n",
            "checking if gcc supports -c -o file.o... yes\n",
            "checking if gcc supports -c -o file.o... (cached) yes\n",
            "checking whether the gcc linker (/usr/bin/ld) supports shared libraries... yes\n",
            "checking whether -lc should be explicitly linked in... no\n",
            "checking dynamic linker characteristics... GNU/Linux ld.so\n",
            "checking how to hardcode library paths into programs... immediate\n",
            "checking whether stripping libraries is possible... yes\n",
            "checking if libtool supports shared libraries... yes\n",
            "checking whether to build shared libraries... yes\n",
            "checking whether to build static libraries... yes\n",
            "checking how to run the C++ preprocessor... g++ -E\n",
            "checking for ld used by g++... /usr/bin/ld\n",
            "checking if the linker (/usr/bin/ld) is GNU ld... yes\n",
            "checking whether the g++ linker (/usr/bin/ld) supports shared libraries... yes\n",
            "checking for g++ option to produce PIC... -fPIC -DPIC\n",
            "checking if g++ PIC flag -fPIC -DPIC works... yes\n",
            "checking if g++ static flag -static works... yes\n",
            "checking if g++ supports -c -o file.o... yes\n",
            "checking if g++ supports -c -o file.o... (cached) yes\n",
            "checking whether the g++ linker (/usr/bin/ld) supports shared libraries... yes\n",
            "checking dynamic linker characteristics... (cached) GNU/Linux ld.so\n",
            "checking how to hardcode library paths into programs... immediate\n",
            "checking for library containing strerror... none required\n",
            "checking whether byte ordering is bigendian... no\n",
            "checking for ld used by GCC... /usr/bin/ld\n",
            "checking if the linker (/usr/bin/ld) is GNU ld... yes\n",
            "checking for shared library run path origin... done\n",
            "checking for iconv... yes\n",
            "checking for working iconv... yes\n",
            "checking for iconv declaration... \n",
            "         extern size_t iconv (iconv_t cd, char * *inbuf, size_t *inbytesleft, char * *outbuf, size_t *outbytesleft);\n",
            "checking for ANSI C header files... (cached) yes\n",
            "checking for an ANSI C-conforming const... yes\n",
            "checking whether byte ordering is bigendian... (cached) no\n",
            "checking for string.h... (cached) yes\n",
            "checking for stdlib.h... (cached) yes\n",
            "checking for unistd.h... (cached) yes\n",
            "checking fcntl.h usability... yes\n",
            "checking fcntl.h presence... yes\n",
            "checking for fcntl.h... yes\n",
            "checking for stdint.h... (cached) yes\n",
            "checking for sys/stat.h... (cached) yes\n",
            "checking sys/mman.h usability... yes\n",
            "checking sys/mman.h presence... yes\n",
            "checking for sys/mman.h... yes\n",
            "checking sys/times.h usability... yes\n",
            "checking sys/times.h presence... yes\n",
            "checking for sys/times.h... yes\n",
            "checking for sys/types.h... (cached) yes\n",
            "checking dirent.h usability... yes\n",
            "checking dirent.h presence... yes\n",
            "checking for dirent.h... yes\n",
            "checking ctype.h usability... yes\n",
            "checking ctype.h presence... yes\n",
            "checking for ctype.h... yes\n",
            "checking for sys/types.h... (cached) yes\n",
            "checking io.h usability... no\n",
            "checking io.h presence... no\n",
            "checking for io.h... no\n",
            "checking windows.h usability... no\n",
            "checking windows.h presence... no\n",
            "checking for windows.h... no\n",
            "checking pthread.h usability... yes\n",
            "checking pthread.h presence... yes\n",
            "checking for pthread.h... yes\n",
            "checking for off_t... yes\n",
            "checking for size_t... yes\n",
            "checking size of char... 1\n",
            "checking size of short... 2\n",
            "checking size of int... 4\n",
            "checking size of long... 8\n",
            "checking size of long long... 8\n",
            "checking size of size_t... 8\n",
            "checking for size_t... (cached) yes\n",
            "checking for unsigned long long int... yes\n",
            "checking for stdlib.h... (cached) yes\n",
            "checking for unistd.h... (cached) yes\n",
            "checking for sys/param.h... yes\n",
            "checking for getpagesize... yes\n",
            "checking for working mmap... yes\n",
            "checking for main in -lstdc++... yes\n",
            "checking for pthread_create in -lpthread... yes\n",
            "checking for pthread_join in -lpthread... yes\n",
            "checking for getenv... yes\n",
            "checking for opendir... yes\n",
            "checking whether make is GNU Make... yes\n",
            "checking if g++ supports stl <vector> (required)... yes\n",
            "checking if g++ supports stl <list> (required)... yes\n",
            "checking if g++ supports stl <map> (required)... yes\n",
            "checking if g++ supports stl <set> (required)... yes\n",
            "checking if g++ supports stl <queue> (required)... yes\n",
            "checking if g++ supports stl <functional> (required)... yes\n",
            "checking if g++ supports stl <algorithm> (required)... yes\n",
            "checking if g++ supports stl <string> (required)... yes\n",
            "checking if g++ supports stl <iostream> (required)... yes\n",
            "checking if g++ supports stl <sstream> (required)... yes\n",
            "checking if g++ supports stl <fstream> (required)... yes\n",
            "checking if g++ supports template <class T> (required)... yes\n",
            "checking if g++ supports const_cast<> (required)... yes\n",
            "checking if g++ supports static_cast<> (required)... yes\n",
            "checking if g++ supports reinterpret_cast<> (required)... yes\n",
            "checking if g++ supports namespaces (required) ... yes\n",
            "checking if g++ supports __thread (optional)... yes\n",
            "checking if g++ supports template <class T> (required)... yes\n",
            "checking if g++ supports GCC native atomic operations (optional)... yes\n",
            "checking if g++ supports OSX native atomic operations (optional)... no\n",
            "checking if g++ environment provides all required features... yes\n",
            "configure: creating ./config.status\n",
            "config.status: creating Makefile\n",
            "config.status: creating src/Makefile\n",
            "config.status: creating src/Makefile.msvc\n",
            "config.status: creating man/Makefile\n",
            "config.status: creating doc/Makefile\n",
            "config.status: creating tests/Makefile\n",
            "config.status: creating swig/version.h\n",
            "config.status: creating mecab.iss\n",
            "config.status: creating mecab-config\n",
            "config.status: creating mecabrc\n",
            "config.status: creating config.h\n",
            "config.status: executing depfiles commands\n",
            "config.status: executing libtool commands\n",
            "config.status: executing default commands\n",
            "make  all-recursive\n",
            "make[1]: Entering directory '/tmp/mecab-0.996-ko-0.9.2'\n",
            "Making all in src\n",
            "make[2]: Entering directory '/tmp/mecab-0.996-ko-0.9.2/src'\n",
            "/bin/bash ../libtool --tag=CXX   --mode=compile g++ -DHAVE_CONFIG_H -I. -I.. -DDIC_VERSION=102   -DMECAB_DEFAULT_RC=\"\\\"/usr/local/etc/mecabrc\\\"\"    -O3 -Wall  -c -o viterbi.lo viterbi.cpp\n",
            "libtool: compile:  g++ -DHAVE_CONFIG_H -I. -I.. -DDIC_VERSION=102 -DMECAB_DEFAULT_RC=\\\"/usr/local/etc/mecabrc\\\" -O3 -Wall -c viterbi.cpp  -fPIC -DPIC -o .libs/viterbi.o\n",
            "libtool: compile:  g++ -DHAVE_CONFIG_H -I. -I.. -DDIC_VERSION=102 -DMECAB_DEFAULT_RC=\\\"/usr/local/etc/mecabrc\\\" -O3 -Wall -c viterbi.cpp -o viterbi.o >/dev/null 2>&1\n",
            "/bin/bash ../libtool --tag=CXX   --mode=compile g++ -DHAVE_CONFIG_H -I. -I.. -DDIC_VERSION=102   -DMECAB_DEFAULT_RC=\"\\\"/usr/local/etc/mecabrc\\\"\"    -O3 -Wall  -c -o tagger.lo tagger.cpp\n",
            "libtool: compile:  g++ -DHAVE_CONFIG_H -I. -I.. -DDIC_VERSION=102 -DMECAB_DEFAULT_RC=\\\"/usr/local/etc/mecabrc\\\" -O3 -Wall -c tagger.cpp  -fPIC -DPIC -o .libs/tagger.o\n",
            "libtool: compile:  g++ -DHAVE_CONFIG_H -I. -I.. -DDIC_VERSION=102 -DMECAB_DEFAULT_RC=\\\"/usr/local/etc/mecabrc\\\" -O3 -Wall -c tagger.cpp -o tagger.o >/dev/null 2>&1\n",
            "/bin/bash ../libtool --tag=CXX   --mode=compile g++ -DHAVE_CONFIG_H -I. -I.. -DDIC_VERSION=102   -DMECAB_DEFAULT_RC=\"\\\"/usr/local/etc/mecabrc\\\"\"    -O3 -Wall  -c -o utils.lo utils.cpp\n",
            "libtool: compile:  g++ -DHAVE_CONFIG_H -I. -I.. -DDIC_VERSION=102 -DMECAB_DEFAULT_RC=\\\"/usr/local/etc/mecabrc\\\" -O3 -Wall -c utils.cpp  -fPIC -DPIC -o .libs/utils.o\n",
            "libtool: compile:  g++ -DHAVE_CONFIG_H -I. -I.. -DDIC_VERSION=102 -DMECAB_DEFAULT_RC=\\\"/usr/local/etc/mecabrc\\\" -O3 -Wall -c utils.cpp -o utils.o >/dev/null 2>&1\n",
            "/bin/bash ../libtool --tag=CXX   --mode=compile g++ -DHAVE_CONFIG_H -I. -I.. -DDIC_VERSION=102   -DMECAB_DEFAULT_RC=\"\\\"/usr/local/etc/mecabrc\\\"\"    -O3 -Wall  -c -o eval.lo eval.cpp\n",
            "libtool: compile:  g++ -DHAVE_CONFIG_H -I. -I.. -DDIC_VERSION=102 -DMECAB_DEFAULT_RC=\\\"/usr/local/etc/mecabrc\\\" -O3 -Wall -c eval.cpp  -fPIC -DPIC -o .libs/eval.o\n",
            "libtool: compile:  g++ -DHAVE_CONFIG_H -I. -I.. -DDIC_VERSION=102 -DMECAB_DEFAULT_RC=\\\"/usr/local/etc/mecabrc\\\" -O3 -Wall -c eval.cpp -o eval.o >/dev/null 2>&1\n",
            "/bin/bash ../libtool --tag=CXX   --mode=compile g++ -DHAVE_CONFIG_H -I. -I.. -DDIC_VERSION=102   -DMECAB_DEFAULT_RC=\"\\\"/usr/local/etc/mecabrc\\\"\"    -O3 -Wall  -c -o iconv_utils.lo iconv_utils.cpp\n",
            "libtool: compile:  g++ -DHAVE_CONFIG_H -I. -I.. -DDIC_VERSION=102 -DMECAB_DEFAULT_RC=\\\"/usr/local/etc/mecabrc\\\" -O3 -Wall -c iconv_utils.cpp  -fPIC -DPIC -o .libs/iconv_utils.o\n",
            "libtool: compile:  g++ -DHAVE_CONFIG_H -I. -I.. -DDIC_VERSION=102 -DMECAB_DEFAULT_RC=\\\"/usr/local/etc/mecabrc\\\" -O3 -Wall -c iconv_utils.cpp -o iconv_utils.o >/dev/null 2>&1\n",
            "/bin/bash ../libtool --tag=CXX   --mode=compile g++ -DHAVE_CONFIG_H -I. -I.. -DDIC_VERSION=102   -DMECAB_DEFAULT_RC=\"\\\"/usr/local/etc/mecabrc\\\"\"    -O3 -Wall  -c -o dictionary_rewriter.lo dictionary_rewriter.cpp\n",
            "libtool: compile:  g++ -DHAVE_CONFIG_H -I. -I.. -DDIC_VERSION=102 -DMECAB_DEFAULT_RC=\\\"/usr/local/etc/mecabrc\\\" -O3 -Wall -c dictionary_rewriter.cpp  -fPIC -DPIC -o .libs/dictionary_rewriter.o\n",
            "libtool: compile:  g++ -DHAVE_CONFIG_H -I. -I.. -DDIC_VERSION=102 -DMECAB_DEFAULT_RC=\\\"/usr/local/etc/mecabrc\\\" -O3 -Wall -c dictionary_rewriter.cpp -o dictionary_rewriter.o >/dev/null 2>&1\n",
            "/bin/bash ../libtool --tag=CXX   --mode=compile g++ -DHAVE_CONFIG_H -I. -I.. -DDIC_VERSION=102   -DMECAB_DEFAULT_RC=\"\\\"/usr/local/etc/mecabrc\\\"\"    -O3 -Wall  -c -o dictionary_generator.lo dictionary_generator.cpp\n",
            "libtool: compile:  g++ -DHAVE_CONFIG_H -I. -I.. -DDIC_VERSION=102 -DMECAB_DEFAULT_RC=\\\"/usr/local/etc/mecabrc\\\" -O3 -Wall -c dictionary_generator.cpp  -fPIC -DPIC -o .libs/dictionary_generator.o\n",
            "libtool: compile:  g++ -DHAVE_CONFIG_H -I. -I.. -DDIC_VERSION=102 -DMECAB_DEFAULT_RC=\\\"/usr/local/etc/mecabrc\\\" -O3 -Wall -c dictionary_generator.cpp -o dictionary_generator.o >/dev/null 2>&1\n",
            "/bin/bash ../libtool --tag=CXX   --mode=compile g++ -DHAVE_CONFIG_H -I. -I.. -DDIC_VERSION=102   -DMECAB_DEFAULT_RC=\"\\\"/usr/local/etc/mecabrc\\\"\"    -O3 -Wall  -c -o dictionary_compiler.lo dictionary_compiler.cpp\n",
            "libtool: compile:  g++ -DHAVE_CONFIG_H -I. -I.. -DDIC_VERSION=102 -DMECAB_DEFAULT_RC=\\\"/usr/local/etc/mecabrc\\\" -O3 -Wall -c dictionary_compiler.cpp  -fPIC -DPIC -o .libs/dictionary_compiler.o\n",
            "libtool: compile:  g++ -DHAVE_CONFIG_H -I. -I.. -DDIC_VERSION=102 -DMECAB_DEFAULT_RC=\\\"/usr/local/etc/mecabrc\\\" -O3 -Wall -c dictionary_compiler.cpp -o dictionary_compiler.o >/dev/null 2>&1\n",
            "/bin/bash ../libtool --tag=CXX   --mode=compile g++ -DHAVE_CONFIG_H -I. -I.. -DDIC_VERSION=102   -DMECAB_DEFAULT_RC=\"\\\"/usr/local/etc/mecabrc\\\"\"    -O3 -Wall  -c -o context_id.lo context_id.cpp\n",
            "libtool: compile:  g++ -DHAVE_CONFIG_H -I. -I.. -DDIC_VERSION=102 -DMECAB_DEFAULT_RC=\\\"/usr/local/etc/mecabrc\\\" -O3 -Wall -c context_id.cpp  -fPIC -DPIC -o .libs/context_id.o\n",
            "libtool: compile:  g++ -DHAVE_CONFIG_H -I. -I.. -DDIC_VERSION=102 -DMECAB_DEFAULT_RC=\\\"/usr/local/etc/mecabrc\\\" -O3 -Wall -c context_id.cpp -o context_id.o >/dev/null 2>&1\n",
            "/bin/bash ../libtool --tag=CXX   --mode=compile g++ -DHAVE_CONFIG_H -I. -I.. -DDIC_VERSION=102   -DMECAB_DEFAULT_RC=\"\\\"/usr/local/etc/mecabrc\\\"\"    -O3 -Wall  -c -o connector.lo connector.cpp\n",
            "libtool: compile:  g++ -DHAVE_CONFIG_H -I. -I.. -DDIC_VERSION=102 -DMECAB_DEFAULT_RC=\\\"/usr/local/etc/mecabrc\\\" -O3 -Wall -c connector.cpp  -fPIC -DPIC -o .libs/connector.o\n",
            "libtool: compile:  g++ -DHAVE_CONFIG_H -I. -I.. -DDIC_VERSION=102 -DMECAB_DEFAULT_RC=\\\"/usr/local/etc/mecabrc\\\" -O3 -Wall -c connector.cpp -o connector.o >/dev/null 2>&1\n",
            "/bin/bash ../libtool --tag=CXX   --mode=compile g++ -DHAVE_CONFIG_H -I. -I.. -DDIC_VERSION=102   -DMECAB_DEFAULT_RC=\"\\\"/usr/local/etc/mecabrc\\\"\"    -O3 -Wall  -c -o nbest_generator.lo nbest_generator.cpp\n",
            "libtool: compile:  g++ -DHAVE_CONFIG_H -I. -I.. -DDIC_VERSION=102 -DMECAB_DEFAULT_RC=\\\"/usr/local/etc/mecabrc\\\" -O3 -Wall -c nbest_generator.cpp  -fPIC -DPIC -o .libs/nbest_generator.o\n",
            "libtool: compile:  g++ -DHAVE_CONFIG_H -I. -I.. -DDIC_VERSION=102 -DMECAB_DEFAULT_RC=\\\"/usr/local/etc/mecabrc\\\" -O3 -Wall -c nbest_generator.cpp -o nbest_generator.o >/dev/null 2>&1\n",
            "/bin/bash ../libtool --tag=CXX   --mode=compile g++ -DHAVE_CONFIG_H -I. -I.. -DDIC_VERSION=102   -DMECAB_DEFAULT_RC=\"\\\"/usr/local/etc/mecabrc\\\"\"    -O3 -Wall  -c -o writer.lo writer.cpp\n",
            "libtool: compile:  g++ -DHAVE_CONFIG_H -I. -I.. -DDIC_VERSION=102 -DMECAB_DEFAULT_RC=\\\"/usr/local/etc/mecabrc\\\" -O3 -Wall -c writer.cpp  -fPIC -DPIC -o .libs/writer.o\n",
            "libtool: compile:  g++ -DHAVE_CONFIG_H -I. -I.. -DDIC_VERSION=102 -DMECAB_DEFAULT_RC=\\\"/usr/local/etc/mecabrc\\\" -O3 -Wall -c writer.cpp -o writer.o >/dev/null 2>&1\n",
            "/bin/bash ../libtool --tag=CXX   --mode=compile g++ -DHAVE_CONFIG_H -I. -I.. -DDIC_VERSION=102   -DMECAB_DEFAULT_RC=\"\\\"/usr/local/etc/mecabrc\\\"\"    -O3 -Wall  -c -o string_buffer.lo string_buffer.cpp\n",
            "libtool: compile:  g++ -DHAVE_CONFIG_H -I. -I.. -DDIC_VERSION=102 -DMECAB_DEFAULT_RC=\\\"/usr/local/etc/mecabrc\\\" -O3 -Wall -c string_buffer.cpp  -fPIC -DPIC -o .libs/string_buffer.o\n",
            "libtool: compile:  g++ -DHAVE_CONFIG_H -I. -I.. -DDIC_VERSION=102 -DMECAB_DEFAULT_RC=\\\"/usr/local/etc/mecabrc\\\" -O3 -Wall -c string_buffer.cpp -o string_buffer.o >/dev/null 2>&1\n",
            "/bin/bash ../libtool --tag=CXX   --mode=compile g++ -DHAVE_CONFIG_H -I. -I.. -DDIC_VERSION=102   -DMECAB_DEFAULT_RC=\"\\\"/usr/local/etc/mecabrc\\\"\"    -O3 -Wall  -c -o param.lo param.cpp\n",
            "libtool: compile:  g++ -DHAVE_CONFIG_H -I. -I.. -DDIC_VERSION=102 -DMECAB_DEFAULT_RC=\\\"/usr/local/etc/mecabrc\\\" -O3 -Wall -c param.cpp  -fPIC -DPIC -o .libs/param.o\n",
            "libtool: compile:  g++ -DHAVE_CONFIG_H -I. -I.. -DDIC_VERSION=102 -DMECAB_DEFAULT_RC=\\\"/usr/local/etc/mecabrc\\\" -O3 -Wall -c param.cpp -o param.o >/dev/null 2>&1\n",
            "/bin/bash ../libtool --tag=CXX   --mode=compile g++ -DHAVE_CONFIG_H -I. -I.. -DDIC_VERSION=102   -DMECAB_DEFAULT_RC=\"\\\"/usr/local/etc/mecabrc\\\"\"    -O3 -Wall  -c -o tokenizer.lo tokenizer.cpp\n",
            "libtool: compile:  g++ -DHAVE_CONFIG_H -I. -I.. -DDIC_VERSION=102 -DMECAB_DEFAULT_RC=\\\"/usr/local/etc/mecabrc\\\" -O3 -Wall -c tokenizer.cpp  -fPIC -DPIC -o .libs/tokenizer.o\n",
            "libtool: compile:  g++ -DHAVE_CONFIG_H -I. -I.. -DDIC_VERSION=102 -DMECAB_DEFAULT_RC=\\\"/usr/local/etc/mecabrc\\\" -O3 -Wall -c tokenizer.cpp -o tokenizer.o >/dev/null 2>&1\n",
            "/bin/bash ../libtool --tag=CXX   --mode=compile g++ -DHAVE_CONFIG_H -I. -I.. -DDIC_VERSION=102   -DMECAB_DEFAULT_RC=\"\\\"/usr/local/etc/mecabrc\\\"\"    -O3 -Wall  -c -o char_property.lo char_property.cpp\n",
            "libtool: compile:  g++ -DHAVE_CONFIG_H -I. -I.. -DDIC_VERSION=102 -DMECAB_DEFAULT_RC=\\\"/usr/local/etc/mecabrc\\\" -O3 -Wall -c char_property.cpp  -fPIC -DPIC -o .libs/char_property.o\n",
            "libtool: compile:  g++ -DHAVE_CONFIG_H -I. -I.. -DDIC_VERSION=102 -DMECAB_DEFAULT_RC=\\\"/usr/local/etc/mecabrc\\\" -O3 -Wall -c char_property.cpp -o char_property.o >/dev/null 2>&1\n",
            "/bin/bash ../libtool --tag=CXX   --mode=compile g++ -DHAVE_CONFIG_H -I. -I.. -DDIC_VERSION=102   -DMECAB_DEFAULT_RC=\"\\\"/usr/local/etc/mecabrc\\\"\"    -O3 -Wall  -c -o dictionary.lo dictionary.cpp\n",
            "libtool: compile:  g++ -DHAVE_CONFIG_H -I. -I.. -DDIC_VERSION=102 -DMECAB_DEFAULT_RC=\\\"/usr/local/etc/mecabrc\\\" -O3 -Wall -c dictionary.cpp  -fPIC -DPIC -o .libs/dictionary.o\n",
            "libtool: compile:  g++ -DHAVE_CONFIG_H -I. -I.. -DDIC_VERSION=102 -DMECAB_DEFAULT_RC=\\\"/usr/local/etc/mecabrc\\\" -O3 -Wall -c dictionary.cpp -o dictionary.o >/dev/null 2>&1\n",
            "/bin/bash ../libtool --tag=CXX   --mode=compile g++ -DHAVE_CONFIG_H -I. -I.. -DDIC_VERSION=102   -DMECAB_DEFAULT_RC=\"\\\"/usr/local/etc/mecabrc\\\"\"    -O3 -Wall  -c -o feature_index.lo feature_index.cpp\n",
            "libtool: compile:  g++ -DHAVE_CONFIG_H -I. -I.. -DDIC_VERSION=102 -DMECAB_DEFAULT_RC=\\\"/usr/local/etc/mecabrc\\\" -O3 -Wall -c feature_index.cpp  -fPIC -DPIC -o .libs/feature_index.o\n",
            "libtool: compile:  g++ -DHAVE_CONFIG_H -I. -I.. -DDIC_VERSION=102 -DMECAB_DEFAULT_RC=\\\"/usr/local/etc/mecabrc\\\" -O3 -Wall -c feature_index.cpp -o feature_index.o >/dev/null 2>&1\n",
            "/bin/bash ../libtool --tag=CXX   --mode=compile g++ -DHAVE_CONFIG_H -I. -I.. -DDIC_VERSION=102   -DMECAB_DEFAULT_RC=\"\\\"/usr/local/etc/mecabrc\\\"\"    -O3 -Wall  -c -o lbfgs.lo lbfgs.cpp\n",
            "libtool: compile:  g++ -DHAVE_CONFIG_H -I. -I.. -DDIC_VERSION=102 -DMECAB_DEFAULT_RC=\\\"/usr/local/etc/mecabrc\\\" -O3 -Wall -c lbfgs.cpp  -fPIC -DPIC -o .libs/lbfgs.o\n",
            "libtool: compile:  g++ -DHAVE_CONFIG_H -I. -I.. -DDIC_VERSION=102 -DMECAB_DEFAULT_RC=\\\"/usr/local/etc/mecabrc\\\" -O3 -Wall -c lbfgs.cpp -o lbfgs.o >/dev/null 2>&1\n",
            "/bin/bash ../libtool --tag=CXX   --mode=compile g++ -DHAVE_CONFIG_H -I. -I.. -DDIC_VERSION=102   -DMECAB_DEFAULT_RC=\"\\\"/usr/local/etc/mecabrc\\\"\"    -O3 -Wall  -c -o learner_tagger.lo learner_tagger.cpp\n",
            "libtool: compile:  g++ -DHAVE_CONFIG_H -I. -I.. -DDIC_VERSION=102 -DMECAB_DEFAULT_RC=\\\"/usr/local/etc/mecabrc\\\" -O3 -Wall -c learner_tagger.cpp  -fPIC -DPIC -o .libs/learner_tagger.o\n",
            "libtool: compile:  g++ -DHAVE_CONFIG_H -I. -I.. -DDIC_VERSION=102 -DMECAB_DEFAULT_RC=\\\"/usr/local/etc/mecabrc\\\" -O3 -Wall -c learner_tagger.cpp -o learner_tagger.o >/dev/null 2>&1\n",
            "/bin/bash ../libtool --tag=CXX   --mode=compile g++ -DHAVE_CONFIG_H -I. -I.. -DDIC_VERSION=102   -DMECAB_DEFAULT_RC=\"\\\"/usr/local/etc/mecabrc\\\"\"    -O3 -Wall  -c -o learner.lo learner.cpp\n",
            "libtool: compile:  g++ -DHAVE_CONFIG_H -I. -I.. -DDIC_VERSION=102 -DMECAB_DEFAULT_RC=\\\"/usr/local/etc/mecabrc\\\" -O3 -Wall -c learner.cpp  -fPIC -DPIC -o .libs/learner.o\n",
            "libtool: compile:  g++ -DHAVE_CONFIG_H -I. -I.. -DDIC_VERSION=102 -DMECAB_DEFAULT_RC=\\\"/usr/local/etc/mecabrc\\\" -O3 -Wall -c learner.cpp -o learner.o >/dev/null 2>&1\n",
            "/bin/bash ../libtool --tag=CXX   --mode=compile g++ -DHAVE_CONFIG_H -I. -I.. -DDIC_VERSION=102   -DMECAB_DEFAULT_RC=\"\\\"/usr/local/etc/mecabrc\\\"\"    -O3 -Wall  -c -o libmecab.lo libmecab.cpp\n",
            "libtool: compile:  g++ -DHAVE_CONFIG_H -I. -I.. -DDIC_VERSION=102 -DMECAB_DEFAULT_RC=\\\"/usr/local/etc/mecabrc\\\" -O3 -Wall -c libmecab.cpp  -fPIC -DPIC -o .libs/libmecab.o\n",
            "libtool: compile:  g++ -DHAVE_CONFIG_H -I. -I.. -DDIC_VERSION=102 -DMECAB_DEFAULT_RC=\\\"/usr/local/etc/mecabrc\\\" -O3 -Wall -c libmecab.cpp -o libmecab.o >/dev/null 2>&1\n",
            "/bin/bash ../libtool --tag=CXX   --mode=link g++  -O3 -Wall  -no-undefined -version-info 2:0:0  -o libmecab.la -rpath /usr/local/lib viterbi.lo tagger.lo utils.lo eval.lo iconv_utils.lo dictionary_rewriter.lo dictionary_generator.lo dictionary_compiler.lo context_id.lo connector.lo nbest_generator.lo writer.lo string_buffer.lo param.lo tokenizer.lo char_property.lo dictionary.lo feature_index.lo lbfgs.lo learner_tagger.lo learner.lo libmecab.lo  -lpthread -lpthread  -lstdc++ \n",
            "libtool: link: g++  -fPIC -DPIC -shared -nostdlib /usr/lib/gcc/x86_64-linux-gnu/7/../../../x86_64-linux-gnu/crti.o /usr/lib/gcc/x86_64-linux-gnu/7/crtbeginS.o  .libs/viterbi.o .libs/tagger.o .libs/utils.o .libs/eval.o .libs/iconv_utils.o .libs/dictionary_rewriter.o .libs/dictionary_generator.o .libs/dictionary_compiler.o .libs/context_id.o .libs/connector.o .libs/nbest_generator.o .libs/writer.o .libs/string_buffer.o .libs/param.o .libs/tokenizer.o .libs/char_property.o .libs/dictionary.o .libs/feature_index.o .libs/lbfgs.o .libs/learner_tagger.o .libs/learner.o .libs/libmecab.o   -lpthread -L/usr/lib/gcc/x86_64-linux-gnu/7 -L/usr/lib/gcc/x86_64-linux-gnu/7/../../../x86_64-linux-gnu -L/usr/lib/gcc/x86_64-linux-gnu/7/../../../../lib -L/lib/x86_64-linux-gnu -L/lib/../lib -L/usr/lib/x86_64-linux-gnu -L/usr/lib/../lib -L/usr/local/cuda/lib64/stubs -L/usr/lib/gcc/x86_64-linux-gnu/7/../../.. -lstdc++ -lm -lc -lgcc_s /usr/lib/gcc/x86_64-linux-gnu/7/crtendS.o /usr/lib/gcc/x86_64-linux-gnu/7/../../../x86_64-linux-gnu/crtn.o  -O3   -Wl,-soname -Wl,libmecab.so.2 -o .libs/libmecab.so.2.0.0\n",
            "libtool: link: (cd \".libs\" && rm -f \"libmecab.so.2\" && ln -s \"libmecab.so.2.0.0\" \"libmecab.so.2\")\n",
            "libtool: link: (cd \".libs\" && rm -f \"libmecab.so\" && ln -s \"libmecab.so.2.0.0\" \"libmecab.so\")\n",
            "libtool: link: ar cru .libs/libmecab.a  viterbi.o tagger.o utils.o eval.o iconv_utils.o dictionary_rewriter.o dictionary_generator.o dictionary_compiler.o context_id.o connector.o nbest_generator.o writer.o string_buffer.o param.o tokenizer.o char_property.o dictionary.o feature_index.o lbfgs.o learner_tagger.o learner.o libmecab.o\n",
            "libtool: link: ranlib .libs/libmecab.a\n",
            "libtool: link: ( cd \".libs\" && rm -f \"libmecab.la\" && ln -s \"../libmecab.la\" \"libmecab.la\" )\n",
            "g++ -DHAVE_CONFIG_H -I. -I.. -DDIC_VERSION=102   -DMECAB_DEFAULT_RC=\"\\\"/usr/local/etc/mecabrc\\\"\"    -O3 -Wall  -c -o mecab.o mecab.cpp\n",
            "/bin/bash ../libtool --tag=CXX   --mode=link g++  -O3 -Wall    -o mecab mecab.o libmecab.la -lpthread -lpthread  -lstdc++ \n",
            "libtool: link: g++ -O3 -Wall -o .libs/mecab mecab.o  ./.libs/libmecab.so -lpthread -lstdc++\n",
            "g++ -DHAVE_CONFIG_H -I. -I.. -DDIC_VERSION=102   -DMECAB_DEFAULT_RC=\"\\\"/usr/local/etc/mecabrc\\\"\"    -O3 -Wall  -c -o mecab-dict-index.o mecab-dict-index.cpp\n",
            "/bin/bash ../libtool --tag=CXX   --mode=link g++  -O3 -Wall    -o mecab-dict-index mecab-dict-index.o libmecab.la -lpthread -lpthread  -lstdc++ \n",
            "libtool: link: g++ -O3 -Wall -o .libs/mecab-dict-index mecab-dict-index.o  ./.libs/libmecab.so -lpthread -lstdc++\n",
            "g++ -DHAVE_CONFIG_H -I. -I.. -DDIC_VERSION=102   -DMECAB_DEFAULT_RC=\"\\\"/usr/local/etc/mecabrc\\\"\"    -O3 -Wall  -c -o mecab-dict-gen.o mecab-dict-gen.cpp\n",
            "/bin/bash ../libtool --tag=CXX   --mode=link g++  -O3 -Wall    -o mecab-dict-gen mecab-dict-gen.o libmecab.la -lpthread -lpthread  -lstdc++ \n",
            "libtool: link: g++ -O3 -Wall -o .libs/mecab-dict-gen mecab-dict-gen.o  ./.libs/libmecab.so -lpthread -lstdc++\n",
            "g++ -DHAVE_CONFIG_H -I. -I.. -DDIC_VERSION=102   -DMECAB_DEFAULT_RC=\"\\\"/usr/local/etc/mecabrc\\\"\"    -O3 -Wall  -c -o mecab-cost-train.o mecab-cost-train.cpp\n",
            "/bin/bash ../libtool --tag=CXX   --mode=link g++  -O3 -Wall    -o mecab-cost-train mecab-cost-train.o libmecab.la -lpthread -lpthread  -lstdc++ \n",
            "libtool: link: g++ -O3 -Wall -o .libs/mecab-cost-train mecab-cost-train.o  ./.libs/libmecab.so -lpthread -lstdc++\n",
            "g++ -DHAVE_CONFIG_H -I. -I.. -DDIC_VERSION=102   -DMECAB_DEFAULT_RC=\"\\\"/usr/local/etc/mecabrc\\\"\"    -O3 -Wall  -c -o mecab-system-eval.o mecab-system-eval.cpp\n",
            "/bin/bash ../libtool --tag=CXX   --mode=link g++  -O3 -Wall    -o mecab-system-eval mecab-system-eval.o libmecab.la -lpthread -lpthread  -lstdc++ \n",
            "libtool: link: g++ -O3 -Wall -o .libs/mecab-system-eval mecab-system-eval.o  ./.libs/libmecab.so -lpthread -lstdc++\n",
            "g++ -DHAVE_CONFIG_H -I. -I.. -DDIC_VERSION=102   -DMECAB_DEFAULT_RC=\"\\\"/usr/local/etc/mecabrc\\\"\"    -O3 -Wall  -c -o mecab-test-gen.o mecab-test-gen.cpp\n",
            "/bin/bash ../libtool --tag=CXX   --mode=link g++  -O3 -Wall    -o mecab-test-gen mecab-test-gen.o libmecab.la -lpthread -lpthread  -lstdc++ \n",
            "libtool: link: g++ -O3 -Wall -o .libs/mecab-test-gen mecab-test-gen.o  ./.libs/libmecab.so -lpthread -lstdc++\n",
            "make[2]: Leaving directory '/tmp/mecab-0.996-ko-0.9.2/src'\n",
            "Making all in man\n",
            "make[2]: Entering directory '/tmp/mecab-0.996-ko-0.9.2/man'\n",
            "make[2]: Nothing to be done for 'all'.\n",
            "make[2]: Leaving directory '/tmp/mecab-0.996-ko-0.9.2/man'\n",
            "Making all in doc\n",
            "make[2]: Entering directory '/tmp/mecab-0.996-ko-0.9.2/doc'\n",
            "make[2]: Nothing to be done for 'all'.\n",
            "make[2]: Leaving directory '/tmp/mecab-0.996-ko-0.9.2/doc'\n",
            "Making all in tests\n",
            "make[2]: Entering directory '/tmp/mecab-0.996-ko-0.9.2/tests'\n",
            "make[2]: Nothing to be done for 'all'.\n",
            "make[2]: Leaving directory '/tmp/mecab-0.996-ko-0.9.2/tests'\n",
            "make[2]: Entering directory '/tmp/mecab-0.996-ko-0.9.2'\n",
            "make[2]: Leaving directory '/tmp/mecab-0.996-ko-0.9.2'\n",
            "make[1]: Leaving directory '/tmp/mecab-0.996-ko-0.9.2'\n",
            "Making check in src\n",
            "make[1]: Entering directory '/tmp/mecab-0.996-ko-0.9.2/src'\n",
            "make[1]: Nothing to be done for 'check'.\n",
            "make[1]: Leaving directory '/tmp/mecab-0.996-ko-0.9.2/src'\n",
            "Making check in man\n",
            "make[1]: Entering directory '/tmp/mecab-0.996-ko-0.9.2/man'\n",
            "make[1]: Nothing to be done for 'check'.\n",
            "make[1]: Leaving directory '/tmp/mecab-0.996-ko-0.9.2/man'\n",
            "Making check in doc\n",
            "make[1]: Entering directory '/tmp/mecab-0.996-ko-0.9.2/doc'\n",
            "make[1]: Nothing to be done for 'check'.\n",
            "make[1]: Leaving directory '/tmp/mecab-0.996-ko-0.9.2/doc'\n",
            "Making check in tests\n",
            "make[1]: Entering directory '/tmp/mecab-0.996-ko-0.9.2/tests'\n",
            "make  check-TESTS\n",
            "make[2]: Entering directory '/tmp/mecab-0.996-ko-0.9.2/tests'\n",
            "reading ./unk.def ... 2\n",
            "emitting double-array:  50% |#####################                      | \remitting double-array: 100% |###########################################| \n",
            "./model.def is not found. skipped.\n",
            "reading ./dic.csv ... 177\n",
            "emitting double-array:   1% |                                           | \remitting double-array:   3% |#                                          | \remitting double-array:   5% |##                                         | \remitting double-array:   7% |###                                        | \remitting double-array:   9% |###                                        | \remitting double-array:  11% |####                                       | \remitting double-array:  12% |#####                                      | \remitting double-array:  14% |######                                     | \remitting double-array:  16% |#######                                    | \remitting double-array:  18% |#######                                    | \remitting double-array:  20% |########                                   | \remitting double-array:  22% |#########                                  | \remitting double-array:  24% |##########                                 | \remitting double-array:  25% |###########                                | \remitting double-array:  27% |###########                                | \remitting double-array:  29% |############                               | \remitting double-array:  31% |#############                              | \remitting double-array:  33% |##############                             | \remitting double-array:  35% |###############                            | \remitting double-array:  37% |###############                            | \remitting double-array:  38% |################                           | \remitting double-array:  40% |#################                          | \remitting double-array:  42% |##################                         | \remitting double-array:  44% |###################                        | \remitting double-array:  46% |###################                        | \remitting double-array:  48% |####################                       | \remitting double-array:  50% |#####################                      | \remitting double-array:  51% |######################                     | \remitting double-array:  53% |#######################                    | \remitting double-array:  55% |#######################                    | \remitting double-array:  57% |########################                   | \remitting double-array:  59% |#########################                  | \remitting double-array:  61% |##########################                 | \remitting double-array:  62% |###########################                | \remitting double-array:  64% |###########################                | \remitting double-array:  66% |############################               | \remitting double-array:  68% |#############################              | \remitting double-array:  70% |##############################             | \remitting double-array:  72% |###############################            | \remitting double-array:  74% |###############################            | \remitting double-array:  75% |################################           | \remitting double-array:  77% |#################################          | \remitting double-array:  79% |##################################         | \remitting double-array:  81% |###################################        | \remitting double-array:  83% |###################################        | \remitting double-array:  85% |####################################       | \remitting double-array:  87% |#####################################      | \remitting double-array:  88% |######################################     | \remitting double-array:  90% |#######################################    | \remitting double-array:  92% |#######################################    | \remitting double-array:  94% |########################################   | \remitting double-array:  96% |#########################################  | \remitting double-array:  98% |########################################## | \remitting double-array: 100% |###########################################| \n",
            "reading ./matrix.def ... 178x178\n",
            "emitting matrix      :   0% |                                           | \remitting matrix      :   1% |                                           | \remitting matrix      :   2% |                                           | \remitting matrix      :   3% |#                                          | \remitting matrix      :   4% |#                                          | \remitting matrix      :   5% |##                                         | \remitting matrix      :   6% |##                                         | \remitting matrix      :   7% |###                                        | \remitting matrix      :   8% |###                                        | \remitting matrix      :   9% |####                                       | \remitting matrix      :  10% |####                                       | \remitting matrix      :  11% |####                                       | \remitting matrix      :  12% |#####                                      | \remitting matrix      :  13% |#####                                      | \remitting matrix      :  14% |######                                     | \remitting matrix      :  15% |######                                     | \remitting matrix      :  16% |#######                                    | \remitting matrix      :  17% |#######                                    | \remitting matrix      :  18% |#######                                    | \remitting matrix      :  19% |########                                   | \remitting matrix      :  20% |########                                   | \remitting matrix      :  21% |#########                                  | \remitting matrix      :  22% |#########                                  | \remitting matrix      :  23% |#########                                  | \remitting matrix      :  24% |##########                                 | \remitting matrix      :  25% |##########                                 | \remitting matrix      :  26% |###########                                | \remitting matrix      :  27% |###########                                | \remitting matrix      :  28% |############                               | \remitting matrix      :  29% |############                               | \remitting matrix      :  30% |#############                              | \remitting matrix      :  31% |#############                              | \remitting matrix      :  32% |#############                              | \remitting matrix      :  33% |##############                             | \remitting matrix      :  34% |##############                             | \remitting matrix      :  35% |###############                            | \remitting matrix      :  36% |###############                            | \remitting matrix      :  37% |###############                            | \remitting matrix      :  38% |################                           | \remitting matrix      :  39% |################                           | \remitting matrix      :  40% |#################                          | \remitting matrix      :  41% |#################                          | \remitting matrix      :  42% |##################                         | \remitting matrix      :  43% |##################                         | \remitting matrix      :  44% |###################                        | \remitting matrix      :  45% |###################                        | \remitting matrix      :  46% |###################                        | \remitting matrix      :  47% |####################                       | \remitting matrix      :  48% |####################                       | \remitting matrix      :  49% |#####################                      | \remitting matrix      :  50% |#####################                      | \remitting matrix      :  51% |#####################                      | \remitting matrix      :  52% |######################                     | \remitting matrix      :  53% |######################                     | \remitting matrix      :  54% |#######################                    | \remitting matrix      :  55% |#######################                    | \remitting matrix      :  56% |########################                   | \remitting matrix      :  57% |########################                   | \remitting matrix      :  58% |#########################                  | \remitting matrix      :  59% |#########################                  | \remitting matrix      :  60% |#########################                  | \remitting matrix      :  61% |##########################                 | \remitting matrix      :  62% |##########################                 | \remitting matrix      :  63% |###########################                | \remitting matrix      :  64% |###########################                | \remitting matrix      :  65% |############################               | \remitting matrix      :  66% |############################               | \remitting matrix      :  67% |############################               | \remitting matrix      :  68% |#############################              | \remitting matrix      :  69% |#############################              | \remitting matrix      :  70% |##############################             | \remitting matrix      :  71% |##############################             | \remitting matrix      :  72% |###############################            | \remitting matrix      :  73% |###############################            | \remitting matrix      :  74% |###############################            | \remitting matrix      :  75% |################################           | \remitting matrix      :  76% |################################           | \remitting matrix      :  77% |#################################          | \remitting matrix      :  78% |#################################          | \remitting matrix      :  79% |##################################         | \remitting matrix      :  80% |##################################         | \remitting matrix      :  81% |###################################        | \remitting matrix      :  82% |###################################        | \remitting matrix      :  83% |###################################        | \remitting matrix      :  84% |####################################       | \remitting matrix      :  85% |####################################       | \remitting matrix      :  86% |#####################################      | \remitting matrix      :  87% |#####################################      | \remitting matrix      :  88% |#####################################      | \remitting matrix      :  89% |######################################     | \remitting matrix      :  90% |######################################     | \remitting matrix      :  91% |#######################################    | \remitting matrix      :  92% |#######################################    | \remitting matrix      :  93% |########################################   | \remitting matrix      :  94% |########################################   | \remitting matrix      :  95% |#########################################  | \remitting matrix      :  96% |#########################################  | \remitting matrix      :  97% |#########################################  | \remitting matrix      :  98% |########################################## | \remitting matrix      :  99% |########################################## | \remitting matrix      : 100% |###########################################| \n",
            "\n",
            "done!\n",
            "reading ./unk.def ... 2\n",
            "emitting double-array:  50% |#####################                      | \remitting double-array: 100% |###########################################| \n",
            "./model.def is not found. skipped.\n",
            "reading ./dic.csv ... 83\n",
            "emitting double-array:  10% |####                                       | \remitting double-array:  20% |########                                   | \remitting double-array:  30% |############                               | \remitting double-array:  40% |#################                          | \remitting double-array:  50% |#####################                      | \remitting double-array:  60% |#########################                  | \remitting double-array:  70% |##############################             | \remitting double-array:  80% |##################################         | \remitting double-array:  90% |######################################     | \remitting double-array: 100% |###########################################| \n",
            "reading ./matrix.def ... 84x84\n",
            "emitting matrix      :   1% |                                           | \remitting matrix      :   2% |#                                          | \remitting matrix      :   3% |#                                          | \remitting matrix      :   4% |##                                         | \remitting matrix      :   5% |##                                         | \remitting matrix      :   7% |###                                        | \remitting matrix      :   8% |###                                        | \remitting matrix      :   9% |####                                       | \remitting matrix      :  10% |####                                       | \remitting matrix      :  11% |#####                                      | \remitting matrix      :  13% |#####                                      | \remitting matrix      :  14% |######                                     | \remitting matrix      :  15% |######                                     | \remitting matrix      :  16% |#######                                    | \remitting matrix      :  17% |#######                                    | \remitting matrix      :  19% |########                                   | \remitting matrix      :  20% |########                                   | \remitting matrix      :  21% |#########                                  | \remitting matrix      :  22% |#########                                  | \remitting matrix      :  23% |##########                                 | \remitting matrix      :  25% |##########                                 | \remitting matrix      :  26% |###########                                | \remitting matrix      :  27% |###########                                | \remitting matrix      :  28% |############                               | \remitting matrix      :  29% |############                               | \remitting matrix      :  30% |#############                              | \remitting matrix      :  32% |#############                              | \remitting matrix      :  33% |##############                             | \remitting matrix      :  34% |##############                             | \remitting matrix      :  35% |###############                            | \remitting matrix      :  36% |###############                            | \remitting matrix      :  38% |################                           | \remitting matrix      :  39% |################                           | \remitting matrix      :  40% |#################                          | \remitting matrix      :  41% |#################                          | \remitting matrix      :  42% |##################                         | \remitting matrix      :  44% |##################                         | \remitting matrix      :  45% |###################                        | \remitting matrix      :  46% |###################                        | \remitting matrix      :  47% |####################                       | \remitting matrix      :  48% |####################                       | \remitting matrix      :  50% |#####################                      | \remitting matrix      :  51% |######################                     | \remitting matrix      :  52% |######################                     | \remitting matrix      :  53% |#######################                    | \remitting matrix      :  54% |#######################                    | \remitting matrix      :  55% |########################                   | \remitting matrix      :  57% |########################                   | \remitting matrix      :  58% |#########################                  | \remitting matrix      :  59% |#########################                  | \remitting matrix      :  60% |##########################                 | \remitting matrix      :  61% |##########################                 | \remitting matrix      :  63% |###########################                | \remitting matrix      :  64% |###########################                | \remitting matrix      :  65% |############################               | \remitting matrix      :  66% |############################               | \remitting matrix      :  67% |#############################              | \remitting matrix      :  69% |#############################              | \remitting matrix      :  70% |##############################             | \remitting matrix      :  71% |##############################             | \remitting matrix      :  72% |###############################            | \remitting matrix      :  73% |###############################            | \remitting matrix      :  75% |################################           | \remitting matrix      :  76% |################################           | \remitting matrix      :  77% |#################################          | \remitting matrix      :  78% |#################################          | \remitting matrix      :  79% |##################################         | \remitting matrix      :  80% |##################################         | \remitting matrix      :  82% |###################################        | \remitting matrix      :  83% |###################################        | \remitting matrix      :  84% |####################################       | \remitting matrix      :  85% |####################################       | \remitting matrix      :  86% |#####################################      | \remitting matrix      :  88% |#####################################      | \remitting matrix      :  89% |######################################     | \remitting matrix      :  90% |######################################     | \remitting matrix      :  91% |#######################################    | \remitting matrix      :  92% |#######################################    | \remitting matrix      :  94% |########################################   | \remitting matrix      :  95% |########################################   | \remitting matrix      :  96% |#########################################  | \remitting matrix      :  97% |#########################################  | \remitting matrix      :  98% |########################################## | \remitting matrix      : 100% |###########################################| \n",
            "\n",
            "done!\n",
            "reading ./unk.def ... 2\n",
            "emitting double-array:  50% |#####################                      | \remitting double-array: 100% |###########################################| \n",
            "./model.def is not found. skipped.\n",
            "reading ./dic.csv ... 450\n",
            "emitting double-array:   0% |                                           | \remitting double-array:   1% |                                           | \remitting double-array:   2% |                                           | \remitting double-array:   3% |#                                          | \remitting double-array:   4% |#                                          | \remitting double-array:   5% |##                                         | \remitting double-array:   6% |##                                         | \remitting double-array:   7% |###                                        | \remitting double-array:   8% |###                                        | \remitting double-array:   9% |###                                        | \remitting double-array:  10% |####                                       | \remitting double-array:  11% |####                                       | \remitting double-array:  12% |#####                                      | \remitting double-array:  13% |#####                                      | \remitting double-array:  14% |######                                     | \remitting double-array:  15% |######                                     | \remitting double-array:  16% |######                                     | \remitting double-array:  17% |#######                                    | \remitting double-array:  18% |#######                                    | \remitting double-array:  19% |########                                   | \remitting double-array:  20% |########                                   | \remitting double-array:  21% |#########                                  | \remitting double-array:  22% |#########                                  | \remitting double-array:  23% |#########                                  | \remitting double-array:  24% |##########                                 | \remitting double-array:  25% |##########                                 | \remitting double-array:  26% |###########                                | \remitting double-array:  27% |###########                                | \remitting double-array:  28% |############                               | \remitting double-array:  29% |############                               | \remitting double-array:  30% |############                               | \remitting double-array:  31% |#############                              | \remitting double-array:  32% |#############                              | \remitting double-array:  33% |##############                             | \remitting double-array:  34% |##############                             | \remitting double-array:  35% |###############                            | \remitting double-array:  36% |###############                            | \remitting double-array:  37% |###############                            | \remitting double-array:  38% |################                           | \remitting double-array:  39% |################                           | \remitting double-array:  40% |#################                          | \remitting double-array:  41% |#################                          | \remitting double-array:  42% |##################                         | \remitting double-array:  43% |##################                         | \remitting double-array:  44% |##################                         | \remitting double-array:  45% |###################                        | \remitting double-array:  46% |###################                        | \remitting double-array:  47% |####################                       | \remitting double-array:  48% |####################                       | \remitting double-array:  49% |#####################                      | \remitting double-array:  50% |#####################                      | \remitting double-array:  51% |#####################                      | \remitting double-array:  52% |######################                     | \remitting double-array:  53% |######################                     | \remitting double-array:  54% |#######################                    | \remitting double-array:  55% |#######################                    | \remitting double-array:  56% |########################                   | \remitting double-array:  57% |########################                   | \remitting double-array:  58% |#########################                  | \remitting double-array:  59% |#########################                  | \remitting double-array:  60% |#########################                  | \remitting double-array:  61% |##########################                 | \remitting double-array:  62% |##########################                 | \remitting double-array:  63% |###########################                | \remitting double-array:  64% |###########################                | \remitting double-array:  65% |###########################                | \remitting double-array:  66% |############################               | \remitting double-array:  67% |############################               | \remitting double-array:  68% |#############################              | \remitting double-array:  69% |#############################              | \remitting double-array:  70% |##############################             | \remitting double-array:  71% |##############################             | \remitting double-array:  72% |##############################             | \remitting double-array:  73% |###############################            | \remitting double-array:  74% |###############################            | \remitting double-array:  75% |################################           | \remitting double-array:  76% |################################           | \remitting double-array:  77% |#################################          | \remitting double-array:  78% |#################################          | \remitting double-array:  79% |##################################         | \remitting double-array:  80% |##################################         | \remitting double-array:  81% |##################################         | \remitting double-array:  82% |###################################        | \remitting double-array:  83% |###################################        | \remitting double-array:  84% |####################################       | \remitting double-array:  85% |####################################       | \remitting double-array:  86% |#####################################      | \remitting double-array:  87% |#####################################      | \remitting double-array:  88% |#####################################      | \remitting double-array:  89% |######################################     | \remitting double-array:  90% |######################################     | \remitting double-array:  91% |#######################################    | \remitting double-array:  92% |#######################################    | \remitting double-array:  93% |########################################   | \remitting double-array:  94% |########################################   | \remitting double-array:  95% |########################################   | \remitting double-array:  96% |#########################################  | \remitting double-array:  97% |#########################################  | \remitting double-array:  98% |########################################## | \remitting double-array:  99% |########################################## | \remitting double-array: 100% |###########################################| \n",
            "reading ./matrix.def ... 1x1\n",
            "\n",
            "done!\n",
            "reading ./unk.def ... 2\n",
            "emitting double-array:  50% |#####################                      | \remitting double-array: 100% |###########################################| \n",
            "./model.def is not found. skipped.\n",
            "reading ./dic.csv ... 162\n",
            "emitting double-array:   1% |                                           | \remitting double-array:   2% |#                                          | \remitting double-array:   3% |#                                          | \remitting double-array:   4% |##                                         | \remitting double-array:   6% |##                                         | \remitting double-array:   7% |###                                        | \remitting double-array:   8% |###                                        | \remitting double-array:   9% |####                                       | \remitting double-array:  11% |####                                       | \remitting double-array:  12% |#####                                      | \remitting double-array:  13% |#####                                      | \remitting double-array:  14% |######                                     | \remitting double-array:  16% |######                                     | \remitting double-array:  17% |#######                                    | \remitting double-array:  18% |#######                                    | \remitting double-array:  19% |########                                   | \remitting double-array:  20% |#########                                  | \remitting double-array:  22% |#########                                  | \remitting double-array:  23% |##########                                 | \remitting double-array:  24% |##########                                 | \remitting double-array:  25% |###########                                | \remitting double-array:  27% |###########                                | \remitting double-array:  28% |############                               | \remitting double-array:  29% |############                               | \remitting double-array:  30% |#############                              | \remitting double-array:  32% |#############                              | \remitting double-array:  33% |##############                             | \remitting double-array:  34% |##############                             | \remitting double-array:  35% |###############                            | \remitting double-array:  37% |###############                            | \remitting double-array:  38% |################                           | \remitting double-array:  39% |################                           | \remitting double-array:  40% |#################                          | \remitting double-array:  41% |##################                         | \remitting double-array:  43% |##################                         | \remitting double-array:  44% |###################                        | \remitting double-array:  45% |###################                        | \remitting double-array:  46% |####################                       | \remitting double-array:  48% |####################                       | \remitting double-array:  49% |#####################                      | \remitting double-array:  50% |#####################                      | \remitting double-array:  51% |######################                     | \remitting double-array:  53% |######################                     | \remitting double-array:  54% |#######################                    | \remitting double-array:  55% |#######################                    | \remitting double-array:  56% |########################                   | \remitting double-array:  58% |########################                   | \remitting double-array:  59% |#########################                  | \remitting double-array:  60% |##########################                 | \remitting double-array:  61% |##########################                 | \remitting double-array:  62% |###########################                | \remitting double-array:  64% |###########################                | \remitting double-array:  65% |############################               | \remitting double-array:  66% |############################               | \remitting double-array:  67% |#############################              | \remitting double-array:  69% |#############################              | \remitting double-array:  70% |##############################             | \remitting double-array:  71% |##############################             | \remitting double-array:  72% |###############################            | \remitting double-array:  74% |###############################            | \remitting double-array:  75% |################################           | \remitting double-array:  76% |################################           | \remitting double-array:  77% |#################################          | \remitting double-array:  79% |#################################          | \remitting double-array:  80% |##################################         | \remitting double-array:  81% |###################################        | \remitting double-array:  82% |###################################        | \remitting double-array:  83% |####################################       | \remitting double-array:  85% |####################################       | \remitting double-array:  86% |#####################################      | \remitting double-array:  87% |#####################################      | \remitting double-array:  88% |######################################     | \remitting double-array:  90% |######################################     | \remitting double-array:  91% |#######################################    | \remitting double-array:  92% |#######################################    | \remitting double-array:  93% |########################################   | \remitting double-array:  95% |########################################   | \remitting double-array:  96% |#########################################  | \remitting double-array:  97% |#########################################  | \remitting double-array:  98% |########################################## | \remitting double-array: 100% |###########################################| \n",
            "reading ./matrix.def ... 3x3\n",
            "emitting matrix      :  33% |##############                             | \remitting matrix      :  66% |############################               | \remitting matrix      : 100% |###########################################| \n",
            "\n",
            "done!\n",
            "reading ./unk.def ... 2\n",
            "emitting double-array:  50% |#####################                      | \remitting double-array: 100% |###########################################| \n",
            "./model.def is not found. skipped.\n",
            "reading ./dic.csv ... 4\n",
            "emitting double-array:  25% |##########                                 | \remitting double-array:  50% |#####################                      | \remitting double-array:  75% |################################           | \remitting double-array: 100% |###########################################| \n",
            "reading ./matrix.def ... 1x1\n",
            "\n",
            "done!\n",
            "reading ./unk.def ... 11\n",
            "emitting double-array:   9% |###                                        | \remitting double-array:  18% |#######                                    | \remitting double-array:  27% |###########                                | \remitting double-array:  36% |###############                            | \remitting double-array:  45% |###################                        | \remitting double-array:  54% |#######################                    | \remitting double-array:  63% |###########################                | \remitting double-array:  72% |###############################            | \remitting double-array:  81% |###################################        | \remitting double-array:  90% |#######################################    | \remitting double-array: 100% |###########################################| \n",
            "./model.def is not found. skipped.\n",
            "reading ./dic.csv ... 1\n",
            "reading ./matrix.def ... 1x1\n",
            "\n",
            "done!\n",
            "reading ./unk.def ... 2\n",
            "emitting double-array:  50% |#####################                      | \remitting double-array: 100% |###########################################| \n",
            "./model.def is not found. skipped.\n",
            "reading ./dic.csv ... 1\n",
            "reading ./matrix.def ... 1x1\n",
            "\n",
            "done!\n",
            "PASS: run-dics.sh\n",
            "PASS: run-eval.sh\n",
            "reading seed/unk.def ... 40\n",
            "emitting double-array:   9% |###                                        | \remitting double-array:  18% |#######                                    | \remitting double-array:  27% |###########                                | \remitting double-array:  36% |###############                            | \remitting double-array:  45% |###################                        | \remitting double-array:  54% |#######################                    | \remitting double-array:  63% |###########################                | \remitting double-array:  72% |###############################            | \remitting double-array:  81% |###################################        | \remitting double-array:  90% |#######################################    | \remitting double-array: 100% |###########################################| \n",
            "seed/model.def is not found. skipped.\n",
            "reading seed/dic.csv ... 4335\n",
            "emitting double-array:   0% |                                           | \remitting double-array:   1% |                                           | \remitting double-array:   2% |                                           | \remitting double-array:   3% |#                                          | \remitting double-array:   4% |#                                          | \remitting double-array:   5% |##                                         | \remitting double-array:   6% |##                                         | \remitting double-array:   7% |###                                        | \remitting double-array:   8% |###                                        | \remitting double-array:   9% |###                                        | \remitting double-array:  10% |####                                       | \remitting double-array:  11% |####                                       | \remitting double-array:  12% |#####                                      | \remitting double-array:  13% |#####                                      | \remitting double-array:  14% |######                                     | \remitting double-array:  15% |######                                     | \remitting double-array:  16% |######                                     | \remitting double-array:  17% |#######                                    | \remitting double-array:  18% |#######                                    | \remitting double-array:  19% |########                                   | \remitting double-array:  20% |########                                   | \remitting double-array:  21% |#########                                  | \remitting double-array:  22% |#########                                  | \remitting double-array:  23% |#########                                  | \remitting double-array:  24% |##########                                 | \remitting double-array:  25% |##########                                 | \remitting double-array:  26% |###########                                | \remitting double-array:  27% |###########                                | \remitting double-array:  28% |############                               | \remitting double-array:  29% |############                               | \remitting double-array:  30% |############                               | \remitting double-array:  31% |#############                              | \remitting double-array:  32% |#############                              | \remitting double-array:  33% |##############                             | \remitting double-array:  34% |##############                             | \remitting double-array:  35% |###############                            | \remitting double-array:  36% |###############                            | \remitting double-array:  37% |###############                            | \remitting double-array:  38% |################                           | \remitting double-array:  39% |################                           | \remitting double-array:  40% |#################                          | \remitting double-array:  41% |#################                          | \remitting double-array:  42% |##################                         | \remitting double-array:  43% |##################                         | \remitting double-array:  44% |##################                         | \remitting double-array:  45% |###################                        | \remitting double-array:  46% |###################                        | \remitting double-array:  47% |####################                       | \remitting double-array:  48% |####################                       | \remitting double-array:  49% |#####################                      | \remitting double-array:  50% |#####################                      | \remitting double-array:  51% |#####################                      | \remitting double-array:  52% |######################                     | \remitting double-array:  53% |######################                     | \remitting double-array:  54% |#######################                    | \remitting double-array:  55% |#######################                    | \remitting double-array:  56% |########################                   | \remitting double-array:  57% |########################                   | \remitting double-array:  58% |########################                   | \remitting double-array:  59% |#########################                  | \remitting double-array:  60% |#########################                  | \remitting double-array:  61% |##########################                 | \remitting double-array:  62% |##########################                 | \remitting double-array:  63% |###########################                | \remitting double-array:  64% |###########################                | \remitting double-array:  65% |###########################                | \remitting double-array:  66% |############################               | \remitting double-array:  67% |############################               | \remitting double-array:  68% |#############################              | \remitting double-array:  69% |#############################              | \remitting double-array:  70% |##############################             | \remitting double-array:  71% |##############################             | \remitting double-array:  72% |##############################             | \remitting double-array:  73% |###############################            | \remitting double-array:  74% |###############################            | \remitting double-array:  75% |################################           | \remitting double-array:  76% |################################           | \remitting double-array:  77% |#################################          | \remitting double-array:  78% |#################################          | \remitting double-array:  79% |#################################          | \remitting double-array:  80% |##################################         | \remitting double-array:  81% |##################################         | \remitting double-array:  82% |###################################        | \remitting double-array:  83% |###################################        | \remitting double-array:  84% |####################################       | \remitting double-array:  85% |####################################       | \remitting double-array:  86% |#####################################      | \remitting double-array:  87% |#####################################      | \remitting double-array:  88% |#####################################      | \remitting double-array:  89% |######################################     | \remitting double-array:  90% |######################################     | \remitting double-array:  91% |#######################################    | \remitting double-array:  92% |#######################################    | \remitting double-array:  93% |########################################   | \remitting double-array:  94% |########################################   | \remitting double-array:  95% |########################################   | \remitting double-array:  96% |#########################################  | \remitting double-array:  97% |#########################################  | \remitting double-array:  98% |########################################## | \remitting double-array:  99% |########################################## | \remitting double-array: 100% |###########################################| \n",
            "reading seed/matrix.def ... 1x1\n",
            "\n",
            "done!\n",
            "reading corpus ...\n",
            "Number of sentences: 34\n",
            "Number of features:  64108\n",
            "eta:                 0.00005\n",
            "freq:                1\n",
            "eval-size:           6\n",
            "unk-eval-size:       4\n",
            "threads:             1\n",
            "charset:             EUC-JP\n",
            "C(sigma^2):          1.00000\n",
            "\n",
            "iter=0 err=1.00000 F=0.35771 target=2406.28355 diff=1.00000\n",
            "iter=1 err=0.97059 F=0.65652 target=1484.25231 diff=0.38318\n",
            "iter=2 err=0.91176 F=0.79331 target=863.32765 diff=0.41834\n",
            "iter=3 err=0.85294 F=0.89213 target=596.72480 diff=0.30881\n",
            "iter=4 err=0.61765 F=0.95467 target=336.30744 diff=0.43641\n",
            "iter=5 err=0.50000 F=0.96702 target=246.53039 diff=0.26695\n",
            "iter=6 err=0.35294 F=0.95472 target=188.93963 diff=0.23361\n",
            "iter=7 err=0.20588 F=0.99106 target=168.62665 diff=0.10751\n",
            "iter=8 err=0.05882 F=0.99777 target=158.64865 diff=0.05917\n",
            "iter=9 err=0.08824 F=0.99665 target=154.14530 diff=0.02839\n",
            "iter=10 err=0.08824 F=0.99665 target=151.94257 diff=0.01429\n",
            "iter=11 err=0.02941 F=0.99888 target=147.20825 diff=0.03116\n",
            "iter=12 err=0.00000 F=1.00000 target=147.34956 diff=0.00096\n",
            "iter=13 err=0.02941 F=0.99888 target=146.32592 diff=0.00695\n",
            "iter=14 err=0.00000 F=1.00000 target=145.77299 diff=0.00378\n",
            "iter=15 err=0.02941 F=0.99888 target=145.24641 diff=0.00361\n",
            "iter=16 err=0.00000 F=1.00000 target=144.96490 diff=0.00194\n",
            "iter=17 err=0.02941 F=0.99888 target=144.90246 diff=0.00043\n",
            "iter=18 err=0.00000 F=1.00000 target=144.75959 diff=0.00099\n",
            "iter=19 err=0.00000 F=1.00000 target=144.71727 diff=0.00029\n",
            "iter=20 err=0.00000 F=1.00000 target=144.66337 diff=0.00037\n",
            "iter=21 err=0.00000 F=1.00000 target=144.61349 diff=0.00034\n",
            "iter=22 err=0.00000 F=1.00000 target=144.62987 diff=0.00011\n",
            "iter=23 err=0.00000 F=1.00000 target=144.60060 diff=0.00020\n",
            "iter=24 err=0.00000 F=1.00000 target=144.59125 diff=0.00006\n",
            "iter=25 err=0.00000 F=1.00000 target=144.58619 diff=0.00004\n",
            "iter=26 err=0.00000 F=1.00000 target=144.58219 diff=0.00003\n",
            "iter=27 err=0.00000 F=1.00000 target=144.58059 diff=0.00001\n",
            "\n",
            "Done! writing model file ... \n",
            "model-ipadic.c1.0.f1.model is not a binary model. reopen it as text mode...\n",
            "reading seed/unk.def ... 40\n",
            "reading seed/dic.csv ... 4335\n",
            "emitting model-ipadic.c1.0.f1.dic/left-id.def/ model-ipadic.c1.0.f1.dic/right-id.def\n",
            "emitting model-ipadic.c1.0.f1.dic/unk.def ... 40\n",
            "emitting model-ipadic.c1.0.f1.dic/dic.csv ... 4335\n",
            "emitting matrix      :   1% |                                           | \remitting matrix      :   2% |                                           | \remitting matrix      :   3% |#                                          | \remitting matrix      :   4% |#                                          | \remitting matrix      :   5% |##                                         | \remitting matrix      :   6% |##                                         | \remitting matrix      :   7% |###                                        | \remitting matrix      :   8% |###                                        | \remitting matrix      :   9% |###                                        | \remitting matrix      :  10% |####                                       | \remitting matrix      :  11% |####                                       | \remitting matrix      :  12% |#####                                      | \remitting matrix      :  13% |#####                                      | \remitting matrix      :  14% |######                                     | \remitting matrix      :  15% |######                                     | \remitting matrix      :  16% |######                                     | \remitting matrix      :  17% |#######                                    | \remitting matrix      :  18% |#######                                    | \remitting matrix      :  19% |########                                   | \remitting matrix      :  20% |########                                   | \remitting matrix      :  21% |#########                                  | \remitting matrix      :  22% |#########                                  | \remitting matrix      :  23% |#########                                  | \remitting matrix      :  24% |##########                                 | \remitting matrix      :  25% |##########                                 | \remitting matrix      :  26% |###########                                | \remitting matrix      :  27% |###########                                | \remitting matrix      :  28% |############                               | \remitting matrix      :  29% |############                               | \remitting matrix      :  30% |############                               | \remitting matrix      :  31% |#############                              | \remitting matrix      :  32% |#############                              | \remitting matrix      :  33% |##############                             | \remitting matrix      :  34% |##############                             | \remitting matrix      :  35% |###############                            | \remitting matrix      :  36% |###############                            | \remitting matrix      :  37% |################                           | \remitting matrix      :  38% |################                           | \remitting matrix      :  39% |################                           | \remitting matrix      :  40% |#################                          | \remitting matrix      :  41% |#################                          | \remitting matrix      :  42% |##################                         | \remitting matrix      :  43% |##################                         | \remitting matrix      :  44% |###################                        | \remitting matrix      :  45% |###################                        | \remitting matrix      :  46% |###################                        | \remitting matrix      :  47% |####################                       | \remitting matrix      :  48% |####################                       | \remitting matrix      :  49% |#####################                      | \remitting matrix      :  50% |#####################                      | \remitting matrix      :  51% |#####################                      | \remitting matrix      :  52% |######################                     | \remitting matrix      :  53% |######################                     | \remitting matrix      :  54% |#######################                    | \remitting matrix      :  55% |#######################                    | \remitting matrix      :  56% |########################                   | \remitting matrix      :  57% |########################                   | \remitting matrix      :  58% |########################                   | \remitting matrix      :  59% |#########################                  | \remitting matrix      :  60% |#########################                  | \remitting matrix      :  61% |##########################                 | \remitting matrix      :  62% |##########################                 | \remitting matrix      :  63% |###########################                | \remitting matrix      :  64% |###########################                | \remitting matrix      :  65% |###########################                | \remitting matrix      :  66% |############################               | \remitting matrix      :  67% |############################               | \remitting matrix      :  68% |#############################              | \remitting matrix      :  69% |#############################              | \remitting matrix      :  70% |##############################             | \remitting matrix      :  71% |##############################             | \remitting matrix      :  72% |###############################            | \remitting matrix      :  73% |###############################            | \remitting matrix      :  74% |###############################            | \remitting matrix      :  75% |################################           | \remitting matrix      :  76% |################################           | \remitting matrix      :  77% |#################################          | \remitting matrix      :  78% |#################################          | \remitting matrix      :  79% |##################################         | \remitting matrix      :  80% |##################################         | \remitting matrix      :  81% |##################################         | \remitting matrix      :  82% |###################################        | \remitting matrix      :  83% |###################################        | \remitting matrix      :  84% |####################################       | \remitting matrix      :  85% |####################################       | \remitting matrix      :  86% |#####################################      | \remitting matrix      :  87% |#####################################      | \remitting matrix      :  88% |#####################################      | \remitting matrix      :  89% |######################################     | \remitting matrix      :  90% |######################################     | \remitting matrix      :  91% |#######################################    | \remitting matrix      :  92% |#######################################    | \remitting matrix      :  93% |########################################   | \remitting matrix      :  94% |########################################   | \remitting matrix      :  95% |########################################   | \remitting matrix      :  96% |#########################################  | \remitting matrix      :  97% |#########################################  | \remitting matrix      :  98% |########################################## | \remitting matrix      :  99% |########################################## | \remitting matrix      : 100% |###########################################| \n",
            "copying seed/char.def to model-ipadic.c1.0.f1.dic/char.def\n",
            "copying seed/rewrite.def to model-ipadic.c1.0.f1.dic/rewrite.def\n",
            "copying seed/dicrc to model-ipadic.c1.0.f1.dic/dicrc\n",
            "copying seed/feature.def to model-ipadic.c1.0.f1.dic/feature.def\n",
            "copying model-ipadic.c1.0.f1.model to model-ipadic.c1.0.f1.dic/model.def\n",
            "\n",
            "done!\n",
            "reading model-ipadic.c1.0.f1.dic/unk.def ... 40\n",
            "emitting double-array:   9% |###                                        | \remitting double-array:  18% |#######                                    | \remitting double-array:  27% |###########                                | \remitting double-array:  36% |###############                            | \remitting double-array:  45% |###################                        | \remitting double-array:  54% |#######################                    | \remitting double-array:  63% |###########################                | \remitting double-array:  72% |###############################            | \remitting double-array:  81% |###################################        | \remitting double-array:  90% |#######################################    | \remitting double-array: 100% |###########################################| \n",
            "reading model-ipadic.c1.0.f1.dic/dic.csv ... 4335\n",
            "emitting double-array:   0% |                                           | \remitting double-array:   1% |                                           | \remitting double-array:   2% |                                           | \remitting double-array:   3% |#                                          | \remitting double-array:   4% |#                                          | \remitting double-array:   5% |##                                         | \remitting double-array:   6% |##                                         | \remitting double-array:   7% |###                                        | \remitting double-array:   8% |###                                        | \remitting double-array:   9% |###                                        | \remitting double-array:  10% |####                                       | \remitting double-array:  11% |####                                       | \remitting double-array:  12% |#####                                      | \remitting double-array:  13% |#####                                      | \remitting double-array:  14% |######                                     | \remitting double-array:  15% |######                                     | \remitting double-array:  16% |######                                     | \remitting double-array:  17% |#######                                    | \remitting double-array:  18% |#######                                    | \remitting double-array:  19% |########                                   | \remitting double-array:  20% |########                                   | \remitting double-array:  21% |#########                                  | \remitting double-array:  22% |#########                                  | \remitting double-array:  23% |#########                                  | \remitting double-array:  24% |##########                                 | \remitting double-array:  25% |##########                                 | \remitting double-array:  26% |###########                                | \remitting double-array:  27% |###########                                | \remitting double-array:  28% |############                               | \remitting double-array:  29% |############                               | \remitting double-array:  30% |############                               | \remitting double-array:  31% |#############                              | \remitting double-array:  32% |#############                              | \remitting double-array:  33% |##############                             | \remitting double-array:  34% |##############                             | \remitting double-array:  35% |###############                            | \remitting double-array:  36% |###############                            | \remitting double-array:  37% |###############                            | \remitting double-array:  38% |################                           | \remitting double-array:  39% |################                           | \remitting double-array:  40% |#################                          | \remitting double-array:  41% |#################                          | \remitting double-array:  42% |##################                         | \remitting double-array:  43% |##################                         | \remitting double-array:  44% |##################                         | \remitting double-array:  45% |###################                        | \remitting double-array:  46% |###################                        | \remitting double-array:  47% |####################                       | \remitting double-array:  48% |####################                       | \remitting double-array:  49% |#####################                      | \remitting double-array:  50% |#####################                      | \remitting double-array:  51% |#####################                      | \remitting double-array:  52% |######################                     | \remitting double-array:  53% |######################                     | \remitting double-array:  54% |#######################                    | \remitting double-array:  55% |#######################                    | \remitting double-array:  56% |########################                   | \remitting double-array:  57% |########################                   | \remitting double-array:  58% |########################                   | \remitting double-array:  59% |#########################                  | \remitting double-array:  60% |#########################                  | \remitting double-array:  61% |##########################                 | \remitting double-array:  62% |##########################                 | \remitting double-array:  63% |###########################                | \remitting double-array:  64% |###########################                | \remitting double-array:  65% |###########################                | \remitting double-array:  66% |############################               | \remitting double-array:  67% |############################               | \remitting double-array:  68% |#############################              | \remitting double-array:  69% |#############################              | \remitting double-array:  70% |##############################             | \remitting double-array:  71% |##############################             | \remitting double-array:  72% |##############################             | \remitting double-array:  73% |###############################            | \remitting double-array:  74% |###############################            | \remitting double-array:  75% |################################           | \remitting double-array:  76% |################################           | \remitting double-array:  77% |#################################          | \remitting double-array:  78% |#################################          | \remitting double-array:  79% |#################################          | \remitting double-array:  80% |##################################         | \remitting double-array:  81% |##################################         | \remitting double-array:  82% |###################################        | \remitting double-array:  83% |###################################        | \remitting double-array:  84% |####################################       | \remitting double-array:  85% |####################################       | \remitting double-array:  86% |#####################################      | \remitting double-array:  87% |#####################################      | \remitting double-array:  88% |#####################################      | \remitting double-array:  89% |######################################     | \remitting double-array:  90% |######################################     | \remitting double-array:  91% |#######################################    | \remitting double-array:  92% |#######################################    | \remitting double-array:  93% |########################################   | \remitting double-array:  94% |########################################   | \remitting double-array:  95% |########################################   | \remitting double-array:  96% |#########################################  | \remitting double-array:  97% |#########################################  | \remitting double-array:  98% |########################################## | \remitting double-array:  99% |########################################## | \remitting double-array: 100% |###########################################| \n",
            "reading model-ipadic.c1.0.f1.dic/matrix.def ... 346x346\n",
            "emitting matrix      :   0% |                                           | \remitting matrix      :   1% |                                           | \remitting matrix      :   2% |                                           | \remitting matrix      :   3% |#                                          | \remitting matrix      :   4% |#                                          | \remitting matrix      :   5% |##                                         | \remitting matrix      :   6% |##                                         | \remitting matrix      :   7% |###                                        | \remitting matrix      :   8% |###                                        | \remitting matrix      :   9% |###                                        | \remitting matrix      :  10% |####                                       | \remitting matrix      :  11% |####                                       | \remitting matrix      :  12% |#####                                      | \remitting matrix      :  13% |#####                                      | \remitting matrix      :  14% |######                                     | \remitting matrix      :  15% |######                                     | \remitting matrix      :  16% |######                                     | \remitting matrix      :  17% |#######                                    | \remitting matrix      :  18% |#######                                    | \remitting matrix      :  19% |########                                   | \remitting matrix      :  20% |########                                   | \remitting matrix      :  21% |#########                                  | \remitting matrix      :  22% |#########                                  | \remitting matrix      :  23% |#########                                  | \remitting matrix      :  24% |##########                                 | \remitting matrix      :  25% |##########                                 | \remitting matrix      :  26% |###########                                | \remitting matrix      :  27% |###########                                | \remitting matrix      :  28% |############                               | \remitting matrix      :  29% |############                               | \remitting matrix      :  30% |############                               | \remitting matrix      :  31% |#############                              | \remitting matrix      :  32% |#############                              | \remitting matrix      :  33% |##############                             | \remitting matrix      :  34% |##############                             | \remitting matrix      :  35% |###############                            | \remitting matrix      :  36% |###############                            | \remitting matrix      :  37% |################                           | \remitting matrix      :  38% |################                           | \remitting matrix      :  39% |################                           | \remitting matrix      :  40% |#################                          | \remitting matrix      :  41% |#################                          | \remitting matrix      :  42% |##################                         | \remitting matrix      :  43% |##################                         | \remitting matrix      :  44% |###################                        | \remitting matrix      :  45% |###################                        | \remitting matrix      :  46% |###################                        | \remitting matrix      :  47% |####################                       | \remitting matrix      :  48% |####################                       | \remitting matrix      :  49% |#####################                      | \remitting matrix      :  50% |#####################                      | \remitting matrix      :  51% |#####################                      | \remitting matrix      :  52% |######################                     | \remitting matrix      :  53% |######################                     | \remitting matrix      :  54% |#######################                    | \remitting matrix      :  55% |#######################                    | \remitting matrix      :  56% |########################                   | \remitting matrix      :  57% |########################                   | \remitting matrix      :  58% |########################                   | \remitting matrix      :  59% |#########################                  | \remitting matrix      :  60% |#########################                  | \remitting matrix      :  61% |##########################                 | \remitting matrix      :  62% |##########################                 | \remitting matrix      :  63% |###########################                | \remitting matrix      :  64% |###########################                | \remitting matrix      :  65% |###########################                | \remitting matrix      :  66% |############################               | \remitting matrix      :  67% |############################               | \remitting matrix      :  68% |#############################              | \remitting matrix      :  69% |#############################              | \remitting matrix      :  70% |##############################             | \remitting matrix      :  71% |##############################             | \remitting matrix      :  72% |###############################            | \remitting matrix      :  73% |###############################            | \remitting matrix      :  74% |###############################            | \remitting matrix      :  75% |################################           | \remitting matrix      :  76% |################################           | \remitting matrix      :  77% |#################################          | \remitting matrix      :  78% |#################################          | \remitting matrix      :  79% |##################################         | \remitting matrix      :  80% |##################################         | \remitting matrix      :  81% |##################################         | \remitting matrix      :  82% |###################################        | \remitting matrix      :  83% |###################################        | \remitting matrix      :  84% |####################################       | \remitting matrix      :  85% |####################################       | \remitting matrix      :  86% |#####################################      | \remitting matrix      :  87% |#####################################      | \remitting matrix      :  88% |#####################################      | \remitting matrix      :  89% |######################################     | \remitting matrix      :  90% |######################################     | \remitting matrix      :  91% |#######################################    | \remitting matrix      :  92% |#######################################    | \remitting matrix      :  93% |########################################   | \remitting matrix      :  94% |########################################   | \remitting matrix      :  95% |########################################   | \remitting matrix      :  96% |#########################################  | \remitting matrix      :  97% |#########################################  | \remitting matrix      :  98% |########################################## | \remitting matrix      :  99% |########################################## | \remitting matrix      : 100% |###########################################| \n",
            "\n",
            "done!\n",
            "              precision          recall         F\n",
            "LEVEL 0:    12.8959(57/442) 11.8998(57/479) 12.3779\n",
            "LEVEL 1:    12.2172(54/442) 11.2735(54/479) 11.7264\n",
            "LEVEL 2:    11.7647(52/442) 10.8559(52/479) 11.2921\n",
            "LEVEL 4:    11.7647(52/442) 10.8559(52/479) 11.2921\n",
            "PASS: run-cost-train.sh\n",
            "==================\n",
            "All 3 tests passed\n",
            "==================\n",
            "make[2]: Leaving directory '/tmp/mecab-0.996-ko-0.9.2/tests'\n",
            "make[1]: Leaving directory '/tmp/mecab-0.996-ko-0.9.2/tests'\n",
            "make[1]: Entering directory '/tmp/mecab-0.996-ko-0.9.2'\n",
            "make[1]: Leaving directory '/tmp/mecab-0.996-ko-0.9.2'\n",
            "Making install in src\n",
            "make[1]: Entering directory '/tmp/mecab-0.996-ko-0.9.2/src'\n",
            "make[2]: Entering directory '/tmp/mecab-0.996-ko-0.9.2/src'\n",
            "test -z \"/usr/local/lib\" || /bin/mkdir -p \"/usr/local/lib\"\n",
            " /bin/bash ../libtool   --mode=install /usr/bin/install -c   libmecab.la '/usr/local/lib'\n",
            "libtool: install: /usr/bin/install -c .libs/libmecab.so.2.0.0 /usr/local/lib/libmecab.so.2.0.0\n",
            "libtool: install: (cd /usr/local/lib && { ln -s -f libmecab.so.2.0.0 libmecab.so.2 || { rm -f libmecab.so.2 && ln -s libmecab.so.2.0.0 libmecab.so.2; }; })\n",
            "libtool: install: (cd /usr/local/lib && { ln -s -f libmecab.so.2.0.0 libmecab.so || { rm -f libmecab.so && ln -s libmecab.so.2.0.0 libmecab.so; }; })\n",
            "libtool: install: /usr/bin/install -c .libs/libmecab.lai /usr/local/lib/libmecab.la\n",
            "libtool: install: /usr/bin/install -c .libs/libmecab.a /usr/local/lib/libmecab.a\n",
            "libtool: install: chmod 644 /usr/local/lib/libmecab.a\n",
            "libtool: install: ranlib /usr/local/lib/libmecab.a\n",
            "libtool: finish: PATH=\"/usr/local/sbin:/usr/local/bin:/usr/sbin:/usr/bin:/sbin:/bin:/snap/bin:/sbin\" ldconfig -n /usr/local/lib\n",
            "----------------------------------------------------------------------\n",
            "Libraries have been installed in:\n",
            "   /usr/local/lib\n",
            "\n",
            "If you ever happen to want to link against installed libraries\n",
            "in a given directory, LIBDIR, you must either use libtool, and\n",
            "specify the full pathname of the library, or use the `-LLIBDIR'\n",
            "flag during linking and do at least one of the following:\n",
            "   - add LIBDIR to the `LD_LIBRARY_PATH' environment variable\n",
            "     during execution\n",
            "   - add LIBDIR to the `LD_RUN_PATH' environment variable\n",
            "     during linking\n",
            "   - use the `-Wl,-rpath -Wl,LIBDIR' linker flag\n",
            "   - have your system administrator add LIBDIR to `/etc/ld.so.conf'\n",
            "\n",
            "See any operating system documentation about shared libraries for\n",
            "more information, such as the ld(1) and ld.so(8) manual pages.\n",
            "----------------------------------------------------------------------\n",
            "test -z \"/usr/local/bin\" || /bin/mkdir -p \"/usr/local/bin\"\n",
            "  /bin/bash ../libtool   --mode=install /usr/bin/install -c mecab '/usr/local/bin'\n",
            "libtool: install: /usr/bin/install -c .libs/mecab /usr/local/bin/mecab\n",
            "test -z \"/usr/local/libexec/mecab\" || /bin/mkdir -p \"/usr/local/libexec/mecab\"\n",
            "  /bin/bash ../libtool   --mode=install /usr/bin/install -c mecab-dict-index mecab-dict-gen mecab-cost-train mecab-system-eval mecab-test-gen '/usr/local/libexec/mecab'\n",
            "libtool: install: /usr/bin/install -c .libs/mecab-dict-index /usr/local/libexec/mecab/mecab-dict-index\n",
            "libtool: install: /usr/bin/install -c .libs/mecab-dict-gen /usr/local/libexec/mecab/mecab-dict-gen\n",
            "libtool: install: /usr/bin/install -c .libs/mecab-cost-train /usr/local/libexec/mecab/mecab-cost-train\n",
            "libtool: install: /usr/bin/install -c .libs/mecab-system-eval /usr/local/libexec/mecab/mecab-system-eval\n",
            "libtool: install: /usr/bin/install -c .libs/mecab-test-gen /usr/local/libexec/mecab/mecab-test-gen\n",
            "test -z \"/usr/local/include\" || /bin/mkdir -p \"/usr/local/include\"\n",
            " /usr/bin/install -c -m 644 mecab.h '/usr/local/include'\n",
            "make[2]: Leaving directory '/tmp/mecab-0.996-ko-0.9.2/src'\n",
            "make[1]: Leaving directory '/tmp/mecab-0.996-ko-0.9.2/src'\n",
            "Making install in man\n",
            "make[1]: Entering directory '/tmp/mecab-0.996-ko-0.9.2/man'\n",
            "make[2]: Entering directory '/tmp/mecab-0.996-ko-0.9.2/man'\n",
            "make[2]: Nothing to be done for 'install-exec-am'.\n",
            "test -z \"/usr/local/share/man/man1\" || /bin/mkdir -p \"/usr/local/share/man/man1\"\n",
            " /usr/bin/install -c -m 644 mecab.1 '/usr/local/share/man/man1'\n",
            "make[2]: Leaving directory '/tmp/mecab-0.996-ko-0.9.2/man'\n",
            "make[1]: Leaving directory '/tmp/mecab-0.996-ko-0.9.2/man'\n",
            "Making install in doc\n",
            "make[1]: Entering directory '/tmp/mecab-0.996-ko-0.9.2/doc'\n",
            "make[2]: Entering directory '/tmp/mecab-0.996-ko-0.9.2/doc'\n",
            "make[2]: Nothing to be done for 'install-exec-am'.\n",
            "make[2]: Nothing to be done for 'install-data-am'.\n",
            "make[2]: Leaving directory '/tmp/mecab-0.996-ko-0.9.2/doc'\n",
            "make[1]: Leaving directory '/tmp/mecab-0.996-ko-0.9.2/doc'\n",
            "Making install in tests\n",
            "make[1]: Entering directory '/tmp/mecab-0.996-ko-0.9.2/tests'\n",
            "make[2]: Entering directory '/tmp/mecab-0.996-ko-0.9.2/tests'\n",
            "make[2]: Nothing to be done for 'install-exec-am'.\n",
            "make[2]: Nothing to be done for 'install-data-am'.\n",
            "make[2]: Leaving directory '/tmp/mecab-0.996-ko-0.9.2/tests'\n",
            "make[1]: Leaving directory '/tmp/mecab-0.996-ko-0.9.2/tests'\n",
            "make[1]: Entering directory '/tmp/mecab-0.996-ko-0.9.2'\n",
            "make[2]: Entering directory '/tmp/mecab-0.996-ko-0.9.2'\n",
            "test -z \"/usr/local/bin\" || /bin/mkdir -p \"/usr/local/bin\"\n",
            " /usr/bin/install -c mecab-config '/usr/local/bin'\n",
            "test -z \"/usr/local/etc\" || /bin/mkdir -p \"/usr/local/etc\"\n",
            " /usr/bin/install -c -m 644 mecabrc '/usr/local/etc'\n",
            "make[2]: Leaving directory '/tmp/mecab-0.996-ko-0.9.2'\n",
            "make[1]: Leaving directory '/tmp/mecab-0.996-ko-0.9.2'\n",
            "Install mecab-ko-dic\n",
            "Install mecab-ko-dic\n",
            "mecab-ko-dic-2.1.1-20180720/\n",
            "mecab-ko-dic-2.1.1-20180720/configure\n",
            "mecab-ko-dic-2.1.1-20180720/COPYING\n",
            "mecab-ko-dic-2.1.1-20180720/autogen.sh\n",
            "mecab-ko-dic-2.1.1-20180720/Place-station.csv\n",
            "mecab-ko-dic-2.1.1-20180720/NNG.csv\n",
            "mecab-ko-dic-2.1.1-20180720/README\n",
            "mecab-ko-dic-2.1.1-20180720/EF.csv\n",
            "mecab-ko-dic-2.1.1-20180720/MAG.csv\n",
            "mecab-ko-dic-2.1.1-20180720/Preanalysis.csv\n",
            "mecab-ko-dic-2.1.1-20180720/NNB.csv\n",
            "mecab-ko-dic-2.1.1-20180720/Person-actor.csv\n",
            "mecab-ko-dic-2.1.1-20180720/VV.csv\n",
            "mecab-ko-dic-2.1.1-20180720/Makefile.in\n",
            "mecab-ko-dic-2.1.1-20180720/matrix.def\n",
            "mecab-ko-dic-2.1.1-20180720/EC.csv\n",
            "mecab-ko-dic-2.1.1-20180720/NNBC.csv\n",
            "mecab-ko-dic-2.1.1-20180720/clean\n",
            "mecab-ko-dic-2.1.1-20180720/ChangeLog\n",
            "mecab-ko-dic-2.1.1-20180720/J.csv\n",
            "mecab-ko-dic-2.1.1-20180720/.keep\n",
            "mecab-ko-dic-2.1.1-20180720/feature.def\n",
            "mecab-ko-dic-2.1.1-20180720/Foreign.csv\n",
            "mecab-ko-dic-2.1.1-20180720/XPN.csv\n",
            "mecab-ko-dic-2.1.1-20180720/EP.csv\n",
            "mecab-ko-dic-2.1.1-20180720/NR.csv\n",
            "mecab-ko-dic-2.1.1-20180720/left-id.def\n",
            "mecab-ko-dic-2.1.1-20180720/Place.csv\n",
            "mecab-ko-dic-2.1.1-20180720/Symbol.csv\n",
            "mecab-ko-dic-2.1.1-20180720/dicrc\n",
            "mecab-ko-dic-2.1.1-20180720/NP.csv\n",
            "mecab-ko-dic-2.1.1-20180720/ETM.csv\n",
            "mecab-ko-dic-2.1.1-20180720/IC.csv\n",
            "mecab-ko-dic-2.1.1-20180720/Place-address.csv\n",
            "mecab-ko-dic-2.1.1-20180720/Group.csv\n",
            "mecab-ko-dic-2.1.1-20180720/model.def\n",
            "mecab-ko-dic-2.1.1-20180720/XSN.csv\n",
            "mecab-ko-dic-2.1.1-20180720/INSTALL\n",
            "mecab-ko-dic-2.1.1-20180720/rewrite.def\n",
            "mecab-ko-dic-2.1.1-20180720/Inflect.csv\n",
            "mecab-ko-dic-2.1.1-20180720/configure.ac\n",
            "mecab-ko-dic-2.1.1-20180720/NNP.csv\n",
            "mecab-ko-dic-2.1.1-20180720/CoinedWord.csv\n",
            "mecab-ko-dic-2.1.1-20180720/XSV.csv\n",
            "mecab-ko-dic-2.1.1-20180720/pos-id.def\n",
            "mecab-ko-dic-2.1.1-20180720/Makefile.am\n",
            "mecab-ko-dic-2.1.1-20180720/unk.def\n",
            "mecab-ko-dic-2.1.1-20180720/missing\n",
            "mecab-ko-dic-2.1.1-20180720/VCP.csv\n",
            "mecab-ko-dic-2.1.1-20180720/install-sh\n",
            "mecab-ko-dic-2.1.1-20180720/Hanja.csv\n",
            "mecab-ko-dic-2.1.1-20180720/MAJ.csv\n",
            "mecab-ko-dic-2.1.1-20180720/XSA.csv\n",
            "mecab-ko-dic-2.1.1-20180720/Wikipedia.csv\n",
            "mecab-ko-dic-2.1.1-20180720/tools/\n",
            "mecab-ko-dic-2.1.1-20180720/tools/add-userdic.sh\n",
            "mecab-ko-dic-2.1.1-20180720/tools/mecab-bestn.sh\n",
            "mecab-ko-dic-2.1.1-20180720/tools/convert_for_using_store.sh\n",
            "mecab-ko-dic-2.1.1-20180720/user-dic/\n",
            "mecab-ko-dic-2.1.1-20180720/user-dic/nnp.csv\n",
            "mecab-ko-dic-2.1.1-20180720/user-dic/place.csv\n",
            "mecab-ko-dic-2.1.1-20180720/user-dic/person.csv\n",
            "mecab-ko-dic-2.1.1-20180720/user-dic/README.md\n",
            "mecab-ko-dic-2.1.1-20180720/NorthKorea.csv\n",
            "mecab-ko-dic-2.1.1-20180720/VX.csv\n",
            "mecab-ko-dic-2.1.1-20180720/right-id.def\n",
            "mecab-ko-dic-2.1.1-20180720/VA.csv\n",
            "mecab-ko-dic-2.1.1-20180720/char.def\n",
            "mecab-ko-dic-2.1.1-20180720/NEWS\n",
            "mecab-ko-dic-2.1.1-20180720/MM.csv\n",
            "mecab-ko-dic-2.1.1-20180720/ETN.csv\n",
            "mecab-ko-dic-2.1.1-20180720/AUTHORS\n",
            "mecab-ko-dic-2.1.1-20180720/Person.csv\n",
            "mecab-ko-dic-2.1.1-20180720/XR.csv\n",
            "mecab-ko-dic-2.1.1-20180720/VCN.csv\n",
            "Looking in current directory for macros.\n",
            "checking for a BSD-compatible install... /usr/bin/install -c\n",
            "checking whether build environment is sane... yes\n",
            "checking for a thread-safe mkdir -p... /bin/mkdir -p\n",
            "checking for gawk... no\n",
            "checking for mawk... mawk\n",
            "checking whether make sets $(MAKE)... yes\n",
            "checking whether make supports nested variables... yes\n",
            "checking for mecab-config... /usr/local/bin/mecab-config\n",
            "checking that generated files are newer than configure... done\n",
            "configure: creating ./config.status\n",
            "config.status: creating Makefile\n",
            "/usr/local/lib\n",
            "/usr/local/libexec/mecab/mecab-dict-index -d . -o . -f UTF-8 -t UTF-8\n",
            "reading ./unk.def ... 13\n",
            "emitting double-array:   7% |###                                        | \remitting double-array:  15% |######                                     | \remitting double-array:  23% |#########                                  | \remitting double-array:  30% |#############                              | \remitting double-array:  38% |################                           | \remitting double-array:  46% |###################                        | \remitting double-array:  53% |#######################                    | \remitting double-array:  61% |##########################                 | \remitting double-array:  69% |#############################              | \remitting double-array:  76% |#################################          | \remitting double-array:  84% |####################################       | \remitting double-array:  92% |#######################################    | \remitting double-array: 100% |###########################################| \n",
            "reading ./Hanja.csv ... 125750\n",
            "reading ./Foreign.csv ... 11690\n",
            "reading ./VCN.csv ... 7\n",
            "reading ./Preanalysis.csv ... 5\n",
            "reading ./Group.csv ... 3176\n",
            "reading ./VV.csv ... 7331\n",
            "reading ./XPN.csv ... 83\n",
            "reading ./VCP.csv ... 9\n",
            "reading ./NorthKorea.csv ... 3\n",
            "reading ./Inflect.csv ... 44820\n",
            "reading ./Place.csv ... 30303\n",
            "reading ./NR.csv ... 482\n",
            "reading ./Person-actor.csv ... 99230\n",
            "reading ./Place-address.csv ... 19301\n",
            "reading ./EP.csv ... 51\n",
            "reading ./NNBC.csv ... 677\n",
            "reading ./ETM.csv ... 133\n",
            "reading ./Place-station.csv ... 1145\n",
            "reading ./XSA.csv ... 19\n",
            "reading ./ETN.csv ... 14\n",
            "reading ./Symbol.csv ... 16\n",
            "reading ./EF.csv ... 1820\n",
            "reading ./EC.csv ... 2547\n",
            "reading ./VA.csv ... 2360\n",
            "reading ./Wikipedia.csv ... 36762\n",
            "reading ./MM.csv ... 453\n",
            "reading ./MAG.csv ... 14242\n",
            "reading ./Person.csv ... 196459\n",
            "reading ./J.csv ... 416\n",
            "reading ./NP.csv ... 342\n",
            "reading ./MAJ.csv ... 240\n",
            "reading ./CoinedWord.csv ... 148\n",
            "reading ./NNG.csv ... 208524\n",
            "reading ./XSN.csv ... 124\n",
            "reading ./XR.csv ... 3637\n",
            "reading ./VX.csv ... 125\n",
            "reading ./IC.csv ... 1305\n",
            "reading ./NNP.csv ... 2371\n",
            "reading ./NNB.csv ... 140\n",
            "reading ./XSV.csv ... 23\n",
            "emitting double-array:   0% |                                           | \remitting double-array:   1% |                                           | \remitting double-array:   2% |                                           | \remitting double-array:   3% |#                                          | \remitting double-array:   4% |#                                          | \remitting double-array:   5% |##                                         | \remitting double-array:   6% |##                                         | \remitting double-array:   7% |###                                        | \remitting double-array:   8% |###                                        | \remitting double-array:   9% |###                                        | \remitting double-array:  10% |####                                       | \remitting double-array:  11% |####                                       | \remitting double-array:  12% |#####                                      | \remitting double-array:  13% |#####                                      | \remitting double-array:  14% |######                                     | \remitting double-array:  15% |######                                     | \remitting double-array:  16% |######                                     | \remitting double-array:  17% |#######                                    | \remitting double-array:  18% |#######                                    | \remitting double-array:  19% |########                                   | \remitting double-array:  20% |########                                   | \remitting double-array:  21% |#########                                  | \remitting double-array:  22% |#########                                  | \remitting double-array:  23% |#########                                  | \remitting double-array:  24% |##########                                 | \remitting double-array:  25% |##########                                 | \remitting double-array:  26% |###########                                | \remitting double-array:  27% |###########                                | \remitting double-array:  28% |############                               | \remitting double-array:  29% |############                               | \remitting double-array:  30% |############                               | \remitting double-array:  31% |#############                              | \remitting double-array:  32% |#############                              | \remitting double-array:  33% |##############                             | \remitting double-array:  34% |##############                             | \remitting double-array:  35% |###############                            | \remitting double-array:  36% |###############                            | \remitting double-array:  37% |###############                            | \remitting double-array:  38% |################                           | \remitting double-array:  39% |################                           | \remitting double-array:  40% |#################                          | \remitting double-array:  41% |#################                          | \remitting double-array:  42% |##################                         | \remitting double-array:  43% |##################                         | \remitting double-array:  44% |##################                         | \remitting double-array:  45% |###################                        | \remitting double-array:  46% |###################                        | \remitting double-array:  47% |####################                       | \remitting double-array:  48% |####################                       | \remitting double-array:  49% |#####################                      | \remitting double-array:  50% |#####################                      | \remitting double-array:  51% |#####################                      | \remitting double-array:  52% |######################                     | \remitting double-array:  53% |######################                     | \remitting double-array:  54% |#######################                    | \remitting double-array:  55% |#######################                    | \remitting double-array:  56% |########################                   | \remitting double-array:  57% |########################                   | \remitting double-array:  58% |########################                   | \remitting double-array:  59% |#########################                  | \remitting double-array:  60% |#########################                  | \remitting double-array:  61% |##########################                 | \remitting double-array:  62% |##########################                 | \remitting double-array:  63% |###########################                | \remitting double-array:  64% |###########################                | \remitting double-array:  65% |###########################                | \remitting double-array:  66% |############################               | \remitting double-array:  67% |############################               | \remitting double-array:  68% |#############################              | \remitting double-array:  69% |#############################              | \remitting double-array:  70% |##############################             | \remitting double-array:  71% |##############################             | \remitting double-array:  72% |##############################             | \remitting double-array:  73% |###############################            | \remitting double-array:  74% |###############################            | \remitting double-array:  75% |################################           | \remitting double-array:  76% |################################           | \remitting double-array:  77% |#################################          | \remitting double-array:  78% |#################################          | \remitting double-array:  79% |#################################          | \remitting double-array:  80% |##################################         | \remitting double-array:  81% |##################################         | \remitting double-array:  82% |###################################        | \remitting double-array:  83% |###################################        | \remitting double-array:  84% |####################################       | \remitting double-array:  85% |####################################       | \remitting double-array:  86% |####################################       | \remitting double-array:  87% |#####################################      | \remitting double-array:  88% |#####################################      | \remitting double-array:  89% |######################################     | \remitting double-array:  90% |######################################     | \remitting double-array:  91% |#######################################    | \remitting double-array:  92% |#######################################    | \remitting double-array:  93% |#######################################    | \remitting double-array:  94% |########################################   | \remitting double-array:  95% |########################################   | \remitting double-array:  96% |#########################################  | \remitting double-array:  97% |#########################################  | \remitting double-array:  98% |########################################## | \remitting double-array:  99% |########################################## | \remitting double-array: 100% |###########################################| \n",
            "reading ./matrix.def ... 3822x2693\n",
            "emitting matrix      :   0% |                                           | \remitting matrix      :   1% |                                           | \remitting matrix      :   2% |                                           | \remitting matrix      :   3% |#                                          | \remitting matrix      :   4% |#                                          | \remitting matrix      :   5% |##                                         | \remitting matrix      :   6% |##                                         | \remitting matrix      :   7% |###                                        | \remitting matrix      :   8% |###                                        | \remitting matrix      :   9% |###                                        | \remitting matrix      :  10% |####                                       | \remitting matrix      :  11% |####                                       | \remitting matrix      :  12% |#####                                      | \remitting matrix      :  13% |#####                                      | \remitting matrix      :  14% |######                                     | \remitting matrix      :  15% |######                                     | \remitting matrix      :  16% |######                                     | \remitting matrix      :  17% |#######                                    | \remitting matrix      :  18% |#######                                    | \remitting matrix      :  19% |########                                   | \remitting matrix      :  20% |########                                   | \remitting matrix      :  21% |#########                                  | \remitting matrix      :  22% |#########                                  | \remitting matrix      :  23% |#########                                  | \remitting matrix      :  24% |##########                                 | \remitting matrix      :  25% |##########                                 | \remitting matrix      :  26% |###########                                | \remitting matrix      :  27% |###########                                | \remitting matrix      :  28% |############                               | \remitting matrix      :  29% |############                               | \remitting matrix      :  30% |############                               | \remitting matrix      :  31% |#############                              | \remitting matrix      :  32% |#############                              | \remitting matrix      :  33% |##############                             | \remitting matrix      :  34% |##############                             | \remitting matrix      :  35% |###############                            | \remitting matrix      :  36% |###############                            | \remitting matrix      :  37% |###############                            | \remitting matrix      :  38% |################                           | \remitting matrix      :  39% |################                           | \remitting matrix      :  40% |#################                          | \remitting matrix      :  41% |#################                          | \remitting matrix      :  42% |##################                         | \remitting matrix      :  43% |##################                         | \remitting matrix      :  44% |##################                         | \remitting matrix      :  45% |###################                        | \remitting matrix      :  46% |###################                        | \remitting matrix      :  47% |####################                       | \remitting matrix      :  48% |####################                       | \remitting matrix      :  49% |#####################                      | \remitting matrix      :  50% |#####################                      | \remitting matrix      :  51% |#####################                      | \remitting matrix      :  52% |######################                     | \remitting matrix      :  53% |######################                     | \remitting matrix      :  54% |#######################                    | \remitting matrix      :  55% |#######################                    | \remitting matrix      :  56% |########################                   | \remitting matrix      :  57% |########################                   | \remitting matrix      :  58% |########################                   | \remitting matrix      :  59% |#########################                  | \remitting matrix      :  60% |#########################                  | \remitting matrix      :  61% |##########################                 | \remitting matrix      :  62% |##########################                 | \remitting matrix      :  63% |###########################                | \remitting matrix      :  64% |###########################                | \remitting matrix      :  65% |###########################                | \remitting matrix      :  66% |############################               | \remitting matrix      :  67% |############################               | \remitting matrix      :  68% |#############################              | \remitting matrix      :  69% |#############################              | \remitting matrix      :  70% |##############################             | \remitting matrix      :  71% |##############################             | \remitting matrix      :  72% |##############################             | \remitting matrix      :  73% |###############################            | \remitting matrix      :  74% |###############################            | \remitting matrix      :  75% |################################           | \remitting matrix      :  76% |################################           | \remitting matrix      :  77% |#################################          | \remitting matrix      :  78% |#################################          | \remitting matrix      :  79% |#################################          | \remitting matrix      :  80% |##################################         | \remitting matrix      :  81% |##################################         | \remitting matrix      :  82% |###################################        | \remitting matrix      :  83% |###################################        | \remitting matrix      :  84% |####################################       | \remitting matrix      :  85% |####################################       | \remitting matrix      :  86% |####################################       | \remitting matrix      :  87% |#####################################      | \remitting matrix      :  88% |#####################################      | \remitting matrix      :  89% |######################################     | \remitting matrix      :  90% |######################################     | \remitting matrix      :  91% |#######################################    | \remitting matrix      :  92% |#######################################    | \remitting matrix      :  93% |#######################################    | \remitting matrix      :  94% |########################################   | \remitting matrix      :  95% |########################################   | \remitting matrix      :  96% |#########################################  | \remitting matrix      :  97% |#########################################  | \remitting matrix      :  98% |########################################## | \remitting matrix      :  99% |########################################## | \remitting matrix      : 100% |###########################################| \n",
            "\n",
            "done!\n",
            "echo To enable dictionary, rewrite /usr/local/etc/mecabrc as \\\"dicdir = /usr/local/lib/mecab/dic/mecab-ko-dic\\\"\n",
            "To enable dictionary, rewrite /usr/local/etc/mecabrc as \"dicdir = /usr/local/lib/mecab/dic/mecab-ko-dic\"\n",
            "make[1]: Entering directory '/tmp/mecab-ko-dic-2.1.1-20180720'\n",
            "make[1]: Nothing to be done for 'install-exec-am'.\n",
            " /bin/mkdir -p '/usr/local/lib/mecab/dic/mecab-ko-dic'\n",
            " /usr/bin/install -c -m 644 model.bin matrix.bin char.bin sys.dic unk.dic left-id.def right-id.def rewrite.def pos-id.def dicrc '/usr/local/lib/mecab/dic/mecab-ko-dic'\n",
            "make[1]: Leaving directory '/tmp/mecab-ko-dic-2.1.1-20180720'\n",
            "Install mecab-python\n",
            "/tmp /tmp/mecab-ko-dic-2.1.1-20180720\n",
            "/tmp/mecab-ko-dic-2.1.1-20180720\n",
            "Processing /tmp/mecab-python-0.996\n",
            "Building wheels for collected packages: mecab-python\n",
            "  Building wheel for mecab-python (setup.py): started\n",
            "  Building wheel for mecab-python (setup.py): finished with status 'done'\n",
            "  Created wheel for mecab-python: filename=mecab_python-0.996_ko_0.9.2-cp37-cp37m-linux_x86_64.whl size=141817 sha256=9713fc1361d0ffc3daf98b5b32fed7cd304658d11c1ee43b64d865e6e444a13a\n",
            "  Stored in directory: /root/.cache/pip/wheels/40/7b/9f/2922869bef86c3354ae7034f7a3647c573ee1997c2dad0290a\n",
            "Failed to build mecab-python\n",
            "Installing collected packages: mecab-python\n",
            "    Running setup.py install for mecab-python: started\n",
            "    Running setup.py install for mecab-python: finished with status 'done'\n",
            "Successfully installed mecab-python-0.996-ko-0.9.2\n",
            "Done.\n",
            "Processing /tmp/mecab-python-0.996\n",
            "Building wheels for collected packages: mecab-python\n",
            "  Building wheel for mecab-python (setup.py): started\n",
            "  Building wheel for mecab-python (setup.py): finished with status 'done'\n",
            "  Created wheel for mecab-python: filename=mecab_python-0.996_ko_0.9.2-cp37-cp37m-linux_x86_64.whl size=141807 sha256=daab96819bdd0b9310ff05699b627a7c3b80bd6197f09be39d6a70ac753b49bb\n",
            "  Stored in directory: /root/.cache/pip/wheels/40/7b/9f/2922869bef86c3354ae7034f7a3647c573ee1997c2dad0290a\n",
            "Failed to build mecab-python\n",
            "Installing collected packages: mecab-python\n",
            "  Attempting uninstall: mecab-python\n",
            "    Found existing installation: mecab-python 0.996-ko-0.9.2\n",
            "    Uninstalling mecab-python-0.996-ko-0.9.2:\n",
            "      Successfully uninstalled mecab-python-0.996-ko-0.9.2\n",
            "    Running setup.py install for mecab-python: started\n",
            "    Running setup.py install for mecab-python: finished with status 'done'\n",
            "Successfully installed mecab-python-0.996-ko-0.9.2\n"
          ]
        },
        {
          "name": "stderr",
          "output_type": "stream",
          "text": [
            "debconf: unable to initialize frontend: Dialog\n",
            "debconf: (No usable dialog-like program is installed, so the dialog based frontend cannot be used. at /usr/share/perl5/Debconf/FrontEnd/Dialog.pm line 76, <> line 5.)\n",
            "debconf: falling back to frontend: Readline\n",
            "debconf: unable to initialize frontend: Readline\n",
            "debconf: (This frontend requires a controlling tty.)\n",
            "debconf: falling back to frontend: Teletype\n",
            "dpkg-preconfigure: unable to re-open stdin: \n",
            "  % Total    % Received % Xferd  Average Speed   Time    Time     Time  Current\n",
            "                                 Dload  Upload   Total   Spent    Left  Speed\n",
            "\r  0     0    0     0    0     0      0      0 --:--:-- --:--:-- --:--:--     0\r  0     0    0     0    0     0      0      0 --:--:-- --:--:-- --:--:--     0\n",
            "\r 46 1381k   46  644k    0     0  1056k      0  0:00:01 --:--:--  0:00:01 1056k\r100 1381k  100 1381k    0     0  2159k      0 --:--:-- --:--:-- --:--:-- 24.8M\n",
            "./configure: line 7378: /usr/bin/file: No such file or directory\n",
            "In file included from viterbi.cpp:14:0:\n",
            "param.h:30:13: warning: 'Target {anonymous}::lexical_cast(Source) [with Target = std::__cxx11::basic_string<char>; Source = std::__cxx11::basic_string<char>]' defined but not used [-Wunused-function]\n",
            " std::string lexical_cast<std::string, std::string>(std::string arg) {\n",
            "             ^~~~~~~~~~~~~~~~~~~~~~~~~~~~~~~~~~~~~~\n",
            "learner_tagger.cpp:25:7: warning: 'char* MeCab::{anonymous}::mystrdup(const string&)' defined but not used [-Wunused-function]\n",
            " char *mystrdup(const std::string &str) {\n",
            "       ^~~~~~~~\n",
            "ar: `u' modifier ignored since `D' is the default (see `U')\n",
            "./pos-id.def is not found. minimum setting is used\n",
            "./pos-id.def is not found. minimum setting is used\n",
            "./pos-id.def is not found. minimum setting is used\n",
            "./pos-id.def is not found. minimum setting is used\n",
            "./pos-id.def is not found. minimum setting is used\n",
            "./pos-id.def is not found. minimum setting is used\n",
            "./pos-id.def is not found. minimum setting is used\n",
            "./pos-id.def is not found. minimum setting is used\n",
            "./pos-id.def is not found. minimum setting is used\n",
            "./pos-id.def is not found. minimum setting is used\n",
            "./pos-id.def is not found. minimum setting is used\n",
            "./pos-id.def is not found. minimum setting is used\n",
            "./pos-id.def is not found. minimum setting is used\n",
            "./pos-id.def is not found. minimum setting is used\n",
            "seed/pos-id.def is not found. minimum setting is used\n",
            "seed/pos-id.def is not found. minimum setting is used\n",
            "model-ipadic.c1.0.f1.dic/pos-id.def is not found. minimum setting is used\n",
            "model-ipadic.c1.0.f1.dic/pos-id.def is not found. minimum setting is used\n",
            "  % Total    % Received % Xferd  Average Speed   Time    Time     Time  Current\n",
            "                                 Dload  Upload   Total   Spent    Left  Speed\n",
            "\r  0     0    0     0    0     0      0      0 --:--:-- --:--:-- --:--:--     0\r  0     0    0     0    0     0      0      0 --:--:-- --:--:-- --:--:--     0\n",
            "\r  0 47.4M    0 85491    0     0   144k      0  0:05:37 --:--:--  0:05:37  144k\r100 47.4M  100 47.4M    0     0  40.3M      0  0:00:01  0:00:01 --:--:-- 79.3M\n",
            "configure.ac:2: warning: AM_INIT_AUTOMAKE: two- and three-arguments forms are deprecated.  For more info, see:\n",
            "configure.ac:2: http://www.gnu.org/software/automake/manual/automake.html#Modernize-AM_005fINIT_005fAUTOMAKE-invocation\n",
            "/tmp/mecab-ko-dic-2.1.1-20180720/missing: Unknown `--is-lightweight' option\n",
            "Try `/tmp/mecab-ko-dic-2.1.1-20180720/missing --help' for more information\n",
            "configure: WARNING: 'missing' script is too old or missing\n",
            "/sbin/ldconfig.real: /usr/local/lib/python3.7/dist-packages/ideep4py/lib/libmkldnn.so.0 is not a symbolic link\n",
            "\n",
            "Cloning into 'mecab-python-0.996'...\n",
            "  DEPRECATION: A future pip version will change local packages to be built in-place without first copying to a temporary directory. We recommend you use --use-feature=in-tree-build to test your packages with this new behavior before it becomes the default.\n",
            "   pip 21.3 will remove support for this functionality. You can find discussion regarding this at https://github.com/pypa/pip/issues/7555.\n",
            "  WARNING: Built wheel for mecab-python is invalid: Metadata 1.2 mandates PEP 440 version, but '0.996-ko-0.9.2' is not\n",
            "  DEPRECATION: mecab-python was installed using the legacy 'setup.py install' method, because a wheel could not be built for it. A possible replacement is to fix the wheel build issue reported above. You can find discussion regarding this at https://github.com/pypa/pip/issues/8368.\n",
            "  DEPRECATION: A future pip version will change local packages to be built in-place without first copying to a temporary directory. We recommend you use --use-feature=in-tree-build to test your packages with this new behavior before it becomes the default.\n",
            "   pip 21.3 will remove support for this functionality. You can find discussion regarding this at https://github.com/pypa/pip/issues/7555.\n",
            "  WARNING: Built wheel for mecab-python is invalid: Metadata 1.2 mandates PEP 440 version, but '0.996-ko-0.9.2' is not\n",
            "  DEPRECATION: mecab-python was installed using the legacy 'setup.py install' method, because a wheel could not be built for it. A possible replacement is to fix the wheel build issue reported above. You can find discussion regarding this at https://github.com/pypa/pip/issues/8368.\n"
          ]
        }
      ]
    },
    {
      "cell_type": "code",
      "metadata": {
        "id": "YDVQxjTbKI-K"
      },
      "source": [
        "import konlpy\n",
        "from konlpy.tag import Kkma, Komoran, Hannanum, Okt\n",
        "from konlpy.utils import pprint\n",
        "from konlpy.tag import Mecab"
      ],
      "execution_count": null,
      "outputs": []
    },
    {
      "cell_type": "code",
      "metadata": {
        "colab": {
          "base_uri": "https://localhost:8080/",
          "height": 955
        },
        "id": "OtihWGQWeDEP",
        "outputId": "3add44c5-4ef0-4af4-d834-e9b8a2b2388d"
      },
      "source": [
        "pip install pyLDAvis"
      ],
      "execution_count": null,
      "outputs": [
        {
          "name": "stdout",
          "output_type": "stream",
          "text": [
            "Collecting pyLDAvis\n",
            "  Downloading pyLDAvis-3.3.1.tar.gz (1.7 MB)\n",
            "\u001b[K     |████████████████████████████████| 1.7 MB 5.4 MB/s \n",
            "\u001b[?25h  Installing build dependencies ... \u001b[?25l\u001b[?25hdone\n",
            "  Getting requirements to build wheel ... \u001b[?25l\u001b[?25hdone\n",
            "  Installing backend dependencies ... \u001b[?25l\u001b[?25hdone\n",
            "    Preparing wheel metadata ... \u001b[?25l\u001b[?25hdone\n",
            "Requirement already satisfied: joblib in /usr/local/lib/python3.7/dist-packages (from pyLDAvis) (1.0.1)\n",
            "Collecting numpy>=1.20.0\n",
            "  Downloading numpy-1.21.2-cp37-cp37m-manylinux_2_12_x86_64.manylinux2010_x86_64.whl (15.7 MB)\n",
            "\u001b[K     |████████████████████████████████| 15.7 MB 195 kB/s \n",
            "\u001b[?25hRequirement already satisfied: scipy in /usr/local/lib/python3.7/dist-packages (from pyLDAvis) (1.4.1)\n",
            "Collecting funcy\n",
            "  Downloading funcy-1.16-py2.py3-none-any.whl (32 kB)\n",
            "Requirement already satisfied: jinja2 in /usr/local/lib/python3.7/dist-packages (from pyLDAvis) (2.11.3)\n",
            "Collecting pandas>=1.2.0\n",
            "  Downloading pandas-1.3.3-cp37-cp37m-manylinux_2_17_x86_64.manylinux2014_x86_64.whl (11.3 MB)\n",
            "\u001b[K     |████████████████████████████████| 11.3 MB 58.6 MB/s \n",
            "\u001b[?25hRequirement already satisfied: future in /usr/local/lib/python3.7/dist-packages (from pyLDAvis) (0.16.0)\n",
            "Requirement already satisfied: setuptools in /usr/local/lib/python3.7/dist-packages (from pyLDAvis) (57.4.0)\n",
            "Requirement already satisfied: sklearn in /usr/local/lib/python3.7/dist-packages (from pyLDAvis) (0.0)\n",
            "Requirement already satisfied: gensim in /usr/local/lib/python3.7/dist-packages (from pyLDAvis) (3.6.0)\n",
            "Requirement already satisfied: scikit-learn in /usr/local/lib/python3.7/dist-packages (from pyLDAvis) (0.22.2.post1)\n",
            "Requirement already satisfied: numexpr in /usr/local/lib/python3.7/dist-packages (from pyLDAvis) (2.7.3)\n",
            "Requirement already satisfied: pytz>=2017.3 in /usr/local/lib/python3.7/dist-packages (from pandas>=1.2.0->pyLDAvis) (2018.9)\n",
            "Requirement already satisfied: python-dateutil>=2.7.3 in /usr/local/lib/python3.7/dist-packages (from pandas>=1.2.0->pyLDAvis) (2.8.2)\n",
            "Requirement already satisfied: six>=1.5 in /usr/local/lib/python3.7/dist-packages (from python-dateutil>=2.7.3->pandas>=1.2.0->pyLDAvis) (1.15.0)\n",
            "Requirement already satisfied: smart-open>=1.2.1 in /usr/local/lib/python3.7/dist-packages (from gensim->pyLDAvis) (5.2.1)\n",
            "Requirement already satisfied: MarkupSafe>=0.23 in /usr/local/lib/python3.7/dist-packages (from jinja2->pyLDAvis) (2.0.1)\n",
            "Building wheels for collected packages: pyLDAvis\n",
            "  Building wheel for pyLDAvis (PEP 517) ... \u001b[?25l\u001b[?25hdone\n",
            "  Created wheel for pyLDAvis: filename=pyLDAvis-3.3.1-py2.py3-none-any.whl size=136897 sha256=6221f64987ce2b362c83b0160c8c13ee5257fe979e566c6dea1e76b69c06ae38\n",
            "  Stored in directory: /root/.cache/pip/wheels/c9/21/f6/17bcf2667e8a68532ba2fbf6d5c72fdf4c7f7d9abfa4852d2f\n",
            "Successfully built pyLDAvis\n",
            "Installing collected packages: numpy, pandas, funcy, pyLDAvis\n",
            "  Attempting uninstall: numpy\n",
            "    Found existing installation: numpy 1.19.5\n",
            "    Uninstalling numpy-1.19.5:\n",
            "      Successfully uninstalled numpy-1.19.5\n",
            "  Attempting uninstall: pandas\n",
            "    Found existing installation: pandas 1.1.5\n",
            "    Uninstalling pandas-1.1.5:\n",
            "      Successfully uninstalled pandas-1.1.5\n",
            "\u001b[31mERROR: pip's dependency resolver does not currently take into account all the packages that are installed. This behaviour is the source of the following dependency conflicts.\n",
            "tensorflow 2.6.0 requires numpy~=1.19.2, but you have numpy 1.21.2 which is incompatible.\n",
            "google-colab 1.0.0 requires pandas~=1.1.0; python_version >= \"3.0\", but you have pandas 1.3.3 which is incompatible.\n",
            "datascience 0.10.6 requires folium==0.2.1, but you have folium 0.8.3 which is incompatible.\n",
            "albumentations 0.1.12 requires imgaug<0.2.7,>=0.2.5, but you have imgaug 0.2.9 which is incompatible.\u001b[0m\n",
            "Successfully installed funcy-1.16 numpy-1.21.2 pandas-1.3.3 pyLDAvis-3.3.1\n"
          ]
        },
        {
          "data": {
            "application/vnd.colab-display-data+json": {
              "pip_warning": {
                "packages": [
                  "numpy",
                  "pandas"
                ]
              }
            }
          },
          "metadata": {},
          "output_type": "display_data"
        }
      ]
    },
    {
      "cell_type": "code",
      "metadata": {
        "id": "k7HFuujt9pKT"
      },
      "source": [
        "import pandas as pd\n",
        "import numpy as np\n",
        "import re\n",
        "import time"
      ],
      "execution_count": null,
      "outputs": []
    },
    {
      "cell_type": "markdown",
      "metadata": {
        "id": "BTVw7pKMNagJ"
      },
      "source": [
        "# OKT, Mecab"
      ]
    },
    {
      "cell_type": "markdown",
      "metadata": {
        "id": "6qW1Lg8vNfM-"
      },
      "source": [
        "## 데이터 로드"
      ]
    },
    {
      "cell_type": "code",
      "metadata": {
        "id": "LEqeF2ku9eHd"
      },
      "source": [
        "data = pd.read_csv('./naver_blog_crawling.csv') #데이터셋 로드\n",
        "data = data[['title','content']]"
      ],
      "execution_count": null,
      "outputs": []
    },
    {
      "cell_type": "code",
      "metadata": {
        "colab": {
          "base_uri": "https://localhost:8080/",
          "height": 612
        },
        "id": "4XvUbq9lW8R8",
        "outputId": "b657de50-4b02-4330-d22e-7f9e749cdbee"
      },
      "source": [
        "data"
      ],
      "execution_count": null,
      "outputs": [
        {
          "ename": "AttributeError",
          "evalue": "ignored",
          "output_type": "error",
          "traceback": [
            "\u001b[0;31m---------------------------------------------------------------------------\u001b[0m",
            "\u001b[0;31mAttributeError\u001b[0m                            Traceback (most recent call last)",
            "\u001b[0;32m/usr/local/lib/python3.7/dist-packages/IPython/core/formatters.py\u001b[0m in \u001b[0;36m__call__\u001b[0;34m(self, obj)\u001b[0m\n\u001b[1;32m    336\u001b[0m             \u001b[0mmethod\u001b[0m \u001b[0;34m=\u001b[0m \u001b[0mget_real_method\u001b[0m\u001b[0;34m(\u001b[0m\u001b[0mobj\u001b[0m\u001b[0;34m,\u001b[0m \u001b[0mself\u001b[0m\u001b[0;34m.\u001b[0m\u001b[0mprint_method\u001b[0m\u001b[0;34m)\u001b[0m\u001b[0;34m\u001b[0m\u001b[0;34m\u001b[0m\u001b[0m\n\u001b[1;32m    337\u001b[0m             \u001b[0;32mif\u001b[0m \u001b[0mmethod\u001b[0m \u001b[0;32mis\u001b[0m \u001b[0;32mnot\u001b[0m \u001b[0;32mNone\u001b[0m\u001b[0;34m:\u001b[0m\u001b[0;34m\u001b[0m\u001b[0;34m\u001b[0m\u001b[0m\n\u001b[0;32m--> 338\u001b[0;31m                 \u001b[0;32mreturn\u001b[0m \u001b[0mmethod\u001b[0m\u001b[0;34m(\u001b[0m\u001b[0;34m)\u001b[0m\u001b[0;34m\u001b[0m\u001b[0;34m\u001b[0m\u001b[0m\n\u001b[0m\u001b[1;32m    339\u001b[0m             \u001b[0;32mreturn\u001b[0m \u001b[0;32mNone\u001b[0m\u001b[0;34m\u001b[0m\u001b[0;34m\u001b[0m\u001b[0m\n\u001b[1;32m    340\u001b[0m         \u001b[0;32melse\u001b[0m\u001b[0;34m:\u001b[0m\u001b[0;34m\u001b[0m\u001b[0;34m\u001b[0m\u001b[0m\n",
            "\u001b[0;32m/usr/local/lib/python3.7/dist-packages/pandas/core/frame.py\u001b[0m in \u001b[0;36m_repr_html_\u001b[0;34m(self)\u001b[0m\n\u001b[1;32m    796\u001b[0m \u001b[0;34m\u001b[0m\u001b[0m\n\u001b[1;32m    797\u001b[0m     \u001b[0;34m@\u001b[0m\u001b[0mproperty\u001b[0m\u001b[0;34m\u001b[0m\u001b[0;34m\u001b[0m\u001b[0m\n\u001b[0;32m--> 798\u001b[0;31m     \u001b[0;32mdef\u001b[0m \u001b[0mshape\u001b[0m\u001b[0;34m(\u001b[0m\u001b[0mself\u001b[0m\u001b[0;34m)\u001b[0m \u001b[0;34m->\u001b[0m \u001b[0mtuple\u001b[0m\u001b[0;34m[\u001b[0m\u001b[0mint\u001b[0m\u001b[0;34m,\u001b[0m \u001b[0mint\u001b[0m\u001b[0;34m]\u001b[0m\u001b[0;34m:\u001b[0m\u001b[0;34m\u001b[0m\u001b[0;34m\u001b[0m\u001b[0m\n\u001b[0m\u001b[1;32m    799\u001b[0m         \"\"\"\n\u001b[1;32m    800\u001b[0m         \u001b[0mReturn\u001b[0m \u001b[0ma\u001b[0m \u001b[0mtuple\u001b[0m \u001b[0mrepresenting\u001b[0m \u001b[0mthe\u001b[0m \u001b[0mdimensionality\u001b[0m \u001b[0mof\u001b[0m \u001b[0mthe\u001b[0m \u001b[0mDataFrame\u001b[0m\u001b[0;34m.\u001b[0m\u001b[0;34m\u001b[0m\u001b[0;34m\u001b[0m\u001b[0m\n",
            "\u001b[0;32m/usr/local/lib/python3.7/dist-packages/pandas/io/formats/format.py\u001b[0m in \u001b[0;36mto_html\u001b[0;34m(self, buf, encoding, classes, notebook, border)\u001b[0m\n\u001b[1;32m    986\u001b[0m         \u001b[0mencoding\u001b[0m\u001b[0;34m:\u001b[0m \u001b[0mstr\u001b[0m \u001b[0;34m|\u001b[0m \u001b[0;32mNone\u001b[0m \u001b[0;34m=\u001b[0m \u001b[0;32mNone\u001b[0m\u001b[0;34m,\u001b[0m\u001b[0;34m\u001b[0m\u001b[0;34m\u001b[0m\u001b[0m\n\u001b[1;32m    987\u001b[0m         \u001b[0mclasses\u001b[0m\u001b[0;34m:\u001b[0m \u001b[0mstr\u001b[0m \u001b[0;34m|\u001b[0m \u001b[0mlist\u001b[0m \u001b[0;34m|\u001b[0m \u001b[0mtuple\u001b[0m \u001b[0;34m|\u001b[0m \u001b[0;32mNone\u001b[0m \u001b[0;34m=\u001b[0m \u001b[0;32mNone\u001b[0m\u001b[0;34m,\u001b[0m\u001b[0;34m\u001b[0m\u001b[0;34m\u001b[0m\u001b[0m\n\u001b[0;32m--> 988\u001b[0;31m         \u001b[0mnotebook\u001b[0m\u001b[0;34m:\u001b[0m \u001b[0mbool\u001b[0m \u001b[0;34m=\u001b[0m \u001b[0;32mFalse\u001b[0m\u001b[0;34m,\u001b[0m\u001b[0;34m\u001b[0m\u001b[0;34m\u001b[0m\u001b[0m\n\u001b[0m\u001b[1;32m    989\u001b[0m         \u001b[0mborder\u001b[0m\u001b[0;34m:\u001b[0m \u001b[0mint\u001b[0m \u001b[0;34m|\u001b[0m \u001b[0;32mNone\u001b[0m \u001b[0;34m=\u001b[0m \u001b[0;32mNone\u001b[0m\u001b[0;34m,\u001b[0m\u001b[0;34m\u001b[0m\u001b[0;34m\u001b[0m\u001b[0m\n\u001b[1;32m    990\u001b[0m         \u001b[0mtable_id\u001b[0m\u001b[0;34m:\u001b[0m \u001b[0mstr\u001b[0m \u001b[0;34m|\u001b[0m \u001b[0;32mNone\u001b[0m \u001b[0;34m=\u001b[0m \u001b[0;32mNone\u001b[0m\u001b[0;34m,\u001b[0m\u001b[0;34m\u001b[0m\u001b[0;34m\u001b[0m\u001b[0m\n",
            "\u001b[0;31mAttributeError\u001b[0m: 'NotebookFormatter' object has no attribute 'get_result'"
          ]
        },
        {
          "data": {
            "text/plain": [
              "                                              title                                            content\n",
              "0                             제주도 감성숙소 에어비앤비로 다녀왔어요  안녕하세요, 오랜만에 여행 포스팅을 하러 왔습니다! 두둥:) 다녀온지는 좀 되었는데...\n",
              "1                            아고다 9월 할인코드 감성숙소 서울 호텔  얼마전에 다녀온 서울 호텔 후기입니다. 휴가를 잘 낼 수 없는 상황이라 틈날때마다 ...\n",
              "2                                제주 동쪽 구좌 감성숙소 삼일삼오  이번 제주 여행에서 가장 신경썼던건 바로 숙소를 고르는 일 아무래도 여행의 주제 자...\n",
              "3                           청주 메이킷슬로우 에어비앤비 감성숙소 후기  오늘은 제가 지난 휴가때 찐친들과 다녀온  청주 메이킷슬로 라는 에어비앤비 감성숙소...\n",
              "4                           인천 한옥 독채 펜션, 감성숙소 '시우재'  지인의 소개로 알게된 #시우재 마침 이것저것 기념일도 있고 해서 시우재 알게된 날 ...\n",
              "...                                             ...                                                ...\n",
              "3937       #168. 양양 낙산비치호텔, 오션뷰/마운틴뷰 감성 숙소 (+예약 링크)  여행갈때 거의 에어비앤비, 감성숙소를 찾아다니는 나도  부모님이랑 여행갈때나  마땅...\n",
              "3938                  강릉 감성숙소 언제나 소돌 뷰 맛집 204호 솔직후기  강릉에는 예쁜 감성숙소가 많기로 유명하잖아요 !! 특히 강릉에는 뷰가 예쁜 숙소가 ...\n",
              "3939                     [숙소] 내가 가고 싶은 제주도 감성 숙소 2탄  이전에 썻던 제주도 감성 숙소 1탄에 이어  2탄을 포스팅 했어요~  저번에는 10...\n",
              "3940  [제주일기]여심저격! 촬영 스튜디오 같은 제주도 모슬포 감성숙소 '아빈스인모슬포'  #제주도숙소추천 #제주도감성숙소 #제주도인스타숙소 #아빈스인모슬포 #서귀포숙소 #서...\n",
              "3941                           전주근교 감성숙소펜션 완주 '여림재'  안녕하세요:) 주말만 기다리며 뭐하고 놀까, 힐링하러 가야겠다 싶어서 선택한 완주에...\n",
              "\n",
              "[3942 rows x 2 columns]"
            ]
          },
          "execution_count": 20,
          "metadata": {},
          "output_type": "execute_result"
        }
      ]
    },
    {
      "cell_type": "code",
      "metadata": {
        "colab": {
          "base_uri": "https://localhost:8080/",
          "height": 306
        },
        "id": "tsEiyQPErvhi",
        "outputId": "f927c147-eb05-446a-c69b-c0c80a126dbc"
      },
      "source": [
        "data.dropna(axis=0, inplace=True)"
      ],
      "execution_count": null,
      "outputs": [
        {
          "ename": "TypeError",
          "evalue": "ignored",
          "output_type": "error",
          "traceback": [
            "\u001b[0;31m---------------------------------------------------------------------------\u001b[0m",
            "\u001b[0;31mTypeError\u001b[0m                                 Traceback (most recent call last)",
            "\u001b[0;32m<ipython-input-33-1edeb318a43a>\u001b[0m in \u001b[0;36m<module>\u001b[0;34m()\u001b[0m\n\u001b[0;32m----> 1\u001b[0;31m \u001b[0mdata\u001b[0m\u001b[0;34m.\u001b[0m\u001b[0mdropna\u001b[0m\u001b[0;34m(\u001b[0m\u001b[0maxis\u001b[0m\u001b[0;34m=\u001b[0m\u001b[0;36m0\u001b[0m\u001b[0;34m,\u001b[0m \u001b[0minplace\u001b[0m\u001b[0;34m=\u001b[0m\u001b[0;32mTrue\u001b[0m\u001b[0;34m)\u001b[0m\u001b[0;34m\u001b[0m\u001b[0;34m\u001b[0m\u001b[0m\n\u001b[0m",
            "\u001b[0;32m/usr/local/lib/python3.7/dist-packages/pandas/core/frame.py\u001b[0m in \u001b[0;36mdropna\u001b[0;34m(self, axis, how, thresh, subset, inplace)\u001b[0m\n\u001b[1;32m   5010\u001b[0m         \u001b[0mx\u001b[0m  \u001b[0;36m1\u001b[0m  \u001b[0;36m4\u001b[0m\u001b[0;34m\u001b[0m\u001b[0;34m\u001b[0m\u001b[0m\n\u001b[1;32m   5011\u001b[0m         \u001b[0my\u001b[0m  \u001b[0;36m2\u001b[0m  \u001b[0;36m5\u001b[0m\u001b[0;34m\u001b[0m\u001b[0;34m\u001b[0m\u001b[0m\n\u001b[0;32m-> 5012\u001b[0;31m         \u001b[0mz\u001b[0m  \u001b[0;36m3\u001b[0m  \u001b[0;36m6\u001b[0m\u001b[0;34m\u001b[0m\u001b[0;34m\u001b[0m\u001b[0m\n\u001b[0m\u001b[1;32m   5013\u001b[0m \u001b[0;34m\u001b[0m\u001b[0m\n\u001b[1;32m   5014\u001b[0m         \u001b[0mCast\u001b[0m \u001b[0mindex\u001b[0m \u001b[0mlabels\u001b[0m \u001b[0mto\u001b[0m \u001b[0ma\u001b[0m \u001b[0mdifferent\u001b[0m \u001b[0mtype\u001b[0m\u001b[0;34m:\u001b[0m\u001b[0;34m\u001b[0m\u001b[0;34m\u001b[0m\u001b[0m\n",
            "\u001b[0;32m/usr/local/lib/python3.7/dist-packages/pandas/core/ops/common.py\u001b[0m in \u001b[0;36mnew_method\u001b[0;34m(self, other)\u001b[0m\n\u001b[1;32m     63\u001b[0m                     \u001b[0;32mbreak\u001b[0m\u001b[0;34m\u001b[0m\u001b[0;34m\u001b[0m\u001b[0m\n\u001b[1;32m     64\u001b[0m                 \u001b[0;32mif\u001b[0m \u001b[0misinstance\u001b[0m\u001b[0;34m(\u001b[0m\u001b[0mother\u001b[0m\u001b[0;34m,\u001b[0m \u001b[0mcls\u001b[0m\u001b[0;34m)\u001b[0m\u001b[0;34m:\u001b[0m\u001b[0;34m\u001b[0m\u001b[0;34m\u001b[0m\u001b[0m\n\u001b[0;32m---> 65\u001b[0;31m                     \u001b[0;32mreturn\u001b[0m \u001b[0mNotImplemented\u001b[0m\u001b[0;34m\u001b[0m\u001b[0;34m\u001b[0m\u001b[0m\n\u001b[0m\u001b[1;32m     66\u001b[0m \u001b[0;34m\u001b[0m\u001b[0m\n\u001b[1;32m     67\u001b[0m         \u001b[0mother\u001b[0m \u001b[0;34m=\u001b[0m \u001b[0mitem_from_zerodim\u001b[0m\u001b[0;34m(\u001b[0m\u001b[0mother\u001b[0m\u001b[0;34m)\u001b[0m\u001b[0;34m\u001b[0m\u001b[0;34m\u001b[0m\u001b[0m\n",
            "\u001b[0;32m/usr/local/lib/python3.7/dist-packages/pandas/core/ops/__init__.py\u001b[0m in \u001b[0;36mwrapper\u001b[0;34m(self, other)\u001b[0m\n\u001b[1;32m    368\u001b[0m     \u001b[0;31m#  to avoid constructing two potentially large/sparse DataFrames\u001b[0m\u001b[0;34m\u001b[0m\u001b[0;34m\u001b[0m\u001b[0;34m\u001b[0m\u001b[0m\n\u001b[1;32m    369\u001b[0m     join_columns, _, _ = left.columns.join(\n\u001b[0;32m--> 370\u001b[0;31m         \u001b[0mright\u001b[0m\u001b[0;34m.\u001b[0m\u001b[0mcolumns\u001b[0m\u001b[0;34m,\u001b[0m \u001b[0mhow\u001b[0m\u001b[0;34m=\u001b[0m\u001b[0;34m\"outer\"\u001b[0m\u001b[0;34m,\u001b[0m \u001b[0mlevel\u001b[0m\u001b[0;34m=\u001b[0m\u001b[0;32mNone\u001b[0m\u001b[0;34m,\u001b[0m \u001b[0mreturn_indexers\u001b[0m\u001b[0;34m=\u001b[0m\u001b[0;32mTrue\u001b[0m\u001b[0;34m\u001b[0m\u001b[0;34m\u001b[0m\u001b[0m\n\u001b[0m\u001b[1;32m    371\u001b[0m     )\n\u001b[1;32m    372\u001b[0m \u001b[0;34m\u001b[0m\u001b[0m\n",
            "\u001b[0;32m/usr/local/lib/python3.7/dist-packages/pandas/core/ops/array_ops.py\u001b[0m in \u001b[0;36mcomparison_op\u001b[0;34m(left, right, op)\u001b[0m\n\u001b[1;32m    249\u001b[0m     \u001b[0mrvalues\u001b[0m \u001b[0;34m=\u001b[0m \u001b[0mensure_wrapped_if_datetimelike\u001b[0m\u001b[0;34m(\u001b[0m\u001b[0mright\u001b[0m\u001b[0;34m)\u001b[0m\u001b[0;34m\u001b[0m\u001b[0;34m\u001b[0m\u001b[0m\n\u001b[1;32m    250\u001b[0m \u001b[0;34m\u001b[0m\u001b[0m\n\u001b[0;32m--> 251\u001b[0;31m     \u001b[0mrvalues\u001b[0m \u001b[0;34m=\u001b[0m \u001b[0mlib\u001b[0m\u001b[0;34m.\u001b[0m\u001b[0mitem_from_zerodim\u001b[0m\u001b[0;34m(\u001b[0m\u001b[0mrvalues\u001b[0m\u001b[0;34m)\u001b[0m\u001b[0;34m\u001b[0m\u001b[0;34m\u001b[0m\u001b[0m\n\u001b[0m\u001b[1;32m    252\u001b[0m     \u001b[0;32mif\u001b[0m \u001b[0misinstance\u001b[0m\u001b[0;34m(\u001b[0m\u001b[0mrvalues\u001b[0m\u001b[0;34m,\u001b[0m \u001b[0mlist\u001b[0m\u001b[0;34m)\u001b[0m\u001b[0;34m:\u001b[0m\u001b[0;34m\u001b[0m\u001b[0;34m\u001b[0m\u001b[0m\n\u001b[1;32m    253\u001b[0m         \u001b[0;31m# TODO: same for tuples?\u001b[0m\u001b[0;34m\u001b[0m\u001b[0;34m\u001b[0m\u001b[0;34m\u001b[0m\u001b[0m\n",
            "\u001b[0;32m/usr/local/lib/python3.7/dist-packages/pandas/core/ops/array_ops.py\u001b[0m in \u001b[0;36mna_arithmetic_op\u001b[0;34m(left, right, op, is_cmp)\u001b[0m\n\u001b[1;32m    138\u001b[0m \u001b[0;32mdef\u001b[0m \u001b[0m_na_arithmetic_op\u001b[0m\u001b[0;34m(\u001b[0m\u001b[0mleft\u001b[0m\u001b[0;34m,\u001b[0m \u001b[0mright\u001b[0m\u001b[0;34m,\u001b[0m \u001b[0mop\u001b[0m\u001b[0;34m,\u001b[0m \u001b[0mis_cmp\u001b[0m\u001b[0;34m:\u001b[0m \u001b[0mbool\u001b[0m \u001b[0;34m=\u001b[0m \u001b[0;32mFalse\u001b[0m\u001b[0;34m)\u001b[0m\u001b[0;34m:\u001b[0m\u001b[0;34m\u001b[0m\u001b[0;34m\u001b[0m\u001b[0m\n\u001b[1;32m    139\u001b[0m     \"\"\"\n\u001b[0;32m--> 140\u001b[0;31m     \u001b[0mReturn\u001b[0m \u001b[0mthe\u001b[0m \u001b[0mresult\u001b[0m \u001b[0mof\u001b[0m \u001b[0mevaluating\u001b[0m \u001b[0mop\u001b[0m \u001b[0mon\u001b[0m \u001b[0mthe\u001b[0m \u001b[0mpassed\u001b[0m \u001b[0;32min\u001b[0m \u001b[0mvalues\u001b[0m\u001b[0;34m.\u001b[0m\u001b[0;34m\u001b[0m\u001b[0;34m\u001b[0m\u001b[0m\n\u001b[0m\u001b[1;32m    141\u001b[0m \u001b[0;34m\u001b[0m\u001b[0m\n\u001b[1;32m    142\u001b[0m     \u001b[0mIf\u001b[0m \u001b[0mnative\u001b[0m \u001b[0mtypes\u001b[0m \u001b[0mare\u001b[0m \u001b[0;32mnot\u001b[0m \u001b[0mcompatible\u001b[0m\u001b[0;34m,\u001b[0m \u001b[0;32mtry\u001b[0m \u001b[0mcoercion\u001b[0m \u001b[0mto\u001b[0m \u001b[0mobject\u001b[0m \u001b[0mdtype\u001b[0m\u001b[0;34m.\u001b[0m\u001b[0;34m\u001b[0m\u001b[0;34m\u001b[0m\u001b[0m\n",
            "\u001b[0;32m/usr/local/lib/python3.7/dist-packages/pandas/core/computation/expressions.py\u001b[0m in \u001b[0;36m<module>\u001b[0;34m()\u001b[0m\n\u001b[1;32m     17\u001b[0m \u001b[0;32mfrom\u001b[0m \u001b[0mpandas\u001b[0m\u001b[0;34m.\u001b[0m\u001b[0m_typing\u001b[0m \u001b[0;32mimport\u001b[0m \u001b[0mFuncType\u001b[0m\u001b[0;34m\u001b[0m\u001b[0;34m\u001b[0m\u001b[0m\n\u001b[1;32m     18\u001b[0m \u001b[0;34m\u001b[0m\u001b[0m\n\u001b[0;32m---> 19\u001b[0;31m \u001b[0;32mfrom\u001b[0m \u001b[0mpandas\u001b[0m\u001b[0;34m.\u001b[0m\u001b[0mcore\u001b[0m\u001b[0;34m.\u001b[0m\u001b[0mcomputation\u001b[0m\u001b[0;34m.\u001b[0m\u001b[0mcheck\u001b[0m \u001b[0;32mimport\u001b[0m \u001b[0mNUMEXPR_INSTALLED\u001b[0m\u001b[0;34m\u001b[0m\u001b[0;34m\u001b[0m\u001b[0m\n\u001b[0m\u001b[1;32m     20\u001b[0m \u001b[0;32mfrom\u001b[0m \u001b[0mpandas\u001b[0m\u001b[0;34m.\u001b[0m\u001b[0mcore\u001b[0m\u001b[0;34m.\u001b[0m\u001b[0mops\u001b[0m \u001b[0;32mimport\u001b[0m \u001b[0mroperator\u001b[0m\u001b[0;34m\u001b[0m\u001b[0;34m\u001b[0m\u001b[0m\n\u001b[1;32m     21\u001b[0m \u001b[0;34m\u001b[0m\u001b[0m\n",
            "\u001b[0;32m/usr/local/lib/python3.7/dist-packages/pandas/core/computation/check.py\u001b[0m in \u001b[0;36m<module>\u001b[0;34m()\u001b[0m\n\u001b[1;32m      1\u001b[0m \u001b[0;32mfrom\u001b[0m \u001b[0mpandas\u001b[0m\u001b[0;34m.\u001b[0m\u001b[0mcompat\u001b[0m\u001b[0;34m.\u001b[0m\u001b[0m_optional\u001b[0m \u001b[0;32mimport\u001b[0m \u001b[0mimport_optional_dependency\u001b[0m\u001b[0;34m\u001b[0m\u001b[0;34m\u001b[0m\u001b[0m\n\u001b[1;32m      2\u001b[0m \u001b[0;34m\u001b[0m\u001b[0m\n\u001b[0;32m----> 3\u001b[0;31m \u001b[0mne\u001b[0m \u001b[0;34m=\u001b[0m \u001b[0mimport_optional_dependency\u001b[0m\u001b[0;34m(\u001b[0m\u001b[0;34m\"numexpr\"\u001b[0m\u001b[0;34m,\u001b[0m \u001b[0merrors\u001b[0m\u001b[0;34m=\u001b[0m\u001b[0;34m\"warn\"\u001b[0m\u001b[0;34m)\u001b[0m\u001b[0;34m\u001b[0m\u001b[0;34m\u001b[0m\u001b[0m\n\u001b[0m\u001b[1;32m      4\u001b[0m \u001b[0mNUMEXPR_INSTALLED\u001b[0m \u001b[0;34m=\u001b[0m \u001b[0mne\u001b[0m \u001b[0;32mis\u001b[0m \u001b[0;32mnot\u001b[0m \u001b[0;32mNone\u001b[0m\u001b[0;34m\u001b[0m\u001b[0;34m\u001b[0m\u001b[0m\n\u001b[1;32m      5\u001b[0m \u001b[0;32mif\u001b[0m \u001b[0mNUMEXPR_INSTALLED\u001b[0m\u001b[0;34m:\u001b[0m\u001b[0;34m\u001b[0m\u001b[0;34m\u001b[0m\u001b[0m\n",
            "\u001b[0;31mTypeError\u001b[0m: import_optional_dependency() got an unexpected keyword argument 'errors'"
          ]
        }
      ]
    },
    {
      "cell_type": "code",
      "metadata": {
        "id": "9YTguE7ePhtU"
      },
      "source": [
        "# data = data.drop([data.index[1905], data.index[2101]])"
      ],
      "execution_count": null,
      "outputs": []
    },
    {
      "cell_type": "code",
      "metadata": {
        "id": "XW3La0fQ-xRm"
      },
      "source": [
        "#mecab 불러오기\n",
        "mecab = Mecab()\n",
        "okt = Okt()"
      ],
      "execution_count": null,
      "outputs": []
    },
    {
      "cell_type": "code",
      "metadata": {
        "id": "TYqqDUK1_uUY"
      },
      "source": [
        "sample = pd.read_csv('naver_blog_crawling.csv')"
      ],
      "execution_count": null,
      "outputs": []
    },
    {
      "cell_type": "code",
      "metadata": {
        "colab": {
          "base_uri": "https://localhost:8080/",
          "height": 612
        },
        "id": "f4VM2aFR_y1T",
        "outputId": "146e7369-554a-4fe1-8204-269434e8359c"
      },
      "source": [
        "sample"
      ],
      "execution_count": null,
      "outputs": [
        {
          "ename": "AttributeError",
          "evalue": "ignored",
          "output_type": "error",
          "traceback": [
            "\u001b[0;31m---------------------------------------------------------------------------\u001b[0m",
            "\u001b[0;31mAttributeError\u001b[0m                            Traceback (most recent call last)",
            "\u001b[0;32m/usr/local/lib/python3.7/dist-packages/IPython/core/formatters.py\u001b[0m in \u001b[0;36m__call__\u001b[0;34m(self, obj)\u001b[0m\n\u001b[1;32m    336\u001b[0m             \u001b[0mmethod\u001b[0m \u001b[0;34m=\u001b[0m \u001b[0mget_real_method\u001b[0m\u001b[0;34m(\u001b[0m\u001b[0mobj\u001b[0m\u001b[0;34m,\u001b[0m \u001b[0mself\u001b[0m\u001b[0;34m.\u001b[0m\u001b[0mprint_method\u001b[0m\u001b[0;34m)\u001b[0m\u001b[0;34m\u001b[0m\u001b[0;34m\u001b[0m\u001b[0m\n\u001b[1;32m    337\u001b[0m             \u001b[0;32mif\u001b[0m \u001b[0mmethod\u001b[0m \u001b[0;32mis\u001b[0m \u001b[0;32mnot\u001b[0m \u001b[0;32mNone\u001b[0m\u001b[0;34m:\u001b[0m\u001b[0;34m\u001b[0m\u001b[0;34m\u001b[0m\u001b[0m\n\u001b[0;32m--> 338\u001b[0;31m                 \u001b[0;32mreturn\u001b[0m \u001b[0mmethod\u001b[0m\u001b[0;34m(\u001b[0m\u001b[0;34m)\u001b[0m\u001b[0;34m\u001b[0m\u001b[0;34m\u001b[0m\u001b[0m\n\u001b[0m\u001b[1;32m    339\u001b[0m             \u001b[0;32mreturn\u001b[0m \u001b[0;32mNone\u001b[0m\u001b[0;34m\u001b[0m\u001b[0;34m\u001b[0m\u001b[0m\n\u001b[1;32m    340\u001b[0m         \u001b[0;32melse\u001b[0m\u001b[0;34m:\u001b[0m\u001b[0;34m\u001b[0m\u001b[0;34m\u001b[0m\u001b[0m\n",
            "\u001b[0;32m/usr/local/lib/python3.7/dist-packages/pandas/core/frame.py\u001b[0m in \u001b[0;36m_repr_html_\u001b[0;34m(self)\u001b[0m\n\u001b[1;32m    796\u001b[0m \u001b[0;34m\u001b[0m\u001b[0m\n\u001b[1;32m    797\u001b[0m     \u001b[0;34m@\u001b[0m\u001b[0mproperty\u001b[0m\u001b[0;34m\u001b[0m\u001b[0;34m\u001b[0m\u001b[0m\n\u001b[0;32m--> 798\u001b[0;31m     \u001b[0;32mdef\u001b[0m \u001b[0mshape\u001b[0m\u001b[0;34m(\u001b[0m\u001b[0mself\u001b[0m\u001b[0;34m)\u001b[0m \u001b[0;34m->\u001b[0m \u001b[0mtuple\u001b[0m\u001b[0;34m[\u001b[0m\u001b[0mint\u001b[0m\u001b[0;34m,\u001b[0m \u001b[0mint\u001b[0m\u001b[0;34m]\u001b[0m\u001b[0;34m:\u001b[0m\u001b[0;34m\u001b[0m\u001b[0;34m\u001b[0m\u001b[0m\n\u001b[0m\u001b[1;32m    799\u001b[0m         \"\"\"\n\u001b[1;32m    800\u001b[0m         \u001b[0mReturn\u001b[0m \u001b[0ma\u001b[0m \u001b[0mtuple\u001b[0m \u001b[0mrepresenting\u001b[0m \u001b[0mthe\u001b[0m \u001b[0mdimensionality\u001b[0m \u001b[0mof\u001b[0m \u001b[0mthe\u001b[0m \u001b[0mDataFrame\u001b[0m\u001b[0;34m.\u001b[0m\u001b[0;34m\u001b[0m\u001b[0;34m\u001b[0m\u001b[0m\n",
            "\u001b[0;32m/usr/local/lib/python3.7/dist-packages/pandas/io/formats/format.py\u001b[0m in \u001b[0;36mto_html\u001b[0;34m(self, buf, encoding, classes, notebook, border)\u001b[0m\n\u001b[1;32m    986\u001b[0m         \u001b[0mencoding\u001b[0m\u001b[0;34m:\u001b[0m \u001b[0mstr\u001b[0m \u001b[0;34m|\u001b[0m \u001b[0;32mNone\u001b[0m \u001b[0;34m=\u001b[0m \u001b[0;32mNone\u001b[0m\u001b[0;34m,\u001b[0m\u001b[0;34m\u001b[0m\u001b[0;34m\u001b[0m\u001b[0m\n\u001b[1;32m    987\u001b[0m         \u001b[0mclasses\u001b[0m\u001b[0;34m:\u001b[0m \u001b[0mstr\u001b[0m \u001b[0;34m|\u001b[0m \u001b[0mlist\u001b[0m \u001b[0;34m|\u001b[0m \u001b[0mtuple\u001b[0m \u001b[0;34m|\u001b[0m \u001b[0;32mNone\u001b[0m \u001b[0;34m=\u001b[0m \u001b[0;32mNone\u001b[0m\u001b[0;34m,\u001b[0m\u001b[0;34m\u001b[0m\u001b[0;34m\u001b[0m\u001b[0m\n\u001b[0;32m--> 988\u001b[0;31m         \u001b[0mnotebook\u001b[0m\u001b[0;34m:\u001b[0m \u001b[0mbool\u001b[0m \u001b[0;34m=\u001b[0m \u001b[0;32mFalse\u001b[0m\u001b[0;34m,\u001b[0m\u001b[0;34m\u001b[0m\u001b[0;34m\u001b[0m\u001b[0m\n\u001b[0m\u001b[1;32m    989\u001b[0m         \u001b[0mborder\u001b[0m\u001b[0;34m:\u001b[0m \u001b[0mint\u001b[0m \u001b[0;34m|\u001b[0m \u001b[0;32mNone\u001b[0m \u001b[0;34m=\u001b[0m \u001b[0;32mNone\u001b[0m\u001b[0;34m,\u001b[0m\u001b[0;34m\u001b[0m\u001b[0;34m\u001b[0m\u001b[0m\n\u001b[1;32m    990\u001b[0m         \u001b[0mtable_id\u001b[0m\u001b[0;34m:\u001b[0m \u001b[0mstr\u001b[0m \u001b[0;34m|\u001b[0m \u001b[0;32mNone\u001b[0m \u001b[0;34m=\u001b[0m \u001b[0;32mNone\u001b[0m\u001b[0;34m,\u001b[0m\u001b[0;34m\u001b[0m\u001b[0;34m\u001b[0m\u001b[0m\n",
            "\u001b[0;31mAttributeError\u001b[0m: 'NotebookFormatter' object has no attribute 'get_result'"
          ]
        },
        {
          "data": {
            "text/plain": [
              "                                              title  ...                                            content\n",
              "0                             제주도 감성숙소 에어비앤비로 다녀왔어요  ...  안녕하세요, 오랜만에 여행 포스팅을 하러 왔습니다! 두둥:) 다녀온지는 좀 되었는데...\n",
              "1                            아고다 9월 할인코드 감성숙소 서울 호텔  ...  얼마전에 다녀온 서울 호텔 후기입니다. 휴가를 잘 낼 수 없는 상황이라 틈날때마다 ...\n",
              "2                                제주 동쪽 구좌 감성숙소 삼일삼오  ...  이번 제주 여행에서 가장 신경썼던건 바로 숙소를 고르는 일 아무래도 여행의 주제 자...\n",
              "3                           청주 메이킷슬로우 에어비앤비 감성숙소 후기  ...  오늘은 제가 지난 휴가때 찐친들과 다녀온  청주 메이킷슬로 라는 에어비앤비 감성숙소...\n",
              "4                           인천 한옥 독채 펜션, 감성숙소 '시우재'  ...  지인의 소개로 알게된 #시우재 마침 이것저것 기념일도 있고 해서 시우재 알게된 날 ...\n",
              "...                                             ...  ...                                                ...\n",
              "3937       #168. 양양 낙산비치호텔, 오션뷰/마운틴뷰 감성 숙소 (+예약 링크)  ...  여행갈때 거의 에어비앤비, 감성숙소를 찾아다니는 나도  부모님이랑 여행갈때나  마땅...\n",
              "3938                  강릉 감성숙소 언제나 소돌 뷰 맛집 204호 솔직후기  ...  강릉에는 예쁜 감성숙소가 많기로 유명하잖아요 !! 특히 강릉에는 뷰가 예쁜 숙소가 ...\n",
              "3939                     [숙소] 내가 가고 싶은 제주도 감성 숙소 2탄  ...  이전에 썻던 제주도 감성 숙소 1탄에 이어  2탄을 포스팅 했어요~  저번에는 10...\n",
              "3940  [제주일기]여심저격! 촬영 스튜디오 같은 제주도 모슬포 감성숙소 '아빈스인모슬포'  ...  #제주도숙소추천 #제주도감성숙소 #제주도인스타숙소 #아빈스인모슬포 #서귀포숙소 #서...\n",
              "3941                           전주근교 감성숙소펜션 완주 '여림재'  ...  안녕하세요:) 주말만 기다리며 뭐하고 놀까, 힐링하러 가야겠다 싶어서 선택한 완주에...\n",
              "\n",
              "[3942 rows x 4 columns]"
            ]
          },
          "execution_count": 26,
          "metadata": {},
          "output_type": "execute_result"
        }
      ]
    },
    {
      "cell_type": "markdown",
      "metadata": {
        "id": "H5xnOqcV-LG6"
      },
      "source": [
        "## 불용어 리스트 생성"
      ]
    },
    {
      "cell_type": "markdown",
      "metadata": {
        "id": "fs4nmArRDxvd"
      },
      "source": [
        "한국어 전처리"
      ]
    },
    {
      "cell_type": "code",
      "metadata": {
        "id": "GgO9xFsarWMw"
      },
      "source": [
        "stop_words = '의 가 이 은 들 는 좀 잘 속초 걍 과 했 거 해서 게 찍 느낌 많이 듯 뷰 박 링크 인스타그램 할인 성수기 홈페이지 주말 블로그 인원 추가 ㅎㅎ 너무 게스트 넘 하우스 드리다 이용 위치 쓰다 진짜 넘 찍 거 먹 ㅠㅠ ㅎㅎㅎ ㅠ 물 였 ㅠㅠㅠ ㅠㅠ ㅠ ㅋㅋㅋ ㅋㅋ ㅋ ㅎㅎㅎ ㅎㅎ ㅎ 화장실 도 뭐 오픈 최대 준비 룸 빵 거 많이 방법 달리 스럽다 특별자치도 를 에어비 으로 자 에 와 한 하다 아 휴 아이구 포스팅 아이쿠 아이고 어 나 우리 저희 따라 의해 을 를 에 의 가 으로 로 에게 뿐이다 의거하여 근거하여 입각하여 기준으로 예하면 예를 들면 예를 들자면 저 소인 소생 저희 지말고 하지마 하지마라 다른 물론 또한 그리고 비길수 없다 해서는 안된다 뿐만 아니라 만이 아니다 만은 아니다 막론하고 관계없이 그치지 않다 그러나 그런데 하지만 든간에 논하지 않다 따지지 않다 설사 비록 더라도 아니면 만 못하다 하는 편이 낫다 불문하고 향하여 향해서 향하다 쪽으로 틈타 이용하여 타다 오르다 제외하고 이 외에 이 밖에 하여야 비로소 한다면 몰라도 외에도 이곳 여기 부터 기점으로 따라서 할 생각이다 하려고하다 이리하여 그리하여 그렇게 함으로써 하지만 일때 할때 앞에서 중에서 보는데서 으로써 로써 까지 해야한다 일것이다 반드시 할줄알다 할수있다 할수있어 임에 틀림없다 한다면 등 등등 제 겨우 단지 다만 할뿐 딩동 댕그 대해서 대하여 대하면 훨씬 얼마나 얼마만큼 얼마큼 남짓 이제 분 도움 여 ㅁ ㅎ ㄶ 얼마간 둥 오랜만 약간 체크 체크아웃 가격 정보 비 수기 평일 기준 약 전국  예약 되어다 스마트 빔 블루투스 스피커 이 외 드라이어 다리미 구비 되어다 있다 주방 음식 조리 가능하다 환기 제한 전남 제부도 있다 냄새 나 요리 삼가다 경주시 부탁드리다 후 번길 문의 다 가격 수기 비성수기 주소  좀 조금 다수 몇 얼마 지만 하물며 또한 그러나 그렇지만 하지만 이외에도 대해 말하자면 뿐이다 다음에 반대로 반대로 말하자면 이와 반대로 바꾸어서 말하면 바꾸어서 한다면 만약 그렇지않으면 까악 툭 딱 삐걱거리다 보드득 비걱거리다 꽈당 응당 해야한다 에 가서 각 각각 여러분 각종 각자 제각기 하도록하다 와 과 그러므로 그래서 고로 한 까닭에 하기 때문에 거니와 이지만 대하여 관하여 관한 과연 실로 아니나다를가 생각한대로 진짜로 한적이있다 하곤하였다 하 하하 허허 아하 거바 와 오 왜 어째서 무엇때문에 어찌 하겠는가 무슨 어디 어느곳 더군다나 하물며 더욱이는 어느때 언제 야 이봐 어이 여보시오 흐흐 흥 휴 헉헉 헐떡헐떡 영차 여차 어기여차 끙끙 아야 앗 아야 콸콸 졸졸 좍좍 뚝뚝 주룩주룩 솨 우르르 그래도 또 그리고 바꾸어말하면 바꾸어말하자면 혹은 혹시 답다 및 그에 따르는 때가 되어 즉 지든지 설령 가령 하더라도 할지라도 일지라도 지든지 몇 거의 하마터면 인젠 이젠 된바에야 된이상 만큼 어찌됏든 그위에 게다가 점에서 보아 비추어 보아 고려하면 하게될것이다 일것이다 비교적 좀 보다더 비하면 시키다 하게하다 할만하다 의해서 연이서 이어서 잇따라 포항 우도 양양 전주시 통영 제천 여수시 순천 고성 합천 한림읍 전주 경북 구좌읍 돌산읍 태안 하동 포항시 제주시 밀양 양평 울산 무무 뒤따라 뒤이어 결국 의지하여 기대여 통하여 자마자 더욱더 불구하고 얼마든지 마음대로 주저하지 않고 곧 즉시 바로 당장 하자마자 밖에 안된다 하면된다 그래 그렇지 요컨대 다시 말하자면 바꿔 춘천 층 남해 스테이 서울 여수 거제 추천 경주 곳 객실 이다 강원도 강원 홍천 부산 영도 호 객실 교동 풀빌라 빌라 풀 스튜디오 펜션 말하면 즉 구체적으로 말하자면 시작하여 시초에 이상 허 헉 허걱 바와같이 해도좋다 해도된다 게다가 더구나 하물며 와르르 팍 퍽 펄렁 동안 이래 하고있었다 이었다 에서 로부터 까지 예하면 했어요 해요 함께 같이 더불어 마저 마저도 양자 모두 습니다 가까스로 하려고하다 즈음하여 다른 다른 방면으로 해봐요 습니까 했어요 말할것도 없고 무릎쓰고 개의치않고 하는것만 못하다 하는것이 낫다 매 매번 들 모 어느것 어느 로써 갖고말하자면 어디 어느쪽 어느것 어느해 어느 년도 라 해도 언젠가 어떤것 어느것 저기 저쪽 저것 그때 그럼 그러면 요만한걸 그래 그때 저것만큼 그저 이르기까지 할 줄 안다 할 힘이 있다 너 너희 당신 어찌 설마 차라리 할지언정 할지라도 할망정 할지언정 구토하다 게우다 토하다 메쓰겁다 옆사람 퉤 쳇 의거하여 근거하여 의해 따라 힘입어 그 다음 버금 두번째로 기타 첫번째로 나머지는 그중에서 견지에서 형식으로 쓰여 입장에서 위해서 단지 의해되다 하도록시키다 뿐만아니라 반대로 전후 전자 앞의것 잠시 잠깐 하면서 그렇지만 다음에 그러한즉 그런즉 남들 아무거나 어찌하든지 같다 비슷하다 예컨대 이럴정도로 어떻게 만약 만일 위에서 서술한바와같이 인 듯하다 하지 않는다면 만약에 무엇 무슨 어느 어떤 아래윗 조차 한데 그럼에도 불구하고 여전히 심지어 까지도 조차도 하지 않도록 않기 위하여 때 시각 무렵 시간 동안 어때 어떠한 하여금 네 예 우선 누구 누가 알겠는가 아무도 줄은모른다 줄은 몰랏다 하는 김에 겸사겸사 하는바 그런 까닭에 한 이유는 그러니 그러니까 때문에 그 너희 그들 너희들 타인 것 것들 너 위하여 공동으로 동시에 하기 위하여 어찌하여 무엇때문에 붕붕 윙윙 나 우리 엉엉 휘익 윙윙 오호 아하 어쨋든 만 못하다 하기보다는 차라리 하는 편이 낫다 흐흐 놀라다 상대적으로 말하자면 마치 아니라면 쉿 그렇지 않으면 그렇지 않다면 안 그러면 아니었다면 하든지 아니면 이라면 좋아 알았어 하는것도 그만이다 어쩔수 없다 하나 일 일반적으로 일단 한켠으로는 오자마자 이렇게되면 이와같다면 전부 한마디 한항목 근거로 하기에 아울러 하지 않도록 않기 위해서 이르기까지 이 되다 로 인하여 까닭으로 이유만으로 이로 인하여 그래서 이 때문에 그러므로 그런 까닭에 알 수 있다 결론을 낼 수 있다 으로 인하여 있다 어떤것 관계가 있다 관련이 있다 연관되다 어떤것들 에 대해 이리하여 그리하여 여부 하기보다는 하느니 하면 할수록 운운 이러이러하다 하구나 하도다 다시말하면 다음으로 에 있다 에 달려 있다 우리 우리들 오히려 하기는한데 어떻게 어떻해 어찌됏어 어때 어째서 본대로 자 이 이쪽 여기 이것 이번 이렇게말하자면 이런 이러한 이와 같은 요만큼 요만한 것 얼마 안 되는 것 이만큼 이 정도의 이렇게 많은 것 이와 같다 이때 이렇구나 것과 같이 끼익 삐걱 따위 와 같은 사람들 부류의 사람들 왜냐하면 중의하나 오직 오로지 에 한하다 하기만 하면 도착하다 까지 미치다 도달하다 정도에 이르다 할 지경이다 결과에 이르다 관해서는 여러분 하고 있다 한 후 혼자 자기 자기집 자신 우에 종합한것과같이 총적으로 보면 총적으로 말하면 총적으로 대로 하다 으로서 참 그만이다 할 따름이다 쿵 탕탕 쾅쾅 둥둥 봐 봐라 아이야 아니 와아 응 아이 참나 년 월 일 령 영 일 이 삼 사 오 육 륙 칠 팔 구 이천육 이천칠 이천팔 이천구 하나 둘 셋 넷 다섯 여섯 일곱 여덟 아홉 령 영 이 있 하 것 들 그 되 수 이 보 않 없 나 사람 주 아니 등 같 우리 때 년 가 한 지 대하 오 말 일 그렇 위하 때문 그것 두 말하 알 그러나 받 못하 일 그런 또 문제 더 사회 많 그리고 좋 크 따르 중 나오 가지 씨 시키 만들 지금 생각하 그러 속 하나 집 살 모르 적 월 데 자신 안 어떤 내 내 경우 감성 숙소 호텔 제주 제주도 강원도 강릉 속초 속초시 에어비앤비 명 생각 시간 그녀 수 약 다시 이런 앞 보이 번 나 다른 어떻 여자 개 전 들 사실 이렇 점 싶 말 정도 좀 원 잘 통하 놓 사실 이렇 점 싶 말 정도 좀 원 잘 통하 ㅆ 재 채 독 롭 도란도 팅 감성비앤비 공간 참여 이벤트 당첨자 기간 부산 #부산숙소 #부산에어비앤비 #부산여행 경기 경주시 있는 한 #경주숙소 강원도 제주 제주시 #제주숙소 #제주감성숙소 #제주숙소추천 남해군 서면 춘천시 남해 광안리 편 반 안면도 산방산 님 사장 정말 날 꼭 찾다 직접 날 그냥 맘 근데 스타 욕 편 째 첫 맛 채 황리단 황리단길 미리 열다 거제도 공간 광안리 광안대교 스다 해운대 헤이 윤슬 울릉도 손 옆' #불용어 리스트 형성"
      ],
      "execution_count": null,
      "outputs": []
    },
    {
      "cell_type": "code",
      "metadata": {
        "id": "Pk2WROfwrYSW"
      },
      "source": [
        "stop_words=stop_words.split(' ')"
      ],
      "execution_count": null,
      "outputs": []
    },
    {
      "cell_type": "code",
      "metadata": {
        "id": "_qpyB1Vb4x_D"
      },
      "source": [
        "stop_location = pd.read_csv('location_words.csv')\n",
        "stop_location.columns = ['index', 'location']\n",
        "stop_location = stop_location.location.tolist()"
      ],
      "execution_count": null,
      "outputs": []
    },
    {
      "cell_type": "code",
      "metadata": {
        "id": "c92Pam2292uK"
      },
      "source": [
        "stop = stop_words + stop_location\n",
        "stop = pd.Series(stop)\n",
        "stopwords = stop.unique().tolist()"
      ],
      "execution_count": null,
      "outputs": []
    },
    {
      "cell_type": "markdown",
      "metadata": {
        "id": "Hs8x2Y7yMT_l"
      },
      "source": [
        "## 토큰화"
      ]
    },
    {
      "cell_type": "code",
      "metadata": {
        "id": "TliirW6eSiM9"
      },
      "source": [
        "def tokenize_mec(sent): ## mec 토크나이저\n",
        "  result = []\n",
        "  word_s = mecab.pos(sent)\n",
        "  word = [word for word, tag in word_s if not tag.startswith('E') and not tag.startswith('J') and not tag.startswith('S') and word not in stopwords]\n",
        "  result = word\n",
        "  return result"
      ],
      "execution_count": null,
      "outputs": []
    },
    {
      "cell_type": "code",
      "metadata": {
        "id": "KlHUCumEPxJb"
      },
      "source": [
        "def tokenize_okt(txt) : # okt 토크나이저\n",
        "    result = []\n",
        "    word_s = okt.pos(txt, norm=True, stem=True)\n",
        "    for n, h in word_s :\n",
        "        if not (h in ['Noun', 'Verb', 'Adjective']) : continue\n",
        "        result.append(n)\n",
        "    return result"
      ],
      "execution_count": null,
      "outputs": []
    },
    {
      "cell_type": "code",
      "metadata": {
        "id": "cLz67C_-a3cf"
      },
      "source": [
        "data.reset_index(drop=True,inplace=True)"
      ],
      "execution_count": null,
      "outputs": []
    },
    {
      "cell_type": "code",
      "metadata": {
        "id": "wph8eaZFcdbZ"
      },
      "source": [
        "# data.content[66]"
      ],
      "execution_count": null,
      "outputs": []
    },
    {
      "cell_type": "code",
      "metadata": {
        "id": "CdvQI1TLMzbt"
      },
      "source": [
        "# tokenize_mec(data.content[0])"
      ],
      "execution_count": null,
      "outputs": []
    },
    {
      "cell_type": "code",
      "metadata": {
        "id": "NcL-OFxGapE5"
      },
      "source": [
        "data['token_content_mec'] = np.NaN\n",
        "data['token_content_okt'] = np.NaN"
      ],
      "execution_count": null,
      "outputs": []
    },
    {
      "cell_type": "code",
      "metadata": {
        "colab": {
          "background_save": true,
          "base_uri": "https://localhost:8080/"
        },
        "id": "SuetwR_TaaJ_",
        "outputId": "dc1b2478-3e9d-4730-dc56-02777424ae2f"
      },
      "source": [
        "for i in range(len(data)):\n",
        "  data['token_content_mec'][i] = tokenize_mec(data.content[i])"
      ],
      "execution_count": null,
      "outputs": [
        {
          "name": "stderr",
          "output_type": "stream",
          "text": [
            "/usr/local/lib/python3.7/dist-packages/ipykernel_launcher.py:2: SettingWithCopyWarning: \n",
            "A value is trying to be set on a copy of a slice from a DataFrame\n",
            "\n",
            "See the caveats in the documentation: https://pandas.pydata.org/pandas-docs/stable/user_guide/indexing.html#returning-a-view-versus-a-copy\n",
            "  \n",
            "/usr/local/lib/python3.7/dist-packages/pandas/core/indexing.py:1732: SettingWithCopyWarning: \n",
            "A value is trying to be set on a copy of a slice from a DataFrame\n",
            "\n",
            "See the caveats in the documentation: https://pandas.pydata.org/pandas-docs/stable/user_guide/indexing.html#returning-a-view-versus-a-copy\n",
            "  self._setitem_single_block(indexer, value, name)\n"
          ]
        }
      ]
    },
    {
      "cell_type": "code",
      "metadata": {
        "colab": {
          "background_save": true,
          "base_uri": "https://localhost:8080/"
        },
        "id": "ODtQrXzuQGL4",
        "outputId": "1a751957-5614-4242-d6c7-67f64f4c6490"
      },
      "source": [
        "for i in range(len(data)):\n",
        "  data['token_content_okt'][i] = tokenize_okt(data.content[i])"
      ],
      "execution_count": null,
      "outputs": [
        {
          "name": "stderr",
          "output_type": "stream",
          "text": [
            "/usr/local/lib/python3.7/dist-packages/ipykernel_launcher.py:2: SettingWithCopyWarning: \n",
            "A value is trying to be set on a copy of a slice from a DataFrame\n",
            "\n",
            "See the caveats in the documentation: https://pandas.pydata.org/pandas-docs/stable/user_guide/indexing.html#returning-a-view-versus-a-copy\n",
            "  \n",
            "/usr/local/lib/python3.7/dist-packages/pandas/core/indexing.py:1732: SettingWithCopyWarning: \n",
            "A value is trying to be set on a copy of a slice from a DataFrame\n",
            "\n",
            "See the caveats in the documentation: https://pandas.pydata.org/pandas-docs/stable/user_guide/indexing.html#returning-a-view-versus-a-copy\n",
            "  self._setitem_single_block(indexer, value, name)\n"
          ]
        }
      ]
    },
    {
      "cell_type": "code",
      "metadata": {
        "colab": {
          "background_save": true
        },
        "id": "OE1CavJPnPDv"
      },
      "source": [
        "for i in range(len(data.content)): #불용어 제거\n",
        "  result = []\n",
        "  for w in data.token_content_okt[i]:\n",
        "    if w not in stop:\n",
        "      result.append(w)\n",
        "    data.token_content_okt[i] = result"
      ],
      "execution_count": null,
      "outputs": []
    },
    {
      "cell_type": "code",
      "metadata": {
        "colab": {
          "background_save": true
        },
        "id": "j26NR2X7oQl5"
      },
      "source": [
        "# data.token_content_mec[0]"
      ],
      "execution_count": null,
      "outputs": []
    },
    {
      "cell_type": "code",
      "metadata": {
        "id": "eQlCOafLl1qk"
      },
      "source": [
        "for i in range(len(data.content)): #불용어 제거\n",
        "  result = []\n",
        "  for w in data.token_content_mec[i]:\n",
        "    if w not in stop:\n",
        "      result.append(w)\n",
        "    data.token_content_mec[i] = result"
      ],
      "execution_count": null,
      "outputs": []
    },
    {
      "cell_type": "code",
      "metadata": {
        "id": "22JUOS8Alt8K"
      },
      "source": [
        "# data.to_csv('./data.csv', encoding='utf-8')"
      ],
      "execution_count": null,
      "outputs": []
    },
    {
      "cell_type": "markdown",
      "metadata": {
        "id": "AW9C899D02Lc"
      },
      "source": [
        "# LDA 모델링"
      ]
    },
    {
      "cell_type": "code",
      "metadata": {
        "colab": {
          "base_uri": "https://localhost:8080/",
          "height": 231
        },
        "id": "AEjlRRIN-VtS",
        "outputId": "97c62d65-aa92-4ccd-d388-6886906b1c74"
      },
      "source": [
        "mdl = tp.LDAModel(k=20)\n",
        "\n",
        "for row in text :\n",
        "    mdl.add_doc(row.strip().split())\n",
        "\n",
        "for i in range(0, 100, 10):\n",
        "    mdl.train(10)\n",
        "    print('Iteration: {}\\tLog-likelihood: {}'.format(i, mdl.ll_per_word))\n",
        "\n",
        "for k in range(mdl.k):\n",
        "    print('Top 10 words of topic #{}'.format(k))\n",
        "    print(mdl.get_topic_words(k, top_n=10))"
      ],
      "execution_count": null,
      "outputs": [
        {
          "ename": "RuntimeError",
          "evalue": "ignored",
          "output_type": "error",
          "traceback": [
            "\u001b[0;31m---------------------------------------------------------------------------\u001b[0m",
            "\u001b[0;31mRuntimeError\u001b[0m                              Traceback (most recent call last)",
            "\u001b[0;32m<ipython-input-23-6d326ed62b36>\u001b[0m in \u001b[0;36m<module>\u001b[0;34m()\u001b[0m\n\u001b[1;32m      2\u001b[0m \u001b[0;34m\u001b[0m\u001b[0m\n\u001b[1;32m      3\u001b[0m \u001b[0;32mfor\u001b[0m \u001b[0mrow\u001b[0m \u001b[0;32min\u001b[0m \u001b[0mtext\u001b[0m \u001b[0;34m:\u001b[0m\u001b[0;34m\u001b[0m\u001b[0;34m\u001b[0m\u001b[0m\n\u001b[0;32m----> 4\u001b[0;31m     \u001b[0mmdl\u001b[0m\u001b[0;34m.\u001b[0m\u001b[0madd_doc\u001b[0m\u001b[0;34m(\u001b[0m\u001b[0mrow\u001b[0m\u001b[0;34m.\u001b[0m\u001b[0mstrip\u001b[0m\u001b[0;34m(\u001b[0m\u001b[0;34m)\u001b[0m\u001b[0;34m.\u001b[0m\u001b[0msplit\u001b[0m\u001b[0;34m(\u001b[0m\u001b[0;34m)\u001b[0m\u001b[0;34m)\u001b[0m\u001b[0;34m\u001b[0m\u001b[0;34m\u001b[0m\u001b[0m\n\u001b[0m\u001b[1;32m      5\u001b[0m \u001b[0;34m\u001b[0m\u001b[0m\n\u001b[1;32m      6\u001b[0m \u001b[0;32mfor\u001b[0m \u001b[0mi\u001b[0m \u001b[0;32min\u001b[0m \u001b[0mrange\u001b[0m\u001b[0;34m(\u001b[0m\u001b[0;36m0\u001b[0m\u001b[0;34m,\u001b[0m \u001b[0;36m100\u001b[0m\u001b[0;34m,\u001b[0m \u001b[0;36m10\u001b[0m\u001b[0;34m)\u001b[0m\u001b[0;34m:\u001b[0m\u001b[0;34m\u001b[0m\u001b[0;34m\u001b[0m\u001b[0m\n",
            "\u001b[0;31mRuntimeError\u001b[0m: Either `words` or `rawWords` must be filled."
          ]
        }
      ]
    },
    {
      "cell_type": "code",
      "metadata": {
        "colab": {
          "base_uri": "https://localhost:8080/",
          "height": 214
        },
        "id": "bbOmxGO1EUY_",
        "outputId": "6439aad4-173e-4efc-f8a7-cc2f5f0011bf"
      },
      "source": [
        "model = tp.LDAModel(k=20, alpha=0.1, eta=0.01, min_cf=5)\n",
        "\n",
        "for i, row in enumerate(text):\n",
        "    model.add_doc(tokenize(row)) # tokenize함수를 이용해 전처리한 결과를 add_doc에 넣습니다.\n",
        "    if i % 10 == 0: print('Document #{} has been loaded'.format(i))"
      ],
      "execution_count": null,
      "outputs": [
        {
          "ename": "RuntimeError",
          "evalue": "ignored",
          "output_type": "error",
          "traceback": [
            "\u001b[0;31m---------------------------------------------------------------------------\u001b[0m",
            "\u001b[0;31mRuntimeError\u001b[0m                              Traceback (most recent call last)",
            "\u001b[0;32m<ipython-input-31-227a729d3605>\u001b[0m in \u001b[0;36m<module>\u001b[0;34m()\u001b[0m\n\u001b[1;32m      2\u001b[0m \u001b[0;34m\u001b[0m\u001b[0m\n\u001b[1;32m      3\u001b[0m \u001b[0;32mfor\u001b[0m \u001b[0mi\u001b[0m\u001b[0;34m,\u001b[0m \u001b[0mrow\u001b[0m \u001b[0;32min\u001b[0m \u001b[0menumerate\u001b[0m\u001b[0;34m(\u001b[0m\u001b[0mtext\u001b[0m\u001b[0;34m)\u001b[0m\u001b[0;34m:\u001b[0m\u001b[0;34m\u001b[0m\u001b[0;34m\u001b[0m\u001b[0m\n\u001b[0;32m----> 4\u001b[0;31m     \u001b[0mmodel\u001b[0m\u001b[0;34m.\u001b[0m\u001b[0madd_doc\u001b[0m\u001b[0;34m(\u001b[0m\u001b[0mtokenize\u001b[0m\u001b[0;34m(\u001b[0m\u001b[0mrow\u001b[0m\u001b[0;34m)\u001b[0m\u001b[0;34m)\u001b[0m \u001b[0;31m# tokenize함수를 이용해 전처리한 결과를 add_doc에 넣습니다.\u001b[0m\u001b[0;34m\u001b[0m\u001b[0;34m\u001b[0m\u001b[0m\n\u001b[0m\u001b[1;32m      5\u001b[0m     \u001b[0;32mif\u001b[0m \u001b[0mi\u001b[0m \u001b[0;34m%\u001b[0m \u001b[0;36m10\u001b[0m \u001b[0;34m==\u001b[0m \u001b[0;36m0\u001b[0m\u001b[0;34m:\u001b[0m \u001b[0mprint\u001b[0m\u001b[0;34m(\u001b[0m\u001b[0;34m'Document #{} has been loaded'\u001b[0m\u001b[0;34m.\u001b[0m\u001b[0mformat\u001b[0m\u001b[0;34m(\u001b[0m\u001b[0mi\u001b[0m\u001b[0;34m)\u001b[0m\u001b[0;34m)\u001b[0m\u001b[0;34m\u001b[0m\u001b[0;34m\u001b[0m\u001b[0m\n",
            "\u001b[0;31mRuntimeError\u001b[0m: Either `words` or `rawWords` must be filled."
          ]
        }
      ]
    },
    {
      "cell_type": "code",
      "metadata": {
        "colab": {
          "base_uri": "https://localhost:8080/",
          "height": 231
        },
        "id": "sWx4f6FQEa6x",
        "outputId": "81dc5876-b8de-47b6-b610-16db4b9cc847"
      },
      "source": [
        "model.train(0)\n",
        "print('Total docs:', len(model.docs))\n",
        "print('Total words:', model.num_words)\n",
        "print('Vocab size:', model.num_vocabs)\n",
        " \n",
        " \n",
        "for i in range(200):\n",
        "    print('Iteration {}\\tLL per word: {}'.format(i, model.ll_per_word))\n",
        "    model.train(1)\n",
        " \n",
        "for i in range(model.k):\n",
        "    res = model.get_topic_words(i, top_n=10)\n",
        "    print('Topic #{}'.format(i), end='\\t')\n",
        "    print(', '.join(w for w, p in res))"
      ],
      "execution_count": null,
      "outputs": [
        {
          "ename": "NameError",
          "evalue": "ignored",
          "output_type": "error",
          "traceback": [
            "\u001b[0;31m---------------------------------------------------------------------------\u001b[0m",
            "\u001b[0;31mNameError\u001b[0m                                 Traceback (most recent call last)",
            "\u001b[0;32m<ipython-input-1-1ccc6969856c>\u001b[0m in \u001b[0;36m<module>\u001b[0;34m()\u001b[0m\n\u001b[0;32m----> 1\u001b[0;31m \u001b[0mmodel\u001b[0m\u001b[0;34m.\u001b[0m\u001b[0mtrain\u001b[0m\u001b[0;34m(\u001b[0m\u001b[0;36m0\u001b[0m\u001b[0;34m)\u001b[0m\u001b[0;34m\u001b[0m\u001b[0;34m\u001b[0m\u001b[0m\n\u001b[0m\u001b[1;32m      2\u001b[0m \u001b[0mprint\u001b[0m\u001b[0;34m(\u001b[0m\u001b[0;34m'Total docs:'\u001b[0m\u001b[0;34m,\u001b[0m \u001b[0mlen\u001b[0m\u001b[0;34m(\u001b[0m\u001b[0mmodel\u001b[0m\u001b[0;34m.\u001b[0m\u001b[0mdocs\u001b[0m\u001b[0;34m)\u001b[0m\u001b[0;34m)\u001b[0m\u001b[0;34m\u001b[0m\u001b[0;34m\u001b[0m\u001b[0m\n\u001b[1;32m      3\u001b[0m \u001b[0mprint\u001b[0m\u001b[0;34m(\u001b[0m\u001b[0;34m'Total words:'\u001b[0m\u001b[0;34m,\u001b[0m \u001b[0mmodel\u001b[0m\u001b[0;34m.\u001b[0m\u001b[0mnum_words\u001b[0m\u001b[0;34m)\u001b[0m\u001b[0;34m\u001b[0m\u001b[0;34m\u001b[0m\u001b[0m\n\u001b[1;32m      4\u001b[0m \u001b[0mprint\u001b[0m\u001b[0;34m(\u001b[0m\u001b[0;34m'Vocab size:'\u001b[0m\u001b[0;34m,\u001b[0m \u001b[0mmodel\u001b[0m\u001b[0;34m.\u001b[0m\u001b[0mnum_vocabs\u001b[0m\u001b[0;34m)\u001b[0m\u001b[0;34m\u001b[0m\u001b[0;34m\u001b[0m\u001b[0m\n\u001b[1;32m      5\u001b[0m \u001b[0;34m\u001b[0m\u001b[0m\n",
            "\u001b[0;31mNameError\u001b[0m: name 'model' is not defined"
          ]
        }
      ]
    },
    {
      "cell_type": "markdown",
      "metadata": {
        "id": "LI3svF-gF-23"
      },
      "source": [
        "# LDA"
      ]
    },
    {
      "cell_type": "markdown",
      "metadata": {
        "id": "1c7JNaAmGBGX"
      },
      "source": [
        "## 딕셔너리 및 코퍼스 생성"
      ]
    },
    {
      "cell_type": "code",
      "metadata": {
        "id": "eCx1qcbpnUbU"
      },
      "source": [
        "# data = pd.read_csv('docs.csv', )"
      ],
      "execution_count": null,
      "outputs": []
    },
    {
      "cell_type": "code",
      "metadata": {
        "colab": {
          "base_uri": "https://localhost:8080/",
          "height": 294
        },
        "id": "L8I-6cnbqDTs",
        "outputId": "86e8ba87-b790-470b-8f8b-1a43f2cd96e8"
      },
      "source": [
        "# data.token_content_okt.split()"
      ],
      "execution_count": null,
      "outputs": [
        {
          "ename": "AttributeError",
          "evalue": "ignored",
          "output_type": "error",
          "traceback": [
            "\u001b[0;31m---------------------------------------------------------------------------\u001b[0m",
            "\u001b[0;31mAttributeError\u001b[0m                            Traceback (most recent call last)",
            "\u001b[0;32m<ipython-input-23-f60eca72dd43>\u001b[0m in \u001b[0;36m<module>\u001b[0;34m()\u001b[0m\n\u001b[0;32m----> 1\u001b[0;31m \u001b[0mdata\u001b[0m\u001b[0;34m.\u001b[0m\u001b[0mtoken_content_okt\u001b[0m\u001b[0;34m.\u001b[0m\u001b[0msplit\u001b[0m\u001b[0;34m(\u001b[0m\u001b[0;34m)\u001b[0m\u001b[0;34m\u001b[0m\u001b[0;34m\u001b[0m\u001b[0m\n\u001b[0m",
            "\u001b[0;32m/usr/local/lib/python3.7/dist-packages/pandas/core/generic.py\u001b[0m in \u001b[0;36m__getattr__\u001b[0;34m(self, name)\u001b[0m\n\u001b[1;32m   5485\u001b[0m         ):\n\u001b[1;32m   5486\u001b[0m             \u001b[0;32mreturn\u001b[0m \u001b[0mself\u001b[0m\u001b[0;34m[\u001b[0m\u001b[0mname\u001b[0m\u001b[0;34m]\u001b[0m\u001b[0;34m\u001b[0m\u001b[0;34m\u001b[0m\u001b[0m\n\u001b[0;32m-> 5487\u001b[0;31m         \u001b[0;32mreturn\u001b[0m \u001b[0mobject\u001b[0m\u001b[0;34m.\u001b[0m\u001b[0m__getattribute__\u001b[0m\u001b[0;34m(\u001b[0m\u001b[0mself\u001b[0m\u001b[0;34m,\u001b[0m \u001b[0mname\u001b[0m\u001b[0;34m)\u001b[0m\u001b[0;34m\u001b[0m\u001b[0;34m\u001b[0m\u001b[0m\n\u001b[0m\u001b[1;32m   5488\u001b[0m \u001b[0;34m\u001b[0m\u001b[0m\n\u001b[1;32m   5489\u001b[0m     \u001b[0;32mdef\u001b[0m \u001b[0m__setattr__\u001b[0m\u001b[0;34m(\u001b[0m\u001b[0mself\u001b[0m\u001b[0;34m,\u001b[0m \u001b[0mname\u001b[0m\u001b[0;34m:\u001b[0m \u001b[0mstr\u001b[0m\u001b[0;34m,\u001b[0m \u001b[0mvalue\u001b[0m\u001b[0;34m)\u001b[0m \u001b[0;34m->\u001b[0m \u001b[0;32mNone\u001b[0m\u001b[0;34m:\u001b[0m\u001b[0;34m\u001b[0m\u001b[0;34m\u001b[0m\u001b[0m\n",
            "\u001b[0;31mAttributeError\u001b[0m: 'Series' object has no attribute 'split'"
          ]
        }
      ]
    },
    {
      "cell_type": "code",
      "metadata": {
        "id": "gg8-EV4SICFC"
      },
      "source": [
        "docs = data.copy()"
      ],
      "execution_count": null,
      "outputs": []
    },
    {
      "cell_type": "code",
      "metadata": {
        "id": "Zg4RrA_DoMT0"
      },
      "source": [
        "# docs.to_csv('docs.csv')"
      ],
      "execution_count": null,
      "outputs": []
    },
    {
      "cell_type": "code",
      "metadata": {
        "id": "z1YaB_wMnd2J"
      },
      "source": [
        "docs.token_content_okt[0]"
      ],
      "execution_count": null,
      "outputs": []
    },
    {
      "cell_type": "code",
      "metadata": {
        "id": "lb8VFp3WpN8z"
      },
      "source": [
        "# [d.split() for d in docs.token_content_okt]"
      ],
      "execution_count": null,
      "outputs": []
    },
    {
      "cell_type": "code",
      "metadata": {
        "id": "YWVxqY20o4B9"
      },
      "source": [
        "docs.token_content_mec[0]"
      ],
      "execution_count": null,
      "outputs": []
    },
    {
      "cell_type": "code",
      "metadata": {
        "id": "fbAiJKdkyUHJ"
      },
      "source": [
        "np.re"
      ],
      "execution_count": null,
      "outputs": []
    },
    {
      "cell_type": "code",
      "metadata": {
        "colab": {
          "base_uri": "https://localhost:8080/",
          "height": 354
        },
        "id": "VzT_kOBdHarE",
        "outputId": "417adb84-2ea8-4129-d87a-0396c56ad7a8"
      },
      "source": [
        "from gensim import corpora\n",
        "dictionary_mec = corpora.Dictionary(docs.token_content_mec)\n",
        "corpus_mec = [dictionary.doc2bow(text) for text in docs.token_content_mec]"
      ],
      "execution_count": null,
      "outputs": [
        {
          "ename": "TypeError",
          "evalue": "ignored",
          "output_type": "error",
          "traceback": [
            "\u001b[0;31m---------------------------------------------------------------------------\u001b[0m",
            "\u001b[0;31mTypeError\u001b[0m                                 Traceback (most recent call last)",
            "\u001b[0;32m<ipython-input-45-4903466db432>\u001b[0m in \u001b[0;36m<module>\u001b[0;34m()\u001b[0m\n\u001b[1;32m      1\u001b[0m \u001b[0;32mfrom\u001b[0m \u001b[0mgensim\u001b[0m \u001b[0;32mimport\u001b[0m \u001b[0mcorpora\u001b[0m\u001b[0;34m\u001b[0m\u001b[0;34m\u001b[0m\u001b[0m\n\u001b[0;32m----> 2\u001b[0;31m \u001b[0mdictionary_mec\u001b[0m \u001b[0;34m=\u001b[0m \u001b[0mcorpora\u001b[0m\u001b[0;34m.\u001b[0m\u001b[0mDictionary\u001b[0m\u001b[0;34m(\u001b[0m\u001b[0mdocs\u001b[0m\u001b[0;34m.\u001b[0m\u001b[0mtoken_content_mec\u001b[0m\u001b[0;34m)\u001b[0m\u001b[0;34m\u001b[0m\u001b[0;34m\u001b[0m\u001b[0m\n\u001b[0m\u001b[1;32m      3\u001b[0m \u001b[0mcorpus_mec\u001b[0m \u001b[0;34m=\u001b[0m \u001b[0;34m[\u001b[0m\u001b[0mdictionary\u001b[0m\u001b[0;34m.\u001b[0m\u001b[0mdoc2bow\u001b[0m\u001b[0;34m(\u001b[0m\u001b[0mtext\u001b[0m\u001b[0;34m)\u001b[0m \u001b[0;32mfor\u001b[0m \u001b[0mtext\u001b[0m \u001b[0;32min\u001b[0m \u001b[0mdocs\u001b[0m\u001b[0;34m.\u001b[0m\u001b[0mtoken_content_mec\u001b[0m\u001b[0;34m]\u001b[0m\u001b[0;34m\u001b[0m\u001b[0;34m\u001b[0m\u001b[0m\n",
            "\u001b[0;32m/usr/local/lib/python3.7/dist-packages/gensim/corpora/dictionary.py\u001b[0m in \u001b[0;36m__init__\u001b[0;34m(self, documents, prune_at)\u001b[0m\n\u001b[1;32m     81\u001b[0m \u001b[0;34m\u001b[0m\u001b[0m\n\u001b[1;32m     82\u001b[0m         \u001b[0;32mif\u001b[0m \u001b[0mdocuments\u001b[0m \u001b[0;32mis\u001b[0m \u001b[0;32mnot\u001b[0m \u001b[0;32mNone\u001b[0m\u001b[0;34m:\u001b[0m\u001b[0;34m\u001b[0m\u001b[0;34m\u001b[0m\u001b[0m\n\u001b[0;32m---> 83\u001b[0;31m             \u001b[0mself\u001b[0m\u001b[0;34m.\u001b[0m\u001b[0madd_documents\u001b[0m\u001b[0;34m(\u001b[0m\u001b[0mdocuments\u001b[0m\u001b[0;34m,\u001b[0m \u001b[0mprune_at\u001b[0m\u001b[0;34m=\u001b[0m\u001b[0mprune_at\u001b[0m\u001b[0;34m)\u001b[0m\u001b[0;34m\u001b[0m\u001b[0;34m\u001b[0m\u001b[0m\n\u001b[0m\u001b[1;32m     84\u001b[0m \u001b[0;34m\u001b[0m\u001b[0m\n\u001b[1;32m     85\u001b[0m     \u001b[0;32mdef\u001b[0m \u001b[0m__getitem__\u001b[0m\u001b[0;34m(\u001b[0m\u001b[0mself\u001b[0m\u001b[0;34m,\u001b[0m \u001b[0mtokenid\u001b[0m\u001b[0;34m)\u001b[0m\u001b[0;34m:\u001b[0m\u001b[0;34m\u001b[0m\u001b[0;34m\u001b[0m\u001b[0m\n",
            "\u001b[0;32m/usr/local/lib/python3.7/dist-packages/gensim/corpora/dictionary.py\u001b[0m in \u001b[0;36madd_documents\u001b[0;34m(self, documents, prune_at)\u001b[0m\n\u001b[1;32m    200\u001b[0m \u001b[0;34m\u001b[0m\u001b[0m\n\u001b[1;32m    201\u001b[0m             \u001b[0;31m# update Dictionary with the document\u001b[0m\u001b[0;34m\u001b[0m\u001b[0;34m\u001b[0m\u001b[0;34m\u001b[0m\u001b[0m\n\u001b[0;32m--> 202\u001b[0;31m             \u001b[0mself\u001b[0m\u001b[0;34m.\u001b[0m\u001b[0mdoc2bow\u001b[0m\u001b[0;34m(\u001b[0m\u001b[0mdocument\u001b[0m\u001b[0;34m,\u001b[0m \u001b[0mallow_update\u001b[0m\u001b[0;34m=\u001b[0m\u001b[0;32mTrue\u001b[0m\u001b[0;34m)\u001b[0m  \u001b[0;31m# ignore the result, here we only care about updating token ids\u001b[0m\u001b[0;34m\u001b[0m\u001b[0;34m\u001b[0m\u001b[0m\n\u001b[0m\u001b[1;32m    203\u001b[0m \u001b[0;34m\u001b[0m\u001b[0m\n\u001b[1;32m    204\u001b[0m         logger.info(\n",
            "\u001b[0;32m/usr/local/lib/python3.7/dist-packages/gensim/corpora/dictionary.py\u001b[0m in \u001b[0;36mdoc2bow\u001b[0;34m(self, document, allow_update, return_missing)\u001b[0m\n\u001b[1;32m    243\u001b[0m         \u001b[0mcounter\u001b[0m \u001b[0;34m=\u001b[0m \u001b[0mdefaultdict\u001b[0m\u001b[0;34m(\u001b[0m\u001b[0mint\u001b[0m\u001b[0;34m)\u001b[0m\u001b[0;34m\u001b[0m\u001b[0;34m\u001b[0m\u001b[0m\n\u001b[1;32m    244\u001b[0m         \u001b[0;32mfor\u001b[0m \u001b[0mw\u001b[0m \u001b[0;32min\u001b[0m \u001b[0mdocument\u001b[0m\u001b[0;34m:\u001b[0m\u001b[0;34m\u001b[0m\u001b[0;34m\u001b[0m\u001b[0m\n\u001b[0;32m--> 245\u001b[0;31m             \u001b[0mcounter\u001b[0m\u001b[0;34m[\u001b[0m\u001b[0mw\u001b[0m \u001b[0;32mif\u001b[0m \u001b[0misinstance\u001b[0m\u001b[0;34m(\u001b[0m\u001b[0mw\u001b[0m\u001b[0;34m,\u001b[0m \u001b[0municode\u001b[0m\u001b[0;34m)\u001b[0m \u001b[0;32melse\u001b[0m \u001b[0municode\u001b[0m\u001b[0;34m(\u001b[0m\u001b[0mw\u001b[0m\u001b[0;34m,\u001b[0m \u001b[0;34m'utf-8'\u001b[0m\u001b[0;34m)\u001b[0m\u001b[0;34m]\u001b[0m \u001b[0;34m+=\u001b[0m \u001b[0;36m1\u001b[0m\u001b[0;34m\u001b[0m\u001b[0;34m\u001b[0m\u001b[0m\n\u001b[0m\u001b[1;32m    246\u001b[0m \u001b[0;34m\u001b[0m\u001b[0m\n\u001b[1;32m    247\u001b[0m         \u001b[0mtoken2id\u001b[0m \u001b[0;34m=\u001b[0m \u001b[0mself\u001b[0m\u001b[0;34m.\u001b[0m\u001b[0mtoken2id\u001b[0m\u001b[0;34m\u001b[0m\u001b[0;34m\u001b[0m\u001b[0m\n",
            "\u001b[0;31mTypeError\u001b[0m: decoding to str: need a bytes-like object, list found"
          ]
        }
      ]
    },
    {
      "cell_type": "code",
      "metadata": {
        "id": "ASVoSag0InqG"
      },
      "source": [
        "from gensim import models"
      ],
      "execution_count": null,
      "outputs": []
    },
    {
      "cell_type": "code",
      "metadata": {
        "id": "psqM5OToHsQA"
      },
      "source": [
        "## tf-idf 폼 적용\n",
        "tfidf_mec = models.TfidfModel(corpus_mec)\n",
        "corpus_mec = tfidf[corpus_mec]"
      ],
      "execution_count": null,
      "outputs": []
    },
    {
      "cell_type": "markdown",
      "metadata": {
        "id": "VjL1xWakIxX9"
      },
      "source": [
        "## 학습하기"
      ]
    },
    {
      "cell_type": "code",
      "metadata": {
        "id": "5Mhp_GycIWoL"
      },
      "source": [
        "import gensim\n",
        "NUM_TOPICS = 20\n",
        "ldamodel_mec = gensim.models.ldamodel_mec.LdaModel(corpus_mec, num_topics = NUM_TOPICS, id2word=dictionary_mec, passes=15)\n",
        "topics_mec = ldamodel_mec.print_topics(num_words=10)"
      ],
      "execution_count": null,
      "outputs": []
    },
    {
      "cell_type": "code",
      "metadata": {
        "id": "jji_4QPUJB-R"
      },
      "source": [
        "# pip install pyLDAvis"
      ],
      "execution_count": null,
      "outputs": []
    },
    {
      "cell_type": "code",
      "metadata": {
        "id": "k77eY8YIKlqe"
      },
      "source": [
        "import pyLDAvis\n",
        "import pyLDAvis.gensim_models as gensimvis\n",
        "pyLDAvis.enable_notebook()\n"
      ],
      "execution_count": null,
      "outputs": []
    },
    {
      "cell_type": "code",
      "metadata": {
        "id": "Lm6fJlonMHxv"
      },
      "source": [
        "vis = gensimvis.prepare(ldamodel, corpus, dictionary)\n",
        "pyLDAvis.display(vis)"
      ],
      "execution_count": null,
      "outputs": []
    },
    {
      "cell_type": "markdown",
      "metadata": {
        "id": "AiCga2sXMScQ"
      },
      "source": [
        "#TOMOTOPY_LDA"
      ]
    },
    {
      "cell_type": "code",
      "metadata": {
        "colab": {
          "base_uri": "https://localhost:8080/"
        },
        "id": "AVK2mPRU82qb",
        "outputId": "e4e11984-2ec3-4865-ae3f-8b185f5ed01a"
      },
      "source": [
        "! pip install tomotopy #호출\n",
        "import tomotopy as tp"
      ],
      "execution_count": null,
      "outputs": [
        {
          "name": "stdout",
          "output_type": "stream",
          "text": [
            "Collecting tomotopy\n",
            "  Downloading tomotopy-0.12.2-cp37-cp37m-manylinux_2_12_x86_64.manylinux2010_x86_64.whl (16.3 MB)\n",
            "\u001b[K     |████████████████████████████████| 16.3 MB 143 kB/s \n",
            "\u001b[?25hRequirement already satisfied: numpy>=1.11.0 in /usr/local/lib/python3.7/dist-packages (from tomotopy) (1.19.5)\n",
            "Installing collected packages: tomotopy\n",
            "Successfully installed tomotopy-0.12.2\n"
          ]
        }
      ]
    },
    {
      "cell_type": "code",
      "metadata": {
        "colab": {
          "base_uri": "https://localhost:8080/",
          "height": 209
        },
        "id": "17DUZs2QLxW-",
        "outputId": "789f3c14-9f7a-475c-8a55-611ce9feefff"
      },
      "source": [
        "for i in range(len(data.content)):\n",
        "  if len(data.token_content_okt[i]) <= 5:\n",
        "    print(i) "
      ],
      "execution_count": null,
      "outputs": [
        {
          "ename": "NameError",
          "evalue": "ignored",
          "output_type": "error",
          "traceback": [
            "\u001b[0;31m---------------------------------------------------------------------------\u001b[0m",
            "\u001b[0;31mNameError\u001b[0m                                 Traceback (most recent call last)",
            "\u001b[0;32m<ipython-input-13-56eb926074e4>\u001b[0m in \u001b[0;36m<module>\u001b[0;34m()\u001b[0m\n\u001b[0;32m----> 1\u001b[0;31m \u001b[0;32mfor\u001b[0m \u001b[0mi\u001b[0m \u001b[0;32min\u001b[0m \u001b[0mrange\u001b[0m\u001b[0;34m(\u001b[0m\u001b[0mlen\u001b[0m\u001b[0;34m(\u001b[0m\u001b[0mdata\u001b[0m\u001b[0;34m.\u001b[0m\u001b[0mcontent\u001b[0m\u001b[0;34m)\u001b[0m\u001b[0;34m)\u001b[0m\u001b[0;34m:\u001b[0m\u001b[0;34m\u001b[0m\u001b[0;34m\u001b[0m\u001b[0m\n\u001b[0m\u001b[1;32m      2\u001b[0m   \u001b[0;32mif\u001b[0m \u001b[0mlen\u001b[0m\u001b[0;34m(\u001b[0m\u001b[0mdata\u001b[0m\u001b[0;34m.\u001b[0m\u001b[0mtoken_content_okt\u001b[0m\u001b[0;34m[\u001b[0m\u001b[0mi\u001b[0m\u001b[0;34m]\u001b[0m\u001b[0;34m)\u001b[0m \u001b[0;34m<=\u001b[0m \u001b[0;36m5\u001b[0m\u001b[0;34m:\u001b[0m\u001b[0;34m\u001b[0m\u001b[0;34m\u001b[0m\u001b[0m\n\u001b[1;32m      3\u001b[0m     \u001b[0mprint\u001b[0m\u001b[0;34m(\u001b[0m\u001b[0mi\u001b[0m\u001b[0;34m)\u001b[0m\u001b[0;34m\u001b[0m\u001b[0;34m\u001b[0m\u001b[0m\n",
            "\u001b[0;31mNameError\u001b[0m: name 'data' is not defined"
          ]
        }
      ]
    },
    {
      "cell_type": "code",
      "metadata": {
        "id": "EhVjUfRTPKQD"
      },
      "source": [
        "data = data.drop([data.index[1905], data.index[2101]])"
      ],
      "execution_count": null,
      "outputs": []
    },
    {
      "cell_type": "code",
      "metadata": {
        "id": "eq4BqvIG9Idy"
      },
      "source": [
        "model = tp.LDAModel(k=20, alpha=0.1, eta=0.01, min_cf=5)\n",
        "# LDAModel을 생성\n",
        "# 토픽의 개수(k)는 20개, alpha 파라미터는 0.1, eta 파라미터는 0.01\n",
        "# 전체 말뭉치에 5회 미만 등장한 단어들은 제거"
      ],
      "execution_count": null,
      "outputs": []
    },
    {
      "cell_type": "code",
      "metadata": {
        "id": "3NC-roML9Wfb"
      },
      "source": [
        "for row in data.token_content_okt:\n",
        "    model.add_doc(row) # 행 별로 model에 추가합니다."
      ],
      "execution_count": null,
      "outputs": []
    },
    {
      "cell_type": "code",
      "metadata": {
        "colab": {
          "base_uri": "https://localhost:8080/"
        },
        "id": "jmH5G7vo-9uf",
        "outputId": "23b72d80-f8fb-43b1-a3c7-d89fe35c80e9"
      },
      "source": [
        "# model의 num_words나 num_vocabs 등은 train을 시작해야 확정됩니다.\n",
        "# 따라서 이 값을 확인하기 위해서 train(0)을 하여 실제 train은 하지 않고\n",
        "# 학습 준비만 시킵니다.\n",
        "# num_words, num_vocabs에 관심 없다면 이부분은 생략해도 됩니다.\n",
        "model.train(0) \n",
        "print('Total docs:', len(model.docs))\n",
        "print('Total words:', model.num_words)\n",
        "print('Vocab size:', model.num_vocabs)"
      ],
      "execution_count": null,
      "outputs": [
        {
          "name": "stdout",
          "output_type": "stream",
          "text": [
            "Total docs: 7693\n",
            "Total words: 3660832\n",
            "Vocab size: 15402\n"
          ]
        }
      ]
    },
    {
      "cell_type": "code",
      "metadata": {
        "id": "zeB6n38C_GS5"
      },
      "source": [
        "# 다음 구문은 train을 총 200회 반복하면서, \n",
        "# 매 단계별로 로그 가능도 값을 출력해줍니다.\n",
        "# 혹은 단순히 model.train(200)으로 200회 반복도 가능합니다.\n",
        "for i in range(200):\n",
        "    print('Iteration {}\\tLL per word: {}'.format(i, model.ll_per_word))\n",
        "    model.train(1)"
      ],
      "execution_count": null,
      "outputs": []
    },
    {
      "cell_type": "code",
      "metadata": {
        "colab": {
          "base_uri": "https://localhost:8080/"
        },
        "id": "A6AxxsXw_Jxg",
        "outputId": "58ba8148-0dcc-4c7b-e158-a862454611e2"
      },
      "source": [
        "# 학습된 토픽들을 출력해보도록 합시다.\n",
        "for i in range(model.k):\n",
        "    # 토픽 개수가 총 20개이니, 0~19번까지의 토픽별 상위 단어 10개를 뽑아봅시다.\n",
        "    res = model.get_topic_words(i, top_n=10)\n",
        "    print('Topic #{}'.format(i), end='\\t')\n",
        "    print(', '.join(w for w, p in res))"
      ],
      "execution_count": null,
      "outputs": [
        {
          "name": "stdout",
          "output_type": "stream",
          "text": [
            "Topic #0\t하다, 있다, 숙소, 좋다, 강릉, 먹다, 같다, 않다, 들다, 자다\n",
            "Topic #1\t하다, 있다, 곳, 것, 숙소, 같다, 좋다, 수, 공간, 감성\n",
            "Topic #2\t하다, 있다, 것, 없다, 같다, 않다, 보다, 방, 자다, 때\n",
            "Topic #3\t숙소, 에어비앤비, 하다, 있다, 감성, 예쁘다, 호스트, 집, 곳, 좋다\n",
            "Topic #4\t예약, 숙소, 스테이, 인, 하다, 기준, 가격, 감성, 최대, 박\n",
            "Topic #5\t하다, 이다, 있다, 수, 집, 공간, 되다, 보다, 마을, 만들다\n",
            "Topic #6\t제주, 숙소, 제주도, 하다, 감성, 있다, 여행, 좋다, 곳, 이다\n",
            "Topic #7\t하다, 진짜, 우리, 먹다, 넘다, 좋다, 찍다, 오다, 여기, 보다\n",
            "Topic #8\t먹다, 조식, 하다, 카페, 맛있다, 좋다, 있다, 가다, 예쁘다, 맛\n",
            "Topic #9\t있다, 하다, 되어다, 좋다, 공간, 수, 화장실, 주방, 준비, 층\n",
            "Topic #10\t하다, 있다, 펜션, 수영장, 아이, 좋다, 가족, 수, 놀다, 오다\n",
            "Topic #11\t하다, 우리, 보다, 여행, 좋다, 아침, 스테이, 날, 오다, 집\n",
            "Topic #12\t하다, 먹다, 준비, 커피, 있다, 집, 되어다, 날, 아침, 와인\n",
            "Topic #13\t뷰, 바다, 하다, 숙소, 보다, 오션, 층, 있다, 부산, 보이다\n",
            "Topic #14\t하다, 숙소, 좋다, 사진, 찍다, 저, 저희, 이쁘다, 진짜, 있다\n",
            "Topic #15\t하다, 바베큐, 펜션, 있다, 감성, 숙소, 고기, 먹다, 굽다, 캠핑\n",
            "Topic #16\t하다, 있다, 객실, 룸, 이용, 호텔, 되다, 체크, 수, 되어다\n",
            "Topic #17\t있다, 하다, 수, 옥, 숙소, 곳, 것, 좋다, 경주, 이다\n",
            "Topic #18\t하다, 남해, 있다, 풀, 빌라, 스파, 뷰, 펜션, 수, 여수\n",
            "Topic #19\t하다, 예약, 숙소, 탕, 사장, 노천, 있다, 날, 예쁘다, 비\n"
          ]
        }
      ]
    },
    {
      "cell_type": "markdown",
      "metadata": {
        "id": "DjLz56Iw_Pvf"
      },
      "source": [
        "# KIWI"
      ]
    },
    {
      "cell_type": "code",
      "metadata": {
        "id": "fSOP0pGeQifB"
      },
      "source": [
        "kiwidata = pd.read_csv('total_blog_dataset.csv')"
      ],
      "execution_count": null,
      "outputs": []
    },
    {
      "cell_type": "code",
      "metadata": {
        "id": "oOANissPRC21"
      },
      "source": [
        "kiwidata.drop('Unnamed: 0', axis=1, inplace=True)"
      ],
      "execution_count": null,
      "outputs": []
    },
    {
      "cell_type": "code",
      "metadata": {
        "colab": {
          "base_uri": "https://localhost:8080/",
          "height": 423
        },
        "id": "dR7gMsm2R1a9",
        "outputId": "3b902151-1a42-4435-87a7-dde6ed71fab0"
      },
      "source": [
        "kiwidata"
      ],
      "execution_count": null,
      "outputs": [
        {
          "data": {
            "text/html": [
              "<div>\n",
              "<style scoped>\n",
              "    .dataframe tbody tr th:only-of-type {\n",
              "        vertical-align: middle;\n",
              "    }\n",
              "\n",
              "    .dataframe tbody tr th {\n",
              "        vertical-align: top;\n",
              "    }\n",
              "\n",
              "    .dataframe thead th {\n",
              "        text-align: right;\n",
              "    }\n",
              "</style>\n",
              "<table border=\"1\" class=\"dataframe\">\n",
              "  <thead>\n",
              "    <tr style=\"text-align: right;\">\n",
              "      <th></th>\n",
              "      <th>content</th>\n",
              "    </tr>\n",
              "  </thead>\n",
              "  <tbody>\n",
              "    <tr>\n",
              "      <th>0</th>\n",
              "      <td>['여행', '다녀오다', '게으르다', '여행', '고민', '바라다', '올리다...</td>\n",
              "    </tr>\n",
              "    <tr>\n",
              "      <th>1</th>\n",
              "      <td>['다녀오다', '후기', '휴가', '틈나다', '호캉스', '다녀오다', '다녀...</td>\n",
              "    </tr>\n",
              "    <tr>\n",
              "      <th>2</th>\n",
              "      <td>['여행', '쓰다', '거', '고르다', '아무래도', '여행', '주제', '...</td>\n",
              "    </tr>\n",
              "    <tr>\n",
              "      <th>3</th>\n",
              "      <td>['오늘', '지나다', '휴가', '찐친', '다녀오다', '메이킷슬', '후기'...</td>\n",
              "    </tr>\n",
              "    <tr>\n",
              "      <th>4</th>\n",
              "      <td>['지인', '소개', '#시우재', '마침', '이것저것', '기념일', '재다'...</td>\n",
              "    </tr>\n",
              "    <tr>\n",
              "      <th>...</th>\n",
              "      <td>...</td>\n",
              "    </tr>\n",
              "    <tr>\n",
              "      <th>3731</th>\n",
              "      <td>['국내', '여행지', '여행', '맨션자두', '들어가다', '커다랗다', '널...</td>\n",
              "    </tr>\n",
              "    <tr>\n",
              "      <th>3732</th>\n",
              "      <td>['영이', '분기', '여행', '스테이솔', '여행지', '편', '영이', '...</td>\n",
              "    </tr>\n",
              "    <tr>\n",
              "      <th>3733</th>\n",
              "      <td>['다귀', '쉼터', '오늘', '째', '하얗다', '외관', '매듭', '스무...</td>\n",
              "    </tr>\n",
              "    <tr>\n",
              "      <th>3734</th>\n",
              "      <td>['아파트먼트', '여행', '자주', '불구', '잡다', '놀다', '거', '...</td>\n",
              "    </tr>\n",
              "    <tr>\n",
              "      <th>3735</th>\n",
              "      <td>['포도봉', '미루다', '미루다', '숙소콕', '여행', '다행', '맞추다'...</td>\n",
              "    </tr>\n",
              "  </tbody>\n",
              "</table>\n",
              "<p>3736 rows × 1 columns</p>\n",
              "</div>"
            ],
            "text/plain": [
              "                                                content\n",
              "0     ['여행', '다녀오다', '게으르다', '여행', '고민', '바라다', '올리다...\n",
              "1     ['다녀오다', '후기', '휴가', '틈나다', '호캉스', '다녀오다', '다녀...\n",
              "2     ['여행', '쓰다', '거', '고르다', '아무래도', '여행', '주제', '...\n",
              "3     ['오늘', '지나다', '휴가', '찐친', '다녀오다', '메이킷슬', '후기'...\n",
              "4     ['지인', '소개', '#시우재', '마침', '이것저것', '기념일', '재다'...\n",
              "...                                                 ...\n",
              "3731  ['국내', '여행지', '여행', '맨션자두', '들어가다', '커다랗다', '널...\n",
              "3732  ['영이', '분기', '여행', '스테이솔', '여행지', '편', '영이', '...\n",
              "3733  ['다귀', '쉼터', '오늘', '째', '하얗다', '외관', '매듭', '스무...\n",
              "3734  ['아파트먼트', '여행', '자주', '불구', '잡다', '놀다', '거', '...\n",
              "3735  ['포도봉', '미루다', '미루다', '숙소콕', '여행', '다행', '맞추다'...\n",
              "\n",
              "[3736 rows x 1 columns]"
            ]
          },
          "execution_count": 40,
          "metadata": {},
          "output_type": "execute_result"
        }
      ]
    },
    {
      "cell_type": "code",
      "metadata": {
        "id": "E7xjMEiBSsdR"
      },
      "source": [
        "#\"\"\"한글빼고 전부 제거\"\"\"\n",
        "def sub_special(s):\n",
        "  return re.sub(r'[^ㄱ-ㅎㅏ-ㅣ가-힣]',' ',s).strip().split()"
      ],
      "execution_count": null,
      "outputs": []
    },
    {
      "cell_type": "code",
      "metadata": {
        "id": "71f3huevTo44"
      },
      "source": [
        "for i in range(len(kiwidata)):\n",
        "  kiwidata.content[i] = sub_special(kiwidata.content[i])"
      ],
      "execution_count": null,
      "outputs": []
    },
    {
      "cell_type": "code",
      "metadata": {
        "id": "YIG8pgA5UKzw"
      },
      "source": [
        "for i in range(len(kiwidata)): #불용어 제거\n",
        "  result = []\n",
        "  for w in kiwidata.content[i]:\n",
        "    if w not in stopwords:\n",
        "      result.append(w)\n",
        "    kiwidata.content[i] = result"
      ],
      "execution_count": null,
      "outputs": []
    },
    {
      "cell_type": "code",
      "metadata": {
        "id": "IJvUCsT1UcNb"
      },
      "source": [
        "sample = kiwidata.copy()"
      ],
      "execution_count": null,
      "outputs": []
    },
    {
      "cell_type": "code",
      "metadata": {
        "id": "VEpCtJe7WgCt"
      },
      "source": [
        ""
      ],
      "execution_count": null,
      "outputs": []
    },
    {
      "cell_type": "markdown",
      "metadata": {
        "id": "_3AkmoStWmyV"
      },
      "source": [
        "#TOMOTOPY_LDA_KIWI"
      ]
    },
    {
      "cell_type": "code",
      "metadata": {
        "colab": {
          "base_uri": "https://localhost:8080/"
        },
        "id": "4jLEL0wYWmyW",
        "outputId": "7cf14de1-4c75-4fe3-baff-d341b47da839"
      },
      "source": [
        "! pip install tomotopy #호출\n",
        "import tomotopy as tp"
      ],
      "execution_count": null,
      "outputs": [
        {
          "name": "stdout",
          "output_type": "stream",
          "text": [
            "Requirement already satisfied: tomotopy in /usr/local/lib/python3.7/dist-packages (0.12.2)\n",
            "Requirement already satisfied: numpy>=1.11.0 in /usr/local/lib/python3.7/dist-packages (from tomotopy) (1.21.2)\n"
          ]
        }
      ]
    },
    {
      "cell_type": "code",
      "metadata": {
        "colab": {
          "base_uri": "https://localhost:8080/"
        },
        "id": "m1EIcf3rWmyW",
        "outputId": "f84d68d2-e1c1-4e39-9aee-d46b6b6f656a"
      },
      "source": [
        "for i in range(len(sample.content)): # 빈 리스트 확인\n",
        "  if len(sample.content[i]) <= 5:\n",
        "    print(i)"
      ],
      "execution_count": null,
      "outputs": [
        {
          "name": "stdout",
          "output_type": "stream",
          "text": [
            "1855\n",
            "3400\n"
          ]
        }
      ]
    },
    {
      "cell_type": "code",
      "metadata": {
        "id": "mTNJzuSWWmyW"
      },
      "source": [
        "sample = sample.drop([sample.index[1855],sample.index[3400]])"
      ],
      "execution_count": null,
      "outputs": []
    },
    {
      "cell_type": "code",
      "metadata": {
        "colab": {
          "base_uri": "https://localhost:8080/",
          "height": 423
        },
        "id": "nCmFFB8TbIBu",
        "outputId": "2fc4456a-ec29-495e-fef2-260d3e695567"
      },
      "source": [
        "sample"
      ],
      "execution_count": null,
      "outputs": [
        {
          "data": {
            "text/html": [
              "<div>\n",
              "<style scoped>\n",
              "    .dataframe tbody tr th:only-of-type {\n",
              "        vertical-align: middle;\n",
              "    }\n",
              "\n",
              "    .dataframe tbody tr th {\n",
              "        vertical-align: top;\n",
              "    }\n",
              "\n",
              "    .dataframe thead th {\n",
              "        text-align: right;\n",
              "    }\n",
              "</style>\n",
              "<table border=\"1\" class=\"dataframe\">\n",
              "  <thead>\n",
              "    <tr style=\"text-align: right;\">\n",
              "      <th></th>\n",
              "      <th>content</th>\n",
              "    </tr>\n",
              "  </thead>\n",
              "  <tbody>\n",
              "    <tr>\n",
              "      <th>0</th>\n",
              "      <td>[여행, 다녀오다, 게으르다, 여행, 고민, 바라다, 올리다, 오늘, 리뷰, 편안,...</td>\n",
              "    </tr>\n",
              "    <tr>\n",
              "      <th>1</th>\n",
              "      <td>[다녀오다, 후기, 휴가, 틈나다, 호캉스, 다녀오다, 다녀오다, 주변, 아고다, ...</td>\n",
              "    </tr>\n",
              "    <tr>\n",
              "      <th>2</th>\n",
              "      <td>[여행, 고르다, 아무래도, 여행, 주제, 자체, 쉬, 편안, 쉬다, 중요, 부분,...</td>\n",
              "    </tr>\n",
              "    <tr>\n",
              "      <th>3</th>\n",
              "      <td>[오늘, 지나다, 휴가, 찐친, 다녀오다, 메이킷슬, 후기, 돈, 산, 스타, 인테...</td>\n",
              "    </tr>\n",
              "    <tr>\n",
              "      <th>4</th>\n",
              "      <td>[지인, 소개, 시우재, 마침, 이것저것, 기념일, 재다, 날, 다녀오다, 멀리, ...</td>\n",
              "    </tr>\n",
              "    <tr>\n",
              "      <th>...</th>\n",
              "      <td>...</td>\n",
              "    </tr>\n",
              "    <tr>\n",
              "      <th>3731</th>\n",
              "      <td>[국내, 여행지, 여행, 맨션자두, 들어가다, 커다랗다, 널판지, 깔다, 발, 편하...</td>\n",
              "    </tr>\n",
              "    <tr>\n",
              "      <th>3732</th>\n",
              "      <td>[영이, 분기, 여행, 스테이솔, 여행지, 편, 영이, 퇴근, 오빠, 먼저, 카페,...</td>\n",
              "    </tr>\n",
              "    <tr>\n",
              "      <th>3733</th>\n",
              "      <td>[다귀, 쉼터, 오늘, 째, 하얗다, 외관, 매듭, 스무, 날, 시장, 포장, 시장...</td>\n",
              "    </tr>\n",
              "    <tr>\n",
              "      <th>3734</th>\n",
              "      <td>[아파트먼트, 여행, 자주, 불구, 잡다, 놀다, 처음, 고르다, 급하다, 잡다, ...</td>\n",
              "    </tr>\n",
              "    <tr>\n",
              "      <th>3735</th>\n",
              "      <td>[포도봉, 미루다, 미루다, 숙소콕, 여행, 다행, 맞추다, 다녀오다, 찾다, 정말...</td>\n",
              "    </tr>\n",
              "  </tbody>\n",
              "</table>\n",
              "<p>3734 rows × 1 columns</p>\n",
              "</div>"
            ],
            "text/plain": [
              "                                                content\n",
              "0     [여행, 다녀오다, 게으르다, 여행, 고민, 바라다, 올리다, 오늘, 리뷰, 편안,...\n",
              "1     [다녀오다, 후기, 휴가, 틈나다, 호캉스, 다녀오다, 다녀오다, 주변, 아고다, ...\n",
              "2     [여행, 고르다, 아무래도, 여행, 주제, 자체, 쉬, 편안, 쉬다, 중요, 부분,...\n",
              "3     [오늘, 지나다, 휴가, 찐친, 다녀오다, 메이킷슬, 후기, 돈, 산, 스타, 인테...\n",
              "4     [지인, 소개, 시우재, 마침, 이것저것, 기념일, 재다, 날, 다녀오다, 멀리, ...\n",
              "...                                                 ...\n",
              "3731  [국내, 여행지, 여행, 맨션자두, 들어가다, 커다랗다, 널판지, 깔다, 발, 편하...\n",
              "3732  [영이, 분기, 여행, 스테이솔, 여행지, 편, 영이, 퇴근, 오빠, 먼저, 카페,...\n",
              "3733  [다귀, 쉼터, 오늘, 째, 하얗다, 외관, 매듭, 스무, 날, 시장, 포장, 시장...\n",
              "3734  [아파트먼트, 여행, 자주, 불구, 잡다, 놀다, 처음, 고르다, 급하다, 잡다, ...\n",
              "3735  [포도봉, 미루다, 미루다, 숙소콕, 여행, 다행, 맞추다, 다녀오다, 찾다, 정말...\n",
              "\n",
              "[3734 rows x 1 columns]"
            ]
          },
          "execution_count": 68,
          "metadata": {},
          "output_type": "execute_result"
        }
      ]
    },
    {
      "cell_type": "code",
      "metadata": {
        "id": "5zK7R2l8WmyW"
      },
      "source": [
        "model = tp.LDAModel(k=20, alpha=0.1, eta=0.01, min_cf=3, )\n",
        "# LDAModel을 생성\n",
        "# 토픽의 개수(k)는 20개, alpha 파라미터는 0.1, eta 파라미터는 0.01\n",
        "# 전체 말뭉치에 5회 미만 등장한 단어들은 제거"
      ],
      "execution_count": null,
      "outputs": []
    },
    {
      "cell_type": "code",
      "metadata": {
        "id": "Vcfup1psWmyW"
      },
      "source": [
        "for row in sample.content:\n",
        "    model.add_doc(row) # 행 별로 model에 추가합니다."
      ],
      "execution_count": null,
      "outputs": []
    },
    {
      "cell_type": "code",
      "metadata": {
        "colab": {
          "base_uri": "https://localhost:8080/"
        },
        "id": "FPiLODgGWmyW",
        "outputId": "1da7c5be-b982-4ead-9500-dd089f7777e8"
      },
      "source": [
        "# model의 num_words나 num_vocabs 등은 train을 시작해야 확정됩니다.\n",
        "# 따라서 이 값을 확인하기 위해서 train(0)을 하여 실제 train은 하지 않고\n",
        "# 학습 준비만 시킵니다.\n",
        "# num_words, num_vocabs에 관심 없다면 이부분은 생략해도 됩니다.\n",
        "model.train(0) \n",
        "print('Total docs:', len(model.docs))\n",
        "print('Total words:', model.num_words)\n",
        "print('Vocab size:', model.num_vocabs)"
      ],
      "execution_count": null,
      "outputs": [
        {
          "name": "stdout",
          "output_type": "stream",
          "text": [
            "Total docs: 3734\n",
            "Total words: 878275\n",
            "Vocab size: 14259\n"
          ]
        }
      ]
    },
    {
      "cell_type": "code",
      "metadata": {
        "id": "oOInH6DZWmyW"
      },
      "source": [
        "# 다음 구문은 train을 총 200회 반복하면서, \n",
        "# 매 단계별로 로그 가능도 값을 출력해줍니다.\n",
        "# 혹은 단순히 model.train(200)으로 200회 반복도 가능합니다.\n",
        "for i in range(1000):\n",
        "    print('Iteration {}\\tLL per word: {}'.format(i, model.ll_per_word))\n",
        "    model.train(1)"
      ],
      "execution_count": null,
      "outputs": []
    },
    {
      "cell_type": "code",
      "metadata": {
        "colab": {
          "base_uri": "https://localhost:8080/"
        },
        "id": "D2wD0hd_WmyX",
        "outputId": "e4cc58f5-b3cb-4a1b-f242-b8477c7ec9d3"
      },
      "source": [
        "# 학습된 토픽들을 출력해보도록 합시다.\n",
        "for i in range(model.k):\n",
        "    # 토픽 개수가 총 20개이니, 0~19번까지의 토픽별 상위 단어 10개를 뽑아봅시다.\n",
        "    res = model.get_topic_words(i, top_n=10)\n",
        "    print('Topic #{}'.format(i), end='\\t')\n",
        "    print(', '.join(w for w, p in res))"
      ],
      "execution_count": null,
      "outputs": [
        {
          "name": "stdout",
          "output_type": "stream",
          "text": [
            "Topic #0\t공간, 책, 채, 독, 읽다, 현재, 스타, 공휴일, 편, 요금\n",
            "Topic #1\t캠핑, 리조트, 반, 카라, 캠프, 도토리, 산방산, 별장, 막, 안면도\n",
            "Topic #2\t님, 사장, 정말, 여행, 예쁘다, 친절, 날, 꼭, 찾다, 직접\n",
            "Topic #3\t수영장, 놀다, 스파, 물놀이, 바베큐, 즐기다, 야외, 풀장, 가족, 여름\n",
            "Topic #4\t먹다, 날, 아침, 예쁘다, 찍다, 친구, 저녁, 맛있다, 그냥, 날씨\n",
            "Topic #5\t찍다, 넘다, 이쁘다, 예쁘다, 먹다, 맘, 정말, 근데, 밤, 스타\n",
            "Topic #6\t욕조, 탕, 자쿠지, 반신, 야외, 침실, 욕, 정말, 즐기다, 욕실\n",
            "Topic #7\t여행, 찾다, 숙박, 후기, 참고, 깔끔, 편, 건물, 요즘, 넓다\n",
            "Topic #8\t와인, 째, 파티, 잔, 촬영, 호스트, 카페, 케이크, 첫, 맛\n",
            "Topic #9\t한옥, 마당, 채, 황리단, 독, 마루, 문, 황리단길, 한옥스테, 느끼다\n",
            "Topic #10\t공간, 예쁘다, 거실, 침실, 인테리어, 커피, 침대, 조명, 정말, 소품\n",
            "Topic #11\t바베큐, 먹다, 굽다, 불, 야외, 미리, 맛있다, 마트, 캠핑, 숯\n",
            "Topic #12\t돌담, 민박, 채, 거리, 동쪽, 애, 제주감성숙소, 독, 서쪽, 마당\n",
            "Topic #13\t숲, 라운드, 캠핑, 폴리, 카페, 언니, 오두막, 즐기다, 팜, 맥주\n",
            "Topic #14\t침대, 옆, 문, 수건, 사용, 들어가다, 냉장고, 주차, 열다, 샴푸\n",
            "Topic #15\t가족, 여행, 엄마, 님, 아기, 놀다, 꽃, 좋아하다, 손, 마음\n",
            "Topic #16\t바다, 오션뷰, 해변, 노을, 카페, 해수욕장, 테라스, 거제도, 바라보다, 날씨\n",
            "Topic #17\t조식, 먹다, 카페, 맛있다, 맛, 아침, 커피, 제공, 예쁘다, 음료\n",
            "Topic #18\t공간, 느끼다, 풍경, 즐기다, 마음, 여행, 정말, 분위기, 편안, 힐링\n",
            "Topic #19\t광안리, 야경, 광안대교, 스다, 오션뷰, 해운대, 헤이, 깨끗, 울릉도, 윤슬\n"
          ]
        }
      ]
    },
    {
      "cell_type": "markdown",
      "metadata": {
        "id": "NBAueqUoSSl7"
      },
      "source": [
        "## 작업중"
      ]
    },
    {
      "cell_type": "code",
      "metadata": {
        "id": "tAtGyU9zQy4A"
      },
      "source": [
        "extractor = tp.label.PMIExtractor(min_cf=10, min_df=5, max_len=5, max_cand=10000)\n",
        "cands = extractor.extract(model)"
      ],
      "execution_count": null,
      "outputs": []
    },
    {
      "cell_type": "code",
      "metadata": {
        "id": "HwbeZ4_eQ0V1"
      },
      "source": [
        "labeler = tp.label.FoRelevance(model, cands, min_df=5, smoothing=1e-2, mu=0.25)\n",
        "for k in range(model.k):\n",
        "    print(\"== Topic #{} ==\".format(k))\n",
        "    print(\"Labels:\", ', '.join(label for label, score in labeler.get_topic_labels(k, top_n=5)))\n",
        "    for word, prob in model.get_topic_words(k, top_n=10):\n",
        "        print(word, prob, sep='\\t')\n",
        "    print()"
      ],
      "execution_count": null,
      "outputs": []
    },
    {
      "cell_type": "code",
      "metadata": {
        "id": "nfrebpiWbWsy"
      },
      "source": [
        "model.summary()"
      ],
      "execution_count": null,
      "outputs": []
    },
    {
      "cell_type": "code",
      "metadata": {
        "id": "94abENWgkPRu"
      },
      "source": [
        "model.save('Kiwi_model', full=True) #모델 저장  "
      ],
      "execution_count": null,
      "outputs": []
    },
    {
      "cell_type": "code",
      "metadata": {
        "colab": {
          "base_uri": "https://localhost:8080/"
        },
        "id": "d_ClxwBUk3cJ",
        "outputId": "2cbe4078-b8d8-439a-b4c1-74b1e565fb00"
      },
      "source": [
        "model.load('Kiwi_model') # 모델 확인"
      ],
      "execution_count": null,
      "outputs": [
        {
          "data": {
            "text/plain": [
              "<tomotopy.LDAModel at 0x7f1557d72a30>"
            ]
          },
          "execution_count": 90,
          "metadata": {},
          "output_type": "execute_result"
        }
      ]
    },
    {
      "cell_type": "code",
      "metadata": {
        "colab": {
          "base_uri": "https://localhost:8080/"
        },
        "id": "7TZ9SixPcHwX",
        "outputId": "c524e21a-e726-477a-d4f5-32b7c5a84f4a"
      },
      "source": [
        "topic_term_dists = np.stack([model.get_topic_word_dist(k) for k in range(model.k)])\n",
        "doc_topic_dists = np.stack([doc.get_topic_dist() for doc in model.docs])\n",
        "doc_topic_dists /= doc_topic_dists.sum(axis=1, keepdims=True)\n",
        "doc_lengths = np.array([len(doc.words) for doc in model.docs])\n",
        "vocab = list(model.used_vocabs)\n",
        "term_frequency = model.used_vocab_freq\n",
        "\n",
        "prepared_data = pyLDAvis.prepare(\n",
        "    topic_term_dists, \n",
        "    doc_topic_dists, \n",
        "    doc_lengths, \n",
        "    vocab, \n",
        "    term_frequency,\n",
        "    start_index=0, # tomotopy starts topic ids with 0, pyLDAvis with 1\n",
        "    sort_topics=False # IMPORTANT: otherwise the topic_ids between pyLDAvis and tomotopy are not matching!\n",
        ")\n",
        "pyLDAvis.save_html(prepared_data, 'ldavis.html')"
      ],
      "execution_count": null,
      "outputs": [
        {
          "name": "stderr",
          "output_type": "stream",
          "text": [
            "/usr/local/lib/python3.7/dist-packages/pyLDAvis/_prepare.py:247: FutureWarning: In a future version of pandas all arguments of DataFrame.drop except for the argument 'labels' will be keyword-only\n",
            "  by='saliency', ascending=False).head(R).drop('saliency', 1)\n"
          ]
        }
      ]
    },
    {
      "cell_type": "code",
      "metadata": {
        "id": "C2vSY3LJjk5s"
      },
      "source": [
        "corpus = tp.utils.Corpus"
      ],
      "execution_count": null,
      "outputs": []
    },
    {
      "cell_type": "code",
      "metadata": {
        "colab": {
          "base_uri": "https://localhost:8080/"
        },
        "id": "kMFaWXhahdGO",
        "outputId": "7b348377-6284-41da-9325-d0e5166f0aef"
      },
      "source": [
        "print(model.docs[0].get_topics(top_n=10))"
      ],
      "execution_count": null,
      "outputs": [
        {
          "name": "stdout",
          "output_type": "stream",
          "text": [
            "[(10, 0.3178355395793915), (4, 0.23820257186889648), (7, 0.14527814090251923), (14, 0.10502802580595016), (18, 0.08191966265439987), (5, 0.07213354855775833), (15, 0.014537646435201168), (0, 0.009749816730618477), (8, 0.005558096803724766), (2, 0.0027600270695984364)]\n"
          ]
        }
      ]
    },
    {
      "cell_type": "code",
      "metadata": {
        "id": "QyUYlXjvINqr"
      },
      "source": [
        "# 먼저 토픽 개수만큼 공간을 만들어줍니다.\n",
        "buckets = [[] for _ in range(model.k)]\n",
        "# 전체 문헌에 대해, top 1 주제 번호를 찾아 그 그룹에 해당 문헌을 포함시킵니다.\n",
        "for i, d in enumerate(model.docs):\n",
        "    buckets[d.get_topics(top_n=1)[0][0]].append([i,d])"
      ],
      "execution_count": null,
      "outputs": []
    },
    {
      "cell_type": "code",
      "metadata": {
        "colab": {
          "base_uri": "https://localhost:8080/"
        },
        "id": "rIEkHWHNISch",
        "outputId": "b99c90d1-db01-4ef3-dd38-5b1ec7a217fc"
      },
      "source": [
        "for i in range(model.k):\n",
        "    model.docs[]"
      ],
      "execution_count": null,
      "outputs": [
        {
          "name": "stdout",
          "output_type": "stream",
          "text": [
            "[1, <tomotopy.Document with words=\"다녀오다 후기 휴가 틈나다 호캉스 다녀오다 다녀오다 주변 아고다 코드 사용 어쩌다 걱정 다행히 하늘 맑다 푸르다 기분 멀리 타워 여행 설레다 휴가 그랜드 하얏트 처음 역시 고급 짐 물씬 외관 성급이 푸르르다 숲 넓다 한적 돋보이다 주차장 여러 군데 들어가다 가까이 주차 그랜드 볼룸 파킹장소 상관없다 걸어가다 단점 나무 산책 지나다 입구 도착 코시국 호캉스 얘기 아고다 코드 아니겠죵 옆 성급 떡 붙다 돈 벌다 자주 징 로비 들어가다 우와 엄청 넓다 왼편 전망 카페 비싸다 부자 봄 체크인 맞추다 숙박 객 기다리다 번호 표 뽑다 웨이팅 체크인 숙박 카드 작성 자세 설명 듣다 워낙 비싸다 조식 조식 손 떨리다 패키지 결제 여러 숙박 어프 사용 아고다 쿠폰 성숙도 꼭 들어가다 적용 코드 입력 방식 설명 하단 위켄드 세일 적용 혜택 폭 넘어가다 저렴 친구 리셉션 마무리 돌아다니다 찍다 전경 망고빙수 먹다 넘다 포기 조심 엘리베이터 역시 고급 복도 인테리어 다르다 볼일 책 지식인 복도 넓다 웅장 레이 트다 아웃 손 님 계시다 아직 모습 남산뷰 복도 중심 양쪽 짝수 한강뷰 홀수 남산뷰 비싸다 한강뷰 꼭 이용해줄껭 깔끔 넓다 이쁘다 깨끗 모든 칭찬 쏟다 부족 야경 즐기다 아고다 코드 얼리다 버드 미 돋보이다 욕실 침대 왼쪽 전반 인테리어 동서양 골 고루 섞다 으르다 테이블 고전적이쥬 넓다 협탁 소지품 올려놓다 사용 편하다 콘센트 침대 사이드 배치 충전 편하다 티비 선반 넓다 짐 올리다 옷장 옆 선반 생수 병 놓이다 무료 옆 돌체구스 토 캡슐 서랍 캡슐 찾아보다 세 독특 디자인 물품 보관 함 냉장고 열다 음료 맥주 스파클링 다양 음료 꽉 채우다 미니바 유료 캔 콜라 천 조심 히 드세다 바스가운 도톰 부드럽다 재질 수영장 요거 돌아다니다 코시국 샤워실 씻다 당황 커튼 프라이버시 보호 걱정 문 열다 정면 갤러리 디자인 욕실 펼치다 그림 아래 버튼 커튼 버튼 샤워 왼쪽 욕조 샤워실 오른쪽 세면대 변기 비데 미리 세면대 상태 굿 넓다 거울 파우터룸 겸용 사용 아고다 코드 저렴 뿌듯 아래 서랍 기본 욕실 어메니티 요기 치약 칫솔 세트 솜 샤워헤드 캡 헤어드라이어 바람 세기 약하다 만족 샤워실 욕조 한강씨티뷰 부스 암튼 커튼 욕조 타입 샴푸 컨디셔 바디워 바디로션 비치 고급 발망 제품 은은 럭셔리 넘다 가져오다 저녁 주변 식당 알아보다 산책 남산공원 피톤치드 바퀴 산책 나무 꽃 향기 맡다 기분 건너 경리단길 둘러보다 문 닫다 넘다 휑하다 얼른 가게 활기 띄다 터 아고다 코드 다녀오다\">]\n",
            "[17, <tomotopy.Document with words=\"농원 파머스 빌리다 쵸 멀다 즐겁다 추억 넘다 꼭 외국 농장 목장 비쥬얼 다양 체험 매년 새롭다 시설 업그레이드 매력 넘치다 스파 수영장 글램핑 매력 제대로 느끼다 파머스 빌리다 숙박 꼭 전반 풍경 수영장 물놀이 다녀오다 내용 아래 포스 팅 먼저 읽다 도착 입구 우측 방향 파머스빌리 숙박 농원 무료 체크인전 미리 돌아다니다 체크인 기다리다 주변 둘러보다 풍경 절로 힐링 기분 유럽 우드우드 통유리 하늘 산 반영 더욱 울다 꼬맹이 풍경 의자 앉다 감상 한참 저러다 체크인 진행 매일유업 폴바 커피 다양 브랜드 먹거리 판매 올라가다 탁구대 자체 극장 미리 돌아다니다 좋아서 패쓰 숙박 테라스룸 요금 지불 관계 없이 가족 패밀리 풍경 테라스 딸리다 커피 잔 멍때리기 전체 컨디션 건물 마찬가지 깔끔 정돈 노출 콘크리트 벽면 우드우드함 은은 침대 싱글 가족 붙이다 사용 붙이다 침대 헤드 콘센트 충분 은은 조명 올 분위기 침대 맞은편 크기 어린이 프로그램 시청 편안 아가아가 막 때리다 난리 얌전 히 한쪽 벽면 심플 벤치 간이 테이블 맞은편 벽면 공간 책상 간단 노트북 작업 리플릿 안내문 걸리다 아늑 조명 토분 담기다 조경 어우르다 공간 편안 욕실 우드 타일 조합 예쁘다 깔끔 대충 짐 꼭 경험 스파 코로나 타임 씩 한적 카운터 바코드 발급 무인 시스템 아름 피아노 음악 흐르다 대나무 숲 두르다 쌓이다 야외 탕 홀로 앉다 천국 따로 경험 파머스글램핑 산책 둘러보다 수영장 다음날 아침 일찍 조식 창가 자리 잡다 종류 다양 편 전체 조식 퀄리티 나쁘다 매일유업 제품 상하농원 판매 햄 젓갈 여러 종류 즐기다 탱글 소시지 샐러드 베이커리 맛있다 아침 아름답다 풍경 즐기다 할로윈 작년 할로윈 시즌 다녀오다 아래 참고 넘다 넘다 좋아하다 분장 돌아다니다 인기 이미 너무너무 추억 상하농원 파머스빌리 개인 가족 여행지 근처 해변 선운사 아름 여행지 여행 참고\">]\n",
            "[18, <tomotopy.Document with words=\"후기 다녀오다 예약어 프다 데일리 타입 호실 침대 공용 경포 해변 도보 거리 오션뷰 경포대 근처 편하다 경포 해변 경포 호수 도보 거리 단독 건물 건물 공용 테라스 바베큐 갖추다 건물 로비 들어오다 순간 갤러리 미술관 외국 장점 개인 갖추다 짧다 여행 맛 다니다 바쁘다 저녁 아침 간단 공용 기본 도구 조미료 갖추다 소금 식용유 도구 사용 깨끗이 설거지 공용 냉장고 바베큐 식 재료 보관 맨날 압력 밥솥 전자레인지 간단 조식 먹다 깨끗 코로나 공용 걱정 말끔 공용 냉장고 보관 식빵 아침 일찍 일어나다 시작 조식 조식 제공 공용 넘다 직접 아침 먹다 재밌다 편의점 도보 거리 주변 마트 음식점 처음 단독 동떨어지다 걱정 전혀 문제없다 음 밑 수납장 다양 식기구류 깨끗 사용 잘만들어싿 플레이 팅 접시 라탄쟁 반 처음 이쁘다 호방 테라스 붙다 개별 테라스 요즘 날씨 즐기다 찻길 전혀 시끄럽다 거리 멀다 전혀 은근히 쪽 경포대 찾다 밤 깨끗 너무이뻣 따다 칫솔 치약 개인 기본 샴푸 린스 바디워 비누 갖추다 샤워가운 머무르다 충분 크기 청결 상태 사장 님 엄 친절 비수기 가격대 괜찮다 자리 서두르다 햇빛 들어오다 통유리 커튼 열다 닫다 사생활 보호 아쉽다 들어오다 아침 커튼 치다 눈 부시다 침구 류 푹신푹신 편하다 전체 더블베드 테이블 간단 맥주 잔 잠들다 게스트하우스 요즘 확실히 여행 중요 테라스 올라가다 계단 쪽 아침 광합성 먹다 테라스 먹다 넘다 담 재 프다 바베큐 비용 사장 님 말씀\">]\n",
            "[25, <tomotopy.Document with words=\"여행 편하다 황룡사 목탑 예쁘다 타이틀 어울리다 스타 올리다 여쭈다 포스 팅 명상 수행 프로그램 진행 연수원 쓰이다 관광객 인기 복원 황룡사 목탑 한옥 현대 식 재 해석 갬 가득 분위기 보문관광단지 랜드마크 자리 과언 재 더블 침대 놓이다 실장 테이블 놓이다 정면 한옥 문 열다 가득 황룡사 목탑 복원 건물 뙇 한옥 터 시설 뜨겁다 깔끔 맘 샴푸 린스 바디워 치약 칫솔 세트 수건 기본 어메니티 발코니 맞닿다 춥다 침대 아침 일어나다 눕다 목탑뷰 용도 잠 침대 날씨 다녀가다 여행 발코니 시설 따뜻 춥다 않아써 널찍 원룸 형 구조 전신 거울 요기 맛 어요 황리단길 뺑 치다 돌아오다 땀 범벅 꼴 쥐 거셀 찍고싶규 여행 켜다 여기저기 구경 다니다 찍다 놀다 부부 여행 코스 소듕 겁나다 스파르타 여행 티백 컵 커피포트 센스 발코니 열다 나가다 한옥 스타일 테라스 멋있다 음 재 테라스 랜드마크 건물 실제로 예쁘다 예쁘다 기분 날씨 끝내다 실제 눈 담다 훨 멋 테라스 우측 옥개 충만 한옥 라궁 라궁 담 기회 폿 팅 댓글 꿀 팁 풀어보겟슴 건물 한옥 건축 모습 새삼 놀랍다 건축물 현대 과학 기술 건축 공법 적용 멋있다 전형 온고지신 건축물 지하 주차장 건물 저녁 테라스 먹태 맥주 캔 따다 천국 희망 사항 담 날 아침 일어나다 눈 담아오구 중요 궁금하셨됴 오래 찾다 기억 검색 사이트 뜨다 특이 사이트 미리 개월 확인 확정 결제 신혼여행 개월 일찍 확정 개월 인기 부지런히 여행 처음 한옥 예쁘다 추억 강추드려보 숙박 후기 바라다 리뷰 끄적이다 좋아요 댓글 공유 함 힘 아디오스\">]\n",
            "[37, <tomotopy.Document with words=\"코시국 인하다 해외 여행 펼쳐지다 회사 다니다 휴가 휴가 그냥 아쉽다 휴가 시즌 고민 권 멀다 다르다 자동차 장점 국내 여행지 차지 오늘 여행 이야기 시작 봄 리 번호 찾다 개인 연락 입금 시스템 참고 여행 내륙 여행 따로 비행기 렌트 필요 계획 중요 오늘 소개 여행 하이라이트 여행 코스 잡다 괜찮다 선택 스테이와 봄 아무래도 여행 버스 자동차 터 스테이와봄 주차 공간 넉넉 히 주차공간 총 옆 주차 칸 주차 자르다 건물 옆 주차 공간 주차 걱정 목적지 설정 도착 자동차 주차 이후 사장 님 체크인 진행 터 체크인 옆 딸리다 카페 진행 터 도착 카페 들어오다 사장 님 친절 웰컴티 간단 주전부리 챙기다 아무래도 카페 운영 분위기 웰컴티 즐기다 아마 전체 사장 님 진행 묻다 와봄 운영 숫자 나뉘다 차이 선택 체크인 진행 전달 키 문 열다 들어가다 현관문 신발장 꾸미다 놀다 아무래도 타이틀 잡다 그냥 일반 비교 인테리어 매력 전체 살피다 동영상 첨부 참고 하나하나 살피다 앞서다 와봄 투숙객 지키다 기본 수칙 사장 님 맛 안내문 정독 여행 코스 처음 작년 쯤 추억 삼박 그곳 기억 너무나 자리 뿐 처음 다르다 채 찾다 그곳 봄 아무래도 원래 못 충족 봄 니즈 충분히 충족 중요 침대 침대 아늑 분위기 조명 세팅 향긋 플러스 향초 옆쪽 펼쳐지다 유일 창문 펼쳐지다 풍경 아쉽다 계속 떄문 이러 침대 이야기 눕다 떄 상당히 편하다 아침 일어나다 침대 최고 테라스 존재 테라스 앉다 팜뷰 커피 힐링 공간 존재 참고 팜뷰 쭉 멀리 낙산사 바다 쪽 전체 공간 원룸 상당히 아기자기 소품 곳곳 꾸미다 인스타갬 갬성 맞다 이러 소품 배경 포스 팅 다양 찍다 배경 쉬다 빠지다 친구 특히 좋아하다 중요 침대 눕다 큼지막 벽걸이 넷플릭스 유튜브 시청 생활 필요 기본 비품 살펴보다 청소기 이거 투숙객 사용 냉장고 냉장고 생수 들어가다 외출 꽃 샤워 살펴보다 터 형 깔끔 접다 수건 시작 왠 일회용품 다이슨 드라이기 갖추다 중요 샤워실 아무래도 사용 공용 시설 사용 청결 위생 꼭 간단 씻다 세면대 구분 파우더 활용 특징 은근 구조 절약 핸드워 클렌징 폼 바디워 샴푸 컨디셔 기본 필요 어메니티 갖추다 따로 챙기다 필요 샤워실 아쉽다 아무래도 모이다 공간 데우다 사용 시스템 씻다 뜨겁다 사용 걸리다 나머지 괜찮다 여행 계획 보름전이 늦다 선택 사항 정말 만족 컨디션 비교 여행 명소 멀다 몰리다 동떨어지다 바람 바닷바람 맡다 밖 의자 앉다 유유자적 힐링 여행 기본 비품 필요 사장 님 센스 챙기다 참고 아마 봄 궁금 다녀오다 여행 정확 기억 금액 정확 기억 아마 금액 조식 포함 아침 카페 즐겁다 조식 조식 카페 먹다 샌드위치 샐러드 간단 과일 음료 선택 다음날 샌드위치 종류 샌드위치 똑같다 먹다 사장 님 센스 넘어가다 밤 깊다 조명 켜다 산책 은은 조명 매력 모기 의자 앉다 저녁 퇴 실 쓰레기 분리수거 성숙 시민 여행 계획 선택 고민 낙산사 멀다 봄 선택\">]\n",
            "[48, <tomotopy.Document with words=\"친구 결혼식 장거리 그냥 거리 멀다 로은 지루 중간 지점 안동찜닭 숙박 나름 코로나 방역 수칙 준수 여행 관광객 진행 혹 붐비다 그냥 돌아가다 계획 일정 선택 풍경 호스텔 기분 사용 꼭 소개 알리다 풍경 호스텔 북카페 기본 운영 게스트하우스 비롯 단체 손 님 숙박 늦다 체크인 다락방 다락방 성인 편하다 온돌방 요청 넓다 다락방 나름 감사 풍경 호스텔 건물 엘리베이터 짐 다락방 올라가다 힘들다 만족 스럽 올라가다 계단 중간 중간 갬성갬 중간 중간 아기자기 소품 물씬 소품 여기저기 숨다 만족 스럽 여성 좋아하다 소품 다락방 들어가다 입구 문 열다 들어가다 정면 세면대 샤워실 좌측 문 우측 문 다락방 다락방 모습 처음 성인 머리 닿다 궁금 실제로 높다 일반 실 흡사 전혀 불편 다락방 배정 특이 구조 다가오다 들어가다 이리저리 뛰어다니다 모습 나름 만족 스럽 층간소음 하나하나 구조 살펴보다 기본 다락방 실 숫자 맞추다 매트 단체 공간 코로나 끝 다락방 렌지 냉장고 드라이 커피포트 다양 냉장고 기본 생수 음료 비치 다락방 끝 편 에어컨 티비 북카페 책 요즘 그림책 쩍 그림책 아쉽다 다락방 구조 별도 구조 형태 나름 공간 넓다 세면대 샤워기 기본 씻다 치약 칫솔 다양 편리 샤워기 수압 상상 시원 씻다 수건 넉넉 정말 만족 스럽 시설 별도 비데 설치 전체 만족 스럽 풍경 호스텔 게스트하우스 일반 숙박 시설 차이점 원하다 세탁기 세탁 옷 세탁 널다 다음날 마르다 정수기 사용 별도 주류 반입 안내판 방식 풍경 호스텔 취향 이리저리 둘러보다 다락방 온돌방 형태 침대 일반 형태 더블 침대 맞추다 적절 풍경 호스텔 아침 조식 아침 사이 내려오다 미리 조식 메뉴 토스트 모닝 삶다 달걀 시리얼 주스 치즈 간단히 먹다 메뉴 아침 간단히 먹다 하루 출발 메뉴 만족 스럽 북카페 아침 조식 여유 롭 책 공간 고양이 공간 조식 먹다 여유 롭 풍경 호스텔 처음 느끼다 아기자기 소품 제격 좋아하다 고양이 좋아하다 모습 뿌듯 여행 계획 찾다 좋아하다 풍경 호스텔\">]\n",
            "[73, <tomotopy.Document with words=\"직장 생활 지치다 몸 마음 힐링 퇴사 친구 의뢰인 등장 의뢰인 가슴 뻥 뚫리다 지리산 조용 멍 불 멍 온 갖다 멍 즐기다 피크닉 프라이빗 마당 희망 쉬 멍 팀 전문가 이진호 실제 퇴사 여행 경험 이혜성 지리산 섬진강 품다 슬로 시티 소개 최근 핫 한옥 소설 배경 최참판 댁 인근 고즈넉 한옥 기업 로컬 프로젝트 일환 생겨나다 녹아들다 굿즈 옆 유명 포토 존 밖 대나무 숲 고즈넉 분위기 쉬 멍 팀 한옥 리모델링 실 실은 높다 전망 양쪽 떨어지다 오르막길 걷다 올라가다 뒤 주차장 올라가다 아늑 하이라이트 섬진강 누마루 이진호 이혜성 색다르다 풍경 누마루 웰컴 푸드 녹차 곁들이다 힐링 포인트 강조 쌀 과자 녹차 웰컴 키트 조식 보자기 조식 이불 폭신 폭신 후기 냉장고 냉장고 참고 깔끔 욕실 짐 넣다 공간 가족 인실 공개 바다 실 아래 쪽 실 마당 독 채 넓다 사용 화람 재 실 실 취사 냉장고 아늑 침실 비밀 문 열다 다락방 배경 소설 책 문방사우 피크닉 세트 유료 대여 한옥스테 실 실 램덤 숙박 저렴 쉽다 한옥 소개 올 모스트 홈 하루 공지 경남 꼭 한번 하동감성한옥스테 올모스트홈이 화면\">]\n",
            "[123, <tomotopy.Document with words=\"여행 락 제주도여행 제주서귀포숙소 제주감성숙소 제주락 여행 째 하루 서쪽 하루 남쪽 컨셉 하루 하루 첫 날 서쪽 아기 이튿날 남쪽 제주락 남쪽 제주락펜션 요즘 들이다 생기다 마감 비싸다 어렵다 어렵다 찾다 착하다 원하다 갬성까 비밀 댓글 락 뒷쪽 넓다 주차장 요기 편하다 주차 나무 잔디 꾸미다 락 엄 넓다 규모 아기자기 귀엽다 꾸미다 쪽 멋있다 디자인 스타 샷 고르다 꽤 넓다 침대 적당 사이즈 가정집 침구 류 깔끔 택하다 이유 테이블 밖 정원 커튼 치다 부담 스럽 살짝 살짝 정원 예쁘다 동남아 리조트 타일 테이블 커피 잔 티백 쪽 끝 조그마 아쉽다 쪽 바라보다 침대 널찍 요기 욕실 쪽 인덕션 요건 사용 불가 세면대 요런 거울 안쪽 샤워 공간 공간 입구 전신 거울 옷걸이 선반 실내 슬리퍼 바깥 멀리 바다 살짝 나가다 바다 옆 유명 카페인 아뜰리에안 맞다 못 카페 정원 꽤 넓다 아무 들어가다 들어가다 바 해수욕장 넓다 펼쳐지다 바다 뻥 뚫리다 예쁘다 삼각대 세우다 찍다 묻다 암튼 공간 넘다 노을 예쁘다 여러 맘 올레 시장 맛있다 잔뜩 들어오다 밤 조명 켜다 요것 저녁 올레 시장 먹거리 야식 먹다 아침 제주락펜션 조식 먹다 아침 쯤 요렇게 문 배달 귀엽다 덮개 짜다 잔 예쁘다 조식 택하다 이유 밖 바라보다 예쁘다 조식 먹다 정말 동남아 리조트 뿜뿜 예쁘다 푸짐 토스트 후라이 소세 샐러드 과일 요거트 음료 아침 끼 정말 배부르다 먹다 인스타 요런 선택 쥐 정말 여러 맘 째 여행 이틀 여행 락 성비 갬성 오션 예쁘다 조식 빠지다 제주락펜션 지갑 잃어버리다 사장 님 챙기다 덕분 지갑 찾다 여러 정말 감사 찾다 찾다 제주락\">]\n",
            "[131, <tomotopy.Document with words=\"유명 예쁘다 수영장 스타 핫 서쪽 스테이아하 개월 인기 서쪽 정말 정말 누 취소 자리 수영장 더욱 힘들다 쏘다 럭키 스테이아하 총 호실 호실 스테이아 체크인 근처 카페 기다리다 전쯤 체크인해도된 연락 문자 늦다 체크인 일찍 먼저 연락 사장 님 최고 계단 올라가다 수영장 결제 금액 수수료 여름 문 열다 현관 실내화 나란히 놓이다 맞은편 부엌 우드톤 예쁘다 냉장고 전자레인지 인덕션 커피포트 토스터 식기 갖추다 통유리 원형 테이블 놓이다 넘다 저녁 밖 나가다 배달 먹다 밖 푸릇푸릇 수영장 메인 수영장 엄 막상 스테이아하 따로 조식 제공 냉장고 생수 컵라면 무료 제공 테라로사 커피 스테이아하 제공 깜빡 못 스테이아 복층 이루어지다 싱글 침대 다락방 따로 침대 이불 베개 바닥 온돌 춥다 침대 앞쪽 티비 옆쪽 청정기 정말 맞은편 세면대 욕실 공간 구분 더욱 여행가 친구 동시 공간 구분 절약 효율 수건 짜다 제공 수영장 넘다 수건 담요 수영장 선베 드 파라솔 의자 곳곳 놓이다 찍다 스타 쇼핑몰 촬영 기간 여행 맞다 수영장 독채풀 수준 뿌듯뿌 밤 조명 켜다 수영장 수영장 오후 사고 수영장 주위 설치 참고 스테이아하 포토스팟 최고 결과물 한번 갑자기 이쁘다 극찬 스테이아하 인식 바꾸다 모든 만족 스럽 제주한림 만족 서쪽 제주협재 수영장 수영장 수영장 여행 서쪽 여행 여행 친구 여행 친구 친구 여행 여행 여행 일정 기간 날씨 여름 여행 기간 여행 기간 여행 사진스 팟 가족 단체 혀 재 혀 재 복층 복층\">]\n",
            "[144, <tomotopy.Document with words=\"여행 늦다 기록 열흘 가량 태풍 궂다 날씨 싸우다 찌다 내륙 보내다 드디어 총 가량 보내다 마무리 뒤 그냥 온전 히 보내다 후회 보내다 너무나 여행 대부분 이내 짧다 일정 매력 느끼다 부족 머무르다 미처 두르다 아쉬움 올 가량 보내다 늘 비행기 차량 출발 녹동항 출발 고속 넘다 제주항 도착 내륙 보내다 열흘 지역 옮기다 다니다 짐 싸다 지치다 머물다 가급적 다짐 스럽 분위기 느끼다 열심히 찾아보다 에어비엔 앱 발견 독 채 해수욕장 근처 거리 밖 거리 전체 사용 독 채 지나다 여행 에어비엔비 처음 대면 방식 편리 청결 호스트 응대 올 찾다 대부분 에어비엔비 옛 뼈대 그대로 요즘 맞다 전체 리모델링 직접 리모델링 어설프다 부분 들어서다 예쁘다 호스트 인테리어 센스 돋보이다 거리 밖 거리 총 간편 히 취사 충분히 넉넉 널찍 다이닝룸 갖추다 불편 세탁기 부부 도착 지나다 열 밀리다 빨래 열심히 세탁 독 채 에어비엔비 조용 시골 마을 연세 어르신 낮 밤 동네 엄 조용 편안 머물다 음식점 기억 걷다 거리 어등포해녀 촌 성비 식 젊다 남자 사장 님 운영 즈 피자 걷다 음식점 나가다 바다 즐기다 식당 카페 첫 시작 기분 보내다 독 채 아기자기 분위기 특히 커플 친구 끼리 돈 후기\">]\n",
            "[155, <tomotopy.Document with words=\"초코혜 오늘 성비 소개 제대로 아직 코너 바라보다 오션뷰 넘다 예쁘다 열심히 찍다 참고 렌트카 없이 뚜벅 여행 근처 지나가다 버스 짱 짱 뚜벅 여행 뚜벅 여행 관련 꿀팁 브릭스 오후 버스 터미널 거리 근처 식물 보름 숨 카페 도보 거리 황우지해안 올레 시장 다양 버스 택시 세 타입 디럭스룸 제주브릭스 카이트 처음 카이트 여름 국내 곳곳 갬성 소개 코너 넘다 예쁘다 날씨 흐리다 속상하다 예쁘다 바라보다 아마 예쁘다 스타 스토리 실시간 제주브릭스 올리다 일몰 예쁘다 일몰 참고 제주브릭스 배정 베드 베드 성비 찾다 침대 옆 쪽 콘센트 쪽 테이블 야식 먹다 노트북 작업 생수 병 컵 와인 잔 전기 포트 샤워가운 구경 예쁘다 코너 이리저리 찍다 깨끗 어메니티 알차다 오션뷰 담 참고 건물 얘기 배정 계단 옥상 올라가다 옥상 예쁘다 멀리 섬 범섬 왼쪽 오른쪽 섬 왼편 문서 오른편 범 섬 공간 조식 먹다 조식 포함 불 포함 차이 편하다 조식포함 조식 뷔페 식 식빵 주스 베이컨 샐러드 과일 아침 점심 먹다 아침 간단히 먹다 성비 디럭스룸 높다 등급 프리미엄 넓다 욕조 참고 개인 마음 뚜벅이 다니다 부담 다니다 이곳저곳 앞쪽 주차장 쪽 전기 충전 부분 참고 흑 돼지 고깃 저녁 도보 거리 편의점 날 덥다 돌아다니다 머물다 푹 쉬다 여행 즐기다 후기 살짝 걱정 만족 스럽 여름 시즌 알차다 꿀 팁 알리다 카이트 숙박 적용 쿠폰 투숙 쿠폰 적용 모든 숙박 적용 굿 굿 결제 코드 입력 천 제주브릭스 성비 디럭스 조식 포함 쿠폰 적용 오늘 여행 다녀오다 브릭스 나누다 한적 조용 부담 찾다 카이트 사이트 알리다 쿠폰 천 놓치다 시내 사이 접근 특히 남쪽 여행 여름 성비 오션뷰 특히 코너뷰 예쁘다 제주감성숙소 서귀포숙소 제주서귀포숙소 제주가성비호텔 제주브릭스호텔 서귀포호텔 제주서귀포호텔 제주호텔 여행 취재비 작성\">]\n",
            "[163, <tomotopy.Document with words=\"독채 채 글 미 네쿠 경주독채펜션 경주감성숙소 경주라온채 경주가족펜션 경주펜션 경주펜션추천 채 보불로 지나다 여행 하루 프라이빗 채 라온 채 온라인 상담 네이버 진행 체크인 대면 진행 접촉 최소 아쉽다 경남 지역 맑다 날씨 풍경 찍다 분위기 즐기다 만족도 최상 독채 라온채 알차다 후기 꽉 꽉 채우다 즐기다 워낙 훅 훅 지나가다 가족 라온 채 설명 순서 입구 쭉 안쪽 들어가다 코스 끝 집중 바라다 좋아하다 이닝 카페 들어가다 혼란 스럽 고급 스럽 대리석 테이블 분위기 눈 사로잡다 면 통유리 모습 바라보다 들어가다 흘러나오다 감미 롭 재즈 음악 행복감 뿜다 뿜다 정원 합치다 자랑 독채 라온채 선택 걱정 부분 워낙 에어컨 전체 습하다 구역 구역 에어컨 설치 습함 찾아보다 쾌적 자체 요즘 덥다 날씨 독 채 가족 라온채 마음 껏 뛰어놀다 힐링 다이닝룸 연결 흥미 이유 다양 식기 류 조미료 도구 하나하나 고르다 재미 전자레인지 밥솥 캡슐 커피 머신 커피포트 와인 셀러 정수기 따로 권장 라온채 대부분 이루어지다 바깥 구조 특히 복도 지나다 정원 모습 복도 미술관 실내 인테리어 덕분 끊임없이 열심히 찍다 생활 필요 비품 캐비닛 꼭꼭 챙기다 비눗방울 합격 복도 중간 메인 욕실 세면대 샤워실 어메니티 따로 샤워 용품 꺼내다 편하다 제품 샤워 에어컨 바람 빵빵 즐기다 펜캉 스다 바캉스 르 마음 껏 누리다 수압 꽤 만족 스럽 독채 라온채 가족 코로나 끝나다 친구 여럿 잡다 놀러가다 가족 느끼다 총 세 온돌방 침실 이루어지다 저녁 맥주 잔 떨다 활용 소파 푹신 창문 정원 모습 감상 힐링 자체 독채 라온채 욕실 총 연결 욕실 역시 샤워 세면대 여러 씻다 볼일 차례 지키다 기다리다 모던 깔끔 분위기 욕실 예쁘다 다랑방에 뛰어놀다 트램펄린 가족 찾다 다락방 아래 내려오다 침실 취향 맞다 분위기 고르다 모던 채 독채 규모 실내 시설 침구 류 결함 머무르다 내내 불편 찾아보다 가족 라온채 전체 설명 완료 본격 바비큐 즐기다 입시 사과 주스 달콤 냉장고 사장 님 미리 감사 그냥 카페 기분 공간 프라이빗 보내다 자체 불멍 기본 제공 아쉽다 진행 바비큐 테라스 자리 앉다 맛깔 굽다 먹다 직접 불 피우다 친구 처음 걱정 사장 님 불 피우다 미리 완성 근처 농협 퀄리 티 삼겹살 즙 가득 가두다 맛깔 먹다 와인 병 야외 스파 유아 풀장 유료 가족 유용 시설 다양 다니다 시설 완벽 처음 모든 갖추다 아침 다이닝룸 김치 만두 챱챱 자세히 그릇 컵 다르다 디자인 크기 사용 그만큼 다양 종류 말씀 씩 꺼내다 먹다 재미 쏠쏠 분위기 프라이빗 즐기다 라온채 잊다 추억 바라다 라온 채\">]\n",
            "[194, <tomotopy.Document with words=\"미술 학원 친구 여행 다녀오다 처음 포스 팅 스위트 공식 스위트 디 럭스 트리플 총 여러 사이트 비교 공식 제일 저렴 원래 여행 날 온돌방 침대 여행 날짜 변경 카페 놀다 명문 제과 뒤 카카오택시 스위트 도착 근처 뚜벅이 모든 일정 뒤 체크인 스위트 입구 급 스위트 로비 투숙객 블루레몬에이드 요기 프론트 카페 넓다 쇼파 스위트 엘레베이터 배정 갔다 스위트 혜택 보드 게임 대여 마스크 무료 증정 필요 프론트 요청 직접 무료 마스크 증정 혜택 덴탈마스크 마음 크기 절반 차지 엄청나다 넓다 세 씻다 전혀 없이 편하다 부스 변기 깔끔 마음 쏙 세면대 넘다 넘다 맘 스위트 어메니티 칫솔 어메니티 포함 프론트 천 별도 샤워 부스 욕조 욕조 바라보다 블라인드 침대 스위트 디 럭스 트리플 벽 쪽 가운데 바다 창가 쪽 썼다 이랑 거울셀 카다 옷장 넉넉 짐 넣다 냉장고 녹차 커피 전기 주전자 코로나 불 특정 사용 유리컵 찝찝 컵 제공 호텔뷰 넘다 문 열다 테라스 앞쪽 물놀이 테라스 테이블 의자 따로 비치 아쉽다 엘레베이 터 옆 포레스트뷰 포토존 보리 보리쌀 프론트 뒷쪽 편의점 상상 영업 프론트 근무 열쇠 문 열다 들어가다 편의점 음료 담배 과자 컵 라면 종류 넉넉 뒤 체크인 카스 캔 육개장 컵 라면 맥주 육개장 컵 라면 캔 입구 더럽다 씻다 급하다 짠 버리다 먹다 캔 침대 짠 바다 건강 먹다 저녁 치킨 뿌링 클 뿌링 핫도그 뿌링소 떡 치즈볼 맥주 진로 테이블 의자 바닥 앉다 먹다 바닥 카페트 마루 테이블 의자 아쉽다 다음날 로비 앉다 느리다 우체통 발견 꼭 써야 편지 부모 님 편지 총 작성 조치원 올라가다 무궁화호 막차 놀다 무궁화호 선택 기차 삼각대 핸드폰 거치다 뒤 유튜브 재미있다 바다 책 읽다 대단 루미큐브 여행 바다 핸드폰 떨어뜨리다 액정 보호 필름 깨지다 카메라 초점 맞다 속상하다 에어팟 프로 잃어버리다 카드 잃어버리다 재 발급 이후 여행 즐겁다 겨울 여행 쭈꾸 미 친구 스위트\">]\n",
            "[200, <tomotopy.Document with words=\"감귤뷰 글 그자 겨울 여행 계획 꼭 한번 숙박 귤밭뷰 시설 중요 열심히 다행히 동백포레스트 감귤 체험 근처 미만 감귤 밭 전망 발견 다녀오다 만나다 감귤뷰 소개 요즘 국내 여행 떠나다 인기 높다 스럽 이쁘다 엄청 씩 이쁘다 모으다 시작 일주일간 여행 마지막 일정 보내다 열심히 찾다 찾다 공유 면 탁 트이다 아름답다 만나다 제주에어비앤비 발견 마음 뺏기다 미만 착하다 반하다 처음 아래 첫 여행 시내 거리 동백포레스트 휴애 리 근처 외관 맞다 자세히 맞다 주차 인도 키 패드 미리 알리다 주인장 따로 만나다 필요 겉 들어가다 전혀 건물 형태 파랗다 하늘 호스트 분이 건축사 계시다 건물 특이 아쉽다 엘리베이터 계단 들어가다 순간 깔끔 원룸 스타일 짠하다 나타나다 중간 테이블 한쪽 더블배드 원룸 상당히 심플 구조 커플 끼리 숙박 공간 훌륭 느끼다 커튼 치다 아까 전혀 다르다 분위기 차제 감귤 밭 주황빛 느끼다 스타 심플 서귀포숙소 고르다 시내 잡다 접근 시내 가운데 답답 둘러쓰다 느끼다 요즘 조용 하룻밤 없이 하루 못 필수 계단 올라가다 공간 꼭 다락방 올라가다 기분 침실 숙박 편 모습 저녁 먹다 사용 궁금 싱크대 열다 조미료 냄비 그릇 세탁기 투숙 욕실 따뜻 샴푸 린스 바디워 수건 씩 욕실 춥다 걱정 따뜻 불편 친절 주변 즐기다 거리 덕분 이거 카페 배케 다녀오다 주변 편의점 쉽다 찾다 저녁 주변 먹다 이미 점심 주변 맛 돌다 올레 시장 들리다 모듬 좋아하다 오느정 김밥 구입 상차림 여행 마지막 날 보내다 일부러 커튼 치다 잠 아침 일출 맞추다 눈 뜨다 창문 넘다 따뜻 일출 감상 미만 접근 찍다 쪽 숙박 계획 감귤뷰 미리 감귤 체험 달달미깡 거리 감귤 체험 이야기 근처 숙박 체류 주변 맛 동백꽃 촬영 명소 포레스트 액자뷰 찍다 최대한 없이 느긋 촬영 가깝다 숙소체크 시간대 널널 촬영 제주에어비앤비 제주숙소추천 서귀포숙소 제주감성숙소 제주서귀포숙소 감귤뷰숙소\">]\n",
            "[205, <tomotopy.Document with words=\"오션뷰 자쿠지 스파 재 최근 여행지 거제도 만나다 거제도 어제 친구 만나다 거제도 여행 애 멀다 거제도 국내선 김해공항 공항 렌터카 빌리다 금방 김해공항 거제도 쏠다 덕분 멀다 느끼다 거제도 일정 꽉 꽉 채우다 다니다 중요 거제도 여행 총 부담 스럽 위주 찾아보다 소 동재 정말 총 마당 테라스 오션뷰 스파 자쿠지 가득 올해 여름 휴가 일찍 시작 몰리다 분산 여름휴가 나누다 권장 이미 렌터카 값 덜 붐비다 한적 여름휴가 원하다 거제도 특히 중순 수국 거제도 섬 지역 수국 현황 다르다 찾다 수국 수국 스케일 다르다 굳이 명소 찾아가다 길거리 야생 수국 풍성 다녀오다 절정 거제도 수국 명소 꼽히다 첫 째 썬팜트 리 리조트 색 수국 공터 엄 이미 수국 힘들다 째 핫 저구항 원래 수국 명소 꼽히다 올해 거제도 수국 늦다 피다 막 물들다 언덕 탐스 런 수국 만나다 세 째 파란대문 불리다 일부러 내려서다 인증 찍다 아쉽다 드라이브 코스 즐기다 중간 세우다 찍다 거제도 여행 꽃 사냥 좋아하다 친구 하루 부지런히 관광 다음날 오롯 머물다 호캉스 즐기다 거제도 괜찮다 소 동재 신축 한옥 취향저격 특이 독 채 전원주택 형식 타운 올라가다 좌 우 총 팁 넓다 잔디밭 대나무 숲 장점 멀리 거제도 오션뷰 바다 스파 즐기다 힐링되 소동재 총 머무르다 오션 썼어 거실 부엌 스파 테라스 침대 온돌방 너르다 거실 침실 잠자리 널널 가족 끼리 소품 하나하나 수국 시즌 화병 수국 넣다 센스 수건 담다 라탄 배치 스파 어울리다 스파 엄청 넓다 어른 들어가다 넉넉 사이즈 거제도 소 동재 종류 머무르다 오션 오션 스파 보유 무료 본격 여름철 물놀이 찾다 여럿 붐비다 끼리 프라이 빗 물놀이 찾다 소 동재 나무 욕조 어른 들어가다 즐기다 꽤 넓다 크기 대나무숲 거제도 바다 시야 탁 트이다 즐기다 프라이 빗 스파 날 햇볕 무척 뜨겁다 날 실내 끼리 속닥 즐기다 수온 물놆이 취향 맞추다 자녀 여행 커플 여행 의외 부엌 열다 부엌 하얗다 색 맞추다 깔끔 냉장고 빨간색 포인트 냄비 후라이 팬 인억 셔 전자레인지 수저 필요 간단 먹다 참고 먹다 테이블 부엌 아일랜드 테이블 반대 굽다 먹다 테라스 따로 전용 바베큐불판 아침 점심 부엌 간단 먹다 저녁 사장 님 따로 말씀 전용 불판 사용 숙박 불편 없이 구석구석 알차다 특히 여행 끼 당기다 거제도 소 동재 테라스 굽다 먹다 쉽다 반 쯤 형태 실내 먹다 잔디밭 바다 살짝 전망 전원주택 참고 거리 간단 맥주 거리 스카이 마트 대형 마트 먹다 장봐오기 필요 없이 테라스 먹다 바베큐 가스 그릴 이용료 현장 결제 의외 시설 투숙객 위해 노래방 시설 노래방 처음 살짝 뚱 맞다 코 시국 이후 노래방 친구 정신 놀다 처음 부르다 내내 부르다 건물 오션 따로 거실 설치 노래방 시설 어둡다 폐쇄 웃기다 친구 끼리 처음 노래방 노래방 자랑 연습 없이 실력 춤 열심히 추다 오션뷰 자쿠지 스파 재 오늘 거제도 소 동재 소개 마지막 총 올 여름 수국 사냥 거제도 여행 강력 어른 시작 성비 부엌 테라스 자쿠지 스파 노래방 구석구석 알차다 신축 깔끔 깔끔 소품 마지막 팁 전원주택 형 타운하우스 처음 간판 지나치다 쉽다 따로 연락 알리다 번지 찾아가다 외관 비슷 생기다 처음 지나치다 따로 주차장 언덕길 올라가다 계단 참고 자세 숙박 후기 평점 아래 네이버 참고 소 동재 자쿠지 스파 신축 찾다 인테리어 깔끔 거제도 찾다 널널 거제도 찾다 노래방 놀다 소 동재 숙박\">]\n",
            "[220, <tomotopy.Document with words=\"윤궁금 여행 다녀오다 후기 만족 서쪽 여행 일정 움직이다 찾다 괜찮다 찾다 찐찌 파스텔 전화번호 파스텔 짧다 굵다 후기 궁금 어중간 바 리뷰 깔끔 선호 편 먼지 머리카락 청결 극혐합니 찾다 오래 걸리다 편 서쪽 여행 검색 수많다 플랫폼 발품 여행 동선 움직이다 리뷰 굿 깔끔 완료 확인 마지막 다행 솔직히 갔다 괜찮다 남자 친구 오우 괜찮다 깔끔 자체 뿜다 뿜다 적당 포토존 과하다 마당 주차 공간 코앞 맞은편 주차 주차 없이 편하다 다니다 주차 번호 렌트카 현지인 현지인 가족 손 님 첫째 날 주차장 렌트카 가족 찾다 참고 파스텔 거실 따로 침실 따로 루 원룸 거실 이거 맞다 네이버 검색 투룸 거실 조그맣다 에어컨 판 밥 먹다 스몰 테이블 남자 친구 좋아하다 반갑다 갬성에 노프라블럼이쥬 살짝 어둡다 날씨 요정 여행 거실 햇빛 싱크대 식기 류 깔끔 정갈 굿 뒤 찬 와인 잔 맥주잔 합격 합격 핸드 드립퍼 한번 우려먹다 비린내 깔끔 손 세정제 짜다 치약 깨끗 외출 창문 살짝 열다 센스 침구 류 깔끔 합격 침대 물렁 물렁 침대 편안 매트리스 배게 높다 남자 친구 다음날 아프다 빼다 옷걸이 수건 거울 헤어드라이 프로젝터 넷플릭스 글쎄 부산행 처음 재미있다 마동석 넘다 웃기다 좀비 슬프다 이벤트 편 히 눕다 틀다 주인공 주인공 새 집중 빠져들다 갬성까 쥐 한번 이벤트 음 리뷰 정성 들이다 식도락 즐기다 커플 쑤다 맛있다 먹다 테이블 꼭 필요 우드 톤 동그랗다 올리다 한잔 캬 맛있다 현실 리뷰 먹다 갑자기 체 끼 마트 편의점 가깝다 남자 친구 슝 다녀오다 편의 시설 굿 밤 찍다 폴라로이드 한장 걸다 쉬다 마무리 마음 후기 끄읏 열심히 바라다 프로 블로거 걸다\">]\n",
            "[227, <tomotopy.Document with words=\"독채 진남 맨 쇼 여행 인플루언 혀니 동백꽃 피다 맞추다 여행 다녀오다 첫째 날 이순신 광장 근처 독채 진남맨숀 하루 숙박 찾아가다 이순신 광장 근처 워낙 핫 플레이스 쪽 주변 맛 카페 버스 택시 자주 다니다 교통 편리 느끼다 이순신수제 버거 가게 주변 파스타 낭만 바다 김밥 좌 바게트 버거 연휴 식당 짬뽕 식당 입맛 원하다 건물 부티크 루프탑 공간 독채 운영 맞추다 입시 들어가다 느끼다 코로나 예방 전문 살균 소독 서비스 제공 항상 위생 부분 마음 가족 진남맨숀 한오크룸 평수 침대 온돌 가족 끼리 괜찮다 관광지 쪽 치다 부담 숙박 요금 독채 진남 맨 쇼 주변 맛 알리다 부분 식당 결정 심심 거실 추억 게임기 놀다 전체 평수 넓다 답답 뿐 상태 깔끔 독채펜션 머무르다 제대로 힐링 현관문 왼쪽 침대 이순신 광장 근처 마음 특히 면적 넓다 부모 님 모시다 침대 좋아하다 독채펜션 군데 거실 공용 사용 괜찮다 화이트톤 깔끔 수건 샴푸 컨디셔 바디워시 넉넉 채우다 거울 셀카 찍다 은근 거실 옆쪽 따뜻 앤틱 분위기 앉다 먹다 테이블 가족 여행 테이블 오순도 저녁 먹다 테이블 쪽 전기 주전자 전자레인지 수저 세트 컵 냄비 밥솥 편리 먹다 아래 프라이팬 냄비 크기 종류 활용 높다 둘러보다 고르다 옆 나전칠기 디자인 인테리어 독채 진남맨숀 더욱 고급 스럽 왼쪽 여동생 남동생 숙박 오른쪽 전통 그리다 덕분 고급 스럽 한옥 온돌 한옥 굉장히 만족 스럽 독채 온돌 안쪽 개별 단독 사용 숙박 난방 켜다 금방 따뜻 따끈 위층 루프탑 올라가다 바비큐 해먹다 공간 주변 음식점 야경 즐기다 직접 숙박 경험 한옥 한국 힐링 바라다 전라남도 전화번호 여수펜션 여수독채펜션 여수가족펜션 여수감성숙소 여수숙소 진남맨숀\">]\n",
            "[232, <tomotopy.Document with words=\"머물다 째 시내 중심 이순신 광장 옆 도보 거리 진남 맨 쇼 교통 편리 끼리 단독 넓다 사용 가족 단위 여행 독채펜션 이순신 수제 버거 건물 들어가다 입구 앞쪽 뒤쪽 골목 네이버 진남 맨 쇼 검색 찾다 누르다 빠르다 정확 광장 찾다 쉽다 입구 비밀 번호 비밀 번호 문자 체크인 대면 진행 부분 소통 불편 오후 진남맨숀 부띠끄룸 한오크 독채 형 채 팀 단독 사용 한오크룸 넓다 침대 온돌 온돌 욕실 숙박비 이름 한옥 느끼다 조명 인테리어 장식 멋 스럽 찍다 특히 거실 정말 예쁘다 거실 넓다 편 분위기 아늑 이날 유퀴즈 언니 형부 거실 도란도 티비 시청 입구 벽 동그랗다 뚫다 멋 스럽 요즘 아무래도 대면 독채 머물다 인기 널찍 테이블 밖 이것저것 먹다 도구 완벽 갖추다 근처 맛있다 워낙 따로 낭만포차 이내 거리 편의점 근처 인덕션 전자레인지 밥솥 냉장고 식기 넉넉 아쉽다 생수 도착 마르다 냉장고 생수 병 놓이다 요거 오락기 옛날 추억 게임 보글보 글 고인돌 스트리트파이 터 재밌다 나중 아이스크림 재밌다 구경 벽 한국 소품 장식 안쪽 온돌방 침대 두껍다 매트리스 깔리다 잠자리 불편 욕실 편리 요렇게 옆 온돌방 거실 욕실 옆 침대 넓다 난방 깔끔 전반 훌륭 교통 편리 시내 가족 여럿 진남맨숀 이순신 광장 광장 로터리 소리 소음 어쩌다 부분 감안 결정 이순신 광장 내려다보이다 루프 옥상 테이블 놓이다 밤 올라가다 분위기 동네 아이스크림 먹다 밤 산책 돌아오다 이순신 수제버거 팥 아이스크림 먹다 맛있다 짧다 여행 알차다 보내다 이야기 차차\">]\n",
            "[237, <tomotopy.Document with words=\"떠나다 요즘 일상 지치다 아고다 코드 오예 이왕가 여행 코드 숙박 기간 상관없이 한국 프로모션 코드 적용 아래 아고다 접속 꼭 아래 접속 프로모션 선택 결제 코드 입력 끝 아무리 질리다 여행 새롭다 힐링 특히 요즘 삐까뻔쩍 차분 정감 느끼다 찾다 군데 소개 봄 뮤지엄 뮤지엄 감성뿜뿜 봄 뮤지엄 푸르다 전망 따뜻 힐링되 모든 투숙객 봄 갤러리 무료 문화생활 즐기다 일석이조 봄 뮤지엄 까 봉봉 외관 돌담 뿜뿜하 까 봉봉 아고다 평점 투숙객 만족도 높다 특히 독채팬션 가족 끼리 연인 끼리 머무르다 하루 종일 까사봉 늘보 오후 오션뷰 뿜뿜하 늘보 오후 게스트하우스 여행 여유 만끽 슬로우 보내다 늘보 오후 모든 출처 아고다 제휴 마케팅 포함 수수료 지급\">]\n",
            "[240, <tomotopy.Document with words=\"양양서핑여행 이틀 친구 일요일 올라가다 찾다 세상 월요일 휴가 버리다 마지막 카루나 비싸다 망설이다 사이 누 버리다 흑흑 흑 팜 일레븐 넘버원 픽 애초 꽉 취향 저격 카페 유명 초록뷰 좋아하다 꼭 쉬다 분위기 최고 카루나 카루나 뜻 베풀다 넘치다 멘트 끝판 왕 영혼 이미 의자 앉다 왔어 바다 반신 욕 온 갖다 후기 노을 이미 봤어욬 모던 끝판 왕 노을 일출 요즘 플랙스 결제 터 고민 놓치다 버리다 조용히 사색 최고 못 너무너무 아쉽다 비욘드 주인장 느끼다 테라스 황량 마음 쏙들 조용히 쉬다 하늘 조용 후기 찾아보다 고프다 완료 못 이야기 유명 땡기다 일본식 커플 풍경 비싸다 유명 알아보다 부킹되 비치 낙산비치 가성비 유명 마운틴뷰 오션뷰 깨끗 이쁘다 온돌방 하프 오션뷰 주차장뷰 시끄럽다 컨셉 비싸다 수요 공급 얼 개인 지갑 선택 폭 정말 다양 고르다 요즘 유행 어쨌든 완료 나머지 여행 여행 후기 돌아오다\">]\n",
            "[245, <tomotopy.Document with words=\"포도 한시 조식 총 이름 귀엽다 드론뷰 내려다보다 포도송이 닮다 기억 쉽다 자세히 들여다보다 포도 컨셉 나름 일관 침대 배게 포도송이 자수 들어가다 달콤 포도 향기 귀엽다 포도 귀엽다 훌쩍 넘다 훌쩍 넘다 불구 결론 평생 쯤 버킷 리스트 특히 신혼여행 붐비다 끼리 한적 힐링 강력 매력 별명 한옥 돌이 여러 말씀 국내 한옥 카페 부지런히 다니다 항상 순위 포도 재일 건축가 이타 미 준 이동룡 짓다 생애 한국식 일본식 건축 스타일 묘하다 섞이다 직접 숙박 한옥 서까래 한국 스타일 전망 일본 아기자기 정원 전망 독특 이질 익숙 새롭다 공간 메시지 해석 숙박 깊이 느끼다 그동안 포도 비싸다 바라다 들리다 포도 솔깃 별관 차이 먼저 핀크 스다 포도 그동안 포도 그대로 일본 한국 스타일 섞이다 건축물 편백 나무 욕조 반대 디아넥 스다 포도 별관 최근 짓다 일반 똑같이 현대식 수영장 편 이왕 숙박 찌다 포도 느끼다 핀크 스다 포도 수영장 핀크스 머물다 처음 째 힘들다 매진 원하다 날 최소 힘들다 공간 넓히다 기본 침대 넓이 거실 공간 참고 실과 실 나뉘다 실은 한국식 일본식 정원 전망 실은 서양식 스타일 식탁 테이블 전망 골프장 언덕 내려다보다 일몰 장점 실 머무르다 고민 이거 계속 망설이다 이참 숙박 미련 없애다 버리다 마음 먹다 신혼여행 그나마 절약 늘 국내 찾다 검색 어플 오후 선착순 쿠폰 절약 선착순 쿠폰 당첨 사용 쿠폰 발급 금액 폭 커지다 묻다 따다 카카오페 다양 혜택 참고 종류 머물다 디럭 스다 실 고민 순간 매진 포도 보기 호캉스 이겁니 편백 나무 욕조 나무 우유 빛깔 흐러 꿀 그간 피로 풀리다 물색 하얗다 색 이유 맑다 변화 독특 요소 성분 나트륨 칼슘 마그네슘 이온 성분 고루 함유 몸 면역력 높이다 효능 피로 회복 치유 력 병 예방 우유 빛깔 수로 몸 매끈매끈해지 빼다 하얗다 가루 욕조 핀크 스다 포도 엄마 우유 빛깔 의외 숲 멍 문 열다 정원 미니바 무료 주전부리 숲 멍 참고 머물다 실 정원 바라보다 마루 테라스 미니바 맥주 음료수 귤 감귤 파이 과일 간단 다과 무료 제공 앉다 잔 꼭 바라다 테라스 정원 직접 걸어가다 나무 데크 정원 폭포 마루 앉다 물소리 새소리 들리다 정말 신록 여름 겨울 눈 새롭다 포도 오롯 휴식 집중 시설 식음료 골프장 포도 뮤지엄 포도 올 레 산책길 조식 꼭 편의점 배고프다 아침 품 메뉴 황태국 메뉴 고등어 튀김 불고기 정갈 맛 자극 편하다 맛 특히 아침 당근 사과 넣다 착 즙 주스 정말 맛있다 조식 따로 요금 포함 포도 가격대 비숙박객 부대시설 즐기다 레스토랑 먹다 포도뮤지엄 전시 식 머물다 워낙 포도 왕 새우 튀김 맛 듣다 먹다 그릇 사악 그나마 포도 저렴 편 좋아하다 일본 오사카 여행 맛 찾아다니다 수준 쯤 먹다 특히 새우 엄 그릇 튀어나오다 샐러드 유부초밥 포도 한시 조식 총 오늘 그동안 포도 소개 마지막 총 첫 째 인생 쯤 특히 공간 해석 귀하다 경험 째 여럿 붐비다 프라이빗 끼리 힐링 마지막 우유 빛깔 수로 편백 나무 향기 맡다 호캉 스다 즐기다 참고 어플 국내 럭셔 리 소개 올 여름 휴가 찾다 참고 국내 럭셔 리 모으다 소개 블랙 탭 지역 인기 잡히다 참고 소개 자세 포도 동영상 아래 참고 프라이빗 즐기다 한적 찾다 우유 빛깔 흐르다 편백 나무 욕조 궁금 한국 일본 건축 양식 롭 궁금 신혼여행 호캉 스다 즐기다 찾다 팁 미리 핀크 스다 디아넥 스다 포도 수영장 디아넥스 원고료\">]\n",
            "[256, <tomotopy.Document with words=\"정원 가꾸다 이야기 여행 블로거 정원 오늘 다녀오다 경기도 소개 다녀오다 꽤 만족 스럽 흑흑 어플 접속 근데 불구 공유 쪽 히 김포공항 인천공항 멀다 방콕 여유 즐기다 괜찮다 다니다 걱정 분위기 아래 쪽 넣다 터 마음 들어가다 확인 가깝다 지하철 부천시청역 신중동역 고르다 신중동역 가깝다 습 빨리 들어가다 목표 들어가다 자세 적히다 종이 만나다 에어컨 사용 전등 사용 이외 사이트 적히다 불편 다녀오다 디자인 최근 찾아보다 생기다 멋지다 공간 즐기다 알아보다 다녀오다 카페 예쁘다 담기다 시작 필요 채우다 공간 찾다 호스트 감각 인테리어 소품 예쁘다 탐나다 촬영 재미 쏠쏠 괜시 리 죄다 꺼내다 씩 찍다 협찬 소개 프다 아쉽다 일몰 즐기다 말씀 새파랗다 대낮 하늘 다르다 일몰 타임 하늘 볼품 제대로 즐기다 장점 계시다 호스트 저렇다 즐기다 알리다 방콕 제대로 날 배달 먹다 세다 없습니 주변 먹다 꽤 나중 친구 맛 막 알리다 친구 카페 알리다 꼭 연락 얼른 만나다 친구 글 소개 먹다 디저트 후기 다양 거울 액자 드라이플라워 예쁘다 스팟 공간 자체 넓다 활용 멋지다 찾다 헤매다 경기도 권 은근히 날짜 맞다 주로 급하다 터 예쁘다 장만 짐 늘다 비상 용품 깔끔 싶으네 깔끔 경기도 디자인스테 바디워시 헤어 샴푸 컨디셔너 컨디셔 빳빳 머리 역시 기쁘다 포인트 업체 세상 멀끔 하루 나위 없이 동영상 디자인 레인지 살짝 찍다 동영상 궁금 하루 롭 근처 물어보다 꼭 디자인 아쉽다 부분 주차 건물 지하 주차 유료 주차장 꽤 세다 편 공영 주차장 찾다 공영 주차장 유료 뚜벅 오늘 소개 다양 부족 없이 추천츄\">]\n",
            "[257, <tomotopy.Document with words=\"어비앤비 가족 숙박 비싸다 콘도 잡다 어렵다 콘도 이름 붙다 가족 여행 러브호텔 분위기 혼재 가끔 밤 민망 사운드 여기저기 들리다 복도 술 떠들다 소리 들리다 짜증 스럽 베드 찾다 힘들다 다양 검색 후기 대충 저렴 지불 편 깔끔 기왕 인테리어 깔끔 오래 아파트 깔끔 인테리어 하룻밤 마음 찾다 강릉역 걷다 재미있다 꽤 유명세 엄지 포장마차 본점 옆 꼬막 맛있다 쯤 맛보다 경험 국내외 수차례 나비잠 친절 감동 서비스 칭찬 그냥 빌리다 개인 고객 감동 서비스 알리다 동시 설명 출입문 열다 주변 맛 리스트 불편 사항 긴급 통화 번호 메시지 공유 내용 예쁘다 아마도 쥐다 여성 빨리 도착 주변 둘러보다 특별히 배려 빠르다 따로 연락 빨리 나중 쥔 건물 부지런 인상 아담 원룸 형태 짓다 건물 침대 넣다 분리 괜찮다 특히 원목 테이블 마음 브랜드 인터넷 검색 가성비 꽤 괜찮다 마음 실내 깔끔 귀엽다 소픔 비치 인테리어 감각 지난번 유리창 방충망 불편 방충망 갖추다 에어컨 시원 맞바람 상쾌 재미있다 햇반 사발 카레 처음 판매 따로 표시 아마 숙박 손 님 밥 먹다 귀찮다 간단히 돈 들이다 손 님 접대 배우다 우리샵 초기 손 님 걸음 나아가다 초심 지나다 점점 희미 점점 시스템 익숙 서비스 에너지 들어가다 손 님 기분 당연 받아들이다 정성 에너지 쏟다 경영 측면 비용 쥔 통화 못 꽤 인기 인터넷 공유 설치 와이파이 터지다 처음 살짝 불 공유기 불 전원 뽑다 전원 넣다 재 설정 어쩜 사무실 상태 비슷 임시 대응 옆 헤어드라이기 고데기 뷰티 용품 깔끔 갖추다 역시 쥔 꼼꼼 챙기다 용도 실 보일러 드럼 세탁기 보일러 가스 유리창 살짝 열다 가스 누출 예방 유리창 분리 가스 누출 염려 드럼 세탁기 빨래 드럼 세탁기 사용 건조 기능 탈수 기능 촌놈 드럼 세탁기 사용 하룻밤 깔끔 편하다 살짝 흠 새벽잠 새벽 쯤 공원 뭔 이야기 에어컨 틀다 싫다 유리창 열다 밖 떠들다 소리 잠 설치다 날 건물 유리창 꽉 닫다 소리 차단 걱정 아침 쥐다 문자 쥔장 건물 흐믓 미소 짓다 기분\">]\n",
            "[262, <tomotopy.Document with words=\"갑자기 여름 날씨 본격 계절 지난주 멀리 여행 다녀오다 그중 하이라이트 소개 국내 자주 찾다 전혀 풍경 시설 홀 반하다 가깝다 멀다 아웃 아쉬움 가득 해외 그대로 국내 여행 즐기다 마을 유명 메르송풀앤스파 실제로 근대 역사 거리 가깝다 거리 해수욕장 가깝다 프라이빗 장점 북적대다 규모 리조트 조용 한가 롭 즐기다 커플 가족 단위 여행 어울리다 체크인 오후 다음날 오피스 계시다 도와주다 바비큐 숯불 비롯 궁금 체크인 물어보다 더불다 소파 테이블 모든 가이드북 궁금 가이드북 에어컨 시작 제트 스파 자세히 참고 사용 자체 프라이빗 살펴보다 완료 빠르다 샤워실 거실 야외 테라스 제트스 파 베드 공간 따로 전체 인테리어 깔끔 화이트 스타일 링 모던 스타일 군더더기 모습 제일 청정기 계속 돌다 스타일러 갖추다 바베큐 냄새나다 옷 스팀 살균 하나하나 따로 급진 제품 하이라이트 펼쳐지다 앞바다 갖추다 아름답다 오션뷰 비교 빠지다 미모 바다 코앞 라운드 심하다 바다 왔구 철썩 철썩 소리 듣다 정말 누 귀 소리 싱크 시설 기기 고급 제품 꾸미다 인덕션 전자레인지 갖추다 정수기 전기 포트 캡슐 커피 머신 냉장고 냉동고 완벽 시설 자랑 쓰레기 비닐 봉지 행주 가위 집기 빠지다 없이 하나하나 세세 냄비 프라이팬 도구 고급 제품 갖추다 세제 바이러스 케어 시스템 브랜드 제공 완벽 갖추다 더불다 네스프레소 커피 머신 스타벅스 캡슐 오설록 티 종류 제공 식탁 바구니 물티슈 헤어드라 빗 마스크 하나하나 섬세 챙기다 부족 없이 야외 테라스 시원 파란색 돋보이다 벌써 낮 여름 날씨 들어가다 도착 수영복 갈아입다 장점 왼쪽 아름 구룡포항 오른쪽 넓디넓다 바다 오션뷰 끝 없이 높이 높다 커플 여행 적합 특히 해외 신혼 부부 신혼 여행지 꼽다 조용 근처 관광지 여행 더불다 아름답다 바다 뜨다 일출 어둡다 밤바다 야경 영화관 즐기다 장점 아침 찍다 일출 멋지다 엄마 모시다 다녀오다 스타일 처음 좋아하다 다음날 아침 아쉽다 마음 들어가다 마지막 바다 풍경 만끽 덥다 여름 반갑다 들어가다 계절 반갑다 제트 스파 갖추다 쌀쌀 따뜻 스파 보내다 여행 떠나다 쉽다 따뜻 스파 앉다 야외 탕 기분 노곤 노곤 보내다 비데 설치 샤워실 해바라기 핸드 샤워기 갖추다 어메니티 칫솔 치약 비롯 면도기 면봉 솜 스펀지 가글 샴푸 컨디셔 샤워젤 고급 리조트 사용 메종마르지 제품 타월 선반 바디 올 페이스 올 넉넉 체크인 미리 숯불 유료 맞추다 세팅 스파 적절 히 고민 숯불 비롯 거리 마트 다녀오다 즐기다 프다 미리 절약 야심 돼지 역시 굽다 젤 맛나 굽다 먹다 코 먹다 엄마 곰 밥 오늘 쏠트씌 열심히 굽다 날 목살 채소 때리다 넣다 볶음밥 해먹다 얼음 정수기 아침 아이스 커피 잔 아쉽다 바다 인증 샷 찍다 마무리 아쉬움 가득 마음 상큼 오렌지 주스 건네다 바다 배경 맛있다 해외 아름답다 바다 풍경 즐기다 현재 이벤트 금방 끝나다 빨리 확인 업체 이용권 제공 작성\">]\n",
            "[265, <tomotopy.Document with words=\"춘천감성숙소 서울근교여행 성비 총 글 여행 여행가세라 정말 자주 여행 김 혼행 성비 맛 뷰맛집 소개 요즘 신혼 여행 국내 다니다 여행 선호 수요 넘치다 힘들다 개월 떨어지다 시골 마을 전원주택 산 펼쳐지다 풍경 마루 앉다 시원 수박 베다 먹다 오래 한옥 리모델링 떨어지다 조용 쉬다 정말 리 막국수 낚시터 소양강댐 청평사 구봉산 카페거리 거리 스타 등장 해피 목장 가깝다 마당 주차 다양 관련 공지 확인 늘 스타 알리 날 쉽다 가끔 취소건 스타 업로드 금액 특징 여름 벌레 예민 참고 마루 펼쳐지다 풍경 시간대 예쁘다 머무르다 혜원 탁 트이다 조망 인근 우드 컬러 햇살 따뜻 운영 독립 정원 쉬다 실 혜원 불가 초록산뷰가멋져보 독립 정원 고양이 좋아하다 추 귀엽다 냥이 개냥 혜원 강변 금액 네이버 하루 씩 특징 개인 정원 인테리어 예쁘다 실 커플 친구 끼리 조식 맛 스럽 멋지다 풍경 아침 먹다 힐링 자체 유유자적 북한강 탕 예쁘다 수영장 개별 독 채 운영 벌써 핫 플레이스 유유자적 실 실 탕 좋아하다 풍경 실은 가족 여행 유유자적 경춘로 금액 유유자적 특징 탕 북한강 롭 수영장 공용 여관 오래전 리스트 올라오다 분위기 깡패 날 눈 날 개별 정원 개인 테라스 정원 선호 아무래도 요즘 마스크 끼다 시국 프라이 빗 계절 향기 마음 껏 숲 따뜻 목재 원목 아름 숲 나그네 소개 글 템포 쉬다 머물다 좌 실 우실 운영 인실 킹 사이즈 베드 비용 역시 치열 여관 금액 스테이폴리오 뒤 치 요즘 먼저 특징 숲 질다 건물 창문 넘다 숲 편안 어바웃플로 우 시내 떨어지다 시골 마을 시골 라이프 느끼다 아침 떠오르다 물안개 덮이다 마을 모습 멋 스럽 운영 아래층 부모 님 거주 철저 분리 불편 머물다 여러 여행 거실 침실 이닝 서재 나누다 어바웃 플로우 흐름 느끼다 기쁨 머물다 가족 여행 친구 끼리 머물다 어바웃플로 우 금액 어바웃플로 우 폴리오 스테이폴리오 조회 수수료 붙다 상원미술관 미술관 공간 작년 직접 인근 시내 떨어지다 아침 산책 새소리 물소리 바람 소리 듣다 쉬다 기억 시내 거리 꽤 체크인 슈퍼 발견 간식 추억 이상원 미술관 레스토랑 해결 저녁 먹다 다음날 조식 먹다 푸르다 초록뷰 아침 먹다 패키지 머무르다 무료 미술관 관람 아침 먹다 미술관 관람 머물다 점심 공방 도자기 체험 이상원 미술관 화악지암 금액 조식 네이버 패키지 다양 활용 성비 정말 기본 특징 베이직 인테리어 기본 깔끔 공방 체험 머물다 시내 카페 투어 맛 투어 거리 멀다 투숙 포스 팅 썸원스 페이지 숲 최근 숲스테 북스테 소식 쯤 떠나다 여행 숲멍때리기 이유 모이다 나누다 즐겁다 강화도 북스테 머물다 기억 좋아하다 생기다 그냥 쉬다 실 날짜 문자 기억 다양 운영 실과 실 실 실 취향 썸원스 페이지 숲 금액 요일 금액 다르다 성함 날짜 이유 문자 보내다 재미있다 이유 보내다 특징 다녀오다 숲 힐링 쉬다 날 날씨 날 햇살 가득 머물다 기다리다 헤이 성비 반려 견 여행 찾다 여행 성비 타입 다양 멋지다 풍경 편하다 장점 뚜벅 여행자 시내 투어 성비 패밀리 어린이 좋아하다 놀이방 강아지 선택 최저 성비 맞지 인테리어 화이트 우드 톤 깔끔 와플 토스트 간단 무료 제공 후니 찾아보다 아래 야놀자 애견 동반 애견 여행 참고 헤이 남춘 금액 야놀자 특징 남춘천역 도보 택시 걸리다 시외버스 터미널 택시 거리 뚜벅 여행자 풍경 머물다 성비 상상 마당 여행 막 시작 상상 마당 성비 운영 시외버스 터미널 남춘천역 거리 편리 가족 상상 마당 풍경 키즈 클럽 카페 공원 산책로 아침 산책 기본 온돌방 침대 불편 온돌방 주변 식당 편의점 미리 금액 검색 최저 스위트룸 성비 상상 마당 스포츠 타운 금액 여러 사이트 최저 특징 상상 마당 아트 센터 구경 카페 편의 시설 아침 공원 산책로 걷다 풍경 쉬다 편의점 식당 부족 참고 봄스테 시내 급 좋아서 소개 남춘천역 출구 거리 버스 터미널 거리 차량 없이 뚜벅 여행 시내 들어가다 화이트 톤 깔끔 반대 컬러풀 재미있다 취향 맞추다 시그니 서로 다르다 표현 테마 다양 심플 우드 모던 팝 컬러 노란색 시원 블루 라벤더 핑크 총 실 아담 다르다 확인 해부 여행 봄스테이 간단 조식 먹다 봄스테 카페테리아 즐기다 아침 여행 시작 앉다 일정 짜다 봄스테 남춘 금액 여러 사이트 최저 특징 시내 조식 무료 제공 커피 샌드위치 과일 청정기 설치 여행 무료 조식 성비 역시 하루 종일 예쁘다 엑셀 작성 오래 걸리다 언니 언니 당일 치다 머물다 기회 별로 예쁘다 나누다 제맛 예쁘다 소개 계속 여행 예쁘다 편하다 쉬다\">]\n",
            "[271, <tomotopy.Document with words=\"찾다 리 창고 친구 한번 계획 생계 쉬이 친구 가게 새로 인테리어 리모델링 쉬다 어째어 째 날짜 떠나다 하루 비행기 표 실랑이 날 폭우 그슥 떠나다 여행 다행히 폭우 비행기 표 완료 찾다 그랜드 하얏트 그랜드 조선 요금 독 채 찾다 니 찾다 찾다 바쁘다 후딱후 뒤비보 요것 좋아하다 제주감성숙소 눈 들어오다 호텔창고 사장 님 메르시 퇴근길 공항 한참 도착 맘 주차 도착 동시 세우다 편리 어디매 시내 떨어지다 사장 님 비밀 번호 알리다 찾다 입구 이름 적히다 모양 창고 창고 다르다 느끼다 한끗차이 미학 침대 데이 베드 포함 씩 자리 잡다 더블베드 놓이다 바닥 그거 침대 불 들어오다 잔디 마당 세상 롭 야밤 피크닉 흡사 공간 넓다 시원시원 에폭시 바닥 바삭 거리 이불 쾌적 만족 불가 놀다 사먹자주의 베이다 컨디션 넓다 수건 넉넉 요청 기꺼이 넣다 치약 치솔 샴푸 린스 바디 드라이 비누 야외 월풀 공간 마샬 스탠모어 반하다 알아보다 히 고민 커피 하루 치 그릇 이불 아이템 비치 비싸다 씰링팬 탐나다 창고 머물다 짓다 친구 기다리다 날 삐 짓다 취향 조건 창고 이유 퇴실 사장 님 만나다 실 평수 여쭈다\">]\n",
            "[275, <tomotopy.Document with words=\"최근 여행 만족 스럽 찍다 인생 샷 메이브리 즈 공유 짓다 오래 신축 외관 듣다 메이브리 즈 개별 테라스 바베큐 반려 동물 실 불가 개별 수영장 스파 보문단지 한화 리조트 버스 정류장 픽업 필수 워낙 인기 얼른 데일리 유의 사항 참고 메이브리 즈 들어가다 하루 소독 실시 방역 완비 덕분 데일리 어플 쿠폰 금액 카카오페 결제 선착순 원래 금액 저렴 여행 미리 혜택 쿠폰 혜택 놓치다 바라다 하절 온 수풀 요금 이벤트 메이브리즈 자체 진행 부분 확인 처음 정원 꾸미다 으리으리 꾸미다 전원주택 놀다 기분 건물 자체 심플 굉장히 예쁘다 디자인 돌아오다 날 건물 찍다 놀다 공용 야외 수영장 여름 인기 워낙 건물 예쁘다 개별 수영장 계절 상관없이 사계절 내내 인기 알리다 실제로 들어가다 인기 확 와닿다 층고 높다 복층 굉장히 넓다 정말 좋아하다 어른 주변 결혼 친구 늘 데리다 나가다 성인 끼리 힘들다 호캉스 합숙 훈련 자체 선택 어렵다 친구 꼭 소개 메이브리즈 시설 침구 깨끗 세탁 비치 잠들다 순간 기분 메이브리 즈 침구 욕실 어메니티 갖추다 인테리어 예쁘다 찍다 족 족 샷 탄생 요즘 시국 독립 공간 물놀이 메이브리즈 인기 요인 깨끗 내내 심심 물놀이 즐기다 쉬다 겨울 풀장 따뜻 가득 채우다 겨울 물놀이 가득 메이브리 즈 계시다 꼭 한번 경주풀빌라펜션 풀빌라펜션 경주감성숙소 국내풀빌라 제작비 작성\">]\n",
            "[285, <tomotopy.Document with words=\"신화테마파크 워터파크 다양 즐기다 보내다 쯤 장마철 날씨 좋아서 놀이공원 워터파크 정말 몽 땅 즐기다 여름 휴가 즐기다 도민 월드 메리어트 보내다 가득 여름휴가 제대로 뛰놀다 월드 힘들다 뛰놀자 숙박 급하다 알아보다 참고 월드 다양 이루어지다 메리어트 선택 가족 서머셋 괜찮다 찾다 월드 꼭 한번 숙박 월드 메리어트 랜딩 서머 로비 고급 스럽 체크인 간단히 확인 들어가다 고급 스럽 이루어지다 백화점 꼭 여행 로비 가운데 나무 신비 스럽 계단 올라가다 피아노 카페 곳곳 꾸미다 로비 구경 가보 메리어트 주변 수영장 주차장 쇼핑 다양 편리 로비 월드 부대시설 시설 정말 끝 열심히 넘기다 넘기다 건물 워낙 넓다 찾다 찾다 어렵다 확인 길이 헷갈리다 리셉션 찾다 리셉션 중심 부대시설 방향 찾다 심플 모던 인테리어 테이블 의자 침대 비치 침대 옆 커튼 바깥 풍경 빛 그대로 은은 하얗다 커튼 암 막 커튼 이루어지다 리조트 다양 시설 즐기다 거리 갖추다 하루 숙박 숙박 은은 조명 분위기 더욱 포근 침대 비치 친구 숙박 총 타입 침대 옆 조명 저녁 메인 조명 끄다 옆 스탠드 조명 켜다 생활 서랍 문 열다 커피포트 시설 갖추다 서랍 문 열다 샤워가운 여유 옷걸이 여름 린 옷 린 구김 심하다 다리 질 필수 편하다 침실 옆 욕실 벽면 대리석 심플 인테리어 조명 노란빛 따뜻 더불다 고급스 런 욕실 여유 타올 세면도구 비치 보내다 메리 트다 프리미어 패밀리 구경 친구 가족 숙박 패밀리 확실히 숙박 들어가다 입구 옆 거울 들어가다 순간 기분 향기 가득 느끼다 침대 비치 거뜬 히 눕다 사이즈 침대 티비 침대 눕다 티비 시청 침대 옆 의자 아침 잔 저녁 맥주 잔 휴식 포근 침구 쾌적 휴식 환경 제공 침대 푹신 눕다 순간 잠 솔 솔 기분 눕다 눈 감기다 냉장고 문 열다 생수 맥주 콜라 사이다 비치 미니 바 기본 제공 투숙 제공 이후 이내 체크인 단일 투숙 간주 디럭 스다 마찬가지 패밀리 커피포트 타입 다르다 뿐 비치 용품 비슷 실제로 숙박 정말 맘 쏙 맘 주변 부대시설 맘 쏙 정말 추 보내다 신화테마파크 놀다 라바 캐릭터 테마 놀이 공원 캐릭터 스토리 숨 쉬다 유일 롤러코스터 댄싱 오스카 포함 놀이 놀이기구 어트랙 셔 체험 게임 퍼레이드 쇼 다양 즐기다 즐겁다 즐기다 어른 즐겁다 보내다 차별 서비스 제공 월드 메리어트 여름 여행 추억 바라다\">]\n",
            "[287, <tomotopy.Document with words=\"봄 만나다 떠나다 지나다 여행 화사 봄꽃 덕분 제대로 힐링 일조 감동 숙박 머물다 즐겁다 유독 썬앤문이 하필 흐리다 날씨 다소 아쉽다 갬성충 마음 껏 누리다 썬앤문 오후 마감 커플 맞추다 체크인 뒷편 주차장 문 괜찮다 리조트 친절 로비 여러 내역 숙박 사이트 평점 걸리다 넘다 평점 썬앤문리조트 괜찮다 느끼다 주변 한국 소품 인상 깊다 외국인 머무르다 특별 기억 당일 날 아침 만나다 귀엽다 냥 리조트 키우다 녀석 드나들다 자주 찾다 고양이 좋아하다 녀석 다가가다 쓰담쓰담해 가만히 무서워하다 한참 놀다 떠나다 발길 떨어지다 리조트 앞쪽 예쁘다 가든 형성 만끽 센스 돌하루방 유독 눈길 끌다 날씨 인생 샷 포토존 터 아쉽다 투숙 담다 바래다 기분 시원 펼쳐지다 바다뷰 아무것 파노라믹 펼쳐지다 오션뷰 비슷 썬앤문 리조트 햇님 님 님 나뉘다 님 더블 디럭스더 블룸 라지트윈룸 구분 투숙 님 디 럭스 스위트룸 스위트룸 전체 면적 규모 투숙 특히 어린이 동반 가족 여행 괜찮다 기본 갖추다 옷걸이 화장대 면봉 솜 간단 비품 헤어드라이기 비치다 밖 인치 와이파이 무료 사용 냄비 그릇 인덕션 전자레인지 간단히 먹다 체크인 시내 쪽 나가다 저녁 먹다 막상 나가다 상실 그냥 먹다 편의점 재료 처음 짜파구리 먹다 맛 괜찮다 괜찮다 즐기다 마음 선택 결정 결정 냉난방 식 제습기 벽면 켠 붙다 바이러스 첨단 시스템 안내문 인하다 민감 부분 시스템 내용 기분 님 디 럭스 스위트룸 비치 베드 더블 베드 베드 깜짝 이벤트 풍선 예쁘다 셋팅 선물 기분 동남아 휴양지 리조트 타월 모형 새 핑크핑크 풍선 하트 모양 장식 커플 여행 신혼 여행객 이벤트 흐믓해 욕실 역시 깔끔 샴푸 컨디셔 샤워젤 치약 칫솔 비누 제공 타올 넉넉 제공 과하다 오랫만 뜨겁다 제대로 샤워 목적 샤워 님 디 럭스 스위트룸 스파 즐기다 월풀 특히 반신 욕 즐겁다 입욕 오랫만 제대로 스파 즐기다 샤워 뜨겁다 가득 입욕 스파 버튼 즐겁다 괜찮다 투숙 입욕 다짐 막상 일상 돌다 깜빡 잊다 일쑤 제대로 욕조 몸 담구다 완벽 반신 욕 즐기다 온도 잘못 맞추다 뜨겁다 들어가다 스파 즐기다 하루 마감 힐링 타임 따로 썬앤문 깨닫다 야식 밖 가득 분위기 바뀌다 버리다 모습 밤 더욱 로맨틱하다 바뀌다 버리다 머물다 날씨 춥다 다음날 아침 조식 맞추다 야외 테라스 썬앤문 투숙객 조식 제공 서비스 선택 음료 커피 오렌지 주스 샌드위치 아이스크림크로와 싱싱 오렌지 비주얼 스타 푸짐 먹다 특히 아이스크림 중간 크로와상 들어가다 순식간 사라지다 버리다 투숙 이미 괜찮다 만족 스럽 시설 시설 너무나 친절 서비스 인상 깊다 기억 근처 산방산 용머리 여행 유채 꽃 마음 껏 즐기다 완벽 여행 일정 자체 만족도 높다 괜찮다 찾다 썬앤문 리조트 눈여기다 제주특별자치도 리 사항 업체 숙박 제공\">]\n",
            "[300, <tomotopy.Document with words=\"로맨틱하다 광안리 오션투 헤븐 글 유지 바다 아름답다 도시 거주 벌써 거주 바다 바다 씩 호캉스 즐기다 꽤 괜찮다 광안리 성비 호캉스 즐기다 오늘 이야기 이날 선택 횟집 거리 오션 브릿지 해수욕장 끝 자세 맨 아래 첨부 오션 브릿지 운영 만나다 체크인 로비 프론트 엘리베이터 내려서다 오른쪽 로비 프론트 참고 체크인 오후 이후 로비 전체 아담 편 테이블 서너 아침 조식 먹다 사용 이날 머무르다 광안리 오션투 헤븐 스다 위트 오션 타입 더블 침대 들어가다 인테리어 예쁘다 청정기 굉장히 숙면 정말 정말 중요 베딩 매트리스 살짝 단단 타입 침구 폭신 폭신 구스다운 침대 앞쪽 데스크 헤어드라이어 어메니티 비치 참고 넷플릭스 시청 세면도구 치약 칫솔 폼 클렌징 여성 기초스킨케 샘플 알차다 들어가다 프론트 충전기 고데 대여 정말 몸 데스크 옆쪽 무료 생수 커피 티 즐기다 전기 포트 캡슐 머신 아래쪽 미니 냉장고 자리 옆쪽 옷장 얇다 슬리퍼 무겁다 빳빳 가볍다 부드럽다 원단 편하다 찌다 감동 스타 스타 처음 정말 편하다 괜찮다 근처 조개 엄청 저녁 유용 욕실 널찍 세면대 공간 여유 롭 특히 욕조 엄청나다 큼직 들어가다 충분히 넓다 특히 커플 머무르다 프론트 입욕 따로 판매 어메니티 댕기 머리 포르테 브랜드 샴푸 컨디셔 바디워 퀄리티 세면대 쪽 비데 설치 좌변기 이날 아쉽다 날씨 흐리다 올해 유난히 흐리다 날 정말 마냥 광안리해수욕장 야경 예쁘다 카이트 와인 스다 위트 오션 맛있다 와인 올리다 완전히 야경 즐기다 아끼다 이날 야경 기다리다 보람 참고 오션투헤븐 광안대교 해수욕장 방향 널찍 통유리 아래 바다 꽉 해수욕장 방향 야경 예쁘다 바다 제대로 끼다 원래 근처 저녁 먹다 들어오다 와인 따다 맛 검색 깜빡 잠 버리다 사이 판타님 배달 덕분 저녁 즐기다 맛있다 이날 즐기다 와인 정말 적당히 적당히 드라이 호불호 없이 즐기다 맛 카이트 와인 다음날 아침 로비 즐기다 조식 샌드위치 씩 제공 이외 토스트 시리얼 라면 간단 편 저녁 먹다 아침 고프다 라면 들어가다 은근 풀리다 먹다 샌드위치 토스트 시리얼 맛있다 광안리 오션투 헤븐 근처 자전거 앞쪽 테크 펼쳐지다 광안대교 조망 이날 해무 정말 멋지다 날 감탄 구경 기억 광안리해수욕장 근처 피크닉 세트 대여 카페 피크닉 즐기다 이날 호캉 스다 카이트 어플 최저 찾다 자주 사용 어플 머무르다 프로모션 카이트 프로모션 숙박 적용 쿠폰 제공 결제 사용 천 코드 제공 투숙 기간 와인 스다 위트 오션 스다 위트 오션 와인 병 조식 레이 트다 제공 중순 쿠폰 적용 참고 기본 넘다 쿠폰 천 코드 혜택 적용 휴가 여행 정말 유용 여름 모든 들이다 빨리 빠지다 미리 미리 마음 휴가 제대로 즐기다 카이트 쿠폰 팩 프로모션 오늘 소개 이외 모든 적용 부분 바라다 카이트 오션투헤 블다\">]\n",
            "[312, <tomotopy.Document with words=\"독채 탄 잇다 탄 개인 탄 데리다 아쉽다 가격대 비싸다 심쿵 여행 선호도 탄 밀리다 담번 담다 심쿵네 군데 검색 조건 역시 독채 자쿠지 마당 아래 순서 무작위 번호 지나다 잇다 지나다 하단 르 지난번 제목 지나다 저렇다 마무리 이제야 채 아래 쥐다 장님 스타 데리다 아래 쥐다 장님 출처 놀다 조심 스럽 연인 찾다 적합 비슷 컨셉 원룸 꾸미다 지루 아래 쥐다 장님 출처 새로 짓다 건물 재료 사용 독특 느끼다 편리 갖추다 거스름 규모 차이 뿐 인테리어 스타일 비슷 여행 짧다 여행 쯤 심쿵네 분위기 마음 정원 테이블 화려 스럽 분위기 마음 다소 후기 그리 궁금 애 돌 후기 애월돌 돌 다녀오다 알리다 이러저러 편의 시설 가깝다 마음 외지다 머무르다 벌레 옛 비슷비슷 전반 분위기 마음 금액 마음 자쿠지 다니다 알리다 반 걱정 반 중임 쏘그 베다 마음 랬 자쿠지 수영장 밖 거리 맘 하루 머무르다 고심 금액 부담 스럽 패스 아래 쥐다 장님 밖 거리 분위기 계속 눈 상향 평준 따땃 들어가다 수영장 여름 놀다 나다니다 며칠 재미나다 거리 아쉽다 자쿠지 수영장 거리 비수기 금액 예쁘다 안거 리 밖 거리 가깝다 서로 쓰이다 건너 밖 거리 수영장 자쿠지 높다 여름 데리다 실내 가족 탕 훨 금액 아래 참조 없이 제대로 누리다 충분히 힐링 온 생기다 핫 아래 공홈 테마 불 흙 나무 고르다 머무르다 내내 테마 아로마 제공 단정 누리다 프다 사우나 신행 몰디브 바닷가 절벽 마사지 스파 아직 인상 기억 몰디브 생각나다 머무르다 심신 아쉽다 쌍둥이 데리다 힐링 사우나 빠지다 꺼내다 바쁘다 마음 담다 홈 거리 밖 거리 빌리다 오롯 독 채 정원 금액 꽤 높다 편 거리 밖 거리 사용 거리 머물다 밖 거리 부엌 침대 욕실 부엌 원룸 스타일 바다고래 넓다 숲고래 담 건너다 바 가족 머무르다 팀 머무르다 비용 그리 느끼다 심쿵남매 오롯 머무르다 공간 애매 패스 펀딩 살리다 이름 프로젝트 컵셉 재미 아늑 매력 일반 블루 화이트 앤드 블루 정말 실내뷰 끝내다 금액 예쁘다 하루 머무르다 잦다 피하다 씩 최종 빼다 버리다 군데 빼다 인기 자쿠지 찬물 검색 리스트 자아 나름 데리다 검색 담 그야말로 그야말로 씩 덜컥 덜컥 빌리다 봄 여름 알아보다 맘 실 올 알아보다 내년 꺼 분위기 틀다 리스트 꼭 올리다 프다 핫 대부분 실 찾다 나중 꼭 써먹다 아래 지난번 독채 탄\">]\n",
            "[313, <tomotopy.Document with words=\"올 부지런히 국내 발굴 꼭 마음 먹다 거제도 훌쩍 넘다 신혼 여행객 숙박 어렵다 지점 새로 이거 먼저 새로 생기다 시설 깔끔 거제도 지점 규모 개별 히노끼탕 야외 그동안 국내 다니다 자극 신혼 여행 유명 직접 숙박 이해 굳이 나가다 히노끼탕 프라이빗 온 천하 맥주 끼니 걱정 없이 저녁 아침 숙박비 포함 커플 유카타 일본식 다다미 잔 살짝 해외 여행 하루 숙박 온 몸 노곤 노곤 깊다 느끼다 숙박 일본 여행 경험 제공 개성 충분히 애쓰다 찾아오다 처음 망설이다 벚꽃 시즌 예쁘다 망설이다 미리 결제 버리다 요즘 주일 무료 취소 인기 미리 찜해두 막상 숙박 동행 쯤 돈 판단 넓다 욕조 조식 석식 포함 일본 료칸 저렴 비행기 값 굳다 시국 맞다 프라이빗 해외 못 아쉬움 살짝 달래다 숙박 여행 처음 의아 일본 스타일 그대로 굳이 한국 오래 솔직히 료칸 그립다 료칸 일본 전통 단순히 숙박 개념 나라 전통 경험 간소 갖추다 갖추다 들어서다 우와 소리 절로 다다미 디럭 스다 더블 숙박 바닥 다다미 짚 돗자리 바닥 미리 유카타 무료 대여 잔 캬 일본 여행 타입 기본 다다미 디럭 스다 더블 넓다 다다미 스다 위트 더블 여행 기본 기본 침실 거실 미 히노끼탕 욕실 테라스 넉넉 머무르다 마침 전망 벚꽃 나무 눈높이 바라다 일본 참고 찾다 어플 국내 검색 숙박 찾다 비교 편하다 신규 짜리 쿠폰 지급 기존 묻다 따다 사용 쿠폰 원래 정가 저렴 참고 빨리 마감 편 원하다 날 미리 선점 디럭스 스다 위트 숙박 체험 토모노 숙박 꼽다 히노끼탕 히노끼탕이 특성 나무 살짝 곰팡이 피다 오래 히노끼 탕 욕조 새 나무 무척 진하다 내내 숲 수온 원하다 온도 맞추다 틀다 걸리다 수압 쏠트 디테일 일본 료칸 살리다 놀랍다 좋아하다 숙박 내내 세 특히 바깥 즐기다 히노끼탕 정말 오래 못 잊다 소개 히노끼탕 프라이빗 욕조 개념 야외 탕 울타리 대나무 두르다 쌓이다 수영장 벽 돌담 쌓다 올리다 제대로 탕 분위기 수온 따끈따끈 저녁 시간대 물놀이 따뜻 즐기다 탕 사용 수영복 히노끼탕 세 사용 찍다 여름 물놀이 놀다 컨디션 살짝 아쉽다 일본 가이세키 정식 아쉽다 반면 숙박비 포함 간단 품 메뉴 이해 그럭저럭 먹다 조 식다 밥 카레 후라이 김 간단 편 공간 끼리 칸 칸 나누다 덕분 여러 섞이다 필요 없이 프라이 빗 즐기다 참고 아침 기간 나뉘다 이거 체크인 결정 역시 조식 석식 저녁 시간대 나뉘다 시간대 맞추다 친절 프라이빗 가득 품 석식 개인 화로 개인 화로 직접 굽다 먹다 화로 소꿉놀이 먹다 배부르다 맥주 천 이날 가이세키 먹다 맥주 괜히 분위기 취하다 진솔 이야기 식당 마감 떨다 역시 새삼 체감 오늘 국내 이색 소개 똑같다 숙박 체험 찾다 요즘 시대 끼리 프라이 빗 즐기다 중요 그간 못 해외여행 국내 만족 한번쯤 숙박 요금 가깝다 애쓰다 찾아가다 특별 날 마음 먹다 숙박 팁 편의점 캔 맥주 히노끼 탕 즐기다 나무 모양 바가지 띄다 정말 예쁘다 료칸 여행 벚꽃 시즌 단풍 피다 예쁘다 자세 실제 숙박 객 후기 어플 참고 국내 료칸 한번쯤 체험 끼리 프라이 빗 히노끼 탕 찾다 조식 석식 끼니 걱정 찾다 다다미 침실 욕실 넓다 찾다 원고료\">]\n",
            "[314, <tomotopy.Document with words=\"친구 여행 다녀오다 매년 한두 씩 여행 다니다 친구 시국 시국 코로나 창궐 이후 여행 못 여행 먹다 놀다 의미 예쁘다 아늑 찾아보다 발견 충남 한적 따뜻 즐겁다 보내다 한적 실 아쉽다 외관 한적 가늘다 독채 이루어지다 마당 따로 옆 소음 전혀 들리다 구조 마당 펜스 구분 펜스 서로 나름 프라이 빗 마당 공간 외관 한옥 레트로 원목 화이트 어우러지다 할머니 화장대 꽤 어울리다 전체 침구 깨끗 상태 훌륭 한적 실은 숙박 실 크기 더블 침대 싱글 침대 온돌 넉넉 침실 더블 침대 인실이 예쁘다 화장대 완벽 화이트 톤 깔끔 캡슐 넉넉 주시 껏 다니다 어른 인원수 캡슐 개라 인심 감동 편 커피 좋아하다 친구 여러 잔 다음날 아침 모닝커피 만족 냉장고 예쁘다 넉넉 수건 넉넉 실 내외 씩 날 춥다 불 멍하다 날씨 날 계속 예쁘다 데크 테이블 불멍세트 화롯대 장작 토 치다 걸맞다 밤 맛있다 꿀 고구마 제공 희다 번거롭다 패스 바베큐 불멍중 친구 따로 피우다 불 피우다 문자 상세 히 캠핑 다니다 옆 스스로 피우다 처음 토치 불 무섭다 붙다 옆집 주택 불멍 설치 인분 연관 추측 코 시국 대면 문자 방식 훌륭 좋아하다 따뜻 갬성 너무나 친절 위생 상태 훌륭 시내 배달 도보 거리 김피탕가게 포장 먹다 동네 유명 공주숙소 공주감성숙소 국내여행 한적한가 공주한적한가 공주펜션 공주여행 국내감성숙소 충청도여행\">]\n",
            "[316, <tomotopy.Document with words=\"째 유명 어쩌다어 카페 운영 코로나 확산 당분간 임시 휴업 상태 출입문 사장 님 마주치다 왔다갔다 편하다 주차 대로변 주차 엘레베이터 계단 라인 라인 라인 호수 다른컨셉 날 날 선택 폭 선택 이유 취향 하단 부분 올라가다 힘들다 모든 방중 선택 호라 스파 선택 아쉽다 낮 바깥 보임 코앞 어달해변 촤르르 르 최고 최고 굉장히 깔끔 편 아담 간단 취사 레인지 인덕션 취사 도구 인테리어 깔끔 편 벽면 바닥 오래 흔적 보임 실 컷 구경 에어컨 당황 체크인 키 꽂다 전기 어쩌다 수칙 간단히 날 절대 금연 카드 분실 일반 쓰레기 재 활용 쓰레기 퇴 실 입구 분리수거 배출 어지르다 찍다 그냥 막 찍다 침대 찍다 창가 쪽 찍다 남편 협조 셀카봉 찍다 필수 끼 이유 따로 휴식 취하다 남편 창가 어슬렁 거리 찍다 봐도봐 예쁘다 증말 거리 해변 산책 한적 여유 롭 근처 투 카페 천국 계단 이마트 편의점 정말 떨어지다 해수욕장 갔다오다 분명 해변포차가있대 저녁 아무리 찾아보다 묵호항 배달앱 켜다 배달 배달 먹다 푸짐 해조 류 알차다 저렴 맛있다 먹다 폭풍 흡입 퉁퉁 붓다 얼굴 기상 떠나다 떠나다 포토 타임 멈출수없엌 포즈 어색 커튼 잡다 남편 우행시 빠지다 브이 마무리 오션뷰임 저렴 나름 깨끗 시설 만족 기념일 찍다 주변 정말 근처 논골담 아래 리뷰 참고 조용 한적 오션뷰 즐기다\">]\n",
            "[320, <tomotopy.Document with words=\"짧다 여행 다녀오다 임진각 평화누리 공원 호수 헤이리 마을 프리미엄아울 렛 가족 여행 여행 일정 잡다 알아보다 나름 접근 편리 편하다 쉬다 만하다 파크뷰 테라스 하룻 밤 머물다 호수 파크뷰 테라스 잡다 갑자기 다행히 잡다 출판 무리 없이 야당역 걷다 걸리다 교통 편하다 외관 건물 엄 신축 테라스 온 테라스 호수 눈 유명 주변 관광 관광객 건물 주차장 따로 편하다 주차장 넓다 넉넉 주차 차량 등록 전기 충전 자리 따로 주차 전용 엘리베이터 내려오다 데스크 특이 셀프 대면 체크인 프론트 기계치여 걱정 특이 스마트폰 문 열다 닫다 키 발송 번호 누르다 문 열리다 디럭스룸 전체 선택 결제 엘리베이터 입구 쪽 입구 깔끔 쾌적 엘리베이터 금연 구역 써 건물 전체 금연 구역 생활 형 숙박 시설 종량제 봉투 민감 정말 다행히 높다 층수 배정 참고 주차장 입구 구조 테라스 선택 디럭스 소파 티비 침대 식기구 원래 넉넉 공간 인덕션 아담 편 괜찮다 크기 수건 샤워 용품 기본 갖추다 전체 깔끔 화이트 톤 조명 끄다 밝다 햇빛 들어오다 아래층 기본 식탁 옷 수납 공간 식탁 기본 온 갖다 리모콘 정돈 넷플릭스 왓챠 티비 여러 스트리밍 서비스 기본 탑재 넷플릭스 계속 화면 커서 자막 베란다 문 활짝 열다 높다 건물 시원 바람 들어오다 호수 베란다 가까이 예쁘다 이름 파크뷰 테라스 베란다 의자 바라보다 낮 예쁘다 밤 분위기 호수 조명 돋보이다 위층 간단 침대 조명 짐 수납 공간 침대 푹신푹신 괜찮다 성인 눕다 공간 충분 옆 가드 복층숙소 처음 높다 넓다 티비 공간 공간 따로 분리 잠 체크인 반 늦잠 충분 낮 돌아다니다 바람 늦다 체크인 머무르다 고려 가성비 꽤 괜찮다 밖 나가다 걷다 번화가 가까이 번화가 붙다 시끄럽다 영화관 밥집 다양 놀다 아까 호수 실제로 산책 조용 달라다 데이트 밤 선선 산책 주변 조용 쉬다 낮 돌아다니다 빨리 잠 머물다 아쉽다 호수 근처 고르다 은근 어렵다 호수 가까이 쾌적 파크뷰 테라스 후회 선택 인테리어 예뻐서 예쁘다 머물다 기분 편하다 쉬다\">]\n",
            "[325, <tomotopy.Document with words=\"한적 편안 오피스 여행 관광지 돌아다니다 셀프 만삭 촬영 체력 편안 쉬다 목적 번잡 한적 위주 알아보다 보내다 둘째 날 숙박 공항 편하다 동쪽 위주 알아보다 눈 띄다 지역 코워킹 스페이스 피스 오피스스테이 요기 해수욕장 들어가다 해수욕장 근처 카페 저녁 먹다 쪽 예쁘다 카페 맛있다 식당 아쉽다 둘째 날 날씨 막 쏟아지다 다행 빼놓다 흑 돼지 맛있다 먹다 자세 리뷰 아래 확인 다양 지점 저녁 맛있다 먹다 착하다 오피스스테 공항 여행 마지막 날 올라가다 따로 스텝 만나다 무 체크인 시스템 모바일 연락 계단 꽤 편 엘리베이터 따로 참고 임신 무리 올라가다 끼리 문 가깝다 걱정 살짝 전혀 못 느끼다 인테리어 씩 달라다 고르다 재미 에어비엔비 사용 수건 요렇다 밖 내놓다 분리 수거 원룸 구조 커다랗다 멀다 바다 아쉽다 버티다 올리다 찍다 인스타에 올리다 여행 인스타 전체 원목 조명 따뜻 마음 요즘 요런 찾다 커플 끼리 친구 끼리 웰컴 쿠키 수건 넉넉 침대 머리맡 충전기 비치 손소독 공간 좁다 넓다 괜찮다 천 지불 전자렌 드라이 옷걸이 넉넉 전체 상태 냉방 자체 벽걸이 에어컨 금방 시원 이것저것 불 본격 취사 참고 냉장고 병 저녁 시장 애플 망고 자르다 먹다 기억 스텝 없이 체크인 아웃 편하다 편하다 오피스 정말 공간 빌리다 편안 쉬다 욕실 비누 비롯 샴푸 비치 상태 요기 건물 코워킹 스페이스 오피스제주에 비용 빌리다 사용 공유 오피스 들르다 여유 롭 책 읽다 실제로 다녀오다 후기 꽤 아참 조식 비용 음료 간단 조식 갖다 먹다 자세 호스트 께 근처 한번 스다 윽 나가다 해수욕장 바닷가 마을 만나다 한적 조용 편안 쉬다 한적 조용 편 히 쉬다 찾다 계시다 오피스스테이 괜찮다\">]\n",
            "[328, <tomotopy.Document with words=\"어쩌다 신혼 여행 이리저리 찾아보다 비싸다 이쁘다 돈 기록 여행 참고 글 편 편 아래 참고 부탁 차경 예쁘다 월림차 밖 찍다 엄 이쁘다 야외 탕 힐링 상반기 풀부킹 유턴 금액 참고 귤 한가 이름 귀엽다 귤 겨울철 귤 따다 무료 체험 운영 원하다 일자 탈락 이국 분위기 아름답다 동남아 놀다 제주세도 일정 탈락 코사무 이국 분위기 국내 해외 놓치다 한라 고 급진 한옥 인테리어 스럽 한창 인기 유우스테 이쁘다 설명 쪼다 짧아지다 시작 유우스테이 이쁘다 미아 야외 자쿠지 넘다 멋 스럽 밤 탕 즐기다 이거 찾아보다 이쁘다 설명 이쯤 실제로 소개 아날로그 할머니 정겨운 실제로 오래되다 양옥 운영 엔틱 반하다 버리다 소개 아래 참고 애 애 에어비엔비 가득 해버렸답니 닷 실제로 돌 리모델링 공간 중심 이곳저곳 놀러가다 시재시 재 시재시재 썸네 나무 그루 메인 꼭 찍다 하얗다 건물 외관 심플 모던 이쁘다 비수기 문자 구경 조선그랜드 신라호텔 월드 롯데 바꾸다 아날로그 년돌 시재시 재 코스 짜다 터 코스 쉬엄쉬 엄 짜다 웨딩 촬영 쪽 집중 즐겁다 신혼여행 바라다\">]\n",
            "[332, <tomotopy.Document with words=\"오늘 최근 언니 다녀오다 후기 나누다 스위트 새롭다 선보이다 프리미엄 스파 부티크 문자 도착 건물 찾아가다 자세 알리다 찾다 쉽다 참고 명동역 도보 거리 배정 도착 문 코로나 방역 관련 클린 존 스티커 붙다 참고 숙박 슬리퍼 컵 식기 대부분 맞추다 꾸미다 더블 베드 더블 베드 숙박 코 골다 나누다 편하다 원룸 형태 거실 공간 구조 참고 스위트 여러 들어가다 넓다 오른편 왼편 거실 구조 적당히 넓다 사이즈 친구 또는 가족 따로 눈치 실내 데이트 즐기다 간단 데이트 만하다 찾다 커다랗다 욕조 제대로 힐링 욕조 커플 실내 데이트 욕조 자유 롭 빼다 냉수 자유 롭 조절 눈치 사용 아쉽다 꽉 채우다 숙박 씻다 오래 걸리다 공간 냉장고 인덕션 간편 밀키트 가져오다 이것저것 간편 먹다 주위 맛 배달 편의점 빵집 브런치맛지 브 카페 먹다 걱정 뚝 냉장고 생수 병 레인지 간편 데우다 먹다 참고 인덕션 냄비 그릇 수저 전기 포트 필요 양념 류 직접 실내 데이트 밀키트 추하다 스파룸 저녁 따끈 반신 욕 즐기다 별거 엄청나다 힐링 욕조 밖 욕조 반갑다 퇴근 불 보내다 저녁 배달 맛 먹다 한참 고민 날 저녁 오징어 연어 보리 숭어 회무침 주먹밥 편의점 맥주 언니 야무지다 주먹밥 맛있다 날 정말 만나다 가득 떨다 살짝 늦다 생파 플라자 지하 블랑제리 얼 그레이 케이크 요거 얼 그레이 맛 맛있다 오늘 실내 만하다 또는 놀다 후기 나누다 핑계 언니 멀리 퇴근 스파 즐기다 주위 맛 배달 맛있다 해결 제대로 실내 데이트 즐기다 참고 다녀오다 명동역 출구 도보 거리 스다 위트 스다 위트 전용 앱 출시 현장 얼리체크 또는 레이 트다 아웃 무료 제공 원래 무료 혜택 꼭 마지막 아래 참고 서울데이트 힐링데이트 실내데이트 서울이색데이트 서울실내데이트 실내데이트추천 서울데이트추천 서울주말데이트 서울실내데이트추천 서울데이트가볼만한곳 서울감성숙소 서울숙소 서울풀빌라 업체 숙박 권 제공 직접 숙박 작성\">]\n",
            "[334, <tomotopy.Document with words=\"지난번 잇다 소개 내용 동대문구 광희문 근처 리 재 아담 아늑 공간 동대문 역사 공원 인근 광희문 리 재 촬영 카카오 연락 바라다\">]\n",
            "[358, <tomotopy.Document with words=\"친구 촌 독 채 한옥 독일 포스 팅 기억 친구 시내 멋지다 힐링 퇴근 달려가다 여행 기분 하룻밤 보내다 다음날 꼭두새벽 출근 서두르다 피곤 피곤 분주 힐링 일부분 느끼다 동대문 리 재 친구 숙박 이벤트 당첨 덕분 무료 숙박 행운 누리다 채 나란히 형태 스테이폴리오 검색 요금 다르다 지하철 동대문 역사 공원 출구 도보 거리 광희문 옆 창밖 한양 성곽 그야말로 스타 자격 갖추다 퇴근 모이다 잠 날 나가다 여유 근처 동대문 동대문 쇼핑몰 둘러보다 없이 도보 거리 성곽 느긋 산책 즐기다 안타깝다 날 하루 종일 주룩주 룩 쨍 골목 풍경 찍다 성곽 옆 이어지다 골목 예쁘다 이내 거리 시내 둘러보다 무인 시스템 미리 알리다 비번 문 열다 들어가다 예쁘다 현관 반기다 현관 왼쪽 서울시 외국인 관광 도시 민박 등록 업소 증명 걸리다 영문 외국인 짐작 역시 원래 외국인 여행객 코로나 지속 외국인 여행객 급감 내국인 외국인 주로 아무래도 나라 알리다 숙박 이벤트 진행 짐작 현관 들어서다 거실 먼저 눈 들어오다 그리 넓다 굉장히 아기자기 소품 곳곳 일본 민박 화려 세련 공간 활용 굉장히 공들이다 배치 흔적 역력 의자 벤치 숙박 의자 부족 거실 따로 에어컨 에어컨 에어컨 켜다 거실 충분히 시원 다행히 덥다 에어컨 켜다 한편 외국인 현관 오른쪽 벽 영어 지하철 노선도 걸리다 영어 덩달다 외국 여행 기분 공간 넓다 거실 분리 그냥 붙다 싱크대 없이 그냥 옆 인덕션 네스프레소 커피 머신 놓이다 현실 어렵다 전기밥솥 레인지 원하다 밀키 트다 배달 저녁 해결 거실 일본 민박 식기 류 더욱 일본 분위기 진하다 럭셔리 아기자기 오밀조밀 꼼꼼 배치 식기 종류 충분 서랍 재 활용 봉투 종류 비치 컵 머 유리잔 와인 잔 종류 감동 식기 수저 젓가락 도구 나무 비치 일본 분위기 짐작 일본 관광객 타깃 인테리어 비치 비품 디테일 사장 님 여행 싱크대 부킹 닷컴 평점 마크 숨다 의외 원래 높다 평점 홍보 효과 높다 눈 띄다 세우다 싱크대 맨 꼭대기 숨기다 굳이 마크 필요 자신감 처음 거실 들어서다 테이블 당황 스럽 자세히 벽 세우다 나무 판 테이블 식 테이블 필요 벽 세우다 정말 공간 활용 끝판 왕 냉장고 책장 일본어 가이드 비치 좋아하다 아루 코 코트 립 가이드 반갑다 가이드북 내용 풍부 책 디자인 돋다 가이드북 매력 나라 권 씩 갖다 이거 역시 일본 여행객 타깃 맞다 역시 사장 님 여행 무트 그리 넓다 거실 테이블 덕분 편안 즐기다 타임 의외 욕실 불편 없이 욕실 사용 숙박 욕실 불편 욕실 자체 꽤 넓다 편 사용 편리 욕실 세탁기 투숙객 어메니티 샴푸 바디워 컨디셔 핸드워시 치약 칫솔 개인 어메니티 제품 욕실 일본 민박 참고 수건 넉넉 히 비치 꽤 두툼 수건 사용 거실 무 세 싱글 침대 나란히 근데 싱글 침대 액면 그대로 싱글 사이즈 살짝 불편 좁다 싱글 침대 여행 유스호스텔 도미토리 만나다 크기 침대 세 들어가다 꽤 편 스탠드 에어컨 굉장히 시원 큼직 감동 프로젝트 넷플릭스 아이디 제공 밤 영화관 넷플릭스 즐기다 밀리다 워낙 틈 메인 옆 커다랗다 더블베드 놓이다 밤 도착 블라인드 열다 화창 날 블라인드 열다 햇살 비치다 날 밤 블라인드 내려지다 아늑 문 뒷편 옷 걸다 행거 반대편 벽 벽 겨울 선반 야무지다 공간 활용 드라이 로션 토너 기본 화장품 비치 센스 돋보이다 마지막 현관 옆 스타 맛 메인 똑같다 크기 싱글 침대 놓이다 문 뒤 여분 간이 매트리스 핵심 창문 커다랗다 창문 밖 한양 성곽 그야말로 스타 넘치다 인터넷 올라오다 리뷰 인증 샷 찍다 놓치다 씩 찍다 침대 반대편 벽 거울 선반 비치 편하다 개인 세 제일 매력 날 흐리다 우중충 매력 드러나다 화창 날 빌리다 코로나 시국 밖 조심 스럽 배달 저녁 해결 다음날 아침 챙기다 과일 근처 편의점 샌드위치 제공 네스프레소 캡슐 커피 아무리 배달 플레이 팅 멋지다 레스토랑 부럽다 이쁘다 먹방 인증 샷 야무지다 찍다 요즘 모이다 조심 스럽 조용 무척 탁월 선택 장단점 장점 복판 지하철역 도보 여러 숙박 지나다 친구 끼리 즐겁다 모임 오밀조밀 야무지다 공간 활용 여행자 편리 배치 거울 프로젝터 깔끔 인테리어 성곽 갬 도보 편의점 아쉽다 침대 정직 싱글 불편 숙박 욕실 불편 침대 넣다 숙박 실제로 숙박 어렵다 에비앙 생수 일반 생수 넉넉 결론 즐겁다 리 재 퇴계로 찾아가다 지하철 동대문 역사 공원 출구 도보\">]\n",
            "[361, <tomotopy.Document with words=\"요즘 묻다 항상 호캉 스다 국내 유명 숙박 목표 절반 호캉스 보내다 부지런히 여행 똑같다 채우다 고민 국내 꽂히다 오늘 소개 유숙 그중 최근 윤스테 이후 한옥스테이 높이 그간 한옥 윤스테 비슷 조식 정갈 처음 아주머니 이름 따다 짓다 서유숙 택배 서유숙 들어가다 간단 책자 서유숙 천천히 머무르다 숙박 숙 따다 짓다 이름 그대로 천천히 머물다 뜻 예쁘다 이름 유숙 마음 편안 한옥 강물 흐르다 동네 멈추다 듯이 조용 지붕 고드름 얼어붙다 춥다 날 들어오다 아늑 마음 따스 국내 한옥 막상 윤스테 찾다 망설이다 윤스테 국내 한옥 숙박 일본 료칸 가이세키 식음료 유숙 맛있다 조식 유명 소쿠리 오밀조밀 담다 알록달록 색 직접 맛 정성 느끼다 주변 유명 관광지 애쓰다 찾아가다 기회 계절 바뀌다 한옥 기껏 채 유숙 채 리셉션 카페 건물 따로 규모 원룸 형 독채 숙박 채 해인숙 나뉘다 머물다 인숙 총 구조 씩 다르다 취향 껏 선택 가온채 리셉션 근 척 언덕 독채 프라이 빗 가족 여행 찍다 좋아하다 인숙 해인숙 인기 창문 프레임 앉다 한옥 찍다 인숙 머무르다 친구 왔다 리뉴얼 엄청 옛 한옥 콘셉트 맞추다 인테리어 전면 바뀌다 들어가다 눈길 끌다 동그랗다 프레임 뚫리다 벽 동그랗다 너머 침대 찍다 재미있다 구조 적당히 침대 프라이 빗 그동안 한옥 가면 앉은뱅이 책상 불편 앉은뱅이 의자 식탁 테이블 밤 노트북 펼치다 글 타입 비수기 씩 숙박비 조식 포함 유숙 뒤 밤나무 가득 산 강물 흐르다 계절 변화 실감 느끼다 주변 편의 시설 마트 나가다 저녁 먹다 간단히 먹거리 챙기다 간단 싱크대 냉장고 배치 취사 화재 취약 목조 건물 특성 불가 도넛 딸기 디저트 먹다 공용 전자렌지 데우다 먹다 유숙 머물다 디테일 다르다 소리 여러 어메니티 아베 제품 샴푸 린스 바디워시 사용 사이즈 욕실 샤워 따뜻 욕실 바닥 돌 따뜻 수건 넣다 전등 인테리어 톤 고민 맞추다 느끼다 숙박 편안 마음 미처 돌아오다 그립다 감히 유숙 하이라이트 말씀 조식 사이 직접 리셉션 바구니 가득 오밀조밀 그릇 모이다 샐러드 과일 호박죽 해시 브라운 간단 씩 맛보다 수준급 특히 단호박죽 아침 편안 맛 친구 꺼 뺏다 먹다 맛 색 알록달록 예쁘다 찍다 바깥 테이블 찍다 먹다 키우다 귀엽다 강아지 혹시나 한입 얼쩡거리다 정말 귀엽다 카페 숙박 객 여행 꼭 바라다 살짝 언덕 통유리 내려다보다 한옥 다닥다 닥 붙다 이색 메뉴 아메리카노 카페라테 밀크티 녹차 테 다양 천 내외 아쉽다 리모델링 인하다 임시 휴무 일자 추후 공지 유숙 참고 오늘 국내 한옥스테이 유숙 소개 작년 스타 핫해 비수기 꾸준 히 인기 원하다 최소 따로 숙박 어플 네이버 불가 아래 공식 참고 숙박비 조식 포함 주차장 널직 편하다 아직 상세 업로드 실시간 참고 참고 찍다 한옥 궁금 오밀조밀 조식 맛있다 찾다 하루 쯤 고즈넉 한옥 독 채 머물다 내외 한적 찾다 팁 인기 최소 권장 한옥 특성 약하다 주변 맛 먹거리 간단히 유숙\">]\n",
            "[362, <tomotopy.Document with words=\"성비 아쉽다 작년 늦다 여름휴가 계획 만족 스럽 편 뒤 일정 잡다 정말 맘 얘기 비싸다 성비 따지다 차량 렌트 포털 검색 제주이도 여러 건물 이루어지다 대면 인도 신축 건물 건물 맞다 주차 건물 주차장 부족 내려가다 주차공간 꽤 넉넉 걱정 돈 산 작년 여행 내역 가져오다 끼다 총 달러 차이 만족도 비싸다 토 오후 넓다 사장 님 굳이 대면 체크인 괜찮다 그냥 주변 생기다 궁금 내려가다 사장 님 엄청 친절 단점 엘리베이터 짐 올리다 여러 쨘 꼭대기 배정 현관 복도 형 복도 쪽 테라스 입구 쪽 원룸 형태 공간 분리 넓다 넓음 담기다 거짓말 보태다 크기 답답 뿐 쾌적 자체 드라이 수건 넉넉 당연히 살짝 춥다 그만큼 인덕션 전자레인지 전기 포트 세탁기 간편 자체 좁다 편 간단 엄 막상 불편 웬만 고르다 취사 고르다 편 취사 시설 찾다 씽크대 잔 맥주 잔 컵 와인 잔 수저 젓가락 웬만 도구 용품 갖추다 접시 냉장고 침실 쪽 세탁기 세탁 세제 기본 머무르다 일정 옷 빨래 미리 널다 캐리어 넣어놨어 빨대 건조대 섬유유연제 따로 세탁 개인 챙기다 침실 원룸 형 히 분리 냉장고 큼직 침대 사이즈 침구 류 푹신 기분 충전 갖추다 충전기 없이 핸드폰 충전 옷걸이 행거 옆 빈백쇼파 커플 정말 침대 머리 맡다 마크 행잉 옆 스탠드 침대 헤드 프레임 딱딱 원목 티비 베개 세우다 편하다 전체 깔끔 충분히 묻어나다 공간 만족 남자 친구 쭉 침대 맞다 편 대각선 대형 티비 넷플릭스 연결 기억 거울 형 테이블 갖추다 확실히 신축 건물 깨끗 곰팡이 누린내 수압 배수 말이죵 엘베 무겁다 캐리어 끌다 올라오다 덜 힘들다 만족 햇빛 낭낭 들어오다 테이블 튤립 요건 거울 꽂히다 테이블 예쁘다 내려놨어 따뜻 햇살 쉬 폰 커튼 사이 튤립 비추다 예쁘다 공간 맘 찍다 냉장고 분명히 기억 찍다 찾아보다 무트 바닷가 근처 근처 월드컵 경기장 가깝다 이마트 가깝다 올레 시장 거리 쬐끄 연결 단독 테라스 나가다 뒤쪽 엄청 넓다 감귤 밭 돌담 감귤 밭 언덕 올라오다 이도펜션 도착 은근 특유 오션뷰 엄청 넓다 개별 테라스 예쁘다 부분 힐링 요거 슬다 수영장 간이 골프장 휴양 타이틀 맞다 다양 시설 날씨 쌀쌀 바람 꽤 붇다 별도 주변 비슷 꽤 테라스 스파 즐기다 사장 님 건물 여름 휴가철 비싸다 맘 요거 오션뷰 멀리 수평선 빨갛다 물들다 노을 테라스 썬베 드 날씨 춥다 밖 커피 정말 괜찮다 춥다 들어가다 테라스 현관 밖 진입 진입 혹시나 갇히다 불상사 예방 알차다 올레 시장 끌다 열심히 테이블 셋팅 하루 마무리 제일 그립다 여행 자체 제철 횟감 흑 돼지 족발 맛있다 먹다 무트 정말 만족 스럽 엘베 불편 테라스 넓다 이유 재 무조건 필요 댓글 알리다\">]\n",
            "[367, <tomotopy.Document with words=\"예쁨주 무늬 제목 저렇다 조잡시 런 이유 인생 샷 키워드 잡다 왠지 젊은이 들어오다 처음 짓 괜히 오그라들다 지나다 멋지다 신생 발견 갑작스 레 떠나다 호스트 빠르다 답장 속전속결 여행 끝 지금껏 이유 워낙 힘들다 자주 이웃 무어든 새롭다 무늬 숙박 이유 생기다 버리다 침대 옆 오롯 바다 물결 창가 바다 영랑호 동시 세 쏟아지다 밝다 햇살 빛나다 인테리어 들어서다 감탄 찍다 올리다 인생 흔히 아이템 하나하나 모이다 원하다 무늬 침대 맞은편 외국 잡지 멋지다 거실 갬 포토스팟 영랑호 바다 창문 커피 안티 스트레스 티 함부 미안 인센스키 호로 록 바다 나가다 힐링 버리다 저녁 먹다 들어오다 세 서쪽 따뜻 빛 들어오다 물들이다 빛 다르다 개인 호스트 님 보내다 스타 올리다 넘다 무늬 스타 이름 무늬 빛 색 덤 바라보다 풍경 아름답다 밖 나가다 유일 단점 곳곳 흔히 아이템 구경 장점 오래 빈티지 문짝 센스 못 잃다 숙박 절대 잊다 알람 맞추다 바다 일출 관람 최근 역시 달려가다 이미 칠월 불가 연차 가세 특별 함 못 느끼다 숙박 성비 최고 유명 힘들다 울다 엉 코드 첫 여행 자세 댓글 에어비앤비후기 속초여행 속초감성숙소 인생사진 속초에어비앤비\">]\n",
            "[374, <tomotopy.Document with words=\"공간 영감 얻다 취향저격 만나다 하루 푹 쉬다 일주일 견디다 힘 생기다 최근 다녀오다 손 꼽다 이름 낯설다 원래 외국인 운영 체인 서울역 지점 확장 정점 감각 레디던스 형 인기 서울역 지점 정점 찍다 즐기다 감사 한옥 인테리어 스타 스토리 올리다 문 폭발 이미 빠르다 마감 얼른 선점 친구 숙박 친구 실제 예쁘다 소품 한국 티 피우다 배려 씩 모이다 숙박 내내 아늑 참고 머무르다 열다 순간 한옥 펼치다 한옥 마당 한쪽 마당 솟대 하얗다 조약돌 깔리다 침실 거실 공간 마루 형태 살짝 올라가다 디딤돌 밟다 올라가다 덕분 공간 구분 작년 호캉 스다 반얀트 리 클럽 스파 타워 끼리 프라이빗 매력 엄청나다 반얀트리 막상 결제 망설이다 반얀 트리 절반 즐기다 반얀트리 숙박 인테리어 한옥 감각 한옥 즐기다 요즘 여럿 공간 끼리 프라이 빗 즐기다 주목 덕분 급상승 대부분 근교 쉽다 찾아가다 망설이다 중심 서울역 만나다 친구 물놀이 좋아하다 참고 미리 요청 원하다 맞추다 미리 소요 요청 서울역 지점 타입 나뉘다 침실 가족 끼리 머물다 반면 오늘 소개 침대 더블 침대 앉다 공간 샤워실 욕실 장단점 먼저 거실 널널 장점 물놀이 실내 특성 습하다 느끼다 부분 창문 열다 수시 나아지다 종류 처음 반하다 한옥 인테리어 반하다 하루 오롯 숙박 친구 모으다 칭찬 공간 침실 정작 마주 앉다 떨다 공간 소홀히 급 딸 자그맣다 탁자 반면 따로 공간 앉은뱅이 낮다 테이블 주전자 다기 완벽 세팅 뒤 나무 서랍 열다 옷장 냉장고 전자레인지 녹차 티백 보석함 예쁘다 한국 멋 그대로 여러 거리다 고민 한옥 온돌 마음 사각거리다 하얗다 침구 그대로 써보 마음 토끼 잡다 프레임 없이 메트리스 깔리다 따로 전기 덕분 침대 허리 따뜻 데우다 침대 더블 침대 씩 나란히 세 따로 나누다 욕실 따로 챙기다 칫솔 치약 샴푸 린스 샤워젤 생각나다 와인 잔 오프너 완벽 로비 따로 특이 로비 공용 부엌 사용 간단 데우다 참고 소스 재료 옆 서울역 롯데마트 간단히 맘 편하다 참고 로비 리셉션 아직 운영 맞추다 탄력 운영 부분 숙박 확정 따로 사항 전달 확인 밖 나가다 아깝다 중심 배달 먹다 친구 엽기 떡볶이 메뉴 떡볶이 배달 어플 로제 이미 품 절이다 오리지널 먹다 배달 배달 도착 직접 픽업 미리 막걸리 친구 타임 연애 진로 먹다 이야기 운영 편하다 친구 진솔 이야기 원래 저녁 잠 엄 일찍 편 날 계속 떨다 날 기억 공간 이야기 매력 오늘 최근 다녀오다 취향 저격 소개 규모 세계 체인 요즘 트렌드 살리다 기억 마지막 총 한옥 국내 손 꼽히다 독보 매력 반면 미리 이용팁 특성 습하다 느끼다 부분 수시 창문 열다 직접 온도 설정 참고 침실 공간 마루 형태 계단 올라가다 구조 고려 넘어지다 챙기다 필요 자세 구조 아래 덧붙이다 상세 네이버 참고 프라이빗 즐기다 한옥 궁금 서울역 도보 거리 가족 찾다 신축 궁금 팁 미리 특성 습하다 자주 근처 롯데마트 와인 간단 안주 숙박 제공\">]\n",
            "[377, <tomotopy.Document with words=\"여행 먼저 맘 편 괜찮다 올리다 실제 투숙 참고 깍쟁이 바라다 유럽 풀풀나 노벰버 후기 찾아보다 정말 유럽 믿다 바 리셉션 전경 유럽 물씬 실제 공식 네이버 후기 찾아보다 정말 좋아하다 꼭 한번 유럽 물씬 실패 예쁘다 인기 금액 편 깔끔 스타 색깔 배치 예쁘다 찍다 무조건 친구 인생 샷 요기 여행지 할머니 하룻밤 아직 깔끔 리뷰 요기 조만간 다니다 열심히 리뷰 작성 아래 검색 검색 날짜 검색 편하다 참고 여행 계획 즐겁다 여행 바라다\">]\n",
            "[383, <tomotopy.Document with words=\"돈 숙박 리스트 공유 직접 고르다 고르다 숙박 리스트 공유 터 검색 눈 빠지다 힘들다 제발 검색 시스템 바꾸다 국내 처음 유행 시작 열심히 검색 숙박 다녀오다 매력 만끽 다양 소개 터 즐겨찾기 만족 꺼 찬찬 히 끝 읽다 섬 은근히 서쪽 끝 동쪽 끝 걸리다 여행 동선 맞다 원하다 아래 소개 대부분 인기 여행 계획 미리 맨 하단 코드 관련 팁 넣다 끝 표시 직접 숙박 공항 중심 시계 반대 방향 쭈 욱 소개 쏘그 베 쏘그베 전통 돌 거리 밖 거리 원하다 취향 숙박 거리 숙박 가족 탕 바베큐 시설 정말 예쁘다 과거 여행 밖 거리 수영장 날씨 따뜻 밖 거리 숙박 살짝 자세 후기 이미 요기 참고 슬로 테라스 해먹 설치 복층구조 침실 욕실 머무르다 편안 마당 넓다 주변 마을 조용 산책 정말 근처 예쁘다 유채 꽃밭 관광객 여유 롭 찍다 둘러보다 찍다 입장료 자세 후기 확인 프라이 빗 탕 매력 하루 노스텔 야외 탕 모토 나무 사이 휴식 취하다 공항 가깝다 다녀오다 확인 탕 예쁘다 지붕 따뜻 유지 탕 계절 날씨 없이 편하다 쉬다 자세 후기 요기 확인 정겨운 시골집 하룻밤 넓다 잔디 마당 반기다 소박 들어서다 뚝 뚝 침대 여러 대가족 숙박 전혀 불편 마당 바베큐장 따로 평상 단점 욕실 야외 연결 장점 기억 자세 후기 요기 조이다 뜰 오래되다 전통 리모델링 공간 나무 따뜻 분위기 안채 중간 채 바깥채 바깥채 숙박 넓다 도구 정말 갖추다 해먹 다락방 좋아하다 책 읽다 놀이 즐겁다 보내다 기억 구름비 낭 서쪽 바다 자리 잡다 독 채 마음 살짝 소개 숙박 욕실 특히 구름비낭 정말 예쁘다 욕조 반신 욕 인생 조식 정말 맛있다 오션뷰 젠하이 드 어웨 산방산 한눈 자리 잡다 오션뷰 하이드어웨이 레스토랑 유명 저녁 조식 포함 맛있다 기억 조식 조식 정말 날 날씨 모양 날씨 날 멋지다 산방산 오션뷰 한눈 수영장 큼직 탕 물놀이 좋아하다 강츄 테쉬 모양 이색 제주팡스테 유명 관광지 테쉬 폰 모양 이색 특히 밤 조명 켜다 모습 정말 예쁘다 특별 깔끔 편안 기억 침대 무 물다 침대 특별 찾다 수식어 브리드 자체 힘들다 소개 고민 넣다 워낙 인기 힘들다 단점 넓다 분위기 찍다 정말 요가룸 별도 요가 좋아하다 특별 보내다 놀이방 사용 야외 탕 바베큐 날씨 쌀쌀 편 전통 희 민박 유명 카페 카페마니 운영 오래 리모델링 곳곳 흔적 느끼다 친근 거실 오래 테이블 특이 여러 거리 포토존 야외 탕 만희 민박 봄 야외 마당 유채 꽃밭 피크닉 세트 소풍 놀이 즐겁다 보내다 정말 그립다 카페 분위기 유어스프 링 마지막 소개 유어스프링 이름 스럽 스럽 공간 커다랗다 너머 바다 감미 롭 음악 오브제 부족 분위기 장난 욕조 따뜻 밖 나무 바라다 힐링 타임 보내다 공간 프로젝트 제일 피크닉 소품 옆 마당 특별 보내다 옆 자세 후기 아래 소개 무 정말 예쁘다 제일 못 열심히 후기 글 꼼꼼 읽다 바라다 반응 리스트 공개 벌써 유채 꽃 만발 여행 그립다 유채 꽃 흑흑 흑 아쉽다 마음 여행 이야기 인플루언 홈 확인 팬하기 꼭 부탁 돈 숙박 리스트 공유\">]\n",
            "[390, <tomotopy.Document with words=\"신혼 여행 떠나다 배까 드러눕다 틀다 부르다 독채펜션 아무튼 원하다 독 채 바베큐 탕 요렇다 충족 검색 병 틈틈 히 찾아보다 여러 군데 이미 발 빠르다 민족 가족 끼리 그냥 지나치다 아쉽다 나중 기록 먼저 찾다 키워드 검색 네이버 독 채 바베큐 탕 단어 나열 검색 의외 광고 실후기 독채 검색 광고 협찬 해외 불신자 나라 숙박 플랫폼 의외 괜찮다 게으르다 오후 침실 스럽 자쿠지 요금 바베큐 요청 제일 맘 늦다 장부 원하다 날짜 박이 안되다 버리다 애 탕 리 애월풀빌라 신축 애 베다 일본 스럽 탕 요금 바베큐 요청 성비 일본 스럽 그르치다 안되다 버리다 하늘고래앤 드 협 재 규모 개별 수영장 규모 엄 가족 여행 미 무료 바베큐 무료 연박할 모양 형 구조 코사무 가격대 괜찮다 휴양지 조식 무료 엄청나다 바베큐 요청 못 요기 나중 꼭 한번 라라 애 그냥 전용 탕 트다 탕 무료 바베큐 요청 미스미스터 편백 커플 욕조 무료 제공 사용 다르다 어두컴커미 순위 멤버 한옥 스럽 독 채 부모 님 여행 엄 부모 님 동반 여행 넘다 스윗 요기 나중 가족 여행 찜해 갬성 모든 맘 그치 숙박 탕 따로 분리 맘 걸리다 슬리퍼 왔다갔다 머 귀차 최종 선택 나뉘다 무료 바베큐 열다 후기 독 채 요런 아무 끌리다 스럽 아늑 사이즈 착하다 탕 맥주 넘다 끝\">]\n",
            "[394, <tomotopy.Document with words=\"국내 여행 신축 오션뷰 루프 수영장 브로딕제 즘 여행 어쩌다 없이 모이다 살짝 외곽 멀다 스럽 찾다 개국 넘다 해외 다니다 여행 정말 다니다 게스트하우스 비롯 넘다 투숙 어지간 감흥 신축 브로딕제주 소개 브로딕 제주특별자치도 브로딕 쪽 신축 요즘 시국 다니다 즐기다 거리 충분 어메니티 종류 다양 첫 브로딕제주 큼지막 시설 간략 알리다 포스 팅 편 브로딕제주 즐기다 상세 히 알리다 브로딕 입구 벽돌 야자수 흐르다 영국 붉다 짓다 브로딕성 모티브 따다 건물 유럽 건축 적절 그대로 담다 이국 로비 들어가다 입구 만나다 브로딕제주 메인 포토 존 지이이이 짜다 아쉽다 흐리다 하늘 날 맑다 그냥 셔터 누르다 인생 샷 스팟 로비 적벽 돌 가득 통유리 바깥 시원 하나하나 여쭈다 실제 직접 유럽 힘들다 직접 가져오다 브로딕제주 으 장점 독채 이루다 건물 동선 루프탑 뺴고 마주치다 동선 요즘 시국 독채 독채 사용 찾다 실제 만실 루프탑 그룹 빼다 사실상 마주치다 스위트룸 스위트룸 메인 거실 직사각 형 빠지다 넓다 여유 롭 인상 창문 열다 통유리 오션뷰 소파 앉다 눈 높이 적절 실제로 오션뷰 통유리 놔 앉다 프레임 눈 걸리다 구조 막상 통유리뷰 제대로 즐기다 브로딕제주 여쭈다 사장 님 건축업 바깥 직접 하나하나 쌓다 배치 하드웨어 화려 머물다 동선 전반 편안 부엌 정말 어지간 식기 세척기 가스레인지 라디에이터 간단 살균 스위트룸 원목 자체 스럽 예쁘다 온돌 형 안방 거실 옆 침대 침대바엥서 바깥 오션뷰 통유리 특히 눕다 눈높이 맞다 눕다 바깥 바라보다 최고 샤워실 딸리다 샤워 샤워실 간단히 발 씻다 세면 공간 샤워실 샴푸 바디워 트리 트다 바디워시 엄 몰튼 브라운 영국 왕실 사용 고급 어메니티 브랜드 꽤 인치 아래 청정기 배치 시스템 에어컨 배치 문 닫아놔 에어컨 틀다 정말 시원 하나하나 세밀 소개 자체 다소 커서 담아왔어 배치 집기 전반 궁금 으 쭉 편하실꺼 시설 주차장 옆 씩 길거리 넉넉 전기자동차 존 별도 갖다 루프 수영장 찾다 루프 인피니티 미리 시간대 당연히 해질녘 일몰 야경 베스트 시즌 별로 씩 다르다 미리 알아보다 바다 시내 눈 내려다보이다 코로나떄문 쓰이다 친 환경 해수 천연 소금 기본 소독 작용 계속 이루다 소독 눈 충혈 피부거침 현상 수영복 탈색 현상 편하다 불리다 빠지다 없이 구비되 브로딕제 수영장 옆 루프 바베큐 마찬가지 어마어마 예쁘다 파노라마뷰 먹다 정말 즐기다 현장 모습 수영장 바베큐 넘어가다 다리 배치 다리 바라보다 한라산 입구 주차장 눈 반대편 오션뷰 조식 먹다 식당 목재 바깥 배경 건물 식물 플랜테리 컨셉 카페 조식 메뉴 무 고급 메뉴 전복죽 고소함 끝판 왕 지하 내려가다 무 무 스크린골프 골프채 대여 오션뷰 루프 풀장 어메니티 끝장 판 스크린골프 스크린 골프장 바깥쪽 문 열다 테라스 골프 치다 바깥 오션뷰 커피 잔 공간 스위트룸 묶다 브로딕제주 커플 여행 핫 욕조 커플룸 스타 욕조 인생 샷 핫플 엄 뜨다 커플 투숙 공간 사장 님 허락 커플룸 궁금 참고 바래다 요거 브로딕제주 즐기다 포스팅전 살짝 프롤로그 루프 수영장 넘치다 바베큐 여기저기 카메라 인생 샷 브로딕 즐기다 작성 리뷰 바래다 브로딕제 앰버 숙박 제공 솔직 작성 리뷰 세자 콘텐츠 마켓 불다 푸다 도용 불가\">]\n",
            "[443, <tomotopy.Document with words=\"여행 블로거 남쪽 구슬 오늘 가족 여행 다녀오다 아빠 못 담번 아빠 엄마 동생 제주도가족펜션 제주도감성숙소 썬앤문리조트 소개 썬앤문 리조트 요즘 스타 핫 근처 선채향 전복 맛 근처 산방산 근처 요즘 여행 핫 플레이스 근처 가족 여행 뚜벅이 여행 썬앤문 리조트 검색 바다 쪽 반대편 뒤편 주차장 맨 밑 쪽 체크인 인포메이션 체크인 드라이 샤워 공간 넓다 편 면도기 제모 침대 충분히 침대 배려 침구 화장대 간단 인덕션 싱크대 가족 끼리 즐기다 정말 특히 바닥 신발 벗다 다니다 바닥 커피포트 컵 그릇 냉장고 전자레인지 냉장고 게토레이 원래 정말 아름답다 다운 다운 다운 침대 데코 허니문 예쁘다 꾸미다 잠자다 치우다 미안 치우다 폭풍 타임 썬앤문 리조트 오른쪽 올라가다 수영장 다양 포토존 포토존 표현 쉬다 공간 넓다 썬앤문리조트 유명 이유 뛰어놀다 배드민턴 시작 다양 즐기다 산방산 산방산뷰 사계해변뷰 동시 감상 포토존 그네 수영장 포토존 못 수영장 구경 래쉬가드 그냥 찍다 예쁘다 조식 미리 원하다 묻다 시간대 맞추다 직접 배달 제공 엄 기분 조식 상상 가족 계속 감탄 하루 종일 계속 이야기 오션뷰 아침 먹다 정말 잊다 조식 먹다 급히 찍다 모래 퇴적 해변 먹다 맛있다 엄마 뽑다 전복 맛 채 겨울 봄 유채꽃스팟 유명 그냥 유명 산방산 근처 볼거리 수국으 유명 근처 드 론 핸드폰 조합 찍다 썬앤문 리조트 업체 체험 권 제공 직접 촬영 작성\">]\n",
            "[450, <tomotopy.Document with words=\"스테이인우 수영장 인테리어 예쁘다 독 채 셀프 만삭 촬영 떠나다 여행 과거 막 빠듯 정말 소유진 님 가족 유명 꼭 완벽 듀플렉스 독채펜션 힘들다 인기 스테이인우 스테이인우 체크인 오후 찍다 맛있다 먹다 여러 스팟 열심히 셀프 만삭 촬영 예뻣 서빈백사 해수욕장 제대로 찍다 안쪽 공간 남편 전세 듯이 편하다 마스크 벗다 촬영 셀프 만삭 촬영 이야기 아래 확인 옷 갈아입다 새롭다 찍다 오후 쯤 스테이인우 사장 님 아직 수영장 정비 외관 못 찍다 요거 나중 찍다 수영장 입시 새로 계시다 깨끗 믿다 옆 해바라기 수전 넘다 예쁘다 수영장 수영복 공간 너무너무 앞쪽 돌 담 바다 펼쳐지다 발 아래 맑다 흐르다 지상 꽤 이쁘다 별로 손 꼽다 힘들다 스테이인우도 생기다 사장 님 계속 업그레이드 편 점점 멋있다 단독 독채펜션이 숙박 객 마주치다 건물 자체 프라이빗 편하다 장점 야외 공간 꽤 넓다 형성 자체 넓다 찍다 좋아하다 야외 커플 끼리 코로나 인하다 해외 신혼 여행 힘들다 요즘 신혼 여행 요기 바베큐 저녁 불 들어오다 예쁘다 자체 도로변 살짝 안쪽 혹 관광객 지나가다 들여다보다 어쩌다 걱정 필요 둘째 날 야외 촬영 둘째 날 날씨 흐리다 아쉽다 떨다 배경 촬영 의미 실내 트이다 예쁘다 밖 바베큐 수영장 모기 정말 종류 편하다 슬리퍼 거실 공간 소개 앞서다 스테이인우도 간략 히 설명 넘어가다 듀플렉스 형 독채형태 구조 변경 쉽다 일부분 사용 사용 건물 모든 공간 사용 문 잠기다 그냥 사용 공간 혀다 후기 빔프로젝터 멋지다 나중 부모 님 동생 부부 네이버 편하다 비품 소개 자세히 네이버 스테이인우 검색 들어서다 음악 후기 플레이 리스트 궁금 역시 호불호 갈리다 플레이 리스트 야구 제외 계속 음악 틀어놨어 용품 완벽 컵 접시 소스 세제 키친타 올 커피 뿐 티백 인스턴트 커피 어쩜 카페인 믹스 그거 살짝 챙기다 임산부 맘 편 히 커피 쉽다 용품 직접 해먹다 아마 선택 벽 열리다 추측 요기 메인 총 군데 샤워 어메니티 똑같이 비치 어메니티 꽤 챙기다 저거 씻다 수준 아쉽다 비데 당연히 비데 그거 의외 수영장 수건 넉넉 요긴 작은방 총 작은방 크기 딸리다 시원 뚫리다 예쁘다 잠 큰방 찍다 저녁 밖 수영장 조명 들어오다 예쁘다 셀프 만삭 촬영 일반 안방 옷걸이 아까 말씀 딸리다 샤워 스테이인우 자체 형 수용 전체 넉넉 참고 형 느끼다 정말 깔끔 정말 정말 정말 만족 스럽 드라이 큰방 영롱 레드 다이슨 거실 풍선 불어 배경 촬영 스테이인우도 찍다 맘 셀프 촬영 계획 만족 체크인 아웃 사장 님 만나다 입시 문자 내용 편하다 주변 맛 알리다 소품 하나하나 예쁘다 인테리어 예쁘다 끼리 오붓 독채펜션 정말 정말 스테이인우 온 가족 별장 아참 소개 맛 타코밤 가깝다\">]\n",
            "[451, <tomotopy.Document with words=\"녕 생활 밀착 형 블로거 찹쌀 언니 오늘 여행 이미 지나다 지나다 모든 폰 잠들다 사라지다 기록 지나다 겨울 어쩌다 급하다 여행 비슷비슷 탓 다르다 보자 스타 찾다 빼앗다 라발스 오션뷰 해운대 광안리 특별 김해공항 지하철 남포역 여행 해운대 광안리 터 남포역 자체 처음 라발 스다 걷다 버스 버스 걷다 비슷 야경 밤 바람 쐬다 걸어가다 택하다 다리 야경 오른쪽 커다랗다 반짝거리다 건물 목적지 라발스호텔 다리 오후 다리 올라가다 도개교 코시국 아마 계속 들어오다 높다 층고 로비 크리스마스 장식 잔뜩 여행 게으름뱅이 인증 카페 편의점 여행 잡다 편의점 꼭 확인 음료수 밤 주전부리 무조건 편의점 가깝다 아예 최고 체크인 들어가다 라발 스다 대부분 코너뷰 급작스럽다 정해지다 여행 이미 코너룸 마감 상태 그냥 일반 면적 차지 침대 침구 상태 깔끔 매트리스 나쁘다 창가 책상 소파 놓이다 책상 굉장히 마음 워낙 짧다 갔다오다 제대로 앉다 못 옷장 소지품 올리다 선반 욕실 어메니티 다르다 꽤 괜찮다 어메니티 매장 판매 들르다 깜빡 어쨌든 샴푸 바디 샴푸 향도 질 꽤 괜찮다 서랍 열다 머그컵 커피 쌍계명 제품 아침 기분 잔 라발 스다 매력 짜다 잔 풍경 해운대 광안리 해수욕장 풍경 다르다 분위기 물씬 바다 만나다 수평선 다니다 생활 느끼다 오션뷰 매력 아침 일어나다 모습 정면 롯데백화점 광복 영도대교 부산대교 살짝 옆 돌리다 자갈치 시장 자갈치 시장 그냥 일반 재래시장 모습 현대식 건물 새로 짓다 노량진 시장 비슷 모습 어선 엄청나다 개인 풍경 마음 노을 예쁘다 펼치다 반짝거리다 불빛 멀리 용두산 타워 여행 재미있다 오션뷰 휴양지 물씬 괌 사이판 풍경 홍콩 오션뷰 코너 이유 일반 한쪽 방향 코너 방향 감상 바깥 복도 간접 코너 살짝 감상 복도 감상 아쉽다 위층 올라가다 라발 스다 스카이 카페 바 숙박 객 커피 음료 베이커리 판매 커피 맛 베이커리 괜찮다 카페 분위기 아쉽다 정말 그냥 풍경 카페 자체 그다지 매력 인테리어 새로 필요 여하튼 풍경 정말 예술 나가다 유리창 바다 감상 아무래도 밤공기 쌀쌀 구경 들어오다 밖 시원 바람 맞다 따뜻 커피 요즘 여행 이곳저곳 막 다니다 고르다 더욱 오랜 뒹굴다 뒹굴다 편안 풍경 찾다 주변 편의 시설 충분 찾다 새롭다 풍경 감상 선택 오션뷰 라발스 스타일 성공 코너룸 더욱 만족 스럽 일반 충분히 만족 스럽 새롭다 모습\">]\n",
            "[464, <tomotopy.Document with words=\"숙박 그랜드 밀리다 스다 여행 쪽 숙박 알아보다 벚꽃 가득 음식점 거리 혁신도시 중심 그랜드 밀리다 언스 머물다 저렴 깔끔 숙박 편안 나가다 이마트 좌 천지연폭포 우 해수욕장 주요 관광지 도착 관광지 불편 주변 벚꽃 구경 거리 로비 옆 봄 물씬 포토 존 휴식 시설 예쁘다 카페 예쁘다 기념사진 밖 벚꽃 가득 그랜드밀리언스 벚꽃 분위기 가득 편의점 멀리 나가다 간단히 요깃거리 주변 식당가 첫 날 치킨 배달 먹다 급하다 사용 컴퓨터 틍 여기저기 꾸미다 포토존 손색없다 숙박 시설 다양 다니다 로비 아기자기 꾸미다 그랜드밀리언스 처음 커플 예쁘다 인증 샷 핑크 꽃 포토존 눈 들어오다 엘레베이 터 옆 주변 관광지 책자 다양 처음 어렵다 주변 관광 작년 다녀오다 스누 피 책자 반갑다 마음 가져오다 숙박 중요 깔끔 컨디션 저렴 깨끗 마음 트윈 좁다 숙박 불편 없이 사용 전기 포트 컵 상태 깔끔 아침 커피 잔 여행 시작 생수 병 냉장고 따로 편의점 편하다 문 전신 거울 옷 편하다 숙박 시설 전신 거울 아침 불편 센스 문 전신 거울 인테리어 샴푸 바디워시 트리트먼트 따로 꼭 청결 상태 굿 중간 부탁 다음날 새 깨끗 숙박 편안 사용 그랜드밀리언스 수건 넉넉 마음 깔끔 숙박 찾다 알리다 제주특별자치도 번호\">]\n",
            "[471, <tomotopy.Document with words=\"프로그램 첫 소개 엄마 딸 조식 강점 르 블루 바이 워커힐 선택 개인 삼박 취향 맞다 뒤 조사 제일 먼저 찾아보다 독특 묻어나다 일반 첫 화면 여러 나열 하나하나 찾다 필요 알아내다 삼박 한집 메뉴 이야기 이야기 그대로 리뷰 형태 머물다 바라보다 관점 이야기 내려가다 나름 재미있다 스럽 대부분 깨끗 강조 대부분 하얗다 색 나무 아늑 원목 나름 롭 어우러지다 독특 자아내다 히노끼탕 장점 삼박 총 소 중간 사이즈 사이즈 소 독특 정원 투숙 정원 처음 구조 침실 샤워 부스 테라스 구조 테라스 벚나무 대나무 바라다 힐링 퀸 사이즈 베드 면적 제곱 미터 사이즈 히노 끼다 욕조 복잡 머리 식히다 아이보리 색 빈티지 정원 머물다 소 사이즈 중형 히노끼탕 빔프로젝터 사이즈 제곱 미터 소 사이즈 킹 사이즈 베드 복층 구조 구조 형 히노끼탕 투숙 면적 제곱 미터 베드 킹 사이즈 베드 슈퍼싱글베 드 구조 아마도 엄마 딸 여행 컨셉 선택 삼박 한집 올라오다 소 요일 기간 달라지다 날짜 확인 사이트 야놀자 현황 확인 현재 한적 조용 원하다 히노 키 욕조 하루 피로 아쉽다 쉽다 힘들다 아쉽다 출처 삼박 한집\">]\n",
            "[472, <tomotopy.Document with words=\"제제 제제 미학 독채 머물다 숙박 후기 결혼기념일 와이프 기념 여행 다녀오다 심사숙고 고르다 제제 운영 독 채 제제 미학 머물다 숙박 후기 경기전 뒷쪽 한옥마을 가깝다 입구 예쁘다 아참 옆 주차장 가구점 인테리어 소품 게스트하우스 숙박 객 주차 잔디 마당 지나다 올라가다 독채 아기 최대한 피해 독채 찾다 그거 떠나다 그냥 예쁘다 공간 분위기 엔틱 깔끔 와이프 싱크대 예쁘다 별거 전체 분위기 어우러지다 찍다 코로나 조식 따로 제공 오렌지 미리 주심 미니멀해보이지 뿐 냉장고 전자레인지 식기 류 싱크대 밑 깔끔 욕조 저녁 아들 물놀이 아들 무섭다 들어오다 푹 피로 싱크대 따로 아기 원룸 식 구분 힘들다 따로 애기 재우다 와이프 얘기 침실 뒤 옷 짐 공간 은근 공간 침실 분리 지저분 짐 지르다 편하다 날 오렌지 드립 커피 한잔 먹다 근데 의아 여행 전날 측 안내문 빼다 아무 연락 무심 요즘 트렌드 한편 숙박 객 부담 그냥 암튼 여행 찾다 무적 권\">]\n",
            "[475, <tomotopy.Document with words=\"마레보 리조트 수영장 조 식 애 글 퐈니 지난 여행 숙박 씩 나누다 씩 머무르다 머무르다 애 리조트 최고 최상 컨디션 자랑 열 만족 스럽 소개 오늘 소개 마레보리조트 공항 거리 제주올레 코스 주변 끝내다 칭찬 일색 수영장 야외 바베큐 조식 뷔페 섭렵 만족 스럽 재 후기 로비 진행 카페 포함 다양 시설 밖 나가다 모든 해결 편리 바다 숲 어우러지다 휴양지 리조트 오션뷰 숲뷰 조망 산책로 아침 저녁 가볍다 산책 마레보 리조트 제주전동킥보드 이브이패스 제휴 로비 입구 이브이존 관광지 식당 정류장 나가다 필요 로비 무인 대여 킥 보드 편하다 킥 보드 투숙객 천 이용권 제공 제주뚜벅이여행 일등 공신 세이펙스 짐 옮기다 서비스 공항 공항 모든 자유 롭 동선 요금 이브이패스 모든 크기 천 브이 패스 이용객 디럭 스다 투숙 조 식 야외 수영장 포함 이보 혜택 소개 디럭스룸이 내심 고층 살짝 아쉽다 웬걸 장난 휴식 집중 풍경 오션뷰 숲뷰 펼치다 싱그럽다 분위기 숲 들어오다 기분 발코니 앉다 동남아 원룸 욕실 구조 더블 침대 욕실 쿡 사이드 테이블 화장대 침대 옆 미니주방 전기밥솥 커피포트 냉장고 비치 간단 취사 냄비 후라이 팬 접시 기본 도구 완벽 갖추다 간단히 먹다 생수 씩 제공 부족 카운터 무료 욕실 세면대 샤워부스 분리 구조 어메니티 비누 샴푸 바디워 헤어드라이기 치약 트리트먼트 따로 챙기다 뿐 옷걸이 빨래 건조대 갖추다 물놀이 야외 테라스 수영복 말리다 찐으 강추 마레보 리조트 야외 수영장 애 바다 펼치다 오션뷰 물놀이 즐기다 수영장 세 타임 나누다 시간대 쉬다 철저 지키다 수영장 나뉘다 튜브 무료 대여 놀다 괜찮다 이국 풍경 인생 샷 나위 없이 덥다 여름 텐트 설치 뜨겁다 햇빛 피하다 쉬다 장점 막상 꼬딱지 만하 수영장 수영장 널널 유유자적 놀다 즐기다 야외 수영장 주변 커다랗다 야자수 나무 둘러싸이다 동남아 분위기 뿜뿜하 애 하늘 막히다 해외 여행 기분 만끽 저녁 조명 들어오다 낭만 분위기 마레보스토 편의점 카페 기념품샵 굿즈샵 생필품 먹거리 기념품 큐 해결 공용 세탁실 바디 프렌드 안마 의자 미니 세탁기 운영 구애 편하다 사용 세탁 세제 섬유 유연 별도 시스템 세제 천 마레보 리조트 조식 아침 마레 식당 모닝 뷔페 진행 상당히 넓다 편 요금 성인 레스토랑 면 통유리 놔 푸릇 식물 아침 햇살 느끼다 조식 타임 조식 뷔페 메뉴 그날 그날 다르다 제공 한식 훈제 연어 베이커리 전복죽 씨리얼 과일 커피 샐러드 다양 메뉴 디저트 커피 개인 훈제 연어 흑돼지제육 볶음 크로와 식혜 맛있다 아침 가볍다 샐러드 훈제 연어 베이커리 위주 담아보 부족 메뉴 리필 부족 없이 먹다 마레보리조트 꽃 야외 바베큐 껄 꺼 마지막 날 저녁 애 풍경 바라보다 굽다 먹다 지상 따로 테이블 앉다 먹다 테이블 간격 넓다 일행 끼리 오순도 프라이빗 유명 흑 돼지 식당 웨이팅 어마 무시 꺼리다 요즘 시국 맞다 야외 바베큐 야외 바베큐 돼지 오겹 목사 깃 밥 밑반찬 쌈 채소 제공 무한리필 부족 반찬 셀프 먹다 밖 먹다 꿀맛 삼겹살 메인 호박 고구마 야채 굽다 먹다 더욱 맛나 분위기 퀄리티 굿 마지막 밤 저물다 해안가 떨어지다 애월한담 산책로 애월카페 거리 가깝다 킥 보드 편하다 왔다갔다 에메랄드 빛 풍경 금방 오늘 동남아 가득 마레보 리조트 소개 총 넓다 숲뷰 번째 시설 다양 리조트 모든 해결 세 째 이국 분위기 낭낭 야외 수영장 정말 마지막 애월바 일행 끼리 프라이빗 즐기다 야외 바베큐 레 터지다 산 맛 애 찾다 마레보 리조트 상세 후기 아래 동영상 참고 이브이패스 저렴 이브이패스 연락 확인 부킹 참고 세 팩스 짐 옮기다 서비스 궁금 아래 참고 팬 누르다 여행 실시간 제주마레보리조트 마레보리조트 애월숙소 애월리조트 제주마레보리조트조식 제주감성숙소 마레보리조트수영장 애월감성숙소 제주애월감성숙소 브이 패스 서포터 즈 이용권 제공 직접 투숙 작성\">]\n",
            "[484, <tomotopy.Document with words=\"국내숙소 넘다 어렵드 코로나 여행 패턴 바꾸다 여행 라이프 패턴 째 바뀌다 인류 역사 흐름 전환점 기록 순간 공간 사용 시작 나가다 시작 여행 패턴 더욱 프라이빗 홀로 쉼 머무르다 키워드 중시 머무르다 꼭 필요 외출 자제 코로나 시국 넘다 지지부리 시점 바깥 외출 여행 꿈꾸다 여행 자중 꼭 떠나다 세 방역 꼭 준수 박히다 무 갑갑 여행 슬쩍 참으로 의외 눈 펼쳐지다 의외 해외 여행 기로 막히다 대부분 국내 여행 눈 돌리다 국내 핫 만만 제주감성숙소 알아보다 제주독채숙소 심쿵네 아직 미정 틀다 이래저래 알아보다 알아보다 이미 노키즈거 키즈 늘다 특히 스럽 더욱 애 엄마 슬포 나름 엄마 충족 제주아이와가기좋은숙소 찾아보다 나중 먹다 리스트 독채숙소 탄 탄 찾아보다 아깝다 못 나중 먹다 심쿵 심쿵남매 이미 여러 피 히 여기저기 돌아다니다 계획 독채 마당 놀다 따뜻 자쿠지 찾아보다 자쿠지 유료 꼭 확인 의외 비싸다 바다 가깝다 째 갬성갬성하 잡다 사니 데리다 어렵다 공간 스다 레 뒤 밀리다 틀다 시국 시국 돌아다니다 머물다 쪽 비좁다 여유 머무르다 위주 찾아보다 할미 외할비 겸사겸 숟가락 올리다 오늘 공간 노키즈거 날짜 맞다 아래 순서 무 작위 순서 주루 룩 긁다 갠 일일이 알아보다 갠 저장 프다 숙소리스트입뉘 대부분 쥐다 장님 연락 조건 확인 아직 져앙져앙 님 모든 출처 쥐다 장님 사이트 알아보다 적극 예약루트 개인 홈 피 네이버 꼭 확인 검색 알아보다 수수료 비싸다 통상 루트 비싸다 특정 무료 취소 강점 찾아보다 아래 우연히 단아 스럽 독 채 충분 공간 뛰어놀다 앞마당 뒷마당 자그마 자쿠지 도대체 찾다 헤매이다 시작 찾아내다 짜다 잔 맥주 이벤트 제공 눈 익다 찾다 독채숙 제주코다 아래 출처 마당 아쉽다 제주코다 노키즈존 운영 눈물 자쿠지 현재 운영 계획 여름 시즌 운영 쥔장 님 문의해봐야 세탁기 건조기 오랜 기간 머무르다 적절 쓰레기통 이야기 후기 읽다 조용히 머무르다 아마도 쥐다 장님 여러 방문객 겪다 이러 바뀌다 어렵다 열심히 찾아내다 이러하다 조건 어렵다 여행객 님 머무르다 아래 코다 쥐다 장님 현재 완료 눈물 닦다 제주휴가 공간 넓다 노키즈존 상상 못 여러 조건 실리 꼭 머물다 개월 미만 머무르다 의외 여행 편의 시설 모이다 편하다 시내 따뜻 물놀이 자쿠지 시설 외벽 너무너무 마음 랬 키즈 넘다 시내 동네 파티 자제요망 쥔장 님 연락 도저히 키즈 없이 성인 여행 넓직 시설 가격대 괜찮다 편 추하다 맘 비슷 평점 달하다 현재 열리다 와중 날짜 아래 이미 실 독채숙소 어렵다 완료 나름 동반 전통 안거 리 머물다 밖 거리 부엌 따로 실내 욕조 실외 자쿠지 정원 침실 여행 요기 은근 예쁘다 아래 사이트 스테이폴리 출처 넓다 이닝 공간 맘 조천마실 나다니다 머무르다 푸다 욱 쉬다 충분히 넘다 맘 여실 현재 개월 뒤 시점 열리다 합치다 띄엄띄 여실 할미 외할비 머무르다 가깝다 며칠 머무르다 날짜 실 그냥 후루 룩 끝 폴 리 우영 정원 뜻 폴개우 저녁 개월 뒤 진행 현재 모든 날짜 만실 스럽 마음 공간 돌아보다 부엌 낮다 최근 짓다 독채숙소 스타일 눈 띄다 예쁘다 이러 부엌 하루 꺼 실패 정원 예쁘다 며칠 쉬다 넘다 들리다 쉬 진행 카카오톡 플러스 친구 머무르다 봉성소락 애 바닷가 안쪽 봉성소 락 전달 잔잔 공감 편안 독채 자꾸 나중 부엌 이닝 공간 나무 바꾸다 침실 쥐다 장님 연락 대부분 쥐다 장님 연락 엄청 따뜻 느끼다 비슷 인테리어 독채 저렴 뿐 평수 기와 이러 공간 실 제주신창여관 요즘 핫 매트리스 적절 마음 실 연락 역시 실 요즘 독채숙소 리조트 어렵다 스타일 별로 장단점 여행 구성원 여행 스타일 맞추다 선택 중요 밖 거리 매트리스 실 독채 이루어지다 힘들다 오늘 실 혹시나 꼭 멀다 멀다 날짜 일정 취소 재 반복 기회 공시 계속 바뀌다 상반기 머무르다 취소 틈틈이 확인 째 모음 맘 가격대 높다 박다 부담 스럽 짧다 여행 쯤 들르다 투 컨티 뉴\">]\n",
            "[493, <tomotopy.Document with words=\"공항 근처 여행 이호테 우 해변 근처 지나다 역병 확산 다녀오다 여행 리뷰 원래 올 다녀오다 재 호스트 운영 중단 근처 찾다 비슷 금액 당연히 진행 총 오후 빠르다 오션뷰 일몰 감상 매력 차량 공항 거리 접근 도두항 서로 그쪽 탐라 횟집 건물 주변 식당 카페 은근 편의점 곳곳 지난번 옆 옆 옆 건물 익숙 아쉽다 건물 엘리베이터 무겁다 캐리어 끌다 왔다갔다 도어락 열쇠키 호스트 님 전체 운영 잡다 선택 친절 내내 불편 정말 예쁘다 무트 걷다 올라가다 호스트 님 꼼꼼 온도 중간 전기장 판 깔끔 주차장 건물 뒤편 도로가 주차 입성 따뜻 햇살 가득 들어오다 넓다 테라스 딸리다 오션뷰 크기 꽤 넓다 건물 자체 오래 컨디션 굉장히 침대 사이즈 넉넉 위생 상태 곳곳 마크 카페트 성적 침대 꽃장식 셀프 스냅 찍다 훼손 근처 찍다 소품 사용 상태 부엌 쪽 오른편 간이 화장대 레인지 주전자 식기 류 제일 하단 인덕션 냄비 후라이 팬 간단 고무장갑 비닐 다중 충전기 드라이기 침대 아래쪽 마크 카펫 장식 슬리퍼 부엌 쪽 확대 샷 하얀색 타일 화이트 톤 간이 씽크대 야자 잎 유럽 머무르다 공간 아래 테이블 짐 대부분 넉넉 편 샤워부스 분리 수건 총 호스트 님 부족 말씀 불편 샴푸 린스 바디워 치약 핸드워시 기본 폼 클렌징 샤워 올 칫솔 따로 챙기다 참고 바라다 수압 따뜻 정말 대낮 발코니 모습 도두항 바닥가 끝 없이 펼치다 오션뷰 아침 일어나다 날씨 낮 포근 발코니 테이블 컵 라면 먹다 여름 선선 봄 테라스 엄 유용 중순 아침 밤 쌀쌀 테라스 씩 바람 쐬다 나가다 사용 못 아쉽다 시작 일몰 나가다 고기잡이 낚시 조명 붉그스럼 물들다 노을빛 그림 풍경 테라스 넓다 오션뷰 일몰 구경 넘다 꼭대기 오르내리다 힘들다 괜찮다 주변 은근히 조용 시끄럽다 저녁 밥 먹다 나가다 돌아오다 어둠 모습 스탠드 조명 켜다 분위기 낭낭하 수목원 야시장 멀다 저녁 먹다 먹다 야식 거리 근처 즐기다 흑 돼지 저녁 먹다 불편 이불 무겁다 전기장 판 틀다 보일러 틀다 적당 온도 괜찮다 근처 편의점 마트 들르다 어묵 탕 똥집 볶음 니모 메 술 야식 하루 마무리 니모메 입맛 별로 테이블 틀다 먹다 야식 굉장히 여유 롭 만족 이호테 우 해수욕장 공항 근처 잡다 도두항 쪽 아침 일찍 이호테 이호테우 가깝다 인증 샷 찍다 하루 일정 시작 근처 백스커피 무지개 가깝다 공항 근처 머무르다 여행 자유 롭 다니다 여행 마스크 방역 수칙 지키다 다녀오다 바라다\">]\n",
            "[500, <tomotopy.Document with words=\"나누다 인지상정 부산오션뷰 꼽다 소개 놓치다 이거 결정 바래다 여행 띠혜 부산오션뷰 파라다이스 뺴 함 부산오션뷰 여행 역대 급 힐링 여행 부산오션뷰 역시 믿다 부산오션뷰 글쓴이 믿다 예쁘다 부산오션뷰 찌다 뿜다 뿜다 부산오션뷰 여러 먹거리 볼거리 예쁘다 얻다 여행 바래다 여행 띠 혜 유튜브 스타 참고 부산오션뷰 부산감성숙소 부산여행 파라다이스 부산호텔 부산여행추천 부산숙소추천 부산잠자리\">]\n",
            "[548, <tomotopy.Document with words=\"여러 블로거 리리 오늘 여행 가져오다 여행 기념일 맞이하다 예쁘다 찾다 하루 놀다 먹다 후기 페이지 겨울 역시 뜨뜻 그립다 찾다 아무래도 독채펜션 프라이빗 편하다 독채 원하다 스타일 자쿠지 욕조 손 품 원래 형식 자쿠지 빠듯 한국 역시 넘다 부지런 이미 비싸다 흑 발견 비요르 머물다 계단 원하다 스타일 대형 욕조 귀엽다 갬성가득 분위기 꽂히다 버리다 개인 둘러보다 예쁘다 스타일 독채펜션 건물 특징 씩 다르다 계단 찍다 포토스팟 후기 데리다 귀엽다 아가 귀엽다 그냥 꽁냥거리 찍다 헷 옆쪽 올라오다 계단 올라가다 가득 침실 요거 침실 바라보다 풍경 예약가능 구조 르 건물 디자인 독특 물씬 여러 아침 쨍쨍 들어오다 전체 따뜻 항상 오션뷰 찾아가다 조용 한적 시골 마을 편하다 쉬다 갬성숙소 곳곳 비요르크 묻어나다 소품 공간 재미있다 희 희 특별 욕실 떠나다 스페셜 공간 꼭 계단 계단 머물다 사용 프라이빗 바베큐 공간 요기 자세 후기 분량 조절 실패 소개 비요르크 취사 불 단점 단점 터 전자레인지 냉장고 캔 음료 컵 기본 옵션 직접 바베큐 굽다 먹다 바베큐 마리네이드 훈제 삼겹살 한우 등심 비어치킨 여러 엄청 퀄리티 배달 먹다 삼겹살 바베큐 별도 요금 미리 욕조 공간 분리 샤워 공간 어메니티 스위스 투가르투 옆 대형 욕조 스파 공간 야외 바깥 애초 찾다 노천스파 우드 둘러싸이다 공간 천 높다 마음 기본 서비스 사항 원래 거품 써 배쓰밤 따로 아무것 따로 연락 여쭈다 바베큐 욕조 옆 춥다 난방 간이 난방 욕조 커서 편하다 스파 즐기다 바베큐 아침 든든 채우다 조식 소개 이어지다 이어지다 이웃 내용 공감 댓글 내돈내산 강원도감성숙소 비요르크 독채펜션 풀빌라펜션\">]\n",
            "[554, <tomotopy.Document with words=\"무 무 어렵다 그냥 들어가다 잔여 성공 너무나 사악 포기 고민 그냥 쉽다 성공 눈 차선책 독 채 입구 워낙 일본 스럽 왠지 써야 입구 누 알아보다 쉽다 금방 찾다 체크인 들어오다 로비 굉장히 어둡다 이어지다 카페 웰컴티 스낵 카페 카페 커피 간단 음료 웰컴 스낵 찹살 떡 무료 가져가다 카페 코로나 취식 불 마스크 착용 상태 앉다 이야기 자유 코로나 민폐 무 일출 취사 불 무 흡연 별도 구역 피하다 대부분 입구 전실 침실 욕실 거실 순서 침대 방향 바깥 풍경 바라보다 배치 문 통유리 프라이버시 철저 지키다 독 채 거실 서해 바다 일출 풍경 무 대부분 거실 엄청 봤을거 멋지다 못 찍다 가져가다 카메라 화각 워낙 넓다 막상 폰카 좁다 넓다 꽁냥 찍다 삼각대 카메라 똑바로 못 전체 모습 담다 나름 디테일 열심히 담 엄청 쌉싸름 말차가루 듬뿍 묻다 떡 취향 정말 욕실 거실 더불다 하이라이트 욕실 서해 바다 욕실 너모너모너 바닥 좋아하다 무 회색 타일 욕실 인테리어 무조건 무 회색 타일 맞추다 무 전용 입욕 짧다 리뷰 무이림 철저 입욕 아무래도 색상 오염 차원 거품 즈 언 혀 무 녹차 입욕 기름 순간 오염 향도 은은 첨부 어메니티 기본 제공 칫솔 찍히다 칫솔 제공 저녁 컵라면 포기 굽다 생선 엄 주의 조식 코로나 라서 조식 테이크 아웃 아침 메뉴 항상 무 마당 독 채 무 자체 떨어지다 굉장히 조용 독 채 바깥 마주치다 개인 기록 빠르다 스키 산책 코스 무 전망 누정 군대 발 담그다 음료 전망 후기 일본 스럽 익숙 소나무 한국 스럽 무 취사 그냥 쉬다 작정 별장 덕분 뽱 얘기 정말 쉬다 주관 장점 독 채 개인 마당 프라이빗 즐기다 주변 산책 코스 정말 곳곳 깨끗 예술 조경 일출 일몰 나뉘다 선택 재미 서해 바다 풍경 즐기다 개별 욕조 웰컴 서비스 음료 스낵 주관 단점 벌레 사방팔방 나무 두르다 쌓이다 어쩌다 없이 주변 벌레 저녁 바깥 조명 주변 세상 모든 벌레 뽕 파티 감상 로비 미리 벌레 주의 사항 설명 다행히 숙박 내내 문 여닫다 들어오다 날파리 에프킬라 옷장 벌레 민감 여름 피하다 꽤 민감 편 쪼다 두렵다 다행 스럽 주변 편의 시설 부재 편의점 취사 개별 입욕 치열 사악 금액 꽤 뚜렷 단점 느끼다 장점 무 돈 산 금액 사악 아깝다 겨울 공룡\">]\n",
            "[567, <tomotopy.Document with words=\"유독 호랑이 주택 여행기 리뷰 따로 글 들어가다 여행 밝다 체크인 블로거 게으르다 반년 방문기 무어 바뀌다 오늘 투숙객 이름 기재 조용 스태프 분과 체크인 입구 주변 식당 리스트 찍다 체크인 오후 오후 퇴실 호랑이 주택 주택 개조 게스트하우스 인실 인실 조용히 실 반 기억 가물가물 날 실 게스트하우스 유명 인기 호랑이 주택 궁금 검색 호랑이 띠 사장 님 모이다 실 실은 별채 쪽 들어가다 호랑이 주택 이유 디다 그린 인테리어 네이버 갑자기 떠나다 여행 며칠 급히 알아보다 새벽 찾아보다 문자 보내다 어렵다 호랑이 주택 네이버 검색 날짜 아담 아늑 여성 실 천 별거 차분 예쁘다 추위 편 별채 실은 춥다 마음 인테리어 스위치 조명 거실 구경 코로나 도란도 이야기 나누다 분위기 저녁 깜깜 주변 돌아다니다 조용히 휴식 바깥 벽 틀다 소리 다음날 아침 빛 들어오다 나중 주택 생기다 꼭 컵 색 촌 스럽 마당 여러 나무 호랑이 주택 거실 책 서쪽 조용히 쉬다 코로나 투숙객 끼리 나누다 분위기 작년 거리 조용히 분위기 호랑이 주택 책 주변 식당 아래 여행 일기 들어가다 실 호랑이 주택\">]\n",
            "[570, <tomotopy.Document with words=\"아빠 환갑 요즘 누 환갑 챙기다 그냥 지나치다 아쉽다 가족 끼리 밥 끼 먹다 여행 다녀오다 부모 님 댁 가볍다 다녀오다 덕분 요즘 매달다 여행 한옥 숙박 그동안 한옥 한옥 새롭다 외관 한옥 그대로 기와 지붕 현대 식 깔끔 편하다 한옥 고즈넉 분위기 편리 동시 잡다 그중 오늘 소개 청춘 한옥 숙박 후기 이벤트 케이크 체험 이색 덕분 아빠 환갑 직접 케이크 맛보다 최 애 국내 여행지 신록 릉 멋 황리단 핫 프다 발굴 재미 고등학교 친구 보문단지 자전거 그거 겨울 빼다 예쁘다 봄 호수 벚꽃 나무 황홀 여름 신록 생명력 느끼다 단풍 한옥 어우르다 화려 여행 아끼다 계시다 올해 봄 노려보다 작년 코시국 벚꽃 못 올해 꼭 계획 청춘 한옥 택하다 이유 부모 님 윤스테 한옥 말씀 엄마 침대 온돌 선호 한옥 머물다 실제로 머물다 구조 무척 넓다 참고 메트리스 나즈막하다 깔리다 부모 님 방바닥 따끈따끈 좋아하다 거실 눕다 온돌 제대로 느끼다 부엌 식기 알차다 편하다 청춘 한옥 총 썼던 침실 욕실 가족 숙박 덕분 부모 님 동생 널널 보내다 겉 그리 한옥 스타일 짓다 지붕 쪽 인테리어 화이트 톤 깔끔 특히 엄마 마음 부분 부엌 부엌 파노라마 뚫다 혀다 참고 굽다 먹다 바깥 테라스 쪽 따로 테이블 머물다 복층 나뉘다 먼저 거실 부엌 침실 욕실 가운데 계단 올라가다 침실 나란히 연결 구조 장점 거실 놀다 놀다 잠 올라가다 먼저 반면 욕실 자주 욕실 샴푸 린스 샤워 젤 치약 칫솔 따로 챙기다 숙박 유아 자랑 유아 샤워젤 타입 머물다 청춘 한옥 부엌 거실 분리 가운데 올라가다 계단 구분 느끼다 부엌 식기 완벽 세팅 가족 원래 숙박 그릇 종류 다양 냉장고 일반 사이즈 인덕션 싱크대 밥솥 전자레인지 불편 덕분 아빠 생신 아침밥 미역국 잡채 여러 편하다 참고 와인 잔 잔 청춘 한옥 시그니처 숙박 객 케이크 무조건 숙박 후기 제공 이벤트 케이크 키트 따로 카스테 크림 장식 초코 알차다 마침 딸기 딸기 케이크 얹히다 꽤 그럴싸 딸기 근처 마트 토퍼 따로 챙기다 원래 케이크 이벤트 챙기다 마침 아빠 환갑 생신 특별 기억 체험 워낙 쉽다 주로 나뉘다 첫 째 보문단지 호수 근처 째 황리단 근처 마지막 세 째 불국사 근처 한적 규모 장점 청춘 한옥 그중 덕분 아웃 거리 불국사 다녀오다 불국사 겹 벚꽃 예쁘다 일반 벚꽃 색 진하다 올해 꼭 벚꽃 피다 벚꽃 예쁘다 보문관광단지 호수 자전거 정말 예쁘다 호수 바퀴 돌다 반나절 코스 자전거 대여 문 호수 거리 맛 불국사 쪽 보문관광단지 쪽 특이 육회 물회 육회 넣다 나름 별미 움직이다 불국사 보문관광단지 쉽다 오늘 한옥 청춘 한옥 소개 마지막 총 겉 한옥 편하다 꼽다 뿐 따로 케이크 후기 이벤트 참여 케이크 체험 시중 케이크 맛있다 반대 유의 주변 편의 시설 거리 하나로마트 장봐 구조 씩 달라다 자세 아래 네이버 청춘 한옥 참고 네이버 한옥 편리 동시 느끼다 가족 여행 규모 넓다 찾다 불국사 거리 찾다 케이크 체험 청춘 한옥 숙박\">]\n",
            "[589, <tomotopy.Document with words=\"찍다 여름휴가 괜찮다 찾다 바다 가깝다 인기 항공권 비싸다 비싸다 렌터카 세상 국내 여행지 다녀오다 여행 기간 짧다 괜찮다 아쉽다 버스 상당히 대중교통 아쉽다 몰다 거리 걸리다 인기 전라도 도시 만족도 높다 여행지 다양 볼거리 정말 맛 전라도 워낙 맛있다 유명 막상 유명 도시 맛 찾아가다 갸우뚱 맛 워낙 몰려들다 맛있다 여름휴가 국내 내륙 지역 적극 투숙 트리 닷컴 코드 절약 알리다 트리 닷컴 코드 세계 깨알 팁 네이버 페이 결제 결제 금액 네이버 포인트 적립 네이버 포인트 현금 좋아하다 단순히 결제 적립 트리 닷컴 코드 기간 투숙 기간 트리 닷컴 코드 혜택 꼭 클릭 여행지 여행 일정 입력 후에 검색 다양 다양 성급 평균 요금 선택 선택 줄이다 제일 역시 투숙객 평점 높다 결정 그리 편 그리 언노운 투숙 만족도 정말 높다 숙박 언노운 그리 괜찮다 부족 인기 정말 저렴 먼저 끝나다 편 비싸다 마감 인근 지역 여행 일찍 원하다 타입 트립닷컴 코드 적용 그랜드 모던 투숙 언노운 시그니 공간 넓다 인테리어 정말 마음 특히 마블 고 강도 세라믹 식탁 공간 와인 잔 디캔터 대여 밤 급하다 마트 와인 분위기 먹다 안주 빈약 맛있다 먹다 시그니 색 예쁘다 스메 냉장고 비치 색 모양 인테리어 커피 포트 캡슐 커피 머신 캡슐 커피 알차다 설치 거실 공간 천연 대리석 골드 프레임 티 테이블 놓이다 시그니 넓다 공간 여러 여행 편하다 인테리어 감각 어메니티 알차다 편하다 숙박 언노운 정말 걸어가다 열리다 영산강 변 신선 블루베리 엄 착하다 맛있다 먹다 열리다 올라가다 거리 맛보다 대나무 잎 너무나 맞다 맛있다 먹다 관방제림 풍경 정말 예쁘다 낮 예쁘다 밤 괜찮다 별빛 달빛 낮 별로 밤 정말 분위기 뎅이 맘 포즈 대나무 유명 대나무 구경 제대로 죽녹원 평생 못 대나무 정말 없이 여행지 대나무 죽녹원 이름 대나무 대나무 들이다 대나무 숲 하늘 대나무 정말 울창 대나무 숲 여행 차량 교통 살짝 애매 메타세쿼 분위기 찾아보다 숨다 메타세쿼 메타 프로방스 주차 차례 곁 붙다 찾다 메타 프로방스 발전 모습 시설 확충 별거 알록달록 원색 쩍 유럽 여행 날 흐리다 살짝 밋밋 맑다 화창 날 분위기 여름 여행 몰다 국내 여행지 계획 실제 투숙 만족도 높다 언노운 투숙 괜찮다 중심지 다양 여행지 몰다 소쇄원 메타세쿼 메타 프로방스 분위기 정말 카페 맛있다 음식점 은근 만족도 높다 여행\">]\n",
            "[596, <tomotopy.Document with words=\"밀 브릿지 전나무 숲길 통창뷰 숲 끝 다녀오다 구불구불 도착 전나무 숲길 밀 브릿지 입장료 살짝 눈 전나무 숲길 남다르다 숲 산책로 갤러리 카페 숙박 시설 조용 쉼터 년대 숲 보살피다 가꾸다 끝 걸어가다 다리 약수터 철분 풍부 약효 뛰어나다 알리다 현재 코로나 약수터 체험학습 숙박 숲 해설 프로그램 참여 해설 유익 교육 중간 쉼터 읽다 글 벤치 눕다 하늘 꽤 기분 폭 파묻히다 오솔길 올라오다 우측 다리 약수터 직진 숙박 다리 약수터 우측 물맛 대부분 유명 맛 비슷 녹슬다 철 물맛 건물 숙박 자연경관 최대한 해치다 건물 짓다 전나무 숲 인기 조용히 힐링 보내다 토요일 시간대 숙박 객 갓난아이 어르신 가족 단위 숙박 객 실 실 실 요금 다르다 카페 일반 관람객 갤러리 알차다 꾸미다 숙박 시설 모든뷰 통창 따뜻 온전 히 숲 개월 단위 전망 금방 마감 건물 자체 모던 심플 최대한 어우러지다 필요 미니멀 라이프 조용히 힐링 이내 산책로 퇴 조용히 산책 확실히 느끼다 온전 히 머물다 눈 겨울 여름 추하다 공감 댓글 감사\">]\n",
            "[600, <tomotopy.Document with words=\"올해 정갈 신축 한옥 의외 핫 멀다 느끼다 근교 가깝다 권 나들이 여행 덕분 꾸준 히 인기 봄 꽃놀이 여름 한옥 밤 산책 단풍 가득 솔직히 겨울 빼다 계절 겨울 살짝 황량 여러 황리단 위주 느끼다 새 새로 생기다 덕분 한옥 카페 맛 계속 여행 오늘 올해 황리단 신축 소 소 한옥 소개 지역 느끼다 황리단길 여행 한옥 머물다 덕분 그간 여행 여러 한옥 머무르다 규모 개성 한옥 계속 숙박 오늘 소개 소 소 한옥 요즘 제대로 반영 한옥 올해 생기다 신축 깔끔 독 채 프라이빗 떠들석 황리단길 건너다 닿다 저녁 조용 머물다 한옥 느끼다 한옥 특징 요즘 짓다 원래 황리단길 생기다 보문단지 근처 대형 리조트 최근 황리단길 뜨다 세대 저격 예쁘다 한옥 생기다 한옥 투박 세련 오늘 소개 소 소 한옥 이미 유명 인플루언서 다녀가다 딸 짜리 부엌 마루 알차다 찍다 한옥 관건 소 소 한옥 운영 구조 씩 다르다 취향 껏 선택 먼저 소소한옥 시그니 포토 포인트 원형 창문 벽 동그랗다 뚫다 마루 훤 히 아침 잔 절로 힐링 반면 머물다 온 동그랗다 포토 포인트 쪽 통유리 마당 훤 히 다과상 조식 먹다 떨다 흔들의자 놓이다 프라이 빗 정원 딸 침대 한옥 찾다 거실 구조 넓다 장점 짐 맥시멀 리스트 캐리어 펼치다 중요 침실 거실 널널 욕실 분리 화장대 무척 넓직 드라이 다이슨 아침 머리 말리다 신나 특이 구조 특이 침실 거실 반 벽 파티션 치다 공간 나뉘다 서까래 세 모나다 지붕 살리다 높다 개방 느끼다 황리단 소 소 한옥 놀다 웠 공간 꼽다 다이닝룸 아침 조식 먹다 공간 쉬다 공용 공간 쪽 벽 나전칠기 장식 장농 치장 요즘 한옥 식 재 해석 한쪽 벽 정말 예쁘다 곳곳 한옥 살리다 아기자기 인테리어 찍다 재미 참고 체크인 조식 무 운영 맞추다 이닝 먹다 처음 샐러드 의외 메뉴 푸짐 아보카도 닭가슴살 푸짐 샐러드 메인 식빵 토스트 후라이 쥬스 커피 씨리얼 자율 먹다 첫 날 다이닝룸 먹다 다음날 먹다 끼리 프라이 빗 먹다 먹다 토스트 발뮤 곳곳 느끼다 처음 발뮤 토스트 겉바속 촉 제대로 제대로 영업 좋아하다 이유 걸리다 나즈막하다 내려앉다 한옥 지붕 마음 차분 한옥 지붕 내려다보다 옥상 날 갑자기 날 맑다 가볍다 마음 올라가다 우와 탄성 절로 차곡차 곡 쌓이다 한옥 눈 옆집 커다랗다 한옥 한옥 지붕 찍다 마침 장미꽃 피다 한옥 빨갛다 어우르다 예쁘다 여행 여러 그동안 핫 프다 카페 위주 다니다 꼭 비엣 카페 웬 베트남 베트남 호이안 비슷 오래되다 지붕 덕분 베트남 느끼다 옛날 콩 여름 콩국수 계절 콩국 유명 먹다 박하다 콩 꽈배기 노른자 넣다 토속 먹다 쯤 맛보다 올해 정갈 신축 한옥 오늘 국내 좋아하다 동네 한옥 소개 마지막 총 요즘 뜨다 한옥 만나다 곳곳 포토존 찍다 맛 공간 공간 파티션 나뉘다 곳곳 창도 자세 후기 네이버 참고 잔여 소 소 한옥 실시간 확인 워낙 인기 빨리 마감 편 급하다 취소 한옥 스타 스토리 확인 참고 자세 온 구조 아래 확인 요즘 한옥 궁금 인생 스팟 한옥 찾다 황리단 찾다 올해 신축 궁금 소 소 한옥 숙박\">]\n",
            "[610, <tomotopy.Document with words=\"꺄 악 아리아 올리다 반응 괜찮다 올 여름 계획 여행 기록 성비 고가 파트 나누다 소개 오늘 성비 먼저 소개 성비 천 카페 구분 가득 통유리 놓이다 욕조 인생 샷 테이블 공간 통유리 아름답다 오션뷰 아직 여름 숙박비 확인 초반 굉장히 오션뷰 숙박 아침 제철 잼 제공 하나하나 어쩜 리뷰 정말 정말 평점 숙박 만족도 높다 소담 채 청학소 스타일 후기 가져오다 저렴 편 부산항 아름답다 화려 소박 매력 주차 계단 올라가다 힘들다 끝내다 키즈 겨울 닫다 이미 로스트 펭귄 다락 토요일 일반 오션뷰 특색 로스트 펭귄 연속 우연히 발견 광안리 해수욕장 근접 오션뷰 후기 소개 모던 심플 인테리어 컷 실제 후기 예쁘다 다락 수용 비싸다 편 일반 차케차 레 토 초반 부산항 아름 욕조 스파 똑똑 영도아레 시그니 버리다 욕조 인테리어 심플 우드톤 따뜻 분위기 넷플릭스 아레 욕조 참고 착하다 현재 마감 자세 내용 레 확인 만개 신축 독 채 정말 하늘 따다 기존 문 답변 아예 스타 공지 올리다 다녀오다 후기 만족도 높다 신축 굉장히 깨끗 후기 밤 부산항대교 탕 타임 따다 들키다 도란도 금요일 토요일 아늑 포근 도란도 광안리 해수욕장 코앞 접근 착하다 광안대교 원하다 정말 이뷰 좁다 늘다 후기 도란도란 넓다 후기 부분 참고 기재 모든 금액 수수료 청소비 포함 최종 금액 들어가다 검색 정말 올리다 후기 글 오늘 하트 누르다 헤헿 편 만나다 럭셔리편 아래 스타 스타 만나다\">]\n",
            "[642, <tomotopy.Document with words=\"고르다 어렵다 한옥스테이 핫 올모스 트다 홈스테이 실패 리조트 떨어지다 대청마루 고택 유행 이루다 여행 선호 편 내려가다 여행 한적 느끼다 찾다 검색 끝 원하다 찾다 네이버 결제 간편 일정 기간 무료 취소 섬진강플로렌스 파우더핑크 원룸 형 실 좁다 지저분 리뷰 깨끗 좁다 유럽 소품 공간 특별 저녁 가로등 없이 캄캄 식당 일찍 문 닫다 취사 에르메스 어메니티 개인 소장 아침 형 인간 조식 선택 필수 이름 아침 먹다 눈 뜨다 고프다 특히 마지막 날 한참 굶다 출출 일어나다 산책 뒤 조식 먹다 여정 둘째 날 날씨 테라스 먹다 셋째 날 먹다 메뉴 샐러드 야채 토스트 달라다 정성 들어가다 조식 섬진강 플로렌스 고양이펜션 수준 머무르다 고양이 족 히 스무 태어나다 아기 고양이 사장 님 키우다 고양이 맞다 귀엽다\">]\n",
            "[645, <tomotopy.Document with words=\"오랜 마음속 담다 유럽 앤디 라라 홈 사장 님 님 해외 여행 못 요즘 유럽 소 도시 물씬 품다 찾다 앤디 라라홈 외관 유럽 낭낭 앤디라라 홈 절대 어렵다 빈티지 인테리어 소품 가득 테이블 와인 치즈 먹다 정말 유럽 저라가 테이블 계단 따라가다 침실 침실 바라보다 잔잔 멋지다 예술 공간 숙박 조식 공간 무료 찍다 별도 정원 돌담 정원 예술 왠 카페 예쁘다 애 앤디라라 홈 커플 여행 찍다 좋아하다 친구 여행 어울리다 아래\">]\n",
            "[649, <tomotopy.Document with words=\"헤이 글 우 쑤다 잠 성비 찾다 우연히 발견 헤이 비싸다 일정 바쁘다 값 충분히 즐기다 아쉽다 요즘 욕심 버리다 일정 날 성비 찾다 올스테이 먼저 눈 띄다 저렴 시설 괜찮다 오래 고민 직접 시설 컨디션 친절 만족 스럽 특히 가격대 정말 놀랍다 급 후덜덜해 저런 쯤 잠 부담 스럽 저렴 고려 조합 괜찮다 헤이 기본 스탠다드 홈 쇼핑 놀랍다 상위 착하다 요즘 모텔 비싸다 전혀 쾌적 넘다 맘 정말 발견 디자인 감각 찾다 참고 시내 여행 필수 코스 올레 시장 걷다 걸리다 올레 시장 먹거리 먹다 프론트 계시다 친절 성급 친절 성급임 친절 기분 잠 찾다 늦다 저녁 도착 서두르다 체크인 올라가다 디 럭스 트윈 맥주 쿠폰 사항 적히다 종이 로비 전체 우드톤 인테리어 따스 워낙 착하다 디자인 인테리어 달라다 그리 아쉽다 이쁘다 레트로보이즈 추억 구경 맥주 잔 짐 내려가다 잔 찍다 폰 찍다 지우다 버리다 무료 맥주 쿠폰 가볍다 맥주 잔 괜찮다 구경거리 둘러보다 괜찮다 루돌프 보름 딸 여행 투숙 찾다 그리 넓다 깨끗 모던 마음 개인 화장대 데스크 공간 이쁘다 만나다 동그랗다 거울 귀엽다 매달리다 드라이 컵 덮개 센스 창문 열다 저녁 늦다 체크인 깜깜 오션뷰 다음날 아침 꽤 괜찮다 디 럭스 트윈 침대 기본 가격대 머물다 여행 어른 반대편 각도 요런 더블베드 싱글베드 확실히 구분 침대 침구 포근 성급 베딩 컨디션 근데 일반 성급 다르다 깨끗 포근 침대 사이 스탠드 프론트 연결 전화기 티슈 티슈 선반 타입 욕실 깔끔 성급 성급 머물다 개인 컨디션 베딩 컨디션 욕실 마음 쓰이다 성급 차이 근데 깨끗 디자인 깔끔 수건 맞다 넉넉 히 욕실 분리 깨끗 고맙다 비싸다 깨끗 어매니티 당연히 공용 용량 깔끔 부분 역시 맘 포인트 샤워 바디스펀지 욕실 맞다 편 입구 쪽 형태 옷걸이 성급 정말 알차다 굉장히 가볍다 촉감 무겁다 가운데 부담 없이 급 공용 슬리퍼 슬리퍼 깔끔 짐 쉬다 올레 시장 마농 치킨 늦다 문 닫다 치킨 마농 치킨 워낙 유명 좋아하다 바삭 스타일 실망 먹다 만하다 머무르다 디 럭스 트윈 인룸 초반 기본 스탠다드 더블 디 럭스 더블룸 저렴 비교 사이트 올스테이 현재 트립닷컴 저렴 올스테이 최저 코드 적용 최종 금액 결제 세금 요금 붙다 헤이 최저 알아보다 최저 사이트 뜨다 트립닷컴 선택 코드 입력 칸 입력 왼쪽 디 럭스 트윈룸 코드 오른쪽 스탠다드 더블룸 역시 룸레이트 저렴 똑같다 음 역시 껏 올리다 조식 먹다 종류 간단 편 깔끔 쯤 먹다 괜찮다 다르다 조식 포함 저렴 특히 이득 타입 조식 포함 그거 선택 헤이 정확히 셈 지금껏 다니다 성비 처음 착하다 쾌적 찾다 추 강추 올스테이 최저\">]\n",
            "[652, <tomotopy.Document with words=\"오롯 친구 여행 갔다오다 포함 총 여기저기 찾아보다 오롯 만족 공유 오롯 머무르다 공유 여기저기 찍다 인테리어 예쁘다 소품 아기자기 깨끗 부엌 예쁘다 총 아쉽다 아쉽다 안쪽 밤 무섭다 미숙 미리 미리 들어가다 결혼식 앞두다 친구 브라이덜샤워 이쁘다 막 찍다 이쁘다 제대로 즐기다 파티 제격 찾아보다 계시다 신규 쿠폰 사용 가량 쿠폰 아래 쿠폰 생성 내역 적용 꼭 사용 기존 불가 제주도감성숙소 제주도숙소 제주도에어비앤비숙소 제주도에어비앤비 제주도구좌숙소 구좌숙소추천 제주도숙소추천 제주도감성숙소추천 에어비앤비쿠폰 에어비앤비쿠폰링크\">]\n",
            "[656, <tomotopy.Document with words=\"파크뷰 야경 여행 여행가세라 오늘 소개 애매 선호 시골 풍경 출장 다녀오다 지나다 뒤늦다 올리다 숙박 후기 운영 아래 낮다 파크뷰 풍경 찌다 맛 소개 빌딩뷰 예쁘다 오피스텔 날 남편 출장 날 새벽 일찍 나서다 남편 잡다 옵션 오피스텔 자체 엄 깔끔 사이즈 장점 단점 명확 깔끔 저녁 체크인 나가다 저녁 먹다 들어오다 쉬다 출장 냄비 후라이 팬 기름 소금 후추 기본 제공 호스트 님 병 내려가다 아침 커피 롯데 몰다 캐슬 파크 아래 편의 시설 편하다 막 건물 자체 부분 공사 요일 저렴 비용 건물 무료 주차 비즈니스 비슷 깔끔 건물 자체 높다 야경 신축 롯데마트 근처 공원 아침 산책 공항 혹 출장 볼일 여행 놀다 특징 문 열다 공간 테이블 반대 돌다 이불장 바닥 깔다 근데 불편 사이즈 저녁 후다 닥 저녁 먹다 맛있다 먹다 맛찬 왕소금구 회사 동료 저녁 먹다 남편 추억 워낙 유명 맛 키토 밥 먹다 먹다 영화관 근처 저녁 데이트 야경 예쁘다 아파트 높다 기억 간접 체험 아침 남편 출근 업무 맞추다 근처 공원 김 들르다 째 밤 야경 예쁘다 나무 옷 장점 편의 시설 근처 오피스텔 단점 아랫집 통화 내용 옆집 소리 단점 추버 이불 얇다 춥다 로빈 저녁 야경 건물 멋지다 근처 센트럴 파크 공원 날씨 나무 예쁘다 공원 걷다 혹 볼일 꼭 공원 산책 업무 출장 공항 새벽 비행기 이용자 새롭다 숙박 여행자 맛 맛있다 기록 거리 토박이 동생 소개 기다리다 들어가다 보쌈 감자탕 보쌈김치 달하다 시원 맛있다 돈 산 기억 카페 소개 사라지다 뿅 바다 맛 째 차이나타운 카페\">]\n",
            "[659, <tomotopy.Document with words=\"썬앤문 리조트 글 미 네쿠 제주도감성숙소 썬앤문리조트 여행 바퀴 돌다 코스 계획 산방산 서남쪽 여행 물색 오후 일정 산방산 끝나다 이내 검색 오션뷰 싱그럽다 잔디밭 썬앤문 리조트 만나다 글 읽다 순서 기본 조식 주변 관광지 주차장 건물 뒤편 유형 햇님 정원 거실 침실 욕실 비품 스탠드 무료 인터넷 병 전기 포트 인덕션 전자레인지 그릇 샤워 어메니티 입시 맞추다 도착 로비 체크인 진행 숙박 사이트 높다 평점 증명 친절 깔끔 눈 띄다 배정 캐리어 올라가다 힘들다 고려 직접 도와주다 참고 엘리베이터 짐 오르내리다 힘들다 체크인 아웃 뒤 산방산 해변 배산임수 최적화 지형 밤새 더욱 꿀맛 단잠 이루다 건물 옥상 루프 수영장 앞쪽 포토 존 바비큐 시설 썬앤 문 리조트 하루 종일 즐기다 최적 선택 햇님 크기 여러 캐리어 펼치다 무방 하루 종일 돌아다니다 지치다 몸 스트레칭 동선 불편 전혀 느끼다 나이스 썬앤문리조트 이벤트 사장 님 찾아오다 감사 마음 표현 실 데코레 이벤트 가득 꾸미다 요즘 신혼 여행 여행 이벤트 미리 욕실 넉넉 수건 어메니티 뜨끈뜨끈 하루 피로 씻다 개인 느끼다 부분 욕실 향기 외출 들어가다 기분 묘하다 침실 폴딩도어 분리 돌 저녁 앉다 맥주 캔 나누다 취사 미리 더욱 언택트 여행 즐기다 먹다 커피포트 활용 아침 저녁 따뜻 커피 즐기다 썬앤문리조트 워낙 바깥 풍경 커피 맛 가족 여행 무조건 썬앤문리조트 썬앤문리조트 모든 드넓다 바다 오션뷰 테이블 앉다 보내다 꽤 특히 편안 차림 바다 조식 먹다 기분 기억 순간 저녁 먹다 썬앤문리조트 은은 초저녁 서비스 직접 베이커리 최 고급 아라비 카다 커피 모든 제공 전날 조식 서비스 미리 말씀 다음날 아침 맞추다 직접 가져다주다 조식 비주얼 만점 쓰이다 글귀 덕분 더욱 풍요 롭 아침 맞이 직접 베이커리 따뜻 커피 오렌지 주스 간편 든든 먹다 메뉴 전날 침대 꾸미다 활용 조식 테이블 날씨 흐리다 살짝 어둡다 찰떡 어우러지다 예쁘다 찍다 중요 썬앤문 리조트 조식 맛 정성 가득 흠잡다 없이 훌륭 마지막 썬앤문 리조트 차량 이내 주변 관광지 송악산 산방산 현재 겨울철 푸르다 맑다 풍경 감상 유채 꽃 예쁘다 둘러보다\">]\n",
            "[660, <tomotopy.Document with words=\"여행 블로거 벤사마 요즘 숙박 시설 굉장히 다양 특히 작년 자가격리숙소 새롭다 등장 형태 생겨나다 새롭다 형태 찾다 자가 격리 기간 삭막 고민 위홈 홍대자가격리숙소 한번 찾아보다 홈 격리 위홈 국내 유일 외국인 합법 공유 숙박 서비스 제공 도시 민박 운영 불법 나라 나라 민박 운영 불법 민박 궁금 아무래도 인가 시설 시설 위홈 호스트 확실 인증 공유 숙박 허가 합법 플랫폼 해외 입국 자가 격리 찾다 찾다 홍대 자가 격리 스윗 메모리 위홈 정말 정말 제약 격리 기간 정말 답답 해외입국자가격리 깔끔 일반 홍대 입구 전철역 멀다 이내 접근성 편 주변 맛있다 배달 맛 정말 편 스윗메모리 홍대 입구 출구 거리 못 예쁘다 깔끔 꾸미다 공간 거뜬 꾸미다 공간 밥 먹다 생활 돌 자발 돌이 순이 의무 돌 다르다 공간 중요 청결 그야말로 자가격리안심숙소 홍대 자가 격리 스윗메모리 마음 공간 위홈 찾아보다 거실 공간 정말 넘치다 눈 띄다 티 테이블 의자 잠 공간 따로 생활 공간 분리 실내 단조 롭 따듯 공간 홈 정부 인증 운영 질병 격리 원칙 지키다 운영 지자체 보건소 협력 비교 손색 다양 비품 제공 스윗메모리 기본 세탁기 건조대 격리 기간 빨래 편하다 심심 집안 재미있다 깔끔 필요 대부분 불편 개인 해외 생활 사용 생활 용품 챙기다 사용 짧다 짧다 맞다 챙기다 사용 스윗메모리 키친 원하다 먹다 장점 기본 토스트 커피포트 렌지 인덕션 식기 도구 간단 먹다 배달 기본 식기 도구 필요 면 자가 격리 선택 키친 쪽 창문 나름 발코니 세탁 빨래 건조대 집안 귀찮다 아무리 씻다 옷 갈아입다 일반 꾸미다 단조 롭 어쩌다 없이 자가격리 이유 가족 생활 마땅히 위홈 찾아보다 스윗메모리 마음 부분 루프탑 루프탑 자가 격리 수칙 준수 바깥 격리 기간 답답 공간 홍대 자가 격리 스윗메모리 주택가 굉장히 조용 시끄럽다 홍대 번화 조용 동네 공간 담아봤습니 마지막 자가 격리 비용 궁금 터 스윗메모리 위홈 성비 꽤 저렴 금액 시설 굉장히 만족 스럽 수준 숙박비 정말 위홈 이벤트 금액 민 쿠폰 다양 즉석 식품 격리 식품 선택 홈 자세히 위홈 국내 유일 합법 공유 숙박 플랫폼 다양 형태 법인 가족 개인 필요 형태 필요 영수증 발급 확인 바래다\">]\n",
            "[664, <tomotopy.Document with words=\"히 계획 자전거 닭 갈비 먹다 막차 날 연휴 만족 스럽 투숙 상상 마당 당연히 만실 대충 아무데 편 깔끔 당일 저녁 급하다 깔끔 센스 편안 숙박 시설 호스텔 이름 시끄럽다 걱정 옆방 조용 시내 에스 파스 호스텔 숙박 시설 식당 몰리다 동네 다리 건너다 걷다 남춘천역 근처 번화 식당가 동네 닭 갈비 먹다 자전거 컷 데스크 기다리다 카페 건물 편의점 편리 호스텔 먹다 카페 배달 먹다 굉장히 붙이다 편 제로페 당일 부킹닷컴 급하다 네이버 싸다 기분 나쁘다 천 차이 최저 보장 클레이 걷다 부킹 닷컴 놈 아마 직접 싸다 편의점 자판기 트윈룸 엘리베이터 단점 그냥 키 넣다 깔끔 트윈 매트리스 편하다 깨끗 희다 시트 편안 취식 냉장고 당연 에어컨 충전기 기본 갖추다 침대 편하다 장점 센스 머리맡 멀티탭 스탠드 충전기 콘센트 넉넉 자전거 배터리 충전 공간 차지 스탠드 형 옛 건물 그대로 개조 의외 욕실 욕조 구조 촌 스럽 깨끗 모든 샴푸 린스 클렌징 폼 일회용품 굉장히 요새 저가 깔끔 숙박 컨셉 토요코인 명확 이해 인테리어 살리다 뒤집다 영문 안내문 호스텔 안내문 군더더기 없이\">]\n",
            "[668, <tomotopy.Document with words=\"산방산 썬앤문 리조트 오션뷰 옳다 글 햇 햇지 바라보다 오션뷰 썬앤문 리조트 생기다 제주도감성숙소 다녀오다 산방산 인접 주차장 눈 주차장 주차 산방산 눈 덮이다 한라산 시원 다음날 찍다 날 흐리다 담다 산방산 리조트 찍다 산방산 아래 촬영 얼 추 맞추다 도착 썬앤문 리조트 아직 기다리다 리셉션 쎄스 코 인증 마크 썬앤문 리조트 건물 전면 오션뷰 벌레 들어오다 쉽다 구조 쎄스코 바퀴 벌레 마주 끔찍 경험 예민 썬앤문 아름답다 오션뷰 햇님 요금 비수기 연휴 서비스 제공 조식 포함 햇님 계단 올라가다 싸다 전체 모습 한눈 복도식 들어서다 현관 직사각 형 형태 알콩달 콩 기념일 신혼여행 침대 장식 장식 모습 직접 처음 기분 이유 침대 마주 자리 티비 심심 티비 지나다 여행 키다 제품 화장대 여러 편하다 양키 캔 오션뷰 썬앤문 리조트 해돋이 해넘이 명소 리조트 리조트 마당 너머 해변 탁 트이다 오션뷰 덕분 닉 값 제대로 소파 펼치다 디자인 소파 베드로 바꾸다 디자인 충분 공간 슬라이드 문 공간 분리 유용 사용 풀키친 갖추다 리조트 야식 하나로마트 반 식품 갖추다 쉽다 창문 열 먹다 불구 생기다 불편 과하다 식기 류 사용 도구 냄비 인덕션 갖추다 전자레인지 커피포트 전기 밥솥 시설 완비 며칠간 투숙 불편 수준 수건 넉넉 갖추다 깔끔 요즘 여행 위생 예민 먼지 수건 타일 상태 위생 상태 예민 편 이쁘다 중요 위생 상태 무 중요 다행히 썬앤문 리조트 깔끔 냄새나다 더욱이 즐기다 오션뷰 바다 가득 야간 마찬가지 조명 켜다 리조트 마당 힐링 타임 야경 바라보다 와인 하루 일정 마감 잠 테이블 치우다 창문 옆 침대 아침 창가 일출 감상 다음날 아침 해돋이 맞추다 기상 거실 이불 깔다 눕다 아쉽다 구름 끼다 날씨 바다 떠오르다 아침 붉다 피다 하늘 창가 눕다 아침 맞이 세상 여행 초반 일정 꼬이다 산 올레길 걸다 호캉스 고르다 힐링 배달 건강 조식 조식 아침 반 반 사이 시간대 체크인 말씀 서비스 제공 해돋이 침대 뒹굴다 뒹굴다 조식 배달 호다 닥 먹다 시작 조식 안내문 조식 부족 잔여 제공 친절 제공 이미 충분히 배부르다 햄엔에그 샌드위치 아이스크림 크루아상 딸기 음료 제공 처음 크루아상 크림 아이스크림 맛있다 놀다 햄엔에그 맛있다 먹다 메이플 시럽 설탕 프렌치 토스트 맛있다 맞추다 들어가다 저녁 먹다 머물다 호캉스 즐기다 산방산 오션뷰 제대로 힐링 즐겁다 보내다 아웃 올레길 다음날 한라산 영시 윗세오름 스파르타 일정 시작 포근 쉬다 즐기다 루프 야외 수영장 바베큐 블루오션 카페 부대시설 아쉽다 못 산책 못 걷다 비밀 창문 오션뷰 바라보다 즐기다 놀러오다 썬앤문 리조트\">]\n",
            "[671, <tomotopy.Document with words=\"제주도감성숙소 제주도숙소 서귀포숙소 서귀포감성숙소 두번째마음 날씨 실제로 정말 역대 급 제주두번째마음 제주도두번째마음 입금 방식 아마 다르다 단독 주택 비싸다 편 값 모습 이쁘다 모습 맘 깔끔 포샵 새로 개업 스티커 침대 괜찮다 이쁘다 협찬 오해 돈 직접 지불 다니다 솔직 후기 알차다 후기 살짝 아쉽다 세탁기 따로 손 씻다 공간 깔끔 그냥 찍다 밖 찍다 이쁘다 역시 맛 밤 이쁘다 배달 먹다 따로 올리다 찾아오다 아침 풍경 공간 전체 정말 추억 편하다 쉬다 재 의사 날씨\">]\n",
            "[687, <tomotopy.Document with words=\"제로 플레이스 여행 선택 제로 플레이스 선택 가격대 나가다 만족도 충족 여행 여행지 먼저 먼저 지역 다녀오다 몇몇 마음 멀다 비교 거리 가깝다 충남 여행 오예 버리다 경로 진행 쿠폰 적용 세이브 날씨 중요 비중 차지 별로 다니다 쉬다 마음 요즘 트렌드 대세 굉장히 핫하 제로 플레이스 카페 숙박 운영 모든 내려놓다 돌아가다 비움 확장 테라스 공간 호수 산 정원 풍경 끌어안다 건물 보다 적극 교감 이루다 공간 갖다 제로 플레이스 모든 호수뷰 이쁘다 그중 근데 호스트 듣다 커플 제외 나머지 독립 키친 공간 염두 특이 베란다 입시 역시 설명 아늑 편안 인테리어 가득 들어서다 순간 제로 플레이스 디퓨 향도 올라오다 힐링 비싸다 아쉽다 돌아서다 언급 문 아예 커튼 다행 스럽 부부 창피 못 느끼다 한창 연애 갓 시작 연인 창피 해준닼 새롭다 비누 무 이솝 우와 거실 무 야마하 팍팍 제로 플레이스 스텐드 비싸다 주차공간 주차 공간 가꾸다 넓다 정원 호수 바라보다 잇다 못 겨울 잔디 색 봄 여름 장난 확신 저녁 맛있다 바베큐 굽다 먹다 들어오다 티비 막걸리 한잔 밤 보내다 푹 일어나다 눈 펑 펑 경관 펼치다 제로 플레이스 제대로 이쁘다 아침 일어나다 야마하 틀다 타 주기 기분 헝 제로 플레이스 조식 포함 내려오다 카페 운영 먹다 조식 간편 제로 플레이스 정원 산책 꼭 찾다 제로 플레이스 강추강추\">]\n",
            "[694, <tomotopy.Document with words=\"요즘 국내 검색 감성숙소 대세 한옥 여행 불구 이미 쪼다 이뿌 풀부 킹 한옥 수향 원하다 날짜 자리 여행 일정 네이버 넘나편 인스타디엠 문자 힘들다 첨성대 근처 황리단길 가깝다 대로변 주차 완벽 히 자리 그냥 날 쨍 예쁘다 총 나중 하현 쪽 분리 원룸 형태 널찍 아기자기 워 식탁 담당자 식탁 궁금했는뎈 꺼 욕실 아담 깔끔 원룸 형 한옥 특성 그대로 쩜 아쉽다 샤워 부스 아래 쪽 뚫어놔 반신 욕 타일바닥이랔 반신 욕 침대 옆 미니 화장대 아침 간식 챙기다 과일 저녁 술안주 토스트 아침 행주 사용 황송 예쁘다 키친클로스 찍다 한옥 찾다 워낙 즈음 후기 크리스마스 트리 앙증맞다 식기 귀엽다 만족 근처 편의점 치킨 들어오다 맥주 유미 세포 맥주 내서타일 윝에일 루미큐브 지옥 여행 루미큐브 소품 켜다 분위기 저녁 한옥 늦잠 일어나다 첨성대 바퀴 구경 들어오다 찰칵 드립백 커피 미니 샹달 프다 잼 곁들이다 토스트 와구와 봄 아기자기 사장 님 친절 깨끗 침구 푹신 징 짜다 깔 끄다 황리단길 가깝다 근처 유적 자물쇠 잠그다 문 열다 옆집 만나다 불편 부분 날 조용 시끄럽다 죄송 루미큐브졌을때 소리 지르다\">]\n",
            "[718, <tomotopy.Document with words=\"여행 계획 주목 여행지 가깝다 여행지 느끼다 가져오다 아늑 소파 거실 공간 감상 즐기다 간이 커피 머신 거실 별도 이닝 공간 친구 여럿 모이다 숙박 이유 이닝 공간 따로 나누다 아늑 쉬다 침실 공간 특히 여행 숙박 깔끔 주요 관광지 멀다 여행 머물다 아래 출처\">]\n",
            "[736, <tomotopy.Document with words=\"반할부산 벌써 여름 코로나 마음 다니다 요즘 춥다 겨울 마음 다독이다 여행 어렵다 시국 가족 끼리 친구 끼리 연인 끼리 마음 힐링 경주감성숙소 경주이색숙소 힐링 소개 원래 전통 관련 사업 추진 기업 사회단체 일반인 학생 명상 수행 프로그램 인문학 연수원 공간 주로 쓰이다 뷰맛집 점점 퍼지다 시작 힐링스테이 관광객 옛 스럽 껏 느끼다 한옥 침대 눕다 테라스 타워 뷰맛 문 열다 속이다 뻥 뚫리다 테라스 경주보문관광단지 랜드마크 중도타워 예술 넓다 테라스 공유 테라스 독차지 리조트 모든 시설 이윤 바라다 정해지다 진행 넓다 잔디 펼쳐지다 거닐다 급 찾아보다 넓다 한옥 테라스 고즈넉 마음 껏 누리다 이용객 공유 즐기다 힐링 코로나 소규모 힐링 프로그램 오롯 폭 액자 선물 힐링 밤 보문단지 빛내다 웅장 화려 모습 놓치다 조명 운영 바라다 분위기 중요 가족 친구 꼭 확인 맛보다 군데 글 하단 확인 분위기 밤 낮 즐기다 깔끔 넓다 여행 다니다 오래 허름 특히 한옥스테이 쾌적 크기 찾아보다 힘들다 저렴 대부분 외곽 보문관광단지 거리 핵심 관광지 첨성대 동궁과월지 경주월드 캘리포니아비치 볼거리 놀다 거리 뷰맛 쾌적 찾다 관광객 늘어나다 쾌적 힐링 정해지다 수용 유명 얼른 센터 단독 진행 힐링스테 프로그램 저렴 글 하단 클릭 상세 황룡원 힐링 소개 어렵다 시국 힘 시작 힐링 쉼 마음 여유 찾다 생활 힘들다 꺼내다 위로 추억 바래다 넘치다 알차다 더욱 편하다 가성비 떠나다 기차타고 신경주역 빠르다 기차역 도보 픽업 신경주역렌터카 편하다 여행 국내기차여행 경주여행 기차여행 경주맛집 경주보문단지 한옥호텔 한옥스테이 황룡원숙소 이색숙소 감성숙소 뷰맛집 가족여행 경주가족여행 여름휴가 경주황룡원숙소 경주템플스테이 경주힐링스테이 황룡원 경주한옥숙소 저렴하게타는방법 시간표 노선 코레일예매 경주렌터카 경주가볼만한곳추천 템플스테이 경주숙소추천 경주날씨 경주숙소 경주여행코스추천 경주숙박 경주호텔 경주월드 경주야경투어 힐링스테이 한옥 경주월드자유이용권 알아보다 아래 이미지 누르다\">]\n",
            "[737, <tomotopy.Document with words=\"동쪽 쪽 새로 들어오다 다녀오다 브로콜리 쉐프 출신 오너 운영 채 단독 개인 데크 개인 테라스 투숙 성인 총 커플 가족 편하다 찾다 어렵다 성비 가심 높다 깔끔 운영 노력 상당히 편 브런치 제공 오너가쉐프 브런치 유명 브로콜리 소개 브로콜리 이름 동쪽 브로콜리 큰길 옆 찾다 어렵다 블로콜리 독 채 채 나란히 구조 벽 연결 독채 프라이버시 보장 독채 의미 브로콜리 오른쪽 카페 레스토랑 운영 손 님 투숙객 제공 베네핏 브런치 제공 공간 운영 아깝다 예쁘다 멋지다 공간 입구 번호 연속 없이 나아가다 아마 의미 구조 거실 공간 왼쪽 상단 현관 현관 소파 소파 옆 창문 테라스 연결 개인 수영장 거실 정면 공간 깔끔 공간 브로콜리 핫스폿 욕실 요즘 유행 비앙 코 타일 골드수전 모던 고급 스럽 컨셉 바닥 육각 타일 힘들다 깔끔 유지 샤워수 욕조 벽돌 타일 마감 욕조 힘들다 겨울 수영장 샴푸 린스 바디워시 미끄럽다 조심 바스 락 바스 락 거리 깨끗 침구 마음 침구 쉽다 부분 수준 침구 편 까다롭다 편 욕실 씩 거실 화장대 치약 칫솔 비누 바디 타월 면도기 따로 브로콜리 문득 문득 감동 부분 별거 필요 마음 느끼다 싱크대 열여 필요 물품 간장 소금 간단 양념 변경 편하다 아기 식기 브로콜리 선택 이유 개인 수영장 오션뷰 루프 수영장 놀다 수영장 사이즈 적당 개인 수영장 며칠 내내 아들 수난 수난 수영장 여름 시즌 사용료 별도 워낙 들어가다 수영장 편 수영장 옆 테라스 공간 테이블 냄새나다 밖 먹다 놀다 모습 꼭 필요 편안 공간 채우다 좋아하다 일부러 사장 님 말씀 빠지다 잠수 찍다 아들 잠수 인증 샷 올라가다 계단 로망 이유 없이 오르내리다 놀이터 세 미만 엄마 아빠 주의 필요 원룸 스타일 공간 퀸 사이즈 침대 개별 욕실 문 열다 나가다 예쁘다 테라스 테라스 공간 테라스 엄마 아빠 저녁 맥주 간만 로맨틱 공간 테라스 멀리 동쪽 바다 아래 브로콜리 잔디 밭 오른쪽 주차장 저녁 치 잡이 불빛 테라스 전망 브로콜리 이름 문득 궁금 사장 님 헤어 스타일 브로콜리 비슷 붙이다 우연히 날 아침 사장 님 마주치다 브로콜리 갑자기 내용 웃음 고생 사장 님 여쭈다 사장 님 제공 브런치 먹다 워낙 다니다 개인 운영 무료 조식 괜찮다 베네딕트 먹다 바뀌다 급 먹다 베네딕트 비교 손색 재료 맛 플레이 팅 화려 하나하나 충실 괜찮다 마지막 조각 맛있다 먹다 찍다 곳곳 화보 브로콜리 카페 개인 찾아오다 손 님 사장 님 힘들다 아무튼 인테리어 누리다 아깝다 하나하나 노고 느끼다 넓다 오롯 공놀이 산책 공간 어쩌면 어렵다 선택 짓다 수익 생기다 채 공간 여유 멋지다 이유 보른 여름 내내 별장 브로콜리 글 여행 마작 드림 제주도숙소추천 제주도독채펜션 제주한동리숙소 한동리브로콜리 제주독채풀빌라 제주감성숙소 제주감성독채빌라 제주가족여행 제주가족여행숙소추천 휴트래블 국내최초여행컨설팅 커스터마이징트래블 포스트코로나여행 책쓰는여행사 휴트래블앤컨설팅 착한여행사 여행컨설팅 여행컨설팅그룹 여행작가마작가 여행작가추천호텔 호텔만 천개 호텔헌터 호텔마니아 칼럼니스트 마작가 매일호텔\">]\n",
            "[754, <tomotopy.Document with words=\"안녕하세 올라오다 도란도란 요새 외쿡 나가다 매달다 촬영 덕분 기대감 여행 설레임 무사히 끝마치다 부담감 훨 이왕 김 잠 괜찮다 알아보다 선택 바다 코앞 저번 힐 나름 괜찮다 아쉽다 비치 멀다 빌딩 스타일 모자라다 라면 귤 자유 롭 먹다 만족 돌아오다 고민 풀부킹 어쩌다 없이 마침 바닷가 아쿠아뷰티 이름 엄청 괜찮다 나중 어렵다 찾다 갔다 아쿠아뷰티 찾아보다 검색 일정 알아보다 떠라구요 후반 개인 의견 요즘 만언 느끼다 적절 트윈베드 더블 선택 일행 종류 고르다 후기 눈 빠지다 살펴보다 대부분 한결 하드웨어 아쉽다 써 역시 리뷰 대략 궁금 가봤답니 상당히 편리 주변 걸다 편의점 레스토랑 카페 요즘 앉다 그냥 검색 예쁘다 그리 이름 숫자 괜찮다 없이 비쌌구 바 그냥 체인 편 아이러니 날씨 엄청나다 춥다 동절기 미가동 내내 수풀 운영 신라호텔 히든클 리프 수영장 채우다 만언이래 그냥 차갑다 트다 어자 피 요새 수영장 바라다 히 필요 중요 바다 가까이 리뷰 창문 흐리다 안개 끼다 역시 깨끗히 닦다 중간 점심쯔음 창문 뿌리다 세정제 핵심 아쉽다 요즘 카페 멋지다 풍경 커피 잔 침구 급 써 호캉 스다 다니다 넘다 살아봤잖 하얗다 색 깔끔 노오력 흔적 구스베개 아쉽다 침대 퀸사이즈 좁다 느끼다 어메니티 폼클렌져 다양 센스 돋보이다 이점 밤 두번주셔야 세면대 틀다 밖 튀어나오다 불편 전반 고급 스럽 어렵다 만족 애매 아쉽다 장점 장단점 이해 춥다 겨울 날 난방 추위 땀 뻘뻘나 뜨끈 뜨겁다 한참 씻다 밖 나가다 왠지 바다 쪽 욕조 세상 최고 터 음 안타 부분 결론 듯이 막 별로 쏘쏘 하루 종일 바다 무조건 선택 후회 갬성돋 불편 체인 깔끔 모던 스타일 선호 근데 자주 갠찮네 앨리스 앤 트렁크 롯데 시티 편하다 불편 실패 아쉽다 안타 울다 근처 유탑유블레스 좁다 패스 결론 그냥 냥 갠찮 만족 꺼 물어보다 흠 글쎄요 개별 독 채 타입 언택트 카페 갠차늘 가감 없이 경험 토대 말씀 선택 판단\">]\n",
            "[765, <tomotopy.Document with words=\"워낙 여행 좋아하다 홀로 여행 꽤 즐기다 편 아무래도 아쉽다 이것저것 나누다 먹다 멋지다 배경 가끔 부담 부담 스럽 특히 끝내다 오션뷰 쯤 럭셔 리 호캉 스다 여행 즐기다 아직 그림 떡 올해 대부분 여행 또는 성비 직접 만족도 높다 선별 소개 게스트하우스 밤비노 네이버 별점 리뷰 무 장점 간판 멀리 쉽다 찾다 넓다 주차장 딸리다 주차 걱정 어둡다 간판 환하다 불 들어오다 밤 도착 입구 아기자기 가꾸다 화단 소박 정갈 사장 님 취향 느끼다 멀리 바다 아담 예쁘다 모든 롭 특히 롭 기억 문자 보내다 자세 설명 바탕 대면 진행 요즘 시국 대면 감사 나누다 시절 그립다 울타리 안쪽 오른쪽 계단 올라가다 일렬 쪼르륵 붙다 계단 가운데 단잠 고양이 방해 까치 걸음 살금살 올라가다 문 열다 들어서다 현관 안쪽 문 열다 꽤 널찍 충분히 전혀 불편 첫인상 깔끔 단정 침대 화장대 좌식 책상 냉장고 옷걸이 필요 갖추다 아기자기 소품 심심 인테리어 포인트 깨끗 면 커튼 썩 어울리다 이름 게스트하우스 개별 욕실 딸리다 원룸 편 맞다 어메니티 샴푸 린스 바디 샤워 손 세정제 치약 싱글 침대 붙다 이불 세팅 한쪽 침대 양쪽 넘어가다 가득 쏟아지다 들어오다 햇살 아기자기 포근 시간대 색감 예쁘다 냉장고 사장 님 맛 리스트 놓이다 고르다 날 점심 먹다 냉장고 시원 돌 돌 예쁘다 말리다 수건 배려 느끼다 넘어가다 서쪽 바다 쪽 딸리다 테라스 앉다 노을 바라보다 미처 저녁거리 급하다 걷다 거리 편의점 다녀오다 노을 감동 여행 첫 날 기념 맛있다 먹다 주변 식당 늦다 편의점 라면 때우다 첫 끼 조용히 책 읽다 글 밤 마음 만나다 어쩐지 집중 여행 시작 모든 면 완벽 가깝다 단점 취약 속닥속 닥 얘기 나누다 옆방 방해 장점 워낙 컨디션 부담 스럽 숙박비 단점 잊다 공용 간단 조식 제공 식빵 시리얼 요거 트다 바나나 우유 주스 사장 님 핸드드립 커피 직접 로스팅 정성 스럽 진하다 커피 잔 아침잠 싹 달아나다 그동안 세 군데 코 편안 가성비 따지다 여행 계획 망설임 없이 곳곳 여행 최대한 쏙쏙 고르다 소개 밤비노 실 퇴 실 불가 요금 구분 적용\">]\n",
            "[788, <tomotopy.Document with words=\"여행지 어울리다 바다 돌담 여행 하루 한옥 헷갈리다 한옥 민박 한옥 다르다 한옥 글로벌 체인 성급 규모 서비스 시설 완전히 다르다 한옥 고즈넉 편리 잡다 잠 시대 오감 경험 시대 복잡 관광지 끼리 오붓 호캉스 라궁 강력 올해 여행 트렌드 붐비다 관광지 끼리 오붓 보내다 중요 체감 특히 독 채 인기 여행 하루밤 한옥 독채 한옥 야외 탕 이미 국내 주로 찾다 듣다 쯤 보문단지 라궁 독채 끼리 프라이 빗 보내다 탕 한옥 물놀이 강력 이미 오래 한옥 정말 좋아하다 글로벌 체인 나라 한옥 정말 한국 특유 정체 하루밤 숙박 떠나다 체험 시대 독보 컨셉 언제나 눈길 먼저 라궁호텔 국내 최초 한옥 옆 테마 파크 함 세우다 인테리어 독특 꽃 남자 선덕여왕 드라마 촬영 인기 예능 프로그램 무한도전 소개 참고 라궁 궁전 뜻 한옥 나누다 라궁 독채 거실 욕실 마당 구조 독채 스다 위트 누마루 형 스다 위트 마당 형 나누다 비슷 누마루 누마루 창문 열다 숲 잔 바람 쐬다 참고 독 채 구조 무척 넓다 가족 넉넉 금액 발생 라궁호텔 정말 유명 따로 마케팅 정말 금방 처음 반하다 야외 탕 막상 정말 한옥 느끼다 누마루 여름철 녹음 숲 앉다 잔 여유 느끼다 구석구석 한옥 인테리어 구경 재미 침대 온돌방 누마루 온돌방 실시간 라궁 보기 라궁 하이라이트 역시 야외 탕 작아보이 성인 들어가다 충분 크기 유아 물놀이 사이즈 넉넉잡다 걸리다 야외 탕 온도 원하다 조절 그거 여름 밤 바람 선선 불다 몸 따뜻 탕 담구다 절로 힐링 마감 걱정 없이 탕 즐기다 장점 날 친구 저녁 와인 맥주 잔 밤하늘 술 잔 꿀 라궁 독채 운영 무척 넓다 거실 탕 욕실 금액 가족 무방 특히 샤워실 분리 세면대 함 붙다 샤워실 따로 분리 구조 가족 끼리 나누다 편하다 어메니티 기본 샴푸 린스 비누 특별 챙기다 대부분 라궁 탕 떠올리다 누마루 마음 창문 열다 초록빛 숲 펼쳐지다 튀어나오다 마루 창문 삼면 열리다 실내 야외 시원 바람 느끼다 초록빛 숲 전망 바라보다 잔 세상 힐링 의도 낮다 테이블 방석 관광지 경주역 근처 황리단길 보문호수 보문단지 젊다 세대 자유 여행자 황리단길 가족 여행 단체 여행자 보문단지 보문단지 호수 산책 봄 벚꽃 피다 자전거 대여 여름 워터파크 경주월드 놀이공원 경주월드 드라켄 스릴 롤러코스터 유명 황리단길 보문단지 트렌디 맛 별로 느끼다 라궁 조식 제공 포함 꼭 입시 먹을거리 라궁 워낙 인기 굳이 마케팅 글로벌 사이트 킹 닷컴 익스피디아 라궁 국내 숙박예약어플로 그중 어플 이거 직접 주변 친구 어플 국내 숙박 종류 다양 요즘 국내 야외 탕 다양 검색 프리미엄 모으다 블랙 이란 탭 국내 프리미엄 마지막 쿠폰 혜자 쿠폰 사용 불가 여기어때 아묻 따다 짜리 쿠폰 혜자 뿌리다 라궁 쿠폰 확정 여기어때 쿠폰 적용 일주 프로모션 진행 선착순 쿠폰 선착순 지급 카카오페이 결제 비교 불문 저렴 직접 비교 국내 최초 한옥 궁금 끼리 독채 널찍 보문단지 중심 평점 높다 찾다 야외 탕 맥주 잔 조식 한옥 찾다 대중교통 라궁\">]\n",
            "[795, <tomotopy.Document with words=\"오늘 지나다 잇다 혜윰님 지인 다녀오다 여행기 잇다 여행 중요 요소 역시 눕다 편안 여행 다녀오다 찾아보다 여러 독채 찾다 갬 독자 아시쥬 잠 찾아보다 당연히 적당 가격대 틀다 알아보다 가볍다 공유 코드 공유 주인공 소개 끝나다 얼른 본론 넘어가다 본론 고 먼저 표시 첨부 참고 제주측별자치 흘기다 따로 명칭 따로 조회 역시 확인 독자 공유 찍다 독자 아래 편하다 표시 지점 직접 네비 편하다 표시 참고 도착 쌀쌀 날 날 아직 포근 저녁 먹다 도착 짐 옮기다 찰칵 일반 새롭다 인테리어 공사 재 탄생 그냥 일반 다니다 주차 미숙 어렵다 골목 싹 주차 깔끔 운전병 편하다 입구 찍다 입구 들어가다 눈 들어오다 거실 햇살 안쪽 돌담 프라이빗 공터 베이직 쇼파 티비 뒤쪽 붙박이 리모델링 시크릿 공간 인상 인스타갬성 스팟 조명화 숙소톤 이뻣 거실 중심 좌 우 먼저 왼쪽 작은방 침대 에어컨 테이블 커플 묶다 아담 사이즈 사이즈 깔끔 베경 푸른빛 포인트 참고 패스 거실 오른쪽 큰방 상당히 넓다 사지으 참고 열다 들어가다 넓다 공간 케리어 짐 안쪽 트윈배드 클래식 자개장 귀하다 구경 부모 님 커플 사용 헤윰님 잠자다 거실 왼쪽 옆 짝 심하다 생선 힘들다 간단 차이 역시 간단 신선 해산물 구입 먹다 맛 냉장고 테이블 식탁 칼 국자 냄비 팬 간단 도구 끼다 참고 옆 공간 샤워실 세탁 공간 전반 큼직 큼직 인테리어 깔끔 수건 식기 사용자 맞추다 비치 혜윰님 사용 뜨시다 넓다 만족 스럽 에어컨 비용 즐기다 만족 다르다 일반 내용 독자 공유 저렴 팁 에어비엔비 그냥 첨부 아래 접속 쿠폰 쿠폰 이거 사용 꿀 팁 헤윰님 챙기다 돈 아끼다 독자 꼭 참고 쿠폰 챙기다 어차피 쿠폰 쿠폰 공유 방문기 마무리 이어지다 이야기 가볍다 찾아오다 여행 언제나 옳다 여행 국내여행 홀릭이랑혜윰이랑 감성숙소 제주도숙소 독채 독채팬션 여행은언제나옳다\">]\n",
            "[808, <tomotopy.Document with words=\"브로딕 글 베짱이 커플 녕 베짱이 커플 오늘 최근 보내다 소개 여행자 앰배서 자격 여유 칭찬 네이버 영수증 리뷰 평점 이유 신혼여행 커플 부지런히 그나저나 이름 이야기 고급 걸맞다 고급 미 뿜뿜 난생처음 단어 고유 명사 넘다 궁금 검색 영국 스코틀랜드 애 런 섬 지역 영국 여행지 나라 스코틀랜드 쪽 전혀 못 넘다 생소 작명 센스 빚어내다 기대감 커지다 브로딕 브로딕제 공항 정반대 남쪽 걸리다 가깝다 느끼다 공항 근처 여행 돌아가다 계시다 거리 동네 굵직 필수 관광 명소 찾아가다 올레 시장 외돌개 황우지 원앙 폭포 가깝다 서쪽 산방산 용머리 천제 주상절리 동쪽 일출봉 섭지코지 광치기 해변 쉽다 여행 편리 보시 한라산 아래 남쪽 바다 해안가 한라산 방향 살짝 올라가다 한적 마을 조용 가운데 바다 롭 색다르다 즐기다 힐링 뒤 한라산뷰 오션뷰 조용 요구 커플 제격 스럽 끝 신혼여행 브로딕제 상세 소개 나가다 한눈 외관 스코틀랜드 브로딕 브로딕성 비슷 벽돌 주인장 최소 스코틀랜드 유학 생활 외관 마찬가지 여기저기 벽돌 사용 전체 스럽 유럽 주차 공간 충분 주차 공간 인기 날 치솟다 숙박 금요일 실 글 말미 알리다 소 규모 조용 리셉션 아담 넘다 친절 상냥 리셉션 왼쪽 붙다 공간 조식 먹다 얼다 뜻 조 식당 수영장 바비큐 오션뷰 면적 노프라블 편리 시스템 마주치다 전혀 흐름 조식 먼저 조식 활전복 전복죽 일부러 전복 맛 찾아가다 맛 베리굿 조식 먹다 아아 멋지다 풍경 시원 하루 시작 박하다 조식 먼저 소개 규모 커플룸이에 원룸 형태 커플 투룸 스위트룸 선택 가족 여럿 모이다 시국 오붓 커플룸 주인장 철학 담다 형태 화이트 원목 실제로 흔하다 모던 벽돌 거칠다 색조 원목 중시 통상 공간 배치 유러피 원목 먼저 배치 돋보이다 인테리어 짠 오션뷰 남쪽 바다 정면 바라보다 시골뷰 막히다 없이 뻥 뚫리다 정말 눈 시원 뷰예 오른쪽 섬 스쿠버 다이빙 명소 섶 섬 왼쪽 섬 섬 붙다 제지기오름 올레길 코스 파랗다 나무 귤나무 귤밭뷰 형 타입 넓다 편 자작나무 바닥 먼지 써 발 닿다 촉감 시스템 에어컨 청정기 돌아가다 실내 너무나 상쾌 무더위 습기 공격 살아남다 짜다 잔 커플룸 하이라이트 프라이 빗 야외 스파 가운데 철 문 열다 나가다 공간 잇다 역시 오션뷰 초록뷰 면 뻥 뚫리다 주변 밭 왠지 쑥스럽다 수영장 다녀오다 어둡다 배스 밤 챙기다 갔 어메니티 샤워젤 거품 프라이 빗 야외 스파 오션뷰 위주 찍다 빠르다 궁금 참고 바라다 각도 널찍 옷장 따로 없이 미니멀 꾸미다 유러피 원목 제작 실제로 묵직 커플룸 도구 식기 와인 잔 소주잔 커피 생수 신혼여행 커플 여행 가족 여행 스위트룸 필수 특히 어르신 동반 꼭 필요 욕실 어메니티 몰튼 브라운 요거 해외 특급 세트 선물 써봤는 사용 요즘 고체 샴푸 바 사용 몰튼 브라운 샴푸 살짝 구경 스위트룸 기회 가족 여행 넘다 투룸 스위트룸 자세히 소개 녘 오션뷰 루프 수영장 멋지다 베짱이 놀다 넘다 원하다 이용료 좌우 선베드 여러 어둑 화려 루프 수영장 못 들어가다 넘다 쯤 놀다 그나저나 수영복 몸매 밤 어이없다 래시 가드 물가 가오리핏 래시가드 가요 마르다 들어가다 다리 접다 떠 짧다 다리 뼘 굴욕 컷 넘다 올리다 인생 찍다 옆 건물 사이 잇다 다리 건너다 역시 시원 오션뷰 굽다 루프 바비큐 맞추다 지하 스크린 골프장 군데 원하다 리셉션 팀 겹치다 무료 빔프로젝터 세미나실 소규모 워크숍 브로딕제주 커플 부대시설 소개 신혼 여행 공항 근처 시내 관광 특급 치이다 조용 힐링 보장 하루 이틀 나누다 숙박 네이버 영수증 리뷰 참고 아래 공홈 네이버 이야기 돌아오다 뿅 앰배서더 숙박 투숙 솔직 작성 글\">]\n",
            "[816, <tomotopy.Document with words=\"요즘 코로나 호캉스 에어비엔비데이트 보내다 데이트 마찬가지 건대에어비엔비 건대역에어비엔비 건대감성숙소 찾다 발견 다녀오다 서울에어비엔비 광진구에어비엔비 서울감성숙소 깔끔 전체 청결 막 더럽다 건대숙소 건대에어비엔비추천 건대입구에어비엔비 원룸 보드 게임 컵 라면 원룸 좁다 좁다 레인지 야만 즐기다 절대 손해 중요 휴지 넉넉 수건 수건 바램 청결 전체 편하다 근접 기분 호스트 연락 이루어지다 어려움 재 의사 이후 댓글 코드 입력 코드 알리다\">]\n",
            "[822, <tomotopy.Document with words=\"입시 세 미만 유아 포함 바베큐 숯 그리다 호일 제공 필수 캠핑 숯 화롯 장작 망 캠핑 의자 제공 필수 도자기 체험 핸드 페인팅 머그프린 팅 픽업 서비스 코로나 운행 중단 터미널 실 왕복 운행 입시 꼭 지키다 운영 집합 불가 직계 가족 접종 금산펜션 금산수영장펜션 수영장펜션 금산논실펜션 금산숙소추천 대전근교스파펜션 대전근교수영장펜션 스파펜션 공주펜션 옥천펜션 청주펜션 세종근교스파펜션 논실펜션 수영장 개별바베큐장 제트스파펜션 조식서비스 커피서비스 그네 미끄럼틀 도자기체험 커플 가족 조용히쉬기좋은펜션 힐링여행 깨끗한펜션 주인이직접운영하는곳 제로웨이스트 펜션여행 가성비좋은숙소\">]\n",
            "[827, <tomotopy.Document with words=\"여행 다녀오다 조용 도시 예쁘다 여행 저장 리스트 공유 카라 반 에어스트림 독채 여러 타입 까망감스테이 정말 유명 다녀오다 아직 스타 유명 숙박 모던 화이트 원룸 형 들어가다 식탁 오른쪽 옆쪽 침대 통유리 깔끔 포토존이지 눈 설경 예쁘다 밖 나무 다음날 아침 햇빛 찍다 까망감스테이 조식 제공 인하다 냉장고 재료 아침 셀프 먹다 캠핑 기분 만끽 담양카라 반 선인장 호스텔 빈티지 카라 반 에어스트림 게스트하우스 카페 요즘 프라이빗 놀다 쉬다 개별 카라 반 에어스트림 캠핑 형 개별 바베큐 텐트 카라 반 에어 스트림 옆 바베큐 먹다 도구 식기 편의 시설 편하다 즐기다 낮 카페 밤 식탁 변하다 노르 디스크 텐트 카라 반 캠핑 제대로 실내 공용 바베큐 요즘 날씨 쩍 카라반글램핑 덥다 선인장 호스텔 담양글램 핑 즐기다 카라 반 여행 언노운 타입 차이 컬러풀 인테리어 스타 유명 성비 여행 코스 잠 찾다 괜찮다 침실 욕실 전반 심플 모던 언노운 산 쉼 담양독채펜션 쉬다 나무 이루어지다 별장 놀다 기분 멀리 쉼 침실 커튼 걷다 수영장 문 나가다 수영장 사우나 욕조 샤워실 수영장 수영장 사이즈 가족 여행 가족 밤 분위기 독채숙소라 편하다 바베큐 취사 불 바베큐 스타 정말 유명 호시담이에 여행 꼭 독채펜션 특히 마당 정원 선호 저녁 선셋 여유 롭 밤 덥다 모기주 공간 자체 군더더기 굉장히 깔끔 미니 수영장 호시 담 위주 통유리 찍다 무조건 샷 포토존 조용 한적 어울리다 조용 호시담 모던 자체 독 채 호시 담 호시담 둘러보다 밤 관방제림 산책 여행 기분 여행 여행 다녀오다 군데 특히 조용 한적 쯤 모음 마음 달래다 여행 인플루언 꽃디아 팬 힘 팬 팬 꾸다 욱 꽃디 디아 계절\">]\n",
            "[828, <tomotopy.Document with words=\"올해 꼴 찾다 새롭다 좋아하다 호연스테이 생기다 유명세 갔다오다 요즘 몰다 소녀 날 어기다 없이 짠 호연스테이 독채펜션 다르다 간단 해먹다 찾다 브런치 먹다 목표 브런취 잇다 창문 어울리다 돌담 하늘 예쁘다 원래 깨끗 아침 먹다 찍다 더럽다 이해 재료 먹다 짐작 브런치 계랸이쥬 호연스테이 머무르다 친구 책장 돋다 꾸미다 열 꺼 호연스테 사장 님 직접 제작 감상 고민 친구 썼어 일반 독채펜션 트윈 침대 퀸 사이즈 침대 예민 불편 터 따로 편하다 옛날 까맣다 머리 저이 예쁘다 찍다 가요 강추 호연 외관 넘다 이쁘다 아마 독채펜션 채 팀 머무르다 단체 충분히 먹다 브런치 어마어마 별도 아래 포스 팅 참고 이거 홈파티 스테이어 라이브 심플\">]\n",
            "[833, <tomotopy.Document with words=\"요즘 연말 마무리 찍다 오늘 올해 손꼽히다 한옥독채 소개 올해 초기 젤 처음 쫓기다 전반 분위기 소개 흐르다 결 첨성대 역사 건너편 주차장 뒤쪽 골목 초입 맨 아래 참고 재 시작 디테일 아쉽다 외관 담벼락 현관 새하얗다 문 기억 스테이폴리어 특가 진행 비용 지불 총 지불 금액 기본 반하다 결론 만족 왠 숙박 만족 스럽 한옥 단독 마당 캠핑 한옥 캠핑 왠지 이득 아이템 하나하나 예쁘다 묻다 카메라 동영상 인스타 업로드 퍼왓어 전반 마당 참조 한옥독채 흐르다 결 채 건물 메인 건물 바라보다 마당 잔 사색 상상 즐겁다 직접 메인 건물 간이 전기 포트 토스트 냉장고 기본 잔잔 음악 흘러나오다 사장 님 서비스 와인 감동 음료 맥주 기본 제공 날짜 신혼여행 끝나다 한창 붕 뜨다 흐르다 결 꿈 나날 흐르다 결 특징 곳곳 포토존 공간 살짝 심오 작품 멋있다 공간 채우다 아이템 하나하나 멋있다 사장 님 감각 정말 뛰어나다 아까 마당 창가 자리 쪽 메인 건물 쪽 바라보다 모습 오른쪽 푹신푹신 이불 쌓이다 펴다 주무시다 나가다 나가다 메인 건물 침대 쇼파 푹신푹신 이불 별채 매트리스 침구 별채 메인 건물 걱정 필요 별채 좁다 편 사용 단차 높다 편 혹시나 어르신 어린이 주의 필요 참고 바래다 따로 근처 주요 관광지 배달 다양 옥캉 스다 걸맞다 보쌈 모듬 근처 편의점 막 거리 사왔는데 성공 캠핑 한옥 체험 날 장염 걸리다 온전 히 즐기다 낮 한숨 저녁 해열제 먹다 일찍 잠들다 너무너무 아쉽다 아프다 잊다 놀다 꼭 기억 바라다 저녁 한옥 곳곳 조명 불 켜다 더욱 고양이 그냥 지나가다 구경 아무튼 밤새다 즐기다 일찍 잠들다 아쉽다 한옥독채 흐르다 결 스테이폴리 사장 님 문자 보내다 사항 친절 히 알리다 흐르다 결 대릉 입장권 몸 못 사철 매력 다르다 대릉 꼭 바래다\">]\n",
            "[855, <tomotopy.Document with words=\"타이 젊다 레드닷 글 미 네쿠 타이중숙소추천 타이중숙소 타이중레드닷호텔 레드닷호텔 오늘 타이 여행 레드닷 소개 제목 젊다 정말 찰떡 맞다 타이 타이 레드닷 춘 버블티 도보 제일 멀다 펑지 야시장 택시 그만큼 거리 최고 레드닷 입구 로비 취향저격 제대로 고급 들어가다 기분 로비 개구 빠르다 체크인 배정 미끄럼틀 카운터 슬라이드 의자 요청 철없다 미 네쿠 배정 슝슝 엘레베이 터 꺼 꺼 들어가다 찰칵 트윈 침대 킹 사이즈 침대 침대 붙다 근데 침구 류 정말 폭신 폭신 밤 그냥 기절 루나 언니 당황 볼트 돼지코 필요 크기 조식 포함 깔끔 타이 침대 뒤 꽃무늬 대만 체크인 조식 쿠폰 지급 근처 음식점 쿠폰 이곳저곳 콘센트 카메라 핸드폰 충전 충분 사용 캡슐 커피 아침 언니 잔 미 네쿠 잔 비품 슬리퍼 옷걸이 드라이 레드닷 저렴 걱정 필요 혀다 깔끔 아늑 레드닷호텔 조식 포함 즐기다 반 나누다 정말 성비 최고 타이 정글 리 캐시백 현금 정말 쏠쏠 레드 닷 타이 레드닷 장점 성비 깨끗 말씀 여러 나라 다양 경험 귀엽다 어메니티 샤워실 따로 분리 수건 총 세 군대 휴지 여분 수건 떨어지다 결정 정말 넉넉 언니 그냥 스킵 깨끗 헤헤 어메니티 이외 샤워실 샤워 용품 샤워 폴 폴 인터넷 검색 브랜드 나름 럭셔 리 코스메틱이 경험 세면대 샤워기 시설 만족 스럽 수압 빵빵 걷다 대만 여행 피로 노곤 노곤 대만 여행 조식 빠지다 없이 챙기다 먹다 레드닷 분위기 퀄리티 궁금 지하 내려가다 조식 먹다 공간 분위기 레스토랑 먹다 여럿 먹다 복합 공간 고급 스럽 득 묻어나다 조식 뷔페 스타일 메뉴 본인 원하다 선택 여러 찍다 깔깔 치킨 베지터 블다 샐러드 갈릭브 레드 선택 공교 롭 메뉴 선택 음료 선택 리필 어른 아이스 아메리카노 고르다 헤헤헤 아침 짠 모든 메뉴 먼저 말씀 레드닷 첫날 먹다 메뉴 날 먹다 샐러드 통일 하하하 승자 전체 먹다 충분 샐러드 토핑 다채 롭 들어가다 쏙쏙 고르다 먹다 재미 말차 크림 팬케이크 아침 브런치 먹다 햄버거 내용물 실 먹다 든든 근데 다음날 샐러드 전체 맛있다 즐겁다 이중 레드닷 후기 정글리 특가 알뜰 경비 지출 무료 취소 결제 시스템 손해 즐겁다 타이 여행 정글 리 캐시\">]\n",
            "[856, <tomotopy.Document with words=\"감성숙소 호시담 감성펜션 요즘 여행 트렌드 최대한 머무르다 힐링 여행 근데 빼놓다 호시 떡갈비 호시담 먼저 호시 담다 웰컴 드링크 인테리어 잡지 장면 시다 정말 국내 여행 다니다 인테리어 청결 정말 중요 깨닫다 예쁘다 접근 호시 담 테라스 취사 시다 요즘 예쁘다 에캉 스다 찾다 이유 취사 예쁘다 기분 전환 맛나다 먹다 찍다 추억 호시담 사장 님 깔끔 히 기본 인테리어 컬러 화이트 화이트 인테리어 깨끗 유지 대충 불 힐링 필수 시설 욕조 무 탕 탕 희다 타일 깔끔 쉽다 최고 시다 탕 입욕 필수 쉬 버블 바 좋아한댱 정말 콕 박히다 시다 엿보다 끝 파트너 스다 일환 일정 수수료 지급\">]\n",
            "[879, <tomotopy.Document with words=\"서면에어비앤비 서면숙소 전포에어비앤비 전포숙소 서면감성숙소 서면빔숙소 서면오피스텔숙소 전포감성숙소 부산숙소추천 부산감성숙소 부산에어비앤비 부산에어비앤비추천 부산감성에어비앤비 부전에어비앤비 부산부전숙소 코로나 데이트 마땅 시점 찾다 끼리 편하다 밥 먹다 커피 술 찾다 전포 비교 저렴 깨끗 중심 번화가 벗어나다 오피스텔 시장 가깝다 쪽 주변 복잡 시끄럽다 원룸 형태 오피스텔 원룸 형태 오피스텔 비교 창밖 특히 야경 예쁘다 벽 네온사인 장식 포토스팟 조명 간접 조명 갬 인덕션 싱크대 아일랜드 식탁 현관 들어오다 오른쪽 신발장 옷장 전자렌지 세탁기 옆 빌트 냉장고 현관 왼쪽 변기 옆 안쪽 샤워부스 샴푸 린스 바디워 요즘 빠지다 라탄감 우드 라탄 조합 갬성 바이블 제주개 담다 감귤 화분 귀엽다 택하다 이유 프로젝터 넷플릭스 시청 숙소콕 영화관 즐기다 뷰티 인사이드 드라마 쏘주 잔 요즘 배달 먹다 배달 횟집 퀄리티 장난 밖 먹다 배달 최 장점 번화가 도보 프로젝터 넷플릭스 번화가 중심 벗어나다 비교 조용 비교 저렴 인테리어 건물 이디야 커피 편의점 단점 번화가 복판 원하다 불 만족 스럽 조명빨 조명 끄다 평범 광안리 요기 궁금 댓글 됩니\">]\n",
            "[883, <tomotopy.Document with words=\"썬앤문 리조트 휴양 형 리조트 조용 한적 아기자기 분위기 가족 여행 신혼 여행 여행 첫날 아름답다 편의 서비스 다양 덕분 푹 쉬다 썬앤문 리조트 이름 일몰 일출 아름답다 자랑 펼쳐지다 푸르다 바다 넓다 잔디밭 잔디밭 모래 놀이터 장난감 비치 인생 찍다 네트 그네 돔 그네 설치 해외 바비큐 시설 공간 별도 오붓 저녁 즐기다 풍경 워낙 예쁘다 야외 결혼식 다르다 웨딩 패키지 서비스 운영 시국 시국 요즘 신혼 여행 계시다 웨딩 패키지 야외 결혼식 연회 해결 스몰 웨딩 야외 결혼식 꿈 꾸다 쯤 고려 썬앤문 리조트 프리미엄 대만 음료 전문점 블루 오션 운영 요즘 유행 피크닉 세트 대여 피크닉 세트 샌드위치 쿠키 음료 테이블 매트 바구니 아기자기 소품 한꺼번에 세팅 잔디밭 피크닉 예쁘다 현재 방역 수칙 준수 운영 아쉽다 마음 달래다 나중 꼭 건너다 탁 트이다 해변 펼치다 해변 모래 퇴적 생기다 독특 지질 구조 형제섬 용머리 산방산 감상 포인트 찾아오다 정말 기념 썬앤문 리조트 별관 총 건물 오션뷰 조망 테라스 보유 디럭스룸 루프탑에 인피니티 갖추다 성인 나누다 튜브 구명 재킷 물놀이 용품 무료 대여 아쉽다 동절기 운영 여름 놀다 꼭 체크인 주차 건물 뒤편 조식 서비스 후기 찾아보다 친절 얘기 굉장히 배정 직접 캐리어 문 듣다 오붓 더블룸 수용 쿼드러 프다 다양 타입 보유 님 디럭 스다 더블 더블 베드 슈퍼 싱글 베드 간단 조리대 평면 화장대 욕실 갖추다 무료 와이파이 동반 침대 가드 아기 욕조 아기 젖병 소독 아기 용품 무료 대여 들어오다 먼저 눈 들어오다 침대 데코레이션 데커레이션 기념일 특별 날 리조트 측 이벤트 핑크 빛 풍선 백조 꽃 분위기 연출 특별 날 연인 가족 기분 선물 치우다 아깝다 예쁘다 장식 요즘 파티 추세 날 시장 이것저것 뒤 저녁 먹다 풍선 따로 없이 로맨틱하다 분위기 연출 개인 침구 류 예민 편 베개 이불 매트리스 상당히 괜찮다 룸메이트 언니 침구 류 괜찮다 칭찬 머리맡 힘들다 캔 워머 비치 캔 워머 켜다 향기 은은 불빛 흘러나오다 안정감 느끼다 숙면 입구 신발장 외투 걸다 행거 설치 실내 슬리퍼 휴지통 비상시 사용 소화기 꼼꼼 비치다 빨래건조대 눈 들어오다 여름 바다 수영장 물놀이 옷 건조 마땅 건조대 비치 창가 쪽 화장대 설치 여행 다니다 은근 화장대 코딱지 파우더 거울 들여다보다 싫다 개인 항상 탁상 거울 챙기다 다니다 화장대 설치 생기다 커다랗다 거울 빗 머리 끈 어메니티 꼼꼼 덕분 아침 편안 침대 옆 간단 설거지 개수대 조리대 설치 인덕션 렌지 냉장고 전기 포트 그릇 컵 수저 간단 직접 해먹다 아기 이유식 데우다 시장 먹다 정말 유용 욕실 역시 면모 제대로 갖추다 화이트 블루 톤 타일 사용 이국 분위기 물씬 상태 깔끔 수압 훌륭 수건 휴지 넉넉 어메니티 양치 도구 비누 면도기 필수 용품 샴푸 컨디셔 바디워시 용량 비치 장기간 투숙 예쁘다 침대 눕다 고스란 히 바다 오션뷰 찾다 굉장히 만족 스럽 조식 서비스 운영 체크인 말씀 맞추다 직접 아무래도 여러 모이다 뷔페 불안 끼리 오붓 먹다 룸메이트 언니 야외 문 개인 테라스 먹다 바다 뒤 산방산 펼치다 조식 맛있다 조식 메뉴 직접 햄 샌드위치 크림 크루아상 토스트 과일 음료 커피 주스 선택 간단 든든 먹다 특히 햄 샌드위치 크림 크루아상 맛있다 깜짝 분위기 예쁘다 숙박 객 다양 서비스 내내 기분 휴가철 면모 제대로 느끼다 한번 오션뷰 리조트 찾다 제주특별자치도 리 네이버 검색 표시 운영 카페 블루 오션 검색 블루 오션 검색 확인 이름\">]\n",
            "[888, <tomotopy.Document with words=\"소개 글 우연히 즐기다 찾다 추가해놨다 여행 계획 짜다 먼저 꼭 일정 맞추다 일정 짜다 입시 퇴 실 조식 제공 네이버 맞다 도착 서쪽 한적 유명 관광지 애매 충분히 만끽 짙다 민박 개념 맞다 주차공간 따로 한적 마을 골목길 주차 계단 올라가다 가운데 양쪽 오른쪽 일출 왼쪽 일몰 먼저 도착 원하다 고르다 왼쪽 선택 계단 상당히 좁다 가파르다 계단 계속 신발 벗다 들어가다 옮기다 고생 나름 수건 크기 소품 아기자기 엔틱하 사장 님 취향 정성 느끼다 침대 좁다 전면 창문 돌담 앞마당 내다보다 창문 특히 테이블 수납 공간 일체 조명 심하다 은은 안채 개별 밤뷰 장점 단점 정말 극명 마음 일어나다 눈 뜨다 손바닥 만하 거미 양철 지붕 떨어지다 소리 젖다 엄 소리 흠뻑취 잠 못 정말 모든 내용 공유 전면 창문 히 날씨 느끼다 겨울 전기 매트 전기 히터 버티다 제주도숙소 제주도감성민박 제주도감성숙소 제주도게스트하우스 제주도빈티지숙소 제주도오두막 제주레트로숙소 제주도민박 제주도예쁜숙소 인실게하 제주도조용한숙소 제주감성게하\">]\n",
            "[903, <tomotopy.Document with words=\"찾다 제일 중요 여수엑스포역 가깝다 밤 새다 이야기 안주 테이블 아늑 조명 특히 술 꺼 잠 짐 엑스포역 맡기다 돌아다니다 꼭 필수 모든 충족 아임 제일 요소 여행 다니다 여행 떠 중순 다녀오다 느끼다 사이 거리 실제로 제외 도보 원래 체크인 열 쯤 도착 짐 흔쾌 히 들어오다 이불 말리다 저녁 들어오다 깔끔 깔끔 핸드폰 충전 멀티탭 중간 중간 제일 유용 생전 여행 필요 무트 접시 그릇 잔 종류 가득 특히 소주잔 유용 썼음 기본 조미료 댓글 묻다 베란다 날씨 따뜻 자쿠지 욕조 비용 발생 더블 침대 퀸 사이즈 침대 총 정말로 잠 편안 춥다 전기장 판 걱정 중간 멀티탭 박스 양쪽 충전 포근 저녁 야경 찍다 죽이다 놈 단렌즈 가깝다 잡다 야경 군데군데 참고 첫 여행 천 혜택\">]\n",
            "[910, <tomotopy.Document with words=\"오늘 애 근처 놀다 분위기 예쁘다 디자인 공간 느끼다 적당 바비큐 파티 근처 편의 시설 고려 거리 낮 관광지 다니다 밤 일행 온전 휴식 원하다 아래 형 여러 원하다 날 미리 미리 바다 장점 건물 자체 디자인 공간 매력 거리 흔하다 핸드 메이드 홈 공간 주인장 정성 고스 히 느끼다 공간 넓다 장점 성비 괜찮다 동쪽 주요 여행지 중간 동쪽 머물다 적당 거리 매력 처음 끝 가득 가깝다 지역 첫날 마지막 날 적당 개인 취향 반영 만족 뿐 본인 취향 맞다 선택 바라다 그리 주인장 성향 개성 꼼꼼 살펴보다 권하다\">]\n",
            "[929, <tomotopy.Document with words=\"여행 유일 계획 잡다 땅 여행 확정 예쁘다 머물다 자리 알아보다 자리 마침 셀러리 셀러리 체크인 반 여유 편 어차피 여행 쯤 나가다 담기다 예쁘다 둘째 날 날씨 첫째 날 그냥 둘째 날 정말 선글라스 끼다 화창 새 부슬비 놨다 날씨 후다 닥 돌아다니다 셀러리 식물 동남아 쪽 여행 침대 무척 푹신 하얗다 이불 오염 눈 들어오다 셀러리 침대 앞쪽 카페 무방 예쁘다 쇼파 테이블 앉다 무녀 무상 최고 휴식 셀러리 퀸베드룸 쇼파 맞은편 테라스 야외 욕조 욕조 귀엽다 슬리퍼 은은 조명 그치다 틈 가져오다 쉬 버블 반신 욕 욕조 탕 뚫리다 테라스 다리다 마니 벌레 발견 기겁 도망치다 아쉽다 셀러리 운영 기간 꽤 타일 부분 쪼금 깔끔 실내 예쁘다 만족 머물다 히히 셀러리 찍다 찍다 셀러리제 조용 마을 켠 자리 잡다 대중교통 마을 쪽 걷다 전복 십 세화쪽 가깝다\">]\n",
            "[930, <tomotopy.Document with words=\"오늘 소개 이미 한번 워낙 기억 해변 쪽 여행 동선 겹치다 또다시 라만차 하단 고인돌 후기 총 복층 형 치열 원룸 형 선택 저렴 현관문 열다 대표 곳곳 스타 은은 조명 아기자기 소품 눈 띄다 벙커 침대 침대 감싸다 너낌 침실 공간 아늑 자체 마음 테이블 공간 아침 커피 랬 좋아하다 원목 원형 테이블 웜톤 조명 너무나 예쁘다 찍다 굿 굿 현관문 측면 붙다 주인장 아주머니 손길 빼다 모양새 요즘 춥다 날 바베큐 맛 포장 가볍다 데우다 즐기다 깨알 사장 님 주변 맛 메뉴 별로 팻말 꽤 인상 성아시 씽씽잇 아무튼 욕실 역시 액자 원목 거울 타일 조합 넘치다 욕실 꽤 예민 편 상태 정말 깨끗 제주금능펜션 라만차 모습 원룸 형 결코 숙박 만족 외출 되도록 자제 저녁 즐기다 이득 야식 사장 님 크리스 피 치킨 포장 꼭 드셔봐 존맛탱 드디어 조식 따로 접하다 라만차 조식 전날 미리 말씀 맞추다 아침 듣다 조식 맛 요렇게 트레 코앞 해변 피크닉 비쥬 얼다 춥다 먹다 여름 바다 먹다 터지다 아무튼 간단 든든 먹다 도보 해변 가볍다 아침 산책 총총 개인 서빈백사 해변 라만차 즐겁다 해변 쪽 근처 협재와 비교 조용 편 원래 마음 지역 라만차 더욱 만족도 높다 일정 개인 컨디션 조식 마음\">]\n",
            "[942, <tomotopy.Document with words=\"키워드 검색 폴개우영 눈 띄다 인근 이름 성미 묻다 폴 폴개우영 지역 옛날 이름 우영 방언 정원 뜰 의미 소개 다그다 사유 숲 비담집 마찬가지 독채 사용 무척 힘들다 독채 건물 연결 구조 거리 밖 거리 나누다 따로 독립 공간 연결 구조 빨간색 지붕 밖 거리 하얀색 건물 거리 문고리 현무암 나름 상징 돌담 귤 나무 거리 거실 밖 귤 나무 햇살 따사 롭 들어오다 책 보다 졸리다 그대로 눕다 한숨 폴개우영 원래 건물 리노베이션 식구 직접 인테리어 직접 거실 붙다 낮다 내려가다 구조 통유리 창밖 귤 나무 기본 조미료 좋아하다 맛 욕실 폴개우영 인상 욕조 밖 돌담 물씬 반신 욕 함 세면대 세련 침실 침실 정말 잠자다 집중 침실 퀸 베드 씩 거리 밖 거리 연결 통로 왠지 갤러리 폴개우 곳곳 감각 소품 눈 띄다 소품 수식어 붙다 밖 거리 거실 커튼 열다 정원 녘 노을 물다 모습 정말 이쁘다 왠지 구분 일요일 목요일 토 공휴일 명절 연휴 독 채 적당 금액 정원 저렴 정원 투숙 폴개우 웹 사이트 별도 현재 페이스북 네이버 아무래도 알리다 시작 인기 네이버 페이스북 활용 관련 내용 자세히 원하다 참고 들어가다 확인 이미 마감 오후 병력 공지 올라오다 결론 찾다 머물다 찾다 적합 아무래도 커플 가족 또는 친구 여러 여행 관광객 폴개우영 화려 럭셔리 고급 스럽 정감 묻어나다 원하다 커플 커플 공간 머물다 화려 력셔리 고급 스럽 정감 묻어나다 선호 한방 금방 풀리다 개월 미리 여행 일정 잡다 매달다 오후 부킹 넣다 잊다 풀리북 출처 폴개우 지역 독 채\">]\n",
            "[952, <tomotopy.Document with words=\"피 피 테라스 플로 팅 후기 남쪽 덧 봄 다녀오다 따뜻 날 최고 벌써 톡톡 피다 날 따뜻 올 봄 부지런 남쪽 여행 바다 크림소다 부드럽다 바다색 섬 퐁퐁퐁 떠 이국 특히 밤바다 엑스포 이후 관광 산업 발전 해외 부럽다 신축 친구 한국 아름답다 여타키나발 루 코타키나발루 국내 여러 다니다 퀄리티 최고 그중 오늘 이끌다 원조 격 슈가브리 움 후기 소개 올 실검 뜨다 예능 프로그램 미운오리새끼 배우 임원희 다녀오다 해외 부럽다 전용 수영장 리조트 자체 해양 액티비티 무료 즐기다 해외 휴양지 플 팅 조식 국내 찾아다니다 호캉스족 핫 플레이스 원조 격 슈 브리 움 이름 슈가 설탕 브리 움 부럽다 그리움 합성어 합치다 짓다 이름 그대로 꿈꾸다 휴양지 모습 그대로 달달 요즘 여행 끼리 프라이 빗 보내다 중요 덕분 국내 핫해 국내 최고 특히 섬 신축 대거 몰리다 시내 넘어오다 떨어지다 섬 한적 바다색 예쁘다 날 맑다 날 다도해 곳곳 섬 퐁퐁퐁 이국 풍경 아름답다 슈가브리 움 이국 스폿 한쪽 이집트 파라오 조형물 인피니티 수영장 베니스 도시 산책로 내려가다 야자수 나무 그네 얼핏 덕분 구석구석 예술 작품 구경 찍다 재미 전용 수영장 형 색 갖추다 슈가브리 움 헤엄치다 끝 찌다 수영장 그중 머물다 피 피 테라스 수족관 면 투명 덕분 찍다 얼핏 인어 기본 뜨다 바닥 아래 힘 껏 내려가다 찍히다 이거 찍다 마음 인어공주 정작 몸 발버둥 치다 친구 실 컷 웃다 이거 처음 플 팅 조식 간단 먹다 뜨다 바구니 이해 원래 동남아 휴양지 한국 첫 째 금액 유료 서비스 조식 타임 째 메뉴 단출 먹다 찍다 소품 마음 편하다 메뉴 살짝 부족 후기 미리 찾아보다 미리 망고 포도 딸기 직접 혼동 인하다 아웃 바깥 발자국 나가다 답답 워낙 밖 나가다 머물다 피 피 테라스 복층 부엌 거실 냄비 식기 인덕션 냉장고 전자레인지 간단히 저녁 해먹다 하이라이트 문 개폐 닫히다 날 파노라마 뚫리다 특히 밤 반짝이다 모습 예쁘다 부엌 공용 공간 조용 침실 침대 더블 가족 여행 침대 테라스 쪽 따로 테이블 날씨 날 바다 바라보다 절로 힐링 참고 욕실 따로 구분 따로 불 투명 문 가운데 세면대 용도 나누다 인테리어 감각 배치 구경 재미 인기 종류 오늘 소개 사이트 최저 비교 친구 저녁 간단 먹다 여러 재료 필요 없이 요즘 밀키트 워낙 친구 가져오다 스테이크 가져오다 빠 크림 스파게티 레스토랑 부럽다 맛있다 먹다 플로 팅 와인 안주 찍다 치킨 프라이팬 굽다 살아나다 섬 들어오다 시내 굽다 먹다 불판 유료 리조트 카페 편의점 슈가 브리 움 유명 막상 망설이다 인기 만만 플로 팅 조식 훌쩍 넘다 포함 별도 고민 가족 장점 전용 수영장 규모 편 여럿 놀다 신축 비교 취향 맞다 최종 결정 비교 인기 오늘 원조 격 슈 브리 움 소개 장단점 소개 비교 원하다 결정 요즘 날씨 물놀이 참고 국내 찾다 플레이윙 즈 어플 테마 기획전 비슷 테마 큐레 한눈 특히 사이트 별로 저렴 비교 비행기 표 찾다 여행 좋아하다 읽다 매거진 글 참고 오늘 소개 최저 비교 아래 참고 플레이윙 즈 숙박\">]\n",
            "[954, <tomotopy.Document with words=\"옝니 저번 금요일 불 맞다 호캉스 보내다 알아보다 럭셔리 분위기 자랑 보내다 단체 숙박 넓다 프라이빗 럭셔리 휴식 보내다 명동역 출구 거리 건물 주차 불가 적십자 유료 주차장 대면 셀프체크인 들어서다 편안 재즈 음악 흐르다 고급 스럽 분위기 꾸미다 들어서다 분위기 압도 거실 하이라이트 스파 공간 간단 취사 단체 머무르다 부족 없이 메인 마음 스파 공간 한옥 은은 조명 사이 노곤 노곤 즐기다 테이블 세트 스파 노곤 노곤 몸 녹이다 잔 단체 테이블 취사 도구 냉장고 생수 센스 따로 구매해 거실 편 구름 실 뜨다 너무나 편안 소파 넷플릭스 시청 요즘 굉장히 재밌다 넷플릭스 시청 호캉스 보내다 골드 인테리어 욕실 샤워부스 따로 분리 스파 시설 타월 걱정 없이 넉넉 칫솔 드라이 샴푸 린스 보디워 편리 사용 독립 침실 거실 쪽 단체 머물다 깔끔 화이트 퀸 사이즈 침대 캐리어 옷 넣다 수납 공간 만족 스럽 침대 한복 스타일 스파 머물다 침실 깔끔 마찬가지 구조 비슷 가족 커플 단체 여행 호캉 스다 즐기다 저녁 따뜻 노곤 노곤 스파 즐기다 따로 별도 비용 없이 사용 굉장히 마음 넓다 욕조 반신 욕 족욕 스파 즐기다 호캉스 마무리 럭셔리 호캉스 보내다 호캉스 즐기다 숙박 권 제공 솔직 작성\">]\n",
            "[956, <tomotopy.Document with words=\"남춘 코로나 창궐 이후 여행 도착 이름 거주지 체온 재다 잊다 헤이 깔끔 외관 야놀자 진행 숙박 세일 한번 참고 아마 헤이 인기 서두르다 근로자 휴가 사업 떠나다 여행 오래 이야기 공유 실 야먀하 이날 엄청나다 스크린 사운드 프로 야구 축하 남편 축하 여행 맛있다 잔뜩 먹다 즐겁다 잔뜩 여행 오래 기억 실내 별로 다르다 단점 꼽다 애 엄마 깨끗 위생 거듭나다 다음날 아침 꼼꼼 히 살피다 따스 가득 헤이 여행 기억 쌓다 남춘천역 가깝다 톨게이트 가깝다 주요 여행지 멀다 헤이춘천 헤이춘천 춘천여행\">]\n",
            "[965, <tomotopy.Document with words=\"오늘 예쁘다 분위기 유니크 스위스 마을 후기 국내 정말로 끝판 왕 나라 스위스 아이슬란드 그대로 감상 먼저 스위스 마을 경기도 비교 가깝다 속하다 떼 목장 자동차 거리 아래 첨부 네이버 맵다 확인 입력 찾아가다 전혀 무리 자체 독채형 본인 투숙 주차 모양 옹기 종기 모이다 스위스 마을 자동차 들어서다 아래 이정표 확인 스위스 레 건물 들어가다 풀장 갖추다 풀장 여름 스위스 마을 이름 형태 독 채 군집 마을 형태 마을 자체 낮 야경 예쁘다 특별 관광지 기분 앞서 분위기 끝판 왕 언급 이유 이유 인테리어 아래 따로 설명 외형 디자인 나무 따뜻 질감 겨울 눈 덮이다 모습 예쁘다 분위기 찾다 참고 가족 동반 투숙 최적 시설 먹다 개별 바비큐 시설 야외 테이블 즐기다 바비큐 특별 스위스 마을 조명 들어오다 야경 예쁘다 쭉 늘어서다 똑같다 독채 형 조명 밝히다 모습 날 어둡다 밖 감상 포인트 투숙 스위스 마을 타입 참고 앞서 가족 여행 적합 언급 이유 실 먼저 눈 띄다 구조 복층 넓다 거실 계단 중심 우측 침실 욕실 좌측 거실 구조 궁금 구조 먼저 설명 침대 어른 눕다 사이즈 크기 스타일 창문 내려다보다 창문 침대 정면 가족 여행 부족 내려다보다 모습 예쁘다 공간 활용 돋보이다 스위스 마을 구조 살펴보다 아래 소파 성인 눕다 공간 의미 워낙 저녁 예쁘다 조명 빛 참고 현관문 블라인드 침실 침대 확실히 넓다 옷장 침실 구체 살피다 스위스 마을 고급 스럽 묻어나다 여러 도구 가족 여행 직접 먹다 부족 밥솥 레인지 햇반 데우다 먹다 도구 스위스 마을 탕수육 홍합 라면 먹다 자동차 거리 횡계로터리 그곳 마트 홍합 라면 자동차 스위스 마을 떼 목장 마트 번화가 로터리 스키장 알펜시 스키장 안반 관광지 접근 찾다 참고 동영상 시청 태극기 누르다 구독 센스 오늘 소개 스위스 마을 후기 평창펜션 강원도펜션 강원도감성숙소 평창스위스마을 스위스마을 평창숙소 가족펜션\">]\n",
            "[974, <tomotopy.Document with words=\"일정 계획 부분 첫 날 그냥 게스트하우스 도미토리 대충 코로나 인하다 피하다 주변 지역 한적 여유 롭 찾다 동쪽 선택 찾다 나름 충분 한적 오션뷰 갖추다 개인 만족 스럽 쉬다 동쪽 차량 랜트 공항 세 천천히 거치다 체크인 낮 바다 카페 맞추다 들어가다 투숙 이틀 연락 꽉 알아보다 마땅 다음날 취소 마침 자리 가까스 성공 비수기 숙박 숙박 극성 차이 참고 첫 날 날씨 흐리다 날 날씨 정말 청명 맑다 촬영 흐림 맑다 공존 참고 주차 공간 나란히 주차 부담 진입로 양쪽 돌담 넓다 초보 조심 지나가다 주차장 도착 사장 님 데스크 들어오다 데스크 표현 어울리다 공간 간단 규칙 설명 듣다 나중 취식 내려오다 먹다 원래 조식 제공 현재 코로나 집합 명령 인하다 조식 아쉽다 앉다 바다 배정 계단 복도식 구조 쪽 완전히 개방 형태 대략 호실 문 열다 아늑 분위기 느끼다 실제 원목 대부분 원목 기반 인테리어 벽면 시멘트 그대로 활용 인더스트리얼 공존 주로 또는 아마 숙박 바다 하루 선택 에어컨 제습기 미니 냉장고 미니 선풍기 옷걸이 드라이 기와 전신 거울 필요 물품 특히 제습기 따로 사용 좁다 개인 충분 공간 깔끔 거울 가로 형태 이색 기본 어메니티 슬라이딩 형태 미닫이 문 끌다 여닫이 공간 활용 제약 생기다 해결 공간 충분 샤워 주변 튀다 샤워 공간 커튼 완벽 센스 돋보이다 부분 침대 쪽 콘센트 형광등 버튼 침대 눕다 불 끄다 스마트폰 충전 해결 편리 결정 요소 나라 정말 중요 침대 콘센트 전신 거울 우측 드라이기 사용 콘센트 찾다 실내 인테리어 공간 중요 지역 지역 바다 오션뷰 역시 알아보다 바다 우선순위 들어오다 원하다 분위기 첫 날 날씨 흐리다 날 아침 정말 예쁘다 건물 바다 살짝 침대 눕다 바다 염려 실내 나머지 날씨 채우다 날 새벽 쯤 날 밝다 잠 깨다 일출 침대 눕다 소위 오메가 처음 침대 눕다 봤다 정말 행운 동쪽 일출 확실히 장점 아이폰 최대한 확대 일출 모습 담다 앞서 날씨 절대 잊다 홀로 숙박 투자 보람 코로나 인하다 조식 먹다 굉장히 아쉽다 날씨 보상 기분 마음 놓이다 한적 모처럼 편하다 쉬다 동쪽 투숙기 바다 오션뷰 건물 독립 동네 자체 한적 여유 롭 여러 만족 스럽 숙박 찾다 다니다 충분 날씨 컨디션 가깝다 편의점 식당 차량 불편 미리 염두 궁금 댓글 바라다 끝\">]\n",
            "[977, <tomotopy.Document with words=\"서퍼 새롭다 떠오르다 의외 괜찮다 찾다 어렵다 레트로 무드 매력 오션뷰 발견 소개 무 홈 찾다 단면 공간 선호 편 어렵다 공간 구조 파악 무이홈 첫 째 공간 침대 소파 브라운 색깔 소파 기하학 침대 커버 레트로 무드 물씬 느끼다 베란다 쪽 소파 바다 없이 느끼다 가운데 친구 떨다 이닝 공간 간단 서핑 시간대 시원 맥주 잔 찰떡 깔끔 편 오션뷰 도시 매력 느끼다 특유 레트 매력 무 홈 여행 계획 고려 아래 출처\">]\n",
            "[1005, <tomotopy.Document with words=\"지나다 여름 여행 남편 여러 다르다 여행 여행지 다르다 비용 들이다 싫다 새롭다 만나다 좋아하다 남편 신행 잠자리 여행 질 직결 따로 잡다 진심 여행지 실갱이 그냥 따로 레벨 고르다 우여곡절 비하인드 뒤 혀 재 쪽 만족 아웃 편집샵 운영 홀 라인 오후 단점 늦다 체크인 빠르다 도착 날 사장 님 넉넉 히 여유 빠르다 도로가 하얗다 벽면 빨갛다 지붕 인상 외관 지나치다 찾다 휴양지 여유 롭 분위기 홀 라인 군데 협재점 평대점 혀 재 해수욕장 협재점 편하다 네이버 네이버 참고 네이버 검색 협 재 홀 라인 검색 파랗다 하늘 빨갛다 지붕 다듬다 잔디밭 야자수 이국 외관 협 재 홀 라인 건물 크기 외관 찍다 어렵다 건물 예쁘다 입구 인증 샷 찍다 포토 존 혀 재 체크인 아웃 편집샵 들어가다 카운터 계시다 사장 님 원하다 음료 메뉴 웰컴 음료 나가다 날 먹다 묻다 덥다 날씨 자몽에이드 한라봉에이드 르 부탁 엘리베이터 따로 짐 올라가다 친절 캐리어 옮기다 남편 본인 올라가다 주차 건물 옆 공간 아무 편하다 주차 이미 실제로 특색 매력 공간 먼지 진드기 알러지 바닥 카페트 걱정 실제 별다르다 증상 나타나다 공간 깔끔 직접 도착 부분 넓다 깨끗 일반 모텔 인테리어 요소 즐겁다 너머 롭 풍경 멀리 바다 나름 오션뷰 협 재 해수욕장 금능해변 걷다 해수욕장 도착 혀 재 해수욕장 그리 멀다 해수욕 무리 굳다 웰컴 드링크 요런 별거 기분 좋아지 레트로 혀 재 홀 라인 수놓다 타월 편집샵 원목 진하다 적색 띄다 색 칠하다 젖다 수건 옷 올리다 붉다 버리다 타월 주의 부탁 부탁 주의 사항 지키다 당췌 이해 편 오래 동기 놀러가다 충격 날 아무 쓰레기 바닥 피다 이불 당황 스럽 친구 모습 못 기본 숙박비 포함 틀다 놀랍다 아직 기억 깔끔 욕실 배수 내려가다 샤워 짜증 인도네시아 정말 박쥐 우리나라 비싸다 여기저기 마구 농담 가져가다 이유 당시 고객 증정 이벤트 제품 디자인 퀄리티 꽤 선착순 걱정 다행히 여행 용품 넣다 망사 패키지 크기 소 씩 예쁘다 수첩 볼펜 꽤 멋지다 작업 카메라 득 테 총 볕 예쁘다 들어오다 복도식 복도 창가 창가 반갑다 제품 발견 순간 이거 워탱 제품 눈 워터탱크베이스먼 트다 제품 개인 제품 여행지 괜스 레 반갑다 기분 수줍다 말갛다 미소 얼굴 떠오르다 미소 짓다 순간 아웃 도어 라이프 스타일 편집샵 백패 킹 캠핑 서핑 여행 클라이밍 아웃도어 연관 브랜드 소개 홀 라인 참고 백패킹 피하다 샤워 재 충전 한국 사장 님 태어나다 홀 라인 취지 맞다 공간 라운지 백패킹 지치다 여행객 충전 휴식 공간 카페 아웃 도어 스포츠 브랜드 제품 사용 꾸미다 멋지다 공간 캠핑 당연히 따뜻 샤워 시설 절실 히 필요 터 홀 라인 라운지 이용권 결제 라운지 공간 샤워 시설 사용 투숙객 라운지 무료 홀 라인 라운지 이용권 당일 네이버 예약시 캠핑 장비 비롯 백패킹 필요 아웃 도어 용품 해결 실제로 라운지 샤워 시설 사용 캠퍼 친절 캠퍼 이것저것 묻다 홀라 건물 배경 기념 촬영 적극 모습 이미 캠퍼 유명 아쉽다 공간 시커멓다 그을리다 피부 모습 지켜보다 에너지 이벤트 제품 켠 진열 강렬 레드 카메라 그리 예쁘다 구매해올 걸다 쉽다 말갛다 햇살 비추다 들어오다 라운지 햇살 침낭 실제로 눕다 쉬다 무게 누우 적히다 잔디밭 렌트카 여행 내내 날씨 날씨 요정 혀 재 홀 라인 선물 캠프파이어 솔직히 캠핑 힘들다 편하다 캠프파이어 편하다 장작 토치 미리 하루 이틀 내내 사장 불 불안 손 님 끼리 불 피우다 그냥 끼리 편하다 오붓 보내다 실컷 끌다 충분히 붓다 잘꺼 주의 사항 정말 근데 남편 대체 나이 차이 별로 토 치다 누르다 불 라이터 필요 라이터 찾다 토치 사용 그냥 이거 누르다 얘기 편의점 라이터 남편 토 그냥 누르다 불 라이터 큰일 뻔하다 본격 불 멍 타임 타닥타 닥 장작불 소리 여름 덥다 나름 낭만 앞마당 담 길가 지나가다 쳐다보다 제주귤 굽다 먹다 민수 윤지영 부르다 맥주 캬 그리웁 색다르다 경험 기억 친절 계시다 머무르다 이틀 내내 불편 전혀 마음 해수욕장 협재해수욕장 가깝다 동네 조용 물씬 여름 맞다 홀 라인 비양도 협 재 해수욕장 떠오르다 홀 라인 떠오르다 빨갛다 홀 라인 폰트 아래 카페\">]\n",
            "[1014, <tomotopy.Document with words=\"가득 글 퐈니 여행 계획 알아보다 중점 부분 관광지 접근 비교 면적 관광지 맛 몰리다 걷다 구경 중앙시장 중심 피 벽화 마을 남망산 공원 이순신 공원 충무김밥 거리 거북선 모형 뚜벅이 다니다 맥주 호스텔 동피 벽화 마을 시장 도보 걸리다 거리 접근 훌륭 이름 펍 호스텔 운영 웰컴 드링크 맥주 제공 일정 돌아오다 가볍다 잔 후기 경남 해송정 전화번호 주차장 체크인 무인 시스템 진행 건물 뒷편 전용 주차장 근처 공간 건물 주변 미 단속 지역 편하다 주차 수건 바구니 리플렛 이후 펍 웰컴 드링크 맥주 잔 제공 충분 이루어지다 보다 쾌적 실내 공간 신발 슬리퍼 갈다 처음 살짝 불편 적응 편하다 느끼다 가족 실 개인 실 친구 실 운영 실 실 미토 다양 비슷 형태 공용 공간 냉장고 테이블 커피포트 전자레인지 비치 명상 관련 서적 모든 소품 가득 취 식 먹거리 간단히 먹다 모든 공용 공간 소등되 참고 사물함 씩 제공 짐 캐리어 보관 명상 실 갖추다 주제 명상 가이드 온 갖다 스트레스 걱정 날리다 버리다 비우다 가족 실 퀸베드 침상 최 고급 침구 친 환경 원목 사용 조용 쉬다 분위기 연출 싱글 매트리스 비치 생전 처음 고즈넉 다다미 스타일 편안 가득 컨디션 깔끔 자체 한국 전통 미 느끼다 창문 너머 풍경 연출 잔잔 바람 불다 마음 해지다 호스텔 올드 분위기 과하다 세련됨 메리트 결함 분위기 아늑 내내 마음 편안 도미토 리 후기 찾아보다 개성 넘치다 감각 혼 도미토리 종교 무관 휴식 명상 컨셉 온전 휴식 담다 단단히 버리다 미련 없이 슬로건 여유 롭 즐기다 공간 연출 순위 침상 테이블 싱잉 볼 놓이다 막대 꺼내다 치다 종소리 치다 기분 종소리 마음 침대 옆 테이블 안내문 생수 손소독 거울 비치 전용 공용 수건 바구니 샤워 올 전용 공용 여성 씩 자녀 넓다 공간 욕실 어메니티 샴푸 바디워 헤어드라이 핸드워시 비치 푸다 운영 쉬다 날 없이 운영 반입 자랑 꿀 이후 푸다 영업 종료 숙박 객 공간 계속 성인 투숙객 테라 맥주 웰컴드링드 제공 얘기 국내 핫 브루어리 제공 생맥주 하이볼 유명 피자 파스타 메뉴 저녁 간단 잔 푸다 켠 비움 모든 제공 모든 체험 공간 머릿 불 필요 편지지 가운데 틈 넣다 종이 사라지다 휴식 명상 컨셉 확실 도착 모든 걱정 사라지다 마음 공간 아침 커피 제공 셀프 먹다 아이스 아메리카노 고급 깔끔 다음날 욕지도 여객선 터미널 거리 소요 도보 걸어가다 거리 접근성 훌륭 시설 깔끔 표 섬 순위 욕지도 후기 통영숙소추천 통영숙소 통영미륵미륵 미륵미륵 통영게스트하우스 통영감성숙소\">]\n",
            "[1028, <tomotopy.Document with words=\"가족 여행 리스트 올해 아버님 환갑 가족 여행 계획 코로나 인하다 모이다 어렵다 밖 애매 그냥 조용히 끼리 모이다 기분 취지 먹다 여행 국내 여행 부모 님 모시다 비행기 한방 적합 알아보다 충족 적당 충족 코로나 인하다 관광 뿜뿜 눈 즐겁다 역시 부모 님 뷔페 산책로 시설 리조트 기왕 가까이 예쁘다 정말 커플 정말 근데 정말 일찍 마감 결혼식 말이 알아보다 찾다 마감 빠르다 독채 폭 마음 미리 뒤 일정 꼭 기록 결론 예쁘다 포기 리조트 못 내년 아빠 환갑 내후년 어머님 환갑 내년 써먹다 작성 가족 여행 적합 기약 알아보다 리조트 패밀리 스위트룸 성인 투숙 넓다 면적 침실 욕실 옵션 킹 사이즈 베드 퀸 사이즈 베드 싱글 베드 비치 토 네이버 검색 부대시설 깔끔 넓다 산책 공항 가깝다 편 로얄스위트 수용 넓다 면적 마스터 마스터 거실 침대 슈퍼킹베 드 싱글 베드 토 네이버 검색 분리 시댁 편하다 리조트 공간 예쁘다 산책 맛 구조 분리 생활 파티 디자인 식탁 다소 아쉽다 서머셋 가깝다 조식 포함 저렴 편 케익 케이터 링 가게 가깝다 여러 조건 따지다 캠퍼트리 마음 취소 사이트 락 거리다 코로나 거리 격상 가족 계획\">]\n",
            "[1030, <tomotopy.Document with words=\"찌니 올리다 굉장히 핫 웨스트포트 째 이야기 깜빡 잊다 생각나다 오늘 포스 팅 두개 가즈 저번 후기 가져오다 날 날 출바 웨스트포트 주변 적극 만족 갔다오다 지인 찌다 믿다 갔다 만족 괜히 뿌듯 급하다 잡다 저번 이미 뺏기다 설명 코너 당연 핫 한방 아쉬움 뒤로하다 채 필요 궁금 뻥뚫린뷰 파랗다 지붕 산뜻 오션뷰 잠들다 와짜 꿀팁 십 그래두 높다 만족 스럽 깃 봤구든 고민 돈 구조 다르다 침대 쪽 주방싱크 자리 주방싱크자리 티비 티비 다르쥬 티비 오션뷰 동시 차이 처음 엄청 고민 근데 저렴 후회 요기 째 올리다 어쩐지 촐랑 찌니쓰 오션뷰 엄 텅 찍다 넘다 그래두 질리다 마이 오쎤뷰 중요 꿀 팁 알리다 웨스트포트 첫 째 째 데일리호 텔 어프 쿠폰 카카오페 결제 꼭 이거 활용 지챠 알리다 잇 님 죄송해요우 우우 흙 흙 자갈 자갈 흙 흙 자갈 자갈 울다 오해 광고 찐이에욬 찌니 돈 직접 경험 알아내다 꿀팁 쟤 광고 이러다 섭해 캡쳐 뜨겁다 뚜 아침 인나 모닝 모닝 웨스트포트 선희 니 등장 써니짱 꿀팁 즐겁다 인생 샷 앙녕 웨스트포트 후기 궁금 경남여행 국내여행지 거제여행 거제도여행 거제숙소 거제도숙소 웨스트포트 거제웨스트포트 거제도웨스트포트 거제숙소 거제도숙소 통영숙소 통영여행 거제도감성숙소\">]\n",
            "[1041, <tomotopy.Document with words=\"여행 다녀오다 마음 째 리조트 켄싱턴 리조트 올 여행 켄싱턴 머무르다 늦다 여름휴가 어김없다 자세 다양 시설 장점 솔직 마음 역시 바다 오션뷰 그냥 끝장나다 야자수 푸르다 나무 꼭 외국 기분 오션뷰 마음 그냥 찢다 버리다 여행 켄싱턴리조트 이유 오션뷰 오션뷰 가깝다 여행 코스 짜다 적당 접근 뛰어나다 보내다 너무나 늦다 여름휴가 가족 반기다 리조트 켄싱 턴 첫날 늦다 오후 비행기 떨어지다 쯤 도착 주차공간 리조트 왼쪽 오른쪽 여유 롭 주차 로비 세우다 짐 뒤 아내 짐 체크인 렌트카 멋지다 파다 킹 완료 늦다 이쁘다 노을 모습 터 금강산 식후경 애슐리퀸즈 디너 뷔페 먼저 입구 러브 영어 푸르다 잎사귀 포토존 예쁘다 찍다 다음날 포즈 잡다 찍다 깜빡 버리다 요즘 까마귀 먹다 가보 문 열다 들어가다 코로나 예방 손소독 발열 입구 철저 리조트 언제나 로비 너무나 깔끔 편하다 앉다 의자 다녀오다 옛 추억 새록새 록 기억 추억 빠지다 프런트 확인 배정 간단 주의 사항 뒤쪽 애슐리퀸즈 담당 너무나 친절 아직 기억 서비스 친절 최고 프런트 오른쪽 편의점 굳이 밖 나가다 로비 쉽다 간식 거리 주전부리 구입 맥주 애슐리 패스 빨갛다 동그라미 그리다 깜짝 놀래다 켄싱턴리조트 리뉴얼 여러 리뉴얼 고객 조사 잇다 조만간 리뉴얼 새롭다 모습 부대시설 편의점 모닝 카페 아아 한잔 여행 떠나다 센스 요즘 아침 아아 한잔 머리 띵 카페인 중독 더모닝 음료 음료수 켄싱 털다 특산품 매대 특산물 구입 아내 아침 일찍 오션뷰 마음 코코 몽 키즈라운지 좋아하다 마디 그냥 간단 놀다 공간 훌쩍 지나가다 모습 기억 척척 조립 부모 님 꼭 마스크 착용 전자렌지 정수기 코코 몽 키즈라운지 혹시나 이유식 데우다 뜨겁다 필요 해결 다양 시설 마음 올해 여행 꼭 하룻밤 숙박 애슐리 퀸 즈 플러스 모닝조식 어제 스테이크 시작 라이브 스다 모닝뷔페 통유리 너머 따뜻 비치다 햇살 애슐리 퀸 즈 자세 리뷰 그토록 원하다 원하다 밤 머릿속 상상 아침 확인 푸르다 이거 바다 오션뷰 야자수 이국 정원 시작 웅장 범섬 눈 그냥 멍하다 밖 바라다 힐링 괌 동남아 리조트 뒤쪽 수영장 흑 돼지 먹다 식당 인근 산책로 혹시나 둘째 날 아침 먹다 뒤 산책 여행 즐기다 꿀팁 다녀오다 여행 아래 다녀오다 점점 변하다 켄싱턴 리조트 한결 아름다움 유지 호수 잉어 먹이다 주기 체험 요즘 마지막 켄싱턴 리조트 컨디션 확인 온돌방 침실 거실 키친 욕실 세면대 자체 가족 넉넉 사용 장점 문 열다 침구 류 온돌방 불편 온돌방 늦다 밤 아침 아까 이국 오션뷰 감상 커텐 치다 아침 천천히 열다 아내 짐 빠지다 버리다 에어컨 소파 냉장고 날 날씨 덥다 들어오다 에어컨 결론 시원 침대 온돌 거실 이불 깔다 쪼르 르 눕다 잠 눈여겨보다 욕실 세면대 분리 손 밖 편하다 씻다 욕실 욕조 물놀이 샤워 애 재우다 여행 피 몸 욕조 담구다 고 스르 르 눈 이유 취사 식기 도구 정돈 왠 직접 리조트 장점 켄싱턴 리조트 리뷰 마무리 다음번 알차다 핫 프다 여행지 돌아오다 다녀오다 켄싱턴 리조트 자세 리뷰\">]\n",
            "[1047, <tomotopy.Document with words=\"공유 탄 공유 탄 못 아쉽다 시리즈 탄 역시 투어 쉬다 어쩜 예쁘다 생기다 밤바다 즐기다 여행 떠나다 코로나 여행 알아보다 어렵다 공유 시리즈 댓글 첨부 따로 질문 댓글 사용 호스트 소개 올리다 사용 윤슬 청학소 담다 호스트 님 공간 윤슬 청학소담 바라보다 윤슬 정말 아기자기 호스트 님 가득 묻다 이미 청학소담 가보 윤슬 윤슬 성공 꼭 놀다 전포 검색 관광 명소 카페 맛 투어 목적 전포 괜찮다 한국식 일본식 살짝 섞이다 공간 예쁘다 언제나 정답 레 예쁘다 후기 넘다 극 극 소개 레 스타 좋아하다 좋아하다 공간 아레이 공간 고가 정말 극 극 평가 예쁘다 맞다 무조건 올리다 버리다 타이드어웨 광안리 해운대 바다 즐기다 공간 해외 못 요즘 해외 착각 기장 풀빌라펜션 타이드어웨 인기 이미 꼭 올리다 숲 단독 단체 여행 일행 보내다 공간 아직 트다 광안숲 테라스 바베큐 즐기다 확실히 타지 여행 찾다 알리다 공간 지나다 여행 찾다 떠나야겠어 기다리다\">]\n",
            "[1050, <tomotopy.Document with words=\"임시 공휴일 앞두다 뒤숭숭 코로나 셤 공부 놀다 풍경 바라보다 쉬다 공부 교토 문화재 바라보다 공부 카페 그립다 찾아보다 풍경 찾다 셀 립 순라 에어비엔 셀 립 순라 설명 올리다 저분 정겨운 실속 미만 결제 완료 옹 전통 물씬 카페 옛날 양식 돈까스 세련 카페 디저트 메뉴 별로 디저트 원하다 주변 이쁘다 카페 워낙 카페 맞은편 나라 역사 관련 서적 가득 분위기 카페 근처 유명 어니언 프릳츠 전통 디저트류 풍부 카페 그곳 다니다 테이크 아웃 루프탑 먹다 원하다 다양 환경 휴가철 코로나 컸으 노랗다 조명 익숙 일반 백색 형광등 개인 공부 불편 콘크리트 구조 탁 트이다 조명 인도 인도 식 노랗다 벽 전등 콘크리트 구조 탁 트이다 인도 인테리어 어쩌다 없이 냅두다 꽤 그립다 정말 책상 그대로 공부 신라스테이 책상 책상 밑 공간 협소 의자 움직이다 불편 아래 공간 뻥뚤 리 일반 책상 익숙 사용 의자 의자 어쩌다 근데 책상 티비 끔 티비 반사 모습 거슬리다 중간 옮기다 공부 퇴실 원위치 수건 드라이 샴푸 치약 칫솔 제공 정겨운 실속 공사 빠지다 아쉽다 대체 만족 쓰이다 잡히다 밑 동영상 첨부 저녁 자유 롭 해먹다 이날 삼겹살 굽다 비빔 맛있다 먹다 밤 산책 창덕궁 달빛 기행 모습 달빛 기행\">]\n",
            "[1052, <tomotopy.Document with words=\"거두절미 오션뷰 반신 욕 이미 게임 끝나다 당초 일정 여행 월드 여행 월드 애매 주변 의견 찾다 발견 스다 부티크 전기 포함 주차 마일스 수제 버거 파스타 맛 서비스 매력 들어오다 왼편 레스토랑 스다 오른편 슬다 대기실 휴게공간 체크인 책 필요 읽다 주의 사항 룸클리닝 익다 이야기 따로 스다 부티크 조식 비용 서비스 제공 런치 서비스 수요일 스다 휴무 런치 불 머물다 입욕 투머치 마일스 제공 서비스 디너 못 기회 체크인 엘리베이터 올라가다 벽 틈새 근사 스다 부티크 네이버 놀다 다양 플랫폼 당시 야놀자 타입 세 요일 금액 다소 어바웃 수퍼 오션뷰 반신 욕 넓다 책상 부분 책 읽다 노트북 작업 실제로 에어컨 성능 제품 설치 미세먼지 넘치다 침대 조명 맘 리뷰 끝나다 컷 매료 잡다 아무래도 아쉽다 기념 찰칵 찰칵 창가 바라보다 오션뷰 근사 색감 변화 예쁘다 이틀 내내 오션뷰 반신 욕 즐기다 당연 음악 틀다 와인 잔 책 읽다 정말 힐링 자체 이쯤 입욕 꺼 힐링 이틀간 병 제공 와인 잔 머그잔 기본 식기 냉장고 전자레인지 커피포트 와인오프 제공 그릇 도구 참고 컨디션 깔끔 넓다 이틀 투숙 수건 충분 칫솔 치약 제공 드라이 제공 기본 어메니티 제공 스다 부티크 소개 스다 부티크 조식 샌드위치 포테이토 샐러드 커피 또는 오렌지 주스 카페 터 프레시 쥬스 든든 치아바타 맛있다 들어가다 햄 머스타드 칠리소스 케미 훌륭 정말 맛있다 먹다 조식 고민 편의점 꿀 팁 걷다 거리 밤 계시다 밤 새벽 무인 운영 셈 이거 은근 중요 요소 참고하세 스다 부티크 소개 주변 올리다 꼭 늘어나다 그만큼 아지트 스다 부티크 스다 부티크\">]\n",
            "[1054, <tomotopy.Document with words=\"여행 맞다 성비 괜찮다 짓다 따끈따끈 신축 깔끔 시설 중시 오늘 소개 원룸 형 구조 넓다 개인 정원 깔끔 인테리어 눈 띄다 개인 뒷마당 족용탕 성인 충분히 앉다 족욕 사이즈 입욕 솔트 정원 간단 다과 즐기다 공간 원룸 형 침대 분리 간단 필요 물품 깔끔 욕실 친구 커플 편하다 쉬다 애 카페 갔다 족욕탕 몸 녹이다 아래\">]\n",
            "[1068, <tomotopy.Document with words=\"코로나 예식 미루다 미리 취소 급하다 예식 연기 원하다 날짜 고르다 정말 촉박 제주도신혼여행 유명 이미 뒤 마감 다행 날짜 위주 폭풍 검색 괜찮다 마감 절망 미터퍼세크 성공 미터퍼세 머무르다 오후 뱅기 늦다 도착 둘째 날 스냅 잡히다 머물다 미터퍼세크 여러 서비스 자세 후기 남겨볼께욧 제주감성숙소 자쿠지숙소 유명 자쿠지 따로 마감이 인기 미리 빠르다 도토리 유명 싸이월드 도토리 사용법 아래 자세히 모든 오션뷰 제주오션뷰숙소 미터퍼세 오션뷰에 자쿠지 인테리어 이쁘다 장점 가득 머무르다 스탠다드 소개 스탠다드 깔끔 테라스 먹다 꺼 밖 먹다 커피 뽑다 먹다 단점 티비 빔프로젝 터 대여 신혼여행 아쉽다 자쿠지 여분 터 미터퍼세크 특별 도토리 혜택 체크인 도토리 지급 토도리 여러 서비스 인기 필름 카메라 프로젝터 머물다 별로 필름 카메라 도토리 필름 카메라 머물다 열심히 찍다 반납 이메일 보내다 직접 도토리 여러 스낵 라면 커피 커피 미리 편의점 아이스 컵 미터퍼세 조식 조식 귀엽다 미터퍼세크에 옆 조식 먹다 건물 미리 데스크 조식 아침 피크닉 박스 조식 조 식 다르다 자세히 편하다 피크닉 박스 들어오다 오순도 먹다 특별 귀염뽀짝 소풍 기분 조식 먹다 머물다 도토리 못써 도토리 아끼다 열심히 사용하세욧 마지막 아웃 도토리 컵 라면 털다 도토리 제주한림숙소 미터퍼세 옆 유명 오지힐카페 왔다갔다 커피 먹다 도토리 물놀이 판포포구 엄 가깝다 미터퍼세 머물다 마지막 밤 근처 편의점 이것저것 맥주 잔 제주스냅 찍다 기운 힘들다 항상 뻗다 버리다 여행 자쿠지룸 성공 그만큼 넘다 제주숙소\">]\n",
            "[1077, <tomotopy.Document with words=\"모집 회사 월드 소개 첫 날 늦다 도착 잠 적당 찾다 찾다 알리다 처음 저렴 건물 이름 한동민 아무래도 이름 아담 운영 문 열다 들어가다 원룸 형태 공간 싱크대 냉장고 간단 침구 깔끔 괜찮다 스타 똑같다 에어컨 오래되다 소리 시끄럽다 저렴 침대 맞은편 셋톱박스 전신 거울 나가다 확인 특이 세면대 건 식 어차피 칸막이 샤워 커튼 다튀 솔직 후기 엄 외지다 친구 저녁 늦다 들어가다 맞다 무섭다 주변 마트 편의점 들어가다 들어가다 친구 괜찮다 꿉꿉 정말 저렴 잠 괜찮다 자체 엄 깨끗 정말\">]\n",
            "[1089, <tomotopy.Document with words=\"아리아 코로나 여행 봄 남편 남쪽 여행 고민 쪽 찾다 공유 끄적끄 기록 군데 넘다 추리다 군데 직접 숙박 찾다 괜찮다 기록 참고 비수기 난리 난리 럭셔 리 끝판 왕 호실 오션 호실 나누다 오션빌라 오션빌라 탕 미니 수영장 오션빌라 다르다 저렴 동절기 숙박 성비 리얼 갑 오션빌라 원래 괜찮다 개인 탕 젤 예쁘다 오션 탕 수영장 부담 오션 차이 미 제공 불가 여름 이외 사용 어렵다 단점 마음속 순위 끼 오빠 협의 드 비수기 아직 공식 도대체 찾으시능거 원래 글램핑앤카라 반 운영 스타 난리 사장 님 푸다 스타 검색 갬성 노을 멋있다 그냥 펼쳐지다 바다 섬 산 가까이 멋지다 아직 공식 써 아직 자체 히노끼 탕 단층 히노끼 탕 단층 후반 단층 히노끼 탕 레알 가성비 갑 비수기 금요일 스테이남해 화려 따뜻 안정감 아늑 자꾸 들어가다 중요 착하다 일체 형 금요일 분리 형 금요일 미 제공 불가 저렴 검색 엄 열심히 편 리뷰 기억 찜해놨던 남해만 특별 서비스 조식 퀄리티 뿜뿜 와인 바 술 안주 리스트 일체 형 비수기 괜찮다 흐 많쟈 적정 온도 비수기 금요일 정말 근데 풀북이에 소박 너낌 오션뷰 워낙 저렴 요즘 뿜뿜 핫 리뷰 씩 다르다 비수기 저렴 금요일 비싸다 토요일 비싸다 착하다 못 봄 하앜 미쵸 따다 총 개인 넓다 트다 디스커버리 비수기 금요일 뿜다 뿜다 밝다 인테리어 레알 오션뷰 통창 욕조 예쁘다 군데군데 예쁘다 멀리 다리 예쁘다 다리 비수기 금요일 토요일 비싸다 단독 비싸다 모든 통유리 모든 욕조 샷 싸다 바다 넓다 펼쳐지다 나쁘다 편 비싸다 넘다 핫플 카페 숙박 객 합니 비수기 금요일 마지막 소개 핫 어렵다 스타 찾다 예쁘다 표현 멋있다 표현 어울리다 화려 색깔 분명 하버드 대학교 대학원 건축학 핫해 총 핫 히노끼탕 금요일 비수기 탕 토요일 계속 들락날락 원하다 취소 그냥 풀리다 풀북 포기 상태 중순 풀북 특히 히노끼탕 공간 투숙객 카페인 조식 제공 웰컴 티 제공 공간 꼭 한번 성공 부럽다 소개 여행 뽐뿌오시나 이거 레알 누 하나하나 찾다 틀리다 부분 양해 부탁 참고 봐주다 하트 누르다 힘 뿜다 뿜다 헤헿 결정 후기 올리다 스타 스타 만나요\">]\n",
            "[1102, <tomotopy.Document with words=\"겨울 여행 나름 중요 아무래도 밤 문 열다 타 여행지 여행 무조건 독채펜션 검색 임신 셀프 만삭 촬영 예쁘다 포인트 고르다 서귀포독채 제주독채 창고 너무너무 만족 스럽 묶다 독채펜션 일주일 뒤지다 발견 전체 빈티지 화이트 톤 창고 메르 마샬 정말 사용 스파욕조 너무너무 욕실 널찍 테라스 스파 욕실 들어오다 동선 맞다 겨울 임산부 스파 무리 남편 스카이케슬 물놀이 안방 침구 편하다 잠 찍다 만삭 나왔더 랬 불구 깨끗 컨디션 덕분 쾌적 묶다 재 의사 프로 가족 끼리 만족 스럽 제주독채 제주셀프웨딩 서귀포독채\">]\n",
            "[1108, <tomotopy.Document with words=\"최소 국내 다양 여행지 고향 여행 머무르다 다양 돌아다니다 여행 일출봉 쪽 비롯 다녀오다 동쪽 여행 컨셉 동쪽 여행 길바닥 버리다 줄이다 근처 잡다 너무나 괜찮다 소개 스토리 표선백사 번호 조식포 함 오늘 소개 지역 동쪽 남쪽 사이 비롯 일출봉 쪽 여행 계획 나뉘다 씩 인테리어 비롯 디테일 다르다 참고 스토리 주차 공간 충분히 자동차 수용 넓다 주차 공간 요즘 환경 친환경 여행 전기 자동차 렌트 자체 전기 자동차 충전 전기 충전소 갖추다 스토리 찾다 계기 비행기 렌트카 중요 여러 검색 엔진 검색 찾다 숙박 운영 부부 직접 운영 계시다 실제로 관광객 옆 건물 거주 계시다 이러 사장 님 상상 새롭다 스토리 주차장 뒤 넓다 잔디 정원 새롭다 개별 정원 제대로 느끼다 숙소임 건물 짓다 인테리어 리모델링 직접 사장 님 짓다 더욱 공간 사장 님 완성 공간 공간 어떠 살펴보다 개인 중요 인테리어 여행 기본 힐링 마인드 힐링 편안 휴식 취하다 깔끔 위생 청결 깨끗 배정 들어서다 첫 이미지 너무나 깔끔 아늑 매력 라탄 소품 곳곳 꾸미다 전체 화이트 톤 베이스 깔끔 이미지 구석구석 구경 나무 활용 꾸미다 아늑 은은 조명 더욱 따뜻 차분 이러 인테리어 사장 님 리모델링 간접 느끼다 이러 분위기 맞다 플랫폼 호텔스닷컴 부킹스닷컴 찾다 특유 찾다 요즘 독채펜션 비롯 불리우다 자주 즐기다 참고 기본 수칙 정독 준수 머무리 기간 비치 춥다 겨울 보다 따뜻 전기요 포장 필요 비품 여성 외출 메이크업 미니 화장대 제품 인터넷 레트로 느끼다 인테리어 미니 냉장고 전기 포트 전자레인지 비상 공동 사용 공간 어떠 참고 선택 중요 인테리어 샤워실 공간 개인 청결 정말 중요 샤워실 스토리 공간 가정집 친근 꾸미다 차갑다 뜨겁다 수압 전체 깔끔 어메니티 기본 샴푸 바디워 린스 스토리 하이라이트 야외욕 조 야외 욕조 커플 들어가다 공간 참고 괜히 들어가다 넘치다 참사 충분 휴식 즐기다 하이라이트 이유 이러 야외 욕조 바깥 풍경 떨어지다 상당히 조용 제대로 즐기다 야외 욕조 이러 풍경 바라보다 뜨겁다 반신 욕 즐기다 힐링 정말 지상 따로 타이틀 어울리다 성비 조식 요금 지불 조식 먹다 지불 비용 조식 포함 굳이 검색 아침 찾다 먹다 편하다 천천히 아침 먹다 일정 시작 조식 헤비 가볍다 먹다 신선 제철 과일 간단 즐기다 브런치 샐러드 다양 오렌지 주스 캡슐 커피 든든 아침 먹다 아침 문 배달 사장 님 직접 정성 특징 코드 적용 더욱 저렴 참고 스토리 수소 더욱 스럽 매력 느끼다 스토리 연인 끼리 부부 끼리 친구 끼리 더욱 보내다\">]\n",
            "[1110, <tomotopy.Document with words=\"늦다 여름휴가 맞이 출발 목적지 백담계곡 근처 이름 돋다 휴일 좌 실 비수기 걸리다 저렴 후후 들어가다 찍다 널찍 원룸 형태 컨디션 굿 굿 벽면 감각 디자인 심플 다르다 침상 신발 벗다 구조 섞다 사용 무척 편하다 간단 간식 커피 냉장고 음료수 서비스 굿 욕실 못 찍다 기본 어메니티 퀄 상당히 편 웬만 욕실 그리 넓다 편 성비 훌륭 훌륭 침상 추억 돋다 스틱 게임기 넷플릭스 연결 곳곳 배려 돋보이다 멋지다 플레이스 창밖 풍경 계속 기분 쉬다 원래 목적지 백담 다녀오다 백담 후기 참조 최고 근처 머물다 꽃밭 컷 근처 한적 시골 마을 고즉넉 저녁 하루 종일 바베큐 따로 도토리묵 감자전 문자 대면 편리 감자전 도토리묵 동동주 세트 바베큐 평상 밖 먹다 분위기 본인 맛 편 감자전 정말 맛있다 부르다 바베큐 감자전 폭풍 흡입 도토리묵 흡입 사찰 궁합 간단 막상 밤 늦다 살짝 심심 근처 자담치킨 먹다 게임 실 컷 즐겁다 오늘 마무리 기회 꼭 만족\">]\n",
            "[1116, <tomotopy.Document with words=\"여행 다녀오다 코로나 점점 심하다 걱정 가득 다녀오다 방역 수칙 지키다 여행 다녀오다 코로나 검사 실시 여행 여러 맛 카페 소개 코로나 시국 끝나다 꼭 들르다 바라다 마음 포스 팅 시작 먼저 소개 고르다 여행지 거리 적당 심혈 기울이다 고르다 고르다 예쁘다 입구 풍경 입구 귀엽다 돌하르방 반기다 넓다 적당 크기 마당 의자 힐링 잡다 인기 꽤 마감 아쉽다 마음 잡다 마당 들어서다 키우다 여운 리트리버 성격 만나다 반기다 모습 밖 야자수 우드톤 화분 숲 별장 놀다 기분 깔끔 정돈 창가 쪽 포토존 손 씻다 세면대 밖 코로나 편하다 손 씻다 곳곳 가득 액자 비치 세련 풍경 그만 삼일삼오 저곳 여러 포인트 넣다 눈 즐겁다 마음 부분 마당 야자수 멀리 바다 밖 짐 감상 카페 운영 투숙객 특별 카페 아침 사이 카페 간단 조식 무료 제공 조식 카페 가져가다 가져오다 예쁘다 찍다 예쁘다 정말 맛있다 여행 편안 잠자리 제공 바다 정말 예쁘다 알차다 여행 계획 찾다 계시다 리 삼일삼오 정말\">]\n",
            "[1121, <tomotopy.Document with words=\"문자 댓글 답변 요금 발생 실시간 오후 이후 퇴 실시간 유의 사항 내외 취사 불가 바베큐 커피포트 렌지 미니 냉장고 애완 동물 흡연 내외 야외테크 주변 금연 주차장 흡연 화재 위험 불꽃놀이 캔들 사용 오염 파손 변상 요구 히 다루다 수영장 겨울 낮 여름 남쪽 나라 나누스테 예쁘다 모습 손 님 마주 새 사항 내용 상세 죄송 빨리 보완 업데이트 현재 나누스테 따뜻 포근 나누스테이 겨울 절경 한라산 다녀오다 뜨끈 퐁 살랑살 춤추다 갈대 만나다 갈대 인생 샷 찍다 요즘 가족 커플 친구 촬영 가깝다 강연 욱 사진관 저렴 가득 예쁘다 기존 글 간단 올 간단\">]\n",
            "[1139, <tomotopy.Document with words=\"원래 돌아다니다 여행 호캉 스다 즐기다 좋아하다 요즘 에쁜 인테리어 푹 빠지다 버리다 물씬 인테리어 구경 맛 주변 카페 음식점 편하다 심심 앱 켜다 구경 편 이태원 겸사겸 촬영 옷 주변 구경 마음 콜마이홈 원래 유명 컸었다 총 지점 운영 이태원동 새하얗다 인테리어 굉장히 인상 편하다 뚜벅이 언덕 덥다 날 힘들다 회나무 정식 검색 찾다 쉽다 검색 걷다 시작 덥다 힘들다 도착 에어컨 무척 빵빵 굉장히 시원 처음 들어오다 이태원 거실 전체 하얀색 소파 아늑 액자 큼직 시원 밖 미니 정원 식 뒷마당 쯤 겨울 쯤 즐기다 여름 아무래도 벌레 꺼리다 그물 침대 눕다 날 너무나 땡볕 포기 카페 원목 식탁 흔적 빈티지 예쁘다 여유 셋팅 먹다 늘 주변 돌아다니다 여럿 파티 즐기다 공간 전체 예쁘다 편 콜마이홈 스럽 멋 과하다 꾸밈 빈티지 마음 부엌 공간 마찬가지 색상 마음 냉장고 인테리어 굉장히 깔끔 공간 좋아하다 더욱 침실 들어가다 액자 예쁘다 새하얗다 침구 늘 뽀송해 거울 헹거 옷 걸다 편하다 청정기 에어컨 따로 냉방 굉 히 편 밤 여름 춥다 에어컨 끄다 마음 이태원 콜마이홈 샤워 커튼 분리 샴푸 바디워 지우다 챙기다 나머지 챙기다 수건 깔끔 쿱쿱 산뜻 씻다 편하다 깔끔 공간 중요 걱정 뒷마당 날씨 풀리다 놀러오다 마당 놀다 이태원동 이태원 나름 콜마이 홈 신혼여행 옆집 궁금 인연 닿다 반대 서비스 아늑 예쁘다 인테리어 늘 혜택 싸다\">]\n",
            "[1148, <tomotopy.Document with words=\"처음 오타 공식 이름 숫자 영어 부르다 심플 이름 하얗다 깔끔 스타 유명 광안리 해수욕장 오션뷰 밤 빛나다 광안대교 야경 아침 눕다 일출 이미 주로 커플 찍다 좋아하다 친구 끼리 캡슐 도미토 리 실 실 다양 근처 오늘 핫 고르다 소개 모으다 칭찬 광안대교 바다 가로지르다 다리 규모 밤 조명 바닷물 반사 근사 그동안 해운대 바다 광안리 고층 빌딩 마린시티 밤 알록달록 빛나다 광안대교 눈 즐겁다 바다 광안리 광안리 민 락 수변 공원 활 직판장 포장 들리다 때로 여행지 해운대 광안리 자봐야 결심 이유 새하얗다 바다 전망 뙇 낮 쪽빛 겨울 바다 밤 근사 광안대교 야경 아침 눕다 광안리 일출 캡슐 도미토 리 더블룸 다양 인기 파노라마 바다 코너 창문 아치 형 세 이미 인기 쉽다 프리미엄 오션 머무르다 팁 날씨 날 날씨 만족도 다르다 날 마침 하늘 구름 없이 없이 쾌청 날 덕분 낮 인하 파랗다 바다 밤 보랏빛 빛나다 광안대교 아침 주황빛 물들다 광안리 일출 반하다 늦잠 일출 쉽다 눕다 일출 광안대교 커다랗다 떠오르다 덕분 올해 첫 일출 광안리 만족도 갈리다 꼼꼼 알아보다 결정 먼저 염두 날씨 오롯 바다 집중 전체 하얗다 색 꼭 날씨 결정 타입 호스텔 도미토리 캡슐 더블 침대 일반 넓다 오션뷰 비싸다 편 플레이윙 즈 찍다 부티크 모으다 냉 다양 국내 참고 광안리 타입 머물다 프리미엄 오션 광안리 궁금 머물다 프리미엄 오션뷰 층수 높다 덕분 열다 눈높이 바다 규모 침대 샤워실 따로 분리 세면대 형 어메니티 머리카락 줍다 테이프 손잡이 손 세정제 비치 청결 최고 구석구석 냉장고 책상 의자 신발 로비 벗다 실내화 갈다 광안리 포인트 카페 침대 워낙 전망 숙박 객 일부러 찾아오다 콘셉트 특이 과자 음료 무 카페 원래 숙박객 결제 과자 쿠키 주스 과일 무 바구니 담다 먹다 광안리 바다 계단식 바다 멍 때리다 카페 루프탑 찍다 포토존 천국 계단 오두막 여름 자쿠지 운영 투숙객 사용 운영 아침 운영 두르다 마지막 여행 팁 충분 특별 체험 크루즈 추 그동안 요트 투어 그거 해운대 섬 크루즈 투어 광안리 근처 센텀시티 숙박 광안리 크루즈 저녁 민 락 타운 먹다 코스 저렴 여러 진심 광안리 재미있다 계속 조형물 세우다 올 여름 펭수 튜브 모양 그네 저녁 조명 불 밝히다 예쁘다 광안리 팻말 찍다 공간 민락수변 공원 산책로 멋있다 중심 광안대교 광안대교 저녁 때쯤 불 들어오다 자정 꺼지다 편하다 야경 와인 한잔 분위기 최고 오늘 핫 소개 특이 이름 재치 오션뷰 실 컷 국내 여행 느끼다 국내 성급 개성 뚜렷 마침 여행 특가 알리다 애플리케이션 플레이윙 즈 국내 부티크 특가 시작 참고 오늘 소개 일본 갬성 느끼다 경성 여관 히노끼탕 호캉스 성비 만나다 찍다 좋아하다 아래 찾아보다 사냥 예쁘다 소개 플레이윙즈 국내 찾다 플레이윙 즈 어플 다운로드 검색 광안리 검색 찍다 탭 참고 아고다 부킹 닷컴 최저 비교 평점 후기 꼼꼼 플레이윙 즈 숙박\">]\n",
            "[1164, <tomotopy.Document with words=\"휴휴 황남별 곡 읍성 별채 부모 님 댁 내려가다 내려가다 오래 친구 늘 놀다 버릇 이야기 친구 내려오다 거리 근처 여행 찾다 친구 추진력 머신 여행 하루 오늘 발품 찾아보다 한옥 제대로 시설 노후 대부분 콘도 위주 느끼다 한옥 머물다 아래 후보 이미 세 한옥 즐기다 프라이 빗 최고 무 규모 한옥 꽃 남자 선덕여왕 무한도전 촬영 한옥 독채 프라이 빗 야외 커플 여행 가족 여행 특별 날 호캉스 들리다 사계절 수풀 즐기다 크기 한옥 마당 하늘 네모 모양 구조 밤 꿀 와인 잔 세상 도방 초록빛 숲 잔 제대로 힐링 미니멀 감각 군더더기 깔끔 오늘 소개 높다 평점 자랑 인테리어 나무라다 한옥 아무래도 오래 주택 인테리어 노후 휴휴당 외관 한옥 멋 그대로 살리다 깔끔 모던 스타일 전체 차분 컬로 흰색 우드 톤 통일 간혹 파랗다 하늘 나무 심기다 초록색 나무 포인트 뿐 염두 넓다 사이 아늑 잠 공용 공간 마루 개방 한옥 생기다 황리단 한옥 한옥 문제점 한옥 옆 기침 소리 들리다 새로 짓다 황남별곡 기존 한옥 문제점 고민 크기 한옥 덜 소란 스럽 원래 줄이다 마루 앉다 너머 공간 틔우다 황리단 가운데 여행 관광 휴식 즐기다 프다 여행자 주차 순서 숙박 한복 체험 처음 황남별 곡 이랑 헷갈리다 황남별곡 채 운영 소 규모 숙박 시설 황남관 한옥 타이틀 운영 대형 앉다 의장 기업 무료 한복 대여 전통 놀이 체험 호캉 스다 찾다 들리다 온돌방 침대 따로 패밀리 조식 뷔페 육개장 불고기 덮밥 나뉘다 사용 카페 시설 피자 한옥 시설 부르다 것듯 편 끼리 가득 독 채 최근 국내 여행 숙박 트렌드 독 채 채 통째 빌리다 에어비엔비 식 경주역 도보 거리 읍성 별채 숙박 침실 가족 여행 머무르다 간단 부엌 마당 널널 장점 곳곳 주인장 센스 돋보이다 가득 인테리어 재미 참고 에어비엔비 조식 먹다 거리 직접 휴휴 황남별 곡 읍성 별채 오늘 여행 한옥 소개 마음 생기다 오늘 소개 이미 후기 다니다 씩 알차다 소개 참고 한옥 머물다 꼭 첫 째 옛 고을 그대로 터 황리단 한옥 주차 공간 마땅 근처 공영 주차장 주차 꼭 참고 째 오래 한옥 특성 심각 여행 읍성 별채 독채 알아보다 도시 호캉 스다 소식 꾸준 히 보내다\">]\n",
            "[1180, <tomotopy.Document with words=\"무어 다녀오다 후기 다녀오다 동생 기념 동생 부부 미리 서프라이즈 무어 따로 네이버 찾다 호스트 님 따로 문자 알리다 첫 사용 레딧 쿠폰 경로 클릭 사용 쿠폰 크레딧 들어오다 새로 씩 나누다 혜택 커지다 번거롭다 노르웨이 새로 크레딧 자세 이야기 꼭 참고 인기 그동안 성공 못 다행히 동생 부부 결혼식 다가오다 동생 겹치다 선물 동생 입시 여기저기 찍다 카톡 보내다 따끈따근 오늘 머무르다 글자 봇물 터지다 흐 동네 막 퍼붓다 이미 지나가다 날씨 이쁘다 바다 가슴 확 트이다 바다 소리 들리다 부럽다 동생 침실 밖 오션뷰 그거 보내다 거지 동생 카톡 아침 찍다 보내다 하하하 부럽다 오션뷰 치다 이거 그냥 짱 언니 터지다 고맙다 연신 셔터 누르다 흐뭇 그냥 따로 소품 하나하나 막 아줌마 마음 절대 조명 조명 하나하나 분위기 달라지다 그쵸 커피 블루보 틀 한잔 갖다 완벽 커플 끼리 서로 먹다 분위기 발뮤 토스터 아마 답답 동생 슬프다 핑크솔트 시작 향신료 핸드 소 이솝 후기 이마트 옆 본이애비 그냥 숙박 불 깔끔 시원 들어서다 음악 틀다 외국 여행 충만 무어 어렵다 아마 여름 내내 인기 폭발 밖 건물 오래되다 슬리퍼 카페트 쥬와 부럽다 일본 소름 돋다 부럽다 쪽 벽면 프로젝트 하얗다 벽 부부 앉다 본인 웨딩 촬영 에라 그냥 너무나 흔적 잡지 그냥 아무 앉다 막 써 한번 인기 이유 욕실 소름 돋다 클렌져 치약 박해 써 터지다 동생 셀카 찍다 보내다 인증 샷 날 밤 동생 프로포즈 무어 완벽 뿌듯 결혼 프로포즈 대단 커플 여행 새끼 칭찬 무어 다녀오다 후기 경로 사용 레딧 적립 꼭 다녀오다 직접 알아보다 결제 동생 다녀오다 후기예\">]\n",
            "[1216, <tomotopy.Document with words=\"매년 엄마 여행 올해 다녀오다 뚜벅이 여행 엄마 장롱 면허 기차 남춘천역 슝 선택 헤이춘 천 여러 알아보다 헤이춘 천 선택 이유 남춘천역 가깝다 깔끔 그리구 옆 편의점 완벽 들어오다 헤이 굿즈 판매 매대 귀엽다 프론트 데스크 뒷편 라운지 공간 예쁘다 꾸미다 조 와플 커피 머신 브런치 먹다 내려가다 와플 크림 토스트 딸기 잼 눈 뜨다 와플 스타 처음 붓다 얇다 째 실패 과감 붓다 성공 근데 계량컵 크림 딸기 잼 뿌리다 달달해 아메리카노 찰떡 놀다 디 럭스 더블 침대 싱글 침대 넓다 편 침대 푹신 편안 아늑 전체 우드 화이트 톤 요즘 흔히 분위기 헤이 어매니티 무료 트리플 수건 대형 소형 발 수건 칫솔 치약 비누 샴푸 린스 바디워시 굉장히 만족 스럽 보내다 꺼 내돈내산 쉬다 갑 춘천여행 춘천숙소 춘천감성숙소 춘천숙소추천 헤이춘천 춘천헤이춘천 춘천가성비숙소\">]\n",
            "[1227, <tomotopy.Document with words=\"해외 오래 거주 여행 좋아하다 숙박업소 기회 편 최근 다녀오다 마음 스타 돋다 인테리어 쁨 치다 시청 근처 버스 정류장 지하철역 가깝다 월드 보임 동성로 삼덕동 김광석 시내 관광지 가깝다 코드 첫 아래 접속 여행하쉐 들어가다 거실 소품 인테리어 하나하나 예쁘다 호스트 분이 디자이너 여윽 전문가 손길 소품 오피스텔 높다 덕분 뻥 뚫리다 감상 시내 훤 히 내려다보이다 멀리 이월드 타워 실제로 예쁘다 찍다 힘들다 쇼파 푹신푹신 여행 쇼파 눕다 뒹굴다 거리다 티비 여유 즐기다 예쁘다 분위기 찍다 예쁘다 얼리체크 레이트체크 아웃 요청 흔쾌 히 승낙 감사 이거 무조건 앞뒤 일정 대구동성로떡볶이맛집 떡볶이 테이크 아웃 떡볶이 납작 대구맛집 이미 유명 동성로 연락처 영업시간 첫째 월요일 셋째 목요일 휴무 박석규 중앙떢볶이 포함 체인점 공원 옆 존재 저렴 여행 꼭 드셔보세 쫀맛탱 요렇게 계단 올라가다 비밀 공간 침실 침실 인테리어 떡 벌 넘다 예쁘다 침대 푹신푹신 날 늦다 꿀 잠자다 히히 전기 겨울 끄떡없쥬 계단 아래 토스터 커피포트 캡슐 커피 머신 냉장고 옷장 사용 예쁘다 예쁘다 놓이다 헤헤 레인지 가스 레인지 도구 식기 그릇 조미료 넉넉 필요 재료 간단히 먹다 굳다 굳다 저렇다 멋지다 바라보다 짱 컨디션 깨끗 빵빵 수압 굳다 굳다 핸드어시 폼 클렌징 은근 챙기다 귀찮다 메이크업리무버 렌즈 보존 액 여심 저격 제대로 옆 건물 편의점 건너편 스타벅스 버스 정류장 지하철 중앙로역 가깝다 대구시내맛집투 삼덕동 맛 걷다 다니다 밤 오징어 먹다 무비 타임 정말 예쁘다 여행 추 공감 버튼 댓글남겨주세\">]\n",
            "[1230, <tomotopy.Document with words=\"오늘 여행 첫 날 더반스위트 소개 너무나 만족도 높다 지극히 개인 의견 급 꼭 부모 님 모시다 취저숙소 세 번호\">]\n",
            "[1239, <tomotopy.Document with words=\"코로나 힘들다 지치다 행운 여신 버프 가족 끼리 여행 코로나 중요 아래 최대한 외출 자제 호캉 스다 호캉스 왠 접촉 줄이다 실내 밥 해먹다 칭 예쁘다 취사 발견 피 비치 유명 하조 해수욕장 근처 이야기 서피비치 구경 겨울 해변 여유 롭 보내다 여름 굉장 핫플 인파 어마어마 겨울 바다 한가 롭 매력 껏 설레다 가득 도착 이야기 외관 굉장히 깔끔 모던 스타일 날 이야기 인테리어 주차장 가득 느끼다 입구 왼편 바베큐 에어컨 여름 굉장히 시원 굽다 먹다 겨울 먹다 바베큐 별도 당시 독채 독채 기억 오션뷰 포기 힐링 오션뷰 투숙 입시 쯤 조크 빨리 도착 다행히 정비 사장 님 친절 드 팻말 이야기 요즘 꿈꾸다 어렵다 세상 선택 모든 명시 사장 님 듣다 구조 똑같다 현장 비용 지불 침구 제공 투숙 반하다 이거 이거 엄마 가족 들어서다 감동 이미지 실내 똑같다 깨끗 드라이 드라이기 큼지막 머리 말리다 머리 이거 공감 드라이 머리 말리다 힘들다 침대 폭신 감싸다 안아 침대 치 침대 뻔 자체 힐링 자체 최고 나위 없이 최고 시설 별로 뷰값 시설 완벽 완벽 엘레베이터 조크 단점 대부분 유의 사항 협소 적당 크기 깔끔 먹다 과일 깍다 먹다 식기 필요 알맞다 다행히 식기 이야기 인테리어 센스 되게 조오기 문 열다 닫다 현관 문 열다 공간 정돈 아래 문 닫다 상태 현관 역할 소음 차단 민망 심신 편안 문 열다 왼편 넓직 시설 급 최고 수압 무지무지 이야기 구경 본격 찍다 거짓말 찍다 살짝 이야기 주변 이야기 편의점 편 세 권 편 세 권 친구 연인 놀다 먹다 부족 맥주 캬 요즘 편의점 와인 캬 회랑 맥주 먹다 찌다 포장 참고 하조 근처 시장 가족 극찬 만족 이야기 산책 이야기 오션뷰 당연히 바다 산책 고프다 닥 먹다 산책 슝슝 날 바다 예쁘다 핑크 노을 가득 하늘 여행 팁 피 비치 도보 걸리다 로미투 로미 쏘다 올리다 시작 하조 미 투어 여행 가족 끼리 요로코 장난치다 놀다 기억 떠올리다 추억 새록새록 그냥 비밀 일기장 가득 산책 돌아오다 밤 어둑어둑 어쩌다 서피 비치 해변 왕복 걷다 갔다오다 밤 이야기 조명 은은 찰칵 찰칵 기록 이야기 퇴실 사이 거울 공간 참으로 찍다 언니 서로 찍다 방해 무릎 찍다 언니 몰다 이야기 여행 투숙 탁상 식기 급 시설 인테리어 전반 깔끔 신식 불편 높다 예쁘다 오션뷰 편의 시설 편의점 필요 편하다 엘레베이터 그냥 셈 치다 주변 환경 시끄럽다 바다 산책 서피 비치 노랗다 글씨 해변 도보 하조 하조대어촌계회 센타 조대 조대 팜 일레븐\">]\n",
            "[1240, <tomotopy.Document with words=\"찾다 찾다 금액 마음 찾다 정말 힘들다 왠 마음 두세 마감 싫다 눈 빠지다 찾아내다 요기 단독 카페 운영 주차 밑 편하다 주차 오후 퇴실 꼭 참고 의자 자리 책상 음료 쿠폰 무료 음료 잔 윗층 카페 제공 수요일 휴무 날 휴무 그니까 꼭 날짜 만끽 바래다 부엌 쪽 살펴보다 심플 간결 전자레인지 핫포트로 직접 불 근데 주변 워낙 먹거리 포장 간편 냉장고 생수 겉 나이프 숟가락 포크 젓가락 취식 사용 요렇게 필요 가져오다 식기 류 사용 침구 류 맘 넓다 침구 류 보송보송 바스 락 거리 이불 잠 여행 잠자리 불편 일정 힘들다 잠 푹 특히 마음 공간 예쁘다 거실 쇼파 이쁘다 넓다 하루 아쉽다 거실 티비 근데 히 불편 고르다 예쁘다 욕조 욕조 고민 없이 힘들다 여행 일정 끝나다 뜨끈 몸 노곤 노곤 녹이다 세상 공간 자체 찌다 행복감 느끼다 나중 꾸미다 세면대 열다 드라이 여러 씻다 용품 은근 감동 가끔 까먹다 가져오다 요렇게 칫솔 세안제 굳이 편의점 샤워가운 욕조 옷 필요 없이 누비다 다니다 편안 최고 따로 옆 문 커플 친구 나름 프라이 빗 뒷 테라스 전체 단독 사용 별장 기분 요즘 선선 날 요렇게 테라스 맥주 캔 도란도 보내다 정말 차량 거리 맘 순대 국밥 가깝다 카페 가깝다 동선 편리 량 이바구 호천 마을 차이나타운 일본식 정란 가깝다 들리다 코드 들어가다 어플 못 요거 들어가다 야무지다 사용\">]\n",
            "[1247, <tomotopy.Document with words=\"안하세 우람하다 라미 드디어 휴가 다녀왔씁니 여름휴가 다녀왔구 서쪽 애 혀 재 남쪽 보내다 직접 알아보다 비행기 렌트카 꿀 팁 여행 계획 필독 필독 여행 일정 계획 맛 공유 짠 비행기 논거 좋아하다 시간대 제일 저렴 스카이 스캐너 항공사 특가 자리 봤어 출발 일주일 전쯤 뱅 늦다 편 근데 담 날 들어가다 똑같다 시간대 싸졌더라고 코로나 취소 높다 천천히 저거 왕복 왕복 수준 원래 계획 하루 차이 비행기 쯤 하루 앞당기다 다녀오다 비행기 하루 차이 천차만별 참고 표 어쨌든 결론 우리오빵 대한항공 아시아나 타겠다네 아시아나항공 갔숩니 역시 아시아나 넓다 항공사 선택 김포공항 뱅기 도착 쯤 도착 미리 렌트카 고고 여행 벌써 째 스타 렌트카 돈 찐후기에 처음 알아보다 스타렌트카 처음 친절 공항 픽업 편하다 그냥 계속 별다르다 불편 못 식 소나타 차량 고급 면책 넣다 총 빌리다 왕 돌아다니다 주유비 천 총 차량 굳다 싸다 알리다 미리 상담원 연락 확인 끝 공항 내려서다 게이트 구역 스타 렌트 카 차량 픽업 스타 렌트카 매장 금방 도착 이름 대여 끝 쉽다 잉 솔직히 그냥 저렴 렌트카 편하다 젤 스타 렌트카 아트 드림 스타뷰 구경 저렴 핫플 넘다 헝헝 경비 저렴 돌담뷰 독립 프라이 빗 스타뷰 깔끔 빨갛다 냉장고 탐 항상 오빠 깨끗 생기다 긁다 벌레 못 눈 사이 엄 깨끗 새로 짓다 깔끔 너무조 아무 올라오다 프라이빗 공간 재밌다 이야기 잔뜩 밤 저렇다 불 끄다 조명 켜다 캬 지대 오빵이 술 못 먹다 맥주 팝콘 먹다 아트 두드리다 스타뷰 전체 후기 장점 초반 저렴 조용 프라이빗 놀다 커플 여행 추 포근 습기 건조 사장 님 엄 착하다 별로 입시 퇴실 뵈다 단점 편의점 멀다 걷다 차량 별로 수영장 조식 주변 놀다 거리 뚜벅이 비추다 나중 여행 포스 팅 따로 들어오다 부르다 나야 나야 둘째 날 뚱 돈 산 자랑 비스비 앤 팜 빌리다 오션뷰 요기 수영장 날 날 흐리다 최 상위 급 오션뷰 열다 순간 느끼다 우와 완저 오션뷰 밤 바베큐 해먹었지롱 바베큐 비용 깨끗 떨어지다 엄 넓다 오션뷰 차이 후회 뻔 오션뷰 도찐개 찐 복도 엄청 많네 야외 스파 수영장 마스크 끼다 물놀이 미리 수중 마스크 가져오다 수영장 수중 마스크 챙겨가세 동영상 오션뷰 최고랍니 비스비 앤 팜 빌리지 오션뷰 전체 후기 장점 초반 저렴 오션뷰 엄청나다 장보고 오션뷰 야외 스파 수영장 조식 공짜 핫 플레이스 근접 올레시장 황우지 차량 거리 넓다 단점 확실히 개인 비교 규정 리조트 공간 가족 여행 대다수 바다 이불 꿉꿉 끈적 움 넘치다 전반 만족 왔어 요기 권 오션뷰 아시쥬 기본 여행 비행기 렌터카 여행 완료 여행 일정 맛 후기 공유 추다 도와주다 잇 님 고맙다 여행 일정 궁굼하 클릭\">]\n",
            "[1250, <tomotopy.Document with words=\"미르온 세 째 여름 다녀오다 마지막 여행 되도록 피하다 호캉 스다 위주 원래 계획 요즘 핫플 선택 비행기 여수공항 순천역 고민 프리미엄 고속버스 걸리다 편하다 고속버스 결정 마침 우등 차이 별로 반 도착 도란도 얘기 나누다 분명 쯤 깨다 눈뜨다 빠지다 여행 꼭 님 오피스텔 겨울 여행 비슷 호스트 마주치다 깔끔 거실 쇼파 편하다 쉬다 거실 붙다 후드 식기 도구 세탁기 커피 머신 그대로 옮기다 쵝오 단점 모든 쓰레기 분리수거 귀찮다 맨 왼쪽 서랍 냉장고 큐티 거실 쪽 비밀 문 도구 추측 에어컨 거실 하루 종일 틀어놔 살짝 시원 아쉽다 욕조 샤워 부스 따로 샤워 매트 꼭 써 변기 옆 쪽 벽면 적히다 근데 자꾸 환풍구 들어오다 담배 심하다 부분 불쾌 침구 류 깔끔 정돈 침대 개인 만족 스럽 머무르다 빠르다 뒤 미루다 찾아오다 당황 스럽 리가 아파트 호수 근처 이마트 홈플러스 다이소 이마트 편의점 버스 정류장 가깝다 뚜벅이 남자 친구 입대 마지막 놀다 여행 아쉽다 기억 여행 님 검색 엄 깔끔 불편 머무르다 맛 유명 돼지 마을 후기 공감 댓글 힘 소통\">]\n",
            "[1274, <tomotopy.Document with words=\"올 여름 여행 픽 스테이클랭 블루 여행 급하다 짜다 뒤늦다 알아보다 극 마음 마감 찾다 스테이클랭 블루 독채펜션 발견 클랭블루스테이 극성 금액 계좌 문자 열다 연박만원 총 비싸다 비싸다 일반 욕조 월풀욕조 조용 동네 옆 도로가 쪽 소음 느끼다 입구 들어오다 독채숙소 주차공간 널찍 주차 불편 전혀 동네 조용 한적 편 여유 롭 느끼다 완벽 건물 크기 형태 돌담 목조 이루어지다 건물 모던 스푼 군더더기 외관 마음 쏙 입구 근처 앞쪽 프라이빗 안쪽 오른쪽 사장 님 왔다갔다 동인 들어가다 거실 군더더기 전체 화이트 톤 깔끔 인테리어 자체 클랭 블루 엄청 넓다 공간 개방 탁 트이다 요긴 중요 침실 공간 바다 화이트 블루 톤 문 문턱 드나들다 편하다 개방 확실히 구조 개인 프라이빗 공간 불편 느끼다 침실 침대 공간 면 통창 좁다 여행 잠자리 불편 못 침대 되게 푹신 널널 이틀 꿀 잠 버리다 거실 침실 덥다 걱정 에어컨 거실 침실 시원 쾌적 쉬다 저거 의자 아직 정체 그냥 지갑 마스크 간단 올리다 용도 사용 클랭 블루 유명 포토존 대형 욕조 욕실 돌담뷰 찍다 지나가다 블라인드 샤워하세 개인 느끼다 단점 욕실 샤워 칸막이 바닥 나누다 샤워 욕실 바닥 전체 흥건 샤워 샴푸 어메니티 공간 욕조 쪼로 록 올려놓다 되게 불편 샤워 칸막이 선반 꼭 부분 마지막날 머리카락 배수 욕실 변기 따로 공간 나누다 요거 만족 첫 날 오후 늦다 저녁 치킨 컵 라면 뇸 민 배달 치킨 카페 클랭 블루 멀다 카페 판매 드립 웰컴티 카페 클랭 블루 꼭 저번 여행 카페 정말 자세 아래 클랭 블루 노을 맛 유명 내내 날씨 예쁘다 노을 노을맛집뷰 찾다 날씨 흐리다 못 여행 날씨 요정 내내 통창 비치다 핑크 노을 넘다 예쁘다 기억 풍경 곳곳 노을뷰 쪽 통창 침대 눕다 테이블 노을뷰 저물다 저녁 먹다 빔프로젝터 요청 빌리다 문자 요청 이후 관리자 갖다 괜히 죄송 사장 님 요청 응답 빠르다 친절 서비스 면 만족 스럽 넷플릭스 발신 봤 빔프로젝터라 심심 뻔하다 와인샵 멜즈 나헤리슬 링 와인 렘노 스다 과일 치즈 와인 잔 와인 홀 짝 여행 기분 제대로 렘노 스다 과일 치즈 처음 먹다 맛있다 남자 친구 삭다 다음날 물놀이 태블릿 듣다 여행 태블릿 맘 껏 듣다 옷 걸이 모던 기하학 심플 자체 모습 괜히 예쁘다 찍어봤어 마지막 날 클랭블루스테이에서 숙박 퇴실 사장 님 귤 중간 중간 마주치다 부담 스럽 느끼다 간단 클랭 블루 솔직후기 간단히 장점 즐기다 최고 노을뷰 프라이빗 독채 투숙객 마주치다 피크닉 바구니 세트 돗자리 와인 잔 피크닉 단점 해바라기 샤워 사용 샤워 선반 프로젝트 요청 사용 해변 피크닉 바구니 돗자리 와인 잔 사용 돗자리 세척 깨끗 놔두다 클랭 블루 주변 맛 카페 부르다 콜 택시 문자 보내다 주변 맛 카페 되게 넘다 협재해변 멀다 가깝다 편의점 마트 보내다 마트 농협 본점 가깝다 인하 마트 이것저것 배달 노을 스테이클랭블루 서쪽 스테이클랭 블루\">]\n",
            "[1300, <tomotopy.Document with words=\"태교 여행 째 날 머물다 호연스테 제일 가격대 이웃 마음 선택 역시 원하다 날짜 날 맞추다 순서 다인오세아노 호연스테 인디언썸 머 여행 제일 일정 주변 관광지 둘러보다 계획 짜다 호연스테이 머물다 날 계속 화창 아쉽다 제주태교여행 태교여행 제주여행 제주도감성숙소 감성숙소 호연스테이\">]\n",
            "[1319, <tomotopy.Document with words=\"감나무 마당 예쁘다 게스트하우스 시호 급 여행 찾다 그냥 불가능 검색 끝 막바지 시호 게스트하우스 운영 유명 호일 감나무 반하다 들어오다 반하다 귀엽다 멍멍 전자레인지 정수기 공용 냉장고 당연히 도미토미룸 여성 전용 도미토미룸 편안 공간 도미토미룸 싱글 베드 이루어지다 공간 투숙객 공간 눕다 벽 벽 사이 괴리감 행여 피해 이야기 못 카톡대화 침대 자체 불편 불편 막히다 답답 여행 여행 꼭 미리 구석구석 구경 가득 도미토미 공용 공용 샤워 실 짐 보관 락커 워낙 깔끔 위생 공용 공용샤워실이어 불편 아무래도 공용 늦다 아침 일찍 샤워 쓰이다 흑흑 샤워실 바디 클렌저 샴푸 컨디셔 파우더 공간 세안 양치 드라이 함 공용 테이블 조식 먹다 조식 팀 미리 체크인 정해 주심 곳곳 포토 존 가득 식물 우드 조합 호일 야외 테라스 특성 불 야외테라스 먹다 냄새나다 불 엄지네꼬 막 불 다행히 팀 계획 즐기다 테라스 저녁 파티 파티 나무 떨다 바다 여행 새롭다 꼭 오션뷰 바다뷰 만족 스럽 부분 동네 자체 엄 조용 한적 아마 다음날 아침 조식 커피 샐러드 오믈렛 엄청나다 맛 예쁘다 정성 가득 게스트하우스 시호 입시 퇴 실 게스트하우스 확인\">]\n",
            "[1335, <tomotopy.Document with words=\"쭉 거주 잇다보 여행 정말 맘 먹다 거리 엄두 맘 먹다 광주공항 비행기 공항 속초공항 오픈이되엇 편 렌트카 잇다 터 아쉽다 여름 휴가 명절 이후 날 좋은사람 여행 계획 알아봣 예쁘다 마음 무 작정 메모장 사진첩 강릉역 근처 요즘 레트로 빠지다 안성맞춤 여행 해먹다 좋아하다 꼭 필수 알아보다 취사 마리재 취사 불가 협소 정식 간단 요즘 요즘 요즘 바베큐 못 잇다 예약자 못 잇다 간단 파스타 김치찌개 계란말이 반대 부담 중앙시장 도보 맛 근접 거리 바다 뒷편 아파트 마트 동네 마을 한적 시끄럽다 에어프라 토스트 인덕션 렌지 냉장고 세탁기 공원 해변 끝 송강리조 텔 옆 아무것 즐기다 가고싶엇 불호 나뉘다 고민되엇 욕조 인생 샷 찍다 메리트 잇다 과감 여행 탈락 꼭 근처 해변 산책 타입 들어가다 자세 확인 참고 차이 스위트솔숲뷰 인기 취사 어렵다 조식 현재 코로나 조식중단하엿 참고 욕조 여고 근처 찾아보다 예쁘다 꼭 가보고싶엇 욕조 아쉽다 취사 욕조 꼭 가고싶엇 답변 아쉽다 못햇 덕분 찾다 다행이엿 닫히다 잇다 바라다 반대 홈플러스 중앙시장 시장 강릉역 욕조 침대 별도 침구 제공 저녁 이후 매너 타임 간단 세면도구 수건 잇다 마을 취사 역시 손 님 기존 알리다 라파트멍 새롭다 이름 카카오링크 찾아보다 엄청나다 햇 정말 친절 열 가득 여행 메종드코트 자세 후기 여행 다니다 꼭 포스팅해야 상관없이 반대 여러 얼른 다녀오다 따로 포스 팅 간단 취사 냄새나다 절대 불가 대로변 주차 자포자기 심정 찾앗 민박 강릉역 거리 블로그후기 고민햇 믿다 여행 낙찰 숲 잇다 벌레 날 모르겟 좋아하다 반신 욕하다 욕조 잇다 후반 반대 해변 해변 소금강 숲속 벌레 욕조 취사 결제 바베큐 참고 강릉숙소 강릉숙소추천 메종드코트 강릉감성숙소 강릉에어비앤비 교동숙소 교동에어비앤비 독채숙소 강원도여행 강릉여행 강릉초록민박 강릉휴미다 강릉갬성숙소 강릉독채펜션 강릉호텔 강릉감성호텔\">]\n",
            "[1348, <tomotopy.Document with words=\"경상도 올 봄 경상도 여행 자주 그동안 모으다 목록 경상도 리스트 공유 유명 휴휴당 황리단길 여행 친절 당연 청결 좋아서 유명한 경주황리단길숙소 한옥 거실 중심 나누다 형태 아침 조식 제공 개별 독채숙소 즐기다 라운지 공간 보내다 여유 느끼다 재방 문 절로 생각나다 올모스트 홈 빼놓다 경남독채펜션 여러 구조 민박 인스타 핫플 유명 한옥 주변 상점 접근 단독 머물다 예쁘다 운영 친절 내내 느끼다 공간 계절 씩 전포동 건물 자체 낡다 편 감각 인테리어 공간 자체 매력 부산독채펜션 구조 독 채 타입 더욱 프라이 빗 포토존 중요 예쁘다 인테리어 반월당역 입구 동성로 접근 층수 높다 시내 최고 따뜻 깔끔 뿐 발마시 배려 돋보이다 욕조 찍다 뷰맛 영도아레 언덕 오르막길 힘들다 언덕 영도아레 멋진뷰 주차 못 도착 뒤돌아보다 풍경 힘들다 잊다 아늑 부엇 부산항대교 정면뷰 더욱 멋지다 부산오션뷰숙소 인스타 정말 핫 예쁘다 접시 홈 파티 좋아서 부산파티룸 여행 인플루언 꽃디아 팬 모든 소식 팬 꾸다 욱 꽃디\">]\n",
            "[1350, <tomotopy.Document with words=\"건대에어비엔비 건대근처숙소 건대숙소 건대입구에어비엔비 건대 근처 괜찮다 에어비엔비 찾다 발견 저렴 괜찮다 절대 돈 후기 솔직히 여느 청결 괜찮다 티비 전체 인테리어 심플 쏘쏘 티비 크기 나름 성비 괜찮다 다가오다 사용 먹다 고고 날 배달 땡기다 요기 이름 딸기 저거 괜찮다 참고 밥 먹다 스탈이 역시 국밥 코드 입력 코드 본문 기재 접속 본문 접속 댓글 작성 대댓글 알리다\">]\n",
            "[1368, <tomotopy.Document with words=\"느끼다 특별 필요 기획 연재 탄 잇다 탄 시작 탄 소개 아래 상세 히 리뷰 먼저 챙기다 스크 드 스토리 확인 관광객 찾아보다 도민 제주토끼 붉은색 벽돌 영롱 쌓다 복도 구분 제주토끼 시그니처 벽돌 쌓다 벽 테라스 공간 벽돌 사이 쏟아지다 햇살 느끼다 커피 잔 책 쪽 읽다 바라보다 벽돌 벽 로즈메리 귤 밭 휴식 어울리다 유튜브 리뷰영상 언급 단점 빼다 시설 서비스 만족 스럽 제주토끼 베드 앤 브렉 퍼스트 콘셉트 민박 간단 아침 조식 제공 따끈따끈 커피 제주토끼 조식 아래 참고 산방산 찾아가다 신축 역시 저버리다 산방산 전망 카펫 네온등 더욱 창가 쪽 인테리어 넘치다 복도 붉다 노랗다 색감 다소 부담 엘레베이터 건물 짐 무겁다 고생 들어서다 현재 초반 형성 루프탑 굉장히 기억 마음 껏 아쉽다 신축 확인 아래 지나다 추석 반려견 낑깡이 꿈같다 추억 쌓다 처음 비싸다 조식 퀄리티 절대 비싸다 급 뷔페 맛있다 정성 깃들다 조식 메밀꽃 장점 조식 새우 문어 숙회 문어숙회 아저씨 직접 잡다 산 문어 문어 산 투숙 항상 문어 제철 맞다 재료 다소 투박 메밀꽃 단점 곳곳 놓이다 생화 꽃병 허브 워낙 시골 교통 불편 주위 편의 시설 단점 렌터카 없이 접근 어렵다 침대 요청 토퍼 제공 바닥 눈 아래 참고 가끔 씩 날짜 개인 닫다 날짜 닫히다 넘다 어렵다 참고 모양 정말 특이 이색 매력 빠지다 결과 재미있다 투숙 단점 먼저 계단 굉장히 가파르다 높다 무겁다 짐 올라가다 어렵다 둘째 치다 그냥 왔다갔다 꽤 번거 롭 출입문 올리다 계단 출입문 뚜껑 굉장히 무겁다 힘 편 자칫 허리 다치다 뻔 체력 약하다 계속 열다 무겁다 뻑뻑 열다 공간 굉장히 작아지다 위험 겉 굉장히 이색 공간 절대 실용 공간 침실 층고 낮다 욕실 협소 불구 야외 욕조 정말 상태 불량 야외 욕조 욕조 깨끗 불 개인 개성 건축물 흥미 롭 아지트 단점 극명 머물다 투숙 우주오리 우주동 일반 독채펜션 리뷰 상당히 괜찮다 비싸다 투숙 고민 결정 바라다 아래 사이트 참고 다양 경험 짐 자주 싸다 번거롭다 저런 경험 번거롭다 새롭다 경험 막다 요소 못 결론 재미있다\">]\n",
            "[1372, <tomotopy.Document with words=\"예쁘다 소개 실 전용 게스트하우스 애완동물 동반 불가 영유아 초등학생 불가 고등학생 보호자 동반 제인 제주구좌읍숙소 동쪽 마을 실 오후 실 반 퇴실 조식 제공 공용 공간 그곳 조식 먹다 쉬다 주류 그곳 먹다 밤 제인 특징 스노쿨 링 장비 유료 대여 시설 아쉽다 포장 공용 공간 먹다 자세 사항 확인 제인 링크할께 해수욕장 거리 침실 침대 욕실 평점 후기 식탁 침실 오션뷰 발코니 해변 근처 동쪽 땅콩 왼쪽 건물 양쪽 채 나뉘다 왼쪽 오른쪽 구조 비슷 묘 다르다 작년 알아보다 정말 꼼꼼 히 비교 왼쪽 해안가 거리 땅콩집 구조 독채 형 식탁 침실 발코니 해변 가깝다 저녁 술 한잔 산책 제주월정리숙소 발코니 오션뷰 즐기다 풍력 발전 바람개비 제주오션뷰숙소 확 트이다 기분 만족도 높다 정말 정말 정말 깔끔 소문나다 계단 가파르다 편 계획 멋지다 땅콩 왼쪽 첨부 동쪽 끝 침실 침대 욕실 평점 후기 원룸 형 공간 침대 거실 거실 파티션 성인 영유아 포함 유아 식탁 어린이 식기 유아 욕조 귤 꽃 가득 툇마루 돌담 돌 채 밧 돌 채 밧돌채 제주돌채 바깥채 제주돌채 동쪽 끝 맞닿다 독 채 제주세화숙소 돌담 전통 초가돌집이 실내 현대 식 모던 인테리어 예쁘다 섬세 플레이어 취저 제주돌채 특징 어린아이 남녀노소 배려 공간 유아 식탁 의자 식기 욕조 아이와 뿐 부모 님 모시다 가족 단위 여행 제주돌채에 채 밧돌 채 첨부 바다 도보 거리 침실 침대 욕실 평점 후기 옛집 리모델링 유명 맛 푸다 편의점 마트 도보 이내 뚜벅 여행자 투명 바다 도보 거리 제주도함덕 스테이호미 거리 소개 돌 리모델링 독채펜션 고즈넉 돌담 끼다 들어가다 마을 인테리어 모던 제주함덕 스테이호미 특징 통유리창뷰 욕조 밖 족욕 미니 욕조 매력 따뜻 느끼다 함 호미 거리 장점 주변 식당 카페 편의 시설 체크인 웰컴 스낵 책 음반 배스볼 마스크 팩 비치 호스트 님 배려 느끼다 프라이 빗 스럽 공간 야외족욕 정말 최고 호미 거리 첨부 태위 거리 침실 거실 부엌 욕실 밖 거리 거실 욕실 오후 개월 날짜 통유리 거실 매력 제주폴개우 알리다 폴개우영 정말 치열 숙케 팅 네이버 오후 개월 뒤 일정 현재 마감 상태 취소 건 발생 스타 카톡 플 치다 탭 공지 알리 설정 수시 확인 꿀팁 침실 돋다 폴개우 폴개우영 하이라이트 통유리 거실 통유리 오후 실 퇴실 미 성년자 투숙 불가 반려 동물 동반 입시 불가 무 감귤밭뷰 통유리 유니크 핫 기름 심하다 꼭꼭 참고 제주폴개우 너무너무 치열 어렵다 욕조 빨갛다 지붕 정원 돌 걷다 산책 민박 규모 자체 커서 폴개우 자세 사항 폴개우 확인 돌담 위주 리스트 모음 동쪽 리스트 모음 여행 인플루언 꽃디아 팬 힘 팬 팬 꾸다 욱 공감 이웃 덧 글 꾸다 욱\">]\n",
            "[1377, <tomotopy.Document with words=\"공유 탄 지역 다녀오다 매력 홀 빠지다 버리다 한옥 매력 예쁘다 독채숙소 매력 공유 공유 시리즈 소개 사용 사장 님 포스 팅 또는 네이버 업체 소개 사용 삭제 아래 댓글 첨부 로그 글램 핑 소개 벌써 이름 통나무 단체 여행 아기자기 매력 가득 아리나 밀양강 아리나 소개 요즘 인기 시내 떨어지다 즐기다 메리트 요즘 가족 여행 픽 주재 한옥 매력 가득 담다 최근 알리다 꼭 맘 솔솔드 꼭 들리다 스테이마이마 어쩌다 전문 편 독 채 프라이빗 청결 다녀오다 넘다 넘다 좋아하다 꼭 한번 스테이솔 다녀오다 도곡별장 가깝다 스테이솔방 독채 이루어지다 리뷰 만족도 정말 높다 스테이솔 가봐야하 뿌수 소개 나름 예쁘다 아래 댓글 첨부 아래 댓글 확인\">]\n",
            "[1384, <tomotopy.Document with words=\"하반기 대체 휴일 생기다 너무나 작년 달력 헬 의욕 꺾이다 겹치다 공휴일 대체휴일 생겨나다 끼다 쉬다 연휴 넘넘 넘다 광복절 연휴 바람 쐬다 놀다 고민 탐방 연휴 여행 항상 시끌벅적 붐비다 중심부 연휴 외곽 근교 놀다 나가다 정말 한적 쾌적 거리 돌아다니다 관광객 모드 여행 목적지 종로구 촌 서촌만 분위기 넘다 좋아하다 은근 멀다 여유 롭 둘러보다 머물다 촌 주변 경복궁 탐방 이틀 즉흥 이미 유명 마감 발견 원석 나그네 찌다 한옥 퓨전 굉장히 저렴 좁다 망설이다 넘다 괜찮다 고고 넘다 저렴 경복궁 출구 도보 거리 세종 마을 거리 뒷골목 한옥스테 카페 와인펍 운영 외관 한옥 들어가다 고택 새 숨 넣다 재 디자인 컨템포러 리 한옥 컨셉 나그네 입구 다양 소품 재미 건물 구조 토 총 카페 푸다 공간 따로 공간 사장 님 휴가 스탭 계시다 색 생활 한복 계시다 어울리다 멋지다 체크인 아랍 굉장히 퓨전 스럽 스탭 사장 님 취향 나그네 후기 걱정 그나마 끝 날 소음 걱정 없이 조용히 색감 예쁘다 실제로 창문 들어오다 햇빛 어우러지다 전체 따뜻 색감 넘다 예쁘다 조명 조명 벽 페인트 에어컨 서큘레이터 한옥 드러나다 목화 솜 전통 무드 한옥 커피포트 보냉 주전자 스태프 새롭다 얼음물 리필 담 유리컵 거울 드라이 옷걸이 꼭 필요 필수품 처음 넘다 간혹 한옥 공용 걱정 확인 개별 안쪽 넓다 세면대 샤워기 변기 커튼 분리 칫솔 공용 샴푸 바디워시 개인 세면 용품 가져오다 그거 바디타올 제공 이집트 아랍 스럽 공간 웰컴 티 시원 매실 공간 마당 바라보다 넘다 예쁘다 물고기 따다 그냥 수중 식물 키우다 어항 새 스태프 님 왈 원래 새 엄청많 사장 님 휴가 데리다 휴가 새 데리다 넘다 궁금 사장 님 새 아쉽다 마당 거울 찰칵 아기자기 예쁘다 꾸미다 마당 가격대 저렴 별로 걱정 넘다 넘다 괜찮다 반하다 카페 공간 취향저격 무채색 올 화이트 인테리어 색감 인테리어 좋아하다 취향 저격 공간 따로 음료 먹다 중간 들리다 들어오다 카페 손 님 꽤 꼭 한옥스테 넘다 벽 스럽 색감 나무 조형물 서촌만 여유 롭 느끼다 나그네 짐 놔두다 촌 구경 촌 한옥스테 나그네 장점 성비 최고 훌륭 공간 경복궁역 근처 교통 편리 주변 놀다 거리 먹거리 단점 실 독 채 원하다 넓직 한옥 방해 여유 롭 즐기다 호캉스 충분히 만족 관광객 모드 경복궁 삼청동 한옥 마을 청와대 통인 시장 바퀴 돌아보다 여행 촌 여행기 서울여행 국내여행 한옥스테이 나그네하우스 서촌한옥 서울감성숙소\">]\n",
            "[1388, <tomotopy.Document with words=\"저번 리스트 꽤 인기 내치다 김 동쪽 서쪽 남쪽 골 고루 몸 장마철 집안 찾다 여행 기분 서쪽 동쪽 남쪽 군데 아쉽다 얄짤 없이 성인 아기 포함 짤리다 삭제 따로 부지런히 다니다 정원 넉넉 독채펜션 가족 미래 가족 구성원 늘리다 서쪽 동쪽 남쪽 나누다 찾아보다 모든 공식 가져오다 되게 찜해놨던 동쪽 비수기 변함없다 저렴 인테리어 맘 꼭 못 데리다 남편 기회 오후 먼저 찾다 그리니제주 지나다 댓글 소개 연가 정말 따뜻 예쁘다 요즘 카라 반 열심히 찾아보다 넘다 카라반 발견 커서 다르다 확인 폴개우영 올해 찼 여행 계획 짜다 활용 버전 첨부\">]\n",
            "[1396, <tomotopy.Document with words=\"여행 계획 통영루프탑파티 북신로 주차 건물 여러 혹시나 주차 공간 부족 주차 공간 걱정 궁전 빌딩 예식장 건물 건물 들어오다 왠지 올드 스쿨 레트로 느끼다 엘리베이터 엘베 운행 손 글귀 시켜준다구욧 화면 핸드폰 번호 연락 숙박 여러 사항 사장 님 친절 귀찮다 내색 없이 알리다 극진 환대 맞다 투숙객 기분 순간 짜다 도착 오후 석식 깨끗 정돈 모습 칸쿤 타코 타코 전문점 거듭나다 통영루프탑파티 아래층 타코 음식점 투숙객 인기 실제로 석식 타코 꽤 맛있다 석시 새우 가득 현재 거리 맞추다 석식 운영 수칙 지키다 계속 성시경 공간 가득 채우다 정말 감미 롭 살짝 음질 콘서트 여행 짜다 잔 메인 통영루프탑파티 자랑 루프탑이에 춥다 겨울 제외 즐기다 루프탑 아마 계절 피크 거리 준수 석식 나무 조명 하늘 뻥 뚫리다 추억 멋지다 공간 정돈 깔끔 조명 급 실내 정돈 바닥 벽 깔끔 느끼다 사이트 청결 관련 욕 개개인 차이 사장 님 계속 리모델링 진행 계시다 벽 타일 누수 계속 보수 거실 공간 투숙객 휴식 공간 높이 매달리다 샹들리에 돋다 아무쪼 록 투숙객 처음 느끼다 괜찮다 잔 캔 깔끔 정돈 이불 뽀송 건조 불편 수건 인원수 맞다 챙기다 샴푸 바디워 린스 고 헤어드라 기본 비치다 무겁다 다니다 필요 마찬가지 예쁘다 켜다 캔 붙다 샹들리에 조명 자극 통영루프탑파티 실내 루프탑 석식 진행 석식 진행 참고 항상 여행 투숙객 여행 이야기 인생 이야기 나누다 추억 쌓다 통영루프탑파티\">]\n",
            "[1445, <tomotopy.Document with words=\"완연 가을날 지속 요즘 지난주 따듯 빛 전라도 여행 정말 힐링 아름답다 소개 공유 마음 여행 시작 바람꽃 둘러보다 아쉽다 마음 거리 거리 다녀오다 전라도 여행 프롤로그 간단 자세 이야기 서두르다 포스 팅 코드 아래 절약 코드 아래 절약 부족 담다 완성 동영상 여행 아직 완전히 시작 여행 시작 요즘 출장 촬영 글 찍다 다니다 정신 넘다 피곤 요즘 체력 돌아다니다 질리다 담 찍다 부지런히 여행사진 스냅 마이마이 아무래도 빨리 올라가다 실시간 스냅 여행 이야기 궁금 먼저\">]\n",
            "[1452, <tomotopy.Document with words=\"다녀오다 소개 돈 후기 요즘 호캉 스다 펜캉스 잇다 촌캉 스다 유행 어렵다 청도에어비앤비 하우스테이 유유자적 얻다 꿀팁 어플 먼저 유무 확인 카카오톡 채팅 빠르다 날짜 안채 금액 가깝다 갑자기 꼬불꼬불 논밭 지나다 유유자적 도착 입구 입구 옆 공터 절대 주차 유유자적 마주 공터 주차장 근처 아무리 마침 컬러링 잊다 열다 들어오다 사장 님 찾다 헤매다 파랗다 하늘 예쁘다 사장 님 부재 잊히다 유유자적 들어오다 사랑채 들어가다 안채 안채 넓다 들어가다 통로 라운지 이미 외관 반하다 버리다 시작 마음 쏙들 사장 님 들어오다 에어컨 써큘레이터 틀다 사장 님 커피 머신 캡슐 알아차리다 얘기 침대 침실 티비 커서 마음 채널 괴롭다 라운지 돌아오다 그릴 그릇 출신 못 이미 넉 정수기 너무너무 세면대 샤워실 씩 편하다 여러 빛 채 갑자기 사우나 유유자적 캡쳐해 물품 캡슐 커피 꼭 확인 조그맣다 마당 냥이 맛있다 먹다 유유자적 후기 친구 여행 손색없다 재 의사\">]\n",
            "[1470, <tomotopy.Document with words=\"빌딩 숲 두르다 쌓이다 답답 벗어나다 회사 둘러싸다 다양 갑갑 답답 벗어나다 힐링 찾다 지평선 너머 시야 방해 온전 히 느끼다 주변 바다 찾다 나라 바다 끼다 대표 관광지 오늘 다녀오다 시작 오늘 여행 관련 이야기 시작 여행 계획 코스 일정 잡다 먼저 해결 여행 스타일 중요 여행지 누리다 먹다 체험 선호 중요 소개 인생 괜찮다 감히 이야기 정말 괜찮다 특히 협찬 제공 돈 산 진행 컨텐츠 참고 끝 한집 번호 선택 기본 타입 나뉘다 타입 다양 나뉘다 씩 존재 총 대부분 투숙객 자동차 주차 공간 제대로 갖추다 궁금 터 주차공간 투숙객 충분히 수용 참고 타입 총 나뉘다 나뉘다 본격 매력 하나하나 디테일 살펴보다 앞서다 동영상 전체 살펴보다 정말 다양 사용 공간 청결 중요 선택 들어오다 순간 첫인상 전체 인테리어 사장 님 직접 작성 손 편지 다르다 인테리어 외형 모던 반전 느끼다 한옥 매력 느끼다 아름다움 느끼다 전체 인테리어 노출 콘크리트 원목 롭 매칭 공간 살피다 단층 불구 상당히 높다 층고 느끼다 박공 지붕 건축 상당히 아름 균형 미 느끼다 침대 정말 제대로 힐링 휴식 취하다 푹신푹신 매트리스 포근 포근 침구 류 배게 이러 준하다 서비스 느끼다 느 잠 침대 상당히 중요 정말 편하다 쉬다 침구 류 제공 전체 분위기 전혀 다르다 분위기 느끼다 장점 요즘 선택 팬션 특유 느끼다 분위기 분위기 느끼다 낮 밤 매력 콘크리트 페인트 칠하다 상당히 차갑다 전달 은은 불빛 원목 전체 따뜻 원목 테이블 옆 실루엣 비추다 눈치 채다 하이라이트 소형 히노끼 탕 히노끼탕 들어가다 공간 넉넉 사이즈 사이즈 충분히 들어가다 사이즈 혹시나 샤워 공간 샤워 샤워실 공간 따로 갖추다 히노끼탕 공간 전체 디테일 들어가다 어떠 살펴보다 침대 침구 류 원목 히노끼탕 갖추다 편의 시설 상당히 갖추다 재생 누르다 음악 깨끗 청정기 다이슨 드라이 기기 연결 케이블 전자레인지 커피포트 모기기피 커피 티 종류 냉장고 기본 제공 아침 간단 먹다 다르다 취사 유일 취사 테이크아웃 기본 도구 갖추다 확실히 투숙객 사장 님 하나하나 충분히 아마 검색 리뷰 유명 계기 비바문 쇼핑몰 운영 인플루언서 올리다 이후 여행 계획 잡다 꽤 유명 다르다 인테리어 샤워실 어메니티 차이 기본 비욘드 화장품 아베 에이솝 차등 수건 고급 고급 수건 요즘 시스템 발달 바쁘다 현대인 원하다 드라마 예능 아무 시스템 발달 정말 다양 생겨나다 그중 나라 넷플릭스 유명 넷플릭스 아이디 들어가다 자체 로그인 넷플릭스 시청 편의 시설 갖추다 플레이스테이션 이거 정말 남자 환장 커플 단위 부부 단위 놀다 친구 남자 친구 플레이스테이션 즐기다 플레이스테이션 어딨다 본격 즐기다 모습 하이라이트 히노끼탕 들어가다 히노끼탕 들어가다 피로 날리다 릴렉스 따뜻 몸 티 전체 다운 저녁 밖 해결 옆 봉포항 활어 센터 테이크아웃 옆 활어회센터 식당 테이크 아웃 날 친구 맞이 깜짝 생일파뤼 매트리스 시작 침대 침구 류 전체 정말 편안 날 파티 불구 편안 침대 꿀 잠자다 냉장고 들어가다 사용 돈 지불 시스템 냉장고 무료 다양 음료 옆 시리얼 쿠키 전날 먹다 아침 간단 끼니 해결 섬세 칭찬 너무나 마음 처음 날 불가 차선책 기본 너무나 괜찮다 차근차근 느끼다 하늘 따다 수준 자체 막히다 버리다 크헝 금액 크헝 오늘 소개 삼박 한집 궁금 참고 여행 오늘 소개 잡다\">]\n",
            "[1492, <tomotopy.Document with words=\"그랜드 밀리다 스다 후기 글 퐈니 퐈니니 여행 그랜드 밀리다 스다 소개 깔끔 시설 저렴 자랑 성비 한라산 백록담 여신 설문대할망 얼굴 최고 도민 선택 한라산 그랜드밀리 언스 대륜동 전용 주차장 혁신도시 중심 전용 주차 공간 넉넉 편 뚜벅 여행자 공항 게이트 버스 탑승 국세 공무원 정류장 하차 신축 건물 외관 깔끔 로비 프론트 옆 편의점 아기자기 꾸미다 돋다 그랜드밀리언스 조식 마감 지하 기념 그린 트리 레스토랑 다양 메뉴 깔끔 다음날 갈치조림 맛 조식 따로 핑크 벽 라탄의 포토존 컷 성비 로비 인조 잔디 돌하르방 테이블 의자 넉넉 찍다 포토존 전자레인지 정수기 편의 시설 스탠다드 디 럭스 타입 더블 트윈 온돌 패밀리 혼 커플 여행 가족 여행 한라뷰 한라산뷰 차이 천 무조건 선택 스탠다드 트윈 금액 세금 포함 싱글 베드 인치 막 넓다 럭셔 리 호캉 스다 즐기다 살짝 부족 성비 적합 어메니티 커피포트 커피 잔 믹스 커피 생수 슬리퍼 헤어드라 옷걸이 휴지 앙코르 라마다뷰 고개 왼쪽 돌리다 바다 창문 활짝 열다 왼쪽 고개 재껴 그랜드밀리 언스 아늑 조용 분위기 원하다 욕실 깔끔 깔끔 어메니티 샴푸 컨디셔 바디워 비누 비치 개인 칫솔 치약 폼 클렌징 따로 챙기다 침구 뽀송뽀송 푹신 일본식 크기 넓다 깔끔 조용 휴게실 실내 정원 루프 옥상 정원 구경 윽 옥상 정원 날씨 바다 한라산 휴게실 실내 정원 모습 중심 접근 깔끔 성비 찾다 찾다 그랜드 밀리다 스다 후기 참고 제주서귀포감성숙소 서귀포감성숙소 제주감성숙소 그랜드밀리언스호텔 제주팸투어 참가 주관 작성 후기\">]\n",
            "[1527, <tomotopy.Document with words=\"여름 휴가 다녀오다 벌써 하루 휴무 비행기 값 아깝다 렌트 비싸다 다녀오다 워낙 여행 최근 유명 찾아보다 이미 마감 네이버 찾아보다 찝찝 생기다 침구 류 시설 후져서 돈 오라 싫다 생기다 기본 열불 양심 리스 네이버 페이지 뒤지다 마음 찾다 스테이어 스다 도착 날 흐리다 다음날 아침 날씨 찍다 시설 침구 류 깔끔 개별 바베큐 찾다 스테이어스 나름 못 스파 히 고려 스테이어 스다 스파 욕조 여행 스파 피 첫날 한옥 스테이어스 무 넓다 시설 깔끔 집기 침구 류 깔끔 푹신 무늬 세탁 찝찝 생기다 침구 옷 걸다 옷걸이 욕조 욕조 옆 수건 따로 챙기다 비누 스펀지 치약 쉬다 입욕 사오려다 까맣다 잊다 입욕 따로 물놀이 피곤 스파 스테이어 스다 강문해변 가깝다 도보 근처 가든 맛 카페 스테이어 스다 인덕션 냉장고 커피포트 전자레인지 밥솥 냄비 접시 어지간히 다양 기본 양념장 얘기 쌈장 따로 깨다 끄다 살짝 하수구 샤워 부스 빠지다 단점 수압 약하다 여행 계획 바베큐 해먹다 스테이어 스다 개별 바베큐 욕조 옆 창문 열다 테라스 이어지다 스테이어 스다 숯불 바베큐 자이글 곱다 곱다 삼겹살 땀 뻘 뻘 굽다 돼지 구워주 비빔 면 빠지다 굽다 찍다 배부르다 먹다 빡새 깔끔 시설 편하다 개별 바베큐 스파 놀다 찾다 광고\">]\n",
            "[1549, <tomotopy.Document with words=\"머무르다 라피아 스타 꼭 다행히 머물다 날 결정 먼저 들어가다 오른쪽 안방 바깥 야외 자쿠지 수풀 즐기다 근데 자쿠지 컨디션 저녁 뻔하다 요기 거실 부엌 아쉽다 식탁 밖 즐기다 공간 개별 독 채 다르다 거리 편하다 원래 공간 바베큐 금액 저렴 편 가까이 하나로마트 입덧 불량 증상 꼭 제일 공간 다락 저녁 온돌 틀다 딩굴다 거리 책 신랑 밑 야구 공간 로망 굳이 신랑 맨날 티비 소리 들리다 독채펜션 여행 씩 꼭 들리다 라피아 뿜뿜 가깝다 자쿠지 민망 찍다 자체 예쁘다 찍다 프다 다녀오다 근처 맛 편리 편리 잡다 작년 라라제 근데 하늘 따다 개인 신라호텔 다가가다 너무너무 끼리 널찍 떨어지다 넓다 넓다 부엌 넓다 넓다 기억 식탁 커서 찍다 자쿠지 비용 요기 무료 일본 자쿠지 고급 스럽 주변 막 마지막 라피아 카페 만나다 키 체크인 들어가다 웰컴 드링크 잔 맛나다 제주숙소 제주도에어비앤비 제주도숙소 제주도독채펜션 제주도펜션 제주도라피아하우스 협재숙소 협재펜션 제주여행 제주도여행 독채펜션 제주도펜션후기 라피아하우스\">]\n",
            "[1550, <tomotopy.Document with words=\"콧 바람 쐬다 번개 여행 떠나다 숙박 후기 하루 급하다 없이 찾다 나름 만족 남춘 디럭스 놀다 쿠폰 적용 건물 외관 되게 돋다 생기다 조식 먹다 별관 이어지다 대로변 시끄럽다 걱정 소리 들리다 밤 이후 외부인 출입 출입구 잠기다 외출 호실 키 지참 필수 어프 코로나 인하다 투숙객 전원 신분증 지참 필수 입성 윗층 계시다 내려오다 휴게실 찍다 건물 외관 휴게실 우드 화이트 톤 맞추다 인테리어 굉장히 아늑 따스 겨울 예쁘다 공간 미끄럼틀 디럭스 패밀리 제외 모든 마감 아쉽다 마음 뒤 디럭스룸 전날 마땅히 없이 배정 고층 선호 기분 입성 날 열리다 우연히 얼핏 구조 보아하니 대부분 디럭스 디럭스 침대 더블 베드 싱글 베드 총 마찬가지 우드 화이트 톤 아늑 분위기 침대 되게 푹신푹신 침구 류 얼룩덜룩 자국 머리카락 올 없이 전체 컨디션 깨끗 깔끔 인상 에어컨 빵빵 틀다 더블베드 뒹굴다 뒹굴다 처음 이불 무겁다 막상 덮다 감싸다 스타 임명 땅 땅 땅 개인 의자 편하다 납치 부들부들 자꾸 재질 오래 앉다 엉덩이 허리 무리 마찬가지 깨끗 수건 넉넉 헤이 아쉽다 부분 욕조 세면대 아담 사이즈 낮다 고층 사용 계속 온도 변하다 분명 방향 틀어놨는 급 찬물 매직 수압 약하다 옵션 날 아침 일어나다 샤워 틀어놨는 내내 찬물 프론트 보일러 꺼지다 부분 의아 보일러 꺼지다 불 끄다 침대 눕다 핸드폰 자꾸 신발장 전등 켜지다 꺼지다 쓰이다 다르다 새벽 자꾸 불 켜다 잠 설치다 끝 주차공간 넉넉 주차 시내 주변 야식 배달 식당 맛 꽤 산책 산책로 걷다 제멋대로 전등 불편 하루 저렴 성비 괜찮다 헤이춘천 춘천호텔 남춘천호텔 춘천숙소 감성숙소 강원도숙소 강원도감성숙소 춘천여행\">]\n",
            "[1555, <tomotopy.Document with words=\"다녀오다 동쪽 여행자 게스트하우스 정말 자가 필요 버스 뚜벅이 다녀오다 택시 다운 선택 이유 가봣 틈틈이 구경햇 정말 인연 히 사장 님 마인드 운영 방식 파티 부담 스럽 어울리다 분위기 막 붓다 분위기 특히 파티 소 규모 진행 더욱 의견 듣다 즐기다 사장 님 친절 밤 정말 어둡다 무섭다 인기 이유 아기자기 시설 깔끔 인테리어 청결 상태 요런 공간 맘 음 크리스마스 여행 정말 자주 다니다 담번 고프다 공용 거실 남자 파티 밤 진행 분위기 파티 스텝 분이 정말 효리네민박 분위기 여성 실 묶다 언니 넓다 충분히 캐리어 당연히 들어가다 침대 전기 알맞다 온도 조절 잇다 청결 상태 머리카락 수건 칫솔 제공 샴푸 바디워 린스 챙기다 솜 머리 끈 섬세 드라이 고데기 모든 갖추다 깔끔 여성 실 실 실 요렇게 총 도미토 리 실 여유 롭 사용 샴푸 바디워 퀄리 티 아베 샴푸 저녁 시작 파티 재밌다 먹다 먹다 포틀럭 파티 간단 과자 맥주 치킨 막 칼국수 이거 저거 나누다 먹다 배불럿 여행 돌 돌 말리다 힘들다 이날 파티 끝나다 나가다 깜깜 하늘 쏟아지다 구경 맛 사장 님 찍다 네이버 금방 금방 실 미리 예매 담\">]\n",
            "[1565, <tomotopy.Document with words=\"투어 후기 여행기 올리다 지나다 또다시 여행기 올리다 결심 여러 이유 그중 컸다 추억 콕 박히다 고등어 민박 택하다 이유 동생 예쁘다 좋아하다 동생 파리 엄청나다 만족감 본투 가이드 한참 전전 극성 마음 마감 자리 소득 괜찮다 아직 부담 그냥 현실 타협 적당 찾다 적당 고르다 썩 내키다 후보지 고민 드디어 찾다 고등어 민박 하루 숙박 지불 비용 현재 분류 요금 다르다 뚜벅이 최적 만하 조식 바라다 기분 짐 배달 서비스 저런 걱정 사장 님 친절 설명 시름 덜 도착 연락 순간 마주치다 맨 끝 호실 배정 고등어 민박 호수 모든 크기 구조 걱정 들어서다 바닷가 담기다 창문 좋아서 소리 지르다 사장 님 멀다 혼나다 날 일정 짐 해변 눈 녹다 사라지다 예쁘다 놔두다 색감 조합 완벽 소품 티 깔끔 욕실 어메니티 정말 묘 거부감 예쁘다 외관 막상 침구 눅눅 먼지 가득 침구 극도 예민 냄새나다 자국 식기 류 컵 고등어 민박 타파 침실 공간 화려 머리카락 먼지 톨 찾아보다 없이 깔끔 침대 크기 부족 잠자다 버릇 고약 곤란 거실 내려오다 고등어 민박 취식 간단 먹다 식기 류 컵 커피포트 티백 커피 사장 님 센스 엿보이다 비치 거울 들여다보다 반대편 바다 비치다 난간 올라가다 바다 배경 예쁘다 고등어 민박 설치 사장 님 고르다 음악 계속 흐르다 음향 조절 원하다 끌다 듣다 바다 하염없다 바라다보다 그냥 이대로 멈추다 동생 고양이 심경 이해 이해 귀엽다 다음날 조식 아침 문 예쁘다 피크닉 바구니 담기다 전달 원래 임시 진행 아래 카페 조식 진행 피크닉 바구니 담기다 조식 인기 뜨겁다 방식 운영 충분 간단 요기 나가다 구경 점심 푸짐 먹다 직접 요거트 오렌지 주스 샌드위치 간단 과일 영양소 밸런스 뛰어나다 사장 님 엇갈리다 퇴실 뵙다 문자 나누다 투숙 내내 멀다 가깝다 거리 부족 없이 친절 챙기다 사장 님 감사 마음 근처 대단히 유명 맛 복작복작 관광지 접근 떨어지다 가깝다 편의점 꽤 걷다 교통 여건 분명 감안 고등어 민박 마을 고즈넉 분위기 펼쳐지다 바다 낮다 깔리다 구름 때쯤 펼쳐지다 핑크 빛 하늘 예쁘다 쾌적 시설 친절 사장 님 서비스 덕분 공석 꼭 고등어 민박 제주감성숙소 고등어민박 제주도숙소추천\">]\n",
            "[1576, <tomotopy.Document with words=\"운영 몽테 커플 올해 투데이 몽쉘 테이 투데이 숫자 차이 비슷 수준 투데이 증가 비교 몽쉘 테이 압도 유입 알고리즘 아직 의문 테이 보상 여행 제공 여행 비용 노동력 꽤 테이 여행 기획 서프라이즈 이벤트 이벤트 프로포즈 테이 기획 여행 프로포즈 꽤 중요 분위기 분위기 검색 찰나 적합 찾다 시내 멀다 골목길 사이 들어서다 마당 공간 마당 프로 활용 맑다 날 조명 켜다 자전거 잦아들다 마당 한잔 몽쉘 독서 테이 못다 프라이 빗 마당 즐기다 거실 공간 마당 내다보다 힐링 염두 공간 배치 전반 나무 화이트 이루어지다 공간 힐링 기분 느끼다 취사 식기 냉장고 렌지 갖추다 포장 먹다 렌지 데우다 간단 먹다 실제로 포장 식기 먹다 다양 식기 보유 나름 플레이 팅 거실 프로젝터 설치 가이드 라인 사용 연결 속도 떨어지다 와이파이 기기 연결 인터넷 넷플릭스 시청 프로포즈 제작 테이 유용 사용 프로젝터 십 활용 연결 따로 정신 건강 이롭다 침실 더블 침대 이루어지다 침대 커플 가족 단위 여행객 구조 침대 편하다 숙면 깔끔 편하다 사용 편 가격대 만족 프로포즈 이벤트 커플 잊다 추억 아마도 커플 생기다 안동숙소 스테이옥정 프로포즈 안동여행 안동커플여행 안동감성숙소\">]\n",
            "[1579, <tomotopy.Document with words=\"엘드 윈도우 일상 파트너 지니 소개 서쪽 예쁘다 공유 째 재 적극 머무르다 서쪽 여행 서북 편리 정말 예쁘다 오후 밤 당일 날 미리 문자 확인 알리다 더블 트윈 나뉘다 베드 차이 작년 트윈 올해 더블 트윈룸때 베드 합치다 사용 편하다 더블 편하다 트윈 침대 합치다 넓다 침대 침대 사이 중간 몸 자꾸 빠지다 불편 따로 친구 여행 부부 가족 끼리 개인 편하다 더블 더블룸 침대 퀸 킹 사이즈 정말 넓다 트윈 블루 이유 아무래도 침대 짐 놓아두다 공간 넓다 더블 트윈 공유 컨디션 정말 깔끔 청결 베드 이불 청결 위생 정말 만점 욕실 타일 하나하나 새 하얗다 곰팡이 없이 깔끔 사장 님 부부 히 느끼다 어메니티 제공 샴푸 린스 바디워 수건 뽀송 넉넉 히 제공 밤 새다 수건 교체 정말 넓다 욕실 공간 나뉘다 편리 공용 시설 어둑 일찍 돌아오다 섭취 공용 시설 편리 편하다 야식 즐기다 조식 서비스 아침 사장 님 부부 조식 서비스 제공 여느 조식 훌륭 퀄리티 맛 감사 팬케이크 꿀 얻다 과일 토핑 크림 제공 꿀 꾸르 맛 쥬스 커피 감동 선택 천사 견 골드 리트리버 마스코트 공시 좋아하다 애교 방방 뛰다 공놀이 물다 귀여움 흐뭇 힐링 공심이 아침 문 앉다 기다리다 놀다 강아지 정말 추억 네이버 후기 근처 만하다 공유 근처 미쁜제 소문나다 유명 빵집 들어가다 저녁 먹다 흑 돼지 맛 돈 와인 흑 돼지 공유 컨디션 청결 위생 정말 최고 어메니티 깔끔 예쁘다 맛있다 조식 서비스 자체 시골 분위기 성비 최고 현금영수증 사업자 발행 리트리버 공시 서쪽 여행 서북 아쉽다 아쉽다 강아지 무섭다 물다 아쉽다 거울 평점 네이버 리뷰 평균 만족 혹 다음번 여행 기회 머무르다 여러 알아보다 바라다 제주서귀포숙소 제주서쪽숙소 제주감성숙소 제주예쁜숙소 제주공유게스트하우스 주차 공유 전용 주차장 코로나 바이러스 인하다 거리 실천 여행 마스크 착용 손소독 필수 거리 건강 시민 갖추다\">]\n",
            "[1602, <tomotopy.Document with words=\"코시국 여행 풍경 바뀌다 붐비다 가족 끼리 오붓 보내다 호캉스 리조트 빌리다 힐링 일상 보내다 태교 여행 다양 후보 군 남편 고민 없이 선택 쏠다 비치 리조트 오션뷰 부대시설 한곳 모이다 임산부 부담 작년 결혼 기념일 만족 세 가족 다녀오다 코발트 빛 바다 그리스 산토리 니 떠오르다 솔 비치 리조트 해외 여행 쉽다 하늘 따다 감사 부모 님 소노호텔앤 리조트 회원권 여름 상반기 미리 불가 올해 소노호텔앤 리조트 상반기 작년 숙박 여행 일정 이후 잡다 터 하반기 지나다 끝 마지막 원하다 스다 위트 취사 쏠다 비치 리조트 프라이 빗 비치 매진 넘어가다 소노호텔앤 리조트 미리 일정 진행 바라다 작년 테라스 쏠다 비치 스다 위트 취사 금요일 토요일 총 객실료 금요일 저렴 비수기 배정 선착순 진행 쯤 도착 고층 배정 연휴 오후 오후 오후 쏠다 비치 스다 위트 테라스 취사 담아봤어 메인 광장 프라이 빗 비치 오션뷰 한눈 감상 솔 비치 스다 위트 테라스 취사 침실 온돌 거실 부엌 전기 밥솥 전기 포트 냉장고 식기 류 비치 해먹다 따로 챙기다 거실 침실 안방 총 보디워시 샴푸 비누 비치 클렌징 제품 칫솔 치약 따로 챙기다 수건 부족 따로 채우다 부족 요청 넉넉 안방 침실 더블베드 비데 설치 침대 옆 테이블 드라이기 비치 원래 잠자리 바뀌다 잠 못 편 침대 어쩜 푹신 세상 꿀 잠자다 입구 온돌 테라스 연결 밖 나가다 테이블 의자 해먹 차광막 설치 테라스 겨울 기후 운영 작년 쏠다 비치 스다 위트 테라스 취사 날씨 춥다 테라스 활용 못 날 선선 분위기 저녁 술 먹다 해먹 눕다 추억 여행 친하다 친구 가족 새벽 즐겁다 보내다 솔 비치 테라스 계획 덥다 여름 추 테라스 태양열 충전 방식 첫째 날 불 들어오다 핸드폰 불빛 켜다 술 먹다 불편 프런트 근데 둘째 날 들어오다 흐리다 첫째 날 충전 제대로 꺼지다 새로 교체 테라스 특권 쏠다 비치 리조트 멋지다 전경 감상 하얗다 외벽 파란색 지붕 푸르다 바다 덕분 외국 멋지다 야경 밤하늘 반짝반짝 빛나다 무 감상 제대로 이러 특권 솔 비치 리조트 테라스 취사 선택 지중해 폭 그림 쏠다 비치 리조트 막 찍다 인생 샷 곳곳 포토존 부대시설 갖추다 특히 메인 광장 찍다 메인 광장 웨딩 찍다 부부 엄 로맨틱 괜히 설레다 쏠다 비치 리조트 웨딩 홀 결혼식 진행 낮 밤 예쁘다 터지다 솔 비치 리조트 밤 피곤 꼭 야경 끝내다 광장 포토존 엄청 짐 싣다 아예 포토 타임 따로 남편 꽤 고생 만족 스럽 추억 잔뜩 꼭 찍다 찍다 리조트 특권 편의 시설 식당 한곳 모이다 따로 마트 노래방 게임 존 당구장 탁구장 플레이 존 수제어묵 어묵 가게 뷔페 퓨전 레스토랑 카페 치킨 식당 다양 종류 쏠다 비치 하이라이트 오션뷰 수영장 오션 플레이 프라이 빗 비치 자세 지나다 참고 프라이 빗 비치다 밤 바다 산책 정말 솔 비치 리조트 이어지다 저녁 꼭 밤 산책 바라다 그림 풍경 쏠다 비치 리조트 만족 스럽 태교 여행 다녀오다 솔비치 무 찾다 강력\">]\n",
            "[1610, <tomotopy.Document with words=\"뉘엇뉘 시작 라운지 불빛 씩 시작 활짝 열다 창문 밖 흥겹다 음악 들리다 시작 밤 조명 어둡다 테이블 촛불 켜다 또는 이야기 편하다 즐기다 공간 즐기다 하이볼 비교 간편 칵테일 산토리 위스키 토닉워터 섞다 한라산 한라토닉 볼 좋아하다 얘기 하이볼 세계 정말 다양 취향 위스키 넣다 기본 잔 사용 종류 탄산수 얼음 넣다 방식 맛 천차만별 단순 정말 섬세 매력 볼 이것저것 최고 조합 찾다 점점 덥다 날씨 시원 하이볼 여름밤 즐기다 무 덥다 날 시원 칠링 화이트 와인 낮 잔 부담 없이 직접 계절 맞다 다양 내추럴 내추럴 와인 특성 소량 생산 무덥다 여름 다가오다 상큼 화이트 와인 로제와 들어가다 펫 스파클 링 내추럴 주로 동쪽 가족 숙박 숙박 공항 근처 함 숙박 해수욕장 라운지 바 숙박 커플 커플 제주조식 전용 여행 제주도뚜벅이여 버스 여행 스테이프롬제이 조용 바닷가 실 전용 전용 라운지 커피 내추럴 와인 위스키 볼 즐기다\">]\n",
            "[1635, <tomotopy.Document with words=\"여행블로거 장시간 어렵다 직면 여러 너무나 답답 훌쩍 추석 연휴 떠나다 막상 정부 이러다 한적 여행 떠나다 막상 떠나다 눈 띄다 정말 추석 연휴 관광객 몰리다 추석 끝나다 시점 부분 다니다 여행 떠나다 막 설레이다 아고다 코드 더욱 저렴 여행 바다 그립다 여행 가보 기억 올해 다니다 지나다 꺼내다 여행 마음 개월 기다리다 끝나다 도저히 쯤 다여와야 꼭 가족 여행 홀로 올해 돌아보다 계기 절실 막상 떠나다 그냥 잠 왠지 공간 문뜩 마이리얼 트리 국내 여행 항공권 렌트 스냅 촬영 이색 체험 뚜벅 투어 코스 존재 여행 얻다 알아보다 신라호텔 서머 롯데호텔 라마다제 등장 신라호텔 가족 여행 떠나다 이맘때 글램핑 아쉽다 알아보다 마이리얼트립 엄 카테고리 별로 얻다 직접 촬영 제공 피드 마리터 직접 다녀오다 품질 보증 존재 지역 서쪽 애 혀 재 동쪽 시내 공항 시내 으 지역 찾아보다 독채 스타일 돌담 럭셔 리 이색 찾다 돌담 어울리다 돌담 수세식 시설 아담 돌담 허름 요즘 개조 친화 깔끔 모던 함 세련 함 갖추다 소비자 제공 걱정 최 신식 시설 완비 불편 무조건 먹다 여행 조용 힐링 느끼다 가끔 소리 들리다 리조트 앉다 소리 단잠 덥다 맞이 다녀오다 유일 바쁘다 다녀오다 전해 다녀오다 분위기 다르다 요즘 비행기 표 정말 저렴 비행기 표 저렴 마이리얼트립 항공권 검색 추석 지나다 항공권 검색 이거 옆 도시 값 정말 저렴 비행기 실 놀랍다 국내 여행 도시 꼭 한번 다녀오다 올 여름 풍경 그립다 이거 글 공감 내용 올해 비행기 표 저렴 아고다 코드 일석이조 여행 마이리얼트립 렌트카 저렴 아예 모든 데리다 가족 여행 편 힐링 여행 한번 누리다 벗 곶자왈 모습 힐링 보장 아빠 아들 다니다 여행 지나다 아빠 아들 여행 꾸준 히 다녀오다 모든 다니다 유대 관계 비롯 여행 질 상당히 높다 히 실제로 가족 여행 편안 다니다 아빠 아들 여행 떠나다 힘들다 좋아하다 편 계속 찍다 가르치다 나중 본인 구도 찍다 실제로 늘 여행 찍다 서로 찍다 아들 꽤 찍다 아빠 아들 여행 추억 담기다 한번 감상 바라다 재빈이 아빠 여행 즐겁다 아직 못 여행 다니다 편 가족 넓다 편리 제주도서머 리조트 빌리다 연인 아무래도 보내다 마이리얼트립 고르다 바라다 이색 괜찮다 폭 너무나 넓다 다양 참고 마이리얼트립 전체 프로모션 한번 살펴보다 추석 당일 날 여행 어렵다 여행 힐링 누리다 다녀오다 비행기 표 저렴 전체 자세히 알아보다 클릭 업체 원고료 제공 작성\">]\n",
            "[1637, <tomotopy.Document with words=\"코시국 해외여행 쉽다 나가다 쉬다 없이 매달다 출국 가족 여행블로거 스톱 휴가 외국 나가다 국내 발길 돌리다 요즘 국내 여행 다양 형태 즐기다 호캉스 즐기다 일주 주인공 조용 마을 장기간 머물다 열다 인기 요런 유행 코시국 외출 편하다 장기간 지역 머물다 여행 일상 공존 여행 스타일 선호 그중 오늘 소개 근사 기분 계획 홈 다양 예쁘다 만나다 위홈 처음 위홈 국내 유일 외국인 합법 공유 숙박 서비스 외국인 모든 홈 숙박 시설 말씀 살이 선택 정말 다양 예쁘다 교통 편리 취향 맞추다 선택 터 홈 지하철역 반경 가깝다 거리 게스트하우스 독 채 파티 한옥 다양 만나다 정부 인증 더욱 믿음직 스럽 워낙 불법 업소 여성 장기간 투숙 조심 스럽 무섭다 부분 위홈 정부 인증 엄격 호스트 믿다 머물다 마음 놓이다 곳곳 한옥 종로 지역 회사 대학가 학생 제공 소개 역시 너무너무 인기 보안스테 경복궁역 출구 도보 거리 감동 보안스테이 여성 살이 여러 장점 갖추다 건물 카페 전시 공간 서점 프로젝트 공간 건물 보안스테이 운영 형태 다양 타입 역시 장점 부엌 공용 전용 위홈 선택 보안스테 유무 확인 외관 독특 느끼다 보안스테이 원래 여관 실제 여관 영업 외관 레트로 뚝 뚝 떨어지다 정주 김동리 문인 수많다 다녀가다 일시 거주지 예술 생산 플랫폼 미리 말씀 보안스테이 경복궁 여행 정말 교통 요지 역사 중심지 자리 잡다 그야말로 예술 특히 몇몇 경복궁 분위기 좋아하다 더욱 취 루프 테라스 서초 한옥 북악산 청와대 경복궁 즐기다 여행 꼭 스테이해야 찜해 역시 완벽 살이 전혀 불편 없이 간결 깔끔 절제 구조 색감 바탕 한국 대표 현대 예술가 디자이너 작품 부럽다 예쁨 자랑 찍다 모든 만족 스럽 개인 위홈 느끼다 모든 정부 인증 합법 머물다 메리트 일반 다르다 넘치다 이색 만나다 시국 시국 사업 출장 자가 격리 생기다 위홈 정부 지자체 인증 지역 보건소 협의 정식 허가 자가 격리 제공 정부 인증 합법 공유 숙박 호스트 인증 비상 평판 상세 제공 철저 믿다 숙박 생활 다양 장점 취향 맞다 다양 홈 현재 홈 이벤트 진행 자가 격리 자가 격리 필요 식품 쿠폰 증정 배달 민족 쿠폰 자가 격리 식품 제공 이왕 내국인 민박 운영 허용 유일 플랫폼 홈 살이 홈 바 위홈 공유숙박 서울숙소 감성숙소 게스트하우스 독채 서울숙박 합법숙소 숙박사이트 보안스테이 경복궁숙소\">]\n",
            "[1645, <tomotopy.Document with words=\"코로나 심하다 여름휴가 계획 맞다 무섭다 마찬가지 남편 날짜 확정 출근 대충 간만 서핑 신행 다녀오다 결정 요즘 핫하 특히 해변 쪽 폭증 다행 휴직 월말 즈음 근처 찾다 실 여행 중요 폭풍 검색 마음 놓치다 아쉽다 마음 공유 내년 코로나 제발 해외 쪽 롯데리조트속초 속초라마다 속초썬라이 즈 초초성수기 이미 꽉 어중간 바 감성숙소 양양감성숙소 폭풍서칭 빈방 마음 스테이비욘드 그냥 인스타피드 넓다 정원 드넓다 하늘 힐링 자체 맘 편 히 쉬다 전용 신혼 부부 커플 놓치다 아쉽다 담 꼭 터 겨울 넘다 째 탐나다 월화여인숙 공간 배경 웹 드라마 솔깃 유튜브 찾아보다 타이틀 어울리다 씨엔블루 왔다갔다 실 울 나라 빠르다 느끼다 여행 진심 해변 옆 가족 여행 세 째 삼박한집 건축 특별상 최소 히노끼탕 핵심 내년 소 나뉘다 사이즈 별로 가족 연인 다양 머무르다 호사 누리다 삶 활력 찾다 다음기회에 마지막 역시 르네블루바이워커힐 송지호 해변 오션뷰 으 외지 히 바다멍 때리다 하루 종일 담 꼭 가깝다 자주 고르다 넘다 어렵다 찾다 좋아하다 코로나 잠잠 맘 편 히 여행 다니다 작년 여름 휴가 사진첩 기억 꺼내다 비치 숲뷰 예쁘다 스타 다녀오다 리뷰 올해 휴가 무사히 다녀오다 바라다\">]\n",
            "[1680, <tomotopy.Document with words=\"드디어 후기 머쓱 게으르다 따다 모토 소희 졸업 여행 처움이 소희 당일 도착 찍다 순서 배치해놨다 후보 고민 고르다 만족 스럽 이야기 총 총 기장군 기장읍 전화번호 확실히 기장 외곽 편하다 외곽 한적 짱 말씀 바베큐 다녀오다 꽤 건물 입구 바베큐 장이 밤 사장 님 강아지 고영희 키우다 못 졸귀탱 계단 올라오다 귀엽다 마주 지나치다 올라오다 르 선택 종류 패밀리 스탠다드 욕조 크기 모양 씩 다르다 컾플 스탠다드 결정 탕 이미 만족 스럽 움 스탠다드 가족 남녀 혼숙 또는 불가 혼숙 직계 가족 제외 성인 남녀 혼숙 비치 물품 수퍼 킹 사이즈 베드 눕다 꽤 넓다 넉넉 거실 모니터 욕실 재생 하이라이트 쿡 인덕션 식기 도구 종이컵 비치 사이즈 그릇 제외 종이 그릇 와인 잔 조립 식 플라스틱 후기 와인 잔 챙기다 소형 프라이팬 냄비 적당 냄비갯수 헤어드라 푸다 린스 바디워 수건 식용유 설탕 소금 후추 간장 건물 바베큐장 공동 바베큐 사용 별도 금액 현장 치약 칫솔 제공 별도 침구 비용 발생 세트 실시간 오후 오후 퇴 실시간 공용 바베큐 시설 투숙객 공간 밤 운영 건물 구역 금연 구역 건물 흡연 손님 숙박 불가 건물 불꽃놀이 사용 금하다 캠핑 화로 개인 반입 불가 욕조 주의 입욕 사용 권장 펄 반짝이다 성분 포함 입욕 사용 불가 수건 침구 붙다 세탁 제거 어려움 반입 불가 식 재료 또는 불가 방식 까다롭다 먹다 꽤 해산물 돈까스 겟 치즈스틱 기름 튀기다 생선 손질 매운탕 식 재료 오염 류 새우 조개 류 실외 공간 제공 바베큐 그리다 서비스 조각 스테이크 조각 바베큐 그리다 파스타 감바스 소량 기름 사용 공용 공간 가스 버너 대여 튀김 류 그루브스테이 불가 사용 주의 사항 그만큼 마음 스탠다드 구조 면적 옵션 사항 임의 배정 알리다 옵션 사항 제외 비치 소품 또는 배치 다르다 참고 모토 주의 사항 배치 관련 비치 정확히 나름 글 침대 조구 창문 취저 탕 욕조 욕실 안썻 네유 애기 동반 부부 사용 꽤 널찍 웰컴 티 이롷 우려먹다 찻잔 세트 저녁 먹다 패다 늦다 도착 실내 못 찍다 쏘다 아쉽다 부엌 이뻤눈뎅 상당히 편하다 의자 앉다 꽤 소히 재료 손질 정말 친구 천사 싱크대 진짜루 취향 나중 인테리어 마음 공간 비치 가스 그리다 사용법 양념 류 옮기다 불다 쌈장 빼다 싹 식기 류 종이컵 와인 잔 비치 예쁘다 찍다 뒤 스윗 아무 조용 넘다 여행 얘기 놀래다 소리 듣다 깨다 이쁘다 생기다 소희 잠들다 혼사 잠들다 티비 능하다 다음날 아침 일찍 일어나다 준비하긩 새벽 일어나다 입욕 챙기다 탈탈 넣다 헤헤 어제 못 샴페인 챙기다 과일 플레이 팅 총 총 정말 배경 전날 아침 흐리다 아쉽다 샴페인 못 혀 버리다 그냥 싸다 맛있다 먹다 샴페인 타임 랩 스다 켜다 셀카찍 숴 놀다 감상 조곰 자랑하겠슴 쨍쨍 그래두 다음날 놀다 계획 잡아놨는 취소 다행 찌다 너무너무 만족 스럽 기장 나중 힐링 기장 한적 조용 찾다 정말 추 마운틴뷰 꽤 만족 스럽 꺼 인생 샷 아쉽다 찍다 기장 그루브스테 숙박 후기 끝\">]\n",
            "[1721, <tomotopy.Document with words=\"요즘 직성 풀리다 다녀오다 원래 올해 주간 스페인 여행 계획했는뎋 스페인 시국 시국 국내 여행 계획 바꾸다 에어비엔비 검색 시호 게스트하우스 왔습니 갬 묻어나다 찾다 끼 전달 역시 평범 넘어가다 우여곡절 그거 후기 탄 썰 탄 놀랍다 오늘 시호 대나무 더블 부부 후기 부부 굳이 대나무 더블 여성 전용 도미토리룸 지하 커플 손님 샤워실 사용 동의 커플 합니 여성 손님 샤워실 파우더 기념 여행 지라 남편 그냥 예약했어옄 비싸다 조건 바다 갬성숙소 완료 선택 여지 시호일 강릉역 가깝다 돌아가다 날 짐 맡기다 나가다 들르다 짐 챙기다 결정 간과 네이버 오르막길 체험 강도 표시 굉장히 조용 주택가 아침 저녁 항상 조용 분위기 하단 교차로 쭉 쭉 오르막 넘다 쉬 특히 여행 렌트 버스 코로나 시내 버스 운행 버정 가깝다 걸어가다 도착 짜증 폭발 강릉역 비교 가깝다 편 오르막 똑같다 가로 찍다 시호 조용 주택가 건뎅 이틀 옆 인도 씩 동시 지나가다 일본어 스럽 이름 마음 걸리다 막상 게하 도착 기운 별로 시호일 입구 인스타갬 낭낭 요구 조건 명확 맞다 숙소였습니 호일 오후 조 식 제공 섭취 당연히 금연 구역 소 밤 이후 밤 입시 권장 샤워 실 테라스 시호일 짜리 건물 오르막 건물 골목 지하 실 도미토리 대나무 더블 조식 먹다 커뮤니티 공간 실 미토 아늑 더블룸 테라스 규모 조용 에어비엔 쿠폰 호일 후기 열심히 찾아보다 칭찬 일색 궁금 꼭 남편 대나무 더블 아늑 더블룸 침대 하층 싫어하다 어쩌다 없이 대나무더블룸 리셉션 남자 테라스 복도 지나다 야외 나가다 건물 들어가다 단점 계단 필요 나가다 부분 불편 느끼다 지하 싫다 묘 눅눅 단점 정말 청결 깔끔 땀 느끼다 아마도 섬유유연제 디퓨 파우더리 플라워향 좋아하다 코롱 우디 싫다 거부감 이거 정말 취향 성향 느끼다 그냥 해주세 심플 불편 못 느끼다 수건 바구니 담다 챙기다 공용 욕실 유용 넓다 편하다 쇼파 의외 엄 편하다 엄청 빡시 걷다 들어가다 날 다리 쭉 펴다 쉬다 대나무더블룸 테라스 직접 창문 열리다 나름 분위기 즐기다 싫다 문 열다 새벽 앞집 옆집 소리 들리다 주의 벽 옆 붙다 도미토리룸 찍소리 조용 밖 시끌시끌 아침 대체로 조용 골목 밖 궁금 저녁 산책 나가다 돌아오다 호일 건물 뒤 가봤네 누 작정 기웃거리다 창문 열다 놔 괜찮다 대나무 더블 공용 공간 계단 옆 문 열다 들어가다 여성 전용 도미토리룸 세면대 샤워실 불가 시호 지하 드라이기 거울 콘센트 파우더 세면대 샤워실 나누다 실 혼잡 실제로 마주치다 공용 시설 아침 저녁 번잡 좋았어 세면대 옆 샤워실 입구 막 천 치다 센스 굿 굿 샤워실 도미토 리 더블 인하다 불편 없었습니 손 씻다 세면대 샤워실 선반 옷걸이 여러 센스 느끼다 왔네 샴푸 린스 바디워시 비치 치약 칫솔 클렌징 폼 챙기다 지우다 대나무 더블 특유 불 만족 시호 지하 예민 게스트하우스 시호 도착 정면 문 열다 들어가다 리셉션 공간 넓다 불편 쾌적 공간 인도 조식 먹다 포장 먹다 눙 정수기 냉장고 공용 호일 책 많았어 흔들리다 올리다 책장 아래 보드 게임 책 읽다 시호일 조용 보내다 욕심 빡 여행 계획 하루 맛 카페 목적 어울리다 게하같 시호 게스트하우스 조식 선택 날 미리 반 반 욜 타임 아마도 북적이다 조치겠쥬 시호일 조식 와플 미니 샐러드 요거 트다 홍차 남편 커피 받았다네 와플 올라가다 소스 촉촉 어울리다 집콕 홈 카페 용품 쟁여둬섴 넘나릐 맛 조식 테라스 편하다 아침 저녁 올라가다 여행 기간 엄 자주 에휴 들어가다 테라스 즐기다 카페 나서다 침 매직 구옥 옥상 호일 사장 님 예쁘다 꾸미다 완전히 색다르다 마주 통행 량 예상외 조용 안목 해변 포장 닭강정 마트 터 테라스 저녁 해결 신선 놀음 따로 테라스 휴식 미니 라운지 아늑 더블 도미토 리 얘기 나누다 책 읽다 폰 조용히 쉬다 다양 원목 밖 푸르다 하늘 인조잔디 해외여행 기분 이색 여행 스타 충전 낭낭 히 다짐 해갔기 호일 고르다 비싸다 잠자리 편안 위주 아쉽다 카메라 끊임없이 꺼내다 갬성충전 완벽 재치 이름 구석구석 사장 님 센스 돋보이다 여행 새로 호일 독채 독채 비싸다 감동 배였긔 기대감 낮추다 시호 후기 막상 다녀오다 시호 독채 훨훨 씬 완전히 왔기 썰 여행기 여행 시호\">]\n",
            "[1729, <tomotopy.Document with words=\"지난 여행 투숙 소개 합니 고르다 이쁘다 선택 힘들다 결정 스타 소개해볼께 주륵주륵 특히 쌀쌀 바람 불다 날 분위기 특유 묻어나다 카페 운영 카페 아쉽다 못갔네 들어서다 화이트 톤 깔끔 인상 부엌 깔끔 전자렌지 냉장고 꽤 커서 여러 들어가다 밖 필요 문 열다 들어가다 요렇다 깔끔 침대 미니 소파 넓다 공간 머리카락 없이 깔끔 기분 미니 청소기 제습기 캔들워 센스 사장 님 제일 중요 깔끔 벌레 완벽 공간 특히 요기 넷플릭스 보았답니 편하다 소파 눕다 일어나다 힘들다 넷플릭스 꼭 로그 아웃 나무 꽃 스럽 꽤 넓다 찍다 구경 공간 구경 위층 올라오다 전망 마음 편안 솔직 리뷰 장점 조용 주변 편의점 차량 걸리다 꺠끗 단점 주변 음식점 굳이 뽑다 만족 여행 강추\">]\n",
            "[1735, <tomotopy.Document with words=\"슬구 다녀오다 요즘 한참 예쁘다 힐링 서쪽 청수리아파트 급하다 걱정 살짝 모던 건물 깔끔 인테리어 마음 성공 기분 그동안 처음 들뜨다 아파트 따로 아파트 앞마당 모습 원래 돌 담 넘어가다 도착 랏 살짝 실망 예쁘다 기분 실 퇴 실 아파트 아파트먼트 카페 이미 유명 인싸 샷 찍다 제주서쪽예쁜카페 소품 하나하나 인테리어 취향저격 깔끔 자체 예쁘다 카페 지나다 귀엽다 웰시코기 애기 못 찍다 아쉽다 유명 아파트 돌담 침대 다르다 욕조 따로 유리창 뻥 뚫리다 소품 하나하나 예쁘다 창문 열다 한적 멍 때리다 좋아하다 창문 열다 가만히 앉다 들리다 소리 새소리 바람 소리 시끌시끌 활기 넘치다 아파트 정말 끝판 왕 근래 정말 계속 정신없이 보내다 여유 롭 멍 때리다 정말 최고 낮 카페 낮 관광 돌아다니다 아침 일어나다 새소리 정말 에어컨 드라이 냉장고 침대 싱크대 토스트 도구 식기 도구 간단 해먹다 넓다 편 냄새나다 패스 그냥 정말 한적 최고 아침조식 무료 조식 제공 따로 아파트 제일 난감 유기농 샴푸 트리트먼트 바디워시 시설 깨끗 인테리어 마음 모든 인테리어 통유리 밖 비추다 편하다 샤워 난감 세면대 샤워 동선 애매 드라이 상태 괜찮다 키다 롤 스크린 요거 마음 풍경 눕다 티비 시청 눕다 티비 제대로 힐링 밤늦다 밖 커튼 필수 서쪽 공용 테라스 모습 문 열다 나가다 연결 가운데 문 열다 나가다 투숙객 공간 따로 나가다 아파트 만점 여행 멍때리 한적 동네 관광 동네 정말 한적 반딧불 축제 못가 봄 카페 이미 유명 군더더기 외관 센스 소품 주변 아무것 먹다 고민 편의점 피자 피자 맛 불편 그냥 주변 아무것 한적 조용히 쉬다 익숙 낯설다 제대로 즐기다 인실 여행 여행 가족 투숙객 미안 힐링 원하다 조용 아파트\">]\n",
            "[1777, <tomotopy.Document with words=\"작년 코로나 잠잠 가족 여행 다녀오다 코로나 힘들다 부모 님 기분 전환 다녀오다 지인 운영 민박 스타 누르다 막상 직접 스타 못 한립 번지 구조 오후 주차 넓다 주차장 시절 주차장 여행 빠지다 맛나다 맥주 옮기다 넘다 편하다 주차 뒤돌다 문 열다 넓다 마당 반기다 돌담 뒤 건물 마당 옆 건물 그리다 그림 마음 편하다 중요 시절 해수욕장 짐 내려놓다 바다 엄마 다리 가깝다 거리 편 히 바다 옆 편의점 카페 소품샵 근처 관광 온돌방 침대 거실 제품 비품 습기 청정기 진공청소기 제습기 프로젝트 총 베드룸 온돌 가습기 거실 쪽 제습기 청정기 곳곳 소품 예쁘다 꾸미다 센스 구경 재미 쏠쏠 특히 사장 님 직접 사장 님 마음 시절 품다 계시다 문 열다 거실 다이닝테이블 이닝 테이블 앉다 넓다 테이블 편하다 사용 깔끔 깔끔 기본 그릇 소스 류 도구 외식 나중 먹다 재미 느끼다 관광 책자 간단히 읽다 책 가득 나란히 붙다 깔끔 찍다 부모 님 모시다 가족 정말 편하다 아침 기본 부분 확인 알리다 기본 별도 방명록 깜빡 작성 못 사장 님 죄송 편하다 꼭 방명록 놀다 정신 쪽 부모 님 모시다 여행 쪽 부모 님 관광 편하다 독 채 민박 시설 최고 늦다 후기 아직 너무너무 기억 새록새 록 떠오르다 독채 부담 없이 놀다 마당 뛰어놀다 바다 마당 예쁘다 풍경 담다 바다 편의 시설 가깝다 부담 없이 꼭 방명록 잊다 돈 작성 기이 제주도숙소 감성독채민박 제주금능숙소 제주시절민박 애견동반가능제주숙소 제주도숙소추천 제주시절 제주도독채 민박 금능해주욕장펜션 금능해수욕장숙소 제주감성숙수\">]\n",
            "[1797, <tomotopy.Document with words=\"여행 첫 째 아일 소개 화이트 톤 실내 인테리어 조경 예쁘다 유명 개월 참고 여행 일자 날짜 기다리다 주차 당일 연락 저녁 맛있다 먹다 임산부 님 계시다 여행 일찍 체크인 메인 게이트 비밀 번호 입력 들어오다 마당 독채 나누다 먼저 동이예 사이즈 편 사용 충분 사이즈 반하다 선택 컨디션 깔끔 아래 친구 부부 사이즈 넓직 넓직 예쁘다 요즘 전통 리모델링 모습 살리다 욕조 쉬다 걷다 떨어지다 편의점 다녀오다 찍다 아일 밤 마을 자체 조용 자체 팀 조용 조용히 편안 밤 보내다 아침 산책 나가다 찍다 입구 주차 주차장 별도 편하다 편안 머무르다 재미나다 놀다 놀다 활용 원래 계획 이루다 씽크대 갖추다 참고 개인 직접 경험 찍다 놀다 넓다 아쉽다 꺼 사용 돌이 심심 밤 폰 덜 찍다 좋아하다 좋아하다 커플 북적 북적 시끌시끌 조용히 쉬다 여행객 예쁘다 아일 여행 아일 국내여행 부부여행 부부동반여행 커플여행 태교여행 만삭여행 셀프만삭촬영 뽀커플 빵커플 제주여행 헬로제주 제주숙소 조천숙소 함덕숙소 제주감성숙소 제주아일안 아일안예약 제주독채숙소 제주커플숙소\">]\n",
            "[1863, <tomotopy.Document with words=\"해변 살롱드 탱자 민박 동쪽 여행 만족 스럽 사용 이후 여행 코스 해변 근처 머무르다 해수욕장 도보 거리 주변 시설 별로 게스트하우스 민박 편 아직 높다 건물 상업 시설 대형 리조트 들어서다 스럽 골목 해변 주변 공항 급 버스 세화환승 정류장 내외 도착 대로변 걸어가다 버스 해녀박물관 정류장 하차 버스 정류장 가깝다 낮 밤 일출 일몰 뚜벅 도보 해변 바다 제주세화숙소 살롱드 탱자 민박 독특 건물 형태 복층 형 민박 내돈내 비수기 복층 형 트윈 베드 제주감성숙소 동쪽 해변 민박 살롱 드 탱자 주변 마을 안쪽 조용 디 럭스 복층 형 아래 좌우 노란색 문 더블 우측 빨깐 색 문 트윈 단층 건물 형 마당 하늘 지저귀다 새소리 돌아오다 밖 쉬다 흔들 나무 그네 의자 살롱드탱자 마당 안쪽 지킴이 탱이 기운 짖다 꼬리 흔들다 시크 조용 댕댕이 세화해변숙소 독채 민박 야외 자쿠지 알아보다 살롱드탱자 탱자싸롱 독채 스럽 나무 돌 독채 입구 쪽 건물 새로 증축 안쪽 다중 세 세화해변숙소 스럽 전통 민박 리모델링 안쪽 공용 공간 살이 보름 장기투수 쉼터 맞은편 먹다 트윈 문 열다 들어오다 방충망 이중 문 아래층 테이블 의자 전신 거울 싱크대 벽 선반 커피포트 네스프레소 캡슐 머신 커피 머신 캡슐 서비스 제공 사용법 입구 쪽 가이드북 계단 아래 쪽 공간 미니 냉장고 웰컴 생수 병 빨래건조대 화장대 의자 벽 드라이 트위 욕실 편 덩치 느끼다 사용 샤워 세수 괜찮다 머리 불편 들어가다 바깥쪽 프라이 빗 공간 나가다 살롱 드 탱자 독 채 프라이 빗 공간 야외 욕조 독채민 막 야외 자쿠지 빔프로젝 터 스크린 설치 묶다 야외 해먹 흔들 그네의자 늦다 밤 주변 복층갬성 티비 음악 듣다 계단 노란색 벽 코발트 벽 색 예쁘다 다락방 민박 위쪽 밝다 편 선풍기 이불 침구 류 깨끗 편하다 전체 성비 해변 해수욕장 바다 닥 도보 조용 주변 부위 정돈 선생 편 거슬리다 트윈 복층객실 공간 활용 벽 티비 붙다 여행 티비 채널 침대 손 까다 닥 눕다 눕다 눕다 좋아하다 눈 나쁘다 티비 멀리 걱정 사이즈 치 커서 자막 벽걸이 에어컨 평수 아래 시원 에필로그 첫 날 옆 계단 올라가다 소리 들리다 벽 소음 익숙 창문 구름 하늘 예쁘다 눕다 얼굴 밤하늘 별도 쏟아지다\">]\n",
            "[1877, <tomotopy.Document with words=\"민호잉 여행 조 얼간이 친구 다녀오다 극 여행 알아보다 여행 떠나다 마음 확실 아무튼 알아보다 군데 뿐 마감 수두룩 눈높이 맞다 하루 정말 어렵다 정말 인터넷 뒤지다 쯤 오늘 바다 발견 갓 성비 킹 오늘 바다 소개 오늘 바다 입구 입구 건물 생기다 군데군데 리모델링 인테리어 작업 저곳 귀엽다 꾸미다 귀염뽀 짝 앞쪽 요렇게 캠핑 아기자기 꾸며놨더라고 입구 주변 맛 명함 놓이다 키 키 박스 있습니 계단 중간 중간 꾸며놨어 공용 정수기 전자레인지 레인지 필요 사용 주차장 꽤 넓다 편 승용차 거뜬 안쪽 테라스 잔디밭 바베큐 따로 문 열다 내뱉다 마디 넓다 원룸 형 히 넓다 짜다 넓다 당황 친구 성비 짱 엄청 에어컨 좁다 엄 쾌적 푹 쉬다 푹신푹신 침대 좋아하다 비추다 침대 꽤 불편 없이 침대 머리 쪽 요렇게 디퓨저 이것저것 아기자기 꾸미다 멀티탭 연결 편리 아무리 침대 헤드 쪽 콘센트 불편 커튼 뒤 테라스 넓다 덜 사용 기본 원룸 딸리다 기본 타올 깔끔 폼 클렌징 챙기다 불편 없이 복도 연결 히 불편 가림막 히 시끄럽다 친구 여행 정말 성비 깔끔 건물 신축 모던 스타일 사장 님 깔끔 쾌적 불편 없이 쉬다 친구 떠나다 여행 여행 오늘 바다 오늘 바다 오늘 바다\">]\n",
            "[1881, <tomotopy.Document with words=\"다녀오다 중문가성비숙소 중문오션뷰숙소 중문바다뷰숙소 중문말뷰숙소 제주도가성비숙소 제주도오션뷰숙소 제주도바다뷰숙소 제주도말뷰숙소 제주도에어비앤비 제주도펜션 제주도숙소추천 만족 오래 아쉬움 급하다 만족도 재 의사 뛰어넘다 갓성비 추 캡처 직접 찍다 헤헤 전체 바다뷰이 따로 조식 포함 먹다 천 브릭 맘 확 트이다 바다 들판 멀리 말띠 개인 반갑다 리뷰 말뷰 해놨더라 급 인테리어 깔끔 취사 근처 중문맛집 흑돼지무한리필 맛 중문흑돼지천국 저녁 먹다 아침 제공 조식 먹다 흑 돼지 천국 따로 포스팅해야 인테리어 맘 조식 먹다 아침 따뜻 햇살 여유 롭 아름답다 건물 푸르다 바다 초록색 들판 빨갛다 벽돌 건물 롭 저녁 주차장 예쁘다 빨갛다 벽돌 건물 아침 바라보다 일출 찰칵 조식 먹다 조식 친구 아래 숙박 아래 으 세\">]\n",
            "[1899, <tomotopy.Document with words=\"인스타 제법 유명 수영장 딸리다 책 풍덩 다르다 높다 실망 경험 만만 고민 끝 그만큼 힘들다 걱정 섞이다 상태 정말 형태 롯지 테라스 롯 주차장 짐 옮기다 정말 그대로 자체 그리 넓다 편 테라스 가족 단독 사용 제법 널찍 뒷 정원 바베큐 불멍 자리 가볍다 둘러보다 장점 수영장 락스 천연 소금 수영장 특유 얕다 깊다 성인 재밌다 놀다 방갈로 요금 없이 수건 넉넉 가져가다 물놀이 수건 부족 먼저 수건 챙기다 짐 챙기다 수영복 못 들어가다 수영복 없이 놀다 옷 갈아입히다 입수 날 오락가락 온 수풀 춥다 물놀이 잔디밭 실 컷 뛰어놀다 장점 가족 마주치다 공간 마스크 너무너무 부분 미리 레고 한창 조립 보내다 자체 분위기 바베큐 따로 캠핑 다니다 도구 별도 저녁 맞추다 바구니 배달 모기향 쿠킹 호일 종이 접시 목장갑 소금 마시멜로 우등 꼭 필요 챙기다 바구니 가득 담다 저녁 바베큐 미리 투 뿔 한우 돼지고기 밖 먹다 맛있다 미리 불멍 맞추다 불멍 요청 저녁 반 불멍 별도 비용 없이 숙박비 포함 화르륵 불 붙이다 아까 바구니 마시멜로 꼬치 살살 굽다 먹다 저녁 선선 바람 따뜻 불 바라보다 몸 노곤 노곤 정말 깨끗 탕 푹신 침대 잠 정말 아침 따로 포함 간단 먹다 확인 없이 하루 만족도 높다 사악 청결 친절 만족 여행 자체 공간 롯\">]\n",
            "[1902, <tomotopy.Document with words=\"햇살 정말 따뜻 날 여행 황리단길 위연재 위연재 후기 마스크 방역 수칙 준수 신경주역 한옥 아름다움 연재 비수기 준 선덕 무 열 무 금요일 토 공휴일 선덕 무 열 흥무 금요일 토 공휴일 경상북도 쪽샘 경상북도 번호 요금 성인 세 어린이 세 미만 황리단길 연재 한옥스테이 첨성대 네이버 도보 거리 참고 첨성대 정말 가깝다 느끼다 연재 일정 하루 쯤 한옥 위해 찾다 위연재 결정 이유 첫째 날 자동차 렌트 첨성대 문화재 거리 적당 비용 꼭 한옥 위연재는 등록 전통 한옥 숙박업소 나름 신뢰도 생기다 외관 정말 선택 여기어때 신한카드 결제 거리 비용 엄 만족 위연재 무열방 숙박 고려 무열방 강추 조식 먹다 이유 참고 위연재 원룸 형 온돌 형태 나머지 수준 한옥 신발 꺼내다 새벽 신발 젖다 겨울 신발 얼다 힘들다 옆 신발 보관 저녁 신발 넣다 연재 높다 전혀 좁다 느끼다 정말 깨끗 수건 부족 칫솔 치약 샴푸 바디워 헤어드라 린스 정말 특이 찍다 샤워실 열기 저녁 춥다 샤워 겨울 참고 욕조 여행 처음 굉장히 배려심 느끼다 이불 깨끗 편 위연재 아쉬움 굳이 높다 전등 먼지 높다 어쩌다 아쉽다 후기 이야기 무열방 복도 지나가다 소리 들리다 옆 소리 들리다 연재 정말 이쁘다 날 앉다 엄 찍다 위연 재 무열방 특권 비슷 무열방 문 열다 아마 흥무방 문 통과 옆 밖 선덕 식 아침 입구 옆 식당 조식 요청 코로나 대면 조식 과일 달걀 둥굴레 커피 그거 문 열다 먹다 마음 편하다 여유 느끼다 정말 무열방 특권 맞다 황리단 근처 위연 재 한옥스테이 정말 맘 개인 재 의사 아쉽다 아까 말씀 부문 먼지 괜찮다 렌트 연재 주차 미터 거리 쪽 샘 주차장 넓다 개인 황리단 연재 뒤 빠르다 나가다 황리단길 여행 한옥 느끼다 이쁘다 여유 롭 느끼다 하룻밤 쉬다 숙박 시설 공간 지극히 주관 봐주다 댈이만쥬 만족 후기 별도 광고 협찬 없이 돈 먹다 후기\">]\n",
            "[1908, <tomotopy.Document with words=\"홈 글 이드 여행 서핑 중요 해변 해변 주변 즐비 노후 정말 함부 코 다치다 쑤다 작년 친구 해변 아무 잡다 엄 후회 얘기 듣다 컨디션 찾다 발견 홈 지번 홈 홈 빈티지 부티크 이미 해변 해변 유명 대변 홈 일반 나름 빈티지 분위기 물씬 해변 인기 해변 도보 걸리다 해변 도보 걸리다 중간 해변 해변 자유자제 왔다갔다 홈 편의점 옆 건물 편의 시설 걱정 따로 체크인 엘레베이터 카운터 카운터 스다 레 핸드폰 꺼내다 친구 무조건 담다 다행히 코로나 대면 진행 마음 편 히 찍다 코로나 확산 차원 부득이 대면 입시 코로나 시즌 아마 직접 체크인 도와주다 홈 따로 로비 공간 카운터 제외 들어가다 통로 홈 로비 로비 공간 히 함 그대로 분위기 이국 부티크 분위기 올해 카루나 하루 숙박 카루나 비교 살짝 아쉬움 비교 충분 계단 부티크 흐르다 요즘 꼳 히 색깔 민트 색 민트 색상 계단 자극 홈 입구 홈구 복도 지나다 포스터 벽 부치다 독일어 독일어 배정 오션뷰 타입 형태 다르다 꼭 미리 확인 들어가다 먼저 코스텔 냉장고 냉장고 홈 깔끔 원룸 형 형태 이루어지다 확실 홈구만 분위기 홈 전체 분위기 어둡다 스위치 불 켜보았지 분위기 밝다 분위기 좋아하다 살짝 아쉬움 침대 티비 좋아하다 눕다 티비 좋아하다 부분 살짝 아쉽다 분위기 자아내다 인테리어 집중 에어컨 덥다 여름 호캉스 보내다 안성맞춤 화장대 헤어드라이기 정말 살짝 아쉽다 침대 옆 협탁 콘센트 충전 화장대 살짝 불편 마음 홈 기억 수건 슬리퍼 사용 타일 물떼 정말 못 떼 홈 정말 물떼 충격 이후 타일 추억 추억 지우다 버리다 기본 어메니티 제공 샴푸 린스 바디 치약 칫솔 해변 빈티지 홈 생생 확인 해변 살짝 노후 컨디션 정말 훌륭 현재 비싸다 비수기 정말 해변 해변 주변 편의 시설 가깝다 찾다 홈 택지\">]\n",
            "[1911, <tomotopy.Document with words=\"여행 트렌드 무조건 대형 리조트 선호 과거 여행 요즘 물씬 머물다 아무래도 코로나 인하다 접촉 부담 스럽 영향 유튜브 지나다 안식 내려가다 튜브 전업 안식 오늘 안식 기간 다니다 소개 나머지 이어지다 전반 소개 아래 유튜브 확인 개인 경험 유튜브 언급 조심 스럽 유의 위주 대형 리조트 롭 조용 누 총 제주스테 비우다 침대 온돌바닥 침구 깔다 환경 편 이색 침대 아무래도 투숙 어렵다 침대 창가 옆 놓이다 의자 앉다 창문 열다 바람 소리 들리다 새 소리 들리다 책 읽다 시끌벅적 도시 번화가 조용히 쉬다 제격 자세 소개 유튜브 참고 담다 투숙 느끼다 얘기 현재 조식 세미조식 제공 부르다 높다 첫날 조식 먹다 둘째 날 근처 브런치 식당 세미조식 스킵 비품 서비스 감안 투숙 비싸다 유튜브 확인 아무래도 시설 제공 치 다르다 조용 휴식 필요 맞다 쉬다 아래 공식 저렴 개인 마음 아무래도 여행 편집 캐다 회사원 유튜 버 또떠 관련 노트북 작업 적당히 아늑 적당히 어둡다 창작 집중 공간 기억 기억 역시 조식 피크닉 담기다 제공 조식 챙기다 정성 느끼다 맛 날씨 막히다 아침 댓바람 소풍 피크닉 옆 놓이다 메세지 카드 도시락 문자 메세지 디테일 모이다 평가 레트로 책상 침실 앞서 말씀 공간 넓다 창작 공간 초봄 콘크리트 노출 구조 건물 춥다 침대 밑 전기장 판 따뜻 칭창 끝나다 다이빙 맛 유일 단점 냉장고 냉장고 소리 뽑다 소리 향기 맛 굉장히 둔하다 편 유독 냉장고 소리 거슬리다 코드 뽑다 해결 투숙 결정 요소 애지간 카페 부럽다 라운지 워낙 어렵다 여유 라운지 아쉽다 다이빙 맛 머물다 동네 산책 주위 맛 다니다 최선 즐기다 다이빙 맛 카카오톡 플러스 친구 다이빙 맛 검색 진행 네이버 아침 조식 인기 이미 쉽다 인기 개인 좋아하다 지역 오랜 보내다 내륙 아파트 투숙 걱정 찾아보다 후기 후기 결론 직접 확인 후기 수긍 수긍 후기 후기 얘기 동의 낮 옆 아무 저런 소음 전혀 밤 테이블 앉다 노트북 옆방 소리 들리다 비교 내용 이해 꽤 들리다 시끄럽다 떠들다 소리 들리다 잠자리 소리 듣다 걱정 선별 아무 정작 조용히 이틀 밤 아무 없이 옆방 소리 듣다 음악 듣다 소리 옆방 전달 걱정 하루 일부러 조심 그냥 편 히 쪽 창문 통유리 생활 밖 단점 근데 워낙 시골 쪽 풀밭 누 일부러 숨다 히 사생활 노출 카페 카페 손 님 공간 앉다 남자 성격 굉장히 둔감 역시 불편 샤워 옷 갈아입다 커튼 치다 욕실 갈이 번거 롭 번거롭다 감수 멋지다 뷰였기 모든 참고 멋지다 풀밭 아파트 포인트 돌담 두르다 쌓이다 침대 예쁘다 인테리어 주무시다 몸부림 심하다 침대 밖 뻗다 다리 발생 돌담 부딪히다 실제 후기 읽다 아무래도 벽 부딪히다 일반 벽 돌담 형태 벽 다치다 쉽다 침대 침대 밖 몸 둘이 별로 마지막 욕조 샤워 불편 후기 읽다 욕조 아예 후기 전혀 공감 욕실 바닥 욕실 부분 빠지다 살짝 후기 읽다 단점 개인 운영 저러다 단점 발견 서비스 시설 문제점 보완 요청 필요 여행 재미있다 즐겁다 이해 넘어가다 자세 필요 아파트 네이버 멋지다 마당 비싸이드엠 채 시골집 개조 전형 건물 침실 세 침대 퀸 베드 싱글 베드 거실 욕실 한쪽 건물 부엌 식탁 부엌 분리 불상사 인테리어 취향저격 이틀 내내 밤 부엌 맛있다 안주 거실 식탁 먹다 와인 잔 친구 얘기 나누다 기억 건물 나누다 건물 도어락 설치 왔다갔다 도어 락 비밀 번호 누르다 불편 거실 나르다 꽤 불편 꽤 넓다 멋지다 마당 요즘 마음 편하다 마스크 없이 야외 장점 아래 참고 오늘 다루다 나머지 올리다\">]\n",
            "[1927, <tomotopy.Document with words=\"여행 중요 역시 여행 극 찾다 쉽다 얼른 동선 마음 급하다 쉬다 찾다 쉽다 제주가성비숙 넘다 찾다 넘다 기쁘다 마지막 검색 문자 입금 저렴 연락 약하다 나쁘다 저렴 짜다 잔 건물 세련 넘다 예쁘다 민박 침실 욕실 개별 사용 거실 공유 독실 주인집 색 문 개별 문 거실 끝 코끼리방이예 마지막 다행 사이 끼다 끝 마음 아담 트윈베드 커플 트윈 베드 욕실 엄 걱정 기업 어메니티 깔끔 깨끗 침구 마약 매트리스 이불 포근 포근 포근 넘다 철제 침대 삐그덕 거리 거슬리다 예민 참고 공용 사용 거실 문 밖 아늑 보내다 보내다 워낙 여행 일정 짧다 못 보내다 넘다 아쉽다 읽다 책 방문자 방명록 꿀잼 꼭 여행 꿀팁 다양 직접 만나다 소통 기분 넘다 은근 슬다 홍보 글 공유 이케아 식기 가득 전자레인지 커피 머신 냉장고 필요 간단 해먹다 원래 조식 파니니 제공 거리 상향 먹다 조식 정말 아쉽다 담 조식 먹다 미리 딱새우회 고등어 컵라면 한라 토닉 맛있다 저녁 즐기다 예쁘다 잔디밭 인상 포토존이예 편의점 나서다 요렇게 돋다 식당 바깥 편의점 해수욕장 걷다 걸리다 멀다 아침 퇴 해수욕장 산책 한가 스럽 보내다 우연히 찾다 하루 보내다 너무나 만족 스럽 유명 싫다 사장 님 돈 벼락 맞다 바라다 마음 공간 보내다\">]\n",
            "[1934, <tomotopy.Document with words=\"찾다 홈 글 우 쑤다 우쑤 요즘 나들이 여행 계절 요즘 멀다 떠나다 여행 기분 제대로 가깝다 괜찮다 찾다 숙박 괜찮다 오늘 여행 나들이 머물다 소개 숙박 찾다 사이트 알리다 최근 공유 높다 이해 높다 공유 숙박 역시 거리낌 없이 사용 역시 여행 공유 숙박 사이트 찾다 정부 인증 국내 유일 합법 공유 숙박 사이트 믿다 장점 변수 숙박 믿다 숙박 내국인 외국인 정식 허가 격리 찾다 현재 이벤트 진행 자가 격리 자가 격리 식품 배달 민족 쿠폰 제공 수많다 등록 호스트 서로 울타리 만나다 플랫폼 다양 모이다 공유 숙박 사이트 현재 다양 지역 수많다 등록 찾다 편하다 오늘 소개 위홈 니트하우스 이름 유니크 게스트하우스 더라구요 홍대입구역 도보 거리 조용 골목길 편 히 쉬다 입구 니트 인실 인실 다양 크기 실은 구조 넓다 넓다 여럿 괜찮다 실 그만큼 쾌적 찍다 공간 여러 티비 밑 화장대 테이블 공간 시계 디퓨 손소독제 꼭 필요 거울 드라이 티슈 두루말 화장지 여유 화장대 옆 냉장고 냉장고 전기 포트 머그 컵 욕실 공간 굉장히 깨끗 샤워 공간 샤워 커튼 공간 구분 세면대 변기 깔끔 게하 편견 요즘 스타일 예쁘다 구조 침대 공간 계단 바깥 노출 구조 뚫리다 계단 공포증 앞뒤 뚫리다 계단 오르내리다 때로 무섭다 넘다 맘 편하다 오르락내리락 계단 침대 낮다 스타일 편하다 공간 자체 꽤 넓다 편 요즘 낮다 침대 편하다 들어가다 편하다 실 실 전용 테라스 나가다 바람 쐬다 맥주 잔 테라스 부럽다 머무르다 위홈 얘기 째 찾다 요렇다 갖추다 필요 왠 먹다 숙박 괜찮다 침대 공간 전체 우드 화이트 조합 아늑 세련 은은 햇살 들이치다 창문 공간 햇살 맛 자리 찍다 씩 경험 벽 옷걸이 깔끔 걸리다 에어컨 여름 시원 침대 쪽 곳곳 소품 요런 활용 찍다 갬성 찍다 공간 니트 특색 니트 형식 장식품 침구 이름 니트하우스 카페 아기자기 예쁘다 홍대입구역 근처 넘다 이쁘다 게스트하우스 숙박 찾다 믿다 정부 인증 공유 숙박 사이트 알아보다 위홈 찾다 공유숙박 서울숙소 감성숙소 서울한달숙소 게스트하우스 독채 서울숙박 합법숙소 숙박사이트 니트하우스 홍대숙소\">]\n",
            "[1936, <tomotopy.Document with words=\"애기 버스 터미널 주문진고속버스종합터미널 시외버스 터미널 정류장 도보 일반 주문진시회 버스 터미널 승차 남애초교 하차 건너 비온후 풍경 용품 드라이 샤워 수건 충분 칫솔 치약 간단 어메니티 샴푸 바디워 바베큐 비용 옵션 별로 비용 다르다 아래 옵션 적어놨습니 후기 순서 소개 조식 주변 인프라 바베큐 총 공식 세 다녀오다 여행 솔직 적나라 작성 풍경 후기 시작 레고레고레 총 장단점 맨 아래 해놨어 작성자 개인 의견 담기다 포스 팅 참고 주차장 도착 모텔 실망 들어가다 새롭다 세상 펼치다 공간 꾸미다 시설 발 씻다 서핑 간단 세척 전신 거울 날씬 웬 웰시코기 건물 채 마주 구조 건물 사용 리셉션 맞은편 건물 건물 전체 독채 사용 체크인 조식 먹다 조식 비용 조식 후기 체크인 했습니 유후 훗 중요 들어가다 냉장고 커피 머신 정원 들어가다 변기 공간 휴지 여분 아마 당연히 충분 냉장고 다과 공간 인원수 맞추다 초콜릿 커피 캡슐 냉장고 챙기다 체크인 리셉션 냉장 보관 부탁 꾸미다 살짝 의자 공간 앉다 굳히다 앉다 공간 눈 감상 최고 욕실 한눈 찍다 샤워 부스 욕조 공간 심플 중요 욕실 개방 형 현관 쪽 통유리 살짝 막 욕조 쪽 뻐 엉 뚫리다 친구 발 씻다 문 자유 롭 아무리 친구 벗다 몸 자랑 스럽 내놓다 씻기다 민망 씻다 안되다 씻다 소파 소개 책자 읽다 책 권 침실 침구 매트리스 오른쪽 창가 아까 정원 살짝 이불 조식 무료 비용 공식 금액 다르다 이거 확인 필요 샐러드 특이 호불 갈리다 잼 커피 주스 맞추다 내려오다 정갈 셋팅 이쁘다 이쁘다 막 찍다 스타 든든 충분히 달래다 아침 풍경 커피 잔 돈 아깝다 느끼다 무료 제공 커피 머신 한잔 충분 솔직 편의점 애 해수욕장 애 해수욕장 서핑 구역 따로 구분 바베큐 비용 맞추다 내려가다 식기 그리다 셋팅 세척 역시 이쁘다 이쁘다 더듬이 찍다 스타 행복했슴 장점 깨끗 청결 근처 바다 편의점 서핑가 해변 역시 분위기 차분 맘편 히 푹 쉬다 모든 포토 존 커피 머신 캡슐 무료 사용 스키퍼 의외 하드 캐리 커플 여행 형 욕조 장점 단점 조식 성비 아침 한적 커피 잔 철저히 위주 실용 개방 냉장고 체크인 냉장 보관 부탁 함 따로 바베큐 께 세척 부탁해야 함 바베큐 모기 뜯기다 계절 계절\">]\n",
            "[1941, <tomotopy.Document with words=\"재 족 은거 퀸 베드 개별 청결 아기자기 예쁘다 편안 침구 티비 라디오 옆 공용 간단 취 식 공항 근처 굿 굿\">]\n",
            "[1957, <tomotopy.Document with words=\"엄마 다녀오다 여행 테마 완벽 쉼 예쁘다 머물다 네이버 스타 에어비엔비 막 뒤지다 결과 여러 감성숙소 찾아내다 그거 공유 둘하루방 검색 결과 친절 끝 오곳 키닛맨 쇼 카르페디 테테페피 테테페피 그냥 머무르다 에어비엔 꿀 팁 스타 이름 검색 스타 스타 결제 편 수수료 붙다 에어비엔 비싸다 확실 개인 성향 맞다 스타 답변 빠르다 하루 이틀 디엠 그냥 삭제 아쉽다 올리다 숙소정보였슴 총총 총\">]\n",
            "[1966, <tomotopy.Document with words=\"거제도 몽돌 해수욕장 오루 봅쉬 없이 친구 버스 택시 버스 터미널 멀다 이쁘다 여행 이왕 자차 택시비 들어가다 거실 문 침대 놓이다 구조 숙박 시설 쭉 맨 끝 코 시국 그나마 한적 몽돌 해수욕장 도보 편의점 여러 식기 조식 침대 제습기 에어컨 그냥 최고 전기그릴 바베큐 해먹다 거실 빼다 조용 윗층 발자국 소리 살짝 들리다 생활 조용 이웃 만나다 거실 열다 거슬리다 소음 단점 욕실 용품 올 비누 샴푸 린스 바디 치약 고무장갑 참고하세 유리창 부분 벤치 항상 층뷰 이쁘다 암튼 종합 인테리어 센스 맘 오루\">]\n",
            "[1979, <tomotopy.Document with words=\"이호테 우 해변 근처 앳 코너 공항 근처 찾다 눈 들어오다 앳 코너 리셉션 공간 낭 낭 엄청 공간 현무암 티비 선반 선택 취향저격 간단 취사 앳코 깨끗 편 샤워기 청결 상태 미흡 베란다 깔끔 따로 카페 넓다 정원 쾌적 예쁘다 공간 부담 공항 근처 비행기 소리 감안\">]\n",
            "[1986, <tomotopy.Document with words=\"애 고즈넉 애 추 새우 디어누메르 힐링 다녀오다 아쉽다 머물다 요번 고즈넉 스럽 머무르다 열심히 서치서 찾다 머물다 머물다 모든 올리다 올리다 올리다 믿다 머물다 특히 스럽 머물다 일반 개조 숙지 분위기 미리 말씀 헤헤 사진봐주세 예쁘다 여행 요기 핫플 꼭 하루 머무르다 특히 창문 바라보다 먹다 최고 헤헤 거실 예쁘다 포근 침실 방바닥 뜨끈 이불 폭신 폭신 전기장 판 킨 전기 바닥 온도 조절 조식 전날 도착 산 째 식빵 식빵 직접쓸엇쩌 이쁘다 요번 맘 공간 잡다 호텔요런곳 현지 뿜뿜나 추천드려 뉘엿뉘엿 무드 씩 켜다 분위기 조 제주에어비앤비 제주도에어비앤비 애월에어비앤비 제주도숙소 애월숙소 제주숙소 마당 넘다 예쁘다 고즈넉 고즈넉 꽂히다 걷다 애 바닷가 가깝다 편의점 찐탱 창밖 딱새우회 먹다 안방 프로젝트 그거 먹다 풍경 넘다 좋아서 먹다 헤헤 요기 걷다 거리 애 흑 돼지 찌다 맛 현지인 맛 쫀득 넘다 맛있다 음 가깝다 찾다 검색 거리 넘다 신기했오 편의점 땅콩 전통주 냠 맛 잇다 김만복 애월점 걷다 주변 산책 주변 예쁘다 걷다 예쁘다 햇 하나하나 예쁘다 알리다 본문 댓글 본문 확인 댓글 절차 적용 꼭 순서 지키다 진행 아래 사용 적립금 후반 중반 지급 진행 적용 꼭 적용 아래링크 들어가다 아이디 로그인 순서 적용 꼭꼭 사용 애 고즈넉 애 추 새우\">]\n",
            "[1994, <tomotopy.Document with words=\"수영장 늦다 요즘 갑자기 여름 다녀오다 여름 휴가 마니아 다녀오다 포스팅해봅니 항상 좋아하다 히힣 이유 못 생기다 못생기다 나무 나무 근데 쪽 요즘 수영장 즉흥 여행 부담 급하다 알아보다 의외 예쁘다 윗층 윗층 침실 옷걸이 전신 거울 거울 넘다 헤헤 늦다 바람 수영복 갈아입다 근데 안쪽 슈퍼 먼저 들르다 세 사장 님 픽업 오후 잇다 늦다 택시 들어가다 수영장 포함 수영장 사용 프라이빗해 헤헤 아침 씻다 간단 수영했더 살짝 호캉스느낌 조으 넘다 예쁘다 살짝 덜 예쁘다 아쉽다 실물 이쁘다 헤헤 쇼파 포근 욕조 밤 스파 전날 러쉬 들르다 헤헤 베란다 테라스 프라이빗 바베큐 히히 복작복작 부담 스럽 도착 엄 물놀이 놀다 해지다 물놀이 튜브 옆 미리 물놀이 수영장 전세 짱 짱 굿 굿 배고프다 바베큐 사이즈 먹다 역시 바베큐 검정치마 조휴일 소주잔 콘서트 재밌다 그립감좋 헤헤 정신 없이 놀다 아쉽다 찍다 훨 이쁘다 깔끔 시설 좋아서 노후 소위 질리다 남자 사장 님 착하다 유머러스 아무래도 히히 알리다 본문 댓글 본문 확인 댓글 절차 진행 적용 순서 꼭 지키다 아래 사용 적립금 후반 중반 지급 진행 적용 꼭 적용 귯귯 아래링크 들어가다 아이디 로그인 수영장\">]\n",
            "[1999, <tomotopy.Document with words=\"거듭 힘들다 서쪽 바닷가 제주마중인판포 소개 뉘엿뉘 엿 저물다 때쯤 여행 마무리 일반 제주도독채 서쪽 독채펜션 바닷가 변신 새롭다 시작 여행 묘미 선사 아침 일어나다 바다 하루 시작 즐겁다 관광지 여행 저녁 의도 그냥 바닷가 좋아하다 소개 저녁 파티라이트 느끼다 바다 코앞 야생 돌고래 춤 추다 지금껏 문자 계시다 돌고래 돈 그냥 우연히 산책 바닷가 정원 넓다 푸릇푸릇 잔디밭 밟다 놀다 어른 만족 시설 바닷가 정원 넓다 비싸다 일찍 단점 존재 야자수 나무 독채 제주마중인판포 비용 면 따로따로 연인 커플 친구 가족 독채 어중간 바닷가 독채펜션 메인 거실 전면 바닷뷰 바다뷰 독채 넓다 거실 타일 바닥 벽면 우드 인테리어 거실 바다 정원 데크 바다 진정하다 하셔 바닷가 유일 독 채 거실 한번 세상 막히다 전면 측면 윗쪽 바다 코앞 침대 눕다 바다 일몰 아침 침대 일어나다 바다 눈앞 막히다 상상 맡기다 기존 그냥 일반 차원 다르다 익숙 불편 전통 한국인 온돌방 불편 꺼 놀러오다 하루 이틀 살짝 불편 감동 선물 꺼 째 침대 퀸 침대 공간 전신 거울 비치다 모습 찍다 스타 올리다 분위기 침대 모습 올리다 예쁘다 세 째 침대 온돌방 침구 펼치다 주무시다 요즘 침대 생활 못 은근 히 계시다 할머니 할아버지 손주 온돌방 여러 컨셉 다르다 고르다 주무시다 조식 별도 제공 독채펜션 조식 제공 시설 도구 진열 편하다 사용 닦다 매너 손 님 컨디션 선택 중요 부분 화이트 리모델링 깨끗 사용 샤워 자리 세탁기 놓아두다 세탁기 사용 아무래도 세탁기 빠지다 모습 데크 정원 바다 독채 이러다 인기 빨리 끝나다 단점 판포포구 스노클링 다이빙 바다 호수 에메랄드 빛 호수 루프탑 전망대 손 님 독채 사용 아쉽다 손 님 루프탑옥상 너무나 아쉽다 꺼 옆 포구 낚시 풍차 바라보다 위험 낚시 즐기다 갯바위 낚시 낚시 즐기다 엄청나다 매리트 다르다 낮 밤 너무나 달라다 꼭 다양 혜택 누리다 한두 여행 여행 즐기다 다양 좋아하다 관점 달라다 만족 독채펜션 짧다 마무리 제주독채 소개 마무리 실시간 현황 원하다 날짜 문자 즐겁다 여행 계획 선택 맛있다 즐겁다 추억 쌓다 돌아가다 여행\">]\n",
            "[2002, <tomotopy.Document with words=\"찾다 황리단 한옥 빠지다 없이 찾다 마음 조식 황리단길감성 경상북도 첨성로 황리단 시즈닝 옆 황리단 잡다 놀다 황리단길 하루 놀다 계획 주차 걱정 없이 편하다 짐 놀다 최적 한옥 휴휴 퇴 실 퇴 실 퇴실 빠르다 입시 그만큼 일찍 들어가다 점심 짐 황리단길 맘편 히 놀다 황리단길 들어서다 인자 인상 실내 실내화 갈다 다니다 총 타입 타입 그만큼 저렴 안쪽 공용 가깝다 네이버 쉽다 독채 빌리다 가족 여럿 커플 독채 괜찮다 바깥 창문 창밖 한옥 아쉽다 그만큼 저렴 만족 전체 한옥 불구 가격대 꽤 휴휴당 저렴 편 사항 황리단 뚜벅이 여행 여행객 서비스 확실 짐 보관 주차장 황리단 특성 개별 주차 공간 공용 주차장 써야 무료 주차장 걸어가다 거리 여러 군데 편하다 주차 인근 주차장 알리다 자주 쪽샘 주차장 공용 공간 공용 냉장고 냉동실 오븐 전자레인지 토스터 신식 한옥스테 거실 공용 책 읽다 한적 보내다 괜찮다 공간 한옥 정취 느끼다 잇다 아침 조식 먹다 공용 거실 컨디션 한옥스테 옆방 소음 들리다 편 공용 공간 사용 공용 공간 활용 냉장고 별로 칸 나누다 칸 가득 한옥 정말 한옥스테이 옛날 방식 침대 휴휴당 침대 도착 낮잠 침대 편하다 커피포트 웰컴 커피 두봉씩 간단히 침대 티비 티비 새벽 정주 행하다 가로 싸다 뽕 뽑다 깔끔 창문 편 샴푸 린스 바디워 치약 칫솔 드라이 타월 타월 타월 덜 마르다 자꾸 쓰이다 다르다 아쉽다 그나마 빛 아예 들어오다 괜찮다 장점 여행가 늦다 햇빛 들어오다 싫다 터 아침 빛 깨다 걱정 덕분 기억 재밌다 모범 택시 정주 스타트 황리단 유명 간식 거리 씩 클리 밖 무더위 잊히다 쾌적 적절 온도 컨디션 황리단길 가운데 자리 다녀오다 먹다 걷다 다니다 괜찮다 완벽 한옥 휴휴 조식 아침 달그락거리다 거실 소리 들리다 시작 아침 아침 띠 링 문자 아침 친절 히 문자 챙기다 경주한옥스테 쏘다 스다 윗 메뉴 주스 우유 레놀라 단호박 스프 테이블 놓이다 썰다 과일 정성 스다 레 챙기다 겹다 아침 공용 거실 공간 테이블 먹다 손 님 이미 꼴 먹다 조식 먹다 눈 불리다 먹다 조식 리모델링 최 신식 한옥 조식 완벽 황리단 고향 자주 색다르다 휴휴 몫 휴휴당 머무르다 특혜 황리단 파스타 유명 시즈닝 불구 분위기 여전 옆집 웨이 팅 눕다 기다리다 부르다 나가다 밥 먹다 장점 시즈닝 파스타 유명 반하다 메뉴 치킨마니 스다 말레이시아 치킨 볶음밥 맛있다 황리단 여행 끗\">]\n",
            "[2012, <tomotopy.Document with words=\"리우 숙박 후기 여행 코스 후기 정말 여행 도시 조 늦다 날짜 이미 취소 표 볼거리 늦다 짧다 여름 휴가 여행지 후기 뒤지다 발견 리우 리운 스테이폴리 군데 스테이폴리오 살짝 저렴 함 수수료 차이 당연히 폴리오 스테이리운 본채 사랑채 본채 사랑채 본채 이미 풀부 킹 요즘 유명 개월 스테이폴리오 스테이리운 스테이리운예약 본채 참고 스테이리운 주차장 따로 공영 주차장 공영 주차장 거리 불편 스테이리운주차 스테이리운주차장 남원공영주차장 이리저리 구불구불 발견 리우 만족 예쁘다 조각보 로고 들어가다 돌계단 소나무 예쁘다 사랑채 들어가다 전날 비밀 번호 문자 알리다 망설임 없이 마루 멋지다 밤 맥주 잔 상상 사랑채 외관 참고 거북이 졸다 졸다 소리 맘 사랑채 문 들어가다 짠 마음 쏙 듦 아늑 정말 넓다 천고 중요 채 사진빨 히 설명 그대로 새로 짓다 모든 식기구 물품 깨끗 침구 류 컨디션 짐 반대 쪽 곳곳 소품 귀엽다 춘향뎐 책 춘향전 책 저렇다 처음 한옥 리모델링 지붕 신축 남원숙소 남원감성숙소 남원한옥 남원한옥펜션 한옥펜션 마음 공간 정원 남원한옥스테이 한옥스테이 부엌 깔끔 한옥 가열 심하다 불가 전자렌지 편하다 냄비 그릇 정수기 사용 편하다 그릇 식기 새 칼 소세지 썰다 잘썰려 신나다 마당 못 통창 개방 예쁘다 간단히 참고 대나무 반신 욕 공간 설명 해봤지롱 인조 대나무 반신 욕 부끄럽다 반신 욕 피로 풀리다 포근 지붕 디퓨 스테이리운 해지다 뒤 모습 조명 멋있다 분위기 취하다 꽤 덥다 여름 밖 술 다르다 여름밤 밖 먹다 은근 덥다 벌레 분위기 얼른 들어가다 시원 먹다 리 사랑채 총 도시 색깔 어우러지다 멋지다 한옥 알차다 개방 공간 넓다 넓다 정말 만족 스럽 유일 단점 아침 뜨다 눈 뜨다 얼리다 버드 남원숙소 남원펜션 주변 볼거리 명문 제과 들리다 들리다 타임 이미 수제햄 소세지 짜다 맛있다 음 맛 다르다 소세지 맛 미묘 다르다 못 먹다 정말 맛있다 소세지빵 최고 맥주 안주 명문 제과 시그니 아몬드 맛있다 크림 느끼햇 음 켘 명문제과 남원명문제과 명문제과꿀아몬드 명문제과수제햄빵 광한루 장점 동네 마실 나가다 바퀴 돌다 잉어 무서어 남원광한루 남원광한루원 살짝 비행기 유럽 쪽 공원 분위기 켘 광한루 뒤 이후 무료 이후 덥다 예쁘다 광한루원무료입장 광한루무료입장 노을 광한루 예쁘다 후기 끝 돈 산 남원김병종 시립 미술관 따로 써야 꺼 남원김병종 미술관 꼭 정말 남원시립김병종 미술관 김병종미술관\">]\n",
            "[2016, <tomotopy.Document with words=\"분홍 슬다 슬다 중순 다녀오다 여행 스토리 꺼내다 음 다녀오다 한참 아직 요즘 계속 다행히 여행 흐리다 간이 햇빛 기분 하루 공항 근처 게스트하우스 하루 숙박 굶다 구경 바쁘다 세상 구경 먹다 놀다 먹다 깨다 먹다 일정 스냅 촬영 빡세다 수국 사냥 목표 아침 밤 겁나다 싸돌아다니다 휴식 관광 하루 종일 먹다 주력 하숙집 이호테우 해수욕장 근처 공항 가깝다 버스 거리 주변 아예 아파트 당연히 편의점 식당 마트 편의 시설 신축 깔끔 쪽 파티 게하 시끄럽다 분위기 싫다 조용 휴식 알맞다 실 단독 실 인실 도미토리 지명 이름 붙이다 전반 조용 분위기 첫날 마지막 날 쉬다 공간 일행 끼리 파티 공간 원하다 공용 공간 대여 여성 전용 전용 실 도미토리 실 개인 실 참고 개인 실 금액 요금 얘기 혀 재 요금 개인룸 성인 혼숙 제외 나머지 샤워실 별도 근데 적히다 금액 실제로 네이버 들어가다 참고 특성 사용 공간 규칙 철저 준수 역시 신축 깨끗 새 놀다 기분 정말 하숙 이름 갬 실제로 아기자기 꾸미다 단독 협 재 실 샤워실 편하다 옷걸이 충분히 행거 없이 옷 걸다 넓다 짐 충분 특히 마음 화장대 비치 물티슈 면봉 빗 드라이 드라이기 오후 이후 사용 자제 단독 사용 특성 일찍 나가다 늦다 들어오다 단독 현명 찜 질 게하 잡다 편하다 요즘 여행 다니다 편 여행 공항 근처 편 공용 샤워실 사용 옆 불편 시리얼 식빵 잼 자유 롭 느끼다 바 다르다 히 불편 쉬다 침대 편하다 베개 편하다 원래 아무 타입 족 공항 근처 조용 찾다 하숙집 후보 올리다\">]\n",
            "[2027, <tomotopy.Document with words=\"코드 일출봉 메종드오 조락 숙박 후기 지나다 여름 끝 다녀오다 여행 짧다 기간 롭 바퀴 돌아보다 일정 계획 동선 머물다 그중 만족 메종드오조락 동쪽 오조리라 조용 마을 선착장 근처 알아보다 발견 메종드오조락 촉박 계획 일정 여름 휴가 시국 시국 대부분 이미 실 비싸다 적당 느끼다 찾다 헤매다 메종드오조락 머물다 마음 찰나 마감 바람 메종드오조 락 당일 메종드오조락 호스트 문자 주차 현관 도어 록 비밀 번호 전달 뒤 대략 도착 전달 아침 브런치 메종드오 조락 언택 트다 완료 안쪽 원래 다락방 스타일 계단 불편 운명 어떠 하얗다 침구 진하다 초록색 칠하다 벽 빨갛다 침대 헤드 인상 레트로풍 메종드오조 락 커다랗다 창문 도란도 이야기꽃 피우다 정말 테이블 의자 놓이다 커다랗다 창문 탓 미처 블라인드 초록색 벽 쿠션 침대 머리맡 빨간색 헤드 선택 망설이다 이유 지극히 개인 취향 으항 알록달록 색 들어가다 선호 편 불구 메종드오조락 선택 이유 창문 밖 풍경 바다 바 멀리 일출봉 창밖 풍경 절로 시력 기분 맛 메종드오 조락 다소 아담 크기 벽걸이 책 권 메종드오조 락 머물다 방명록 차곡차 곡 꽂히다 훗날 방명록 찾아보다 추억 오래비 반응 시원찮다 패스 메종드오조 락 기내 캐리어 활짝 펼치다 불편 꽤 넓다 편 현관 침실 분리 구조 마음 코발트블루 칠하다 문 옆 세면대 냉장고 비치 흠잡다 없이 깔끔 정돈 소독 기본 현관 손 소독 세면대 핸드워시 코로나 구역 메종드오 조락 샤워부스 설치 샴푸 린스 바디워시 간혹 공용 사용 메종드오조락 다행히 넓다 사용 헤어드라이기 수건 미니 냉장고 생수 병 올레길 코스 메종드오 조락 숙박 누리다 혜택 마을 산책 바퀴 밖 그림 풍경 멀리 보슬비 잔뜩 흐리다 날씨 주섬주 섬 옷 챙기다 밖 나가다 버리다 마침 현관 메종드오 조락 호스트 만나다 빌리다 산책 코스 친절 기분 출발 맑다 날 마을 메종드오 조락 창밖 걷다 올레길 코스 만나다 목조 다리 걷다 메종드오조락 도착 올레 코스 걷다 내내 주변 풍경 감탄 감탄 그동안 해외여행 거들떠보다 과거 후엥 투명 바다 너머 일출봉 날씨 일출 목조 다리 좌측 일출봉 우측 마을 이리저리 열심히 고개 돌리다 눈 담다 카메라 미처 담아내다 카페 바 조락 브런치 상쾌 동네 바퀴 돌다 돌다 도착 메종드오 조락 조식 친절 호스트 흔쾌 히 메종드오 조락 카페 바 들어가다 쉬다 호스트 운영 카페 메종드오조락 숙박 투숙객 무료 조식 제공 높다 층고 세련 인테리어 곳곳 호스트 취향 묻어나다 공간 카페 바 바 쪽 투숙객 조식 호스트 히히 카페 바 전면 통유리 너머 풍경 힐링 자체 풍경 다르다 인테리어 묘하다 비슷 빈티지 세련 메종드오조락 숙박 커피 잔 메종드오 조락 투숙객 제공 무료 조식 자몽 주스 갓 굽다 식빵 홈 메이드 요거 트다 써니사이드 프라이 산 당근 브로콜리 마늘 볶음 해시 브라운 베이컨 방울토마토 딸기 잼 버터 접시 가득 제공 맑다 산책 터 맛 아침 정성 스럽 접시 덕분 기분 하루 시작 메종드오조락 마스코트 종업원 잔디 럭키 여행 첫날 선택 이유 마찬가지 째 메종드오조락 선택 한몫 아가 꺄항 순둥순둥 잔디 털 보드랍다 후엥 덩치 커 아직 아가다 아가 오빠 옆 달라붙다 없이 투숙객 씩 내려오다 찬밥 럭키 럭키 조식 나누다 애절 눈빛 발사 금방 울다 눈빛 어휴 콩고물 떨어지다 이리저리 돌아다니다 럭키 너모너모너 귀여워 꾸엥 메종드오 조락 카페 바 뒤편 넓다 잔디밭 포토 존 럭키 잔디 히히 날씨 맑다 럭키 잔디 여유 롭 터 아쉽다 메종드오조 락 마을 날 계획 다녀오다 마을 메종드오조락 평생 잊다 추억 메종드오 조락 전화번호 메종드오조락 일출봉 치기 해변 섭지코지 나아가다 해변 올레 코스 관광 계획 안성맞춤 여행 계획 덜 복잡 조용 동쪽 여행 지극히 개인 취향 코드 코드 아직 적용 아래 혜택 달러 변경 결제 수수료 절약 결제 프로필 결제 수령 통화 꼭 달러 변경 결제 수수료 아끼다 참고\">]\n",
            "[2028, <tomotopy.Document with words=\"친구 여행 계획 발견 히 여행지 산 조용 맛있다 먹다 여유 쉬다 찾아보다 가깝다 교통 여행 예쁘다 발견 중순 다녀오다 모던 스파 수영장 실 침대 온돌방 단체 개별 바비큐 데크 실 퇴 실 뒷쪽 넓다 주차장 주차 사장 님 편하다 옮기다 주차 키 보증 신분증 수칙 시설 친절 설명 챙기다 일회용품 아담 거실 부엌 테라스 바베큐 굽다 먹다 시설 테이블 넓다 깔끔 굽다 먹다 못 먹다 패 사이즈 적당 깔끔 아담 부엌 파스타 간단 해먹다 좁다 불편 간단히 식기 편 수저 포크 기본 식용유 소금 필요 거실 연결 침실 창문 풍경 넘다 예쁘다 이불 쾌적 잠 테라스 바베큐 반 실내 날씨 영향 다소 높다 계단 열심히 올라가다 공간 칸 아담 쓸다 사이 나누다 따로 거실 뒤 샤워실 욕조 분리 버블 비누 깜빡 가져오다 아쉽다 뜨끈 반신 욕 날씨 더욱 예쁘다 손 님 수영장 은근히 넓다 끼리 근처 거리 롯데마트 먹다 계속 쉬다 과자 아이스크림 푹 놀다 파티 해외 여행 자주 친하다 친구 해외 못 가깝다 여행 넘다 힐링 임산부 열심히 굽다 친구 고맙다 푹 침대 모닝뷰 안뇽 강아지 착하다 귀여움 이름 초롱 다음날 근처 예쁘다 카페 두물머리 들르다 산뷰 계곡뷰 조용히 쉬다 깔끔 예쁘다 여행\">]\n",
            "[2029, <tomotopy.Document with words=\"유진 오늘 궁금 리뷰 원래 마켓 마감 올리다 여행 계획 블로거 본분 잊다 리뷰 올리다 제주도여행 제주감성숙소 종류 디럭 스다 더블 오션뷰 트립닷컴 발견 아고다 트립닷컴 싸다 비교 여행 출발 급하다 유명 이미 아래 최소 조건 만족 고르다 만족 바다 탁 트이다 모텔 캐리어 두개 펼치다 좁다 자세 참고 짠 외관 외관 아기자기 귀엽다 어울리다 드라이브 해변가 샛기정 공원 버스 정류장 로비 깔끔 카페 복도 말끔 못 찍다 아쉽다 틀다 들어오다 맘 좋아하다 아늑 분위기 새하얗다 침구 원목 네스트 생각나다 쇼파 면 맘 고르다 떠나다 시내 모텔 무조건 거르다 벽 하얗다 원목 패브릭 모텔 가깝다 글 크기 침대 빽빽 싫다 근데 꽤 여유 입구 쪽 전신 거울 화장대 귀엽다 거울 커다 랗 백색 화장대 만족 예쁘다 네모 날씨 걸다 트다 앉다 찍다 넘다 예쁘겠쬬 마운틴뷰 끼다 오션뷰 맞다 정면 틀다 전망 훌륭하죵 담 꼭 전체 바다 꽉 오션뷰 침대 뒤 벽 뒤 숨기다 공간 엄 신선 구조 맘 행거 붙다 벽 씻기다 옷 갈아입다 민망 원래 여행 옷 걸다 예쁘다 괜히 걷다 놓아보구 아래 냉장고 쏙 들어가다 싫다 숨기다 센스 짱 엄 넓다 샤워 칸막이 따로 튀다 에머니티 아침 오후 빛 정말 들어오다 세다 햇살 은은 햇살 찍다 제격 여성 좋아하다 총 아쉽다 가성비 솔직히 처음 찾아보다 만족 그냥 값싸다 소품 그럴싸 찍다 낚시 질 싸다 절대 서비스 별로 불편 메리트 가까이 넘다 어렵다 바 모텔 찾아보다 만족 후기 습 컨디션 착하다 급 엄 유명 부족 저렴 하루 괜찮다 찾다 별점 여행길 바라다 글 짧다 여행기 첨부 터 못\">]\n",
            "[2032, <tomotopy.Document with words=\"새로 생기다 따끈따끈 다녀오다 건물 개화기 시대 엄마 한옥스테이 분위기 예쁘다 스타 충남 핫해 질 예감 인터뷰 후기 상세 히 알리다 먼저 인터뷰 꼭 아직 네비 한일은행 지점 또는 역사관 검색 주차장 역사관 주차장 검색 주차 자리 넓다 편하다 뚜벅이 괜찮다 강경역 도보 거리 뚜벅 여행 주차 멋지다 건물 체크인 커피하우스 도착 건물 심취 찍다 바쁘다 충남 카페 예쁘다 숙박 커피하우스 카페 먼저 식 씩 가격대 다르다 매력 창문 빛 예쁘다 인터뷰 포토존 자세히 이색 충북 물씬 알리다 식 선택 일본 옛날 근대 식 건물 이불 수건 푹신푹신 포근 전체 아늑 힐링 공간 창문 배경 찍다 창문 블라인드 밤 창문 다양 각도 열리다 거실 티비 테이블 전체 원목 충전기 비치 에어컨 새로 짓다 건물 깨끗 맘 쏙 와이파이 문자 비밀 번호 아쉽다 천천히 빠지다 전반 깨끗 어메니티 기본 편리 요즘 칫솔 치약 칫솔 세트 샴푸 린스 바디워 기본 갖추다 기초 화장품 챙기다 간단히 해먹다 취사 한옥스테이 즐기다 인터뷰 하루 꽉 보내다 냉장고 그릇 수저 세트 주걱 필요 물품 주위 매점 아침 간단히 해먹다 재료 저녁 불 들어오다 꼭 드라마 촬영 아름답다 뉴트 분위기 테마 컨셉 부합 한옥 맘 쏙 투숙객 커피 무료 제공 맛있다 연속 커피 직접 커피 맛 괜찮다 분위기 스럽 이색 찍다 드라마 세트장 미스터 선샤인 카페 자리 앉다 가족 친구 단위 다양 커피 카페 핫해 메뉴 판 반사 커피 부분 올리다 아메리카노 바닐라 테 아인슈페 카푸치노 메뉴 아인슈페 아메리카노 괜찮다 달달 좋아하다 아인슈페 괜찮다 디저트 다양 히 첫날 늦다 디저트 카페 일찍 아직 생기다 한적 쉬다 웰컴 선물 먹다 카페 먹다 커피 맛 양과자 광장 감성스팟 저녁 칼국수 먹다 옥녀봉 다녀오다 근처 자세히 포스팅해 충남 인터뷰 한옥스테 솔직 후기 업체 체험 권 제공 솔직 작성\">]\n",
            "[2085, <tomotopy.Document with words=\"여름휴가숙소 강원도숙소추천 양양숙소추천 힐링숙소 비욘드 전용 감성스테 조식 제공 취사 불가 공용 공간 간단 더블 트윈 비수기 재 제공 자세 요금 규칙 제조업 다니다 극 여름 휴가 주어지다 모든 기본 가운데 중반 넘다 괜찮다 찾다 찰나 친구 스테이비욘드 후기 터 전경 이미 실제로 아름답다 한적 조용 공간 여름 풀벌레 소리 들리다 힐링 자체 첫인상 비욘드 더블 솔직 후기 문 열다 들어서다 옷장 파우더 좁다 편 파우더 끼다 들어가다 침실 노출 콘크리트 인테리어 군더더기 침상 소파 공간 티비 쇼파 공간 너머 개인 테라스 테라스 옆 막히다 프라이빗하 덥다 여름 테라스 잔 청결 문제없다 음 살롱 공용 공간 스테이비욘드 취사 불 공용 공간 간단 취사 먹다 심하다 먹다 공용 공간 책장 사이 이닝 공간 독서 공간 나뉘다 공용 공간 쇼파 앉다 바라보다 모습 마음 차분 힐링 공간 첫날 스테이비욘드 킬링 포인트 풀밭 샷 여름 앉다 바라보다 충분히 봄 비욘드 조식 아침 공용 공간 나누다 가져오다 먹다 간단 조식 크루아상 샌드위치 주스 커피 아침 충분 샌드위치 맛있다 조식 나누다 새 수건 예쁘다 바구니 담다 바구니 가지런 히 담기다 비품 깔끔 정갈 사장 님 성격 느끼다 제공 에비앙 피지 워터 개인 물맛 최고 식기 류 비치 요청 와인 잔 수저 오프 치약 필요 요청 녘 저녁 비욘드 둘째 날 날씨 맑다 비욘드 장점 조용 차분 분위기 깨끗 굉장히 편 맛있다 조식 아름답다 전경 비싸다 단점 취사 불가 넓다 크기 티비 까다롭다 느끼다 규칙 원칙 중요 사장 님 포스 퇴 두들기다 더블룸 재 트윈 선택 트윈 편하다 구조 욕조 정적 분위기 규칙 온전 히 쉼 초점 맞추다 꽤 높다 만족도 느끼다 재 의사\">]\n",
            "[2092, <tomotopy.Document with words=\"여름 휴가 고심 고심 선택 항상 성비 추구 꼭 예쁘다 편안 히 쉬다 미리 미리 휴가 비행기 요금 끝 고민 확정 찾아보다 정말 하늘 따다 이것저것 휴가 전날 바쁘다 신랑 손 품 아파트 누 취소 날짜 정말 찾아보다 이미 꽉 재수 재수 한적 푸릇푸릇 서쪽 아파트 네이버 아파트 금액 극 연박할 적용 아파트 원룸 형태 욕조 크기 욕조 크기 살짝 욕조 구조 극 선택 여지 욕조 머물다 여행 욕조 거품 아파트 외관 주변 환경 파랗다 하늘 푸릇푸릇 들판 모던 가득 아파트 아파트먼트 카페 주인장 이루어지다 카페 손 님 일반 손님 지인 이야기 나누다 공간 사용 한적 카페 손님 편 주차 공간 널널 전기 충전소 청수리아파트 건물 건물 사이 올라가다 계단 주인장 강아지 강아지 무서워하다 편 강아지 짖다 순하다 눈빛 바라보다 정말 귀엽다 아파트 근처 산책길 가깝다 가마오름 아파트 올라가다 슬라이드 문 열다 들어가다 복도 복도 아파트 농어촌 민박 사업자 신고필증 붙다 돌담 제주안심코드 체크인 코로나 인하다 대면 문 포스트잇 이름 붙이다 아파트 들어가다 들어가다 부엌 아래 오른쪽 출입구 쪽 찍다 아파트 부엌 침대 눈 정화 싱그럽다 군더더기 없이 깔끔 모던 소품 하나하나 브랜드 드라이 토스트 커피포트 하나하나 차근차근 살펴보다 먼저 아파트 창문 쪽 커다랗다 욕조 과장 넓다 욕조 나란히 세면대 변기 수건 급 핸드타올 씩 어메니티 샴푸 린스 바디워 바디 로션 배쓰솔 트다 샤워 볼 샤워 공간 별도 욕조 샤워 부분 불편 후기 그럭저럭 괜찮다 넓다 욕조 하루 피곤 싹 거품 청수리아파트 침대 스탠드 슬리퍼 귀마개 침대 창문 쪽 슬라이드 시청 귀마개 심상 개인 첫 날 넘다 잠들다 옆방 쯤 꺼 괜찮다 둘째 날 옆 바뀌다 프로그램 시청 귀마개 쪽 문 닫다 확실히 한편 침대 매트리스 침구 굉장히 폭신 최 상급 아파트 부엌 디퓨져 향기 아파트 깔끔 화이트 커피포트 토스트 소품 모래시계 예쁘다 그릇 싱크대 아래 칼 가위 냄비 비닐 아침 체험 청귤청 천혜향잼 간단 해결 아파트 하이라이트 멋지다 시골 한적 느끼다 하늘 아파트 예쁘다 아파트 해질녘 불그스름 하늘 털다 숭 숭 신랑 다리 출연 부엌 열쇠 입시 유의 사항 유의 사항 정말 자세 내용 살펴보다 침대 음식물 섭취 삼겹살 튀김 청국장 생선 찌개 파스타 정말 간단 불 써 이해 까다롭다 편 괜히 먹다 이거 괜찮다 눈치 아파트 개인 별점 장단점 장점 한적 오롯 느끼다 한적 동네 주변 환경 굉장히 조용 편 통창 예쁘다 싱그럽다 가득 주변 지대 높다 하늘 맘 껏 밤 불그스름 예쁘다 하늘 침대 침구 편하다 매트리스 푹신푹신 침구 고급 스럽 느끼다 베개 알맞다 높이 꿀 잠 욕조 거품 즐기다 손색 넓다 욕조 맘 깔끔 깨끗 전반 깔끔 깨끗 가득 업무 카페 업무 부엌 의자 편안 부엌 의자 불편 업무 단점 소리 민감 피곤 그냥 잠 옆방 늦다 잠 못 이루다 지키다 유의 사항 유의 사항 멈칫 멈칫 잘못 괜히 눈치 와이 파이 불 프로젝터 연결 어려움 와이 파이 불 프로젝터 연결 못 올레 설치 넷플릭스 연결 올레 여행 첫 째 그만큼 가격대 높다 일반 저렴 자세히 아파트 정말 매력 깔끔 모던 선호 정말 가족 단위 머물다 어렵다 단점 민감 한번 쯤 돈 산 솔직 후기 끝\">]\n",
            "[2101, <tomotopy.Document with words=\"빌라드남해 확 트이다 오션뷰 모던 인테리어 모든 오션뷰 자랑 요즘 프라이빗함 선호 인기 이유 프라이빗함 강조 정말 매력 경상남도 리 붉다 벽돌 디자인 외국 놀다 맛 핫함 히노끼탕 바다 편안 휴식 취하다 오션뷰 히노끼 탕 이거 그만큼 매력 빌라드남해 구조 단층 숙박 형태 신축 건물 비싸다 가전제품 확실히 고급 스럽 해외여행 못 국내 여행 몰리다 핫해 씩 형태 나누다 풀장 끼다 탕 실내 욕조 침대 거실 개별 바베큐 타입 침대 퀸사이즈 소파 거울 청정기 시스템 에어컨 벽걸이 프로젝터 식기 없이 갖추다 요금 발생 참고 바라다 요금 금요일 바베큐 그릴 발생 히노 끼다 요금 발생 아쉽다 애견 동반 불가 요즘 애견 동반 힘들다 생기다 타입 역시 풀장 히노끼탕 나머지 용품 마찬가지 비용 발생 금요일 단층 단층 금요일 빌라드 비수기 준 다르다 꼭 참고 바라다 비싸다 엄청 비싸다 차이 꼭 일정 확인 금액 앱 네이버 공식 인피니트 희망 별도 발생 최 고급 다이슨 청정기 드라이 숙박 시설 다이슨 처음 인피니티 퇴실 히노 끼다 탕 스파 일몰 맞추다 눈물 피곤 촥 풀리다 하늘 엄청 예쁘다 프라이빗 방해 제대로 즐기다 빌라드남해 매력 포인트 개별 테라스 바베큐 파티 즐기다 장점 공용 당연히 물놀이 끝나다 노을 바베큐 파티 맛있다 캠핑 먹다 결론 말씀 히노끼탕 이국 즐기다 정말 강추하 빌라드남 확실히 자체 프라이빗 코시국 마음 편하다 시설 요즘 신혼여행 쪽 다녀오다 여름 휴가 시즌 마음 잡다 하늘 따다 엄청 핫 후기 참고 기회 꼭 다녀오다 바라다\">]\n",
            "[2106, <tomotopy.Document with words=\"일전 모포 호스트 님 새롭다 가져오다 심야식당 컨셉 나들 바닷가 마을 독 채 전체 나무 인테리어 더욱 일본 여행 침실 침대 개인 마음 포인트 심야식당 컨셉 부엌 친구 여행 대결 즐겁다 보내다 스팟 일본식 히노끼 탕 일본 여행 심야식당 컨셉 나들 어렵다 핫플 아래 모포집 궁금 아래 포스 팅 참고 출처\">]\n",
            "[2131, <tomotopy.Document with words=\"정말 사심 가득 유명 애 근처 소 공원 토 공휴일 전날 당일 날짜 확인 문자 먼저 접수 요금 짜다 잔 으 착 숙박 당일 문자 현관 비밀 번호 두근두근 요기 로비 님 아침 조식 공간 들어가다 아늑 분위기 기분 확 총 테이블 조식 먹다 중요 자리 소 공원 머무르다 참고 문 꽤 돌리다 열리다 문 열다 소리 흘러 봤더 세상에 섬세 문 열다 기분 공간 문 열다 입구 귀엽다 냉장고 의자 옷 걸다 공간 인테리어 예쁘다 공간 활용 뛰어나다 꺅 옆쪽 침대 예쁘다 창밖 흔들 의자 소품 소홀 너무나 예쁘다 공간 냉장고 옆 서랍 스푼 와인 오프 잔 간단 스낵 류 섭취 심하다 침구 오염 섭취 불 근데 혹여 공간 먹다 부분 넓다 욕실 스타 핫 아쉽다 좁다 좁다 덜 소공원스테이 넓다 깨끗 욕실 자국 들어오다 침대 예쁘다 창밖 바라보다 해질녘 빛 예쁘다 들어오다 인생 샷 귀엽다 소품 프로젝터 넥플릭스 연결 센스 채다 다음날 아침 무료 제공 조식 먹다 조식 전날 오후 알리다 날 조식 유부초밥 예쁘다 어쩜 무료 제공 조식 성적 맛있다 웬만 카페 도시락 맛있다 예쁘다 둘째 날 스냅 촬영 일정 일찍 나가다 조식 못 먹다 아쉽다 흑 창밖 열다 원피스 아침 조금씩 빛 덜 이거 이거 분위기 테라스 딸리다 밖 의자 아쉽다 떠나다 오늘 아침 요새 머무르다 기본 넘다 솔직히 저렴 숙박비 접다 웬걸요 인테리어 분위기 청결 님 친절 침구 욕실 근처 편의점 손 꼽다 공간 공간 제공 님 감사 여행 기재 업체 제품 직접 경험 작성 글 협찬 체험 후기 무관 본문 글 저작 권 무단 배포 제주여행 세리투어 제주도숙소 제주호텔 제주숙소 제주에어비앤비 소공원스테이 제주맛집 제주카페 제주토템오 세러데이 아일랜드 노고 맛 맛 오빠 제주가성비맛 토템 제주토템오 찻집 여행 일정 여행 일정 제주항공 대한항공 국내 김포공항 여행 일정 여행 경비 신혼여행 신혼여행 국내 신혼여행 여름휴가 국내 여름휴가 여름휴가국내여해우 국내 여행 국내 여행 맛 카페 핫 프다 식당 고등어 제주오마카 세 제주스시 제주스시야 횟집 횟집 소공원스테이예 소공원스테이예 카페 제주카페차롱 제주토템오 토템오 카페차롱 도민 막 시내 한라산 한라산 한라산 등반 스타 스타 포도 한라 한라 포도 한라산 등반 여행 주스 웨딩 촬영 제주야외스 냅 제주웨딩스 촬영 야외 스냅 한복 스냅 제주한복스 드레스 드레스 결혼식 웨딩 웨딩 터치바이 빛물 꽃 메르시스 냅 메르시스냅 파리 메르시스냅 한복 드레스 원피스 한복 생활 한복 세즈윅 협찬 모델 모델 광고 모델 신혼부부 신혼부부 스냅 신혼부부 웨딩 촬영 웨딩 야외 촬영 웨딩야외스 꽃집 제주부 제주메이크업샵 국내 여행 소공원스테 귤 꽃 다락 소공원스테이예 소공원스테이 미영 식당 토템오어 주차 노고 카페모알보 벨진밧 그럼외 빛 벙커 슬슬슬로 우 곰 막 식당 바 코 아름 식당 제주이와 제주폴로 컨트리클럽 폴로 컨트리클럽 승마 한국 폴로 컨트리클럽 산 나름 냅 정식 한식 한복스 제주한 귀포\">]\n",
            "[2169, <tomotopy.Document with words=\"서쪽 가격대 토끼 잡다 가져오다 오즈 귀엽다 강아지 오즈 마스코트 꽤 넓다 마당 오즈 가격대 괜찮다 원룸 형 원룸 필요 먼저 테이블 오즈네 매력 공간 화이트 테이블 듬뿍 담다 오즈네 마당뷰 껏 즐기다 토스트 먹다 꿀맛 간단 부엌 침대 따뜻 침대 플레이스테이션 연결 게임 즐기다 프로젝트 플레이스테이션 살짝 반전 친구 가볍다 게임 보내다 깔끔 오즈 개별 독 채 건물 이루어지다 사이 패브릭 소품샵 아기자기 소품 좋아하다 구경 오즈네 즐기다 서쪽 괜찮다 찾다 오즈 가져오다 공유 일정 수익 돌아오다\">]\n",
            "[2202, <tomotopy.Document with words=\"제주노천탕숙소 제주감성숙소 신혼 여행 늦다 찾아보다 나머지 이미 마감 군데 성공 급하다 알아보다 고생 아깝다 씩 깨다 탕 보유 리스트 참고 취향 키워드 꼽다 탕 자쿠지 돌담 독 채 괜찮다 마감 아쉽다 후기 호미 탕 족 욕탕 거리 욕조 밖 거리 밖 거리 숙박 포기 아쉽다 시설 굿 거리 밖 거리 이어지다 독채 아쉽다 하루하나더노스텔지 여유 정말 사장 님 스타 탕 짱 예쁘다 정말 꼭 사장 님 군데 카페 군데 운영 탕 벽돌 욕조 프로 맘 실내 욕조 탕 군데 후기 엄청 좋아서 모든 후기 찾다 바꾸다 싸다 이미 마감 하루나 뜰 프라이 빗 일본 료칸 유카타 일본 여행 유일 그립다 료칸 굳이 신혼여행 일본 사장 님 성함 욕조 나무 료칸 엄청나다 이미 마감 게으르다 오후 문 손잡이 하나하나 꽤 편 제주커플숙소 제주노천탕 제주도노천탕숙소 제주여행 제주신혼여행숙소 제주인스타감성숙소 제주숙소인스타 제주료칸 제주신혼여행 내신혼여행이제주도라니\">]\n",
            "[2247, <tomotopy.Document with words=\"후기 여행 찾아보다 시작 마침 맞다 찾다 달러 환율 미세 차이 오늘 꽤 괜찮다 금액 국내 세계 여행 자주 다니다 애용 숙박 형태 가끔 실패 대부분 성공 대부분 여행 편 꿀 팁 결제 한화 달러 지불 금액 저렴 한화 카드사 수수료 이중 지불 꼭 명심 여행 항상 오션뷰 고집 대부분 오피스텔 여행 일반 주택 가정집 스타일 찾아보다 원하다 스타일 주택 픽 시내 거리 걷다 내외 현관문 열다 쇼파 들어서다 깜짝 이유 넓다 그동안 여행 넓다 자랑 확실히 실 평수 일반 주택 넓다 맞다 오피스텔 형식 다르다 시원시원 넓다 개방 냉장고 생수 병 걱정 없이 선호 첫 째 이유 취사 선택 장기간 여행 필연 줄이다 비용 식비 부분 굶다 먹다 먹다 발생 어설프다 먹다 먹다 맛있다 고르다 먼저 취사 먼저 확인 편 역시 취사 깨끗 맘 전자레인지 캡슐 커피 머신 간단 과자 호스트 배려 센스 돋보이다 짱짱 맨 중요 침실 컨디션 없이 굿 굿 푹신 침대 마음 매트리스 전기장 판 깔리다 따뜻 직접 침대 머리맡 프로젝트 터 침대 눕다 감상 항상 볼거리 노트북 아이패드 넣다 다니다 서타일 따로 서타일 꼭 한번 넓다 옷걸이 바구니 드라이 드라이 제대로 호스트 연락 빠르다 응대 대응 시해 감사 필요 호스트 묵묵부답 짜증 동시 유발 여행 호스트 너무나 만나다 드라이 연락 김치 반찬 침실 반대편 식탁 놓이다 거실 분리 여행 항상 작업 공간 따로 환영 간단 간식 먹다 첫날 먹다 꿀맛 필요 좋아하다 맥콜 맛있다 모금 맛 숯 재 맛 이거 돈 먹다 거부 맥콜 좋아하다 물갈퀴 보리 참맛 뿌듯 맛보다 맛 품 절이다 아쉽다 충분히 맛있다 어묵 고로케 이거 따로 이거 먹다 터 다이어트 정말 조촐 맛 언제나 깔끔 맛 자랑 포스틱 야채 작업 공간 활용 이틀 밤 출출 야식 먹다 애용 출장 여행 업무 칫솔 챙기다 샴푸 린스 바디워시 따로 챙기다 용품 사용 카탈 스럽 짐 늘리다 뿐 그냥 용품 사용 단점 수압 굉장히 약하다 편 못 수준 다니다 수많다 비교 수압 굉장히 나쁘다 편 속하다 뜨겁다 처음 뜨겁다 꾸준 히 들쑥날쑥 느끼다 차이 다르다 사용 수준 호스트 따로 정말 미지근 샤워 못 타입 겨울 힘들다 단점 넣다 고민 느끼다 불편 부분 넣다 와이파이 부재 무 요금 치명 단점 수많다 다니다 와이파이 처음 부분 관련 와이파이 부재 불평 늘어놓다 장점 후기 춥다 후기 전혀 반바지 반팔 이유 보일러 빵빵 돌아가다 일반 꾸미다 모든 깨끗 깔끔 주요 관광지 쉽다 다니다 장점 중앙시장 걷다 다녀오다 산책 동네 구경 걷다 다니다 넘다 금액 넓다 편안 사용 찾다 성비 고려 최고 글 땡스포 궁금 비댓 댓글\">]\n",
            "[2248, <tomotopy.Document with words=\"고즈넉 환경 휴식 필요 충북 인터뷰 인터뷰 다양 지역 오늘 지역 인터뷰 소개 야외 테라스 공간 별도 조용히 책 읽다 커피 엄 크기 넓다 원룸 형태 간이 부엌 침대 옆 가볍다 커피 테이블 깔끔 편 성비 여행 휴식 토끼 잡다 충북 인터뷰 날씨 날 테라스 보내다 만족도 아래 참고 출처\">]\n",
            "[2249, <tomotopy.Document with words=\"따찌따찌한결 오늘 보름 살기 오소록 디 여행 막바지 친정 오빠 합류 미리 검색 찾아내다 오소록헌디 단독 독채펜션 싱그럽다 고스 히 담다 예쁘다 친정 가족 오소록 포스 팅 시작 혹시나 쪽 검색 올레길 코스 마을 섶 섬 바다 거리 시내 버스 탑승 농협 신협 하차 도보 가량 걸리다 총 이루다 오소록 헌 디 방언 조용 아늑 예쁘다 따뜻 남쪽 마을 바닷가 따뜻 햇살 바다 내음 느끼다 들어가다 섶 섬 체크인 따찌따 찌다 한결 세우다 감상 주변 예쁘다 저녁 먹다 무조건 산책 찜 콩 체크인 섶 섬 산책 불과 여행 이유 숙박업 전문 민가 민가 형 허가 정성 본인 꾸미다 양심 빵꾸 대부분 고르다 멋지다 발견 특징 규모 거리 규모 밖 거리 짓다 특징 역시 거리 두개 밖 거리 그냥 이루다 안거리 채 밖거리 단점 밖 거리 잠 새벽 거리 그치 이미 볼일 끝내다 잠 세상 잠 여행 일정 새벽 따로 이유 마당 정말 예쁘다 한결 찍다 일정 오후 눈 풀리다 오소록헌디 장점 바베큐 그리다 장난 넓다 그릴 휘닉 스다 불 턱 화덕 생선 해산물 굽다 먹다 끝장 여행 막바지 피로 급격 히 쌓이다 피곤 패스 제목 붙이다 오소록헌디 마당 그리 넓다 예쁘다 살뜰 히 가꾸다 담장 쪽 귤나무 단단 야무지다 귤 못내 주황주황 아쉽다 새언니 친정 오빠 춥다 왠지 귤 주황주황할때와 예쁘다 한마음 너무나 마음 쏙 그만큼 예쁘다 한적 아늑 공간 거리 문 열다 들어가다 오소록헌디 특징 년대 돌담 흙벽 친 환경 리모델링 가운데 기둥 쌩뚱맞 은근 멋 스럽 현대 식 리모델링 샷시 굉장히 티비 벽면 큼지막 설치 벽면 벽난로 특징 옆 소화기 비치 거실 크기 아기 식탁 의자 비치 식탁 식구 모이다 먹다 불편 따로 밥상 그거 살짝 불편 넓직 불편 냉장고 도어짜리 넉넉 오븐 레인지 토스트 드롱 커피 머신 고급 지게 역시 굿굿이 처음 말씀 장점 규모 숙박업 비품 은근 돈 아끼다 부분 본인 소일거리 운영 비품 돈 아끼다 예쁘다 비치 자꾸 검색 용품 싱크대 서랍 가득 편하다 사용 맞추다 미리 도착 새언니 사장 님 미리 탭 멋지다 음악 틀다 왠지 환영 기분 어울리다 음악 기분 특별 딸리다 안방 오소록헌디 넓다 침대 사이즈 빼다 밑 성인 넉넉 공간 침대 넓다 폭신 매트리스 상태 꿀 잠 거리 침실 저상침대 특징 침대 밑 공간 충분 밑 이불 깔다 침구 뽀송뽀송 매트커버 청결 밖 거리 마지막 침실 따로 티비 특징 높다 창문 인상 사이즈 넓다 그치 딸리다 밖 거리 살짝 불편 남매 사이 빨리 들어오다 고르다 큰오빠 거실 넓다 드럼 세탁기 샤워 커튼 샤워실 흔히 샤워 커튼 물곰팡이 없이 뽀송뽀송 안방 딸리다 샤워 커튼 더불다 살뜰 창문 커튼 철저 적어도 오소록 만나다 힘들다 머물다 청결 너무나 편하다 머무르다 위생 무척 깔끔 합격 저녁 먹다 가족 섶 범 산책 걷다 주변 예쁘다 느리다 걸음 사색 놓치다 주변 카페 예쁘다 벽화 산책 맛 여행 먹다 놀다 아프다 없이 여행 버티다 한결 고맙다 일정 어른 똑같이 버티다 기특 따찌따 찌다 한결 마지막 여행 며칠 친척 동생 즐겁다 여행 오소록 섶섬 주변 올레길 코스 끼다 나위 없이 아름답다 공간 물씬 아마도 찾다 계시다 오소록 꼭 한번 선택 강추 단독독채 반대 다녀오다 오소록 포스 팅 끝\">]\n",
            "[2250, <tomotopy.Document with words=\"새롭다 떠오르다 여행 트렌드 촌캉 스다 촌캉 스다 트렌드 꼭 맞다 가져오다 초반 촌캉 스다 즐기다 재 외관 시골 느끼다 아궁이 고구마 감자 굽다 먹다 침대 구들장 따뜻 하루 보내다 재 다래 깔끔 편 야외 바베큐 즐기다 할머니 푹 쉬다 촌캉 스다 좋아하다 재 봄 멍 때리다 제일 공간 관련 아래 참고\">]\n",
            "[2263, <tomotopy.Document with words=\"친구 여름 여행 원래 탈 코로나 심하다 아직 뚜벅 찾다 발견 아르 떼 건물 코 시국 프라이빗 놀다 장점 사이 고민 급하다 자리 나서다 가스 그리다 무 통장 입금 총 완료 간절곶 들어가다 근처 나사해수욕장 펼쳐지다 바다 주차 주차 담기다 이쁘다 마침 이거 슬다 운명 침대 아래 이불 바깥 테라스 장난 나중 굽다 테라스 먹다 해수욕장 이쁘다 수건 넉넉 샴푸 린스 바디워시 입욕 사장 님 센스 감동 토스트 전기 포트 커피 머신 아침 늦잠 바람 사용 못 아쉽다 깔끔 깔끔 식기 사용 충분히 수영장 전반 분위기 외관 즐겁다 물놀이 야외 수영장 편 들어가다 미 풀장 온도 적당 코시국 물놀이 절겁 절 워 튜브 아르 떼 무료 대여 쯔 음 바라보다 풍경 예술 물놀이 먹다 꼬기 예술 전기 그릴 처음 사장 님 친절 알리다 다행히 굽다 배부르다 먹다 밤새다 놀다 밤 벌레 꽤 테라스 왔다갔다 문 열다 사이 벌레 들어오다 모기향 전기 파리 채다 활용 층간소음 다소 취약 참고 놀다 바래다 아르 떼 근처 식당 걸어가다 나사해수욕장 바라보다 먹다 자세 아래 코시국 정말 근교 정말 즐겁다 놀다 울산펜션 울산풀빌라 울산감성숙소 울산숙소추천 울주펜션 나사리 간절곶 아르떼하우스 서이추환영 서이추 이웃환영 이웃\">]\n",
            "[2264, <tomotopy.Document with words=\"여행 일본식 느끼다 시절 화담 여관 규니 여행지 여행지 분위기 담기다 요즘 특색 관광지 늘어나다 여기저기 돌아다니다 옛날 무조건 해외여행 비행기 나가다 터 최근 아름답다 국내 여행지 찾아다니다 벽화 마을 한옥마을 산 바다 관광지 옛날 담다 좋아하다 한옥마을 한옥 카페 적산 오래다 분위기 분위기 자주 등장 여행 여행 일본식 느끼다 시절 게스트하우스 화담 여관 화담 여관 대표 관광지 근대화 거리 쪽 옛날 거리 여행 마을 쪽 근대 분위기 오래 시가지 골목길 주차장 따로 근처 주차 걷다 들어오다 화담 여관 주차 짐 챙기다 체크인 걸어가다 세차다 쏟아지다 간신 히 걸어가다 골목길 분위기 눈길 끌다 빗물 으슥 거리 자꾸 끌리다 떼다 발걸음 끌다 간신 히 체크인 짓다 일본 주택 리모델링 화담 여관 분위기 그대로 살리다 깨끗 하얗다 벽 꾸미다 짙다 갈색 기둥 나타내다 신발 벗다 슬리퍼 갈다 기다리다 체크인 온도체크 출입 명부 작성 들어가다 앉다 쉬다 담소 나누다 거실 러그 편안 쇼파 앉다 책 읽다 무척 특이 거실 따로 주변 트이다 올라가다 조식 먹다 개인 거실 주변 록 가볍다 읽다 책 엽서 다녀오다 요시고 거실 켠 붙다 모습 무척 반갑다 체크인 지체 방명록 살펴보다 지나가다 손 님 기록 가득 가볍다 하나하나 씩 읽다 모습 기분 여행 화담 여관 거실 분위기 합격 도미토리 사용 수건 귀마개 키카드 카드 들어가다 필요 밖 나가다 무조건 다니다 잃어버리다 주의 안쪽 들어가다 돌아다니다 화담 여관 실 모습 좁다 도미토리 낮다 침대 괜찮다 침대 나누다 커튼 안쪽 전등 개인 공간 유지 좁다 짐 귀중품 보관 락커 따로 침대 밑 쪽 공간 따로 가져오다 짐 발 밑 보관 락커 발 밑 따로 보관 마음 문 화담 여관 붙다 기본 수칙 비슷 화담 여관 오래 일본 목조 주택 개조 더욱 소음 취약 주의 적히다 화담 여관 도미토리 공용 샤워실 샤워실 파우더 넓다 편하다 남자샤워실 여자샤워실 나누다 눈치 샤워 용품 열심히 깔끔 현대 리모델링 일본식 살리다 도미토리 가족 실 다다미 꽤 분위기 들어가다 복도 시절 주택 연인 가족 친구 끼리 놀다 다다미방 괜찮다 화담 여관 짓다 따로 따로 날씨 맥주 먹다 이야기 금연 조식 먹다 먹다 부엌 부엌 꽤 감각 인테리어 깔끔 부엌 켠 조식 먹다 시리얼 그릇 정수기 비치 특별 메뉴 없이 비슷 조식 먹다 아침 일찍 나가다 아침 먹다 아침 먹다 편 늦다 일어나다 터 일찍 장점 일찍 먹다 나가다 여행 알리다 여행 일본식 느끼다 시절 게스트하우스 화담 여관 여행 게스트하우스 짓다 일본식 주택 리모델링 목조 주택 가득 여행 친구 또는 연인 근대화 거리 쪽 뚜벅이 걸어다니다 워낙 좁다 도시 대표 여행지 걷다 구경 감안 거리 오래 거리 안쪽 근대화 거리 다르다 느끼다 쪽 여행 한번 화담 여관\">]\n",
            "[2277, <tomotopy.Document with words=\"지난번 완벽 하루 숙박 처음 숙박 레반 지역 카페 맛 노잼 도시 불리다 은근 찾아보다 리스트 공유 호수 하루 반신 욕하다 공간 호수 하루 공간 욕조 앉다 액자 기분 기억 호수 하루 다락방 인기 개월 빡세다 수수료 포함 바베큐 다락방 취사 오후 레바 유명 카페 레반다빌라 디자인 레반 카페 예쁘다 공간 발견 숙박 오브제 넘다 터지다 구경 재미 과하다 미니멀 수수료 포함 취사 불가 오후 완벽 하루 이름 느끼다 호수 하루 호스트 운영 한옥 독채펜션 완벽 하루 작년 봄 초여름 다녀오다 아직 기억 바비큐 불 멍 셀프 사진관 부족 후기 포스 팅 찾아보다 날 확인 못 갔 취사 프로젝터 바베큐 불 멍 셀프 사진관 오후 교토스탠다 드 태초 교토 스탠다드 여름 완벽 하루 일찍 발견 저장 후기 두세 육박 그만큼 멋지다 일본 애니메이션 비쥬얼 계절 꼭 수수료 포함 취사 불가 오후 아래 퍼센트 취향 부합 만족 스럽 세 꼽다 급하다 아무 싫다 어렵다 차선 선택 하이스테 구조 하이스테 매트리스 더블 아래층 윗층 씩 공간 넓다 여러 편하다 원목 라탄 인테리어 포인트 따뜻 분위기 돋보이다 서구 탄방동 수수료 포함 프로젝터 오후 테이크 미 홈 군더더기 없이 심플 테이크 미 홈 예쁘다 소품 잔뜩 깔끔 심플 인테리어 양념 소스 기본 재료 간단 먹다 자양동 수수료 포함 프로젝터 취사 오후 러브앤 피스 아기자기 스럽 돋보이다 러브앤피스 침실 거실 테라스 단독 장점 테라스 바베큐 용운동 수수료 포함 테라스 바베큐 취사 오후 페이지 이루다 어소시에이트 돌아오다\">]\n",
            "[2291, <tomotopy.Document with words=\"벌써 여름 휴가 계획 꽤 가져오다 수영장 깨끗 시설 수영장 멋지다 수영장 독 채 사이 공동 사용 정말 퀄리 티 수영장 공용 살짝 아쉽다 멋지다 특히 여행 계획 단독 수영장 여행 수영장 멋지다 깔끔 쾌적 침실 따뜻 우드 시그니처 대나무 수영장 멋지다 뷰맛 풍경 즐기다 깔끔 쾌적 수영장 수영장 쾌적 시설 찾다 특히 호방 대나무 즐기다 감성독채펜션 수영장 장점 갖추다 수영장 가져오다 공유 일정 수익 돌아오다\">]\n",
            "[2304, <tomotopy.Document with words=\"리스트 스타 시골 좋아하다 터 가져오다 시골 시골 마을 고즈넉 봄 여름 겨울 너무너무 멋지다 옆 사용 침실 세탁실 전망 휴식 공간 정말 특이 소소한 특이 부엌 야외 야외 별채 부엌 부엌 옆 테라스 먹다 통나무집 야외 부엌 노을 예술 힐링 즐기다 찾다 시골 거리 용추계곡 수승 덕유산 지리산 자연경관 유명 관광지 근처 여행 머무르다 특히 여행객 숙박 숙박비 정말 저렴 저렴 혼 여행 충분히 고즈넉 시골 가져오다 공유 일정 수익 돌아오다\">]\n",
            "[2308, <tomotopy.Document with words=\"끼리 여행 속소 이름 조용 생활 렌탈 건물 전체 대여 독 채 민박 독 채 민박 용어 다양 쓰이다 독 채 렌탈 독 채 비슷 형태 리조트 비교 로비 비롯 공용 부대시설 편리 웬만 컨디션 보장 찾다 맞다 공용 공간 실제 머물다 공간 넓다 주인장 개성 묻어나다 인테리어 찾다 독 채 민박 맞다 개인 공간 여유 롭 독 채 민박 쪽 선호 편 중요 조용 생활 요금 아무래도 일행 여행 맞다 자세히 씩 요금 특이점 네이버 현황 살펴보다 진행 다녀가다 후기 살펴보다 예쁘다 공간 표현 두드러지다 조용 분위기 시골 여유 롭 느끼다 후기 특히 독채 여러 다니다 느끼다 여행 독 채 민박 찾다 맞다 느끼다 깔끔 예쁘다 공간 인테리어 주인장 내외 직접 손길 대부분 닿다 핸드 메이드 홈 장점 에어컨 천 나뭇잎 심플 치장 부분 기억 돈 때우다 정성 들어가다 공간 값어치 느끼다 넘다 몇몇 럭셔 따라가다 조용 생활 자세 공간 설명 조용 생활 천천히 살펴보다 분위기 파악 이미지 충분히 붙이다\">]\n",
            "[2321, <tomotopy.Document with words=\"오늘 다녀오다 여행 포스 팅 갔다오다 꼭 알리다 묶다 양양써니사이드업 에어비엔비 결제 가까이 써니사이드업 갯마을 해변 언덕길 한적 근처 로컬써퍼샵 카페 팀 비싸다 힘들다 올라가다 풍경 아래 이거 정말 갖다 브라운디터람 스다 턴테이블 영접 워낙 오래 브랜드 매물 엄청 비싸다 꼭 겟 할꺼 원목 라탄 현대 트렌디 어울리다 코지하 세련 탄성 큰방 거실 아래 벽 볕 제공 아날로그 폴라로이드 이쁘다 묶다 고객 폴라로이드 필름 넣다 아끼다 직접 해먹다 식기 이쁘다 맛 삼겹살 못 먹다 참고해주세욧 근처 해변 아날로그 폴라로이드 찍다 확실히 화질 뿌옇다 나름 옛날 그대로 묻어나다 추억 간직 여행 써니사이드 한번 커피 맛나다 분위기 짱이랍니 닷\">]\n",
            "[2335, <tomotopy.Document with words=\"작년 여름 다녀오다 여행 기억 반짝이다 주차 컨디션 괜찮다 그리하다 일정 다녀오다 신혼여행 태교 여행 괌 이야기 나누다 괌 코로나 이후 태교 여행 그냥 겸사겸 놀다 고고 여행 모든 코스 남편 원래 이거 저거 찾아보다 스타일 임산부 특권 주로 부부 처음 촌 스럽 제일 깨끗 생각때무 침구 케바케 하이라이트 스팟 욕조 통유리 바다뷰 통유리 밤 불 켜다 주의 몸조심 영종도 네스트 비슷 네스트 빈티지 냉장고 간단 식기 류 수전 레지 스다 인덕션 바다 일정 군데 머무르다 처음 부분 변기 수압 약하다 남편 고생 굴 맛보다 웃기다 실시 꼭 변기 수압\">]\n",
            "[2370, <tomotopy.Document with words=\"오늘 비커밍 후기 거제지평집 비커밍 비커밍 야외 수풀 통유리 바다 멋지다 진행 억수 날 커밍 후기 시작 경남 거제남서 번호 오후 아웃 비수기 외국 물씬 비커밍펜션 야자수 미 풀이 충분히 그치 체크인 날 정말 억수 수영장 발 못 담구다 바다 바라보다 비커밍 인피니티 풀이 커밍 타입 다양 비커밍디 럭스 비커밍스 위트 그랜드스 위트 그랜드코너스 위트 커밍 스위트 선택 베드 원룸 형 디럭스 커보이더라구 바다 커밍 스위트 선택 정맬 탁월 선택 오빠 이거 역대 급 쨕쨕쨕 블라인드 올라가다 바다 멋있다 커밍 정말 모든 오션뷰 선택 만족 비커밍스 위트 요렇게 스파 모든 갖추다 야외 들어오다 따뜻 스파까지 커밍 인테리어 올 화이트 소파 올 화이트 화이트 소파 부분 어렵다 요금 오염 그치다 쓰이다 냉장고 비커밍펜션 정수기 여행 다니다 미리 다니다 커밍 정수기 식기 류 식탁 넓다 여러 편하다 커밍 스위트 침대 침대 붙이다 편하다 취침 확실히 침대 침구 류 확실히 깨끗 침구 류 싹 갈아주다 수건 엄 수건 살짝 사용 느끼다 수건 얇다 비커밍 깔끔 사이즈 적당 거제비커밍 비커밍스 위트 수영장 오션뷰 멋지다 비수기 저렴 퀄리 티 짱 짱 커밍 오빠 별로 좋아하다 수영장 아쉽다 계시다 수영장 다음날 짱짱 뜨다 비커밍 역시 날씨 맑다 다르다 비커밍펜션 바다 이쁘다 바다 수영장 예쁘다 여행 마지막 날 만족 찾다 꾹 비커밍 장단점 솔직 후기 장점 전객실오션뷰 올화이트 깔끔 인테리어 냉장 정수기 비품 미 야외 단점 멀다 느끼다 주변 식당 별로 장점 단점 주변 식당 아쉽다 대만조쿠 거제감성숙소 거제숙소 거제신혼여행숙소 거제신혼여행 거제비커밍펜션 거제비커밍 비커밍스위트 거제비커밍스위트 거제야외풀 거제야외수영장 거제야자수 거제숙소추천 거제신혼여행숙소추천\">]\n",
            "[2394, <tomotopy.Document with words=\"여름 휴가 앞두다 여행 알아보다 글 조회 글 신혼여행 다녀오다 여름휴가 못 개원 휴가 꿈 못 꾸다 휴가 계획 바라다 독채펜션 리뷰 올리다 크리스마스 날 두부 갔다오다 선택 직접 그대로 덕분 힐링 바다뷰 눈 담다 적절 이미 유명 당시 카페 건물 양쪽 짜리 다락방 생기다 총 구조 취향 인테리어 선택 짜리 건물 구조 계단 오르내리다 힘들다 여행 낭만 즐기다 거실 침실 반하다 전면 침실 거실 창문 바다 날씨 없이 바다 실 컷 크리스마스 춥다 바다 바람 매섭다 밖 나가다 바다뷰 다행 당시 카페 유명 주변 관광객 카페 카페 숙박 프라이버시 소음 걱정 불편 전혀 앞쪽 바다 산책 나가다 스럽 풍경 펼쳐지다 조용히 머물다 바다뷰 실 컷 독 채 제주도여행 제주여행 제주감성숙소 제주독채펜션 구좌읍펜션 구좌읍숙소\">]\n",
            "[2426, <tomotopy.Document with words=\"신규 스테이다 후기 중순 아직 후기 여름 휴가 시즌 막바지 더욱 후기 개인 만족 스럽 터 굳이 굳이 후기 여행 다녀오다 기억 의존 작성 정확 직접 빠르다 네이버 직접 본격 후기 본좌 스테이다 건물 옥상 글램 핑 돈 기본 사항 숙박 숙박 기간 날씨 맑음 흐리다 흐리다 흐리다 맑음 천 숙박 번호 입시 퇴 실 메인 텐트 침대 사이즈 더블 매트리스 베개 이불 토 푸다 방바닥 깔기다 선반 수건 세면도구 선반 확인 선반 의자 명칭 냉장고 사이즈 스탠드 형 에어컨 냉 난방 실외 천막 전자레인지 버너 냄비 불판 식기 인원수 용품 갬성 조명 벌레 퇴치 조명 접다 침대 캠핑 테이블 캠핑 의자 소파 일반 의자 크기 싱크대 크기 하조대 실내 실사 직접 촬영 갤럭시 노트 낮 엘리베이터 왼쪽 출입구 계단 건물 자체 낮다 계단 다니다 불편 주차 건물 전면 쭈 욱 주차 바베큐 옥상 글램핑장 제외 주차장 오른편 데크 자세 투벅투 벅 구경 못 그냥 열심히 계단 올라가다 대부분 되게 만족 스럽 침대 더블 사이즈 성인 들어가다 맞다 사이즈 아담 옆 나란히 붙다 지붕 싱크대 크기 아쉽다 글램핑 개별 장점 낮 짐 던져두다 주변 둘러보다 한숨 돌리다 하조 해변 설렁설렁 걸다 나가다 서핑 즐기다 저녁 시작 노을 벗 투벅투 센터 마트 술 돌아오다 밤 찾아오다 마피아 고개 개인 낮다 괜찮다 밤 찾아오다 더욱 발휘 글램 핑 사용 밤 누렇다 빛 감싸다 옥상 전세 터 벅 터 벅 대충 계단 올라가다 소리 옥상 모습 따라라라 따 따라라라으 대충 엠 이거 이해 옛날 대충 밤하늘 날 하필 저녁 그늘막 앉다 차분 히 빗소리 갬 으 적당히 적당히 시원 바람 적당히 따듯 조명 직딩 즐기다 이과 공대 군대 찐공대 계열 회사 다니다 최고 표현 찍다 날 모습 그냥 올리다 버리다 바닷가 놀러가다 옷 널리다 이것저것 꺼내다 먹다 놀다 모습 스럽 느끼다 옛 젖다 친구 밤 찍다 이거 눈 마음 그거 그거 밤 궁금 낮 캡쳐 밝기 최저 줄이다 어둡다 한번 상상 개인 후기 막 리뷰해야 기분 공간 기억 급하다 원래 글 편 시작 보고서 바람 개인 후기 마무리 보고서 업무 메일 마냥 조큼 장점 신규 깨끗 글램 핑 함 쾌적 글램 핑 갬성 느끼다 갬 성터 짐 특히 밤 스타 라이브 갬성 올리다 관종되 넓다 시설 놀다 판단 주변 건물 높다 편 속하다 건너 옆 옥상 눈 마주치다 주의 천막 끈 빨래 사용 물놀이 옷 말리다 편하다 근데 텐트 옆 겁나다 빨래 건조대 빨랫줄 못 옥상 편 공간 여유 침낭 던지다 복불복 야외 취침 게임 주차공간 서피 비치 도보 하조 도보 가깝다 편의점 도보 정확 확인 빠르다 단점 좁다 원룸 존재 샤워실 크기 샤워기 통합 세면대 변기 수압 약하다 뜨겁다 온도 수압 떨어지다 찬물 미지근 씻다 싱크대 지붕 솔 그냥 맞다 썸타 사이 씌우다 핱 글램 핑 벌레 모이다 감수 층고 높다 높이 건물 옥상 엘리베이터 없이 계단 아무리 둘러보다 바다 그냥 주변 산 옆 건물 보임 그냥 술 먹다 암 막 텐트 관계 아침 텐트 터지다 가득 채우다 햇살 소리 알람 기상 글 숙박 기간 작성 글 내용 현재 보완 확인 마무리 글 처음 음 개인 친구 거리 완화 하조대 여행 계획 재 주변 지인 글 주변 지인 묻다 글 세상 모든 굴레 속박 벗어던지다 떠나다 끝 스테이다로 양양글램핑 글램핑 대형텐트 양양숙소 양양서핑 하조대 서피비치 양양갈만한곳 양양구경 양양바베큐 감성글램핑 하조대숙소 하조대해수욕장\">]\n",
            "[2429, <tomotopy.Document with words=\"거리 다녀오다 여행 이야기 무 잡다 여행 취소 떠나다 동거녀 기념 조용히 다녀오다 여행 나서다 근데 여행 거리 갑자기 발표 코시국 처음 비행기 비행기 여행 정말 처음 정말 여행 다양 묘미 개인 캐리어 싸다 기분 끌다 나가다 공항 버스 터미널 터미널 캐리어 수화물 올리다 면세점 돌 설레다 좋아하다 여행 느끼다 설레임 느끼다 오래 당분간 느끼다 안타깝다 비행기 창가 푸르다 하늘 계속 지켜보다 공항 택시 잡다 혀 재다 쪽 마침 소식 택시 쏟아지다 비구름 통과 서쪽 코 시국 이후 처음 처음 어플 다운 큐알 찍다 큐 업체 입력 어플 입력 어플 업체 큐 찍다 무 택시 큐알코드 장점 멀리 카메라 찍히다 식당 큐 코드 찍히다 한참 반하다 그냥 찍히다 단점 단점 돌아다니다 날짜 기록 돌아다니다 양심 찔리다 도착 여행 홀 라인 아웃 편집샵 홍대 인가 쪽 매장 혀 재 쪽 홀 라인 혀 재 아웃 편집샵 여행객 머물다 공간 샤워 존 워낙 깔끔 분위기 가득 네이버 도착 텐트 요거 정원 캠핑 낭낭 찍다 도착 날씨 다행 레 주변 정말 무 근데 옆 걸어가다 편의점 치킨 걸어가다 떡볶이 뒤쪽 유명 핫 플레이스 싱싱 잇다 펍 순수 마음 코로나 걱정 걱정 검색 헌 팅 취 소 홀라 요렇게 프라이탁 카드홀더 룸키 넣다 역시 홀 라인 스럽 웰컴 드링크 메뉴 판 음료 커피 한라 이드 고르다 혀 재 홀 라인 한라 이드 맛 요기 여행객 사용 샤워실 세탁 시설 건조 시설 숙박 여행객 까먹다 세탁 천 숙박 사용 다음날 포구 다녀오다 세탁 수영복 건조 그냥 패스 올라오다 슬리퍼 유명 쪼다 브랜드 토앤토 친구 알리다 까먹다 정말 엄 편하다 싱글 드 트윈 선택 슈퍼 싱글 꽤 사이즈 배드 이국 무드 이불 무늬 커텐 예쁘다 원목 정말 어울리다 인테리어 센스 엇 주의 사항 안내문 꼼꼼 히 읽긔 원목 색 바라다 젖다 옷 수건 올리다 커피 홀라 머그잔 머그잔 예쁘다 한라 에이드 홀 라인 한라 이드 맛 창문 넓직 아침 커텐 열다 날씨 확인 건물 밖 벌레 정말 정말 벌레 맨날 왔다갔다 느끼다 복도 올라오다 가득 좋아하다 우디 센스 스틱 향기 센스 정말 혀 재 홀 라인 캠핑 아웃 도어 편집샵 밤 불 멍 숙박 객 불멍 장작 토치 미리 체크인 불 멍하다 호스 틀다 끄다 친절 저녁 절대 돌아다니다 들어오다 콕 박히다 첫 날 불 멍 버리다 불 붙이다 엄 오래 걸리다 캠핑 어린이 불 멍 모기 급히 대피 근데 물리 불 붙이다 끼리 끼리 모이다 젊다 친구 젊다 젊다 바라보다 나이 벌써 늙다 에고 그냥 박히다 보드 게임 꿀 잼 좋아서 나가다 여행 기분 여행 첫 글 쾌적 정말 정말 친절 빌 편집샵 구경 에이드 커피 의자 휴식 짐 보관 교통 아쉽다 관광지 근처 그만큼 조용 버스 정류장 버스 나쁘다 정말 정말 홀 라인 코 시국 괜찮다 광고 돈 산 협 재 근처 편집샵 코스 같슴메 볼 예쁘다 지갑 열다 주의 호텔홀라인 홀라인 제주숙소 제주여행 제주여행숙소 제주여행코스 제주홀라인 협재숙소 제주감성숙소 협재감성숙소 협재여행 제주협재숙소 제주협재홀라인 아웃도어편집샵 협재가볼만한곳 협재여행숙소 감성숙소\">]\n",
            "[2440, <tomotopy.Document with words=\"루나스테 오늘 여러 관광지 핫 카페 자세 소개 현재 수혜지 떠오르다 핫 이유 알아보다 집중 블루 보트 카페 드디어 첫 매장 눈길 사로잡다 블루보틀 분위기 감각 미니 멀리 즈 공간 살리다 모습 웨이 팅 인기 어마어마 주택 개조 레트로 풍림다방 대표 핫 플레이스 카페 유명 마을 산책 푸릇푸릇 가득 편안 히 힐링하 리 인근 나가다 여러 관광지 만나다 걷다 힐링 비자림 다양 꽃 구경 메이즈랜드 인생 샷 비밀 숲 송당만 매력 핫 명소 유명 관광지 곳곳 숨기다 명소 찾다 재미 리 출구 매력 빠지다 빼놓다 독채 아름답다 전경 따뜻 분위기 매력 이미 유명 개월 머무르다 인기 여행 꿈꾸다 살이 계획 꼭 핫 이유 생활 형 숙박 시설 다양 묘산봉 관광 개발 계획 인하다 인근 땅 값 상승 묘산봉 관광 확정 카카오 스톤브릿지 참여 포괄 협력 관계 개발 계획 지속 밝히다 마지막 핫 떠오르다 절대 놓치다 송당택지 이미 매매 알아보다 매물 빼놓다 이미 선택 청약 완료 택지 현재 따로 원하다 서두르다 문 본계약 순차 연락 택지 궁금 클릭 클릭\">]\n",
            "[2476, <tomotopy.Document with words=\"오후 그리니 놀러오다 감사 지나다 드디어 결혼 결혼 막바지 다다르다 회사 개인 정말 멀다 미래 느끼다 결혼식 어느새 끝 결정 고민 산 넘다 결혼식 무사히 아직 어리둥절 결혼 아직 꿈같다 증말 코 시국 결혼식 올리다 굉장 대단 고생 갑부 신혼 여행 요즘 먼저 첫 번째 오후 신라호텔 첫 째 여행 맛 관광지 조사 최대한 실패 초이스 뒤지다 눈 뿅 들어오다 워낙 예쁘다 훌륭 넘치다 후보지 대부분 개월 꽉 코시국 단독 독 채 오후 그리니 나누다 오후 원룸 그리니 신혼여행 돈 그리니 귤밭뷰 넘다 예쁘다 오후 결정 요즘 선호 화이트 우드 인테리어 취향 저격 실제로 만족 넘다 깨끗 밖 초록색 예쁘다 너머 그리니 징 이유 침대 옆 주변 정말 조용 멍 때리다 결혼식 올리다 지치다 필요 포인트 프로젝트 넷플릭스 유튜브 이거 낮 밝다 못 봄 주변 산책 코스 예쁘다 최단 코스 세븐일레븐 편의점 찍다 근데 산책 코스 돌아오다 택시 꽤 힘두러 브리츠 빠지다 수건 뽀 근데 날 수건 힘들다 오빠 후각 민감 편 퇴실 사장 님 아쉽다 부분 묻다 말씀 보완 좋아하다 파리 바게트 그대로 토스트 토스트 버터 토스트기 굽다 버터 노릇노릇 조식 제공 모닝 토스트 셀프 먹다 드라이 주변 인적 드물다 시골 분위기 중요 아이템 전기 모기 채 벌레 이거 때리다 잡다 전기 모기 채 성능 여행 끝나다 전기 파리 채다 이거 함 휘다 가볍다 벌레 나가다 틈 이거 한번 아마 계속 요거 필요 저거 참고 꼭 최저 광고아 님 둘째 날 노을 저녁 메뉴 테이크 아웃 저녁 먹다 목표 날씨 요정 다행히 정말 예쁘다 노을 저녁 메뉴 가량 걸리다 미영 식당 고등어 포장 이거 슬다 정말 최고 선택 대에에에에에 맛있다 울다 먹다 고등어회 평생 처음 먹다 고등어 푸르다 생선 이미지 굉장히 선입견 부드럽다 먹다 여행 경로 미영 식당 멀다 아묻 따다 꼬다 아무 제발 미영 진지하다구욧 정답 나비효과 다시봐 재밌다 넷플릭스 특징 막상 날 구두 신혼 여행 셀프 스냅 스냅 작가 촬영 돈 비싸다 그냥 튼튼 치대다 셀프 촬영 바람 워낙 불다 튼튼 찾다 망부석 거치대 미리 가져가다 이름 튼튼 망부석 거치다 결과 만점 아무 마음 춤 추다 동영상 찍다 재밌다 셀프 촬영 마음 핸드폰 배경 화면 치 좋아하다 거세다 패션쇼 열심히 마니 찍다 놀다 따다 정말 쉬다 오빠 조만간 꼭 엄지 걸다 약속 장점 너머 귤밭뷰 예쁘다 아무것 눈 즐겁다 쉼 최적 힐링 주변 고양이 상당히 고양이 좋아하다 추 성비 너무나 만족 스럽 단점 한적 시골 밤 어둡다 주변 벌레 대중교통 접근 어려움 솔직 돈 산 리뷰\">]\n",
            "[2497, <tomotopy.Document with words=\"라라 랜드 여행 이야기 알아보다 이쁘다 비싸다 가성비 성비 이미 날 싫다 적당 이미 스치다 지나가다 발견 포니 포니제주 날 에코랜드 포니제주 에코랜드 주변 휴가 비수기 다녀오다 라라랜 드 금액 지불 저렴 만족 현금 영수증 퇴 실시 요청 포니제주 완료 카톡 배치 주변 관광지 맛 취소 규정 입시 오후 퇴 실 코로나 인하다 대면 셀프 체크인 운영 사항 사장 님 개인 옆 연락 도구 기본 양념 식용유 소금 후추 수건 헤어드라 빗 샴푸 린스 바디워 치약 칫솔 제공 개인 칫솔 챙기다 셀프조 식 기본 식빵 째 커피 쥬스 야외 바베큐 요금 기온 시스템 불편 만족 스럽 이름 목장뷰 보내다 무 스타 무럭무럭 피어나다 포니 여기저기 포니제주 아기자기 소품 못 담아왔어 전체 하필 유니 찍다 아쉽다 나름 스럽 목장뷰 아름다움 해외 포니 덕분 실 컷 왔어 경주마 목장 따로 계시다 날씨 인하다 울타리 날 여행 째 밤 아쉽다 늦다 잠들다 포니 목장뷰 포니제주 아침 스타 물씬 업뎃 필수 조식 셀프 재료 토스트 먹다 식빵 냉동실 넣다 꺼내다 토스트기 넣다 겉바 떠나다 싫다 포니 퇴 열심히 누리다 꺼 누리다 여행 재 의사 충분 여행 목장뷰 포니제주 알리다 라라 여행 꿀 아이와 에코랜드 포스 팅 남겨놔 네이버 포니 비자림\">]\n",
            "[2509, <tomotopy.Document with words=\"캉님 요즘 휴가철 여행 계획 친구 간단 여행 다녀오다 자유 여행 처음 잡다 머무르다 올리브 낭 이어도 올리브 낭 올리브 낭 귤낭하우스 나란히 붙다 주차장 따로 분리 걱정 주차장 올리브 낭 퍼플 스킨스쿠버 체험 운영 참고 여행 기간 첫날 제외 날씨 엄청나다 올리브 낭 날 멋지다 풍경 자랑 다니다 샛길 들어오다 예쁘다 아직 귤 밭 스럽 돌담 굳이 관광지 배경 찍다 예쁘다 아직 초록색 귀엽다 귤 들어오다 표지판 처음 원룸 건물 처음 터 괜찮다 맞다 맞추다 확인 뒤 체크인 로비 귀엽다 강아지 특별히 짖다 손길 거부감 착하다 친구 무섭다 스텝 말씀 배려 걱정 착각 일찍 스텝 컨디션 확인 뒤 체크인 미리 덕분 붕 뜨다 없이 입성 입구 나란히 붙다 올라가다 예쁘다 수국 피크기간 예쁘다 수국 즐기다 터 올리브 낭 수국 이미 저가 시즌 더위 뚫다 입성 올리브 낭 여행 워낙 피크 기간 괜찮다 힘들다 괜찮다 별로 괜찮다 위생 별로 위생 괜찮다 엉망 올리브 낭 완벽 만족 문 열쇠 잠그다 문 항상 예민 편 괜찮다 편 불안 주변 로비 히 입구 소화기 완비 전체 화이트 톤 인테리어 우드 편안 인테리어 침대 붙다 식탁 인테리어 특이 예쁘다 리뷰 작성 잔뜩 파티 불편 히 불편 뒤 꺼내다 편하다 기본 도구 올리브 낭 아시테 접시 컵 로비 빌리다 걸레 로비 빌리다 공간 차지다 없이 깔끔 숟가락 젓가락 과도 올리브 낭 바다뷰 개인 바다뷰 그냥 숲 나무 바다 살짝 걸치다 바깥 바라보다 바다 가깝다 산책로 산책 컨디션 엄 중요 깔끔 깨끗 편 편 하수구 올라오다 걱정 주변 숲 거미 쪽 들어오다 숲거미 까맣다 세 발견 잡다 식탁 쪽 앉다 쪽 찍다 예쁘다 옷 친구 착 첫날 저녁 천둥 번개 동반 엄청나다 쏟아지다 시장 맛있다 포장 파티 식 여러 넉넉 깔끔 올리브 낭 후기 하루 보내다 친구 직접 다녀오다 작성 돈 후기\">]\n",
            "[2520, <tomotopy.Document with words=\"시스터 여행 앤디앤라라홈 소개 동생 엄청나다 광클 성공 인기 아무 없이 여동생 믿다 몸 여행 기존 아이유 뮤 촬영 원래 유명 신축 모든 새거새 결론 쾌적 여심 저격 인테리어 프라이빗 친 환경 정성 스럽 주인장 부부 덕분 만개 고프다 편 편 조식 정원 소개 넓다 공간 투숙객 주인장 만나다 마스크 없이 생활 아래 정원 청귤밭 전경 건물 넓다 정원 귤 밭 귤 열리다 건물 왼쪽 단독 건물 가정집 왼 순서 실 실 정확 실 상태 오롯 유럽 호사 누리다 곳곳 예쁘다 꽃 식물 가득 편 최대한 정원 아끼다 구경 현관문 센스 들어가다 똑똑 원피스 드래곤 제자리 마냥 어울리다 개인 소장품 빈티지 싫어하다 취향 바뀌다 유독 멋지다 빈티지 구질질하 싫어하다 여러 이유 무조건 선호 마법의공간 세면대 수전 센스 어메니티 바리 바리 싸다 바디 샤워 샴푸 맞다 세면 용품 챙기다 침실 보실께 계단 올라가다 벽 침대 넓다 침구 편안 꿀 잠자다 아래 주전부리 와인 잔 따로 요청 근처 편의점 간식 미리 취사 정말 깔끔 고르다 아래 친절 스타 좌표 공감 꾸다 욱 누르다 편 앤디앤라라홈 감동 조식 멋지다 정원 안내해두릴께 네이버 시스터 슈콤마 한예슬 화보 촬영 제주신행 애월카페거리 우정여행 모녀여행 자매여행 제주감성숙소 감성숙소 제주여행 제주도여행 인테리어 빈티지인테리어 빈티지소품 앤디앤라라홈 유럽 유럽여행 한예슬 슈콤마보니 슈콤마보니화보 한예슬화보 정원\">]\n",
            "[2525, <tomotopy.Document with words=\"무 야호 인생 원래 갑자기 연차 소진 떠나다 드릉드릉 돌아오다 블챌 오늘일기 이미 유명 마감 넘다 아쉽다 김 책갈피 아름답다 바다뷰 유명 알고리즘 픽 여행 유튜브 썸넬 홀리다 저장 화이트 톤 인테리어 개별 침대 바다뷰 굉장히 매력적인뷰 타 제격 굉장히 협소 편 고시원 감옥 이러다 저러다 포구 솔트애월 애월솔트 애월감성숙소 작년 따끈 귀엽다 댕댕 주택 개조 제제 댁 노랗다 반하다 제제 댁 꼬다 사장 님 부부 미쵸 주기 거실 부엌 인테리어 손보다 하나하나 손길 닿다 꾸미다 공간 이유 무 인실 실 침대 미토 귀엽다 크림 댕댕이 제제 댁 아쉽다 공동 사용 뚜벅이 어렵다 예약문 문자 제제댁 제주제제댁 제주소규모게하 제주조용한게하 큐브창 개별 욕실 큐브창 눈 확 띄다 세 조식 맛 랜소 이스 게스트하우스 실 실 위주 코 시국 최적 육회 렌 술집 공동 운영 조식 맛있다 해변 윈 더블 슈퍼 싱글 문자 진행 자세 사항 아래 참고 세화게스트하우스 인숙소 인실 코코 코 코지 코코 코 해변 귀엽다 냥이 여성 전용 인실 실 위주 여행 여행 최적 귀엽다 고양이 어쩌다 실 실 장난 잘못 아래 바다 돌담 참조 오션뷰 동쪽 오션뷰 제주오션뷰숙소 많숩니 얼른 바다 눕다 즐기다 뿐 동쪽 실 여행 최적 발 빠르다 필요 필요 의견 리뷰 환영\">]\n",
            "[2527, <tomotopy.Document with words=\"헤이춘천 춘천감성숙소 남춘천역숙소추천 춘천시내숙소 야놀자헤이 춘천호텔추천 놀다 야놀자 신규 라이프 스타일 브랜드 헤이 첫 째 지점 글 키 처음 근데 지나다 떨어지다 취소 페이코 결제 천 자세 기억 포토 스팟 남춘천역 가깝다 건강 협회 택시 님 건강관리 협회 건물 추다 천 춘관 저녁 찍다 건물 외관 예쁘다 이름 신분증 확인 필요 일행 당사자 확인 온도 명부 작성 키 신분증 꼭꼭 챙기다 이름 데스크 옆 굿즈샵 엘리베이터 올라오다 꼴 찍다 나가다 찍다 귀찮다 포스 팅 아쉽다 침대 디럭스룸 더블 싱글 조식 와플 먹다 스폰지 밥 티비 채널 커피포트 머그잔 테이블 화장대 사용 식물 가짜입니 창문 열다 건강관리협회뷰 헷 침대 옆 의자 전반 깔끔 침대 숙면 취하다 충분 필요 부족 후기 찾아보다 일본식 세면대 일본식 솔직히 편하다 확 뜨겁다 미세 주의 미끄럼 주의 조심 부족 기본 어메니티 수건 문 옆 조식 카페 조식 사이 처음 망하다 직접 정말 감사 분명 읽다 쉽다 조식 카페 레인지 커피 머신 커피 머신 아메리카노 내려서다 와플 먹다 굽다 와플 크림 딸기 잼 바르다 먹다 앉다 먹다 그냥 올라가다 먹다 저녁 찍다 분위기 배달 따로 리뷰 근데 만족 스럽 우기다방 디저트 레몬 파운드 다음날 먹다 맛있다 에그타르트 비주얼 실망 스럽 맛 맛 제일 호두정과빙 리뷰 찬양 호기심 찬양 할미 입맛 좋아하다 먹다 남춘천역 근처 깔끔 쉬다 가족 친구 연인 펫프랜 들리다 공간 종류 다양 근처 산책로 산책\">]\n",
            "[2549, <tomotopy.Document with words=\"캠핑 좋아하다 장비 짐 어렵다 날씨 계절 가족 글램핑 다니다 휴가 멀다 글램핑장 검색 가평바위숲온더 락 멋지다 도넛 형태 글림핑텐트 눈길 마침 글램핑장 포장 급경사 상당히 험하다 목적지 다르다 아래 표시 주차장 도착 총 글램 핑 텐트 도넛 형태 텐트 일자 형 나름 수영장 갖추다 아직 운영 시즌 바위숲온더락 레드 닷 워드 비롯 여러 디자인 관련 도넛 형태 텐트 아래 형 텐트 앞쪽 데크 바비큐 해먹다 도구 테이블 형 텐트 모습 이러 배정 주차장 멀다 빡세다 깊숙이 들어가다 꽤 프라이빗 느끼다 그린 그린 맘 왼쪽 짐 넓다 깔끔 실내 글램핑임 웬만 먹다 싸다 공간 전자레인지 티포트 커피 티백 좁다 소파 침대 변신 테이블 적히다 내용 참고 샤오미 공청기 갖추다 센스 저녁 미리 요청 숯불 맞추다 들어오다 숯불 천 제외 맘 부분 전날 로켓 프레시 급하다 민물 장어 닭꼬치 버섯 때리다 넣다 바비큐 불멍 캠핑 좋아하다 고양이 유인 들어오다 입구 장어 껍질 잔뜩 깔아놨는 효과 나타나다 냥 마눌 님 원하다 스타 샷 찍다 아쉽다 주위 숲 둘러싸이다 개인 텐트 불 멍 불가 요청 공용 캠프파이어 즐기다 무료 빨갛다 멋지다 하늘 놀이터 방방 여러 배치 건물 바위숲온더락 처남 매형 식구 운영 머시멜로 굽다 불멍 와인 다음날 아침 조식 챙기다 센스 음료 마들렌 대표 잣죽 정신없이 널어놓다 짐 간밤 새 볕 둘째 놈 즐기다 떠나다 아쉽다 마음 놀이터 나무 테라스 해먹 숲 제대로 힐링 하룻밤 형 꼭 경기 리\">]\n",
            "[2563, <tomotopy.Document with words=\"오늘 다녀오다 소개 친구 여행 다녀오다 예민 편 한참 찾아보다 하얗다 갬성갬 가득 찾다 예쁘다 하얗다 건물 잔디 널찍 깔리다 앞쪽 주차장 이거 침대 더블 베드로 뽀송뽀송 침구 깔리다 찍다 이미 친구 다이빙 버리다 더블 베드 아래쪽 간단 다과 먹다 쇼파 테이블 옆 귀엽다 테라스 노을지 너모너 예쁘다 벌레 나가다 앉다 방충망 벌레 굿 굿 시내 꽤 떨어지다 편의점 멀다 미리 미리 들어오다 맛있다 귤 귀엽다 담아주셨어 홍 홍 탐탐 세화숙소 제주동쪽숙소 제주숙소 제주도동쪽숙소 인실숙소 제주감성숙소\">]\n",
            "[2570, <tomotopy.Document with words=\"신혼 여행 다녀오다 협 재 스파 제주담스파 빌다 후기 신혼 여행 끝나다 아직 마음 신혼여행 코로나 한창 애초 계획 별로 고르다 중요 이러 맞다 담 스파 빌 후기 아기자기 배려 더욱 만족 스럽 프라이 빗 스파 즐기다 담스파 빌다 몽글다 몽글다 배쓰 밤 스파 세상 오빠 저러다 스파 꼭 두자곸 성공 징표 스파 와인 한잔 로비 퍼지다 비누 향기 체크인 향기 기분 향기 출처 찾아보다 곳곳 비누 디퓨 모든 어메니티 핸드 메이드 곳곳 다양 제품 비누 세안 제품 다양 향초 디퓨 방향제 다양 제품 입시 옵션 원하다 어메니티 고르다 숯 고르다 알맞다 크기 개인 포장 제로웨이스트 가깝다 더좋앗 담다 스파빌 이름 걸맞다 모든 스파 기본 입욕 지급 러쉬 배쓰밤 배스바 엄청 뚀륵 그대로 가져오다 배쓰밤 꽤 비싸다 무료 어메니티 지급 뜻밖에 횡재 로비 다양 내역 개인 저렴 기분 서비스 기분 로비 깔끔 테이블 조식 서비스 제공 코로나 조식 제공 다양 종류 과자 로비 비치 개인 아이스 티 비치 처음 현대인 필수품 아메리카노 옆 제빙기 아이스아메리카노 뚝딱 못 찍다 에이스 주전부리 항시 잇다 서비스 실외 수영장 조경 이쁘다 종류 해변 근처 별로 프라이 빗 실외 조경 살짝 손님 마주치다 물놀이 즐기다 밤 은은 조명 재밌다 놀다 개인 리조트 들어가다 뙇 스파 돌담 사생활 보호 블라인드 가려놨어 아쉽다 수건 뽀송뽀송 비치다 스파 기기 사용 친절 적히다 서비스 샴푸 바디 클렌저 세제 천연 핸드 메이드 체크인 배쓰밤 스파 풍덩 빠뜨리다 포켓볼 던지다 퐁 보글보 글 스파 거품 스파 욕조 빠지다 식탁 식탁 만찬 뙇 변경 조용히 노닥거리다 깨끗 서비스 인상 제주숙소 제주스파 제주담스파빌 한림숙소 한림가족숙소 제주가족숙소 한림연인숙소 한림스파 금능해수욕장숙소 협재해수욕장숙소 제주여행 제주여행숙소 제주도숙소 제주감성숙소 제주돌담숙소 제주돌담뷰 돌담뷰숙소 제주스파펜션 협재숙소 금능숙소 제주숙소추천 제주도여행 제주도숙소추천 제주한림숙소 제주가성비숙소 제주스파숙소 서이추 서이추환영\">]\n",
            "[2573, <tomotopy.Document with words=\"여행 계획 세우다 꼭 하룻밤 쯤 홀 라인 아웃 도어 좋아하다 쯤 듣다 홀 라인 홀 라인 협 재 편집샵 운영 여행 다녀오다 홀라 협재점 규모 비슷 기본 편집샵 운영 백패커 여행자 샤워 시설 여행자 라운지 홀 라인 전용 혀 재 운영 홀라 협재점 먼저 최근 홀라 평대점 새로 홀 라인 블로거 개미 지옥 한번 빠지다 헤다 아웃도어 좋아하다 표현 하나하나 구경 정말 새 지나가다 버리다 이미 대부분 백패킹 캠핑 실제로 나가다 활용 쇼핑 필요 장바구니 들어가다 이미 여행 여행 설레다 지갑 쉽다 백패커 자전거 여행객 여행자 쉬다 여행자 라운지 공간 여행자 라운지 이용객 이용객 열리다 공간 일반 매장 방문객 배낭 메다 여행 백패커 동선 맞다 떨어지다 휴식처 편집샵 매장 샤워 시설 따로 번거롭다 개인 배낭 수건 샴푸 꺼내다 필요 그냥 시원 샤워 백패커 시설 깔끔 아프다 홀라 협재점 평대점 저런 아웃 도어 아이템 구입 세일 품목 꽤 본인 취향 맞다 득템 한라산 올라가다 모자 구입 모자 가볍다 기능 모자 등반 날 한라산 다니다 행운 혀 재 홀 라인 편집샵 운영 오후 홀 라인 오후 편집샵 매장 체크인 키 자유 롭 형식 홀 라인 웰컴 드링크 제공 홀 라인 운영 협재점 씩 구조 더블 베드 트윈베 드 머무르다 문 열다 들어오다 산장 분위기 느끼다 뿜다 뿜다 협 재 홀 라인 모든 비양도뷰 펼쳐지다 혀 재 홀 라인 홀 라인 바다 가깝다 편 홀 라인 걷다 바다 해변 특히 홀 라인 물놀이 용품 튜브 그늘 막 텐트 대여 평대점 보다 쉽다 바다 나가다 물놀이 즐기다 협 재 홀 라인 홀 라인 높다 편 소품 갬성 느끼다 기존 다르다 이색 틀림 커피포트 미니 냉장고 비치 레인지 바깥 복도 공동 사용 깔끔 협 재 홀 라인 옆 편의점 맥주 간단 먹거리 충당 근처 걸어가다 협 재 핫 플레이스 싱싱 잇다 펍 트렌디 분위기 좋아하다 한번쯤 가볍다 음악 즐기다 돌아오다 이색 홀 라인 무료 사용 화로대 장작 저녁 낭만 넘치다 캠프파이어 즐기다 불멍 자체 캠퍼 이날 다행히 날씨 무척 바람 불다 캠프파이어 즐기다 불 토치 활용 개인 직접 불 붙이다 캠프파이어 시작 종료 시점 따로 스탭 항상 유의 장작 사용 못 마당 장작 대부분 적당히 불멍 끝나다 잔 불 꼭 붓다 불씨 꺼지다 확인 꺼지다 불 깨다 불조심 날 친구 캠프파이어 즐기다 여행객 캠프파이어 더욱 특별 혀 재 홀 라인 편집샵 매장 쇼핑 홀라 평대점 공통 느끼다 스탭 친절 친절 즐겁다 추억 홀 라인 브랜드\">]\n",
            "[2596, <tomotopy.Document with words=\"세 오늘 신혼여행 다녀오다 꼭 들르다 스테이소 공유 하단 있숨 비싸지먄 제대로 즐기다 여행 찍다 핸드폰 리셋 날라가가지규 데려오다 힝다 근데 전혀 다르다 스테이소 수영장 마당 나누다 모든 공간 사용 스테이소 쨔쟌 여름 수영장 못 즐기다 별관 따로 별관 않았다규 아쉽다 근데 사용 비싸다 느끼다 거지 맞추다 전혀 아깝다 수영장 꼭 사용해보시긜 발 못 담궈봤다규 스테이소 이쁘다 넘친다규 가족 끼리 친구 연인 끼리 따로 건물 자체 따로 욕조 실내 바깥쪽 탕 있다규 신혼 여행 친구 선물 커플 잠옷 챙기다 어용 그리구 우 차량 현재 차량 들어가다 숙박 임산부 장애 차량 들어가다 스테이소 우 숙박 시설 때문엥 차량 장점 이찌 그리구 미리 들어가다 바래다 바다 저녁 산책 나가다 인증 샷 있답니댱 여행 꼭 들르다 바래다 증말 하루 왜냐면 끊기다 스테이소 공유 스테이폴리오 스테이이소도 스테이소도예약 스테이소도후기 우도숙소추천 제주도숙소추천 제주도여행 우도여행 우도숙소스테이소도 우도여행스테이소도 우도숙소\">]\n",
            "[2605, <tomotopy.Document with words=\"친구 근교 찾다 충격 모든 솔드 아웃 역시 여행 민족 한국인 외국 못 국내 여행 여하튼 고르다 조건 깔끔 적당 그래두 이왕 강화도 열심히 찾다 택지 운휴원 선택 운휴원 강화도 운휴원 외관 뜬금없다 웬 마을 회관 실제로 마을 회관 리모델링 따라다라 들어가다 먼저 반기다 웬만 식 신축 전반 깨끗 마음 침대 침실 정말 침대 입성 드러눕다 밖 나쁘다 컴퓨터 키다 스파 플레이스테이션 공간 비용 발생 바람 미디어 단식 근처 세면대 찍다 뽀송 수건 세면대 맘 밖 그릴 굽다 먹다 숯 직접 굽다 그릴 더럽다 그릴 형 마트 미리 못 떨어지다 마트 불상사 숯 처음 인물 유튜브 검색 나중 토치질 마스터 버스 정류장 뚜벅 불 저수지 구경 아침 일찍 일어나다 친구 산책 라일락 라일락 꽃 나이 근교 여행 찾다 깔끔 강화도 찾다 계시다 운휴 특히 조용 고즈넉 완벽 힐링 바닷가 일몰 구경 지나다 강화도 운휴 강화도감성숙소 강화도숙소 강화도숙소추천 강화도에어비엔비\">]\n",
            "[2648, <tomotopy.Document with words=\"여행 알아보다 역시 한옥스테이 마감 시내 멀다 한옥스테 소설 재 선택 첨성대 대릉 황리단길 가까이 동궁 안압지 걸어가다 거리 뚜벅 여행자 위치입니 아늑 분위기 한옥 조명 조합 요즘 한옥 카페 매력 아마 겉 한옥 모습 띄다 리모델링 편하다 쉬다 다녀오다 크리스마스 분위기 마당 소설재 첨성대 황리단길 첨성대 새로 짓다 엄청 깔끔 소설 재 비수기 여러 으 선택 다인실 옆 붙다 늦다 소리 떠들다 옆 마루 컷 여름 푸릇푸릇 찍다 예쁘다 금오방 실 편 잠 전혀 불편 한쪽 책상 웰컴 드링크 간식 엽서 연필 좁다 넓다 편 어매니티 따뜻 가볍다 여행 괜찮다 꼭 침대 비추다 매력 요렇게 문 열다 나무 요기 포토존 겨울 푸릇푸릇 확실히 덜 컷 소설 재 첨성대 간단 조식 쪽 카페 맞추다 조식 먹다 넉넉 카페 커피 메뉴 투숙객 됩니 조식 간단 샌드위치 호박죽 샌드위치 식빵 보리 스타일 그냥 냥 깔끔 먹다 만하다 아침 커피 땡기다 투숙객 커피 꽤 먹다 귀요 빨대 뚜벅 여행 맞다 한옥 소설재였습니\">]\n",
            "[2657, <tomotopy.Document with words=\"맞다 가족 나들이 떠나다 시국 이리저리 돌아다니다 호캉스 즐기다 굳이 필요 만끽 편하다 놀다 서쪽 맘 껏 쉬다 숙박 솔베이지펜션 가족 인기 정말 꽤 애 먹다 날짜 바다 저절로 떠오르다 오름 즐비 지역 굉장히 매력 여행 근처 잡다 서쪽 마을 자체 굉장히 넓다 여러 독채펜션 날씨 놀다 독채펜션 텐트 독 채 옆 붙다 글램핑 거리 풀리다 잠자리 충분 외관 구경 실내 들어가다 커다랗다 거실 공간 널널 현관 입구 샤워쟝 깔끔 여름철 개장 수영장 젖다 상태 들어가다 굉장히 들어가다 먼저 눈 띄다 계단 밑 쏙 들어가다 굉장히 깔끔 인테리어 바꾸다 싱크대 밑 수납 공간 냄비 프라이팬 가정집 부럽다 도구 짜리 인덕션 머물다 먹다 충분 잇다 계속 이리저리 탐색 여태껏 서쪽 식기 류 편의 시설 넉넉 히 처음 굉장히 만족 스럽 혹여 사장 님 전자레인지 유무 여쭈다 당연히 덕분 야식 먹다 냉동 식품 실 컷 사갔답니 연고 반창고 간단 상비 뛰다 놀다 가족 최고 선택 일반 더블 크기 침대 널찍 상태 위생 민감 만족 스럽 통유리 바깥 공간 이어지다 개방 글램 핑 텐트 드나들다 편하다 나름 괜찮다 서쪽 공간 총 리모델링 타일 사이 이물감 없이 깔끔 계단 공간 정말 좋아하다 자그마 텐트 침구 류 성인 넓다 모습 층고 꽤 높다 공간 꽤 넓다 소파 테이블 옹기 종기 모이다 노래방 사장 님 요청 금세 연결 독채펜션 옆 피해 그나마 덜 구경 노래방 실 컷 놀다 덧 저물다 창가 터지다 소품 조명 셔터 누르다 덧 저녁 바베큐 요청 번개탄 숯 토치 철저 챙기다 처마 불 서쪽 도착 마트 돼지 숯불 올리다 역시 밖 굽다 먹다 제일 덧 노릇노릇 익다 두툼 먹다 여행 흑 돼지 환장 뒷정리 마당 들어서다 텐트 조명 들어오다 분위기 로맨틱 잊다 살아나다 캠핑 꽃 불멍 마당 모닥불 켜다 두르다 앉다 지난날 추억 미래 계획 이야기 나누다 조명 모닥불 불씨 충만 상태 하늘 올려다보다 달빛 너무나 아름답다 야외 실내 공간 답답 느끼다 텐트 충분히 넓다 전혀 답답 난방 용품 조명 충분 볼거리 놀다 거리 즐기다 정말 만족 스럽 서쪽 덕분 가족 추억 굉장히 뿌듯 여행 광상 전화번호 업체 원고료 지급 작성 후기 제주서쪽숙소 솔베이지펜션\">]\n",
            "[2684, <tomotopy.Document with words=\"여행 예쁘다 까망 상세 후기 다녀오다 여행 까망 까망 넓다 정원 산책로 예쁘다 카페 갖추다 대표 전라도 까망감스테 요즘 밀다 까망감스테 까망감스테 모든 영유아 포함 동반 여행객 불가 까망감스테 수용 넘다 비용 넓다 좋아하다 비용 지불 푸릇푸릇 넘다 예쁘다 빛 까망 사장 님 스타 위주 올리다 예쁘다 정원 어렴풋이 터 넘다 반하다 나무 새순 돋다 여름 잔디 예쁘다 벌레 스다 레 유입 방역 소독 열심히 지형 특성 벌레 어쩌다 공감 부분 싫다 여름 비추다 나중 따로 리뷰 여름 까망 붙다 까망 카페 살짝 맛보다 잔디밭 산책로 스다 레 예쁘다 조심 스다 레 추측 주차 까망 아항 계단 남편 미안 여행 트렁크 편 쪼다 고생 처음 잉 웬 계단 정원 프라이버시 푸릇 밖 단차 필수 선택 금방 깨닫다 문 열다 현관 소화기 감지 소화기 옆 에프킬라 수줍다 현관 마주 풍경 얼핏 예쁘다 뿜다 뿜다 현관 쪽 바구니 거울 드라이기 옆 슬리퍼 입구 섬세 느끼다 첫인상 무척 거울 옆 에어컨 커버 쌓이다 비용 얻다 이불 깔다 두께 굿 굿 아무래도 침대 생활 깔다 날 베다 그만큼 바닥요 쿠션 훌륭 의미 불도 꺼 커튼 치다 어둡다 음악 틀다 아늑 까망 매력 포인트 밖 그리너 리 숲뷰 커튼 젖히다 밖 푸르름 햄 뽁 맛 까망 예쁘다 흰색 초록색 예쁘다 찍다 어렵다 실력 부족 예쁘다 담아내다 아쉬움 유명 이불 책자 올리다 봉투 묶이다 안내문 프로젝트 에어컨 리모컨 예쁘다 세팅 조그맣다 부엌 편리 까망 개인 취향 식탁 바램 정말 별로 부분 뜻 일반 표현 아이템 적재적소 갖추다 심플 편리 예쁨 갖추다 이러다 대표 등극 까망 간단 조식 제공 따로 날 아침 셀프 간단히 챙기다 먹다 냉장고 준비해놔 솔직히 조식 부엌 쪽 토스트기 커피 포트 접시 칼 위생 봉지 키친 타월 전자레인지 간단 마음 특히 동반 여행객 과일 좋아하다 과일 자주 먹다 넘다 이날 딸기 엄청 씻다 먹다 뒤편 쟁반 상인 휴지통 모습 담다 부엌 소개 끝 소개 까망 욕실 욕실 욕조 규모 커서 서프라이즈 수건 넉넉 저녁 욕조 간단 물놀이 커텐 치다 욕조 커서 갑부 실용 좋아하다 세면대 칫솔 치약 만족 변기 식인 공간 슬리퍼 없이 편하다 장점 날 흐리다 날 듯이 방긋방 긋다 냉장고 넣다 간단 아침 투숙객 인원수 음료 제공 까망 카페 모닝 커피 참고 아침 저녁 들어가다 꼭 근처 마땅 여행 까망 이유 짧다 예쁘다 산책로 까망 추월산 쪽 호수 담다 확실 아무튼 아웃 바퀴 돌다 짱 예쁘다 까망 카페 산책로 꼭 예쁘다 머금다 멋들어지다 산책로 전라도 여행 추월산 까망 푸르르다 에코 도시 이미지 어울리다 편안 하루 보내다\">]\n",
            "[2697, <tomotopy.Document with words=\"날씨 흐리다 민박 리뉴얼 신상숙 고고 띵 마음 독채펜션 깔끔 개별 스파 찾다 다녀오다 민박 만족 기억 늦다 포스 팅 시작 주변 바다 독채펜션 코시국 주변 산 나무 정말 힐링 독채펜션 마주치다 후기 시작 국내 여름 여행지 괜찮다 근교 당일 치기 여행 불가 여름호캉 스다 요렇다 떨어지다 소개 도착 짐 컷 열정 뿜뿜 아침 출발 도착 얼리체크 어렵다 썸머키친 점심 먹다 장보고 오후 쯤 개인 세인트존스 깔끔 소품 역시 좋아하다 챠르 르 커튼 옆쪽 현관문 열다 나가다 개별 바베큐 바베큐 대여 거울 키 거울 튤립 취향저격 여심 저격 올라가다 침실 구경 스파 르 선택 침대 선택 화이트 침구 깨끗 유지 어렵다 정말 깨끗 침대 바닥 머리카락 깔끔 인테리어 예쁘다 만족 침대 옆 깨알 창문 식물 일부러 블라인드 올리다 예쁘다 따뜻 물씬 침대 옆 캔 소품 하나하나 따뜻 느끼다 민박 스파 소개 욕실 스파 따로 스파 따로 바쓰밤 스파 옆 창문 나무 한참 멍때리 힐링 온 예쁘다 아니하다 좋아하다 음악 틀다 스파하 지상 히히 민박 프라이 빗 바베큐 소개 바베큐 공용 요즘 코 시국 불안 따로 편하다 여름철 옥수수 굽다 먹다 존맛탱 옥수수 구입 이마트 한우 구입 마켓 아스파라거스 소세 마늘 굽다 원래 여행 이것저것 귀찮다 조촐 심플 옥수수 굽다 먹다 딘 짜다 맛 요즘 코시국 맘 편 히 고르다 힘들다 사생활 보호 독채펜션 쯤 여행 코스 여행지 여행 여행 여행 맛 맛 국내 여행지 국내 여행 여행 국내 여름 여행지 근교 당일 치기 여행 가족 여행 리조트 애견 동반 겨울호캉 스다 맛\">]\n",
            "[2729, <tomotopy.Document with words=\"여행 고민 부분 선택 오늘 세 이미 다녀가다 검증 가격대 지역 맞다 감히 선택 괜찮다 예쁘다 개인 취향 반영 만족 스럽 감안 핸드 메이드 홈 특징 기성품 꾸미다 공간 차별 실제 원주민 거주 시골 마을 창밖 펼쳐지다 스럽 풍경 힐링 건물 다소 서두르다 가성비 분위기 면 더욱 현무암 인테리어 적용 예술 공간 럭셔리 원하다 커플 씩 다르다 꼼꼼 히 살펴보다 선택 권하다 맞다 고민 수년 예쁘다 공간 인기 지속 농가 주택 리모델링 아름답다 공간 되살아나다 천국 쯤 공용 욕실 꼭 참고 실 유지 청결 기본 상급 다녀가다 후기 곤란 내용 지속 올라오다 절대 살펴보다 나무앤 라라 루디 마메 모루 채 제주데일 리 괜찮다 강조 뿐 만족 꼭 분위기 충분히 살펴보다 본인 일행 성향 맞다 선택 바라다 여행 바라다\">]\n",
            "[2738, <tomotopy.Document with words=\"이웃 님 올 여름 휴가 계획 잡다 여름휴가 건너뛰다 올해 친구 여행 컨셉 난리 치다 여행지 알아보다 열 올리다 본격 찾아보다 어쨌든 맘 똬 악 국내 이국스러움 인기 요즘 코로나 땜 해외 신혼 여행 찾다 신혼 부부 말이죵 알리다 호캉스 즐기다 신축 광이멀스테이풀 프라이빗 독채 괜찮다 여행지 찾다 어렵다 맘 어렵다 친구 다니다 이야기 개별 공간 머물다 내내 옆 손 님 마주치다 독채펜션 장점 소음 항의 전혀 소음 불편 걱정 편하다 힐링 하다왔다 야경 아름답다 주변 협재해수욕장 거리 바닷가 물놀이 다녀오다 애머니티몰튼 브라운 사용 그야말로 고급 스럽 침구 뽀송 청결 잠자리 넘다 편안 여행 찾아내다 칭찬 마당 맛있다 바베큐 친구 내년 여행 제주감성숙소 제주도우정여행 광이멀스테이펜션 광이멀스테이풀빌라펜션\">]\n",
            "[2745, <tomotopy.Document with words=\"근교 가볍다 분위기 찾다 힐링 근교 맞다 공유 그랜마 숲 불구 실내 인테리어 아기자기 타일 시공 깔끔 그랜마 시그니처 뽑다 모닥불 비용 모닥불 피우다 불 멍 모닥불 공간 공용 사용 공간 공용 간단 숲 공용 살짝 불편 호스트 어머님 식당 먹다 백숙 닭 탕 감저전 먹다 먹다 식당 먹다 옆 흐르다 정말 숲 편하다 쉬다 그랜마 호스트 가족 친절 후기 정말 그랜마 가져오다 공유 일정 수익 돌아오다\">]\n",
            "[2753, <tomotopy.Document with words=\"거제도 여행 다녀오다 좋아서 헤헤 소개 후다다 닥 머그학동 거제도감성숙소 거제도숙소추천 거제도숙소후기 작년 검색 늦다 찾다 바람 못 못 요번 급하다 찾다 다행히 거제학동몽돌 해수욕장 입구 컷 머그학동펜션 머그학 카페 머그 머그 플레이트 식당 운영 한눈 찾아보다 쉽다 맨 처음 제일 주차장 넓다 편안 편의점 해수욕장 걷다 다니다 편안 버스 정류장 버스 편하다 돌다리 오른쪽 카페 체크인 사장 님 찾다 됩니 총 요렇게 입구 바베큐 공간 날 덥다 패스 패스 현관 프라이버시 지켜지겠쥬 머그학동 구조 욕조 식탁 냉장고 침실 욕조 최고 맘 드 깔끔합니 친구 식탁 냉장고 적당 짐 쩌 모자랄찌 켘 여행 항상 중요 식탁같아 이웃 님 급 궁금 침실 별개 편하다 두르다 앉다 도란도 먹다 이야기 공간 필요 고렇다 의미 요기 식탁 높다 높다 계단 조심 계단 공포증 무섭다 항상 조심 티비 침대 욕실 화장대 공간 완벼쿠 완벼쿠 칫솔 치약 밖 나가다 날씨 머그학 냐옹 친구 꽤 있습니 귀엽다 녀석 저녁 무서움 잇 힝다 눈 레이저 발사 머그학동 위치면 편의점 바다 음식점 근처 편의 시설 편 못지않다 시설 맘 드 아침 조식 머그학 카페 먹다 먹다 사장 님 센스 폴 폴 맛있었어욯 담 기회 착하다 놀다 왕 왕 물놀이 넘다 못 아쉽다 솔직후기잖아 근데 증말 불 만족 스럽 굳이 꼽다 티슈 계속 휴지 참고 준 다녀오다 휴가 시즌 이니 참고하세 실 퇴 실 즐겁다 여행\">]\n",
            "[2761, <tomotopy.Document with words=\"여름 끝 보내다 계시다 친구 애 여행 다녀오다 찾다 힘들다 어렵다 찾다 마음 소개 애 뚜벅 여행 코스 맛 시작 다녀오다 애 카페 거리 곽 해수욕장 관광지 떨어지다 버스 걸리다 충분히 뚜벅 여행 다니다 한적 조용 마을 정말 고즈넉 마음 정말 편하다 쉬다 네이버 출발 외관 건물 쪽 주차 공간 코로나 따로 필요 없이 실과 퇴 실시 문자 씩 편하다 비밀 번호 미리 문자 알리다 올라가다 누르다 들어가다 인터넷 입실로 문자 공항 밥 먹다 입시 커피 공간 투숙객 캡슐 커피 비치 사장 님 쪽 관련 팜플렛 잔뜩 놓이다 아기자기 예쁘다 총 양쪽 창문 제외 루 구조 똑같다 들어가다 소리 지르다 첫 인상 아늑 예쁘다 넉넉 쾌적 시원시원 수건 이틀 예쁘다 거울 계속 찍다 넷플릭스 간단 심하다 바베큐 옥상 덥다 옥상 올라가다 못 수저 냄비 접시 갖추다 습 나름 담 찍다 마음 좋아하다 한적 시골 너낌 멀리 바다 흙 은은 동네 무척 조용 정말 쉬다 기회 꼭 애 강력\">]\n",
            "[2773, <tomotopy.Document with words=\"리하 오늘 소개 다이빙 맛 솔직 후기 발견 조식 째 다이빙 맛 조식 이쁘다 귀엽다 동생 상세 내역 맨 밑 하단 참고 입구 모습 갤러리 미술관 들어가다 나무 의자 날 퇴실 노랗다 철제 벤치 바꾸다 왼쪽 문 열다 들어가다 문 열다 들어가다 처음 맞이 공간 로비 테이블 들어오다 끝 맥주 옆 가격표 붙다 계좌 이체 로비 끝 중간 통로 오른쪽 면 공간 빔프로젝 터 무료 대여 이용객 간단 간식 라면 간식 커피 티백 정말 깔끔 맛있다 꺼 정말 묻다 가봐야겟 계단 군데 입구 들어가다 메인 거실 정말 깔끔 가득 메인 거실 스타 갬 스팟 들어오다 문 옆쪽 세면대 분리 침실 올라가다 엄 깔끔 복층 하늘 창문 날 구름 날 찾다 이유 조식 조식 후기 조식 이쁘다 맛 맛 먹다 랏 테이블 조식 픽업 옆쪽 비치 개인 원하다 패턴 고르다 후기 곰팡이 불 친절 써 걱정 개인 소감 아마 장마철 습기 건물 인테리어 입시 에어컨 제습 틀다 뵈다 착하다 묻다 음 상세 내역 공유 동영상 다이빙 맛 네이버 카카오톡 채널 다이빙 맛 현황 스테이폴리 참고히셔 리하이 개인사 결제 포스 팅 내용\">]\n",
            "[2790, <tomotopy.Document with words=\"여행지 강원도여행 엄 들뜨다 미리 계획 세우다 날씨 고민 여행 취소 하루 지나다 아쉽다 아쉬움 취소 날 계속 날씨 검색 바 알아보다 이미 매진 이대로 포기 스타 열심히 검색 찾다 강릉숙소 마침 혹시나 마음 이거 슬다 운명 호스트 가정집 머물다 공간 소람다락 따뜻 호스트 덕분 와인 병 얻다 높다 먹다 윤윤군 와인 바닷가 근처 한적 마을 소람다락 유리창 절로 편안 해지다 느 풍경 공간 나뉘다 벽 사이 거실 침실 거실 충분히 넓다 깔끔 침실 침대 새하얗다 침구 침실 시네빔 설치 플랫폼 사용 왓쳐 로그인 왓쳐 플랫폼 개인 사용 함 오만과편견 상비 약도 단점 찾다 화장대 벽 쪽 거울 설치 앉다 불편 히 거실 충분 식기 류 발뮤 토스트 전기 포트 사용 바베큐 해먹다 못 감바스 제공 파스타 기본 재료 파스타 셋팅 직접 먹다 아늑 소담다락 밤 짧다 박이 머물다 편안 만족 스럽 멋지다 강릉숙소 강원도숙소 강릉에어비앤비 강릉감성숙소 소람다락\">]\n",
            "[2805, <tomotopy.Document with words=\"뭉 리뷰어 라이언 라뭉 오늘 리뷰 소개 최근 뜸 이유 공사 도와주다 뜸하다 주택 리모델링 공사 공사 시작 직접 운영 누나 운영 동생 공사 도와주다 홍보 도와주다 나중 아래 소개 직접 제작 공사 부분 스테이청 한번 소개 본격 시작 먼저 짧다 소개 전원주택 전체 단독 사용 프라이 빗 거제도 아름답다 바다 산 느끼다 수용 단독 전원주택 사용 구조 침실 침대 욕실 편의 시설 야외 수영장 야외 발코니 해먹 바베큐 그릴 인치 넷플릭스 다양 근방 거리 유명 카페 온더선셋 어웨일카페펍 거리 더웨이브 카페 거리 파이다 에이 플러스 음식점 잇다 거리 가깝다 근처 여행 가량 거리 피 벽화 마을 전통 시장 가량 멀다 거리 더카트인통영 스카이라인 루 명소 주변 관광 명소 두루두 선택 근방 거리 마트 편의점 급하다 필요 구입 소개 루트 한번 설명 산 초행길 헷갈리다 올라가다 루트 총 루트 존재 첫 째 네이게이션 입력 루트 알아보다 옆 빠지다 지하도 지하 유턴 형식 반대 올라가다 자세 아래 지하 빠지다 반대 쪽 방향 올라오다 올라오다 표지판 높이 가드 올라오다 째 루트 네비게이션 루트 루트 거제실버웰 검색 개인 째 루트 선호 한번 본격 소개 먼저 입구 쪽 바라보다 전경 파노라마 촬영 풍경 폐 건물 올라가다 목숨 걸다 촬영 좌우 바다 산 트이다 정말 예술 들어서다 각도 바다 탁 트이다 풍경 감상 옆 자갈길 한번 따라가다 자갈길 고생 기억 화단 좌측 패널 조명등 우측 가지런 히 나무 걷다 인조 잔디 밭 자갈밭 경계선 조그만하다 모래 놀이 아무래도 온 가족 힐링 재밌다 놀다 조그만하다 모래 놀이 손수 제작 모래 모래 가득 채워놨지 모래 놀이 엄청나다 현타 모래 놀이 형태 직사각 형 틀 입구 쪽 어른 충분히 앉다 바 형태 의자 형태 제작 몸무게 자리 여러 테스트 튼튼 제작 이거 자갈길 모래 놀이 방향 풍경 기본 모래 놀이 필요 도구 비치 모래 놀이 넓다 인조 잔디 밭 깔리다 인조 잔디 밭 트램폴린 미니 축구 골대 커다랗다 인피니티 수영장 공사 뿌듯 인조잔디 탁 트이다 하늘 바라보다 풍경 바라보다 시원 바람 맞다 기분 최고 인조 잔디밭 끝 찍다 풍경 예술 먼저 트램폴린 한번 놀다 끄덕 사이즈 설치 젋어 아쉽다 트램폴린 설치 왼쪽 대각선 커다랗다 수영장 설치 머니머니해 물놀이 최고 사이즈 어마어마 사이즈 올라가다 수영장 반 채우다 성인 키 절반 수위 차오르다 인조 잔디 밭 데크 야외 원목 테이블 숯불그릴 야외테라스 앉다 정말 예쁘다 나무 사이 바다 하늘 정말 그림 폭 그리다 야외 소개 끝나다 실내 소개 아무리 야외 이쁘다 실내 편하다 쉬다 잠자리 편하다 실내 정말 심혈 기울다 영혼 갈다 넣다 인테리어 몰빵 먼저 실내 구조 설명 총 복층구조 거실 거실 침대 침대 거실 바라보다 시점 거실 겨울 따뜻 불멍 즐기다 난로 먼저 살펴보다 정말 심혈 울리다 원목 테이블 조명 설치 식기 기본 밥솥 전자레인지 커피포트 인덕션 정수기 커피 머신 거실 한번 거실 무 덥다 여름철 에어컨 넓다 공간 균일 더욱 넓다 시원 바람 느끼다 실링팬 설치 티비 나름 인치 빠지다 포인트 넷플릭스 시청 포인트 마지막 거실 바라보다 야외 풍경 한번 감상 침대 침대 옆쪽 화장대 옷장 놀이방 옆 거실 편안 휴식 인테리어 편의 시설 들이다 소개 올라가다 옆 통로 계단 올라가다 예쁘다 그림 액자 조명 눈 띄다 올라오다 먼저 간이 싱크대 마음 아래 문구 적히다 액자 먼저 첫 째 침대 째 침대 실내 소개 기존 주택 새롭다 인테리어 노력 필요 나름 재미 숙박 고객 님 아늑 편안 쉬다 마음 코로나 격상 관련 아래\">]\n",
            "[2809, <tomotopy.Document with words=\"근교 경기도 리스트 모음 대부분 비싸다 주로 여행객 적합 여행 근교 찾다 아래 적합 리스트 검색 들어오다 모음 모든 공식 북스테 모티프 드라마 부부 세계 촬영 이미 유명 북스테 모티프 공용 공간 빼곡 책 놓이다 개인 실 책 가득 없이 책 읽다 깔끔 마음 편하다 책 읽다 여유 모티프 이미 유명 태양스테 가격대 초반 착하다 인테리어 화이트 톤 깔끔 인기 넓다 편 깔끔 태양스테이 인기 이유 특유 이닝 테이블 프로젝트 최고 창문 풍경 예술 근교 경기도 찾다 태양스테 경기도 락 헌 근처 여유 즐기다 락 헌 시점 평점 고르다 평점 예민 편 후기 킵해 거실 예술 부엌 호스트 느끼다 깨끗 후기 청결 예민 만족 스럽 머무르다 청결 괜찮다 비용 바베큐 멀리 여행 힘들다 근교 느끼다 금락헌 선택 댁 루프 봄 댁 루프 옥탑 살짝 춥다 침실 인테리어 이닝 테이블 예술 부엌 타일 스타 로망 부엌 옥상 테이블 욕조 날 댁 꼭 숲 오두막 소개 단어 어울리다 도자기 공방 후기 난로 따로 비용 좋아하다 난로 필수 겨울 살짝 춥다 최고 후기 사장 님 친절 편 친절 후기 공간 최고 공간 완성도 찾다 불편 감수 아마 숲 오두막 비슷 불편 근교 경기도 경기도 레몬 근교 경기도 찾아보다 절대 유명 레몬 화가 개인 공간 레몬 창문 레몬 창문 특별 찾아보다 매력 포인트 여럿 발견 구조 파악 어려움 아마 레몬 창문 빌리다 갤러리 다이닝 정원 공용 공간 특히 레몬 시그니처 레몬 창틀 작가 님 직접 드로잉 작품 레몬 창문 창문 공간 미술 작품 이끌리다 기회 호스트 께 작품 이야기 듣다 공간 떠나다 멋지다 여행 찾다 멋지다 공간 경기도 근교 모음집 주로 위주 찾아보다 근교 경기도 쪽 코로나 들어가다 처음 코드 공유 어소시에이트 수익 돌아오다\">]\n",
            "[2840, <tomotopy.Document with words=\"스타 이쁘다 되게 막상 별로 네이버 스타 열심히 찾다 찾다 발견 여관 여관 여관 원룸 형식 침실 분리 기분 선사 꿀 잠 고르다 침실 스파 계단 올라가다 계단 폭 좁다 꽤 다니다 무섭다 엄 깔끔 세면대 거울 넓다 여러 동시 세면대 뒤쪽 샤워장 스파 욕조 뒷문 테라스 근데 문 열리다 나가다 내려다보다 거실 꽤 높다 다니다 힘들다 아늑 원하다 나름 침실 아늑 여관 어메니티 에비앙 생수 병 제공 스파 따로 러쉬 스파 욕조 엄 꽤 오래 걸리다 미리 미리 거품 제품 거품 스파 저녁 먹다 여관 근처 중국집 걸어가다 여관 앞쪽 상주은모래비치 날 바다 이쁘다 마을 되게 조용 다니다 그만큼 주변 식당 배달 편의점 근처 운영 화소반 카페 스타 근처 아쉽다 일찍 마감 중국집 이화원 중국집 맛있다 여관 근처 맛 찾다 계시다 꼭 저렴 맛 탕수육 세트 여관 아침 조식 전복죽 카페 사장 님 맞추다 전복 맛있다 싹싹 먹다 한적 조용 바다 근처 찾다 여관\">]\n",
            "[2844, <tomotopy.Document with words=\"위홈 요한 맘 따스 봄날 느끼다 요즘 여행 안달 요한 맘 여행 그리 잠자리 바뀌다 잠 못 요한 맘 여행 굉장히 중요 찾다 하루 고단 생활 편안 휴식 취하다 날 더욱 활기차다 편안 홈 어플 숙박 시설 알아보다 위홈 국내 유일 외국인 합법 공유 숙박 서비스 외국인 모든 홈 숙박 시설 타 플랫폼 외국인 한옥 농어촌 체험 제공 민박 운영 제공 불법 위홈 걱정 위홈 지하철역 반경 가깝다 거리 독 채 파티 한옥 다양 이색 보유 정부 인증 엄격 호스트 호스트 신뢰 공유 숙박 플랫폼 한옥 종로 지역 회사 대학가 학생 제공 위홈 특장 살펴보다 정부 인증 합법 인증 생활 동시 일반 모텔 다르다 이색 제공 불법 운영 격리 정부 지자체 인증 지역 보건소 협의 정식 허가 자가 격리 제공 외국인 민박 필요 국내 파견 실습 학생 여행객 내국인 정부 인증 합법 공유 숙박 호스트 인증 비상 평판 상세 제공 철저 운영 숙박 생활 현재 홈 이벤트 진행 자가 격리 자가 격리 필요 식품 쿠폰 증정 배달 민족 쿠폰 자가 격리 식품 박스 제공 짝짝 짝 위홈 예화 예화도 종로 거리 가운데 구조 층수 높다 창문 주변 경관 정말 멋지다 옥상 한옥 거리 감상 호스트 공예 용품 운영 물품 구경 쌈짓 거리 주변 다양 즐기다 숙박 거리 여관 원하다 외국인 여행객 학생 비즈니스맨 옛날 아날로그 식 따뜻 아늑 분위기 뿐 옛날 학생 선생 님 운영 호스트 경력 최고 시설 적당 특징이기떄문 누리다 분위기 편안 숙식 해결 침대 개인 실 침대 원하다 분위기 맞다 푹 잠 너무너무 깨끗 운영 위생 떄문 불편 없이 사용 씻다 부엌 시설 다양 식기 용품 부담 없이 취사 거실 아침 제공 직접 어울리다 장점 개인 확보 부담 없이 생활 제공 용품 디지털 도어 락 텔레비전 에어컨 옷장 테이블 의자 소화기 연기 감지기 와이파이 제공 거실 그릇 칼 수저 전자레인지 토스트 커피 수건 헤어 제공 샤워실 타월 비누 치약 바디샴푸 샴푸 비치 제공 칫솔 챙기다 좋겠쬬 숙박 해결 홈 서비스 위홈 공유숙박 서울숙소 감성숙소 게스트하우스 독채 서울숙박 합법숙소 숙박사이트 예화도예 인사동숙소\">]\n",
            "[2854, <tomotopy.Document with words=\"효창공원 용산역 화이트 톤 깔끔 디어누메르 효창공원 용산역 쪽 자주 자주 편 하루 아예 잡다 하루 푹 쉬다 특히 청결 후기 깔끔 중요 효창공원 용산역 숙소입니 효창공원 걸다 소요 후기 용산역 가깝다 꺄라 초코렛 카누 깜짝 선물 요로 소확행 여행 다니다 커피 좋아하다 가끔 커피 고민 스럽 카누 싸가야 고민 카누 초콜렛 따뜻 배려 느끼다 믹스 커피 효창공원숙소 효창공원역숙소 효창공원앞역숙소 용산숙소 용산역숙소 용산에어비앤비 용산역에어비앤비 후기 청결 상태 최상 먼지 날 이불 뽀송 아늑 깔끔 넘다 사이즈 일행 침실 못 옷걸이 베란다 있찌 테라스 베란다 실제로 가까이 찍다 여름 베란다 맥주 겁나다 저녁 곱창 땡기다 열정도곱상 곱창 먹다 열정 곱상 맞다 아마 맞다 맛있다 강쇠 술 정말 맛있다 굿 굿 짱맛탱 지리산 기운 강쇠 마트 아직 못 저녁 먹다 돌아오다 씻다 벌써 새벽 프로젝트 엄청 깔끔 아늑 안정감 저렴 편 여행 부담 없이 머물다 건물 자체 편 합정역 효창공원앞역 지하 철로 거리 알리다 본문 댓글 본문 확인 댓글 절차 적용 꼭 순서 지키다 진행 아래 사용 적립금 후반 중반 지급 진행 적용 꼭 적용 아래링크 들어가다 아이디 로그인 효창공원 용산역 화이트 톤 깔끔\">]\n",
            "[2856, <tomotopy.Document with words=\"에이엔디클라 우드 후기 요즘 예쁘다 짧다 개월 마감 취소 여행 계획 하루 알아보다 먼저 찾아보다 네이버 네이버 기재 디럭스룸 초반 아래 들어가다 버튼 누르다 실시간 상태 확인 에이엔디클라우드 타입 디럭스 스위트 더블 콘도 스위트 디럭스 나뉘다 디럭스룸 사용 자체 투숙객 라운지 루프탑 복잡 조용 휴식 호텔디럭스룸 들어가다 네모나다 매력 이곳저곳 숨다 창문 찾다 재미 테이블 침대 맞은편 그곳 짐 윗쪽 옷걸이 옷 걸다 차갑다 시멘트 벽 네모나다 창문 어울리다 칫솔 치약 제공 샴푸 컨디셔 바디워시 로션 헤어 제공 에이엔디클라우드 어메니티 사용 고급 스럽 제품력 괜찮다 로고 테 브랜드 제품 샤워부스 변기 세면대 넓다 깔끔 해피아우어 무료 제공 와인 음료 간단 간식 부르다 루프탑 올라가다 루프탑 북한강 정말 멋 루프 실내 의자 편안 히 앉다 풍경 바라보다 발 받침대 발 올려놓다 구경 내려오다 창문 깨끗 밖 내려오다 올려다보다 이곳저곳 네모나다 창문 숨다 네모 찾다 무색 네모 야외 공간 공간 바베큐 비용 먹다 가깝다 마트 저녁 먹다 알리다 미리 숯불 버너 라면 끓이다 먹다 식기 여러 종류 라운지 필요 사용 설거지 번거롭다 개인 일회용품 노랗다 조명 켜다 분위기 아늑 낮 다르다 수영장 루프탑 투숙객 들어가다 사이즈 원하다 팀 씩 풀장 사이즈 팀 씩 장점 와닿다 밤 밤 하늘 정말 낭만 개인 제일 기억 하늘 쳐다보다 금방 지나가다 조식 무료 제공 에이엔디클라우드 조식 무료 제공 퀄리티 정말 사장 님 직접 원하다 먹다 먹다 예쁘다 바구니 담다 스타 찾아보다 조식 먹다 오렌지 주스 맛 묻다 먹다 부족 아침 굶다 아침 일찍 일어나다 주변 산책 주변 북한강 산책로 산책 걷다 부담 스럽 무료 제공 자전거 바퀴 쭉 돌아보다 더위 꺾이다 시원 산책 근처 즐기다 거리 카페나 리버 마켓 레저 즐기다 핸드 커피 좋아하다 늘 굳이 찾다 핸드 커피 선호 마침 에이 앤디 클라우드 근처 맛있다 걸리다 거리 에딧 커피 스토리 사장 님 커피 경력 매장 진열 커피 도구 보아하니 커피 맛 절로 매장 로스팅 별도 판매 모래 커피 모래 커피 뜨겁다 모래 커피 끓이다 터키 식 커피 홍대 진하다 커피 맛 인상 에딧 커피 스토리 모래 커피 모래 끓이다 뒤 종이 필터 거르다 커피 찌꺼기 없이 부드럽다 모래 커피 맛보다 본인 커피 스타일 말씀 커피 지식 풍부 사장 님 계시다 커피 좋아하다 꼭 들르다 매장 넓다 커피 스콘향 기분 매장 분위기 정말 그동안 단골 포장 손님 정말 다녀가다 이미 유명 맛 보장 뜻 하루 편안 쉬다 주변인 벌써 기회 에이앤디클라우드 꼭 경험 바라다 후기 글\">]\n",
            "[2857, <tomotopy.Document with words=\"숙박 일정 욕지도 코스 먼저 잡다 리스트 추리다 순전히 나중 까먹다 힛 핫 플레이스 리스트 토모노야 료칸 픽쳐레스 머그학 아날로그 거제갈 곶 상상 개요 웰컴 드링크 조식 제공 퀄리 티 최상 어메너 티 이솝 총 탕 아이돌 공연 티켓 팅 급 하루 하루 씩 순차 저렴 후기 유명 늦다 아쉽다 신행 일찍 마음 먹다 미리 알아보다 터 아쉽다 자정 저렇게 걸리다 오른쪽 벼르다 소리 모든 날 꽉 꽉 수요 채우다 취소 올라오다 겟 겟 굉장히 여행 일정 무조건 개요 일본 현지 낭 낭 꼭 거제아니여 함 별로 어렵다 실내 편백 히노끼 탕 히말라야 솔트 제공 조식 석식 제공 개별 유카타 타 제공 유카타 일본식 한복 게타 일본식 신발 쪼다 쉽다 편 비수기 조식 석식 포함 스타 올리다 매국노 체험 사장 님 소통 피치 못 연락 오래 후기 날 널널 항상 하루 팀 못 독채 위주 정말 자리 넉넉 올라가다 맞추다 료칸갬 개요 오션뷰 조식 제공 신축 카페 동시 운영 총 개별 테라스 바베큐 어메너 티 탄 카페 장점 그리 빡세다 편 현재 순차 하루 씩 비수기 모든 후기 그리 빡세다 편 아직 날 꽤 현재 순차 하루 씩 저렴 편 비수기 비싸다 모든 컨디션 모든 개요 조식 제공 총 복층구 조 실내 스파 욕 제공 실내 스파 공간 포토 존 어메너 티 브랜드 친 환경 넷플릭스 숯불 바베큐 카페 동시 운영 카페 후기 네이버 가격대 저렴 편 후기 모든 조건 흔히 오션뷰 스파 입욕제 스파시설 간접 인테리어 예쁘다 포토존 원래 운영 카페 커피 무료 제공 장점 일정 맞다 미리 계획 원하다 날 충분히 개요 유명 총 녹 웰컴 드링크 로프 조식 제공 프라이 빗 욕조 수영장 스파 갬 불 어메너 티 플 바베큐 가스 그릴 무난 저렴 비수기 별로 다르다 욕조 노을 포토 존 다르다 침실 거실 테이블 후기 아직 자리 미리 계획 짜다 힘들다 현재 순차 하루 씩 구조 개요 광고 주관 유일 제주독채 총 산다 해홍 웰컴 드링크 제공 조식 그대 촬영 오션뷰 포레스트뷰 숲 바람 언덕 야외 족욕 공간 프라이 빗 수영장 실내스 파 입욕제 어메너 티 이솝 핸드 커피 프로젝트 넷플릭스 바베큐 불가능 기간 이후 스타 기간 거치다 신생 후기 별로 식용유 조미료 후기 산다 해홍화 실 신생 라인 오션뷰 강조 대부분 유일 못 억울 한번쯤 인플루언 위주 후기 돈 후기 검증 필요 상업 목적 글 가격대 아직 무난 비수기 개요 오션뷰 통유리 대형 욕조 입욕제 유형 종류 스탠다드 프라이 빗 상상 총 넉넉 편 스탠다드 실내 오션뷰 욕조 입욕제 야외 공동 바베큐 실내 오션뷰 욕조 입욕제 야외 공동 바베큐 간단 취사 시설 프라이 빗 상상 복층 구조 개별 인피니티 수풀 야외개별바베큐 간단 취사 시설 조식 제공 야간 루프 맥주 와인 세트 서비스 서비스 어메너 티 드 숯불 바베큐 단독 공동 개인전 주차장 노트북 대여 가격대 비싸다 편 후기 스탠다드 프라이 빗 상상 타입 별개 구조 불편 자체 널널 네이버 살펴보다 날짜 비싸다 나중 가족 단위 판단 프라이 빗 침대 스파 공간 근데 엄청비싸 전반 가격대 저렴 계속 독채펜션 계속 업데이트 거제숙소 인플루언서 혜택 위주 광고 글 홍보 고르다 홍보 정말 따지다 무섭다 성글다 글 노출 노력 무섭다 적당히 여행지 보기\">]\n",
            "[2860, <tomotopy.Document with words=\"지유진 적당 적당 적당 금요일 야놀자 숙박어플 배정 아쉽다 인테리어 디자인 다르다 해운대 편하다 건물 편의점 접근성 주차공간 협소 도보 걸어가다 주차타워 주차 주차타워 출차 자유 롭 장점 들어가다 음악 채널 틀어지다 디퓨 개인 코코도 르 블랙 체리 좋아하다 날 느끼다 간접 채우다 눈 눈 뜨다 풍경 자체 어메니티 특별 어메니티 칫솔 치약 샤워타올 시설 전반 깔끔 정돈 좁다 대리석 계단 침대 이어지다 소파 특별히 이유 그냥 왔다갔다 편하다 재밌다 틀다 한참 헤매다 갑작스럽다 선택 와중 줄기 빛 후회 만족 부산숙소 해운대숙소 부산호텔 해운대호텔 감성숙소 감성호텔 유에이치스위트\">]\n",
            "[2867, <tomotopy.Document with words=\"이태원 입니 넘다 접근 편 감안 짱짱 거실 편 제일 맘 째 최고 찍다 넘다 이쁘다 사진찍고팠어 대부분 침실 포근 아침 굿 플러스 인테리어 화이트톤 포텐터져 꼭 즐기다 이쁘다 테이블 헤헤 야식 먹다 이쁘다 치약 예쁘다 테이블 이쁘다 조명 코지 따뜻 다르다 열심히 고추바사 삭다 최애 치킨 입니 저녁 치킨먐 요즘 깔 밀크 꽂히다 편의점 마침 깔루아팔 야식 안방 잔 간단 히히 굿모닝 아침 증말 예쁘다 스냅 찍다 아쉽다 못즐기거 재 이쁘다 깔끔 이태원 호스트 분이 답장 빠르다 친절 기억 알리다 본문 댓글 본문 확인 댓글 절차 적용 꼭 순서 지키다 진행 아래 사용 적립금 후반 중반 지급 진행 적용 꼭 적용 아래링크 들어가다 아이디 로그인 이태원\">]\n",
            "[2895, <tomotopy.Document with words=\"나중 리스트 여름 휴가 웨딩스 촬영 웨딩스냅 적어도 개월 결혼 지나다 시작 터 멀뚱 멀뚱 상태 촬영 촬영 고민 꽃 찍다 리 웨딩스 업체 고르다 귀찮다 스타 대충 검색 괜찮다 괜찮다 대충 군데 알아보다 이미 마감 오래 극 오빠 휴가 일정 마침 캔슬건 생기다 하늘 계시 오빠 컨펌 마침 고르다 신생 업체 저렴 편 원하다 저렴 제주웨딩스 마감 뚫다 성공 담아놓 나머지 스타일 고민 스럽 단칼 결정 든든 날 오빠 항공권 렌트카 언제나 몫 고르다 시작 재작년 가족 여행 답다니언덕집 노이 다녀오다 빨리 다녀오다 요즘 불가 인기 버리다 특히 답다니언덕집 나중 오빠 꼭 인상 깊다 요즘 인기 불 귀찮다 터 따로 훗날 유용 꺼내다 쓱 찾아보다 비슷 수준 요즘 비싸다 독채 다르다 수준 저렴 느끼다 요즘 터지다 넘치다 독 채 정말 헤다 수준 고르다 힘들다 찾다 찾다 영혼 탈탈 털다 찾다 시작 눈 불 켜다 질리다 찾다 스타일 메모장 모으다 아깝다 기록 올리다 블로거 분이 굉장히 이왕 바라다 넘다 위주 추리다 괜찮다 넘다 찾아보다 소개 호스트 직접 올리다 발췌 추후 호미 거리 밖 거리 인기 밖 거리 비수기 일정 거리 불가 패스 피드백 빠르다 친절 거리 밖 거리 채 조용 스럽 인테리어 돌담 특징 마당 족욕 공간 프로젝터 다녀오다 직접 올리다 이쁘다 꼭 찾아보다 밖 거리 침대 바라보다 마당뷰 끝내주다 찍다 침대 마당 바라보다 찍다 일품 호미 찍다 푸다 검색 자세 내용 참고 아일 인기 마감 패스 역시 인기 빠르다 필요 전체 화이트 톤 우드 인테리어 주식 마당 딸리다 특징 찍다 베스트 스팟 크기 구조 인기 비싸다 동춘스테 인기 요금 아래 참고 툇마루 인기 카페 넷플릭스 시청 공간 아늑 침실 따로 공간 나동 툇마루 나동 마루 툇마루 마당뷰 최고 침실 좁다 편 전체 툇마루 인기 본문 첨부 디테일 아래 참고 어쿠스틱 맨션 괜찮다 음 원룸 형식 수준 이닝 침실 욕조 구조 타입 형 키친 테이블 식탁 침실 저렴 편 구조 특이 인테리어 유니크 함 형 이닝 형 욕실 개방 공간 괜찮다 오오오 뒤늦다 발견 급하다 리스트 소리 이쁘다 탓 어마어마 자세 스타 참고 레시 피 박스 직접 먹다 무어 어메니티 정성 가득 함 고르다 힘들다 참고 사항 아래 참고 어랭 퐁 낭 처음 제주스 런 돌담 바베큐 야외 테이블 프라이빗 탕 숙박 넉넉 침대 최근 리모델링 함 깔끔 넓다 편 바베큐 탕 포인트 인기 총 건물 인기 동그랗다 대나무 뒤 돌담 초록밭뷰 펼쳐지다 스럽 포토스 팟 굿 찾아보다 초록밭뷰 수영장뷰 야외 공용 이쁘다 괜찮다 편 조용 찍다 포인트 특징 고르다 스테이아 참고 실 실 토 실 실 요금 실 실 포스 팅 이쁘다 꼭 꼭 찾아보다 수영장 이쁘다 하얗다 수영복 미니 웨닝스 찍다 나지요 나중 꼭 부담 스럽 나중 여럿 스테이어 라이브 모던 따뜻 미니 멀다 깔끔 저렴 괜찮다 편 에디토리얼제 여럿 보름우스테 화이트 인테리어 포인트 제격 깔끔 이쁘다 괜찮다 편 모든 마감 인기 사이 사이 하루 개월 인기 미리 미리 보름우스테 요금 아래 내용 리스트 끝 공감 꾹 정말 끝판 왕 들이다 찾다\">]\n",
            "[2900, <tomotopy.Document with words=\"여행 여행 여행 숙박 돈 필요 아무 찍다 저렴 바 예쁘다 잇다 마지막 리스트 정말 괜찮다 찾다 어렵다 그냥 예쁘다 괜찮다 소호네 전원 주택 호스트 숙박 구조 취사 요청 바비큐 괜찮다 가족 괜찮다 날 중문관광단지 수수료 포함 최소 바베큐 요청 테라스 취사 오후 수네 민박 어울리다 수네 민박 감각 인테리어 소품 수네민박 첫 째 째 아무래도 공용 공간 독채 불편 불편 순애 강아지 강아지 땜 귀엽다 수수료 포함 최소 조 식 제공 공용 공용 거실 공용 오후 미니 메리 조식 맛 유명 미니 메리 조식 제공 퀄리티 훌륭 미니메리에 미니 메리 미니메리룸 미니메리룸 타이틀 가깝다 스럽 돌담뷰 인테리어 미니메리룸 전용 테라스 따로 독 채 만족도 높다 수수료 포함 최소 불가 취사 조 식 제공 오후 누코지스테 통유리 들어오다 햇살 예쁘다 누코 아기자기 소품 꾸미다 비슷 구조 꾸미다 테라스 밖 먹다 제주스러움 꾸며놨다 동쪽 수수료 포함 최소 테라스 오후 민박 여성 전용 별채 민박 남녀 커플 끼리 숙박 여성 참고 여행 여성 여행객 안성맞춤 마당 고양이 급식소 고양이 자주 들락날락 고양이 무서워하다 패스 흑 아침 먹다 간단 씨리얼 음료 동쪽 수수료 포함 최소 단독 공용 씨리얼 우유 주스 커피 제공 여성 전용 오후 공항 근처 터지다 공항 근처 첫 날 마지막 날 인테리어 면 취향 가깝다 갬성 아담 필요 공항 근처 수수료 포함 최소 프로젝터 토스터기 핸드드립 커피 오후 페이지 이루다 어소시에이트 돌아오다\">]\n",
            "[2907, <tomotopy.Document with words=\"직접 다녀오다 후기 여행 계획 포스팅임 알리다 시재시재 스타 서칭하다 찾다 시재시 재 금오름 멀다 마음 접수 기간 따로 개월 좋아하다 소개 소개 하늘 따다 비싸다 이쁘다 그냥 인테리어 하루 피로 날아가다 사장 님 네이버 사용 정말 고민 스파 굉장히 좋아하다 야외 야외 스파 자쿠지 설치 깔끔 챙기다 손색없다 탐나다 특이 모든 시설 도토리 결제 현금 카드 도토리 사용 귀엽다 소공원스테이 이름 소공녀 스럽 소 공원 돔 형태 창문 화이트 오트밀 인테리어 여성 굉장히 좋아하다 소 공원 이루어지다 공간 사무실 개인 공간 운영 건물 라운지 조식 제공 세 군데 돌아보다 이쁘다 욕조 좋아하다 반신 욕 세 군데 알아보다 스타 서칭 찾다 알아보다 오늘 세 현실 반영 알아보다 포스 팅 오늘 눈 정말 눈길 조심 감기 조심\">]\n",
            "[2912, <tomotopy.Document with words=\"글 이드 여행 부분 차지 대부분 오션뷰 택하다 요즘 대세 찾다 정말 터 계시다 여행객 사로잡다 진남 맨 쇼 지번 진남 맨 쇼 입구 슬다 슬다 올라오다 진남맨션 이순신 광장 뚜벅 여행객 최적 조건 명물 이순신 버거 건물 이순신 버거 테이크 아웃 먹다 안성맞춤 진남맨숀 독채펜션 부티크 루프 한오크 당일 현관문 문 비밀 번호 핸드폰 전송 진남 맨 쇼 들어가다 공간 공간 정말 넓다 한옥 스타일 분위기 느끼다 한오크 거실 부엌 이루어지다 가족 단체 머물다 안성맞춤 거실 정말 푹신 쇼파 하루 종일 티비 힐링 안성맞춤 창틀 인테리어 소품 소품 불구 정말 넓다 만족 스럽 특히 입지 조건 밤 야식 밖 나가다 최고 부엌 부엌 먹다 식탁 작업 테이블 밤 작업 테이블 사용 역시 성숙 존재 냉장고 사이 힐끗 유리병 나뭇가지 블라인드 사이 들어오다 자연광 대변 진남맨숀 취사 간단 먹다 정말 안성맞춤 바베큐 루프탑 자리 잡다 먹다 더욱 인덕션 간단 라면 간단 한옥 스타일 추구 진남 맨 쇼 첫 째 한국 미 물씬 매트리스 베개 가지런 히 놓이다 사용 단독 사용 청결 실망 진남맨숀 청결 완벽 넉넉 수건 비누 기본 샴푸 린스 바디워시 개인 가져오다 맞은편 째 이불셋트 첫 째 째 잠 충분 진남맨숀 장점 콘센트 정말 충전 기억 거실 맞은편 티비 째 아마 공용 째 청결 최고 하얗다 타일 돋다 기본 수건 샴푸 바디워 컨디셔널 진남맨숀 시그니 오락기 게임 즐기다 오락기 밤 심심 오락기 게임 추억 쌓다 첫 째 들어가다 옆 헤어 드라이 발견 아침 드라이 지체 마지막 세 째 들어가다 세 째 더블 침대 침대 선호 안성맞춤 블라인드 충전 정말 콘센트 침대 옆 협 탁 주위 콘센트 충전 잠 액자 분위기 진남 맨 쇼 생생 확인 처음 하룻밤 진남 맨 쇼 가족 친구 하룻밤 오션뷰 친구 옹기 종기 파티 찾다 진남맨숀 적합 글 숙박 제공 작성 솔직 후기\">]\n",
            "[2955, <tomotopy.Document with words=\"여행 먼저 알아보다 계획 짧다 짧다 편하다 여행 퀄리티 달라지다 여행 부분 차지 앳홈트립 직접 운영 뉴욕 앳홈스테이 소개 앳홈스테이 여행 중요 하루 마무리 휴식 보내다 시끄럽다 맨하튼 걸음 벗어나다 맨하튼 아름답다 모습 바라보다 뉴저지 웨스트 뉴욕 뉴욕 맨하튼 떨어지다 오해 맨하튼 빠르다 뉴욕 중심지 타임스 스퀘어 도착 최고 자리 잡다 정말 맨하튼 스카이라인 아침 저녁 바라보다 산책 조깅 공원 걷다 도착 아침 조깅 저녁 산책 맨하튼 전경 바라보다 늦다 귀가 여행 동네 장점 앳홈스테이 가성비 가심비 만족 뉴욕 가득 이미 느끼다 앳홈스테이 모던 깔끔 인테리어 뉴욕 디자이너 모던 뉴욕 그대로 옮기다 여행 돌아오다 뉴욕 느끼다 철저 청결 만족 앳 홈스테이 현재 체크인 열 건물 마스크 착용 정기 소독 깨끗 노력 열 증상 검토 코로나 증상 의심 실 불 방역 수칙 준수 믿다 머무르다 노력 기울이다 현재 앳 홈스테이 특가 이벤트 진행 정말 찾아보다 만나다 기회 특히 현재 뉴욕 출장 미국 지역 뉴욕 계획 더욱 앳홈스테이숙 특가 이벤트 계속 진행 뉴욕 여행 계획 계시다 꼭 메모 바래다 뉴욕 앳홈트립 앳홈스테 궁금 아래 클릭 뉴욕여행 뉴욕여행준비 뉴욕여행숙소 뉴욕숙소추천 뉴저지숙소 뉴욕 앳홈뉴욕 뉴욕게스트하우스 뉴욕한인민박 뉴욕숙소 앳홈트립 앳홈뉴욕숙소 뉴욕감성숙소 뉴욕감성 뉴욕숙소리뷰 뉴욕숙소후기 뉴욕숙소할인 코로나 뉴욕코로나 뉴욕코로나방역 뉴욕코로나예방 뉴욕출장 뉴욕가족숙소\">]\n",
            "[2962, <tomotopy.Document with words=\"바람꽃 바다 인접 내려가다 구불 좁다 불편 들어가다 전경 따뜻 색감 조명 전체 나무 덕분 뿜다 뿜다 머무르다 다락 계단 올라가다 다락방 아늑 맛있다 야식 먹다 공간 바다 욕조 바다 창문 맛 개인 포토스 팟 하룻밤 머물다 편안 떠들다 옆 들리다 옆방 외출 소리 이야기 들리다 날 아침 일어나다 온 눈 세상 덮이다 빨리 돌아가다 카메라 앵글 어지럽다 눈 덮이다 건물 오른쪽 건물 키친 간단 도구 식기 근처 가깝다 편의점 식당 최소 필요 미리\">]\n",
            "[2973, <tomotopy.Document with words=\"글 이드 여행 기억 이미 유명세 현재 리모델링 확장 거제도 대표 신축 독 채 거듭나다 상상 경상남도 거제대로 상상 상상 이미 관광객 인기 불구 트렌드 맞다 독 채 리모델링 거제도 스파펜션 아마 배정 차고 정말 신선 충격 차고 아마 처음 차고 주차 연결 계단 계단 올라가다 문 열다 들어가다 이러 독 채 반기다 집중 오션뷰 스파 스파 옆 가볍다 맥주 잔 좌식 공간 인테리어 침대 퀸 사이즈 리모델링 침대 주변 분위기 집중 정말 사소 액자 분위기 넓다 여유 롭 호캉스 즐기다 침대 옆 충전 콘센트 충전 다양 기기 충전 에어컨 조절 침대 옆 상상 시그니 공간 오션뷰 커튼 하나하나 색상 가져가다 만족 스럽 거제도 스파펜션 불리다 아깝다 인테리어 스파펜션 부르다 일찍 체크인 바다 바라보다 스파 즐기다 호캉스 즐기다 상상 기억 인테리어 소품 별거 사소 상상 분위기 전기 포트 별거 발뮤 전기 포트 사소 넣다 별거 하나하나 사장 님 완벽 청결 믿다 상상 침실 느끼다 인테리어 원형 거울 세면대 세수 디자인 발뮤 이후 한번 충격 어메니티 어메니티 히말라야 허브 정말 제품 개인 정말 좋아하다 제품 만나다 상상 아침 눈 뜨다 만나다 커튼 사이 바다 순간 기억 순간 커튼 사이 들어오다 자연광 소품 거제도 스파 신축 독 채 상상 보다 생생 확인 거제도 정말 오션뷰 스파펜션 거제도 여행 프라이빗 스파 오션뷰 상상 적합 글 숙박 제공 작성 솔직후기\">]\n",
            "[2975, <tomotopy.Document with words=\"여행 다녀오다 만족 소개 참고 비싸다 돈 아깝다 실제로 부부 여행 저녁 꽉 놀다 돌아오다 실제 즐기다 성비 찾아다니다 성공 유명 눈물 머금다 공유 남서쪽 리 마을 옛 구옥 새롭다 모습 재 탄생 단독 주택 산방산 산 월라봉 스테이월 독채 운영 제세 내용 네이버 확인 사이 실 다녀오다 박이 스테이월라 자세히 설명 거실 들어가다 탁 트이다 거실 눈 들어오다 사장 님 센스 제즈 음악 틀다 아래 동영상 구조 자세히 거실 쇼파 뒷쪽 옷걸이 빨래건조대 케리 놔두다 날 옷 걸다 짜투리 공간 활용 침실 깔끔 침실 침대 편하다 푹 역시 깨끗 넘다 조으 편백나무 사용 들어가다 편백향 조으 욕실 비품 샴푸 린스 바디워 핸드워 치약 수건 넉넉 수건 넉넉 좋트 샤워부스 쪽 거실 부엌 깔끔 식기 와인오프너 과자 드립커피 화병 꽃 꽂다 삐꼴라 상점 와인 꽃 포장 재 사용 커피 잔 뻥 뚫리다 힐링 따로 야외 탕 하이라이트 야외 탕 한눈 반하다 결심 입구 쪽 바베큐장 흑 돼지 굽다 먹다 그릴 제공 숯 뻥 뚫리다 탕 유채 꽃밭 유채 꽃 시즌 유채 꽃밭 탕 고급 밤 아름답다 참고 넝쿨 조명 육지 신랑 그거 도대체 챙기다 잔소리 포기 못 챙기다 이뿌 삐꼴라 상점 화이트 와인 밤 즐기다 아쉽다 하루 하루 여유 롭 즐기다 아쉽다 추억 꼭 장단점 장점 깨끗 심플 독채숙소 성비 갑 탕 무료 바베큐장 테이블 그리다 단점 꼽다 장점 굳이 꼽다 단점 단점 탕 소요 사장 님 설명 꺼 새다 틀다 미지근 중간 세기 틀어놔 따뜻 오래 걸리다 머리 짜다 단점 참고 스타 빠르다 안뇽\">]\n",
            "[2980, <tomotopy.Document with words=\"거제도 위쪽 돌아오다 공유 탄 편 계시다 찾다 우 티웨이항공 여행 아직 어쨋 공유 시리즈 위주 위주 작성 주관 글 공식 페이지 가져오다 삭제 아래 사이트 댓글 첨부 홈구 홈구 럭셔리 호캉스 제대로 찾다 홈구 호캉스 인기 어렵다 인기 맞다 카루나 오션뷰 마운틴뷰 적절 섞이다 휴가철 항상 인기 리뷰 근방 정말 맘 꼽다 가득 바다 담다 일상 예술 상점 오션뷰 팜 일레븐 카페 운영 팜 일레븐 날씨 너머 마운틴뷰 힐링 제격 카페 영업 운영 분위기 느끼다 팜일레븐 일정 바꾸다 어스 투 해변 어스투스테이 따뜻 왠지 한국 다낭 느끼다 다낭 다낭 간접 체험 현재 진행 요기 스테이오 영국 가정집 무드 파리 모습 빈티지 플라워 패턴 색감 스럽 걸다 금요일 시작 시작 해맞이 해맞이 정말 힐링 느끼다 자쿠지 프로젝트 정말 편안 쉬다 찾다 휴식 원하다 알리다 해맞이 현재 네이버 실시간 진행 황금박쥐 캠핌 캠핑 카라 반 카페 캠프파이어 모든 공간 소나무 숲 사이 박쥐 캠핑 카페 쉬다 찾다 힐링 피그말리온 펙 트다 피그말리온 펙 트다 좋아서 가족 단위 찾다 힐링 이유 공연 진행 사건 주광색스테이앤라탄 작업실 정말 카페 운영 라탄 작업실 운영 카페 이용객 힘들다 정말 조용히 쉬다 시골집 찾다 한옥 독채 팀 사용 정말 쉬다 아쉽다 밖 아쉽다 리뷰 예쁘다 여관 팀 공간 총 팀 여관 창밖 여름 푸릇푸릇 힐링 찾다 괜히 저녁 힐링 덕분 아침 새소리 또는 빗소리 눈 뜨다 정말 꼽다 예쁘다 봐주다 바라다 코로나 해외 못 국내 예쁘다 힐링\">]\n",
            "[2993, <tomotopy.Document with words=\"위시리스트 공유 포스 팅 평점 슈퍼호스트 제주에어비앤비 제주감성숙소 요즘 넘다 제주앓 그동안 모으다 위시 리스트 공개 출처 수수료 적용 구체 금액 페이지 확인 차와무드 별채 첨 인스타 반하다 그만큼 빡세다 느낌뿜뿜 깔끔 맘 찍다 스타 포인트 다실 잎차 다기세트 드리퍼 커피 공간 예쁘다 창밖 풍경 침실 예쁘다 고르다 무조건 창밖뷰 중요 그래야 여행 힐링 되거덩 빔프로젝터 굳다 굳다 욕실 반신 욕조 어메니티 키엘 동쪽 위쪽 쪽 여행 제주미아모커 리 꼭 한번 우드 톤 인테리어 어울리다 넘다 리뉴얼 퇴 실 전체 살균 소독 코로나 호스트 글 엄 꼼꼼 자세 설명 왠지 신뢰 빔프로젝터 저녁 눕다 넷플릭스 캬 세탁기 커피 머신 토스트 원래 단점 시설 부족 실용 잡다 광고 글 찾다 공유 전체 깔꼼 화이트 우드 톤 호불 모커리 욕실 욕조 야외노천탕 찜질방 여러 주의 사항 조건 페이지 꼭 확인 요기 야외 탕 앉다 공항 멀다 마지막날 첫째 날 언덕 고급 스럽 가족 여행 내려오다 침대 숙박 공간 엄 반하다 예쁘다 자쿠지 욕조 편안 히 힐링 잠 아깝다 서쪽 마을 조용 시골 정취 느끼다 코로나 여행 터 바라다 필요 누르다 댓글\">]\n",
            "[3013, <tomotopy.Document with words=\"다르다 비쾅쾅오 브런치 먹다 쯤 출발 아르떼 뮤지엄 신라호텔 영수증 컷 찍다 원래 롯데아트빌라스 평수 넓다 포기 가족 모이다 꺼 땃 요기 인기 포토 존 아르 떼다 뮤지엄 신랑 괜찮다 따다 기념품 귤 모자 득 테 괜히 오메기떡 기분 스럽 소품 아쉽다 엄 엄청와 신라호텔 브런치 먹다 엄청 오래 기다리다 아르 떼다 들어오다 이외 기억 독채 네이버 이름 다르다 네이버 이름 그대봄 네이버 다르다 다음날 한라산 지치다 저녁 한라산 취침 안개 심하다 한라산 다행 불행 후기 넘치다 호스트 친절 독채 편하다 동선 편하다 찌다 세화해변 가깝다 편의 시설 주변 조용 따다 한라산 등반 따로\">]\n",
            "[3017, <tomotopy.Document with words=\"캠핑 제대로 카라반파 파 글 유지 지나다 다녀오다 여행 이야기 오미나라 와이너리투어 뚜벅이 주제 무겁다 와인 가득 지르다 이야기 저번 아래 이야기 참고 오늘 이야기 와인 가득 짊어지다 카라반파파 맑다 카라 반 캠핑 글램 핑 플레이스 유명 날 맑다 날씨 촬영 풍경 정말 예쁘다 카라 반 종류 다양 투숙 판 투숙 파 파 투숙 패밀리 참고 입시 오후 퇴 다음날 선택 캠핑 도착 관리실 확인 키 수령 판타님 머무르다 카다 반 커플 유아 가족 머무르다 크기 가족 머무르다 개월 미만 유아 무료 포함 개월 유아 요금 참고 생기다 형 굉장히 아담 불편 히 밤 꽤 춥다 날씨 난방 핫샤워 거뜬 굳이 아쉽다 콘센트 찾다 힘들다 수건 뚜벅 여행 수건 하루 버리다 수건 대여 시스템 수건 챙기다 잊다 카라반파파 괜찮다 캠핑 가득 뚜벅 여행자 힘들다 마을 가깝다 조용 도보 거리 마트 편의점 식육 식량 조달 편하다 이날 정말 아침 모노레일 고생 바람 보상 먹다 거리 가득 식육 목살 삼겹살 굽다 굽다 약돌돼지 유명 여행 마침 식육 약돌돼지 삼겹살 놓치다 역시 탁월 선택 먹다 식육 사장 님 걱정 위장 과소평가 오미나라 와인 마트 곁들이다 찬 야외 테이블 가득 세팅 참고 숯불 바베큐 요금 정말 좋아하다 찾다 먹다 편 캠핑 먹다 약돌돼 세상 눈물 맛 오미나라 득템 와인 찰떡 궁합 체크인 주변 고양이 혹시나 편의점 통조림 역시 맡다 고양이 통조림 캔 따다 먹다 굽다 먹다 카라 반 즐기다 나머지 와인 병 날 못 까다 껍질 까다 코르크 건전 오미자 주스 팩 씩 와인 다음날 천 들르다 가져가다 퇴 실 설거지 쓰레기 필요 부분 참고 핫 플레이스 가은역 카페 카라반파 파 근처 가은역 폐역 그대로 활용 카페 걷다 엄 가깝다 다음날 세상에 월요일 휴무 사과밀크티 사과 버터 꼭 먹다 미리 찾아보다 낭패 여행 가득 캠핑 가은역 카페 꼭 들르다 바라다\">]\n",
            "[3034, <tomotopy.Document with words=\"급하다 예쁘다 찾다 다녀오다 사이즈 원하다 맞다 원하다 이타미니 주차 이타미니 이타라운지 이타미니호텔 운영 이타 라운지 이미 인기 핫 플레이스 카페 이미 유명 포토존 촬영 계시다 피아노 조율 타 라운지 커피로스터리 이타미니 이타미니 건축 유명 공간 활용 맘 쏙 개인 맘 쏙 대면 문자 미니멀 모습 공간 활용 침대 꽃 쪽 프라이버시 보장 프라이버시 속커튼 커튼 꼭 창가 햇살 들어오다 넘다 전자렌지 포트기 따뜻 드립 커피 아침 먹다 요즘 찾다 온 난방 춥다 침대 테이블 낮다 티비 살짝 불편 신서유기 못 아무래도 코로나 인하다 시내 먹다 마땅 배달 민족 먹다 여행 또는 출장 예쁘다 이타미니 알리다\">]\n",
            "[3090, <tomotopy.Document with words=\"체크인 아웃 시작 마감 시작 마감 리셉션 종료 교통 공항 소요 인터넷 사용료 일반 금연 총 층수 총 주차 주차 료 특가 알아보다 리얼 숙박 후기 상태 침구 류 깨끗 친절 전체 화이트톤 세련 고급 넷플릭스 배달 먹다 욕조 입욕 따뜻 힐링 제대로 입욕 프론트 올 조식 늦잠 못 먹다 푹 분위기 어둡다 화이트톤 세련 모던 인테리어 마음 이것저것 물어보다 프론트 친절 필요 갖추다 침구 푹신 꿀잠잤구 조식 간단 챙기다 먹다 넷플릭스 스타일러 패딩 살균 맘껏했네 모든 성비 갑 출장 잦다 주변 모든 만족 스럽 찾다 어렵다 오션투헤븐 주차 조식 청결 분위기 써비스 빠지다 비싸다 출장 최고 반대편 회의 잠 여러 비교 광안리 해수욕장 가깝다 골목 들어가다 도로변 맘 편하다 밤 로비 복도 깨끗 복도 조명 환하다 특히 깨끗 세면대 넓다 옷 올리다 소품 친절 광안대교 아쉽다 탁 트이다 창문 오션뷰였습니 처음 들어가다 우와 우와 크기 적당 청결 중요 깨끗 어매니 티 스타일 삶 질 상승 짱 짱 조식 무난 맛있다 창문 광안대교 해변 공사 공사 끝나다 아직 기초 괜찮다 침구 류 깨끗 스타일러 욕실 좁다 잔여 확인\">]\n",
            "[3092, <tomotopy.Document with words=\"제주도숙소 감성숙소 제주도감성숙소 제주감성숙소 제주도인스타숙소 작년 봄 텔레스코 프다 요즘 핫 서쪽 협 재 해수욕장 가깝다 치열 성공 뿌듯 사장 님 문자 금액 기억 기억 푸다 외관 올 화이트 요즘 유행 좋아하다 심플 모던 스타일 이름 텔레스코프 아마도 천체 망원경 떄문 컨디션 올 화이트 불구 깨끗 만족 스럽 놓이다 사소 오브제 하나하나 사장 님 인테리어 엄청나다 느끼다 침대 평상 매트리스 이불 형 개인 푹신 침대 딱딱 선호 불편 침대 밑 저렇다 평상 방석 맥주 야식 먹다 오른쪽 편 티비 전체 인테리어 깔끔 심플 이쁘다 무심 시크하 내려오다 개인 픽 아침 통유리 너머 들어오다 햇빛 즐기다 커피 잔 여유 밖 나가다 테이블 의자 온몸 만끽 최상 근처 밤 어둡다 나가다 꽤 걸리다 단점 밤 야외 테이블 앉다 히 즐기다 주변 만족 숙소였어 러블리 사장 님 짱 짱\">]\n",
            "[3130, <tomotopy.Document with words=\"가깝다 접근 오션뷰 탕 매듭 스무 날 작년 봄 다녀오다 후기 매듭 스무 날 뜻 매듭 스무 날 개월 실시간 모든 인테리어 비슷 선택 만족 스럽 굳이 고르다 바다뷰 일출 즐기다 정면 재 좌측 맘 제일 왼쪽 소나무 어쨋거 저쨋거 선택 권 택하다 날 무조건 잡다 외관 인테리어 야외 탕 탁 트이다 오션뷰 부실 조식 제공 아쉽다 바베큐 그릴 탕 야외 테이블 전기그릴 세팅 전기 그리다 로라 굳이 돈 대여 그냥 거리 최 애 맛 마샹 스다 해물 파스타 먹다 결론 대여 료 아깝다 전기 그리다 모든 만족 스럽 출발 들르다 꼼마제빵소 산 앙 버터 피낭시에 마들렌 꼼마제빵소 라우겐앙버터 제일 맛 대표 침대 눕다 발 아래 펼쳐지다 일출 아쉽다 정면 편하다 일출 이거 작년 연말 갑자기 집합 시행 숙박업소 률 규정 갑자기 덕분 연말 여행 주일 취소 아직 이해 모든 독채 건물 떨어지다 굳이 률 커트 무대뽀 졸속 진행 방역 수칙 아직 숙박 업주 손 님 혼란 도가니 빠지다 일주일 틀다 올해 연말 방구석 해돋이 목표 그야말로 재 의사 뿜뿜 매듭 스무 날 만나다\">]\n",
            "[3142, <tomotopy.Document with words=\"금능남 이큐 테이블 요즘 캠핑 바베큐 빠지다 헤다 바베큐 캠핑 매력 오늘 바베큐 유명 소개 싱싱 잇다 펍 가깝다 저녁 펍 예쁘다 흘러넘치다 이큐 테이블 여행 작가 태원준 님 굿모닝 대한민국 라이브 낭만 캠핑 프로그램 등장 소개 문 번호 첨부 낮 피크닉 세트 대여 근처 해수욕장 더욱 꽤 피크닉 대여 해수욕장 협재해수욕장 근처 해수욕장 주변 시설 중요 아무리 근처 편의 시설 갖추다 고민 다행히 이큐 테이블 건물 숙박 시설 이큐스테 마트 편의점 이큐 마켓 바베큐 세트장 밀키트 먹다 공간 식당 이큐 테이블 건물 이큐마켓 정말 편하다 음료 못 아쉽다 술 음료 밀키 트다 정말 다행 따로 멀리 나가다 편리 메뉴 숙박 야외 캠핑 바베큐 저녁 도착 체크인 야외 캠핑 바베큐 즐기다 애견 동반 강아지 넘다 넘다 근처 산책 반려견 무드 굉장히 깔끔 캠핑 침구 류 깔끔 욕실 욕조 반신 욕 낭만 캠핑 분위기 다양 시설 편리 갖추다 캠핑 찾다 시설 패키지 적용 자세 번호 야외 베베큐 화려 미러 볼 바베큐 이큐스테이 이큐 테이블 플레이 팅 완벽 이큐마켓 밀키트 판매 밀키트 배달 편하다 즐기다 밀키 트다 참고 아침 밀키트 라면 해장 버리다 다음날 아침 다이닝룸 이큐 테이블 아침 즐기다 해장 낮 해수욕장 실 컷 놀다 밤 맛있다 바베큐 즐기다 이큐테이블 이큐스테이 제주도밀키트 제주밀키트 제주쿠킹박스 제주도쿠킹박스 제주도감성캠핑 캠핑 즐기다 반려 견과 캠핑 편의 시설 갖추다 캠핑 원하다 이큐 테이블\">]\n",
            "[3146, <tomotopy.Document with words=\"여행 만족도 높다 동쪽 소개 앞전 소개 서귀피안 다르다 분위기 오챠드삼 오차드삼 영어 한글 애매 동쪽 근처 오챠드삼 일출봉 한적 옆 버스 정류장 근처 접근성 괜찮다 단독 건물 파스타 가게 운영 성비 옆 한적 마을 밤 소음 쓰이다 도보 거리 편 저녁 레스토랑 조용 휴식 원하다 안성맞춤 식당 오챠드 사장 님 조식 서비스 불가 런 치다 영업 안함 디너 타임 엄 넓다 높다 심플 돈 전용 요즘 정말 물가 시설 절대 비수기 구분 공휴일 구분 없이 무조건 혜자 스럽 복층 높다 층고 비지니스 급 넓다 우드가구 따뜻 조명 멀리 바다 유리창 동쪽 근처 성비 찾다 스타 작년 부킹 닷컴 평점 무 스타 또는 부킹 닷컴 아고다 앱 기본 어메니티 샴푸 린스 바디워 수건 헤어드라이기 생수 병 제공 칫솔 치약 개인 챙기다 탁상 거울 불편 건물 양쪽 끝 붙다 직사각 형 이쁘다 배정 선착순 취사 불 근처 포장 횟집 일출봉 떨어지다 한적 주위 음식점 저녁 파스타 가게 포장 와인 잔 사장 님 말씀 레스토랑 사용 잔 챙기다 오프너 다음날 아침 통유리 숙소뷰 근데 오챠드삼 침구예 폭신 몸 착 감기 부드럽다 이불 감촉 왠 고급 침구 옷걸이 테이블 침대 끝 심플 함 공들이다 침구 침구 오챠드삼달 선택 이유 충분 동쪽 성비 찾다 근처 조용 찾다 청결 침구 찾다 스타 찾다 만족 동쪽 성비 오챠드삼 내돈내 후기 읽다 글 서귀피안 오션뷰 후기 벨진밧 박한별 카페 인스밀 보다 노티드 도넛 카페 꿀 팁 메뉴 주차\">]\n",
            "[3175, <tomotopy.Document with words=\"오션뷰 찾다 우연히 발견 미국 마을 저수지 호수뷰 버몬 드 레이크사이드 이름 어렵다 후기 풍경 오션뷰 오션뷰 호수뷰 저수지뷰 오션뷰 착각 밖 빨갛다 지붕 파랗다 호수 지중해 이름 호수뷰 이름 버몬트 레이크사이드 실내 깔끔 미국 마을 미국 느끼다 부엌 화이트 톤 정갈 대리석 테이블 만족 스럽 필요 기본 물품 갖추다 침실 침실 깔끔 편 모닥불 장작 미국 전용 발코니 발코니 저수지 호수뷰 예술 호수 전원 미국 유럽 전원주택 느끼다 여행객 미국 마을 버몬트더레 이크 사이드 가져오다 공유 일정 수익 돌아오다\">]\n",
            "[3181, <tomotopy.Document with words=\"제주도감성숙소 제주한림숙소 까사루나 성비 까사루 전용 스타 우연히 발견 여행 만족 주변 아무것 쪽 유명 카페 뵤뵤 휴무 못 예쁘다 들어가다 외관 예쁘다 야자수 넘치다 좋아하다 괜히 해외 한번 전체 감상 까사루나 귀엽다 개냥이 사장 님 손 님 계속 머물다 애교 찌다 강아지 사장 님 가득 보살피다 계시다 냥 무 트다 체크인 소독 입시 불가 들어가다 원래 조식 제공 바 테이블 현재 코로나 조식 직접 제공 요런 공용 공간 지나다 복도 넘다 예쁘다 모던 인테리어 깔끔 차분 선택 들어가다 찍다 예쁘다 생활 적당 사이즈 인테리어 예쁘다 머물다 힐링되 깔끔 뿜다 뿜다 따로 어메니티 제공 샴푸 워시 시국 개인 욕실 용품 따로 챙기다 미니 공간 난방 조절 라디에이터 생수 병 제공 공간 숙박 따로 사용 앤틱 스카이 블루 톤 조합 예쁘다 하이라이트 멀리 야자수뷰 발코니 나가다 찍다 해외 샷 못 찍다 반 쯤 체크인 예쁘다 써니뷰 르 얻다 건물 전체 금연 더욱 청결 믿음 실제로 청결 깔끔 밤 조명 아늑 따뜻 피곤 잠들다 아침 조식 제공 센스 사장 님 조식 좋아하다 샌디치 주시 음료수 모든 조식 제공 정성 스럽 감사 편하다 쉬다 사장 님 친절 감동 주변 편의 시설 단점 조용 청결 따뜻 갖추다 완벽 사장 님 엄 친절 편하다 걸다 만족 스럽 쉬다 까사루 후기 까사루 네이버 여행 후기 제주도숙소추천 제주도에어비앤비 제주도여행 제주감성숙소 제주도펜션 제주도가성비숙소 제주서쪽숙소 제주서쪽여행 제주서쪽감성숙소 에어비앤비추천\">]\n",
            "[3182, <tomotopy.Document with words=\"갠 유명 관광지 닥 감흥 못 느끼다 여행 맛 비중 신혼여행 기억 허니문베이비 탄생 둘째 날 첫째 날 무조건 숙 소 성비 아름답다 포니제주 결정 됐습니 결제 진행 밑 식 근처 문자 보내다 겟 넘다 아늑 예쁘죵 잠 솔솔오 그리구 조식 카페라떼 식빵 별거 갑자기 분위기 외국 기회 제주도숙소 제주도감성숙소 제주도포니제주 제주도여행 포니제주 조식포함숙소 제주도가성비숙조\">]\n",
            "[3183, <tomotopy.Document with words=\"처음 충청남도 여행 급하다 떠나다 항상 그나마 괜찮다 찾다 순수 이쁘다 순수 요기 앉다 조식 먹다 증말 귀찮다 기억 순수 더블 오션룸 제일 높다 다음날 날씨 무 요거 원래 욕조 아쉽다 훠얼 쏘다 조리해 먹다 바베큐장 따로 넓다 깔끔 어메니티 챙기다 따로 칫솔 챙기다 개인 샤워 스펀지 넘다 청결 예민 깔끔 심플 충청남도 여행 순수 입시 퇴 실 충청남도 국내여행 가볼만한곳 감성숙소 오션뷰\">]\n",
            "[3202, <tomotopy.Document with words=\"제주도숙소추천 텔레스코프 텔레스코프후기 제주텔레스코프 여행 발 묶이다 여행 프로 봇짐 미리 당일 날 내키다 숙박 여기어때블랙 텔레스코 프다 후기 내돈내산 내돈주고방문후기 여기어때호텔예약 숙소예약료 때로 편하다 보고있나여기어때 텔레스코프전경 여기어때블랙 등록 끝장 제주도감성숙소 급 편의 시설 경계 화이트 톤 깔끔 밖 오름 저지오름 저지오름근처숙소 커다랗다 들어오다 햇살 블라인드 밖 차단 모든 주차 공간 옆 밖 쓰이다 하얗다 깔끔 귤밭 근처 특성 파리 벌레 모든 벌레 지옥 그거 지기 에프킬라 세스코 수준 벌레 잡이 초장 잡다 수국 귤 나무 충분 벌레 지옥 나가다 앉다 필요 벌레 천국 멀리 희극 가까이 비극 밖 전경 독채 옆집 돌담 막히다 프라이빗 옆 누 놀다 제주독채숙소 독채숙소추천 때쯤 의자 찍다 제주뷰맛집 앉다 놀다 찍다 벌레 종류 녀석 풀밭 찾다 밤 알전구 키다 찍다 모든 체크인 늦다 빠르다 근처 편의점 꽤 걷다 택시 명리동식당 다니다 오설록근처숙소 퇴 실시간 들어오다 미리 불 단점 커버 가득 스럽 어울리다 내돈주고방문후기\">]\n",
            "[3224, <tomotopy.Document with words=\"유후지니에 요즘 여름휴가 하늘 따다 숙켓팅 생기다 오늘 여행 필수 코스 광안리 모음집 공개 광안대교뷰 휴가 시즌 다가오다 경쟁 치열 빨리 광안리 광안대교 정면뷰 시설 깨끗 꾸미다 가성비 좋아서 하루 머물다 전문 방역 완료 이아 이아하우스 광안대교 정면뷰 애프터 눈 티 세트 식기 소품 광안리 도보 아직 서두르다 마노 역대 이벤트 풍선 대여 번거롭다 직접 필요 같습니 빔프로젝터 무 인치 즐기다 거리 넘다 충분 라온 라온 광안대교뷰 홈 카페 즐기다 제격 귀엽다 티비 원목 테이블 소파 카페 분위기 한몫 날짜 역시 예쁘다 빨리 알아보다 오브제 천국 기분 피크닉 소품 가득 이거 무료 대여 아직 날 광안대교 피크닉 얼른 도손 손 침대 광안대교뷰 마음 껏 즐기다 스타 쯤 광안리 씩 들리다 고층뷰 탁 트이다 날 아직 못 드려요 요즘 유행 소품 살리다 사장 님 싸이다 와인 잔 마카 글씨 빔프로젝터 갬성 표본 날짜 날짜 꽤 원하다 고민 광안리 날짜 광안리 광안대교 파노라마뷰에다 빔프로젝 터 플레이어 귀엽다 소파 개인 마음 이미 여러 매체 소개 유명 아유 가격대 나쁘다 원하다 서두르다 휴가 시즌 고민 순간 매진 미리 여름 휴가 계획 못 세우다 광안리 광안대교뷰 즐기다 하루 보내다\">]\n",
            "[3249, <tomotopy.Document with words=\"신혼여행 이야기 앞서다 한숨 한번 쉬다 엄마 여행 결혼 결혼 아끼다 꼼꼼 히 따지다 여행 팡팡 아끼다 아끼다 오빠 유럽 여행 어쩌면 인생 어렵다 여행 맞추다 퇴사 이직 쯤 맞추다 햇으 실패 열심히 다니다 무트 신혼여행 예행 연습 국내 자동차 여행 그동안 추리다 못 그치 일주일 돌다 정말 보내다 가깝다 중간 중간 그리하다 따로 갔다오다 마음먹다 국내 자동차 여행 포기 울릉도 여행 물놀이 좋아하다 아름답다 깨끗 바다 스노쿨링 울릉도 특히 오빠 울릉도 아무 들어가다 부족 이참 신행 떠나다 날 울릉도 못 들어가다 어쩌다 날씨 영향 흠 멀미 흠 흠 이유 포기 선택 여행 스노쿨 링 물놀이 예쁘다 카페 힐링 선택 비행기 알아보다 특가 항공권 토요일 출발 토요일 밤 도착 항공권 왕복 요금 충분 미루다 미루다 넘다 항공권 미리 미리 알아보다 신혼 여행 코로나 끝나다 여행 돈 롯데호텔 신라호텔 비싸다 마음 해외 여행 높이다 마음 알아보다 그치 결혼 저렴 찾다 주로 유스호스텔 시설 머무르다 가성비 소문나다 찾다 부르다 도대체 궁금 기본 조식 좋아하다 대략 원칙 여러 검색 시작 주의 사항 대부분 독채 실 운영 마감 빨리 개월 개월 미리 미리 실제로 알아보다 원하다 선택 부분 어렵다 예쁘다 성비 비싸다 어렵다 일정 숙박료 넘다 잡다 방향 돌다 잡다 고민 대부분 애 서쪽 동쪽 서로 돌다 점점 결심 중간 선택 날 빠지다 코스 변경 진행 취소 확인 미리 국내 대부분 취소 아직 확정 알아보다 성비 신혼 여행 참고 바라다 신창윤 여행 꼭 신창풍차 근처 당시 이미 마감 날 백종원 유명 마감 어렵다 열리다 수시 확인 공지 확인 날 월요일 열리다 성공 현재 대부분 마감 아직 조식 플레이스 캠프 독특 인테리어 유명 저렴 다소 좁다 감옥 스위트룸 다르다 컨셉 독특 인테리어 반하다 비싸다 특히 쪽 예쁘다 픽 나머지 대략 아직 살펴보다 맘 바꾸다 이내 성비 성비 감사 습 제주감성숙소 제주도숙소 제주도감성펜션 제주도감성독채 제주도독채숙소 제주도펜션 제주해변숙소 제주감성독채 제주도호텔 제주도맛집 제주도관광 제주도게스트하우스 제주숙소 제주한달살기숙소 제주도풀빌라 제주도한달살기숙소 제주애월숙소\">]\n",
            "[3254, <tomotopy.Document with words=\"작년 결혼 코로나 덕분 식 끝내다 여행 갔었드랬죵 코로나 잠잠 결혼 휴가 사용 짧다 다녀오다 아끼다 결혼 휴가 결혼 코로나 잠잠 기미 신행 프라하 다짐 물거품 국내 신혼 여행 오빠 만나다 다니다 여행 다니다 경기 지역 다니다 쉽다 멀다 다녀오다 결정 신혼 여행지 남쪽 결정 박다 결정 초반 다녀오다 달라지다 요렇게 코스 탕 탕 총 늦다 진행 터 인기 매듭달스무날 적정 온도 차선책 결정 인기 엄 갬성 넘치다 일체 형 분리 형 사용 적당 일체 형 진행 일체 형 드 히노끼탕 빌라드 바다 바라보다 히노끼탕 이뷰 선택 무척 깔끔 히노끼탕이 별도 임시 진행 스탠포드 결정 고민 선택 인피니티 됩니 디럭스슈페리얼 더블 아날로그 아날로그스테 침대 소나무 바다뷰 선택 바다 침대 차이 원하다 선택 아날로그 비커밍 인피니티 통유리 매력 비커밍 깨끗 인테리어 가격대 선택 스위트룸 선택 형 엄 거제비커밍 비커밍스위트 총 신혼 여행 서두르다 적정 온도 매듭 스무 날 이미 꽉 꽉 떠나다 국내 신혼여행 끝 리스트 신혼여행숙소 국내신혼여행 남해감성숙소 통영감성숙소 거제감성숙소 차신혼여행 스테이남해 빌라드남해 스탠포트호텔통영 아날로그스테이 비커밍펜션 신행 유럽 바래다 뻐킹코로\">]\n",
            "[3255, <tomotopy.Document with words=\"디스이즈핫 리뷰 잇다 째 밤 보내다 후기 리뷰 아래 다녀오다 비수기 열다 성애자 꼭 한번 하루 하루 잡다 예술가 디스이즈 핫 컸던 디스이즈 핫 인테리어 구조 씩 다르다 찾아보다 배정 심플 단촐 아기자기 듣다 폭신 더블베 드 도란도 앉다 테이블 의자 단점 맛있다 거리 들어오다 먹다 땅바닥 먹다 바깥 풍경 정말 탁 트이다 확실히 해변 해안선 새벽 눈 뜨다 일어나다 일출 보았답니 해질녘 저녁 먹다 주변 동네 산책 예쁘다 노을 디스이즈핫 주변 조용조 도란도 보내다 다음날 브런치 전날 메뉴여 너어어 무 맛있다 덕분 든든 히 채우다 여행길 떠나다 아름답다 디스이즈핫 넘다 강추 하도리펜션 하도리감성숙소 제주감성숙소\">]\n",
            "[3281, <tomotopy.Document with words=\"오다가다 오다가다게스트하우스 오다가다숙소 포항오다가다게스트하우스 오다가다포항 포항오다가다 혼자포항여행 혼여 포항감성숙소 포항가성비숙소 인실게스트하우스 인실게스트하우스 포항가성비숙소추천 포항감성숙소추천 포항게스트하우스 포항게스트하우스추천 포항혼자여행 혼자여행 국내혼자여행 포항가는길 포항여행 포항관광 포항가볼만한곳 포항가볼만한곳추천 포항여행코스 포항여행일정 송도해수욕장 송도해수욕장야경 송도해수욕장카페거리 포항숙소 포항숙박 포항숙소추천 포항숙박추천 포항여행묘미 포항여행혼자 포항게스트하우스 포항민박 죽도시장게스트하우스 죽도시장 포항먹거리 나혼자여행 포항게하 오다가다게하 여성전용게하 포항여성전용게스트하우스 포항여성전용게하 죽도시장근처숙소 인숙소 인게스트하우스 포항뚜벅이여행 포항운하 포항자전거대여 포항야경 포항자전거대여숙소 여행 밤 보내다 써보려해 더욱 포항오다가 얘기 먼저 유명 로타리냉면 점심 맛있다 먹다 죽도시장 방향 왜냐면 포항오다가다 죽도시장 죽도시장 시내 중심 상권 전통 시장 어시장 곡물 시장 다양 품목 취급 동해안 규모 시장 실제로 굉장히 넓다 인상 다양 건어물 해산물 굉장히 판매 대게회거리에 마찬가지 대게 유명 대게 가게 모이다 대게거리 먹다 나중 포스 팅 죽도시장 거치다 드디어 도착 오다가다 죽도시장 살짝 아래쪽 고속 터미널 도보 거리 장점 골목 식당 방영 포항덮죽 걷다 거리 여행 가성비 만족 입구 냥이 맞다 코로나 인하다 체크인 문자 진행 호수 비밀 번호 문자 분위기 여성 번호 키 고유 해치다 직접 의뢰 열쇠 보관 함 여행자 열쇠 다니다 불편 배려 마음씨 결과물 짓다 여인숙 오래 레트로 향기 가득 넓다 편 여행 적당 사이즈 제습기 드라이 빗 샤워실 어메니티 제법 깔끔 공용 여행자 모이다 담소 나누다 공간 카페테리아 여행자 모이다 담소 나누다 아침 제공 카페테리아 안쪽 문 열다 토스트 기와 커피 머신 매점 오후 자전거 대여 설명 오다가다만 스태프 꼬맹이 설탕 자극 귀엽다 스탭 매점 쪽 녀석 못 들어가다 막다 왼쪽 회색 털 옷 꼬맹이 오른쪽 치츠털옷 설탕 마스코트 위로 올라가다 여성 구조 아마 다르다 계단 올라가다 자랑거리 루프 공간 코로나 심하다 파티 여행객 끼리 담소 나누다 공간 쓰이다 늦다 주변 둘러보다 자전거 오다가다 무료 자전거 대여 주변 둘러보다 충분 녀석 녀석 운하 쭉 내려가봤어 운하 쭉 내려가다 포스코 자전거 동해안 종주길 쪽 코스 쭉 송도해수욕장 운하 쪽 돌아오다 옆쪽 영일대해수욕장 올라가다 건너편 포스코 돌아오다 운하 야경 자전거 낚시 송도해수욕장 다녀오다 영일대해수욕장 뭇 송도해수욕장 바다 맞은편 카페 거리 주로 카페 치킨 매장 건물 제법 오래되다 바다 맞은편 상권 찍다 되돌아오다 저녁 먹다 커피 보내다 나위 없이 빗소리 나가다 세차다 나위 하룻밤 굉장히 만족 스럽 포항오다가\">]\n",
            "[3286, <tomotopy.Document with words=\"조용히 힐링 찾다 국내 경기도 기본 기모노 의상 주인장 베란다 컷 정말 조용 바닥 살짝 불편 정기 휴일 식당 야경 다리 야경 이쁘다 엄 조용 아쉽다 고민\">]\n",
            "[3298, <tomotopy.Document with words=\"오늘 후기 경성 여관 부담 스럽 깨끗 오빠 만족 시내 가깝다 편 뚜벅이분 접근 만족 모텔 정말 여행 자세히 건물 벽돌 짓다 한쪽 면 벽돌 옛날 경성 여관 후기 워낙 까맣다 콩 실망 만족 경성 여관 주차장 다소 협소 건물 오른쪽 자체 주차장 저녁 늦다 당연히 당황 사장 님 이야기 무리 없이 주차 체크인 쪽 정수기 레 꾸미다 깔끔 다음날 아침 전자렌지 감자빵 데우다 먹다 벽 벽돌 가득 개인 여행 놀다 경성 여관 숙박 의향 계단 올라가다 총 건물 엘리베이터 문 열다 들어가다 깔끔 등장 특실 일반 실 일반 실 불구 공간 넉넉 느끼다 특실 궁금 대략 저렴 침대 티비 냉장고 포트 경성 여관 티비 크기 큼지막 처음 티비 프론트 사장 님 올라오다 가끔 닥 오빠 재밌다 강철 시청 깔끔 마음 제일 모텔 특유 후기 정말 찾아보다 아고다 후기 쪽 괜찮다 특히 글 실제로 이유 아무튼 친구 끼리 가족 끼리 연인 끼리 괜찮다 경성 여관 까맣다 콩 강력 수건 총 가볍다 세면도구 맞추다 샤워가운 깨끗 드라이 화력 쎄다 괜찮다 특히 수건 위생 민감 편 히 깔끔 괜찮다 갯수 적당 좁아보 실제로 넓다 샤워 공간 자체 엄 넓다 사용 넉넉 자체 머리카락 올 깨끗 미니 냉장고 오빠 넉넉 모자라다 정수기 성비 깔끔 하룻밤 정말 경성 여관 시내 쪽 가깝다 편 뚜벅이 정말 주차 쬐끄 힘들다 그거 사장 님 교통 걱정 다음날 아침 상상 마당 여러 군데 출발 도착 뚜벅이들이게 움직이다 한번 만족\">]\n",
            "[3311, <tomotopy.Document with words=\"꿀탱 주일 살기 포스 팅 마지막 공항 가깝다 시장 근처 성비 소개 폭풍 검색 발견 모텔 뿜뿜 마음 총 괜찮다 주변 번화가 밤 무섭다 어차피 밤 돌아다니다 여행 밤 돌아다니다 공항 근처 번화가 처음 칠성로 거리 맛 편의점 가깝다 외관 깜빡 외관 오래 모텔 리모델링 깨끗 사장 님 부부 친절 깔끔 계시다 인기 리뷰 미리 리모델링 깨끗 깔끔 드라이 수건 샴푸 린스 바디워 칫솔 치약 핸드워 폼 클렌징 커피포트 믹스 커피 면봉 생수 에어컨 샤워 주일 살기 필요 준비물 장점 액자 야자수 책상 디지털 노마드 노트북 거치다 사용 미니 냉장고 밖 정수기 마음 껏 조명 예쁘다 아기자기 소품 나름 맞다 열심히 찾아보다 모텔 주일 살기 비용 부담 적당히 저렴 성비 짱 짱 크기 며칠 최고 몬스테라 특히 몬스테라 쿠션 예쁘다 요즘 몬스테라 키우다 유독 맘 공항 가깝다 일주일 살기 첫째 날 마지막 이틀 보내다 정말 만족 스럽 주일 살기 모든 마무리 호응 감사 살기 여행 계획 요즘 코로나 심하다 기약 여름 휴가 기간 방역 수칙 지키다 건강 보내다 만나다\">]\n",
            "[3313, <tomotopy.Document with words=\"하얗다 여행 잡다 아무리 장점 이박 머무르다 하얗다 친구 조건 고르다 칭찬 예쁘다 자전거 무료 첫눈 반하다 매력 장점 바닷가 조용 동네 하얗다 새로 생기다 카페 하얗다 후기 실제 찍다 들어오다 정말 원룸 세 머무르다 크기 흐리다 날 촬영 해안가 바다 밤 소리 듣다 꿀 잠 하얗다 사용 이루어지다 구분 복층 비싸다 리뷰 사용 계단 촬 생기다 복층이용안 조건 머무르다 곱다 원래 호스트 님 새로 리모델링 따뜻 목공 인테리어 예쁘다 키친 밥솥 빼다 스테이하얀달 바다뷰 예쁘다 자전거 무료 대여 조용 동네 호스트 운영 예쁘다 카페 올해 새로 아주르 블루 카페행 친절 호스트 님 인테리어 음료 베이커리 풍경 자전거 무료 대여 미리 사용 다녀가다 직후 들이다 쉽다 사용 출처 스타 아무튼 스테이하얀달 카페 아주르 블루 가깝다 맛 청해 해안가 자전거 라이딩 코드 첫 여행 자세 댓글\">]\n",
            "[3324, <tomotopy.Document with words=\"지유에 여름 휴가 계획 여행 계획 세우다 자유 롭 여행지 알아보다 괜찮다 추리다 남편 제일 먼저 국내 분위기 생기다 한옥스테 숲속 글램 핑 선택 고민 왠 이미 실 나름 스스로 얼리버드 스타 인기 꽉 아쉽다 마음 계속 찾아보다 지나다 남편 변산반도 여행 생각나다 문득 생각나다 이유 프로포즈 찌다 만족 스럽 괜찮다 소개 오션뷰펜션 전북부안펜션 감성숙소 바라다 해변 형태 복층 일반스파 비수기 부대시설 수영장 카페테리아 바라다 고사포 해수욕장 옆 한적 동네 숙박 적히다 크기 넓다 거실 침실 분리 프라이빗 공간 거실 스파 공간 오션뷰 침실 샤워 부엌 거실 화장대 샤워실 침실 가운데 검다 미닫이문 세 공간 연결 형태 동선 쭉 이어지다 햇볕 환하다 모던 은은 톤 인테리어 예쁘다 침실 단독 분리 침구 쾌적 깔끔 가볍다 사각거리다 이불 촉감 소음 예민 편 버티컬 치다 조용 쉬다 마주 벽 눕다 심심 마음 스파 공간 탁 트이다 오션뷰 스파 즐기다 생생 생각나다 사장 님 맞추다 따뜻 공급 스파 시작 덮개 열다 충분히 눕다 형 욕조 남편 스파하다 덥다 옆 앉다 쉬다 음악 듣다 힐링 타임 마음 오션뷰 일등 수영장 참고 건물 중간 테라스 수영장 바베큐 시설 수영장 나름 인피니티 공간 협소 짧다 깊이 적당 낮 북적 북적 물놀이 부담 스럽 노을 감상 괜찮다 바베큐 썬베드 눕다 노을 멍 바베큐 그릴 숯 제공 부부 짧다 일정 꼭 넣다 코스 바베큐 디너 워낙 좋아하다 여행 야외 숯불 굽다 맥주 즐기다 무척 좋아하다 바라다 바베큐 실내 실외 구분 날씨 흐리다 날 비닐 막 치다 실내 바베큐 야외 파라솔 테이블 늦다 저녁 테라스 바닥 쪽 조명 어둡다 파라솔 쪽 캠핑 랜턴 취사 날 스테이크 바베큐 야채 굽다 먹다 찌다 육식 파 인증 주변 관광지 고사포 해수욕장 해수욕장 채석강 격포항 바라다 주변 관광지 해수욕장 낮 해안가 걷다 밤 폭죽 놀이 프라이빗 해변 프로포즈 썰 낮잠 남편 사부작사부 프로포즈 이벤트 잠 귀 밝다 아마 침대 따로 못 처음 이벤트 용품 가게 레터링풍선 열심히 불다 풍선 여행사진 메세지 카드 현수막 히히 프로포즈 멋지다 완벽 모든 진심 감동 바라한펜션 멋지다 추억 예쁘다 공간 머물다 바 감사 리뷰 돈 산 리뷰 읽다 감사\">]\n",
            "[3337, <tomotopy.Document with words=\"째 리뷰 조용 생활 이름 조용 힐링 월덕 네이버 또는 문자 취사 튀김 류 불가 독채펜션 거실 베란다 인테리어 저렴 숙박 번화가 거리 편 조용 쉬다 장점 인테리어 가득 정말 깔끔 문자 현관 비밀 번호 공유 들어가다 거실 창문 밖 바라보다 식탁 놓이다 부엌 우드톤 간단 취사 식기 전자레인지 인덕션 냉장고 생수 넣다 아침 창밖 풍경 바라보다 먹다 새우 창밖 테라스 풍경 밤 테라스 나가다 구경 찍다 담기다 침실 인테리어 깔끔 아기자기 소품 활용 침실 거실 마찬가지 맞은편 아침 햇살 들어오다 저절로 일찍 기상 급하다 정말 만족 스럽 정말 조용 쉬다 힐링 마음 커지다 덕분 관광 일정 늦다 버리다 조용 힐링 조용 생활 번화가 멀다 편 번화가 즐기다 불편 근처 편의점 들어가다 가로등 없이 걸리다 밤 무섭다 위험 아래 들어가다 밤 정말 어둡다 장점 단점 굉장히 극명 장단점 참고 만족 조용 쉬다 재방문의사\">]\n",
            "[3339, <tomotopy.Document with words=\"자가 가깝다 가깝다 멀다 전라남도 여행 떠나다 이유 대부분 밤바다 듣다 꼭 다녀오다 꼭 밤바다 잡다 멋지다 바다 끼다 소개 밤바다 바다 끼다 도시 여행 바다 전망 출퇴근 한강 없이 바다 가끔 진하다 바다 놀다 전라남도 여행 자리 잡다 괜찮다 비교 쉽다 찾다 도시 오늘 소개 밤 바다 바라보다 게스트하우스 카메라 찍다 터 지참 필수 바다 뒤 산 전망 성급 게하 오후 닻 오후 입시 부지런히 움직이다 해외 여행길 얼리다 쏠쏠 한국 버리다 없이 여유 롭 최고 출발 대략 소요 무리 일찍 움직이다 여유 롭 입시 둘러보다 여러 특징 푸르다 바다 포근 디자이너 따로 계시다 그분 직접 제작 포스터 꾸미다 다르다 매력 느끼다 들어가다 매력 지하 내려가다 계단 분위기 심상 내려가다 전혀 다르다 특징 예절 지키다 계단 내려오다 지하 친구 모이다 왁자지껄 웃다 떠들다 신나다 놀다 분위기 댄스 유발 여행 도시 특히 게스트하우스 특징 매력 갖다 고르다 재미 숙박 재미 자세히 올라가다 계단 계단 모양 페인팅 곳곳 찾다 이러 매력 게스트하우스 중간 중간 미끄럼 주의 긴급 연락처 항상 촬영 더욱 보내다 방방곡곡 게하 숙박 친구 만족 팁 알리다 게하 이유 초점 맞추다 선택 고르다 시설 갖추다 모이다 놀다 공간 여행 동반자 여행 계획 세우다 찍다 서로 주고받다 카페 라운지 그곳 찾다 찾다 선택 타입 들어가다 쉽다 규모 없이 찾다 부대시설 정말 힘들다 설명 없이 벽 붙다 충분 자세히 편하다 여행 귀하다 아깝다 친절 찾다 이름 적히다 찾다 쉽다 침구 류 깨끗 침대 개인 콘센트 취침 정말 고르다 찾다 화장대 쪽 고데기 드라이 기본 투숙객 제공 수건 침대 베개 씩 놓이다 요청 미리 샤워장 수시 정말 깨끗 샤워 여행 피로 편 히 부지런 여행 세상 귀찮다 친구 세수 침대 눕다 따뜻 샤워 체크인 여행 시작 선택 게스트하우스 루프탑 여행 일정 빼다 버리다 탁 트이다 오션뷰 선선 불어오다 바람 쌓이다 피로 날리다 한국 좋아하다 취미 여행 새삼 느끼다 지나다 여행 추억 여행 기억 꼭 다녀오다\">]\n",
            "[3342, <tomotopy.Document with words=\"거제도 성비 경남 거제대로 연락처 주차장 주차장 거제도 찾아보다 오루 이미 유명 비싸다 몽돌 해수욕장 관광 깔끔 테이블 옷걸이 침대 우드톤 화이트 톤 미 저렴 만족 스럽 테이블 올리다 안내문 꽃 거제도감성숙소 오루펜션 기본 사항 적히다 거제도숙소 몽돌해수욕장펜션 황당 아무런 욕실 용품 없이 그냥 올 놓이다 뻑뻑 제품 기본 당황 스럽 치약 샴푸 개인 미흡 부분 꼭 참고 바라다 테라스 오션뷰 바깥 구경 바베큐 사용 몽돌 해수욕장 폭죽 터지다 소리 씩 들리다 저녁 먹다 산책 전체 깔끔 그릇 서랍 바베큐 해먹다 인덕션 구짜리 불편 식기 용품 펴다 조식 만족 스럽 가볍다 먹다 아침 챙기다 비교 부족 시리얼 안성맞춤\">]\n",
            "[3360, <tomotopy.Document with words=\"레오이 힘들다 하루 버티다 하루 쌓이다 금요일 금요일 괜시 리 기분 이웃 님 즐겁다 저녁 타임 보내다 계시다 오늘 미몽 잇다 소개 아래 자세히 봄 쯤 짧다 여행 다녀오다 급 찾아보다 들이다 간신 히 가성비 인테리어 예쁘다 플레인 디자이너 부부 여행 영감 인테리어 풀어내다 컬러 컨셉 컨셉 이벤트 괜찮다 컬러 예쁘다 외관 처음 알리다 뒷길 좁다 출구 플레인 대로변 구불구불 무시 진입 날 흐리다 건물 예쁘다 디자이너 부부 로고 직접 디자인 궁금 주차장 건물 오른쪽 주차장 리셉션 건물 들어서다 강렬 레드 사로잡다 레오 레드 좋아하다 입구 마음 쏙 컬러 리셉션 다채 롭 컬러 패턴 눈 띄다 개인 공간 마음 후기 리셉션 예쁘다 글 플레인 후기 꼼꼼 히 사장 님 댓글 트러블 손 님 쓰이다 실제로 엄청 친절 확인 부분 당황 체크인 사장 님 짐 이민 짐 배달 취식 불가 닭강정 가져오다 괜찮다 음식물 모으다 문 밖 닭강정 포장 모자라다 배달 이거 나가다 먹다 뻔하다 주변 북한강 아무 차량 배달 관련 주의 사항 써주시 고객 참고 못 배달 간단 스낵 불가 처음 경험 터 당황 스럽 방침 지키다 맞다 웬만 깨끗 사용 쓰레기 마음 아무래도 손수 인테리어 손길 닿다 자부심 깊다 본인 아끼다 망가뜨리다 속상하다 맞다 플레인 마음 이유 베다 자민 무어 페인트 사용 벤 자민 무어 회사 팀장 님 셀프 벽 색깔 바꾸다 좋아하다 벤 자민 무어 페인트 고집 친 환경 페인트 굉장히 거듭 말씀 디자인 레드 레드 색감 정말 뽑다 사항 참고 플레인 디자인뷰 자세히 감상 디자인 옅다 베이비 핑크 아이보리 톤 이루어지다 사장 님 깨끗 티 특히 블라인드 쪽 공사 아쉽다 북한강 고즈넉 즐기다 침대 푹신 타입 선호 맞다 레오 장난치다 믿다 딱딱 아프다 타입 엄마 좋아하다 침구 깨끗 얼룩지다 부분 머리카락 확인 깨끗 조그맣다 테이블 패브릭 예쁘다 의자 커피포트 종이컵 믹스 커피 거울 예쁘다 소품 칫솔 싫어하다 거울 칵 뜬금없다 냉장고 예쁘다 생수 병 프리 조명 분위기 콘센트 침대 옆 핸드폰 봄 춥다 전기 따뜻 사장 님 공사 아쉽다 밤 블라인드 꼬다 치다 유리창 밤 깔끔 마음 수압 관련 기억 나쁘다 조명 예쁘다 샴푸 바디워 컨디셔 욕실 제품 아메리칸 스탠다드 제품 간단 닭강정 정말 유명 사왔답니 맵다 맛 정말 예쁘다 스타 플레이 팅 나름 한창 펜트하우스 주행 시즌 태블릿 감상 먹다 음식물 쓰레기 치우다 치우다 왠지 아침 햇살 예쁘다 컷 추억 놀다 북한강 근처 성비 찾다 플레인 오늘 레오 읽다 고맙다 궁금 언제나 댓글 플레인 평점 레 오이 디자인뷰 레 오이 늦다 편 인테리어 예쁘다 이벤트 깔끔 배달 매트리스 딱딱 편 영업시간 주차장 개인 취향 바라다\">]\n",
            "[3369, <tomotopy.Document with words=\"소개 요즘 코로나 심하다 여름휴가 다니다 힘들다 즐기다 거리 가족 커플 외관 정말 평범 정말 자극 단점 엘리베이터 대부분 비치 짐 간소 입시 오후 퇴 실 여느 다르다 토요일 입실이 중심 거리 근처 여행 책자 필요 참고 특급 침구 커넥티 드 블다 랭크 까사미 매트리스 제공 홈캉스 라면 잠자리 편하다 정말 이불 욕심 복도 맞다 문 열다 순간 감동 연속 정말 소품 하나하나 거실 구분 거실 쇼파 테이블 티비 거실 테라스 사이 동그랗다 구멍 식물 조명 먼저 자극 먼저 눈 심플 정말 아늑 전체 깔끔 편안 구스 이불 침대 더블 싱글 씩 군더더기 없이 깔끔 벽 동그랗다 구멍 특유 침구 편안 뿐 맴돌다 이쁘다 기본 동그랗다 구멍 뿐 변하다 봉포해변 산책 정말 중요 공간 세면대 분리 이쁘다 거울 역시 깔끔 변기 옆 세면대 샴푸 트리트먼 트다 바디 용품 챙기다 수건 정말 깔끔 비치다 히노끼탕 수건 충분 커피 다양 카누 캡슐 토스트기 사용 거실 옆 히노끼탕 히노끼 탕 욕조 옆 올리다 찻잔 정말 디테일 자극 히노끼 거실 옆 붙다 제습기 비치해놓 제습기 사용 뽀송 거실 즐기다 드라이 다이슨 갖다 부담 스럽 못 사용 음악 듣다 히노 끼다 즐기다 호캉스 즐기다 거리 스다 다양 게임 덥다 돌아다니다 부담 스럽 맞추다 인하다 구경 산책 근처 시장 맛있다 잔뜩 히노 끼다 게임 프다 정말 알차다 아늑 공간 오롯 보내다 복싱 게임 게임 못 티내 아프다 조 종기 안간힘 거리 속초과노강 시장 재래시장 여행 씩 들리다 정말 먹거리 천국 먹다 정말 욕심 유명 닭강정 포함 맛있다 근데 마늘빵 부르다 화면 넷플릭스 시청 티빙 로그인 요즘 신서유기 스프링 캠프 빠지다 힐링 정말 여기저기 돌아다니다 오롯 즐기다 정말 무더위 시작 방역 수칙 준수 저마다 추억 바라다 바다 그리다 장점 소품 하나하나 장점 넷플릭스 플레이스테이션 즐기다 거리 장점 전통 시장 거리 장점 편안 침구 세트 깔끔\">]\n",
            "[3379, <tomotopy.Document with words=\"넓다 창문뷰 산 저수지 유명 충남 일락 골다 입시 퇴 조식 전화번호 유명 플레이스 드디어 마지막 저렴 코드 써놨으 참고 제로 플레이스 독채 건물 나누다 일반 산골 조용 제일 가깝다 편의점 차량 왕복 필요 미리 웬만 오션뷰 부럽다 마운틴뷰 자랑 마당 정말 저수지 씩 쉬다 파라솔 날씨 맑다 꼭 흐 흐 총 나머지 실 커플 유명 욕조 창문 마주 최소 경쟁 률 치열 플레이스 욕실 거실 쭉 담다 참고 먼저 꽤 넓다 식기 류 와인 잔 커피 잔 밥솥 레인지 인덕션 칼 쓰임새 맞다 환경 냉장고 기본 따로 병 사왔네 메인 들어가다 감탄 절로 침대 플레이스 유명 욕조뷰 침실뷰 너머 산 저수지 즈 헤헤 하얗다 침대 어울리다 원목 화장대 드라이기 빗 화장대 꽤 넓다 앉다 화장대 밑 수건 칫솔 치약 일화 샤워타올 첫 째 넓다 넓다 욕조 엄 따로 사용 버블 바 넣다 반신 욕하다 세상 헤븐 따로 욕조 창문 바라보다 상상 욕실 샴푸 컨디셔 바디워시 욕조 옆 샤워기 변기 수압 쎄다 침실 커튼 나누다 커튼 치다 요로코 블라인드 걷다 멋 산골 건물 없이 산 하루 종일 힐링 뷰예 넓다 테이블 테라스 거실 거실 맞다 옷걸이 옆 퀸 침대 씩 처음 아늑하답니 창문 침대 맞은편 후기 하수구 올라오다 얘기 걱정 하수구 유일 단점 구분 커튼 뚫리다 퍼지다 치명 단점 이거 마찬가지 막 사귀다 커플 살짝 비추다 세면대 변기 샤워실 포스 팅 처음 째 날 찍다 체크인 날 어둑어둑 나름 작렬 본격 바베큐 타임 개별 바베큐 공용 바베큐 바베큐 마당 테이블 먹다 식기 류 왔다갔다 번거 롭 공용 식기 류 사용 사용 식기 류 사장 님 설거지 편리 숯불 값 지불 덕분 덥다 좋았어 파라솔 심하다 바베큐 짠 짠 짠 돼지고기 버섯 새우 소금 소고기 터지다 먹다 미리 마켓컬리 과일 채소 치즈 시작 마켓컬리 소량 여행 정말 편하다 맛있다 오늘 숙취 여행 간단 와인 쨘 루미큐브 따로 놀다 날 눈뜨다 날씨 실화임미 제로 플레이스 예약한거쥬 거실 햇살 쏟아지다 테라스 나가다 찍다 한껏신 상태 드립커피 쪼로 록 먹다 스토리 올리다 뿐 물어보다 꽤 예쁘다 열심히 남겨야쥬 흐 흐 바람 불다 원피스 하늘하늘 거리 찍다 인생 샷 친구 방해 테라스 요런 재미 저수지 맑다 하늘 비추다 완벽 자체 추 이왕 날씨 아깝다 아침 조식 먹다 내려오다 공용 공간 공용 여럿 넓다 굿즈 커피 맥주 판매 꽤 넓다 플레이스 조식 조식 늦다 처음 이름 모든 조식 천천히 조식 먹다 공간 예쁘다 왠지 한식 요런 브런치 어울리다 조식 샐러드 과일 햄 모닝 베이글 주스 이것저것 넣다 미니 햄버거 쿄쿄 유명 제로 플레이스 수화림 유명 수화림 제로 플레이스 거리 사장 님 운영 고민 흐 흐 제로 플레이스 네이버 네이버 정가 코드 사용 저렴 다녀오다 또는 유명 궁금 댓글 글 들리다 여행 코스 터 여행\">]\n",
            "[3392, <tomotopy.Document with words=\"여행 계획 전체 여행지 위주 계획 세상 벌써 이쁘다 대부분 완료 부랴부 위주 여행 루트 짜다 시작 흔히 첫째 날 협재해수욕장 방향 돌다 살롱드탱자 숙박 여행 틀 김녕해수욕장 방향 돌다 결정 둘째 날 살롱드탱자 요기 주차 뒤 요곳 오늘 숙박 살롱 드 탱자 코코자 멍멍 입구 물씬 여행 고르다 오션뷰 스럽 느끼다 독채숙소 코로나 꼭 코로나 프라이빗공간 원하다 아궁이 기욤기 두근두근 문 열다 들어가다 외출 사용 키 벌레 잡다 손소독 들어가다 맘 살롱드탱 부엌 공간 샤워 공간 요기 테이블 침실 인테리어 넘다 유니크 여행 일정 변경 역시 실망 정갈 깔끔 포근 침실 공간 요긴 부엌 공간 그릇 여러 술잔 먹다 투숙객 오빠 저녁 식당 먹다 패스 쇼파 화장대 공간 허투 은근히 슬리퍼 불편 살롱드탱자 포근 실내 슬리퍼 침대 옆 문 열다 변기 세면대 깔끔 깨끗 샤워 공간 요롷 따로 샴푸 바디클렌저 샤워기 깨끗 수건 넉넉 물놀이 굿 굿 그리구 중간 요렇게 테이블 해먹다 드뎡드뎡 커텐 열다 짜다 잔 살롱드탱자 상징 야외자쿠지 살롱드탱자 마음 뺏기다 결정 공간 숙박 족욕 공간 애매 공통 후기 커 넓다 찰랑찰 고민 막상 이해 요렇게 성인 들어가다 여유 공간 남아 발 히 뻗다 썬베드 야외자쿠지 충분히 매력 옆 현무암 돌담 포인트 한라 천혜 주스 컨셉 샷 반대 모습 저녁 먹다 밤 살롱드탱 제주에왔구 느끼다 순간 똑같다 공간 밤 다르다 침대 조명 밤 자쿠지 모습 살롱드탱자 포인트 빔프로젝터 부풀다 안구 빔프로젝터 실행 맘 노트북 놀면뭐하니 워너 꿀 잼 테이크아웃 제주펠롱에일 우유 아이스크림 먹다 제주스러움 충분히 느끼다 야외자쿠지 물놀이 포근 침대 푹 숙면 살롱드 탱자 개인 너무너무 맘 여행 지인 첨 망설이다 폭풍 제주감성숙소 검색 여행 스케쥴 제주감성숙소 망설임 없이 특히 청결 벌레 후기 깨끗 상태 벌레 유독 살롱드탱자 전체 벌레 편 감수 계절 변수 어쨋 개인 넘다 넘다 만족 살롱드 탱자 담 여행 직접 비용 결제 체험 숙박 후기\">]\n",
            "[3403, <tomotopy.Document with words=\"지나다 출장 촬영 정말 요즘 코로나 점점 접종 드디어 목요일 민방위 찬스 얀센 맞다 카더라 맞다 후기 오늘 인근 팀 정말 인테리 예쁘다 특별 하루 촬영 후기 사이 유명 건축가 직접 독특 건축 양식 깔끔 인테리어 특징 넓다 야외 수영장 넓다 테이블 키친 핵심 포인트 촬영 느끼다 팀 독채펜션 가족 여행 친구 끼리 팀 눈치 없이 정말 자유 롭 한적 아무 방해 더욱 매력 여름 야외 수영장 정말 다르다 급 부럽다 회사 인테리어 촬영 전문 회사 특별 하루 관련 요금 업체 연락 바다 인접 주변 특유 돌담 보리 밭 둘러싸이다 가만히 힐링 요즘 여행자 워낙 높다 미리 미리 연락 촬영 듣다 여름 벌써 잡히다 회사 인테리어 촬영 진행 인테리어 시공 리모델링 시공 넓다 깔끔 촬영 고민 터 핸드폰 촬영 어렵다 실내 인테리어 촬영 리모델링 촬영 편하다 연락 인테리어 폰 담다 그만큼 여러 업체 대표 님 실내 촬영 계시다 회사 촬영 후보 작업 분명 만족 촬영 인테리어 촬영 메지시보내 친절 상담 드론 촬영 서비스 선택 진행 샘플 촬영문의 카카오 포토그래 퍼 특별 하루\">]\n",
            "[3429, <tomotopy.Document with words=\"여행 찾아다니다 부모 님 여행 마땅 못 찾다 눈 돌리다 항상 아쉬움 낙산비치 워낙 뷰맛 장점 고루 갖추다 오션뷰 마운틴뷰 낙산비치 어느룸 버리다 맛 예술 시설 특히 주니어 스다 위트 오션뷰 예술 정말 급 부럽다 시설 하루 종일 비치 아래\">]\n",
            "[3438, <tomotopy.Document with words=\"여행 급하다 알아보다 발견 주옥 알리다 공유 탄 알리다 공유 시리즈 아직 저장 주관 글 불편 뒤 눌리다 사용 페이지 가져오다 삭제 아래 댓글 첨부 따로 언니 지역 유난히 독 채 한옥 언니 드로잉 수업 진행 원하다 로컬 여행지 정말 가득 느끼다 호스트 왠지 시골 친구 놀다 정말 타이틀 저격 프롬 팀 대여 공간 화이트 마무리 공간 프롬 빔프로젝터 여유 롭 보내다 현재 마감 시작 이후 여행 계시다 소식 장미여관 이름 눈 띄다 황리단길 황리단 근처 맛 다니다 정말 괜찮다 찍다 정말 예쁘다 동그랗다 이거 친구 끼리 여행 요일 독 채 요일 황리단길 유명 기와 양과자 옆 커피 디저트 맛보다 힐링 매트리스 붙다 붙다 편하다 휴식 정말 여행 여기저기 돌아보다 요즘 쉬다 이벤트 옥희 여관 한옥 첨성대 거리 돌아다니다 옥희 여관 한옥 따뜻 독 채 찾다 옥희 여관 따뜻 괜찮다 선택 새 마을 회관 백종원 선생 님 운영 새 마을 식당 이름 새 마을 회관 팀 독채 새 마을 회관 주차공간 들르다 손 님 후기 정말 왠지 친구 도란도 보내다 시골 할머니 놀다 민박 한옥 리모델링 깔끔 모던함 한옥 중간 쯤 민박 독 채 마당 편하다 놀다 황리단길 거리 여행 맛 카페 둘러보다 알리다 숲 머리 할매 여행 친정엄마 놀다 여행 특히 가족 여행 다녀가다 이유 이유 옛날 쟁반 정말 정감 왠지 엄마 가족 여행 코로나 요즘 고민 맛 한참 찾아보다 발견 날 씩 선선 떠나다 여행 코스 짜다 여행 픽 역시 갬성\">]\n",
            "[3441, <tomotopy.Document with words=\"오늘 날씨 춥다 건강 주의 바라다 오늘 출근 나서다 날씨 살피다 영하 여러 겹 두툼 히 출근 어제 코로나 확진 점점 추세 아직 작년 코로나 조심 제대로 여행 못 다니다 올해 여행 떠나다 작년 계획 여행 올해 친하다 친구 중순 떠나다 개인 위생 방역 준수 필수 이야기 나누다 일정 대충 잡다 선택 고민 앞서다 처음 호캉 스다 가득 독 채 호캉스 여행 가족 끼리 끝 당시 몸 따라가다 뿐 의견 계획 일정 여행 꼭 원하다 열정 넘치다 물심양면 애월감성 여러 찾아보다 아직 서두르다 미리 미리 나쁘다 아직 항공사 일정 완벽 비행기 먼저 이미지 출처 네이버 웃더럭 민박 최근 다녀오다 친구 애 근처 의견 실제로 애 근처 맛 유명 카페 거리 핫 명소 급부상 짧다 짧다 일정 애월감성숙소 웃더럭 결정 여행 로망 끼리 프라이빗 사용 독 채 애월감성숙소 근데 마침 올해 신규 독 채 알아보다 웃더럿 들어가다 이미지 확인 지나다 기간 진행 여행 위생 상태 중요 새로 짓다 무척 마음 특히 인테리어 엄 깔끔 흔히 요즘 스타 애월감성숙소 열다 결심 기재 웃더럭 친절 빠르다 답변 답변 아직 분위기 조만간 금방 기분 한시 빨리 관련 궁금 사항 여쭙다 주저 없이 입금 완료 친구 웃더럭 마음 찾다 뿌듯뿌듯했쥬 독 채 주차장 프라이빗 단독 주택 넓다 마당 겨울 귤 직접 수확 먹다 겨울 이야기 나누다 코 시국 관련 질문 세례 예민 친절 답변 웃더럭 요금 출처 네이버 웃더럭 민박 토 연휴 공휴일 바비큐 발생 발생 총 비용 바비큐 따로 뒤 편 테라스 공간 즐기다 아직 개월 여행 계획 벌써 설레다 숨기다 카더라 해외여행 자유 롭 다니다 친구 동남아 여행 꼭 올해 상반기 여행 친구 여행 웃더럭 너무너무\">]\n",
            "[3442, <tomotopy.Document with words=\"지나다 일요일 비니지니 주년 기념 찾다 부천역 근처 스테이앤 에이블 고르다 순위 청결 요즘 청결 찾다 하늘 따다 깨끗 리뷰 실망 일쑤 특히 민감 포동이 만족 더욱 어렵다 침구 류 청결 퇴근 이내 최대한 가깝다 옵션 만족 스테이앤 에이블 조건 부합 부천역 근처 찾다 계시다 추 스테이에이블 사용 단독 주택 심플 화이트 건물 멀리 눈 띄다 독 채 차량 주차 조명 예쁘다 찍다 단점 단점 계단 첨 예쁘다 하루 종일 힘들다 긍정 불리다 먹다 열심히 만족 스럽 조명 아늑 맛 올라오다 깔끔 전체 화이톤 인테리어 기본 식기 류 레인지 육류 취사 참고 조명 서비스 와인 병 판매 서비스 와인 와인 마니아 눈 하트 뿅 뿅 주종 별로 터 아쉽다 못 서비스 와인 참고 바라다 스테이앤에이블 장점 밤 분위기 시내 썩 조명 꽤 근사 저녁 보내다 아무것 옥상 테라스 테라스 기분 개인 캠핑 테이블 의자 파라솔 바람 쐬다 맥주 잔 올라가다 내려오다 드디어 침실 스탠드 조명 책 권 제일 향기 롭 폭신 침구 이불 제품 덕분 포동이 날 숙면 이불 두껍다 무겁다 촉감 까슬하 날 프로 잠 설치다 편 만족 스럽 숙박 살짝 문 열다 은근 들어오다 통창 매력 나중 멋지다 짓다 비니지 예쁘다 다짐 만족 스럽 부천역 근처 스테이앤 에이블 주년 더욱 특별 커플 친구 끼리 파티 가족 경기 근처 찾다 계시다 스테이앤 에이블 강력 비니지니 주년 축하 오래 오래\">]\n",
            "[3446, <tomotopy.Document with words=\"여행 무조건 까다롭다 전직 호텔리어 표현 온전 히 쉼 즐기다 조용 전반 멍 때리다 편안 비우다 따뜻 푸릇푸릇 비수기 장점 독채 이루어지다 요즘 코로나 함 조용 조용 정말 쉬다 정말 그냥 인테리어 인테리어 키 샤워 그냥 맛 맛 모든 날씨 햇빛 흐리다 모든 날씨 다르다 느끼다 프라이 빗 테라스 썬베 드 멍 때리다 멋지다 숲 인테리어 테라스 온실 카페 그냥 카페 토 왔다 먹다 인원수 커피 쿠폰 제공 손 님 카페 주변 먹다 함 카메라 담다 카루나 표현 오션뷰 마음 껏 즐기다 모던 시크 조명 가득 전반 캘리포니아 느끼다 오션뷰 부티크 시크하 바다 포근 비수기 장점 오션뷰 오션뷰 오션뷰 모든 창문 오션뷰 무 작정 넓다 오션뷰 부티크 고급 오션뷰 고급 스럽 모던 인테리어 어메니티 고급 소리 프로젝트 스크린 욕조 샤워 편안 테라스 와인 즐기다 바라보다 바다 풍경 한적 부티크 캘리포니아 오션뷰 떠오르다 그냥 비수기 해변 주변 밖 분위기 분위기 다르다 투 치다 힙합 창문 계속 열다 모기 들어오다 에프 킬러 모기채 흐리다 날씨 오션뷰 맑다 파랗다 오션뷰 날씨 영향 디그니 티 표현 가족 여행 제격 만족 스럽 성비 신축 전반 깔끔 성비 최고 신축 스다 위트 더블 비수기 장점 비치 가깝다 너무나 만족 스럽 시설 가깝다 바다 걷다 와인 쿠폰 저녁 라운지 바 즐기다 와인 쿠폰 오션뷰 바다 살짝 부분 보임 건물 주변 의심 스럽 가족 점프\">]\n",
            "[3465, <tomotopy.Document with words=\"여행 항공권 렌트 검색 찾다 여행 밤 책임지다 잠자리 잠 여행 컨디션 책임지다 정말 중요 선택 잘못 잠 만족 여행 잠자리 정말 선택 편 게하 막 못 잠 경험 쉬다 님 선택 당연히 무어 스럽 편하다 공간 찾다 마음 마음 제주김녕독채 제주드루 앙 제주김녕독채 제주드루 앙 사이 스럽 해변 멀다 마당 푸루 르 바다 그대로 살리다 모든 인위 원래 계시다 그대로 보존 스럽 돌담 두르다 쌓이다 이쁘다 제주김녕독채 제주드루 앙 제주드 루앙 김녕점 마당 주변 거리 공영 주차장 주차 편하다 바다 가깝다 근처 김녕해수욕장 르 솔직히 관광 느끼다 스럽 그냥 힐링 날 날 굳이 밖 나가다 마당 편하다 힐링 즐기다 잇다 지치다 일상 쉼표 찍다 공간 중요 침실 정말 아늑 공간 드 루앙 독 채 방해 없이 편하다 휴식 취하다 화이트 우드 톤 인테리어 코지 공간 옛집 리모델링 제주드루 앙 옛 골격 그대로 요즘 힘들다 지주 전체 아기자기 식당 레스토랑 제주드루 앙 정말 넘치다 찍다 가볍다 와인 한잔 밤 맞이 공간 여행 모든 만족 스럽 일반 제대로 느끼다 최고 제주김녕독채 제주드루 앙 여행 계획 스럽 찾다 저주 찾다 제주김녕독채 제주드루 앙 제격 드 루앙 주소지 김녕로 제주숙소 구좌숙소 김녕숙소 김녕독채숙소 제주드루앙 돌담숙소 김녕해수욕장 제주김녕독채숙소\">]\n",
            "[3472, <tomotopy.Document with words=\"숙박 산업 바르다 제시 숙박 통합 프로그램 방방곡곡 찾다 떠나다 인터뷰 소개 타임 요즘 날씨 덥다 휴가철 다가오다 바다 조용히 쉬다 쏘다 지르다 알리다 일본 이야기 이야기 타입 하조대 타입 실 실 독 채 소 시설 전용 주차장 바베큐 급 어메니티 바다 전망 주변 관광지 하조 서피 비치 휴휴 암 전통 시장 낙산도립공원 해변 도깨비 촬영 이야기 낙산사 휴휴 암 해변 유명 관광지 거리 핫 플레이스 서퍼비치 걷다 바다 다녀오다 하조 전망대 쪽 장호항 못지않다 스노클링 포인트 참고 서핑 객 이미 유명 맛 근처 속닥속 닥 이야기 따끈따끈 사장 님 부부 서핑 객 허름 미숙 서핑 특별 취미 스타일리시 만족 이야기 운영 시작 모텔 분위기 구조 건물 전체 뜯어고치다 개월 공사 기간 거치다 완성 이야기 외관 모습 깔끔 빛 아담 크기 다양 이야기 나가다 뜻 이야기 이름 짓다 탄생 이름 정말 어울리다 고급 스럽 복도 계속 향기 잔잔 음악 흐르다 나무 벽돌 심플 디자인 차분 색 인테리어 구조 인테리어 관련 여러 해외 사이트 서적 컨셉 아이디어 추리다 이야기 목표 멀리 여행 가까이 따뜻 포근 일본 교토 한적 시골 마을 인테리어 전반 분위기 반영 따뜻 단아 후기 이야기 슬로건 소박 따뜻 공간 화려 한적 시골 마을 자리 바쁘다 지치다 일상 떠나다 따스 공간 푹 쉬다 전달 처음 기획 컨셉 서핑객 관광 투숙 근처 산책 휴식 우리나라 흔히 아름답다 단아 일본 인테리어 꾸준 덕분 초창기 커플 신혼 부부 후반 초반 고객 타깃 젊다 찾아오다 대다수 커플 동반 신혼 부부 친구 끼리 여성 편 동반 가족 부모 님 모시다 자녀 다양 찾아오다 덕분 광범위 고객 갖다 정말 자리 늘 꽉 꽉 인기 참고 늦여름 인기 공용 바비큐 처음 컨셉 바비큐장 먹다 맛 남편 말씀 나중 바비큐장 천막 재질 시설 보수 위험 숯 웨버 가스 그리다 배려 감동 증말 공간 협소 팀 정원 날씨 취소 이야기 타입 실 실 독채 소 건물 총 아기자기 일본 낭낭 자체 자랑 말씀 특히 바다 무 운영자 공간 첫 째 실 구경 실 실제로 기존 다르다 정말 물씬 여유 롭 공간 조용히 휴식 실의 차례 실 입시 성인 유아 공간 여유 롭 실 미닫이문 현관 분리 역할 일반 커플 동반 부부 도란도 모이다 이야기 나누다 소박 분위기 테이블 따로 실 실 다다미 공간 눈 띄다 창밖 바다 바라보다 따뜻 잔 찍다 흔히 스타 가득 찍다 인생 샷 마지막 독채 소 독 채 입시 달하다 일반 넓다 프라이빗 단체 수용 넓다 공간 인테리어 편하다 휴식 널찍 소파 식탁 냉장고 일반 넓다 생선 육류 굽다 행위 간단 취사 부모 님 모시다 친구 끼리 파티 온전 히 프라이 빗 즐기다 독채 거실 열다 조용 롭 배경 눈 담다 한적 분위기 여유 롭 휴식 취하다 억새 밭 가득 여름 초록색 봄 꽃 가득 독 채 침대 쪽 살펴보다 밖 바라보다 앉다 공간 마찬가지 정갈 어메니티 아무래도 여러 공간 부족 편 따로 공간 절약 편리 덤 이야기 독채 굉 히 넓다 수준 일반 욕조 크기 다르다 역시 깔끔 그레이 톤 색감 이야기 살리다 에어컨 식기 전자레인지 전기레인지 혜자 스럽 사장 님 마음 감동 몸 참고 조식 서비스 진행 객실료 저렴 설정 청결 친절 응대 집중 전체 나무 색감 화이트 톤 감각 조명 깔끔 인테리어 더욱 한몫 젊다 타깃 덕분 재방 문 퍼지다 률 높다 인테리어 홍보 젊다 타깃 모든 방면 최대한 반영 사장 님 노력 서핑 편하다 쉬다 바다 바라보다 머물다 조용히 휴식 공간 원하다 일본 이야기 강력 일본 조용 이야기 소개 이야기 하단 실시간 클릭 실시간 확인 이야기 실시간 이야기 실시간 연결 이야기 알아보다 아래 클릭 이야기 인터뷰 읽다 매거진 확인 조만간 다르다 예쁘다 찾다 소개 감사 공감 댓글 숙박 산업 바르다 제시 숙박 통합 프로그램\">]\n",
            "[3473, <tomotopy.Document with words=\"콕 찝다 에어비엔 화우 재 어렵다 다녀오다 후기 일기 기억 순위 루트 스테이폴리 추적 추적 어울리다 분위기 개인 여행 불편 날씨 반기다 책자 적히다 주변 식당 여행지 친절 깔끔 깔끔 퍼지다 향도 이미 하트뿅 뿅 원래 리뷰 마침 이벤트 데스티니 귤밭 바라보다 쉼 즐기다 일룸 바스 툴 높다 의자 발 대롱 대롱 편하다 갖다 옆 컴팩트 사이즈 오바 소파 엘바 낮다 패밀리 테이블 부담 스럽 소파 코너 형 소파 푹신 편안 엘바 패밀리 테이블 낮다 공간 쓰이다 총 요긴 테이블 놓이다 따로 침실 떨어지다 켠 심금 울리다 괜찮다 리뷰쓰 날씨 취향저격 근처 산책 칭찬 깔끔 귤 밭 가운데 화우 재 꼭 찾다 화우 재 일룸 화우재 나의일룸생활 제주여행 제주감성숙소 제주도감성숙소 제주에어비엔비 제주도에어비엔비 제주도가족여행숙소 제주가족여행숙소 제주가족여행 귤밭뷰 귤밭뷰숙소 한경면숙소 한경면펜션 한경숙소 대가족숙소 제주도대가족숙소\">]\n",
            "[3478, <tomotopy.Document with words=\"여행 인상 깊다 미터퍼세 이름 외우다 힘드러 바람 불다 이름 짓다 틀리다 호수 표시 깔꼼 귀엽다 바람 날씨 요소 포함 로비 체크인 아웃 젤 중요 도토리 물물 교환 지형 형상 맘 궁예 질 봄 컨디션 패밀리 장점 먼저 장점 요즘 인기 갬성갬성하 장점 층고 높다 시원시원 장점 기본 청결 편 장점 포토 스팟 재밌다 구조 단점 차례 단점 예쁘다 실용 떨어지다 쇼파 대각선 나무 프레임 밀리다 맘 편 히 세면대 깊이 낮다 세수 죄다 튀다 역시 뿜다 단점 청결 습하다 샤워 꼭 문 활짝 열어놔 그나마 물기 마르다 히 하수구 습하다 단점 구구절절 강조 써 결론 왜냐면 도토리 때무니 예쁘다 쓰레기 좋아하다 새 종류 숙박 일수 도토리 요거 조식 빔프로젝 터 대여 서비스 물물 교환 숙박비 포함 서비스 얹다 개념 돈 써 재밌다 귀엽다 거지 비용 친절 실용 조 식 결 청결 자세히 훑어보다 닥 민감 편 아님 밝히다 친구 커플 부모 님 모시다 비추다 친구 훼밀리 장땡\">]\n",
            "[3486, <tomotopy.Document with words=\"공유 탄 알리다 소개 요즘 놀다 코로나 해외 못 찾아보다 친구 여행 또는 가족 여행 요즘 독채펜션 찾다 골 고루 가져오다 공유 시리즈 모으다 공유 공유 시리즈 주관 올리다 공식 사이트 가져오다 삭제 모든 사이트 아래 댓글 첨부 코다 누 예쁘다 요즘 유난히 돌담 밖 예쁘다 꼭 독채 찾다 독채 찾다 코다 실패 근데 돌담 분위기 좋아하다 분위기 카페 조식 예쁘다 선택 예쁘다 그대로 즐기다 애 안목스테 새하얗다 건물 눈 쏙 들어오다 안목스테 독채숙소 팀 프라이빗 즐기다 아직 후기 새하얗다 원하다 요기 요기 시온스테 수풀 애기 가족 끼리 시온 살짝 나뉘다 침대 가족 끼리 여행 친구 여행 괜찮다 독채숙소 찾다 요즘 해외 못 가족 여행 휴가 알아보다 요기 가족 여행 요기 무드 테이블 무드 동쪽 요즘 핫 핫 가져오다 외관 분위기 천 이쁘다 오래 예쁘다 자세히 예쁘다 무드 스프링 스프링 여름 봄 보내다 유어스프링 스파라 깔끔 심플 좋아하다 요즘 밖 푸르름 개취 스프링 이쁘다 알로하스테 찾다 민박 알로하스테 조식포함 조식 포함 알로하스테 옆 알로하서재 독립 공간 조용히 책 술 잔 즐기다 힐링 공간 혹시나 들리다 하늘 고래 블루 팀 넉넉 공간 하늘 고래 블루 협재해수욕장 가깝다 독채숙소 하늘고래블루 커다랗다 너머 바다 반하다 여행 고르다 아마 이뷰 고르다 즈 요즘 검색 저절로 붙이다 찾다 전체 따뜻 동쪽 즈 휴식 정말로 가득 즈 따뜻 휴식 독채숙소 나즌 찾다 애기 살짝 나누다 걸리다 커플 최고 시리즈 만족 스럽 바라다 시리즈 찾아오다 여행 응원 아래 팬 공유 글 공유 세계 여행 글 계속\">]\n",
            "[3492, <tomotopy.Document with words=\"초공 여행 다녀오다 풀리다 울적 마음 훌쩍 프라이빗 단독 찾다 우연히 발견 요즘에스테 소개 포스팅합니 돈 후기예 거리 요즘에스테이 산뷰 너무너무 아름답다 멋지다 예쁘다 프로모션 기간 바베큐 다녀오다 평수 숙박 나누다 머무르다 손 님 계시다 사장 님 양해 촬영 들어서다 우와 소리 야외 풀장 아쉽다 수영장 수영장 예쁘다 상상 포토 스팟 수영장 소품 하나하나 전체 꼼꼼 돋보이다 인테리어 특이 욕조 이국 욕조 샤워 시설 따로 가족 단위 불편 꺼 새로 생기다 엄청 깔끔 식기 류 기본 양념 류 자체 단정 따뜻 식물 디퓨저향 취향 스트레스 날아가다 구경 기대감 뿜다 뿜다 선택 복도 테라스 선택 두근두근 선택 수영장 바베큐 수영장 채우다 못내 아쉽다 여름 꼭 다짐 바라보다 산뷰 가슴 뻥 뚫리다 기분 마찬가지 소품 인테리어 깔끔 따뜻 분위기 자아내다 커피 쿠키 챙기다 감동 섬세 입욕 칫솔 치약 제공 선택 이유 복도 자리 맥주 한잔 저녁 날씨 쌀쌀 간단 한잔 벌써 취하다 국내 여행 숲뷰 웅장 탁틔 못 요즘 장점 숲뷰 침구 굉장히 폭신 폭신 편안 상태 사장 님 요런 소품 아무리 치우다 요런 깔끔 여행 하이라이트 바베큐 수영장 바베큐 먹다 맥주 프라이빗 여름 요즘 흐 숯 그냥 맛있다 특히 전복 막히다 이날 과식 죄책감 시달리다 맛있다 먹다 칼로리 여행 묘미 먹다 잠자다 저런 이야기 이야기 도시 소음 벗어나다 즐겁다 다음날 아침 해장 커피 알차다 아침 요즘에스테이 모든 순간 꼭 기약 프라이 빗 원하다 요즘에스테이 고려 포천숙소 포천숙박 포천감성숙소 포천페션 포천풀빌라 요즘에스테이 포천요즘에스테이 요즘에\">]\n",
            "[3504, <tomotopy.Document with words=\"지난주 날씨 날 남편 휴가 떠나다 파주여행 근교 짧다 다녀오다 자만 계획 세우다 여기저기 찾아보다 눈 들어오다 에어비앤비입문자 후기 입니 코드 수많다 글 적용 안되다 못 사용 알리다 실제로 맞다 시스템 숙박 쉽다 독 채 독립 공간 위주 찾아보다 끄알끔 찾아냈습니 달려가다 주소지 찾다 찾아가다 따라가다 추 짜다 잔 주변 건물 비슷 타운 이루다 형성 입구 초반 아스팔트 공사 다음번 매끈 주차 건물 가능합니 테라스 실내 들어가다 쾌적 진심 요즘 짙다 묻다 공간 넓다 연결 쇼파 옆 오락기 요물 남편 게임 좋아하다 편 사이드 침대 옆 공간 넓다 공간 넷플릭스 크기 날 히든피겨 스다 꼭 안방 침대 옆 충전 안방 비치 가끔 충전 아이폰 인식 못 아이폰 충전 안방 소품 소품 왼쪽 째 아이템 갖다 눈여기다 남편 어필 유익 공간 안방 더럽다 못가 못가 민감 까다롭다 유명 사건 깔끔 샤워기 라벤더 필터 장착 향기 롭 드레스 넓다 공간 분리 옷 걸다 센스 섬유 탈취 옆 다용도실 그릴 섬세 느끼다 전기 파리 채다 여름 다가오다 필수 알차다 품목 빼다 수준 넘다 그냥 주부 눈여겨보다 허브티 녹차 간단 커피 캡슐 아침 모닝 커피 잔 먹다 에어프라 포트 캡슐 머신 그대로 옮기다 불편 없이 사용 와인 잔 가져가다 고민 이쁘다 와인 잔 맥주잔 그릇 센스 만점 맥주잔 탐나다 퇴 실 마트 뒤지다 맥주잔 찾다 다니다 비밀 냄비 크기 중요 글 숯불 바베큐 요청 추가금 그릴 사용 자이글 맛있다 굽다 먹다 습 와인오프너 낭패 뒤 꼭 챙기다 오프너 센스 식기 류 챙기다 몸 양념 그냥 가정집 쉬다 남편 재밌다 얘기 요즘 코로나 시국 복작복 조용히 쉬다 주변 도보 거리 편의점 급하다 주변 나무 평상 오래 나무 좋아하다 나무 아래 쉬다 부부 발 들이다 까사블로꼬 추천합니 광고 협찬 남편 돈 찌다 후기 남편 직접 찾다 결정 머물다 기간 감탄 주관 후기 참고\">]\n",
            "[3509, <tomotopy.Document with words=\"친구 여행 다녀오다 규모 친구 목적 여행 다녀오다 돈 투자 독채 찍다 분위기 즐기다 충분히 초반 다녀오다 자동차 거리 롯데마트 무난 여행 다녀오다 지치다 여러 찍다 나중 요렇게 인테리어 깔끔 군데군데 부분 인테리어 예쁘다 홈파티 즐기다 괜찮다 퀸 사이즈 침대 담요 씩 집주인 칫솔 와인 잔 씩 아쉽다 수건 굳이 챙기다 칫솔 메이크업 리무버 고데기 따로 챙기다 부엌 엄 깔끔 취사 돌아오다 홈 파티 와인 잔 아쉽다 테이블 예쁘다 테이블 찍다 분위기 갬성 갬성 접근성 깔끔 분위기 찾다 전체 무난 하룻밤 와인 후기 근처 롯데마트 저렴 판매 사본 롯데마트 엘와 멜롯 개인 불 저렴 와인 맛 괜찮다 이거 와인 첫 맛 중간 맛 무난 끝 맛 날리다 친구 모스카토 스파클 링 화이트 와인 가볍다 먹다 엘와인 개인 굳이 먹다\">]\n",
            "[3512, <tomotopy.Document with words=\"공유 탄 여행 코스 알아보다 연휴 마음 거리 멀다 한번 연휴 기간 역시 이미 자리 국도 여행 끝 여행 코스 마지막 공개 공유 시리즈 시리즈 포함 댓글 하단창 첨부 사용 사이트 가져오다 삭제 설해 이루어지다 정말 힐링 공간 즐기다 알리다 설해원 공간 골프 즐기다 녀 특히 좋아하다 완벽 힐링 시스템 하조델 리 하조델 리 하조대 불리다 조준 민박 총 노키즈존 혹시나 가족 끼리 여행 알아보다 즐기다 바다 공간 즐기다 알리다 하조델 리 디그니 티 디그니 티 성급 깔끔 디자인 자랑 디그니티 해수욕장 친구 끼리 여행 자주 늦캉 스다 즐기다 깔끔 디자인 자랑 디그니티 하루 온 화가 왠지 만나다 만나다 가득 따뜻 가득 홀리데이 조용 예쁘다 홀리데이 온전 쉼 이름 홀리데이 한옥 깔끔 인테리어 적절 히 전체 햇살 따사 롭 들어오다 취사 불 메모 꼭 지키다 사진작가 작업실 정말 그대로 사진작가 작업실 촬영 소품 셀프 웨딩이라 여행지 촬영 검색 숨기다 심플 외관 이쁘다 외관 가져오다 댓글 첨부 푸르르다 시원 즐기다 독 채 운영 상류 떨어지다 알아보다 꼭 더브리앙 뜨다 다녀오다 결혼식 장면 궁금 궁금증 싹 드라마 다녀오다 웨딩 촬영 원룸 형 들어오다 푸르다 즐기다 개별 바베큐 개별 팀 프라이빗 즐기다 여행 때쯤 만족 코로나 풀리다 조심 서로 거리 유지 씩 힐링 찾아보다 여행 코스 힐링 꼭\">]\n",
            "[3515, <tomotopy.Document with words=\"급하다 독 채 검색 모으다 갑자기 오빠 휴가 얻다 여행 신혼 여행 급하다 찾아보다 친구 이튿날 뿌듯 나머지 어찌어찌 이거 나중 공개 징 마음 제주이틑날 설 연휴 걸리다 코로나 접촉 자가격리 숙박 운영 못 취소 힝다 못 아쉽다 급하다 다르다 찾아보다 일주일 이미 인기 마감 동쪽 독 채 엄청나다 검색 쪽 요기 키다 해놨다 나중 일찍 일찍 여행 독 채 출처 업체 네이버 팀 바닷가 전망 바닷가 전망 저렴 당욘 히 마감 온돌방 모던 굉장히 새롭다 침대 넉넉 인테리어 바닷가 전망 깔끔 해고 쾌적 인테리어 바깥 시크릿 계단 이거 엉 현재 마감 전체 빌리다 형식 전망 가슴 뻥 뚫리다 덧 문워크 동쪽 서쪽 나중 가족 끼리 바다 코앞 탕 그냥 중순 조회 탕 실내 탕 동쪽 찜콩 글 건축가 이타미준 한실 양실 프라이 빗 거닐다 신혼여행 유명 이미 날짜 흐 옹 레스토랑 유명 레스토랑 왕 새우 튀김 먹다 웨 팅 고민 갬성 팜스테 테마 나무 흙 내음 텃밭 체험 농장 넓다 가족 고양이 놀다 너무나 좋쟈 네이버 달채 널찍 침대 못 아쉽다 이튿날 이튿날 흑흑 조식 루프 선베드 책 읽다 취소 코 나라 어쩌다 아쉽다 마음 만나다 여차저 재미있다 다녀오다 다그다 꺼\">]\n",
            "[3518, <tomotopy.Document with words=\"여름 휴가 맞이 럭셔 리 찾아보다 리버트 리 찾다 하늘 따다 느리다 주차 시설 아래 반대 크기 달라다 씩 다르다 두근두근 구조 특이 창문 이루어지다 한눈 들어오다 예쁘다 더블베드 옆쪽 침구 침구 아쥬 꿀 잠자다 거실 침실 사이 바베큐 불 멍 존 바베큐 불 멍 씩 천막 비와 괜찮다 공용 풀이 튜브 공들다 제공 천 요금 코로나 인하다 사용 미리 수영장 출입문 블라인드 치다 프라이빗 물놀이 바베큐 숯 플레이 팅 분위기 와인 잔 식기 분위기 푸릇푸릇 불 멍 즐기다 술 한잔 근데 여름 덥다 반 못 태우다 껐다 후문 되게 바쁘다 예쁘다 찍다 엄청 로비 멋지다 쇼파 캠핑 의자 삼각대 리모콘 꼭 찍다 하늘 현실 체감 온도 찍다 비쌌지 아깝다 특히 엄마 만족도 가족 끼리 펜캉 스다 즐겁다 추억 리버 트리\">]\n",
            "[3595, <tomotopy.Document with words=\"영유 부부 경주여행 경주숙소 아쉽다 급하다 맞추다 도착 건물 주차 주차장 주차장 쪽 한옥 건물 인포메이션 데스크 커피 공간 안쪽 들어가다 마당 주차 사장 님 밖 주의 사항 알리다 사장 님 설명 규칙 듣다 총총 비밀 번호 설정 현관 전달 원룸 발코니 욕실 호실 넘치다 인테리어 깔끔 나쁘다 냉장고 만족 베란다 나가다 한옥 지붕 한옥 여행 실 컷 키친 취식 빨래 공용 공간 화재 위험 취사 레인지 커피포트 커피 머신 식탁 먹다 구경 넘치다 공간 마당 총총 요즘 한옥 카페 비슷 인테리어 마루 앉다 커피 잔 사장 님 전날 저녁 마루 앉다 치맥 즐기다 마당 보내다 그만큼 분위기 마당 마당 곳곳 포토존 굳이 한옥 카페 여유 롭 커피 잔 일정 제대로 못 즐기다 아쉽다 아쉽다 넘치다 공간 여행 마지막 날 밤 낮 밤 넘치다 마루 앉다 맥주 잔 벌레 아쉽다 패 밤 동네 조용 조용 저녁 쯤 공용 공간 불 꺼지다 마루 쪽 조명 켜다 분위기 마지막 따뜻 분위기 마무리 성비 나쁘다 만족 스럽 마당 분위기 정말 웬만 한옥 카페 넘치다 주변 카페 관광지 성비 근처 예쁘다 카페 술집 옆 색감 예쁘다 카페 꽃 담 창가 귀엽다 스티커 눈 카페 정원 인테리어 눈 엄청 까다 술집 여가거 주변 카페 여러 휘낭시 맛 근처 휘낭시 맛 다과 늦다 먹다 무화과 품다 절 파치즈 플레인 포장 귀엽다 매장 먹다 멀다 테이크 아웃 근처 예쁘다 카페 예쁘다 양귀비 밭 보리밭 근처 보리밭 꼭 다녀오다 보리밭 완벽 여행 끝\">]\n",
            "[3608, <tomotopy.Document with words=\"여행인플루언 꽃디아에 오늘 다녀오다 여행 모음 겨울 끝 다녀오다 여름휴가 유명한 안노이 워커 스다 한옥스테 누이 숨 행랑채 이미 포스 팅 글 하단 독 채 한옥스테 위크앤 드 이후 아래 내려가다 가격대 높다 완산구 오후 결제 금액 개월 위크앤드 수많다 다녀오다 위크앤드 모습 반하다 테이블 탄 플랜테리 세 조합 키친 넓다 편 필요 조미료 돋다 플레이어 침실 침대 온돌방 정말 특히 욕실 세면대 분리 여럿 불편 필요 물품 배치 거실 정말 넓다 벽 프로젝트 쏘다 드라마 즐기다 정말 편하다 찍다 쉬다 상세 침실 침대 욕실 평점 후기 결제 금액 정확 명칭 주차 공간 인테리어 심플 깨끗 청결 편 욕조 깔끔 일정 침실 침대 욕실 평점 후기 결제 금액 한옥 마을 떨어지다 한적 오프 휴일 화이트 우드 깔끔 인테리어 침실 심플 은은 조명 분위기 청결 디자인 부분 특히 만족도 높다 조용히 휴식 만끽 데이 오프 휴일 침실 침대 욕실 평점 후기 결제 금액 전주한옥마을 한옥 여가 독 채 한옥 여염집 현대 감각 재 탄생 공간 침구 용품 청결 아기자기 실속 인기 한옥 숙박 한옥 치다 편 힐링 꽤 마당 뒷편 해먹 센스 모던 갖추다 한옥 여가 침실 침대 욕실 평점 후기 결제 금액 요즘 핫 한옥 흔히 한옥 다르다 얇다 정형 서까래 낮다 층고 소박 특별 느끼다 매력 한옥 침실 잠자다 분위기 즐기다 프라이빗 욕조 쉬다 고즈넉 느끼다 식기 류 통유리 분위기 개인 예쁘다 꾸미다 굳이 카페 필요 없이 푹 쉬다 한옥 숙박 여행 꼭 한옥스테 한옥 다르다 욕실 평점 후기 결제 금액 짓다 경남 한옥 산자락 아래 마을 옮기다 이축 한옥 전주아원 고택 정말 유명 꼭 한번 한옥스테 원고 구분 천지인 안방 건너방 도방 안채 사랑채 별채 전관 이루다 원고 숙박 요금 다르다 형성 별채 전관 오후 반 조식 제공 냉장고 결코 싸다 편 풍경 꼭 한번 한옥 국내 여름휴가 커플 여행 국내 커플 여행지 원고 국내 커플 여행지 유명 커플 여행 한복 찍다 돌아다니다 여름 휴가 전라도 여행 코스 다녀오다 여행 코스 다녀오다 찌다 모음 경상도 국내 감성글램 핑 모음 여행 인플루언 꽃디아 팬 힘 팬 팬 꾸다 욱\">]\n",
            "[3633, <tomotopy.Document with words=\"까멜라입니 오늘 인천감성숙소 호텔무무 다녀오다 무 무 인천광역시 주차 취사 불가 바베큐 인천호텔무무 강화도호텔무무 무무호텔 감성숙소추천 인천감성숙소 강화도감성숙소 인천감성펜션 강화도감성펜션 인천감성호텔 강화도감성호텔 기념일여행추천 인천호캉스 서울근교감성숙소 요즘 스타일 한옥 호캉 스다 꽤 다니다 새롭다 스타일 고민 기적 떠오르다 무 무 프렌치 엔틱 로맨틱 풍덩 머무르다 야외 스파 프렌치 그레이 새 브라운 촉박 시일 이미 실 선택 프렌치 화이트 빠지다 무 무 호텔무무 짓다 서로 구분 씩 총 건물 속하다 프렌치 화이트 머무르다 건물 찍다 건물 카페 웰컴 티 조식 즐기다 어마 무시 이쁘다 공간 웰컴 티 메뉴 직접 고르다 아이스크림 팬케이크 맛 헤헤 카페 테라스 파릇파릇 이쁘다 카페 독서 계시다 계시다 프다 날 프렌치 화이트 충분히 참고 직접 느끼다 감동 구조 유니크함 배가 이름 프렌치 화이트 있쥬 숲 풍경 프렌치 엔틱 로맨틱 조 셀프 웨딩 촬영 이해 넘다 넘다 이쁘다 스팟 찍다 바쁘다 취사 불 찻잔 드라이 필요 칫솔 치약 참고 카페 보내다 저녁 근처 치킨 멕시칸 유일 치킨 브랜드 먹다 비추다 참고 취사 불 바베큐 근처 동막해변 욕조 보글보 글 호텔무무 입욕 워낙 거품 좋아서 따로 챙기다 호텔무무 촛불 켜다 무드 더하다 밤 호텔무무 컷 침대 쉬다 아래 가져오다 노트북 킹덤 주행 시작 어울리다 새벽 잠들다 조식 카페 사이 조식 음료 커피 주스 선택 음 맛 촉촉 아침 돌아오다 잔 여유 야외 테라스 나가다 숲 내음 확 퍼지다 무 무 숲속 풍경 프렌치 엔틱 로맨틱하다 분위기 분위기 다르다 선택 다양 공용 카페 이쁘다 프렌치 화이트 장점 독특 구조 화이트 인테리어 엔틱 소품 숲 통유리 야외 테라스 욕조 단점 불편 식 미끄럼 주의 하수구 구조 인하다 생활 불편 함 소파 공간 실용 제로 애매 개인 단점 장점 와닿다 로맨틱 분위기 느끼다 연인 진심 가득 담다 만나다 안뇽\">]\n",
            "[3650, <tomotopy.Document with words=\"인터파크 귤댈 저번 휴가 기간 맞다 정말 찾다 국내 거제도 편 소개 쯤 근교 편 찾아오다 넘다 유명 못 걱정 라면 공유 구경 찾다 국내 편 시작 습 첫 째 소개 빌라그레이스 입실시 아웃 발생 타입 금액 최소 선택 자쿠지 숯 그리다 기본 제공 욕실 싱크대 식탁 헤어드라 샴푸 린스 바디워 치약 칫솔 사이트 개인 레이스 건물 나누다 단층 매력 느끼다 잔디 깔리다 개인 주택 건물 화이트 블랙 우드 톤 색 단조 롭 깔끔 문 위쪽 동그랗다 매력 침실 아기자기 아지트 옆 슬라이딩 닫다 곳곳 스타 샷 충분 빼다 개별 자쿠지 자쿠지 여러 찾아보다 독립 공간 보장 좋아보인 개인 차이 구경 굿 초이스 바래다 째 소개 수피아라 동해안로 연락처 입실시 타입 별관 숙박 실 침구 침대 별도 기본 제공 침대 식탁 에어컨 냉장고 샤워 실 욕실 용품 전자레인지 핫 플레이트 취사 도구 전기 밥솥 인터넷 스파 가스레인지 꼭 확인 선택 요금 발생 바베큐 숯 무료 제공 이벤트 개별 수영장 미 금액 최소 천 사이트 개인 인스타 유명한 샷 원하다 타입 소개 뾰족 모습 스파룸 룸타입 일찍 쉽다 드 스파룸 괜찮다 이쁘다 타입 꼭 참고 세 째 소개 하루 한옥 포석로 입실시 타입 실 실 숙박 실 침구 침대 성인 미 취학 미 취학 나이 별도 기본 제공 아래 참고 부탁 금액 최소 사이트 개인 처음 생기다 근데 귀염 귀염 괜찮다 사장 님 갬 넘나 꼬다 한번 해실 달실 붙다 별도 가족 끼리 커플 끼리 채 빌리다 좋겠떠 실은 캠핑 존 찍다 넘다 실은 족욕 공간 프라이빗 알콩달 콩 놀다 다르다 매력 공간 유명 꼭 흐 흐 마지막 소개 휴휴당 첨성로 입실시 타입 독채 숙박 실 침구 침대 불가 기본 제공 아래 참고 부탁 금액 최소 사이트 개인 먼저 휴휴 안내문 짓다 한옥 리모델링 현대 꾸미다 기존 모습 최대한 보존 오래 새 이루다 준비해놨다 총 침대 상형 첫 째 침대 째 침대 따로 창문 들어오다 들어오다 창문 아늑 경제 제일 창문 열다 아쉽다 공간 아기자기 넘다 이쁘다 정말 과거 현대 합치다 공간 경제 매력 뿜다 뿜다 휴휴당 리스트 담다 짜 편 깔끔 좋아하다 스타일 소개 새로 따끈 따근 벌 핫플 다양 여행 찾다 추억 바라다 찾아뵙다 안뇨오 옹\">]\n",
            "[3669, <tomotopy.Document with words=\"이웃 님 즐겁다 하루 보내다 계시다 여행 아카이브 채널 오늘 엄청나다 핫 캠핑 글램 핑 느끼다 큐브 요기 건물 큐브 큐브 네이처라 건물 옆 붙다 사선 프라이빗 즐기다 큐브 네이처 건물 장점 캠핑 글램 핑 장점 캠핑 글램핑 즐기다 야외 바베큐 파티 즐기다 냉난방 시설 갖추다 계절 없이 즐기다 캠핑 글램핑 샤워 시설 공용 불편 요기 큐브스테 샤워 시설 갖추다 불편 야외 들어가다 걱정 캠핑 용품 캠핑 분위기 바다 뷰에 문 열다 바다 건물 좁다 가족 끼리 친구 끼리 연인 끼리 너무너무 큐브스테이 낮 예쁘다 노을 노을 징 짜다 최고 야외 앉다 선선 바람 맞다 가볍다 맥주 잔 여유 롭 정말 예쁘다 깔끔 쯤 꼭 큐브 여행 고민 큐브스테 한번 핫 프다 소식 빠르다 만나다\">]\n",
            "[3687, <tomotopy.Document with words=\"성비 글 미스터트래 블다 대학로호텔 혜화호텔 서울가성비숙소 서울감성숙소 여행인플루언 미스터트래블 다녀오다 일정 대학로 머무르다 괜찮다 가격대 괜찮다 성비 상당히 만족 스럽 혜 유명 꼭 갔다오다 종로 출구 혜화역 출구 가깝다 혜 이화동 비즈니스 출장 여행 계획 성비 괜찮다 가격대 뛰어나다 금연 흡연 불가 별도 흡연 부스 설치 흡연 흡연 부스 글루 뜻 붙이다 테마 컨셉 붙이다 표현 그만큼 붙다 공간 이름 기억 쉽다 네이밍 요즘 한창 뜨다 제대로 준 대학로 로비 와인 판매 바라보다 먹다 와인 잔 자체 이색 분위기 공간 분위기 취하다 와인 한잔 로비 판 판 플레이어 분위기 맞추다 찌다 그대로 느끼다 색다르다 컨셉 갖추다 역시 판 음악 듣다 보증금 음악 선택 힙 스럽 엘리베이터 현재 코로나 인하다 조식 라운지바 운영 참고 숙박 글 디 럭스 더블룸 알차다 공간 이화동 망 조망 오른쪽 시그니 영어 허전 채우다 그림 머 한국 해외 스럽 분위기 연출 공간 스타일 좋아하다 맞다 성비 조명 컨트롤러 전체 컨트롤 뒤 그림 비추다 조명 별도 똑 식 키다 분위기 맞추다 은은 소 원하다 전등 켜다 은은 분위기 맞추다 닫히다 커튼 열다 바라보다 성비 맞다 의심 짓다 장난 대학로 특히 노을 맛 불리다 녘 분위기 장난 사이 이화동 골목 한국 유럽 일본 섞다 이쁘다 자체 공간 워낙 몫 가볍다 힐링 여유 즐기다 충분 혜 전체 톤 모던 심플 함의 잠자다 노트북 작업 알맞다 비즈니스 형 설치 침대 옆 일반 콘센트 벽 전등 컨트롤러 전원 콘센트 레트로 제대로 느끼다 옛날 전화기 실제로 사용 로비 연결 전화기 전기 포트 판 플레이어 조용 흐르다 공간 촉촉 레트로틱 음악 감상 탁자 밑 미니 냉장고 생수 병 기본 제공 입구 옷걸이 샤워 옆 욕실 욕실 블랙 화이트 톤 맞추다 비데 비롯 웬만 욕실 용품 갖추다 바디타월 페이스타올 씩 비치 별도 칫솔 용품 필요시 로비 구입 사용 간단 용품 빗 면도기 솜 면봉 비치 욕실 간단히 사용 어메니티 비누 바디워 샴푸 컨디셔 바디 로션 글 하루 편안 휴식 힐링 즐기다 주변 조용 푹 쉬다 괜찮다 근처 볼일 만족 스럽 혜 조용히 힐링 대학로 쉼 자체 원하다 비즈니스 다녀오다 하루 맘 편 히 쉬다 공간 부담 없이 업체 서비스 제공 작성 솔직 후기\">]\n",
            "[3695, <tomotopy.Document with words=\"덥다 날씨 편하다 쉬다 찾다 호텔오로이 다녀오다 깔끔 픽 이후 공휴일 이후 깔끔 신축 숙박 파티룸 빔프로젝 터 보유 실 기존 리뉴 얼 겉 허름 완전히 새롭다 신축 스탠다트 킹 머무르다 팬 트다 조명 티 테이블 인치 안드로이드 무료 하드 게임 들어가다 하얗다 커튼 테이블 조명 눈 들어오다 키 포인트 침대 아늑 푹신 편 테이블 의자 놓이다 배달 먹다 안내문 일회용품 호텔오로 로고 박히다 포장지 포장 믿다 깔끔 머물다 욕조 샤워실 아담 급하다 청결 쪼다 아쉽다 인테리어 모텔 가득 깔끔 편안 파티룸에 스타일 러 인치 빔프로젝터 나중 친구\">]\n",
            "[3708, <tomotopy.Document with words=\"서쪽 네이버 가능하세 정말 유명 근데 누 취소 마감 빈자리 줍다 줍다 못 정말 후기 벌레 후기 엘베 불편 하단 후기 살짝 걱정 스럽 마음 입구 표지판 다소 부족 주차장 들어가다 들어가다 맞다 주차장 맞다 계속 어리둥절 틀다 주차장 꽤 넓다 주차 걱정 코로나 기록 작성 도토리 설명 도토리 돈 사용 귀엽다 도토리 담 주머니 귀엽다 도토리 갯수 사이즈 다르다 스탠다드 자쿠지 패밀리 도미토 리 지급 조식 서비스 궁금 숙박 무조건 결제 숙박 조식 도토리 결제 시작 조식 단위 팀 선착순 늦다 체크인 이후 자체 조식 빡세다 일정 늦다 카페 먹다 조식 도토리 사용 설명서 마카롱 세계 맥주 도토리 스탠다드 웰컴 드링크 무료 버니니 블랑 병맥 잔 챙기다 대박입니 이미 넘어가다 버리다 도토리 에코백 마크 귀엽다 그냥 일종 추억 실내 슬리퍼 해수욕장 플리마켓 마침 귀엽다 지나치다 여름 끼 내주다 벌레 후기 홈매트 챙기다 민망 고민 풍차 해안뷰 어쩔껍니까 맞추다 날 덥다 최고 테라스 맥주 조지 기똥차다 자리 이쁘다 짓다 사장 님 최고 판포포구 스노쿨링 생쥐 꼴 체크인했습니덩 커피포트 냉장고 바디워 샴푸 컨디셔 치약 면도기 칫솔 도토리 엄 넓다 들어가다 크기 후기 하수구 빠지다 수압 스다 에비앙 기본 갬성 정말 철저 복도 날 손 님 조용 빌다 특별나다 친절 못 느끼다 불쾌 그냥 무난 기분 가깝다 시장 웰컴 드링크 하루 마무리 조식 찾다 옆 카페 찾다 조식 와플 조각 소세지하 샐러드 스크램블 역시 탕진 회사 싫다 관두다 도비 도비\">]\n",
            "[3725, <tomotopy.Document with words=\"여행 목적 휴식 이틀 박하다 기록 목적 휴식 여행 일정 내내 심심 근처 볼거리 즐기다 거리 염두 네이버 검색 결과 만족 스럽 신축 발견 그곳 여행 열다 디스 공유 디스 근처 볼거리 판포포구 걷다 해수욕장 협재해수욕장 십 도착 근처 판포포구 물놀이 포구 스노쿨 링 기록 포스 팅 흐르다 날씨 시원 물놀이 즐기다 코로나바이러스 시국 깔끔 찾다 디스 다르다 디스빌라 침실 설치 흔히 침대 거실 침대 눕다 디스 침대 헤드 창문 정겹다 누 낮 바라보다 해지다 저녁 바라보다 노을 힐링 자체 귀찮다 사용 재밌다 일반 평범 깔끔 만족 스럽 오늘 사이트 인테리어 식기 신혼 꾸미다 찾아보다 사장 님 인테리어 특히 디퓨 정말 잊어버리다 디퓨저에 숲 새벽 쓰이다 디퓨 옆 공병 입욕 테라스 스파 욕조 이틀 박하다 입욕 거품 이틀 내내 힐링 스파 꼭 하루 마무리 찾다 디스빌라 힐링 이거 기록 돈 후기 참고 바래다\">]\n"
          ]
        }
      ]
    },
    {
      "cell_type": "code",
      "metadata": {
        "id": "4UZMkzmShbGr"
      },
      "source": [
        "def make_topictable_per_doc(ldamodel, corpus):\n",
        "    topic_table = pd.DataFrame()\n",
        "\n",
        "    # 몇 번째 문서인지를 의미하는 문서 번호와 해당 문서의 토픽 비중을 한 줄씩 꺼내온다.\n",
        "    for i, topic_list in enumerate(ldamodel[corpus]):\n",
        "        doc = topic_list[0] if ldamodel.get_topics else topic_list            \n",
        "        doc = sorted(doc, key=lambda x: (x[1]), reverse=True)\n",
        "        # 각 문서에 대해서 비중이 높은 토픽순으로 토픽을 정렬한다.\n",
        "        # EX) 정렬 전 0번 문서 : (2번 토픽, 48.5%), (8번 토픽, 25%), (10번 토픽, 5%), (12번 토픽, 21.5%), \n",
        "        # Ex) 정렬 후 0번 문서 : (2번 토픽, 48.5%), (8번 토픽, 25%), (12번 토픽, 21.5%), (10번 토픽, 5%)\n",
        "        # 48 > 25 > 21 > 5 순으로 정렬이 된 것.\n",
        "\n",
        "        # 모든 문서에 대해서 각각 아래를 수행\n",
        "        for j, (topic_num, prop_topic) in enumerate(doc): #  몇 번 토픽인지와 비중을 나눠서 저장한다.\n",
        "            if j == 0:  # 정렬을 한 상태이므로 가장 앞에 있는 것이 가장 비중이 높은 토픽\n",
        "                topic_table = topic_table.append(pd.Series([int(topic_num), round(prop_topic,4), topic_list]), ignore_index=True)\n",
        "                # 가장 비중이 높은 토픽과, 가장 비중이 높은 토픽의 비중과, 전체 토픽의 비중을 저장한다.\n",
        "            else:\n",
        "                break\n",
        "    return(topic_table)"
      ],
      "execution_count": null,
      "outputs": []
    }
  ]
}