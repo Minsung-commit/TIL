{
 "cells": [
  {
   "cell_type": "code",
   "execution_count": 11,
   "metadata": {
    "id": "lNrCuj73myP9"
   },
   "outputs": [
    {
     "data": {
      "text/plain": [
       "(483     오오오하우스\n",
       " 76     에디토리얼제주\n",
       " 523        오형제\n",
       " 509       월림차경\n",
       " 549       산내원림\n",
       " 472       제주가옥\n",
       " 66        동경신촌\n",
       " 80        영스테이\n",
       " 475      물리적공간\n",
       " 51       워킹인써클\n",
       " Name: name, dtype: object, 483    0.919658\n",
       " 76     0.917139\n",
       " 523    0.912512\n",
       " 509    0.909272\n",
       " 549    0.909227\n",
       " 472    0.908313\n",
       " 66     0.908181\n",
       " 80     0.904837\n",
       " 475    0.904705\n",
       " 51     0.904179\n",
       " Name: score, dtype: float64)"
      ]
     },
     "execution_count": 11,
     "metadata": {},
     "output_type": "execute_result"
    }
   ],
   "source": [
    "# 필수 모듈 호출\n",
    "import pandas as pd\n",
    "import numpy as np\n",
    "import re\n",
    "# Word2Vec embedding\n",
    "from gensim.models import Word2Vec\n",
    "from numpy import dot\n",
    "from numpy.linalg import norm\n",
    "import numpy as np\n",
    "\n",
    "from numpy import dot\n",
    "from numpy.linalg import norm\n",
    "import numpy as np\n",
    "\n",
    "# 데이터 로드\n",
    "from pyspark.conf import SparkConf\n",
    "from pyspark.sql import SparkSession\n",
    "from pyspark.sql.types import StructType,StructField, StringType, IntegerType\n",
    "from pyspark.sql.functions import array_contains, udf\n",
    "from datetime import datetime\n",
    "\n",
    "spark = SparkSession\\\n",
    "        .builder\\\n",
    "        .appName('bbb')\\\n",
    "        .getOrCreate()\n",
    "nowtime = datetime.today().strftime(\"%Y-%m-%d\")\n",
    "insta_data = spark.read.parquet(f\"hdfs://localhost:9000/data/modeldata/merged_data_{nowtime}\")\n",
    "insta_data = insta_data.toPandas()\n",
    "\n",
    "\n",
    "def get_sentence_mean_vector(morphs):\n",
    "    vector = []\n",
    "    for i in morphs:\n",
    "        try:\n",
    "            vector.append(embedding_model.wv[i])\n",
    "        except KeyError as e:\n",
    "            pass\n",
    "    try:\n",
    "        return sum(vector)/len(vector)\n",
    "    except IndexError as e:\n",
    "        pass\n",
    "\n",
    "def cos_sim(A, B):\n",
    "       return dot(A, B)/(norm(A)*norm(B))\n",
    "\n",
    "    \n",
    "def create_matrix(wv_matrix):\n",
    "    rows = []\n",
    "    matrix = []\n",
    "    for i in range(len(insta_data.content_x)):\n",
    "        for x in range(len(insta_data.content_x)):\n",
    "            cos_sim = dot(wv_matrix[i], wv_matrix[x])/(norm(wv_matrix[i])*norm(wv_matrix[x]))\n",
    "            rows.append(cos_sim)\n",
    "        matrix.append(rows)\n",
    "        rows=[]\n",
    "    return matrix\n",
    "\n",
    "\n",
    "\n",
    "def insta_REC(name):\n",
    "    cosine_sim=matrix\n",
    "    ##인덱스 테이블 만들기##\n",
    "    indices = pd.Series(insta_data.index, index=insta_data.name).drop_duplicates()\n",
    "    \n",
    "    #입력한 숙소로부터 인덱스 가져오기\n",
    "    idx = indices[name]\n",
    "\n",
    "    # 모든 숙소에 대해서 해당 숙소와의 유사도를 구하기\n",
    "    sim_scores = list(enumerate(cosine_sim[idx]))\n",
    "\n",
    "    # 유사도에 따라 숙소들을 정렬\n",
    "    sim_scores = sorted(sim_scores, key=lambda x:x[1], reverse = True)\n",
    "\n",
    "    # 가장 유사한 10개의 숙소를 받아옴\n",
    "    sim_scores = sim_scores[1:11]\n",
    "\n",
    "    # 가장 유사한 10개 숙소의 인덱스 받아옴\n",
    "    insta_indices = [i[0] for i in sim_scores]\n",
    "    \n",
    "    #기존에 읽어들인 데이터에서 해당 인덱스의 값들을 가져온다. 그리고 스코어 열을 추가하여 코사인 유사도도 확인할 수 있게 한다.\n",
    "    result_data = insta_data.iloc[insta_indices].copy()\n",
    "    result_data['score'] = [i[1] for i in sim_scores]\n",
    "    \n",
    "    # 읽어들인 데이터에서 콘텐츠 부분만 제거, 제목과 스코어만 보이게 함\n",
    "    # del result_data['content']\n",
    "    del result_data['wv']\n",
    "    # del result_data['token_nolist']\n",
    "\n",
    "    # 가장 유사한 10개의 숙소의 제목을 리턴\n",
    "    return result_data.name,  result_data['score']\n",
    "\n",
    "\n",
    "embedding_model = Word2Vec(insta_data.content_x, vector_size=100, window = 2, min_count=3, workers=4, epochs=100, sg=1, seed=0)\n",
    "insta_data['wv'] = insta_data['content_x'].map(get_sentence_mean_vector)\n",
    "wv_matrix = np.asarray(insta_data.wv)\n",
    "matrix = create_matrix(wv_matrix)\n",
    "\n",
    "insta_REC('스튜디오노이')"
   ]
  },
  {
   "cell_type": "markdown",
   "metadata": {
    "id": "yuKMlr8eaGK1"
   },
   "source": [
    "# Word2Vec embedding"
   ]
  },
  {
   "cell_type": "code",
   "execution_count": 8,
   "metadata": {
    "id": "X9HVo7mAaMti"
   },
   "outputs": [],
   "source": [
    "embedding_model = Word2Vec(insta_data.content_x, vector_size=100, window = 2, min_count=3, workers=4, epochs=100, sg=1)"
   ]
  },
  {
   "cell_type": "markdown",
   "metadata": {
    "id": "Q9MR4NGXb2Q6"
   },
   "source": [
    "### 문장 벡터"
   ]
  },
  {
   "cell_type": "code",
   "execution_count": 9,
   "metadata": {
    "id": "pZx4iHrAfcx7"
   },
   "outputs": [],
   "source": [
    "insta_data['wv'] = insta_data['content_x'].map(get_sentence_mean_vector)"
   ]
  },
  {
   "cell_type": "markdown",
   "metadata": {
    "id": "5qd5nnyOF0y5"
   },
   "source": [
    "## 코사인 유사도 행렬 생성"
   ]
  },
  {
   "cell_type": "code",
   "execution_count": 10,
   "metadata": {
    "id": "ULSRbBcaF-XY"
   },
   "outputs": [],
   "source": [
    "wv_matrix = np.asarray(insta_data.wv)\n",
    "\n",
    "matrix = create_matrix(wv_matrix)"
   ]
  },
  {
   "cell_type": "code",
   "execution_count": 12,
   "metadata": {
    "colab": {
     "base_uri": "https://localhost:8080/"
    },
    "id": "BrHGl4ssSp0n",
    "outputId": "5102a48e-30ad-4b13-bbe4-1db7ed170a0c"
   },
   "outputs": [
    {
     "data": {
      "text/plain": [
       "(699, 699)"
      ]
     },
     "execution_count": 12,
     "metadata": {},
     "output_type": "execute_result"
    }
   ],
   "source": [
    "np.shape(matrix)"
   ]
  },
  {
   "cell_type": "code",
   "execution_count": 24,
   "metadata": {
    "colab": {
     "base_uri": "https://localhost:8080/"
    },
    "id": "lXQDicO8F0y6",
    "outputId": "c12acc85-9c80-4381-eae6-c03db8d05a26"
   },
   "outputs": [
    {
     "name": "stdout",
     "output_type": "stream",
     "text": [
      "name\n",
      "내도모해          0\n",
      "파도의무늬         1\n",
      "조히            2\n",
      "스테이 시호일       3\n",
      "까만돌멩이         4\n",
      "           ... \n",
      "솔트          647\n",
      "느린집         648\n",
      "피그멜리온이펙트    649\n",
      "더브리앙뜨       650\n",
      "한라궁호텔       651\n",
      "Length: 652, dtype: int64\n"
     ]
    }
   ],
   "source": [
    "##인덱스 테이블 만들기##\n",
    "indices = pd.Series(insta_data.index, index=insta_data.name).drop_duplicates()\n",
    "print(indices)"
   ]
  },
  {
   "cell_type": "markdown",
   "metadata": {
    "id": "_-bsFo9dF0y6"
   },
   "source": [
    "## 유사 아이템 검색"
   ]
  },
  {
   "cell_type": "code",
   "execution_count": 13,
   "metadata": {
    "id": "KSvhiPkFF0y6"
   },
   "outputs": [],
   "source": [
    "def insta_REC(name, cosine_sim=matrix):\n",
    "    \n",
    "    ##인덱스 테이블 만들기##\n",
    "    indices = pd.Series(insta_data.index, index=insta_data.name).drop_duplicates()\n",
    "    \n",
    "    #입력한 숙소로부터 인덱스 가져오기\n",
    "    idx = indices[name]\n",
    "\n",
    "    # 모든 숙소에 대해서 해당 숙소와의 유사도를 구하기\n",
    "    sim_scores = list(enumerate(cosine_sim[idx]))\n",
    "\n",
    "    # 유사도에 따라 숙소들을 정렬\n",
    "    sim_scores = sorted(sim_scores, key=lambda x:x[1], reverse = True)\n",
    "\n",
    "    # 가장 유사한 10개의 숙소를 받아옴\n",
    "    sim_scores = sim_scores[1:11]\n",
    "\n",
    "    # 가장 유사한 10개 숙소의 인덱스 받아옴\n",
    "    insta_indices = [i[0] for i in sim_scores]\n",
    "    \n",
    "    #기존에 읽어들인 데이터에서 해당 인덱스의 값들을 가져온다. 그리고 스코어 열을 추가하여 코사인 유사도도 확인할 수 있게 한다.\n",
    "    result_data = insta_data.iloc[insta_indices].copy()\n",
    "    result_data['score'] = [i[1] for i in sim_scores]\n",
    "    \n",
    "    # 읽어들인 데이터에서 콘텐츠 부분만 제거, 제목과 스코어만 보이게 함\n",
    "    # del result_data['content']\n",
    "    del result_data['wv']\n",
    "    # del result_data['token_nolist']\n",
    "\n",
    "    # 가장 유사한 10개의 숙소의 제목을 리턴\n",
    "    return result_data.name"
   ]
  },
  {
   "cell_type": "code",
   "execution_count": 15,
   "metadata": {
    "colab": {
     "base_uri": "https://localhost:8080/",
     "height": 363
    },
    "id": "VZhC-EqXF0y7",
    "outputId": "5dfc9a1b-f016-4714-ddef-c37bdb1684cb"
   },
   "outputs": [
    {
     "data": {
      "text/plain": [
       "76     에디토리얼제주\n",
       "549       산내원림\n",
       "483     오오오하우스\n",
       "523        오형제\n",
       "80        영스테이\n",
       "481       소유민박\n",
       "488    클랭블루스테이\n",
       "66        동경신촌\n",
       "475      물리적공간\n",
       "51       워킹인써클\n",
       "Name: name, dtype: object"
      ]
     },
     "execution_count": 15,
     "metadata": {},
     "output_type": "execute_result"
    }
   ],
   "source": [
    "insta_REC('스튜디오노이')"
   ]
  },
  {
   "cell_type": "code",
   "execution_count": 16,
   "metadata": {
    "colab": {
     "base_uri": "https://localhost:8080/"
    },
    "id": "NfxAp-LKBIpy",
    "outputId": "f5a3a258-8f15-40c9-9b3d-ceb14c6a0398"
   },
   "outputs": [],
   "source": [
    "from pymongo import MongoClient\n",
    "from datetime import datetime\n",
    "\n",
    "client = MongoClient('localhost',27017) # mongodb 27017 port\n",
    "db = client.ojo_db"
   ]
  },
  {
   "cell_type": "code",
   "execution_count": 74,
   "metadata": {},
   "outputs": [],
   "source": [
    "matrix = []\n",
    "result = list(db.matrix.find())"
   ]
  },
  {
   "cell_type": "code",
   "execution_count": 75,
   "metadata": {},
   "outputs": [],
   "source": [
    "for i in range(len(result)):\n",
    "    a = list(result[i].values())\n",
    "    matrix.append(a[1])"
   ]
  },
  {
   "cell_type": "code",
   "execution_count": 77,
   "metadata": {},
   "outputs": [],
   "source": [
    "matrix = np.array(matrix)"
   ]
  },
  {
   "cell_type": "code",
   "execution_count": 78,
   "metadata": {},
   "outputs": [
    {
     "data": {
      "text/plain": [
       "array([[1.        , 0.76687759, 0.84627366, ..., 0.69513941, 0.69804609,\n",
       "        0.69691503],\n",
       "       [0.76687759, 1.        , 0.81499821, ..., 0.69748604, 0.69523829,\n",
       "        0.72568798],\n",
       "       [0.84627366, 0.81499821, 1.        , ..., 0.62811726, 0.66456002,\n",
       "        0.64457357],\n",
       "       ...,\n",
       "       [0.69513941, 0.69748604, 0.62811726, ..., 1.00000012, 0.89948374,\n",
       "        0.9131887 ],\n",
       "       [0.69804609, 0.69523829, 0.66456002, ..., 0.89948374, 1.        ,\n",
       "        0.90300375],\n",
       "       [0.69691503, 0.72568798, 0.64457357, ..., 0.9131887 , 0.90300375,\n",
       "        1.        ]])"
      ]
     },
     "execution_count": 78,
     "metadata": {},
     "output_type": "execute_result"
    }
   ],
   "source": [
    "matrix"
   ]
  },
  {
   "cell_type": "code",
   "execution_count": 83,
   "metadata": {},
   "outputs": [],
   "source": [
    "def retrive_matrix(): #매트릭스 재구성\n",
    "    matrix = [] # 빈리스트 생성\n",
    "    result = list(db.matrix.find()) #리스트 형태로 몽고db 데이터 호출\n",
    "    for i in range(len(result)):\n",
    "        a = list(result[i].values()) #순차적으로 values 추출\n",
    "        matrix.append(a[1]) # values에서 vector 값만 뽑아 빈리스트에 2차원 형태로 붙이기\n",
    "    matrix = np.array(matrix) # array 형태로 변환\n",
    "    \n",
    "    return matrix"
   ]
  },
  {
   "cell_type": "code",
   "execution_count": null,
   "metadata": {},
   "outputs": [],
   "source": []
  }
 ],
 "metadata": {
  "colab": {
   "collapsed_sections": [
    "iw9en2yBnw3N",
    "752sOQdDXgYO",
    "rDrGJn5WXlBR",
    "tHEY77T0_kMc",
    "XkeKVlGbA1Cd"
   ],
   "name": "Instagram_LDA_v2",
   "provenance": []
  },
  "kernelspec": {
   "display_name": "Environment (conda_python3)",
   "language": "python",
   "name": "conda_python3"
  },
  "language_info": {
   "codemirror_mode": {
    "name": "ipython",
    "version": 3
   },
   "file_extension": ".py",
   "mimetype": "text/x-python",
   "name": "python",
   "nbconvert_exporter": "python",
   "pygments_lexer": "ipython3",
   "version": "3.6.13"
  }
 },
 "nbformat": 4,
 "nbformat_minor": 1
}
