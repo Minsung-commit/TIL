{
 "cells": [
  {
   "cell_type": "code",
   "execution_count": 145,
   "id": "4a29a021-0cad-40d8-9dfa-90d28dfa625a",
   "metadata": {},
   "outputs": [],
   "source": [
    "'''\n",
    "교통량 이력 정보\n",
    "\n",
    "1 SPOT_NUM 지점번호\n",
    "2 YMD 년월일\n",
    "3 HH 시간\n",
    "4 IO_TYPE 유입유출 구분\n",
    "5 LANE_NUM 차로번호\n",
    "6 VOL 교통량\n",
    "\n",
    "'''\n",
    "from urllib.request import Request, urlopen\n",
    "from urllib.parse import urlencode, quote_plus\n",
    "from xml.etree import ElementTree as ET\n",
    "import xmltodict\n",
    "import json\n",
    "\n",
    "skey = \"5752524157776a643837426953524b\"\n",
    "\n",
    "#http://openapi.seoul.go.kr:8088/(인증키)/xml/VolInfo/1/5/A-01/20160301/12/\n",
    "        \n",
    "ir_url = \"http://openapi.seoul.go.kr:8088/{0}/xml/VolInfo/1/100/A-01/20210826/13/\".format(skey)\n",
    "\n",
    "responseBody = urlopen(ir_url).read().decode('utf-8')\n",
    "\n",
    "# xmltodict.parse() 함수는 OrderedDict 으로 return\n",
    "\n",
    "result = xmltodict.parse(responseBody)\n",
    "\n",
    "# JSON 형태로 변경하여 Dictionary로 변경\n",
    "\n",
    "jsonArray = json.loads(json.dumps(result))\n"
   ]
  },
  {
   "cell_type": "code",
   "execution_count": 146,
   "id": "72dbc8d2-7ee7-43b9-aa4c-c0340e7db38d",
   "metadata": {},
   "outputs": [
    {
     "data": {
      "text/plain": [
       "{'VolInfo': {'list_total_count': '4',\n",
       "  'RESULT': {'CODE': 'INFO-000', 'MESSAGE': '정상 처리되었습니다'},\n",
       "  'row': [{'spot_num': 'A-01',\n",
       "    'ymd': '20210826',\n",
       "    'hh': '13',\n",
       "    'io_type': '1',\n",
       "    'lane_num': '1',\n",
       "    'vol': '800'},\n",
       "   {'spot_num': 'A-01',\n",
       "    'ymd': '20210826',\n",
       "    'hh': '13',\n",
       "    'io_type': '1',\n",
       "    'lane_num': '2',\n",
       "    'vol': '994'},\n",
       "   {'spot_num': 'A-01',\n",
       "    'ymd': '20210826',\n",
       "    'hh': '13',\n",
       "    'io_type': '2',\n",
       "    'lane_num': '1',\n",
       "    'vol': '776'},\n",
       "   {'spot_num': 'A-01',\n",
       "    'ymd': '20210826',\n",
       "    'hh': '13',\n",
       "    'io_type': '2',\n",
       "    'lane_num': '2',\n",
       "    'vol': '855'}]}}"
      ]
     },
     "execution_count": 146,
     "metadata": {},
     "output_type": "execute_result"
    }
   ],
   "source": [
    "jsonArray"
   ]
  },
  {
   "cell_type": "code",
   "execution_count": 147,
   "id": "dd0fbd67-bc03-449a-ad83-bdff76ebe409",
   "metadata": {},
   "outputs": [],
   "source": [
    "'''\n",
    "서울시 교통량 지점 정보\n",
    "\n",
    "1 SPOT_NUM 지점 번호\n",
    "2 SPOT_NM  지점명칭\n",
    "3 GRS80TM_X  TMX좌표\n",
    "4 GRS80TM_Y  TMY좌표\n",
    "'''\n",
    "\n",
    "info_url = \"http://openapi.seoul.go.kr:8088/{0}/xml/SpotInfo/1/1000\".format(skey)\n",
    "\n",
    "responseBody = urlopen(info_url).read().decode('utf-8')\n",
    "\n",
    "# xmltodict.parse() 함수는 OrderedDict 으로 return\n",
    "\n",
    "result = xmltodict.parse(responseBody)\n",
    "\n",
    "# JSON 형태로 변경하여 Dictionary로 변경\n",
    "\n",
    "jsonArray = json.loads(json.dumps(result))\n"
   ]
  },
  {
   "cell_type": "code",
   "execution_count": 151,
   "id": "0b44425b-6f67-487f-8014-a7d3cf6e1f8a",
   "metadata": {},
   "outputs": [
    {
     "data": {
      "text/plain": [
       "169"
      ]
     },
     "execution_count": 151,
     "metadata": {},
     "output_type": "execute_result"
    }
   ],
   "source": [
    "len(jsonArray['SpotInfo']['row'])"
   ]
  },
  {
   "cell_type": "markdown",
   "id": "f83c7c7e-8041-499d-9fb3-c610aea1fe99",
   "metadata": {},
   "source": [
    "---"
   ]
  },
  {
   "cell_type": "code",
   "execution_count": 122,
   "id": "ea7a5214-6833-450c-b21a-37a051e37775",
   "metadata": {},
   "outputs": [],
   "source": [
    "'''\n",
    "서울시 실시간 돌발 정보\n",
    "http://openapi.seoul.go.kr:8088/(인증키)/xml/AccInfo/1/5/\n",
    "1 ACC_ID           돌발 아이디\n",
    "2 OCCR_DATE        발생 일자\n",
    "3 OCCR_TIME        발생 시각\n",
    "4 EXP_CLR_DATE     종료 예정 일자\n",
    "5 EXP_CLR_TIME     종료 예정 시각\n",
    "6 ACC_TYPE         돌발 유형 코드\n",
    "7 ACC_DTYPE        돌발 세부 유형 코드\n",
    "8 LINK_ID          링크 아이디\n",
    "9 GRS80TM_X        TM X 좌표\n",
    "10 GRS80TM_Y       TM Y 좌표\n",
    "11 ACC_INFO        돌발 내용\n",
    "'''\n",
    "\n",
    "acc_url = \"http://openapi.seoul.go.kr:8088/{0}/xml/AccInfo/1/1000/\".format(skey)\n",
    "\n",
    "responseBody = urlopen(acc_url).read().decode('utf-8')\n",
    "\n",
    "# xmltodict.parse() 함수는 OrderedDict 으로 return\n",
    "\n",
    "result = xmltodict.parse(responseBody)\n",
    "\n",
    "# JSON 형태로 변경하여 Dictionary로 변경\n",
    "\n",
    "jsonArray = json.loads(json.dumps(result))\n"
   ]
  },
  {
   "cell_type": "code",
   "execution_count": 126,
   "id": "2b7f7dca-909c-4cf9-bb55-a52b2a464e02",
   "metadata": {},
   "outputs": [
    {
     "data": {
      "text/plain": [
       "[{'acc_id': '814755',\n",
       "  'occr_date': '20210826',\n",
       "  'occr_time': '063800',\n",
       "  'exp_clr_date': '20210826',\n",
       "  'exp_clr_time': '180000',\n",
       "  'acc_type': 'A04',\n",
       "  'acc_dtype': '04B01',\n",
       "  'link_id': '1180023700',\n",
       "  'grs80tm_x': '191595',\n",
       "  'grs80tm_y': '446756.5',\n",
       "  'acc_info': '영중로 (영등포시장 → 영등포시장역) 3차로 시설물보수',\n",
       "  'acc_road_code': '010'},\n",
       " {'acc_id': '814757',\n",
       "  'occr_date': '20210826',\n",
       "  'occr_time': '0649',\n",
       "  'exp_clr_date': '20210826',\n",
       "  'exp_clr_time': '180000',\n",
       "  'acc_type': 'A04',\n",
       "  'acc_dtype': '04B01',\n",
       "  'link_id': '1230016600',\n",
       "  'grs80tm_x': '208006',\n",
       "  'grs80tm_y': '444921',\n",
       "  'acc_info': '백제고분로 (배명사거리 → 삼전사거리) 1,4차로 시설물보수',\n",
       "  'acc_road_code': '010'},\n",
       " {'acc_id': '814763',\n",
       "  'occr_date': '20210826',\n",
       "  'occr_time': '075100',\n",
       "  'exp_clr_date': '20210826',\n",
       "  'exp_clr_time': '180000',\n",
       "  'acc_type': 'A04',\n",
       "  'acc_dtype': '04B01',\n",
       "  'link_id': '1010020000',\n",
       "  'grs80tm_x': '201403.5',\n",
       "  'grs80tm_y': '452517.5',\n",
       "  'acc_info': '지봉로 (청계7가 → 동묘앞역) 하위차로 시설물보수',\n",
       "  'acc_road_code': '010'}]"
      ]
     },
     "execution_count": 126,
     "metadata": {},
     "output_type": "execute_result"
    }
   ],
   "source": [
    "jsonArray['AccInfo']['row'][:3]"
   ]
  },
  {
   "cell_type": "code",
   "execution_count": 133,
   "id": "807bfa8a-0402-4001-b37d-7138c0f38894",
   "metadata": {},
   "outputs": [],
   "source": [
    "'''\n",
    "서울시 돌발 유형 코드 정보\n",
    "http://openapi.seoul.go.kr:8088/(인증키)/xml/AccMainCode/1/5/\n",
    "1 ACC_TYPE 돌발 유형 코드\n",
    "2 ACC_TYPE_NM 돌발 유형 코드 명\n",
    "'''\n",
    "\n",
    "t_c_url = \"http://openapi.seoul.go.kr:8088/{0}/xml/AccMainCode/1/100/\".format(skey)\n",
    "\n",
    "responseBody = urlopen(t_c_url).read().decode('utf-8')\n",
    "\n",
    "# xmltodict.parse() 함수는 OrderedDict 으로 return\n",
    "\n",
    "result = xmltodict.parse(responseBody)\n",
    "\n",
    "# JSON 형태로 변경하여 Dictionary로 변경\n",
    "\n",
    "jsonArray = json.loads(json.dumps(result))\n"
   ]
  },
  {
   "cell_type": "code",
   "execution_count": 134,
   "id": "483174c7-9427-4cb4-9a78-2b69de8ffb78",
   "metadata": {},
   "outputs": [
    {
     "data": {
      "text/plain": [
       "{'AccMainCode': {'list_total_count': '13',\n",
       "  'RESULT': {'CODE': 'INFO-000', 'MESSAGE': '정상 처리되었습니다'},\n",
       "  'row': [{'acc_type': 'A01', 'acc_type_nm': '교통사고'},\n",
       "   {'acc_type': 'A02', 'acc_type_nm': '차량고장'},\n",
       "   {'acc_type': 'A03', 'acc_type_nm': '보행사고'},\n",
       "   {'acc_type': 'A04', 'acc_type_nm': '공사'},\n",
       "   {'acc_type': 'A05', 'acc_type_nm': '낙하물'},\n",
       "   {'acc_type': 'A06', 'acc_type_nm': '버스사고'},\n",
       "   {'acc_type': 'A07', 'acc_type_nm': '지하철사고'},\n",
       "   {'acc_type': 'A08', 'acc_type_nm': '화재'},\n",
       "   {'acc_type': 'A09', 'acc_type_nm': '기상/재난'},\n",
       "   {'acc_type': 'A10', 'acc_type_nm': '집회및행사'},\n",
       "   {'acc_type': 'A11', 'acc_type_nm': '기타'},\n",
       "   {'acc_type': 'A12', 'acc_type_nm': '제보'},\n",
       "   {'acc_type': 'A13', 'acc_type_nm': '단순정보'}]}}"
      ]
     },
     "execution_count": 134,
     "metadata": {},
     "output_type": "execute_result"
    }
   ],
   "source": [
    "jsonArray"
   ]
  },
  {
   "cell_type": "code",
   "execution_count": 135,
   "id": "5d99c03c-f681-4d5b-9e08-d799e446accb",
   "metadata": {},
   "outputs": [],
   "source": [
    "'''\n",
    "서울시 돌발 세부유형 코드 정보\n",
    "http://openapi.seoul.go.kr:8088/(인증키)/xml/AccSubCode/1/5/\n",
    "1 ACC_DTYPE     돌발 세부 유형 코드\n",
    "2 ACC_DTYPE_NM  돌발 세부 유형 코드 명\n",
    "'''\n",
    "t_sc_url = \"http://openapi.seoul.go.kr:8088/{0}/xml/AccSubCode/1/100/\".format(skey)\n",
    "\n",
    "responseBody = urlopen(t_sc_url).read().decode('utf-8')\n",
    "\n",
    "# xmltodict.parse() 함수는 OrderedDict 으로 return\n",
    "\n",
    "result = xmltodict.parse(responseBody)\n",
    "\n",
    "# JSON 형태로 변경하여 Dictionary로 변경\n",
    "\n",
    "jsonArray = json.loads(json.dumps(result))\n",
    "\n"
   ]
  },
  {
   "cell_type": "code",
   "execution_count": 136,
   "id": "a53a7824-5b9f-4a31-8aee-917aab19f373",
   "metadata": {},
   "outputs": [
    {
     "data": {
      "text/plain": [
       "{'AccSubCode': {'list_total_count': '43',\n",
       "  'RESULT': {'CODE': 'INFO-000', 'MESSAGE': '정상 처리되었습니다'},\n",
       "  'row': [{'acc_dtype': '05B01', 'acc_dtype_nm': '소형낙하물'},\n",
       "   {'acc_dtype': '12B01', 'acc_dtype_nm': '제보'},\n",
       "   {'acc_dtype': '11B01', 'acc_dtype_nm': '기타'},\n",
       "   {'acc_dtype': '10B01', 'acc_dtype_nm': '훈련'},\n",
       "   {'acc_dtype': '02B01', 'acc_dtype_nm': '차량고장'},\n",
       "   {'acc_dtype': '06B01', 'acc_dtype_nm': '버스사고'},\n",
       "   {'acc_dtype': '04B01', 'acc_dtype_nm': '시설물보수'},\n",
       "   {'acc_dtype': '01B01', 'acc_dtype_nm': '추돌사고'},\n",
       "   {'acc_dtype': '09B01', 'acc_dtype_nm': '폭우'},\n",
       "   {'acc_dtype': '08B01', 'acc_dtype_nm': '화재'},\n",
       "   {'acc_dtype': '07B01', 'acc_dtype_nm': '지하철사고'},\n",
       "   {'acc_dtype': '03B01', 'acc_dtype_nm': '보행사고'},\n",
       "   {'acc_dtype': '04B02', 'acc_dtype_nm': '청소작업'},\n",
       "   {'acc_dtype': '01B03', 'acc_dtype_nm': '전복사고'},\n",
       "   {'acc_dtype': '10B02', 'acc_dtype_nm': '집회/시위'},\n",
       "   {'acc_dtype': '09B02', 'acc_dtype_nm': '호우주의보'},\n",
       "   {'acc_dtype': '05B02', 'acc_dtype_nm': '대형낙하물'},\n",
       "   {'acc_dtype': '04B03', 'acc_dtype_nm': '차선도색'},\n",
       "   {'acc_dtype': '10B03', 'acc_dtype_nm': '행사'},\n",
       "   {'acc_dtype': '09B03', 'acc_dtype_nm': '호우경보'},\n",
       "   {'acc_dtype': '01B04', 'acc_dtype_nm': '차량화재'},\n",
       "   {'acc_dtype': '01B05', 'acc_dtype_nm': '전도사고'},\n",
       "   {'acc_dtype': '09B04', 'acc_dtype_nm': '태풍주의보'},\n",
       "   {'acc_dtype': '04B04', 'acc_dtype_nm': '도로보수'},\n",
       "   {'acc_dtype': '09B05', 'acc_dtype_nm': '태풍경보'},\n",
       "   {'acc_dtype': '04B05', 'acc_dtype_nm': '제설작업'},\n",
       "   {'acc_dtype': '09B06', 'acc_dtype_nm': '폭설'},\n",
       "   {'acc_dtype': '04B06', 'acc_dtype_nm': '포장공사'},\n",
       "   {'acc_dtype': '09B07', 'acc_dtype_nm': '대설주의보'},\n",
       "   {'acc_dtype': '04B07', 'acc_dtype_nm': '가로수정비'},\n",
       "   {'acc_dtype': '09B08', 'acc_dtype_nm': '대설경보'},\n",
       "   {'acc_dtype': '09B09', 'acc_dtype_nm': '폭염'},\n",
       "   {'acc_dtype': '09B10', 'acc_dtype_nm': '폭염주의보'},\n",
       "   {'acc_dtype': '09B11', 'acc_dtype_nm': '한파'},\n",
       "   {'acc_dtype': '09B12', 'acc_dtype_nm': '한파주의보'},\n",
       "   {'acc_dtype': '09B13', 'acc_dtype_nm': '우박'},\n",
       "   {'acc_dtype': '09B14', 'acc_dtype_nm': '노면미끄러움'},\n",
       "   {'acc_dtype': '09B15', 'acc_dtype_nm': '도로침하'},\n",
       "   {'acc_dtype': '09B16', 'acc_dtype_nm': '도로침수'},\n",
       "   {'acc_dtype': '09B17', 'acc_dtype_nm': '도로결빙'},\n",
       "   {'acc_dtype': '09B18', 'acc_dtype_nm': '노면패임'},\n",
       "   {'acc_dtype': '13B01', 'acc_dtype_nm': '단순정보'},\n",
       "   {'acc_dtype': '09B19', 'acc_dtype_nm': '강우통제'}]}}"
      ]
     },
     "execution_count": 136,
     "metadata": {},
     "output_type": "execute_result"
    }
   ],
   "source": [
    "jsonArray"
   ]
  },
  {
   "cell_type": "code",
   "execution_count": null,
   "id": "652b76e6-5141-4863-acb3-9e8e40b59c7d",
   "metadata": {},
   "outputs": [],
   "source": []
  }
 ],
 "metadata": {
  "kernelspec": {
   "display_name": "Python Multi",
   "language": "python",
   "name": "multi"
  },
  "language_info": {
   "codemirror_mode": {
    "name": "ipython",
    "version": 3
   },
   "file_extension": ".py",
   "mimetype": "text/x-python",
   "name": "python",
   "nbconvert_exporter": "python",
   "pygments_lexer": "ipython3",
   "version": "3.7.6"
  }
 },
 "nbformat": 4,
 "nbformat_minor": 5
}
