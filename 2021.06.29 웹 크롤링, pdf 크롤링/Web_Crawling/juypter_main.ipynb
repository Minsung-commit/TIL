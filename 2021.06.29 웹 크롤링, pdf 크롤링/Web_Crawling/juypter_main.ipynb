{
 "cells": [
  {
   "cell_type": "markdown",
   "metadata": {},
   "source": [
    "<h3>Google Image Scrapper for Juypter Notebook</h3>"
   ]
  },
  {
   "cell_type": "code",
   "execution_count": 3,
   "metadata": {},
   "outputs": [
    {
     "name": "stderr",
     "output_type": "stream",
     "text": [
      "WARNING: The candidate selected for download or install is a yanked version: 'selenium' candidate (version 4.0.0a6 at https://files.pythonhosted.org/packages/60/95/4f8ff4908af7a07a1b99ed38f32b59a6377017a6f5c4a934da4f7dcd71fc/selenium-4.0.0a6-py2.py3-none-any.whl#sha256=9ad8be9478fd21015e03d391a395087ad9015ee246867a8f2d1f67a47e998bed (from https://pypi.org/simple/selenium/) (requires-python:>=2.7, !=3.0.*, !=3.1.*, !=3.2.*, !=3.3.*, !=3.4.*))\n",
      "Reason for being yanked: missed build error\n"
     ]
    },
    {
     "name": "stdout",
     "output_type": "stream",
     "text": [
      "Collecting selenium==4.0.0a6\n",
      "  Downloading selenium-4.0.0a6-py2.py3-none-any.whl (194 kB)\n",
      "Requirement already satisfied: urllib3[secure] in c:\\anaconda3\\lib\\site-packages (from selenium==4.0.0a6) (1.26.4)\n",
      "Requirement already satisfied: pyOpenSSL>=0.14 in c:\\anaconda3\\lib\\site-packages (from urllib3[secure]->selenium==4.0.0a6) (20.0.1)\n",
      "Requirement already satisfied: cryptography>=1.3.4 in c:\\anaconda3\\lib\\site-packages (from urllib3[secure]->selenium==4.0.0a6) (3.4.7)\n",
      "Requirement already satisfied: idna>=2.0.0 in c:\\anaconda3\\lib\\site-packages (from urllib3[secure]->selenium==4.0.0a6) (2.10)\n",
      "Requirement already satisfied: certifi in c:\\anaconda3\\lib\\site-packages (from urllib3[secure]->selenium==4.0.0a6) (2020.12.5)\n",
      "Requirement already satisfied: cffi>=1.12 in c:\\anaconda3\\lib\\site-packages (from cryptography>=1.3.4->urllib3[secure]->selenium==4.0.0a6) (1.14.5)\n",
      "Requirement already satisfied: pycparser in c:\\anaconda3\\lib\\site-packages (from cffi>=1.12->cryptography>=1.3.4->urllib3[secure]->selenium==4.0.0a6) (2.20)\n",
      "Requirement already satisfied: six>=1.5.2 in c:\\anaconda3\\lib\\site-packages (from pyOpenSSL>=0.14->urllib3[secure]->selenium==4.0.0a6) (1.15.0)\n",
      "Installing collected packages: selenium\n",
      "Successfully installed selenium-4.0.0a6\n"
     ]
    }
   ],
   "source": [
    "#!pip install selenium==4.0.0a6"
   ]
  },
  {
   "cell_type": "code",
   "execution_count": 5,
   "metadata": {},
   "outputs": [],
   "source": [
    "from GoogleImageScrapper import GoogleImageScraper\n",
    "import os\n",
    "import time\n",
    "\n",
    "sleep_between_interactions = 1\n",
    "webdriver_path = os.getcwd()+\".\\\\webdriver\\\\chromedriver.exe\"\n",
    "image_path = os.getcwd()+\".\\\\images\""
   ]
  },
  {
   "cell_type": "code",
   "execution_count": 8,
   "metadata": {},
   "outputs": [
    {
     "name": "stdout",
     "output_type": "stream",
     "text": [
      "GoogleImageScraper Notification: Scraping for image link... Please wait.\n",
      "0. https://static.hubzum.zumst.com/hubzum/2017/11/06/13/b9a069e2cb1c4eaf9cfd70071f009cea_780x0c.jpg\n",
      "1. https://cdn.imweb.me/upload/S201811235bf76851d945f/469b13fc1d264.jpg\n",
      "2. https://www.hadong.go.kr/_res/center/img/sub/web02154_img01.jpg\n",
      "3. http://res.heraldm.com/phpwas/restmb_idxmake.php?idx=507&simg=/content/image/2019/03/19/20190319000686_0.jpg\n",
      "4. https://cdn.mkhealth.co.kr/news/photo/202003/img_MKH200320005_0.jpg\n",
      "5. https://cdn.crowdpic.net/list-thumb/thumb_l_E8FD1D12208F31D8EDCF044D357A2E91.jpg\n",
      "6. https://www.theguru.co.kr/data/photos/20201253/art_16093874767625_101e1b.png\n",
      "7. https://img.lovepik.com/element/40065/8002.png_860.png\n",
      "GoogleImageScraper Notification: Saving Image... Please wait.\n",
      "0 .Image saved at: C:\\Users\\lgt30\\Downloads\\2021-K-Digital-Training-main (4)\\2021-K-Digital-Training-main\\Web_Crawling.\\images\\배0.jpg\n",
      "1 .Image saved at: C:\\Users\\lgt30\\Downloads\\2021-K-Digital-Training-main (4)\\2021-K-Digital-Training-main\\Web_Crawling.\\images\\배1.jpg\n",
      "2 .Image saved at: C:\\Users\\lgt30\\Downloads\\2021-K-Digital-Training-main (4)\\2021-K-Digital-Training-main\\Web_Crawling.\\images\\배2.jpg\n",
      "3 .Image saved at: C:\\Users\\lgt30\\Downloads\\2021-K-Digital-Training-main (4)\\2021-K-Digital-Training-main\\Web_Crawling.\\images\\배3.jpg\n",
      "4 .Image saved at: C:\\Users\\lgt30\\Downloads\\2021-K-Digital-Training-main (4)\\2021-K-Digital-Training-main\\Web_Crawling.\\images\\배4.jpg\n",
      "5 .Image saved at: C:\\Users\\lgt30\\Downloads\\2021-K-Digital-Training-main (4)\\2021-K-Digital-Training-main\\Web_Crawling.\\images\\배5.jpg\n",
      "6 .Image saved at: C:\\Users\\lgt30\\Downloads\\2021-K-Digital-Training-main (4)\\2021-K-Digital-Training-main\\Web_Crawling.\\images\\배6.jpg\n",
      "7 .Image saved at: C:\\Users\\lgt30\\Downloads\\2021-K-Digital-Training-main (4)\\2021-K-Digital-Training-main\\Web_Crawling.\\images\\배7.jpg\n",
      "GoogleImageScraper Notification: Download Completed.\n"
     ]
    }
   ],
   "source": [
    "#image_path = os.getcwd()+\"\\\\photos\"\n",
    "#add new search key into array [\"cat\",\"t-shirt\",\"apple\",\"orange\",\"pear\",\"fish\"]\n",
    "#search_keys= [\"woodpecker\",\"owl\"]\n",
    "search_keys= [\"배\"]\n",
    "number_of_images = 10\n",
    "headless = True\n",
    "#min_resolution = (width,height)\n",
    "min_resolution=(0,0)\n",
    "#max_resolution = (width,height)\n",
    "max_resolution=(2000,2000)\n",
    "for search_key in search_keys:\n",
    "    image_scrapper = GoogleImageScraper(webdriver_path,image_path,search_key,number_of_images,headless,min_resolution,max_resolution)\n",
    "    image_urls = image_scrapper.find_image_urls()\n",
    "    image_scrapper.save_images(image_urls)\n",
    "    time.sleep(sleep_between_interactions)"
   ]
  },
  {
   "cell_type": "code",
   "execution_count": null,
   "metadata": {},
   "outputs": [],
   "source": []
  }
 ],
 "metadata": {
  "kernelspec": {
   "display_name": "Python 3",
   "language": "python",
   "name": "python3"
  },
  "language_info": {
   "codemirror_mode": {
    "name": "ipython",
    "version": 3
   },
   "file_extension": ".py",
   "mimetype": "text/x-python",
   "name": "python",
   "nbconvert_exporter": "python",
   "pygments_lexer": "ipython3",
   "version": "3.8.8"
  }
 },
 "nbformat": 4,
 "nbformat_minor": 4
}
