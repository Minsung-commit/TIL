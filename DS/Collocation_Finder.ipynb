{
  "nbformat": 4,
  "nbformat_minor": 0,
  "metadata": {
    "colab": {
      "name": "Collocation Finder.ipynb",
      "provenance": [],
      "authorship_tag": "ABX9TyM1+50yqLmwDc+SWG5VgZ1J",
      "include_colab_link": true
    },
    "kernelspec": {
      "name": "python3",
      "display_name": "Python 3"
    },
    "language_info": {
      "name": "python"
    }
  },
  "cells": [
    {
      "cell_type": "markdown",
      "metadata": {
        "id": "view-in-github",
        "colab_type": "text"
      },
      "source": [
        "<a href=\"https://colab.research.google.com/github/Minsung-commit/TIL/blob/master/Collocation_Finder.ipynb\" target=\"_parent\"><img src=\"https://colab.research.google.com/assets/colab-badge.svg\" alt=\"Open In Colab\"/></a>"
      ]
    },
    {
      "cell_type": "code",
      "metadata": {
        "id": "8qdguCdXhkZV"
      },
      "source": [
        "from nltk.collocations import BigramCollocationFinder\n",
        "from nltk.metrics import BigramAssocMeasures"
      ],
      "execution_count": 4,
      "outputs": []
    },
    {
      "cell_type": "code",
      "metadata": {
        "id": "hYmzqKDNiCXC"
      },
      "source": [
        "from nltk.corpus import webtext"
      ],
      "execution_count": 5,
      "outputs": []
    },
    {
      "cell_type": "code",
      "metadata": {
        "id": "zhlM-vkD8OzK"
      },
      "source": [
        "from tensorflow.keras.preprocessing.text import text_to_word_sequence"
      ],
      "execution_count": 6,
      "outputs": []
    },
    {
      "cell_type": "code",
      "metadata": {
        "id": "eGst3ZMlkFnQ"
      },
      "source": [
        "myfile = open('output.txt','rt') "
      ],
      "execution_count": null,
      "outputs": []
    },
    {
      "cell_type": "code",
      "metadata": {
        "id": "ovqeDxNv-Eiw"
      },
      "source": [
        "myfiles = myfile.readlines()"
      ],
      "execution_count": null,
      "outputs": []
    },
    {
      "cell_type": "code",
      "metadata": {
        "colab": {
          "base_uri": "https://localhost:8080/"
        },
        "id": "MU_7t9h38Y37",
        "outputId": "aa9551e4-f457-4bdb-aa89-cfc92942f2fd"
      },
      "source": [
        "myfiles"
      ],
      "execution_count": null,
      "outputs": [
        {
          "output_type": "execute_result",
          "data": {
            "text/plain": [
              "['[\\' (CNN)\\', \\'Arizona Sen. Jeff Flake announced Tuesday that he will not seek re-election in 2018, and then promptly took the Senate floor and began \\', \\'a lengthy screed\\', \\' against the state of Republican politics in the Trump era. \\', \\'Flake wrote a book titled \"Conscience of a Conservative,\" published in August, that featured a similar argument. He has been consistently critical of President Donald Trump\\\\\\'s rhetoric, making him a target for pro-Trump forces in the coming primary season. With his decision Tuesday, that fight is settled -- but a larger battle might now be joined.\\', \"Here are Flake\\'s 9 toughest lines \", \"1. \\'our complicity\\'\", \\'\"I rise today with no small measure of regret. Regret, because of the state of our disunion, regret because of the disrepair and destructiveness of our politics, regret because of the indecency of our discourse, regret because of the coarseness of our leadership, regret for the compromise of our moral authority, and by our -- all of our -- complicity in this alarming and dangerous state of affairs. It is time for our complicity and our accommodation of the unacceptable to end.\"\\', \\'Jeff Flake just flew a kamikaze mission against Donald Trump\\', \\'Read More\\', \"2. \\'the flagrant disregard for truth or decency\\'\", \\'\"We must never adjust to the present coarseness of our national dialogue -- with the tone set at the top. We must never regard as \\\\\\'normal\\\\\\' the regular and casual undermining of our democratic norms and ideals. We must never meekly accept the daily sundering of our country -- the personal attacks, the threats against principles, freedoms, and institutions, the flagrant disregard for truth or decency, the reckless provocations, most often for the pettiest and most personal reasons, reasons having nothing whatsoever to do with the fortunes of the people that we have all been elected to serve.\"\\', \"3. \\' the degradation of our politics\\'\", \\'\"We must stop pretending that the degradation of our politics and the conduct of some in our executive branch are normal. They are not normal. Reckless, outrageous, and undignified behavior has become excused and countenanced as \\\\\\'telling it like it is,\\\\\\' when it is actually just reckless, outrageous, and undignified.\"\\', \"Republican Sen. Jeff Flake won\\'t run for re-election\", \"4. \\'a corruption of the spirit\\'\", \\'\"When such behavior emanates from the top of our government, it is something else: It is dangerous to a democracy. Such behavior does not project strength -- because our strength comes from our values. It instead projects a corruption of the spirit, and weakness.\"\\', \"5. \\'we know better\\'\", \\'\"We have fooled ourselves for long enough that a pivot to governing is right around the corner, a return to civility and stability right behind it. We know better than that.\"\\', \"6. \\'such mercurial behavior\\'\", \\'\"The notion that one should stay silent as the norms and values that keep America strong are undermined and as the alliances and agreements that ensure the stability of the entire world are routinely threatened by the level of thought that goes into 140 characters -- the notion that one should say and do nothing in the face of such mercurial behavior is ahistoric and, I believe, profoundly misguided.\"\\', \"It\\'s one thing to criticize Trump. It\\'s another to vote against him.\", \"7. \\'nothing more devastating\\'\", \\'\"When a leader correctly identifies real hurt and insecurity in our country and instead of addressing it goes looking for somebody to blame, there is perhaps nothing more devastating to a pluralistic society.\"\\', \"8. \\'grandchildren to answer to\\'\", \\'\"The principles that underlie our politics, the values of our founding, are too vital to our identity and to our survival to allow them to be compromised by the requirements of politics. Because politics can make us silent when we should speak, and silence can equal complicity. I have children and grandchildren to answer to, and so, Mr. President, I will not be complicit.\"\\', \"9. \\'our worst impulses\\'\", \\'\"We were not made great as a country by indulging or even exalting our worst impulses, turning against ourselves, glorying in the things which divide us, and calling fake things true and true things fake.\"\\']']"
            ]
          },
          "metadata": {},
          "execution_count": 17
        }
      ]
    },
    {
      "cell_type": "code",
      "metadata": {
        "id": "CwMaCQKU_Ulz"
      },
      "source": [
        "StrA = \"\".join(myfiles)"
      ],
      "execution_count": null,
      "outputs": []
    },
    {
      "cell_type": "code",
      "metadata": {
        "id": "NaD3cdww937t"
      },
      "source": [
        "words = text_to_word_sequence(StrA)"
      ],
      "execution_count": null,
      "outputs": []
    },
    {
      "cell_type": "code",
      "metadata": {
        "colab": {
          "base_uri": "https://localhost:8080/"
        },
        "id": "wRRvycbt_Z_J",
        "outputId": "979719d4-c2c1-4511-b74c-01898338bb4c"
      },
      "source": [
        "words"
      ],
      "execution_count": null,
      "outputs": [
        {
          "output_type": "execute_result",
          "data": {
            "text/plain": [
              "[\"'\",\n",
              " 'cnn',\n",
              " \"'\",\n",
              " \"'arizona\",\n",
              " 'sen',\n",
              " 'jeff',\n",
              " 'flake',\n",
              " 'announced',\n",
              " 'tuesday',\n",
              " 'that',\n",
              " 'he',\n",
              " 'will',\n",
              " 'not',\n",
              " 'seek',\n",
              " 're',\n",
              " 'election',\n",
              " 'in',\n",
              " '2018',\n",
              " 'and',\n",
              " 'then',\n",
              " 'promptly',\n",
              " 'took',\n",
              " 'the',\n",
              " 'senate',\n",
              " 'floor',\n",
              " 'and',\n",
              " 'began',\n",
              " \"'\",\n",
              " \"'a\",\n",
              " 'lengthy',\n",
              " \"screed'\",\n",
              " \"'\",\n",
              " 'against',\n",
              " 'the',\n",
              " 'state',\n",
              " 'of',\n",
              " 'republican',\n",
              " 'politics',\n",
              " 'in',\n",
              " 'the',\n",
              " 'trump',\n",
              " 'era',\n",
              " \"'\",\n",
              " \"'flake\",\n",
              " 'wrote',\n",
              " 'a',\n",
              " 'book',\n",
              " 'titled',\n",
              " 'conscience',\n",
              " 'of',\n",
              " 'a',\n",
              " 'conservative',\n",
              " 'published',\n",
              " 'in',\n",
              " 'august',\n",
              " 'that',\n",
              " 'featured',\n",
              " 'a',\n",
              " 'similar',\n",
              " 'argument',\n",
              " 'he',\n",
              " 'has',\n",
              " 'been',\n",
              " 'consistently',\n",
              " 'critical',\n",
              " 'of',\n",
              " 'president',\n",
              " 'donald',\n",
              " 'trump',\n",
              " \"'s\",\n",
              " 'rhetoric',\n",
              " 'making',\n",
              " 'him',\n",
              " 'a',\n",
              " 'target',\n",
              " 'for',\n",
              " 'pro',\n",
              " 'trump',\n",
              " 'forces',\n",
              " 'in',\n",
              " 'the',\n",
              " 'coming',\n",
              " 'primary',\n",
              " 'season',\n",
              " 'with',\n",
              " 'his',\n",
              " 'decision',\n",
              " 'tuesday',\n",
              " 'that',\n",
              " 'fight',\n",
              " 'is',\n",
              " 'settled',\n",
              " 'but',\n",
              " 'a',\n",
              " 'larger',\n",
              " 'battle',\n",
              " 'might',\n",
              " 'now',\n",
              " 'be',\n",
              " 'joined',\n",
              " \"'\",\n",
              " 'here',\n",
              " 'are',\n",
              " \"flake's\",\n",
              " '9',\n",
              " 'toughest',\n",
              " 'lines',\n",
              " '1',\n",
              " \"'our\",\n",
              " \"complicity'\",\n",
              " \"'\",\n",
              " 'i',\n",
              " 'rise',\n",
              " 'today',\n",
              " 'with',\n",
              " 'no',\n",
              " 'small',\n",
              " 'measure',\n",
              " 'of',\n",
              " 'regret',\n",
              " 'regret',\n",
              " 'because',\n",
              " 'of',\n",
              " 'the',\n",
              " 'state',\n",
              " 'of',\n",
              " 'our',\n",
              " 'disunion',\n",
              " 'regret',\n",
              " 'because',\n",
              " 'of',\n",
              " 'the',\n",
              " 'disrepair',\n",
              " 'and',\n",
              " 'destructiveness',\n",
              " 'of',\n",
              " 'our',\n",
              " 'politics',\n",
              " 'regret',\n",
              " 'because',\n",
              " 'of',\n",
              " 'the',\n",
              " 'indecency',\n",
              " 'of',\n",
              " 'our',\n",
              " 'discourse',\n",
              " 'regret',\n",
              " 'because',\n",
              " 'of',\n",
              " 'the',\n",
              " 'coarseness',\n",
              " 'of',\n",
              " 'our',\n",
              " 'leadership',\n",
              " 'regret',\n",
              " 'for',\n",
              " 'the',\n",
              " 'compromise',\n",
              " 'of',\n",
              " 'our',\n",
              " 'moral',\n",
              " 'authority',\n",
              " 'and',\n",
              " 'by',\n",
              " 'our',\n",
              " 'all',\n",
              " 'of',\n",
              " 'our',\n",
              " 'complicity',\n",
              " 'in',\n",
              " 'this',\n",
              " 'alarming',\n",
              " 'and',\n",
              " 'dangerous',\n",
              " 'state',\n",
              " 'of',\n",
              " 'affairs',\n",
              " 'it',\n",
              " 'is',\n",
              " 'time',\n",
              " 'for',\n",
              " 'our',\n",
              " 'complicity',\n",
              " 'and',\n",
              " 'our',\n",
              " 'accommodation',\n",
              " 'of',\n",
              " 'the',\n",
              " 'unacceptable',\n",
              " 'to',\n",
              " 'end',\n",
              " \"'\",\n",
              " \"'jeff\",\n",
              " 'flake',\n",
              " 'just',\n",
              " 'flew',\n",
              " 'a',\n",
              " 'kamikaze',\n",
              " 'mission',\n",
              " 'against',\n",
              " 'donald',\n",
              " \"trump'\",\n",
              " \"'read\",\n",
              " \"more'\",\n",
              " '2',\n",
              " \"'the\",\n",
              " 'flagrant',\n",
              " 'disregard',\n",
              " 'for',\n",
              " 'truth',\n",
              " 'or',\n",
              " \"decency'\",\n",
              " \"'\",\n",
              " 'we',\n",
              " 'must',\n",
              " 'never',\n",
              " 'adjust',\n",
              " 'to',\n",
              " 'the',\n",
              " 'present',\n",
              " 'coarseness',\n",
              " 'of',\n",
              " 'our',\n",
              " 'national',\n",
              " 'dialogue',\n",
              " 'with',\n",
              " 'the',\n",
              " 'tone',\n",
              " 'set',\n",
              " 'at',\n",
              " 'the',\n",
              " 'top',\n",
              " 'we',\n",
              " 'must',\n",
              " 'never',\n",
              " 'regard',\n",
              " 'as',\n",
              " \"'normal\",\n",
              " \"'\",\n",
              " 'the',\n",
              " 'regular',\n",
              " 'and',\n",
              " 'casual',\n",
              " 'undermining',\n",
              " 'of',\n",
              " 'our',\n",
              " 'democratic',\n",
              " 'norms',\n",
              " 'and',\n",
              " 'ideals',\n",
              " 'we',\n",
              " 'must',\n",
              " 'never',\n",
              " 'meekly',\n",
              " 'accept',\n",
              " 'the',\n",
              " 'daily',\n",
              " 'sundering',\n",
              " 'of',\n",
              " 'our',\n",
              " 'country',\n",
              " 'the',\n",
              " 'personal',\n",
              " 'attacks',\n",
              " 'the',\n",
              " 'threats',\n",
              " 'against',\n",
              " 'principles',\n",
              " 'freedoms',\n",
              " 'and',\n",
              " 'institutions',\n",
              " 'the',\n",
              " 'flagrant',\n",
              " 'disregard',\n",
              " 'for',\n",
              " 'truth',\n",
              " 'or',\n",
              " 'decency',\n",
              " 'the',\n",
              " 'reckless',\n",
              " 'provocations',\n",
              " 'most',\n",
              " 'often',\n",
              " 'for',\n",
              " 'the',\n",
              " 'pettiest',\n",
              " 'and',\n",
              " 'most',\n",
              " 'personal',\n",
              " 'reasons',\n",
              " 'reasons',\n",
              " 'having',\n",
              " 'nothing',\n",
              " 'whatsoever',\n",
              " 'to',\n",
              " 'do',\n",
              " 'with',\n",
              " 'the',\n",
              " 'fortunes',\n",
              " 'of',\n",
              " 'the',\n",
              " 'people',\n",
              " 'that',\n",
              " 'we',\n",
              " 'have',\n",
              " 'all',\n",
              " 'been',\n",
              " 'elected',\n",
              " 'to',\n",
              " 'serve',\n",
              " \"'\",\n",
              " '3',\n",
              " \"'\",\n",
              " 'the',\n",
              " 'degradation',\n",
              " 'of',\n",
              " 'our',\n",
              " \"politics'\",\n",
              " \"'\",\n",
              " 'we',\n",
              " 'must',\n",
              " 'stop',\n",
              " 'pretending',\n",
              " 'that',\n",
              " 'the',\n",
              " 'degradation',\n",
              " 'of',\n",
              " 'our',\n",
              " 'politics',\n",
              " 'and',\n",
              " 'the',\n",
              " 'conduct',\n",
              " 'of',\n",
              " 'some',\n",
              " 'in',\n",
              " 'our',\n",
              " 'executive',\n",
              " 'branch',\n",
              " 'are',\n",
              " 'normal',\n",
              " 'they',\n",
              " 'are',\n",
              " 'not',\n",
              " 'normal',\n",
              " 'reckless',\n",
              " 'outrageous',\n",
              " 'and',\n",
              " 'undignified',\n",
              " 'behavior',\n",
              " 'has',\n",
              " 'become',\n",
              " 'excused',\n",
              " 'and',\n",
              " 'countenanced',\n",
              " 'as',\n",
              " \"'telling\",\n",
              " 'it',\n",
              " 'like',\n",
              " 'it',\n",
              " 'is',\n",
              " \"'\",\n",
              " 'when',\n",
              " 'it',\n",
              " 'is',\n",
              " 'actually',\n",
              " 'just',\n",
              " 'reckless',\n",
              " 'outrageous',\n",
              " 'and',\n",
              " 'undignified',\n",
              " \"'\",\n",
              " 'republican',\n",
              " 'sen',\n",
              " 'jeff',\n",
              " 'flake',\n",
              " \"won't\",\n",
              " 'run',\n",
              " 'for',\n",
              " 're',\n",
              " 'election',\n",
              " '4',\n",
              " \"'a\",\n",
              " 'corruption',\n",
              " 'of',\n",
              " 'the',\n",
              " \"spirit'\",\n",
              " \"'\",\n",
              " 'when',\n",
              " 'such',\n",
              " 'behavior',\n",
              " 'emanates',\n",
              " 'from',\n",
              " 'the',\n",
              " 'top',\n",
              " 'of',\n",
              " 'our',\n",
              " 'government',\n",
              " 'it',\n",
              " 'is',\n",
              " 'something',\n",
              " 'else',\n",
              " 'it',\n",
              " 'is',\n",
              " 'dangerous',\n",
              " 'to',\n",
              " 'a',\n",
              " 'democracy',\n",
              " 'such',\n",
              " 'behavior',\n",
              " 'does',\n",
              " 'not',\n",
              " 'project',\n",
              " 'strength',\n",
              " 'because',\n",
              " 'our',\n",
              " 'strength',\n",
              " 'comes',\n",
              " 'from',\n",
              " 'our',\n",
              " 'values',\n",
              " 'it',\n",
              " 'instead',\n",
              " 'projects',\n",
              " 'a',\n",
              " 'corruption',\n",
              " 'of',\n",
              " 'the',\n",
              " 'spirit',\n",
              " 'and',\n",
              " 'weakness',\n",
              " \"'\",\n",
              " '5',\n",
              " \"'we\",\n",
              " 'know',\n",
              " \"better'\",\n",
              " \"'\",\n",
              " 'we',\n",
              " 'have',\n",
              " 'fooled',\n",
              " 'ourselves',\n",
              " 'for',\n",
              " 'long',\n",
              " 'enough',\n",
              " 'that',\n",
              " 'a',\n",
              " 'pivot',\n",
              " 'to',\n",
              " 'governing',\n",
              " 'is',\n",
              " 'right',\n",
              " 'around',\n",
              " 'the',\n",
              " 'corner',\n",
              " 'a',\n",
              " 'return',\n",
              " 'to',\n",
              " 'civility',\n",
              " 'and',\n",
              " 'stability',\n",
              " 'right',\n",
              " 'behind',\n",
              " 'it',\n",
              " 'we',\n",
              " 'know',\n",
              " 'better',\n",
              " 'than',\n",
              " 'that',\n",
              " \"'\",\n",
              " '6',\n",
              " \"'such\",\n",
              " 'mercurial',\n",
              " \"behavior'\",\n",
              " \"'\",\n",
              " 'the',\n",
              " 'notion',\n",
              " 'that',\n",
              " 'one',\n",
              " 'should',\n",
              " 'stay',\n",
              " 'silent',\n",
              " 'as',\n",
              " 'the',\n",
              " 'norms',\n",
              " 'and',\n",
              " 'values',\n",
              " 'that',\n",
              " 'keep',\n",
              " 'america',\n",
              " 'strong',\n",
              " 'are',\n",
              " 'undermined',\n",
              " 'and',\n",
              " 'as',\n",
              " 'the',\n",
              " 'alliances',\n",
              " 'and',\n",
              " 'agreements',\n",
              " 'that',\n",
              " 'ensure',\n",
              " 'the',\n",
              " 'stability',\n",
              " 'of',\n",
              " 'the',\n",
              " 'entire',\n",
              " 'world',\n",
              " 'are',\n",
              " 'routinely',\n",
              " 'threatened',\n",
              " 'by',\n",
              " 'the',\n",
              " 'level',\n",
              " 'of',\n",
              " 'thought',\n",
              " 'that',\n",
              " 'goes',\n",
              " 'into',\n",
              " '140',\n",
              " 'characters',\n",
              " 'the',\n",
              " 'notion',\n",
              " 'that',\n",
              " 'one',\n",
              " 'should',\n",
              " 'say',\n",
              " 'and',\n",
              " 'do',\n",
              " 'nothing',\n",
              " 'in',\n",
              " 'the',\n",
              " 'face',\n",
              " 'of',\n",
              " 'such',\n",
              " 'mercurial',\n",
              " 'behavior',\n",
              " 'is',\n",
              " 'ahistoric',\n",
              " 'and',\n",
              " 'i',\n",
              " 'believe',\n",
              " 'profoundly',\n",
              " 'misguided',\n",
              " \"'\",\n",
              " \"it's\",\n",
              " 'one',\n",
              " 'thing',\n",
              " 'to',\n",
              " 'criticize',\n",
              " 'trump',\n",
              " \"it's\",\n",
              " 'another',\n",
              " 'to',\n",
              " 'vote',\n",
              " 'against',\n",
              " 'him',\n",
              " '7',\n",
              " \"'nothing\",\n",
              " 'more',\n",
              " \"devastating'\",\n",
              " \"'\",\n",
              " 'when',\n",
              " 'a',\n",
              " 'leader',\n",
              " 'correctly',\n",
              " 'identifies',\n",
              " 'real',\n",
              " 'hurt',\n",
              " 'and',\n",
              " 'insecurity',\n",
              " 'in',\n",
              " 'our',\n",
              " 'country',\n",
              " 'and',\n",
              " 'instead',\n",
              " 'of',\n",
              " 'addressing',\n",
              " 'it',\n",
              " 'goes',\n",
              " 'looking',\n",
              " 'for',\n",
              " 'somebody',\n",
              " 'to',\n",
              " 'blame',\n",
              " 'there',\n",
              " 'is',\n",
              " 'perhaps',\n",
              " 'nothing',\n",
              " 'more',\n",
              " 'devastating',\n",
              " 'to',\n",
              " 'a',\n",
              " 'pluralistic',\n",
              " 'society',\n",
              " \"'\",\n",
              " '8',\n",
              " \"'grandchildren\",\n",
              " 'to',\n",
              " 'answer',\n",
              " \"to'\",\n",
              " \"'\",\n",
              " 'the',\n",
              " 'principles',\n",
              " 'that',\n",
              " 'underlie',\n",
              " 'our',\n",
              " 'politics',\n",
              " 'the',\n",
              " 'values',\n",
              " 'of',\n",
              " 'our',\n",
              " 'founding',\n",
              " 'are',\n",
              " 'too',\n",
              " 'vital',\n",
              " 'to',\n",
              " 'our',\n",
              " 'identity',\n",
              " 'and',\n",
              " 'to',\n",
              " 'our',\n",
              " 'survival',\n",
              " 'to',\n",
              " 'allow',\n",
              " 'them',\n",
              " 'to',\n",
              " 'be',\n",
              " 'compromised',\n",
              " 'by',\n",
              " 'the',\n",
              " 'requirements',\n",
              " 'of',\n",
              " 'politics',\n",
              " 'because',\n",
              " 'politics',\n",
              " 'can',\n",
              " 'make',\n",
              " 'us',\n",
              " 'silent',\n",
              " 'when',\n",
              " 'we',\n",
              " 'should',\n",
              " 'speak',\n",
              " 'and',\n",
              " 'silence',\n",
              " 'can',\n",
              " 'equal',\n",
              " 'complicity',\n",
              " 'i',\n",
              " 'have',\n",
              " 'children',\n",
              " 'and',\n",
              " 'grandchildren',\n",
              " 'to',\n",
              " 'answer',\n",
              " 'to',\n",
              " 'and',\n",
              " 'so',\n",
              " 'mr',\n",
              " 'president',\n",
              " 'i',\n",
              " 'will',\n",
              " 'not',\n",
              " 'be',\n",
              " 'complicit',\n",
              " \"'\",\n",
              " '9',\n",
              " \"'our\",\n",
              " 'worst',\n",
              " \"impulses'\",\n",
              " \"'\",\n",
              " 'we',\n",
              " 'were',\n",
              " 'not',\n",
              " 'made',\n",
              " 'great',\n",
              " 'as',\n",
              " 'a',\n",
              " 'country',\n",
              " 'by',\n",
              " 'indulging',\n",
              " 'or',\n",
              " 'even',\n",
              " 'exalting',\n",
              " 'our',\n",
              " 'worst',\n",
              " 'impulses',\n",
              " 'turning',\n",
              " 'against',\n",
              " 'ourselves',\n",
              " 'glorying',\n",
              " 'in',\n",
              " 'the',\n",
              " 'things',\n",
              " 'which',\n",
              " 'divide',\n",
              " 'us',\n",
              " 'and',\n",
              " 'calling',\n",
              " 'fake',\n",
              " 'things',\n",
              " 'true',\n",
              " 'and',\n",
              " 'true',\n",
              " 'things',\n",
              " 'fake',\n",
              " \"'\"]"
            ]
          },
          "metadata": {},
          "execution_count": 21
        }
      ]
    },
    {
      "cell_type": "code",
      "metadata": {
        "id": "saCHIZhynkED"
      },
      "source": [
        ""
      ],
      "execution_count": null,
      "outputs": []
    },
    {
      "cell_type": "code",
      "metadata": {
        "colab": {
          "base_uri": "https://localhost:8080/"
        },
        "id": "Bpeqm8i8keZu",
        "outputId": "af95d5ee-c83c-4bfc-c975-0f3d4ca595eb"
      },
      "source": [
        "biagram_collocation = BigramCollocationFinder.from_words(words)\n",
        "biagram_collocation.nbest(BigramAssocMeasures.likelihood_ratio, 20)"
      ],
      "execution_count": null,
      "outputs": [
        {
          "output_type": "execute_result",
          "data": {
            "text/plain": [
              "[('of', 'our'),\n",
              " ('we', 'must'),\n",
              " ('it', 'is'),\n",
              " ('must', 'never'),\n",
              " ('regret', 'because'),\n",
              " ('flagrant', 'disregard'),\n",
              " ('re', 'election'),\n",
              " ('sen', 'jeff'),\n",
              " ('jeff', 'flake'),\n",
              " ('reckless', 'outrageous'),\n",
              " ('truth', 'or'),\n",
              " ('will', 'not'),\n",
              " ('one', 'should'),\n",
              " ('state', 'of'),\n",
              " ('such', 'behavior'),\n",
              " ('disregard', 'for'),\n",
              " ('for', 'truth'),\n",
              " ('because', 'of'),\n",
              " ('of', 'the'),\n",
              " ('notion', 'that')]"
            ]
          },
          "metadata": {},
          "execution_count": 24
        }
      ]
    },
    {
      "cell_type": "code",
      "metadata": {
        "id": "1U-F1OUTiDhO"
      },
      "source": [
        "import nltk"
      ],
      "execution_count": 7,
      "outputs": []
    },
    {
      "cell_type": "code",
      "metadata": {
        "colab": {
          "base_uri": "https://localhost:8080/"
        },
        "id": "m2Hby9QeiTPU",
        "outputId": "ffae6dec-b1bd-4451-cdf9-c4095ce023b5"
      },
      "source": [
        "nltk.download('webtext')"
      ],
      "execution_count": null,
      "outputs": [
        {
          "output_type": "stream",
          "text": [
            "[nltk_data] Downloading package webtext to /root/nltk_data...\n",
            "[nltk_data]   Unzipping corpora/webtext.zip.\n"
          ],
          "name": "stdout"
        },
        {
          "output_type": "execute_result",
          "data": {
            "text/plain": [
              "True"
            ]
          },
          "metadata": {},
          "execution_count": 5
        }
      ]
    },
    {
      "cell_type": "code",
      "metadata": {
        "id": "REIJzxUvjEDS"
      },
      "source": [
        "from nltk.corpus import stopwords"
      ],
      "execution_count": 6,
      "outputs": []
    },
    {
      "cell_type": "code",
      "metadata": {
        "id": "YjmZQAea-fpp"
      },
      "source": [
        "from tensorflow.keras.preprocessing.text import text_to_word_sequence"
      ],
      "execution_count": 5,
      "outputs": []
    },
    {
      "cell_type": "code",
      "metadata": {
        "colab": {
          "base_uri": "https://localhost:8080/"
        },
        "id": "m66KeZ0-55YL",
        "outputId": "293d5eb8-a434-4124-ab98-bad52c965e87"
      },
      "source": [
        "nltk.download('punkt')"
      ],
      "execution_count": 12,
      "outputs": [
        {
          "output_type": "stream",
          "text": [
            "[nltk_data] Downloading package punkt to /root/nltk_data...\n",
            "[nltk_data]   Unzipping tokenizers/punkt.zip.\n"
          ],
          "name": "stdout"
        },
        {
          "output_type": "execute_result",
          "data": {
            "text/plain": [
              "True"
            ]
          },
          "metadata": {},
          "execution_count": 12
        }
      ]
    },
    {
      "cell_type": "code",
      "metadata": {
        "colab": {
          "base_uri": "https://localhost:8080/"
        },
        "id": "ZuJZ8PfWAIPt",
        "outputId": "87497b6e-2af8-42e0-d4fa-8066927fa75d"
      },
      "source": [
        "nltk.download('stopwords')"
      ],
      "execution_count": 14,
      "outputs": [
        {
          "output_type": "stream",
          "text": [
            "[nltk_data] Downloading package stopwords to /root/nltk_data...\n",
            "[nltk_data]   Unzipping corpora/stopwords.zip.\n"
          ],
          "name": "stdout"
        },
        {
          "output_type": "execute_result",
          "data": {
            "text/plain": [
              "True"
            ]
          },
          "metadata": {},
          "execution_count": 14
        }
      ]
    },
    {
      "cell_type": "code",
      "metadata": {
        "id": "A1X2nKW7iXvc",
        "colab": {
          "base_uri": "https://localhost:8080/"
        },
        "outputId": "a3dc177d-2b2f-4445-c0aa-fa8e142ef5ae"
      },
      "source": [
        "stopset = set(stopwords.words('english'))\n",
        "filter_stops = lambda w: len(w) < 3 or w in stopset\n",
        "  \n",
        "biagram_collocation.apply_word_filter(filter_stops)\n",
        "biagram_collocation.nbest(BigramAssocMeasures.likelihood_ratio, 20)"
      ],
      "execution_count": null,
      "outputs": [
        {
          "output_type": "execute_result",
          "data": {
            "text/plain": [
              "[('must', 'never'),\n",
              " ('flagrant', 'disregard'),\n",
              " ('sen', 'jeff'),\n",
              " ('jeff', 'flake'),\n",
              " ('reckless', 'outrageous'),\n",
              " (\"'flake\", 'wrote'),\n",
              " (\"'read\", \"more'\"),\n",
              " ('140', 'characters'),\n",
              " ('america', 'strong'),\n",
              " ('battle', 'might'),\n",
              " ('become', 'excused'),\n",
              " ('believe', 'profoundly'),\n",
              " ('book', 'titled'),\n",
              " ('casual', 'undermining'),\n",
              " ('coming', 'primary'),\n",
              " ('conservative', 'published'),\n",
              " ('consistently', 'critical'),\n",
              " ('correctly', 'identifies'),\n",
              " ('daily', 'sundering'),\n",
              " ('entire', 'world')]"
            ]
          },
          "metadata": {},
          "execution_count": 32
        }
      ]
    },
    {
      "cell_type": "code",
      "metadata": {
        "id": "LK6YrMHg_8An"
      },
      "source": [
        "x_data =  \"he factory's future now looks quite bright.\""
      ],
      "execution_count": 2,
      "outputs": []
    },
    {
      "cell_type": "code",
      "metadata": {
        "id": "4wsMp6KH5kzj"
      },
      "source": [
        "x_data = text_to_word_sequence(x_data)"
      ],
      "execution_count": 7,
      "outputs": []
    },
    {
      "cell_type": "code",
      "metadata": {
        "colab": {
          "base_uri": "https://localhost:8080/"
        },
        "id": "cwsii0Yl6jY-",
        "outputId": "babc9826-aade-4a1d-895c-17f7492098ee"
      },
      "source": [
        "x_data"
      ],
      "execution_count": 8,
      "outputs": [
        {
          "output_type": "execute_result",
          "data": {
            "text/plain": [
              "['he', \"factory's\", 'future', 'now', 'looks', 'quite', 'bright']"
            ]
          },
          "metadata": {},
          "execution_count": 8
        }
      ]
    },
    {
      "cell_type": "code",
      "metadata": {
        "colab": {
          "base_uri": "https://localhost:8080/",
          "height": 35
        },
        "id": "acq70QSI7SmP",
        "outputId": "790a6e8d-9875-4f4c-ddf6-0722ef88e942"
      },
      "source": [
        "x_data[0]"
      ],
      "execution_count": 29,
      "outputs": [
        {
          "output_type": "execute_result",
          "data": {
            "application/vnd.google.colaboratory.intrinsic+json": {
              "type": "string"
            },
            "text/plain": [
              "'he'"
            ]
          },
          "metadata": {},
          "execution_count": 29
        }
      ]
    },
    {
      "cell_type": "code",
      "metadata": {
        "id": "ScKW36od7ZA6"
      },
      "source": [
        "y = [1,2,3,4,5]"
      ],
      "execution_count": 30,
      "outputs": []
    },
    {
      "cell_type": "code",
      "metadata": {
        "colab": {
          "base_uri": "https://localhost:8080/",
          "height": 135
        },
        "id": "RonN6E1K67A0",
        "outputId": "24ac2d3b-c560-462d-d2b6-d3e0948533d7"
      },
      "source": [
        "for i in len(y):\n",
        "  print(y[i])"
      ],
      "execution_count": 31,
      "outputs": [
        {
          "output_type": "error",
          "ename": "SyntaxError",
          "evalue": "ignored",
          "traceback": [
            "\u001b[0;36m  File \u001b[0;32m\"<ipython-input-31-cfa55739315c>\"\u001b[0;36m, line \u001b[0;32m1\u001b[0m\n\u001b[0;31m    for i in len(y)\u001b[0m\n\u001b[0m                   ^\u001b[0m\n\u001b[0;31mSyntaxError\u001b[0m\u001b[0;31m:\u001b[0m invalid syntax\n"
          ]
        }
      ]
    },
    {
      "cell_type": "code",
      "metadata": {
        "colab": {
          "base_uri": "https://localhost:8080/"
        },
        "id": "jCxjoKPb4cy5",
        "outputId": "2d32a060-caeb-4640-a56f-906f7c4d6663"
      },
      "source": [
        "\n",
        "clean_words = []\n",
        "for word in x_data:\n",
        "  if word not in nltk.corpus.stopwords.words('english'): #불용어 제거\n",
        "    clean_words.append(word)\n",
        "    \n",
        "print(clean_words) #['stale', 'uninspir']"
      ],
      "execution_count": 32,
      "outputs": [
        {
          "output_type": "stream",
          "text": [
            "[\"factory's\", 'future', 'looks', 'quite', 'bright']\n"
          ],
          "name": "stdout"
        }
      ]
    },
    {
      "cell_type": "code",
      "metadata": {
        "id": "3XT6SpCn7qIV"
      },
      "source": [
        "document = ' '.join(clean_words)"
      ],
      "execution_count": 33,
      "outputs": []
    },
    {
      "cell_type": "code",
      "metadata": {
        "colab": {
          "base_uri": "https://localhost:8080/",
          "height": 35
        },
        "id": "fL2mdcpW7sWI",
        "outputId": "334817da-c700-4455-f8ac-4eecf8f5394c"
      },
      "source": [
        "document"
      ],
      "execution_count": 34,
      "outputs": [
        {
          "output_type": "execute_result",
          "data": {
            "application/vnd.google.colaboratory.intrinsic+json": {
              "type": "string"
            },
            "text/plain": [
              "\"factory's future looks quite bright\""
            ]
          },
          "metadata": {},
          "execution_count": 34
        }
      ]
    },
    {
      "cell_type": "code",
      "metadata": {
        "id": "hl4lbq8u7wjZ"
      },
      "source": [
        "import spacy"
      ],
      "execution_count": 9,
      "outputs": []
    },
    {
      "cell_type": "code",
      "metadata": {
        "colab": {
          "base_uri": "https://localhost:8080/"
        },
        "id": "1-TZuQ708Jav",
        "outputId": "2eddfa07-85b4-4530-fbd4-a314db93f9ec"
      },
      "source": [
        "\n",
        "!python -m spacy download en"
      ],
      "execution_count": 40,
      "outputs": [
        {
          "output_type": "stream",
          "text": [
            "Collecting en_core_web_sm==2.2.5\n",
            "  Downloading https://github.com/explosion/spacy-models/releases/download/en_core_web_sm-2.2.5/en_core_web_sm-2.2.5.tar.gz (12.0 MB)\n",
            "\u001b[K     |████████████████████████████████| 12.0 MB 4.7 MB/s \n",
            "\u001b[?25hRequirement already satisfied: spacy>=2.2.2 in /usr/local/lib/python3.7/dist-packages (from en_core_web_sm==2.2.5) (2.2.4)\n",
            "Requirement already satisfied: murmurhash<1.1.0,>=0.28.0 in /usr/local/lib/python3.7/dist-packages (from spacy>=2.2.2->en_core_web_sm==2.2.5) (1.0.5)\n",
            "Requirement already satisfied: numpy>=1.15.0 in /usr/local/lib/python3.7/dist-packages (from spacy>=2.2.2->en_core_web_sm==2.2.5) (1.19.5)\n",
            "Requirement already satisfied: setuptools in /usr/local/lib/python3.7/dist-packages (from spacy>=2.2.2->en_core_web_sm==2.2.5) (57.4.0)\n",
            "Requirement already satisfied: blis<0.5.0,>=0.4.0 in /usr/local/lib/python3.7/dist-packages (from spacy>=2.2.2->en_core_web_sm==2.2.5) (0.4.1)\n",
            "Requirement already satisfied: cymem<2.1.0,>=2.0.2 in /usr/local/lib/python3.7/dist-packages (from spacy>=2.2.2->en_core_web_sm==2.2.5) (2.0.5)\n",
            "Requirement already satisfied: wasabi<1.1.0,>=0.4.0 in /usr/local/lib/python3.7/dist-packages (from spacy>=2.2.2->en_core_web_sm==2.2.5) (0.8.2)\n",
            "Requirement already satisfied: requests<3.0.0,>=2.13.0 in /usr/local/lib/python3.7/dist-packages (from spacy>=2.2.2->en_core_web_sm==2.2.5) (2.23.0)\n",
            "Requirement already satisfied: srsly<1.1.0,>=1.0.2 in /usr/local/lib/python3.7/dist-packages (from spacy>=2.2.2->en_core_web_sm==2.2.5) (1.0.5)\n",
            "Requirement already satisfied: tqdm<5.0.0,>=4.38.0 in /usr/local/lib/python3.7/dist-packages (from spacy>=2.2.2->en_core_web_sm==2.2.5) (4.62.0)\n",
            "Requirement already satisfied: plac<1.2.0,>=0.9.6 in /usr/local/lib/python3.7/dist-packages (from spacy>=2.2.2->en_core_web_sm==2.2.5) (1.1.3)\n",
            "Requirement already satisfied: catalogue<1.1.0,>=0.0.7 in /usr/local/lib/python3.7/dist-packages (from spacy>=2.2.2->en_core_web_sm==2.2.5) (1.0.0)\n",
            "Requirement already satisfied: thinc==7.4.0 in /usr/local/lib/python3.7/dist-packages (from spacy>=2.2.2->en_core_web_sm==2.2.5) (7.4.0)\n",
            "Requirement already satisfied: preshed<3.1.0,>=3.0.2 in /usr/local/lib/python3.7/dist-packages (from spacy>=2.2.2->en_core_web_sm==2.2.5) (3.0.5)\n",
            "Requirement already satisfied: importlib-metadata>=0.20 in /usr/local/lib/python3.7/dist-packages (from catalogue<1.1.0,>=0.0.7->spacy>=2.2.2->en_core_web_sm==2.2.5) (4.6.4)\n",
            "Requirement already satisfied: zipp>=0.5 in /usr/local/lib/python3.7/dist-packages (from importlib-metadata>=0.20->catalogue<1.1.0,>=0.0.7->spacy>=2.2.2->en_core_web_sm==2.2.5) (3.5.0)\n",
            "Requirement already satisfied: typing-extensions>=3.6.4 in /usr/local/lib/python3.7/dist-packages (from importlib-metadata>=0.20->catalogue<1.1.0,>=0.0.7->spacy>=2.2.2->en_core_web_sm==2.2.5) (3.7.4.3)\n",
            "Requirement already satisfied: idna<3,>=2.5 in /usr/local/lib/python3.7/dist-packages (from requests<3.0.0,>=2.13.0->spacy>=2.2.2->en_core_web_sm==2.2.5) (2.10)\n",
            "Requirement already satisfied: urllib3!=1.25.0,!=1.25.1,<1.26,>=1.21.1 in /usr/local/lib/python3.7/dist-packages (from requests<3.0.0,>=2.13.0->spacy>=2.2.2->en_core_web_sm==2.2.5) (1.24.3)\n",
            "Requirement already satisfied: chardet<4,>=3.0.2 in /usr/local/lib/python3.7/dist-packages (from requests<3.0.0,>=2.13.0->spacy>=2.2.2->en_core_web_sm==2.2.5) (3.0.4)\n",
            "Requirement already satisfied: certifi>=2017.4.17 in /usr/local/lib/python3.7/dist-packages (from requests<3.0.0,>=2.13.0->spacy>=2.2.2->en_core_web_sm==2.2.5) (2021.5.30)\n",
            "\u001b[38;5;2m✔ Download and installation successful\u001b[0m\n",
            "You can now load the model via spacy.load('en_core_web_sm')\n",
            "\u001b[38;5;2m✔ Linking successful\u001b[0m\n",
            "/usr/local/lib/python3.7/dist-packages/en_core_web_sm -->\n",
            "/usr/local/lib/python3.7/dist-packages/spacy/data/en\n",
            "You can now load the model via spacy.load('en')\n"
          ],
          "name": "stdout"
        }
      ]
    },
    {
      "cell_type": "code",
      "metadata": {
        "colab": {
          "base_uri": "https://localhost:8080/",
          "height": 316
        },
        "id": "JxzPZnsE-Rlo",
        "outputId": "5d34e1b7-86de-4467-d1b2-26dba8837fa8"
      },
      "source": [
        "from spcay import en_core_web_md"
      ],
      "execution_count": 12,
      "outputs": [
        {
          "output_type": "error",
          "ename": "ModuleNotFoundError",
          "evalue": "ignored",
          "traceback": [
            "\u001b[0;31m---------------------------------------------------------------------------\u001b[0m",
            "\u001b[0;31mModuleNotFoundError\u001b[0m                       Traceback (most recent call last)",
            "\u001b[0;32m<ipython-input-12-a4669ac7235e>\u001b[0m in \u001b[0;36m<module>\u001b[0;34m()\u001b[0m\n\u001b[0;32m----> 1\u001b[0;31m \u001b[0;32mfrom\u001b[0m \u001b[0mspcay\u001b[0m \u001b[0;32mimport\u001b[0m \u001b[0men_core_web_md\u001b[0m\u001b[0;34m\u001b[0m\u001b[0;34m\u001b[0m\u001b[0m\n\u001b[0m",
            "\u001b[0;31mModuleNotFoundError\u001b[0m: No module named 'spcay'",
            "",
            "\u001b[0;31m---------------------------------------------------------------------------\u001b[0;32m\nNOTE: If your import is failing due to a missing package, you can\nmanually install dependencies using either !pip or !apt.\n\nTo view examples of installing some common dependencies, click the\n\"Open Examples\" button below.\n\u001b[0;31m---------------------------------------------------------------------------\u001b[0m\n"
          ],
          "errorDetails": {
            "actions": [
              {
                "action": "open_url",
                "actionText": "Open Examples",
                "url": "/notebooks/snippets/importing_libraries.ipynb"
              }
            ]
          }
        }
      ]
    },
    {
      "cell_type": "code",
      "metadata": {
        "colab": {
          "base_uri": "https://localhost:8080/",
          "height": 340
        },
        "id": "_3jmonnD7t6I",
        "outputId": "4b5bbba3-3a38-4a05-a712-1c9674f73d7f"
      },
      "source": [
        "nlp = spacy.load(\"en_core_web_md\")\n",
        "tokens = nlp(document)"
      ],
      "execution_count": 11,
      "outputs": [
        {
          "output_type": "error",
          "ename": "OSError",
          "evalue": "ignored",
          "traceback": [
            "\u001b[0;31m---------------------------------------------------------------------------\u001b[0m",
            "\u001b[0;31mOSError\u001b[0m                                   Traceback (most recent call last)",
            "\u001b[0;32m<ipython-input-11-6a3db2be00bd>\u001b[0m in \u001b[0;36m<module>\u001b[0;34m()\u001b[0m\n\u001b[0;32m----> 1\u001b[0;31m \u001b[0mnlp\u001b[0m \u001b[0;34m=\u001b[0m \u001b[0mspacy\u001b[0m\u001b[0;34m.\u001b[0m\u001b[0mload\u001b[0m\u001b[0;34m(\u001b[0m\u001b[0;34m\"en_core_web_md\"\u001b[0m\u001b[0;34m)\u001b[0m\u001b[0;34m\u001b[0m\u001b[0;34m\u001b[0m\u001b[0m\n\u001b[0m\u001b[1;32m      2\u001b[0m \u001b[0mtokens\u001b[0m \u001b[0;34m=\u001b[0m \u001b[0mnlp\u001b[0m\u001b[0;34m(\u001b[0m\u001b[0mdocument\u001b[0m\u001b[0;34m)\u001b[0m\u001b[0;34m\u001b[0m\u001b[0;34m\u001b[0m\u001b[0m\n",
            "\u001b[0;32m/usr/local/lib/python3.7/dist-packages/spacy/__init__.py\u001b[0m in \u001b[0;36mload\u001b[0;34m(name, **overrides)\u001b[0m\n\u001b[1;32m     28\u001b[0m     \u001b[0;32mif\u001b[0m \u001b[0mdepr_path\u001b[0m \u001b[0;32mnot\u001b[0m \u001b[0;32min\u001b[0m \u001b[0;34m(\u001b[0m\u001b[0;32mTrue\u001b[0m\u001b[0;34m,\u001b[0m \u001b[0;32mFalse\u001b[0m\u001b[0;34m,\u001b[0m \u001b[0;32mNone\u001b[0m\u001b[0;34m)\u001b[0m\u001b[0;34m:\u001b[0m\u001b[0;34m\u001b[0m\u001b[0;34m\u001b[0m\u001b[0m\n\u001b[1;32m     29\u001b[0m         \u001b[0mdeprecation_warning\u001b[0m\u001b[0;34m(\u001b[0m\u001b[0mWarnings\u001b[0m\u001b[0;34m.\u001b[0m\u001b[0mW001\u001b[0m\u001b[0;34m.\u001b[0m\u001b[0mformat\u001b[0m\u001b[0;34m(\u001b[0m\u001b[0mpath\u001b[0m\u001b[0;34m=\u001b[0m\u001b[0mdepr_path\u001b[0m\u001b[0;34m)\u001b[0m\u001b[0;34m)\u001b[0m\u001b[0;34m\u001b[0m\u001b[0;34m\u001b[0m\u001b[0m\n\u001b[0;32m---> 30\u001b[0;31m     \u001b[0;32mreturn\u001b[0m \u001b[0mutil\u001b[0m\u001b[0;34m.\u001b[0m\u001b[0mload_model\u001b[0m\u001b[0;34m(\u001b[0m\u001b[0mname\u001b[0m\u001b[0;34m,\u001b[0m \u001b[0;34m**\u001b[0m\u001b[0moverrides\u001b[0m\u001b[0;34m)\u001b[0m\u001b[0;34m\u001b[0m\u001b[0;34m\u001b[0m\u001b[0m\n\u001b[0m\u001b[1;32m     31\u001b[0m \u001b[0;34m\u001b[0m\u001b[0m\n\u001b[1;32m     32\u001b[0m \u001b[0;34m\u001b[0m\u001b[0m\n",
            "\u001b[0;32m/usr/local/lib/python3.7/dist-packages/spacy/util.py\u001b[0m in \u001b[0;36mload_model\u001b[0;34m(name, **overrides)\u001b[0m\n\u001b[1;32m    167\u001b[0m     \u001b[0;32melif\u001b[0m \u001b[0mhasattr\u001b[0m\u001b[0;34m(\u001b[0m\u001b[0mname\u001b[0m\u001b[0;34m,\u001b[0m \u001b[0;34m\"exists\"\u001b[0m\u001b[0;34m)\u001b[0m\u001b[0;34m:\u001b[0m  \u001b[0;31m# Path or Path-like to model data\u001b[0m\u001b[0;34m\u001b[0m\u001b[0;34m\u001b[0m\u001b[0m\n\u001b[1;32m    168\u001b[0m         \u001b[0;32mreturn\u001b[0m \u001b[0mload_model_from_path\u001b[0m\u001b[0;34m(\u001b[0m\u001b[0mname\u001b[0m\u001b[0;34m,\u001b[0m \u001b[0;34m**\u001b[0m\u001b[0moverrides\u001b[0m\u001b[0;34m)\u001b[0m\u001b[0;34m\u001b[0m\u001b[0;34m\u001b[0m\u001b[0m\n\u001b[0;32m--> 169\u001b[0;31m     \u001b[0;32mraise\u001b[0m \u001b[0mIOError\u001b[0m\u001b[0;34m(\u001b[0m\u001b[0mErrors\u001b[0m\u001b[0;34m.\u001b[0m\u001b[0mE050\u001b[0m\u001b[0;34m.\u001b[0m\u001b[0mformat\u001b[0m\u001b[0;34m(\u001b[0m\u001b[0mname\u001b[0m\u001b[0;34m=\u001b[0m\u001b[0mname\u001b[0m\u001b[0;34m)\u001b[0m\u001b[0;34m)\u001b[0m\u001b[0;34m\u001b[0m\u001b[0;34m\u001b[0m\u001b[0m\n\u001b[0m\u001b[1;32m    170\u001b[0m \u001b[0;34m\u001b[0m\u001b[0m\n\u001b[1;32m    171\u001b[0m \u001b[0;34m\u001b[0m\u001b[0m\n",
            "\u001b[0;31mOSError\u001b[0m: [E050] Can't find model 'en_core_web_md'. It doesn't seem to be a shortcut link, a Python package or a valid path to a data directory."
          ]
        }
      ]
    },
    {
      "cell_type": "code",
      "metadata": {
        "id": "3DS54e5t50nU"
      },
      "source": [
        "for i, document in enumerate(x_data):\n",
        "    clean_words = []\n",
        "    for word in nltk.tokenize.word_tokenize(document):\n",
        "        word = word.lower()\n",
        "        if word not in nltk.corpus.stopwords.words('english'): #불용어 제거\n",
        "            clean_words.append(word)\n",
        "    print(clean_words) #['stale', 'uninspir']\n",
        "    document = ' '.join(clean_words)\n",
        "    print(document) #stale uninspir\n",
        "    x_data[i] = document\n",
        "print(x_data)"
      ],
      "execution_count": null,
      "outputs": []
    }
  ]
}