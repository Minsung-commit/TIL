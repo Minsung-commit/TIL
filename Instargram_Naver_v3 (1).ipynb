{
 "cells": [
  {
   "cell_type": "markdown",
   "metadata": {
    "id": "view-in-github"
   },
   "source": [
    "<a href=\"https://colab.research.google.com/github/Minsung-commit/TIL/blob/master/Instargram_Naver_v3.ipynb\" target=\"_parent\"><img src=\"https://colab.research.google.com/assets/colab-badge.svg\" alt=\"Open In Colab\"/></a>"
   ]
  },
  {
   "cell_type": "code",
   "execution_count": 1,
   "metadata": {
    "id": "lNrCuj73myP9"
   },
   "outputs": [],
   "source": [
    "# 필수 모듈 호출\n",
    "import pandas as pd\n",
    "import numpy as np\n",
    "import re"
   ]
  },
  {
   "cell_type": "code",
   "execution_count": 2,
   "metadata": {
    "id": "icHRw2bNOeXa"
   },
   "outputs": [],
   "source": [
    "import matplotlib.pyplot as plt\n",
    "import seaborn as sns"
   ]
  },
  {
   "cell_type": "code",
   "execution_count": 3,
   "metadata": {
    "id": "8-sxQaVaF2pz"
   },
   "outputs": [],
   "source": [
    "word= '호캉스  호텔  힐링  독채숙소  독채  한옥  자연  오션뷰 외국 캠핑 바다 파티 럽스타 어메니티 빔프로젝트 빔 프로젝트 글램핑 풀빌라 노천탕 프라이빗 인피니티풀 루프탑 히노끼탕 히노끼 온수풀 수영장 숲속 숲 나무'"
   ]
  },
  {
   "cell_type": "code",
   "execution_count": 4,
   "metadata": {
    "colab": {
     "base_uri": "https://localhost:8080/"
    },
    "id": "lUgzqncwFkrg",
    "outputId": "e85bc849-7096-4b8e-b84e-89eddb584221"
   },
   "outputs": [
    {
     "name": "stdout",
     "output_type": "stream",
     "text": [
      "Collecting kiwipiepy\n",
      "  Downloading kiwipiepy-0.10.1-cp37-cp37m-manylinux_2_12_x86_64.manylinux2010_x86_64.whl (495 kB)\n",
      "\u001b[K     |████████████████████████████████| 495 kB 4.8 MB/s \n",
      "\u001b[?25hCollecting kiwipiepy-model~=0.10\n",
      "  Downloading kiwipiepy_model-0.10.0.tar.gz (25.7 MB)\n",
      "\u001b[K     |████████████████████████████████| 25.7 MB 63 kB/s \n",
      "\u001b[?25hBuilding wheels for collected packages: kiwipiepy-model\n",
      "  Building wheel for kiwipiepy-model (setup.py) ... \u001b[?25l\u001b[?25hdone\n",
      "  Created wheel for kiwipiepy-model: filename=kiwipiepy_model-0.10.0-py3-none-any.whl size=25882656 sha256=9067364e16c62637159a644deef41fe8c1998024372bd269e4f69967aa09ef8d\n",
      "  Stored in directory: /root/.cache/pip/wheels/42/2f/c9/c82156eb15ed5ebb5475002723d1ab319947aca25bd663cd1d\n",
      "Successfully built kiwipiepy-model\n",
      "Installing collected packages: kiwipiepy-model, kiwipiepy\n",
      "Successfully installed kiwipiepy-0.10.1 kiwipiepy-model-0.10.0\n"
     ]
    }
   ],
   "source": [
    "!pip install kiwipiepy # 한국어 형태소 분석기"
   ]
  },
  {
   "cell_type": "code",
   "execution_count": 8,
   "metadata": {
    "colab": {
     "base_uri": "https://localhost:8080/"
    },
    "id": "4Bc98R71QujC",
    "outputId": "a870a0bf-8f19-45d2-d997-94fb761a92bf"
   },
   "outputs": [
    {
     "data": {
      "text/plain": [
       "True"
      ]
     },
     "execution_count": 8,
     "metadata": {},
     "output_type": "execute_result"
    }
   ],
   "source": [
    "from kiwipiepy import Kiwi\n",
    "kiwi = Kiwi()\n",
    "kiwi.add_user_word(word) #사용자 사전"
   ]
  },
  {
   "cell_type": "code",
   "execution_count": 7,
   "metadata": {
    "colab": {
     "base_uri": "https://localhost:8080/"
    },
    "id": "SbAistvXn-K6",
    "outputId": "836e35fa-f27a-4b86-8ccc-1dff6f504158"
   },
   "outputs": [
    {
     "name": "stdout",
     "output_type": "stream",
     "text": [
      "Requirement already satisfied: tomotopy in /usr/local/lib/python3.7/dist-packages (0.12.2)\n",
      "Requirement already satisfied: numpy>=1.11.0 in /usr/local/lib/python3.7/dist-packages (from tomotopy) (1.19.5)\n"
     ]
    }
   ],
   "source": [
    "! pip install tomotopy #호출\n",
    "import tomotopy as tp\n",
    "# !pip install kiwipiepy # 한국어 형태소 분석기\n",
    "# from kiwipiepy import Kiwi\n",
    "# kiwi = Kiwi()"
   ]
  },
  {
   "cell_type": "code",
   "execution_count": 57,
   "metadata": {
    "id": "ShtGVutzoSt1"
   },
   "outputs": [],
   "source": [
    "# 데이터 로드\n",
    "\n",
    "insta_data = pd.read_csv('tot_dataset.csv')"
   ]
  },
  {
   "cell_type": "code",
   "execution_count": 73,
   "metadata": {
    "id": "s1NeehdNwcaw"
   },
   "outputs": [],
   "source": [
    "naver_data = pd.read_csv('total_blog_dataset.csv')"
   ]
  },
  {
   "cell_type": "markdown",
   "metadata": {
    "id": "fs4nmArRDxvd"
   },
   "source": [
    "#전처리 함수 정의 및 불용어 리스트 생성"
   ]
  },
  {
   "cell_type": "code",
   "execution_count": 117,
   "metadata": {
    "id": "GgO9xFsarWMw"
   },
   "outputs": [],
   "source": [
    "stop_words = '의 가 이 은 들 는 좀 잘 속초 걍 년대 과 했 경상북도 경기도 거 침실 거실 사용 커피 문 테이블 편하다 조명 쪽 따로 냉장고 거울 부엌 입구 수건 주차 불편 거리 식기 세면대 해서 게 찍 느낌 많이 리뷰 듯 뷰 박 링크 인스타그램 할인 성수기 홈페이지 주말 블로그 인원 추가 ㅎㅎ 너무 게스트 넘 하우스 드리다 이용 위치 쓰다 진짜 넘 찍 거 먹 ㅠㅠ ㅎㅎㅎ ㅠ 물 였 ㅠㅠㅠ ㅠㅠ ㅠ ㅋㅋㅋ ㅋㅋ ㅋ ㅎㅎㅎ ㅎㅎ ㅎ 화장실 도 뭐 오픈 최대 준비 룸 빵 거 많이 방법 달리 스럽다 특별자치도 를 에어비 으로 자 에 와 한 하다 아 휴 아이구 포스팅 아이쿠 아이고 어 나 우리 저희 따라 의해 을 를 에 의 가 으로 로 에게 뿐이다 의거하여 근거하여 입각하여 기준으로 예하면 예를 들면 예를 들자면 저 소인 소생 저희 지말고 하지마 하지마라 다른 물론 또한 그리고 비길수 없다 해서는 안된다 뿐만 아니라 만이 아니다 만은 아니다 막론하고 관계없이 그치지 않다 그러나 그런데 하지만 든간에 논하지 않다 따지지 않다 설사 비록 더라도 아니면 만 못하다 하는 편이 낫다 불문하고 향하여 향해서 향하다 쪽으로 틈타 이용하여 타다 오르다 제외하고 이 외에 이 밖에 하여야 비로소 한다면 몰라도 외에도 이곳 여기 부터 기점으로 따라서 할 생각이다 하려고하다 이리하여 그리하여 그렇게 함으로써 하지만 일때 할때 앞에서 중에서 보는데서 으로써 로써 까지 해야한다 일것이다 반드시 할줄알다 할수있다 할수있어 임에 틀림없다 한다면 등 등등 제 겨우 단지 다만 할뿐 딩동 댕그 대해서 대하여 대하면 훨씬 얼마나 얼마만큼 얼마큼 남짓 이제 분 도움 여 ㅁ ㅎ ㄶ 얼마간 둥 오랜만 약간 체크 체크아웃 가격 정보 비 수기 평일 기준 약 전국  예약 되어다 스마트 빔 블루투스 스피커 이 외 드라이어 다리미 구비 되어다 있다 주방 음식 조리 가능하다 환기 제한 전남 제부도 있다 냄새 나 요리 삼가다 경주시 부탁드리다 후 번길 문의 다 가격 수기 비성수기 주소  좀 조금 다수 몇 얼마 지만 하물며 또한 그러나 그렇지만 하지만 이외에도 대해 말하자면 뿐이다 다음에 반대로 반대로 말하자면 이와 반대로 바꾸어서 말하면 바꾸어서 한다면 만약 그렇지않으면 까악 툭 딱 삐걱거리다 보드득 비걱거리다 꽈당 응당 해야한다 에 가서 각 각각 여러분 각종 각자 제각기 하도록하다 와 과 그러므로 그래서 고로 한 까닭에 하기 때문에 거니와 이지만 대하여 관하여 관한 과연 실로 아니나다를가 생각한대로 진짜로 한적이있다 하곤하였다 하 하하 허허 아하 거바 와 오 왜 어째서 무엇때문에 어찌 하겠는가 무슨 어디 어느곳 더군다나 하물며 더욱이는 어느때 언제 야 이봐 어이 여보시오 흐흐 흥 휴 헉헉 헐떡헐떡 영차 여차 어기여차 끙끙 아야 앗 아야 콸콸 졸졸 좍좍 뚝뚝 주룩주룩 솨 우르르 그래도 또 그리고 바꾸어말하면 바꾸어말하자면 혹은 혹시 답다 및 그에 따르는 때가 되어 즉 지든지 설령 가령 하더라도 할지라도 일지라도 지든지 몇 거의 하마터면 인젠 이젠 된바에야 된이상 만큼 어찌됏든 그위에 게다가 점에서 보아 비추어 보아 고려하면 하게될것이다 일것이다 비교적 좀 보다더 비하면 시키다 하게하다 할만하다 의해서 연이서 이어서 잇따라 포항 우도 양양 전주시 통영 제천 여수시 순천 고성 합천 한림읍 전주 경북 구좌읍 돌산읍 태안 하동 포항시 제주시 밀양 양평 울산 무무 뒤따라 뒤이어 결국 의지하여 기대여 통하여 자마자 더욱더 불구하고 얼마든지 마음대로 주저하지 않고 곧 즉시 바로 당장 하자마자 밖에 안된다 하면된다 그래 그렇지 요컨대 다시 말하자면 바꿔 춘천 층 남해 스테이 서울 여수 거제 추천 경주 곳 객실 이다 강원도 강원 홍천 부산 영도 호 객실 교동 풀빌라 빌라 풀 스튜디오 펜션 말하면 즉 구체적으로 말하자면 시작하여 시초에 이상 허 헉 허걱 바와같이 해도좋다 해도된다 게다가 더구나 하물며 와르르 팍 퍽 펄렁 동안 이래 하고있었다 이었다 에서 로부터 까지 예하면 했어요 해요 함께 같이 더불어 마저 마저도 양자 모두 습니다 가까스로 하려고하다 즈음하여 다른 다른 방면으로 해봐요 습니까 했어요 말할것도 없고 무릎쓰고 개의치않고 하는것만 못하다 하는것이 낫다 매 매번 들 모 어느것 어느 로써 갖고말하자면 어디 어느쪽 어느것 어느해 어느 년도 라 해도 언젠가 어떤것 어느것 저기 저쪽 저것 그때 그럼 그러면 요만한걸 그래 그때 저것만큼 그저 이르기까지 할 줄 안다 할 힘이 있다 너 너희 당신 어찌 설마 차라리 할지언정 할지라도 할망정 할지언정 구토하다 게우다 토하다 메쓰겁다 옆사람 퉤 쳇 의거하여 근거하여 의해 따라 힘입어 그 다음 버금 두번째로 기타 첫번째로 나머지는 그중에서 견지에서 형식으로 쓰여 입장에서 위해서 단지 의해되다 하도록시키다 뿐만아니라 반대로 전후 전자 앞의것 잠시 잠깐 하면서 그렇지만 다음에 그러한즉 그런즉 남들 아무거나 어찌하든지 같다 비슷하다 예컨대 이럴정도로 어떻게 만약 만일 위에서 서술한바와같이 인 듯하다 하지 않는다면 만약에 무엇 무슨 어느 어떤 아래윗 조차 한데 그럼에도 불구하고 여전히 심지어 까지도 조차도 하지 않도록 않기 위하여 때 시각 무렵 시간 동안 어때 어떠한 하여금 네 예 우선 누구 누가 알겠는가 아무도 줄은모른다 줄은 몰랏다 하는 김에 겸사겸사 하는바 그런 까닭에 한 이유는 그러니 그러니까 때문에 그 너희 그들 너희들 타인 것 것들 너 위하여 공동으로 동시에 하기 위하여 어찌하여 무엇때문에 붕붕 윙윙 나 우리 엉엉 휘익 윙윙 오호 아하 어쨋든 만 못하다 하기보다는 차라리 하는 편이 낫다 흐흐 놀라다 상대적으로 말하자면 마치 아니라면 쉿 그렇지 않으면 그렇지 않다면 안 그러면 아니었다면 하든지 아니면 이라면 좋아 알았어 하는것도 그만이다 어쩔수 없다 하나 일 일반적으로 일단 한켠으로는 오자마자 이렇게되면 이와같다면 전부 한마디 한항목 근거로 하기에 아울러 하지 않도록 않기 위해서 이르기까지 이 되다 로 인하여 까닭으로 이유만으로 이로 인하여 그래서 이 때문에 그러므로 그런 까닭에 알 수 있다 결론을 낼 수 있다 으로 인하여 있다 어떤것 관계가 있다 관련이 있다 연관되다 어떤것들 에 대해 이리하여 그리하여 여부 하기보다는 하느니 하면 할수록 운운 이러이러하다 하구나 하도다 다시말하면 다음으로 에 있다 에 달려 있다 우리 우리들 오히려 하기는한데 어떻게 어떻해 어찌됏어 어때 어째서 본대로 자 이 이쪽 여기 이것 이번 이렇게말하자면 이런 이러한 이와 같은 요만큼 요만한 것 얼마 안 되는 것 이만큼 이 정도의 이렇게 많은 것 이와 같다 이때 이렇구나 것과 같이 끼익 삐걱 따위 와 같은 사람들 부류의 사람들 왜냐하면 중의하나 오직 오로지 에 한하다 하기만 하면 도착하다 까지 미치다 도달하다 정도에 이르다 할 지경이다 결과에 이르다 관해서는 여러분 하고 있다 한 후 혼자 자기 자기집 자신 우에 종합한것과같이 총적으로 보면 총적으로 말하면 총적으로 대로 하다 으로서 참 그만이다 할 따름이다 쿵 탕탕 쾅쾅 둥둥 봐 봐라 아이야 아니 와아 응 아이 참나 년 월 일 령 영 일 이 삼 사 오 육 륙 칠 팔 구 이천육 이천칠 이천팔 이천구 하나 둘 셋 넷 다섯 여섯 일곱 여덟 아홉 령 영 이 있 하 것 들 그 되 수 이 보 않 없 나 사람 주 아니 등 같 우리 때 년 가 한 지 대하 오 말 일 그렇 위하 때문 그것 두 말하 알 그러나 받 못하 일 그런 또 문제 더 사회 많 그리고 좋 크 따르 중 나오 가지 씨 시키 만들 지금 생각하 그러 속 하나 집 살 모르 적 월 데 자신 안 어떤 내 내 경우 감성 숙소 호텔 제주 제주도 강원도 강릉 속초 속초시 에어비앤비 명 생각 시간 그녀 수 약 다시 이런 앞 보이 번 나 다른 어떻 여자 개 전 들 사실 이렇 점 싶 말 정도 좀 원 잘 통하 놓 사실 이렇 점 싶 말 정도 좀 원 잘 통하 ㅆ 재 채 독 롭 도란도 팅 감성비앤비 공간 참여 이벤트 당첨자 기간 부산 #부산숙소 #부산에어비앤비 #부산여행 경기 경주시 있는 한 #경주숙소 강원도 제주 제주시 #제주숙소 #제주감성숙소 #제주숙소추천 남해군 서면 춘천시 남해 광안리 편 반 안면도 산방산 님 사장 정말 날 꼭 찾다 직접 날 그냥 맘 근데 스타 욕 편 째 첫 맛 채 황리단 황리단길 미리 열다 거제도 공간 광안리 광안대교 스다 해운대 헤이 윤슬 울릉도 손 옆 홍보 입실시간 에디터' #불용어 리스트 형성"
   ]
  },
  {
   "cell_type": "code",
   "execution_count": 118,
   "metadata": {
    "id": "Pk2WROfwrYSW"
   },
   "outputs": [],
   "source": [
    "stop_words=stop_words.split(' ')"
   ]
  },
  {
   "cell_type": "code",
   "execution_count": 119,
   "metadata": {
    "id": "_qpyB1Vb4x_D"
   },
   "outputs": [],
   "source": [
    "stop_location = pd.read_csv('location_words.csv')\n",
    "stop_location.columns = ['index', 'location']\n",
    "stop_location = stop_location.location.tolist()"
   ]
  },
  {
   "cell_type": "code",
   "execution_count": 120,
   "metadata": {
    "id": "c92Pam2292uK"
   },
   "outputs": [],
   "source": [
    "stop = stop_words + stop_location\n",
    "stop = pd.Series(stop)\n",
    "stopwords = stop.unique().tolist()"
   ]
  },
  {
   "cell_type": "code",
   "execution_count": 121,
   "metadata": {
    "id": "TW-TNviomOTj"
   },
   "outputs": [],
   "source": [
    "def tokenize(sent):\n",
    "    res, score = kiwi.analyze(sent)[0] # 첫번째 결과를 사용\n",
    "    return [word + ('다' if tag.startswith('V') else '') # 동사에는 '다'를 붙여줌\n",
    "            for word, tag, _, _ in res\n",
    "            if not tag.startswith('E') and not tag.startswith('J') and not tag.startswith('S') and not tag.startswith('W') and word not in stopwords] # 조사, 어미, 특수기호 및 stopwords에 포함된 단어는 제거"
   ]
  },
  {
   "cell_type": "code",
   "execution_count": 122,
   "metadata": {
    "id": "E7xjMEiBSsdR"
   },
   "outputs": [],
   "source": [
    "#\"\"\"한글빼고 전부 제거\"\"\"\n",
    "def sub_special(s):\n",
    "  rs = re.sub(r'[^가-힣]',' ',s)\n",
    "  rr = re.sub(' +', ' ', rs)\n",
    "  return rr"
   ]
  },
  {
   "cell_type": "code",
   "execution_count": 123,
   "metadata": {
    "id": "mJOcHZZztAta"
   },
   "outputs": [],
   "source": [
    "#\"\"\"한글빼고 전부 제거\"\"\"\n",
    "def sub_special_token(s):\n",
    "  rs = re.sub(r'[^가-힣]',' ',s).strip().split()\n",
    "  return rs"
   ]
  },
  {
   "cell_type": "code",
   "execution_count": 124,
   "metadata": {
    "id": "YIG8pgA5UKzw"
   },
   "outputs": [],
   "source": [
    "def word_cleansing(data): \n",
    "  for i in range(len(data)): #불용어 제거\n",
    "    result = []\n",
    "    for w in data.content[i]:\n",
    "      if w not in stopwords:\n",
    "        result.append(w)\n",
    "    data.content[i] = result"
   ]
  },
  {
   "cell_type": "markdown",
   "metadata": {
    "id": "0Y_57bwEpdGZ"
   },
   "source": [
    "## naver데이터 전처리"
   ]
  },
  {
   "cell_type": "code",
   "execution_count": 71,
   "metadata": {
    "colab": {
     "base_uri": "https://localhost:8080/",
     "height": 423
    },
    "id": "9Hq0vM9Hphn2",
    "outputId": "1d4a4d24-9108-48e5-a726-f8a91c48d4be"
   },
   "outputs": [
    {
     "data": {
      "text/html": [
       "<div>\n",
       "<style scoped>\n",
       "    .dataframe tbody tr th:only-of-type {\n",
       "        vertical-align: middle;\n",
       "    }\n",
       "\n",
       "    .dataframe tbody tr th {\n",
       "        vertical-align: top;\n",
       "    }\n",
       "\n",
       "    .dataframe thead th {\n",
       "        text-align: right;\n",
       "    }\n",
       "</style>\n",
       "<table border=\"1\" class=\"dataframe\">\n",
       "  <thead>\n",
       "    <tr style=\"text-align: right;\">\n",
       "      <th></th>\n",
       "      <th>content</th>\n",
       "    </tr>\n",
       "  </thead>\n",
       "  <tbody>\n",
       "    <tr>\n",
       "      <th>0</th>\n",
       "      <td>[여행, 다녀오다, 게으르다, 여행, 고민, 바라다, 올리다, 오늘, 리뷰, 편안,...</td>\n",
       "    </tr>\n",
       "    <tr>\n",
       "      <th>1</th>\n",
       "      <td>[다녀오다, 후기, 휴가, 틈나다, 호캉스, 다녀오다, 다녀오다, 주변, 아고다, ...</td>\n",
       "    </tr>\n",
       "    <tr>\n",
       "      <th>2</th>\n",
       "      <td>[여행, 고르다, 아무래도, 여행, 주제, 자체, 쉬, 편안, 쉬다, 중요, 부분,...</td>\n",
       "    </tr>\n",
       "    <tr>\n",
       "      <th>3</th>\n",
       "      <td>[오늘, 지나다, 휴가, 찐친, 다녀오다, 메이킷슬, 후기, 돈, 산, 인테리어, ...</td>\n",
       "    </tr>\n",
       "    <tr>\n",
       "      <th>4</th>\n",
       "      <td>[지인, 소개, 시우재, 마침, 이것저것, 기념일, 재다, 다녀오다, 멀리, 놀다,...</td>\n",
       "    </tr>\n",
       "    <tr>\n",
       "      <th>...</th>\n",
       "      <td>...</td>\n",
       "    </tr>\n",
       "    <tr>\n",
       "      <th>3731</th>\n",
       "      <td>[국내, 여행지, 여행, 맨션자두, 들어가다, 커다랗다, 널판지, 깔다, 발, 편하...</td>\n",
       "    </tr>\n",
       "    <tr>\n",
       "      <th>3732</th>\n",
       "      <td>[영이, 분기, 여행, 스테이솔, 여행지, 영이, 퇴근, 오빠, 먼저, 카페, 데이...</td>\n",
       "    </tr>\n",
       "    <tr>\n",
       "      <th>3733</th>\n",
       "      <td>[다귀, 쉼터, 오늘, 하얗다, 외관, 매듭, 스무, 시장, 포장, 시장, 네비찍,...</td>\n",
       "    </tr>\n",
       "    <tr>\n",
       "      <th>3734</th>\n",
       "      <td>[아파트먼트, 여행, 자주, 불구, 잡다, 놀다, 처음, 고르다, 급하다, 잡다, ...</td>\n",
       "    </tr>\n",
       "    <tr>\n",
       "      <th>3735</th>\n",
       "      <td>[포도봉, 미루다, 미루다, 숙소콕, 여행, 다행, 맞추다, 다녀오다, 예쁘다, 룰...</td>\n",
       "    </tr>\n",
       "  </tbody>\n",
       "</table>\n",
       "<p>3736 rows × 1 columns</p>\n",
       "</div>"
      ],
      "text/plain": [
       "                                                content\n",
       "0     [여행, 다녀오다, 게으르다, 여행, 고민, 바라다, 올리다, 오늘, 리뷰, 편안,...\n",
       "1     [다녀오다, 후기, 휴가, 틈나다, 호캉스, 다녀오다, 다녀오다, 주변, 아고다, ...\n",
       "2     [여행, 고르다, 아무래도, 여행, 주제, 자체, 쉬, 편안, 쉬다, 중요, 부분,...\n",
       "3     [오늘, 지나다, 휴가, 찐친, 다녀오다, 메이킷슬, 후기, 돈, 산, 인테리어, ...\n",
       "4     [지인, 소개, 시우재, 마침, 이것저것, 기념일, 재다, 다녀오다, 멀리, 놀다,...\n",
       "...                                                 ...\n",
       "3731  [국내, 여행지, 여행, 맨션자두, 들어가다, 커다랗다, 널판지, 깔다, 발, 편하...\n",
       "3732  [영이, 분기, 여행, 스테이솔, 여행지, 영이, 퇴근, 오빠, 먼저, 카페, 데이...\n",
       "3733  [다귀, 쉼터, 오늘, 하얗다, 외관, 매듭, 스무, 시장, 포장, 시장, 네비찍,...\n",
       "3734  [아파트먼트, 여행, 자주, 불구, 잡다, 놀다, 처음, 고르다, 급하다, 잡다, ...\n",
       "3735  [포도봉, 미루다, 미루다, 숙소콕, 여행, 다행, 맞추다, 다녀오다, 예쁘다, 룰...\n",
       "\n",
       "[3736 rows x 1 columns]"
      ]
     },
     "execution_count": 71,
     "metadata": {},
     "output_type": "execute_result"
    }
   ],
   "source": [
    "# 데이터 확인\n",
    "naver_data"
   ]
  },
  {
   "cell_type": "code",
   "execution_count": 74,
   "metadata": {
    "id": "KUXuuiIKpkzd"
   },
   "outputs": [],
   "source": [
    "# 인덱스 제거\n",
    "naver_data.drop('Unnamed: 0', axis=1, inplace=True)"
   ]
  },
  {
   "cell_type": "code",
   "execution_count": 75,
   "metadata": {
    "id": "71f3huevTo44"
   },
   "outputs": [],
   "source": [
    "for i in range(len(naver_data)):\n",
    "  naver_data.content[i] = sub_special_token(naver_data.content[i])"
   ]
  },
  {
   "cell_type": "code",
   "execution_count": 76,
   "metadata": {
    "colab": {
     "base_uri": "https://localhost:8080/",
     "height": 423
    },
    "id": "n6NxqLqEyryX",
    "outputId": "e8db3550-fd8a-41f7-a037-3c8b799cf4a2"
   },
   "outputs": [
    {
     "data": {
      "text/html": [
       "<div>\n",
       "<style scoped>\n",
       "    .dataframe tbody tr th:only-of-type {\n",
       "        vertical-align: middle;\n",
       "    }\n",
       "\n",
       "    .dataframe tbody tr th {\n",
       "        vertical-align: top;\n",
       "    }\n",
       "\n",
       "    .dataframe thead th {\n",
       "        text-align: right;\n",
       "    }\n",
       "</style>\n",
       "<table border=\"1\" class=\"dataframe\">\n",
       "  <thead>\n",
       "    <tr style=\"text-align: right;\">\n",
       "      <th></th>\n",
       "      <th>content</th>\n",
       "    </tr>\n",
       "  </thead>\n",
       "  <tbody>\n",
       "    <tr>\n",
       "      <th>0</th>\n",
       "      <td>[여행, 다녀오다, 게으르다, 여행, 고민, 바라다, 올리다, 오늘, 리뷰, 박, ...</td>\n",
       "    </tr>\n",
       "    <tr>\n",
       "      <th>1</th>\n",
       "      <td>[다녀오다, 후기, 휴가, 틈나다, 호캉스, 다녀오다, 다녀오다, 주변, 듯, 아고...</td>\n",
       "    </tr>\n",
       "    <tr>\n",
       "      <th>2</th>\n",
       "      <td>[여행, 쓰다, 거, 고르다, 아무래도, 여행, 주제, 자체, 쉬, 편안, 쉬다, ...</td>\n",
       "    </tr>\n",
       "    <tr>\n",
       "      <th>3</th>\n",
       "      <td>[오늘, 지나다, 휴가, 찐친, 다녀오다, 메이킷슬, 후기, 돈, 산, 스타, 인테...</td>\n",
       "    </tr>\n",
       "    <tr>\n",
       "      <th>4</th>\n",
       "      <td>[지인, 소개, 시우재, 마침, 이것저것, 기념일, 재다, 날, 다녀오다, 멀리, ...</td>\n",
       "    </tr>\n",
       "    <tr>\n",
       "      <th>...</th>\n",
       "      <td>...</td>\n",
       "    </tr>\n",
       "    <tr>\n",
       "      <th>3731</th>\n",
       "      <td>[국내, 여행지, 여행, 맨션자두, 들어가다, 커다랗다, 널판지, 깔다, 발, 편하...</td>\n",
       "    </tr>\n",
       "    <tr>\n",
       "      <th>3732</th>\n",
       "      <td>[영이, 분기, 여행, 스테이솔, 여행지, 편, 영이, 퇴근, 오빠, 먼저, 카페,...</td>\n",
       "    </tr>\n",
       "    <tr>\n",
       "      <th>3733</th>\n",
       "      <td>[다귀, 쉼터, 오늘, 째, 하얗다, 외관, 매듭, 스무, 날, 시장, 포장, 시장...</td>\n",
       "    </tr>\n",
       "    <tr>\n",
       "      <th>3734</th>\n",
       "      <td>[아파트먼트, 여행, 자주, 불구, 잡다, 놀다, 거, 처음, 고르다, 급하다, 잡...</td>\n",
       "    </tr>\n",
       "    <tr>\n",
       "      <th>3735</th>\n",
       "      <td>[포도봉, 미루다, 미루다, 숙소콕, 여행, 다행, 맞추다, 다녀오다, 찾다, 정말...</td>\n",
       "    </tr>\n",
       "  </tbody>\n",
       "</table>\n",
       "<p>3736 rows × 1 columns</p>\n",
       "</div>"
      ],
      "text/plain": [
       "                                                content\n",
       "0     [여행, 다녀오다, 게으르다, 여행, 고민, 바라다, 올리다, 오늘, 리뷰, 박, ...\n",
       "1     [다녀오다, 후기, 휴가, 틈나다, 호캉스, 다녀오다, 다녀오다, 주변, 듯, 아고...\n",
       "2     [여행, 쓰다, 거, 고르다, 아무래도, 여행, 주제, 자체, 쉬, 편안, 쉬다, ...\n",
       "3     [오늘, 지나다, 휴가, 찐친, 다녀오다, 메이킷슬, 후기, 돈, 산, 스타, 인테...\n",
       "4     [지인, 소개, 시우재, 마침, 이것저것, 기념일, 재다, 날, 다녀오다, 멀리, ...\n",
       "...                                                 ...\n",
       "3731  [국내, 여행지, 여행, 맨션자두, 들어가다, 커다랗다, 널판지, 깔다, 발, 편하...\n",
       "3732  [영이, 분기, 여행, 스테이솔, 여행지, 편, 영이, 퇴근, 오빠, 먼저, 카페,...\n",
       "3733  [다귀, 쉼터, 오늘, 째, 하얗다, 외관, 매듭, 스무, 날, 시장, 포장, 시장...\n",
       "3734  [아파트먼트, 여행, 자주, 불구, 잡다, 놀다, 거, 처음, 고르다, 급하다, 잡...\n",
       "3735  [포도봉, 미루다, 미루다, 숙소콕, 여행, 다행, 맞추다, 다녀오다, 찾다, 정말...\n",
       "\n",
       "[3736 rows x 1 columns]"
      ]
     },
     "execution_count": 76,
     "metadata": {},
     "output_type": "execute_result"
    }
   ],
   "source": [
    "naver_data"
   ]
  },
  {
   "cell_type": "code",
   "execution_count": 125,
   "metadata": {
    "id": "3xn5mHZeqLX7"
   },
   "outputs": [],
   "source": [
    "#클린징\n",
    "word_cleansing(naver_data)"
   ]
  },
  {
   "cell_type": "code",
   "execution_count": 78,
   "metadata": {
    "colab": {
     "base_uri": "https://localhost:8080/",
     "height": 423
    },
    "id": "-0gSTtnfqRNq",
    "outputId": "53e54c43-76b7-409e-ca33-42b80157d067"
   },
   "outputs": [
    {
     "data": {
      "text/html": [
       "<div>\n",
       "<style scoped>\n",
       "    .dataframe tbody tr th:only-of-type {\n",
       "        vertical-align: middle;\n",
       "    }\n",
       "\n",
       "    .dataframe tbody tr th {\n",
       "        vertical-align: top;\n",
       "    }\n",
       "\n",
       "    .dataframe thead th {\n",
       "        text-align: right;\n",
       "    }\n",
       "</style>\n",
       "<table border=\"1\" class=\"dataframe\">\n",
       "  <thead>\n",
       "    <tr style=\"text-align: right;\">\n",
       "      <th></th>\n",
       "      <th>content</th>\n",
       "    </tr>\n",
       "  </thead>\n",
       "  <tbody>\n",
       "    <tr>\n",
       "      <th>0</th>\n",
       "      <td>[여행, 다녀오다, 게으르다, 여행, 고민, 바라다, 올리다, 오늘, 편안, 쾌적,...</td>\n",
       "    </tr>\n",
       "    <tr>\n",
       "      <th>1</th>\n",
       "      <td>[다녀오다, 후기, 휴가, 틈나다, 호캉스, 다녀오다, 다녀오다, 주변, 아고다, ...</td>\n",
       "    </tr>\n",
       "    <tr>\n",
       "      <th>2</th>\n",
       "      <td>[여행, 고르다, 아무래도, 여행, 주제, 자체, 쉬, 편안, 쉬다, 중요, 부분,...</td>\n",
       "    </tr>\n",
       "    <tr>\n",
       "      <th>3</th>\n",
       "      <td>[오늘, 지나다, 휴가, 찐친, 다녀오다, 메이킷슬, 후기, 돈, 산, 인테리어, ...</td>\n",
       "    </tr>\n",
       "    <tr>\n",
       "      <th>4</th>\n",
       "      <td>[지인, 소개, 시우재, 마침, 이것저것, 기념일, 재다, 다녀오다, 멀리, 놀다,...</td>\n",
       "    </tr>\n",
       "    <tr>\n",
       "      <th>...</th>\n",
       "      <td>...</td>\n",
       "    </tr>\n",
       "    <tr>\n",
       "      <th>3731</th>\n",
       "      <td>[국내, 여행지, 여행, 맨션자두, 들어가다, 커다랗다, 널판지, 깔다, 발, 편하...</td>\n",
       "    </tr>\n",
       "    <tr>\n",
       "      <th>3732</th>\n",
       "      <td>[영이, 분기, 여행, 스테이솔, 여행지, 영이, 퇴근, 오빠, 먼저, 카페, 데이...</td>\n",
       "    </tr>\n",
       "    <tr>\n",
       "      <th>3733</th>\n",
       "      <td>[다귀, 쉼터, 오늘, 하얗다, 외관, 매듭, 스무, 시장, 포장, 시장, 네비찍,...</td>\n",
       "    </tr>\n",
       "    <tr>\n",
       "      <th>3734</th>\n",
       "      <td>[아파트먼트, 여행, 자주, 불구, 잡다, 놀다, 처음, 고르다, 급하다, 잡다, ...</td>\n",
       "    </tr>\n",
       "    <tr>\n",
       "      <th>3735</th>\n",
       "      <td>[포도봉, 미루다, 미루다, 숙소콕, 여행, 다행, 맞추다, 다녀오다, 예쁘다, 룰...</td>\n",
       "    </tr>\n",
       "  </tbody>\n",
       "</table>\n",
       "<p>3736 rows × 1 columns</p>\n",
       "</div>"
      ],
      "text/plain": [
       "                                                content\n",
       "0     [여행, 다녀오다, 게으르다, 여행, 고민, 바라다, 올리다, 오늘, 편안, 쾌적,...\n",
       "1     [다녀오다, 후기, 휴가, 틈나다, 호캉스, 다녀오다, 다녀오다, 주변, 아고다, ...\n",
       "2     [여행, 고르다, 아무래도, 여행, 주제, 자체, 쉬, 편안, 쉬다, 중요, 부분,...\n",
       "3     [오늘, 지나다, 휴가, 찐친, 다녀오다, 메이킷슬, 후기, 돈, 산, 인테리어, ...\n",
       "4     [지인, 소개, 시우재, 마침, 이것저것, 기념일, 재다, 다녀오다, 멀리, 놀다,...\n",
       "...                                                 ...\n",
       "3731  [국내, 여행지, 여행, 맨션자두, 들어가다, 커다랗다, 널판지, 깔다, 발, 편하...\n",
       "3732  [영이, 분기, 여행, 스테이솔, 여행지, 영이, 퇴근, 오빠, 먼저, 카페, 데이...\n",
       "3733  [다귀, 쉼터, 오늘, 하얗다, 외관, 매듭, 스무, 시장, 포장, 시장, 네비찍,...\n",
       "3734  [아파트먼트, 여행, 자주, 불구, 잡다, 놀다, 처음, 고르다, 급하다, 잡다, ...\n",
       "3735  [포도봉, 미루다, 미루다, 숙소콕, 여행, 다행, 맞추다, 다녀오다, 예쁘다, 룰...\n",
       "\n",
       "[3736 rows x 1 columns]"
      ]
     },
     "execution_count": 78,
     "metadata": {},
     "output_type": "execute_result"
    }
   ],
   "source": [
    "naver_data"
   ]
  },
  {
   "cell_type": "markdown",
   "metadata": {
    "id": "LtopmzNWr4e2"
   },
   "source": [
    "## 인스타그램 데이터 전처리"
   ]
  },
  {
   "cell_type": "code",
   "execution_count": 83,
   "metadata": {
    "colab": {
     "base_uri": "https://localhost:8080/",
     "height": 614
    },
    "id": "NJge9do4r-NY",
    "outputId": "9bed1e9c-6108-413f-c50d-569020dd9b21"
   },
   "outputs": [
    {
     "data": {
      "text/html": [
       "<div>\n",
       "<style scoped>\n",
       "    .dataframe tbody tr th:only-of-type {\n",
       "        vertical-align: middle;\n",
       "    }\n",
       "\n",
       "    .dataframe tbody tr th {\n",
       "        vertical-align: top;\n",
       "    }\n",
       "\n",
       "    .dataframe thead th {\n",
       "        text-align: right;\n",
       "    }\n",
       "</style>\n",
       "<table border=\"1\" class=\"dataframe\">\n",
       "  <thead>\n",
       "    <tr style=\"text-align: right;\">\n",
       "      <th></th>\n",
       "      <th>Unnamed: 0</th>\n",
       "      <th>content</th>\n",
       "      <th>date</th>\n",
       "      <th>like</th>\n",
       "      <th>tags</th>\n",
       "      <th>name</th>\n",
       "      <th>overlap</th>\n",
       "      <th>place</th>\n",
       "    </tr>\n",
       "  </thead>\n",
       "  <tbody>\n",
       "    <tr>\n",
       "      <th>0</th>\n",
       "      <td>0</td>\n",
       "      <td>[파도의무늬오션뷰, 무늬, 무늬, 물결, 일렁이다, 반짝거리다, 철썩, 철썩, 치다...</td>\n",
       "      <td>2021-09-06</td>\n",
       "      <td>39</td>\n",
       "      <td>['#데일리감성속초로', '#데일리감성_속초강원도', '#데일리감성_강원——————...</td>\n",
       "      <td>파도의무늬</td>\n",
       "      <td>1</td>\n",
       "      <td>NaN</td>\n",
       "    </tr>\n",
       "    <tr>\n",
       "      <th>1</th>\n",
       "      <td>1</td>\n",
       "      <td>[시호일시간, 흔적, 담다, 시호, 시호, 번화가, 유명, 흔적, 품다, 주택, 상...</td>\n",
       "      <td>2021-09-03</td>\n",
       "      <td>12</td>\n",
       "      <td>['#데일리감성강릉으로', '#데일리감성_강릉강원도', '#데일리감성_강원—————...</td>\n",
       "      <td>스테이 시호일</td>\n",
       "      <td>1</td>\n",
       "      <td>NaN</td>\n",
       "    </tr>\n",
       "    <tr>\n",
       "      <th>2</th>\n",
       "      <td>2</td>\n",
       "      <td>[까맣다, 돌멩이, 조식, 예쁘다, 까맣다, 돌멩이, 까맣다, 돌멩이, 가족, 커플...</td>\n",
       "      <td>2021-09-03</td>\n",
       "      <td>33</td>\n",
       "      <td>['#데일리감성제주도', '#데일리감성_제주—————————————————']</td>\n",
       "      <td>까만돌멩이</td>\n",
       "      <td>1</td>\n",
       "      <td>제주특별자치도 제주시 구좌읍 계룡길 32</td>\n",
       "    </tr>\n",
       "    <tr>\n",
       "      <th>3</th>\n",
       "      <td>3</td>\n",
       "      <td>[권장, 가득, 권장, 권장, 자연경관, 두르다, 쌓이다, 마당, 힐, 링, 판, ...</td>\n",
       "      <td>2021-09-02</td>\n",
       "      <td>36</td>\n",
       "      <td>['#데일리감성단양으로', '#데일리감성_단양충청북도', '#데일리감성_충북————...</td>\n",
       "      <td>권장사양</td>\n",
       "      <td>1</td>\n",
       "      <td>NaN</td>\n",
       "    </tr>\n",
       "    <tr>\n",
       "      <th>4</th>\n",
       "      <td>4</td>\n",
       "      <td>[라온가, 따뜻, 힐링, 라온, 온, 주택, 개조, 라온, 우리말, 즐겁다, 뜻, ...</td>\n",
       "      <td>2021-09-01</td>\n",
       "      <td>24</td>\n",
       "      <td>['#데일리감성강릉으로', '#데일리감성_강릉강원도', '#데일리감성_강원—————...</td>\n",
       "      <td>라온가</td>\n",
       "      <td>1</td>\n",
       "      <td>NaN</td>\n",
       "    </tr>\n",
       "    <tr>\n",
       "      <th>...</th>\n",
       "      <td>...</td>\n",
       "      <td>...</td>\n",
       "      <td>...</td>\n",
       "      <td>...</td>\n",
       "      <td>...</td>\n",
       "      <td>...</td>\n",
       "      <td>...</td>\n",
       "      <td>...</td>\n",
       "    </tr>\n",
       "    <tr>\n",
       "      <th>604</th>\n",
       "      <td>604</td>\n",
       "      <td>[폭, 그림, 오션뷰, 액자, 창문, 너머, 바다, 감성숙소랍니돠, 미니멀리즘, 추...</td>\n",
       "      <td>2021-06-24</td>\n",
       "      <td>142</td>\n",
       "      <td>['#제주', '#솔트', '#제주숙소', '#제주여행', '#제주숙소추천', '#...</td>\n",
       "      <td>솔트</td>\n",
       "      <td>2</td>\n",
       "      <td>NaN</td>\n",
       "    </tr>\n",
       "    <tr>\n",
       "      <th>605</th>\n",
       "      <td>605</td>\n",
       "      <td>[리버뷰, 피그멜리온이펙, 트다, 리버, 마운틴뷰, 월풀스파, 즐기다, 뷰맛, 원룸...</td>\n",
       "      <td>2021-06-15</td>\n",
       "      <td>87</td>\n",
       "      <td>['#춘천', '#피그멜리온이펙트', '#춘천숙소', '#춘천여행', '#춘천숙소추...</td>\n",
       "      <td>피그멜리온이펙트</td>\n",
       "      <td>2</td>\n",
       "      <td>강원도 춘천시 서면 경춘로 405</td>\n",
       "    </tr>\n",
       "    <tr>\n",
       "      <th>606</th>\n",
       "      <td>606</td>\n",
       "      <td>[시골, 동네, 오붓, 편안, 밤, 논밭뷰, 여유, 만끽, 힐링, 게스트하우스, 사...</td>\n",
       "      <td>2021-04-21</td>\n",
       "      <td>68</td>\n",
       "      <td>['#곡성', '#품안의밤', '#곡성숙소', '#곡성여행', '#곡성숙소추천', ...</td>\n",
       "      <td>품안의밤</td>\n",
       "      <td>2</td>\n",
       "      <td>NaN</td>\n",
       "    </tr>\n",
       "    <tr>\n",
       "      <th>607</th>\n",
       "      <td>607</td>\n",
       "      <td>[다녀오다, 웨딩촬영지, 유명, 더브리앙, 뜨다, 화이트, 앤, 우드, 톤, 좋아하...</td>\n",
       "      <td>2021-04-19</td>\n",
       "      <td>57</td>\n",
       "      <td>['#강릉', '#더브리앙뜨', '#강릉숙소', '#강릉여행', '#강릉데이트', ...</td>\n",
       "      <td>더브리앙뜨</td>\n",
       "      <td>2</td>\n",
       "      <td>강원도 강릉시 사천면 중앙서로 92-43</td>\n",
       "    </tr>\n",
       "    <tr>\n",
       "      <th>608</th>\n",
       "      <td>608</td>\n",
       "      <td>[고풍스, 런, 미칀, 한옥뷰, 한라궁, 아침, 눈, 뜨다, 한옥정원뷰, 제주오션뷰...</td>\n",
       "      <td>2021-03-19</td>\n",
       "      <td>90</td>\n",
       "      <td>['#제주도', '#한라궁호텔', '#한라궁', '#제주숙소', '#감성숙소', '...</td>\n",
       "      <td>한라궁호텔</td>\n",
       "      <td>2</td>\n",
       "      <td>제주특별자치도 서귀포시 정방연로 6</td>\n",
       "    </tr>\n",
       "  </tbody>\n",
       "</table>\n",
       "<p>609 rows × 8 columns</p>\n",
       "</div>"
      ],
      "text/plain": [
       "     Unnamed: 0  ...                   place\n",
       "0             0  ...                     NaN\n",
       "1             1  ...                     NaN\n",
       "2             2  ...  제주특별자치도 제주시 구좌읍 계룡길 32\n",
       "3             3  ...                     NaN\n",
       "4             4  ...                     NaN\n",
       "..          ...  ...                     ...\n",
       "604         604  ...                     NaN\n",
       "605         605  ...      강원도 춘천시 서면 경춘로 405\n",
       "606         606  ...                     NaN\n",
       "607         607  ...  강원도 강릉시 사천면 중앙서로 92-43\n",
       "608         608  ...     제주특별자치도 서귀포시 정방연로 6\n",
       "\n",
       "[609 rows x 8 columns]"
      ]
     },
     "execution_count": 83,
     "metadata": {},
     "output_type": "execute_result"
    }
   ],
   "source": [
    "# 데이터 확인\n",
    "insta_data"
   ]
  },
  {
   "cell_type": "code",
   "execution_count": 84,
   "metadata": {
    "colab": {
     "base_uri": "https://localhost:8080/",
     "height": 361
    },
    "id": "sUrbjnVosFMa",
    "outputId": "ba3ce095-e555-4540-f0d5-c55bab608062"
   },
   "outputs": [
    {
     "ename": "TypeError",
     "evalue": "ignored",
     "output_type": "error",
     "traceback": [
      "\u001b[0;31m---------------------------------------------------------------------------\u001b[0m",
      "\u001b[0;31mTypeError\u001b[0m                                 Traceback (most recent call last)",
      "\u001b[0;32m<ipython-input-84-a5cddf6ef5d6>\u001b[0m in \u001b[0;36m<module>\u001b[0;34m()\u001b[0m\n\u001b[1;32m      1\u001b[0m \u001b[0;31m# 1차 클린징(영어, 특수문자, 숫자제거)\u001b[0m\u001b[0;34m\u001b[0m\u001b[0;34m\u001b[0m\u001b[0;34m\u001b[0m\u001b[0m\n\u001b[1;32m      2\u001b[0m \u001b[0;32mfor\u001b[0m \u001b[0mi\u001b[0m \u001b[0;32min\u001b[0m \u001b[0mrange\u001b[0m\u001b[0;34m(\u001b[0m\u001b[0mlen\u001b[0m\u001b[0;34m(\u001b[0m\u001b[0minsta_data\u001b[0m\u001b[0;34m.\u001b[0m\u001b[0mcontent\u001b[0m\u001b[0;34m)\u001b[0m\u001b[0;34m)\u001b[0m\u001b[0;34m:\u001b[0m\u001b[0;34m\u001b[0m\u001b[0;34m\u001b[0m\u001b[0m\n\u001b[0;32m----> 3\u001b[0;31m   \u001b[0minsta_data\u001b[0m\u001b[0;34m.\u001b[0m\u001b[0mcontent\u001b[0m\u001b[0;34m[\u001b[0m\u001b[0mi\u001b[0m\u001b[0;34m]\u001b[0m \u001b[0;34m=\u001b[0m \u001b[0msub_special\u001b[0m\u001b[0;34m(\u001b[0m\u001b[0minsta_data\u001b[0m\u001b[0;34m.\u001b[0m\u001b[0mcontent\u001b[0m\u001b[0;34m[\u001b[0m\u001b[0mi\u001b[0m\u001b[0;34m]\u001b[0m\u001b[0;34m)\u001b[0m\u001b[0;34m\u001b[0m\u001b[0;34m\u001b[0m\u001b[0m\n\u001b[0m",
      "\u001b[0;32m<ipython-input-68-dd361b1774a2>\u001b[0m in \u001b[0;36msub_special\u001b[0;34m(s)\u001b[0m\n\u001b[1;32m      1\u001b[0m \u001b[0;31m#\"\"\"한글빼고 전부 제거\"\"\"\u001b[0m\u001b[0;34m\u001b[0m\u001b[0;34m\u001b[0m\u001b[0;34m\u001b[0m\u001b[0m\n\u001b[1;32m      2\u001b[0m \u001b[0;32mdef\u001b[0m \u001b[0msub_special\u001b[0m\u001b[0;34m(\u001b[0m\u001b[0ms\u001b[0m\u001b[0;34m)\u001b[0m\u001b[0;34m:\u001b[0m\u001b[0;34m\u001b[0m\u001b[0;34m\u001b[0m\u001b[0m\n\u001b[0;32m----> 3\u001b[0;31m   \u001b[0mrs\u001b[0m \u001b[0;34m=\u001b[0m \u001b[0mre\u001b[0m\u001b[0;34m.\u001b[0m\u001b[0msub\u001b[0m\u001b[0;34m(\u001b[0m\u001b[0;34mr'[^가-힣]'\u001b[0m\u001b[0;34m,\u001b[0m\u001b[0;34m' '\u001b[0m\u001b[0;34m,\u001b[0m\u001b[0ms\u001b[0m\u001b[0;34m)\u001b[0m\u001b[0;34m\u001b[0m\u001b[0;34m\u001b[0m\u001b[0m\n\u001b[0m\u001b[1;32m      4\u001b[0m   \u001b[0mrr\u001b[0m \u001b[0;34m=\u001b[0m \u001b[0mre\u001b[0m\u001b[0;34m.\u001b[0m\u001b[0msub\u001b[0m\u001b[0;34m(\u001b[0m\u001b[0;34m' +'\u001b[0m\u001b[0;34m,\u001b[0m \u001b[0;34m' '\u001b[0m\u001b[0;34m,\u001b[0m \u001b[0mrs\u001b[0m\u001b[0;34m)\u001b[0m\u001b[0;34m\u001b[0m\u001b[0;34m\u001b[0m\u001b[0m\n\u001b[1;32m      5\u001b[0m   \u001b[0;32mreturn\u001b[0m \u001b[0mrr\u001b[0m\u001b[0;34m\u001b[0m\u001b[0;34m\u001b[0m\u001b[0m\n",
      "\u001b[0;32m/usr/lib/python3.7/re.py\u001b[0m in \u001b[0;36msub\u001b[0;34m(pattern, repl, string, count, flags)\u001b[0m\n\u001b[1;32m    192\u001b[0m     \u001b[0ma\u001b[0m \u001b[0mcallable\u001b[0m\u001b[0;34m,\u001b[0m \u001b[0mit\u001b[0m\u001b[0;31m'\u001b[0m\u001b[0ms\u001b[0m \u001b[0mpassed\u001b[0m \u001b[0mthe\u001b[0m \u001b[0mMatch\u001b[0m \u001b[0mobject\u001b[0m \u001b[0;32mand\u001b[0m \u001b[0mmust\u001b[0m \u001b[0;32mreturn\u001b[0m\u001b[0;34m\u001b[0m\u001b[0;34m\u001b[0m\u001b[0m\n\u001b[1;32m    193\u001b[0m     a replacement string to be used.\"\"\"\n\u001b[0;32m--> 194\u001b[0;31m     \u001b[0;32mreturn\u001b[0m \u001b[0m_compile\u001b[0m\u001b[0;34m(\u001b[0m\u001b[0mpattern\u001b[0m\u001b[0;34m,\u001b[0m \u001b[0mflags\u001b[0m\u001b[0;34m)\u001b[0m\u001b[0;34m.\u001b[0m\u001b[0msub\u001b[0m\u001b[0;34m(\u001b[0m\u001b[0mrepl\u001b[0m\u001b[0;34m,\u001b[0m \u001b[0mstring\u001b[0m\u001b[0;34m,\u001b[0m \u001b[0mcount\u001b[0m\u001b[0;34m)\u001b[0m\u001b[0;34m\u001b[0m\u001b[0;34m\u001b[0m\u001b[0m\n\u001b[0m\u001b[1;32m    195\u001b[0m \u001b[0;34m\u001b[0m\u001b[0m\n\u001b[1;32m    196\u001b[0m \u001b[0;32mdef\u001b[0m \u001b[0msubn\u001b[0m\u001b[0;34m(\u001b[0m\u001b[0mpattern\u001b[0m\u001b[0;34m,\u001b[0m \u001b[0mrepl\u001b[0m\u001b[0;34m,\u001b[0m \u001b[0mstring\u001b[0m\u001b[0;34m,\u001b[0m \u001b[0mcount\u001b[0m\u001b[0;34m=\u001b[0m\u001b[0;36m0\u001b[0m\u001b[0;34m,\u001b[0m \u001b[0mflags\u001b[0m\u001b[0;34m=\u001b[0m\u001b[0;36m0\u001b[0m\u001b[0;34m)\u001b[0m\u001b[0;34m:\u001b[0m\u001b[0;34m\u001b[0m\u001b[0;34m\u001b[0m\u001b[0m\n",
      "\u001b[0;31mTypeError\u001b[0m: expected string or bytes-like object"
     ]
    }
   ],
   "source": [
    "# 1차 클린징(영어, 특수문자, 숫자제거)\n",
    "for i in range(len(insta_data.content)):\n",
    "  insta_data.content[i] = sub_special(insta_data.content[i])"
   ]
  },
  {
   "cell_type": "code",
   "execution_count": 85,
   "metadata": {
    "colab": {
     "base_uri": "https://localhost:8080/",
     "height": 355
    },
    "id": "fiSI3WnPtlHZ",
    "outputId": "f1936a5c-4e9b-46dc-bc8f-768dfddd7e44"
   },
   "outputs": [
    {
     "ename": "TypeError",
     "evalue": "ignored",
     "output_type": "error",
     "traceback": [
      "\u001b[0;31m---------------------------------------------------------------------------\u001b[0m",
      "\u001b[0;31mTypeError\u001b[0m                                 Traceback (most recent call last)",
      "\u001b[0;32m<ipython-input-85-268f8095b820>\u001b[0m in \u001b[0;36m<module>\u001b[0;34m()\u001b[0m\n\u001b[1;32m      1\u001b[0m \u001b[0;31m# 토큰화\u001b[0m\u001b[0;34m\u001b[0m\u001b[0;34m\u001b[0m\u001b[0;34m\u001b[0m\u001b[0m\n\u001b[1;32m      2\u001b[0m \u001b[0;32mfor\u001b[0m \u001b[0mi\u001b[0m \u001b[0;32min\u001b[0m \u001b[0mrange\u001b[0m\u001b[0;34m(\u001b[0m\u001b[0mlen\u001b[0m\u001b[0;34m(\u001b[0m\u001b[0minsta_data\u001b[0m\u001b[0;34m.\u001b[0m\u001b[0mcontent\u001b[0m\u001b[0;34m)\u001b[0m\u001b[0;34m)\u001b[0m\u001b[0;34m:\u001b[0m\u001b[0;34m\u001b[0m\u001b[0;34m\u001b[0m\u001b[0m\n\u001b[0;32m----> 3\u001b[0;31m   \u001b[0minsta_data\u001b[0m\u001b[0;34m.\u001b[0m\u001b[0mcontent\u001b[0m\u001b[0;34m[\u001b[0m\u001b[0mi\u001b[0m\u001b[0;34m]\u001b[0m\u001b[0;34m=\u001b[0m \u001b[0mtokenize\u001b[0m\u001b[0;34m(\u001b[0m\u001b[0minsta_data\u001b[0m\u001b[0;34m.\u001b[0m\u001b[0mcontent\u001b[0m\u001b[0;34m[\u001b[0m\u001b[0mi\u001b[0m\u001b[0;34m]\u001b[0m\u001b[0;34m)\u001b[0m\u001b[0;34m\u001b[0m\u001b[0;34m\u001b[0m\u001b[0m\n\u001b[0m",
      "\u001b[0;32m<ipython-input-67-0f43cb48a545>\u001b[0m in \u001b[0;36mtokenize\u001b[0;34m(sent)\u001b[0m\n\u001b[1;32m      1\u001b[0m \u001b[0;32mdef\u001b[0m \u001b[0mtokenize\u001b[0m\u001b[0;34m(\u001b[0m\u001b[0msent\u001b[0m\u001b[0;34m)\u001b[0m\u001b[0;34m:\u001b[0m\u001b[0;34m\u001b[0m\u001b[0;34m\u001b[0m\u001b[0m\n\u001b[0;32m----> 2\u001b[0;31m     \u001b[0mres\u001b[0m\u001b[0;34m,\u001b[0m \u001b[0mscore\u001b[0m \u001b[0;34m=\u001b[0m \u001b[0mkiwi\u001b[0m\u001b[0;34m.\u001b[0m\u001b[0manalyze\u001b[0m\u001b[0;34m(\u001b[0m\u001b[0msent\u001b[0m\u001b[0;34m)\u001b[0m\u001b[0;34m[\u001b[0m\u001b[0;36m0\u001b[0m\u001b[0;34m]\u001b[0m \u001b[0;31m# 첫번째 결과를 사용\u001b[0m\u001b[0;34m\u001b[0m\u001b[0;34m\u001b[0m\u001b[0m\n\u001b[0m\u001b[1;32m      3\u001b[0m     return [word + ('다' if tag.startswith('V') else '') # 동사에는 '다'를 붙여줌\n\u001b[1;32m      4\u001b[0m             \u001b[0;32mfor\u001b[0m \u001b[0mword\u001b[0m\u001b[0;34m,\u001b[0m \u001b[0mtag\u001b[0m\u001b[0;34m,\u001b[0m \u001b[0m_\u001b[0m\u001b[0;34m,\u001b[0m \u001b[0m_\u001b[0m \u001b[0;32min\u001b[0m \u001b[0mres\u001b[0m\u001b[0;34m\u001b[0m\u001b[0;34m\u001b[0m\u001b[0m\n\u001b[1;32m      5\u001b[0m             if not tag.startswith('E') and not tag.startswith('J') and not tag.startswith('S') and not tag.startswith('W') and word not in stopwords] # 조사, 어미, 특수기호 및 stopwords에 포함된 단어는 제거\n",
      "\u001b[0;31mTypeError\u001b[0m: 'kiwipiepy._res_iter' object is not subscriptable"
     ]
    }
   ],
   "source": [
    "# 토큰화\n",
    "for i in range(len(insta_data.content)):\n",
    "  insta_data.content[i]= tokenize(insta_data.content[i])"
   ]
  },
  {
   "cell_type": "code",
   "execution_count": 126,
   "metadata": {
    "colab": {
     "base_uri": "https://localhost:8080/"
    },
    "id": "pHchHAcSt6k9",
    "outputId": "99401e4e-a102-4b69-b54d-44b697753df7"
   },
   "outputs": [
    {
     "name": "stderr",
     "output_type": "stream",
     "text": [
      "/usr/local/lib/python3.7/dist-packages/ipykernel_launcher.py:7: SettingWithCopyWarning: \n",
      "A value is trying to be set on a copy of a slice from a DataFrame\n",
      "\n",
      "See the caveats in the documentation: https://pandas.pydata.org/pandas-docs/stable/user_guide/indexing.html#returning-a-view-versus-a-copy\n",
      "  import sys\n"
     ]
    }
   ],
   "source": [
    "# 2차 클린징(불용어 처리)\n",
    "word_cleansing(insta_data)"
   ]
  },
  {
   "cell_type": "code",
   "execution_count": null,
   "metadata": {
    "colab": {
     "base_uri": "https://localhost:8080/",
     "height": 108
    },
    "id": "Fk-Griq4vKNg",
    "outputId": "43e9a504-a2fe-4b93-a5f3-d38531f7f1c5"
   },
   "outputs": [
    {
     "data": {
      "application/vnd.google.colaboratory.intrinsic+json": {
       "type": "string"
      },
      "text/plain": [
       "'✅ #전주_다락..전주 한옥마을의 고풍스러운 한옥에서 소중한 추억을 선물 받을수 있는 \"다락\" 시골 할머니집에 놀러온듯한 느낌을 주는 아늑하면서 포근한 공간이다..전통적인 한옥을 경험해볼수 있는 다락1과 모던함과 한옥을 잘 어우러지도록 만든 다락2로 구성되어있으며 2인실부터 6인실까지 다양하게 갖춰져있어서 친구, 연인, 가족들과 함께 취향대로 골라갈수 있다. 마루에 앉아 정성스레 꾸며진 정원을 바라보며 도란도란 이야기 나누기 좋은 공간..아기자기한 소품 안에서는 주인장의 감성을 담아 더욱 옛스러움을 느낄수 있는 공간. 한옥마을 안 경기전 옆에 위치해 있기때문에 주변 관광하기에도 좋다..✔ 더 많은 전주숙소는 #감성숙소_전주✔ 더 많은 전라북도숙소는 #감성숙소_전라북도..#전라북도 #전주 #다락- - - - - - - - - - - - - - - - - - - - - - - - - - - - - -📍다락📍전북 전주시 완산구 경기전길 57-6📍평일 50,000원 (별하방, 비수기기준)📍예약문의 @darak1963 - - - - - - - - - - - - - - - - - - - - - - - - - - - - - -Contents by Insta. gamsung_curationImage source.insta by @darak1963insta by @__intelligent_ginsta by @hyun_hee____insta by @yujini_0929 blog by @yajac15blog by @duddnjsm.#전주여행 #전주한옥마을 #전주한옥마을숙박 #전주게하 #전주게스트하우스 #전주한옥스테이 #전주다락 #다락게스트하우스 #다락게하'"
      ]
     },
     "execution_count": 71,
     "metadata": {},
     "output_type": "execute_result"
    }
   ],
   "source": [
    "insta_data.content[149]"
   ]
  },
  {
   "cell_type": "code",
   "execution_count": 87,
   "metadata": {
    "id": "nJ_1SlAbvcad"
   },
   "outputs": [],
   "source": [
    "n_content = pd.DataFrame(naver_data.copy())\n",
    "# i_content = pd.DataFrame(insta_data.content.copy())"
   ]
  },
  {
   "cell_type": "code",
   "execution_count": 88,
   "metadata": {
    "id": "D-UzWRAbKQyr"
   },
   "outputs": [],
   "source": [
    "i_data = pd.DataFrame(insta_data[['Unnamed: 0', 'content']].copy())"
   ]
  },
  {
   "cell_type": "code",
   "execution_count": 89,
   "metadata": {
    "id": "i3JbNSoBKkp9"
   },
   "outputs": [],
   "source": [
    "i_data.columns = ['item_idx', 'content']"
   ]
  },
  {
   "cell_type": "code",
   "execution_count": 30,
   "metadata": {
    "colab": {
     "base_uri": "https://localhost:8080/",
     "height": 423
    },
    "id": "4chsKh8FKtwQ",
    "outputId": "c4b5e31c-046e-471c-fb4a-150269d13f23"
   },
   "outputs": [
    {
     "data": {
      "text/html": [
       "<div>\n",
       "<style scoped>\n",
       "    .dataframe tbody tr th:only-of-type {\n",
       "        vertical-align: middle;\n",
       "    }\n",
       "\n",
       "    .dataframe tbody tr th {\n",
       "        vertical-align: top;\n",
       "    }\n",
       "\n",
       "    .dataframe thead th {\n",
       "        text-align: right;\n",
       "    }\n",
       "</style>\n",
       "<table border=\"1\" class=\"dataframe\">\n",
       "  <thead>\n",
       "    <tr style=\"text-align: right;\">\n",
       "      <th></th>\n",
       "      <th>item_idx</th>\n",
       "      <th>content</th>\n",
       "    </tr>\n",
       "  </thead>\n",
       "  <tbody>\n",
       "    <tr>\n",
       "      <th>0</th>\n",
       "      <td>0</td>\n",
       "      <td>[파도의무늬오션뷰, 무늬, 무늬, 물결, 일렁이다, 반짝거리다, 철썩, 철썩, 치다...</td>\n",
       "    </tr>\n",
       "    <tr>\n",
       "      <th>1</th>\n",
       "      <td>1</td>\n",
       "      <td>[시호일시간, 흔적, 담다, 시호, 시호, 번화가, 유명, 흔적, 품다, 주택, 상...</td>\n",
       "    </tr>\n",
       "    <tr>\n",
       "      <th>2</th>\n",
       "      <td>2</td>\n",
       "      <td>[까맣다, 돌멩이, 조식, 예쁘다, 까맣다, 돌멩이, 까맣다, 돌멩이, 가족, 커플...</td>\n",
       "    </tr>\n",
       "    <tr>\n",
       "      <th>3</th>\n",
       "      <td>3</td>\n",
       "      <td>[권장, 가득, 권장, 권장, 자연경관, 두르다, 쌓이다, 마당, 힐, 링, 판, ...</td>\n",
       "    </tr>\n",
       "    <tr>\n",
       "      <th>4</th>\n",
       "      <td>4</td>\n",
       "      <td>[라온가, 따뜻, 힐링, 라온, 온, 주택, 개조, 라온, 우리말, 즐겁다, 뜻, ...</td>\n",
       "    </tr>\n",
       "    <tr>\n",
       "      <th>...</th>\n",
       "      <td>...</td>\n",
       "      <td>...</td>\n",
       "    </tr>\n",
       "    <tr>\n",
       "      <th>604</th>\n",
       "      <td>604</td>\n",
       "      <td>[폭, 그림, 오션뷰, 액자, 창문, 너머, 바다, 감성숙소랍니돠, 미니멀리즘, 추...</td>\n",
       "    </tr>\n",
       "    <tr>\n",
       "      <th>605</th>\n",
       "      <td>605</td>\n",
       "      <td>[리버뷰, 피그멜리온이펙, 트다, 리버, 마운틴뷰, 월풀스파, 즐기다, 뷰맛, 원룸...</td>\n",
       "    </tr>\n",
       "    <tr>\n",
       "      <th>606</th>\n",
       "      <td>606</td>\n",
       "      <td>[시골, 동네, 오붓, 편안, 밤, 논밭뷰, 여유, 만끽, 힐링, 게스트하우스, 사...</td>\n",
       "    </tr>\n",
       "    <tr>\n",
       "      <th>607</th>\n",
       "      <td>607</td>\n",
       "      <td>[다녀오다, 웨딩촬영지, 유명, 더브리앙, 뜨다, 화이트, 앤, 우드, 톤, 좋아하...</td>\n",
       "    </tr>\n",
       "    <tr>\n",
       "      <th>608</th>\n",
       "      <td>608</td>\n",
       "      <td>[고풍스, 런, 미칀, 한옥뷰, 한라궁, 아침, 눈, 뜨다, 한옥정원뷰, 제주오션뷰...</td>\n",
       "    </tr>\n",
       "  </tbody>\n",
       "</table>\n",
       "<p>609 rows × 2 columns</p>\n",
       "</div>"
      ],
      "text/plain": [
       "     item_idx                                            content\n",
       "0           0  [파도의무늬오션뷰, 무늬, 무늬, 물결, 일렁이다, 반짝거리다, 철썩, 철썩, 치다...\n",
       "1           1  [시호일시간, 흔적, 담다, 시호, 시호, 번화가, 유명, 흔적, 품다, 주택, 상...\n",
       "2           2  [까맣다, 돌멩이, 조식, 예쁘다, 까맣다, 돌멩이, 까맣다, 돌멩이, 가족, 커플...\n",
       "3           3  [권장, 가득, 권장, 권장, 자연경관, 두르다, 쌓이다, 마당, 힐, 링, 판, ...\n",
       "4           4  [라온가, 따뜻, 힐링, 라온, 온, 주택, 개조, 라온, 우리말, 즐겁다, 뜻, ...\n",
       "..        ...                                                ...\n",
       "604       604  [폭, 그림, 오션뷰, 액자, 창문, 너머, 바다, 감성숙소랍니돠, 미니멀리즘, 추...\n",
       "605       605  [리버뷰, 피그멜리온이펙, 트다, 리버, 마운틴뷰, 월풀스파, 즐기다, 뷰맛, 원룸...\n",
       "606       606  [시골, 동네, 오붓, 편안, 밤, 논밭뷰, 여유, 만끽, 힐링, 게스트하우스, 사...\n",
       "607       607  [다녀오다, 웨딩촬영지, 유명, 더브리앙, 뜨다, 화이트, 앤, 우드, 톤, 좋아하...\n",
       "608       608  [고풍스, 런, 미칀, 한옥뷰, 한라궁, 아침, 눈, 뜨다, 한옥정원뷰, 제주오션뷰...\n",
       "\n",
       "[609 rows x 2 columns]"
      ]
     },
     "execution_count": 30,
     "metadata": {},
     "output_type": "execute_result"
    }
   ],
   "source": [
    "i_data"
   ]
  },
  {
   "cell_type": "code",
   "execution_count": null,
   "metadata": {
    "colab": {
     "base_uri": "https://localhost:8080/",
     "height": 423
    },
    "id": "A_vIYw3RwKry",
    "outputId": "d4a5c151-d3a0-41c7-97ad-5a91b02030d6"
   },
   "outputs": [
    {
     "data": {
      "text/html": [
       "<div>\n",
       "<style scoped>\n",
       "    .dataframe tbody tr th:only-of-type {\n",
       "        vertical-align: middle;\n",
       "    }\n",
       "\n",
       "    .dataframe tbody tr th {\n",
       "        vertical-align: top;\n",
       "    }\n",
       "\n",
       "    .dataframe thead th {\n",
       "        text-align: right;\n",
       "    }\n",
       "</style>\n",
       "<table border=\"1\" class=\"dataframe\">\n",
       "  <thead>\n",
       "    <tr style=\"text-align: right;\">\n",
       "      <th></th>\n",
       "      <th>content</th>\n",
       "    </tr>\n",
       "  </thead>\n",
       "  <tbody>\n",
       "    <tr>\n",
       "      <th>0</th>\n",
       "      <td>[여행, 다녀오다, 게으르다, 여행, 고민, 바라다, 올리다, 오늘, 리뷰, 편안,...</td>\n",
       "    </tr>\n",
       "    <tr>\n",
       "      <th>1</th>\n",
       "      <td>[다녀오다, 후기, 휴가, 틈나다, 호캉스, 다녀오다, 다녀오다, 주변, 아고다, ...</td>\n",
       "    </tr>\n",
       "    <tr>\n",
       "      <th>2</th>\n",
       "      <td>[여행, 고르다, 아무래도, 여행, 주제, 자체, 쉬, 편안, 쉬다, 중요, 부분,...</td>\n",
       "    </tr>\n",
       "    <tr>\n",
       "      <th>3</th>\n",
       "      <td>[오늘, 지나다, 휴가, 찐친, 다녀오다, 메이킷슬, 후기, 돈, 산, 인테리어, ...</td>\n",
       "    </tr>\n",
       "    <tr>\n",
       "      <th>4</th>\n",
       "      <td>[지인, 소개, 시우재, 마침, 이것저것, 기념일, 재다, 다녀오다, 멀리, 놀다,...</td>\n",
       "    </tr>\n",
       "    <tr>\n",
       "      <th>...</th>\n",
       "      <td>...</td>\n",
       "    </tr>\n",
       "    <tr>\n",
       "      <th>3731</th>\n",
       "      <td>[국내, 여행지, 여행, 맨션자두, 들어가다, 커다랗다, 널판지, 깔다, 발, 편하...</td>\n",
       "    </tr>\n",
       "    <tr>\n",
       "      <th>3732</th>\n",
       "      <td>[영이, 분기, 여행, 스테이솔, 여행지, 영이, 퇴근, 오빠, 먼저, 카페, 데이...</td>\n",
       "    </tr>\n",
       "    <tr>\n",
       "      <th>3733</th>\n",
       "      <td>[다귀, 쉼터, 오늘, 하얗다, 외관, 매듭, 스무, 시장, 포장, 시장, 네비찍,...</td>\n",
       "    </tr>\n",
       "    <tr>\n",
       "      <th>3734</th>\n",
       "      <td>[아파트먼트, 여행, 자주, 불구, 잡다, 놀다, 처음, 고르다, 급하다, 잡다, ...</td>\n",
       "    </tr>\n",
       "    <tr>\n",
       "      <th>3735</th>\n",
       "      <td>[포도봉, 미루다, 미루다, 숙소콕, 여행, 다행, 맞추다, 다녀오다, 예쁘다, 룰...</td>\n",
       "    </tr>\n",
       "  </tbody>\n",
       "</table>\n",
       "<p>3736 rows × 1 columns</p>\n",
       "</div>"
      ],
      "text/plain": [
       "                                                content\n",
       "0     [여행, 다녀오다, 게으르다, 여행, 고민, 바라다, 올리다, 오늘, 리뷰, 편안,...\n",
       "1     [다녀오다, 후기, 휴가, 틈나다, 호캉스, 다녀오다, 다녀오다, 주변, 아고다, ...\n",
       "2     [여행, 고르다, 아무래도, 여행, 주제, 자체, 쉬, 편안, 쉬다, 중요, 부분,...\n",
       "3     [오늘, 지나다, 휴가, 찐친, 다녀오다, 메이킷슬, 후기, 돈, 산, 인테리어, ...\n",
       "4     [지인, 소개, 시우재, 마침, 이것저것, 기념일, 재다, 다녀오다, 멀리, 놀다,...\n",
       "...                                                 ...\n",
       "3731  [국내, 여행지, 여행, 맨션자두, 들어가다, 커다랗다, 널판지, 깔다, 발, 편하...\n",
       "3732  [영이, 분기, 여행, 스테이솔, 여행지, 영이, 퇴근, 오빠, 먼저, 카페, 데이...\n",
       "3733  [다귀, 쉼터, 오늘, 하얗다, 외관, 매듭, 스무, 시장, 포장, 시장, 네비찍,...\n",
       "3734  [아파트먼트, 여행, 자주, 불구, 잡다, 놀다, 처음, 고르다, 급하다, 잡다, ...\n",
       "3735  [포도봉, 미루다, 미루다, 숙소콕, 여행, 다행, 맞추다, 다녀오다, 예쁘다, 룰...\n",
       "\n",
       "[3736 rows x 1 columns]"
      ]
     },
     "execution_count": 25,
     "metadata": {},
     "output_type": "execute_result"
    }
   ],
   "source": [
    "n_content"
   ]
  },
  {
   "cell_type": "code",
   "execution_count": null,
   "metadata": {
    "colab": {
     "base_uri": "https://localhost:8080/",
     "height": 423
    },
    "id": "wIScT-Te38u_",
    "outputId": "26abfdd9-17ed-4669-95ae-ff16dcc55655"
   },
   "outputs": [
    {
     "data": {
      "text/html": [
       "<div>\n",
       "<style scoped>\n",
       "    .dataframe tbody tr th:only-of-type {\n",
       "        vertical-align: middle;\n",
       "    }\n",
       "\n",
       "    .dataframe tbody tr th {\n",
       "        vertical-align: top;\n",
       "    }\n",
       "\n",
       "    .dataframe thead th {\n",
       "        text-align: right;\n",
       "    }\n",
       "</style>\n",
       "<table border=\"1\" class=\"dataframe\">\n",
       "  <thead>\n",
       "    <tr style=\"text-align: right;\">\n",
       "      <th></th>\n",
       "      <th>content</th>\n",
       "    </tr>\n",
       "  </thead>\n",
       "  <tbody>\n",
       "    <tr>\n",
       "      <th>0</th>\n",
       "      <td>[파도의무늬오션뷰, 무늬, 무늬, 물결, 일렁이다, 반짝거리다, 철썩, 철썩, 치다...</td>\n",
       "    </tr>\n",
       "    <tr>\n",
       "      <th>1</th>\n",
       "      <td>[시호일시간, 흔적, 담다, 시호, 시호, 번화가, 유명, 흔적, 품다, 주택, 상...</td>\n",
       "    </tr>\n",
       "    <tr>\n",
       "      <th>2</th>\n",
       "      <td>[까맣다, 돌멩이, 조식, 예쁘다, 까맣다, 돌멩이, 까맣다, 돌멩이, 가족, 커플...</td>\n",
       "    </tr>\n",
       "    <tr>\n",
       "      <th>3</th>\n",
       "      <td>[권장, 가득, 권장, 권장, 자연경관, 두르다, 쌓이다, 마당, 힐, 링, 판, ...</td>\n",
       "    </tr>\n",
       "    <tr>\n",
       "      <th>4</th>\n",
       "      <td>[라온가, 따뜻, 힐링, 라온, 온, 주택, 개조, 라온, 우리말, 즐겁다, 뜻, ...</td>\n",
       "    </tr>\n",
       "    <tr>\n",
       "      <th>...</th>\n",
       "      <td>...</td>\n",
       "    </tr>\n",
       "    <tr>\n",
       "      <th>604</th>\n",
       "      <td>[폭, 그림, 오션뷰, 액자, 창문, 너머, 바다, 감성숙소랍니돠, 미니멀리즘, 추...</td>\n",
       "    </tr>\n",
       "    <tr>\n",
       "      <th>605</th>\n",
       "      <td>[리버뷰, 피그멜리온이펙, 트다, 리버, 마운틴뷰, 월풀스파, 즐기다, 뷰맛, 원룸...</td>\n",
       "    </tr>\n",
       "    <tr>\n",
       "      <th>606</th>\n",
       "      <td>[시골, 동네, 오붓, 편안, 밤, 논밭뷰, 여유, 만끽, 힐링, 게스트하우스, 사...</td>\n",
       "    </tr>\n",
       "    <tr>\n",
       "      <th>607</th>\n",
       "      <td>[다녀오다, 웨딩촬영지, 유명, 더브리앙, 뜨다, 화이트, 앤, 우드, 톤, 좋아하...</td>\n",
       "    </tr>\n",
       "    <tr>\n",
       "      <th>608</th>\n",
       "      <td>[고풍스, 런, 미칀, 한옥뷰, 한라궁, 아침, 눈, 뜨다, 한옥정원뷰, 제주오션뷰...</td>\n",
       "    </tr>\n",
       "  </tbody>\n",
       "</table>\n",
       "<p>609 rows × 1 columns</p>\n",
       "</div>"
      ],
      "text/plain": [
       "                                               content\n",
       "0    [파도의무늬오션뷰, 무늬, 무늬, 물결, 일렁이다, 반짝거리다, 철썩, 철썩, 치다...\n",
       "1    [시호일시간, 흔적, 담다, 시호, 시호, 번화가, 유명, 흔적, 품다, 주택, 상...\n",
       "2    [까맣다, 돌멩이, 조식, 예쁘다, 까맣다, 돌멩이, 까맣다, 돌멩이, 가족, 커플...\n",
       "3    [권장, 가득, 권장, 권장, 자연경관, 두르다, 쌓이다, 마당, 힐, 링, 판, ...\n",
       "4    [라온가, 따뜻, 힐링, 라온, 온, 주택, 개조, 라온, 우리말, 즐겁다, 뜻, ...\n",
       "..                                                 ...\n",
       "604  [폭, 그림, 오션뷰, 액자, 창문, 너머, 바다, 감성숙소랍니돠, 미니멀리즘, 추...\n",
       "605  [리버뷰, 피그멜리온이펙, 트다, 리버, 마운틴뷰, 월풀스파, 즐기다, 뷰맛, 원룸...\n",
       "606  [시골, 동네, 오붓, 편안, 밤, 논밭뷰, 여유, 만끽, 힐링, 게스트하우스, 사...\n",
       "607  [다녀오다, 웨딩촬영지, 유명, 더브리앙, 뜨다, 화이트, 앤, 우드, 톤, 좋아하...\n",
       "608  [고풍스, 런, 미칀, 한옥뷰, 한라궁, 아침, 눈, 뜨다, 한옥정원뷰, 제주오션뷰...\n",
       "\n",
       "[609 rows x 1 columns]"
      ]
     },
     "execution_count": 26,
     "metadata": {},
     "output_type": "execute_result"
    }
   ],
   "source": [
    "i_content"
   ]
  },
  {
   "cell_type": "code",
   "execution_count": null,
   "metadata": {
    "id": "zlSEkyQWv5UW"
   },
   "outputs": [],
   "source": [
    "# all_content = pd.concat([i_content, n_content])"
   ]
  },
  {
   "cell_type": "code",
   "execution_count": 90,
   "metadata": {
    "id": "RDTLKUkhLSqc"
   },
   "outputs": [],
   "source": [
    "all_items = pd.concat([i_data, n_content])"
   ]
  },
  {
   "cell_type": "code",
   "execution_count": 91,
   "metadata": {
    "colab": {
     "base_uri": "https://localhost:8080/",
     "height": 423
    },
    "id": "AJt7NEhpLaRy",
    "outputId": "2d2c1700-5cac-4af8-f328-14764a924987"
   },
   "outputs": [
    {
     "data": {
      "text/html": [
       "<div>\n",
       "<style scoped>\n",
       "    .dataframe tbody tr th:only-of-type {\n",
       "        vertical-align: middle;\n",
       "    }\n",
       "\n",
       "    .dataframe tbody tr th {\n",
       "        vertical-align: top;\n",
       "    }\n",
       "\n",
       "    .dataframe thead th {\n",
       "        text-align: right;\n",
       "    }\n",
       "</style>\n",
       "<table border=\"1\" class=\"dataframe\">\n",
       "  <thead>\n",
       "    <tr style=\"text-align: right;\">\n",
       "      <th></th>\n",
       "      <th>item_idx</th>\n",
       "      <th>content</th>\n",
       "    </tr>\n",
       "  </thead>\n",
       "  <tbody>\n",
       "    <tr>\n",
       "      <th>0</th>\n",
       "      <td>0.0</td>\n",
       "      <td>[파도의무늬오션뷰, 무늬, 무늬, 물결, 일렁이다, 반짝거리다, 철썩, 철썩, 치다...</td>\n",
       "    </tr>\n",
       "    <tr>\n",
       "      <th>1</th>\n",
       "      <td>1.0</td>\n",
       "      <td>[시호일시간, 흔적, 담다, 시호, 시호, 번화가, 유명, 흔적, 품다, 주택, 상...</td>\n",
       "    </tr>\n",
       "    <tr>\n",
       "      <th>2</th>\n",
       "      <td>2.0</td>\n",
       "      <td>[까맣다, 돌멩이, 조식, 예쁘다, 까맣다, 돌멩이, 까맣다, 돌멩이, 가족, 커플...</td>\n",
       "    </tr>\n",
       "    <tr>\n",
       "      <th>3</th>\n",
       "      <td>3.0</td>\n",
       "      <td>[권장, 가득, 권장, 권장, 자연경관, 두르다, 쌓이다, 마당, 힐, 링, 판, ...</td>\n",
       "    </tr>\n",
       "    <tr>\n",
       "      <th>4</th>\n",
       "      <td>4.0</td>\n",
       "      <td>[라온가, 따뜻, 힐링, 라온, 온, 주택, 개조, 라온, 우리말, 즐겁다, 뜻, ...</td>\n",
       "    </tr>\n",
       "    <tr>\n",
       "      <th>...</th>\n",
       "      <td>...</td>\n",
       "      <td>...</td>\n",
       "    </tr>\n",
       "    <tr>\n",
       "      <th>3731</th>\n",
       "      <td>NaN</td>\n",
       "      <td>[국내, 여행지, 여행, 맨션자두, 들어가다, 커다랗다, 널판지, 깔다, 발, 편하...</td>\n",
       "    </tr>\n",
       "    <tr>\n",
       "      <th>3732</th>\n",
       "      <td>NaN</td>\n",
       "      <td>[영이, 분기, 여행, 스테이솔, 여행지, 영이, 퇴근, 오빠, 먼저, 카페, 데이...</td>\n",
       "    </tr>\n",
       "    <tr>\n",
       "      <th>3733</th>\n",
       "      <td>NaN</td>\n",
       "      <td>[다귀, 쉼터, 오늘, 하얗다, 외관, 매듭, 스무, 시장, 포장, 시장, 네비찍,...</td>\n",
       "    </tr>\n",
       "    <tr>\n",
       "      <th>3734</th>\n",
       "      <td>NaN</td>\n",
       "      <td>[아파트먼트, 여행, 자주, 불구, 잡다, 놀다, 처음, 고르다, 급하다, 잡다, ...</td>\n",
       "    </tr>\n",
       "    <tr>\n",
       "      <th>3735</th>\n",
       "      <td>NaN</td>\n",
       "      <td>[포도봉, 미루다, 미루다, 숙소콕, 여행, 다행, 맞추다, 다녀오다, 예쁘다, 룰...</td>\n",
       "    </tr>\n",
       "  </tbody>\n",
       "</table>\n",
       "<p>4345 rows × 2 columns</p>\n",
       "</div>"
      ],
      "text/plain": [
       "      item_idx                                            content\n",
       "0          0.0  [파도의무늬오션뷰, 무늬, 무늬, 물결, 일렁이다, 반짝거리다, 철썩, 철썩, 치다...\n",
       "1          1.0  [시호일시간, 흔적, 담다, 시호, 시호, 번화가, 유명, 흔적, 품다, 주택, 상...\n",
       "2          2.0  [까맣다, 돌멩이, 조식, 예쁘다, 까맣다, 돌멩이, 까맣다, 돌멩이, 가족, 커플...\n",
       "3          3.0  [권장, 가득, 권장, 권장, 자연경관, 두르다, 쌓이다, 마당, 힐, 링, 판, ...\n",
       "4          4.0  [라온가, 따뜻, 힐링, 라온, 온, 주택, 개조, 라온, 우리말, 즐겁다, 뜻, ...\n",
       "...        ...                                                ...\n",
       "3731       NaN  [국내, 여행지, 여행, 맨션자두, 들어가다, 커다랗다, 널판지, 깔다, 발, 편하...\n",
       "3732       NaN  [영이, 분기, 여행, 스테이솔, 여행지, 영이, 퇴근, 오빠, 먼저, 카페, 데이...\n",
       "3733       NaN  [다귀, 쉼터, 오늘, 하얗다, 외관, 매듭, 스무, 시장, 포장, 시장, 네비찍,...\n",
       "3734       NaN  [아파트먼트, 여행, 자주, 불구, 잡다, 놀다, 처음, 고르다, 급하다, 잡다, ...\n",
       "3735       NaN  [포도봉, 미루다, 미루다, 숙소콕, 여행, 다행, 맞추다, 다녀오다, 예쁘다, 룰...\n",
       "\n",
       "[4345 rows x 2 columns]"
      ]
     },
     "execution_count": 91,
     "metadata": {},
     "output_type": "execute_result"
    }
   ],
   "source": [
    "all_items"
   ]
  },
  {
   "cell_type": "code",
   "execution_count": 92,
   "metadata": {
    "id": "YvqkkPwev_yY"
   },
   "outputs": [],
   "source": [
    "# all_content.reset_index(drop=True, inplace=True)"
   ]
  },
  {
   "cell_type": "code",
   "execution_count": 93,
   "metadata": {
    "id": "Lra3uwXzLjJ7"
   },
   "outputs": [],
   "source": [
    "all_items.reset_index(drop=True, inplace=True)"
   ]
  },
  {
   "cell_type": "code",
   "execution_count": 94,
   "metadata": {
    "id": "__uiFzIy4Yp_"
   },
   "outputs": [],
   "source": [
    "# drop = [index for index in range(len(all_content)) if len(all_content.content[index]) < 1] #빈 샘플 제거"
   ]
  },
  {
   "cell_type": "code",
   "execution_count": 105,
   "metadata": {
    "id": "ayTXNoHYLnLw"
   },
   "outputs": [],
   "source": [
    "drop = [index for index in range(len(all_items)) if len(all_items.content[index]) < 1] #빈 샘플 제거"
   ]
  },
  {
   "cell_type": "code",
   "execution_count": 106,
   "metadata": {
    "colab": {
     "base_uri": "https://localhost:8080/"
    },
    "id": "JCRWZp_L5eC5",
    "outputId": "5f9f024f-b5fc-4270-b94b-cd01b7e01086"
   },
   "outputs": [
    {
     "data": {
      "text/plain": [
       "[4007]"
      ]
     },
     "execution_count": 106,
     "metadata": {},
     "output_type": "execute_result"
    }
   ],
   "source": [
    "drop"
   ]
  },
  {
   "cell_type": "code",
   "execution_count": 107,
   "metadata": {
    "id": "1OBPQPEx5SEg"
   },
   "outputs": [],
   "source": [
    "# 빈 샘플 제거\n",
    "# for i in drop:\n",
    "  # all_content.drop(all_content.index[i], inplace=True)"
   ]
  },
  {
   "cell_type": "code",
   "execution_count": 108,
   "metadata": {
    "id": "9QqQHi_YLuNd"
   },
   "outputs": [],
   "source": [
    "# 빈 샘플 제거\n",
    "for i in drop:\n",
    "  all_items.drop(all_items.index[i], inplace=True)"
   ]
  },
  {
   "cell_type": "code",
   "execution_count": 109,
   "metadata": {
    "id": "gvn_z3L65360"
   },
   "outputs": [],
   "source": [
    "# all_content.reset_index(drop=True, inplace=True)"
   ]
  },
  {
   "cell_type": "code",
   "execution_count": 110,
   "metadata": {
    "id": "iCVAVsA8L3vf"
   },
   "outputs": [],
   "source": [
    "all_items.reset_index(drop=True, inplace=True)"
   ]
  },
  {
   "cell_type": "code",
   "execution_count": 139,
   "metadata": {
    "id": "oihUVIHuRSQM"
   },
   "outputs": [],
   "source": [
    "all_items.to_csv('all_items.csv', index=False)"
   ]
  },
  {
   "cell_type": "markdown",
   "metadata": {
    "id": "_3AkmoStWmyV"
   },
   "source": [
    "#TOMOTOPY_LDA_KIWI"
   ]
  },
  {
   "cell_type": "code",
   "execution_count": null,
   "metadata": {
    "colab": {
     "base_uri": "https://localhost:8080/"
    },
    "id": "oBMHoNby5xXe",
    "outputId": "21f68f3f-847f-416a-d423-8ec06c0c3210"
   },
   "outputs": [
    {
     "data": {
      "text/plain": [
       "58"
      ]
     },
     "execution_count": 33,
     "metadata": {},
     "output_type": "execute_result"
    }
   ],
   "source": [
    "len(all_content.content[0])"
   ]
  },
  {
   "cell_type": "code",
   "execution_count": null,
   "metadata": {
    "colab": {
     "base_uri": "https://localhost:8080/"
    },
    "id": "m1EIcf3rWmyW",
    "outputId": "67a61538-9f5e-4990-bf4a-631dca75afae"
   },
   "outputs": [
    {
     "name": "stdout",
     "output_type": "stream",
     "text": [
      "4008\n"
     ]
    }
   ],
   "source": [
    "for i in range(len(all_content)): # 빈 리스트 확인\n",
    "  if len(all_content.content[i]) < 1:\n",
    "    print(i)"
   ]
  },
  {
   "cell_type": "code",
   "execution_count": null,
   "metadata": {
    "colab": {
     "base_uri": "https://localhost:8080/",
     "height": 423
    },
    "id": "6HqPfZoseNDI",
    "outputId": "72d160ca-888c-44e0-d095-ca3ff5f910d0"
   },
   "outputs": [
    {
     "data": {
      "text/html": [
       "<div>\n",
       "<style scoped>\n",
       "    .dataframe tbody tr th:only-of-type {\n",
       "        vertical-align: middle;\n",
       "    }\n",
       "\n",
       "    .dataframe tbody tr th {\n",
       "        vertical-align: top;\n",
       "    }\n",
       "\n",
       "    .dataframe thead th {\n",
       "        text-align: right;\n",
       "    }\n",
       "</style>\n",
       "<table border=\"1\" class=\"dataframe\">\n",
       "  <thead>\n",
       "    <tr style=\"text-align: right;\">\n",
       "      <th></th>\n",
       "      <th>content</th>\n",
       "    </tr>\n",
       "  </thead>\n",
       "  <tbody>\n",
       "    <tr>\n",
       "      <th>0</th>\n",
       "      <td>[파도의무늬오션뷰, 무늬, 무늬, 물결, 일렁이다, 반짝거리다, 철썩, 철썩, 치다...</td>\n",
       "    </tr>\n",
       "    <tr>\n",
       "      <th>1</th>\n",
       "      <td>[시호일시간, 흔적, 담다, 시호, 시호, 번화가, 유명, 흔적, 품다, 주택, 상...</td>\n",
       "    </tr>\n",
       "    <tr>\n",
       "      <th>2</th>\n",
       "      <td>[까맣다, 돌멩이, 조식, 예쁘다, 까맣다, 돌멩이, 까맣다, 돌멩이, 가족, 커플...</td>\n",
       "    </tr>\n",
       "    <tr>\n",
       "      <th>3</th>\n",
       "      <td>[권장, 가득, 권장, 권장, 자연경관, 두르다, 쌓이다, 마당, 힐, 링, 판, ...</td>\n",
       "    </tr>\n",
       "    <tr>\n",
       "      <th>4</th>\n",
       "      <td>[라온가, 따뜻, 힐링, 라온, 온, 주택, 개조, 라온, 우리말, 즐겁다, 뜻, ...</td>\n",
       "    </tr>\n",
       "    <tr>\n",
       "      <th>...</th>\n",
       "      <td>...</td>\n",
       "    </tr>\n",
       "    <tr>\n",
       "      <th>4337</th>\n",
       "      <td>[국내, 여행지, 여행, 맨션자두, 들어가다, 커다랗다, 널판지, 깔다, 발, 편하...</td>\n",
       "    </tr>\n",
       "    <tr>\n",
       "      <th>4338</th>\n",
       "      <td>[영이, 분기, 여행, 스테이솔, 여행지, 영이, 퇴근, 오빠, 먼저, 카페, 데이...</td>\n",
       "    </tr>\n",
       "    <tr>\n",
       "      <th>4339</th>\n",
       "      <td>[다귀, 쉼터, 오늘, 하얗다, 외관, 매듭, 스무, 시장, 포장, 시장, 네비찍,...</td>\n",
       "    </tr>\n",
       "    <tr>\n",
       "      <th>4340</th>\n",
       "      <td>[아파트먼트, 여행, 자주, 불구, 잡다, 놀다, 처음, 고르다, 급하다, 잡다, ...</td>\n",
       "    </tr>\n",
       "    <tr>\n",
       "      <th>4341</th>\n",
       "      <td>[포도봉, 미루다, 미루다, 숙소콕, 여행, 다행, 맞추다, 다녀오다, 예쁘다, 룰...</td>\n",
       "    </tr>\n",
       "  </tbody>\n",
       "</table>\n",
       "<p>4342 rows × 1 columns</p>\n",
       "</div>"
      ],
      "text/plain": [
       "                                                content\n",
       "0     [파도의무늬오션뷰, 무늬, 무늬, 물결, 일렁이다, 반짝거리다, 철썩, 철썩, 치다...\n",
       "1     [시호일시간, 흔적, 담다, 시호, 시호, 번화가, 유명, 흔적, 품다, 주택, 상...\n",
       "2     [까맣다, 돌멩이, 조식, 예쁘다, 까맣다, 돌멩이, 까맣다, 돌멩이, 가족, 커플...\n",
       "3     [권장, 가득, 권장, 권장, 자연경관, 두르다, 쌓이다, 마당, 힐, 링, 판, ...\n",
       "4     [라온가, 따뜻, 힐링, 라온, 온, 주택, 개조, 라온, 우리말, 즐겁다, 뜻, ...\n",
       "...                                                 ...\n",
       "4337  [국내, 여행지, 여행, 맨션자두, 들어가다, 커다랗다, 널판지, 깔다, 발, 편하...\n",
       "4338  [영이, 분기, 여행, 스테이솔, 여행지, 영이, 퇴근, 오빠, 먼저, 카페, 데이...\n",
       "4339  [다귀, 쉼터, 오늘, 하얗다, 외관, 매듭, 스무, 시장, 포장, 시장, 네비찍,...\n",
       "4340  [아파트먼트, 여행, 자주, 불구, 잡다, 놀다, 처음, 고르다, 급하다, 잡다, ...\n",
       "4341  [포도봉, 미루다, 미루다, 숙소콕, 여행, 다행, 맞추다, 다녀오다, 예쁘다, 룰...\n",
       "\n",
       "[4342 rows x 1 columns]"
      ]
     },
     "execution_count": 48,
     "metadata": {},
     "output_type": "execute_result"
    }
   ],
   "source": [
    "all_content"
   ]
  },
  {
   "cell_type": "code",
   "execution_count": 127,
   "metadata": {
    "id": "5zK7R2l8WmyW"
   },
   "outputs": [],
   "source": [
    "model = tp.LDAModel(k=10, alpha=0.1, eta=0.01, min_cf=3, )\n",
    "# LDAModel을 생성\n",
    "# 토픽의 개수(k)는 20개, alpha 파라미터는 0.1, eta 파라미터는 0.01\n",
    "# 전체 말뭉치에 5회 미만 등장한 단어들은 제거"
   ]
  },
  {
   "cell_type": "code",
   "execution_count": null,
   "metadata": {
    "id": "Vcfup1psWmyW"
   },
   "outputs": [],
   "source": [
    "# for row in all_content.content:\n",
    "    # model.add_doc(row) # 행 별로 model에 추가합니다."
   ]
  },
  {
   "cell_type": "code",
   "execution_count": 128,
   "metadata": {
    "id": "biG9_DR7L-2T"
   },
   "outputs": [],
   "source": [
    "for row in all_items.content:\n",
    "    model.add_doc(row) # 행 별로 model에 추가합니다."
   ]
  },
  {
   "cell_type": "code",
   "execution_count": null,
   "metadata": {
    "colab": {
     "base_uri": "https://localhost:8080/"
    },
    "id": "FPiLODgGWmyW",
    "outputId": "2b3e0122-26c7-4855-f7bd-8453e6553508"
   },
   "outputs": [
    {
     "name": "stdout",
     "output_type": "stream",
     "text": [
      "Total docs: 4342\n",
      "Total words: 875658\n",
      "Vocab size: 14727\n"
     ]
    }
   ],
   "source": [
    "# model의 num_words나 num_vocabs 등은 train을 시작해야 확정됩니다.\n",
    "# 따라서 이 값을 확인하기 위해서 train(0)을 하여 실제 train은 하지 않고\n",
    "# 학습 준비만 시킵니다.\n",
    "# num_words, num_vocabs에 관심 없다면 이부분은 생략해도 됩니다.\n",
    "model.train(0) \n",
    "print('Total docs:', len(model.docs))\n",
    "print('Total words:', model.num_words)\n",
    "print('Vocab size:', model.num_vocabs)"
   ]
  },
  {
   "cell_type": "code",
   "execution_count": null,
   "metadata": {
    "id": "oOInH6DZWmyW"
   },
   "outputs": [],
   "source": [
    "# 다음 구문은 train을 총 200회 반복하면서, \n",
    "# 매 단계별로 로그 가능도 값을 출력해줍니다.\n",
    "# 혹은 단순히 model.train(200)으로 200회 반복도 가능합니다.\n",
    "for i in range(200):\n",
    "    print('Iteration {}\\tLL per word: {}'.format(i, model.ll_per_word))\n",
    "    model.train(1)"
   ]
  },
  {
   "cell_type": "code",
   "execution_count": 130,
   "metadata": {
    "id": "Vb1lAtxwOJ--"
   },
   "outputs": [],
   "source": [
    "model.save('basic_model.bin')"
   ]
  },
  {
   "cell_type": "code",
   "execution_count": null,
   "metadata": {
    "colab": {
     "base_uri": "https://localhost:8080/"
    },
    "id": "D2wD0hd_WmyX",
    "outputId": "64ab83cd-3105-4050-dc14-4e8ed0a85ced"
   },
   "outputs": [
    {
     "name": "stdout",
     "output_type": "stream",
     "text": [
      "Topic #0\t먹다, 찍다, 친구, 넘다, 맛있다, 놀다, 바베큐, 카페, 못, 굽다, 저녁, 와인, 챙기다, 이쁘다, 잔, 들어가다, 다녀오다, 술, 이거, 맥주\n",
      "Topic #1\t침대, 예쁘다, 침실, 거실, 사용, 문, 커피, 테이블, 들어가다, 깔끔, 조명, 인테리어, 냉장고, 분위기, 넓다, 들어오다, 편하다, 따로, 수건, 욕실\n",
      "Topic #2\t바다, 수영장, 여행, 즐기다, 오션뷰, 숙박, 탕, 테라스, 카페, 야외, 스파, 제공, 시설, 참고, 건물, 멋지다, 가족, 해변, 욕조, 거리\n",
      "Topic #3\t예쁘다, 조식, 여행, 아침, 찍다, 먹다, 이쁘다, 밖, 마음, 들어가다, 밤, 아쉽다, 넘다, 카페, 못, 도착, 날씨, 저녁, 풍경, 하늘\n",
      "Topic #4\t여행, 한옥, 즐기다, 느끼다, 힐링, 가족, 가득, 마을, 마당, 보내다, 국내, 정원, 풍경, 매력, 실시간, 하루, 따뜻, 인테리어, 여행지, 캠핑\n"
     ]
    }
   ],
   "source": [
    "# 학습된 토픽들을 출력해보도록 합시다.\n",
    "for i in range(model.k):\n",
    "    # 토픽 개수가 총 20개이니, 0~19번까지의 토픽별 상위 단어 10개를 뽑아봅시다.\n",
    "    res = model.get_topic_words(i, top_n=20)\n",
    "    print('Topic #{}'.format(i), end='\\t')\n",
    "    print(', '.join(w for w, p in res))"
   ]
  },
  {
   "cell_type": "markdown",
   "metadata": {
    "id": "PXdnwWnXbzeZ"
   },
   "source": [
    "# 문헌별 토픽 분류"
   ]
  },
  {
   "cell_type": "code",
   "execution_count": null,
   "metadata": {
    "colab": {
     "base_uri": "https://localhost:8080/"
    },
    "id": "9YZr8XD4IiXZ",
    "outputId": "8064d93e-3a7b-420f-958c-cfe51b5e0790"
   },
   "outputs": [
    {
     "data": {
      "text/plain": [
       "4342"
      ]
     },
     "execution_count": 55,
     "metadata": {},
     "output_type": "execute_result"
    }
   ],
   "source": [
    "len(model.docs)"
   ]
  },
  {
   "cell_type": "code",
   "execution_count": null,
   "metadata": {
    "id": "QyUYlXjvINqr"
   },
   "outputs": [],
   "source": [
    "# 먼저 토픽 개수만큼 공간을 만들어줍니다.\n",
    "buckets = [[] for _ in range(model.k)]\n",
    "# 전체 문헌에 대해, top 1 주제 번호를 찾아 그 그룹에 해당 문헌을 포함시킵니다.\n",
    "for i, d in enumerate(model.docs):\n",
    "    buckets[d.get_topics(top_n=1)[0][0]].append([i,d])"
   ]
  },
  {
   "cell_type": "code",
   "execution_count": null,
   "metadata": {
    "id": "rIEkHWHNISch"
   },
   "outputs": [],
   "source": [
    "topic_table = pd.DataFrame() #테이블 생성\n",
    "doc_index = []\n",
    "content = []\n",
    "topics = []\n",
    "\n",
    "for i in range(len(model.docs)): # 인덱스별 값을 개별 변수로 테이블에 배정\n",
    "  doc_index = int(i)\n",
    "  content = all_content.content[i]\n",
    "  topics = int(model.docs[i].get_topics(top_n=1)[0][0])\n",
    "  topic_table = topic_table.append(pd.Series([doc_index, content, topics]), ignore_index=True)"
   ]
  },
  {
   "cell_type": "code",
   "execution_count": null,
   "metadata": {
    "id": "eIEZDOHqMI7S"
   },
   "outputs": [],
   "source": [
    "topic_table = pd.DataFrame() #테이블 생성\n",
    "doc_index = []\n",
    "content = []\n",
    "topics = []\n",
    "item_idx = []\n",
    "\n",
    "for i in range(len(model.docs)): # 인덱스별 값을 개별 변수로 테이블에 배정\n",
    "  doc_index = int(i)\n",
    "  content = all_items.content[i]\n",
    "  item_idx = all_items.item_idx[i]\n",
    "  topics = int(model.docs[i].get_topics(top_n=1)[0][0])\n",
    "  topic_table = topic_table.append(pd.Series([doc_index,item_idx, content, topics]), ignore_index=True)"
   ]
  },
  {
   "cell_type": "code",
   "execution_count": null,
   "metadata": {
    "colab": {
     "base_uri": "https://localhost:8080/",
     "height": 423
    },
    "id": "6HA7df8yC1T_",
    "outputId": "f114983a-a134-41dd-d749-28985b499bb4"
   },
   "outputs": [
    {
     "data": {
      "text/html": [
       "<div>\n",
       "<style scoped>\n",
       "    .dataframe tbody tr th:only-of-type {\n",
       "        vertical-align: middle;\n",
       "    }\n",
       "\n",
       "    .dataframe tbody tr th {\n",
       "        vertical-align: top;\n",
       "    }\n",
       "\n",
       "    .dataframe thead th {\n",
       "        text-align: right;\n",
       "    }\n",
       "</style>\n",
       "<table border=\"1\" class=\"dataframe\">\n",
       "  <thead>\n",
       "    <tr style=\"text-align: right;\">\n",
       "      <th></th>\n",
       "      <th>0</th>\n",
       "      <th>1</th>\n",
       "      <th>2</th>\n",
       "      <th>3</th>\n",
       "    </tr>\n",
       "  </thead>\n",
       "  <tbody>\n",
       "    <tr>\n",
       "      <th>0</th>\n",
       "      <td>0.0</td>\n",
       "      <td>0.0</td>\n",
       "      <td>[파도의무늬오션뷰, 무늬, 무늬, 물결, 일렁이다, 반짝거리다, 철썩, 철썩, 치다...</td>\n",
       "      <td>1.0</td>\n",
       "    </tr>\n",
       "    <tr>\n",
       "      <th>1</th>\n",
       "      <td>1.0</td>\n",
       "      <td>1.0</td>\n",
       "      <td>[시호일시간, 흔적, 담다, 시호, 시호, 번화가, 유명, 흔적, 품다, 주택, 상...</td>\n",
       "      <td>1.0</td>\n",
       "    </tr>\n",
       "    <tr>\n",
       "      <th>2</th>\n",
       "      <td>2.0</td>\n",
       "      <td>2.0</td>\n",
       "      <td>[까맣다, 돌멩이, 조식, 예쁘다, 까맣다, 돌멩이, 까맣다, 돌멩이, 가족, 커플...</td>\n",
       "      <td>0.0</td>\n",
       "    </tr>\n",
       "    <tr>\n",
       "      <th>3</th>\n",
       "      <td>3.0</td>\n",
       "      <td>3.0</td>\n",
       "      <td>[권장, 가득, 권장, 권장, 자연경관, 두르다, 쌓이다, 마당, 힐, 링, 판, ...</td>\n",
       "      <td>5.0</td>\n",
       "    </tr>\n",
       "    <tr>\n",
       "      <th>4</th>\n",
       "      <td>4.0</td>\n",
       "      <td>4.0</td>\n",
       "      <td>[라온가, 따뜻, 힐링, 라온, 온, 주택, 개조, 라온, 우리말, 즐겁다, 뜻, ...</td>\n",
       "      <td>3.0</td>\n",
       "    </tr>\n",
       "    <tr>\n",
       "      <th>...</th>\n",
       "      <td>...</td>\n",
       "      <td>...</td>\n",
       "      <td>...</td>\n",
       "      <td>...</td>\n",
       "    </tr>\n",
       "    <tr>\n",
       "      <th>4337</th>\n",
       "      <td>4337.0</td>\n",
       "      <td>NaN</td>\n",
       "      <td>[국내, 여행지, 여행, 맨션자두, 들어가다, 커다랗다, 널판지, 깔다, 발, 편하...</td>\n",
       "      <td>4.0</td>\n",
       "    </tr>\n",
       "    <tr>\n",
       "      <th>4338</th>\n",
       "      <td>4338.0</td>\n",
       "      <td>NaN</td>\n",
       "      <td>[영이, 분기, 여행, 스테이솔, 여행지, 영이, 퇴근, 오빠, 먼저, 카페, 데이...</td>\n",
       "      <td>8.0</td>\n",
       "    </tr>\n",
       "    <tr>\n",
       "      <th>4339</th>\n",
       "      <td>4339.0</td>\n",
       "      <td>NaN</td>\n",
       "      <td>[다귀, 쉼터, 오늘, 하얗다, 외관, 매듭, 스무, 시장, 포장, 시장, 네비찍,...</td>\n",
       "      <td>9.0</td>\n",
       "    </tr>\n",
       "    <tr>\n",
       "      <th>4340</th>\n",
       "      <td>4340.0</td>\n",
       "      <td>NaN</td>\n",
       "      <td>[아파트먼트, 여행, 자주, 불구, 잡다, 놀다, 처음, 고르다, 급하다, 잡다, ...</td>\n",
       "      <td>9.0</td>\n",
       "    </tr>\n",
       "    <tr>\n",
       "      <th>4341</th>\n",
       "      <td>4341.0</td>\n",
       "      <td>NaN</td>\n",
       "      <td>[포도봉, 미루다, 미루다, 숙소콕, 여행, 다행, 맞추다, 다녀오다, 예쁘다, 룰...</td>\n",
       "      <td>8.0</td>\n",
       "    </tr>\n",
       "  </tbody>\n",
       "</table>\n",
       "<p>4342 rows × 4 columns</p>\n",
       "</div>"
      ],
      "text/plain": [
       "           0    1                                                  2    3\n",
       "0        0.0  0.0  [파도의무늬오션뷰, 무늬, 무늬, 물결, 일렁이다, 반짝거리다, 철썩, 철썩, 치다...  1.0\n",
       "1        1.0  1.0  [시호일시간, 흔적, 담다, 시호, 시호, 번화가, 유명, 흔적, 품다, 주택, 상...  1.0\n",
       "2        2.0  2.0  [까맣다, 돌멩이, 조식, 예쁘다, 까맣다, 돌멩이, 까맣다, 돌멩이, 가족, 커플...  0.0\n",
       "3        3.0  3.0  [권장, 가득, 권장, 권장, 자연경관, 두르다, 쌓이다, 마당, 힐, 링, 판, ...  5.0\n",
       "4        4.0  4.0  [라온가, 따뜻, 힐링, 라온, 온, 주택, 개조, 라온, 우리말, 즐겁다, 뜻, ...  3.0\n",
       "...      ...  ...                                                ...  ...\n",
       "4337  4337.0  NaN  [국내, 여행지, 여행, 맨션자두, 들어가다, 커다랗다, 널판지, 깔다, 발, 편하...  4.0\n",
       "4338  4338.0  NaN  [영이, 분기, 여행, 스테이솔, 여행지, 영이, 퇴근, 오빠, 먼저, 카페, 데이...  8.0\n",
       "4339  4339.0  NaN  [다귀, 쉼터, 오늘, 하얗다, 외관, 매듭, 스무, 시장, 포장, 시장, 네비찍,...  9.0\n",
       "4340  4340.0  NaN  [아파트먼트, 여행, 자주, 불구, 잡다, 놀다, 처음, 고르다, 급하다, 잡다, ...  9.0\n",
       "4341  4341.0  NaN  [포도봉, 미루다, 미루다, 숙소콕, 여행, 다행, 맞추다, 다녀오다, 예쁘다, 룰...  8.0\n",
       "\n",
       "[4342 rows x 4 columns]"
      ]
     },
     "execution_count": 88,
     "metadata": {},
     "output_type": "execute_result"
    }
   ],
   "source": [
    "topic_table"
   ]
  },
  {
   "cell_type": "code",
   "execution_count": null,
   "metadata": {
    "id": "M3Zw1u244X-w"
   },
   "outputs": [],
   "source": [
    "topic_table.columns = ['doc_index','item_index', 'content', 'topic']"
   ]
  },
  {
   "cell_type": "code",
   "execution_count": null,
   "metadata": {
    "id": "PO4SZZn65hth"
   },
   "outputs": [],
   "source": [
    "topic_table = pd.DataFrame(topic_table)"
   ]
  },
  {
   "cell_type": "code",
   "execution_count": null,
   "metadata": {
    "id": "vKTNmI-5Elca"
   },
   "outputs": [],
   "source": [
    "topic_table.content[0]"
   ]
  },
  {
   "cell_type": "code",
   "execution_count": null,
   "metadata": {
    "id": "amg57ZYAEnwX"
   },
   "outputs": [],
   "source": [
    "insta_data.columns = ['item_index', 'content', 'date', 'like', 'tags', 'name', 'overlap', 'place']"
   ]
  },
  {
   "cell_type": "code",
   "execution_count": null,
   "metadata": {
    "colab": {
     "base_uri": "https://localhost:8080/",
     "height": 597
    },
    "id": "WvZkv5PsN_bB",
    "outputId": "75d6537f-7834-40da-8839-9a29062e449b"
   },
   "outputs": [
    {
     "data": {
      "text/html": [
       "<div>\n",
       "<style scoped>\n",
       "    .dataframe tbody tr th:only-of-type {\n",
       "        vertical-align: middle;\n",
       "    }\n",
       "\n",
       "    .dataframe tbody tr th {\n",
       "        vertical-align: top;\n",
       "    }\n",
       "\n",
       "    .dataframe thead th {\n",
       "        text-align: right;\n",
       "    }\n",
       "</style>\n",
       "<table border=\"1\" class=\"dataframe\">\n",
       "  <thead>\n",
       "    <tr style=\"text-align: right;\">\n",
       "      <th></th>\n",
       "      <th>item_index</th>\n",
       "      <th>content</th>\n",
       "      <th>date</th>\n",
       "      <th>like</th>\n",
       "      <th>tags</th>\n",
       "      <th>name</th>\n",
       "      <th>overlap</th>\n",
       "      <th>place</th>\n",
       "    </tr>\n",
       "  </thead>\n",
       "  <tbody>\n",
       "    <tr>\n",
       "      <th>0</th>\n",
       "      <td>0</td>\n",
       "      <td>[파도의무늬오션뷰, 무늬, 무늬, 물결, 일렁이다, 반짝거리다, 철썩, 철썩, 치다...</td>\n",
       "      <td>2021-09-06</td>\n",
       "      <td>39</td>\n",
       "      <td>['#데일리감성속초로', '#데일리감성_속초강원도', '#데일리감성_강원——————...</td>\n",
       "      <td>파도의무늬</td>\n",
       "      <td>1</td>\n",
       "      <td>NaN</td>\n",
       "    </tr>\n",
       "    <tr>\n",
       "      <th>1</th>\n",
       "      <td>1</td>\n",
       "      <td>[시호일시간, 흔적, 담다, 시호, 시호, 번화가, 유명, 흔적, 품다, 주택, 상...</td>\n",
       "      <td>2021-09-03</td>\n",
       "      <td>12</td>\n",
       "      <td>['#데일리감성강릉으로', '#데일리감성_강릉강원도', '#데일리감성_강원—————...</td>\n",
       "      <td>스테이 시호일</td>\n",
       "      <td>1</td>\n",
       "      <td>NaN</td>\n",
       "    </tr>\n",
       "    <tr>\n",
       "      <th>2</th>\n",
       "      <td>2</td>\n",
       "      <td>[까맣다, 돌멩이, 조식, 예쁘다, 까맣다, 돌멩이, 까맣다, 돌멩이, 가족, 커플...</td>\n",
       "      <td>2021-09-03</td>\n",
       "      <td>33</td>\n",
       "      <td>['#데일리감성제주도', '#데일리감성_제주—————————————————']</td>\n",
       "      <td>까만돌멩이</td>\n",
       "      <td>1</td>\n",
       "      <td>제주특별자치도 제주시 구좌읍 계룡길 32</td>\n",
       "    </tr>\n",
       "    <tr>\n",
       "      <th>3</th>\n",
       "      <td>3</td>\n",
       "      <td>[권장, 가득, 권장, 권장, 자연경관, 두르다, 쌓이다, 마당, 힐, 링, 판, ...</td>\n",
       "      <td>2021-09-02</td>\n",
       "      <td>36</td>\n",
       "      <td>['#데일리감성단양으로', '#데일리감성_단양충청북도', '#데일리감성_충북————...</td>\n",
       "      <td>권장사양</td>\n",
       "      <td>1</td>\n",
       "      <td>NaN</td>\n",
       "    </tr>\n",
       "    <tr>\n",
       "      <th>4</th>\n",
       "      <td>4</td>\n",
       "      <td>[라온가, 따뜻, 힐링, 라온, 온, 주택, 개조, 라온, 우리말, 즐겁다, 뜻, ...</td>\n",
       "      <td>2021-09-01</td>\n",
       "      <td>24</td>\n",
       "      <td>['#데일리감성강릉으로', '#데일리감성_강릉강원도', '#데일리감성_강원—————...</td>\n",
       "      <td>라온가</td>\n",
       "      <td>1</td>\n",
       "      <td>NaN</td>\n",
       "    </tr>\n",
       "    <tr>\n",
       "      <th>...</th>\n",
       "      <td>...</td>\n",
       "      <td>...</td>\n",
       "      <td>...</td>\n",
       "      <td>...</td>\n",
       "      <td>...</td>\n",
       "      <td>...</td>\n",
       "      <td>...</td>\n",
       "      <td>...</td>\n",
       "    </tr>\n",
       "    <tr>\n",
       "      <th>604</th>\n",
       "      <td>604</td>\n",
       "      <td>[폭, 그림, 오션뷰, 액자, 창문, 너머, 바다, 감성숙소랍니돠, 미니멀리즘, 추...</td>\n",
       "      <td>2021-06-24</td>\n",
       "      <td>142</td>\n",
       "      <td>['#제주', '#솔트', '#제주숙소', '#제주여행', '#제주숙소추천', '#...</td>\n",
       "      <td>솔트</td>\n",
       "      <td>2</td>\n",
       "      <td>NaN</td>\n",
       "    </tr>\n",
       "    <tr>\n",
       "      <th>605</th>\n",
       "      <td>605</td>\n",
       "      <td>[리버뷰, 피그멜리온이펙, 트다, 리버, 마운틴뷰, 월풀스파, 즐기다, 뷰맛, 원룸...</td>\n",
       "      <td>2021-06-15</td>\n",
       "      <td>87</td>\n",
       "      <td>['#춘천', '#피그멜리온이펙트', '#춘천숙소', '#춘천여행', '#춘천숙소추...</td>\n",
       "      <td>피그멜리온이펙트</td>\n",
       "      <td>2</td>\n",
       "      <td>강원도 춘천시 서면 경춘로 405</td>\n",
       "    </tr>\n",
       "    <tr>\n",
       "      <th>606</th>\n",
       "      <td>606</td>\n",
       "      <td>[시골, 동네, 오붓, 편안, 밤, 논밭뷰, 여유, 만끽, 힐링, 게스트하우스, 사...</td>\n",
       "      <td>2021-04-21</td>\n",
       "      <td>68</td>\n",
       "      <td>['#곡성', '#품안의밤', '#곡성숙소', '#곡성여행', '#곡성숙소추천', ...</td>\n",
       "      <td>품안의밤</td>\n",
       "      <td>2</td>\n",
       "      <td>NaN</td>\n",
       "    </tr>\n",
       "    <tr>\n",
       "      <th>607</th>\n",
       "      <td>607</td>\n",
       "      <td>[다녀오다, 웨딩촬영지, 유명, 더브리앙, 뜨다, 화이트, 앤, 우드, 톤, 좋아하...</td>\n",
       "      <td>2021-04-19</td>\n",
       "      <td>57</td>\n",
       "      <td>['#강릉', '#더브리앙뜨', '#강릉숙소', '#강릉여행', '#강릉데이트', ...</td>\n",
       "      <td>더브리앙뜨</td>\n",
       "      <td>2</td>\n",
       "      <td>강원도 강릉시 사천면 중앙서로 92-43</td>\n",
       "    </tr>\n",
       "    <tr>\n",
       "      <th>608</th>\n",
       "      <td>608</td>\n",
       "      <td>[고풍스, 런, 미칀, 한옥뷰, 한라궁, 아침, 눈, 뜨다, 한옥정원뷰, 제주오션뷰...</td>\n",
       "      <td>2021-03-19</td>\n",
       "      <td>90</td>\n",
       "      <td>['#제주도', '#한라궁호텔', '#한라궁', '#제주숙소', '#감성숙소', '...</td>\n",
       "      <td>한라궁호텔</td>\n",
       "      <td>2</td>\n",
       "      <td>제주특별자치도 서귀포시 정방연로 6</td>\n",
       "    </tr>\n",
       "  </tbody>\n",
       "</table>\n",
       "<p>609 rows × 8 columns</p>\n",
       "</div>"
      ],
      "text/plain": [
       "     item_index  ...                   place\n",
       "0             0  ...                     NaN\n",
       "1             1  ...                     NaN\n",
       "2             2  ...  제주특별자치도 제주시 구좌읍 계룡길 32\n",
       "3             3  ...                     NaN\n",
       "4             4  ...                     NaN\n",
       "..          ...  ...                     ...\n",
       "604         604  ...                     NaN\n",
       "605         605  ...      강원도 춘천시 서면 경춘로 405\n",
       "606         606  ...                     NaN\n",
       "607         607  ...  강원도 강릉시 사천면 중앙서로 92-43\n",
       "608         608  ...     제주특별자치도 서귀포시 정방연로 6\n",
       "\n",
       "[609 rows x 8 columns]"
      ]
     },
     "execution_count": 95,
     "metadata": {},
     "output_type": "execute_result"
    }
   ],
   "source": [
    "insta_data"
   ]
  },
  {
   "cell_type": "code",
   "execution_count": null,
   "metadata": {
    "id": "FBuoOpoQC4rX"
   },
   "outputs": [],
   "source": [
    "merge_inner = pd.merge(topic_table, insta_data, on='item_index')"
   ]
  },
  {
   "cell_type": "code",
   "execution_count": null,
   "metadata": {
    "id": "nQ4J33LND4za"
   },
   "outputs": [],
   "source": [
    "merge_inner.drop('content_y', axis=1, inplace=True)"
   ]
  },
  {
   "cell_type": "code",
   "execution_count": null,
   "metadata": {
    "colab": {
     "base_uri": "https://localhost:8080/",
     "height": 701
    },
    "id": "NpRz8rGyODIz",
    "outputId": "b463b3e9-c991-4913-db3d-2096631fb7b2"
   },
   "outputs": [
    {
     "data": {
      "text/html": [
       "<div>\n",
       "<style scoped>\n",
       "    .dataframe tbody tr th:only-of-type {\n",
       "        vertical-align: middle;\n",
       "    }\n",
       "\n",
       "    .dataframe tbody tr th {\n",
       "        vertical-align: top;\n",
       "    }\n",
       "\n",
       "    .dataframe thead th {\n",
       "        text-align: right;\n",
       "    }\n",
       "</style>\n",
       "<table border=\"1\" class=\"dataframe\">\n",
       "  <thead>\n",
       "    <tr style=\"text-align: right;\">\n",
       "      <th></th>\n",
       "      <th>doc_index</th>\n",
       "      <th>item_index</th>\n",
       "      <th>content_x</th>\n",
       "      <th>topic</th>\n",
       "      <th>date</th>\n",
       "      <th>like</th>\n",
       "      <th>tags</th>\n",
       "      <th>name</th>\n",
       "      <th>overlap</th>\n",
       "      <th>place</th>\n",
       "    </tr>\n",
       "  </thead>\n",
       "  <tbody>\n",
       "    <tr>\n",
       "      <th>0</th>\n",
       "      <td>0.0</td>\n",
       "      <td>0.0</td>\n",
       "      <td>[파도의무늬오션뷰, 무늬, 무늬, 물결, 일렁이다, 반짝거리다, 철썩, 철썩, 치다...</td>\n",
       "      <td>1.0</td>\n",
       "      <td>2021-09-06</td>\n",
       "      <td>39</td>\n",
       "      <td>['#데일리감성속초로', '#데일리감성_속초강원도', '#데일리감성_강원——————...</td>\n",
       "      <td>파도의무늬</td>\n",
       "      <td>1</td>\n",
       "      <td>NaN</td>\n",
       "    </tr>\n",
       "    <tr>\n",
       "      <th>1</th>\n",
       "      <td>1.0</td>\n",
       "      <td>1.0</td>\n",
       "      <td>[시호일시간, 흔적, 담다, 시호, 시호, 번화가, 유명, 흔적, 품다, 주택, 상...</td>\n",
       "      <td>1.0</td>\n",
       "      <td>2021-09-03</td>\n",
       "      <td>12</td>\n",
       "      <td>['#데일리감성강릉으로', '#데일리감성_강릉강원도', '#데일리감성_강원—————...</td>\n",
       "      <td>스테이 시호일</td>\n",
       "      <td>1</td>\n",
       "      <td>NaN</td>\n",
       "    </tr>\n",
       "    <tr>\n",
       "      <th>2</th>\n",
       "      <td>2.0</td>\n",
       "      <td>2.0</td>\n",
       "      <td>[까맣다, 돌멩이, 조식, 예쁘다, 까맣다, 돌멩이, 까맣다, 돌멩이, 가족, 커플...</td>\n",
       "      <td>0.0</td>\n",
       "      <td>2021-09-03</td>\n",
       "      <td>33</td>\n",
       "      <td>['#데일리감성제주도', '#데일리감성_제주—————————————————']</td>\n",
       "      <td>까만돌멩이</td>\n",
       "      <td>1</td>\n",
       "      <td>제주특별자치도 제주시 구좌읍 계룡길 32</td>\n",
       "    </tr>\n",
       "    <tr>\n",
       "      <th>3</th>\n",
       "      <td>3.0</td>\n",
       "      <td>3.0</td>\n",
       "      <td>[권장, 가득, 권장, 권장, 자연경관, 두르다, 쌓이다, 마당, 힐, 링, 판, ...</td>\n",
       "      <td>5.0</td>\n",
       "      <td>2021-09-02</td>\n",
       "      <td>36</td>\n",
       "      <td>['#데일리감성단양으로', '#데일리감성_단양충청북도', '#데일리감성_충북————...</td>\n",
       "      <td>권장사양</td>\n",
       "      <td>1</td>\n",
       "      <td>NaN</td>\n",
       "    </tr>\n",
       "    <tr>\n",
       "      <th>4</th>\n",
       "      <td>4.0</td>\n",
       "      <td>4.0</td>\n",
       "      <td>[라온가, 따뜻, 힐링, 라온, 온, 주택, 개조, 라온, 우리말, 즐겁다, 뜻, ...</td>\n",
       "      <td>3.0</td>\n",
       "      <td>2021-09-01</td>\n",
       "      <td>24</td>\n",
       "      <td>['#데일리감성강릉으로', '#데일리감성_강릉강원도', '#데일리감성_강원—————...</td>\n",
       "      <td>라온가</td>\n",
       "      <td>1</td>\n",
       "      <td>NaN</td>\n",
       "    </tr>\n",
       "    <tr>\n",
       "      <th>...</th>\n",
       "      <td>...</td>\n",
       "      <td>...</td>\n",
       "      <td>...</td>\n",
       "      <td>...</td>\n",
       "      <td>...</td>\n",
       "      <td>...</td>\n",
       "      <td>...</td>\n",
       "      <td>...</td>\n",
       "      <td>...</td>\n",
       "      <td>...</td>\n",
       "    </tr>\n",
       "    <tr>\n",
       "      <th>603</th>\n",
       "      <td>603.0</td>\n",
       "      <td>604.0</td>\n",
       "      <td>[폭, 그림, 오션뷰, 액자, 창문, 너머, 바다, 감성숙소랍니돠, 미니멀리즘, 추...</td>\n",
       "      <td>5.0</td>\n",
       "      <td>2021-06-24</td>\n",
       "      <td>142</td>\n",
       "      <td>['#제주', '#솔트', '#제주숙소', '#제주여행', '#제주숙소추천', '#...</td>\n",
       "      <td>솔트</td>\n",
       "      <td>2</td>\n",
       "      <td>NaN</td>\n",
       "    </tr>\n",
       "    <tr>\n",
       "      <th>604</th>\n",
       "      <td>604.0</td>\n",
       "      <td>605.0</td>\n",
       "      <td>[리버뷰, 피그멜리온이펙, 트다, 리버, 마운틴뷰, 월풀스파, 즐기다, 뷰맛, 원룸...</td>\n",
       "      <td>5.0</td>\n",
       "      <td>2021-06-15</td>\n",
       "      <td>87</td>\n",
       "      <td>['#춘천', '#피그멜리온이펙트', '#춘천숙소', '#춘천여행', '#춘천숙소추...</td>\n",
       "      <td>피그멜리온이펙트</td>\n",
       "      <td>2</td>\n",
       "      <td>강원도 춘천시 서면 경춘로 405</td>\n",
       "    </tr>\n",
       "    <tr>\n",
       "      <th>605</th>\n",
       "      <td>605.0</td>\n",
       "      <td>606.0</td>\n",
       "      <td>[시골, 동네, 오붓, 편안, 밤, 논밭뷰, 여유, 만끽, 힐링, 게스트하우스, 사...</td>\n",
       "      <td>5.0</td>\n",
       "      <td>2021-04-21</td>\n",
       "      <td>68</td>\n",
       "      <td>['#곡성', '#품안의밤', '#곡성숙소', '#곡성여행', '#곡성숙소추천', ...</td>\n",
       "      <td>품안의밤</td>\n",
       "      <td>2</td>\n",
       "      <td>NaN</td>\n",
       "    </tr>\n",
       "    <tr>\n",
       "      <th>606</th>\n",
       "      <td>606.0</td>\n",
       "      <td>607.0</td>\n",
       "      <td>[다녀오다, 웨딩촬영지, 유명, 더브리앙, 뜨다, 화이트, 앤, 우드, 톤, 좋아하...</td>\n",
       "      <td>5.0</td>\n",
       "      <td>2021-04-19</td>\n",
       "      <td>57</td>\n",
       "      <td>['#강릉', '#더브리앙뜨', '#강릉숙소', '#강릉여행', '#강릉데이트', ...</td>\n",
       "      <td>더브리앙뜨</td>\n",
       "      <td>2</td>\n",
       "      <td>강원도 강릉시 사천면 중앙서로 92-43</td>\n",
       "    </tr>\n",
       "    <tr>\n",
       "      <th>607</th>\n",
       "      <td>607.0</td>\n",
       "      <td>608.0</td>\n",
       "      <td>[고풍스, 런, 미칀, 한옥뷰, 한라궁, 아침, 눈, 뜨다, 한옥정원뷰, 제주오션뷰...</td>\n",
       "      <td>5.0</td>\n",
       "      <td>2021-03-19</td>\n",
       "      <td>90</td>\n",
       "      <td>['#제주도', '#한라궁호텔', '#한라궁', '#제주숙소', '#감성숙소', '...</td>\n",
       "      <td>한라궁호텔</td>\n",
       "      <td>2</td>\n",
       "      <td>제주특별자치도 서귀포시 정방연로 6</td>\n",
       "    </tr>\n",
       "  </tbody>\n",
       "</table>\n",
       "<p>608 rows × 10 columns</p>\n",
       "</div>"
      ],
      "text/plain": [
       "     doc_index  item_index  ... overlap                   place\n",
       "0          0.0         0.0  ...       1                     NaN\n",
       "1          1.0         1.0  ...       1                     NaN\n",
       "2          2.0         2.0  ...       1  제주특별자치도 제주시 구좌읍 계룡길 32\n",
       "3          3.0         3.0  ...       1                     NaN\n",
       "4          4.0         4.0  ...       1                     NaN\n",
       "..         ...         ...  ...     ...                     ...\n",
       "603      603.0       604.0  ...       2                     NaN\n",
       "604      604.0       605.0  ...       2      강원도 춘천시 서면 경춘로 405\n",
       "605      605.0       606.0  ...       2                     NaN\n",
       "606      606.0       607.0  ...       2  강원도 강릉시 사천면 중앙서로 92-43\n",
       "607      607.0       608.0  ...       2     제주특별자치도 서귀포시 정방연로 6\n",
       "\n",
       "[608 rows x 10 columns]"
      ]
     },
     "execution_count": 99,
     "metadata": {},
     "output_type": "execute_result"
    }
   ],
   "source": [
    "merge_inner"
   ]
  },
  {
   "cell_type": "code",
   "execution_count": null,
   "metadata": {
    "colab": {
     "base_uri": "https://localhost:8080/",
     "height": 265
    },
    "id": "3HvD-M8EOWZR",
    "outputId": "e3b9dc37-38e9-4667-ca17-a16ca874b31c"
   },
   "outputs": [
    {
     "data": {
      "image/png": "[encoded data removed]",
      "text/plain": [
       "<Figure size 432x288 with 1 Axes>"
      ]
     },
     "metadata": {
      "needs_background": "light"
     },
     "output_type": "display_data"
    }
   ],
   "source": [
    "plt.hist(merge_inner.topic)\n",
    "plt.show()"
   ]
  },
  {
   "cell_type": "code",
   "execution_count": null,
   "metadata": {
    "id": "DOakE9jDPUeB"
   },
   "outputs": [],
   "source": [
    "## 클래스별 불균형 / 정확한 분류가 되었다고 판단할 수 없음.\n",
    "## Topic #5\t침대, 문, 사용, 커피, 냉장고, 침실, 깔끔, 거실, 수건, 들어가다, 테이블, 편하다, 조명, 따로, 예쁘다, 쪽, 인테리어, 주차, 식기, 샴푸"
   ]
  },
  {
   "cell_type": "code",
   "execution_count": null,
   "metadata": {
    "colab": {
     "base_uri": "https://localhost:8080/",
     "height": 172
    },
    "id": "nk8Hsb9dP2-7",
    "outputId": "906b30b5-464a-4379-a0b9-3b2b82b7d73b"
   },
   "outputs": [
    {
     "ename": "NameError",
     "evalue": "ignored",
     "output_type": "error",
     "traceback": [
      "\u001b[0;31m---------------------------------------------------------------------------\u001b[0m",
      "\u001b[0;31mNameError\u001b[0m                                 Traceback (most recent call last)",
      "\u001b[0;32m<ipython-input-103-efd0839b8838>\u001b[0m in \u001b[0;36m<module>\u001b[0;34m()\u001b[0m\n\u001b[0;32m----> 1\u001b[0;31m \u001b[0mtomotopy\u001b[0m\u001b[0;34m\u001b[0m\u001b[0;34m\u001b[0m\u001b[0m\n\u001b[0m",
      "\u001b[0;31mNameError\u001b[0m: name 'tomotopy' is not defined"
     ]
    }
   ],
   "source": [
    "tomotopy"
   ]
  },
  {
   "cell_type": "markdown",
   "metadata": {
    "id": "rTQXhr2KZo66"
   },
   "source": [
    "# 가중치 정책 변경"
   ]
  },
  {
   "cell_type": "markdown",
   "metadata": {
    "id": "-RTkPxrlLRcF"
   },
   "source": [
    "## TF-IDF"
   ]
  },
  {
   "cell_type": "code",
   "execution_count": 131,
   "metadata": {
    "id": "o4BG2-MwLRvJ"
   },
   "outputs": [],
   "source": [
    "model = tp.LDAModel(k=10, alpha=0.1, eta=0.01, min_cf=5, rm_top=30, tw=tp.TermWeight.IDF)\n",
    "# LDAModel을 생성\n",
    "# 토픽의 개수(k)는 20개, alpha 파라미터는 0.1, eta 파라미터는 0.01\n",
    "# 전체 말뭉치에 5회 미만 등장한 단어들은 제거"
   ]
  },
  {
   "cell_type": "code",
   "execution_count": 132,
   "metadata": {
    "id": "tzqan1U4LRvK"
   },
   "outputs": [],
   "source": [
    "for row in all_items.content:\n",
    "    model.add_doc(row) # 행 별로 model에 추가합니다."
   ]
  },
  {
   "cell_type": "code",
   "execution_count": 48,
   "metadata": {
    "colab": {
     "base_uri": "https://localhost:8080/"
    },
    "id": "c8Ho1jvTLRvK",
    "outputId": "1211a183-d6df-4da2-da1c-1d561270b7ce"
   },
   "outputs": [
    {
     "name": "stdout",
     "output_type": "stream",
     "text": [
      "Total docs: 4342\n",
      "Total words: 745202\n",
      "Vocab size: 10368\n"
     ]
    }
   ],
   "source": [
    "# model의 num_words나 num_vocabs 등은 train을 시작해야 확정됩니다.\n",
    "# 따라서 이 값을 확인하기 위해서 train(0)을 하여 실제 train은 하지 않고\n",
    "# 학습 준비만 시킵니다.\n",
    "# num_words, num_vocabs에 관심 없다면 이부분은 생략해도 됩니다.\n",
    "model.train(0) \n",
    "print('Total docs:', len(model.docs))\n",
    "print('Total words:', model.num_words)\n",
    "print('Vocab size:', model.num_vocabs)"
   ]
  },
  {
   "cell_type": "code",
   "execution_count": 133,
   "metadata": {
    "colab": {
     "base_uri": "https://localhost:8080/"
    },
    "id": "pRFlmKFoLRvK",
    "outputId": "fba2884e-baf9-4035-a0ce-d2282191862f"
   },
   "outputs": [
    {
     "name": "stdout",
     "output_type": "stream",
     "text": [
      "Iteration 0\tLL per word: 0.0\n",
      "Iteration 1\tLL per word: -9.98611191652855\n",
      "Iteration 2\tLL per word: -9.623644480774741\n",
      "Iteration 3\tLL per word: -9.463167923771515\n",
      "Iteration 4\tLL per word: -9.36528606034846\n",
      "Iteration 5\tLL per word: -9.299666556056764\n",
      "Iteration 6\tLL per word: -9.247962127224017\n",
      "Iteration 7\tLL per word: -9.212528097939762\n",
      "Iteration 8\tLL per word: -9.182220482221707\n",
      "Iteration 9\tLL per word: -9.158262662285532\n",
      "Iteration 10\tLL per word: -9.134861138948828\n",
      "Iteration 11\tLL per word: -9.11501754949233\n",
      "Iteration 12\tLL per word: -9.095542339339614\n",
      "Iteration 13\tLL per word: -9.073476471644327\n",
      "Iteration 14\tLL per word: -9.054246345413036\n",
      "Iteration 15\tLL per word: -9.036390721190886\n",
      "Iteration 16\tLL per word: -9.017784242999966\n",
      "Iteration 17\tLL per word: -9.00181415239283\n",
      "Iteration 18\tLL per word: -8.989519443063749\n",
      "Iteration 19\tLL per word: -8.972165506602105\n",
      "Iteration 20\tLL per word: -8.956953922740547\n",
      "Iteration 21\tLL per word: -8.945380487563856\n",
      "Iteration 22\tLL per word: -8.93078894479631\n",
      "Iteration 23\tLL per word: -8.920056743656056\n",
      "Iteration 24\tLL per word: -8.906863467474599\n",
      "Iteration 25\tLL per word: -8.89813206631728\n",
      "Iteration 26\tLL per word: -8.888930592580563\n",
      "Iteration 27\tLL per word: -8.880643781977545\n",
      "Iteration 28\tLL per word: -8.8725857901259\n",
      "Iteration 29\tLL per word: -8.861553302855272\n",
      "Iteration 30\tLL per word: -8.85378459149336\n",
      "Iteration 31\tLL per word: -8.848125014506019\n",
      "Iteration 32\tLL per word: -8.840935604793106\n",
      "Iteration 33\tLL per word: -8.834800535621238\n",
      "Iteration 34\tLL per word: -8.827891751033354\n",
      "Iteration 35\tLL per word: -8.820499480147733\n",
      "Iteration 36\tLL per word: -8.815563378052092\n",
      "Iteration 37\tLL per word: -8.810748644222702\n",
      "Iteration 38\tLL per word: -8.804086932813478\n",
      "Iteration 39\tLL per word: -8.800253549950622\n",
      "Iteration 40\tLL per word: -8.794501799324232\n",
      "Iteration 41\tLL per word: -8.789846149480582\n",
      "Iteration 42\tLL per word: -8.783432495448883\n",
      "Iteration 43\tLL per word: -8.779184907617719\n",
      "Iteration 44\tLL per word: -8.773994325695924\n",
      "Iteration 45\tLL per word: -8.770820248836795\n",
      "Iteration 46\tLL per word: -8.767060320886657\n",
      "Iteration 47\tLL per word: -8.760516453968084\n",
      "Iteration 48\tLL per word: -8.759400767006904\n",
      "Iteration 49\tLL per word: -8.756011772925072\n",
      "Iteration 50\tLL per word: -8.751536732705812\n",
      "Iteration 51\tLL per word: -8.746260081021013\n",
      "Iteration 52\tLL per word: -8.742056905309052\n",
      "Iteration 53\tLL per word: -8.7366194222966\n",
      "Iteration 54\tLL per word: -8.735826973130049\n",
      "Iteration 55\tLL per word: -8.732857172187076\n",
      "Iteration 56\tLL per word: -8.729891688677416\n",
      "Iteration 57\tLL per word: -8.725020422572035\n",
      "Iteration 58\tLL per word: -8.723510742778176\n",
      "Iteration 59\tLL per word: -8.720148624156945\n",
      "Iteration 60\tLL per word: -8.715392606388438\n",
      "Iteration 61\tLL per word: -8.711210655578023\n",
      "Iteration 62\tLL per word: -8.708343275540534\n",
      "Iteration 63\tLL per word: -8.703332992769864\n",
      "Iteration 64\tLL per word: -8.701216832550575\n",
      "Iteration 65\tLL per word: -8.697676018219658\n",
      "Iteration 66\tLL per word: -8.69357171768715\n",
      "Iteration 67\tLL per word: -8.690405403055092\n",
      "Iteration 68\tLL per word: -8.690702881732344\n",
      "Iteration 69\tLL per word: -8.686890480675773\n",
      "Iteration 70\tLL per word: -8.68458174320115\n",
      "Iteration 71\tLL per word: -8.681717187922098\n",
      "Iteration 72\tLL per word: -8.680786376778789\n",
      "Iteration 73\tLL per word: -8.675359781427128\n",
      "Iteration 74\tLL per word: -8.6738723282813\n",
      "Iteration 75\tLL per word: -8.67146485080938\n",
      "Iteration 76\tLL per word: -8.67097116728986\n",
      "Iteration 77\tLL per word: -8.667641045289162\n",
      "Iteration 78\tLL per word: -8.665100494241083\n",
      "Iteration 79\tLL per word: -8.66297892176743\n",
      "Iteration 80\tLL per word: -8.659851287845814\n",
      "Iteration 81\tLL per word: -8.657103865556806\n",
      "Iteration 82\tLL per word: -8.655770732976276\n",
      "Iteration 83\tLL per word: -8.653128667837947\n",
      "Iteration 84\tLL per word: -8.651822903193173\n",
      "Iteration 85\tLL per word: -8.647781965823679\n",
      "Iteration 86\tLL per word: -8.646146627057883\n",
      "Iteration 87\tLL per word: -8.644065423378374\n",
      "Iteration 88\tLL per word: -8.64266504571228\n",
      "Iteration 89\tLL per word: -8.640657235323442\n",
      "Iteration 90\tLL per word: -8.641511655211284\n",
      "Iteration 91\tLL per word: -8.639203501901711\n",
      "Iteration 92\tLL per word: -8.63869690226424\n",
      "Iteration 93\tLL per word: -8.638143359359002\n",
      "Iteration 94\tLL per word: -8.63542579697607\n",
      "Iteration 95\tLL per word: -8.634115293587948\n",
      "Iteration 96\tLL per word: -8.633998695642363\n",
      "Iteration 97\tLL per word: -8.631218085444235\n",
      "Iteration 98\tLL per word: -8.628820681104308\n",
      "Iteration 99\tLL per word: -8.627346577212725\n",
      "Iteration 100\tLL per word: -8.626971508257835\n",
      "Iteration 101\tLL per word: -8.623113021441785\n",
      "Iteration 102\tLL per word: -8.621053644553987\n",
      "Iteration 103\tLL per word: -8.620443240078778\n",
      "Iteration 104\tLL per word: -8.61964621356512\n",
      "Iteration 105\tLL per word: -8.615559294016062\n",
      "Iteration 106\tLL per word: -8.61537243978149\n",
      "Iteration 107\tLL per word: -8.613134390056942\n",
      "Iteration 108\tLL per word: -8.611192754885591\n",
      "Iteration 109\tLL per word: -8.609795831530285\n",
      "Iteration 110\tLL per word: -8.60908922224498\n",
      "Iteration 111\tLL per word: -8.607957370284614\n",
      "Iteration 112\tLL per word: -8.607480839928552\n",
      "Iteration 113\tLL per word: -8.607580647513814\n",
      "Iteration 114\tLL per word: -8.606510033965241\n",
      "Iteration 115\tLL per word: -8.60385009419373\n",
      "Iteration 116\tLL per word: -8.603412721248537\n",
      "Iteration 117\tLL per word: -8.604242451219527\n",
      "Iteration 118\tLL per word: -8.601546942584278\n",
      "Iteration 119\tLL per word: -8.600852732968438\n",
      "Iteration 120\tLL per word: -8.59885441825944\n",
      "Iteration 121\tLL per word: -8.597288299600882\n",
      "Iteration 122\tLL per word: -8.597210849789459\n",
      "Iteration 123\tLL per word: -8.595071873107527\n",
      "Iteration 124\tLL per word: -8.59569233438421\n",
      "Iteration 125\tLL per word: -8.594553218218472\n",
      "Iteration 126\tLL per word: -8.59360067707405\n",
      "Iteration 127\tLL per word: -8.593125633017562\n",
      "Iteration 128\tLL per word: -8.591574187499633\n",
      "Iteration 129\tLL per word: -8.590927019287824\n",
      "Iteration 130\tLL per word: -8.590482676875848\n",
      "Iteration 131\tLL per word: -8.589313302052386\n",
      "Iteration 132\tLL per word: -8.586225610396015\n",
      "Iteration 133\tLL per word: -8.584310733913346\n",
      "Iteration 134\tLL per word: -8.584700124325481\n",
      "Iteration 135\tLL per word: -8.583500491333618\n",
      "Iteration 136\tLL per word: -8.583459073023638\n",
      "Iteration 137\tLL per word: -8.580375092073602\n",
      "Iteration 138\tLL per word: -8.58047655956966\n",
      "Iteration 139\tLL per word: -8.580725254378589\n",
      "Iteration 140\tLL per word: -8.579746601290264\n",
      "Iteration 141\tLL per word: -8.578587387550959\n",
      "Iteration 142\tLL per word: -8.577740219303111\n",
      "Iteration 143\tLL per word: -8.576765291626549\n",
      "Iteration 144\tLL per word: -8.577862514667578\n",
      "Iteration 145\tLL per word: -8.57633665100235\n",
      "Iteration 146\tLL per word: -8.575487245062542\n",
      "Iteration 147\tLL per word: -8.576320843840824\n",
      "Iteration 148\tLL per word: -8.574344695217437\n",
      "Iteration 149\tLL per word: -8.573463293924643\n",
      "Iteration 150\tLL per word: -8.572002805867962\n",
      "Iteration 151\tLL per word: -8.572175007385294\n",
      "Iteration 152\tLL per word: -8.571628203541747\n",
      "Iteration 153\tLL per word: -8.570892535038018\n",
      "Iteration 154\tLL per word: -8.570648157219727\n",
      "Iteration 155\tLL per word: -8.571117447970698\n",
      "Iteration 156\tLL per word: -8.569547656895764\n",
      "Iteration 157\tLL per word: -8.570471719653364\n",
      "Iteration 158\tLL per word: -8.571283668609661\n",
      "Iteration 159\tLL per word: -8.569160728043318\n",
      "Iteration 160\tLL per word: -8.567465167652859\n",
      "Iteration 161\tLL per word: -8.56742855182062\n",
      "Iteration 162\tLL per word: -8.567909381974793\n",
      "Iteration 163\tLL per word: -8.565606870863371\n",
      "Iteration 164\tLL per word: -8.565547581260093\n",
      "Iteration 165\tLL per word: -8.565992163507754\n",
      "Iteration 166\tLL per word: -8.565200584778793\n",
      "Iteration 167\tLL per word: -8.564276246513586\n",
      "Iteration 168\tLL per word: -8.563092276964856\n",
      "Iteration 169\tLL per word: -8.56397255314069\n",
      "Iteration 170\tLL per word: -8.562104051059324\n",
      "Iteration 171\tLL per word: -8.561837372911436\n",
      "Iteration 172\tLL per word: -8.561297340800694\n",
      "Iteration 173\tLL per word: -8.560711522117398\n",
      "Iteration 174\tLL per word: -8.56073625194376\n",
      "Iteration 175\tLL per word: -8.560227034881427\n",
      "Iteration 176\tLL per word: -8.560020338970208\n",
      "Iteration 177\tLL per word: -8.56147764384126\n",
      "Iteration 178\tLL per word: -8.561355450478729\n",
      "Iteration 179\tLL per word: -8.559028832101404\n",
      "Iteration 180\tLL per word: -8.559186358101268\n",
      "Iteration 181\tLL per word: -8.55885128325706\n",
      "Iteration 182\tLL per word: -8.557730710133589\n",
      "Iteration 183\tLL per word: -8.558518592328248\n",
      "Iteration 184\tLL per word: -8.557373771508352\n",
      "Iteration 185\tLL per word: -8.557517660956396\n",
      "Iteration 186\tLL per word: -8.557586620104672\n",
      "Iteration 187\tLL per word: -8.556615431576525\n",
      "Iteration 188\tLL per word: -8.557202202610428\n",
      "Iteration 189\tLL per word: -8.557129528158594\n",
      "Iteration 190\tLL per word: -8.556479568554009\n",
      "Iteration 191\tLL per word: -8.556155053142167\n",
      "Iteration 192\tLL per word: -8.5555628492978\n",
      "Iteration 193\tLL per word: -8.552888681833332\n",
      "Iteration 194\tLL per word: -8.554258846585373\n",
      "Iteration 195\tLL per word: -8.554213538810437\n",
      "Iteration 196\tLL per word: -8.55374672448697\n",
      "Iteration 197\tLL per word: -8.553134993914906\n",
      "Iteration 198\tLL per word: -8.553279555403407\n",
      "Iteration 199\tLL per word: -8.553234229281042\n"
     ]
    }
   ],
   "source": [
    "# 다음 구문은 train을 총 200회 반복하면서, \n",
    "# 매 단계별로 로그 가능도 값을 출력해줍니다.\n",
    "# 혹은 단순히 model.train(200)으로 200회 반복도 가능합니다.\n",
    "for i in range(200):\n",
    "    print('Iteration {}\\tLL per word: {}'.format(i, model.ll_per_word))\n",
    "    model.train(3)"
   ]
  },
  {
   "cell_type": "code",
   "execution_count": 134,
   "metadata": {
    "id": "D7M8TodhOY-Q"
   },
   "outputs": [],
   "source": [
    "model.save('TF-IDF_model.bin')"
   ]
  },
  {
   "cell_type": "code",
   "execution_count": 50,
   "metadata": {
    "colab": {
     "base_uri": "https://localhost:8080/"
    },
    "id": "eBeJ5Vy5LRvK",
    "outputId": "ebce3281-5967-4837-ca11-0f7ce78531db"
   },
   "outputs": [
    {
     "name": "stdout",
     "output_type": "stream",
     "text": [
      "Topic #0\t한옥, 별채, 마당, 책, 안채, 시골집, 한옥스테, 안목, 전통, 석식, 고즈넉, 매력, 한옥스테이, 사랑채, 마루, 소, 현대, 본채, 댁, 편안\n",
      "Topic #1\t기록, 실시간, 국내, 비애, 출처, 경기도, 민박, 여행지, 비수기, 경상북도, 미학, 숲, 마을, 핫, ᆸ, 프다, ᆷ, 경남, 제작, 상품권\n",
      "Topic #2\t수영장, 오션뷰, 리조트, 스파, 풀장, 일출, 물놀이, 다이빙, 블루, 인피니티, 야외, 기장, 바라보다, 카루나, 수풀, 일몰, 테라스, 개별, 노을, 충남\n",
      "Topic #3\t굽다, 오빠, 자쿠지, 남편, 탕, 도착, 놀다, 온도, 날씨, 밥, 수영장, 못, 새우, 메뉴, 적정, 삼겹살, 노을, 음료, 남자, 도토리\n",
      "Topic #4\t정원, 가족, 풍경, 귤, 아기, 엄마, 꽃, 밭, 멋지다, 애, 만나다, 아름답다, 눈, 수국, 편안, 언니, 촬영, 아빠, 시작, 잔디\n",
      "Topic #5\t테이블, 편하다, 욕실, 쪽, 마당, 조명, 불편, 부엌, 밖, 놓이다, 계단, 입구, 넉넉, 모습, 샤워, 따로, 침구, 창문, 의자, 식탁\n",
      "Topic #6\t와인, 요기, 잔, 파티, 틀다, 배달, 맥주, 이거, 짱, 그릇, 벌레, 욕조, 칫솔, 챙기다, 완벽, 술, 컵, 병, 티비, 트다\n",
      "Topic #7\t숙박, 오션뷰, 네이버, 유명, 욕조, 마감, 실, 참고, 불가, 선택, 성비, 저렴, 금액, 일정, 해변, 공유, 요금, 오후, 제공, 후기\n",
      "Topic #8\t캠핑, 라운드, 카라, 캠프, 폴리, 화담, 강화도, 핑, 글램, 기네스, 호스텔, 글램핑, 텐트, 베이스, 만송재, 카라반, 드렌도트, 선인장, 별장, 별서\n",
      "Topic #9\t인터뷰, 아날로그, 오두막, 모포, 로컬, 한적, 매듭, 스무, 아날로그스테이, 라피아, 불멍, 까망감스테이, 치앙마이, 히노끼탕, 토투, 아날로그스테, 칠천도, 라인, 탕, 숲\n"
     ]
    }
   ],
   "source": [
    "# 학습된 토픽들을 출력해보도록 합시다.\n",
    "for i in range(model.k):\n",
    "    # 토픽 개수가 총 20개이니, 0~19번까지의 토픽별 상위 단어 10개를 뽑아봅시다.\n",
    "    res = model.get_topic_words(i, top_n=20)\n",
    "    print('Topic #{}'.format(i), end='\\t')\n",
    "    print(', '.join(w for w, p in res))"
   ]
  },
  {
   "cell_type": "code",
   "execution_count": null,
   "metadata": {
    "colab": {
     "base_uri": "https://localhost:8080/"
    },
    "id": "gcRAHASD0Cel",
    "outputId": "05d66ed5-22bf-437d-a467-66117b2a6545"
   },
   "outputs": [
    {
     "name": "stdout",
     "output_type": "stream",
     "text": [
      "==== Coherence : u_mass ====\n",
      "Average: -7.618230804392676\n",
      "\n",
      "==== Coherence : c_uci ====\n",
      "Average: -3.692237754792612\n",
      "\n",
      "==== Coherence : c_npmi ====\n",
      "Average: -0.08127343536076931\n",
      "\n",
      "==== Coherence : c_v ====\n",
      "Average: 0.6995148056373\n",
      "\n"
     ]
    }
   ],
   "source": [
    "# calculate coherence using preset\n",
    "\n",
    "for preset in ('u_mass', 'c_uci', 'c_npmi', 'c_v'):\n",
    "    coh = tp.coherence.Coherence(model, coherence=preset, )\n",
    "    average_coherence = coh.get_score()\n",
    "    coherence_per_topic = [coh.get_score(topic_id=k) for k in range(model.k)]\n",
    "    print('==== Coherence : {} ===='.format(preset))\n",
    "    print('Average:', average_coherence)\n",
    "    print()"
   ]
  },
  {
   "cell_type": "code",
   "execution_count": null,
   "metadata": {
    "id": "Lk09WTE4LY0V"
   },
   "outputs": [],
   "source": [
    "model_list = {}\n",
    "for num_topics in range(3, 31, 1):\n",
    "  model_list['model_{}'.format(num_topics)] = tp.LDAModel(k=num_topics, alpha=0.1, eta=0.01, min_cf=3, rm_top=10, tw=tp.TermWeight.IDF)"
   ]
  },
  {
   "cell_type": "code",
   "execution_count": null,
   "metadata": {
    "id": "uAz9YhhYW7gq"
   },
   "outputs": [],
   "source": [
    "for k, v in model_list.items():\n",
    "  print(k)"
   ]
  },
  {
   "cell_type": "code",
   "execution_count": null,
   "metadata": {
    "id": "3OdtWHS4Wtde"
   },
   "outputs": [],
   "source": [
    "for k, v in model_list.items():\n",
    "  for row in all_items.content:\n",
    "          model_list[k].add_doc(row) # 행 별로 model에 추가합니다."
   ]
  },
  {
   "cell_type": "code",
   "execution_count": null,
   "metadata": {
    "id": "ruskeVcvYbhW"
   },
   "outputs": [],
   "source": [
    "# model의 num_words나 num_vocabs 등은 train을 시작해야 확정됩니다.\n",
    "# 따라서 이 값을 확인하기 위해서 train(0)을 하여 실제 train은 하지 않고\n",
    "# 학습 준비만 시킵니다.\n",
    "# num_words, num_vocabs에 관심 없다면 이부분은 생략해도 됩니다.\n",
    "for k, v in model_list.items():\n",
    "  model_list[k].train(0) \n",
    "  print('Total docs:', len(model_list[k].docs))\n",
    "  print('Total words:', model_list[k].num_words)\n",
    "  print('Vocab size:', model_list[k].num_vocabs)"
   ]
  },
  {
   "cell_type": "code",
   "execution_count": null,
   "metadata": {
    "id": "_i6uZcyoZNWl"
   },
   "outputs": [],
   "source": [
    "# 다음 구문은 train을 총 200회 반복하면서, \n",
    "# 매 단계별로 로그 가능도 값을 출력해줍니다.\n",
    "# 혹은 단순히 model.train(200)으로 200회 반복도 가능합니다.\n",
    "for k, v in model_list.items():\n",
    "  model_list[k].train(200) "
   ]
  },
  {
   "cell_type": "code",
   "execution_count": null,
   "metadata": {
    "id": "rHsv5s2vaNlW"
   },
   "outputs": [],
   "source": [
    "# calculate coherence using preset\n",
    "\n",
    "max_coherence = 0\n",
    "\n",
    "for k, v in model_list.items(): \n",
    "  coh = tp.coherence.Coherence(model_list[k], coherence='c_v', )\n",
    "  average_coherence = coh.get_score()\n",
    "  if average_coherence >= max_coherence:\n",
    "    max_coherence = average_coherence\n",
    "    model_num = k\n",
    "  print('==== Coherence : {} ===='.format(k))\n",
    "  print('Average:', average_coherence)\n",
    "  print()\n",
    "print('best_model_num:', model_num)\n",
    "print('max_coherence:', max_coherence)"
   ]
  },
  {
   "cell_type": "code",
   "execution_count": null,
   "metadata": {
    "id": "66I4tpyJqGjx"
   },
   "outputs": [],
   "source": [
    "best_model = model_list['model_26']"
   ]
  },
  {
   "cell_type": "markdown",
   "metadata": {
    "id": "5fXXMrKhLRvK"
   },
   "source": [
    "# 문헌별 토픽 분류"
   ]
  },
  {
   "cell_type": "code",
   "execution_count": null,
   "metadata": {
    "colab": {
     "base_uri": "https://localhost:8080/"
    },
    "id": "j8v7fOFPLRvL",
    "outputId": "8064d93e-3a7b-420f-958c-cfe51b5e0790"
   },
   "outputs": [
    {
     "data": {
      "text/plain": [
       "4342"
      ]
     },
     "execution_count": 55,
     "metadata": {},
     "output_type": "execute_result"
    }
   ],
   "source": [
    "len(model.docs)"
   ]
  },
  {
   "cell_type": "code",
   "execution_count": null,
   "metadata": {
    "id": "S0h4dievLRvL"
   },
   "outputs": [],
   "source": [
    "# 먼저 토픽 개수만큼 공간을 만들어줍니다.\n",
    "buckets = [[] for _ in range(best_model.k)]\n",
    "# 전체 문헌에 대해, top 1 주제 번호를 찾아 그 그룹에 해당 문헌을 포함시킵니다.\n",
    "for i, d in enumerate(best_model.docs):\n",
    "    buckets[d.get_topics(top_n=1)[0][0]].append([i,d])"
   ]
  },
  {
   "cell_type": "code",
   "execution_count": null,
   "metadata": {
    "id": "4NtrWVshLRvL"
   },
   "outputs": [],
   "source": [
    "topic_table = pd.DataFrame() #테이블 생성\n",
    "doc_index = []\n",
    "content = []\n",
    "topics = []\n",
    "item_idx = []\n",
    "\n",
    "for i in range(len(best_model.docs)): # 인덱스별 값을 개별 변수로 테이블에 배정\n",
    "  doc_index = int(i)\n",
    "  content = all_items.content[i]\n",
    "  item_idx = all_items.item_idx[i]\n",
    "  topics = int(best_model.docs[i].get_topics(top_n=1)[0][0])\n",
    "  topic_table = topic_table.append(pd.Series([doc_index,item_idx, content, topics]), ignore_index=True)"
   ]
  },
  {
   "cell_type": "code",
   "execution_count": null,
   "metadata": {
    "colab": {
     "base_uri": "https://localhost:8080/",
     "height": 423
    },
    "id": "_CSG6zpaLRvL",
    "outputId": "dab5d13d-2e62-464b-fdc2-a9cfe98237ae"
   },
   "outputs": [
    {
     "data": {
      "text/html": [
       "<div>\n",
       "<style scoped>\n",
       "    .dataframe tbody tr th:only-of-type {\n",
       "        vertical-align: middle;\n",
       "    }\n",
       "\n",
       "    .dataframe tbody tr th {\n",
       "        vertical-align: top;\n",
       "    }\n",
       "\n",
       "    .dataframe thead th {\n",
       "        text-align: right;\n",
       "    }\n",
       "</style>\n",
       "<table border=\"1\" class=\"dataframe\">\n",
       "  <thead>\n",
       "    <tr style=\"text-align: right;\">\n",
       "      <th></th>\n",
       "      <th>0</th>\n",
       "      <th>1</th>\n",
       "      <th>2</th>\n",
       "      <th>3</th>\n",
       "    </tr>\n",
       "  </thead>\n",
       "  <tbody>\n",
       "    <tr>\n",
       "      <th>0</th>\n",
       "      <td>0.0</td>\n",
       "      <td>0.0</td>\n",
       "      <td>[파도의무늬오션뷰, 무늬, 무늬, 물결, 일렁이다, 반짝거리다, 철썩, 철썩, 치다...</td>\n",
       "      <td>12.0</td>\n",
       "    </tr>\n",
       "    <tr>\n",
       "      <th>1</th>\n",
       "      <td>1.0</td>\n",
       "      <td>1.0</td>\n",
       "      <td>[시호일시간, 흔적, 담다, 시호, 시호, 번화가, 유명, 흔적, 품다, 주택, 상...</td>\n",
       "      <td>18.0</td>\n",
       "    </tr>\n",
       "    <tr>\n",
       "      <th>2</th>\n",
       "      <td>2.0</td>\n",
       "      <td>2.0</td>\n",
       "      <td>[까맣다, 돌멩이, 조식, 예쁘다, 까맣다, 돌멩이, 까맣다, 돌멩이, 가족, 커플...</td>\n",
       "      <td>1.0</td>\n",
       "    </tr>\n",
       "    <tr>\n",
       "      <th>3</th>\n",
       "      <td>3.0</td>\n",
       "      <td>3.0</td>\n",
       "      <td>[권장, 가득, 권장, 권장, 자연경관, 두르다, 쌓이다, 마당, 힐, 링, 판, ...</td>\n",
       "      <td>21.0</td>\n",
       "    </tr>\n",
       "    <tr>\n",
       "      <th>4</th>\n",
       "      <td>4.0</td>\n",
       "      <td>4.0</td>\n",
       "      <td>[라온가, 따뜻, 힐링, 라온, 온, 주택, 개조, 라온, 우리말, 즐겁다, 뜻, ...</td>\n",
       "      <td>21.0</td>\n",
       "    </tr>\n",
       "    <tr>\n",
       "      <th>...</th>\n",
       "      <td>...</td>\n",
       "      <td>...</td>\n",
       "      <td>...</td>\n",
       "      <td>...</td>\n",
       "    </tr>\n",
       "    <tr>\n",
       "      <th>4337</th>\n",
       "      <td>4337.0</td>\n",
       "      <td>NaN</td>\n",
       "      <td>[국내, 여행지, 여행, 맨션자두, 들어가다, 커다랗다, 널판지, 깔다, 발, 편하...</td>\n",
       "      <td>18.0</td>\n",
       "    </tr>\n",
       "    <tr>\n",
       "      <th>4338</th>\n",
       "      <td>4338.0</td>\n",
       "      <td>NaN</td>\n",
       "      <td>[영이, 분기, 여행, 스테이솔, 여행지, 영이, 퇴근, 오빠, 먼저, 카페, 데이...</td>\n",
       "      <td>23.0</td>\n",
       "    </tr>\n",
       "    <tr>\n",
       "      <th>4339</th>\n",
       "      <td>4339.0</td>\n",
       "      <td>NaN</td>\n",
       "      <td>[다귀, 쉼터, 오늘, 하얗다, 외관, 매듭, 스무, 시장, 포장, 시장, 네비찍,...</td>\n",
       "      <td>7.0</td>\n",
       "    </tr>\n",
       "    <tr>\n",
       "      <th>4340</th>\n",
       "      <td>4340.0</td>\n",
       "      <td>NaN</td>\n",
       "      <td>[아파트먼트, 여행, 자주, 불구, 잡다, 놀다, 처음, 고르다, 급하다, 잡다, ...</td>\n",
       "      <td>7.0</td>\n",
       "    </tr>\n",
       "    <tr>\n",
       "      <th>4341</th>\n",
       "      <td>4341.0</td>\n",
       "      <td>NaN</td>\n",
       "      <td>[포도봉, 미루다, 미루다, 숙소콕, 여행, 다행, 맞추다, 다녀오다, 예쁘다, 룰...</td>\n",
       "      <td>23.0</td>\n",
       "    </tr>\n",
       "  </tbody>\n",
       "</table>\n",
       "<p>4342 rows × 4 columns</p>\n",
       "</div>"
      ],
      "text/plain": [
       "           0    1                                                  2     3\n",
       "0        0.0  0.0  [파도의무늬오션뷰, 무늬, 무늬, 물결, 일렁이다, 반짝거리다, 철썩, 철썩, 치다...  12.0\n",
       "1        1.0  1.0  [시호일시간, 흔적, 담다, 시호, 시호, 번화가, 유명, 흔적, 품다, 주택, 상...  18.0\n",
       "2        2.0  2.0  [까맣다, 돌멩이, 조식, 예쁘다, 까맣다, 돌멩이, 까맣다, 돌멩이, 가족, 커플...   1.0\n",
       "3        3.0  3.0  [권장, 가득, 권장, 권장, 자연경관, 두르다, 쌓이다, 마당, 힐, 링, 판, ...  21.0\n",
       "4        4.0  4.0  [라온가, 따뜻, 힐링, 라온, 온, 주택, 개조, 라온, 우리말, 즐겁다, 뜻, ...  21.0\n",
       "...      ...  ...                                                ...   ...\n",
       "4337  4337.0  NaN  [국내, 여행지, 여행, 맨션자두, 들어가다, 커다랗다, 널판지, 깔다, 발, 편하...  18.0\n",
       "4338  4338.0  NaN  [영이, 분기, 여행, 스테이솔, 여행지, 영이, 퇴근, 오빠, 먼저, 카페, 데이...  23.0\n",
       "4339  4339.0  NaN  [다귀, 쉼터, 오늘, 하얗다, 외관, 매듭, 스무, 시장, 포장, 시장, 네비찍,...   7.0\n",
       "4340  4340.0  NaN  [아파트먼트, 여행, 자주, 불구, 잡다, 놀다, 처음, 고르다, 급하다, 잡다, ...   7.0\n",
       "4341  4341.0  NaN  [포도봉, 미루다, 미루다, 숙소콕, 여행, 다행, 맞추다, 다녀오다, 예쁘다, 룰...  23.0\n",
       "\n",
       "[4342 rows x 4 columns]"
      ]
     },
     "execution_count": 55,
     "metadata": {},
     "output_type": "execute_result"
    }
   ],
   "source": [
    "topic_table"
   ]
  },
  {
   "cell_type": "code",
   "execution_count": null,
   "metadata": {
    "id": "B9Waryg3LRvM"
   },
   "outputs": [],
   "source": [
    "topic_table.columns = ['doc_index','item_index', 'content', 'topic']"
   ]
  },
  {
   "cell_type": "code",
   "execution_count": null,
   "metadata": {
    "id": "SwhgYfDLLRvM"
   },
   "outputs": [],
   "source": [
    "topic_table = pd.DataFrame(topic_table)"
   ]
  },
  {
   "cell_type": "code",
   "execution_count": null,
   "metadata": {
    "id": "PrS2dRANLRvM"
   },
   "outputs": [],
   "source": [
    "topic_table.content[0]"
   ]
  },
  {
   "cell_type": "code",
   "execution_count": null,
   "metadata": {
    "id": "FlYmeP3CLRvM"
   },
   "outputs": [],
   "source": [
    "insta_data.columns = ['item_index', 'content', 'date', 'like', 'tags', 'name', 'overlap', 'place']"
   ]
  },
  {
   "cell_type": "code",
   "execution_count": null,
   "metadata": {
    "colab": {
     "base_uri": "https://localhost:8080/",
     "height": 597
    },
    "id": "fnDiaZHuLRvM",
    "outputId": "75d6537f-7834-40da-8839-9a29062e449b"
   },
   "outputs": [
    {
     "data": {
      "text/html": [
       "<div>\n",
       "<style scoped>\n",
       "    .dataframe tbody tr th:only-of-type {\n",
       "        vertical-align: middle;\n",
       "    }\n",
       "\n",
       "    .dataframe tbody tr th {\n",
       "        vertical-align: top;\n",
       "    }\n",
       "\n",
       "    .dataframe thead th {\n",
       "        text-align: right;\n",
       "    }\n",
       "</style>\n",
       "<table border=\"1\" class=\"dataframe\">\n",
       "  <thead>\n",
       "    <tr style=\"text-align: right;\">\n",
       "      <th></th>\n",
       "      <th>item_index</th>\n",
       "      <th>content</th>\n",
       "      <th>date</th>\n",
       "      <th>like</th>\n",
       "      <th>tags</th>\n",
       "      <th>name</th>\n",
       "      <th>overlap</th>\n",
       "      <th>place</th>\n",
       "    </tr>\n",
       "  </thead>\n",
       "  <tbody>\n",
       "    <tr>\n",
       "      <th>0</th>\n",
       "      <td>0</td>\n",
       "      <td>[파도의무늬오션뷰, 무늬, 무늬, 물결, 일렁이다, 반짝거리다, 철썩, 철썩, 치다...</td>\n",
       "      <td>2021-09-06</td>\n",
       "      <td>39</td>\n",
       "      <td>['#데일리감성속초로', '#데일리감성_속초강원도', '#데일리감성_강원——————...</td>\n",
       "      <td>파도의무늬</td>\n",
       "      <td>1</td>\n",
       "      <td>NaN</td>\n",
       "    </tr>\n",
       "    <tr>\n",
       "      <th>1</th>\n",
       "      <td>1</td>\n",
       "      <td>[시호일시간, 흔적, 담다, 시호, 시호, 번화가, 유명, 흔적, 품다, 주택, 상...</td>\n",
       "      <td>2021-09-03</td>\n",
       "      <td>12</td>\n",
       "      <td>['#데일리감성강릉으로', '#데일리감성_강릉강원도', '#데일리감성_강원—————...</td>\n",
       "      <td>스테이 시호일</td>\n",
       "      <td>1</td>\n",
       "      <td>NaN</td>\n",
       "    </tr>\n",
       "    <tr>\n",
       "      <th>2</th>\n",
       "      <td>2</td>\n",
       "      <td>[까맣다, 돌멩이, 조식, 예쁘다, 까맣다, 돌멩이, 까맣다, 돌멩이, 가족, 커플...</td>\n",
       "      <td>2021-09-03</td>\n",
       "      <td>33</td>\n",
       "      <td>['#데일리감성제주도', '#데일리감성_제주—————————————————']</td>\n",
       "      <td>까만돌멩이</td>\n",
       "      <td>1</td>\n",
       "      <td>제주특별자치도 제주시 구좌읍 계룡길 32</td>\n",
       "    </tr>\n",
       "    <tr>\n",
       "      <th>3</th>\n",
       "      <td>3</td>\n",
       "      <td>[권장, 가득, 권장, 권장, 자연경관, 두르다, 쌓이다, 마당, 힐, 링, 판, ...</td>\n",
       "      <td>2021-09-02</td>\n",
       "      <td>36</td>\n",
       "      <td>['#데일리감성단양으로', '#데일리감성_단양충청북도', '#데일리감성_충북————...</td>\n",
       "      <td>권장사양</td>\n",
       "      <td>1</td>\n",
       "      <td>NaN</td>\n",
       "    </tr>\n",
       "    <tr>\n",
       "      <th>4</th>\n",
       "      <td>4</td>\n",
       "      <td>[라온가, 따뜻, 힐링, 라온, 온, 주택, 개조, 라온, 우리말, 즐겁다, 뜻, ...</td>\n",
       "      <td>2021-09-01</td>\n",
       "      <td>24</td>\n",
       "      <td>['#데일리감성강릉으로', '#데일리감성_강릉강원도', '#데일리감성_강원—————...</td>\n",
       "      <td>라온가</td>\n",
       "      <td>1</td>\n",
       "      <td>NaN</td>\n",
       "    </tr>\n",
       "    <tr>\n",
       "      <th>...</th>\n",
       "      <td>...</td>\n",
       "      <td>...</td>\n",
       "      <td>...</td>\n",
       "      <td>...</td>\n",
       "      <td>...</td>\n",
       "      <td>...</td>\n",
       "      <td>...</td>\n",
       "      <td>...</td>\n",
       "    </tr>\n",
       "    <tr>\n",
       "      <th>604</th>\n",
       "      <td>604</td>\n",
       "      <td>[폭, 그림, 오션뷰, 액자, 창문, 너머, 바다, 감성숙소랍니돠, 미니멀리즘, 추...</td>\n",
       "      <td>2021-06-24</td>\n",
       "      <td>142</td>\n",
       "      <td>['#제주', '#솔트', '#제주숙소', '#제주여행', '#제주숙소추천', '#...</td>\n",
       "      <td>솔트</td>\n",
       "      <td>2</td>\n",
       "      <td>NaN</td>\n",
       "    </tr>\n",
       "    <tr>\n",
       "      <th>605</th>\n",
       "      <td>605</td>\n",
       "      <td>[리버뷰, 피그멜리온이펙, 트다, 리버, 마운틴뷰, 월풀스파, 즐기다, 뷰맛, 원룸...</td>\n",
       "      <td>2021-06-15</td>\n",
       "      <td>87</td>\n",
       "      <td>['#춘천', '#피그멜리온이펙트', '#춘천숙소', '#춘천여행', '#춘천숙소추...</td>\n",
       "      <td>피그멜리온이펙트</td>\n",
       "      <td>2</td>\n",
       "      <td>강원도 춘천시 서면 경춘로 405</td>\n",
       "    </tr>\n",
       "    <tr>\n",
       "      <th>606</th>\n",
       "      <td>606</td>\n",
       "      <td>[시골, 동네, 오붓, 편안, 밤, 논밭뷰, 여유, 만끽, 힐링, 게스트하우스, 사...</td>\n",
       "      <td>2021-04-21</td>\n",
       "      <td>68</td>\n",
       "      <td>['#곡성', '#품안의밤', '#곡성숙소', '#곡성여행', '#곡성숙소추천', ...</td>\n",
       "      <td>품안의밤</td>\n",
       "      <td>2</td>\n",
       "      <td>NaN</td>\n",
       "    </tr>\n",
       "    <tr>\n",
       "      <th>607</th>\n",
       "      <td>607</td>\n",
       "      <td>[다녀오다, 웨딩촬영지, 유명, 더브리앙, 뜨다, 화이트, 앤, 우드, 톤, 좋아하...</td>\n",
       "      <td>2021-04-19</td>\n",
       "      <td>57</td>\n",
       "      <td>['#강릉', '#더브리앙뜨', '#강릉숙소', '#강릉여행', '#강릉데이트', ...</td>\n",
       "      <td>더브리앙뜨</td>\n",
       "      <td>2</td>\n",
       "      <td>강원도 강릉시 사천면 중앙서로 92-43</td>\n",
       "    </tr>\n",
       "    <tr>\n",
       "      <th>608</th>\n",
       "      <td>608</td>\n",
       "      <td>[고풍스, 런, 미칀, 한옥뷰, 한라궁, 아침, 눈, 뜨다, 한옥정원뷰, 제주오션뷰...</td>\n",
       "      <td>2021-03-19</td>\n",
       "      <td>90</td>\n",
       "      <td>['#제주도', '#한라궁호텔', '#한라궁', '#제주숙소', '#감성숙소', '...</td>\n",
       "      <td>한라궁호텔</td>\n",
       "      <td>2</td>\n",
       "      <td>제주특별자치도 서귀포시 정방연로 6</td>\n",
       "    </tr>\n",
       "  </tbody>\n",
       "</table>\n",
       "<p>609 rows × 8 columns</p>\n",
       "</div>"
      ],
      "text/plain": [
       "     item_index  ...                   place\n",
       "0             0  ...                     NaN\n",
       "1             1  ...                     NaN\n",
       "2             2  ...  제주특별자치도 제주시 구좌읍 계룡길 32\n",
       "3             3  ...                     NaN\n",
       "4             4  ...                     NaN\n",
       "..          ...  ...                     ...\n",
       "604         604  ...                     NaN\n",
       "605         605  ...      강원도 춘천시 서면 경춘로 405\n",
       "606         606  ...                     NaN\n",
       "607         607  ...  강원도 강릉시 사천면 중앙서로 92-43\n",
       "608         608  ...     제주특별자치도 서귀포시 정방연로 6\n",
       "\n",
       "[609 rows x 8 columns]"
      ]
     },
     "execution_count": 95,
     "metadata": {},
     "output_type": "execute_result"
    }
   ],
   "source": [
    "insta_data"
   ]
  },
  {
   "cell_type": "code",
   "execution_count": null,
   "metadata": {
    "id": "gtiQ_iEMLRvM"
   },
   "outputs": [],
   "source": [
    "merge_inner = pd.merge(topic_table, insta_data, on='item_index')"
   ]
  },
  {
   "cell_type": "code",
   "execution_count": null,
   "metadata": {
    "id": "gkZcrLd9LRvM"
   },
   "outputs": [],
   "source": [
    "merge_inner.drop('content_y', axis=1, inplace=True)"
   ]
  },
  {
   "cell_type": "code",
   "execution_count": null,
   "metadata": {
    "id": "bMxjMa1KqyVa"
   },
   "outputs": [],
   "source": [
    "merge_inner.topic = merge_inner.topic.astype('str')"
   ]
  },
  {
   "cell_type": "code",
   "execution_count": null,
   "metadata": {
    "colab": {
     "base_uri": "https://localhost:8080/",
     "height": 701
    },
    "id": "2kbCWx2PLRvM",
    "outputId": "99776e3e-3940-4c7d-c920-be7d2f7b5183"
   },
   "outputs": [
    {
     "data": {
      "text/html": [
       "<div>\n",
       "<style scoped>\n",
       "    .dataframe tbody tr th:only-of-type {\n",
       "        vertical-align: middle;\n",
       "    }\n",
       "\n",
       "    .dataframe tbody tr th {\n",
       "        vertical-align: top;\n",
       "    }\n",
       "\n",
       "    .dataframe thead th {\n",
       "        text-align: right;\n",
       "    }\n",
       "</style>\n",
       "<table border=\"1\" class=\"dataframe\">\n",
       "  <thead>\n",
       "    <tr style=\"text-align: right;\">\n",
       "      <th></th>\n",
       "      <th>doc_index</th>\n",
       "      <th>item_index</th>\n",
       "      <th>content_x</th>\n",
       "      <th>topic</th>\n",
       "      <th>date</th>\n",
       "      <th>like</th>\n",
       "      <th>tags</th>\n",
       "      <th>name</th>\n",
       "      <th>overlap</th>\n",
       "      <th>place</th>\n",
       "    </tr>\n",
       "  </thead>\n",
       "  <tbody>\n",
       "    <tr>\n",
       "      <th>0</th>\n",
       "      <td>0.0</td>\n",
       "      <td>0.0</td>\n",
       "      <td>[파도의무늬오션뷰, 무늬, 무늬, 물결, 일렁이다, 반짝거리다, 철썩, 철썩, 치다...</td>\n",
       "      <td>12.0</td>\n",
       "      <td>2021-09-06</td>\n",
       "      <td>39</td>\n",
       "      <td>['#데일리감성속초로', '#데일리감성_속초강원도', '#데일리감성_강원——————...</td>\n",
       "      <td>파도의무늬</td>\n",
       "      <td>1</td>\n",
       "      <td>NaN</td>\n",
       "    </tr>\n",
       "    <tr>\n",
       "      <th>1</th>\n",
       "      <td>1.0</td>\n",
       "      <td>1.0</td>\n",
       "      <td>[시호일시간, 흔적, 담다, 시호, 시호, 번화가, 유명, 흔적, 품다, 주택, 상...</td>\n",
       "      <td>18.0</td>\n",
       "      <td>2021-09-03</td>\n",
       "      <td>12</td>\n",
       "      <td>['#데일리감성강릉으로', '#데일리감성_강릉강원도', '#데일리감성_강원—————...</td>\n",
       "      <td>스테이 시호일</td>\n",
       "      <td>1</td>\n",
       "      <td>NaN</td>\n",
       "    </tr>\n",
       "    <tr>\n",
       "      <th>2</th>\n",
       "      <td>2.0</td>\n",
       "      <td>2.0</td>\n",
       "      <td>[까맣다, 돌멩이, 조식, 예쁘다, 까맣다, 돌멩이, 까맣다, 돌멩이, 가족, 커플...</td>\n",
       "      <td>1.0</td>\n",
       "      <td>2021-09-03</td>\n",
       "      <td>33</td>\n",
       "      <td>['#데일리감성제주도', '#데일리감성_제주—————————————————']</td>\n",
       "      <td>까만돌멩이</td>\n",
       "      <td>1</td>\n",
       "      <td>제주특별자치도 제주시 구좌읍 계룡길 32</td>\n",
       "    </tr>\n",
       "    <tr>\n",
       "      <th>3</th>\n",
       "      <td>3.0</td>\n",
       "      <td>3.0</td>\n",
       "      <td>[권장, 가득, 권장, 권장, 자연경관, 두르다, 쌓이다, 마당, 힐, 링, 판, ...</td>\n",
       "      <td>21.0</td>\n",
       "      <td>2021-09-02</td>\n",
       "      <td>36</td>\n",
       "      <td>['#데일리감성단양으로', '#데일리감성_단양충청북도', '#데일리감성_충북————...</td>\n",
       "      <td>권장사양</td>\n",
       "      <td>1</td>\n",
       "      <td>NaN</td>\n",
       "    </tr>\n",
       "    <tr>\n",
       "      <th>4</th>\n",
       "      <td>4.0</td>\n",
       "      <td>4.0</td>\n",
       "      <td>[라온가, 따뜻, 힐링, 라온, 온, 주택, 개조, 라온, 우리말, 즐겁다, 뜻, ...</td>\n",
       "      <td>21.0</td>\n",
       "      <td>2021-09-01</td>\n",
       "      <td>24</td>\n",
       "      <td>['#데일리감성강릉으로', '#데일리감성_강릉강원도', '#데일리감성_강원—————...</td>\n",
       "      <td>라온가</td>\n",
       "      <td>1</td>\n",
       "      <td>NaN</td>\n",
       "    </tr>\n",
       "    <tr>\n",
       "      <th>...</th>\n",
       "      <td>...</td>\n",
       "      <td>...</td>\n",
       "      <td>...</td>\n",
       "      <td>...</td>\n",
       "      <td>...</td>\n",
       "      <td>...</td>\n",
       "      <td>...</td>\n",
       "      <td>...</td>\n",
       "      <td>...</td>\n",
       "      <td>...</td>\n",
       "    </tr>\n",
       "    <tr>\n",
       "      <th>603</th>\n",
       "      <td>603.0</td>\n",
       "      <td>604.0</td>\n",
       "      <td>[폭, 그림, 오션뷰, 액자, 창문, 너머, 바다, 감성숙소랍니돠, 미니멀리즘, 추...</td>\n",
       "      <td>21.0</td>\n",
       "      <td>2021-06-24</td>\n",
       "      <td>142</td>\n",
       "      <td>['#제주', '#솔트', '#제주숙소', '#제주여행', '#제주숙소추천', '#...</td>\n",
       "      <td>솔트</td>\n",
       "      <td>2</td>\n",
       "      <td>NaN</td>\n",
       "    </tr>\n",
       "    <tr>\n",
       "      <th>604</th>\n",
       "      <td>604.0</td>\n",
       "      <td>605.0</td>\n",
       "      <td>[리버뷰, 피그멜리온이펙, 트다, 리버, 마운틴뷰, 월풀스파, 즐기다, 뷰맛, 원룸...</td>\n",
       "      <td>19.0</td>\n",
       "      <td>2021-06-15</td>\n",
       "      <td>87</td>\n",
       "      <td>['#춘천', '#피그멜리온이펙트', '#춘천숙소', '#춘천여행', '#춘천숙소추...</td>\n",
       "      <td>피그멜리온이펙트</td>\n",
       "      <td>2</td>\n",
       "      <td>강원도 춘천시 서면 경춘로 405</td>\n",
       "    </tr>\n",
       "    <tr>\n",
       "      <th>605</th>\n",
       "      <td>605.0</td>\n",
       "      <td>606.0</td>\n",
       "      <td>[시골, 동네, 오붓, 편안, 밤, 논밭뷰, 여유, 만끽, 힐링, 게스트하우스, 사...</td>\n",
       "      <td>21.0</td>\n",
       "      <td>2021-04-21</td>\n",
       "      <td>68</td>\n",
       "      <td>['#곡성', '#품안의밤', '#곡성숙소', '#곡성여행', '#곡성숙소추천', ...</td>\n",
       "      <td>품안의밤</td>\n",
       "      <td>2</td>\n",
       "      <td>NaN</td>\n",
       "    </tr>\n",
       "    <tr>\n",
       "      <th>606</th>\n",
       "      <td>606.0</td>\n",
       "      <td>607.0</td>\n",
       "      <td>[다녀오다, 웨딩촬영지, 유명, 더브리앙, 뜨다, 화이트, 앤, 우드, 톤, 좋아하...</td>\n",
       "      <td>21.0</td>\n",
       "      <td>2021-04-19</td>\n",
       "      <td>57</td>\n",
       "      <td>['#강릉', '#더브리앙뜨', '#강릉숙소', '#강릉여행', '#강릉데이트', ...</td>\n",
       "      <td>더브리앙뜨</td>\n",
       "      <td>2</td>\n",
       "      <td>강원도 강릉시 사천면 중앙서로 92-43</td>\n",
       "    </tr>\n",
       "    <tr>\n",
       "      <th>607</th>\n",
       "      <td>607.0</td>\n",
       "      <td>608.0</td>\n",
       "      <td>[고풍스, 런, 미칀, 한옥뷰, 한라궁, 아침, 눈, 뜨다, 한옥정원뷰, 제주오션뷰...</td>\n",
       "      <td>3.0</td>\n",
       "      <td>2021-03-19</td>\n",
       "      <td>90</td>\n",
       "      <td>['#제주도', '#한라궁호텔', '#한라궁', '#제주숙소', '#감성숙소', '...</td>\n",
       "      <td>한라궁호텔</td>\n",
       "      <td>2</td>\n",
       "      <td>제주특별자치도 서귀포시 정방연로 6</td>\n",
       "    </tr>\n",
       "  </tbody>\n",
       "</table>\n",
       "<p>608 rows × 10 columns</p>\n",
       "</div>"
      ],
      "text/plain": [
       "     doc_index  item_index  ... overlap                   place\n",
       "0          0.0         0.0  ...       1                     NaN\n",
       "1          1.0         1.0  ...       1                     NaN\n",
       "2          2.0         2.0  ...       1  제주특별자치도 제주시 구좌읍 계룡길 32\n",
       "3          3.0         3.0  ...       1                     NaN\n",
       "4          4.0         4.0  ...       1                     NaN\n",
       "..         ...         ...  ...     ...                     ...\n",
       "603      603.0       604.0  ...       2                     NaN\n",
       "604      604.0       605.0  ...       2      강원도 춘천시 서면 경춘로 405\n",
       "605      605.0       606.0  ...       2                     NaN\n",
       "606      606.0       607.0  ...       2  강원도 강릉시 사천면 중앙서로 92-43\n",
       "607      607.0       608.0  ...       2     제주특별자치도 서귀포시 정방연로 6\n",
       "\n",
       "[608 rows x 10 columns]"
      ]
     },
     "execution_count": 62,
     "metadata": {},
     "output_type": "execute_result"
    }
   ],
   "source": [
    "merge_inner"
   ]
  },
  {
   "cell_type": "code",
   "execution_count": null,
   "metadata": {
    "colab": {
     "base_uri": "https://localhost:8080/"
    },
    "id": "ZbmDLN9KrMSm",
    "outputId": "c23a97b4-4501-4049-9492-e98473c7f8b4"
   },
   "outputs": [
    {
     "data": {
      "text/plain": [
       "21.0    331\n",
       "19.0    137\n",
       "18.0     46\n",
       "4.0      23\n",
       "2.0       9\n",
       "11.0      7\n",
       "17.0      6\n",
       "16.0      5\n",
       "12.0      5\n",
       "9.0       4\n",
       "25.0      4\n",
       "0.0       4\n",
       "3.0       4\n",
       "24.0      3\n",
       "22.0      3\n",
       "10.0      3\n",
       "5.0       3\n",
       "1.0       3\n",
       "8.0       2\n",
       "13.0      2\n",
       "14.0      1\n",
       "7.0       1\n",
       "15.0      1\n",
       "23.0      1\n",
       "Name: topic, dtype: int64"
      ]
     },
     "execution_count": 68,
     "metadata": {},
     "output_type": "execute_result"
    }
   ],
   "source": [
    "merge_inner.topic.value_counts()"
   ]
  },
  {
   "cell_type": "code",
   "execution_count": null,
   "metadata": {
    "colab": {
     "base_uri": "https://localhost:8080/",
     "height": 265
    },
    "id": "h6OqqSTCLRvN",
    "outputId": "0b31c7b8-a8f3-4833-a70e-f402e2f0f2d6"
   },
   "outputs": [
    {
     "data": {
      "image/png": "[encoded data removed]",
      "text/plain": [
       "<Figure size 432x288 with 1 Axes>"
      ]
     },
     "metadata": {
      "needs_background": "light"
     },
     "output_type": "display_data"
    }
   ],
   "source": [
    "plt.hist(merge_inner.topic)\n",
    "plt.show()"
   ]
  },
  {
   "cell_type": "markdown",
   "metadata": {
    "id": "8sFbWVyvMLTR"
   },
   "source": [
    "## PMI"
   ]
  },
  {
   "cell_type": "code",
   "execution_count": 135,
   "metadata": {
    "id": "furIybasLR3U"
   },
   "outputs": [],
   "source": [
    "model = tp.LDAModel(k=10, alpha=0.1, eta=0.01, min_cf=3, rm_top=10, tw=tp.TermWeight.PMI )\n",
    "# LDAModel을 생성\n",
    "# 토픽의 개수(k)는 20개, alpha 파라미터는 0.1, eta 파라미터는 0.01\n",
    "# 전체 말뭉치에 5회 미만 등장한 단어들은 제거"
   ]
  },
  {
   "cell_type": "code",
   "execution_count": 136,
   "metadata": {
    "id": "q6JR7nYtLR3V"
   },
   "outputs": [],
   "source": [
    "for row in all_items.content:\n",
    "    model.add_doc(row) # 행 별로 model에 추가합니다."
   ]
  },
  {
   "cell_type": "code",
   "execution_count": 113,
   "metadata": {
    "colab": {
     "base_uri": "https://localhost:8080/"
    },
    "id": "PGmUbOUBLR3V",
    "outputId": "9c7c5434-f798-4be1-b170-188525e01c7b"
   },
   "outputs": [
    {
     "name": "stdout",
     "output_type": "stream",
     "text": [
      "Total docs: 4340\n",
      "Total words: 816295\n",
      "Vocab size: 14712\n"
     ]
    }
   ],
   "source": [
    "# model의 num_words나 num_vocabs 등은 train을 시작해야 확정됩니다.\n",
    "# 따라서 이 값을 확인하기 위해서 train(0)을 하여 실제 train은 하지 않고\n",
    "# 학습 준비만 시킵니다.\n",
    "# num_words, num_vocabs에 관심 없다면 이부분은 생략해도 됩니다.\n",
    "model.train(0) \n",
    "print('Total docs:', len(model.docs))\n",
    "print('Total words:', model.num_words)\n",
    "print('Vocab size:', model.num_vocabs)"
   ]
  },
  {
   "cell_type": "code",
   "execution_count": null,
   "metadata": {
    "id": "YJWQSVwpLR3W"
   },
   "outputs": [],
   "source": [
    "# 다음 구문은 train을 총 200회 반복하면서, \n",
    "# 매 단계별로 로그 가능도 값을 출력해줍니다.\n",
    "# 혹은 단순히 model.train(200)으로 200회 반복도 가능합니다.\n",
    "for i in range(200):\n",
    "    print('Iteration {}\\tLL per word: {}'.format(i, model.ll_per_word))\n",
    "    model.train(3)"
   ]
  },
  {
   "cell_type": "code",
   "execution_count": 138,
   "metadata": {
    "id": "nTbeQpIoPCd7"
   },
   "outputs": [],
   "source": [
    "model.save('PMI_model.bin')"
   ]
  },
  {
   "cell_type": "code",
   "execution_count": 116,
   "metadata": {
    "colab": {
     "base_uri": "https://localhost:8080/"
    },
    "id": "ZUV-HIvsLR3W",
    "outputId": "977d8239-e244-4945-bad8-7aff35706273"
   },
   "outputs": [
    {
     "name": "stdout",
     "output_type": "stream",
     "text": [
      "Topic #0\t한옥, 온도, 적정, 한옥스테, 솔, 블루, 한옥스테이, 유숙, 연가, 고즈넉, 촌, 전통, 현대, 황토, 마당, 편백, 한복, 치앙마이, 서재, 즐기다\n",
      "Topic #1\t정원, 풍경, 느끼다, 가족, 민박, 마을, 멋지다, 머물다, 편안, 분위기, 마당, 나무, 마음, 모습, 다락방, 별채, 꽃, 가득, 인테리어, 너무나\n",
      "Topic #2\t남편, 날씨, 막, 고양이, 놀다, 동생, 엄마, 아날로그, 캠프, 오빠, 바람, 코로나, 벌레, 불, 도토리, 불다, 부부, 흐리다, 오후, 이거\n",
      "Topic #3\t침실, 거실, 사용, 커피, 문, 테이블, 편하다, 조명, 쪽, 따로, 냉장고, 거울, 부엌, 입구, 수건, 주차, 불편, 거리, 식기, 세면대\n",
      "Topic #4\t바베큐, 수영장, 굽다, 캠핑, 자쿠지, 탕, 라운드, 야외, 인터뷰, 숯, 물놀이, 폴리, 불, 바비큐, 테라스, 히노끼탕, 다이빙, 놀다, 튜브, 숯불\n",
      "Topic #5\t스파, 제공, 숲, 미학, 숙박, 공휴일, 제제, 석식, 현재, 식당, 책, 전라북도, 음료, 네이버, 금액, 온, 리, 유온, 스테이폴리, 생활\n",
      "Topic #6\t한적, 촬영, 파티, 애, 안목, 친구, 귤, 해변, 늘, 해수욕장, 밭, 오늘, 체험, 탕, 서점, 노곤, 남편, 팜, 지역, 홍대\n",
      "Topic #7\t이쁘다, 넘다, 맛있다, 친구, 요기, 귀엽다, 도착, 못, 언니, 술, 저녁, 최고, 짱, 친절, 이거, 동쪽, 남자, 공항, 오빠, 마지막\n",
      "Topic #8\t즐기다, 수영장, 국내, 실시간, 기록, 바다, 오션뷰, 비애, 여행지, 경남, 출처, 힐링, 바라보다, 느끼다, 핫, 가족, 비수기, 탕, 야외, 보내다\n",
      "Topic #9\t바다, 오션뷰, 리조트, 욕조, 마음, 이야기, 테라스, 요즘, 바닷가, 아래, 여관, 하루, 없이, 잇다, 여름, 강화도, 알아보다, 더욱, 섬, 야경\n"
     ]
    }
   ],
   "source": [
    "# 학습된 토픽들을 출력해보도록 합시다.\n",
    "for i in range(model.k):\n",
    "    # 토픽 개수가 총 20개이니, 0~19번까지의 토픽별 상위 단어 10개를 뽑아봅시다.\n",
    "    res = model.get_topic_words(i, top_n=20)\n",
    "    print('Topic #{}'.format(i), end='\\t')\n",
    "    print(', '.join(w for w, p in res))"
   ]
  },
  {
   "cell_type": "markdown",
   "metadata": {
    "id": "oh5wtR8oLR3W"
   },
   "source": [
    "# 문헌별 토픽 분류"
   ]
  },
  {
   "cell_type": "code",
   "execution_count": null,
   "metadata": {
    "id": "enVE34dlLR3X"
   },
   "outputs": [],
   "source": [
    "# 먼저 토픽 개수만큼 공간을 만들어줍니다.\n",
    "buckets = [[] for _ in range(model.k)]\n",
    "# 전체 문헌에 대해, top 1 주제 번호를 찾아 그 그룹에 해당 문헌을 포함시킵니다.\n",
    "for i, d in enumerate(model.docs):\n",
    "    buckets[d.get_topics(top_n=1)[0][0]].append([i,d])"
   ]
  },
  {
   "cell_type": "code",
   "execution_count": null,
   "metadata": {
    "id": "okkiYhcnLR3X"
   },
   "outputs": [],
   "source": [
    "topic_table = pd.DataFrame() #테이블 생성\n",
    "doc_index = []\n",
    "content = []\n",
    "topics = []\n",
    "item_idx = []\n",
    "\n",
    "for i in range(len(model.docs)): # 인덱스별 값을 개별 변수로 테이블에 배정\n",
    "  doc_index = int(i)\n",
    "  content = all_items.content[i]\n",
    "  item_idx = all_items.item_idx[i]\n",
    "  topics = int(model.docs[i].get_topics(top_n=1)[0][0])\n",
    "  topic_table = topic_table.append(pd.Series([doc_index,item_idx, content, topics]), ignore_index=True)"
   ]
  },
  {
   "cell_type": "code",
   "execution_count": null,
   "metadata": {
    "id": "9aL25oVYLR3X"
   },
   "outputs": [],
   "source": [
    "topic_table.columns = ['doc_index','item_index', 'content', 'topic']"
   ]
  },
  {
   "cell_type": "code",
   "execution_count": null,
   "metadata": {
    "id": "EtX10XdULR3Y"
   },
   "outputs": [],
   "source": [
    "topic_table = pd.DataFrame(topic_table)"
   ]
  },
  {
   "cell_type": "code",
   "execution_count": null,
   "metadata": {
    "id": "uyZoD4mJLR3Y"
   },
   "outputs": [],
   "source": [
    "insta_data.columns = ['item_index', 'content', 'date', 'like', 'tags', 'name', 'overlap', 'place']"
   ]
  },
  {
   "cell_type": "code",
   "execution_count": null,
   "metadata": {
    "id": "hoLiCx7wLR3Y"
   },
   "outputs": [],
   "source": [
    "merge_inner = pd.merge(topic_table, insta_data, on='item_index')"
   ]
  },
  {
   "cell_type": "code",
   "execution_count": null,
   "metadata": {
    "id": "3BtuvwneLR3Y"
   },
   "outputs": [],
   "source": [
    "merge_inner.drop('content_y', axis=1, inplace=True)"
   ]
  },
  {
   "cell_type": "code",
   "execution_count": null,
   "metadata": {
    "colab": {
     "base_uri": "https://localhost:8080/",
     "height": 265
    },
    "id": "U-HoJVlILR3Z",
    "outputId": "f8febee4-7888-4961-a590-683ed636e1ec"
   },
   "outputs": [
    {
     "data": {
      "image/png": "[encoded data removed]",
      "text/plain": [
       "<Figure size 432x288 with 1 Axes>"
      ]
     },
     "metadata": {
      "needs_background": "light"
     },
     "output_type": "display_data"
    }
   ],
   "source": [
    "plt.hist(merge_inner.topic)\n",
    "plt.show()"
   ]
  },
  {
   "cell_type": "markdown",
   "metadata": {
    "id": "xpMCQp20MlWR"
   },
   "source": [
    "# Infer 새로운 문서 추론"
   ]
  },
  {
   "cell_type": "code",
   "execution_count": null,
   "metadata": {
    "id": "sa_2llFOsBu_"
   },
   "outputs": [],
   "source": [
    "unseen_words = '전주 한옥마을의 고풍스러운 한옥에서 소중한 추억을 선물 받을수 있는 \"다락\" 시골 할머니집에 놀러온듯한 느낌을 주는 아늑하면서 포근한 공간이다..전통적인 한옥을 경험해볼수 있는 다락1과 모던함과 한옥을 잘 어우러지도록 만든 다락2로 구성되어있으며 2인실부터 6인실까지 다양하게 갖춰져있어서 친구, 연인, 가족들과 함께 취향대로 골라갈수 있다. 마루에 앉아 정성스레 꾸며진 정원을 바라보며 도란도란 이야기 나누기 좋은 공간..아기자기한 소품 안에서는 주인장의 감성을 담아 더욱 옛스러움을 느낄수 있는 공간. 한옥마을 안 경기전 옆에 위치해 있기때문에 주변 관광하기에도 좋다'"
   ]
  },
  {
   "cell_type": "code",
   "execution_count": null,
   "metadata": {
    "id": "V_e0Qj29sS8t"
   },
   "outputs": [],
   "source": [
    "unseen_words = unseen_words.strip().split()"
   ]
  },
  {
   "cell_type": "code",
   "execution_count": null,
   "metadata": {
    "id": "AyCuHBhUs3o7"
   },
   "outputs": [],
   "source": [
    "unseen_words"
   ]
  },
  {
   "cell_type": "code",
   "execution_count": null,
   "metadata": {
    "colab": {
     "base_uri": "https://localhost:8080/"
    },
    "id": "4A2G-vUarerD",
    "outputId": "698d0606-0891-418a-8c5b-fe6bd5d7a141"
   },
   "outputs": [
    {
     "name": "stdout",
     "output_type": "stream",
     "text": [
      "Topic Distribution for Unseen Docs:  [0.01004239 0.09352702 0.01014526 0.00855952 0.01207882 0.00663959\n",
      " 0.02324726 0.20003536 0.005305   0.017077   0.04716712 0.01270095\n",
      " 0.00343213 0.00743489 0.01289017 0.01138204 0.00528442 0.0093564\n",
      " 0.18760568 0.01968418 0.15118648 0.02205014 0.00850216 0.08709914\n",
      " 0.02254611 0.0050209 ]\n",
      "Log-likelihood of inference:  0.0\n"
     ]
    }
   ],
   "source": [
    "# mdl = tp.LDAModel(k=20)\n",
    "# # add_doc ...\n",
    "# mdl.train(100)\n",
    "doc_inst = best_model.make_doc(unseen_words)\n",
    "topic_dist, ll = best_model.infer(doc_inst, iter=200)\n",
    "print(\"Topic Distribution for Unseen Docs: \", topic_dist)\n",
    "print(\"Log-likelihood of inference: \", ll)"
   ]
  },
  {
   "cell_type": "code",
   "execution_count": null,
   "metadata": {
    "colab": {
     "base_uri": "https://localhost:8080/"
    },
    "id": "D5SQ4HRls6xt",
    "outputId": "bf5b494e-4246-4efd-d1d0-61eb5ec76dac"
   },
   "outputs": [
    {
     "data": {
      "text/plain": [
       "7"
      ]
     },
     "execution_count": 89,
     "metadata": {},
     "output_type": "execute_result"
    }
   ],
   "source": [
    "doc_inst.get_topics()[0][0]"
   ]
  },
  {
   "cell_type": "code",
   "execution_count": null,
   "metadata": {
    "colab": {
     "base_uri": "https://localhost:8080/"
    },
    "id": "J-HDnQRstzbs",
    "outputId": "118e7c33-ce98-4c1f-ee1e-5040a6dfb1e7"
   },
   "outputs": [
    {
     "name": "stdout",
     "output_type": "stream",
     "text": [
      "문서를 입력하세요'전주 한옥마을의 고풍스러운 한옥에서 소중한 추억을 선물 받을수 있는 \"다락\" 시골 할머니집에 놀러온듯한 느낌을 주는 아늑하면서 포근한 공간이다..전통적인 한옥을 경험해볼수 있는 다락1과 모던함과 한옥을 잘 어우러지도록 만든 다락2로 구성되어있으며 2인실부터 6인실까지 다양하게 갖춰져있어서 친구, 연인, 가족들과 함께 취향대로 골라갈수 있다. 마루에 앉아 정성스레 꾸며진 정원을 바라보며 도란도란 이야기 나누기 좋은 공간..아기자기한 소품 안에서는 주인장의 감성을 담아 더욱 옛스러움을 느낄수 있는 공간. 한옥마을 안 경기전 옆에 위치해 있기때문에 주변 관광하기에도 좋다'\n",
      "이 문서의 카테고리는 7번입니다.\n"
     ]
    }
   ],
   "source": [
    "unseen_text = input('문서를 입력하세요')\n",
    "unseen_text = unseen_text.strip().split()\n",
    "doc_inst = best_model.make_doc(unseen_text)\n",
    "topic_dist, ll = best_model.infer(doc_inst, iter=200)\n",
    "print(\"이 문서의 카테고리는 {}번입니다.\".format(doc_inst.get_topics()[0][0]))"
   ]
  },
  {
   "cell_type": "code",
   "execution_count": null,
   "metadata": {
    "id": "5wZwCmjRvLaE"
   },
   "outputs": [],
   "source": []
  }
 ],
 "metadata": {
  "colab": {
   "collapsed_sections": [
    "0Y_57bwEpdGZ",
    "LtopmzNWr4e2",
    "oh5wtR8oLR3W",
    "xpMCQp20MlWR"
   ],
   "name": "Instargram_Naver_v3.ipynb",
   "provenance": []
  },
  "kernelspec": {
   "display_name": "Python 3",
   "language": "python",
   "name": "python3"
  },
  "language_info": {
   "codemirror_mode": {
    "name": "ipython",
    "version": 3
   },
   "file_extension": ".py",
   "mimetype": "text/x-python",
   "name": "python",
   "nbconvert_exporter": "python",
   "pygments_lexer": "ipython3",
   "version": "3.6.9"
  }
 },
 "nbformat": 4,
 "nbformat_minor": 1
}
