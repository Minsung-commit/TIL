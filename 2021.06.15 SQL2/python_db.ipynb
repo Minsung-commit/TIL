{
 "cells": [
  {
   "cell_type": "code",
   "execution_count": 1,
   "id": "invisible-viking",
   "metadata": {},
   "outputs": [
    {
     "name": "stdout",
     "output_type": "stream",
     "text": [
      "C:\\Users\\lgt30\\Desktop\\2021-K-Digital-Training-main_6\\2021-K-Digital-Training-main\\SQL\n"
     ]
    }
   ],
   "source": [
    "!cd"
   ]
  },
  {
   "cell_type": "code",
   "execution_count": 6,
   "id": "f74ef5a1-9705-4e3f-99f9-fd827faea092",
   "metadata": {},
   "outputs": [],
   "source": [
    "import pymysql.cursors"
   ]
  },
  {
   "cell_type": "code",
   "execution_count": 20,
   "id": "d4b05434-8ed5-4c47-9cc9-a61a871e5039",
   "metadata": {},
   "outputs": [],
   "source": [
    "# Connect to the database / localhost / 127.0.0.0\n",
    "connection = pymysql.connect(host='localhost',\n",
    "        user='practice',\n",
    "        password='6725',\n",
    "        db='tip',\n",
    "        charset='utf8',\n",
    "        cursorclass=pymysql.cursors.DictCursor)"
   ]
  },
  {
   "cell_type": "code",
   "execution_count": 21,
   "id": "c389aa08-ebd0-4209-a7e8-cbb84d2430ac",
   "metadata": {},
   "outputs": [
    {
     "name": "stdout",
     "output_type": "stream",
     "text": [
      "{'count(total_bill)': 3}\n"
     ]
    }
   ],
   "source": [
    "try:\n",
    "    with connection.cursor() as cursor:\n",
    "        # Read a single record\n",
    "#         sql = \"SELECT total_bill FROM tip.tips where tip >= 7\"\n",
    "        sql = \"SELECT count(total_bill) FROM tip.tips where tip >= 7\"\n",
    "        cursor.execute(sql)\n",
    "        result = cursor.fetchone()\n",
    "        print(result)\n",
    "finally:\n",
    "    connection.close()"
   ]
  },
  {
   "cell_type": "code",
   "execution_count": 22,
   "id": "f5486f34-dd24-424b-a0cf-adcc62cfbd9a",
   "metadata": {},
   "outputs": [],
   "source": [
    "import pandas as pd"
   ]
  },
  {
   "cell_type": "code",
   "execution_count": 39,
   "id": "ef2bf5bf-fb84-473c-b0f4-0f51e25b32d9",
   "metadata": {},
   "outputs": [],
   "source": [
    "# MySQL DB에서 데이터 받아와서 DataFrame에 저장\n",
    "\n",
    "conn = pymysql.connect(host='localhost', user='practice', \n",
    "                       password='6725', db='tip', charset='utf8',\n",
    "                       autocommit=True, cursorclass=pymysql.cursors.DictCursor)"
   ]
  },
  {
   "cell_type": "code",
   "execution_count": 40,
   "id": "9e881abc-d30a-4178-bf47-c66a94f2d622",
   "metadata": {},
   "outputs": [
    {
     "name": "stdout",
     "output_type": "stream",
     "text": [
      "   total_bill\n",
      "0       39.42\n",
      "1       50.81\n",
      "2       48.33\n"
     ]
    }
   ],
   "source": [
    "try:\n",
    "\n",
    "   with conn.cursor() as curs:\n",
    "      sql = \"SELECT total_bill FROM tip.tips where tip >= 7;\"\n",
    "      curs.execute(sql)\n",
    "      rs = curs.fetchall()\n",
    "\n",
    "      # DB에서 받아온 값을 DataFrame에 넣음\n",
    "\n",
    "      df = pd.DataFrame(rs)\n",
    "      print(df)\n",
    "    \n",
    "   df.to_csv('query.csv')\n",
    "    \n",
    "finally:\n",
    "\n",
    "   conn.close()"
   ]
  },
  {
   "cell_type": "code",
   "execution_count": 17,
   "id": "eb3f0af2-d3b5-4d8b-859c-72af8e738a3f",
   "metadata": {},
   "outputs": [],
   "source": [
    "#새출발\n",
    "import pymysql.cursors\n",
    "import pandas as pd"
   ]
  },
  {
   "cell_type": "code",
   "execution_count": 24,
   "id": "8e06a80b-1636-4e6d-a903-4adcfec84cac",
   "metadata": {},
   "outputs": [],
   "source": [
    "conn = pymysql.connect(host='localhost', user='practice', \n",
    "                       password='6725', db='classicmodels', charset='utf8',\n",
    "                       autocommit=True, cursorclass=pymysql.cursors.DictCursor)"
   ]
  },
  {
   "cell_type": "code",
   "execution_count": 25,
   "id": "848cffaf-213a-43d7-89d6-60203a2c07ce",
   "metadata": {},
   "outputs": [
    {
     "name": "stdout",
     "output_type": "stream",
     "text": [
      "       state  customerNumber checkNumber\n",
      "0       None             103    HQ336336\n",
      "1       None             103    OM314933\n",
      "2         NV             112    BO864823\n",
      "3   Victoria             114    MA765515\n",
      "4       None             119    DB933704\n",
      "..       ...             ...         ...\n",
      "84        MA             462    PE176846\n",
      "85      None             484    GK294076\n",
      "86        PA             486     HS86661\n",
      "87      None             496    EU531600\n",
      "88      None             496     MN89921\n",
      "\n",
      "[89 rows x 3 columns]\n"
     ]
    }
   ],
   "source": [
    "try:\n",
    "\n",
    "   with conn.cursor() as curs:\n",
    "      sql = \"select customers.state, customers.customerNumber, payments.checkNumber from customers left join payments on customers.customerNumber = payments.customerNumber where payments.paymentDate >= '2004-10-06' ;\"\n",
    "      curs.execute(sql)\n",
    "      rs = curs.fetchall()\n",
    "\n",
    "      # DB에서 받아온 값을 DataFrame에 넣음\n",
    "\n",
    "      df = pd.DataFrame(rs)\n",
    "      print(df)\n",
    "    \n",
    "#       df.to_csv('query1.csv')\n",
    "    \n",
    "finally:\n",
    "\n",
    "   conn.close()"
   ]
  },
  {
   "cell_type": "code",
   "execution_count": null,
   "id": "efdbc279-830a-4f48-8ceb-651cdfcffcca",
   "metadata": {},
   "outputs": [],
   "source": []
  }
 ],
 "metadata": {
  "kernelspec": {
   "display_name": "Python Multi",
   "language": "python",
   "name": "multi"
  },
  "language_info": {
   "codemirror_mode": {
    "name": "ipython",
    "version": 3
   },
   "file_extension": ".py",
   "mimetype": "text/x-python",
   "name": "python",
   "nbconvert_exporter": "python",
   "pygments_lexer": "ipython3",
   "version": "3.7.6"
  }
 },
 "nbformat": 4,
 "nbformat_minor": 5
}
