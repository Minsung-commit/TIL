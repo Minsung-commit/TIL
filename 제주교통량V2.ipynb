{
 "cells": [
  {
   "cell_type": "code",
   "execution_count": 1,
   "metadata": {
    "id": "Vj-ol-0yBTei"
   },
   "outputs": [],
   "source": [
    "import pandas as pd\n",
    "import numpy as np\n",
    "from sklearn.svm import SVR\n",
    "from sklearn.linear_model import LogisticRegression\n",
    "from sklearn.neighbors import KNeighborsRegressor\n",
    "from sklearn.ensemble import RandomForestRegressor\n",
    "from sklearn.metrics import mean_absolute_error\n",
    "from sklearn.preprocessing import RobustScaler\n",
    "from sklearn.model_selection import train_test_split"
   ]
  },
  {
   "cell_type": "code",
   "execution_count": 2,
   "metadata": {
    "id": "yL7nELvfBklk"
   },
   "outputs": [],
   "source": [
    "train_data = pd.read_csv('open/train.csv')"
   ]
  },
  {
   "cell_type": "code",
   "execution_count": 3,
   "metadata": {
    "colab": {
     "base_uri": "https://localhost:8080/"
    },
    "id": "y3_nxeOFBn5Y",
    "outputId": "bf6d6db5-1353-452f-c3c3-5ec476886665"
   },
   "outputs": [
    {
     "name": "stdout",
     "output_type": "stream",
     "text": [
      "<class 'pandas.core.frame.DataFrame'>\n",
      "RangeIndex: 4701217 entries, 0 to 4701216\n",
      "Data columns (total 24 columns):\n",
      " #   Column                 Dtype  \n",
      "---  ------                 -----  \n",
      " 0   id                     object \n",
      " 1   base_date              int64  \n",
      " 2   day_of_week            object \n",
      " 3   base_hour              int64  \n",
      " 4   road_in_use            int64  \n",
      " 5   lane_count             int64  \n",
      " 6   road_rating            int64  \n",
      " 7   road_name              object \n",
      " 8   multi_linked           int64  \n",
      " 9   connect_code           int64  \n",
      " 10  maximum_speed_limit    float64\n",
      " 11  vehicle_restricted     float64\n",
      " 12  weight_restricted      float64\n",
      " 13  height_restricted      float64\n",
      " 14  road_type              int64  \n",
      " 15  start_node_name        object \n",
      " 16  start_latitude         float64\n",
      " 17  start_longitude        float64\n",
      " 18  start_turn_restricted  object \n",
      " 19  end_node_name          object \n",
      " 20  end_latitude           float64\n",
      " 21  end_longitude          float64\n",
      " 22  end_turn_restricted    object \n",
      " 23  target                 float64\n",
      "dtypes: float64(9), int64(8), object(7)\n",
      "memory usage: 860.8+ MB\n"
     ]
    }
   ],
   "source": [
    "train_data.info()"
   ]
  },
  {
   "cell_type": "code",
   "execution_count": 65,
   "metadata": {
    "id": "cldtI_PM9SrU"
   },
   "outputs": [],
   "source": [
    "df = train_data.copy()"
   ]
  },
  {
   "cell_type": "code",
   "execution_count": 66,
   "metadata": {
    "id": "FxdvODv5-PWn"
   },
   "outputs": [],
   "source": [
    "except_list = ['id', 'day_of_week', 'road_name', 'start_node_name', 'start_turn_restricted','road_in_use', 'end_node_name', 'end_turn_restricted', 'vehicle_restricted', 'height_restricted']"
   ]
  },
  {
   "cell_type": "code",
   "execution_count": 67,
   "metadata": {
    "id": "dp5voBNO9U-x"
   },
   "outputs": [],
   "source": [
    "df = df.drop(except_list, axis = 1)"
   ]
  },
  {
   "cell_type": "code",
   "execution_count": 68,
   "metadata": {
    "id": "zQl1lam39dCR"
   },
   "outputs": [],
   "source": [
    "y = df['target']\n",
    "x = df.drop('target', axis = 1)"
   ]
  },
  {
   "cell_type": "code",
   "execution_count": 69,
   "metadata": {
    "id": "Jp55aQPI-cox"
   },
   "outputs": [],
   "source": [
    "scaler = RobustScaler()\n",
    "rbs_x = scaler.fit_transform(x)"
   ]
  },
  {
   "cell_type": "code",
   "execution_count": 70,
   "metadata": {
    "id": "iEeyoRfEAL5O"
   },
   "outputs": [],
   "source": [
    "from sklearn.decomposition import PCA\n",
    "pca = PCA(n_components=3, random_state = 0)\n",
    "pca_x = pca.fit_transform(rbs_x)"
   ]
  },
  {
   "cell_type": "code",
   "execution_count": 11,
   "metadata": {
    "colab": {
     "base_uri": "https://localhost:8080/"
    },
    "id": "TgkUyaqZDmwW",
    "outputId": "0f9a4f53-cfdf-4874-afc6-5dd7774df6d6"
   },
   "outputs": [
    {
     "data": {
      "text/plain": [
       "(4701217, 13)"
      ]
     },
     "execution_count": 11,
     "metadata": {},
     "output_type": "execute_result"
    }
   ],
   "source": [
    "pca_x.shape"
   ]
  },
  {
   "cell_type": "code",
   "execution_count": 34,
   "metadata": {},
   "outputs": [],
   "source": [
    "aa = pd.DataFrame(pca_x, columns = tmp)"
   ]
  },
  {
   "cell_type": "code",
   "execution_count": 33,
   "metadata": {},
   "outputs": [],
   "source": [
    "tmp = []\n",
    "for i in range(13):\n",
    "    tmp.append( \"pc_{}\".format(i) )"
   ]
  },
  {
   "cell_type": "code",
   "execution_count": 38,
   "metadata": {},
   "outputs": [
    {
     "data": {
      "text/html": [
       "<div>\n",
       "<style scoped>\n",
       "    .dataframe tbody tr th:only-of-type {\n",
       "        vertical-align: middle;\n",
       "    }\n",
       "\n",
       "    .dataframe tbody tr th {\n",
       "        vertical-align: top;\n",
       "    }\n",
       "\n",
       "    .dataframe thead th {\n",
       "        text-align: right;\n",
       "    }\n",
       "</style>\n",
       "<table border=\"1\" class=\"dataframe\">\n",
       "  <thead>\n",
       "    <tr style=\"text-align: right;\">\n",
       "      <th></th>\n",
       "      <th>pc_0</th>\n",
       "      <th>pc_1</th>\n",
       "      <th>pc_2</th>\n",
       "      <th>pc_3</th>\n",
       "      <th>pc_4</th>\n",
       "      <th>pc_5</th>\n",
       "      <th>pc_6</th>\n",
       "      <th>pc_7</th>\n",
       "      <th>pc_8</th>\n",
       "      <th>pc_9</th>\n",
       "      <th>pc_10</th>\n",
       "      <th>pc_11</th>\n",
       "      <th>pc_12</th>\n",
       "    </tr>\n",
       "  </thead>\n",
       "  <tbody>\n",
       "    <tr>\n",
       "      <th>0</th>\n",
       "      <td>26781.257727</td>\n",
       "      <td>-0.073563</td>\n",
       "      <td>1.214121</td>\n",
       "      <td>-0.098647</td>\n",
       "      <td>0.598595</td>\n",
       "      <td>-0.575204</td>\n",
       "      <td>-0.390892</td>\n",
       "      <td>-0.242385</td>\n",
       "      <td>-0.385265</td>\n",
       "      <td>-0.402925</td>\n",
       "      <td>-0.001200</td>\n",
       "      <td>-0.002881</td>\n",
       "      <td>-0.000031</td>\n",
       "    </tr>\n",
       "    <tr>\n",
       "      <th>1</th>\n",
       "      <td>-5618.742412</td>\n",
       "      <td>-0.304731</td>\n",
       "      <td>0.113900</td>\n",
       "      <td>0.372510</td>\n",
       "      <td>-0.366591</td>\n",
       "      <td>-0.581739</td>\n",
       "      <td>-0.752346</td>\n",
       "      <td>-0.323710</td>\n",
       "      <td>-0.373660</td>\n",
       "      <td>0.461662</td>\n",
       "      <td>-0.011176</td>\n",
       "      <td>0.001077</td>\n",
       "      <td>-0.014671</td>\n",
       "    </tr>\n",
       "    <tr>\n",
       "      <th>2</th>\n",
       "      <td>-5618.742404</td>\n",
       "      <td>-0.293459</td>\n",
       "      <td>-1.435277</td>\n",
       "      <td>0.212776</td>\n",
       "      <td>-0.504077</td>\n",
       "      <td>0.529387</td>\n",
       "      <td>0.410946</td>\n",
       "      <td>1.159359</td>\n",
       "      <td>0.093369</td>\n",
       "      <td>0.017888</td>\n",
       "      <td>-0.028039</td>\n",
       "      <td>0.000537</td>\n",
       "      <td>-0.005905</td>\n",
       "    </tr>\n",
       "    <tr>\n",
       "      <th>3</th>\n",
       "      <td>-5618.742406</td>\n",
       "      <td>-0.320513</td>\n",
       "      <td>0.337211</td>\n",
       "      <td>-0.832669</td>\n",
       "      <td>0.196044</td>\n",
       "      <td>0.871720</td>\n",
       "      <td>-0.076827</td>\n",
       "      <td>-0.429379</td>\n",
       "      <td>-0.146880</td>\n",
       "      <td>-0.040274</td>\n",
       "      <td>-0.004418</td>\n",
       "      <td>-0.000919</td>\n",
       "      <td>0.001263</td>\n",
       "    </tr>\n",
       "    <tr>\n",
       "      <th>4</th>\n",
       "      <td>-5618.742412</td>\n",
       "      <td>-0.284075</td>\n",
       "      <td>-1.663866</td>\n",
       "      <td>0.775149</td>\n",
       "      <td>-0.711135</td>\n",
       "      <td>-0.447085</td>\n",
       "      <td>0.304311</td>\n",
       "      <td>0.750040</td>\n",
       "      <td>0.257620</td>\n",
       "      <td>-0.049313</td>\n",
       "      <td>0.015765</td>\n",
       "      <td>0.001443</td>\n",
       "      <td>-0.000021</td>\n",
       "    </tr>\n",
       "    <tr>\n",
       "      <th>...</th>\n",
       "      <td>...</td>\n",
       "      <td>...</td>\n",
       "      <td>...</td>\n",
       "      <td>...</td>\n",
       "      <td>...</td>\n",
       "      <td>...</td>\n",
       "      <td>...</td>\n",
       "      <td>...</td>\n",
       "      <td>...</td>\n",
       "      <td>...</td>\n",
       "      <td>...</td>\n",
       "      <td>...</td>\n",
       "      <td>...</td>\n",
       "    </tr>\n",
       "    <tr>\n",
       "      <th>4701212</th>\n",
       "      <td>-5618.742413</td>\n",
       "      <td>-0.277998</td>\n",
       "      <td>-2.057683</td>\n",
       "      <td>-0.894326</td>\n",
       "      <td>0.142931</td>\n",
       "      <td>-0.926444</td>\n",
       "      <td>-0.287941</td>\n",
       "      <td>0.032349</td>\n",
       "      <td>0.626368</td>\n",
       "      <td>-0.326772</td>\n",
       "      <td>-0.019552</td>\n",
       "      <td>-0.000371</td>\n",
       "      <td>0.002144</td>\n",
       "    </tr>\n",
       "    <tr>\n",
       "      <th>4701213</th>\n",
       "      <td>37581.257686</td>\n",
       "      <td>0.032017</td>\n",
       "      <td>-0.953817</td>\n",
       "      <td>0.871102</td>\n",
       "      <td>-0.617664</td>\n",
       "      <td>-0.214166</td>\n",
       "      <td>0.756417</td>\n",
       "      <td>-0.573658</td>\n",
       "      <td>-0.139779</td>\n",
       "      <td>-0.894537</td>\n",
       "      <td>0.002018</td>\n",
       "      <td>0.001271</td>\n",
       "      <td>-0.000011</td>\n",
       "    </tr>\n",
       "    <tr>\n",
       "      <th>4701214</th>\n",
       "      <td>-5618.742398</td>\n",
       "      <td>-0.348946</td>\n",
       "      <td>3.453646</td>\n",
       "      <td>0.203849</td>\n",
       "      <td>-0.324215</td>\n",
       "      <td>0.040882</td>\n",
       "      <td>-0.854387</td>\n",
       "      <td>-0.141785</td>\n",
       "      <td>-0.437916</td>\n",
       "      <td>0.512448</td>\n",
       "      <td>0.000733</td>\n",
       "      <td>-0.000572</td>\n",
       "      <td>0.010223</td>\n",
       "    </tr>\n",
       "    <tr>\n",
       "      <th>4701215</th>\n",
       "      <td>-5618.742408</td>\n",
       "      <td>-0.295974</td>\n",
       "      <td>-0.758581</td>\n",
       "      <td>0.746820</td>\n",
       "      <td>-0.709255</td>\n",
       "      <td>-0.248700</td>\n",
       "      <td>0.797820</td>\n",
       "      <td>0.787883</td>\n",
       "      <td>0.259470</td>\n",
       "      <td>-0.042195</td>\n",
       "      <td>0.006964</td>\n",
       "      <td>0.001083</td>\n",
       "      <td>-0.004015</td>\n",
       "    </tr>\n",
       "    <tr>\n",
       "      <th>4701216</th>\n",
       "      <td>-5618.742406</td>\n",
       "      <td>-0.313490</td>\n",
       "      <td>-0.161159</td>\n",
       "      <td>-0.527651</td>\n",
       "      <td>-0.024378</td>\n",
       "      <td>0.794555</td>\n",
       "      <td>0.471818</td>\n",
       "      <td>0.268127</td>\n",
       "      <td>0.609725</td>\n",
       "      <td>-0.303039</td>\n",
       "      <td>0.006275</td>\n",
       "      <td>-0.000745</td>\n",
       "      <td>-0.000580</td>\n",
       "    </tr>\n",
       "  </tbody>\n",
       "</table>\n",
       "<p>4701217 rows × 13 columns</p>\n",
       "</div>"
      ],
      "text/plain": [
       "                 pc_0      pc_1      pc_2      pc_3      pc_4      pc_5  \\\n",
       "0        26781.257727 -0.073563  1.214121 -0.098647  0.598595 -0.575204   \n",
       "1        -5618.742412 -0.304731  0.113900  0.372510 -0.366591 -0.581739   \n",
       "2        -5618.742404 -0.293459 -1.435277  0.212776 -0.504077  0.529387   \n",
       "3        -5618.742406 -0.320513  0.337211 -0.832669  0.196044  0.871720   \n",
       "4        -5618.742412 -0.284075 -1.663866  0.775149 -0.711135 -0.447085   \n",
       "...               ...       ...       ...       ...       ...       ...   \n",
       "4701212  -5618.742413 -0.277998 -2.057683 -0.894326  0.142931 -0.926444   \n",
       "4701213  37581.257686  0.032017 -0.953817  0.871102 -0.617664 -0.214166   \n",
       "4701214  -5618.742398 -0.348946  3.453646  0.203849 -0.324215  0.040882   \n",
       "4701215  -5618.742408 -0.295974 -0.758581  0.746820 -0.709255 -0.248700   \n",
       "4701216  -5618.742406 -0.313490 -0.161159 -0.527651 -0.024378  0.794555   \n",
       "\n",
       "             pc_6      pc_7      pc_8      pc_9     pc_10     pc_11     pc_12  \n",
       "0       -0.390892 -0.242385 -0.385265 -0.402925 -0.001200 -0.002881 -0.000031  \n",
       "1       -0.752346 -0.323710 -0.373660  0.461662 -0.011176  0.001077 -0.014671  \n",
       "2        0.410946  1.159359  0.093369  0.017888 -0.028039  0.000537 -0.005905  \n",
       "3       -0.076827 -0.429379 -0.146880 -0.040274 -0.004418 -0.000919  0.001263  \n",
       "4        0.304311  0.750040  0.257620 -0.049313  0.015765  0.001443 -0.000021  \n",
       "...           ...       ...       ...       ...       ...       ...       ...  \n",
       "4701212 -0.287941  0.032349  0.626368 -0.326772 -0.019552 -0.000371  0.002144  \n",
       "4701213  0.756417 -0.573658 -0.139779 -0.894537  0.002018  0.001271 -0.000011  \n",
       "4701214 -0.854387 -0.141785 -0.437916  0.512448  0.000733 -0.000572  0.010223  \n",
       "4701215  0.797820  0.787883  0.259470 -0.042195  0.006964  0.001083 -0.004015  \n",
       "4701216  0.471818  0.268127  0.609725 -0.303039  0.006275 -0.000745 -0.000580  \n",
       "\n",
       "[4701217 rows x 13 columns]"
      ]
     },
     "execution_count": 38,
     "metadata": {},
     "output_type": "execute_result"
    }
   ],
   "source": [
    "aa"
   ]
  },
  {
   "cell_type": "code",
   "execution_count": 49,
   "metadata": {},
   "outputs": [
    {
     "data": {
      "text/html": [
       "<div>\n",
       "<style scoped>\n",
       "    .dataframe tbody tr th:only-of-type {\n",
       "        vertical-align: middle;\n",
       "    }\n",
       "\n",
       "    .dataframe tbody tr th {\n",
       "        vertical-align: top;\n",
       "    }\n",
       "\n",
       "    .dataframe thead th {\n",
       "        text-align: right;\n",
       "    }\n",
       "</style>\n",
       "<table border=\"1\" class=\"dataframe\">\n",
       "  <thead>\n",
       "    <tr style=\"text-align: right;\">\n",
       "      <th></th>\n",
       "      <th>pc_0</th>\n",
       "    </tr>\n",
       "  </thead>\n",
       "  <tbody>\n",
       "    <tr>\n",
       "      <th>0</th>\n",
       "      <td>26781.257727</td>\n",
       "    </tr>\n",
       "    <tr>\n",
       "      <th>1</th>\n",
       "      <td>-5618.742412</td>\n",
       "    </tr>\n",
       "    <tr>\n",
       "      <th>2</th>\n",
       "      <td>-5618.742404</td>\n",
       "    </tr>\n",
       "    <tr>\n",
       "      <th>3</th>\n",
       "      <td>-5618.742406</td>\n",
       "    </tr>\n",
       "    <tr>\n",
       "      <th>4</th>\n",
       "      <td>-5618.742412</td>\n",
       "    </tr>\n",
       "    <tr>\n",
       "      <th>...</th>\n",
       "      <td>...</td>\n",
       "    </tr>\n",
       "    <tr>\n",
       "      <th>4701212</th>\n",
       "      <td>-5618.742413</td>\n",
       "    </tr>\n",
       "    <tr>\n",
       "      <th>4701213</th>\n",
       "      <td>37581.257686</td>\n",
       "    </tr>\n",
       "    <tr>\n",
       "      <th>4701214</th>\n",
       "      <td>-5618.742398</td>\n",
       "    </tr>\n",
       "    <tr>\n",
       "      <th>4701215</th>\n",
       "      <td>-5618.742408</td>\n",
       "    </tr>\n",
       "    <tr>\n",
       "      <th>4701216</th>\n",
       "      <td>-5618.742406</td>\n",
       "    </tr>\n",
       "  </tbody>\n",
       "</table>\n",
       "<p>4701217 rows × 1 columns</p>\n",
       "</div>"
      ],
      "text/plain": [
       "                 pc_0\n",
       "0        26781.257727\n",
       "1        -5618.742412\n",
       "2        -5618.742404\n",
       "3        -5618.742406\n",
       "4        -5618.742412\n",
       "...               ...\n",
       "4701212  -5618.742413\n",
       "4701213  37581.257686\n",
       "4701214  -5618.742398\n",
       "4701215  -5618.742408\n",
       "4701216  -5618.742406\n",
       "\n",
       "[4701217 rows x 1 columns]"
      ]
     },
     "execution_count": 49,
     "metadata": {},
     "output_type": "execute_result"
    }
   ],
   "source": [
    "aa.iloc[:,:1]"
   ]
  },
  {
   "cell_type": "code",
   "execution_count": 52,
   "metadata": {},
   "outputs": [],
   "source": [
    "mn = []\n",
    "score = []\n",
    "\n",
    "for c in range(1, 13):\n",
    "    \n",
    "    mn.append(c)\n",
    "    \n",
    "    cc = aa.iloc[:, :c]\n",
    "    \n",
    "    x_train, x_test, y_train, y_test = train_test_split(cc, y, test_size = 0.3, random_state=0)\n",
    "    \n",
    "    knn = KNeighborsRegressor(n_neighbors = 5)\n",
    "    knn.fit(x_train, y_train)\n",
    "    knn_pred = knn.predict(x_test)\n",
    "    score.append(mean_absolute_error(y_test, knn_pred) )"
   ]
  },
  {
   "cell_type": "code",
   "execution_count": 58,
   "metadata": {},
   "outputs": [
    {
     "data": {
      "image/png": "[encoded data removed]",
      "text/plain": [
       "<Figure size 720x720 with 1 Axes>"
      ]
     },
     "metadata": {},
     "output_type": "display_data"
    }
   ],
   "source": [
    "import matplotlib.pyplot as plt\n",
    " \n",
    "fig = plt.figure(figsize=(10,10)) ## 캔버스 생성\n",
    "fig.set_facecolor('white') ## 캔버스 색상 설정\n",
    "ax = fig.add_subplot() ## 그림 뼈대(프레임) 생성\n",
    " \n",
    "ax.plot(mn,score) ## 선그래프 생성\n",
    "\n",
    "plt.xlabel(\"N_compnent\",fontsize= 15)\n",
    "plt.ylabel(\"MAE\",fontsize= 15)\n",
    " \n",
    "plt.xticks( fontsize= 15)\n",
    "plt.yticks( fontsize= 15)## x축 눈금 라벨 설정 - 40도 회전 \n",
    "plt.show()"
   ]
  },
  {
   "cell_type": "code",
   "execution_count": null,
   "metadata": {},
   "outputs": [],
   "source": []
  },
  {
   "cell_type": "code",
   "execution_count": 71,
   "metadata": {
    "id": "_b1mUf7EACUP"
   },
   "outputs": [],
   "source": [
    "x_train, x_test, y_train, y_test = train_test_split(pca_x, y, test_size = 0.3, random_state=0)"
   ]
  },
  {
   "cell_type": "code",
   "execution_count": 72,
   "metadata": {
    "id": "C2zSmZ3osLmR"
   },
   "outputs": [
    {
     "data": {
      "text/plain": [
       "3.8977357650425497"
      ]
     },
     "execution_count": 72,
     "metadata": {},
     "output_type": "execute_result"
    }
   ],
   "source": [
    "knn = KNeighborsRegressor(n_neighbors = 5)\n",
    "knn.fit(x_train, y_train)\n",
    "knn_pred = knn.predict(x_test)\n",
    "mean_absolute_error(y_test, knn_pred) "
   ]
  },
  {
   "cell_type": "code",
   "execution_count": null,
   "metadata": {
    "id": "CWCrCuX2sRkp"
   },
   "outputs": [],
   "source": [
    "lr = LogisticRegression()\n",
    "lr.fit(x_train, y_train)\n",
    "lr_pred = lr.predict(x_test)\n",
    "mean_absolute_error(y_test, lr_pred)"
   ]
  },
  {
   "cell_type": "code",
   "execution_count": null,
   "metadata": {},
   "outputs": [],
   "source": [
    "rf = RandomForestRegressor()\n",
    "rf.fit(x_train, y_train)\n",
    "rf_pred = rf.predict(x_test)\n",
    "mean_absolute_error(y_test, rf_pred)"
   ]
  },
  {
   "cell_type": "code",
   "execution_count": null,
   "metadata": {},
   "outputs": [],
   "source": [
    "len(x_train)"
   ]
  },
  {
   "cell_type": "code",
   "execution_count": null,
   "metadata": {
    "id": "2B3k2kP2_WKt"
   },
   "outputs": [],
   "source": [
    "svr = SVR()\n",
    "svr.fit(x_train, y_train)\n",
    "svm_pred = svr.predict(x_test)\n",
    "mean_absolute_error(y_test, svr_pred)"
   ]
  },
  {
   "cell_type": "code",
   "execution_count": null,
   "metadata": {},
   "outputs": [],
   "source": [
    "from sklearn.linear_model import LinearRegression, Ridge, Lasso, ElasticNet, ARDRegression, BayesianRidge"
   ]
  },
  {
   "cell_type": "code",
   "execution_count": null,
   "metadata": {},
   "outputs": [],
   "source": [
    "linear = LinearRegression()\n",
    "l1, l2 = Lasso(), Ridge()\n",
    "ardr_linear, nb = ARDRegression(), BayesianRidge()"
   ]
  },
  {
   "cell_type": "code",
   "execution_count": null,
   "metadata": {},
   "outputs": [],
   "source": [
    "linear.fit(x_train, y_train)\n",
    "l1.fit(x_train, y_train)\n",
    "l2.fit(x_train, y_train)\n",
    "ardr_linear.fit(x_train, y_train)\n",
    "nb.fit(x_train, y_train)\n",
    "\n",
    "linear_pred = linear.predict(x_test)\n",
    "l1_pred, l2_pred = l1.predict(x_test), l2.predict(x_test)\n",
    "ardr_pred, nb_pred = ardr_linear.predict(x_test), nb.predict(x_test)"
   ]
  },
  {
   "cell_type": "code",
   "execution_count": null,
   "metadata": {},
   "outputs": [],
   "source": [
    "mean_absolute_error(y_test, linear_pred)"
   ]
  },
  {
   "cell_type": "code",
   "execution_count": null,
   "metadata": {},
   "outputs": [],
   "source": [
    "mean_absolute_error(y_test, l1_pred)"
   ]
  },
  {
   "cell_type": "code",
   "execution_count": null,
   "metadata": {},
   "outputs": [],
   "source": [
    "mean_absolute_error(y_test, l2_pred)"
   ]
  },
  {
   "cell_type": "code",
   "execution_count": null,
   "metadata": {},
   "outputs": [],
   "source": [
    "mean_absolute_error(y_test, ardr_pred)"
   ]
  },
  {
   "cell_type": "code",
   "execution_count": null,
   "metadata": {},
   "outputs": [],
   "source": [
    "mean_absolute_error(y_test, nb_pred)"
   ]
  },
  {
   "cell_type": "code",
   "execution_count": null,
   "metadata": {},
   "outputs": [],
   "source": [
    "from xgboost import XGBRegressor"
   ]
  },
  {
   "cell_type": "code",
   "execution_count": null,
   "metadata": {},
   "outputs": [],
   "source": [
    "xgb = XGBRegressor(n_estimators = 400, learning_rate = 0.001, max_depth = 5)\n",
    "xgb.fit(x_train, y_train)\n",
    "y_pred = xgb.predict(x_test)"
   ]
  },
  {
   "cell_type": "code",
   "execution_count": null,
   "metadata": {},
   "outputs": [],
   "source": [
    "mean_absolute_error(y_test, y_pred)"
   ]
  },
  {
   "cell_type": "code",
   "execution_count": 56,
   "metadata": {},
   "outputs": [],
   "source": [
    "import lightgbm as lgb"
   ]
  },
  {
   "cell_type": "code",
   "execution_count": 180,
   "metadata": {},
   "outputs": [],
   "source": [
    "from sklearn.decomposition import PCA\n",
    "pca = PCA(n_components=3, random_state = 0)\n",
    "pca_x = pca.fit_transform(rbs_x)"
   ]
  },
  {
   "cell_type": "code",
   "execution_count": 181,
   "metadata": {},
   "outputs": [],
   "source": [
    "x_train, x_val, y_train, y_val = train_test_split(pca_x, y, test_size = 0.2, random_state=0)\n",
    "x_test, x_val, y_test, y_val = train_test_split(x_val, y_val, test_size = 0.5, random_state=0)\n",
    "train_ds = lgb.Dataset(x_train, label = y_train) \n",
    "val_ds = lgb.Dataset(x_val, label = y_val) "
   ]
  },
  {
   "cell_type": "code",
   "execution_count": 207,
   "metadata": {},
   "outputs": [],
   "source": [
    "params = {'learning_rate': 0.01, \n",
    "          'max_depth': 32, \n",
    "          'boosting': 'gbdt', \n",
    "          'objective': 'regression', \n",
    "          'metric': 'mae', \n",
    "          'is_training_metric': True, \n",
    "          'num_leaves': 1028, \n",
    "          'feature_fraction': 0.5, \n",
    "          'bagging_fraction': 0.5, \n",
    "          'bagging_freq': 5, \n",
    "          'seed':2018}"
   ]
  },
  {
   "cell_type": "code",
   "execution_count": 208,
   "metadata": {},
   "outputs": [
    {
     "name": "stderr",
     "output_type": "stream",
     "text": [
      "C:\\Users\\DIQUEST\\anaconda3\\envs\\mecab\\lib\\site-packages\\lightgbm\\engine.py:181: UserWarning: 'early_stopping_rounds' argument is deprecated and will be removed in a future release of LightGBM. Pass 'early_stopping()' callback via 'callbacks' argument instead.\n",
      "  _log_warning(\"'early_stopping_rounds' argument is deprecated and will be removed in a future release of LightGBM. \"\n",
      "C:\\Users\\DIQUEST\\anaconda3\\envs\\mecab\\lib\\site-packages\\lightgbm\\engine.py:239: UserWarning: 'verbose_eval' argument is deprecated and will be removed in a future release of LightGBM. Pass 'log_evaluation()' callback via 'callbacks' argument instead.\n",
      "  _log_warning(\"'verbose_eval' argument is deprecated and will be removed in a future release of LightGBM. \"\n"
     ]
    },
    {
     "name": "stdout",
     "output_type": "stream",
     "text": [
      "[LightGBM] [Warning] Auto-choosing row-wise multi-threading, the overhead of testing was 0.006048 seconds.\n",
      "You can set `force_row_wise=true` to remove the overhead.\n",
      "And if memory is not enough, you can set `force_col_wise=true`.\n",
      "[LightGBM] [Info] Total Bins 765\n",
      "[LightGBM] [Info] Number of data points in the train set: 3760973, number of used features: 3\n",
      "[LightGBM] [Info] Start training from score 42.786906\n",
      "Training until validation scores don't improve for 100 rounds\n",
      "[100]\tvalid_0's l1: 7.13211\n",
      "[200]\tvalid_0's l1: 5.61525\n",
      "[300]\tvalid_0's l1: 5.22952\n",
      "[400]\tvalid_0's l1: 5.11752\n",
      "[500]\tvalid_0's l1: 5.07106\n",
      "[600]\tvalid_0's l1: 5.04258\n",
      "[700]\tvalid_0's l1: 5.02642\n",
      "[800]\tvalid_0's l1: 5.01432\n",
      "[900]\tvalid_0's l1: 5.00688\n",
      "[1000]\tvalid_0's l1: 5.00059\n",
      "[1100]\tvalid_0's l1: 4.99558\n",
      "[1200]\tvalid_0's l1: 4.99163\n",
      "[1300]\tvalid_0's l1: 4.98844\n",
      "[1400]\tvalid_0's l1: 4.98577\n",
      "[1500]\tvalid_0's l1: 4.98359\n",
      "[1600]\tvalid_0's l1: 4.98183\n",
      "[1700]\tvalid_0's l1: 4.98053\n",
      "[1800]\tvalid_0's l1: 4.97909\n",
      "[1900]\tvalid_0's l1: 4.97798\n",
      "[2000]\tvalid_0's l1: 4.97688\n",
      "[2100]\tvalid_0's l1: 4.97615\n",
      "[2200]\tvalid_0's l1: 4.97519\n",
      "[2300]\tvalid_0's l1: 4.97449\n",
      "[2400]\tvalid_0's l1: 4.97397\n",
      "[2500]\tvalid_0's l1: 4.97336\n",
      "[2600]\tvalid_0's l1: 4.97294\n",
      "[2700]\tvalid_0's l1: 4.97266\n",
      "[2800]\tvalid_0's l1: 4.97213\n",
      "[2900]\tvalid_0's l1: 4.97164\n",
      "[3000]\tvalid_0's l1: 4.97144\n",
      "[3100]\tvalid_0's l1: 4.97107\n",
      "[3200]\tvalid_0's l1: 4.97097\n",
      "[3300]\tvalid_0's l1: 4.9708\n",
      "[3400]\tvalid_0's l1: 4.9705\n",
      "[3500]\tvalid_0's l1: 4.97029\n",
      "[3600]\tvalid_0's l1: 4.97008\n",
      "[3700]\tvalid_0's l1: 4.96966\n",
      "[3800]\tvalid_0's l1: 4.96954\n",
      "[3900]\tvalid_0's l1: 4.9693\n",
      "[4000]\tvalid_0's l1: 4.96912\n",
      "[4100]\tvalid_0's l1: 4.9691\n",
      "[4200]\tvalid_0's l1: 4.96895\n",
      "[4300]\tvalid_0's l1: 4.9688\n",
      "[4400]\tvalid_0's l1: 4.96874\n",
      "[4500]\tvalid_0's l1: 4.96846\n",
      "[4600]\tvalid_0's l1: 4.9683\n",
      "[4700]\tvalid_0's l1: 4.96826\n",
      "[4800]\tvalid_0's l1: 4.96815\n",
      "[4900]\tvalid_0's l1: 4.96805\n",
      "[5000]\tvalid_0's l1: 4.96796\n",
      "Did not meet early stopping. Best iteration is:\n",
      "[4998]\tvalid_0's l1: 4.96795\n"
     ]
    }
   ],
   "source": [
    "lgb_md = lgb.train(params, train_ds, 5000, val_ds, verbose_eval=100, early_stopping_rounds=100)"
   ]
  },
  {
   "cell_type": "code",
   "execution_count": null,
   "metadata": {},
   "outputs": [],
   "source": [
    "lgb_pred = lgb_md.predict(x_test)"
   ]
  },
  {
   "cell_type": "code",
   "execution_count": null,
   "metadata": {},
   "outputs": [],
   "source": [
    "mean_absolute_error(y_test, lgb_pred)"
   ]
  },
  {
   "cell_type": "code",
   "execution_count": 73,
   "metadata": {},
   "outputs": [],
   "source": [
    "test_data = pd.read_csv('open/test.csv')"
   ]
  },
  {
   "cell_type": "code",
   "execution_count": 74,
   "metadata": {},
   "outputs": [],
   "source": [
    "test_df = test_data.drop(except_list, axis = 1).copy()"
   ]
  },
  {
   "cell_type": "code",
   "execution_count": 75,
   "metadata": {},
   "outputs": [],
   "source": [
    "scaler = RobustScaler()\n",
    "rbs_test = scaler.fit_transform(test_df)\n",
    "pca_test = pca.transform(rbs_test)"
   ]
  },
  {
   "cell_type": "code",
   "execution_count": 76,
   "metadata": {},
   "outputs": [
    {
     "data": {
      "text/plain": [
       "(291241, 3)"
      ]
     },
     "execution_count": 76,
     "metadata": {},
     "output_type": "execute_result"
    }
   ],
   "source": [
    "pca_test.shape"
   ]
  },
  {
   "cell_type": "code",
   "execution_count": 211,
   "metadata": {},
   "outputs": [],
   "source": [
    "rs = lgb_md.predict(pca_test)"
   ]
  },
  {
   "cell_type": "code",
   "execution_count": 77,
   "metadata": {},
   "outputs": [],
   "source": [
    "knn_rs = knn.predict(pca_test)"
   ]
  },
  {
   "cell_type": "code",
   "execution_count": 78,
   "metadata": {},
   "outputs": [],
   "source": [
    "sub = pd.read_csv('open/sample_submission.csv')"
   ]
  },
  {
   "cell_type": "code",
   "execution_count": 79,
   "metadata": {},
   "outputs": [],
   "source": [
    "sub['target'] = knn_rs"
   ]
  },
  {
   "cell_type": "code",
   "execution_count": 80,
   "metadata": {},
   "outputs": [],
   "source": [
    "sub.to_csv('submission_knn2.csv', index = False)"
   ]
  },
  {
   "cell_type": "code",
   "execution_count": null,
   "metadata": {},
   "outputs": [],
   "source": []
  }
 ],
 "metadata": {
  "colab": {
   "collapsed_sections": [],
   "provenance": []
  },
  "kernelspec": {
   "display_name": "mecab",
   "language": "python",
   "name": "mecab"
  },
  "language_info": {
   "codemirror_mode": {
    "name": "ipython",
    "version": 3
   },
   "file_extension": ".py",
   "mimetype": "text/x-python",
   "name": "python",
   "nbconvert_exporter": "python",
   "pygments_lexer": "ipython3",
   "version": "3.8.12"
  }
 },
 "nbformat": 4,
 "nbformat_minor": 1
}
