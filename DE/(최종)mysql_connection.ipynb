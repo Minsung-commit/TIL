{
 "cells": [
  {
   "cell_type": "code",
   "execution_count": 1,
   "id": "dc6ba09c",
   "metadata": {},
   "outputs": [],
   "source": [
    "from pyspark.conf import SparkConf\n",
    "from pyspark.sql import SQLContext, SparkSession\n",
    "from pyspark import SparkContext\n",
    "\n",
    "from functools import reduce \n",
    "from pyspark.sql import DataFrame\n",
    "\n",
    "import pyspark.sql.functions as f\n",
    "\n",
    "\n",
    "conf = SparkConf()\\\n",
    "        .setAppName(\"pjt1\")\\\n",
    "        .set(\"spark.driver.extraClassPath\", \"/opt/spark/jars/mysql-connector-java-8.0.26.jar\")\n",
    "sc = SparkContext(conf=conf)\n",
    "\n",
    "sqlCtx = SQLContext(sc)\n",
    "spark = sqlCtx.sparkSession\n",
    "\n",
    "sql_url = \"localhost\"\n",
    "user = \"root\"\n",
    "password = \"1234\"\n",
    "database = \"proj\"\n",
    "\n",
    "\n",
    "sub2019 = spark.read.format(\"jdbc\")\\\n",
    "                .option(\"driver\", \"com.mysql.jdbc.Driver\")\\\n",
    "                .option(\"url\", \"jdbc:mysql://{}:3306/{}?serverTimezone=Asia/Seoul \".format(sql_url, database))\\\n",
    "                .option(\"user\", user)\\\n",
    "                .option(\"password\", password)\\\n",
    "                .option(\"dbtable\", 'sub2019')\\\n",
    "                .load()\n",
    "\n",
    "sub2020 = spark.read.format(\"jdbc\")\\\n",
    "                .option(\"driver\", \"com.mysql.jdbc.Driver\")\\\n",
    "                .option(\"url\", \"jdbc:mysql://{}:3306/{}?serverTimezone=Asia/Seoul \".format(sql_url, database))\\\n",
    "                .option(\"user\", user)\\\n",
    "                .option(\"password\", password)\\\n",
    "                .option(\"dbtable\", 'sub2020')\\\n",
    "                .load()\n",
    "\n",
    "sub2021 = spark.read.format(\"jdbc\")\\\n",
    "                .option(\"driver\", \"com.mysql.jdbc.Driver\")\\\n",
    "                .option(\"url\", \"jdbc:mysql://{}:3306/{}?serverTimezone=Asia/Seoul \".format(sql_url, database))\\\n",
    "                .option(\"user\", user)\\\n",
    "                .option(\"password\", password)\\\n",
    "                .option(\"dbtable\", 'sub2021')\\\n",
    "                .load()\n",
    "\n",
    "sub2019 = sub2019.drop('24over')\n",
    "sub2020 = sub2020.drop('24over')\n",
    "\n",
    "def unionAll(*dfs):\n",
    "    return reduce(DataFrame.union, dfs)\n",
    "\n",
    "sub_tot = unionAll(sub2019, sub2020, sub2021)\n",
    "\n",
    "dateFormat = \"yyyy-MM-dd\"\n",
    "sub_tot = sub_tot.withColumn(\"date\",f.to_date(f.unix_timestamp(sub_tot.date, dateFormat).cast('timestamp')))\n",
    "\n",
    "sub_tot.write \\\n",
    "    .format(\"jdbc\") \\\n",
    "    .option(\"url\", \"jdbc:mysql://localhost/proj\") \\\n",
    "    .option(\"dbtable\", \"proj.sub_total\") \\\n",
    "    .option(\"user\", \"root\") \\\n",
    "    .option(\"password\", \"1234\") \\\n",
    "    .save()"
   ]
  },
  {
   "cell_type": "markdown",
   "id": "aa83046e",
   "metadata": {},
   "source": [
    "---"
   ]
  },
  {
   "cell_type": "code",
   "execution_count": null,
   "id": "1253c98d",
   "metadata": {},
   "outputs": [],
   "source": []
  }
 ],
 "metadata": {
  "kernelspec": {
   "display_name": "Environment (conda_python3)",
   "language": "python",
   "name": "conda_python3"
  },
  "language_info": {
   "codemirror_mode": {
    "name": "ipython",
    "version": 3
   },
   "file_extension": ".py",
   "mimetype": "text/x-python",
   "name": "python",
   "nbconvert_exporter": "python",
   "pygments_lexer": "ipython3",
   "version": "3.6.13"
  }
 },
 "nbformat": 4,
 "nbformat_minor": 5
}
