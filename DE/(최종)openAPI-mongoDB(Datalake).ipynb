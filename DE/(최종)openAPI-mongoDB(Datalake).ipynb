{
 "cells": [
  {
   "cell_type": "markdown",
   "id": "aded0954",
   "metadata": {},
   "source": [
    "### 날짜 사이 모든 날짜 리스트로 구해서 mongoDB에 저장"
   ]
  },
  {
   "cell_type": "code",
   "execution_count": null,
   "id": "eb0bfdeb",
   "metadata": {},
   "outputs": [],
   "source": [
    "from urllib.request import Request, urlopen\n",
    "from urllib.parse import urlencode, quote_plus\n",
    "from xml.etree import ElementTree\n",
    "\n",
    "from pyspark.conf import SparkConf\n",
    "from pyspark.sql import SparkSession\n",
    "from pyspark.sql.types import StructType,StructField, StringType, IntegerType\n",
    "from pyspark.sql.functions import array_contains, udf\n",
    "\n",
    "from datetime import datetime, timedelta\n",
    "from pymongo import MongoClient\n",
    "import pandas as pd\n",
    "import json\n",
    "## processing_load.py\n",
    "spark = SparkSession \\\n",
    "    .builder \\\n",
    "    .appName(\"multi\") \\\n",
    "    .config(\"spark.mongodb.input.uri\", \"mongodb://localhost:27017\") \\\n",
    "    .config(\"spark.mongodb.input.database\",\"datalake\") \\\n",
    "    .config(\"spark.mongodb.input.collection\", \"i\") \\\n",
    "    .config(\"packages org.mongodb.spark:mongo-spark-connector_2.12:3.0.1\") \\\n",
    "    .getOrCreate()\n",
    "sc =spark.sparkContext\n",
    "\n",
    "# pymongo connect\n",
    "client = MongoClient('localhost',27017) # mongodb 27017 port\n",
    "db = client.datalake\n",
    "\n",
    "skey = \"5752524157776a643837426953524b\"\n",
    "today = datetime.today() - timedelta(4)\n",
    "today_4 = today.strftime(\"%Y%m%d\")\n",
    "\n",
    "url = \"http://openapi.seoul.go.kr:8088/{0}/json/CardSubwayStatsNew/1/1000/\".format(skey)\n",
    "\n",
    "today = datetime.today() - timedelta(5)\n",
    "today_5 = today.strftime(\"%Y%m%d\")\n",
    "start = '20190101'\n",
    "\n",
    "def date_range(start, end):\n",
    "    start = datetime.strptime(start, \"%Y%m%d\")\n",
    "    end = datetime.strptime(end, \"%Y%m%d\")\n",
    "    dates = [date.strftime(\"%Y%m%d\") for date in pd.date_range(start, periods=(end-start).days+1)]\n",
    "    return dates\n",
    "    \n",
    "dates = date_range(start, today_5)\n",
    "\n",
    "## openAPI에서 받아온 데이터를 전부 mongoDB에 저장\n",
    "for i in date:\n",
    "    responseBody = urlopen(url+i).read().decode('utf-8')\n",
    "    jsonArray = json.loads(responseBody)\n",
    "    storeInfosArray= jsonArray[\"CardSubwayStatsNew\"][\"row\"]\n",
    "    if storeInfosArray is not None:\n",
    "        for j in range(len(storeInfosArray)):\n",
    "            db.i.insert_one(storeInfosArray[j])\n",
    "            "
   ]
  },
  {
   "cell_type": "code",
   "execution_count": 8,
   "id": "fe825914",
   "metadata": {},
   "outputs": [
    {
     "name": "stderr",
     "output_type": "stream",
     "text": [
      "<ipython-input-8-d8f9cccf4e54>:1: DeprecationWarning: remove is deprecated. Use delete_one or delete_many instead.\n",
      "  db.i.remove({'USE_DT':'20210814'})\n"
     ]
    },
    {
     "data": {
      "text/plain": [
       "{'n': 3606, 'ok': 1.0}"
      ]
     },
     "execution_count": 8,
     "metadata": {},
     "output_type": "execute_result"
    }
   ],
   "source": [
    "db.i.remove({'USE_DT':'20210814'})"
   ]
  },
  {
   "cell_type": "code",
   "execution_count": 9,
   "id": "8c8bd737",
   "metadata": {},
   "outputs": [
    {
     "name": "stdout",
     "output_type": "stream",
     "text": [
      "MongoDB Database :  ['admin', 'config', 'datalake', 'local', 'test']\n",
      "MongoDB Collection :  ['i'] \n",
      "\n",
      "Data\n"
     ]
    },
    {
     "name": "stderr",
     "output_type": "stream",
     "text": [
      "<ipython-input-9-d97d3d6adf86>:10: DeprecationWarning: count is deprecated. Use Collection.count_documents instead.\n",
      "  print(result.count())\n"
     ]
    },
    {
     "name": "stdout",
     "output_type": "stream",
     "text": [
      "601\n",
      "{'_id': ObjectId('611c61ecaaab34c81dbab098'), 'USE_DT': '20210814', 'LINE_NUM': '1호선', 'SUB_STA_NM': '서울역', 'RIDE_PASGR_NUM': 21222.0, 'ALIGHT_PASGR_NUM': 23912.0, 'WORK_DT': '20210817'}\n",
      "{'_id': ObjectId('611c61ecaaab34c81dbab099'), 'USE_DT': '20210814', 'LINE_NUM': '1호선', 'SUB_STA_NM': '동묘앞', 'RIDE_PASGR_NUM': 9368.0, 'ALIGHT_PASGR_NUM': 9560.0, 'WORK_DT': '20210817'}\n",
      "{'_id': ObjectId('611c61ecaaab34c81dbab09a'), 'USE_DT': '20210814', 'LINE_NUM': '1호선', 'SUB_STA_NM': '시청', 'RIDE_PASGR_NUM': 5601.0, 'ALIGHT_PASGR_NUM': 3452.0, 'WORK_DT': '20210817'}\n",
      "{'_id': ObjectId('611c61ecaaab34c81dbab09b'), 'USE_DT': '20210814', 'LINE_NUM': '1호선', 'SUB_STA_NM': '종각', 'RIDE_PASGR_NUM': 13776.0, 'ALIGHT_PASGR_NUM': 12412.0, 'WORK_DT': '20210817'}\n",
      "{'_id': ObjectId('611c61ecaaab34c81dbab09c'), 'USE_DT': '20210814', 'LINE_NUM': '1호선', 'SUB_STA_NM': '종로3가', 'RIDE_PASGR_NUM': 18102.0, 'ALIGHT_PASGR_NUM': 17077.0, 'WORK_DT': '20210817'}\n",
      "{'_id': ObjectId('611c61ecaaab34c81dbab09d'), 'USE_DT': '20210814', 'LINE_NUM': '1호선', 'SUB_STA_NM': '종로5가', 'RIDE_PASGR_NUM': 13993.0, 'ALIGHT_PASGR_NUM': 13791.0, 'WORK_DT': '20210817'}\n",
      "{'_id': ObjectId('611c61ecaaab34c81dbab09e'), 'USE_DT': '20210814', 'LINE_NUM': '1호선', 'SUB_STA_NM': '동대문', 'RIDE_PASGR_NUM': 7765.0, 'ALIGHT_PASGR_NUM': 7506.0, 'WORK_DT': '20210817'}\n",
      "{'_id': ObjectId('611c61ecaaab34c81dbab09f'), 'USE_DT': '20210814', 'LINE_NUM': '1호선', 'SUB_STA_NM': '신설동', 'RIDE_PASGR_NUM': 7557.0, 'ALIGHT_PASGR_NUM': 7101.0, 'WORK_DT': '20210817'}\n",
      "{'_id': ObjectId('611c61ecaaab34c81dbab0a0'), 'USE_DT': '20210814', 'LINE_NUM': '1호선', 'SUB_STA_NM': '제기동', 'RIDE_PASGR_NUM': 12330.0, 'ALIGHT_PASGR_NUM': 12612.0, 'WORK_DT': '20210817'}\n",
      "{'_id': ObjectId('611c61ecaaab34c81dbab0a1'), 'USE_DT': '20210814', 'LINE_NUM': '1호선', 'SUB_STA_NM': '청량리(서울시립대입구)', 'RIDE_PASGR_NUM': 14949.0, 'ALIGHT_PASGR_NUM': 15326.0, 'WORK_DT': '20210817'}\n"
     ]
    }
   ],
   "source": [
    "## 확인용\n",
    "\n",
    "print('MongoDB Database : ',client.list_database_names())\n",
    "\n",
    "print('MongoDB Collection : ',db.list_collection_names(),'\\n')\n",
    "\n",
    "# 검색\n",
    "print('Data')\n",
    "result = db.i.find({\"USE_DT\":\"20210814\"})\n",
    "print(result.count())\n",
    "for i in result[:10]:\n",
    "    print(i)"
   ]
  },
  {
   "cell_type": "code",
   "execution_count": 19,
   "id": "5c8d6e27",
   "metadata": {},
   "outputs": [
    {
     "data": {
      "text/plain": [
       "Collection(Database(MongoClient(host=['localhost:27017'], document_class=dict, tz_aware=False, connect=True), 'ojo_db'), 'test')"
      ]
     },
     "execution_count": 19,
     "metadata": {},
     "output_type": "execute_result"
    }
   ],
   "source": [
    "from pymongo import MongoClient\n",
    "from datetime import datetime\n",
    "import pandas as pd\n",
    "\n",
    "# pymongo connect\n",
    "client = MongoClient('localhost',27017) # mongodb 27017 port\n",
    "db = client.ojo_db\n",
    "db.test"
   ]
  },
  {
   "cell_type": "code",
   "execution_count": 25,
   "id": "808b4912",
   "metadata": {},
   "outputs": [],
   "source": [
    "day = datetime.now() - pd.DateOffset(days=2)"
   ]
  },
  {
   "cell_type": "code",
   "execution_count": 26,
   "id": "b9b77b85",
   "metadata": {},
   "outputs": [
    {
     "data": {
      "text/plain": [
       "'2021-09-22'"
      ]
     },
     "execution_count": 26,
     "metadata": {},
     "output_type": "execute_result"
    }
   ],
   "source": [
    "nowtime = day.strftime('%Y-%m-%d')\n",
    "nowtime"
   ]
  },
  {
   "cell_type": "code",
   "execution_count": 29,
   "id": "11e068f6",
   "metadata": {},
   "outputs": [],
   "source": [
    "a = db.test.find({'date_st': nowtime})"
   ]
  },
  {
   "cell_type": "code",
   "execution_count": 30,
   "id": "df8e29f4",
   "metadata": {},
   "outputs": [
    {
     "name": "stdout",
     "output_type": "stream",
     "text": [
      "{'_id': ObjectId('614c382caaa02972f5452a2b'), 'area': '제주', '확진자수': 2803, 'date_st': '2021-09-22', 'Stage': '3 단계', 'Description': '- 제주 전지역 4단계 (21.9.23~10.3.)'}\n",
      "{'_id': ObjectId('614c382caaa02972f5452a2c'), 'area': '경남', '확진자수': 10983, 'date_st': '2021-09-22', 'Stage': '3 단계', 'Description': '- 경남 전지역 3단계 (21.9.6~10.3.)'}\n",
      "{'_id': ObjectId('614c382caaa02972f5452a2d'), 'area': '경북', '확진자수': 7848, 'date_st': '2021-09-22', 'Stage': '3 단계', 'Description': '- 경북 일부지역 3단계 (21.9.6~10.3.)\\n- 문경시, 상주시 2단계 (21.9.6~10.3.)\\n- 군위군, 의성군, 청송군, 영양군, 영덕군, 청도군, 고령군, 성주군, 예천군, 봉화군, 울릉군, 울진군 1단계 (21.9.6~10.3.)'}\n",
      "{'_id': ObjectId('614c382caaa02972f5452a2e'), 'area': '전남', '확진자수': 2933, 'date_st': '2021-09-22', 'Stage': '3 단계', 'Description': '- 전남 전지역 3단계 (21.9.6~10.3.)'}\n",
      "{'_id': ObjectId('614c382caaa02972f5452a2f'), 'area': '전북', '확진자수': 4179, 'date_st': '2021-09-22', 'Stage': '3 단계', 'Description': '- 전북 일부지역 3단계 (21.9.6~10.3.)\\n- 정읍시, 남원시, 김제시, 완주군(혁신도시 갈산리 제외), 진안군, 무주군, 장수군, 임실군, 순창군, 고창군, 부안군 2단계 (21.9.6~10.3.)'}\n",
      "{'_id': ObjectId('614c382caaa02972f5452a30'), 'area': '충남', '확진자수': 8627, 'date_st': '2021-09-22', 'Stage': '3 단계', 'Description': '- 충남 전지역 3단계 (21.9.6~10.3.)'}\n",
      "{'_id': ObjectId('614c382caaa02972f5452a31'), 'area': '충북', '확진자수': 5906, 'date_st': '2021-09-22', 'Stage': '3 단계', 'Description': '- 충북 전지역 3단계 (21.9.6~10.3.)'}\n",
      "{'_id': ObjectId('614c382caaa02972f5452a32'), 'area': '강원', '확진자수': 6172, 'date_st': '2021-09-22', 'Stage': '3 단계', 'Description': '- 강원 춘천시, 원주시, 동해시, 강릉시, 속초시 3단계 (21.9.6~10.3.)\\n- 인제군 3단계 (21.9.22~10.3.)\\n- 태백시, 삼척시, 홍천군, 횡성군, 영월군, 평창군, 정선군, 철원군, 화천군, 양구군, 고성군, 양양군 2단계 (21.9.6~10.3.)'}\n",
      "{'_id': ObjectId('614c382caaa02972f5452a33'), 'area': '경기', '확진자수': 84038, 'date_st': '2021-09-22', 'Stage': '4 단계', 'Description': '- 경기 전지역 4단계 (21.9.6~10.3.)'}\n",
      "{'_id': ObjectId('614c382caaa02972f5452a34'), 'area': '세종', '확진자수': 1165, 'date_st': '2021-09-22', 'Stage': '3 단계', 'Description': '- 세종 전지역 3단계 (21.9.6~10.3.)'}\n",
      "{'_id': ObjectId('614c382caaa02972f5452a35'), 'area': '울산', '확진자수': 4991, 'date_st': '2021-09-22', 'Stage': '3 단계', 'Description': '- 울산 전지역 3단계 (21.9.6~10.3.)'}\n",
      "{'_id': ObjectId('614c382caaa02972f5452a36'), 'area': '대전', '확진자수': 6611, 'date_st': '2021-09-22', 'Stage': '3 단계', 'Description': '- 대전 전지역 3단계 (21.9.6~10.3.)'}\n",
      "{'_id': ObjectId('614c382caaa02972f5452a37'), 'area': '광주', '확진자수': 4761, 'date_st': '2021-09-22', 'Stage': '3 단계', 'Description': '- 광주 전지역 3단계 (21.9.6~10.3.)'}\n",
      "{'_id': ObjectId('614c382caaa02972f5452a38'), 'area': '인천', '확진자수': 14719, 'date_st': '2021-09-22', 'Stage': '4 단계', 'Description': '- 인천 일부지역 4단계 (21.9.6~10.3.)\\n- 강화군, 옹진군 3단계 (21.9.6~10.3.)'}\n",
      "{'_id': ObjectId('614c382caaa02972f5452a39'), 'area': '대구', '확진자수': 14687, 'date_st': '2021-09-22', 'Stage': '3 단계', 'Description': '- 대구 전지역 3단계 (21.9.6~10.3.)'}\n",
      "{'_id': ObjectId('614c382caaa02972f5452a3a'), 'area': '부산', '확진자수': 12421, 'date_st': '2021-09-22', 'Stage': '3 단계', 'Description': '- 부산 전지역 3단계 (21.9.6~10.3.)'}\n",
      "{'_id': ObjectId('614c382caaa02972f5452a3b'), 'area': '서울', '확진자수': 93821, 'date_st': '2021-09-22', 'Stage': '4 단계', 'Description': '- 서울 전지역 4단계 (21.9.6~10.3.)'}\n"
     ]
    }
   ],
   "source": [
    "for i in a:\n",
    "    print(i)"
   ]
  },
  {
   "cell_type": "code",
   "execution_count": 6,
   "id": "f3b23f19",
   "metadata": {},
   "outputs": [
    {
     "name": "stdout",
     "output_type": "stream",
     "text": [
      "<class 'dict'>\n",
      "('_id', ObjectId('614c382caaa02972f5452a2b'))\n",
      "('area', '제주')\n",
      "('확진자수', 2803)\n",
      "('date_st', '2021-09-22')\n",
      "('Stage', '3 단계')\n",
      "('Description', '- 제주 전지역 4단계 (21.9.23~10.3.)')\n",
      "<class 'dict'>\n",
      "('_id', ObjectId('614c382caaa02972f5452a2c'))\n",
      "('area', '경남')\n",
      "('확진자수', 10983)\n",
      "('date_st', '2021-09-22')\n",
      "('Stage', '3 단계')\n",
      "('Description', '- 경남 전지역 3단계 (21.9.6~10.3.)')\n",
      "<class 'dict'>\n",
      "('_id', ObjectId('614c382caaa02972f5452a2d'))\n",
      "('area', '경북')\n",
      "('확진자수', 7848)\n",
      "('date_st', '2021-09-22')\n",
      "('Stage', '3 단계')\n",
      "('Description', '- 경북 일부지역 3단계 (21.9.6~10.3.)\\n- 문경시, 상주시 2단계 (21.9.6~10.3.)\\n- 군위군, 의성군, 청송군, 영양군, 영덕군, 청도군, 고령군, 성주군, 예천군, 봉화군, 울릉군, 울진군 1단계 (21.9.6~10.3.)')\n",
      "<class 'dict'>\n",
      "('_id', ObjectId('614c382caaa02972f5452a2e'))\n",
      "('area', '전남')\n",
      "('확진자수', 2933)\n",
      "('date_st', '2021-09-22')\n",
      "('Stage', '3 단계')\n",
      "('Description', '- 전남 전지역 3단계 (21.9.6~10.3.)')\n",
      "<class 'dict'>\n",
      "('_id', ObjectId('614c382caaa02972f5452a2f'))\n",
      "('area', '전북')\n",
      "('확진자수', 4179)\n",
      "('date_st', '2021-09-22')\n",
      "('Stage', '3 단계')\n",
      "('Description', '- 전북 일부지역 3단계 (21.9.6~10.3.)\\n- 정읍시, 남원시, 김제시, 완주군(혁신도시 갈산리 제외), 진안군, 무주군, 장수군, 임실군, 순창군, 고창군, 부안군 2단계 (21.9.6~10.3.)')\n",
      "<class 'dict'>\n",
      "('_id', ObjectId('614c382caaa02972f5452a30'))\n",
      "('area', '충남')\n",
      "('확진자수', 8627)\n",
      "('date_st', '2021-09-22')\n",
      "('Stage', '3 단계')\n",
      "('Description', '- 충남 전지역 3단계 (21.9.6~10.3.)')\n",
      "<class 'dict'>\n",
      "('_id', ObjectId('614c382caaa02972f5452a31'))\n",
      "('area', '충북')\n",
      "('확진자수', 5906)\n",
      "('date_st', '2021-09-22')\n",
      "('Stage', '3 단계')\n",
      "('Description', '- 충북 전지역 3단계 (21.9.6~10.3.)')\n",
      "<class 'dict'>\n",
      "('_id', ObjectId('614c382caaa02972f5452a32'))\n",
      "('area', '강원')\n",
      "('확진자수', 6172)\n",
      "('date_st', '2021-09-22')\n",
      "('Stage', '3 단계')\n",
      "('Description', '- 강원 춘천시, 원주시, 동해시, 강릉시, 속초시 3단계 (21.9.6~10.3.)\\n- 인제군 3단계 (21.9.22~10.3.)\\n- 태백시, 삼척시, 홍천군, 횡성군, 영월군, 평창군, 정선군, 철원군, 화천군, 양구군, 고성군, 양양군 2단계 (21.9.6~10.3.)')\n",
      "<class 'dict'>\n",
      "('_id', ObjectId('614c382caaa02972f5452a33'))\n",
      "('area', '경기')\n",
      "('확진자수', 84038)\n",
      "('date_st', '2021-09-22')\n",
      "('Stage', '4 단계')\n",
      "('Description', '- 경기 전지역 4단계 (21.9.6~10.3.)')\n",
      "<class 'dict'>\n",
      "('_id', ObjectId('614c382caaa02972f5452a34'))\n",
      "('area', '세종')\n",
      "('확진자수', 1165)\n",
      "('date_st', '2021-09-22')\n",
      "('Stage', '3 단계')\n",
      "('Description', '- 세종 전지역 3단계 (21.9.6~10.3.)')\n",
      "<class 'dict'>\n",
      "('_id', ObjectId('614c382caaa02972f5452a35'))\n",
      "('area', '울산')\n",
      "('확진자수', 4991)\n",
      "('date_st', '2021-09-22')\n",
      "('Stage', '3 단계')\n",
      "('Description', '- 울산 전지역 3단계 (21.9.6~10.3.)')\n",
      "<class 'dict'>\n",
      "('_id', ObjectId('614c382caaa02972f5452a36'))\n",
      "('area', '대전')\n",
      "('확진자수', 6611)\n",
      "('date_st', '2021-09-22')\n",
      "('Stage', '3 단계')\n",
      "('Description', '- 대전 전지역 3단계 (21.9.6~10.3.)')\n",
      "<class 'dict'>\n",
      "('_id', ObjectId('614c382caaa02972f5452a37'))\n",
      "('area', '광주')\n",
      "('확진자수', 4761)\n",
      "('date_st', '2021-09-22')\n",
      "('Stage', '3 단계')\n",
      "('Description', '- 광주 전지역 3단계 (21.9.6~10.3.)')\n",
      "<class 'dict'>\n",
      "('_id', ObjectId('614c382caaa02972f5452a38'))\n",
      "('area', '인천')\n",
      "('확진자수', 14719)\n",
      "('date_st', '2021-09-22')\n",
      "('Stage', '4 단계')\n",
      "('Description', '- 인천 일부지역 4단계 (21.9.6~10.3.)\\n- 강화군, 옹진군 3단계 (21.9.6~10.3.)')\n",
      "<class 'dict'>\n",
      "('_id', ObjectId('614c382caaa02972f5452a39'))\n",
      "('area', '대구')\n",
      "('확진자수', 14687)\n",
      "('date_st', '2021-09-22')\n",
      "('Stage', '3 단계')\n",
      "('Description', '- 대구 전지역 3단계 (21.9.6~10.3.)')\n",
      "<class 'dict'>\n",
      "('_id', ObjectId('614c382caaa02972f5452a3a'))\n",
      "('area', '부산')\n",
      "('확진자수', 12421)\n",
      "('date_st', '2021-09-22')\n",
      "('Stage', '3 단계')\n",
      "('Description', '- 부산 전지역 3단계 (21.9.6~10.3.)')\n",
      "<class 'dict'>\n",
      "('_id', ObjectId('614c382caaa02972f5452a3b'))\n",
      "('area', '서울')\n",
      "('확진자수', 93821)\n",
      "('date_st', '2021-09-22')\n",
      "('Stage', '4 단계')\n",
      "('Description', '- 서울 전지역 4단계 (21.9.6~10.3.)')\n"
     ]
    }
   ],
   "source": [
    "from pymongo import MongoClient\n",
    "from datetime import datetime\n",
    "import pandas as pd\n",
    "\n",
    "# pymongo connect\n",
    "client = MongoClient('localhost',27017) # mongodb 27017 port\n",
    "db = client.ojo_db\n",
    "db.test\n",
    "\n",
    "day = (datetime.now() - pd.DateOffset(days=2)).strftime('%Y-%m-%d')\n",
    "\n",
    "# nowtime = day\n",
    "# nowtime\n",
    "\n",
    "a = db.test.find({'date_st': nowtime})\n",
    "\n",
    "for i in a:\n",
    "    print(type(i))\n",
    "    for j in i.items():\n",
    "        print(j)"
   ]
  },
  {
   "cell_type": "code",
   "execution_count": null,
   "id": "super-philip",
   "metadata": {},
   "outputs": [],
   "source": []
  }
 ],
 "metadata": {
  "kernelspec": {
   "display_name": "Environment (conda_python3)",
   "language": "python",
   "name": "conda_python3"
  },
  "language_info": {
   "codemirror_mode": {
    "name": "ipython",
    "version": 3
   },
   "file_extension": ".py",
   "mimetype": "text/x-python",
   "name": "python",
   "nbconvert_exporter": "python",
   "pygments_lexer": "ipython3",
   "version": "3.6.13"
  }
 },
 "nbformat": 4,
 "nbformat_minor": 5
}
