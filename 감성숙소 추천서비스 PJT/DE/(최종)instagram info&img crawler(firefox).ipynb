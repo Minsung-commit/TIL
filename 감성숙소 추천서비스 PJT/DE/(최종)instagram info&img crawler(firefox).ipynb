{
 "cells": [
  {
   "cell_type": "code",
   "execution_count": 1,
   "id": "dad704ef",
   "metadata": {},
   "outputs": [],
   "source": [
    "from bs4 import BeautifulSoup\n",
    "from selenium import webdriver\n",
    "\n",
    "import time\n",
    "import os\n",
    "import re\n",
    "import pandas as pd\n",
    "import numpy as np\n",
    "import urllib\n",
    "import unicodedata\n",
    "\n",
    "from urllib.request import urlopen\n",
    "from urllib.parse import quote_plus\n",
    "\n",
    "import requests\n",
    "import shutil\n",
    "# from selenium.webdriver.support.ui import WebDriverWait\n",
    "# from selenium.webdriver.support import expected_conditions as EC\n",
    "# from selenium.webdriver.common.by import By\n",
    "\n",
    "#from selenium.webdriver.common.keys import Keys\n",
    "from pyvirtualdisplay import Display\n",
    "\n",
    "from pyspark.conf import SparkConf\n",
    "from pyspark.sql import SparkSession\n",
    "from pyspark.sql.types import StructType,StructField, StringType, IntegerType\n",
    "from pyspark.sql.functions import array_contains, udf\n",
    "from pymongo import MongoClient\n"
   ]
  },
  {
   "cell_type": "code",
   "execution_count": 2,
   "id": "2583b87c",
   "metadata": {},
   "outputs": [],
   "source": [
    "spark = SparkSession \\\n",
    "    .builder \\\n",
    "    .appName(\"multi\") \\\n",
    "    .config(\"spark.mongodb.input.uri\", \"mongodb://localhost:27017\") \\\n",
    "    .config(\"spark.mongodb.input.database\",\"ojo_db\") \\\n",
    "    .config(\"spark.mongodb.input.collection\", \"insta_img\") \\\n",
    "    .config(\"packages org.mongodb.spark:mongo-spark-connector_2.12:3.0.1\") \\\n",
    "    .getOrCreate()\n",
    "sc =spark.sparkContext\n",
    "\n",
    "# chrome_options = webdriver.ChromeOptions()\n",
    "# chrome_options.add_argument('--headless')\n",
    "# chrome_options.add_argument('--no-sandbox')\n",
    "# chrome_options.add_argument(\"--single-process\")\n",
    "# chrome_options.add_argument(\"--disable-dev-shm-usage\")\n",
    "# chrome_options.add_argument(\"disable-gpu\")\n",
    "# chrome_options.add_argument(\"lang=ko_KR\") # 한국어!\n",
    "# chrome_options.add_argument(\"user-agent=Mozilla/5.0 (Windows NT 10.0; Win64; x64) AppleWebKit/537.36 (KHTML, like Gecko) Chrome/93.0.4577.63 Safari/537.36\")\n",
    "# path='/home/ubuntu/chromedriver'\n",
    "# driver = webdriver.Chrome(path, chrome_options=chrome_options)\n"
   ]
  },
  {
   "cell_type": "code",
   "execution_count": 8,
   "id": "1070809f",
   "metadata": {},
   "outputs": [],
   "source": [
    "def insta_searching(word):\n",
    "    url = 'https://www.instagram.com/' + str(word)\n",
    "    return url\n",
    "\n",
    "def select_first(driver):\n",
    "    first=driver.find_element_by_css_selector(\"div._9AhH0\")\n",
    "    first.click()\n",
    "    time.sleep(3)\n",
    "    \n",
    "    \n",
    "def get_content(driver):\n",
    "    html = driver.page_source\n",
    "    soup = BeautifulSoup(html, 'lxml')\n",
    "    # 사진\n",
    "    try:\n",
    "        imgUrl = soup.select_one('div.PdwC2 .KL4Bh').img['src']\n",
    "    except:\n",
    "        imgUrl = 'not-image'\n",
    "    # 본문내용\n",
    "    try:\n",
    "        content_origin = soup.select('div.C4VMK > span')[0].text\n",
    "        content = unicodedata.normalize('NFC', content_origin)\n",
    "    except:\n",
    "        content = ' '\n",
    "    #해시태그    \n",
    "    tags = re.findall(r'#[^\\s#,\\\\]+', content)\n",
    "    #작성일자\n",
    "    date = soup.select('time._1o9PC.Nzb55')[0]['datetime'][:10]\n",
    "    unix = iso2unix(date)\n",
    "    #좋아요\n",
    "    try:\n",
    "        like = soup.select('a.zV_Nj')[0].text[4:-1]\n",
    "    except:\n",
    "        like = 0\n",
    "    #위치\n",
    "    try:\n",
    "        place = soup.select('div.M30cS')[0].text\n",
    "    except:\n",
    "        place = ''\n",
    "        \n",
    "    data=[content, date, like, place, tags, unix, imgUrl]\n",
    "    return data\n",
    "\n",
    "#함수 정의 : 첫번째 게시물 클릭 후 다음 게시물 클릭\n",
    "def move_next(driver):\n",
    "    right = driver.find_element_by_css_selector('a.coreSpriteRightPaginationArrow')\n",
    "    right.click()\n",
    "    time.sleep(3)\n",
    "    \n",
    "# helpers\n",
    "import time\n",
    "\n",
    "import pytz\n",
    "\n",
    "from iso8601 import parse_date\n",
    "from pytz import reference\n",
    "\n",
    "UTC = pytz.timezone('UTC')\n",
    "LOCALZONE = reference.LocalTimezone()\n",
    "\n",
    "def iso2unix(timestamp):\n",
    "    \"\"\"\n",
    "    Convert a UTC timestamp formatted in ISO 8601 into a UNIX timestamp\n",
    "    \"\"\"\n",
    "\n",
    "    # use iso8601.parse_date to convert the timestamp into a datetime object.\n",
    "    # set the timezone to the local timezone in order for the time module to\n",
    "    # properly manipulate it with localtime() and gmtime()\n",
    "    parsed = parse_date(timestamp).astimezone(LOCALZONE)\n",
    "\n",
    "    # now grab a time tuple that we can feed mktime\n",
    "    timetuple = parsed.timetuple()\n",
    "\n",
    "    # return a unix timestamp\n",
    "    return time.mktime(timetuple)\n",
    "\n",
    "    "
   ]
  },
  {
   "cell_type": "code",
   "execution_count": 9,
   "id": "3d73d0d6",
   "metadata": {},
   "outputs": [
    {
     "name": "stdout",
     "output_type": "stream",
     "text": [
      "/home/ubuntu/DE\r\n"
     ]
    }
   ],
   "source": [
    "!pwd"
   ]
  },
  {
   "cell_type": "code",
   "execution_count": 64,
   "id": "a0fa320f",
   "metadata": {},
   "outputs": [
    {
     "name": "stdout",
     "output_type": "stream",
     "text": [
      "Opera/9.80 (Windows NT 6.1; U; zh-cn) Presto/2.6.37 Version/11.00\n",
      "Instagram\n",
      "Log in\n",
      "Error\n",
      "Please wait a few minutes before you try again.\n",
      "ABOUT US SUPPORT PRESS API JOBS PRIVACY TERMS\n",
      "© 2021 INSTAGRAM\n"
     ]
    },
    {
     "ename": "IndexError",
     "evalue": "list index out of range",
     "output_type": "error",
     "traceback": [
      "\u001b[0;31m---------------------------------------------------------------------------\u001b[0m",
      "\u001b[0;31mIndexError\u001b[0m                                Traceback (most recent call last)",
      "\u001b[0;32m<ipython-input-64-24f85e70ba6d>\u001b[0m in \u001b[0;36m<module>\u001b[0;34m()\u001b[0m\n\u001b[1;32m     55\u001b[0m \u001b[0;31m#인스타그램 로그인을 위한 계정 정보\u001b[0m\u001b[0;34m\u001b[0m\u001b[0;34m\u001b[0m\u001b[0;34m\u001b[0m\u001b[0m\n\u001b[1;32m     56\u001b[0m \u001b[0memail\u001b[0m \u001b[0;34m=\u001b[0m \u001b[0;34m'parksungha12'\u001b[0m\u001b[0;34m\u001b[0m\u001b[0;34m\u001b[0m\u001b[0m\n\u001b[0;32m---> 57\u001b[0;31m \u001b[0minput_id\u001b[0m \u001b[0;34m=\u001b[0m \u001b[0mdriver\u001b[0m\u001b[0;34m.\u001b[0m\u001b[0mfind_elements_by_css_selector\u001b[0m\u001b[0;34m(\u001b[0m\u001b[0;34m'input._2hvTZ.pexuQ.zyHYP'\u001b[0m\u001b[0;34m)\u001b[0m\u001b[0;34m[\u001b[0m\u001b[0;36m0\u001b[0m\u001b[0;34m]\u001b[0m\u001b[0;34m\u001b[0m\u001b[0;34m\u001b[0m\u001b[0m\n\u001b[0m\u001b[1;32m     58\u001b[0m \u001b[0minput_id\u001b[0m\u001b[0;34m.\u001b[0m\u001b[0mclear\u001b[0m\u001b[0;34m(\u001b[0m\u001b[0;34m)\u001b[0m\u001b[0;34m\u001b[0m\u001b[0;34m\u001b[0m\u001b[0m\n\u001b[1;32m     59\u001b[0m \u001b[0minput_id\u001b[0m\u001b[0;34m.\u001b[0m\u001b[0msend_keys\u001b[0m\u001b[0;34m(\u001b[0m\u001b[0memail\u001b[0m\u001b[0;34m)\u001b[0m\u001b[0;34m\u001b[0m\u001b[0;34m\u001b[0m\u001b[0m\n",
      "\u001b[0;31mIndexError\u001b[0m: list index out of range"
     ]
    }
   ],
   "source": [
    "display = Display(visible=0, size=(1024, 768)) \n",
    "display.start()\n",
    "from selenium.webdriver.firefox.options import Options\n",
    "from fake_useragent import UserAgent\n",
    "\n",
    "ua=UserAgent(verify_ssl=False)\n",
    "userAgent = ua.random\n",
    "print(userAgent)\n",
    "\n",
    "#path='/home/ubuntu/phantomjs'\n",
    "options = Options()\n",
    "options.headless = True\n",
    "options.add_argument(f'user-agent={userAgent}')\n",
    "driver = webdriver.Firefox(options=options, executable_path=r'/home/ubuntu/geckodriver')\n",
    "\n",
    "# from selenium.webdriver.firefox.firefox_binary import FirefoxBinary\n",
    "\n",
    "# binary = FirefoxBinary('path/to/installed firefox binary')\n",
    "# driver = webdriver.Firefox(firefox_binary=binary)\n",
    "\n",
    "driver.get(\"https://www.instagram.com/accounts/login/\")\n",
    "\n",
    "tt = driver.find_element_by_css_selector(\"html\")\n",
    "\n",
    "print(tt.text)\n",
    "\n",
    "# driver.find_element_by_xpath('//*[@id=\"loginForm\"]/div/div[1]/div/label/input').send_keys(id)\n",
    "# driver.find_element_by_xpath('//*[@id=\"loginForm\"]/div/div[2]/div/label/input').send_keys(pw)\n",
    "# driver.find_element_by_xpath('//*[@id=\"loginForm\"]/div/div[3]/button').click()\n",
    "# driver.implicitly_wait(5)\n",
    "\n",
    "# tt = driver.find_element_by_css_selector(\"html\")\n",
    "# driver.get_screenshot_as_file('capture.png')\n",
    "# print(tt.text)\n",
    "\n",
    "\n",
    "# path='/home/ubuntu/chromedriver'\n",
    "# driver = webdriver.Chrome(path)\n",
    "\n",
    "# driver.get('https://www.instagram.com/')\n",
    "# time.sleep(5)\n",
    "\n",
    "# id_box = driver.find_element_by_css_selector(\"#loginForm > div > div:nth-child(1) > div > label > input\")\n",
    "# password_box = driver.find_element_by_css_selector(\"#loginForm > div > div:nth-child(2) > div > label > input\")\n",
    "# login_button = driver.find_element_by_css_selector('#loginForm > div > div:nth-child(3) > button')\n",
    "\n",
    "# #액션체인 정의 act = ActionChains(dr)\n",
    "# act = ActionChains(driver)\n",
    "\n",
    "# act.send_keys_to_element(id_box,'01053153004').send_keys_to_element(password_box,'7030136a').click(login_button).perform()\n",
    "# time.sleep(5)\n",
    "\n",
    "\n",
    "\n",
    "#인스타그램 로그인을 위한 계정 정보\n",
    "email = 'parksungha12'\n",
    "input_id = driver.find_elements_by_css_selector('input._2hvTZ.pexuQ.zyHYP')[0]\n",
    "input_id.clear()\n",
    "input_id.send_keys(email)\n",
    "\n",
    "password = '1q2w3e4'\n",
    "input_pw = driver.find_elements_by_css_selector('input._2hvTZ.pexuQ.zyHYP')[1]\n",
    "input_pw.clear()\n",
    "input_pw.send_keys(password)\n",
    "input_pw.submit()\n",
    "\n",
    "# driver.find_element_by_xpath('/html/body/div[1]/section/main/div/div/div[1]/div/form/div/div[5]/button').click()\n",
    "\n",
    "time.sleep(5)\n",
    "\n",
    "# driver.find_element_by_xpath('//*[@id=\"email\"]').send_keys(\"01053153004\")\n",
    "# driver.find_element_by_xpath('//*[@id=\"pass\"]').send_keys(\"7030136ab!\")\n",
    "# driver.find_element_by_xpath('//*[@id=\"loginbutton\"]').click()\n",
    "\n",
    "\n",
    "driver.get_screenshot_as_file('capture.png')\n",
    "\n",
    "\n",
    "# 게시물을 조회할 검색 키워드 입력 요청\n",
    "word= input(\"검색어 입력 : \")\n",
    "word = str(word)\n",
    "if os.path.isdir('./img/'+ word) == False:\n",
    "    os.mkdir('./img/'+ word)\n",
    "url = insta_searching(word)\n",
    "\n",
    "# 검색 결과 페이지 열기\n",
    "#driver.get(url)\n",
    "driver.get(url)\n",
    "time.sleep(5)\n",
    "\n",
    "#첫 번째 게시물 클릭\n",
    "\n",
    "tt = driver.find_element_by_css_selector(\"html\")\n",
    "\n",
    "print(tt.text)\n",
    "\n",
    "select_first(driver)\n",
    "\n",
    "results = []\n",
    "\n",
    "\n",
    "html = driver.page_source\n",
    "soup = BeautifulSoup(html)"
   ]
  },
  {
   "cell_type": "code",
   "execution_count": 8,
   "id": "89ef2e7c",
   "metadata": {
    "scrolled": true
   },
   "outputs": [
    {
     "name": "stdout",
     "output_type": "stream",
     "text": [
      "검색어 입력 : hi.stay.tour\n"
     ]
    },
    {
     "ename": "NoSuchElementException",
     "evalue": "Message: no such element: Unable to locate element: {\"method\":\"css selector\",\"selector\":\"div._9AhH0\"}\n  (Session info: chrome=93.0.4577.82)\n",
     "output_type": "error",
     "traceback": [
      "\u001b[0;31m---------------------------------------------------------------------------\u001b[0m",
      "\u001b[0;31mNoSuchElementException\u001b[0m                    Traceback (most recent call last)",
      "\u001b[0;32m<ipython-input-8-c3eab46a0cae>\u001b[0m in \u001b[0;36m<module>\u001b[0;34m()\u001b[0m\n\u001b[1;32m     37\u001b[0m \u001b[0;34m\u001b[0m\u001b[0m\n\u001b[1;32m     38\u001b[0m \u001b[0;31m# 첫 번째 게시물 클릭\u001b[0m\u001b[0;34m\u001b[0m\u001b[0;34m\u001b[0m\u001b[0;34m\u001b[0m\u001b[0m\n\u001b[0;32m---> 39\u001b[0;31m \u001b[0mselect_first\u001b[0m\u001b[0;34m(\u001b[0m\u001b[0mdriver\u001b[0m\u001b[0;34m)\u001b[0m\u001b[0;34m\u001b[0m\u001b[0;34m\u001b[0m\u001b[0m\n\u001b[0m\u001b[1;32m     40\u001b[0m \u001b[0;34m\u001b[0m\u001b[0m\n\u001b[1;32m     41\u001b[0m \u001b[0mresults\u001b[0m \u001b[0;34m=\u001b[0m \u001b[0;34m[\u001b[0m\u001b[0;34m]\u001b[0m\u001b[0;34m\u001b[0m\u001b[0;34m\u001b[0m\u001b[0m\n",
      "\u001b[0;32m<ipython-input-7-692e616b932d>\u001b[0m in \u001b[0;36mselect_first\u001b[0;34m(driver)\u001b[0m\n\u001b[1;32m      4\u001b[0m \u001b[0;34m\u001b[0m\u001b[0m\n\u001b[1;32m      5\u001b[0m \u001b[0;32mdef\u001b[0m \u001b[0mselect_first\u001b[0m\u001b[0;34m(\u001b[0m\u001b[0mdriver\u001b[0m\u001b[0;34m)\u001b[0m\u001b[0;34m:\u001b[0m\u001b[0;34m\u001b[0m\u001b[0;34m\u001b[0m\u001b[0m\n\u001b[0;32m----> 6\u001b[0;31m     \u001b[0mfirst\u001b[0m\u001b[0;34m=\u001b[0m\u001b[0mdriver\u001b[0m\u001b[0;34m.\u001b[0m\u001b[0mfind_element_by_css_selector\u001b[0m\u001b[0;34m(\u001b[0m\u001b[0;34m\"div._9AhH0\"\u001b[0m\u001b[0;34m)\u001b[0m\u001b[0;34m[\u001b[0m\u001b[0;36m0\u001b[0m\u001b[0;34m]\u001b[0m\u001b[0;34m\u001b[0m\u001b[0;34m\u001b[0m\u001b[0m\n\u001b[0m\u001b[1;32m      7\u001b[0m     \u001b[0mfirst\u001b[0m\u001b[0;34m.\u001b[0m\u001b[0mclick\u001b[0m\u001b[0;34m(\u001b[0m\u001b[0;34m)\u001b[0m\u001b[0;34m\u001b[0m\u001b[0;34m\u001b[0m\u001b[0m\n\u001b[1;32m      8\u001b[0m     \u001b[0mtime\u001b[0m\u001b[0;34m.\u001b[0m\u001b[0msleep\u001b[0m\u001b[0;34m(\u001b[0m\u001b[0;36m3\u001b[0m\u001b[0;34m)\u001b[0m\u001b[0;34m\u001b[0m\u001b[0;34m\u001b[0m\u001b[0m\n",
      "\u001b[0;32m/home/ubuntu/anaconda3/envs/python3/lib/python3.6/site-packages/selenium/webdriver/remote/webdriver.py\u001b[0m in \u001b[0;36mfind_element_by_css_selector\u001b[0;34m(self, css_selector)\u001b[0m\n\u001b[1;32m    596\u001b[0m             \u001b[0melement\u001b[0m \u001b[0;34m=\u001b[0m \u001b[0mdriver\u001b[0m\u001b[0;34m.\u001b[0m\u001b[0mfind_element_by_css_selector\u001b[0m\u001b[0;34m(\u001b[0m\u001b[0;34m'#foo'\u001b[0m\u001b[0;34m)\u001b[0m\u001b[0;34m\u001b[0m\u001b[0;34m\u001b[0m\u001b[0m\n\u001b[1;32m    597\u001b[0m         \"\"\"\n\u001b[0;32m--> 598\u001b[0;31m         \u001b[0;32mreturn\u001b[0m \u001b[0mself\u001b[0m\u001b[0;34m.\u001b[0m\u001b[0mfind_element\u001b[0m\u001b[0;34m(\u001b[0m\u001b[0mby\u001b[0m\u001b[0;34m=\u001b[0m\u001b[0mBy\u001b[0m\u001b[0;34m.\u001b[0m\u001b[0mCSS_SELECTOR\u001b[0m\u001b[0;34m,\u001b[0m \u001b[0mvalue\u001b[0m\u001b[0;34m=\u001b[0m\u001b[0mcss_selector\u001b[0m\u001b[0;34m)\u001b[0m\u001b[0;34m\u001b[0m\u001b[0;34m\u001b[0m\u001b[0m\n\u001b[0m\u001b[1;32m    599\u001b[0m \u001b[0;34m\u001b[0m\u001b[0m\n\u001b[1;32m    600\u001b[0m     \u001b[0;32mdef\u001b[0m \u001b[0mfind_elements_by_css_selector\u001b[0m\u001b[0;34m(\u001b[0m\u001b[0mself\u001b[0m\u001b[0;34m,\u001b[0m \u001b[0mcss_selector\u001b[0m\u001b[0;34m)\u001b[0m\u001b[0;34m:\u001b[0m\u001b[0;34m\u001b[0m\u001b[0;34m\u001b[0m\u001b[0m\n",
      "\u001b[0;32m/home/ubuntu/anaconda3/envs/python3/lib/python3.6/site-packages/selenium/webdriver/remote/webdriver.py\u001b[0m in \u001b[0;36mfind_element\u001b[0;34m(self, by, value)\u001b[0m\n\u001b[1;32m    976\u001b[0m         return self.execute(Command.FIND_ELEMENT, {\n\u001b[1;32m    977\u001b[0m             \u001b[0;34m'using'\u001b[0m\u001b[0;34m:\u001b[0m \u001b[0mby\u001b[0m\u001b[0;34m,\u001b[0m\u001b[0;34m\u001b[0m\u001b[0;34m\u001b[0m\u001b[0m\n\u001b[0;32m--> 978\u001b[0;31m             'value': value})['value']\n\u001b[0m\u001b[1;32m    979\u001b[0m \u001b[0;34m\u001b[0m\u001b[0m\n\u001b[1;32m    980\u001b[0m     \u001b[0;32mdef\u001b[0m \u001b[0mfind_elements\u001b[0m\u001b[0;34m(\u001b[0m\u001b[0mself\u001b[0m\u001b[0;34m,\u001b[0m \u001b[0mby\u001b[0m\u001b[0;34m=\u001b[0m\u001b[0mBy\u001b[0m\u001b[0;34m.\u001b[0m\u001b[0mID\u001b[0m\u001b[0;34m,\u001b[0m \u001b[0mvalue\u001b[0m\u001b[0;34m=\u001b[0m\u001b[0;32mNone\u001b[0m\u001b[0;34m)\u001b[0m\u001b[0;34m:\u001b[0m\u001b[0;34m\u001b[0m\u001b[0;34m\u001b[0m\u001b[0m\n",
      "\u001b[0;32m/home/ubuntu/anaconda3/envs/python3/lib/python3.6/site-packages/selenium/webdriver/remote/webdriver.py\u001b[0m in \u001b[0;36mexecute\u001b[0;34m(self, driver_command, params)\u001b[0m\n\u001b[1;32m    319\u001b[0m         \u001b[0mresponse\u001b[0m \u001b[0;34m=\u001b[0m \u001b[0mself\u001b[0m\u001b[0;34m.\u001b[0m\u001b[0mcommand_executor\u001b[0m\u001b[0;34m.\u001b[0m\u001b[0mexecute\u001b[0m\u001b[0;34m(\u001b[0m\u001b[0mdriver_command\u001b[0m\u001b[0;34m,\u001b[0m \u001b[0mparams\u001b[0m\u001b[0;34m)\u001b[0m\u001b[0;34m\u001b[0m\u001b[0;34m\u001b[0m\u001b[0m\n\u001b[1;32m    320\u001b[0m         \u001b[0;32mif\u001b[0m \u001b[0mresponse\u001b[0m\u001b[0;34m:\u001b[0m\u001b[0;34m\u001b[0m\u001b[0;34m\u001b[0m\u001b[0m\n\u001b[0;32m--> 321\u001b[0;31m             \u001b[0mself\u001b[0m\u001b[0;34m.\u001b[0m\u001b[0merror_handler\u001b[0m\u001b[0;34m.\u001b[0m\u001b[0mcheck_response\u001b[0m\u001b[0;34m(\u001b[0m\u001b[0mresponse\u001b[0m\u001b[0;34m)\u001b[0m\u001b[0;34m\u001b[0m\u001b[0;34m\u001b[0m\u001b[0m\n\u001b[0m\u001b[1;32m    322\u001b[0m             response['value'] = self._unwrap_value(\n\u001b[1;32m    323\u001b[0m                 response.get('value', None))\n",
      "\u001b[0;32m/home/ubuntu/anaconda3/envs/python3/lib/python3.6/site-packages/selenium/webdriver/remote/errorhandler.py\u001b[0m in \u001b[0;36mcheck_response\u001b[0;34m(self, response)\u001b[0m\n\u001b[1;32m    240\u001b[0m                 \u001b[0malert_text\u001b[0m \u001b[0;34m=\u001b[0m \u001b[0mvalue\u001b[0m\u001b[0;34m[\u001b[0m\u001b[0;34m'alert'\u001b[0m\u001b[0;34m]\u001b[0m\u001b[0;34m.\u001b[0m\u001b[0mget\u001b[0m\u001b[0;34m(\u001b[0m\u001b[0;34m'text'\u001b[0m\u001b[0;34m)\u001b[0m\u001b[0;34m\u001b[0m\u001b[0;34m\u001b[0m\u001b[0m\n\u001b[1;32m    241\u001b[0m             \u001b[0;32mraise\u001b[0m \u001b[0mexception_class\u001b[0m\u001b[0;34m(\u001b[0m\u001b[0mmessage\u001b[0m\u001b[0;34m,\u001b[0m \u001b[0mscreen\u001b[0m\u001b[0;34m,\u001b[0m \u001b[0mstacktrace\u001b[0m\u001b[0;34m,\u001b[0m \u001b[0malert_text\u001b[0m\u001b[0;34m)\u001b[0m\u001b[0;34m\u001b[0m\u001b[0;34m\u001b[0m\u001b[0m\n\u001b[0;32m--> 242\u001b[0;31m         \u001b[0;32mraise\u001b[0m \u001b[0mexception_class\u001b[0m\u001b[0;34m(\u001b[0m\u001b[0mmessage\u001b[0m\u001b[0;34m,\u001b[0m \u001b[0mscreen\u001b[0m\u001b[0;34m,\u001b[0m \u001b[0mstacktrace\u001b[0m\u001b[0;34m)\u001b[0m\u001b[0;34m\u001b[0m\u001b[0;34m\u001b[0m\u001b[0m\n\u001b[0m\u001b[1;32m    243\u001b[0m \u001b[0;34m\u001b[0m\u001b[0m\n\u001b[1;32m    244\u001b[0m     \u001b[0;32mdef\u001b[0m \u001b[0m_value_or_default\u001b[0m\u001b[0;34m(\u001b[0m\u001b[0mself\u001b[0m\u001b[0;34m,\u001b[0m \u001b[0mobj\u001b[0m\u001b[0;34m,\u001b[0m \u001b[0mkey\u001b[0m\u001b[0;34m,\u001b[0m \u001b[0mdefault\u001b[0m\u001b[0;34m)\u001b[0m\u001b[0;34m:\u001b[0m\u001b[0;34m\u001b[0m\u001b[0;34m\u001b[0m\u001b[0m\n",
      "\u001b[0;31mNoSuchElementException\u001b[0m: Message: no such element: Unable to locate element: {\"method\":\"css selector\",\"selector\":\"div._9AhH0\"}\n  (Session info: chrome=93.0.4577.82)\n"
     ]
    }
   ],
   "source": [
    "# pymongo connect\n",
    "client = MongoClient('localhost',27017) # mongodb 27017 port\n",
    "db = client.ojo\n",
    "\n",
    "n=0\n",
    "\n",
    "target = 500\n",
    "for i in range(target):\n",
    "    #try:\n",
    "    #get content and append in result arr\n",
    "    data=get_content(driver)\n",
    "    db.insta_img.insert_one({'unix':data[5],'imgUrl':data[6]})\n",
    "    results.append(data)\n",
    "    #save data\n",
    "    url = data[-1]\n",
    "    unix = data[-2]\n",
    "    resp = requests.get(url, stream=True)\n",
    "    local_file = open('./img/' + word+'/'+ str(unix) + '.jpg', 'wb')\n",
    "    resp.raw.decode_content = True\n",
    "    shutil.copyfileobj(resp.raw, local_file)\n",
    "    del resp\n",
    "\n",
    "    #move next\n",
    "    move_next(driver)\n",
    "    #except:\n",
    "        #time.sleep(2)\n",
    "        #move_next(driver)\n",
    "        \n",
    "'''\n",
    "    # This is the image url.\n",
    "    image_url = imglist[n]\n",
    "    # Open the url image, set stream to True, this will return the stream content.\n",
    "    resp = requests.get(image_url, stream=True)\n",
    "    # Open a local file with wb ( write binary ) permission.\n",
    "    \n",
    "    local_file = open('./img/' + urllist[i] + str(n) + '.jpg', 'wb')\n",
    "    \n",
    "    # Set decode_content value to True, otherwise the downloaded image file's size will be zero.\n",
    "    resp.raw.decode_content = True\n",
    "    # Copy the response stream raw data to local image file.\n",
    "    shutil.copyfileobj(resp.raw, local_file)\n",
    "    # Remove the image url response object.\n",
    "    n +=1\n",
    "    del resp\n",
    "'''\n",
    "driver.close()"
   ]
  },
  {
   "cell_type": "code",
   "execution_count": null,
   "id": "3002f209",
   "metadata": {},
   "outputs": [],
   "source": []
  },
  {
   "cell_type": "code",
   "execution_count": null,
   "id": "1183f83d",
   "metadata": {},
   "outputs": [],
   "source": [
    "results_df = pd.DataFrame(results)\n",
    "results_df.columns = ['content', 'date', 'like', 'place', 'tags', 'unix', 'imgUrl']\n",
    "results_df.to_csv('./img/'+ word + '/' + word + '.csv', encoding='utf-8-sig')\n"
   ]
  },
  {
   "cell_type": "code",
   "execution_count": 7,
   "id": "252e8cab",
   "metadata": {},
   "outputs": [
    {
     "data": {
      "text/plain": [
       "<selenium.webdriver.remote.webelement.WebElement (session=\"084341e53a53f0fd7b6260a2e2726b87\", element=\"df14bff3-0720-4d2a-b1db-9bd783975f37\")>"
      ]
     },
     "execution_count": 7,
     "metadata": {},
     "output_type": "execute_result"
    }
   ],
   "source": [
    "input_pw"
   ]
  },
  {
   "cell_type": "code",
   "execution_count": 8,
   "id": "2a6c6cf7",
   "metadata": {},
   "outputs": [
    {
     "data": {
      "text/plain": [
       "<selenium.webdriver.remote.webelement.WebElement (session=\"084341e53a53f0fd7b6260a2e2726b87\", element=\"087b2da9-82d6-40ee-9b39-1e3fc8b3d40e\")>"
      ]
     },
     "execution_count": 8,
     "metadata": {},
     "output_type": "execute_result"
    }
   ],
   "source": [
    "input_id"
   ]
  },
  {
   "cell_type": "code",
   "execution_count": null,
   "id": "f7c90a52",
   "metadata": {},
   "outputs": [],
   "source": []
  }
 ],
 "metadata": {
  "interpreter": {
   "hash": "485035c5b2a6f2b50dc2dc5ca51aeeb931032fbc9adc2e30c7c528d6bf8a9176"
  },
  "kernelspec": {
   "display_name": "Environment (conda_python3)",
   "language": "python",
   "name": "conda_python3"
  },
  "language_info": {
   "codemirror_mode": {
    "name": "ipython",
    "version": 3
   },
   "file_extension": ".py",
   "mimetype": "text/x-python",
   "name": "python",
   "nbconvert_exporter": "python",
   "pygments_lexer": "ipython3",
   "version": "3.6.13"
  }
 },
 "nbformat": 4,
 "nbformat_minor": 5
}
