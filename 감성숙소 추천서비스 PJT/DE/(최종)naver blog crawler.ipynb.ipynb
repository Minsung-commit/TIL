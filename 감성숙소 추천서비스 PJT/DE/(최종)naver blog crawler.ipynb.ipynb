{
 "cells": [
  {
   "cell_type": "code",
   "execution_count": 6,
   "id": "49e361e2",
   "metadata": {},
   "outputs": [
    {
     "name": "stderr",
     "output_type": "stream",
     "text": [
      "/home/ubuntu/anaconda3/envs/python3/lib/python3.6/site-packages/ipykernel/__main__.py:29: DeprecationWarning: use options instead of chrome_options\n"
     ]
    }
   ],
   "source": [
    "from selenium import webdriver\n",
    "import time\n",
    "import pandas as pd\n",
    "import tqdm\n",
    "from tqdm.notebook import tqdm\n",
    "\n",
    "from pyspark.conf import SparkConf\n",
    "from pyspark.sql import SparkSession\n",
    "from pyspark.sql.types import StructType,StructField, StringType, IntegerType\n",
    "from pyspark.sql.functions import array_contains, udf\n",
    "from pymongo import MongoClient\n",
    "\n",
    "chrome_options = webdriver.ChromeOptions()\n",
    "chrome_options.add_argument('--headless')\n",
    "chrome_options.add_argument('--no-sandbox')\n",
    "chrome_options.add_argument(\"--single-process\")\n",
    "chrome_options.add_argument(\"--disable-dev-shm-usage\")\n",
    "chrome_options.add_argument(\"disable-gpu\")\n",
    "chrome_options.add_argument(\"lang=ko_KR\") # 한국어!\n",
    "chrome_options.add_argument(\"user-agent=Mozilla/5.0 (Windows NT 10.0; Win64; x64) AppleWebKit/537.36 (KHTML, like Gecko) Chrome/93.0.4577.63 Safari/537.36\")\n",
    "path='/home/ubuntu/chromedriver'\n",
    "\n",
    "driver = webdriver.Chrome(path, chrome_options=chrome_options) # 드라이버 경로 설정\n",
    "url_list = [] # 블로그 url을 저장하기 위한 변수\n",
    "title_list=[]\n",
    "results=[]\n",
    "content_list = \"\" # 블로그 content를 누적하기 위한 변수\n",
    "text = \"감성숙소\" # 검색어\n",
    " \n",
    "for i in range(1, 3):  # 1~X-1페이지까지의 블로그 내용을 읽어옴 573\n",
    "    url = 'https://section.blog.naver.com/Search/Post.nhn?pageNo='+ str(i) + '&rangeType=ALL&orderBy=sim&keyword=' + text # url 값 설정\n",
    "    driver.get(url)\n",
    "    time.sleep(1) # 오류 방지 sleep\n",
    " \n",
    "    for j in range(1, 8):\n",
    "        blog_urls = driver.find_element_by_xpath('/html/body/ui-view/div/main/div/div/section/div[2]/div['+str(j)+']/div/div[1]/div[1]/a[1]')\n",
    "        blog_url = blog_urls.get_attribute('href')\n",
    "        url_list.append(blog_url)\n",
    "        \n",
    "        title = driver.find_element_by_xpath('//*[@id=\"content\"]/section/div[2]/div['+str(j)+']/div/div[1]/div[1]/a[1]/strong/span').text\n",
    "        title_list.append(title)\n",
    "        \n",
    "\n",
    "\n",
    "df= pd.DataFrame({'url':url_list,'title':title_list})\n",
    "df.to_csv(\"blog_url.csv\", encoding='utf-8-sig')\n",
    "  "
   ]
  },
  {
   "cell_type": "code",
   "execution_count": 7,
   "id": "9b445cfb-e7e0-4182-8fa1-6b7632cda7df",
   "metadata": {
    "scrolled": false
   },
   "outputs": [
    {
     "data": {
      "application/vnd.jupyter.widget-view+json": {
       "model_id": "f95fdb0bc6e94194a71491819525fa81",
       "version_major": 2,
       "version_minor": 0
      },
      "text/plain": [
       "  0%|          | 0/14 [00:00<?, ?it/s]"
      ]
     },
     "metadata": {},
     "output_type": "display_data"
    },
    {
     "name": "stderr",
     "output_type": "stream",
     "text": [
      "/home/ubuntu/anaconda3/envs/python3/lib/python3.6/site-packages/ipykernel/__main__.py:14: DeprecationWarning: use options instead of chrome_options\n"
     ]
    }
   ],
   "source": [
    "  \n",
    "    \n",
    "# url 리스트 불러오기    \n",
    "url_load = pd.read_csv(\"blog_url.csv\")\n",
    "\n",
    "num_list = len(url_load)\n",
    "        #data=[blog_url, title]\n",
    "        #results.append(data)\n",
    "dict = {} # 전체 크롤링 데이터를 담을 그릇\n",
    "\n",
    "for k in tqdm(range(0, num_list)): # 저장했던 블로그 하나씩 순회\n",
    "    # 글 띄우기\n",
    "    url=url_load['url'][k]\n",
    "    driver = webdriver.Chrome(path, chrome_options=chrome_options)\n",
    "    driver.get(url)\n",
    "    \n",
    "    try:\n",
    "        # iframe 접근\n",
    "        driver.switch_to.frame('mainFrame')\n",
    "        target_info={}\n",
    "   \n",
    "#         overlays1=\".se-fs-.se-ff-\"\n",
    "#         tit = driver.find_element_by_css_selector(overlays1)\n",
    "#         title = tit.text\n",
    "        \n",
    "        # 글쓴이 크롤링\n",
    "        overlays2=\".nick\"\n",
    "        nick = driver.find_element_by_css_selector(overlays2)\n",
    "        nickname = nick.text\n",
    "     \n",
    "        # 날짜 크롤링\n",
    "        overlays3=\".se_publishDate.pcol2\"\n",
    "        date = driver.find_element_by_css_selector(overlays3)\n",
    "        datetime = date.text  \n",
    "        \n",
    "        # 내용 크롤링\n",
    "        overlays4 = \".se-component.se-text.se-l-default\" # 내용 크롤링\n",
    "        contents = driver.find_elements_by_css_selector(overlays4)\n",
    "\n",
    "        \n",
    "        content_list=[]\n",
    "        for content in contents:\n",
    "            content_list.append(content.text) # 각 블로그의 내용을 변수에 누적함\n",
    "            #content_list = content_list.replace(\"\\n\",\"\") #공백 제거\n",
    "        content_str= ' '.join(content_list)\n",
    "#     for content in contents:\n",
    "#         content_list = content_list + content.text # 각 블로그의 내용을 변수에 누적함\n",
    "#         content_list = content_list.replace(\"\\n\",\"\") #공백 제거\n",
    "\n",
    "        # 글 하나는 target_info 딕셔너리에 담고\n",
    "        target_info['title']=title_list[k]\n",
    "        target_info['nickname']=nickname\n",
    "        target_info['datetime']=datetime\n",
    "        target_info['content']=content_str\n",
    "\n",
    "        \n",
    "        # 각각의 글은 dict 딕셔너리에 담는다\n",
    "        dict[k]=target_info\n",
    "        time.sleep(1)\n",
    "        \n",
    "        # 블로그 하나 크롤링 후 크롬 창 닫기\n",
    "        driver.close()\n",
    "    except:\n",
    "        driver.close()\n",
    "        time.sleep(1)\n",
    "        continue\n",
    "\n",
    "result_df = pd.DataFrame.from_dict(dict, 'index')\n",
    "result_df.to_csv(\"naver.csv\", encoding='utf-8-sig')\n",
    "\n",
    "f=pd.read_csv(\"naver.csv\", encoding=\"utf-8\")\n",
    "keep_col = [\"title\",\"nickname\",\"datetime\",\"content\"]\n",
    "new_f = f[keep_col].replace('\\\\n',' ', regex=True)\n",
    "new_f.to_csv(\"naver_blog_crawling.csv\", encoding=\"utf-8-sig\", index=False)\n",
    "\n",
    "f=pd.read_csv(\"naver_blog_crawling.csv\")\n",
    "    \n",
    "# data=[url_list, title_list, content_list]"
   ]
  },
  {
   "cell_type": "code",
   "execution_count": 13,
   "id": "33f2a356-b25d-4bf8-86b1-c30a6f9b1581",
   "metadata": {},
   "outputs": [
    {
     "data": {
      "text/plain": [
       "0      2021. 9. 8. 15:05\n",
       "1      2021. 9. 4. 23:34\n",
       "2      2021. 9. 13. 0:27\n",
       "3     2021. 8. 22. 12:55\n",
       "4     2021. 8. 17. 23:56\n",
       "5      2021. 9. 1. 18:14\n",
       "6     2021. 8. 18. 10:13\n",
       "7                 21시간 전\n",
       "8      2021. 9. 11. 0:07\n",
       "9     2021. 8. 23. 15:17\n",
       "10    2021. 8. 25. 22:53\n",
       "11     2021. 9. 6. 13:55\n",
       "12     2021. 7. 4. 22:29\n",
       "13     2021. 7. 3. 16:29\n",
       "Name: datetime, dtype: object"
      ]
     },
     "execution_count": 13,
     "metadata": {},
     "output_type": "execute_result"
    }
   ],
   "source": []
  },
  {
   "cell_type": "code",
   "execution_count": null,
   "id": "2add7687-c8c4-4105-be48-ca5846f95759",
   "metadata": {},
   "outputs": [],
   "source": []
  },
  {
   "cell_type": "code",
   "execution_count": null,
   "id": "91bd7ac7-dd95-4e31-9913-615be543969e",
   "metadata": {},
   "outputs": [],
   "source": []
  },
  {
   "cell_type": "code",
   "execution_count": null,
   "id": "7f8ff2b6-5550-44b8-afd6-1d201aa6a89f",
   "metadata": {},
   "outputs": [],
   "source": []
  },
  {
   "cell_type": "code",
   "execution_count": null,
   "id": "e035bf5d-2526-4997-9b86-33059523b709",
   "metadata": {},
   "outputs": [],
   "source": []
  },
  {
   "cell_type": "code",
   "execution_count": null,
   "id": "d20416aa-381d-45d5-a80c-7536509b7ffc",
   "metadata": {},
   "outputs": [],
   "source": []
  },
  {
   "cell_type": "code",
   "execution_count": null,
   "id": "cec915b5-d700-457b-bf81-23f10b3cb00e",
   "metadata": {},
   "outputs": [],
   "source": []
  }
 ],
 "metadata": {
  "kernelspec": {
   "display_name": "Environment (conda_python3)",
   "language": "python",
   "name": "conda_python3"
  },
  "language_info": {
   "codemirror_mode": {
    "name": "ipython",
    "version": 3
   },
   "file_extension": ".py",
   "mimetype": "text/x-python",
   "name": "python",
   "nbconvert_exporter": "python",
   "pygments_lexer": "ipython3",
   "version": "3.6.13"
  }
 },
 "nbformat": 4,
 "nbformat_minor": 5
}
