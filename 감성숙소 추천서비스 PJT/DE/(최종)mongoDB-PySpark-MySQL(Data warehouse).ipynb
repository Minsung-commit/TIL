{
 "cells": [
  {
   "cell_type": "code",
   "execution_count": 2,
   "id": "9d2a08ed",
   "metadata": {},
   "outputs": [],
   "source": [
    "## mongoDB -> pyspark -> MySQL저장 (수동)\n",
    "\n",
    "from pyspark.conf import SparkConf\n",
    "from pyspark.sql import SparkSession\n",
    "from pyspark.sql.types import StructType,StructField, StringType, IntegerType\n",
    "import pyspark.sql.functions as f\n",
    "\n",
    "\n",
    "# conf = SparkConf()\n",
    "# conf.set('spark.jars.packages', \"org.mongodb.spark:mongo-spark-connector_2.12:3.0.1\")\n",
    "# spark = SparkSession.builder.appName(\"multi\").config(conf=conf).getOrCreate()\n",
    "\n",
    "spark = SparkSession \\\n",
    "    .builder \\\n",
    "    .appName(\"multi\") \\\n",
    "    .config(\"spark.mongodb.input.uri\", \"mongodb://localhost:27017\") \\\n",
    "    .config(\"spark.mongodb.input.database\",\"datalake\") \\\n",
    "    .config(\"spark.mongodb.input.collection\", \"i\") \\\n",
    "    .config(\"packages org.mongodb.spark:mongo-spark-connector_2.12:3.0.1\").getOrCreate()\n",
    "sc =spark.sparkContext\n",
    "\n",
    "# 데이터 스키마\n",
    "subwaySchema =  StructType([\n",
    "    StructField(\"USE_DT\", StringType(),True),\n",
    "    StructField(\"LINE_NUM\", StringType(),True),\n",
    "    StructField(\"SUB_STA_NM\", StringType(),True),\n",
    "    StructField(\"RIDE_PASGR_NUM\", IntegerType(),True),\n",
    "    StructField(\"ALIGHT_PASGR_NUM\", IntegerType(),True),\n",
    "    StructField(\"WORK_DT\", StringType(),True),\n",
    "  ])\n",
    "\n",
    "df = spark.read.schema(subwaySchema).format(\"com.mongodb.spark.sql.DefaultSource\").load() "
   ]
  },
  {
   "cell_type": "code",
   "execution_count": 32,
   "id": "c22ef856",
   "metadata": {},
   "outputs": [],
   "source": [
    "dateFormat = \"yyyyMMdd\"\n",
    "df.createOrReplaceTempView(\"df_psg\")\n",
    "df_psg = spark.sql(\"SELECT * FROM df_psg\")\n",
    "df_psg = df_psg.withColumn(\"USE_DATE\",f.to_date(f.unix_timestamp(df_psg.USE_DT, dateFormat).cast('timestamp')))\n",
    "df_psg = df_psg.drop('WORK_DT','USE_DT')\n",
    "\n",
    "df_psg.write \\\n",
    "    .format(\"jdbc\") \\\n",
    "    .option(\"url\", \"jdbc:mysql://localhost/proj\") \\\n",
    "    .option(\"dbtable\", \"proj.tot_psg\") \\\n",
    "    .option(\"user\", \"root\") \\\n",
    "    .option(\"password\", \"1234\") \\\n",
    "    .save()\n"
   ]
  },
  {
   "cell_type": "code",
   "execution_count": 31,
   "id": "20eb8190",
   "metadata": {},
   "outputs": [
    {
     "data": {
      "text/plain": [
       "567218"
      ]
     },
     "execution_count": 31,
     "metadata": {},
     "output_type": "execute_result"
    }
   ],
   "source": [
    "df_psg.select('*').orderBy('USE_DATE',ascending=0).count()"
   ]
  },
  {
   "cell_type": "code",
   "execution_count": null,
   "id": "2dfda1c2",
   "metadata": {},
   "outputs": [],
   "source": [
    "dateFormat = \"yyyyMMdd\"\n",
    "df.createOrReplaceTempView(\"df2019\")\n",
    "df2019 = spark.sql(\"SELECT * FROM df2019 WHERE USE_DT LIKE '2019%'\")\n",
    "df2019 = df2019.withColumn(\"USE_DATE\",f.to_date(f.unix_timestamp(df2019.USE_DT, dateFormat).cast('timestamp')))\n",
    "df2019 = df2019.drop('WORK_DT','USE_DT')\n",
    "\n",
    "df2019.write \\\n",
    "    .format(\"jdbc\") \\\n",
    "    .option(\"url\", \"jdbc:mysql://localhost/proj\") \\\n",
    "    .option(\"dbtable\", \"proj.tot2019\") \\\n",
    "    .option(\"user\", \"root\") \\\n",
    "    .option(\"password\", \"1234\") \\\n",
    "    .save()\n",
    "\n",
    "df.createOrReplaceTempView(\"df2020\")\n",
    "df2020 = spark.sql(\"SELECT * FROM df2020 WHERE USE_DT LIKE '2020%'\")\n",
    "df2020 = df2020.withColumn(\"USE_DATE\",f.to_date(f.unix_timestamp(df2020.USE_DT, dateFormat).cast('timestamp')))\n",
    "df2020 = df2020.drop('WORK_DT','USE_DT')\n",
    "\n",
    "df2020.write \\\n",
    "    .format(\"jdbc\") \\\n",
    "    .option(\"url\", \"jdbc:mysql://localhost/proj\") \\\n",
    "    .option(\"dbtable\", \"proj.tot2020\") \\\n",
    "    .option(\"user\", \"root\") \\\n",
    "    .option(\"password\", \"1234\") \\\n",
    "    .save()\n",
    "\n",
    "df.createOrReplaceTempView(\"df2021\")\n",
    "dateFormat = \"yyyyMMdd\"\n",
    "df2021 = spark.sql(\"SELECT * FROM df2021 WHERE USE_DT LIKE '2021%'\")\n",
    "df2021 = df2021.withColumn(\"USE_DATE\",f.to_date(f.unix_timestamp(df2021.USE_DT, dateFormat).cast('timestamp')))\n",
    "df2021 = df2021.drop('WORK_DT','USE_DT')\n",
    "\n",
    "\n",
    "df2021.write \\\n",
    "    .format(\"jdbc\") \\\n",
    "    .option(\"url\", \"jdbc:mysql://localhost/proj\") \\\n",
    "    .option(\"dbtable\", \"proj.tot2021\") \\\n",
    "    .option(\"user\", \"root\") \\\n",
    "    .option(\"password\", \"1234\") \\\n",
    "    .save()"
   ]
  },
  {
   "cell_type": "code",
   "execution_count": 31,
   "id": "5c37fd76",
   "metadata": {
    "scrolled": true
   },
   "outputs": [
    {
     "name": "stdout",
     "output_type": "stream",
     "text": [
      "+--------+\n",
      "|count(1)|\n",
      "+--------+\n",
      "|     601|\n",
      "+--------+\n",
      "\n"
     ]
    }
   ],
   "source": [
    "# 검색\n",
    "df.createOrReplaceTempView(\"df2021\")\n",
    "a = spark.sql(\"SELECT COUNT(*) FROM df2021 WHERE USE_DT LIKE '20210814'\")\n",
    "a.show()"
   ]
  },
  {
   "cell_type": "code",
   "execution_count": 29,
   "id": "cfbe5693",
   "metadata": {},
   "outputs": [],
   "source": [
    "# pipeline = \"{'$match': {'USE_DT': '20210806'}}\"\n",
    "# df = spark.read.format(\"mongo\").option(\"pipeline\", pipeline).load()\n",
    "\n",
    "# df.show()"
   ]
  },
  {
   "cell_type": "code",
   "execution_count": null,
   "id": "3dac9fbc",
   "metadata": {},
   "outputs": [],
   "source": []
  }
 ],
 "metadata": {
  "kernelspec": {
   "display_name": "Environment (conda_python3)",
   "language": "python",
   "name": "conda_python3"
  },
  "language_info": {
   "codemirror_mode": {
    "name": "ipython",
    "version": 3
   },
   "file_extension": ".py",
   "mimetype": "text/x-python",
   "name": "python",
   "nbconvert_exporter": "python",
   "pygments_lexer": "ipython3",
   "version": "3.6.13"
  }
 },
 "nbformat": 4,
 "nbformat_minor": 5
}
