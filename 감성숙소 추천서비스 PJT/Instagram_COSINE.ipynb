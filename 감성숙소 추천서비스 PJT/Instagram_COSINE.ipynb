{
  "nbformat": 4,
  "nbformat_minor": 0,
  "metadata": {
    "colab": {
      "name": "Instagram_EDA.ipynb의 사본",
      "provenance": [],
      "collapsed_sections": []
    },
    "kernelspec": {
      "name": "python3",
      "display_name": "Python 3"
    },
    "language_info": {
      "name": "python"
    }
  },
  "cells": [
    {
      "cell_type": "code",
      "metadata": {
        "id": "pJv72Z5unlho",
        "colab": {
          "base_uri": "https://localhost:8080/"
        },
        "outputId": "03cdebb4-a77c-48ea-f2b8-6e917a595b4f"
      },
      "source": [
        "!sudo apt-get install python3-dev; pip3 install konlpy"
      ],
      "execution_count": 1,
      "outputs": [
        {
          "output_type": "stream",
          "name": "stdout",
          "text": [
            "Reading package lists... Done\n",
            "Building dependency tree       \n",
            "Reading state information... Done\n",
            "python3-dev is already the newest version (3.6.7-1~18.04).\n",
            "0 upgraded, 0 newly installed, 0 to remove and 40 not upgraded.\n",
            "Requirement already satisfied: konlpy in /usr/local/lib/python3.7/dist-packages (0.5.2)\n",
            "Requirement already satisfied: numpy>=1.6 in /usr/local/lib/python3.7/dist-packages (from konlpy) (1.19.5)\n",
            "Requirement already satisfied: tweepy>=3.7.0 in /usr/local/lib/python3.7/dist-packages (from konlpy) (3.10.0)\n",
            "Requirement already satisfied: lxml>=4.1.0 in /usr/local/lib/python3.7/dist-packages (from konlpy) (4.2.6)\n",
            "Requirement already satisfied: JPype1>=0.7.0 in /usr/local/lib/python3.7/dist-packages (from konlpy) (1.3.0)\n",
            "Requirement already satisfied: beautifulsoup4==4.6.0 in /usr/local/lib/python3.7/dist-packages (from konlpy) (4.6.0)\n",
            "Requirement already satisfied: colorama in /usr/local/lib/python3.7/dist-packages (from konlpy) (0.4.4)\n",
            "Requirement already satisfied: typing-extensions in /usr/local/lib/python3.7/dist-packages (from JPype1>=0.7.0->konlpy) (3.7.4.3)\n",
            "Requirement already satisfied: requests[socks]>=2.11.1 in /usr/local/lib/python3.7/dist-packages (from tweepy>=3.7.0->konlpy) (2.23.0)\n",
            "Requirement already satisfied: requests-oauthlib>=0.7.0 in /usr/local/lib/python3.7/dist-packages (from tweepy>=3.7.0->konlpy) (1.3.0)\n",
            "Requirement already satisfied: six>=1.10.0 in /usr/local/lib/python3.7/dist-packages (from tweepy>=3.7.0->konlpy) (1.15.0)\n",
            "Requirement already satisfied: oauthlib>=3.0.0 in /usr/local/lib/python3.7/dist-packages (from requests-oauthlib>=0.7.0->tweepy>=3.7.0->konlpy) (3.1.1)\n",
            "Requirement already satisfied: idna<3,>=2.5 in /usr/local/lib/python3.7/dist-packages (from requests[socks]>=2.11.1->tweepy>=3.7.0->konlpy) (2.10)\n",
            "Requirement already satisfied: chardet<4,>=3.0.2 in /usr/local/lib/python3.7/dist-packages (from requests[socks]>=2.11.1->tweepy>=3.7.0->konlpy) (3.0.4)\n",
            "Requirement already satisfied: certifi>=2017.4.17 in /usr/local/lib/python3.7/dist-packages (from requests[socks]>=2.11.1->tweepy>=3.7.0->konlpy) (2021.5.30)\n",
            "Requirement already satisfied: urllib3!=1.25.0,!=1.25.1,<1.26,>=1.21.1 in /usr/local/lib/python3.7/dist-packages (from requests[socks]>=2.11.1->tweepy>=3.7.0->konlpy) (1.24.3)\n",
            "Requirement already satisfied: PySocks!=1.5.7,>=1.5.6 in /usr/local/lib/python3.7/dist-packages (from requests[socks]>=2.11.1->tweepy>=3.7.0->konlpy) (1.7.1)\n"
          ]
        }
      ]
    },
    {
      "cell_type": "code",
      "metadata": {
        "id": "2lv_LZmcwUOe",
        "colab": {
          "base_uri": "https://localhost:8080/"
        },
        "outputId": "8a3ab34d-2f04-40eb-b956-9bf3e8efe06a"
      },
      "source": [
        "!sudo apt-get install g++ openjdk-8-jdk"
      ],
      "execution_count": 2,
      "outputs": [
        {
          "output_type": "stream",
          "name": "stdout",
          "text": [
            "Reading package lists... Done\n",
            "Building dependency tree       \n",
            "Reading state information... Done\n",
            "g++ is already the newest version (4:7.4.0-1ubuntu2.3).\n",
            "openjdk-8-jdk is already the newest version (8u292-b10-0ubuntu1~18.04).\n",
            "0 upgraded, 0 newly installed, 0 to remove and 40 not upgraded.\n"
          ]
        }
      ]
    },
    {
      "cell_type": "code",
      "metadata": {
        "id": "_ic9oDozj7qR"
      },
      "source": [
        "import pandas as pd\n",
        "import numpy as np"
      ],
      "execution_count": 3,
      "outputs": []
    },
    {
      "cell_type": "code",
      "metadata": {
        "id": "SOnd-ndTndvs"
      },
      "source": [
        "from konlpy.tag import Hannanum\n",
        "import re\n",
        "from konlpy.tag import Okt "
      ],
      "execution_count": 4,
      "outputs": []
    },
    {
      "cell_type": "code",
      "metadata": {
        "id": "pkTJ0IMhlAd_"
      },
      "source": [
        "data = pd.read_csv('./tot_dataset.csv') #데이터셋 로드"
      ],
      "execution_count": 5,
      "outputs": []
    },
    {
      "cell_type": "code",
      "metadata": {
        "colab": {
          "base_uri": "https://localhost:8080/"
        },
        "id": "oT3EYg0olH56",
        "outputId": "eb6e05e4-1e35-43c5-9cb4-bcdc03008272"
      },
      "source": [
        "data.info() #데이터셋 확인"
      ],
      "execution_count": 6,
      "outputs": [
        {
          "output_type": "stream",
          "name": "stdout",
          "text": [
            "<class 'pandas.core.frame.DataFrame'>\n",
            "RangeIndex: 609 entries, 0 to 608\n",
            "Data columns (total 8 columns):\n",
            " #   Column      Non-Null Count  Dtype \n",
            "---  ------      --------------  ----- \n",
            " 0   Unnamed: 0  609 non-null    int64 \n",
            " 1   content     609 non-null    object\n",
            " 2   date        609 non-null    object\n",
            " 3   like        609 non-null    int64 \n",
            " 4   tags        609 non-null    object\n",
            " 5   name        609 non-null    object\n",
            " 6   overlap     609 non-null    int64 \n",
            " 7   place       248 non-null    object\n",
            "dtypes: int64(3), object(5)\n",
            "memory usage: 38.2+ KB\n"
          ]
        }
      ]
    },
    {
      "cell_type": "code",
      "metadata": {
        "colab": {
          "base_uri": "https://localhost:8080/",
          "height": 306
        },
        "id": "wG0czVyvlMMy",
        "outputId": "5d672b68-7dde-48a9-e6a3-efca43b33d50"
      },
      "source": [
        "data.head()"
      ],
      "execution_count": 7,
      "outputs": [
        {
          "output_type": "execute_result",
          "data": {
            "text/html": [
              "<div>\n",
              "<style scoped>\n",
              "    .dataframe tbody tr th:only-of-type {\n",
              "        vertical-align: middle;\n",
              "    }\n",
              "\n",
              "    .dataframe tbody tr th {\n",
              "        vertical-align: top;\n",
              "    }\n",
              "\n",
              "    .dataframe thead th {\n",
              "        text-align: right;\n",
              "    }\n",
              "</style>\n",
              "<table border=\"1\" class=\"dataframe\">\n",
              "  <thead>\n",
              "    <tr style=\"text-align: right;\">\n",
              "      <th></th>\n",
              "      <th>Unnamed: 0</th>\n",
              "      <th>content</th>\n",
              "      <th>date</th>\n",
              "      <th>like</th>\n",
              "      <th>tags</th>\n",
              "      <th>name</th>\n",
              "      <th>overlap</th>\n",
              "      <th>place</th>\n",
              "    </tr>\n",
              "  </thead>\n",
              "  <tbody>\n",
              "    <tr>\n",
              "      <th>0</th>\n",
              "      <td>0</td>\n",
              "      <td>속초_파도의무늬오션뷰 감성 에어비앤비\"파도의무늬\"'파도의무늬'는물결이 일렁이고 윤슬...</td>\n",
              "      <td>2021-09-06</td>\n",
              "      <td>39</td>\n",
              "      <td>['#데일리감성속초로', '#데일리감성_속초강원도', '#데일리감성_강원——————...</td>\n",
              "      <td>파도의무늬</td>\n",
              "      <td>1</td>\n",
              "      <td>NaN</td>\n",
              "    </tr>\n",
              "    <tr>\n",
              "      <th>1</th>\n",
              "      <td>1</td>\n",
              "      <td>강릉_스테이 시호일시간의 흔적을 담은 감성숙소\"스테이 시호일\"'스테이 시호일'은60...</td>\n",
              "      <td>2021-09-03</td>\n",
              "      <td>12</td>\n",
              "      <td>['#데일리감성강릉으로', '#데일리감성_강릉강원도', '#데일리감성_강원—————...</td>\n",
              "      <td>스테이 시호일</td>\n",
              "      <td>1</td>\n",
              "      <td>NaN</td>\n",
              "    </tr>\n",
              "    <tr>\n",
              "      <th>2</th>\n",
              "      <td>2</td>\n",
              "      <td>제주_까만돌멩이구좌읍 조식주는 예쁜 숙소\"까만돌멩이\"'까만돌멩이'는가족 및 커플 또...</td>\n",
              "      <td>2021-09-03</td>\n",
              "      <td>33</td>\n",
              "      <td>['#데일리감성제주도', '#데일리감성_제주—————————————————']</td>\n",
              "      <td>까만돌멩이</td>\n",
              "      <td>1</td>\n",
              "      <td>제주특별자치도 제주시 구좌읍 계룡길 32</td>\n",
              "    </tr>\n",
              "    <tr>\n",
              "      <th>3</th>\n",
              "      <td>3</td>\n",
              "      <td>단양_권장사양인스타감성 가득한 독채 숙소\"권장사양\"'권장사양'은 자연경관으로 둘러쌓...</td>\n",
              "      <td>2021-09-02</td>\n",
              "      <td>36</td>\n",
              "      <td>['#데일리감성단양으로', '#데일리감성_단양충청북도', '#데일리감성_충북————...</td>\n",
              "      <td>권장사양</td>\n",
              "      <td>1</td>\n",
              "      <td>NaN</td>\n",
              "    </tr>\n",
              "    <tr>\n",
              "      <th>4</th>\n",
              "      <td>4</td>\n",
              "      <td>강릉_라온가따뜻한 느낌의 힐링 감성숙소\"라온가\"'라온가'는 주택을 개조한 숙소이며'...</td>\n",
              "      <td>2021-09-01</td>\n",
              "      <td>24</td>\n",
              "      <td>['#데일리감성강릉으로', '#데일리감성_강릉강원도', '#데일리감성_강원—————...</td>\n",
              "      <td>라온가</td>\n",
              "      <td>1</td>\n",
              "      <td>NaN</td>\n",
              "    </tr>\n",
              "  </tbody>\n",
              "</table>\n",
              "</div>"
            ],
            "text/plain": [
              "   Unnamed: 0  ...                   place\n",
              "0           0  ...                     NaN\n",
              "1           1  ...                     NaN\n",
              "2           2  ...  제주특별자치도 제주시 구좌읍 계룡길 32\n",
              "3           3  ...                     NaN\n",
              "4           4  ...                     NaN\n",
              "\n",
              "[5 rows x 8 columns]"
            ]
          },
          "metadata": {},
          "execution_count": 7
        }
      ]
    },
    {
      "cell_type": "code",
      "metadata": {
        "colab": {
          "base_uri": "https://localhost:8080/",
          "height": 1000
        },
        "id": "5ytXkCdJlPER",
        "outputId": "416f038b-3acd-413d-bd04-1a78638a96bb"
      },
      "source": [
        "data.nlargest(20, 'overlap') #중복콘텐츠 확인"
      ],
      "execution_count": 8,
      "outputs": [
        {
          "output_type": "execute_result",
          "data": {
            "text/html": [
              "<div>\n",
              "<style scoped>\n",
              "    .dataframe tbody tr th:only-of-type {\n",
              "        vertical-align: middle;\n",
              "    }\n",
              "\n",
              "    .dataframe tbody tr th {\n",
              "        vertical-align: top;\n",
              "    }\n",
              "\n",
              "    .dataframe thead th {\n",
              "        text-align: right;\n",
              "    }\n",
              "</style>\n",
              "<table border=\"1\" class=\"dataframe\">\n",
              "  <thead>\n",
              "    <tr style=\"text-align: right;\">\n",
              "      <th></th>\n",
              "      <th>Unnamed: 0</th>\n",
              "      <th>content</th>\n",
              "      <th>date</th>\n",
              "      <th>like</th>\n",
              "      <th>tags</th>\n",
              "      <th>name</th>\n",
              "      <th>overlap</th>\n",
              "      <th>place</th>\n",
              "    </tr>\n",
              "  </thead>\n",
              "  <tbody>\n",
              "    <tr>\n",
              "      <th>424</th>\n",
              "      <td>424</td>\n",
              "      <td>#거제_디스커버리풀빌라거제 위치한 전객실 오션뷰 숙소 '디스커버리풀빌라'객실에 들어...</td>\n",
              "      <td>2021-06-12</td>\n",
              "      <td>12784</td>\n",
              "      <td>['#거제_디스커버리풀빌라거제', '#감성비앤비🏷거제로', '#감성비앤비_거제사진출...</td>\n",
              "      <td>디스커버리풀빌라</td>\n",
              "      <td>8</td>\n",
              "      <td>경상남도 거제시 장목면 옥포대첩로 1248 디스커버리풀빌라</td>\n",
              "    </tr>\n",
              "    <tr>\n",
              "      <th>404</th>\n",
              "      <td>404</td>\n",
              "      <td>#제주_오오오하우스제주 서쪽 한경면의 조용하고 한적한 동네에 위치하고있는 '오오오하...</td>\n",
              "      <td>2021-08-01</td>\n",
              "      <td>1573</td>\n",
              "      <td>['#제주_오오오하우스제주', '#감성비앤비🏷제주로', '#감성비앤비_제주사진출처:...</td>\n",
              "      <td>오오오하우스</td>\n",
              "      <td>6</td>\n",
              "      <td>제주특별자치도 제주시 한경면 대한로 800-12</td>\n",
              "    </tr>\n",
              "    <tr>\n",
              "      <th>416</th>\n",
              "      <td>416</td>\n",
              "      <td>#남해_적정온도남해 서면에 위치하고 있는 노천과 수영을 함께 즐길 수 있는 아름다운...</td>\n",
              "      <td>2021-07-05</td>\n",
              "      <td>1382</td>\n",
              "      <td>['#남해_적정온도남해', '#감성비앤비🏷남해로', '#감성비앤비_남해사진출처:',...</td>\n",
              "      <td>적정온도</td>\n",
              "      <td>6</td>\n",
              "      <td>NaN</td>\n",
              "    </tr>\n",
              "    <tr>\n",
              "      <th>435</th>\n",
              "      <td>435</td>\n",
              "      <td>#삼척_사유의숲강원도 삼척에 위치한 신상 독채 풀빌라 '사유의숲' '사유의숲'은 발...</td>\n",
              "      <td>2021-05-15</td>\n",
              "      <td>7465</td>\n",
              "      <td>['#삼척_사유의숲강원도', '#감성비앤비🏷강원도로', '#감성비앤비_삼척사진출처'...</td>\n",
              "      <td>사유의숲</td>\n",
              "      <td>6</td>\n",
              "      <td>강원도 삼척시 뒷나루길 276-5</td>\n",
              "    </tr>\n",
              "    <tr>\n",
              "      <th>374</th>\n",
              "      <td>374</td>\n",
              "      <td>통영_맘마논맘마자연의 쉼을 당신에게\"맘마논맘마\"맘마논맘마는 아침에는 바다위로해가 떠...</td>\n",
              "      <td>2021-08-31</td>\n",
              "      <td>2561</td>\n",
              "      <td>['#데일리감성통영으로', '#데일리감성_통영경상남도도', '#데일리감성_경남———...</td>\n",
              "      <td>맘마논맘마</td>\n",
              "      <td>5</td>\n",
              "      <td>경상남도 통영시 용남면 용남해안로 230</td>\n",
              "    </tr>\n",
              "    <tr>\n",
              "      <th>406</th>\n",
              "      <td>406</td>\n",
              "      <td>#양평_책속에풍덩경기도 양평에 위치하고있는 넓은 객실과 수영장을 함께 이용할 수 있...</td>\n",
              "      <td>2021-07-28</td>\n",
              "      <td>1966</td>\n",
              "      <td>['#양평_책속에풍덩경기도', '#감성비앤비🏷양평으로', '#감성비앤비_양평사진출처...</td>\n",
              "      <td>책속에풍덩</td>\n",
              "      <td>5</td>\n",
              "      <td>경기도 양평군 용문면 중원산로 518-9</td>\n",
              "    </tr>\n",
              "    <tr>\n",
              "      <th>426</th>\n",
              "      <td>426</td>\n",
              "      <td>#경주_아나톨리아경주에 위치하고있는 푸른 동해바다로 둘러싸인 실내 풀빌라숙소 '아나...</td>\n",
              "      <td>2021-06-05</td>\n",
              "      <td>6805</td>\n",
              "      <td>['#경주_아나톨리아경주에', '#감성비앤비🏷경주로', '#감성비앤비_경주사진출처:...</td>\n",
              "      <td>아나톨리아</td>\n",
              "      <td>5</td>\n",
              "      <td>NaN</td>\n",
              "    </tr>\n",
              "    <tr>\n",
              "      <th>445</th>\n",
              "      <td>445</td>\n",
              "      <td>#공주_소소아한옥충남 공주에 위치하고있는 독채 한옥숙소 '소소아한옥'소소아한옥은 총...</td>\n",
              "      <td>2021-04-19</td>\n",
              "      <td>1668</td>\n",
              "      <td>['#공주_소소아한옥충남', '#감성비앤비🏷공주로', '#감성비앤비_공주사진출처',...</td>\n",
              "      <td>소소아한옥</td>\n",
              "      <td>5</td>\n",
              "      <td>NaN</td>\n",
              "    </tr>\n",
              "    <tr>\n",
              "      <th>473</th>\n",
              "      <td>473</td>\n",
              "      <td>#순천_화담별서전남 순천에 위치하고있는 '화담별서' 화담별서는 정답게 마주하고 행복...</td>\n",
              "      <td>2021-02-14</td>\n",
              "      <td>2410</td>\n",
              "      <td>['#순천_화담별서전남', '#감성비앤비🏷순천으로', '#감성비앤비_순천사진출처',...</td>\n",
              "      <td>화담별서</td>\n",
              "      <td>5</td>\n",
              "      <td>전라남도 순천시 별량면 우산간동길 65</td>\n",
              "    </tr>\n",
              "    <tr>\n",
              "      <th>562</th>\n",
              "      <td>562</td>\n",
              "      <td>✅ #홍천_올라운드원조용한 숲 속에 자리잡은 외국 갤러리 같은 둥근 공간 안에 모던...</td>\n",
              "      <td>2021-08-18</td>\n",
              "      <td>3053</td>\n",
              "      <td>['#홍천_올라운드원조용한', '#감성숙소_홍천✔', '#감성숙소_강원도📍올라운드원...</td>\n",
              "      <td>올라운드원</td>\n",
              "      <td>5</td>\n",
              "      <td>경기도 양평군 단월면 대부록길 38-1</td>\n",
              "    </tr>\n",
              "    <tr>\n",
              "      <th>370</th>\n",
              "      <td>370</td>\n",
              "      <td>부산_그루브스테이이국적인 분위기의 부산 감성숙소\"그루브스테이\"'그루브스테이'는 한적...</td>\n",
              "      <td>2021-09-02</td>\n",
              "      <td>1612</td>\n",
              "      <td>['#데일리감성부산으로', '#데일리감성_부산—————————————————']['...</td>\n",
              "      <td>그루브스테이</td>\n",
              "      <td>4</td>\n",
              "      <td>부산광역시 기장군 기장읍 당사로5길 17</td>\n",
              "    </tr>\n",
              "    <tr>\n",
              "      <th>373</th>\n",
              "      <td>373</td>\n",
              "      <td>울산_올리브하우스안 가보면 후회하는 감성 숙소\"올리브하우스\"'올리브하우스'는 울산 ...</td>\n",
              "      <td>2021-08-31</td>\n",
              "      <td>645</td>\n",
              "      <td>['#데일리감성울산으로', '#데일리감성_울산—————————————————']['...</td>\n",
              "      <td>올리브하우스</td>\n",
              "      <td>4</td>\n",
              "      <td>NaN</td>\n",
              "    </tr>\n",
              "    <tr>\n",
              "      <th>375</th>\n",
              "      <td>375</td>\n",
              "      <td>강릉_테라스마크숙소에서 보는 오션뷰가 환상적인\"테라스마크\"물이 맑기로 유명한영진 해...</td>\n",
              "      <td>2021-08-30</td>\n",
              "      <td>802</td>\n",
              "      <td>['#데일리감성강릉으로', '#데일리감성_강릉강원도', '#데일리감성_강원—————...</td>\n",
              "      <td>테라스마크</td>\n",
              "      <td>4</td>\n",
              "      <td>강원도 강릉시 연곡면 영진길 63</td>\n",
              "    </tr>\n",
              "    <tr>\n",
              "      <th>377</th>\n",
              "      <td>377</td>\n",
              "      <td>경주_유온스테이고즈넉한 느낌의 경주 감성숙소\"유온스테이\"경주 유온스테이는숙소시설, ...</td>\n",
              "      <td>2021-08-29</td>\n",
              "      <td>437</td>\n",
              "      <td>['#데일리감성경주로', '#데일리감성_경주경상북도', '#데일리감성_경북']['#...</td>\n",
              "      <td>유온스테이</td>\n",
              "      <td>4</td>\n",
              "      <td>NaN</td>\n",
              "    </tr>\n",
              "    <tr>\n",
              "      <th>380</th>\n",
              "      <td>380</td>\n",
              "      <td>춘천_유유자적북한강을 바라보는 아름다운 숙소\"유유자적\"유유자적은 계절마다 반짝이는북...</td>\n",
              "      <td>2021-08-27</td>\n",
              "      <td>2408</td>\n",
              "      <td>['#데일리감성춘천으로', '#데일리감성_춘천강원도', '#데일리감성_강원']['#...</td>\n",
              "      <td>유유자적</td>\n",
              "      <td>4</td>\n",
              "      <td>NaN</td>\n",
              "    </tr>\n",
              "    <tr>\n",
              "      <th>386</th>\n",
              "      <td>386</td>\n",
              "      <td>#제주_앤디앤라라홈제주 애월에 위치하고있는 한적한 유럽 시골집같은 공간 '앤디앤라라...</td>\n",
              "      <td>2021-09-08</td>\n",
              "      <td>487</td>\n",
              "      <td>['#제주_앤디앤라라홈제주', '#감성비앤비🏷제주로', '#감성비앤비_제주사진출처:...</td>\n",
              "      <td>앤디앤라라홈</td>\n",
              "      <td>4</td>\n",
              "      <td>제주특별자치도 제주시 애월읍 광상로 538 에이동</td>\n",
              "    </tr>\n",
              "    <tr>\n",
              "      <th>387</th>\n",
              "      <td>387</td>\n",
              "      <td>#고성_삼박한집강원도 고성에 위치하고있는 따뜻한 느낌의 공간 '삼박한집''삼박한집'...</td>\n",
              "      <td>2021-09-05</td>\n",
              "      <td>948</td>\n",
              "      <td>['#고성_삼박한집강원도', '#감성비앤비🏷고성으로', '#감성비앤비_고성사진출처:...</td>\n",
              "      <td>삼박한집</td>\n",
              "      <td>4</td>\n",
              "      <td>강원도 고성군 토성면 봉포2길 12</td>\n",
              "    </tr>\n",
              "    <tr>\n",
              "      <th>417</th>\n",
              "      <td>417</td>\n",
              "      <td>#하동_올모스트홈스테이경남 하동에 위치하고 있는 한옥을 온전히 느낄 수 있는 곳 '...</td>\n",
              "      <td>2021-07-04</td>\n",
              "      <td>702</td>\n",
              "      <td>['#하동_올모스트홈스테이경남', '#감성비앤비🏷하동으로', '#감성비앤비_하동사진...</td>\n",
              "      <td>올모스트홈스테이</td>\n",
              "      <td>4</td>\n",
              "      <td>NaN</td>\n",
              "    </tr>\n",
              "    <tr>\n",
              "      <th>429</th>\n",
              "      <td>429</td>\n",
              "      <td>#삼척_향초목원강원도 삼척의 숲 속에 위치하고있는 '향초목원'향초목원'은 해발 40...</td>\n",
              "      <td>2021-05-31</td>\n",
              "      <td>2100</td>\n",
              "      <td>['#삼척_향초목원강원도', '#감성비앤비🏷강원도로', '#감성비앤비_삼척사진출처:...</td>\n",
              "      <td>향초목원</td>\n",
              "      <td>4</td>\n",
              "      <td>NaN</td>\n",
              "    </tr>\n",
              "    <tr>\n",
              "      <th>430</th>\n",
              "      <td>430</td>\n",
              "      <td>#제주_월림차경제주 서쪽에 위치하고 있는 자쿠지가 있는 숙소 '월림차경''월림차경'...</td>\n",
              "      <td>2021-05-28</td>\n",
              "      <td>1193</td>\n",
              "      <td>['#제주_월림차경제주', '#감성비앤비🏷제주로', '#감성비앤비_제주사진출처:',...</td>\n",
              "      <td>월림차경</td>\n",
              "      <td>4</td>\n",
              "      <td>제주특별자치도 제주시 한림읍 월림5길 17</td>\n",
              "    </tr>\n",
              "  </tbody>\n",
              "</table>\n",
              "</div>"
            ],
            "text/plain": [
              "     Unnamed: 0  ...                             place\n",
              "424         424  ...  경상남도 거제시 장목면 옥포대첩로 1248 디스커버리풀빌라\n",
              "404         404  ...        제주특별자치도 제주시 한경면 대한로 800-12\n",
              "416         416  ...                               NaN\n",
              "435         435  ...                강원도 삼척시 뒷나루길 276-5\n",
              "374         374  ...            경상남도 통영시 용남면 용남해안로 230\n",
              "406         406  ...            경기도 양평군 용문면 중원산로 518-9\n",
              "426         426  ...                               NaN\n",
              "445         445  ...                               NaN\n",
              "473         473  ...             전라남도 순천시 별량면 우산간동길 65\n",
              "562         562  ...             경기도 양평군 단월면 대부록길 38-1\n",
              "370         370  ...            부산광역시 기장군 기장읍 당사로5길 17\n",
              "373         373  ...                               NaN\n",
              "375         375  ...                강원도 강릉시 연곡면 영진길 63\n",
              "377         377  ...                               NaN\n",
              "380         380  ...                               NaN\n",
              "386         386  ...       제주특별자치도 제주시 애월읍 광상로 538 에이동\n",
              "387         387  ...               강원도 고성군 토성면 봉포2길 12\n",
              "417         417  ...                               NaN\n",
              "429         429  ...                               NaN\n",
              "430         430  ...           제주특별자치도 제주시 한림읍 월림5길 17\n",
              "\n",
              "[20 rows x 8 columns]"
            ]
          },
          "metadata": {},
          "execution_count": 8
        }
      ]
    },
    {
      "cell_type": "code",
      "metadata": {
        "colab": {
          "base_uri": "https://localhost:8080/"
        },
        "id": "5TzxwwQxl6uZ",
        "outputId": "e151e0f2-ca44-4dec-bfa2-a5bf0bf3eb27"
      },
      "source": [
        "data.overlap.value_counts() # 중복값 counts 확인"
      ],
      "execution_count": 9,
      "outputs": [
        {
          "output_type": "execute_result",
          "data": {
            "text/plain": [
              "1    363\n",
              "2    146\n",
              "3     60\n",
              "4     30\n",
              "5      6\n",
              "6      3\n",
              "8      1\n",
              "Name: overlap, dtype: int64"
            ]
          },
          "metadata": {},
          "execution_count": 9
        }
      ]
    },
    {
      "cell_type": "markdown",
      "metadata": {
        "id": "iw9en2yBnw3N"
      },
      "source": [
        "#토큰화"
      ]
    },
    {
      "cell_type": "code",
      "metadata": {
        "id": "xvaiqOKQmPVa"
      },
      "source": [
        "hannanum = Hannanum()\n",
        "okt = Okt()"
      ],
      "execution_count": 10,
      "outputs": []
    },
    {
      "cell_type": "code",
      "metadata": {
        "id": "LnpKmwIwntgW"
      },
      "source": [
        "data = data[['name','content']] #데이터셋 재구성"
      ],
      "execution_count": 11,
      "outputs": []
    },
    {
      "cell_type": "code",
      "metadata": {
        "id": "JckxFlPau7Yt"
      },
      "source": [
        "#\"\"\"한글빼고 전부 제거\"\"\"\n",
        "# def sub_special(s):\n",
        "#   return re.sub(r'[^ㄱ-ㅎㅏ-ㅣ가-힣]','',s)"
      ],
      "execution_count": 12,
      "outputs": []
    },
    {
      "cell_type": "code",
      "metadata": {
        "id": "tv7FyAlLw9jR"
      },
      "source": [
        "# sub_special(data['content'])"
      ],
      "execution_count": 13,
      "outputs": []
    },
    {
      "cell_type": "code",
      "metadata": {
        "id": "rzLbfsOKvFyg"
      },
      "source": [
        "stop_words = '평일 예약문의 예약 의 가 이 은 들 는 좀 잘 걍 과 도 를 으로 자 에 와 한 하다 아 휴 아이구 아이쿠 아이고 어 나 우리 저희 따라 의해 을 를 에 의 가 으로 로 에게 뿐이다 의거하여 근거하여 입각하여 기준으로 예하면 예를 들면 예를 들자면 저 소인 소생 저희 지말고 하지마 하지마라 다른 물론 또한 그리고 비길수 없다 해서는 안된다 뿐만 아니라 만이 아니다 만은 아니다 막론하고 관계없이 그치지 않다 그러나 그런데 하지만 든간에 논하지 않다 따지지 않다 설사 비록 더라도 아니면 만 못하다 하는 편이 낫다 불문하고 향하여 향해서 향하다 쪽으로 틈타 이용하여 타다 오르다 제외하고 이 외에 이 밖에 하여야 비로소 한다면 몰라도 외에도 이곳 여기 부터 기점으로 따라서 할 생각이다 하려고하다 이리하여 그리하여 그렇게 함으로써 하지만 일때 할때 앞에서 중에서 보는데서 으로써 로써 까지 해야한다 일것이다 반드시 할줄알다 할수있다 할수있어 임에 틀림없다 한다면 등 등등 제 겨우 단지 다만 할뿐 딩동 댕그 대해서 대하여 대하면 훨씬 얼마나 얼마만큼 얼마큼 남짓 여 얼마간 약간 체크 체크아웃 가격 정보 비 수기 평일 기준 약 전국  예약 되어다 스마트 빔 블루투스 스피커 이 외 드라이어 다리미 구비 되어다 있다 주방 음식 조리 가능하다 환기 제한 있다 냄새 나 요리 삼가다 부탁드리다 후 다 가격 수기 비성수기 주소  좀 조금 다수 몇 얼마 지만 하물며 또한 그러나 그렇지만 하지만 이외에도 대해 말하자면 뿐이다 다음에 반대로 반대로 말하자면 이와 반대로 바꾸어서 말하면 바꾸어서 한다면 만약 그렇지않으면 까악 툭 딱 삐걱거리다 보드득 비걱거리다 꽈당 응당 해야한다 에 가서 각 각각 여러분 각종 각자 제각기 하도록하다 와 과 그러므로 그래서 고로 한 까닭에 하기 때문에 거니와 이지만 대하여 관하여 관한 과연 실로 아니나다를가 생각한대로 진짜로 한적이있다 하곤하였다 하 하하 허허 아하 거바 와 오 왜 어째서 무엇때문에 어찌 하겠는가 무슨 어디 어느곳 더군다나 하물며 더욱이는 어느때 언제 야 이봐 어이 여보시오 흐흐 흥 휴 헉헉 헐떡헐떡 영차 여차 어기여차 끙끙 아야 앗 아야 콸콸 졸졸 좍좍 뚝뚝 주룩주룩 솨 우르르 그래도 또 그리고 바꾸어말하면 바꾸어말하자면 혹은 혹시 답다 및 그에 따르는 때가 되어 즉 지든지 설령 가령 하더라도 할지라도 일지라도 지든지 몇 거의 하마터면 인젠 이젠 된바에야 된이상 만큼 어찌됏든 그위에 게다가 점에서 보아 비추어 보아 고려하면 하게될것이다 일것이다 비교적 좀 보다더 비하면 시키다 하게하다 할만하다 의해서 연이서 이어서 잇따라 뒤따라 뒤이어 결국 의지하여 기대여 통하여 자마자 더욱더 불구하고 얼마든지 마음대로 주저하지 않고 곧 즉시 바로 당장 하자마자 밖에 안된다 하면된다 그래 그렇지 요컨대 다시 말하자면 바꿔 말하면 즉 구체적으로 말하자면 시작하여 시초에 이상 허 헉 허걱 바와같이 해도좋다 해도된다 게다가 더구나 하물며 와르르 팍 퍽 펄렁 동안 이래 하고있었다 이었다 에서 로부터 까지 예하면 했어요 해요 함께 같이 더불어 마저 마저도 양자 모두 습니다 가까스로 하려고하다 즈음하여 다른 다른 방면으로 해봐요 습니까 했어요 말할것도 없고 무릎쓰고 개의치않고 하는것만 못하다 하는것이 낫다 매 매번 들 모 어느것 어느 로써 갖고말하자면 어디 어느쪽 어느것 어느해 어느 년도 라 해도 언젠가 어떤것 어느것 저기 저쪽 저것 그때 그럼 그러면 요만한걸 그래 그때 저것만큼 그저 이르기까지 할 줄 안다 할 힘이 있다 너 너희 당신 어찌 설마 차라리 할지언정 할지라도 할망정 할지언정 구토하다 게우다 토하다 메쓰겁다 옆사람 퉤 쳇 의거하여 근거하여 의해 따라 힘입어 그 다음 버금 두번째로 기타 첫번째로 나머지는 그중에서 견지에서 형식으로 쓰여 입장에서 위해서 단지 의해되다 하도록시키다 뿐만아니라 반대로 전후 전자 앞의것 잠시 잠깐 하면서 그렇지만 다음에 그러한즉 그런즉 남들 아무거나 어찌하든지 같다 비슷하다 예컨대 이럴정도로 어떻게 만약 만일 위에서 서술한바와같이 인 듯하다 하지 않는다면 만약에 무엇 무슨 어느 어떤 아래윗 조차 한데 그럼에도 불구하고 여전히 심지어 까지도 조차도 하지 않도록 않기 위하여 때 시각 무렵 시간 동안 어때 어떠한 하여금 네 예 우선 누구 누가 알겠는가 아무도 줄은모른다 줄은 몰랏다 하는 김에 겸사겸사 하는바 그런 까닭에 한 이유는 그러니 그러니까 때문에 그 너희 그들 너희들 타인 것 것들 너 위하여 공동으로 동시에 하기 위하여 어찌하여 무엇때문에 붕붕 윙윙 나 우리 엉엉 휘익 윙윙 오호 아하 어쨋든 만 못하다 하기보다는 차라리 하는 편이 낫다 흐흐 놀라다 상대적으로 말하자면 마치 아니라면 쉿 그렇지 않으면 그렇지 않다면 안 그러면 아니었다면 하든지 아니면 이라면 좋아 알았어 하는것도 그만이다 어쩔수 없다 하나 일 일반적으로 일단 한켠으로는 오자마자 이렇게되면 이와같다면 전부 한마디 한항목 근거로 하기에 아울러 하지 않도록 않기 위해서 이르기까지 이 되다 로 인하여 까닭으로 이유만으로 이로 인하여 그래서 이 때문에 그러므로 그런 까닭에 알 수 있다 결론을 낼 수 있다 으로 인하여 있다 어떤것 관계가 있다 관련이 있다 연관되다 어떤것들 에 대해 이리하여 그리하여 여부 하기보다는 하느니 하면 할수록 운운 이러이러하다 하구나 하도다 다시말하면 다음으로 에 있다 에 달려 있다 우리 우리들 오히려 하기는한데 어떻게 어떻해 어찌됏어 어때 어째서 본대로 자 이 이쪽 여기 이것 이번 이렇게말하자면 이런 이러한 이와 같은 요만큼 요만한 것 얼마 안 되는 것 이만큼 이 정도의 이렇게 많은 것 이와 같다 이때 이렇구나 것과 같이 끼익 삐걱 따위 와 같은 사람들 부류의 사람들 왜냐하면 중의하나 오직 오로지 에 한하다 하기만 하면 도착하다 까지 미치다 도달하다 정도에 이르다 할 지경이다 결과에 이르다 관해서는 여러분 하고 있다 한 후 혼자 자기 자기집 자신 우에 종합한것과같이 총적으로 보면 총적으로 말하면 총적으로 대로 하다 으로서 참 그만이다 할 따름이다 쿵 탕탕 쾅쾅 둥둥 봐 봐라 아이야 아니 와아 응 아이 참나 년 월 일 령 영 일 이 삼 사 오 육 륙 칠 팔 구 이천육 이천칠 이천팔 이천구 하나 둘 셋 넷 다섯 여섯 일곱 여덟 아홉 령 영 이 있 하 것 들 그 되 수 이 보 않 없 나 사람 주 아니 등 같 우리 때 년 가 한 지 대하 오 말 일 그렇 위하 때문 그것 두 말하 알 그러나 받 못하 일 그런 또 문제 더 사회 많 그리고 좋 크 따르 중 나오 가지 씨 시키 만들 지금 생각하 그러 속 하나 집 살 모르 적 월 데 자신 안 어떤 내 내 경우 명 생각 시간 그녀 수 약 다시 이런 앞 보이 번 나 다른 어떻 여자 개 전 들 사실 이렇 점 싶 말 정도 좀 원 잘 통하 놓' #불용어 리스트 형성"
      ],
      "execution_count": 14,
      "outputs": []
    },
    {
      "cell_type": "code",
      "metadata": {
        "id": "zMajy5pCvMIe"
      },
      "source": [
        "stop_words=stop_words.split(' ')"
      ],
      "execution_count": 15,
      "outputs": []
    },
    {
      "cell_type": "code",
      "metadata": {
        "id": "G5OBFNWiwHSb"
      },
      "source": [
        "text_okt = data.content[0]"
      ],
      "execution_count": 16,
      "outputs": []
    },
    {
      "cell_type": "code",
      "metadata": {
        "colab": {
          "base_uri": "https://localhost:8080/",
          "height": 120
        },
        "id": "1CnUC5A9xwPU",
        "outputId": "b6789c83-09bc-493f-e789-a4607f72d382"
      },
      "source": [
        "text_okt"
      ],
      "execution_count": 17,
      "outputs": [
        {
          "output_type": "execute_result",
          "data": {
            "application/vnd.google.colaboratory.intrinsic+json": {
              "type": "string"
            },
            "text/plain": [
              "'속초_파도의무늬오션뷰 감성 에어비앤비\"파도의무늬\"\\'파도의무늬\\'는물결이 일렁이고 윤슬이 반짝거리며파도가 철썩철썩 치는다양한 모습의 파도의 무늬를 즐길 수 있어요.들려오는 시원한 파도소리를가만히 눈을 감고 듣다보면많은 생각과 많은 계획을 잠시 내려두고느긋하게 머리를 식힐 수 있어요 :)숙소 내부는세개의 창으로 엿보이는 푸른 파도의 무늬와오후부터 저녁까지 긴 시간 들어오는따뜻한 영랑호의 햇살까지 그대로 담은 공간으로바다가 보이는 오션뷰에요 :)객실과 욕실, 주방으로 분리되어있고스마트빔과 블루투스 스피커 이 외에도드라이어와 다리미도 구비되어 있어요.주방에서 음식 조리가 가능하지만환기에 제한이 있어냄새가 많이 나는 요리는 삼가 부탁드려요 :)눈을 감고 파도의 소리를 들으며안티 스트레스 티와 함께 복잡한 마음을 해소해보세요.—————————————————🏡\\'속초 파도의무늬\\'🚩주소👉강원도 속초시👉정확한 주소는 예약 후 표시📆예약문의airbnb.co.kr/rooms/43537659⏰체크인 : PM 16:00⏰체크아웃 : PM 12:00📍가격정보👉비수기 평일 기준 약 170,000📸Photo by @hyoyonee @kimssoyeoni @seony5h전국 감성숙소는 #데일리감성속초로 떠난다면 #데일리감성_속초강원도 여행은 #데일리감성_강원—————————————————'"
            ]
          },
          "metadata": {},
          "execution_count": 17
        }
      ]
    },
    {
      "cell_type": "code",
      "metadata": {
        "id": "Cu3cv6g7xxEu"
      },
      "source": [
        "def tokenize(text) : #토큰화 명사 동사 형용사만 추출\n",
        "    result = []\n",
        "    word_s = okt.pos(text, norm=True, stem=True)\n",
        "    for n, h in word_s :\n",
        "        if not (h in ['Noun', 'Verb', 'Adjective']) : continue\n",
        "        result.append(n)\n",
        "    return result"
      ],
      "execution_count": 18,
      "outputs": []
    },
    {
      "cell_type": "code",
      "metadata": {
        "id": "v0eTld1vz0iR"
      },
      "source": [
        "token_okt = tokenize(text_okt)"
      ],
      "execution_count": 19,
      "outputs": []
    },
    {
      "cell_type": "code",
      "metadata": {
        "id": "65lqGWbVz4nX",
        "colab": {
          "base_uri": "https://localhost:8080/"
        },
        "outputId": "7af384fa-ca4a-47ba-e188-ff0f071d06e6"
      },
      "source": [
        "result = [] #불용어제거\n",
        "for w in token_okt: \n",
        "    if w not in stop_words: \n",
        "        result.append(w)\n",
        "\n",
        "# print(text_okt,'\\n')\n",
        "print(result)"
      ],
      "execution_count": 20,
      "outputs": [
        {
          "output_type": "stream",
          "name": "stdout",
          "text": [
            "['속초', '파도', '무늬', '오션', '뷰', '감성', '에어비앤비', '파도', '무늬', '파도', '무늬', '늘다', '물결', '일렁', '윤슬', '반짝거리다', '파도', '철썩', '철썩', '치다', '다양하다', '모습', '파도', '무늬', '즐기다', '들려오다', '시원하다', '파도', '소리', '눈', '감고', '듣다', '보다', '많다', '많다', '계획', '내다', '두다', '느긋하다', '머리', '식히다', '숙소', '내부', '세', '창', '푸른', '파도', '무늬', '오후', '저녁', '기다', '들어오다', '따뜻하다', '호의', '햇살', '그대로', '담다', '공간', '바다', '보이다', '오션', '뷰', '객실', '욕실', '분리', '눈', '감고', '파도', '소리', '들다', '안티', '스트레스', '티', '복잡하다', '마음', '해소', '해보다', '속초', '파도', '무늬', '강원도', '속초시', '정확하다', '표시', '감성', '숙소', '떠나다', '여행']\n"
          ]
        }
      ]
    },
    {
      "cell_type": "code",
      "metadata": {
        "id": "Rfm_gWdQ2SiI"
      },
      "source": [
        "data['token_content'] = np.NaN"
      ],
      "execution_count": 21,
      "outputs": []
    },
    {
      "cell_type": "code",
      "metadata": {
        "id": "brMUkxH81GbK",
        "colab": {
          "base_uri": "https://localhost:8080/"
        },
        "outputId": "3584ab45-6bfb-4a05-8777-1803fc89dbbd"
      },
      "source": [
        "for i in range(len(data.content)):\n",
        "  data.content[i] = tokenize(data.content[i])"
      ],
      "execution_count": 22,
      "outputs": [
        {
          "output_type": "stream",
          "name": "stderr",
          "text": [
            "/usr/local/lib/python3.7/dist-packages/ipykernel_launcher.py:2: SettingWithCopyWarning: \n",
            "A value is trying to be set on a copy of a slice from a DataFrame\n",
            "\n",
            "See the caveats in the documentation: https://pandas.pydata.org/pandas-docs/stable/user_guide/indexing.html#returning-a-view-versus-a-copy\n",
            "  \n"
          ]
        }
      ]
    },
    {
      "cell_type": "code",
      "metadata": {
        "colab": {
          "base_uri": "https://localhost:8080/"
        },
        "id": "YjK6tsph1n7D",
        "outputId": "007853f9-824d-4263-ce94-e933529ff1c4"
      },
      "source": [
        "for i in range(len(data.content)):\n",
        "  result = []\n",
        "  for w in data.content[i]:\n",
        "    if w not in stop_words:\n",
        "      result.append(w)\n",
        "    data.token_content[i] = result"
      ],
      "execution_count": 23,
      "outputs": [
        {
          "output_type": "stream",
          "name": "stderr",
          "text": [
            "/usr/local/lib/python3.7/dist-packages/ipykernel_launcher.py:6: SettingWithCopyWarning: \n",
            "A value is trying to be set on a copy of a slice from a DataFrame\n",
            "\n",
            "See the caveats in the documentation: https://pandas.pydata.org/pandas-docs/stable/user_guide/indexing.html#returning-a-view-versus-a-copy\n",
            "  \n",
            "/usr/local/lib/python3.7/dist-packages/pandas/core/indexing.py:670: SettingWithCopyWarning: \n",
            "A value is trying to be set on a copy of a slice from a DataFrame\n",
            "\n",
            "See the caveats in the documentation: https://pandas.pydata.org/pandas-docs/stable/user_guide/indexing.html#returning-a-view-versus-a-copy\n",
            "  iloc._setitem_with_indexer(indexer, value)\n"
          ]
        }
      ]
    },
    {
      "cell_type": "code",
      "metadata": {
        "colab": {
          "base_uri": "https://localhost:8080/",
          "height": 419
        },
        "id": "CcOHk_x44eTc",
        "outputId": "95ecda4c-737d-44cd-c95b-165a92b1bbc0"
      },
      "source": [
        "data"
      ],
      "execution_count": 24,
      "outputs": [
        {
          "output_type": "execute_result",
          "data": {
            "text/html": [
              "<div>\n",
              "<style scoped>\n",
              "    .dataframe tbody tr th:only-of-type {\n",
              "        vertical-align: middle;\n",
              "    }\n",
              "\n",
              "    .dataframe tbody tr th {\n",
              "        vertical-align: top;\n",
              "    }\n",
              "\n",
              "    .dataframe thead th {\n",
              "        text-align: right;\n",
              "    }\n",
              "</style>\n",
              "<table border=\"1\" class=\"dataframe\">\n",
              "  <thead>\n",
              "    <tr style=\"text-align: right;\">\n",
              "      <th></th>\n",
              "      <th>name</th>\n",
              "      <th>content</th>\n",
              "      <th>token_content</th>\n",
              "    </tr>\n",
              "  </thead>\n",
              "  <tbody>\n",
              "    <tr>\n",
              "      <th>0</th>\n",
              "      <td>파도의무늬</td>\n",
              "      <td>[속초, 파도, 무늬, 오션, 뷰, 감성, 에어비앤비, 파도, 무늬, 파도, 무늬,...</td>\n",
              "      <td>[속초, 파도, 무늬, 오션, 뷰, 감성, 에어비앤비, 파도, 무늬, 파도, 무늬,...</td>\n",
              "    </tr>\n",
              "    <tr>\n",
              "      <th>1</th>\n",
              "      <td>스테이 시호일</td>\n",
              "      <td>[강릉, 스테이, 호일, 시간, 흔적, 담다, 감성, 숙소, 스테이, 호일, 스테이...</td>\n",
              "      <td>[강릉, 스테이, 호일, 흔적, 담다, 감성, 숙소, 스테이, 호일, 스테이, 호일...</td>\n",
              "    </tr>\n",
              "    <tr>\n",
              "      <th>2</th>\n",
              "      <td>까만돌멩이</td>\n",
              "      <td>[제주, 까맣다, 돌멩이, 구좌읍, 식주, 예쁘다, 숙소, 까맣다, 돌멩이, 까맣다...</td>\n",
              "      <td>[제주, 까맣다, 돌멩이, 구좌읍, 식주, 예쁘다, 숙소, 까맣다, 돌멩이, 까맣다...</td>\n",
              "    </tr>\n",
              "    <tr>\n",
              "      <th>3</th>\n",
              "      <td>권장사양</td>\n",
              "      <td>[단양, 권장, 사양, 인스타, 감성, 가득하다, 독채, 숙소, 권장, 사양, 권장...</td>\n",
              "      <td>[단양, 권장, 사양, 인스타, 감성, 가득하다, 독채, 숙소, 권장, 사양, 권장...</td>\n",
              "    </tr>\n",
              "    <tr>\n",
              "      <th>4</th>\n",
              "      <td>라온가</td>\n",
              "      <td>[강릉, 온, 따뜻하다, 느낌, 힐링, 감성, 숙소, 라오, 라오, 늘다, 주택, ...</td>\n",
              "      <td>[강릉, 온, 따뜻하다, 느낌, 힐링, 감성, 숙소, 라오, 라오, 늘다, 주택, ...</td>\n",
              "    </tr>\n",
              "    <tr>\n",
              "      <th>...</th>\n",
              "      <td>...</td>\n",
              "      <td>...</td>\n",
              "      <td>...</td>\n",
              "    </tr>\n",
              "    <tr>\n",
              "      <th>604</th>\n",
              "      <td>솔트</td>\n",
              "      <td>[하다, 폭, 그림, 같다, 오션, 뷰, 제주, 액자, 창문, 너머, 보이다, 바다...</td>\n",
              "      <td>[폭, 그림, 오션, 뷰, 제주, 액자, 창문, 너머, 보이다, 바다, 보고, 가다...</td>\n",
              "    </tr>\n",
              "    <tr>\n",
              "      <th>605</th>\n",
              "      <td>피그멜리온이펙트</td>\n",
              "      <td>[통창, 리버, 뷰, 환상, 춘천, 피그, 메다, 온, 펙트, 리버, 마운틴뷰, 보...</td>\n",
              "      <td>[통창, 리버, 뷰, 환상, 춘천, 피그, 메다, 온, 펙트, 리버, 마운틴뷰, 보...</td>\n",
              "    </tr>\n",
              "    <tr>\n",
              "      <th>606</th>\n",
              "      <td>품안의밤</td>\n",
              "      <td>[작다, 시골, 동네, 안, 위치, 붓, 편안하다, 감성, 숙소, 곡성, 품다, 밤...</td>\n",
              "      <td>[작다, 시골, 동네, 위치, 붓, 편안하다, 감성, 숙소, 곡성, 품다, 밤, 논...</td>\n",
              "    </tr>\n",
              "    <tr>\n",
              "      <th>607</th>\n",
              "      <td>더브리앙뜨</td>\n",
              "      <td>[방송, 돼다, 하다, 번, 다녀오다, 의, 웨딩촬영, 지로, 유명하다, 강릉, 더...</td>\n",
              "      <td>[방송, 돼다, 다녀오다, 웨딩촬영, 지로, 유명하다, 강릉, 브리앙, 뜨다, 화이...</td>\n",
              "    </tr>\n",
              "    <tr>\n",
              "      <th>608</th>\n",
              "      <td>한라궁호텔</td>\n",
              "      <td>[고풍, 미칀, 옥뷰, 맛집, 제주, 한라, 궁, 호텔, 아침, 눈, 뜨다, 보이다...</td>\n",
              "      <td>[고풍, 미칀, 옥뷰, 맛집, 제주, 한라, 궁, 호텔, 아침, 눈, 뜨다, 보이다...</td>\n",
              "    </tr>\n",
              "  </tbody>\n",
              "</table>\n",
              "<p>609 rows × 3 columns</p>\n",
              "</div>"
            ],
            "text/plain": [
              "         name  ...                                      token_content\n",
              "0       파도의무늬  ...  [속초, 파도, 무늬, 오션, 뷰, 감성, 에어비앤비, 파도, 무늬, 파도, 무늬,...\n",
              "1     스테이 시호일  ...  [강릉, 스테이, 호일, 흔적, 담다, 감성, 숙소, 스테이, 호일, 스테이, 호일...\n",
              "2       까만돌멩이  ...  [제주, 까맣다, 돌멩이, 구좌읍, 식주, 예쁘다, 숙소, 까맣다, 돌멩이, 까맣다...\n",
              "3        권장사양  ...  [단양, 권장, 사양, 인스타, 감성, 가득하다, 독채, 숙소, 권장, 사양, 권장...\n",
              "4         라온가  ...  [강릉, 온, 따뜻하다, 느낌, 힐링, 감성, 숙소, 라오, 라오, 늘다, 주택, ...\n",
              "..        ...  ...                                                ...\n",
              "604        솔트  ...  [폭, 그림, 오션, 뷰, 제주, 액자, 창문, 너머, 보이다, 바다, 보고, 가다...\n",
              "605  피그멜리온이펙트  ...  [통창, 리버, 뷰, 환상, 춘천, 피그, 메다, 온, 펙트, 리버, 마운틴뷰, 보...\n",
              "606      품안의밤  ...  [작다, 시골, 동네, 위치, 붓, 편안하다, 감성, 숙소, 곡성, 품다, 밤, 논...\n",
              "607     더브리앙뜨  ...  [방송, 돼다, 다녀오다, 웨딩촬영, 지로, 유명하다, 강릉, 브리앙, 뜨다, 화이...\n",
              "608     한라궁호텔  ...  [고풍, 미칀, 옥뷰, 맛집, 제주, 한라, 궁, 호텔, 아침, 눈, 뜨다, 보이다...\n",
              "\n",
              "[609 rows x 3 columns]"
            ]
          },
          "metadata": {},
          "execution_count": 24
        }
      ]
    },
    {
      "cell_type": "code",
      "metadata": {
        "id": "014-2LU3-_Sm"
      },
      "source": [
        "data['token_nolist'] = np.NaN"
      ],
      "execution_count": 25,
      "outputs": []
    },
    {
      "cell_type": "code",
      "metadata": {
        "colab": {
          "base_uri": "https://localhost:8080/"
        },
        "id": "WZVgX1Pe_ElK",
        "outputId": "6147061a-bda3-4a4a-d963-15dc15ccf199"
      },
      "source": [
        "for i in range(len(data)):\n",
        "  data.token_nolist[i] = \" \".join(data.token_content[i])"
      ],
      "execution_count": 26,
      "outputs": [
        {
          "output_type": "stream",
          "name": "stderr",
          "text": [
            "/usr/local/lib/python3.7/dist-packages/ipykernel_launcher.py:2: SettingWithCopyWarning: \n",
            "A value is trying to be set on a copy of a slice from a DataFrame\n",
            "\n",
            "See the caveats in the documentation: https://pandas.pydata.org/pandas-docs/stable/user_guide/indexing.html#returning-a-view-versus-a-copy\n",
            "  \n",
            "/usr/local/lib/python3.7/dist-packages/pandas/core/indexing.py:670: SettingWithCopyWarning: \n",
            "A value is trying to be set on a copy of a slice from a DataFrame\n",
            "\n",
            "See the caveats in the documentation: https://pandas.pydata.org/pandas-docs/stable/user_guide/indexing.html#returning-a-view-versus-a-copy\n",
            "  iloc._setitem_with_indexer(indexer, value)\n"
          ]
        }
      ]
    },
    {
      "cell_type": "code",
      "metadata": {
        "colab": {
          "base_uri": "https://localhost:8080/",
          "height": 69
        },
        "id": "SPGWx0-G-zNM",
        "outputId": "fef65885-2a8c-4e56-8498-a46131e30b5f"
      },
      "source": [
        "\" \".join(data.token_content[0])"
      ],
      "execution_count": 27,
      "outputs": [
        {
          "output_type": "execute_result",
          "data": {
            "application/vnd.google.colaboratory.intrinsic+json": {
              "type": "string"
            },
            "text/plain": [
              "'속초 파도 무늬 오션 뷰 감성 에어비앤비 파도 무늬 파도 무늬 늘다 물결 일렁 윤슬 반짝거리다 파도 철썩 철썩 치다 다양하다 모습 파도 무늬 즐기다 들려오다 시원하다 파도 소리 눈 감고 듣다 보다 많다 많다 계획 내다 두다 느긋하다 머리 식히다 숙소 내부 세 창 푸른 파도 무늬 오후 저녁 기다 들어오다 따뜻하다 호의 햇살 그대로 담다 공간 바다 보이다 오션 뷰 객실 욕실 분리 눈 감고 파도 소리 들다 안티 스트레스 티 복잡하다 마음 해소 해보다 속초 파도 무늬 강원도 속초시 정확하다 표시 감성 숙소 떠나다 여행'"
            ]
          },
          "metadata": {},
          "execution_count": 27
        }
      ]
    },
    {
      "cell_type": "code",
      "metadata": {
        "id": "fL-SHcrX4lWP"
      },
      "source": [
        "from sklearn.feature_extraction.text import TfidfVectorizer"
      ],
      "execution_count": 28,
      "outputs": []
    },
    {
      "cell_type": "code",
      "metadata": {
        "id": "L-a_xXsG5r_9"
      },
      "source": [
        "test = data.token_nolist"
      ],
      "execution_count": 29,
      "outputs": []
    },
    {
      "cell_type": "code",
      "metadata": {
        "colab": {
          "base_uri": "https://localhost:8080/"
        },
        "id": "U_p0lRLI4-E5",
        "outputId": "78fe02b3-c39d-4886-a5c3-6efd29376185"
      },
      "source": [
        "tfidf = TfidfVectorizer()\n",
        "tfidf_matrix = tfidf.fit_transform(test)\n",
        "# 줄거리에 대해서 tf-idf 수행\n",
        "print(tfidf_matrix.shape)"
      ],
      "execution_count": 84,
      "outputs": [
        {
          "output_type": "stream",
          "name": "stdout",
          "text": [
            "(609, 5457)\n"
          ]
        }
      ]
    },
    {
      "cell_type": "code",
      "metadata": {
        "id": "dmwZyfk-5B-d"
      },
      "source": [
        "from sklearn.metrics.pairwise import linear_kernel\n",
        "cosine_sim = linear_kernel(tfidf_matrix, tfidf_matrix)"
      ],
      "execution_count": 85,
      "outputs": []
    },
    {
      "cell_type": "code",
      "metadata": {
        "colab": {
          "base_uri": "https://localhost:8080/"
        },
        "id": "Dr_Jq46q6M1a",
        "outputId": "a5e69b32-25ec-485c-a7a8-7b486e93477f"
      },
      "source": [
        "cosine_sim"
      ],
      "execution_count": 86,
      "outputs": [
        {
          "output_type": "execute_result",
          "data": {
            "text/plain": [
              "array([[1.        , 0.01725934, 0.00935047, ..., 0.01185352, 0.00875413,\n",
              "        0.02538461],\n",
              "       [0.01725934, 1.        , 0.01580191, ..., 0.04846655, 0.13623104,\n",
              "        0.01738111],\n",
              "       [0.00935047, 0.01580191, 1.        , ..., 0.0124695 , 0.0137301 ,\n",
              "        0.08663049],\n",
              "       ...,\n",
              "       [0.01185352, 0.04846655, 0.0124695 , ..., 1.        , 0.094277  ,\n",
              "        0.11143664],\n",
              "       [0.00875413, 0.13623104, 0.0137301 , ..., 0.094277  , 1.        ,\n",
              "        0.11165225],\n",
              "       [0.02538461, 0.01738111, 0.08663049, ..., 0.11143664, 0.11165225,\n",
              "        1.        ]])"
            ]
          },
          "metadata": {},
          "execution_count": 86
        }
      ]
    },
    {
      "cell_type": "code",
      "metadata": {
        "colab": {
          "base_uri": "https://localhost:8080/"
        },
        "id": "HrCF7Sz56ODD",
        "outputId": "2dbad87a-32b8-4ca6-c87f-d14a2da697aa"
      },
      "source": [
        "##인덱스 테이블 만들기##\n",
        "indices = pd.Series(data.index, index=data.name).drop_duplicates()\n",
        "print(indices)"
      ],
      "execution_count": 87,
      "outputs": [
        {
          "output_type": "stream",
          "name": "stdout",
          "text": [
            "name\n",
            "파도의무늬         0\n",
            "스테이 시호일       1\n",
            "까만돌멩이         2\n",
            "권장사양          3\n",
            "라온가           4\n",
            "           ... \n",
            "솔트          604\n",
            "피그멜리온이펙트    605\n",
            "품안의밤        606\n",
            "더브리앙뜨       607\n",
            "한라궁호텔       608\n",
            "Length: 609, dtype: int64\n"
          ]
        }
      ]
    },
    {
      "cell_type": "code",
      "metadata": {
        "id": "s55r1CrQ9eNh"
      },
      "source": [
        "def insta_REC(name, cosine_sim=cosine_sim):\n",
        "    #입력한 숙소로 부터 인덱스 가져오기\n",
        "    idx = indices[name]\n",
        "\n",
        "    # 모든 숙소에 대해서 해당 숙소와의 유사도를 구하기\n",
        "    sim_scores = list(enumerate(cosine_sim[idx]))\n",
        "\n",
        "    # 유사도에 따라 숙소를 정렬\n",
        "    sim_scores = sorted(sim_scores, key=lambda x:x[1], reverse = True)\n",
        "\n",
        "    # 가장 유사한 10개의 숙소를 받아옴\n",
        "    sim_scores = sim_scores[1:11]\n",
        "\n",
        "    # 가장 유사한 10개 숙소의 인덱스 받아옴\n",
        "    insta_indices = [i[0] for i in sim_scores]\n",
        "    \n",
        "    #기존에 읽어들인 데이터에서 해당 인덱스의 값들을 가져온다. 그리고 스코어 열을 추가하여 코사인 유사도도 확인할 수 있게 한다.\n",
        "    result_data = data.iloc[insta_indices].copy()\n",
        "    result_data['score'] = [i[1] for i in sim_scores]\n",
        "    \n",
        "    # 읽어들인 데이터에서 줄거리 부분만 제거, 제목과 스코어만 보이게 함\n",
        "    del result_data['content']\n",
        "\n",
        "    # 가장 유사한 10개의 숙소의 제목을 리턴\n",
        "    return result_data\n",
        "    "
      ],
      "execution_count": 88,
      "outputs": []
    },
    {
      "cell_type": "code",
      "metadata": {
        "colab": {
          "base_uri": "https://localhost:8080/",
          "height": 359
        },
        "id": "8V9KfUHJ-CQQ",
        "outputId": "e7e7a219-977d-4fc7-9b4c-b151f595ef1c"
      },
      "source": [
        "insta_REC('월림차경')"
      ],
      "execution_count": 89,
      "outputs": [
        {
          "output_type": "execute_result",
          "data": {
            "text/html": [
              "<div>\n",
              "<style scoped>\n",
              "    .dataframe tbody tr th:only-of-type {\n",
              "        vertical-align: middle;\n",
              "    }\n",
              "\n",
              "    .dataframe tbody tr th {\n",
              "        vertical-align: top;\n",
              "    }\n",
              "\n",
              "    .dataframe thead th {\n",
              "        text-align: right;\n",
              "    }\n",
              "</style>\n",
              "<table border=\"1\" class=\"dataframe\">\n",
              "  <thead>\n",
              "    <tr style=\"text-align: right;\">\n",
              "      <th></th>\n",
              "      <th>name</th>\n",
              "      <th>token_content</th>\n",
              "      <th>token_nolist</th>\n",
              "      <th>score</th>\n",
              "    </tr>\n",
              "  </thead>\n",
              "  <tbody>\n",
              "    <tr>\n",
              "      <th>17</th>\n",
              "      <td>제주 월림차경</td>\n",
              "      <td>[제주, 자쿠지, 독채, 민박, 제주, 월림차경, 제주, 자연, 머물다, 예쁘다, ...</td>\n",
              "      <td>제주 자쿠지 독채 민박 제주 월림차경 제주 자연 머물다 예쁘다 가득 담다 흐름 거 ...</td>\n",
              "      <td>0.401160</td>\n",
              "    </tr>\n",
              "    <tr>\n",
              "      <th>432</th>\n",
              "      <td>둘하루방</td>\n",
              "      <td>[동쪽, 정리, 위치, 자쿠지, 따뜻하다, 감성, 숙소, 두다, 루방, 둘이서, 하...</td>\n",
              "      <td>동쪽 정리 위치 자쿠지 따뜻하다 감성 숙소 두다 루방 둘이서 하루 머물다 가다 방 ...</td>\n",
              "      <td>0.248868</td>\n",
              "    </tr>\n",
              "    <tr>\n",
              "      <th>394</th>\n",
              "      <td>제주가옥</td>\n",
              "      <td>[동쪽, 조천읍, 신촌리, 조용하다, 바닷가, 마을, 위치, 자쿠지, 돌집, 독채,...</td>\n",
              "      <td>동쪽 조천읍 신촌리 조용하다 바닷가 마을 위치 자쿠지 돌집 독채 숙소 제주 가옥 함...</td>\n",
              "      <td>0.240697</td>\n",
              "    </tr>\n",
              "    <tr>\n",
              "      <th>419</th>\n",
              "      <td>하귤당</td>\n",
              "      <td>[서귀포, 위치, 제주, 감성, 가득, 묻다, 독채, 숙소, 귤, 돌담, 길, 따르...</td>\n",
              "      <td>서귀포 위치 제주 감성 가득 묻다 독채 숙소 귤 돌담 길 따르다 걸어가다 입구 햇살...</td>\n",
              "      <td>0.232060</td>\n",
              "    </tr>\n",
              "    <tr>\n",
              "      <th>568</th>\n",
              "      <td>제주</td>\n",
              "      <td>[근처, 위치, 확, 트이다, 통창, 제주, 감성, 물씬, 느끼다, 돌담, 갈대, ...</td>\n",
              "      <td>근처 위치 확 트이다 통창 제주 감성 물씬 느끼다 돌담 갈대 풍력 발전기 바다 보이...</td>\n",
              "      <td>0.228578</td>\n",
              "    </tr>\n",
              "    <tr>\n",
              "      <th>604</th>\n",
              "      <td>솔트</td>\n",
              "      <td>[폭, 그림, 오션, 뷰, 제주, 액자, 창문, 너머, 보이다, 바다, 보고, 가다...</td>\n",
              "      <td>폭 그림 오션 뷰 제주 액자 창문 너머 보이다 바다 보고 가다 모르다 감성 숙소 랍...</td>\n",
              "      <td>0.215811</td>\n",
              "    </tr>\n",
              "    <tr>\n",
              "      <th>372</th>\n",
              "      <td>스테이아하</td>\n",
              "      <td>[제주, 스테이, 프라이, 빗, 수영장, 제주, 감성, 숙소, 스테이, 스테이, 늘...</td>\n",
              "      <td>제주 스테이 프라이 빗 수영장 제주 감성 숙소 스테이 스테이 늘다 협재 해수욕장 가...</td>\n",
              "      <td>0.211989</td>\n",
              "    </tr>\n",
              "    <tr>\n",
              "      <th>385</th>\n",
              "      <td>아일안</td>\n",
              "      <td>[제주, 아름답다, 이다, 아름답다, 의미, 동물, 자연, 포함, 집중, 자연, 살...</td>\n",
              "      <td>제주 아름답다 이다 아름답다 의미 동물 자연 포함 집중 자연 살아가다 의미 담다 형...</td>\n",
              "      <td>0.211655</td>\n",
              "    </tr>\n",
              "    <tr>\n",
              "      <th>404</th>\n",
              "      <td>오오오하우스</td>\n",
              "      <td>[서쪽, 한경면, 조용하다, 한적하다, 동네, 위치, 오오오, 하우스, 오오오, 하...</td>\n",
              "      <td>서쪽 한경면 조용하다 한적하다 동네 위치 오오오 하우스 오오오 하우스 늘다 총 이루...</td>\n",
              "      <td>0.210531</td>\n",
              "    </tr>\n",
              "    <tr>\n",
              "      <th>408</th>\n",
              "      <td>클랭블루스테이</td>\n",
              "      <td>[서쪽, 조용하다, 마을, 한경면, 위치, 노을, 맛집, 독채, 숙소, 클랭, 블루...</td>\n",
              "      <td>서쪽 조용하다 마을 한경면 위치 노을 맛집 독채 숙소 클랭 블루 스테이 총 동 이루...</td>\n",
              "      <td>0.201986</td>\n",
              "    </tr>\n",
              "  </tbody>\n",
              "</table>\n",
              "</div>"
            ],
            "text/plain": [
              "        name  ...     score\n",
              "17   제주 월림차경  ...  0.401160\n",
              "432     둘하루방  ...  0.248868\n",
              "394     제주가옥  ...  0.240697\n",
              "419      하귤당  ...  0.232060\n",
              "568       제주  ...  0.228578\n",
              "604       솔트  ...  0.215811\n",
              "372    스테이아하  ...  0.211989\n",
              "385      아일안  ...  0.211655\n",
              "404   오오오하우스  ...  0.210531\n",
              "408  클랭블루스테이  ...  0.201986\n",
              "\n",
              "[10 rows x 4 columns]"
            ]
          },
          "metadata": {},
          "execution_count": 89
        }
      ]
    },
    {
      "cell_type": "markdown",
      "metadata": {
        "id": "w9hdx6GfZuiV"
      },
      "source": [
        "Adjusted cosine_Similarity\n",
        "\n",
        "평균값을 고려하여 유사도 측정"
      ]
    },
    {
      "cell_type": "code",
      "metadata": {
        "colab": {
          "base_uri": "https://localhost:8080/"
        },
        "id": "BWXsSj16so59",
        "outputId": "eda9a87c-6549-4375-b8de-7b178b92229a"
      },
      "source": [
        "np.mean(tfidf_matrix)"
      ],
      "execution_count": 111,
      "outputs": [
        {
          "output_type": "execute_result",
          "data": {
            "text/plain": [
              "0.0012574148392302696"
            ]
          },
          "metadata": {},
          "execution_count": 111
        }
      ]
    },
    {
      "cell_type": "code",
      "metadata": {
        "id": "URePbUHmZt-P"
      },
      "source": [
        "import numpy as np\n",
        "from sklearn.metrics.pairwise import cosine_similarity\n",
        "\n",
        "\n",
        "def adjusted_cosine_similarity(a, b):\n",
        "  \n",
        "    a = np.array(a)\n",
        "    b = np.array(b)\n",
        "    \n",
        "    mu_a = np.mean(a)\n",
        "    mu_b = np.mean(b)\n",
        "    \n",
        "    norm_a = a - mu_a\n",
        "    norm_b = b - mu_b\n",
        "    \n",
        "    return cosine_similarity(norm_a, norm_b)"
      ],
      "execution_count": 114,
      "outputs": []
    },
    {
      "cell_type": "code",
      "metadata": {
        "colab": {
          "base_uri": "https://localhost:8080/",
          "height": 306
        },
        "id": "-wmlI1j5fAMR",
        "outputId": "0b9b38cb-8741-4d96-82c7-0f15e869ff97"
      },
      "source": [
        "adjusted_cosine_similarity(tfidf_matrix, tfidf_matrix)"
      ],
      "execution_count": 115,
      "outputs": [
        {
          "output_type": "error",
          "ename": "NotImplementedError",
          "evalue": "ignored",
          "traceback": [
            "\u001b[0;31m---------------------------------------------------------------------------\u001b[0m",
            "\u001b[0;31mNotImplementedError\u001b[0m                       Traceback (most recent call last)",
            "\u001b[0;32m<ipython-input-115-c4e45ca1e788>\u001b[0m in \u001b[0;36m<module>\u001b[0;34m()\u001b[0m\n\u001b[0;32m----> 1\u001b[0;31m \u001b[0madjusted_cosine_similarity\u001b[0m\u001b[0;34m(\u001b[0m\u001b[0mtfidf_matrix\u001b[0m\u001b[0;34m,\u001b[0m \u001b[0mtfidf_matrix\u001b[0m\u001b[0;34m)\u001b[0m\u001b[0;34m\u001b[0m\u001b[0;34m\u001b[0m\u001b[0m\n\u001b[0m",
            "\u001b[0;32m<ipython-input-114-22e7676b8812>\u001b[0m in \u001b[0;36madjusted_cosine_similarity\u001b[0;34m(a, b)\u001b[0m\n\u001b[1;32m      5\u001b[0m \u001b[0;32mdef\u001b[0m \u001b[0madjusted_cosine_similarity\u001b[0m\u001b[0;34m(\u001b[0m\u001b[0ma\u001b[0m\u001b[0;34m,\u001b[0m \u001b[0mb\u001b[0m\u001b[0;34m)\u001b[0m\u001b[0;34m:\u001b[0m\u001b[0;34m\u001b[0m\u001b[0;34m\u001b[0m\u001b[0m\n\u001b[1;32m      6\u001b[0m \u001b[0;34m\u001b[0m\u001b[0m\n\u001b[0;32m----> 7\u001b[0;31m     \u001b[0mnorm_a\u001b[0m \u001b[0;34m=\u001b[0m \u001b[0mnp\u001b[0m\u001b[0;34m.\u001b[0m\u001b[0marray\u001b[0m\u001b[0;34m(\u001b[0m\u001b[0ma\u001b[0m\u001b[0;34m)\u001b[0m \u001b[0;34m-\u001b[0m \u001b[0mnp\u001b[0m\u001b[0;34m.\u001b[0m\u001b[0mmean\u001b[0m\u001b[0;34m(\u001b[0m\u001b[0ma\u001b[0m\u001b[0;34m)\u001b[0m\u001b[0;34m\u001b[0m\u001b[0;34m\u001b[0m\u001b[0m\n\u001b[0m\u001b[1;32m      8\u001b[0m     \u001b[0mnorm_b\u001b[0m \u001b[0;34m=\u001b[0m \u001b[0mnp\u001b[0m\u001b[0;34m.\u001b[0m\u001b[0marray\u001b[0m\u001b[0;34m(\u001b[0m\u001b[0mb\u001b[0m\u001b[0;34m)\u001b[0m \u001b[0;34m-\u001b[0m \u001b[0mnp\u001b[0m\u001b[0;34m.\u001b[0m\u001b[0mmean\u001b[0m\u001b[0;34m(\u001b[0m\u001b[0mb\u001b[0m\u001b[0;34m)\u001b[0m\u001b[0;34m\u001b[0m\u001b[0;34m\u001b[0m\u001b[0m\n\u001b[1;32m      9\u001b[0m \u001b[0;34m\u001b[0m\u001b[0m\n",
            "\u001b[0;32m/usr/local/lib/python3.7/dist-packages/scipy/sparse/base.py\u001b[0m in \u001b[0;36m__sub__\u001b[0;34m(self, other)\u001b[0m\n\u001b[1;32m    431\u001b[0m             \u001b[0;32mif\u001b[0m \u001b[0mother\u001b[0m \u001b[0;34m==\u001b[0m \u001b[0;36m0\u001b[0m\u001b[0;34m:\u001b[0m\u001b[0;34m\u001b[0m\u001b[0;34m\u001b[0m\u001b[0m\n\u001b[1;32m    432\u001b[0m                 \u001b[0;32mreturn\u001b[0m \u001b[0mself\u001b[0m\u001b[0;34m.\u001b[0m\u001b[0mcopy\u001b[0m\u001b[0;34m(\u001b[0m\u001b[0;34m)\u001b[0m\u001b[0;34m\u001b[0m\u001b[0;34m\u001b[0m\u001b[0m\n\u001b[0;32m--> 433\u001b[0;31m             raise NotImplementedError('subtracting a nonzero scalar from a '\n\u001b[0m\u001b[1;32m    434\u001b[0m                                       'sparse matrix is not supported')\n\u001b[1;32m    435\u001b[0m         \u001b[0;32melif\u001b[0m \u001b[0misspmatrix\u001b[0m\u001b[0;34m(\u001b[0m\u001b[0mother\u001b[0m\u001b[0;34m)\u001b[0m\u001b[0;34m:\u001b[0m\u001b[0;34m\u001b[0m\u001b[0;34m\u001b[0m\u001b[0m\n",
            "\u001b[0;31mNotImplementedError\u001b[0m: subtracting a nonzero scalar from a sparse matrix is not supported"
          ]
        }
      ]
    },
    {
      "cell_type": "code",
      "metadata": {
        "id": "-iMJjaCMgHDn"
      },
      "source": [
        "adjusted=cosine_similarity(tfidf_matrix,tfidf_matrix)"
      ],
      "execution_count": 67,
      "outputs": []
    },
    {
      "cell_type": "code",
      "metadata": {
        "id": "VyCYdn6afRp2"
      },
      "source": [
        "def insta_REC(name, adjusted=adjusted):\n",
        "    #입력한 숙소로 부터 인덱스 가져오기\n",
        "    idx = indices[name]\n",
        "\n",
        "    # 모든 숙소에 대해서 해당 숙소와의 유사도를 구하기\n",
        "    sim_scores = list(enumerate(adjusted[idx]))\n",
        "\n",
        "    # 유사도에 따라 숙소를 정렬\n",
        "    sim_scores = sorted(sim_scores, key=lambda x:x[1], reverse = True)\n",
        "\n",
        "    # 가장 유사한 10개의 숙소를 받아옴\n",
        "    sim_scores = sim_scores[1:11]\n",
        "\n",
        "    # 가장 유사한 10개 숙소의 인덱스 받아옴\n",
        "    insta_indices = [i[0] for i in sim_scores]\n",
        "    \n",
        "    #기존에 읽어들인 데이터에서 해당 인덱스의 값들을 가져온다. 그리고 스코어 열을 추가하여 코사인 유사도도 확인할 수 있게 한다.\n",
        "    result_data = data.iloc[insta_indices].copy()\n",
        "    result_data['score'] = [i[1] for i in sim_scores]\n",
        "    \n",
        "    # 읽어들인 데이터에서 줄거리 부분만 제거, 제목과 스코어만 보이게 함\n",
        "    del result_data['content']\n",
        "\n",
        "    # 가장 유사한 10개의 숙소의 제목을 리턴\n",
        "    return result_data\n",
        "    "
      ],
      "execution_count": 68,
      "outputs": []
    },
    {
      "cell_type": "code",
      "metadata": {
        "colab": {
          "base_uri": "https://localhost:8080/",
          "height": 359
        },
        "id": "_tnpePrZfglG",
        "outputId": "88c5dc84-a635-41d1-a417-1b4843a10089"
      },
      "source": [
        "insta_REC('월림차경')"
      ],
      "execution_count": 69,
      "outputs": [
        {
          "output_type": "execute_result",
          "data": {
            "text/html": [
              "<div>\n",
              "<style scoped>\n",
              "    .dataframe tbody tr th:only-of-type {\n",
              "        vertical-align: middle;\n",
              "    }\n",
              "\n",
              "    .dataframe tbody tr th {\n",
              "        vertical-align: top;\n",
              "    }\n",
              "\n",
              "    .dataframe thead th {\n",
              "        text-align: right;\n",
              "    }\n",
              "</style>\n",
              "<table border=\"1\" class=\"dataframe\">\n",
              "  <thead>\n",
              "    <tr style=\"text-align: right;\">\n",
              "      <th></th>\n",
              "      <th>name</th>\n",
              "      <th>token_content</th>\n",
              "      <th>token_nolist</th>\n",
              "      <th>score</th>\n",
              "    </tr>\n",
              "  </thead>\n",
              "  <tbody>\n",
              "    <tr>\n",
              "      <th>17</th>\n",
              "      <td>제주 월림차경</td>\n",
              "      <td>[제주, 자쿠지, 독채, 민박, 제주, 월림차경, 제주, 자연, 머물다, 예쁘다, ...</td>\n",
              "      <td>제주 자쿠지 독채 민박 제주 월림차경 제주 자연 머물다 예쁘다 가득 담다 흐름 거 ...</td>\n",
              "      <td>0.401160</td>\n",
              "    </tr>\n",
              "    <tr>\n",
              "      <th>432</th>\n",
              "      <td>둘하루방</td>\n",
              "      <td>[동쪽, 정리, 위치, 자쿠지, 따뜻하다, 감성, 숙소, 두다, 루방, 둘이서, 하...</td>\n",
              "      <td>동쪽 정리 위치 자쿠지 따뜻하다 감성 숙소 두다 루방 둘이서 하루 머물다 가다 방 ...</td>\n",
              "      <td>0.248868</td>\n",
              "    </tr>\n",
              "    <tr>\n",
              "      <th>394</th>\n",
              "      <td>제주가옥</td>\n",
              "      <td>[동쪽, 조천읍, 신촌리, 조용하다, 바닷가, 마을, 위치, 자쿠지, 돌집, 독채,...</td>\n",
              "      <td>동쪽 조천읍 신촌리 조용하다 바닷가 마을 위치 자쿠지 돌집 독채 숙소 제주 가옥 함...</td>\n",
              "      <td>0.240697</td>\n",
              "    </tr>\n",
              "    <tr>\n",
              "      <th>419</th>\n",
              "      <td>하귤당</td>\n",
              "      <td>[서귀포, 위치, 제주, 감성, 가득, 묻다, 독채, 숙소, 귤, 돌담, 길, 따르...</td>\n",
              "      <td>서귀포 위치 제주 감성 가득 묻다 독채 숙소 귤 돌담 길 따르다 걸어가다 입구 햇살...</td>\n",
              "      <td>0.232060</td>\n",
              "    </tr>\n",
              "    <tr>\n",
              "      <th>568</th>\n",
              "      <td>제주</td>\n",
              "      <td>[근처, 위치, 확, 트이다, 통창, 제주, 감성, 물씬, 느끼다, 돌담, 갈대, ...</td>\n",
              "      <td>근처 위치 확 트이다 통창 제주 감성 물씬 느끼다 돌담 갈대 풍력 발전기 바다 보이...</td>\n",
              "      <td>0.228578</td>\n",
              "    </tr>\n",
              "    <tr>\n",
              "      <th>604</th>\n",
              "      <td>솔트</td>\n",
              "      <td>[폭, 그림, 오션, 뷰, 제주, 액자, 창문, 너머, 보이다, 바다, 보고, 가다...</td>\n",
              "      <td>폭 그림 오션 뷰 제주 액자 창문 너머 보이다 바다 보고 가다 모르다 감성 숙소 랍...</td>\n",
              "      <td>0.215811</td>\n",
              "    </tr>\n",
              "    <tr>\n",
              "      <th>372</th>\n",
              "      <td>스테이아하</td>\n",
              "      <td>[제주, 스테이, 프라이, 빗, 수영장, 제주, 감성, 숙소, 스테이, 스테이, 늘...</td>\n",
              "      <td>제주 스테이 프라이 빗 수영장 제주 감성 숙소 스테이 스테이 늘다 협재 해수욕장 가...</td>\n",
              "      <td>0.211989</td>\n",
              "    </tr>\n",
              "    <tr>\n",
              "      <th>385</th>\n",
              "      <td>아일안</td>\n",
              "      <td>[제주, 아름답다, 이다, 아름답다, 의미, 동물, 자연, 포함, 집중, 자연, 살...</td>\n",
              "      <td>제주 아름답다 이다 아름답다 의미 동물 자연 포함 집중 자연 살아가다 의미 담다 형...</td>\n",
              "      <td>0.211655</td>\n",
              "    </tr>\n",
              "    <tr>\n",
              "      <th>404</th>\n",
              "      <td>오오오하우스</td>\n",
              "      <td>[서쪽, 한경면, 조용하다, 한적하다, 동네, 위치, 오오오, 하우스, 오오오, 하...</td>\n",
              "      <td>서쪽 한경면 조용하다 한적하다 동네 위치 오오오 하우스 오오오 하우스 늘다 총 이루...</td>\n",
              "      <td>0.210531</td>\n",
              "    </tr>\n",
              "    <tr>\n",
              "      <th>408</th>\n",
              "      <td>클랭블루스테이</td>\n",
              "      <td>[서쪽, 조용하다, 마을, 한경면, 위치, 노을, 맛집, 독채, 숙소, 클랭, 블루...</td>\n",
              "      <td>서쪽 조용하다 마을 한경면 위치 노을 맛집 독채 숙소 클랭 블루 스테이 총 동 이루...</td>\n",
              "      <td>0.201986</td>\n",
              "    </tr>\n",
              "  </tbody>\n",
              "</table>\n",
              "</div>"
            ],
            "text/plain": [
              "        name  ...     score\n",
              "17   제주 월림차경  ...  0.401160\n",
              "432     둘하루방  ...  0.248868\n",
              "394     제주가옥  ...  0.240697\n",
              "419      하귤당  ...  0.232060\n",
              "568       제주  ...  0.228578\n",
              "604       솔트  ...  0.215811\n",
              "372    스테이아하  ...  0.211989\n",
              "385      아일안  ...  0.211655\n",
              "404   오오오하우스  ...  0.210531\n",
              "408  클랭블루스테이  ...  0.201986\n",
              "\n",
              "[10 rows x 4 columns]"
            ]
          },
          "metadata": {},
          "execution_count": 69
        }
      ]
    },
    {
      "cell_type": "markdown",
      "metadata": {
        "id": "6RMJvR2LYijY"
      },
      "source": [
        "유클리디언 유사도 ( L2 Distance )\n",
        "- 가장 기본적인 거리를 측정하는 유사도 공식이다.\n",
        "- 값이 작을 수록 거리가 가까움 (제일 유사함)"
      ]
    },
    {
      "cell_type": "code",
      "metadata": {
        "colab": {
          "base_uri": "https://localhost:8080/"
        },
        "id": "UELZdkMvYiAb",
        "outputId": "f9a65901-988f-4c26-86d5-c261fd4813e6"
      },
      "source": [
        "from sklearn.metrics.pairwise import euclidean_distances\n",
        "\n",
        "euclidean_distances(tfidf_matrix[0:1], tfidf_matrix[1:2])"
      ],
      "execution_count": 36,
      "outputs": [
        {
          "output_type": "execute_result",
          "data": {
            "text/plain": [
              "array([[1.40195625]])"
            ]
          },
          "metadata": {},
          "execution_count": 36
        }
      ]
    },
    {
      "cell_type": "code",
      "metadata": {
        "id": "tHEY77T0_kMc"
      },
      "source": [
        "import numpy as np\n",
        "\n",
        "def l1_normalize(v):\n",
        "  norm = np.sum(v)\n",
        "  return v / norm\n",
        "    \n",
        "    \n",
        "tfidf_norm_l1 = l1_normalize(tfidf_matrix) #tf-idf 값 정규화\n",
        "\n",
        "euclidean_distances=euclidean_distances(tfidf_norm_l1)"
      ],
      "execution_count": 37,
      "outputs": []
    },
    {
      "cell_type": "code",
      "metadata": {
        "colab": {
          "base_uri": "https://localhost:8080/"
        },
        "id": "URbU6AyiHxCD",
        "outputId": "2e4e0e62-1b67-42ba-b369-7f80aac59204"
      },
      "source": [
        "euclidean_distances"
      ],
      "execution_count": 38,
      "outputs": [
        {
          "output_type": "execute_result",
          "data": {
            "text/plain": [
              "array([[0.        , 0.00033549, 0.00033684, ..., 0.00033642, 0.00033694,\n",
              "        0.0003341 ],\n",
              "       [0.00033549, 0.        , 0.00033574, ..., 0.00033012, 0.00031453,\n",
              "        0.00033547],\n",
              "       [0.00033684, 0.00033574, 0.        , ..., 0.00033631, 0.0003361 ,\n",
              "        0.00032344],\n",
              "       ...,\n",
              "       [0.00033642, 0.00033012, 0.00033631, ..., 0.        , 0.00032208,\n",
              "        0.00031901],\n",
              "       [0.00033694, 0.00031453, 0.0003361 , ..., 0.00032208, 0.        ,\n",
              "        0.00031898],\n",
              "       [0.0003341 , 0.00033547, 0.00032344, ..., 0.00031901, 0.00031898,\n",
              "        0.        ]])"
            ]
          },
          "metadata": {},
          "execution_count": 38
        }
      ]
    },
    {
      "cell_type": "code",
      "metadata": {
        "id": "2qFCxF6yY-d4"
      },
      "source": [
        "def insta_REC(name, euclidean_distances = euclidean_distances):\n",
        "    #입력한 숙소명으로 부터 인덱스 가져오기\n",
        "    idx = indices[name]\n",
        "\n",
        "    # 수집된 숙소에 대해서 해당 숙소와 유사한 content의 유사도를 구하기\n",
        "    sim_scores = list(enumerate(euclidean_distances[idx]))\n",
        "\n",
        "    # 유사도에 따라 숙소 정렬\n",
        "    sim_scores = sorted(sim_scores, key=lambda x:x[1])\n",
        "\n",
        "    # 가장 유사한 10개의 숙소이름을 받아옴\n",
        "    sim_scores = sim_scores[1:11]\n",
        "\n",
        "    # 가장 유사한 10개 영화의 인덱스 받아옴\n",
        "    insta_indices = [i[0] for i in sim_scores]\n",
        "    \n",
        "    #기존에 읽어들인 데이터에서 해당 인덱스의 값들을 가져온다. 그리고 스코어 열을 추가하여 유사도도 확인할 수 있게 한다.\n",
        "    result_data = data.iloc[insta_indices].copy()\n",
        "    result_data['score'] = [i[1] for i in sim_scores]\n",
        "    \n",
        "    # 읽어들인 데이터에서 숙소명과 contents만 보이게 함\n",
        "    del result_data['content']\n",
        "\n",
        "    # 가장 유사한 10개의 숙소명을 리턴\n",
        "    return result_data"
      ],
      "execution_count": 39,
      "outputs": []
    },
    {
      "cell_type": "code",
      "metadata": {
        "colab": {
          "base_uri": "https://localhost:8080/",
          "height": 359
        },
        "id": "GDir6C_lbEUg",
        "outputId": "94ed42b0-c183-46b0-d57b-1acba5ac6b30"
      },
      "source": [
        "insta_REC('월림차경')"
      ],
      "execution_count": 40,
      "outputs": [
        {
          "output_type": "execute_result",
          "data": {
            "text/html": [
              "<div>\n",
              "<style scoped>\n",
              "    .dataframe tbody tr th:only-of-type {\n",
              "        vertical-align: middle;\n",
              "    }\n",
              "\n",
              "    .dataframe tbody tr th {\n",
              "        vertical-align: top;\n",
              "    }\n",
              "\n",
              "    .dataframe thead th {\n",
              "        text-align: right;\n",
              "    }\n",
              "</style>\n",
              "<table border=\"1\" class=\"dataframe\">\n",
              "  <thead>\n",
              "    <tr style=\"text-align: right;\">\n",
              "      <th></th>\n",
              "      <th>name</th>\n",
              "      <th>token_content</th>\n",
              "      <th>token_nolist</th>\n",
              "      <th>score</th>\n",
              "    </tr>\n",
              "  </thead>\n",
              "  <tbody>\n",
              "    <tr>\n",
              "      <th>154</th>\n",
              "      <td>평일</td>\n",
              "      <td>[호]</td>\n",
              "      <td>호</td>\n",
              "      <td>0.000239</td>\n",
              "    </tr>\n",
              "    <tr>\n",
              "      <th>17</th>\n",
              "      <td>제주 월림차경</td>\n",
              "      <td>[제주, 자쿠지, 독채, 민박, 제주, 월림차경, 제주, 자연, 머물다, 예쁘다, ...</td>\n",
              "      <td>제주 자쿠지 독채 민박 제주 월림차경 제주 자연 머물다 예쁘다 가득 담다 흐름 거 ...</td>\n",
              "      <td>0.000262</td>\n",
              "    </tr>\n",
              "    <tr>\n",
              "      <th>432</th>\n",
              "      <td>둘하루방</td>\n",
              "      <td>[동쪽, 정리, 위치, 자쿠지, 따뜻하다, 감성, 숙소, 두다, 루방, 둘이서, 하...</td>\n",
              "      <td>동쪽 정리 위치 자쿠지 따뜻하다 감성 숙소 두다 루방 둘이서 하루 머물다 가다 방 ...</td>\n",
              "      <td>0.000293</td>\n",
              "    </tr>\n",
              "    <tr>\n",
              "      <th>394</th>\n",
              "      <td>제주가옥</td>\n",
              "      <td>[동쪽, 조천읍, 신촌리, 조용하다, 바닷가, 마을, 위치, 자쿠지, 돌집, 독채,...</td>\n",
              "      <td>동쪽 조천읍 신촌리 조용하다 바닷가 마을 위치 자쿠지 돌집 독채 숙소 제주 가옥 함...</td>\n",
              "      <td>0.000295</td>\n",
              "    </tr>\n",
              "    <tr>\n",
              "      <th>419</th>\n",
              "      <td>하귤당</td>\n",
              "      <td>[서귀포, 위치, 제주, 감성, 가득, 묻다, 독채, 숙소, 귤, 돌담, 길, 따르...</td>\n",
              "      <td>서귀포 위치 제주 감성 가득 묻다 독채 숙소 귤 돌담 길 따르다 걸어가다 입구 햇살...</td>\n",
              "      <td>0.000297</td>\n",
              "    </tr>\n",
              "    <tr>\n",
              "      <th>568</th>\n",
              "      <td>제주</td>\n",
              "      <td>[근처, 위치, 확, 트이다, 통창, 제주, 감성, 물씬, 느끼다, 돌담, 갈대, ...</td>\n",
              "      <td>근처 위치 확 트이다 통창 제주 감성 물씬 느끼다 돌담 갈대 풍력 발전기 바다 보이...</td>\n",
              "      <td>0.000297</td>\n",
              "    </tr>\n",
              "    <tr>\n",
              "      <th>604</th>\n",
              "      <td>솔트</td>\n",
              "      <td>[폭, 그림, 오션, 뷰, 제주, 액자, 창문, 너머, 보이다, 바다, 보고, 가다...</td>\n",
              "      <td>폭 그림 오션 뷰 제주 액자 창문 너머 보이다 바다 보고 가다 모르다 감성 숙소 랍...</td>\n",
              "      <td>0.000300</td>\n",
              "    </tr>\n",
              "    <tr>\n",
              "      <th>372</th>\n",
              "      <td>스테이아하</td>\n",
              "      <td>[제주, 스테이, 프라이, 빗, 수영장, 제주, 감성, 숙소, 스테이, 스테이, 늘...</td>\n",
              "      <td>제주 스테이 프라이 빗 수영장 제주 감성 숙소 스테이 스테이 늘다 협재 해수욕장 가...</td>\n",
              "      <td>0.000300</td>\n",
              "    </tr>\n",
              "    <tr>\n",
              "      <th>385</th>\n",
              "      <td>아일안</td>\n",
              "      <td>[제주, 아름답다, 이다, 아름답다, 의미, 동물, 자연, 포함, 집중, 자연, 살...</td>\n",
              "      <td>제주 아름답다 이다 아름답다 의미 동물 자연 포함 집중 자연 살아가다 의미 담다 형...</td>\n",
              "      <td>0.000300</td>\n",
              "    </tr>\n",
              "    <tr>\n",
              "      <th>404</th>\n",
              "      <td>오오오하우스</td>\n",
              "      <td>[서쪽, 한경면, 조용하다, 한적하다, 동네, 위치, 오오오, 하우스, 오오오, 하...</td>\n",
              "      <td>서쪽 한경면 조용하다 한적하다 동네 위치 오오오 하우스 오오오 하우스 늘다 총 이루...</td>\n",
              "      <td>0.000301</td>\n",
              "    </tr>\n",
              "  </tbody>\n",
              "</table>\n",
              "</div>"
            ],
            "text/plain": [
              "        name  ...     score\n",
              "154       평일  ...  0.000239\n",
              "17   제주 월림차경  ...  0.000262\n",
              "432     둘하루방  ...  0.000293\n",
              "394     제주가옥  ...  0.000295\n",
              "419      하귤당  ...  0.000297\n",
              "568       제주  ...  0.000297\n",
              "604       솔트  ...  0.000300\n",
              "372    스테이아하  ...  0.000300\n",
              "385      아일안  ...  0.000300\n",
              "404   오오오하우스  ...  0.000301\n",
              "\n",
              "[10 rows x 4 columns]"
            ]
          },
          "metadata": {},
          "execution_count": 40
        }
      ]
    },
    {
      "cell_type": "markdown",
      "metadata": {
        "id": "KC-bIxk8Msvy"
      },
      "source": [
        "맨하탄 유사도"
      ]
    },
    {
      "cell_type": "code",
      "metadata": {
        "id": "TUcf7Jo2bHJ4"
      },
      "source": [
        "# 맨하탄 유사도\n",
        "from sklearn.metrics.pairwise import manhattan_distances\n",
        "\n",
        "manhattan_distances = manhattan_distances(tfidf_norm_l1)"
      ],
      "execution_count": 41,
      "outputs": []
    },
    {
      "cell_type": "code",
      "metadata": {
        "id": "AOOd5c0ieZ4x"
      },
      "source": [
        "def insta_REC(name, manhattan_distances=manhattan_distances):\n",
        "    #입력한 숙소로 부터 인덱스 가져오기\n",
        "    idx = indices[name]\n",
        "\n",
        "    # 모든 숙소에 대해서 해당 숙소와의 유사도를 구하기\n",
        "    sim_scores = list(enumerate(manhattan_distances[idx]))\n",
        "\n",
        "    # 유사도에 따라 숙소들을 정렬\n",
        "    sim_scores = sorted(sim_scores, key=lambda x:x[1])\n",
        "\n",
        "    # 가장 유사한 10개의 숙소를 받아옴\n",
        "    sim_scores = sim_scores[1:11]\n",
        "\n",
        "    # 가장 유사한 10개 숙소의 인덱스 받아옴\n",
        "    insta_indices = [i[0] for i in sim_scores]\n",
        "    \n",
        "    #기존에 읽어들인 데이터에서 해당 인덱스의 값들을 가져온다. 그리고 스코어 열을 추가하여유사도도 확인할 수 있게 한다.\n",
        "    result_data = data.iloc[insta_indices].copy()\n",
        "    result_data['score'] = [i[1] for i in sim_scores]\n",
        "    \n",
        "    # 읽어들인 데이터에서, 숙소명과 content만 보이게 함\n",
        "    del result_data['content']\n",
        "\n",
        "    # 가장 유사한 10개의 숙소를 리턴\n",
        "    return result_data"
      ],
      "execution_count": 42,
      "outputs": []
    },
    {
      "cell_type": "code",
      "metadata": {
        "colab": {
          "base_uri": "https://localhost:8080/",
          "height": 359
        },
        "id": "Pm5aTFg1L2XD",
        "outputId": "abb3b3e3-8347-438c-ebf7-5463c02311d9"
      },
      "source": [
        "insta_REC('월림차경')"
      ],
      "execution_count": 46,
      "outputs": [
        {
          "output_type": "execute_result",
          "data": {
            "text/html": [
              "<div>\n",
              "<style scoped>\n",
              "    .dataframe tbody tr th:only-of-type {\n",
              "        vertical-align: middle;\n",
              "    }\n",
              "\n",
              "    .dataframe tbody tr th {\n",
              "        vertical-align: top;\n",
              "    }\n",
              "\n",
              "    .dataframe thead th {\n",
              "        text-align: right;\n",
              "    }\n",
              "</style>\n",
              "<table border=\"1\" class=\"dataframe\">\n",
              "  <thead>\n",
              "    <tr style=\"text-align: right;\">\n",
              "      <th></th>\n",
              "      <th>name</th>\n",
              "      <th>token_content</th>\n",
              "      <th>token_nolist</th>\n",
              "      <th>score</th>\n",
              "    </tr>\n",
              "  </thead>\n",
              "  <tbody>\n",
              "    <tr>\n",
              "      <th>154</th>\n",
              "      <td>평일</td>\n",
              "      <td>[호]</td>\n",
              "      <td>호</td>\n",
              "      <td>0.002017</td>\n",
              "    </tr>\n",
              "    <tr>\n",
              "      <th>149</th>\n",
              "      <td>예약문의</td>\n",
              "      <td>[문의]</td>\n",
              "      <td>문의</td>\n",
              "      <td>0.002241</td>\n",
              "    </tr>\n",
              "    <tr>\n",
              "      <th>363</th>\n",
              "      <td>애월숙소</td>\n",
              "      <td>[제주도, 애월, 위치, 감성, 가득하다, 숙소, 모으다, 보다, 쭉, 제주도, 숙...</td>\n",
              "      <td>제주도 애월 위치 감성 가득하다 숙소 모으다 보다 쭉 제주도 숙소 지역별 추천 해드...</td>\n",
              "      <td>0.002517</td>\n",
              "    </tr>\n",
              "    <tr>\n",
              "      <th>17</th>\n",
              "      <td>제주 월림차경</td>\n",
              "      <td>[제주, 자쿠지, 독채, 민박, 제주, 월림차경, 제주, 자연, 머물다, 예쁘다, ...</td>\n",
              "      <td>제주 자쿠지 독채 민박 제주 월림차경 제주 자연 머물다 예쁘다 가득 담다 흐름 거 ...</td>\n",
              "      <td>0.002526</td>\n",
              "    </tr>\n",
              "    <tr>\n",
              "      <th>362</th>\n",
              "      <td>한경면숙소</td>\n",
              "      <td>[애월편, 제주도, 숙소, 추천, 제주, 풍경, 즐기다, 숙소, 조식, 맛집, 유명...</td>\n",
              "      <td>애월편 제주도 숙소 추천 제주 풍경 즐기다 숙소 조식 맛집 유명하다 숙소 만나다 보...</td>\n",
              "      <td>0.002566</td>\n",
              "    </tr>\n",
              "    <tr>\n",
              "      <th>333</th>\n",
              "      <td>내게와묵호</td>\n",
              "      <td>[묵, 호가, 눈, 보이다, 아름답다, 곳, 동해, 내다, 묵호, 숙소, 삼면, 창...</td>\n",
              "      <td>묵 호가 눈 보이다 아름답다 곳 동해 내다 묵호 숙소 삼면 창 햇살 가득 뷰 존예 ...</td>\n",
              "      <td>0.002585</td>\n",
              "    </tr>\n",
              "    <tr>\n",
              "      <th>365</th>\n",
              "      <td>여수풀빌라</td>\n",
              "      <td>[늘다, 전남, 여수시, 돌산읍, 몰둠벙길, 전남, 여수시, 돌산읍, 진모, 길, ...</td>\n",
              "      <td>늘다 전남 여수시 돌산읍 몰둠벙길 전남 여수시 돌산읍 진모 길 전남 여수시 돌산읍 ...</td>\n",
              "      <td>0.002613</td>\n",
              "    </tr>\n",
              "    <tr>\n",
              "      <th>364</th>\n",
              "      <td>만희민박</td>\n",
              "      <td>[제주도, 해안가, 마을, 위치, 숙소, 희다, 민박, 이다, 희다, 민박, 넘다,...</td>\n",
              "      <td>제주도 해안가 마을 위치 숙소 희다 민박 이다 희다 민박 넘다 제주 고택 개조 숙소...</td>\n",
              "      <td>0.002658</td>\n",
              "    </tr>\n",
              "    <tr>\n",
              "      <th>16</th>\n",
              "      <td>춘천 유포리 나의집</td>\n",
              "      <td>[춘천, 춘천, 옥, 독채, 감성, 숙소, 춘천, 유포, 리, 시골, 동네, 좁다,...</td>\n",
              "      <td>춘천 춘천 옥 독채 감성 숙소 춘천 유포 리 시골 동네 좁다 길 따라가다 보다 나오...</td>\n",
              "      <td>0.002661</td>\n",
              "    </tr>\n",
              "    <tr>\n",
              "      <th>314</th>\n",
              "      <td>호텔올거제</td>\n",
              "      <td>[바다, 보다, 스파, 즐기다, 거제, 호텔, 거제, 일출, 오션, 뷰, 넘다, 넘...</td>\n",
              "      <td>바다 보다 스파 즐기다 거제 호텔 거제 일출 오션 뷰 넘다 넘다 이뿌다 따끈따끈하다...</td>\n",
              "      <td>0.002662</td>\n",
              "    </tr>\n",
              "  </tbody>\n",
              "</table>\n",
              "</div>"
            ],
            "text/plain": [
              "           name  ...     score\n",
              "154          평일  ...  0.002017\n",
              "149        예약문의  ...  0.002241\n",
              "363        애월숙소  ...  0.002517\n",
              "17      제주 월림차경  ...  0.002526\n",
              "362       한경면숙소  ...  0.002566\n",
              "333       내게와묵호  ...  0.002585\n",
              "365       여수풀빌라  ...  0.002613\n",
              "364        만희민박  ...  0.002658\n",
              "16   춘천 유포리 나의집  ...  0.002661\n",
              "314       호텔올거제  ...  0.002662\n",
              "\n",
              "[10 rows x 4 columns]"
            ]
          },
          "metadata": {},
          "execution_count": 46
        }
      ]
    },
    {
      "cell_type": "code",
      "metadata": {
        "id": "_JFH8jJoL4n4"
      },
      "source": [
        ""
      ],
      "execution_count": 43,
      "outputs": []
    }
  ]
}