{
  "nbformat": 4,
  "nbformat_minor": 5,
  "metadata": {
    "kernelspec": {
      "display_name": "Python 3",
      "language": "python",
      "name": "python3"
    },
    "language_info": {
      "codemirror_mode": {
        "name": "ipython",
        "version": 3
      },
      "file_extension": ".py",
      "mimetype": "text/x-python",
      "name": "python",
      "nbconvert_exporter": "python",
      "pygments_lexer": "ipython3",
      "version": "3.7.11"
    },
    "colab": {
      "name": "LGbm_final.ipynb",
      "provenance": [],
      "include_colab_link": true
    }
  },
  "cells": [
    {
      "cell_type": "markdown",
      "metadata": {
        "id": "view-in-github",
        "colab_type": "text"
      },
      "source": [
        "<a href=\"https://colab.research.google.com/github/Minsung-commit/TIL/blob/master/LGbm_final.ipynb\" target=\"_parent\"><img src=\"https://colab.research.google.com/assets/colab-badge.svg\" alt=\"Open In Colab\"/></a>"
      ]
    },
    {
      "cell_type": "code",
      "metadata": {
        "id": "d05e335c"
      },
      "source": [
        "import numpy as np\n",
        "import pandas as pd\n",
        "import matplotlib.pyplot as plt\n",
        "import seaborn as sns\n",
        "\n",
        "from sklearn.model_selection import train_test_split\n",
        "from sklearn.metrics import mean_squared_error\n",
        "from sklearn.preprocessing import RobustScaler\n",
        "from sklearn.decomposition import PCA\n",
        "df = pd.read_csv('./seoul_5.csv')"
      ],
      "id": "d05e335c",
      "execution_count": null,
      "outputs": []
    },
    {
      "cell_type": "code",
      "metadata": {
        "colab": {
          "base_uri": "https://localhost:8080/",
          "height": 204
        },
        "id": "bd7b4aa8",
        "outputId": "b2975f80-f67a-4713-9e08-c3a14e85f622"
      },
      "source": [
        "df.head()"
      ],
      "id": "bd7b4aa8",
      "execution_count": null,
      "outputs": [
        {
          "output_type": "execute_result",
          "data": {
            "text/html": [
              "<div>\n",
              "<style scoped>\n",
              "    .dataframe tbody tr th:only-of-type {\n",
              "        vertical-align: middle;\n",
              "    }\n",
              "\n",
              "    .dataframe tbody tr th {\n",
              "        vertical-align: top;\n",
              "    }\n",
              "\n",
              "    .dataframe thead th {\n",
              "        text-align: right;\n",
              "    }\n",
              "</style>\n",
              "<table border=\"1\" class=\"dataframe\">\n",
              "  <thead>\n",
              "    <tr style=\"text-align: right;\">\n",
              "      <th></th>\n",
              "      <th>gu_l</th>\n",
              "      <th>dong_l</th>\n",
              "      <th>used_y</th>\n",
              "      <th>square</th>\n",
              "      <th>per_cost_man</th>\n",
              "      <th>Price per squar</th>\n",
              "      <th>floor</th>\n",
              "      <th>top10</th>\n",
              "      <th>YN_r</th>\n",
              "      <th>YN_top10</th>\n",
              "      <th>s_c</th>\n",
              "      <th>Hospital</th>\n",
              "      <th>cost</th>\n",
              "    </tr>\n",
              "  </thead>\n",
              "  <tbody>\n",
              "    <tr>\n",
              "      <th>0</th>\n",
              "      <td>0</td>\n",
              "      <td>8</td>\n",
              "      <td>32</td>\n",
              "      <td>77.75</td>\n",
              "      <td>1922.829582</td>\n",
              "      <td>2122.127392</td>\n",
              "      <td>7</td>\n",
              "      <td>0</td>\n",
              "      <td>1</td>\n",
              "      <td>1</td>\n",
              "      <td>1</td>\n",
              "      <td>0.0</td>\n",
              "      <td>149500</td>\n",
              "    </tr>\n",
              "    <tr>\n",
              "      <th>1</th>\n",
              "      <td>0</td>\n",
              "      <td>8</td>\n",
              "      <td>33</td>\n",
              "      <td>54.98</td>\n",
              "      <td>2619.134231</td>\n",
              "      <td>2122.127392</td>\n",
              "      <td>7</td>\n",
              "      <td>0</td>\n",
              "      <td>1</td>\n",
              "      <td>1</td>\n",
              "      <td>1</td>\n",
              "      <td>0.0</td>\n",
              "      <td>144000</td>\n",
              "    </tr>\n",
              "    <tr>\n",
              "      <th>2</th>\n",
              "      <td>0</td>\n",
              "      <td>8</td>\n",
              "      <td>33</td>\n",
              "      <td>79.97</td>\n",
              "      <td>2035.138177</td>\n",
              "      <td>2122.127392</td>\n",
              "      <td>7</td>\n",
              "      <td>0</td>\n",
              "      <td>1</td>\n",
              "      <td>1</td>\n",
              "      <td>1</td>\n",
              "      <td>0.0</td>\n",
              "      <td>162750</td>\n",
              "    </tr>\n",
              "    <tr>\n",
              "      <th>3</th>\n",
              "      <td>0</td>\n",
              "      <td>8</td>\n",
              "      <td>33</td>\n",
              "      <td>79.97</td>\n",
              "      <td>2000.750281</td>\n",
              "      <td>2122.127392</td>\n",
              "      <td>8</td>\n",
              "      <td>0</td>\n",
              "      <td>1</td>\n",
              "      <td>1</td>\n",
              "      <td>1</td>\n",
              "      <td>0.0</td>\n",
              "      <td>160000</td>\n",
              "    </tr>\n",
              "    <tr>\n",
              "      <th>4</th>\n",
              "      <td>0</td>\n",
              "      <td>8</td>\n",
              "      <td>33</td>\n",
              "      <td>79.97</td>\n",
              "      <td>1875.703389</td>\n",
              "      <td>2122.127392</td>\n",
              "      <td>5</td>\n",
              "      <td>0</td>\n",
              "      <td>1</td>\n",
              "      <td>1</td>\n",
              "      <td>1</td>\n",
              "      <td>0.0</td>\n",
              "      <td>150000</td>\n",
              "    </tr>\n",
              "  </tbody>\n",
              "</table>\n",
              "</div>"
            ],
            "text/plain": [
              "   gu_l  dong_l  used_y  square  ...  YN_top10  s_c  Hospital    cost\n",
              "0     0       8      32   77.75  ...         1    1       0.0  149500\n",
              "1     0       8      33   54.98  ...         1    1       0.0  144000\n",
              "2     0       8      33   79.97  ...         1    1       0.0  162750\n",
              "3     0       8      33   79.97  ...         1    1       0.0  160000\n",
              "4     0       8      33   79.97  ...         1    1       0.0  150000\n",
              "\n",
              "[5 rows x 13 columns]"
            ]
          },
          "metadata": {},
          "execution_count": 3
        }
      ]
    },
    {
      "cell_type": "code",
      "metadata": {
        "colab": {
          "base_uri": "https://localhost:8080/"
        },
        "id": "d12b999d",
        "outputId": "55672161-c1e1-435c-e5b5-91ca5182f3c8"
      },
      "source": [
        "X = df.drop(['cost'], axis = 1)\n",
        "y = df['cost']\n",
        "robustScaler = RobustScaler()\n",
        "print(robustScaler.fit(X))\n",
        "X = robustScaler.transform(X)\n",
        "\n",
        "# define the transform\n",
        "trans = PCA(n_components=10)\n",
        "\n",
        "# transform the data\n",
        "X_dim = trans.fit_transform(X)"
      ],
      "id": "d12b999d",
      "execution_count": null,
      "outputs": [
        {
          "output_type": "stream",
          "text": [
            "RobustScaler(copy=True, quantile_range=(25.0, 75.0), with_centering=True,\n",
            "             with_scaling=True)\n"
          ],
          "name": "stdout"
        }
      ]
    },
    {
      "cell_type": "code",
      "metadata": {
        "colab": {
          "base_uri": "https://localhost:8080/"
        },
        "id": "THeUcopPtcj7",
        "outputId": "d74b9709-e350-4af3-a485-395283d00f5d"
      },
      "source": [
        "cumsum = np.cumsum(trans.explained_variance_ratio_)\n",
        "d = np.argmax(cumsum >= 0.95) + 1\n",
        "print('선택할 차원 수 :', d)"
      ],
      "id": "THeUcopPtcj7",
      "execution_count": null,
      "outputs": [
        {
          "output_type": "stream",
          "text": [
            "선택할 차원 수 : 10\n"
          ],
          "name": "stdout"
        }
      ]
    },
    {
      "cell_type": "code",
      "metadata": {
        "id": "1tdPScIPtGul"
      },
      "source": [
        "X_train, X_test, y_train, y_test = train_test_split(X_dim, y,\n",
        "                                                   test_size = 0.2,\n",
        "                                                   random_state = 99)"
      ],
      "id": "1tdPScIPtGul",
      "execution_count": null,
      "outputs": []
    },
    {
      "cell_type": "code",
      "metadata": {
        "id": "6fd6999a"
      },
      "source": [
        "from lightgbm import LGBMRegressor"
      ],
      "id": "6fd6999a",
      "execution_count": null,
      "outputs": []
    },
    {
      "cell_type": "code",
      "metadata": {
        "colab": {
          "base_uri": "https://localhost:8080/"
        },
        "id": "5d5e7574",
        "outputId": "12ae043b-82d3-49d3-8f99-227e87a3f525"
      },
      "source": [
        "%time\n",
        "lgb = LGBMRegressor(linear_tree = True,\n",
        "                   boosting_type = 'gbdt',\n",
        "                   objective = 'regression',\n",
        "                   n_estimators = 15000,\n",
        "                   learning_rate = 0.001,\n",
        "                   max_depth = 6,\n",
        "                   n_jobs = -1,\n",
        "                    num_leaves = 144)\n",
        "\n",
        "lgb.fit(X_train, y_train)"
      ],
      "id": "5d5e7574",
      "execution_count": null,
      "outputs": [
        {
          "output_type": "stream",
          "text": [
            "CPU times: user 2 µs, sys: 0 ns, total: 2 µs\n",
            "Wall time: 5.01 µs\n"
          ],
          "name": "stdout"
        }
      ]
    },
    {
      "cell_type": "code",
      "metadata": {
        "id": "13ab9a00"
      },
      "source": [
        "MSE = mean_squared_error(y_test, lgb.predict(X_test))"
      ],
      "id": "13ab9a00",
      "execution_count": null,
      "outputs": []
    },
    {
      "cell_type": "code",
      "metadata": {
        "colab": {
          "base_uri": "https://localhost:8080/"
        },
        "id": "8raGRDXxsdnN",
        "outputId": "cb8bb944-e682-47ee-c645-e92da3eb411f"
      },
      "source": [
        "from math import sqrt\n",
        "print(f'MSE : {MSE}')\n",
        "print(f'RMSE : {sqrt(MSE)}')"
      ],
      "id": "8raGRDXxsdnN",
      "execution_count": null,
      "outputs": [
        {
          "output_type": "stream",
          "text": [
            "MSE : 13749334.794905465\n",
            "RMSE : 3708.0095462263125\n"
          ],
          "name": "stdout"
        }
      ]
    },
    {
      "cell_type": "code",
      "metadata": {
        "id": "6139d5a9",
        "outputId": "cdb071e4-7da3-468e-b830-48811d7a6a44"
      },
      "source": [
        "from math import sqrt\n",
        "print(f'MSE : {MSE}')\n",
        "print(f'RMSE : {sqrt(MSE)}')"
      ],
      "id": "6139d5a9",
      "execution_count": null,
      "outputs": [
        {
          "name": "stdout",
          "output_type": "stream",
          "text": [
            "MSE : 1829758.059959414\n",
            "RMSE : 1352.6854992789026\n"
          ]
        }
      ]
    },
    {
      "cell_type": "code",
      "metadata": {
        "id": "WtwkbU4Lx4Be"
      },
      "source": [
        "import lightgbm as lgb1\n",
        "train_ds = lgb1.Dataset(X_train, label=y_train)\n",
        "test_ds = lgb1.Dataset(X_test, y_test)\n",
        "params = {'learning_rate': 0.1,\n",
        "          'max_depth': 10,\n",
        "          'boosting':'gbdt',\n",
        "          'objective':'regression',\n",
        "          'metric':'rmse',\n",
        "          'is_training_metric':True,\n",
        "          'num_leaves':256,\n",
        "          'feature_fraction':0.7,\n",
        "          'bagging_fraction':0.9,\n",
        "          'baggin_freq':5,\n",
        "          'seed':2020}"
      ],
      "id": "WtwkbU4Lx4Be",
      "execution_count": null,
      "outputs": []
    },
    {
      "cell_type": "code",
      "metadata": {
        "id": "XHCKQ5vyx-KI"
      },
      "source": [
        "model = lgb1.train(params, train_ds, 15000, test_ds, verbose_eval=100, early_stopping_rounds=100)\n",
        "y_pred = model.predict(X_test)"
      ],
      "id": "XHCKQ5vyx-KI",
      "execution_count": null,
      "outputs": []
    },
    {
      "cell_type": "code",
      "metadata": {
        "id": "cb785aeb",
        "outputId": "989b239a-c3bd-43b9-b6d2-192702cad3b6"
      },
      "source": [
        "lgb.feature_importances_"
      ],
      "id": "cb785aeb",
      "execution_count": null,
      "outputs": [
        {
          "data": {
            "text/plain": [
              "array([   88,   566,  3361, 62039, 58621,  1239,  1521,    51,   168,\n",
              "          78,   483,     0], dtype=int32)"
            ]
          },
          "execution_count": 8,
          "metadata": {},
          "output_type": "execute_result"
        }
      ]
    },
    {
      "cell_type": "code",
      "metadata": {
        "id": "3c7a58ed",
        "outputId": "8957d48c-ee45-460d-cd3b-174f9a3a8837"
      },
      "source": [
        "X.columns"
      ],
      "id": "3c7a58ed",
      "execution_count": null,
      "outputs": [
        {
          "data": {
            "text/plain": [
              "Index(['gu_l', 'dong_l', 'used_y', 'square', 'per_cost_man', 'Price per squar',\n",
              "       'floor', 'top10', 'YN_r', 'YN_top10', 's_c', 'Hospital'],\n",
              "      dtype='object')"
            ]
          },
          "execution_count": 9,
          "metadata": {},
          "output_type": "execute_result"
        }
      ]
    },
    {
      "cell_type": "code",
      "metadata": {
        "id": "1c367c3d",
        "outputId": "ea15c4a5-db45-4ff1-8ea3-ba1edec439da"
      },
      "source": [
        "plt.figure(figsize=(7,5))\n",
        "sns.barplot(lgb.feature_importances_,['gu_l', 'dong_l', 'used_y', 'square', 'per_cost_man', 'Price per squar',\n",
        "       'floor', 'top10', 'YN_r', 'YN_top10', 's_c', 'Hospital'])\n",
        "plt.show()"
      ],
      "id": "1c367c3d",
      "execution_count": null,
      "outputs": [
        {
          "name": "stderr",
          "output_type": "stream",
          "text": [
            "/home/ubuntu/anaconda3/envs/multi/lib/python3.7/site-packages/seaborn/_decorators.py:43: FutureWarning: Pass the following variables as keyword args: x, y. From version 0.12, the only valid positional argument will be `data`, and passing other arguments without an explicit keyword will result in an error or misinterpretation.\n",
            "  FutureWarning\n"
          ]
        },
        {
          "data": {
            "text/plain": [
              "<Figure size 700x500 with 0 Axes>"
            ]
          },
          "metadata": {},
          "output_type": "display_data"
        },
        {
          "data": {
            "image/png": "[encoded data removed]",
            "text/plain": [
              "<Figure size 700x500 with 1 Axes>"
            ]
          },
          "metadata": {},
          "output_type": "display_data"
        }
      ]
    },
    {
      "cell_type": "code",
      "metadata": {
        "id": "7d2cb65d",
        "outputId": "308d80f6-f946-473a-dbbd-798054914386"
      },
      "source": [
        "lgb.predict(X_test)"
      ],
      "id": "7d2cb65d",
      "execution_count": null,
      "outputs": [
        {
          "data": {
            "text/plain": [
              "array([61653.34578109, 95385.1443382 , 13022.96341205, ...,\n",
              "       64174.72556671, 30008.49168428, 53337.2565952 ])"
            ]
          },
          "execution_count": 12,
          "metadata": {},
          "output_type": "execute_result"
        }
      ]
    },
    {
      "cell_type": "code",
      "metadata": {
        "id": "bf6202ba",
        "outputId": "bd79eb25-6c30-485f-ef14-c1eebff130a7"
      },
      "source": [
        "import joblib\n",
        "\n",
        "joblib.dump(lgb, 'lgb_model.pkl')"
      ],
      "id": "bf6202ba",
      "execution_count": null,
      "outputs": [
        {
          "data": {
            "text/plain": [
              "['lgb_model.pkl']"
            ]
          },
          "execution_count": 13,
          "metadata": {},
          "output_type": "execute_result"
        }
      ]
    },
    {
      "cell_type": "code",
      "metadata": {
        "id": "ad7ebd8b",
        "outputId": "9c54b1e6-3620-44d8-f550-82b3619cd748"
      },
      "source": [
        "lgb_from_joblib = joblib.load('lgb_model.pkl') \n",
        "lgb_from_joblib.predict(X_test)"
      ],
      "id": "ad7ebd8b",
      "execution_count": null,
      "outputs": [
        {
          "data": {
            "text/plain": [
              "array([61653.34578109, 95385.1443382 , 13022.96341205, ...,\n",
              "       64174.72556671, 30008.49168428, 53337.2565952 ])"
            ]
          },
          "execution_count": 14,
          "metadata": {},
          "output_type": "execute_result"
        }
      ]
    },
    {
      "cell_type": "markdown",
      "metadata": {
        "id": "a5713fba"
      },
      "source": [
        "## 하위 2개 변수 삭제 후 다시 모델링\n",
        "- 별 차이 없음.."
      ],
      "id": "a5713fba"
    },
    {
      "cell_type": "code",
      "metadata": {
        "id": "026d4e52"
      },
      "source": [
        "df_1 = df.drop(['top10', 'Hospital'], axis=1)"
      ],
      "id": "026d4e52",
      "execution_count": null,
      "outputs": []
    },
    {
      "cell_type": "code",
      "metadata": {
        "id": "5fbd98d6",
        "outputId": "a251d954-626b-481e-d89b-77b798598a5c"
      },
      "source": [
        "df_1.head(1)"
      ],
      "id": "5fbd98d6",
      "execution_count": null,
      "outputs": [
        {
          "data": {
            "text/html": [
              "<div>\n",
              "<style scoped>\n",
              "    .dataframe tbody tr th:only-of-type {\n",
              "        vertical-align: middle;\n",
              "    }\n",
              "\n",
              "    .dataframe tbody tr th {\n",
              "        vertical-align: top;\n",
              "    }\n",
              "\n",
              "    .dataframe thead th {\n",
              "        text-align: right;\n",
              "    }\n",
              "</style>\n",
              "<table border=\"1\" class=\"dataframe\">\n",
              "  <thead>\n",
              "    <tr style=\"text-align: right;\">\n",
              "      <th></th>\n",
              "      <th>gu_l</th>\n",
              "      <th>dong_l</th>\n",
              "      <th>used_y</th>\n",
              "      <th>square</th>\n",
              "      <th>per_cost_man</th>\n",
              "      <th>Price per squar</th>\n",
              "      <th>floor</th>\n",
              "      <th>YN_r</th>\n",
              "      <th>YN_top10</th>\n",
              "      <th>s_c</th>\n",
              "      <th>cost</th>\n",
              "    </tr>\n",
              "  </thead>\n",
              "  <tbody>\n",
              "    <tr>\n",
              "      <th>0</th>\n",
              "      <td>0</td>\n",
              "      <td>8</td>\n",
              "      <td>32</td>\n",
              "      <td>77.75</td>\n",
              "      <td>1922.829582</td>\n",
              "      <td>2122.127392</td>\n",
              "      <td>7</td>\n",
              "      <td>1</td>\n",
              "      <td>1</td>\n",
              "      <td>1</td>\n",
              "      <td>149500</td>\n",
              "    </tr>\n",
              "  </tbody>\n",
              "</table>\n",
              "</div>"
            ],
            "text/plain": [
              "   gu_l  dong_l  used_y  square  per_cost_man  Price per squar  floor  YN_r  \\\n",
              "0     0       8      32   77.75   1922.829582      2122.127392      7     1   \n",
              "\n",
              "   YN_top10  s_c    cost  \n",
              "0         1    1  149500  "
            ]
          },
          "execution_count": 21,
          "metadata": {},
          "output_type": "execute_result"
        }
      ]
    },
    {
      "cell_type": "code",
      "metadata": {
        "id": "11c522da"
      },
      "source": [
        "X = df_1.drop(['cost'], axis = 1)\n",
        "y = df_1['cost']\n",
        "\n",
        "X_train, X_test, y_train, y_test = train_test_split(X, y,\n",
        "                                                   test_size = 0.2,\n",
        "                                                   random_state = 99)"
      ],
      "id": "11c522da",
      "execution_count": null,
      "outputs": []
    },
    {
      "cell_type": "code",
      "metadata": {
        "id": "6b30857a",
        "outputId": "6ee82e64-5f7d-4c14-f3ff-c3c3850b8b39"
      },
      "source": [
        "%time\n",
        "lgb = LGBMRegressor(linear_tree = True,\n",
        "                   boosting_type = 'gbdt',\n",
        "                   objective = 'regression',\n",
        "                   n_estimators = 9000,\n",
        "                   learning_rate = 0.001,\n",
        "                   max_depth = 4,\n",
        "                   n_jobs = -1)\n",
        "\n",
        "lgb.fit(X_train, y_train)\n",
        "\n",
        "MSE = mean_squared_error(y_test, lgb.predict(X_test))\n",
        "print(f'MSE : {MSE}')\n",
        "print(f'RMSE : {sqrt(MSE)}')"
      ],
      "id": "6b30857a",
      "execution_count": null,
      "outputs": [
        {
          "name": "stdout",
          "output_type": "stream",
          "text": [
            "CPU times: user 3 µs, sys: 0 ns, total: 3 µs\n",
            "Wall time: 5.96 µs\n",
            "MSE : 1830351.8187582497\n",
            "RMSE : 1352.9049555524032\n"
          ]
        }
      ]
    },
    {
      "cell_type": "code",
      "metadata": {
        "id": "b79272fc",
        "outputId": "cacfa1c1-6cf4-4965-8fe7-b73be66bd656"
      },
      "source": [
        "lgb.feature_importances_"
      ],
      "id": "b79272fc",
      "execution_count": null,
      "outputs": [
        {
          "data": {
            "text/plain": [
              "array([  103,   567,  3362, 62127, 58549,  1258,  1527,   169,    78,\n",
              "         483], dtype=int32)"
            ]
          },
          "execution_count": 24,
          "metadata": {},
          "output_type": "execute_result"
        }
      ]
    },
    {
      "cell_type": "code",
      "metadata": {
        "id": "c62eccc5"
      },
      "source": [
        ""
      ],
      "id": "c62eccc5",
      "execution_count": null,
      "outputs": []
    },
    {
      "cell_type": "markdown",
      "metadata": {
        "id": "2b1849df"
      },
      "source": [
        "## feature_importances 기준 200 밑의 변수들 삭제 후 다시 모델링\n",
        "\n",
        "- 별 차이 없다.."
      ],
      "id": "2b1849df"
    },
    {
      "cell_type": "code",
      "metadata": {
        "id": "939690c3"
      },
      "source": [
        "df_2 = df.drop(['top10', 'Hospital','gu_l','YN_r','YN_top10'], axis=1)"
      ],
      "id": "939690c3",
      "execution_count": null,
      "outputs": []
    },
    {
      "cell_type": "code",
      "metadata": {
        "id": "139482ee",
        "outputId": "b08f33a5-7ddc-486a-ddf6-80a6eea7a287"
      },
      "source": [
        "df_2.head(1)"
      ],
      "id": "139482ee",
      "execution_count": null,
      "outputs": [
        {
          "data": {
            "text/html": [
              "<div>\n",
              "<style scoped>\n",
              "    .dataframe tbody tr th:only-of-type {\n",
              "        vertical-align: middle;\n",
              "    }\n",
              "\n",
              "    .dataframe tbody tr th {\n",
              "        vertical-align: top;\n",
              "    }\n",
              "\n",
              "    .dataframe thead th {\n",
              "        text-align: right;\n",
              "    }\n",
              "</style>\n",
              "<table border=\"1\" class=\"dataframe\">\n",
              "  <thead>\n",
              "    <tr style=\"text-align: right;\">\n",
              "      <th></th>\n",
              "      <th>dong_l</th>\n",
              "      <th>used_y</th>\n",
              "      <th>square</th>\n",
              "      <th>per_cost_man</th>\n",
              "      <th>Price per squar</th>\n",
              "      <th>floor</th>\n",
              "      <th>s_c</th>\n",
              "      <th>cost</th>\n",
              "    </tr>\n",
              "  </thead>\n",
              "  <tbody>\n",
              "    <tr>\n",
              "      <th>0</th>\n",
              "      <td>8</td>\n",
              "      <td>32</td>\n",
              "      <td>77.75</td>\n",
              "      <td>1922.829582</td>\n",
              "      <td>2122.127392</td>\n",
              "      <td>7</td>\n",
              "      <td>1</td>\n",
              "      <td>149500</td>\n",
              "    </tr>\n",
              "  </tbody>\n",
              "</table>\n",
              "</div>"
            ],
            "text/plain": [
              "   dong_l  used_y  square  per_cost_man  Price per squar  floor  s_c    cost\n",
              "0       8      32   77.75   1922.829582      2122.127392      7    1  149500"
            ]
          },
          "execution_count": 28,
          "metadata": {},
          "output_type": "execute_result"
        }
      ]
    },
    {
      "cell_type": "code",
      "metadata": {
        "id": "eeddc43a"
      },
      "source": [
        "X = df_2.drop(['cost'], axis = 1)\n",
        "y = df_2['cost']\n",
        "\n",
        "X_train, X_test, y_train, y_test = train_test_split(X, y,\n",
        "                                                   test_size = 0.2,\n",
        "                                                   random_state = 99)"
      ],
      "id": "eeddc43a",
      "execution_count": null,
      "outputs": []
    },
    {
      "cell_type": "code",
      "metadata": {
        "id": "32a506bd",
        "outputId": "d3d2949b-fe10-4aaf-84e1-fcfe8afbf124"
      },
      "source": [
        "%time\n",
        "lgb = LGBMRegressor(linear_tree = True,\n",
        "                   boosting_type = 'gbdt',\n",
        "                   objective = 'regression',\n",
        "                   n_estimators = 9000,\n",
        "                   learning_rate = 0.001,\n",
        "                   max_depth = 4,\n",
        "                   n_jobs = -1)\n",
        "\n",
        "lgb.fit(X_train, y_train)\n",
        "\n",
        "MSE = mean_squared_error(y_test, lgb.predict(X_test))\n",
        "print(f'MSE : {MSE}')\n",
        "print(f'RMSE : {sqrt(MSE)}')"
      ],
      "id": "32a506bd",
      "execution_count": null,
      "outputs": [
        {
          "name": "stdout",
          "output_type": "stream",
          "text": [
            "CPU times: user 2 µs, sys: 0 ns, total: 2 µs\n",
            "Wall time: 5.48 µs\n",
            "MSE : 1837465.7173544266\n",
            "RMSE : 1355.5315257692928\n"
          ]
        }
      ]
    },
    {
      "cell_type": "markdown",
      "metadata": {
        "id": "cf607eb7"
      },
      "source": [
        "## 하이퍼 파라미터 튜닝\n",
        "\n",
        "- 특성 선택에 별 영향이 없으므로 파라미터를 튜닝해서 다시 모델링"
      ],
      "id": "cf607eb7"
    },
    {
      "cell_type": "code",
      "metadata": {
        "id": "b7fde9f5"
      },
      "source": [
        "# 하이퍼 파라미터 튜닝\n",
        "%time\n",
        "from sklearn.model_selection import GridSearchCV\n",
        "\n",
        "params = {\n",
        "    'learning_rate' : [0.1, 0.01, 0.001, 0.0001],\n",
        "    'max_depth' : [1,2,3,4,5,6,7,8,9,10],\n",
        "    'num_leaves':[64,128,144,256]\n",
        "}\n",
        "\n",
        "grid_cv = GridSearchCV(lgb, param_grid = params, cv=4, scoring='neg_mean_squared_error', verbose=1, device='gpu')\n",
        "grid_cv.fit(X_train, y_train)"
      ],
      "id": "b7fde9f5",
      "execution_count": null,
      "outputs": []
    },
    {
      "cell_type": "code",
      "metadata": {
        "id": "8494b5d1"
      },
      "source": [
        "print(f'최적의 하이퍼 파라미터 : {grid_cv.best_params_}')\n",
        "print(f'예측 오차 : {grid_cv.best_score_}')"
      ],
      "id": "8494b5d1",
      "execution_count": null,
      "outputs": []
    },
    {
      "cell_type": "code",
      "metadata": {
        "id": "7bf5d40c"
      },
      "source": [
        "X = df.drop(['cost'], axis = 1)\n",
        "y = df['cost']\n",
        "\n",
        "X_train, X_test, y_train, y_test = train_test_split(X, y,\n",
        "                                                   test_size = 0.2,\n",
        "                                                   random_state = 99)"
      ],
      "id": "7bf5d40c",
      "execution_count": null,
      "outputs": []
    },
    {
      "cell_type": "code",
      "metadata": {
        "id": "67157fdc"
      },
      "source": [
        "%time\n",
        "lgb_r = LGBMRegressor(linear_tree = True,\n",
        "                   boosting_type = 'gbdt',\n",
        "                   objective = 'regression',\n",
        "                   n_estimators = 9000,\n",
        "                   learning_rate = 0.1,\n",
        "                   max_depth = 4,\n",
        "                   n_jobs = -1)\n",
        "\n",
        "lgb_r.fit(X_train, y_train)"
      ],
      "id": "67157fdc",
      "execution_count": null,
      "outputs": []
    },
    {
      "cell_type": "code",
      "metadata": {
        "id": "5d23f5d7"
      },
      "source": [
        "MSE = mean_squared_error(y_test, lgb_r.predict(X_test))"
      ],
      "id": "5d23f5d7",
      "execution_count": null,
      "outputs": []
    },
    {
      "cell_type": "code",
      "metadata": {
        "id": "981ec513"
      },
      "source": [
        "print(f'MSE : {MSE}')\n",
        "print(f'RMSE : {sqrt(MSE)}')"
      ],
      "id": "981ec513",
      "execution_count": null,
      "outputs": []
    },
    {
      "cell_type": "code",
      "metadata": {
        "scrolled": true,
        "id": "d5aa3080"
      },
      "source": [
        "lgb_r.feature_importances_"
      ],
      "id": "d5aa3080",
      "execution_count": null,
      "outputs": []
    },
    {
      "cell_type": "code",
      "metadata": {
        "id": "3eafa5fb"
      },
      "source": [
        "X.columns"
      ],
      "id": "3eafa5fb",
      "execution_count": null,
      "outputs": []
    },
    {
      "cell_type": "code",
      "metadata": {
        "id": "4038f067"
      },
      "source": [
        "plt.figure(figsize=(7,5))\n",
        "sns.barplot(lgb_r.feature_importances_,['gu_l', 'dong_l', 'used_y', 'square', 'per_cost_man', 'Price per squar',\n",
        "       'floor', 'top10', 'YN_r', 'YN_top10', 's_c', 'Hospital'])\n",
        "plt.show()"
      ],
      "id": "4038f067",
      "execution_count": null,
      "outputs": []
    },
    {
      "cell_type": "code",
      "metadata": {
        "id": "e1525c9f"
      },
      "source": [
        "pred = lgb_r.predict(X_test)"
      ],
      "id": "e1525c9f",
      "execution_count": null,
      "outputs": []
    },
    {
      "cell_type": "code",
      "metadata": {
        "id": "89107bf8"
      },
      "source": [
        "pred"
      ],
      "id": "89107bf8",
      "execution_count": null,
      "outputs": []
    },
    {
      "cell_type": "code",
      "metadata": {
        "id": "9a5ed9ac"
      },
      "source": [
        "pred[0]"
      ],
      "id": "9a5ed9ac",
      "execution_count": null,
      "outputs": []
    },
    {
      "cell_type": "code",
      "metadata": {
        "id": "2101e316"
      },
      "source": [
        "y_test.iloc[0]"
      ],
      "id": "2101e316",
      "execution_count": null,
      "outputs": []
    },
    {
      "cell_type": "code",
      "metadata": {
        "id": "fb7fbd8a"
      },
      "source": [
        "joblib.dump(lgb_r, 'lgb_model_re.pkl')"
      ],
      "id": "fb7fbd8a",
      "execution_count": null,
      "outputs": []
    },
    {
      "cell_type": "code",
      "metadata": {
        "id": "e7ea5eee"
      },
      "source": [
        "lgb_re_from_joblib = joblib.load('lgb_model_re.pkl') \n",
        "lgb_re_from_joblib.predict(X_test)"
      ],
      "id": "e7ea5eee",
      "execution_count": null,
      "outputs": []
    },
    {
      "cell_type": "code",
      "metadata": {
        "id": "20a75d45"
      },
      "source": [
        ""
      ],
      "id": "20a75d45",
      "execution_count": null,
      "outputs": []
    }
  ]
}