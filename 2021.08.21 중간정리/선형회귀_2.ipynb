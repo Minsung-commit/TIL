{
  "nbformat": 4,
  "nbformat_minor": 0,
  "metadata": {
    "colab": {
      "name": "Untitled1.ipynb",
      "provenance": [],
      "mount_file_id": "1RFX12MZCCC_-jxWdxemVokSB5mx8kAHs",
      "authorship_tag": "ABX9TyOv0bUUaGxVUGQNXZJxTLys",
      "include_colab_link": true
    },
    "kernelspec": {
      "name": "python3",
      "display_name": "Python 3"
    },
    "language_info": {
      "name": "python"
    }
  },
  "cells": [
    {
      "cell_type": "markdown",
      "metadata": {
        "id": "view-in-github",
        "colab_type": "text"
      },
      "source": [
        "<a href=\"https://colab.research.google.com/github/Minsung-commit/TIL/blob/master/%EC%84%A0%ED%98%95%ED%9A%8C%EA%B7%80_2.ipynb\" target=\"_parent\"><img src=\"https://colab.research.google.com/assets/colab-badge.svg\" alt=\"Open In Colab\"/></a>"
      ]
    },
    {
      "cell_type": "code",
      "metadata": {
        "id": "gMrM91e2fdTW"
      },
      "source": [
        "import pandas as pd\n",
        "import numpy as np\n",
        "import statsmodels.api as sm"
      ],
      "execution_count": 46,
      "outputs": []
    },
    {
      "cell_type": "code",
      "metadata": {
        "id": "gIjsdYKsflqm"
      },
      "source": [
        "import pandas.util.testing as tm"
      ],
      "execution_count": 47,
      "outputs": []
    },
    {
      "cell_type": "code",
      "metadata": {
        "id": "OmtXju9vfr2a"
      },
      "source": [
        "import pandas as pd\n",
        "import numpy as np\n",
        "import statsmodels.api as sm"
      ],
      "execution_count": 48,
      "outputs": []
    },
    {
      "cell_type": "code",
      "metadata": {
        "id": "TBYZXnpOftlt"
      },
      "source": [
        "rs = pd.read_csv('./result.csv')"
      ],
      "execution_count": 49,
      "outputs": []
    },
    {
      "cell_type": "code",
      "metadata": {
        "id": "2XGHhl8hf1SE"
      },
      "source": [
        "target_rs = rs['분기당_매출_금액'] / rs['점포수']"
      ],
      "execution_count": 50,
      "outputs": []
    },
    {
      "cell_type": "code",
      "metadata": {
        "id": "kck0ugylf0d5"
      },
      "source": [
        "rs['target_rs'] = target_rs"
      ],
      "execution_count": 51,
      "outputs": []
    },
    {
      "cell_type": "code",
      "metadata": {
        "id": "VcRbESpdgtAs"
      },
      "source": [
        "import scipy.stats as ss\n",
        "from sklearn.preprocessing import StandardScaler\n"
      ],
      "execution_count": 52,
      "outputs": []
    },
    {
      "cell_type": "code",
      "metadata": {
        "id": "kP3sAWdok7Xm"
      },
      "source": [
        ""
      ],
      "execution_count": 52,
      "outputs": []
    },
    {
      "cell_type": "code",
      "metadata": {
        "id": "FdnJHlcphvTy"
      },
      "source": [
        "rs_sales = rs[['분기당_매출_금액', '전년도 분기 대비 매출증감액', '생활인구(평균)', '점포수', 'target_rs']]"
      ],
      "execution_count": 53,
      "outputs": []
    },
    {
      "cell_type": "code",
      "metadata": {
        "id": "0AhzNi8di7Ru"
      },
      "source": [
        "rs_sales = pd.DataFrame(rs_sales)"
      ],
      "execution_count": 54,
      "outputs": []
    },
    {
      "cell_type": "code",
      "metadata": {
        "id": "PLVPdenpgxRM"
      },
      "source": [
        "data_standadized_skl = StandardScaler().fit_transform(rs_sales)"
      ],
      "execution_count": 55,
      "outputs": []
    },
    {
      "cell_type": "code",
      "metadata": {
        "colab": {
          "base_uri": "https://localhost:8080/"
        },
        "id": "eLwHvxMxhWJI",
        "outputId": "233a4891-440e-4e00-9c2c-a82ddb09b01b"
      },
      "source": [
        "data_standadized_skl"
      ],
      "execution_count": 56,
      "outputs": [
        {
          "output_type": "execute_result",
          "data": {
            "text/plain": [
              "array([[-6.63604489e-01,  3.16865461e-01, -3.62053006e-01,\n",
              "        -4.25338998e-01, -3.73935105e-01],\n",
              "       [-2.13237348e-01,  5.60454573e-01, -6.66829451e-02,\n",
              "        -2.97451836e-01, -2.53831857e-01],\n",
              "       [-4.51013343e-01,  3.72728072e-01, -2.17508781e-01,\n",
              "        -4.34473795e-01, -2.08344798e-01],\n",
              "       [-6.65296089e-01, -1.03742011e-01, -3.10422871e-01,\n",
              "        -4.29906396e-01, -3.70446550e-01],\n",
              "       [ 1.35699717e+00,  4.91229600e-01, -3.92050979e-02,\n",
              "         8.21560829e-01, -3.48704133e-01],\n",
              "       [-7.08368932e-01,  3.05278160e-01, -9.62098738e-02,\n",
              "        -5.71495754e-01, -4.58957666e-02],\n",
              "       [ 2.77218178e+00,  2.81135321e-01,  3.02024156e+00,\n",
              "         2.99564258e+00, -4.37980986e-01],\n",
              "       [ 3.46847524e-01,  3.14074268e-01, -7.33071126e-01,\n",
              "        -2.49494150e-01, -7.35654645e-02],\n",
              "       [-4.38057342e-02,  8.93850182e-01,  2.82343939e-01,\n",
              "        -2.90600738e-01, -1.85696933e-01],\n",
              "       [-7.65825064e-01,  3.90981388e-01, -7.31716269e-01,\n",
              "        -6.30871936e-01,  1.11588329e+00],\n",
              "       [-6.48826292e-01,  1.31754795e-01, -7.15726715e-01,\n",
              "        -2.95168137e-01, -4.50694636e-01],\n",
              "       [-6.22041591e-01,  1.81331200e-01, -3.63206315e-01,\n",
              "        -4.27622697e-01, -3.42044743e-01],\n",
              "       [-2.43914569e-01,  2.58915231e-01, -4.80844512e-02,\n",
              "        -2.97451836e-01, -2.67627525e-01],\n",
              "       [-3.83549773e-01,  2.56755064e-01, -2.02728521e-01,\n",
              "        -4.55027089e-01, -1.12459253e-01],\n",
              "       [-6.47057285e-01, -2.59876555e-01, -2.99539224e-01,\n",
              "        -4.41324893e-01, -3.44038771e-01],\n",
              "       [ 1.26462765e+00, -3.64852254e-01,  1.27265979e-03,\n",
              "         8.07858633e-01, -3.56400917e-01],\n",
              "       [-6.52400755e-01,  3.51013166e-01, -1.43730649e-01,\n",
              "        -5.69212055e-01,  4.70215089e-02],\n",
              "       [ 2.85498020e+00, -6.63100948e-01,  3.04279265e+00,\n",
              "         2.99792628e+00, -4.34472046e-01],\n",
              "       [ 3.29758547e-01, -2.30254715e-01, -7.34627532e-01,\n",
              "        -2.56345248e-01, -7.12857593e-02],\n",
              "       [-1.26829835e-01,  5.21772772e-01,  3.12072417e-01,\n",
              "        -3.04302934e-01, -2.07333696e-01],\n",
              "       [-6.68705824e-01,  5.35097134e-01, -7.33731759e-01,\n",
              "        -6.33155635e-01,  2.17683069e+00],\n",
              "       [-6.57377187e-01, -4.09667989e-02, -7.15234039e-01,\n",
              "        -2.88317039e-01, -4.57299705e-01],\n",
              "       [-5.93656861e-01,  3.08849939e-01, -3.24956793e-01,\n",
              "        -4.09353102e-01, -3.43005082e-01],\n",
              "       [-2.77894307e-01,  1.20332856e-01, -5.59336650e-02,\n",
              "        -3.04302934e-01, -2.76608792e-01],\n",
              "       [-3.65337393e-01,  3.83968934e-01, -2.20588002e-01,\n",
              "        -4.66445585e-01, -6.65628295e-02],\n",
              "       [-7.00772910e-01, -1.89379193e-01, -3.41170290e-01,\n",
              "        -4.50459690e-01, -3.74857087e-01],\n",
              "       [ 1.33930936e+00, -1.65693177e-01, -3.78054521e-02,\n",
              "         7.78170542e-01, -3.42983145e-01],\n",
              "       [-6.39139147e-01,  4.33388250e-01, -1.79371231e-01,\n",
              "        -5.62360957e-01,  2.07924503e-02],\n",
              "       [ 2.95514563e+00,  8.50085636e-02,  2.93762886e+00,\n",
              "         2.94996859e+00, -4.27812674e-01],\n",
              "       [ 6.82228298e-01,  8.18819203e-01, -7.26856698e-01,\n",
              "        -2.63196346e-01,  8.26024186e-02],\n",
              "       [-9.95955140e-02,  9.18471975e-02,  2.31150493e-01,\n",
              "        -3.20288829e-01, -1.75184672e-01],\n",
              "       [-5.90945213e-01,  6.97410059e-01, -7.25927334e-01,\n",
              "        -6.37723034e-01,  4.00650854e+00],\n",
              "       [-6.50482841e-01,  7.06780449e-02, -7.20015230e-01,\n",
              "        -3.04302934e-01, -4.47470318e-01],\n",
              "       [-1.19957185e-01,  1.46093721e+00, -3.77202773e-01,\n",
              "        -4.25338998e-01,  8.83713001e-03],\n",
              "       [-4.04872202e-02,  1.68939101e-01, -6.82281541e-02,\n",
              "        -3.18005130e-01, -1.49888850e-01],\n",
              "       [-5.07788270e-01,  1.71443386e-02, -1.67782164e-01,\n",
              "        -4.50459690e-01, -2.21995468e-01],\n",
              "       [-6.98751327e-01, -2.04059485e-01, -3.30107490e-01,\n",
              "        -4.57310788e-01, -3.65179455e-01],\n",
              "       [ 1.34122219e+00, -1.49738206e+00, -2.90388340e-03,\n",
              "         7.57617248e-01, -3.38987594e-01],\n",
              "       [-5.71286013e-01,  1.14566349e-01, -1.42879665e-01,\n",
              "        -5.62360957e-01,  1.42065331e-01],\n",
              "       [ 3.52772301e+00, -5.65637964e-01,  3.02731817e+00,\n",
              "         2.97052189e+00, -4.03637051e-01],\n",
              "       [ 1.91827726e+00,  2.67733453e+00, -7.37034923e-01,\n",
              "        -2.70047444e-01,  6.10816531e-01],\n",
              "       [ 1.34652990e-01,  1.25764313e+00,  2.63655868e-01,\n",
              "        -3.06586633e-01, -8.40146262e-02],\n",
              "       [-5.45492562e-01,  7.81454631e-01, -7.33407041e-01,\n",
              "        -6.42290433e-01,  7.10286483e+00],\n",
              "       [-6.04149832e-01,  1.01597522e-01, -7.12826649e-01,\n",
              "        -2.97451836e-01, -4.29626739e-01],\n",
              "       [ 4.07807389e-01,  2.80735332e+00, -3.62053006e-01,\n",
              "        -4.36757494e-01,  4.32687920e-01],\n",
              "       [-3.43519697e-01,  3.22400358e-02, -6.66829451e-02,\n",
              "        -3.18005130e-01, -2.94564254e-01],\n",
              "       [-6.33360918e-01, -8.79959584e-02, -2.17508781e-01,\n",
              "        -4.50459690e-01, -3.21460577e-01],\n",
              "       [-7.62491602e-01,  1.08648590e-01, -3.10422871e-01,\n",
              "        -4.64161886e-01, -4.10694580e-01],\n",
              "       [ 5.75197461e-01, -1.47233112e+00, -3.92050979e-02,\n",
              "         7.85021640e-01, -4.28895781e-01],\n",
              "       [-7.43450694e-01,  2.52089985e-01, -9.62098738e-02,\n",
              "        -5.60077257e-01, -1.76553092e-01],\n",
              "       [ 2.53378007e+00, -2.17443669e-01,  3.02024156e+00,\n",
              "         2.95910339e+00, -4.46831019e-01],\n",
              "       [ 8.97017186e-01,  1.60363097e+00, -7.33071126e-01,\n",
              "        -2.74614843e-01,  1.94087928e-01],\n",
              "       [-1.90262134e-01, -5.11124768e-03,  2.82343939e-01,\n",
              "        -3.06586633e-01, -2.34000848e-01],\n",
              "       [-7.90648917e-01,  2.75778924e-01, -7.31716269e-01,\n",
              "        -6.40006733e-01,  2.14419363e+00],\n",
              "       [-6.39692209e-01,  3.54199139e-01, -7.15726715e-01,\n",
              "        -2.92884437e-01, -4.47603604e-01],\n",
              "       [-4.89896029e-02,  1.65647391e+00, -3.63206315e-01,\n",
              "        -4.27622697e-01,  6.55478955e-02],\n",
              "       [-5.04458811e-01, -2.68578177e-01, -4.80844512e-02,\n",
              "        -3.13437731e-01, -3.74518043e-01],\n",
              "       [-7.07037482e-01, -4.13935663e-01, -2.02728521e-01,\n",
              "        -4.45892292e-01, -3.84758463e-01],\n",
              "       [-7.28912178e-01,  1.44075206e-01, -2.99539224e-01,\n",
              "        -4.77864082e-01, -3.64787067e-01],\n",
              "       [ 4.42551569e-02, -2.48514216e+00,  1.27265979e-03,\n",
              "         7.53049850e-01, -4.85130253e-01],\n",
              "       [-7.13761040e-01,  1.91404099e-01, -1.43730649e-01,\n",
              "        -5.64644656e-01, -9.96963490e-02],\n",
              "       [ 1.80723511e+00, -2.08648782e+00,  3.04279265e+00,\n",
              "         2.95681969e+00, -4.78785395e-01],\n",
              "       [ 5.47476038e-01,  8.35887884e-01, -7.34627532e-01,\n",
              "        -2.90600738e-01,  7.51560382e-02],\n",
              "       [-1.64460826e-01,  2.46202965e-01,  3.12072417e-01,\n",
              "        -3.08870333e-01, -2.19557233e-01],\n",
              "       [-8.70097549e-01, -1.31975260e-01, -7.33731759e-01,\n",
              "        -6.40006733e-01,  1.03661439e+00],\n",
              "       [-6.34283022e-01,  3.86437629e-01, -7.15234039e-01,\n",
              "        -3.04302934e-01, -4.40041411e-01],\n",
              "       [-5.93220291e-02,  1.56706306e+00, -3.24956793e-01,\n",
              "        -4.25338998e-01,  5.15292466e-02],\n",
              "       [-5.40525305e-01, -2.73397194e-01, -5.59336650e-02,\n",
              "        -3.04302934e-01, -3.97046028e-01],\n",
              "       [-7.18187789e-01, -4.81743914e-01, -2.20588002e-01,\n",
              "        -4.50459690e-01, -3.88651276e-01],\n",
              "       [-7.39138314e-01,  2.44506958e-01, -3.41170290e-01,\n",
              "        -4.73296683e-01, -3.80010158e-01],\n",
              "       [ 9.92968369e-02, -2.53049754e+00, -3.78054521e-02,\n",
              "         7.39347654e-01, -4.77678095e-01],\n",
              "       [-7.31853129e-01,  1.18997943e-01, -1.79371231e-01,\n",
              "        -5.66928355e-01, -1.20201850e-01],\n",
              "       [ 1.78535459e+00, -2.36833268e+00,  2.93762886e+00,\n",
              "         2.92028050e+00, -4.78499178e-01],\n",
              "       [ 2.07560567e-01, -7.63060823e-01, -7.26856698e-01,\n",
              "        -2.88317039e-01, -7.81191007e-02],\n",
              "       [-2.41180771e-01,  6.13784790e-03,  2.31150493e-01,\n",
              "        -3.08870333e-01, -2.55208537e-01],\n",
              "       [-8.38674312e-01, -2.38983732e-01, -7.25927334e-01,\n",
              "        -6.35439335e-01,  8.81318453e-01],\n",
              "       [-5.97237104e-01,  4.56067679e-01, -7.20015230e-01,\n",
              "        -3.06586633e-01, -4.21867258e-01],\n",
              "       [-5.02073164e-03,  5.98532144e-01, -3.77202773e-01,\n",
              "        -4.23055298e-01,  8.28433324e-02],\n",
              "       [-4.79611279e-01, -6.80978610e-01, -6.82281541e-02,\n",
              "        -3.08870333e-01, -3.66005778e-01],\n",
              "       [-7.57939313e-01, -2.44576808e-01, -1.67782164e-01,\n",
              "        -4.45892292e-01, -4.24181427e-01],\n",
              "       [-7.51645003e-01,  2.10956327e-01, -3.30107490e-01,\n",
              "        -4.75580383e-01, -3.88447716e-01],\n",
              "       [ 8.85408543e-02, -2.55975406e+00, -2.90388340e-03,\n",
              "         7.16510661e-01, -4.76852819e-01],\n",
              "       [-6.50935719e-01,  1.49167717e-01, -1.42879665e-01,\n",
              "        -5.71495754e-01,  6.84851171e-02],\n",
              "       [ 2.00588038e+00, -3.18133737e+00,  3.02731817e+00,\n",
              "         2.88830871e+00, -4.67465781e-01],\n",
              "       [ 5.91635536e-01, -2.73055329e+00, -7.37034923e-01,\n",
              "        -2.97451836e-01,  1.08122644e-01],\n",
              "       [-1.69521213e-01, -3.69334328e-01,  2.63655868e-01,\n",
              "        -3.06586633e-01, -2.24426494e-01],\n",
              "       [-8.54313226e-01, -3.80064557e-01, -7.33407041e-01,\n",
              "        -6.35439335e-01,  7.25590373e-01],\n",
              "       [-6.36866166e-01,  2.57552548e-01, -7.12826649e-01,\n",
              "        -3.11154032e-01, -4.37987201e-01]])"
            ]
          },
          "metadata": {
            "tags": []
          },
          "execution_count": 56
        }
      ]
    },
    {
      "cell_type": "code",
      "metadata": {
        "id": "_EKJwxMZjHLE"
      },
      "source": [
        "from sklearn.preprocessing import MinMaxScaler\n",
        "scaler = MinMaxScaler()\n",
        "data_standadized_skl[:] = scaler.fit_transform(data_standadized_skl[:])"
      ],
      "execution_count": 57,
      "outputs": []
    },
    {
      "cell_type": "code",
      "metadata": {
        "id": "NSvAyBFXjny7"
      },
      "source": [
        "df = pd.DataFrame(data_standadized_skl)"
      ],
      "execution_count": 58,
      "outputs": []
    },
    {
      "cell_type": "code",
      "metadata": {
        "id": "0dbVl41Yr1O5"
      },
      "source": [
        " df.columns =['분기당_매출_금액', '전년도 분기 대비 매출증감액', '생활인구(평균)', '점포수','target_rs']"
      ],
      "execution_count": 59,
      "outputs": []
    },
    {
      "cell_type": "code",
      "metadata": {
        "colab": {
          "base_uri": "https://localhost:8080/"
        },
        "id": "vLJOYNUwlIKe",
        "outputId": "ba07bbb5-3464-46dc-ea0b-633be20baa94"
      },
      "source": [
        "rs.columns"
      ],
      "execution_count": 60,
      "outputs": [
        {
          "output_type": "execute_result",
          "data": {
            "text/plain": [
              "Index(['기준_분기_코드', '상권_코드_명', '행정동명', '분기당_매출_금액', '전년도 분기 대비 매출증감액',\n",
              "       '전년도 분기 대비 매출증감율', '생활인구(평균)', '점포수', '사회적거리두기_2단계', '지원금', '년(dummy)',\n",
              "       '1분기(dummy)', '2분기(dummy)', '3분기(dummy)', '4분기(dummy)', 'target_rs'],\n",
              "      dtype='object')"
            ]
          },
          "metadata": {
            "tags": []
          },
          "execution_count": 60
        }
      ]
    },
    {
      "cell_type": "code",
      "metadata": {
        "id": "Y1w6H6ILk8P4"
      },
      "source": [
        "df[['사회적거리두기_2단계', '지원금', '년(dummy)', '2분기(dummy)', '3분기(dummy)', '4분기(dummy)']] = rs[['사회적거리두기_2단계', '지원금', '년(dummy)', '2분기(dummy)', '3분기(dummy)', '4분기(dummy)']]"
      ],
      "execution_count": 61,
      "outputs": []
    },
    {
      "cell_type": "code",
      "metadata": {
        "colab": {
          "base_uri": "https://localhost:8080/",
          "height": 434
        },
        "id": "6z-m6JWQllVE",
        "outputId": "12a4868a-09e8-4fc3-bac4-dfebb8439760"
      },
      "source": [
        "df"
      ],
      "execution_count": 62,
      "outputs": [
        {
          "output_type": "execute_result",
          "data": {
            "text/html": [
              "<div>\n",
              "<style scoped>\n",
              "    .dataframe tbody tr th:only-of-type {\n",
              "        vertical-align: middle;\n",
              "    }\n",
              "\n",
              "    .dataframe tbody tr th {\n",
              "        vertical-align: top;\n",
              "    }\n",
              "\n",
              "    .dataframe thead th {\n",
              "        text-align: right;\n",
              "    }\n",
              "</style>\n",
              "<table border=\"1\" class=\"dataframe\">\n",
              "  <thead>\n",
              "    <tr style=\"text-align: right;\">\n",
              "      <th></th>\n",
              "      <th>분기당_매출_금액</th>\n",
              "      <th>전년도 분기 대비 매출증감액</th>\n",
              "      <th>생활인구(평균)</th>\n",
              "      <th>점포수</th>\n",
              "      <th>target_rs</th>\n",
              "      <th>사회적거리두기_2단계</th>\n",
              "      <th>지원금</th>\n",
              "      <th>년(dummy)</th>\n",
              "      <th>2분기(dummy)</th>\n",
              "      <th>3분기(dummy)</th>\n",
              "      <th>4분기(dummy)</th>\n",
              "    </tr>\n",
              "  </thead>\n",
              "  <tbody>\n",
              "    <tr>\n",
              "      <th>0</th>\n",
              "      <td>0.046953</td>\n",
              "      <td>0.584135</td>\n",
              "      <td>0.099206</td>\n",
              "      <td>0.059598</td>\n",
              "      <td>0.014654</td>\n",
              "      <td>0</td>\n",
              "      <td>0</td>\n",
              "      <td>0</td>\n",
              "      <td>0</td>\n",
              "      <td>0</td>\n",
              "      <td>0</td>\n",
              "    </tr>\n",
              "    <tr>\n",
              "      <th>1</th>\n",
              "      <td>0.149360</td>\n",
              "      <td>0.624810</td>\n",
              "      <td>0.177350</td>\n",
              "      <td>0.094730</td>\n",
              "      <td>0.030482</td>\n",
              "      <td>0</td>\n",
              "      <td>0</td>\n",
              "      <td>0</td>\n",
              "      <td>0</td>\n",
              "      <td>0</td>\n",
              "      <td>0</td>\n",
              "    </tr>\n",
              "    <tr>\n",
              "      <th>2</th>\n",
              "      <td>0.095294</td>\n",
              "      <td>0.593463</td>\n",
              "      <td>0.137447</td>\n",
              "      <td>0.057089</td>\n",
              "      <td>0.036477</td>\n",
              "      <td>0</td>\n",
              "      <td>0</td>\n",
              "      <td>0</td>\n",
              "      <td>0</td>\n",
              "      <td>0</td>\n",
              "      <td>0</td>\n",
              "    </tr>\n",
              "    <tr>\n",
              "      <th>3</th>\n",
              "      <td>0.046569</td>\n",
              "      <td>0.513901</td>\n",
              "      <td>0.112865</td>\n",
              "      <td>0.058344</td>\n",
              "      <td>0.015114</td>\n",
              "      <td>0</td>\n",
              "      <td>0</td>\n",
              "      <td>0</td>\n",
              "      <td>0</td>\n",
              "      <td>0</td>\n",
              "      <td>0</td>\n",
              "    </tr>\n",
              "    <tr>\n",
              "      <th>4</th>\n",
              "      <td>0.506409</td>\n",
              "      <td>0.613250</td>\n",
              "      <td>0.184619</td>\n",
              "      <td>0.402133</td>\n",
              "      <td>0.017979</td>\n",
              "      <td>0</td>\n",
              "      <td>0</td>\n",
              "      <td>0</td>\n",
              "      <td>0</td>\n",
              "      <td>0</td>\n",
              "      <td>0</td>\n",
              "    </tr>\n",
              "    <tr>\n",
              "      <th>...</th>\n",
              "      <td>...</td>\n",
              "      <td>...</td>\n",
              "      <td>...</td>\n",
              "      <td>...</td>\n",
              "      <td>...</td>\n",
              "      <td>...</td>\n",
              "      <td>...</td>\n",
              "      <td>...</td>\n",
              "      <td>...</td>\n",
              "      <td>...</td>\n",
              "      <td>...</td>\n",
              "    </tr>\n",
              "    <tr>\n",
              "      <th>83</th>\n",
              "      <td>0.653955</td>\n",
              "      <td>0.000000</td>\n",
              "      <td>0.995906</td>\n",
              "      <td>0.969887</td>\n",
              "      <td>0.002328</td>\n",
              "      <td>1</td>\n",
              "      <td>0</td>\n",
              "      <td>1</td>\n",
              "      <td>0</td>\n",
              "      <td>0</td>\n",
              "      <td>1</td>\n",
              "    </tr>\n",
              "    <tr>\n",
              "      <th>84</th>\n",
              "      <td>0.332377</td>\n",
              "      <td>0.075273</td>\n",
              "      <td>0.000000</td>\n",
              "      <td>0.094730</td>\n",
              "      <td>0.078183</td>\n",
              "      <td>1</td>\n",
              "      <td>0</td>\n",
              "      <td>1</td>\n",
              "      <td>0</td>\n",
              "      <td>0</td>\n",
              "      <td>1</td>\n",
              "    </tr>\n",
              "    <tr>\n",
              "      <th>85</th>\n",
              "      <td>0.159301</td>\n",
              "      <td>0.469552</td>\n",
              "      <td>0.264745</td>\n",
              "      <td>0.092221</td>\n",
              "      <td>0.034357</td>\n",
              "      <td>1</td>\n",
              "      <td>0</td>\n",
              "      <td>1</td>\n",
              "      <td>0</td>\n",
              "      <td>0</td>\n",
              "      <td>1</td>\n",
              "    </tr>\n",
              "    <tr>\n",
              "      <th>86</th>\n",
              "      <td>0.003589</td>\n",
              "      <td>0.467760</td>\n",
              "      <td>0.000960</td>\n",
              "      <td>0.001882</td>\n",
              "      <td>0.159557</td>\n",
              "      <td>1</td>\n",
              "      <td>0</td>\n",
              "      <td>1</td>\n",
              "      <td>0</td>\n",
              "      <td>0</td>\n",
              "      <td>1</td>\n",
              "    </tr>\n",
              "    <tr>\n",
              "      <th>87</th>\n",
              "      <td>0.053033</td>\n",
              "      <td>0.574231</td>\n",
              "      <td>0.006405</td>\n",
              "      <td>0.090966</td>\n",
              "      <td>0.006213</td>\n",
              "      <td>1</td>\n",
              "      <td>0</td>\n",
              "      <td>1</td>\n",
              "      <td>0</td>\n",
              "      <td>0</td>\n",
              "      <td>1</td>\n",
              "    </tr>\n",
              "  </tbody>\n",
              "</table>\n",
              "<p>88 rows × 11 columns</p>\n",
              "</div>"
            ],
            "text/plain": [
              "    분기당_매출_금액  전년도 분기 대비 매출증감액  생활인구(평균)  ...  2분기(dummy)  3분기(dummy)  4분기(dummy)\n",
              "0    0.046953         0.584135  0.099206  ...           0           0           0\n",
              "1    0.149360         0.624810  0.177350  ...           0           0           0\n",
              "2    0.095294         0.593463  0.137447  ...           0           0           0\n",
              "3    0.046569         0.513901  0.112865  ...           0           0           0\n",
              "4    0.506409         0.613250  0.184619  ...           0           0           0\n",
              "..        ...              ...       ...  ...         ...         ...         ...\n",
              "83   0.653955         0.000000  0.995906  ...           0           0           1\n",
              "84   0.332377         0.075273  0.000000  ...           0           0           1\n",
              "85   0.159301         0.469552  0.264745  ...           0           0           1\n",
              "86   0.003589         0.467760  0.000960  ...           0           0           1\n",
              "87   0.053033         0.574231  0.006405  ...           0           0           1\n",
              "\n",
              "[88 rows x 11 columns]"
            ]
          },
          "metadata": {
            "tags": []
          },
          "execution_count": 62
        }
      ]
    },
    {
      "cell_type": "code",
      "metadata": {
        "id": "k0B54-5Tjtoa"
      },
      "source": [
        "import pandas_profiling"
      ],
      "execution_count": 63,
      "outputs": []
    },
    {
      "cell_type": "code",
      "metadata": {
        "colab": {
          "base_uri": "https://localhost:8080/",
          "height": 292
        },
        "id": "gM1GL31otXKk",
        "outputId": "340d25b8-5dce-400b-d20c-d2e5a36419c1"
      },
      "source": [
        "df.profile_report()"
      ],
      "execution_count": 64,
      "outputs": [
        {
          "output_type": "error",
          "ename": "AttributeError",
          "evalue": "ignored",
          "traceback": [
            "\u001b[0;31m---------------------------------------------------------------------------\u001b[0m",
            "\u001b[0;31mAttributeError\u001b[0m                            Traceback (most recent call last)",
            "\u001b[0;32m<ipython-input-64-f9a7584e785c>\u001b[0m in \u001b[0;36m<module>\u001b[0;34m()\u001b[0m\n\u001b[0;32m----> 1\u001b[0;31m \u001b[0mdf\u001b[0m\u001b[0;34m.\u001b[0m\u001b[0mprofile_report\u001b[0m\u001b[0;34m(\u001b[0m\u001b[0;34m)\u001b[0m\u001b[0;34m\u001b[0m\u001b[0;34m\u001b[0m\u001b[0m\n\u001b[0m",
            "\u001b[0;32m/usr/local/lib/python3.7/dist-packages/pandas/core/generic.py\u001b[0m in \u001b[0;36m__getattr__\u001b[0;34m(self, name)\u001b[0m\n\u001b[1;32m   5139\u001b[0m             \u001b[0;32mif\u001b[0m \u001b[0mself\u001b[0m\u001b[0;34m.\u001b[0m\u001b[0m_info_axis\u001b[0m\u001b[0;34m.\u001b[0m\u001b[0m_can_hold_identifiers_and_holds_name\u001b[0m\u001b[0;34m(\u001b[0m\u001b[0mname\u001b[0m\u001b[0;34m)\u001b[0m\u001b[0;34m:\u001b[0m\u001b[0;34m\u001b[0m\u001b[0;34m\u001b[0m\u001b[0m\n\u001b[1;32m   5140\u001b[0m                 \u001b[0;32mreturn\u001b[0m \u001b[0mself\u001b[0m\u001b[0;34m[\u001b[0m\u001b[0mname\u001b[0m\u001b[0;34m]\u001b[0m\u001b[0;34m\u001b[0m\u001b[0;34m\u001b[0m\u001b[0m\n\u001b[0;32m-> 5141\u001b[0;31m             \u001b[0;32mreturn\u001b[0m \u001b[0mobject\u001b[0m\u001b[0;34m.\u001b[0m\u001b[0m__getattribute__\u001b[0m\u001b[0;34m(\u001b[0m\u001b[0mself\u001b[0m\u001b[0;34m,\u001b[0m \u001b[0mname\u001b[0m\u001b[0;34m)\u001b[0m\u001b[0;34m\u001b[0m\u001b[0;34m\u001b[0m\u001b[0m\n\u001b[0m\u001b[1;32m   5142\u001b[0m \u001b[0;34m\u001b[0m\u001b[0m\n\u001b[1;32m   5143\u001b[0m     \u001b[0;32mdef\u001b[0m \u001b[0m__setattr__\u001b[0m\u001b[0;34m(\u001b[0m\u001b[0mself\u001b[0m\u001b[0;34m,\u001b[0m \u001b[0mname\u001b[0m\u001b[0;34m:\u001b[0m \u001b[0mstr\u001b[0m\u001b[0;34m,\u001b[0m \u001b[0mvalue\u001b[0m\u001b[0;34m)\u001b[0m \u001b[0;34m->\u001b[0m \u001b[0;32mNone\u001b[0m\u001b[0;34m:\u001b[0m\u001b[0;34m\u001b[0m\u001b[0;34m\u001b[0m\u001b[0m\n",
            "\u001b[0;31mAttributeError\u001b[0m: 'DataFrame' object has no attribute 'profile_report'"
          ]
        }
      ]
    },
    {
      "cell_type": "code",
      "metadata": {
        "id": "ox__GXIOnWAk"
      },
      "source": [
        "target_df = df['분기당_매출_금액'] / df['점포수']"
      ],
      "execution_count": null,
      "outputs": []
    },
    {
      "cell_type": "code",
      "metadata": {
        "colab": {
          "base_uri": "https://localhost:8080/"
        },
        "id": "3v5bBP8JnyA-",
        "outputId": "81e25ce2-fc89-4234-9251-c30ca969d8b2"
      },
      "source": [
        "target_df"
      ],
      "execution_count": null,
      "outputs": [
        {
          "output_type": "execute_result",
          "data": {
            "text/plain": [
              "0     0.787830\n",
              "1     1.576692\n",
              "2     1.669209\n",
              "3     0.798180\n",
              "4     1.259307\n",
              "        ...   \n",
              "83    0.674259\n",
              "84    3.508665\n",
              "85    1.727384\n",
              "86    1.907021\n",
              "87    0.583002\n",
              "Length: 88, dtype: float64"
            ]
          },
          "metadata": {
            "tags": []
          },
          "execution_count": 24
        }
      ]
    },
    {
      "cell_type": "code",
      "metadata": {
        "id": "pcwp3PgOlp94"
      },
      "source": [
        "target = df['target_rs']"
      ],
      "execution_count": 66,
      "outputs": []
    },
    {
      "cell_type": "code",
      "metadata": {
        "id": "B1djGfujjuC5"
      },
      "source": [
        "x_data = df[['전년도 분기 대비 매출증감액']]"
      ],
      "execution_count": 65,
      "outputs": []
    },
    {
      "cell_type": "code",
      "metadata": {
        "id": "LikiiArApCuN"
      },
      "source": [
        ""
      ],
      "execution_count": null,
      "outputs": []
    },
    {
      "cell_type": "code",
      "metadata": {
        "id": "7RWmb2v-pDiW"
      },
      "source": [
        "# x_data = df[['전년도 분기 대비 매출증감액', '생활인구(평균)','사회적거리두기_2단계', '지원금', '년(dummy)', '2분기(dummy)', '3분기(dummy)', '4분기(dummy)']]"
      ],
      "execution_count": null,
      "outputs": []
    },
    {
      "cell_type": "code",
      "metadata": {
        "colab": {
          "base_uri": "https://localhost:8080/",
          "height": 142
        },
        "id": "1hGHpRUW0zS0",
        "outputId": "14c1be63-8897-4e7c-bb8a-50645d5d910d"
      },
      "source": [
        "x_data.corr()"
      ],
      "execution_count": null,
      "outputs": [
        {
          "output_type": "execute_result",
          "data": {
            "text/html": [
              "<div>\n",
              "<style scoped>\n",
              "    .dataframe tbody tr th:only-of-type {\n",
              "        vertical-align: middle;\n",
              "    }\n",
              "\n",
              "    .dataframe tbody tr th {\n",
              "        vertical-align: top;\n",
              "    }\n",
              "\n",
              "    .dataframe thead th {\n",
              "        text-align: right;\n",
              "    }\n",
              "</style>\n",
              "<table border=\"1\" class=\"dataframe\">\n",
              "  <thead>\n",
              "    <tr style=\"text-align: right;\">\n",
              "      <th></th>\n",
              "      <th>전년도 분기 대비 매출증감액</th>\n",
              "      <th>생활인구(평균)</th>\n",
              "      <th>점포수</th>\n",
              "    </tr>\n",
              "  </thead>\n",
              "  <tbody>\n",
              "    <tr>\n",
              "      <th>전년도 분기 대비 매출증감액</th>\n",
              "      <td>1.000000</td>\n",
              "      <td>-0.377604</td>\n",
              "      <td>-0.469481</td>\n",
              "    </tr>\n",
              "    <tr>\n",
              "      <th>생활인구(평균)</th>\n",
              "      <td>-0.377604</td>\n",
              "      <td>1.000000</td>\n",
              "      <td>0.923246</td>\n",
              "    </tr>\n",
              "    <tr>\n",
              "      <th>점포수</th>\n",
              "      <td>-0.469481</td>\n",
              "      <td>0.923246</td>\n",
              "      <td>1.000000</td>\n",
              "    </tr>\n",
              "  </tbody>\n",
              "</table>\n",
              "</div>"
            ],
            "text/plain": [
              "                 전년도 분기 대비 매출증감액  생활인구(평균)       점포수\n",
              "전년도 분기 대비 매출증감액         1.000000 -0.377604 -0.469481\n",
              "생활인구(평균)               -0.377604  1.000000  0.923246\n",
              "점포수                    -0.469481  0.923246  1.000000"
            ]
          },
          "metadata": {
            "tags": []
          },
          "execution_count": 45
        }
      ]
    },
    {
      "cell_type": "code",
      "metadata": {
        "id": "hGOA__dkl8Ww"
      },
      "source": [
        "x_data1 = sm.add_constant(x_data, has_constant = \"add\")"
      ],
      "execution_count": 67,
      "outputs": []
    },
    {
      "cell_type": "code",
      "metadata": {
        "colab": {
          "base_uri": "https://localhost:8080/",
          "height": 432
        },
        "id": "CXj5qK7CsRJQ",
        "outputId": "2ac38694-adf9-4cd2-afbd-41a7af3ca47b"
      },
      "source": [
        "multi_model = sm.OLS(target, x_data1)\n",
        "fitted_multi_model = multi_model.fit()\n",
        "fitted_multi_model.summary()"
      ],
      "execution_count": 68,
      "outputs": [
        {
          "output_type": "execute_result",
          "data": {
            "text/html": [
              "<table class=\"simpletable\">\n",
              "<caption>OLS Regression Results</caption>\n",
              "<tr>\n",
              "  <th>Dep. Variable:</th>        <td>target_rs</td>    <th>  R-squared:         </th> <td>   0.058</td>\n",
              "</tr>\n",
              "<tr>\n",
              "  <th>Model:</th>                   <td>OLS</td>       <th>  Adj. R-squared:    </th> <td>   0.047</td>\n",
              "</tr>\n",
              "<tr>\n",
              "  <th>Method:</th>             <td>Least Squares</td>  <th>  F-statistic:       </th> <td>   5.276</td>\n",
              "</tr>\n",
              "<tr>\n",
              "  <th>Date:</th>             <td>Sat, 17 Jul 2021</td> <th>  Prob (F-statistic):</th>  <td>0.0240</td> \n",
              "</tr>\n",
              "<tr>\n",
              "  <th>Time:</th>                 <td>04:19:51</td>     <th>  Log-Likelihood:    </th> <td>  56.091</td>\n",
              "</tr>\n",
              "<tr>\n",
              "  <th>No. Observations:</th>      <td>    88</td>      <th>  AIC:               </th> <td>  -108.2</td>\n",
              "</tr>\n",
              "<tr>\n",
              "  <th>Df Residuals:</th>          <td>    86</td>      <th>  BIC:               </th> <td>  -103.2</td>\n",
              "</tr>\n",
              "<tr>\n",
              "  <th>Df Model:</th>              <td>     1</td>      <th>                     </th>     <td> </td>   \n",
              "</tr>\n",
              "<tr>\n",
              "  <th>Covariance Type:</th>      <td>nonrobust</td>    <th>                     </th>     <td> </td>   \n",
              "</tr>\n",
              "</table>\n",
              "<table class=\"simpletable\">\n",
              "<tr>\n",
              "         <td></td>            <th>coef</th>     <th>std err</th>      <th>t</th>      <th>P>|t|</th>  <th>[0.025</th>    <th>0.975]</th>  \n",
              "</tr>\n",
              "<tr>\n",
              "  <th>const</th>           <td>   -0.0369</td> <td>    0.046</td> <td>   -0.801</td> <td> 0.425</td> <td>   -0.128</td> <td>    0.055</td>\n",
              "</tr>\n",
              "<tr>\n",
              "  <th>전년도 분기 대비 매출증감액</th> <td>    0.1898</td> <td>    0.083</td> <td>    2.297</td> <td> 0.024</td> <td>    0.026</td> <td>    0.354</td>\n",
              "</tr>\n",
              "</table>\n",
              "<table class=\"simpletable\">\n",
              "<tr>\n",
              "  <th>Omnibus:</th>       <td>128.397</td> <th>  Durbin-Watson:     </th> <td>   2.245</td>\n",
              "</tr>\n",
              "<tr>\n",
              "  <th>Prob(Omnibus):</th> <td> 0.000</td>  <th>  Jarque-Bera (JB):  </th> <td>3581.247</td>\n",
              "</tr>\n",
              "<tr>\n",
              "  <th>Skew:</th>          <td> 5.045</td>  <th>  Prob(JB):          </th> <td>    0.00</td>\n",
              "</tr>\n",
              "<tr>\n",
              "  <th>Kurtosis:</th>      <td>32.579</td>  <th>  Cond. No.          </th> <td>    7.72</td>\n",
              "</tr>\n",
              "</table><br/><br/>Warnings:<br/>[1] Standard Errors assume that the covariance matrix of the errors is correctly specified."
            ],
            "text/plain": [
              "<class 'statsmodels.iolib.summary.Summary'>\n",
              "\"\"\"\n",
              "                            OLS Regression Results                            \n",
              "==============================================================================\n",
              "Dep. Variable:              target_rs   R-squared:                       0.058\n",
              "Model:                            OLS   Adj. R-squared:                  0.047\n",
              "Method:                 Least Squares   F-statistic:                     5.276\n",
              "Date:                Sat, 17 Jul 2021   Prob (F-statistic):             0.0240\n",
              "Time:                        04:19:51   Log-Likelihood:                 56.091\n",
              "No. Observations:                  88   AIC:                            -108.2\n",
              "Df Residuals:                      86   BIC:                            -103.2\n",
              "Df Model:                           1                                         \n",
              "Covariance Type:            nonrobust                                         \n",
              "===================================================================================\n",
              "                      coef    std err          t      P>|t|      [0.025      0.975]\n",
              "-----------------------------------------------------------------------------------\n",
              "const              -0.0369      0.046     -0.801      0.425      -0.128       0.055\n",
              "전년도 분기 대비 매출증감액     0.1898      0.083      2.297      0.024       0.026       0.354\n",
              "==============================================================================\n",
              "Omnibus:                      128.397   Durbin-Watson:                   2.245\n",
              "Prob(Omnibus):                  0.000   Jarque-Bera (JB):             3581.247\n",
              "Skew:                           5.045   Prob(JB):                         0.00\n",
              "Kurtosis:                      32.579   Cond. No.                         7.72\n",
              "==============================================================================\n",
              "\n",
              "Warnings:\n",
              "[1] Standard Errors assume that the covariance matrix of the errors is correctly specified.\n",
              "\"\"\""
            ]
          },
          "metadata": {
            "tags": []
          },
          "execution_count": 68
        }
      ]
    },
    {
      "cell_type": "code",
      "metadata": {
        "id": "ywdYTtmhu1tG"
      },
      "source": [
        ""
      ],
      "execution_count": null,
      "outputs": []
    }
  ]
}