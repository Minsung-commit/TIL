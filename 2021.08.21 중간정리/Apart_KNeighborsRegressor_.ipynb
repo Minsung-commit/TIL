{
  "nbformat": 4,
  "nbformat_minor": 5,
  "metadata": {
    "kernelspec": {
      "display_name": "Python 3",
      "language": "python",
      "name": "python3"
    },
    "language_info": {
      "codemirror_mode": {
        "name": "ipython",
        "version": 3
      },
      "file_extension": ".py",
      "mimetype": "text/x-python",
      "name": "python",
      "nbconvert_exporter": "python",
      "pygments_lexer": "ipython3",
      "version": "3.7.11"
    },
    "colab": {
      "name": "Apart_KNeighborsRegressor_.ipynb",
      "provenance": [],
      "include_colab_link": true
    }
  },
  "cells": [
    {
      "cell_type": "markdown",
      "metadata": {
        "id": "view-in-github",
        "colab_type": "text"
      },
      "source": [
        "<a href=\"https://colab.research.google.com/github/Minsung-commit/TIL/blob/master/Apart_KNeighborsRegressor_.ipynb\" target=\"_parent\"><img src=\"https://colab.research.google.com/assets/colab-badge.svg\" alt=\"Open In Colab\"/></a>"
      ]
    },
    {
      "cell_type": "code",
      "metadata": {
        "id": "16673cff"
      },
      "source": [
        "import pandas as pd\n",
        "import numpy as np\n",
        "import matplotlib.pyplot as plt\n",
        "import seaborn as sns\n",
        "\n",
        "from sklearn.neighbors import KNeighborsRegressor\n",
        "from sklearn.model_selection import train_test_split\n",
        "from sklearn.metrics import mean_squared_error\n",
        "from sklearn.preprocessing import MinMaxScaler"
      ],
      "id": "16673cff",
      "execution_count": 1,
      "outputs": []
    },
    {
      "cell_type": "code",
      "metadata": {
        "scrolled": false,
        "id": "5a220f6b"
      },
      "source": [
        "df = pd.read_csv('./seoul_4.csv')"
      ],
      "id": "5a220f6b",
      "execution_count": 2,
      "outputs": []
    },
    {
      "cell_type": "code",
      "metadata": {
        "id": "114168fa"
      },
      "source": [
        "# df.drop(['Unnamed: 0'], axis=1, inplace = True)"
      ],
      "id": "114168fa",
      "execution_count": 3,
      "outputs": []
    },
    {
      "cell_type": "code",
      "metadata": {
        "scrolled": true,
        "id": "a12c6f5d",
        "colab": {
          "base_uri": "https://localhost:8080/"
        },
        "outputId": "04079bda-113b-4fad-91d2-188255668d9e"
      },
      "source": [
        "df.info()"
      ],
      "id": "a12c6f5d",
      "execution_count": 4,
      "outputs": [
        {
          "output_type": "stream",
          "text": [
            "<class 'pandas.core.frame.DataFrame'>\n",
            "RangeIndex: 114142 entries, 0 to 114141\n",
            "Data columns (total 10 columns):\n",
            " #   Column        Non-Null Count   Dtype  \n",
            "---  ------        --------------   -----  \n",
            " 0   gu_l          114142 non-null  int64  \n",
            " 1   dong_l        114142 non-null  int64  \n",
            " 2   s_c           114142 non-null  int64  \n",
            " 3   used_y        114142 non-null  int64  \n",
            " 4   square        114142 non-null  float64\n",
            " 5   per_cost_man  114142 non-null  float64\n",
            " 6   floor         114142 non-null  int64  \n",
            " 7   YN_r          114142 non-null  int64  \n",
            " 8   YN_top10      114142 non-null  int64  \n",
            " 9   cost          114142 non-null  int64  \n",
            "dtypes: float64(2), int64(8)\n",
            "memory usage: 8.7 MB\n"
          ],
          "name": "stdout"
        }
      ]
    },
    {
      "cell_type": "code",
      "metadata": {
        "id": "0ea697e8"
      },
      "source": [
        "# df.columns"
      ],
      "id": "0ea697e8",
      "execution_count": 5,
      "outputs": []
    },
    {
      "cell_type": "code",
      "metadata": {
        "id": "55059dcb"
      },
      "source": [
        "X = df.drop(['cost','square','per_cost_man'], axis = 1)\n",
        "y = df['cost']\n",
        "\n",
        "Norm = MinMaxScaler()\n",
        "X_Norm = Norm.fit_transform(X)"
      ],
      "id": "55059dcb",
      "execution_count": 6,
      "outputs": []
    },
    {
      "cell_type": "code",
      "metadata": {
        "id": "26c93823"
      },
      "source": [
        "X_train, X_test, y_train, y_test = train_test_split(X_Norm, y, test_size = 0.3, random_state = 0)"
      ],
      "id": "26c93823",
      "execution_count": 7,
      "outputs": []
    },
    {
      "cell_type": "code",
      "metadata": {
        "colab": {
          "base_uri": "https://localhost:8080/",
          "height": 353
        },
        "id": "WY1S0y4_WPPY",
        "outputId": "fa86e24a-e871-4ee7-dae4-31ffed32b539"
      },
      "source": [
        "# 최솟값 확인\n",
        "y_train.describe()\n",
        "# 로그 변환\n",
        "df_log = np.log(y_train)\n",
        "# skewness 확인\n",
        "print(df_log.skew())\n",
        "# KDE plot 출력\n",
        "sns.distplot(df_log);"
      ],
      "id": "WY1S0y4_WPPY",
      "execution_count": 8,
      "outputs": [
        {
          "output_type": "stream",
          "text": [
            "-0.22310401262362906\n"
          ],
          "name": "stdout"
        },
        {
          "output_type": "stream",
          "text": [
            "/usr/local/lib/python3.7/dist-packages/seaborn/distributions.py:2557: FutureWarning: `distplot` is a deprecated function and will be removed in a future version. Please adapt your code to use either `displot` (a figure-level function with similar flexibility) or `histplot` (an axes-level function for histograms).\n",
            "  warnings.warn(msg, FutureWarning)\n"
          ],
          "name": "stderr"
        },
        {
          "output_type": "display_data",
          "data": {
            "image/png": "[encoded data removed]",
            "text/plain": [
              "<Figure size 432x288 with 1 Axes>"
            ]
          },
          "metadata": {
            "tags": [],
            "needs_background": "light"
          }
        }
      ]
    },
    {
      "cell_type": "code",
      "metadata": {
        "colab": {
          "base_uri": "https://localhost:8080/",
          "height": 371
        },
        "id": "WvB9M5_hYDe8",
        "outputId": "3efae6ed-82c8-4f00-e245-bbb9e024895c"
      },
      "source": [
        "# 루트 변환\n",
        "df_root = np.sqrt(y_train)\n",
        "# skewness 확인\n",
        "print(df_root.skew())\n",
        "# KDE plot 출력\n",
        "sns.distplot(df_root)"
      ],
      "id": "WvB9M5_hYDe8",
      "execution_count": 21,
      "outputs": [
        {
          "output_type": "stream",
          "text": [
            "-0.33861652613335447\n"
          ],
          "name": "stdout"
        },
        {
          "output_type": "stream",
          "text": [
            "/usr/local/lib/python3.7/dist-packages/seaborn/distributions.py:2557: FutureWarning: `distplot` is a deprecated function and will be removed in a future version. Please adapt your code to use either `displot` (a figure-level function with similar flexibility) or `histplot` (an axes-level function for histograms).\n",
            "  warnings.warn(msg, FutureWarning)\n"
          ],
          "name": "stderr"
        },
        {
          "output_type": "execute_result",
          "data": {
            "text/plain": [
              "<matplotlib.axes._subplots.AxesSubplot at 0x7fdc519da890>"
            ]
          },
          "metadata": {
            "tags": []
          },
          "execution_count": 21
        },
        {
          "output_type": "display_data",
          "data": {
            "image/png": "[encoded data removed]",
            "text/plain": [
              "<Figure size 432x288 with 1 Axes>"
            ]
          },
          "metadata": {
            "tags": [],
            "needs_background": "light"
          }
        }
      ]
    },
    {
      "cell_type": "code",
      "metadata": {
        "colab": {
          "base_uri": "https://localhost:8080/",
          "height": 339
        },
        "id": "P-ql9oiPYH0K",
        "outputId": "02bf9045-4907-4ec4-9f29-27128b5f9bbb"
      },
      "source": [
        "from scipy import stats\n",
        "# box-cox 변환\n",
        "df_boxcox = pd.Series(stats.boxcox(y_train)[0])\n",
        "# skewness 확인\n",
        "print(df_boxcox.skew())\n",
        "# KDE plot 출력\n",
        "sns.distplot(df_boxcox);"
      ],
      "id": "P-ql9oiPYH0K",
      "execution_count": 23,
      "outputs": [
        {
          "output_type": "stream",
          "text": [
            "0.023394281224848275\n"
          ],
          "name": "stdout"
        },
        {
          "output_type": "stream",
          "text": [
            "/usr/local/lib/python3.7/dist-packages/seaborn/distributions.py:2557: FutureWarning: `distplot` is a deprecated function and will be removed in a future version. Please adapt your code to use either `displot` (a figure-level function with similar flexibility) or `histplot` (an axes-level function for histograms).\n",
            "  warnings.warn(msg, FutureWarning)\n"
          ],
          "name": "stderr"
        },
        {
          "output_type": "display_data",
          "data": {
            "image/png": "[encoded data removed]",
            "text/plain": [
              "<Figure size 432x288 with 1 Axes>"
            ]
          },
          "metadata": {
            "tags": [],
            "needs_background": "light"
          }
        }
      ]
    },
    {
      "cell_type": "code",
      "metadata": {
        "id": "7LyB2_TbXV-m"
      },
      "source": [
        "y_train = np.log(y_train)"
      ],
      "id": "7LyB2_TbXV-m",
      "execution_count": 9,
      "outputs": []
    },
    {
      "cell_type": "code",
      "metadata": {
        "id": "EriIIaCVXhr0"
      },
      "source": [
        "y_test = np.log(y_test)"
      ],
      "id": "EriIIaCVXhr0",
      "execution_count": 10,
      "outputs": []
    },
    {
      "cell_type": "code",
      "metadata": {
        "id": "Rybsp_y1aZxa"
      },
      "source": [
        "def get_rmse(model):\n",
        "  pred = model.predict(X_test)\n",
        "  mse = mean_squared_error(y_test, pred)\n",
        "  rmse = np.sqrt(mse)\n",
        "  print('{} 로그 변환된 rmse: {}'.format(model.__class__.__name__,np.round(rmse,3)))\n",
        "\n",
        "def get_rmses(models) : \n",
        "  rmses = []\n",
        "  for model in models:\n",
        "    rmse = get_rmse(model)\n",
        "    rmses.append(rmse)\n",
        "  return rmses\n"
      ],
      "id": "Rybsp_y1aZxa",
      "execution_count": 11,
      "outputs": []
    },
    {
      "cell_type": "code",
      "metadata": {
        "colab": {
          "base_uri": "https://localhost:8080/"
        },
        "id": "wlj5KzGjbC5_",
        "outputId": "8a18e923-492d-4921-c292-8c4e413b5da2"
      },
      "source": [
        "from sklearn.linear_model import LinearRegression, Ridge, Lasso\n",
        "\n",
        "lr_reg = LinearRegression()\n",
        "lr_reg.fit(X_train, y_train)\n",
        "\n",
        "ridge_reg = Ridge()\n",
        "ridge_reg.fit(X_train, y_train)\n",
        "\n",
        "lasso_reg = Lasso()\n",
        "lasso_reg.fit(X_train, y_train)\n",
        "\n",
        "models = [lr_reg, ridge_reg, lasso_reg]\n",
        "get_rmses(models)"
      ],
      "id": "wlj5KzGjbC5_",
      "execution_count": 12,
      "outputs": [
        {
          "output_type": "stream",
          "text": [
            "LinearRegression 로그 변환된 rmse: 0.615\n",
            "Ridge 로그 변환된 rmse: 0.615\n",
            "Lasso 로그 변환된 rmse: 0.635\n"
          ],
          "name": "stdout"
        },
        {
          "output_type": "execute_result",
          "data": {
            "text/plain": [
              "[None, None, None]"
            ]
          },
          "metadata": {
            "tags": []
          },
          "execution_count": 12
        }
      ]
    },
    {
      "cell_type": "code",
      "metadata": {
        "id": "qMyRuJi-b7uA"
      },
      "source": [
        "def get_top_bottom_coef(model):\n",
        "  coef = pd.Series(model.coef_, index=X.columns)\n",
        "\n",
        "  coef_high = coef.sort_values(ascending=False).head(10)\n",
        "  coef_low = coef.sort_values(ascending=False).tail(10)\n",
        "  return coef_high, coef_low"
      ],
      "id": "qMyRuJi-b7uA",
      "execution_count": 13,
      "outputs": []
    },
    {
      "cell_type": "code",
      "metadata": {
        "id": "xEr9Kwe_cnWi"
      },
      "source": [
        "def visualize_coef(models):\n",
        "  fig, axs = plt.subplots(figsize=(24,10), nrows=1, ncols=3)\n",
        "  fig.tight_layout()\n",
        "  for i_num, model in enumerate(models):\n",
        "    coef_high, coef_low = get_top_bottom_coef(model)\n",
        "    coef_concat = pd.concat( [coef_high, coef_low] )\n",
        "\n",
        "    axs[i_num].set_title(model.__class__.__name__+'Coefficients', size=25)\n",
        "    axs[i_num].tick_params(axis='y', direction=\"in\", pad=-120)\n",
        "    for label in (axs[i_num].get_xticklabels() + axs[i_num].get_yticklabels()):\n",
        "      label.set_fontsize(22)\n",
        "\n",
        "    sns.barplot(x=coef_concat.values, y=coef_concat.index, ax=axs[i_num]) "
      ],
      "id": "xEr9Kwe_cnWi",
      "execution_count": 14,
      "outputs": []
    },
    {
      "cell_type": "code",
      "metadata": {
        "colab": {
          "base_uri": "https://localhost:8080/",
          "height": 386
        },
        "id": "2yG49AAceJ--",
        "outputId": "b8a5cfa6-8eed-4da1-bfc2-e702d0918815"
      },
      "source": [
        "visualize_coef(models)"
      ],
      "id": "2yG49AAceJ--",
      "execution_count": 15,
      "outputs": [
        {
          "output_type": "display_data",
          "data": {
            "image/png": "[encoded data removed]",
            "text/plain": [
              "<Figure size 1728x720 with 3 Axes>"
            ]
          },
          "metadata": {
            "tags": [],
            "needs_background": "light"
          }
        }
      ]
    },
    {
      "cell_type": "code",
      "metadata": {
        "id": "4b9c2bdc"
      },
      "source": [
        "re = KNeighborsRegressor(n_neighbors = 24, weights = \"distance\") # 구가 24개"
      ],
      "id": "4b9c2bdc",
      "execution_count": 16,
      "outputs": []
    },
    {
      "cell_type": "code",
      "metadata": {
        "id": "c1abe3a2",
        "colab": {
          "base_uri": "https://localhost:8080/"
        },
        "outputId": "953f772d-ee66-4787-da47-ffd9914abca4"
      },
      "source": [
        "re.fit(X_train, y_train)"
      ],
      "id": "c1abe3a2",
      "execution_count": 17,
      "outputs": [
        {
          "output_type": "execute_result",
          "data": {
            "text/plain": [
              "KNeighborsRegressor(algorithm='auto', leaf_size=30, metric='minkowski',\n",
              "                    metric_params=None, n_jobs=None, n_neighbors=24, p=2,\n",
              "                    weights='distance')"
            ]
          },
          "metadata": {
            "tags": []
          },
          "execution_count": 17
        }
      ]
    },
    {
      "cell_type": "code",
      "metadata": {
        "id": "9ebee92a",
        "colab": {
          "base_uri": "https://localhost:8080/",
          "height": 534
        },
        "outputId": "13178d11-04dc-4350-f5ba-5a7a74a1e5f4"
      },
      "source": [
        "# 결정 계수\n",
        "print(f'R-squre = {re.score(X_test, y_test)}')\n",
        "\n",
        "pred = re.predict(X_test)\n",
        "\n",
        "from math import sqrt\n",
        "# MSE 확인\n",
        "print(f'mse = {mean_squared_error(y_test, pred)}')\n",
        "# RMSE\n",
        "print(f'RMSE = {sqrt(mean_squared_error(y_test, pred))}')\n",
        "\n",
        "y_X = re.predict(X_Norm)\n",
        "\n",
        "plt.figure(figsize = (9,6))\n",
        "ax1=sns.distplot(y, hist = False, label='y')\n",
        "ax2=sns.distplot(y_X, hist=False, label='y_X', ax=ax1)\n",
        "plt.show()"
      ],
      "id": "9ebee92a",
      "execution_count": 18,
      "outputs": [
        {
          "output_type": "stream",
          "text": [
            "R-squre = 0.7708003065997803\n",
            "mse = 0.09229714370382705\n",
            "RMSE = 0.30380444977621224\n"
          ],
          "name": "stdout"
        },
        {
          "output_type": "stream",
          "text": [
            "/usr/local/lib/python3.7/dist-packages/seaborn/distributions.py:2557: FutureWarning: `distplot` is a deprecated function and will be removed in a future version. Please adapt your code to use either `displot` (a figure-level function with similar flexibility) or `kdeplot` (an axes-level function for kernel density plots).\n",
            "  warnings.warn(msg, FutureWarning)\n",
            "/usr/local/lib/python3.7/dist-packages/seaborn/distributions.py:2557: FutureWarning: `distplot` is a deprecated function and will be removed in a future version. Please adapt your code to use either `displot` (a figure-level function with similar flexibility) or `kdeplot` (an axes-level function for kernel density plots).\n",
            "  warnings.warn(msg, FutureWarning)\n"
          ],
          "name": "stderr"
        },
        {
          "output_type": "display_data",
          "data": {
            "image/png": "[encoded data removed]",
            "text/plain": [
              "<Figure size 648x432 with 1 Axes>"
            ]
          },
          "metadata": {
            "tags": [],
            "needs_background": "light"
          }
        }
      ]
    },
    {
      "cell_type": "code",
      "metadata": {
        "id": "e3328ecc"
      },
      "source": [
        "# 결정계수는 높게 나오지만 오차가 1억.. 너무 크다\n",
        "# y값을 정규화해서 해봄 =====================실패 y값 정규화하면 이상해짐\n",
        "\n",
        "Norm_1 = MinMaxScaler()\n",
        "df_Norm = Norm.fit_transform(df)"
      ],
      "id": "e3328ecc",
      "execution_count": null,
      "outputs": []
    },
    {
      "cell_type": "code",
      "metadata": {
        "id": "65b45c23"
      },
      "source": [
        "df_1 = pd.DataFrame(df_Norm)"
      ],
      "id": "65b45c23",
      "execution_count": null,
      "outputs": []
    },
    {
      "cell_type": "code",
      "metadata": {
        "id": "5d5977b9",
        "outputId": "b8ae30e4-83b4-441b-96aa-0505a8b260ee"
      },
      "source": [
        "df_1.head()"
      ],
      "id": "5d5977b9",
      "execution_count": null,
      "outputs": [
        {
          "output_type": "execute_result",
          "data": {
            "text/html": [
              "<div>\n",
              "<style scoped>\n",
              "    .dataframe tbody tr th:only-of-type {\n",
              "        vertical-align: middle;\n",
              "    }\n",
              "\n",
              "    .dataframe tbody tr th {\n",
              "        vertical-align: top;\n",
              "    }\n",
              "\n",
              "    .dataframe thead th {\n",
              "        text-align: right;\n",
              "    }\n",
              "</style>\n",
              "<table border=\"1\" class=\"dataframe\">\n",
              "  <thead>\n",
              "    <tr style=\"text-align: right;\">\n",
              "      <th></th>\n",
              "      <th>0</th>\n",
              "      <th>1</th>\n",
              "      <th>2</th>\n",
              "      <th>3</th>\n",
              "      <th>4</th>\n",
              "      <th>5</th>\n",
              "      <th>6</th>\n",
              "      <th>7</th>\n",
              "      <th>8</th>\n",
              "    </tr>\n",
              "  </thead>\n",
              "  <tbody>\n",
              "    <tr>\n",
              "      <th>0</th>\n",
              "      <td>0.0</td>\n",
              "      <td>0.02454</td>\n",
              "      <td>0.533333</td>\n",
              "      <td>0.216654</td>\n",
              "      <td>0.334067</td>\n",
              "      <td>0.100000</td>\n",
              "      <td>1.0</td>\n",
              "      <td>1.0</td>\n",
              "      <td>0.125437</td>\n",
              "    </tr>\n",
              "    <tr>\n",
              "      <th>1</th>\n",
              "      <td>0.0</td>\n",
              "      <td>0.02454</td>\n",
              "      <td>0.550000</td>\n",
              "      <td>0.142213</td>\n",
              "      <td>0.464748</td>\n",
              "      <td>0.100000</td>\n",
              "      <td>1.0</td>\n",
              "      <td>1.0</td>\n",
              "      <td>0.120629</td>\n",
              "    </tr>\n",
              "    <tr>\n",
              "      <th>2</th>\n",
              "      <td>0.0</td>\n",
              "      <td>0.02454</td>\n",
              "      <td>0.550000</td>\n",
              "      <td>0.223911</td>\n",
              "      <td>0.355145</td>\n",
              "      <td>0.100000</td>\n",
              "      <td>1.0</td>\n",
              "      <td>1.0</td>\n",
              "      <td>0.137019</td>\n",
              "    </tr>\n",
              "    <tr>\n",
              "      <th>3</th>\n",
              "      <td>0.0</td>\n",
              "      <td>0.02454</td>\n",
              "      <td>0.550000</td>\n",
              "      <td>0.223911</td>\n",
              "      <td>0.348691</td>\n",
              "      <td>0.114286</td>\n",
              "      <td>1.0</td>\n",
              "      <td>1.0</td>\n",
              "      <td>0.134615</td>\n",
              "    </tr>\n",
              "    <tr>\n",
              "      <th>4</th>\n",
              "      <td>0.0</td>\n",
              "      <td>0.02454</td>\n",
              "      <td>0.550000</td>\n",
              "      <td>0.223911</td>\n",
              "      <td>0.325222</td>\n",
              "      <td>0.071429</td>\n",
              "      <td>1.0</td>\n",
              "      <td>1.0</td>\n",
              "      <td>0.125874</td>\n",
              "    </tr>\n",
              "  </tbody>\n",
              "</table>\n",
              "</div>"
            ],
            "text/plain": [
              "     0        1         2         3         4         5    6    7         8\n",
              "0  0.0  0.02454  0.533333  0.216654  0.334067  0.100000  1.0  1.0  0.125437\n",
              "1  0.0  0.02454  0.550000  0.142213  0.464748  0.100000  1.0  1.0  0.120629\n",
              "2  0.0  0.02454  0.550000  0.223911  0.355145  0.100000  1.0  1.0  0.137019\n",
              "3  0.0  0.02454  0.550000  0.223911  0.348691  0.114286  1.0  1.0  0.134615\n",
              "4  0.0  0.02454  0.550000  0.223911  0.325222  0.071429  1.0  1.0  0.125874"
            ]
          },
          "metadata": {
            "tags": []
          },
          "execution_count": 16
        }
      ]
    },
    {
      "cell_type": "code",
      "metadata": {
        "id": "998ba97a",
        "outputId": "ef47acf1-a699-428f-98b2-ddcd90470e25"
      },
      "source": [
        "df_1.describe()"
      ],
      "id": "998ba97a",
      "execution_count": null,
      "outputs": [
        {
          "output_type": "execute_result",
          "data": {
            "text/html": [
              "<div>\n",
              "<style scoped>\n",
              "    .dataframe tbody tr th:only-of-type {\n",
              "        vertical-align: middle;\n",
              "    }\n",
              "\n",
              "    .dataframe tbody tr th {\n",
              "        vertical-align: top;\n",
              "    }\n",
              "\n",
              "    .dataframe thead th {\n",
              "        text-align: right;\n",
              "    }\n",
              "</style>\n",
              "<table border=\"1\" class=\"dataframe\">\n",
              "  <thead>\n",
              "    <tr style=\"text-align: right;\">\n",
              "      <th></th>\n",
              "      <th>0</th>\n",
              "      <th>1</th>\n",
              "      <th>2</th>\n",
              "      <th>3</th>\n",
              "      <th>4</th>\n",
              "      <th>5</th>\n",
              "      <th>6</th>\n",
              "      <th>7</th>\n",
              "      <th>8</th>\n",
              "    </tr>\n",
              "  </thead>\n",
              "  <tbody>\n",
              "    <tr>\n",
              "      <th>count</th>\n",
              "      <td>114142.000000</td>\n",
              "      <td>114142.000000</td>\n",
              "      <td>114142.000000</td>\n",
              "      <td>114142.000000</td>\n",
              "      <td>114142.000000</td>\n",
              "      <td>114142.000000</td>\n",
              "      <td>114142.000000</td>\n",
              "      <td>114142.000000</td>\n",
              "      <td>114142.000000</td>\n",
              "    </tr>\n",
              "    <tr>\n",
              "      <th>mean</th>\n",
              "      <td>0.454034</td>\n",
              "      <td>0.464814</td>\n",
              "      <td>0.325694</td>\n",
              "      <td>0.209294</td>\n",
              "      <td>0.192472</td>\n",
              "      <td>0.171861</td>\n",
              "      <td>0.374656</td>\n",
              "      <td>0.294826</td>\n",
              "      <td>0.072307</td>\n",
              "    </tr>\n",
              "    <tr>\n",
              "      <th>std</th>\n",
              "      <td>0.281896</td>\n",
              "      <td>0.278980</td>\n",
              "      <td>0.164603</td>\n",
              "      <td>0.100030</td>\n",
              "      <td>0.107717</td>\n",
              "      <td>0.087510</td>\n",
              "      <td>0.484036</td>\n",
              "      <td>0.455966</td>\n",
              "      <td>0.053921</td>\n",
              "    </tr>\n",
              "    <tr>\n",
              "      <th>min</th>\n",
              "      <td>0.000000</td>\n",
              "      <td>0.000000</td>\n",
              "      <td>0.000000</td>\n",
              "      <td>0.000000</td>\n",
              "      <td>0.000000</td>\n",
              "      <td>0.000000</td>\n",
              "      <td>0.000000</td>\n",
              "      <td>0.000000</td>\n",
              "      <td>0.000000</td>\n",
              "    </tr>\n",
              "    <tr>\n",
              "      <th>25%</th>\n",
              "      <td>0.250000</td>\n",
              "      <td>0.248466</td>\n",
              "      <td>0.216667</td>\n",
              "      <td>0.156663</td>\n",
              "      <td>0.118693</td>\n",
              "      <td>0.100000</td>\n",
              "      <td>0.000000</td>\n",
              "      <td>0.000000</td>\n",
              "      <td>0.038462</td>\n",
              "    </tr>\n",
              "    <tr>\n",
              "      <th>50%</th>\n",
              "      <td>0.416667</td>\n",
              "      <td>0.441718</td>\n",
              "      <td>0.316667</td>\n",
              "      <td>0.212600</td>\n",
              "      <td>0.166944</td>\n",
              "      <td>0.157143</td>\n",
              "      <td>0.000000</td>\n",
              "      <td>0.000000</td>\n",
              "      <td>0.059441</td>\n",
              "    </tr>\n",
              "    <tr>\n",
              "      <th>75%</th>\n",
              "      <td>0.708333</td>\n",
              "      <td>0.720859</td>\n",
              "      <td>0.433333</td>\n",
              "      <td>0.240225</td>\n",
              "      <td>0.237518</td>\n",
              "      <td>0.228571</td>\n",
              "      <td>1.000000</td>\n",
              "      <td>1.000000</td>\n",
              "      <td>0.090035</td>\n",
              "    </tr>\n",
              "    <tr>\n",
              "      <th>max</th>\n",
              "      <td>1.000000</td>\n",
              "      <td>1.000000</td>\n",
              "      <td>1.000000</td>\n",
              "      <td>1.000000</td>\n",
              "      <td>1.000000</td>\n",
              "      <td>1.000000</td>\n",
              "      <td>1.000000</td>\n",
              "      <td>1.000000</td>\n",
              "      <td>1.000000</td>\n",
              "    </tr>\n",
              "  </tbody>\n",
              "</table>\n",
              "</div>"
            ],
            "text/plain": [
              "                   0              1              2              3  \\\n",
              "count  114142.000000  114142.000000  114142.000000  114142.000000   \n",
              "mean        0.454034       0.464814       0.325694       0.209294   \n",
              "std         0.281896       0.278980       0.164603       0.100030   \n",
              "min         0.000000       0.000000       0.000000       0.000000   \n",
              "25%         0.250000       0.248466       0.216667       0.156663   \n",
              "50%         0.416667       0.441718       0.316667       0.212600   \n",
              "75%         0.708333       0.720859       0.433333       0.240225   \n",
              "max         1.000000       1.000000       1.000000       1.000000   \n",
              "\n",
              "                   4              5              6              7  \\\n",
              "count  114142.000000  114142.000000  114142.000000  114142.000000   \n",
              "mean        0.192472       0.171861       0.374656       0.294826   \n",
              "std         0.107717       0.087510       0.484036       0.455966   \n",
              "min         0.000000       0.000000       0.000000       0.000000   \n",
              "25%         0.118693       0.100000       0.000000       0.000000   \n",
              "50%         0.166944       0.157143       0.000000       0.000000   \n",
              "75%         0.237518       0.228571       1.000000       1.000000   \n",
              "max         1.000000       1.000000       1.000000       1.000000   \n",
              "\n",
              "                   8  \n",
              "count  114142.000000  \n",
              "mean        0.072307  \n",
              "std         0.053921  \n",
              "min         0.000000  \n",
              "25%         0.038462  \n",
              "50%         0.059441  \n",
              "75%         0.090035  \n",
              "max         1.000000  "
            ]
          },
          "metadata": {
            "tags": []
          },
          "execution_count": 17
        }
      ]
    },
    {
      "cell_type": "code",
      "metadata": {
        "id": "c85d4416"
      },
      "source": [
        "df_1.columns = ['gu_l', 'dong_l', 'used_y', 'square', 'per_cost_man', 'floor', 'YN_r',\n",
        "       'YN_top10', 'cost']"
      ],
      "id": "c85d4416",
      "execution_count": null,
      "outputs": []
    },
    {
      "cell_type": "code",
      "metadata": {
        "id": "eef85fe8",
        "outputId": "7b95ffb8-d3cc-4f92-dcc6-6badf8612016"
      },
      "source": [
        "df_1.head()"
      ],
      "id": "eef85fe8",
      "execution_count": null,
      "outputs": [
        {
          "output_type": "execute_result",
          "data": {
            "text/html": [
              "<div>\n",
              "<style scoped>\n",
              "    .dataframe tbody tr th:only-of-type {\n",
              "        vertical-align: middle;\n",
              "    }\n",
              "\n",
              "    .dataframe tbody tr th {\n",
              "        vertical-align: top;\n",
              "    }\n",
              "\n",
              "    .dataframe thead th {\n",
              "        text-align: right;\n",
              "    }\n",
              "</style>\n",
              "<table border=\"1\" class=\"dataframe\">\n",
              "  <thead>\n",
              "    <tr style=\"text-align: right;\">\n",
              "      <th></th>\n",
              "      <th>gu_l</th>\n",
              "      <th>dong_l</th>\n",
              "      <th>used_y</th>\n",
              "      <th>square</th>\n",
              "      <th>per_cost_man</th>\n",
              "      <th>floor</th>\n",
              "      <th>YN_r</th>\n",
              "      <th>YN_top10</th>\n",
              "      <th>cost</th>\n",
              "    </tr>\n",
              "  </thead>\n",
              "  <tbody>\n",
              "    <tr>\n",
              "      <th>0</th>\n",
              "      <td>0.0</td>\n",
              "      <td>0.02454</td>\n",
              "      <td>0.533333</td>\n",
              "      <td>0.216654</td>\n",
              "      <td>0.334067</td>\n",
              "      <td>0.100000</td>\n",
              "      <td>1.0</td>\n",
              "      <td>1.0</td>\n",
              "      <td>0.125437</td>\n",
              "    </tr>\n",
              "    <tr>\n",
              "      <th>1</th>\n",
              "      <td>0.0</td>\n",
              "      <td>0.02454</td>\n",
              "      <td>0.550000</td>\n",
              "      <td>0.142213</td>\n",
              "      <td>0.464748</td>\n",
              "      <td>0.100000</td>\n",
              "      <td>1.0</td>\n",
              "      <td>1.0</td>\n",
              "      <td>0.120629</td>\n",
              "    </tr>\n",
              "    <tr>\n",
              "      <th>2</th>\n",
              "      <td>0.0</td>\n",
              "      <td>0.02454</td>\n",
              "      <td>0.550000</td>\n",
              "      <td>0.223911</td>\n",
              "      <td>0.355145</td>\n",
              "      <td>0.100000</td>\n",
              "      <td>1.0</td>\n",
              "      <td>1.0</td>\n",
              "      <td>0.137019</td>\n",
              "    </tr>\n",
              "    <tr>\n",
              "      <th>3</th>\n",
              "      <td>0.0</td>\n",
              "      <td>0.02454</td>\n",
              "      <td>0.550000</td>\n",
              "      <td>0.223911</td>\n",
              "      <td>0.348691</td>\n",
              "      <td>0.114286</td>\n",
              "      <td>1.0</td>\n",
              "      <td>1.0</td>\n",
              "      <td>0.134615</td>\n",
              "    </tr>\n",
              "    <tr>\n",
              "      <th>4</th>\n",
              "      <td>0.0</td>\n",
              "      <td>0.02454</td>\n",
              "      <td>0.550000</td>\n",
              "      <td>0.223911</td>\n",
              "      <td>0.325222</td>\n",
              "      <td>0.071429</td>\n",
              "      <td>1.0</td>\n",
              "      <td>1.0</td>\n",
              "      <td>0.125874</td>\n",
              "    </tr>\n",
              "  </tbody>\n",
              "</table>\n",
              "</div>"
            ],
            "text/plain": [
              "   gu_l   dong_l    used_y    square  per_cost_man     floor  YN_r  YN_top10  \\\n",
              "0   0.0  0.02454  0.533333  0.216654      0.334067  0.100000   1.0       1.0   \n",
              "1   0.0  0.02454  0.550000  0.142213      0.464748  0.100000   1.0       1.0   \n",
              "2   0.0  0.02454  0.550000  0.223911      0.355145  0.100000   1.0       1.0   \n",
              "3   0.0  0.02454  0.550000  0.223911      0.348691  0.114286   1.0       1.0   \n",
              "4   0.0  0.02454  0.550000  0.223911      0.325222  0.071429   1.0       1.0   \n",
              "\n",
              "       cost  \n",
              "0  0.125437  \n",
              "1  0.120629  \n",
              "2  0.137019  \n",
              "3  0.134615  \n",
              "4  0.125874  "
            ]
          },
          "metadata": {
            "tags": []
          },
          "execution_count": 22
        }
      ]
    },
    {
      "cell_type": "code",
      "metadata": {
        "id": "40906630"
      },
      "source": [
        "X_1 = df_1.drop('cost', axis = 1)\n",
        "y_1 = df_1['cost']"
      ],
      "id": "40906630",
      "execution_count": null,
      "outputs": []
    },
    {
      "cell_type": "code",
      "metadata": {
        "id": "73e4b816",
        "outputId": "73119fac-c7f3-494c-d946-968318e9348f"
      },
      "source": [
        "X_train, X_test, y_train, y_test = train_test_split(X_1, y_1, test_size = 0.3, random_state = 0)\n",
        "\n",
        "re_Norm = KNeighborsRegressor(n_neighbors = 24, weights = \"distance\")\n",
        "re_Norm.fit(X_train, y_train)"
      ],
      "id": "73e4b816",
      "execution_count": null,
      "outputs": [
        {
          "output_type": "execute_result",
          "data": {
            "text/plain": [
              "KNeighborsRegressor(n_neighbors=24, weights='distance')"
            ]
          },
          "metadata": {
            "tags": []
          },
          "execution_count": 25
        }
      ]
    },
    {
      "cell_type": "code",
      "metadata": {
        "id": "b024b2a2",
        "outputId": "f35b80dc-cc69-4edd-b6c4-3cc8a46baf5e"
      },
      "source": [
        "# 결정 계수\n",
        "print(f'R-squre = {re_Norm.score(X_test, y_test)}')\n",
        "\n",
        "pred = re.predict(X_test)\n",
        "\n",
        "from math import sqrt\n",
        "# MSE 확인\n",
        "print(f'mse = {mean_squared_error(y_test, pred)}')\n",
        "# RMSE\n",
        "print(f'RMSE = {sqrt(mean_squared_error(y_test, pred))}')\n",
        "\n",
        "y_X = re.predict(X_1)\n",
        "\n",
        "plt.figure(figsize = (9,6))\n",
        "ax1=sns.distplot(y, hist = False, label='y')\n",
        "ax2=sns.distplot(y_X, hist=False, label='y_X', ax=ax1)\n",
        "plt.show()"
      ],
      "id": "b024b2a2",
      "execution_count": null,
      "outputs": [
        {
          "output_type": "stream",
          "text": [
            "R-squre = 0.9636132169758931\n",
            "mse = 0.00010421512443796086\n",
            "RMSE = 0.010208580921850053\n"
          ],
          "name": "stdout"
        },
        {
          "output_type": "stream",
          "text": [
            "/home/ubuntu/anaconda3/envs/multi/lib/python3.7/site-packages/seaborn/distributions.py:2557: FutureWarning: `distplot` is a deprecated function and will be removed in a future version. Please adapt your code to use either `displot` (a figure-level function with similar flexibility) or `kdeplot` (an axes-level function for kernel density plots).\n",
            "  warnings.warn(msg, FutureWarning)\n",
            "/home/ubuntu/anaconda3/envs/multi/lib/python3.7/site-packages/seaborn/distributions.py:2557: FutureWarning: `distplot` is a deprecated function and will be removed in a future version. Please adapt your code to use either `displot` (a figure-level function with similar flexibility) or `kdeplot` (an axes-level function for kernel density plots).\n",
            "  warnings.warn(msg, FutureWarning)\n"
          ],
          "name": "stderr"
        },
        {
          "output_type": "display_data",
          "data": {
            "image/png": "[encoded data removed]",
            "text/plain": [
              "<Figure size 900x600 with 1 Axes>"
            ]
          },
          "metadata": {
            "tags": []
          }
        }
      ]
    },
    {
      "cell_type": "code",
      "metadata": {
        "id": "68e55031"
      },
      "source": [
        ""
      ],
      "id": "68e55031",
      "execution_count": null,
      "outputs": []
    }
  ]
}