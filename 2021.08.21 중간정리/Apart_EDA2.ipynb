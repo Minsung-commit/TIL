{
  "nbformat": 4,
  "nbformat_minor": 5,
  "metadata": {
    "kernelspec": {
      "display_name": "Python 3",
      "language": "python",
      "name": "python3"
    },
    "language_info": {
      "codemirror_mode": {
        "name": "ipython",
        "version": 3
      },
      "file_extension": ".py",
      "mimetype": "text/x-python",
      "name": "python",
      "nbconvert_exporter": "python",
      "pygments_lexer": "ipython3",
      "version": "3.7.11"
    },
    "colab": {
      "name": "Apart_EDA2.ipynb",
      "provenance": [],
      "include_colab_link": true
    },
    "accelerator": "GPU"
  },
  "cells": [
    {
      "cell_type": "markdown",
      "metadata": {
        "id": "view-in-github",
        "colab_type": "text"
      },
      "source": [
        "<a href=\"https://colab.research.google.com/github/Minsung-commit/TIL/blob/master/Apart_EDA2.ipynb\" target=\"_parent\"><img src=\"https://colab.research.google.com/assets/colab-badge.svg\" alt=\"Open In Colab\"/></a>"
      ]
    },
    {
      "cell_type": "code",
      "metadata": {
        "id": "b5d14ba0"
      },
      "source": [
        "import pandas as pd\n",
        "import numpy as np\n",
        "import matplotlib.pyplot as plt\n",
        "import seaborn as sns"
      ],
      "id": "b5d14ba0",
      "execution_count": 12,
      "outputs": []
    },
    {
      "cell_type": "markdown",
      "metadata": {
        "id": "72df22c5"
      },
      "source": [
        "## 사용 데이터셋\n",
        "- 서울 집값(20,21)\n",
        "- kaggle 한국 집값\n",
        "- 전국 지역 코드 데이터"
      ],
      "id": "72df22c5"
    },
    {
      "cell_type": "code",
      "metadata": {
        "colab": {
          "base_uri": "https://localhost:8080/",
          "height": 520
        },
        "id": "52c0a39b",
        "outputId": "016626ed-7354-488b-ae0b-6290052b2e1c"
      },
      "source": [
        "df_20 = pd.read_csv('./Apart_2020.csv', encoding = 'cp949')\n",
        "df_21 = pd.read_csv('./Apart_2021.csv', encoding = 'cp949')"
      ],
      "id": "52c0a39b",
      "execution_count": 2,
      "outputs": [
        {
          "output_type": "error",
          "ename": "ParserError",
          "evalue": "ignored",
          "traceback": [
            "\u001b[0;31m---------------------------------------------------------------------------\u001b[0m",
            "\u001b[0;31mParserError\u001b[0m                               Traceback (most recent call last)",
            "\u001b[0;32m<ipython-input-2-13822ee6802a>\u001b[0m in \u001b[0;36m<module>\u001b[0;34m()\u001b[0m\n\u001b[0;32m----> 1\u001b[0;31m \u001b[0mdf_20\u001b[0m \u001b[0;34m=\u001b[0m \u001b[0mpd\u001b[0m\u001b[0;34m.\u001b[0m\u001b[0mread_csv\u001b[0m\u001b[0;34m(\u001b[0m\u001b[0;34m'./Apart_2020.csv'\u001b[0m\u001b[0;34m,\u001b[0m \u001b[0mencoding\u001b[0m \u001b[0;34m=\u001b[0m \u001b[0;34m'cp949'\u001b[0m\u001b[0;34m)\u001b[0m\u001b[0;34m\u001b[0m\u001b[0;34m\u001b[0m\u001b[0m\n\u001b[0m\u001b[1;32m      2\u001b[0m \u001b[0mdf_21\u001b[0m \u001b[0;34m=\u001b[0m \u001b[0mpd\u001b[0m\u001b[0;34m.\u001b[0m\u001b[0mread_csv\u001b[0m\u001b[0;34m(\u001b[0m\u001b[0;34m'./Apart_2021.csv'\u001b[0m\u001b[0;34m,\u001b[0m \u001b[0mencoding\u001b[0m \u001b[0;34m=\u001b[0m \u001b[0;34m'cp949'\u001b[0m\u001b[0;34m)\u001b[0m\u001b[0;34m\u001b[0m\u001b[0;34m\u001b[0m\u001b[0m\n",
            "\u001b[0;32m/usr/local/lib/python3.7/dist-packages/pandas/io/parsers.py\u001b[0m in \u001b[0;36mread_csv\u001b[0;34m(filepath_or_buffer, sep, delimiter, header, names, index_col, usecols, squeeze, prefix, mangle_dupe_cols, dtype, engine, converters, true_values, false_values, skipinitialspace, skiprows, skipfooter, nrows, na_values, keep_default_na, na_filter, verbose, skip_blank_lines, parse_dates, infer_datetime_format, keep_date_col, date_parser, dayfirst, cache_dates, iterator, chunksize, compression, thousands, decimal, lineterminator, quotechar, quoting, doublequote, escapechar, comment, encoding, dialect, error_bad_lines, warn_bad_lines, delim_whitespace, low_memory, memory_map, float_precision)\u001b[0m\n\u001b[1;32m    686\u001b[0m     )\n\u001b[1;32m    687\u001b[0m \u001b[0;34m\u001b[0m\u001b[0m\n\u001b[0;32m--> 688\u001b[0;31m     \u001b[0;32mreturn\u001b[0m \u001b[0m_read\u001b[0m\u001b[0;34m(\u001b[0m\u001b[0mfilepath_or_buffer\u001b[0m\u001b[0;34m,\u001b[0m \u001b[0mkwds\u001b[0m\u001b[0;34m)\u001b[0m\u001b[0;34m\u001b[0m\u001b[0;34m\u001b[0m\u001b[0m\n\u001b[0m\u001b[1;32m    689\u001b[0m \u001b[0;34m\u001b[0m\u001b[0m\n\u001b[1;32m    690\u001b[0m \u001b[0;34m\u001b[0m\u001b[0m\n",
            "\u001b[0;32m/usr/local/lib/python3.7/dist-packages/pandas/io/parsers.py\u001b[0m in \u001b[0;36m_read\u001b[0;34m(filepath_or_buffer, kwds)\u001b[0m\n\u001b[1;32m    458\u001b[0m \u001b[0;34m\u001b[0m\u001b[0m\n\u001b[1;32m    459\u001b[0m     \u001b[0;32mtry\u001b[0m\u001b[0;34m:\u001b[0m\u001b[0;34m\u001b[0m\u001b[0;34m\u001b[0m\u001b[0m\n\u001b[0;32m--> 460\u001b[0;31m         \u001b[0mdata\u001b[0m \u001b[0;34m=\u001b[0m \u001b[0mparser\u001b[0m\u001b[0;34m.\u001b[0m\u001b[0mread\u001b[0m\u001b[0;34m(\u001b[0m\u001b[0mnrows\u001b[0m\u001b[0;34m)\u001b[0m\u001b[0;34m\u001b[0m\u001b[0;34m\u001b[0m\u001b[0m\n\u001b[0m\u001b[1;32m    461\u001b[0m     \u001b[0;32mfinally\u001b[0m\u001b[0;34m:\u001b[0m\u001b[0;34m\u001b[0m\u001b[0;34m\u001b[0m\u001b[0m\n\u001b[1;32m    462\u001b[0m         \u001b[0mparser\u001b[0m\u001b[0;34m.\u001b[0m\u001b[0mclose\u001b[0m\u001b[0;34m(\u001b[0m\u001b[0;34m)\u001b[0m\u001b[0;34m\u001b[0m\u001b[0;34m\u001b[0m\u001b[0m\n",
            "\u001b[0;32m/usr/local/lib/python3.7/dist-packages/pandas/io/parsers.py\u001b[0m in \u001b[0;36mread\u001b[0;34m(self, nrows)\u001b[0m\n\u001b[1;32m   1196\u001b[0m     \u001b[0;32mdef\u001b[0m \u001b[0mread\u001b[0m\u001b[0;34m(\u001b[0m\u001b[0mself\u001b[0m\u001b[0;34m,\u001b[0m \u001b[0mnrows\u001b[0m\u001b[0;34m=\u001b[0m\u001b[0;32mNone\u001b[0m\u001b[0;34m)\u001b[0m\u001b[0;34m:\u001b[0m\u001b[0;34m\u001b[0m\u001b[0;34m\u001b[0m\u001b[0m\n\u001b[1;32m   1197\u001b[0m         \u001b[0mnrows\u001b[0m \u001b[0;34m=\u001b[0m \u001b[0m_validate_integer\u001b[0m\u001b[0;34m(\u001b[0m\u001b[0;34m\"nrows\"\u001b[0m\u001b[0;34m,\u001b[0m \u001b[0mnrows\u001b[0m\u001b[0;34m)\u001b[0m\u001b[0;34m\u001b[0m\u001b[0;34m\u001b[0m\u001b[0m\n\u001b[0;32m-> 1198\u001b[0;31m         \u001b[0mret\u001b[0m \u001b[0;34m=\u001b[0m \u001b[0mself\u001b[0m\u001b[0;34m.\u001b[0m\u001b[0m_engine\u001b[0m\u001b[0;34m.\u001b[0m\u001b[0mread\u001b[0m\u001b[0;34m(\u001b[0m\u001b[0mnrows\u001b[0m\u001b[0;34m)\u001b[0m\u001b[0;34m\u001b[0m\u001b[0;34m\u001b[0m\u001b[0m\n\u001b[0m\u001b[1;32m   1199\u001b[0m \u001b[0;34m\u001b[0m\u001b[0m\n\u001b[1;32m   1200\u001b[0m         \u001b[0;31m# May alter columns / col_dict\u001b[0m\u001b[0;34m\u001b[0m\u001b[0;34m\u001b[0m\u001b[0;34m\u001b[0m\u001b[0m\n",
            "\u001b[0;32m/usr/local/lib/python3.7/dist-packages/pandas/io/parsers.py\u001b[0m in \u001b[0;36mread\u001b[0;34m(self, nrows)\u001b[0m\n\u001b[1;32m   2155\u001b[0m     \u001b[0;32mdef\u001b[0m \u001b[0mread\u001b[0m\u001b[0;34m(\u001b[0m\u001b[0mself\u001b[0m\u001b[0;34m,\u001b[0m \u001b[0mnrows\u001b[0m\u001b[0;34m=\u001b[0m\u001b[0;32mNone\u001b[0m\u001b[0;34m)\u001b[0m\u001b[0;34m:\u001b[0m\u001b[0;34m\u001b[0m\u001b[0;34m\u001b[0m\u001b[0m\n\u001b[1;32m   2156\u001b[0m         \u001b[0;32mtry\u001b[0m\u001b[0;34m:\u001b[0m\u001b[0;34m\u001b[0m\u001b[0;34m\u001b[0m\u001b[0m\n\u001b[0;32m-> 2157\u001b[0;31m             \u001b[0mdata\u001b[0m \u001b[0;34m=\u001b[0m \u001b[0mself\u001b[0m\u001b[0;34m.\u001b[0m\u001b[0m_reader\u001b[0m\u001b[0;34m.\u001b[0m\u001b[0mread\u001b[0m\u001b[0;34m(\u001b[0m\u001b[0mnrows\u001b[0m\u001b[0;34m)\u001b[0m\u001b[0;34m\u001b[0m\u001b[0;34m\u001b[0m\u001b[0m\n\u001b[0m\u001b[1;32m   2158\u001b[0m         \u001b[0;32mexcept\u001b[0m \u001b[0mStopIteration\u001b[0m\u001b[0;34m:\u001b[0m\u001b[0;34m\u001b[0m\u001b[0;34m\u001b[0m\u001b[0m\n\u001b[1;32m   2159\u001b[0m             \u001b[0;32mif\u001b[0m \u001b[0mself\u001b[0m\u001b[0;34m.\u001b[0m\u001b[0m_first_chunk\u001b[0m\u001b[0;34m:\u001b[0m\u001b[0;34m\u001b[0m\u001b[0;34m\u001b[0m\u001b[0m\n",
            "\u001b[0;32mpandas/_libs/parsers.pyx\u001b[0m in \u001b[0;36mpandas._libs.parsers.TextReader.read\u001b[0;34m()\u001b[0m\n",
            "\u001b[0;32mpandas/_libs/parsers.pyx\u001b[0m in \u001b[0;36mpandas._libs.parsers.TextReader._read_low_memory\u001b[0;34m()\u001b[0m\n",
            "\u001b[0;32mpandas/_libs/parsers.pyx\u001b[0m in \u001b[0;36mpandas._libs.parsers.TextReader._read_rows\u001b[0;34m()\u001b[0m\n",
            "\u001b[0;32mpandas/_libs/parsers.pyx\u001b[0m in \u001b[0;36mpandas._libs.parsers.TextReader._tokenize_rows\u001b[0;34m()\u001b[0m\n",
            "\u001b[0;32mpandas/_libs/parsers.pyx\u001b[0m in \u001b[0;36mpandas._libs.parsers.raise_parser_error\u001b[0;34m()\u001b[0m\n",
            "\u001b[0;31mParserError\u001b[0m: Error tokenizing data. C error: Expected 1 fields in line 16, saw 13\n"
          ]
        }
      ]
    },
    {
      "cell_type": "code",
      "metadata": {
        "id": "77356b73",
        "outputId": "50b98b50-23a6-4a68-b254-6fdc01a817e9"
      },
      "source": [
        "df_20.head()"
      ],
      "id": "77356b73",
      "execution_count": null,
      "outputs": [
        {
          "output_type": "execute_result",
          "data": {
            "text/html": [
              "<div>\n",
              "<style scoped>\n",
              "    .dataframe tbody tr th:only-of-type {\n",
              "        vertical-align: middle;\n",
              "    }\n",
              "\n",
              "    .dataframe tbody tr th {\n",
              "        vertical-align: top;\n",
              "    }\n",
              "\n",
              "    .dataframe thead th {\n",
              "        text-align: right;\n",
              "    }\n",
              "</style>\n",
              "<table border=\"1\" class=\"dataframe\">\n",
              "  <thead>\n",
              "    <tr style=\"text-align: right;\">\n",
              "      <th></th>\n",
              "      <th>시군구</th>\n",
              "      <th>번지</th>\n",
              "      <th>본번</th>\n",
              "      <th>부번</th>\n",
              "      <th>단지명</th>\n",
              "      <th>전용면적(㎡)</th>\n",
              "      <th>계약년월</th>\n",
              "      <th>계약일</th>\n",
              "      <th>거래금액(만원)</th>\n",
              "      <th>층</th>\n",
              "      <th>건축년도</th>\n",
              "      <th>도로명</th>\n",
              "      <th>해제사유발생일</th>\n",
              "    </tr>\n",
              "  </thead>\n",
              "  <tbody>\n",
              "    <tr>\n",
              "      <th>0</th>\n",
              "      <td>서울특별시 강남구 개포동</td>\n",
              "      <td>655-2</td>\n",
              "      <td>655.0</td>\n",
              "      <td>2.0</td>\n",
              "      <td>개포2차현대아파트(220)</td>\n",
              "      <td>77.75</td>\n",
              "      <td>202006</td>\n",
              "      <td>23</td>\n",
              "      <td>149,500</td>\n",
              "      <td>4</td>\n",
              "      <td>1988</td>\n",
              "      <td>언주로 103</td>\n",
              "      <td>NaN</td>\n",
              "    </tr>\n",
              "    <tr>\n",
              "      <th>1</th>\n",
              "      <td>서울특별시 강남구 개포동</td>\n",
              "      <td>658-1</td>\n",
              "      <td>658.0</td>\n",
              "      <td>1.0</td>\n",
              "      <td>개포6차우성아파트1동~8동</td>\n",
              "      <td>54.98</td>\n",
              "      <td>202002</td>\n",
              "      <td>24</td>\n",
              "      <td>144,000</td>\n",
              "      <td>4</td>\n",
              "      <td>1987</td>\n",
              "      <td>언주로 3</td>\n",
              "      <td>NaN</td>\n",
              "    </tr>\n",
              "    <tr>\n",
              "      <th>2</th>\n",
              "      <td>서울특별시 강남구 개포동</td>\n",
              "      <td>658-1</td>\n",
              "      <td>658.0</td>\n",
              "      <td>1.0</td>\n",
              "      <td>개포6차우성아파트1동~8동</td>\n",
              "      <td>79.97</td>\n",
              "      <td>202006</td>\n",
              "      <td>18</td>\n",
              "      <td>162,750</td>\n",
              "      <td>4</td>\n",
              "      <td>1987</td>\n",
              "      <td>언주로 3</td>\n",
              "      <td>NaN</td>\n",
              "    </tr>\n",
              "    <tr>\n",
              "      <th>3</th>\n",
              "      <td>서울특별시 강남구 개포동</td>\n",
              "      <td>658-1</td>\n",
              "      <td>658.0</td>\n",
              "      <td>1.0</td>\n",
              "      <td>개포6차우성아파트1동~8동</td>\n",
              "      <td>79.97</td>\n",
              "      <td>202006</td>\n",
              "      <td>20</td>\n",
              "      <td>160,000</td>\n",
              "      <td>5</td>\n",
              "      <td>1987</td>\n",
              "      <td>언주로 3</td>\n",
              "      <td>NaN</td>\n",
              "    </tr>\n",
              "    <tr>\n",
              "      <th>4</th>\n",
              "      <td>서울특별시 강남구 개포동</td>\n",
              "      <td>658-1</td>\n",
              "      <td>658.0</td>\n",
              "      <td>1.0</td>\n",
              "      <td>개포6차우성아파트1동~8동</td>\n",
              "      <td>79.97</td>\n",
              "      <td>202006</td>\n",
              "      <td>22</td>\n",
              "      <td>150,000</td>\n",
              "      <td>2</td>\n",
              "      <td>1987</td>\n",
              "      <td>언주로 3</td>\n",
              "      <td>NaN</td>\n",
              "    </tr>\n",
              "  </tbody>\n",
              "</table>\n",
              "</div>"
            ],
            "text/plain": [
              "             시군구     번지     본번   부번             단지명  전용면적(㎡)    계약년월  계약일  \\\n",
              "0  서울특별시 강남구 개포동  655-2  655.0  2.0  개포2차현대아파트(220)    77.75  202006   23   \n",
              "1  서울특별시 강남구 개포동  658-1  658.0  1.0  개포6차우성아파트1동~8동    54.98  202002   24   \n",
              "2  서울특별시 강남구 개포동  658-1  658.0  1.0  개포6차우성아파트1동~8동    79.97  202006   18   \n",
              "3  서울특별시 강남구 개포동  658-1  658.0  1.0  개포6차우성아파트1동~8동    79.97  202006   20   \n",
              "4  서울특별시 강남구 개포동  658-1  658.0  1.0  개포6차우성아파트1동~8동    79.97  202006   22   \n",
              "\n",
              "  거래금액(만원)  층  건축년도      도로명  해제사유발생일  \n",
              "0  149,500  4  1988  언주로 103      NaN  \n",
              "1  144,000  4  1987    언주로 3      NaN  \n",
              "2  162,750  4  1987    언주로 3      NaN  \n",
              "3  160,000  5  1987    언주로 3      NaN  \n",
              "4  150,000  2  1987    언주로 3      NaN  "
            ]
          },
          "metadata": {
            "tags": []
          },
          "execution_count": 3
        }
      ]
    },
    {
      "cell_type": "code",
      "metadata": {
        "id": "1e795175",
        "outputId": "49842a31-3d6d-456c-d889-a8905309afad"
      },
      "source": [
        "df_21.head()"
      ],
      "id": "1e795175",
      "execution_count": null,
      "outputs": [
        {
          "output_type": "execute_result",
          "data": {
            "text/html": [
              "<div>\n",
              "<style scoped>\n",
              "    .dataframe tbody tr th:only-of-type {\n",
              "        vertical-align: middle;\n",
              "    }\n",
              "\n",
              "    .dataframe tbody tr th {\n",
              "        vertical-align: top;\n",
              "    }\n",
              "\n",
              "    .dataframe thead th {\n",
              "        text-align: right;\n",
              "    }\n",
              "</style>\n",
              "<table border=\"1\" class=\"dataframe\">\n",
              "  <thead>\n",
              "    <tr style=\"text-align: right;\">\n",
              "      <th></th>\n",
              "      <th>시군구</th>\n",
              "      <th>번지</th>\n",
              "      <th>본번</th>\n",
              "      <th>부번</th>\n",
              "      <th>단지명</th>\n",
              "      <th>전용면적(㎡)</th>\n",
              "      <th>계약년월</th>\n",
              "      <th>계약일</th>\n",
              "      <th>거래금액(만원)</th>\n",
              "      <th>층</th>\n",
              "      <th>건축년도</th>\n",
              "      <th>도로명</th>\n",
              "      <th>해제사유발생일</th>\n",
              "    </tr>\n",
              "  </thead>\n",
              "  <tbody>\n",
              "    <tr>\n",
              "      <th>0</th>\n",
              "      <td>서울특별시 강남구 개포동</td>\n",
              "      <td>655-2</td>\n",
              "      <td>655.0</td>\n",
              "      <td>2.0</td>\n",
              "      <td>개포2차현대아파트(220)</td>\n",
              "      <td>77.75</td>\n",
              "      <td>202104</td>\n",
              "      <td>15</td>\n",
              "      <td>174,000</td>\n",
              "      <td>9</td>\n",
              "      <td>1988</td>\n",
              "      <td>언주로 103</td>\n",
              "      <td>NaN</td>\n",
              "    </tr>\n",
              "    <tr>\n",
              "      <th>1</th>\n",
              "      <td>서울특별시 강남구 개포동</td>\n",
              "      <td>658-1</td>\n",
              "      <td>658.0</td>\n",
              "      <td>1.0</td>\n",
              "      <td>개포6차우성아파트1동~8동</td>\n",
              "      <td>79.97</td>\n",
              "      <td>202105</td>\n",
              "      <td>15</td>\n",
              "      <td>195,000</td>\n",
              "      <td>5</td>\n",
              "      <td>1987</td>\n",
              "      <td>언주로 3</td>\n",
              "      <td>NaN</td>\n",
              "    </tr>\n",
              "    <tr>\n",
              "      <th>2</th>\n",
              "      <td>서울특별시 강남구 개포동</td>\n",
              "      <td>1282</td>\n",
              "      <td>1282.0</td>\n",
              "      <td>0.0</td>\n",
              "      <td>개포래미안포레스트</td>\n",
              "      <td>59.92</td>\n",
              "      <td>202105</td>\n",
              "      <td>22</td>\n",
              "      <td>198,500</td>\n",
              "      <td>18</td>\n",
              "      <td>2020</td>\n",
              "      <td>개포로 264</td>\n",
              "      <td>20210526.0</td>\n",
              "    </tr>\n",
              "    <tr>\n",
              "      <th>3</th>\n",
              "      <td>서울특별시 강남구 개포동</td>\n",
              "      <td>1282</td>\n",
              "      <td>1282.0</td>\n",
              "      <td>0.0</td>\n",
              "      <td>개포래미안포레스트</td>\n",
              "      <td>49.92</td>\n",
              "      <td>202105</td>\n",
              "      <td>22</td>\n",
              "      <td>180,000</td>\n",
              "      <td>7</td>\n",
              "      <td>2020</td>\n",
              "      <td>개포로 264</td>\n",
              "      <td>20210526.0</td>\n",
              "    </tr>\n",
              "    <tr>\n",
              "      <th>4</th>\n",
              "      <td>서울특별시 강남구 개포동</td>\n",
              "      <td>1282</td>\n",
              "      <td>1282.0</td>\n",
              "      <td>0.0</td>\n",
              "      <td>개포래미안포레스트</td>\n",
              "      <td>59.92</td>\n",
              "      <td>202106</td>\n",
              "      <td>13</td>\n",
              "      <td>210,000</td>\n",
              "      <td>5</td>\n",
              "      <td>2020</td>\n",
              "      <td>개포로 264</td>\n",
              "      <td>NaN</td>\n",
              "    </tr>\n",
              "  </tbody>\n",
              "</table>\n",
              "</div>"
            ],
            "text/plain": [
              "             시군구     번지      본번   부번             단지명  전용면적(㎡)    계약년월  계약일  \\\n",
              "0  서울특별시 강남구 개포동  655-2   655.0  2.0  개포2차현대아파트(220)    77.75  202104   15   \n",
              "1  서울특별시 강남구 개포동  658-1   658.0  1.0  개포6차우성아파트1동~8동    79.97  202105   15   \n",
              "2  서울특별시 강남구 개포동   1282  1282.0  0.0       개포래미안포레스트    59.92  202105   22   \n",
              "3  서울특별시 강남구 개포동   1282  1282.0  0.0       개포래미안포레스트    49.92  202105   22   \n",
              "4  서울특별시 강남구 개포동   1282  1282.0  0.0       개포래미안포레스트    59.92  202106   13   \n",
              "\n",
              "  거래금액(만원)   층  건축년도      도로명     해제사유발생일  \n",
              "0  174,000   9  1988  언주로 103         NaN  \n",
              "1  195,000   5  1987    언주로 3         NaN  \n",
              "2  198,500  18  2020  개포로 264  20210526.0  \n",
              "3  180,000   7  2020  개포로 264  20210526.0  \n",
              "4  210,000   5  2020  개포로 264         NaN  "
            ]
          },
          "metadata": {
            "tags": []
          },
          "execution_count": 4
        }
      ]
    },
    {
      "cell_type": "code",
      "metadata": {
        "id": "74805fa2"
      },
      "source": [
        "df = pd.concat([df_20,df_21])"
      ],
      "id": "74805fa2",
      "execution_count": null,
      "outputs": []
    },
    {
      "cell_type": "code",
      "metadata": {
        "id": "1d72756f",
        "outputId": "fc938920-e283-4210-8676-c14a0306f433"
      },
      "source": [
        "df.head()"
      ],
      "id": "1d72756f",
      "execution_count": null,
      "outputs": [
        {
          "output_type": "execute_result",
          "data": {
            "text/html": [
              "<div>\n",
              "<style scoped>\n",
              "    .dataframe tbody tr th:only-of-type {\n",
              "        vertical-align: middle;\n",
              "    }\n",
              "\n",
              "    .dataframe tbody tr th {\n",
              "        vertical-align: top;\n",
              "    }\n",
              "\n",
              "    .dataframe thead th {\n",
              "        text-align: right;\n",
              "    }\n",
              "</style>\n",
              "<table border=\"1\" class=\"dataframe\">\n",
              "  <thead>\n",
              "    <tr style=\"text-align: right;\">\n",
              "      <th></th>\n",
              "      <th>시군구</th>\n",
              "      <th>번지</th>\n",
              "      <th>본번</th>\n",
              "      <th>부번</th>\n",
              "      <th>단지명</th>\n",
              "      <th>전용면적(㎡)</th>\n",
              "      <th>계약년월</th>\n",
              "      <th>계약일</th>\n",
              "      <th>거래금액(만원)</th>\n",
              "      <th>층</th>\n",
              "      <th>건축년도</th>\n",
              "      <th>도로명</th>\n",
              "      <th>해제사유발생일</th>\n",
              "    </tr>\n",
              "  </thead>\n",
              "  <tbody>\n",
              "    <tr>\n",
              "      <th>0</th>\n",
              "      <td>서울특별시 강남구 개포동</td>\n",
              "      <td>655-2</td>\n",
              "      <td>655.0</td>\n",
              "      <td>2.0</td>\n",
              "      <td>개포2차현대아파트(220)</td>\n",
              "      <td>77.75</td>\n",
              "      <td>202006</td>\n",
              "      <td>23</td>\n",
              "      <td>149,500</td>\n",
              "      <td>4</td>\n",
              "      <td>1988</td>\n",
              "      <td>언주로 103</td>\n",
              "      <td>NaN</td>\n",
              "    </tr>\n",
              "    <tr>\n",
              "      <th>1</th>\n",
              "      <td>서울특별시 강남구 개포동</td>\n",
              "      <td>658-1</td>\n",
              "      <td>658.0</td>\n",
              "      <td>1.0</td>\n",
              "      <td>개포6차우성아파트1동~8동</td>\n",
              "      <td>54.98</td>\n",
              "      <td>202002</td>\n",
              "      <td>24</td>\n",
              "      <td>144,000</td>\n",
              "      <td>4</td>\n",
              "      <td>1987</td>\n",
              "      <td>언주로 3</td>\n",
              "      <td>NaN</td>\n",
              "    </tr>\n",
              "    <tr>\n",
              "      <th>2</th>\n",
              "      <td>서울특별시 강남구 개포동</td>\n",
              "      <td>658-1</td>\n",
              "      <td>658.0</td>\n",
              "      <td>1.0</td>\n",
              "      <td>개포6차우성아파트1동~8동</td>\n",
              "      <td>79.97</td>\n",
              "      <td>202006</td>\n",
              "      <td>18</td>\n",
              "      <td>162,750</td>\n",
              "      <td>4</td>\n",
              "      <td>1987</td>\n",
              "      <td>언주로 3</td>\n",
              "      <td>NaN</td>\n",
              "    </tr>\n",
              "    <tr>\n",
              "      <th>3</th>\n",
              "      <td>서울특별시 강남구 개포동</td>\n",
              "      <td>658-1</td>\n",
              "      <td>658.0</td>\n",
              "      <td>1.0</td>\n",
              "      <td>개포6차우성아파트1동~8동</td>\n",
              "      <td>79.97</td>\n",
              "      <td>202006</td>\n",
              "      <td>20</td>\n",
              "      <td>160,000</td>\n",
              "      <td>5</td>\n",
              "      <td>1987</td>\n",
              "      <td>언주로 3</td>\n",
              "      <td>NaN</td>\n",
              "    </tr>\n",
              "    <tr>\n",
              "      <th>4</th>\n",
              "      <td>서울특별시 강남구 개포동</td>\n",
              "      <td>658-1</td>\n",
              "      <td>658.0</td>\n",
              "      <td>1.0</td>\n",
              "      <td>개포6차우성아파트1동~8동</td>\n",
              "      <td>79.97</td>\n",
              "      <td>202006</td>\n",
              "      <td>22</td>\n",
              "      <td>150,000</td>\n",
              "      <td>2</td>\n",
              "      <td>1987</td>\n",
              "      <td>언주로 3</td>\n",
              "      <td>NaN</td>\n",
              "    </tr>\n",
              "  </tbody>\n",
              "</table>\n",
              "</div>"
            ],
            "text/plain": [
              "             시군구     번지     본번   부번             단지명  전용면적(㎡)    계약년월  계약일  \\\n",
              "0  서울특별시 강남구 개포동  655-2  655.0  2.0  개포2차현대아파트(220)    77.75  202006   23   \n",
              "1  서울특별시 강남구 개포동  658-1  658.0  1.0  개포6차우성아파트1동~8동    54.98  202002   24   \n",
              "2  서울특별시 강남구 개포동  658-1  658.0  1.0  개포6차우성아파트1동~8동    79.97  202006   18   \n",
              "3  서울특별시 강남구 개포동  658-1  658.0  1.0  개포6차우성아파트1동~8동    79.97  202006   20   \n",
              "4  서울특별시 강남구 개포동  658-1  658.0  1.0  개포6차우성아파트1동~8동    79.97  202006   22   \n",
              "\n",
              "  거래금액(만원)  층  건축년도      도로명  해제사유발생일  \n",
              "0  149,500  4  1988  언주로 103      NaN  \n",
              "1  144,000  4  1987    언주로 3      NaN  \n",
              "2  162,750  4  1987    언주로 3      NaN  \n",
              "3  160,000  5  1987    언주로 3      NaN  \n",
              "4  150,000  2  1987    언주로 3      NaN  "
            ]
          },
          "metadata": {
            "tags": []
          },
          "execution_count": 6
        }
      ]
    },
    {
      "cell_type": "code",
      "metadata": {
        "id": "6b8e61e9",
        "outputId": "14e88117-db54-4b92-fe65-4d9533b83fdc"
      },
      "source": [
        "df.tail()"
      ],
      "id": "6b8e61e9",
      "execution_count": null,
      "outputs": [
        {
          "output_type": "execute_result",
          "data": {
            "text/html": [
              "<div>\n",
              "<style scoped>\n",
              "    .dataframe tbody tr th:only-of-type {\n",
              "        vertical-align: middle;\n",
              "    }\n",
              "\n",
              "    .dataframe tbody tr th {\n",
              "        vertical-align: top;\n",
              "    }\n",
              "\n",
              "    .dataframe thead th {\n",
              "        text-align: right;\n",
              "    }\n",
              "</style>\n",
              "<table border=\"1\" class=\"dataframe\">\n",
              "  <thead>\n",
              "    <tr style=\"text-align: right;\">\n",
              "      <th></th>\n",
              "      <th>시군구</th>\n",
              "      <th>번지</th>\n",
              "      <th>본번</th>\n",
              "      <th>부번</th>\n",
              "      <th>단지명</th>\n",
              "      <th>전용면적(㎡)</th>\n",
              "      <th>계약년월</th>\n",
              "      <th>계약일</th>\n",
              "      <th>거래금액(만원)</th>\n",
              "      <th>층</th>\n",
              "      <th>건축년도</th>\n",
              "      <th>도로명</th>\n",
              "      <th>해제사유발생일</th>\n",
              "    </tr>\n",
              "  </thead>\n",
              "  <tbody>\n",
              "    <tr>\n",
              "      <th>29918</th>\n",
              "      <td>서울특별시 중랑구 중화동</td>\n",
              "      <td>450</td>\n",
              "      <td>450.0</td>\n",
              "      <td>0.0</td>\n",
              "      <td>한신2</td>\n",
              "      <td>59.76</td>\n",
              "      <td>202104</td>\n",
              "      <td>10</td>\n",
              "      <td>66,000</td>\n",
              "      <td>6</td>\n",
              "      <td>1998</td>\n",
              "      <td>동일로 752</td>\n",
              "      <td>NaN</td>\n",
              "    </tr>\n",
              "    <tr>\n",
              "      <th>29919</th>\n",
              "      <td>서울특별시 중랑구 중화동</td>\n",
              "      <td>450</td>\n",
              "      <td>450.0</td>\n",
              "      <td>0.0</td>\n",
              "      <td>한신2</td>\n",
              "      <td>59.76</td>\n",
              "      <td>202104</td>\n",
              "      <td>16</td>\n",
              "      <td>68,000</td>\n",
              "      <td>13</td>\n",
              "      <td>1998</td>\n",
              "      <td>동일로 752</td>\n",
              "      <td>NaN</td>\n",
              "    </tr>\n",
              "    <tr>\n",
              "      <th>29920</th>\n",
              "      <td>서울특별시 중랑구 중화동</td>\n",
              "      <td>274-51</td>\n",
              "      <td>274.0</td>\n",
              "      <td>51.0</td>\n",
              "      <td>한영(101)</td>\n",
              "      <td>57.66</td>\n",
              "      <td>202102</td>\n",
              "      <td>27</td>\n",
              "      <td>30,500</td>\n",
              "      <td>5</td>\n",
              "      <td>2003</td>\n",
              "      <td>동일로144길 74</td>\n",
              "      <td>NaN</td>\n",
              "    </tr>\n",
              "    <tr>\n",
              "      <th>29921</th>\n",
              "      <td>서울특별시 중랑구 중화동</td>\n",
              "      <td>274-75</td>\n",
              "      <td>274.0</td>\n",
              "      <td>75.0</td>\n",
              "      <td>한영(102)</td>\n",
              "      <td>72.22</td>\n",
              "      <td>202105</td>\n",
              "      <td>4</td>\n",
              "      <td>49,500</td>\n",
              "      <td>4</td>\n",
              "      <td>2003</td>\n",
              "      <td>동일로144길 74</td>\n",
              "      <td>NaN</td>\n",
              "    </tr>\n",
              "    <tr>\n",
              "      <th>29922</th>\n",
              "      <td>서울특별시 중랑구 중화동</td>\n",
              "      <td>274-76</td>\n",
              "      <td>274.0</td>\n",
              "      <td>76.0</td>\n",
              "      <td>한영(103)</td>\n",
              "      <td>58.46</td>\n",
              "      <td>202107</td>\n",
              "      <td>1</td>\n",
              "      <td>30,000</td>\n",
              "      <td>2</td>\n",
              "      <td>2003</td>\n",
              "      <td>동일로144길 74</td>\n",
              "      <td>NaN</td>\n",
              "    </tr>\n",
              "  </tbody>\n",
              "</table>\n",
              "</div>"
            ],
            "text/plain": [
              "                 시군구      번지     본번    부번      단지명  전용면적(㎡)    계약년월  계약일  \\\n",
              "29918  서울특별시 중랑구 중화동     450  450.0   0.0      한신2    59.76  202104   10   \n",
              "29919  서울특별시 중랑구 중화동     450  450.0   0.0      한신2    59.76  202104   16   \n",
              "29920  서울특별시 중랑구 중화동  274-51  274.0  51.0  한영(101)    57.66  202102   27   \n",
              "29921  서울특별시 중랑구 중화동  274-75  274.0  75.0  한영(102)    72.22  202105    4   \n",
              "29922  서울특별시 중랑구 중화동  274-76  274.0  76.0  한영(103)    58.46  202107    1   \n",
              "\n",
              "      거래금액(만원)   층  건축년도         도로명  해제사유발생일  \n",
              "29918   66,000   6  1998     동일로 752      NaN  \n",
              "29919   68,000  13  1998     동일로 752      NaN  \n",
              "29920   30,500   5  2003  동일로144길 74      NaN  \n",
              "29921   49,500   4  2003  동일로144길 74      NaN  \n",
              "29922   30,000   2  2003  동일로144길 74      NaN  "
            ]
          },
          "metadata": {
            "tags": []
          },
          "execution_count": 7
        }
      ]
    },
    {
      "cell_type": "code",
      "metadata": {
        "id": "c7bf85eb",
        "outputId": "aa7ac54f-f4fc-4b30-9bf2-4648a195a01b"
      },
      "source": [
        "apart = pd.read_csv('./Apart_Deal.csv')"
      ],
      "id": "c7bf85eb",
      "execution_count": null,
      "outputs": [
        {
          "output_type": "stream",
          "text": [
            "/home/ubuntu/anaconda3/envs/multi/lib/python3.7/site-packages/IPython/core/interactiveshell.py:3441: DtypeWarning: Columns (6) have mixed types.Specify dtype option on import or set low_memory=False.\n",
            "  exec(code_obj, self.user_global_ns, self.user_ns)\n"
          ],
          "name": "stderr"
        }
      ]
    },
    {
      "cell_type": "code",
      "metadata": {
        "id": "0cadc893",
        "outputId": "c1f5d472-0f35-4763-ed66-890852ce2184"
      },
      "source": [
        "apart.head()"
      ],
      "id": "0cadc893",
      "execution_count": null,
      "outputs": [
        {
          "output_type": "execute_result",
          "data": {
            "text/html": [
              "<div>\n",
              "<style scoped>\n",
              "    .dataframe tbody tr th:only-of-type {\n",
              "        vertical-align: middle;\n",
              "    }\n",
              "\n",
              "    .dataframe tbody tr th {\n",
              "        vertical-align: top;\n",
              "    }\n",
              "\n",
              "    .dataframe thead th {\n",
              "        text-align: right;\n",
              "    }\n",
              "</style>\n",
              "<table border=\"1\" class=\"dataframe\">\n",
              "  <thead>\n",
              "    <tr style=\"text-align: right;\">\n",
              "      <th></th>\n",
              "      <th>지역코드</th>\n",
              "      <th>법정동</th>\n",
              "      <th>거래일</th>\n",
              "      <th>아파트</th>\n",
              "      <th>지번</th>\n",
              "      <th>전용면적</th>\n",
              "      <th>층</th>\n",
              "      <th>건축년도</th>\n",
              "      <th>거래금액</th>\n",
              "    </tr>\n",
              "  </thead>\n",
              "  <tbody>\n",
              "    <tr>\n",
              "      <th>0</th>\n",
              "      <td>31110</td>\n",
              "      <td>학성동</td>\n",
              "      <td>5/30/2020 0:00</td>\n",
              "      <td>남운학성타운</td>\n",
              "      <td>379</td>\n",
              "      <td>135.5800</td>\n",
              "      <td>8</td>\n",
              "      <td>1991</td>\n",
              "      <td>26700</td>\n",
              "    </tr>\n",
              "    <tr>\n",
              "      <th>1</th>\n",
              "      <td>31110</td>\n",
              "      <td>남외동</td>\n",
              "      <td>1/3/2020 0:00</td>\n",
              "      <td>남외푸르지오1차</td>\n",
              "      <td>506-1</td>\n",
              "      <td>101.6000</td>\n",
              "      <td>2</td>\n",
              "      <td>2006</td>\n",
              "      <td>35500</td>\n",
              "    </tr>\n",
              "    <tr>\n",
              "      <th>2</th>\n",
              "      <td>31110</td>\n",
              "      <td>남외동</td>\n",
              "      <td>1/3/2020 0:00</td>\n",
              "      <td>에일린의뜰</td>\n",
              "      <td>500</td>\n",
              "      <td>84.9920</td>\n",
              "      <td>11</td>\n",
              "      <td>2007</td>\n",
              "      <td>36500</td>\n",
              "    </tr>\n",
              "    <tr>\n",
              "      <th>3</th>\n",
              "      <td>31110</td>\n",
              "      <td>남외동</td>\n",
              "      <td>1/3/2020 0:00</td>\n",
              "      <td>남외푸르지오1차</td>\n",
              "      <td>506-1</td>\n",
              "      <td>118.7060</td>\n",
              "      <td>8</td>\n",
              "      <td>2006</td>\n",
              "      <td>43000</td>\n",
              "    </tr>\n",
              "    <tr>\n",
              "      <th>4</th>\n",
              "      <td>31110</td>\n",
              "      <td>남외동</td>\n",
              "      <td>1/4/2020 0:00</td>\n",
              "      <td>남외푸르지오2차</td>\n",
              "      <td>501-1</td>\n",
              "      <td>84.9636</td>\n",
              "      <td>7</td>\n",
              "      <td>2007</td>\n",
              "      <td>38700</td>\n",
              "    </tr>\n",
              "  </tbody>\n",
              "</table>\n",
              "</div>"
            ],
            "text/plain": [
              "    지역코드  법정동             거래일       아파트     지번      전용면적   층  건축년도   거래금액\n",
              "0  31110  학성동  5/30/2020 0:00    남운학성타운    379  135.5800   8  1991  26700\n",
              "1  31110  남외동   1/3/2020 0:00  남외푸르지오1차  506-1  101.6000   2  2006  35500\n",
              "2  31110  남외동   1/3/2020 0:00     에일린의뜰    500   84.9920  11  2007  36500\n",
              "3  31110  남외동   1/3/2020 0:00  남외푸르지오1차  506-1  118.7060   8  2006  43000\n",
              "4  31110  남외동   1/4/2020 0:00  남외푸르지오2차  501-1   84.9636   7  2007  38700"
            ]
          },
          "metadata": {
            "tags": []
          },
          "execution_count": 9
        }
      ]
    },
    {
      "cell_type": "code",
      "metadata": {
        "id": "1f698192"
      },
      "source": [
        "total = pd.read_csv('./dong_total.txt', sep='\\t')"
      ],
      "id": "1f698192",
      "execution_count": null,
      "outputs": []
    },
    {
      "cell_type": "code",
      "metadata": {
        "id": "bda78a6c",
        "outputId": "de841c01-2a04-4ec1-efc6-38d3b9d29e3c"
      },
      "source": [
        "total.head()"
      ],
      "id": "bda78a6c",
      "execution_count": null,
      "outputs": [
        {
          "output_type": "execute_result",
          "data": {
            "text/html": [
              "<div>\n",
              "<style scoped>\n",
              "    .dataframe tbody tr th:only-of-type {\n",
              "        vertical-align: middle;\n",
              "    }\n",
              "\n",
              "    .dataframe tbody tr th {\n",
              "        vertical-align: top;\n",
              "    }\n",
              "\n",
              "    .dataframe thead th {\n",
              "        text-align: right;\n",
              "    }\n",
              "</style>\n",
              "<table border=\"1\" class=\"dataframe\">\n",
              "  <thead>\n",
              "    <tr style=\"text-align: right;\">\n",
              "      <th></th>\n",
              "      <th>법정동코드</th>\n",
              "      <th>법정동명</th>\n",
              "      <th>폐지여부</th>\n",
              "    </tr>\n",
              "  </thead>\n",
              "  <tbody>\n",
              "    <tr>\n",
              "      <th>0</th>\n",
              "      <td>1100000000</td>\n",
              "      <td>서울특별시</td>\n",
              "      <td>존재</td>\n",
              "    </tr>\n",
              "    <tr>\n",
              "      <th>1</th>\n",
              "      <td>1111000000</td>\n",
              "      <td>서울특별시 종로구</td>\n",
              "      <td>존재</td>\n",
              "    </tr>\n",
              "    <tr>\n",
              "      <th>2</th>\n",
              "      <td>1111010100</td>\n",
              "      <td>서울특별시 종로구 청운동</td>\n",
              "      <td>존재</td>\n",
              "    </tr>\n",
              "    <tr>\n",
              "      <th>3</th>\n",
              "      <td>1111010200</td>\n",
              "      <td>서울특별시 종로구 신교동</td>\n",
              "      <td>존재</td>\n",
              "    </tr>\n",
              "    <tr>\n",
              "      <th>4</th>\n",
              "      <td>1111010300</td>\n",
              "      <td>서울특별시 종로구 궁정동</td>\n",
              "      <td>존재</td>\n",
              "    </tr>\n",
              "  </tbody>\n",
              "</table>\n",
              "</div>"
            ],
            "text/plain": [
              "        법정동코드           법정동명 폐지여부\n",
              "0  1100000000          서울특별시   존재\n",
              "1  1111000000      서울특별시 종로구   존재\n",
              "2  1111010100  서울특별시 종로구 청운동   존재\n",
              "3  1111010200  서울특별시 종로구 신교동   존재\n",
              "4  1111010300  서울특별시 종로구 궁정동   존재"
            ]
          },
          "metadata": {
            "tags": []
          },
          "execution_count": 11
        }
      ]
    },
    {
      "cell_type": "markdown",
      "metadata": {
        "id": "69bd106f"
      },
      "source": [
        "## seoul_Apart EDA"
      ],
      "id": "69bd106f"
    },
    {
      "cell_type": "code",
      "metadata": {
        "id": "ae755dd5"
      },
      "source": [
        "df.columns = ['location', 'bun', 'bun_1', 'bun_2', 'name', 'square', 'date_ym', 'day', 'cost', 'floor', 'blit_year', 'road_name', 'de']"
      ],
      "id": "ae755dd5",
      "execution_count": null,
      "outputs": []
    },
    {
      "cell_type": "code",
      "metadata": {
        "id": "83c5ad32",
        "outputId": "242feb19-b9e6-411d-f9dc-6f6ec133fabf"
      },
      "source": [
        "df.head()"
      ],
      "id": "83c5ad32",
      "execution_count": null,
      "outputs": [
        {
          "output_type": "execute_result",
          "data": {
            "text/html": [
              "<div>\n",
              "<style scoped>\n",
              "    .dataframe tbody tr th:only-of-type {\n",
              "        vertical-align: middle;\n",
              "    }\n",
              "\n",
              "    .dataframe tbody tr th {\n",
              "        vertical-align: top;\n",
              "    }\n",
              "\n",
              "    .dataframe thead th {\n",
              "        text-align: right;\n",
              "    }\n",
              "</style>\n",
              "<table border=\"1\" class=\"dataframe\">\n",
              "  <thead>\n",
              "    <tr style=\"text-align: right;\">\n",
              "      <th></th>\n",
              "      <th>location</th>\n",
              "      <th>bun</th>\n",
              "      <th>bun_1</th>\n",
              "      <th>bun_2</th>\n",
              "      <th>name</th>\n",
              "      <th>square</th>\n",
              "      <th>date_ym</th>\n",
              "      <th>day</th>\n",
              "      <th>cost</th>\n",
              "      <th>floor</th>\n",
              "      <th>blit_year</th>\n",
              "      <th>road_name</th>\n",
              "      <th>de</th>\n",
              "    </tr>\n",
              "  </thead>\n",
              "  <tbody>\n",
              "    <tr>\n",
              "      <th>0</th>\n",
              "      <td>서울특별시 강남구 개포동</td>\n",
              "      <td>655-2</td>\n",
              "      <td>655.0</td>\n",
              "      <td>2.0</td>\n",
              "      <td>개포2차현대아파트(220)</td>\n",
              "      <td>77.75</td>\n",
              "      <td>202006</td>\n",
              "      <td>23</td>\n",
              "      <td>149,500</td>\n",
              "      <td>4</td>\n",
              "      <td>1988</td>\n",
              "      <td>언주로 103</td>\n",
              "      <td>NaN</td>\n",
              "    </tr>\n",
              "    <tr>\n",
              "      <th>1</th>\n",
              "      <td>서울특별시 강남구 개포동</td>\n",
              "      <td>658-1</td>\n",
              "      <td>658.0</td>\n",
              "      <td>1.0</td>\n",
              "      <td>개포6차우성아파트1동~8동</td>\n",
              "      <td>54.98</td>\n",
              "      <td>202002</td>\n",
              "      <td>24</td>\n",
              "      <td>144,000</td>\n",
              "      <td>4</td>\n",
              "      <td>1987</td>\n",
              "      <td>언주로 3</td>\n",
              "      <td>NaN</td>\n",
              "    </tr>\n",
              "    <tr>\n",
              "      <th>2</th>\n",
              "      <td>서울특별시 강남구 개포동</td>\n",
              "      <td>658-1</td>\n",
              "      <td>658.0</td>\n",
              "      <td>1.0</td>\n",
              "      <td>개포6차우성아파트1동~8동</td>\n",
              "      <td>79.97</td>\n",
              "      <td>202006</td>\n",
              "      <td>18</td>\n",
              "      <td>162,750</td>\n",
              "      <td>4</td>\n",
              "      <td>1987</td>\n",
              "      <td>언주로 3</td>\n",
              "      <td>NaN</td>\n",
              "    </tr>\n",
              "    <tr>\n",
              "      <th>3</th>\n",
              "      <td>서울특별시 강남구 개포동</td>\n",
              "      <td>658-1</td>\n",
              "      <td>658.0</td>\n",
              "      <td>1.0</td>\n",
              "      <td>개포6차우성아파트1동~8동</td>\n",
              "      <td>79.97</td>\n",
              "      <td>202006</td>\n",
              "      <td>20</td>\n",
              "      <td>160,000</td>\n",
              "      <td>5</td>\n",
              "      <td>1987</td>\n",
              "      <td>언주로 3</td>\n",
              "      <td>NaN</td>\n",
              "    </tr>\n",
              "    <tr>\n",
              "      <th>4</th>\n",
              "      <td>서울특별시 강남구 개포동</td>\n",
              "      <td>658-1</td>\n",
              "      <td>658.0</td>\n",
              "      <td>1.0</td>\n",
              "      <td>개포6차우성아파트1동~8동</td>\n",
              "      <td>79.97</td>\n",
              "      <td>202006</td>\n",
              "      <td>22</td>\n",
              "      <td>150,000</td>\n",
              "      <td>2</td>\n",
              "      <td>1987</td>\n",
              "      <td>언주로 3</td>\n",
              "      <td>NaN</td>\n",
              "    </tr>\n",
              "  </tbody>\n",
              "</table>\n",
              "</div>"
            ],
            "text/plain": [
              "        location    bun  bun_1  bun_2            name  square  date_ym  day  \\\n",
              "0  서울특별시 강남구 개포동  655-2  655.0    2.0  개포2차현대아파트(220)   77.75   202006   23   \n",
              "1  서울특별시 강남구 개포동  658-1  658.0    1.0  개포6차우성아파트1동~8동   54.98   202002   24   \n",
              "2  서울특별시 강남구 개포동  658-1  658.0    1.0  개포6차우성아파트1동~8동   79.97   202006   18   \n",
              "3  서울특별시 강남구 개포동  658-1  658.0    1.0  개포6차우성아파트1동~8동   79.97   202006   20   \n",
              "4  서울특별시 강남구 개포동  658-1  658.0    1.0  개포6차우성아파트1동~8동   79.97   202006   22   \n",
              "\n",
              "      cost  floor  blit_year road_name  de  \n",
              "0  149,500      4       1988   언주로 103 NaN  \n",
              "1  144,000      4       1987     언주로 3 NaN  \n",
              "2  162,750      4       1987     언주로 3 NaN  \n",
              "3  160,000      5       1987     언주로 3 NaN  \n",
              "4  150,000      2       1987     언주로 3 NaN  "
            ]
          },
          "metadata": {
            "tags": []
          },
          "execution_count": 13
        }
      ]
    },
    {
      "cell_type": "code",
      "metadata": {
        "id": "b4cd4b92"
      },
      "source": [
        "seoul = df.drop(['bun', 'bun_1', 'bun_2', 'day', 'road_name', 'de'],axis=1)"
      ],
      "id": "b4cd4b92",
      "execution_count": null,
      "outputs": []
    },
    {
      "cell_type": "code",
      "metadata": {
        "id": "a75736de",
        "outputId": "15aedd3d-6a3d-4e36-ea79-1a95b73778c6"
      },
      "source": [
        "seoul.head()"
      ],
      "id": "a75736de",
      "execution_count": null,
      "outputs": [
        {
          "output_type": "execute_result",
          "data": {
            "text/html": [
              "<div>\n",
              "<style scoped>\n",
              "    .dataframe tbody tr th:only-of-type {\n",
              "        vertical-align: middle;\n",
              "    }\n",
              "\n",
              "    .dataframe tbody tr th {\n",
              "        vertical-align: top;\n",
              "    }\n",
              "\n",
              "    .dataframe thead th {\n",
              "        text-align: right;\n",
              "    }\n",
              "</style>\n",
              "<table border=\"1\" class=\"dataframe\">\n",
              "  <thead>\n",
              "    <tr style=\"text-align: right;\">\n",
              "      <th></th>\n",
              "      <th>location</th>\n",
              "      <th>name</th>\n",
              "      <th>square</th>\n",
              "      <th>date_ym</th>\n",
              "      <th>cost</th>\n",
              "      <th>floor</th>\n",
              "      <th>blit_year</th>\n",
              "    </tr>\n",
              "  </thead>\n",
              "  <tbody>\n",
              "    <tr>\n",
              "      <th>0</th>\n",
              "      <td>서울특별시 강남구 개포동</td>\n",
              "      <td>개포2차현대아파트(220)</td>\n",
              "      <td>77.75</td>\n",
              "      <td>202006</td>\n",
              "      <td>149,500</td>\n",
              "      <td>4</td>\n",
              "      <td>1988</td>\n",
              "    </tr>\n",
              "    <tr>\n",
              "      <th>1</th>\n",
              "      <td>서울특별시 강남구 개포동</td>\n",
              "      <td>개포6차우성아파트1동~8동</td>\n",
              "      <td>54.98</td>\n",
              "      <td>202002</td>\n",
              "      <td>144,000</td>\n",
              "      <td>4</td>\n",
              "      <td>1987</td>\n",
              "    </tr>\n",
              "    <tr>\n",
              "      <th>2</th>\n",
              "      <td>서울특별시 강남구 개포동</td>\n",
              "      <td>개포6차우성아파트1동~8동</td>\n",
              "      <td>79.97</td>\n",
              "      <td>202006</td>\n",
              "      <td>162,750</td>\n",
              "      <td>4</td>\n",
              "      <td>1987</td>\n",
              "    </tr>\n",
              "    <tr>\n",
              "      <th>3</th>\n",
              "      <td>서울특별시 강남구 개포동</td>\n",
              "      <td>개포6차우성아파트1동~8동</td>\n",
              "      <td>79.97</td>\n",
              "      <td>202006</td>\n",
              "      <td>160,000</td>\n",
              "      <td>5</td>\n",
              "      <td>1987</td>\n",
              "    </tr>\n",
              "    <tr>\n",
              "      <th>4</th>\n",
              "      <td>서울특별시 강남구 개포동</td>\n",
              "      <td>개포6차우성아파트1동~8동</td>\n",
              "      <td>79.97</td>\n",
              "      <td>202006</td>\n",
              "      <td>150,000</td>\n",
              "      <td>2</td>\n",
              "      <td>1987</td>\n",
              "    </tr>\n",
              "  </tbody>\n",
              "</table>\n",
              "</div>"
            ],
            "text/plain": [
              "        location            name  square  date_ym     cost  floor  blit_year\n",
              "0  서울특별시 강남구 개포동  개포2차현대아파트(220)   77.75   202006  149,500      4       1988\n",
              "1  서울특별시 강남구 개포동  개포6차우성아파트1동~8동   54.98   202002  144,000      4       1987\n",
              "2  서울특별시 강남구 개포동  개포6차우성아파트1동~8동   79.97   202006  162,750      4       1987\n",
              "3  서울특별시 강남구 개포동  개포6차우성아파트1동~8동   79.97   202006  160,000      5       1987\n",
              "4  서울특별시 강남구 개포동  개포6차우성아파트1동~8동   79.97   202006  150,000      2       1987"
            ]
          },
          "metadata": {
            "tags": []
          },
          "execution_count": 15
        }
      ]
    },
    {
      "cell_type": "code",
      "metadata": {
        "id": "283d714e",
        "outputId": "9ca32cd9-74da-4843-e5e8-c1ac1c8d5851"
      },
      "source": [
        "len(seoul.location.unique())"
      ],
      "id": "283d714e",
      "execution_count": null,
      "outputs": [
        {
          "output_type": "execute_result",
          "data": {
            "text/plain": [
              "329"
            ]
          },
          "metadata": {
            "tags": []
          },
          "execution_count": 16
        }
      ]
    },
    {
      "cell_type": "code",
      "metadata": {
        "id": "ce541ffe"
      },
      "source": [
        "# 주소 분할 군, 동\n",
        "seoul['gu'] = seoul.location.str.split(' ').str[1]\n",
        "seoul['dong'] = seoul.location.str.split(' ').str[2]"
      ],
      "id": "ce541ffe",
      "execution_count": null,
      "outputs": []
    },
    {
      "cell_type": "code",
      "metadata": {
        "scrolled": true,
        "id": "f31d2457",
        "outputId": "eb0d915d-3440-4933-9b5c-87ecc5ca930d"
      },
      "source": [
        "seoul.head()"
      ],
      "id": "f31d2457",
      "execution_count": null,
      "outputs": [
        {
          "output_type": "execute_result",
          "data": {
            "text/html": [
              "<div>\n",
              "<style scoped>\n",
              "    .dataframe tbody tr th:only-of-type {\n",
              "        vertical-align: middle;\n",
              "    }\n",
              "\n",
              "    .dataframe tbody tr th {\n",
              "        vertical-align: top;\n",
              "    }\n",
              "\n",
              "    .dataframe thead th {\n",
              "        text-align: right;\n",
              "    }\n",
              "</style>\n",
              "<table border=\"1\" class=\"dataframe\">\n",
              "  <thead>\n",
              "    <tr style=\"text-align: right;\">\n",
              "      <th></th>\n",
              "      <th>location</th>\n",
              "      <th>name</th>\n",
              "      <th>square</th>\n",
              "      <th>date_ym</th>\n",
              "      <th>cost</th>\n",
              "      <th>floor</th>\n",
              "      <th>blit_year</th>\n",
              "      <th>gu</th>\n",
              "      <th>dong</th>\n",
              "    </tr>\n",
              "  </thead>\n",
              "  <tbody>\n",
              "    <tr>\n",
              "      <th>0</th>\n",
              "      <td>서울특별시 강남구 개포동</td>\n",
              "      <td>개포2차현대아파트(220)</td>\n",
              "      <td>77.75</td>\n",
              "      <td>202006</td>\n",
              "      <td>149,500</td>\n",
              "      <td>4</td>\n",
              "      <td>1988</td>\n",
              "      <td>강남구</td>\n",
              "      <td>개포동</td>\n",
              "    </tr>\n",
              "    <tr>\n",
              "      <th>1</th>\n",
              "      <td>서울특별시 강남구 개포동</td>\n",
              "      <td>개포6차우성아파트1동~8동</td>\n",
              "      <td>54.98</td>\n",
              "      <td>202002</td>\n",
              "      <td>144,000</td>\n",
              "      <td>4</td>\n",
              "      <td>1987</td>\n",
              "      <td>강남구</td>\n",
              "      <td>개포동</td>\n",
              "    </tr>\n",
              "    <tr>\n",
              "      <th>2</th>\n",
              "      <td>서울특별시 강남구 개포동</td>\n",
              "      <td>개포6차우성아파트1동~8동</td>\n",
              "      <td>79.97</td>\n",
              "      <td>202006</td>\n",
              "      <td>162,750</td>\n",
              "      <td>4</td>\n",
              "      <td>1987</td>\n",
              "      <td>강남구</td>\n",
              "      <td>개포동</td>\n",
              "    </tr>\n",
              "    <tr>\n",
              "      <th>3</th>\n",
              "      <td>서울특별시 강남구 개포동</td>\n",
              "      <td>개포6차우성아파트1동~8동</td>\n",
              "      <td>79.97</td>\n",
              "      <td>202006</td>\n",
              "      <td>160,000</td>\n",
              "      <td>5</td>\n",
              "      <td>1987</td>\n",
              "      <td>강남구</td>\n",
              "      <td>개포동</td>\n",
              "    </tr>\n",
              "    <tr>\n",
              "      <th>4</th>\n",
              "      <td>서울특별시 강남구 개포동</td>\n",
              "      <td>개포6차우성아파트1동~8동</td>\n",
              "      <td>79.97</td>\n",
              "      <td>202006</td>\n",
              "      <td>150,000</td>\n",
              "      <td>2</td>\n",
              "      <td>1987</td>\n",
              "      <td>강남구</td>\n",
              "      <td>개포동</td>\n",
              "    </tr>\n",
              "  </tbody>\n",
              "</table>\n",
              "</div>"
            ],
            "text/plain": [
              "        location            name  square  date_ym     cost  floor  blit_year  \\\n",
              "0  서울특별시 강남구 개포동  개포2차현대아파트(220)   77.75   202006  149,500      4       1988   \n",
              "1  서울특별시 강남구 개포동  개포6차우성아파트1동~8동   54.98   202002  144,000      4       1987   \n",
              "2  서울특별시 강남구 개포동  개포6차우성아파트1동~8동   79.97   202006  162,750      4       1987   \n",
              "3  서울특별시 강남구 개포동  개포6차우성아파트1동~8동   79.97   202006  160,000      5       1987   \n",
              "4  서울특별시 강남구 개포동  개포6차우성아파트1동~8동   79.97   202006  150,000      2       1987   \n",
              "\n",
              "    gu dong  \n",
              "0  강남구  개포동  \n",
              "1  강남구  개포동  \n",
              "2  강남구  개포동  \n",
              "3  강남구  개포동  \n",
              "4  강남구  개포동  "
            ]
          },
          "metadata": {
            "tags": []
          },
          "execution_count": 18
        }
      ]
    },
    {
      "cell_type": "code",
      "metadata": {
        "id": "00d34274",
        "outputId": "3a88d546-1ed1-4364-de87-78357b29232f"
      },
      "source": [
        "seoul.info()"
      ],
      "id": "00d34274",
      "execution_count": null,
      "outputs": [
        {
          "output_type": "stream",
          "text": [
            "<class 'pandas.core.frame.DataFrame'>\n",
            "Int64Index: 114149 entries, 0 to 29922\n",
            "Data columns (total 9 columns):\n",
            " #   Column     Non-Null Count   Dtype  \n",
            "---  ------     --------------   -----  \n",
            " 0   location   114149 non-null  object \n",
            " 1   name       114149 non-null  object \n",
            " 2   square     114149 non-null  float64\n",
            " 3   date_ym    114149 non-null  int64  \n",
            " 4   cost       114149 non-null  object \n",
            " 5   floor      114149 non-null  int64  \n",
            " 6   blit_year  114149 non-null  int64  \n",
            " 7   gu         114149 non-null  object \n",
            " 8   dong       114149 non-null  object \n",
            "dtypes: float64(1), int64(3), object(5)\n",
            "memory usage: 8.7+ MB\n"
          ],
          "name": "stdout"
        }
      ]
    },
    {
      "cell_type": "code",
      "metadata": {
        "id": "e4f7f3bb",
        "outputId": "687e382d-6bf5-42df-b565-02b84bed2bec"
      },
      "source": [
        "seoul.isnull().sum()"
      ],
      "id": "e4f7f3bb",
      "execution_count": null,
      "outputs": [
        {
          "output_type": "execute_result",
          "data": {
            "text/plain": [
              "location     0\n",
              "name         0\n",
              "square       0\n",
              "date_ym      0\n",
              "cost         0\n",
              "floor        0\n",
              "blit_year    0\n",
              "gu           0\n",
              "dong         0\n",
              "dtype: int64"
            ]
          },
          "metadata": {
            "tags": []
          },
          "execution_count": 20
        }
      ]
    },
    {
      "cell_type": "code",
      "metadata": {
        "id": "f8c23b0a"
      },
      "source": [
        "# 구별 빈도수\n",
        "count_gu = seoul.gu.value_counts()"
      ],
      "id": "f8c23b0a",
      "execution_count": null,
      "outputs": []
    },
    {
      "cell_type": "code",
      "metadata": {
        "id": "758f71a9"
      },
      "source": [
        "count_gu = pd.DataFrame(count_gu).reset_index()"
      ],
      "id": "758f71a9",
      "execution_count": null,
      "outputs": []
    },
    {
      "cell_type": "code",
      "metadata": {
        "id": "b7b25ff2"
      },
      "source": [
        "count_gu.plot.bar(x='index', y='gu', rot=0)\n",
        "plt.show()"
      ],
      "id": "b7b25ff2",
      "execution_count": null,
      "outputs": []
    },
    {
      "cell_type": "code",
      "metadata": {
        "scrolled": false,
        "id": "8c18eb34",
        "outputId": "1dcbd8b0-25d9-45ae-f986-b4ee8085e026"
      },
      "source": [
        "count_gu"
      ],
      "id": "8c18eb34",
      "execution_count": null,
      "outputs": [
        {
          "output_type": "execute_result",
          "data": {
            "text/html": [
              "<div>\n",
              "<style scoped>\n",
              "    .dataframe tbody tr th:only-of-type {\n",
              "        vertical-align: middle;\n",
              "    }\n",
              "\n",
              "    .dataframe tbody tr th {\n",
              "        vertical-align: top;\n",
              "    }\n",
              "\n",
              "    .dataframe thead th {\n",
              "        text-align: right;\n",
              "    }\n",
              "</style>\n",
              "<table border=\"1\" class=\"dataframe\">\n",
              "  <thead>\n",
              "    <tr style=\"text-align: right;\">\n",
              "      <th></th>\n",
              "      <th>index</th>\n",
              "      <th>gu</th>\n",
              "    </tr>\n",
              "  </thead>\n",
              "  <tbody>\n",
              "    <tr>\n",
              "      <th>0</th>\n",
              "      <td>노원구</td>\n",
              "      <td>12066</td>\n",
              "    </tr>\n",
              "    <tr>\n",
              "      <th>1</th>\n",
              "      <td>강서구</td>\n",
              "      <td>7796</td>\n",
              "    </tr>\n",
              "    <tr>\n",
              "      <th>2</th>\n",
              "      <td>구로구</td>\n",
              "      <td>6940</td>\n",
              "    </tr>\n",
              "    <tr>\n",
              "      <th>3</th>\n",
              "      <td>송파구</td>\n",
              "      <td>6059</td>\n",
              "    </tr>\n",
              "    <tr>\n",
              "      <th>4</th>\n",
              "      <td>도봉구</td>\n",
              "      <td>5995</td>\n",
              "    </tr>\n",
              "    <tr>\n",
              "      <th>5</th>\n",
              "      <td>성북구</td>\n",
              "      <td>5966</td>\n",
              "    </tr>\n",
              "    <tr>\n",
              "      <th>6</th>\n",
              "      <td>강동구</td>\n",
              "      <td>5637</td>\n",
              "    </tr>\n",
              "    <tr>\n",
              "      <th>7</th>\n",
              "      <td>강남구</td>\n",
              "      <td>5465</td>\n",
              "    </tr>\n",
              "    <tr>\n",
              "      <th>8</th>\n",
              "      <td>서초구</td>\n",
              "      <td>4859</td>\n",
              "    </tr>\n",
              "    <tr>\n",
              "      <th>9</th>\n",
              "      <td>양천구</td>\n",
              "      <td>4851</td>\n",
              "    </tr>\n",
              "    <tr>\n",
              "      <th>10</th>\n",
              "      <td>영등포구</td>\n",
              "      <td>4676</td>\n",
              "    </tr>\n",
              "    <tr>\n",
              "      <th>11</th>\n",
              "      <td>은평구</td>\n",
              "      <td>4537</td>\n",
              "    </tr>\n",
              "    <tr>\n",
              "      <th>12</th>\n",
              "      <td>동대문구</td>\n",
              "      <td>4417</td>\n",
              "    </tr>\n",
              "    <tr>\n",
              "      <th>13</th>\n",
              "      <td>성동구</td>\n",
              "      <td>4029</td>\n",
              "    </tr>\n",
              "    <tr>\n",
              "      <th>14</th>\n",
              "      <td>중랑구</td>\n",
              "      <td>4009</td>\n",
              "    </tr>\n",
              "    <tr>\n",
              "      <th>15</th>\n",
              "      <td>동작구</td>\n",
              "      <td>3936</td>\n",
              "    </tr>\n",
              "    <tr>\n",
              "      <th>16</th>\n",
              "      <td>마포구</td>\n",
              "      <td>3839</td>\n",
              "    </tr>\n",
              "    <tr>\n",
              "      <th>17</th>\n",
              "      <td>서대문구</td>\n",
              "      <td>3697</td>\n",
              "    </tr>\n",
              "    <tr>\n",
              "      <th>18</th>\n",
              "      <td>관악구</td>\n",
              "      <td>3668</td>\n",
              "    </tr>\n",
              "    <tr>\n",
              "      <th>19</th>\n",
              "      <td>강북구</td>\n",
              "      <td>2848</td>\n",
              "    </tr>\n",
              "    <tr>\n",
              "      <th>20</th>\n",
              "      <td>금천구</td>\n",
              "      <td>2370</td>\n",
              "    </tr>\n",
              "    <tr>\n",
              "      <th>21</th>\n",
              "      <td>용산구</td>\n",
              "      <td>2158</td>\n",
              "    </tr>\n",
              "    <tr>\n",
              "      <th>22</th>\n",
              "      <td>광진구</td>\n",
              "      <td>1783</td>\n",
              "    </tr>\n",
              "    <tr>\n",
              "      <th>23</th>\n",
              "      <td>중구</td>\n",
              "      <td>1468</td>\n",
              "    </tr>\n",
              "    <tr>\n",
              "      <th>24</th>\n",
              "      <td>종로구</td>\n",
              "      <td>1080</td>\n",
              "    </tr>\n",
              "  </tbody>\n",
              "</table>\n",
              "</div>"
            ],
            "text/plain": [
              "   index     gu\n",
              "0    노원구  12066\n",
              "1    강서구   7796\n",
              "2    구로구   6940\n",
              "3    송파구   6059\n",
              "4    도봉구   5995\n",
              "5    성북구   5966\n",
              "6    강동구   5637\n",
              "7    강남구   5465\n",
              "8    서초구   4859\n",
              "9    양천구   4851\n",
              "10  영등포구   4676\n",
              "11   은평구   4537\n",
              "12  동대문구   4417\n",
              "13   성동구   4029\n",
              "14   중랑구   4009\n",
              "15   동작구   3936\n",
              "16   마포구   3839\n",
              "17  서대문구   3697\n",
              "18   관악구   3668\n",
              "19   강북구   2848\n",
              "20   금천구   2370\n",
              "21   용산구   2158\n",
              "22   광진구   1783\n",
              "23    중구   1468\n",
              "24   종로구   1080"
            ]
          },
          "metadata": {
            "tags": []
          },
          "execution_count": 24
        }
      ]
    },
    {
      "cell_type": "code",
      "metadata": {
        "id": "aaaeb5c5"
      },
      "source": [
        "# 판매 년도, 연식 계산\n",
        "\n",
        "seoul['sale_y'] = seoul.date_ym.astype(str).str[:4].astype(int)"
      ],
      "id": "aaaeb5c5",
      "execution_count": null,
      "outputs": []
    },
    {
      "cell_type": "code",
      "metadata": {
        "id": "e7a2da51",
        "outputId": "c5e4abd3-e089-44cd-dc04-34e4d3435104"
      },
      "source": [
        "seoul.info()"
      ],
      "id": "e7a2da51",
      "execution_count": null,
      "outputs": [
        {
          "output_type": "stream",
          "text": [
            "<class 'pandas.core.frame.DataFrame'>\n",
            "Int64Index: 114149 entries, 0 to 29922\n",
            "Data columns (total 10 columns):\n",
            " #   Column     Non-Null Count   Dtype  \n",
            "---  ------     --------------   -----  \n",
            " 0   location   114149 non-null  object \n",
            " 1   name       114149 non-null  object \n",
            " 2   square     114149 non-null  float64\n",
            " 3   date_ym    114149 non-null  int64  \n",
            " 4   cost       114149 non-null  object \n",
            " 5   floor      114149 non-null  int64  \n",
            " 6   blit_year  114149 non-null  int64  \n",
            " 7   gu         114149 non-null  object \n",
            " 8   dong       114149 non-null  object \n",
            " 9   sale_y     114149 non-null  int64  \n",
            "dtypes: float64(1), int64(4), object(5)\n",
            "memory usage: 9.6+ MB\n"
          ],
          "name": "stdout"
        }
      ]
    },
    {
      "cell_type": "code",
      "metadata": {
        "id": "2a3b03b4",
        "outputId": "71be52e4-3e47-4e0a-f058-9fddffb165bb"
      },
      "source": [
        "seoul.head()"
      ],
      "id": "2a3b03b4",
      "execution_count": null,
      "outputs": [
        {
          "output_type": "execute_result",
          "data": {
            "text/html": [
              "<div>\n",
              "<style scoped>\n",
              "    .dataframe tbody tr th:only-of-type {\n",
              "        vertical-align: middle;\n",
              "    }\n",
              "\n",
              "    .dataframe tbody tr th {\n",
              "        vertical-align: top;\n",
              "    }\n",
              "\n",
              "    .dataframe thead th {\n",
              "        text-align: right;\n",
              "    }\n",
              "</style>\n",
              "<table border=\"1\" class=\"dataframe\">\n",
              "  <thead>\n",
              "    <tr style=\"text-align: right;\">\n",
              "      <th></th>\n",
              "      <th>location</th>\n",
              "      <th>name</th>\n",
              "      <th>square</th>\n",
              "      <th>date_ym</th>\n",
              "      <th>cost</th>\n",
              "      <th>floor</th>\n",
              "      <th>blit_year</th>\n",
              "      <th>gu</th>\n",
              "      <th>dong</th>\n",
              "      <th>sale_y</th>\n",
              "    </tr>\n",
              "  </thead>\n",
              "  <tbody>\n",
              "    <tr>\n",
              "      <th>0</th>\n",
              "      <td>서울특별시 강남구 개포동</td>\n",
              "      <td>개포2차현대아파트(220)</td>\n",
              "      <td>77.75</td>\n",
              "      <td>202006</td>\n",
              "      <td>149,500</td>\n",
              "      <td>4</td>\n",
              "      <td>1988</td>\n",
              "      <td>강남구</td>\n",
              "      <td>개포동</td>\n",
              "      <td>2020</td>\n",
              "    </tr>\n",
              "    <tr>\n",
              "      <th>1</th>\n",
              "      <td>서울특별시 강남구 개포동</td>\n",
              "      <td>개포6차우성아파트1동~8동</td>\n",
              "      <td>54.98</td>\n",
              "      <td>202002</td>\n",
              "      <td>144,000</td>\n",
              "      <td>4</td>\n",
              "      <td>1987</td>\n",
              "      <td>강남구</td>\n",
              "      <td>개포동</td>\n",
              "      <td>2020</td>\n",
              "    </tr>\n",
              "    <tr>\n",
              "      <th>2</th>\n",
              "      <td>서울특별시 강남구 개포동</td>\n",
              "      <td>개포6차우성아파트1동~8동</td>\n",
              "      <td>79.97</td>\n",
              "      <td>202006</td>\n",
              "      <td>162,750</td>\n",
              "      <td>4</td>\n",
              "      <td>1987</td>\n",
              "      <td>강남구</td>\n",
              "      <td>개포동</td>\n",
              "      <td>2020</td>\n",
              "    </tr>\n",
              "    <tr>\n",
              "      <th>3</th>\n",
              "      <td>서울특별시 강남구 개포동</td>\n",
              "      <td>개포6차우성아파트1동~8동</td>\n",
              "      <td>79.97</td>\n",
              "      <td>202006</td>\n",
              "      <td>160,000</td>\n",
              "      <td>5</td>\n",
              "      <td>1987</td>\n",
              "      <td>강남구</td>\n",
              "      <td>개포동</td>\n",
              "      <td>2020</td>\n",
              "    </tr>\n",
              "    <tr>\n",
              "      <th>4</th>\n",
              "      <td>서울특별시 강남구 개포동</td>\n",
              "      <td>개포6차우성아파트1동~8동</td>\n",
              "      <td>79.97</td>\n",
              "      <td>202006</td>\n",
              "      <td>150,000</td>\n",
              "      <td>2</td>\n",
              "      <td>1987</td>\n",
              "      <td>강남구</td>\n",
              "      <td>개포동</td>\n",
              "      <td>2020</td>\n",
              "    </tr>\n",
              "  </tbody>\n",
              "</table>\n",
              "</div>"
            ],
            "text/plain": [
              "        location            name  square  date_ym     cost  floor  blit_year  \\\n",
              "0  서울특별시 강남구 개포동  개포2차현대아파트(220)   77.75   202006  149,500      4       1988   \n",
              "1  서울특별시 강남구 개포동  개포6차우성아파트1동~8동   54.98   202002  144,000      4       1987   \n",
              "2  서울특별시 강남구 개포동  개포6차우성아파트1동~8동   79.97   202006  162,750      4       1987   \n",
              "3  서울특별시 강남구 개포동  개포6차우성아파트1동~8동   79.97   202006  160,000      5       1987   \n",
              "4  서울특별시 강남구 개포동  개포6차우성아파트1동~8동   79.97   202006  150,000      2       1987   \n",
              "\n",
              "    gu dong  sale_y  \n",
              "0  강남구  개포동    2020  \n",
              "1  강남구  개포동    2020  \n",
              "2  강남구  개포동    2020  \n",
              "3  강남구  개포동    2020  \n",
              "4  강남구  개포동    2020  "
            ]
          },
          "metadata": {
            "tags": []
          },
          "execution_count": 27
        }
      ]
    },
    {
      "cell_type": "code",
      "metadata": {
        "id": "f72d8227"
      },
      "source": [
        "seoul['used_y'] = seoul['sale_y']-seoul['blit_year']"
      ],
      "id": "f72d8227",
      "execution_count": null,
      "outputs": []
    },
    {
      "cell_type": "code",
      "metadata": {
        "id": "48b967ca",
        "outputId": "0dc233a5-3a51-4dca-820e-4ef124905a46"
      },
      "source": [
        "seoul.head()"
      ],
      "id": "48b967ca",
      "execution_count": null,
      "outputs": [
        {
          "output_type": "execute_result",
          "data": {
            "text/html": [
              "<div>\n",
              "<style scoped>\n",
              "    .dataframe tbody tr th:only-of-type {\n",
              "        vertical-align: middle;\n",
              "    }\n",
              "\n",
              "    .dataframe tbody tr th {\n",
              "        vertical-align: top;\n",
              "    }\n",
              "\n",
              "    .dataframe thead th {\n",
              "        text-align: right;\n",
              "    }\n",
              "</style>\n",
              "<table border=\"1\" class=\"dataframe\">\n",
              "  <thead>\n",
              "    <tr style=\"text-align: right;\">\n",
              "      <th></th>\n",
              "      <th>location</th>\n",
              "      <th>name</th>\n",
              "      <th>square</th>\n",
              "      <th>date_ym</th>\n",
              "      <th>cost</th>\n",
              "      <th>floor</th>\n",
              "      <th>blit_year</th>\n",
              "      <th>gu</th>\n",
              "      <th>dong</th>\n",
              "      <th>sale_y</th>\n",
              "      <th>used_y</th>\n",
              "    </tr>\n",
              "  </thead>\n",
              "  <tbody>\n",
              "    <tr>\n",
              "      <th>0</th>\n",
              "      <td>서울특별시 강남구 개포동</td>\n",
              "      <td>개포2차현대아파트(220)</td>\n",
              "      <td>77.75</td>\n",
              "      <td>202006</td>\n",
              "      <td>149,500</td>\n",
              "      <td>4</td>\n",
              "      <td>1988</td>\n",
              "      <td>강남구</td>\n",
              "      <td>개포동</td>\n",
              "      <td>2020</td>\n",
              "      <td>32</td>\n",
              "    </tr>\n",
              "    <tr>\n",
              "      <th>1</th>\n",
              "      <td>서울특별시 강남구 개포동</td>\n",
              "      <td>개포6차우성아파트1동~8동</td>\n",
              "      <td>54.98</td>\n",
              "      <td>202002</td>\n",
              "      <td>144,000</td>\n",
              "      <td>4</td>\n",
              "      <td>1987</td>\n",
              "      <td>강남구</td>\n",
              "      <td>개포동</td>\n",
              "      <td>2020</td>\n",
              "      <td>33</td>\n",
              "    </tr>\n",
              "    <tr>\n",
              "      <th>2</th>\n",
              "      <td>서울특별시 강남구 개포동</td>\n",
              "      <td>개포6차우성아파트1동~8동</td>\n",
              "      <td>79.97</td>\n",
              "      <td>202006</td>\n",
              "      <td>162,750</td>\n",
              "      <td>4</td>\n",
              "      <td>1987</td>\n",
              "      <td>강남구</td>\n",
              "      <td>개포동</td>\n",
              "      <td>2020</td>\n",
              "      <td>33</td>\n",
              "    </tr>\n",
              "    <tr>\n",
              "      <th>3</th>\n",
              "      <td>서울특별시 강남구 개포동</td>\n",
              "      <td>개포6차우성아파트1동~8동</td>\n",
              "      <td>79.97</td>\n",
              "      <td>202006</td>\n",
              "      <td>160,000</td>\n",
              "      <td>5</td>\n",
              "      <td>1987</td>\n",
              "      <td>강남구</td>\n",
              "      <td>개포동</td>\n",
              "      <td>2020</td>\n",
              "      <td>33</td>\n",
              "    </tr>\n",
              "    <tr>\n",
              "      <th>4</th>\n",
              "      <td>서울특별시 강남구 개포동</td>\n",
              "      <td>개포6차우성아파트1동~8동</td>\n",
              "      <td>79.97</td>\n",
              "      <td>202006</td>\n",
              "      <td>150,000</td>\n",
              "      <td>2</td>\n",
              "      <td>1987</td>\n",
              "      <td>강남구</td>\n",
              "      <td>개포동</td>\n",
              "      <td>2020</td>\n",
              "      <td>33</td>\n",
              "    </tr>\n",
              "  </tbody>\n",
              "</table>\n",
              "</div>"
            ],
            "text/plain": [
              "        location            name  square  date_ym     cost  floor  blit_year  \\\n",
              "0  서울특별시 강남구 개포동  개포2차현대아파트(220)   77.75   202006  149,500      4       1988   \n",
              "1  서울특별시 강남구 개포동  개포6차우성아파트1동~8동   54.98   202002  144,000      4       1987   \n",
              "2  서울특별시 강남구 개포동  개포6차우성아파트1동~8동   79.97   202006  162,750      4       1987   \n",
              "3  서울특별시 강남구 개포동  개포6차우성아파트1동~8동   79.97   202006  160,000      5       1987   \n",
              "4  서울특별시 강남구 개포동  개포6차우성아파트1동~8동   79.97   202006  150,000      2       1987   \n",
              "\n",
              "    gu dong  sale_y  used_y  \n",
              "0  강남구  개포동    2020      32  \n",
              "1  강남구  개포동    2020      33  \n",
              "2  강남구  개포동    2020      33  \n",
              "3  강남구  개포동    2020      33  \n",
              "4  강남구  개포동    2020      33  "
            ]
          },
          "metadata": {
            "tags": []
          },
          "execution_count": 29
        }
      ]
    },
    {
      "cell_type": "code",
      "metadata": {
        "id": "19d170a1"
      },
      "source": [
        "# 가격 숫자형으로 변환 ','삭제\n",
        "seoul[\"cost\"] = df[\"cost\"].str.replace(pat=r'[^\\w]', repl=r'', regex=True).astype(int)"
      ],
      "id": "19d170a1",
      "execution_count": null,
      "outputs": []
    },
    {
      "cell_type": "code",
      "metadata": {
        "id": "7af76b13",
        "outputId": "974dda72-b2fd-41c9-876b-4cc290f928a1"
      },
      "source": [
        "seoul.head()"
      ],
      "id": "7af76b13",
      "execution_count": null,
      "outputs": [
        {
          "output_type": "execute_result",
          "data": {
            "text/html": [
              "<div>\n",
              "<style scoped>\n",
              "    .dataframe tbody tr th:only-of-type {\n",
              "        vertical-align: middle;\n",
              "    }\n",
              "\n",
              "    .dataframe tbody tr th {\n",
              "        vertical-align: top;\n",
              "    }\n",
              "\n",
              "    .dataframe thead th {\n",
              "        text-align: right;\n",
              "    }\n",
              "</style>\n",
              "<table border=\"1\" class=\"dataframe\">\n",
              "  <thead>\n",
              "    <tr style=\"text-align: right;\">\n",
              "      <th></th>\n",
              "      <th>location</th>\n",
              "      <th>name</th>\n",
              "      <th>square</th>\n",
              "      <th>date_ym</th>\n",
              "      <th>cost</th>\n",
              "      <th>floor</th>\n",
              "      <th>blit_year</th>\n",
              "      <th>gu</th>\n",
              "      <th>dong</th>\n",
              "      <th>sale_y</th>\n",
              "      <th>used_y</th>\n",
              "    </tr>\n",
              "  </thead>\n",
              "  <tbody>\n",
              "    <tr>\n",
              "      <th>0</th>\n",
              "      <td>서울특별시 강남구 개포동</td>\n",
              "      <td>개포2차현대아파트(220)</td>\n",
              "      <td>77.75</td>\n",
              "      <td>202006</td>\n",
              "      <td>149500</td>\n",
              "      <td>4</td>\n",
              "      <td>1988</td>\n",
              "      <td>강남구</td>\n",
              "      <td>개포동</td>\n",
              "      <td>2020</td>\n",
              "      <td>32</td>\n",
              "    </tr>\n",
              "    <tr>\n",
              "      <th>1</th>\n",
              "      <td>서울특별시 강남구 개포동</td>\n",
              "      <td>개포6차우성아파트1동~8동</td>\n",
              "      <td>54.98</td>\n",
              "      <td>202002</td>\n",
              "      <td>144000</td>\n",
              "      <td>4</td>\n",
              "      <td>1987</td>\n",
              "      <td>강남구</td>\n",
              "      <td>개포동</td>\n",
              "      <td>2020</td>\n",
              "      <td>33</td>\n",
              "    </tr>\n",
              "    <tr>\n",
              "      <th>2</th>\n",
              "      <td>서울특별시 강남구 개포동</td>\n",
              "      <td>개포6차우성아파트1동~8동</td>\n",
              "      <td>79.97</td>\n",
              "      <td>202006</td>\n",
              "      <td>162750</td>\n",
              "      <td>4</td>\n",
              "      <td>1987</td>\n",
              "      <td>강남구</td>\n",
              "      <td>개포동</td>\n",
              "      <td>2020</td>\n",
              "      <td>33</td>\n",
              "    </tr>\n",
              "    <tr>\n",
              "      <th>3</th>\n",
              "      <td>서울특별시 강남구 개포동</td>\n",
              "      <td>개포6차우성아파트1동~8동</td>\n",
              "      <td>79.97</td>\n",
              "      <td>202006</td>\n",
              "      <td>160000</td>\n",
              "      <td>5</td>\n",
              "      <td>1987</td>\n",
              "      <td>강남구</td>\n",
              "      <td>개포동</td>\n",
              "      <td>2020</td>\n",
              "      <td>33</td>\n",
              "    </tr>\n",
              "    <tr>\n",
              "      <th>4</th>\n",
              "      <td>서울특별시 강남구 개포동</td>\n",
              "      <td>개포6차우성아파트1동~8동</td>\n",
              "      <td>79.97</td>\n",
              "      <td>202006</td>\n",
              "      <td>150000</td>\n",
              "      <td>2</td>\n",
              "      <td>1987</td>\n",
              "      <td>강남구</td>\n",
              "      <td>개포동</td>\n",
              "      <td>2020</td>\n",
              "      <td>33</td>\n",
              "    </tr>\n",
              "  </tbody>\n",
              "</table>\n",
              "</div>"
            ],
            "text/plain": [
              "        location            name  square  date_ym    cost  floor  blit_year  \\\n",
              "0  서울특별시 강남구 개포동  개포2차현대아파트(220)   77.75   202006  149500      4       1988   \n",
              "1  서울특별시 강남구 개포동  개포6차우성아파트1동~8동   54.98   202002  144000      4       1987   \n",
              "2  서울특별시 강남구 개포동  개포6차우성아파트1동~8동   79.97   202006  162750      4       1987   \n",
              "3  서울특별시 강남구 개포동  개포6차우성아파트1동~8동   79.97   202006  160000      5       1987   \n",
              "4  서울특별시 강남구 개포동  개포6차우성아파트1동~8동   79.97   202006  150000      2       1987   \n",
              "\n",
              "    gu dong  sale_y  used_y  \n",
              "0  강남구  개포동    2020      32  \n",
              "1  강남구  개포동    2020      33  \n",
              "2  강남구  개포동    2020      33  \n",
              "3  강남구  개포동    2020      33  \n",
              "4  강남구  개포동    2020      33  "
            ]
          },
          "metadata": {
            "tags": []
          },
          "execution_count": 31
        }
      ]
    },
    {
      "cell_type": "code",
      "metadata": {
        "id": "2b4848f6"
      },
      "source": [
        "# 평단가 계산\n",
        "seoul['per_cost_man'] = seoul['cost'] / seoul['square']"
      ],
      "id": "2b4848f6",
      "execution_count": null,
      "outputs": []
    },
    {
      "cell_type": "code",
      "metadata": {
        "id": "5c1256b5",
        "outputId": "cc7ace03-3353-4d39-a9c5-9ce312e919fd"
      },
      "source": [
        "seoul.head()"
      ],
      "id": "5c1256b5",
      "execution_count": null,
      "outputs": [
        {
          "output_type": "execute_result",
          "data": {
            "text/html": [
              "<div>\n",
              "<style scoped>\n",
              "    .dataframe tbody tr th:only-of-type {\n",
              "        vertical-align: middle;\n",
              "    }\n",
              "\n",
              "    .dataframe tbody tr th {\n",
              "        vertical-align: top;\n",
              "    }\n",
              "\n",
              "    .dataframe thead th {\n",
              "        text-align: right;\n",
              "    }\n",
              "</style>\n",
              "<table border=\"1\" class=\"dataframe\">\n",
              "  <thead>\n",
              "    <tr style=\"text-align: right;\">\n",
              "      <th></th>\n",
              "      <th>location</th>\n",
              "      <th>name</th>\n",
              "      <th>square</th>\n",
              "      <th>date_ym</th>\n",
              "      <th>cost</th>\n",
              "      <th>floor</th>\n",
              "      <th>blit_year</th>\n",
              "      <th>gu</th>\n",
              "      <th>dong</th>\n",
              "      <th>sale_y</th>\n",
              "      <th>used_y</th>\n",
              "      <th>per_cost_man</th>\n",
              "    </tr>\n",
              "  </thead>\n",
              "  <tbody>\n",
              "    <tr>\n",
              "      <th>0</th>\n",
              "      <td>서울특별시 강남구 개포동</td>\n",
              "      <td>개포2차현대아파트(220)</td>\n",
              "      <td>77.75</td>\n",
              "      <td>202006</td>\n",
              "      <td>149500</td>\n",
              "      <td>4</td>\n",
              "      <td>1988</td>\n",
              "      <td>강남구</td>\n",
              "      <td>개포동</td>\n",
              "      <td>2020</td>\n",
              "      <td>32</td>\n",
              "      <td>1922.829582</td>\n",
              "    </tr>\n",
              "    <tr>\n",
              "      <th>1</th>\n",
              "      <td>서울특별시 강남구 개포동</td>\n",
              "      <td>개포6차우성아파트1동~8동</td>\n",
              "      <td>54.98</td>\n",
              "      <td>202002</td>\n",
              "      <td>144000</td>\n",
              "      <td>4</td>\n",
              "      <td>1987</td>\n",
              "      <td>강남구</td>\n",
              "      <td>개포동</td>\n",
              "      <td>2020</td>\n",
              "      <td>33</td>\n",
              "      <td>2619.134231</td>\n",
              "    </tr>\n",
              "    <tr>\n",
              "      <th>2</th>\n",
              "      <td>서울특별시 강남구 개포동</td>\n",
              "      <td>개포6차우성아파트1동~8동</td>\n",
              "      <td>79.97</td>\n",
              "      <td>202006</td>\n",
              "      <td>162750</td>\n",
              "      <td>4</td>\n",
              "      <td>1987</td>\n",
              "      <td>강남구</td>\n",
              "      <td>개포동</td>\n",
              "      <td>2020</td>\n",
              "      <td>33</td>\n",
              "      <td>2035.138177</td>\n",
              "    </tr>\n",
              "    <tr>\n",
              "      <th>3</th>\n",
              "      <td>서울특별시 강남구 개포동</td>\n",
              "      <td>개포6차우성아파트1동~8동</td>\n",
              "      <td>79.97</td>\n",
              "      <td>202006</td>\n",
              "      <td>160000</td>\n",
              "      <td>5</td>\n",
              "      <td>1987</td>\n",
              "      <td>강남구</td>\n",
              "      <td>개포동</td>\n",
              "      <td>2020</td>\n",
              "      <td>33</td>\n",
              "      <td>2000.750281</td>\n",
              "    </tr>\n",
              "    <tr>\n",
              "      <th>4</th>\n",
              "      <td>서울특별시 강남구 개포동</td>\n",
              "      <td>개포6차우성아파트1동~8동</td>\n",
              "      <td>79.97</td>\n",
              "      <td>202006</td>\n",
              "      <td>150000</td>\n",
              "      <td>2</td>\n",
              "      <td>1987</td>\n",
              "      <td>강남구</td>\n",
              "      <td>개포동</td>\n",
              "      <td>2020</td>\n",
              "      <td>33</td>\n",
              "      <td>1875.703389</td>\n",
              "    </tr>\n",
              "  </tbody>\n",
              "</table>\n",
              "</div>"
            ],
            "text/plain": [
              "        location            name  square  date_ym    cost  floor  blit_year  \\\n",
              "0  서울특별시 강남구 개포동  개포2차현대아파트(220)   77.75   202006  149500      4       1988   \n",
              "1  서울특별시 강남구 개포동  개포6차우성아파트1동~8동   54.98   202002  144000      4       1987   \n",
              "2  서울특별시 강남구 개포동  개포6차우성아파트1동~8동   79.97   202006  162750      4       1987   \n",
              "3  서울특별시 강남구 개포동  개포6차우성아파트1동~8동   79.97   202006  160000      5       1987   \n",
              "4  서울특별시 강남구 개포동  개포6차우성아파트1동~8동   79.97   202006  150000      2       1987   \n",
              "\n",
              "    gu dong  sale_y  used_y  per_cost_man  \n",
              "0  강남구  개포동    2020      32   1922.829582  \n",
              "1  강남구  개포동    2020      33   2619.134231  \n",
              "2  강남구  개포동    2020      33   2035.138177  \n",
              "3  강남구  개포동    2020      33   2000.750281  \n",
              "4  강남구  개포동    2020      33   1875.703389  "
            ]
          },
          "metadata": {
            "tags": []
          },
          "execution_count": 33
        }
      ]
    },
    {
      "cell_type": "code",
      "metadata": {
        "id": "e56c1bfa"
      },
      "source": [
        "# 테이블 정리\n",
        "seoul = seoul[['location', 'gu', 'dong', 'date_ym', 'blit_year', 'sale_y', 'used_y', 'square', 'per_cost_man', 'name', 'floor', 'cost']]"
      ],
      "id": "e56c1bfa",
      "execution_count": null,
      "outputs": []
    },
    {
      "cell_type": "code",
      "metadata": {
        "id": "125fb1d9",
        "outputId": "bc9e8f04-26d7-422a-c4f9-60f56a63369a"
      },
      "source": [
        "seoul.head()"
      ],
      "id": "125fb1d9",
      "execution_count": null,
      "outputs": [
        {
          "output_type": "execute_result",
          "data": {
            "text/html": [
              "<div>\n",
              "<style scoped>\n",
              "    .dataframe tbody tr th:only-of-type {\n",
              "        vertical-align: middle;\n",
              "    }\n",
              "\n",
              "    .dataframe tbody tr th {\n",
              "        vertical-align: top;\n",
              "    }\n",
              "\n",
              "    .dataframe thead th {\n",
              "        text-align: right;\n",
              "    }\n",
              "</style>\n",
              "<table border=\"1\" class=\"dataframe\">\n",
              "  <thead>\n",
              "    <tr style=\"text-align: right;\">\n",
              "      <th></th>\n",
              "      <th>location</th>\n",
              "      <th>gu</th>\n",
              "      <th>dong</th>\n",
              "      <th>date_ym</th>\n",
              "      <th>blit_year</th>\n",
              "      <th>sale_y</th>\n",
              "      <th>used_y</th>\n",
              "      <th>square</th>\n",
              "      <th>per_cost_man</th>\n",
              "      <th>name</th>\n",
              "      <th>floor</th>\n",
              "      <th>cost</th>\n",
              "    </tr>\n",
              "  </thead>\n",
              "  <tbody>\n",
              "    <tr>\n",
              "      <th>0</th>\n",
              "      <td>서울특별시 강남구 개포동</td>\n",
              "      <td>강남구</td>\n",
              "      <td>개포동</td>\n",
              "      <td>202006</td>\n",
              "      <td>1988</td>\n",
              "      <td>2020</td>\n",
              "      <td>32</td>\n",
              "      <td>77.75</td>\n",
              "      <td>1922.829582</td>\n",
              "      <td>개포2차현대아파트(220)</td>\n",
              "      <td>4</td>\n",
              "      <td>149500</td>\n",
              "    </tr>\n",
              "    <tr>\n",
              "      <th>1</th>\n",
              "      <td>서울특별시 강남구 개포동</td>\n",
              "      <td>강남구</td>\n",
              "      <td>개포동</td>\n",
              "      <td>202002</td>\n",
              "      <td>1987</td>\n",
              "      <td>2020</td>\n",
              "      <td>33</td>\n",
              "      <td>54.98</td>\n",
              "      <td>2619.134231</td>\n",
              "      <td>개포6차우성아파트1동~8동</td>\n",
              "      <td>4</td>\n",
              "      <td>144000</td>\n",
              "    </tr>\n",
              "    <tr>\n",
              "      <th>2</th>\n",
              "      <td>서울특별시 강남구 개포동</td>\n",
              "      <td>강남구</td>\n",
              "      <td>개포동</td>\n",
              "      <td>202006</td>\n",
              "      <td>1987</td>\n",
              "      <td>2020</td>\n",
              "      <td>33</td>\n",
              "      <td>79.97</td>\n",
              "      <td>2035.138177</td>\n",
              "      <td>개포6차우성아파트1동~8동</td>\n",
              "      <td>4</td>\n",
              "      <td>162750</td>\n",
              "    </tr>\n",
              "    <tr>\n",
              "      <th>3</th>\n",
              "      <td>서울특별시 강남구 개포동</td>\n",
              "      <td>강남구</td>\n",
              "      <td>개포동</td>\n",
              "      <td>202006</td>\n",
              "      <td>1987</td>\n",
              "      <td>2020</td>\n",
              "      <td>33</td>\n",
              "      <td>79.97</td>\n",
              "      <td>2000.750281</td>\n",
              "      <td>개포6차우성아파트1동~8동</td>\n",
              "      <td>5</td>\n",
              "      <td>160000</td>\n",
              "    </tr>\n",
              "    <tr>\n",
              "      <th>4</th>\n",
              "      <td>서울특별시 강남구 개포동</td>\n",
              "      <td>강남구</td>\n",
              "      <td>개포동</td>\n",
              "      <td>202006</td>\n",
              "      <td>1987</td>\n",
              "      <td>2020</td>\n",
              "      <td>33</td>\n",
              "      <td>79.97</td>\n",
              "      <td>1875.703389</td>\n",
              "      <td>개포6차우성아파트1동~8동</td>\n",
              "      <td>2</td>\n",
              "      <td>150000</td>\n",
              "    </tr>\n",
              "  </tbody>\n",
              "</table>\n",
              "</div>"
            ],
            "text/plain": [
              "        location   gu dong  date_ym  blit_year  sale_y  used_y  square  \\\n",
              "0  서울특별시 강남구 개포동  강남구  개포동   202006       1988    2020      32   77.75   \n",
              "1  서울특별시 강남구 개포동  강남구  개포동   202002       1987    2020      33   54.98   \n",
              "2  서울특별시 강남구 개포동  강남구  개포동   202006       1987    2020      33   79.97   \n",
              "3  서울특별시 강남구 개포동  강남구  개포동   202006       1987    2020      33   79.97   \n",
              "4  서울특별시 강남구 개포동  강남구  개포동   202006       1987    2020      33   79.97   \n",
              "\n",
              "   per_cost_man            name  floor    cost  \n",
              "0   1922.829582  개포2차현대아파트(220)      4  149500  \n",
              "1   2619.134231  개포6차우성아파트1동~8동      4  144000  \n",
              "2   2035.138177  개포6차우성아파트1동~8동      4  162750  \n",
              "3   2000.750281  개포6차우성아파트1동~8동      5  160000  \n",
              "4   1875.703389  개포6차우성아파트1동~8동      2  150000  "
            ]
          },
          "metadata": {
            "tags": []
          },
          "execution_count": 35
        }
      ]
    },
    {
      "cell_type": "code",
      "metadata": {
        "id": "a83f2a1d"
      },
      "source": [
        "seoul_1 = seoul.drop(['location', 'date_ym', 'blit_year', 'sale_y'], axis=1)"
      ],
      "id": "a83f2a1d",
      "execution_count": null,
      "outputs": []
    },
    {
      "cell_type": "code",
      "metadata": {
        "id": "183b1ff1",
        "outputId": "1efc5de3-90bd-4e4d-9723-4546883d4bc5"
      },
      "source": [
        "seoul_1.head()"
      ],
      "id": "183b1ff1",
      "execution_count": null,
      "outputs": [
        {
          "output_type": "execute_result",
          "data": {
            "text/html": [
              "<div>\n",
              "<style scoped>\n",
              "    .dataframe tbody tr th:only-of-type {\n",
              "        vertical-align: middle;\n",
              "    }\n",
              "\n",
              "    .dataframe tbody tr th {\n",
              "        vertical-align: top;\n",
              "    }\n",
              "\n",
              "    .dataframe thead th {\n",
              "        text-align: right;\n",
              "    }\n",
              "</style>\n",
              "<table border=\"1\" class=\"dataframe\">\n",
              "  <thead>\n",
              "    <tr style=\"text-align: right;\">\n",
              "      <th></th>\n",
              "      <th>gu</th>\n",
              "      <th>dong</th>\n",
              "      <th>used_y</th>\n",
              "      <th>square</th>\n",
              "      <th>per_cost_man</th>\n",
              "      <th>name</th>\n",
              "      <th>floor</th>\n",
              "      <th>cost</th>\n",
              "    </tr>\n",
              "  </thead>\n",
              "  <tbody>\n",
              "    <tr>\n",
              "      <th>0</th>\n",
              "      <td>강남구</td>\n",
              "      <td>개포동</td>\n",
              "      <td>32</td>\n",
              "      <td>77.75</td>\n",
              "      <td>1922.829582</td>\n",
              "      <td>개포2차현대아파트(220)</td>\n",
              "      <td>4</td>\n",
              "      <td>149500</td>\n",
              "    </tr>\n",
              "    <tr>\n",
              "      <th>1</th>\n",
              "      <td>강남구</td>\n",
              "      <td>개포동</td>\n",
              "      <td>33</td>\n",
              "      <td>54.98</td>\n",
              "      <td>2619.134231</td>\n",
              "      <td>개포6차우성아파트1동~8동</td>\n",
              "      <td>4</td>\n",
              "      <td>144000</td>\n",
              "    </tr>\n",
              "    <tr>\n",
              "      <th>2</th>\n",
              "      <td>강남구</td>\n",
              "      <td>개포동</td>\n",
              "      <td>33</td>\n",
              "      <td>79.97</td>\n",
              "      <td>2035.138177</td>\n",
              "      <td>개포6차우성아파트1동~8동</td>\n",
              "      <td>4</td>\n",
              "      <td>162750</td>\n",
              "    </tr>\n",
              "    <tr>\n",
              "      <th>3</th>\n",
              "      <td>강남구</td>\n",
              "      <td>개포동</td>\n",
              "      <td>33</td>\n",
              "      <td>79.97</td>\n",
              "      <td>2000.750281</td>\n",
              "      <td>개포6차우성아파트1동~8동</td>\n",
              "      <td>5</td>\n",
              "      <td>160000</td>\n",
              "    </tr>\n",
              "    <tr>\n",
              "      <th>4</th>\n",
              "      <td>강남구</td>\n",
              "      <td>개포동</td>\n",
              "      <td>33</td>\n",
              "      <td>79.97</td>\n",
              "      <td>1875.703389</td>\n",
              "      <td>개포6차우성아파트1동~8동</td>\n",
              "      <td>2</td>\n",
              "      <td>150000</td>\n",
              "    </tr>\n",
              "  </tbody>\n",
              "</table>\n",
              "</div>"
            ],
            "text/plain": [
              "    gu dong  used_y  square  per_cost_man            name  floor    cost\n",
              "0  강남구  개포동      32   77.75   1922.829582  개포2차현대아파트(220)      4  149500\n",
              "1  강남구  개포동      33   54.98   2619.134231  개포6차우성아파트1동~8동      4  144000\n",
              "2  강남구  개포동      33   79.97   2035.138177  개포6차우성아파트1동~8동      4  162750\n",
              "3  강남구  개포동      33   79.97   2000.750281  개포6차우성아파트1동~8동      5  160000\n",
              "4  강남구  개포동      33   79.97   1875.703389  개포6차우성아파트1동~8동      2  150000"
            ]
          },
          "metadata": {
            "tags": []
          },
          "execution_count": 37
        }
      ]
    },
    {
      "cell_type": "code",
      "metadata": {
        "id": "f228b482",
        "outputId": "49f15d11-e7cb-4242-e5d7-2fb060fe2c85"
      },
      "source": [
        "seoul_1.info()"
      ],
      "id": "f228b482",
      "execution_count": null,
      "outputs": [
        {
          "output_type": "stream",
          "text": [
            "<class 'pandas.core.frame.DataFrame'>\n",
            "Int64Index: 114149 entries, 0 to 29922\n",
            "Data columns (total 8 columns):\n",
            " #   Column        Non-Null Count   Dtype  \n",
            "---  ------        --------------   -----  \n",
            " 0   gu            114149 non-null  object \n",
            " 1   dong          114149 non-null  object \n",
            " 2   used_y        114149 non-null  int64  \n",
            " 3   square        114149 non-null  float64\n",
            " 4   per_cost_man  114149 non-null  float64\n",
            " 5   name          114149 non-null  object \n",
            " 6   floor         114149 non-null  int64  \n",
            " 7   cost          114149 non-null  int64  \n",
            "dtypes: float64(2), int64(3), object(3)\n",
            "memory usage: 7.8+ MB\n"
          ],
          "name": "stdout"
        }
      ]
    },
    {
      "cell_type": "code",
      "metadata": {
        "id": "8694f37b"
      },
      "source": [
        "# 아파트 명 단어 추출\n",
        "seoul_1['token'] = seoul_1[\"name\"].str.replace(pat=r'[아파트]|[^\\w]|[0-9]|[동]', repl=r'', regex=True).str.split('차').str[-1]"
      ],
      "id": "8694f37b",
      "execution_count": null,
      "outputs": []
    },
    {
      "cell_type": "code",
      "metadata": {
        "scrolled": true,
        "id": "ce600255",
        "outputId": "8a5cbcae-513f-44a3-8840-5dacfdfefb9f"
      },
      "source": [
        "seoul_1.head()"
      ],
      "id": "ce600255",
      "execution_count": null,
      "outputs": [
        {
          "output_type": "execute_result",
          "data": {
            "text/html": [
              "<div>\n",
              "<style scoped>\n",
              "    .dataframe tbody tr th:only-of-type {\n",
              "        vertical-align: middle;\n",
              "    }\n",
              "\n",
              "    .dataframe tbody tr th {\n",
              "        vertical-align: top;\n",
              "    }\n",
              "\n",
              "    .dataframe thead th {\n",
              "        text-align: right;\n",
              "    }\n",
              "</style>\n",
              "<table border=\"1\" class=\"dataframe\">\n",
              "  <thead>\n",
              "    <tr style=\"text-align: right;\">\n",
              "      <th></th>\n",
              "      <th>gu</th>\n",
              "      <th>dong</th>\n",
              "      <th>used_y</th>\n",
              "      <th>square</th>\n",
              "      <th>per_cost_man</th>\n",
              "      <th>name</th>\n",
              "      <th>floor</th>\n",
              "      <th>cost</th>\n",
              "      <th>token</th>\n",
              "      <th>YN_r</th>\n",
              "      <th>temp</th>\n",
              "      <th>YN_top10</th>\n",
              "    </tr>\n",
              "  </thead>\n",
              "  <tbody>\n",
              "    <tr>\n",
              "      <th>0</th>\n",
              "      <td>강남구</td>\n",
              "      <td>개포동</td>\n",
              "      <td>32</td>\n",
              "      <td>77.75</td>\n",
              "      <td>1922.829582</td>\n",
              "      <td>개포2차현대아파트(220)</td>\n",
              "      <td>4</td>\n",
              "      <td>149500</td>\n",
              "      <td>현대</td>\n",
              "      <td>1</td>\n",
              "      <td>개포</td>\n",
              "      <td>0</td>\n",
              "    </tr>\n",
              "    <tr>\n",
              "      <th>1</th>\n",
              "      <td>강남구</td>\n",
              "      <td>개포동</td>\n",
              "      <td>33</td>\n",
              "      <td>54.98</td>\n",
              "      <td>2619.134231</td>\n",
              "      <td>개포6차우성아파트1동~8동</td>\n",
              "      <td>4</td>\n",
              "      <td>144000</td>\n",
              "      <td>우성</td>\n",
              "      <td>1</td>\n",
              "      <td>개포</td>\n",
              "      <td>0</td>\n",
              "    </tr>\n",
              "    <tr>\n",
              "      <th>2</th>\n",
              "      <td>강남구</td>\n",
              "      <td>개포동</td>\n",
              "      <td>33</td>\n",
              "      <td>79.97</td>\n",
              "      <td>2035.138177</td>\n",
              "      <td>개포6차우성아파트1동~8동</td>\n",
              "      <td>4</td>\n",
              "      <td>162750</td>\n",
              "      <td>우성</td>\n",
              "      <td>1</td>\n",
              "      <td>개포</td>\n",
              "      <td>0</td>\n",
              "    </tr>\n",
              "    <tr>\n",
              "      <th>3</th>\n",
              "      <td>강남구</td>\n",
              "      <td>개포동</td>\n",
              "      <td>33</td>\n",
              "      <td>79.97</td>\n",
              "      <td>2000.750281</td>\n",
              "      <td>개포6차우성아파트1동~8동</td>\n",
              "      <td>5</td>\n",
              "      <td>160000</td>\n",
              "      <td>우성</td>\n",
              "      <td>1</td>\n",
              "      <td>개포</td>\n",
              "      <td>0</td>\n",
              "    </tr>\n",
              "    <tr>\n",
              "      <th>4</th>\n",
              "      <td>강남구</td>\n",
              "      <td>개포동</td>\n",
              "      <td>33</td>\n",
              "      <td>79.97</td>\n",
              "      <td>1875.703389</td>\n",
              "      <td>개포6차우성아파트1동~8동</td>\n",
              "      <td>2</td>\n",
              "      <td>150000</td>\n",
              "      <td>우성</td>\n",
              "      <td>1</td>\n",
              "      <td>개포</td>\n",
              "      <td>0</td>\n",
              "    </tr>\n",
              "  </tbody>\n",
              "</table>\n",
              "</div>"
            ],
            "text/plain": [
              "    gu dong  used_y  square  per_cost_man            name  floor    cost  \\\n",
              "0  강남구  개포동      32   77.75   1922.829582  개포2차현대아파트(220)      4  149500   \n",
              "1  강남구  개포동      33   54.98   2619.134231  개포6차우성아파트1동~8동      4  144000   \n",
              "2  강남구  개포동      33   79.97   2035.138177  개포6차우성아파트1동~8동      4  162750   \n",
              "3  강남구  개포동      33   79.97   2000.750281  개포6차우성아파트1동~8동      5  160000   \n",
              "4  강남구  개포동      33   79.97   1875.703389  개포6차우성아파트1동~8동      2  150000   \n",
              "\n",
              "  token  YN_r temp  YN_top10  \n",
              "0    현대     1   개포         0  \n",
              "1    우성     1   개포         0  \n",
              "2    우성     1   개포         0  \n",
              "3    우성     1   개포         0  \n",
              "4    우성     1   개포         0  "
            ]
          },
          "metadata": {
            "tags": []
          },
          "execution_count": 71
        }
      ]
    },
    {
      "cell_type": "code",
      "metadata": {
        "id": "2c7e9b9b"
      },
      "source": [
        "seoul_1['YN_r'] = 0\n",
        "seoul_1['temp'] = seoul_1['dong'].str.replace(pat=r'[동]', repl=r'', regex=True)"
      ],
      "id": "2c7e9b9b",
      "execution_count": null,
      "outputs": []
    },
    {
      "cell_type": "code",
      "metadata": {
        "id": "8219b7a9"
      },
      "source": [
        "dong_list = list(seoul_1['temp'].unique())"
      ],
      "id": "8219b7a9",
      "execution_count": null,
      "outputs": []
    },
    {
      "cell_type": "code",
      "metadata": {
        "id": "56edffbd"
      },
      "source": [
        "for i in dong_list:\n",
        "     seoul_1.loc[seoul_1['name'].str.contains(i), 'YN_r'] = 1"
      ],
      "id": "56edffbd",
      "execution_count": null,
      "outputs": []
    },
    {
      "cell_type": "code",
      "metadata": {
        "id": "1450fc5d",
        "outputId": "7b2a27e3-a947-4ca4-d798-033a6720ea6d"
      },
      "source": [
        "seoul_1['token'].value_counts()[:11]"
      ],
      "id": "1450fc5d",
      "execution_count": null,
      "outputs": [
        {
          "output_type": "execute_result",
          "data": {
            "text/plain": [
              "          6551\n",
              "상계주공고층    2392\n",
              "현대        2315\n",
              "주공        1618\n",
              "신         1492\n",
              "한신        1242\n",
              "우성        1212\n",
              "목신시가지     1057\n",
              "두산         955\n",
              "벽산         836\n",
              "삼성래미안      766\n",
              "Name: token, dtype: int64"
            ]
          },
          "metadata": {
            "tags": []
          },
          "execution_count": 94
        }
      ]
    },
    {
      "cell_type": "code",
      "metadata": {
        "id": "cd93d74b"
      },
      "source": [
        "seoul_1['YN_top10'] = 0"
      ],
      "id": "cd93d74b",
      "execution_count": null,
      "outputs": []
    },
    {
      "cell_type": "code",
      "metadata": {
        "id": "bedaa54c"
      },
      "source": [
        "top_list = ['상계주공고층', '현대', '주공', '신', '한신', '우성', '목신시가지', '두산', '벽산', '삼성래미안']"
      ],
      "id": "bedaa54c",
      "execution_count": null,
      "outputs": []
    },
    {
      "cell_type": "code",
      "metadata": {
        "id": "72b8ac1b"
      },
      "source": [
        "for i in top_list:\n",
        "     seoul_1.loc[seoul_1['name'].str.contains(i), 'YN_top10'] = 1"
      ],
      "id": "72b8ac1b",
      "execution_count": null,
      "outputs": []
    },
    {
      "cell_type": "code",
      "metadata": {
        "scrolled": true,
        "id": "daa47def",
        "outputId": "d0463f4c-bd1a-428b-de94-a221c66d496e"
      },
      "source": [
        "seoul_1.head(5)"
      ],
      "id": "daa47def",
      "execution_count": null,
      "outputs": [
        {
          "output_type": "execute_result",
          "data": {
            "text/html": [
              "<div>\n",
              "<style scoped>\n",
              "    .dataframe tbody tr th:only-of-type {\n",
              "        vertical-align: middle;\n",
              "    }\n",
              "\n",
              "    .dataframe tbody tr th {\n",
              "        vertical-align: top;\n",
              "    }\n",
              "\n",
              "    .dataframe thead th {\n",
              "        text-align: right;\n",
              "    }\n",
              "</style>\n",
              "<table border=\"1\" class=\"dataframe\">\n",
              "  <thead>\n",
              "    <tr style=\"text-align: right;\">\n",
              "      <th></th>\n",
              "      <th>gu</th>\n",
              "      <th>dong</th>\n",
              "      <th>used_y</th>\n",
              "      <th>square</th>\n",
              "      <th>per_cost_man</th>\n",
              "      <th>name</th>\n",
              "      <th>floor</th>\n",
              "      <th>cost</th>\n",
              "      <th>token</th>\n",
              "      <th>YN_r</th>\n",
              "      <th>temp</th>\n",
              "      <th>YN_top10</th>\n",
              "    </tr>\n",
              "  </thead>\n",
              "  <tbody>\n",
              "    <tr>\n",
              "      <th>0</th>\n",
              "      <td>강남구</td>\n",
              "      <td>개포동</td>\n",
              "      <td>32</td>\n",
              "      <td>77.75</td>\n",
              "      <td>1922.829582</td>\n",
              "      <td>개포2차현대아파트(220)</td>\n",
              "      <td>4</td>\n",
              "      <td>149500</td>\n",
              "      <td>현대</td>\n",
              "      <td>1</td>\n",
              "      <td>개포</td>\n",
              "      <td>1</td>\n",
              "    </tr>\n",
              "    <tr>\n",
              "      <th>1</th>\n",
              "      <td>강남구</td>\n",
              "      <td>개포동</td>\n",
              "      <td>33</td>\n",
              "      <td>54.98</td>\n",
              "      <td>2619.134231</td>\n",
              "      <td>개포6차우성아파트1동~8동</td>\n",
              "      <td>4</td>\n",
              "      <td>144000</td>\n",
              "      <td>우성</td>\n",
              "      <td>1</td>\n",
              "      <td>개포</td>\n",
              "      <td>1</td>\n",
              "    </tr>\n",
              "    <tr>\n",
              "      <th>2</th>\n",
              "      <td>강남구</td>\n",
              "      <td>개포동</td>\n",
              "      <td>33</td>\n",
              "      <td>79.97</td>\n",
              "      <td>2035.138177</td>\n",
              "      <td>개포6차우성아파트1동~8동</td>\n",
              "      <td>4</td>\n",
              "      <td>162750</td>\n",
              "      <td>우성</td>\n",
              "      <td>1</td>\n",
              "      <td>개포</td>\n",
              "      <td>1</td>\n",
              "    </tr>\n",
              "    <tr>\n",
              "      <th>3</th>\n",
              "      <td>강남구</td>\n",
              "      <td>개포동</td>\n",
              "      <td>33</td>\n",
              "      <td>79.97</td>\n",
              "      <td>2000.750281</td>\n",
              "      <td>개포6차우성아파트1동~8동</td>\n",
              "      <td>5</td>\n",
              "      <td>160000</td>\n",
              "      <td>우성</td>\n",
              "      <td>1</td>\n",
              "      <td>개포</td>\n",
              "      <td>1</td>\n",
              "    </tr>\n",
              "    <tr>\n",
              "      <th>4</th>\n",
              "      <td>강남구</td>\n",
              "      <td>개포동</td>\n",
              "      <td>33</td>\n",
              "      <td>79.97</td>\n",
              "      <td>1875.703389</td>\n",
              "      <td>개포6차우성아파트1동~8동</td>\n",
              "      <td>2</td>\n",
              "      <td>150000</td>\n",
              "      <td>우성</td>\n",
              "      <td>1</td>\n",
              "      <td>개포</td>\n",
              "      <td>1</td>\n",
              "    </tr>\n",
              "  </tbody>\n",
              "</table>\n",
              "</div>"
            ],
            "text/plain": [
              "    gu dong  used_y  square  per_cost_man            name  floor    cost  \\\n",
              "0  강남구  개포동      32   77.75   1922.829582  개포2차현대아파트(220)      4  149500   \n",
              "1  강남구  개포동      33   54.98   2619.134231  개포6차우성아파트1동~8동      4  144000   \n",
              "2  강남구  개포동      33   79.97   2035.138177  개포6차우성아파트1동~8동      4  162750   \n",
              "3  강남구  개포동      33   79.97   2000.750281  개포6차우성아파트1동~8동      5  160000   \n",
              "4  강남구  개포동      33   79.97   1875.703389  개포6차우성아파트1동~8동      2  150000   \n",
              "\n",
              "  token  YN_r temp  YN_top10  \n",
              "0    현대     1   개포         1  \n",
              "1    우성     1   개포         1  \n",
              "2    우성     1   개포         1  \n",
              "3    우성     1   개포         1  \n",
              "4    우성     1   개포         1  "
            ]
          },
          "metadata": {
            "tags": []
          },
          "execution_count": 100
        }
      ]
    },
    {
      "cell_type": "code",
      "metadata": {
        "scrolled": true,
        "id": "28a63960",
        "outputId": "8438c93e-a31a-4d15-a24c-b6259c1fcd69"
      },
      "source": [
        "seoul_1.groupby('dong')['cost'].agg('mean').sort_values(ascending=False)"
      ],
      "id": "28a63960",
      "execution_count": null,
      "outputs": [
        {
          "output_type": "execute_result",
          "data": {
            "text/plain": [
              "dong\n",
              "신문로2가     321500.000000\n",
              "압구정동      317315.647482\n",
              "반포동       278913.077935\n",
              "용산동5가     254241.228070\n",
              "서빙고동      227587.500000\n",
              "              ...      \n",
              "충신동        15637.500000\n",
              "영등포동4가     14300.000000\n",
              "원남동        13830.695652\n",
              "영등포동3가     11553.846154\n",
              "장충동2가      10441.666667\n",
              "Name: cost, Length: 327, dtype: float64"
            ]
          },
          "metadata": {
            "tags": []
          },
          "execution_count": 101
        }
      ]
    },
    {
      "cell_type": "code",
      "metadata": {
        "id": "d1ef441f",
        "outputId": "01554ad6-5153-4e1b-9acc-657bd65f3799"
      },
      "source": [
        "seoul_1.groupby('dong')['cost'].agg('median').sort_values(ascending=False)"
      ],
      "id": "d1ef441f",
      "execution_count": null,
      "outputs": [
        {
          "output_type": "execute_result",
          "data": {
            "text/plain": [
              "dong\n",
              "신문로2가     340500.0\n",
              "장충동1가     304000.0\n",
              "압구정동      281500.0\n",
              "반포동       266000.0\n",
              "서빙고동      243000.0\n",
              "            ...   \n",
              "영등포동2가     13600.0\n",
              "영등포동1가     13500.0\n",
              "원남동        13373.0\n",
              "영등포동3가     11700.0\n",
              "장충동2가      10725.0\n",
              "Name: cost, Length: 327, dtype: float64"
            ]
          },
          "metadata": {
            "tags": []
          },
          "execution_count": 102
        }
      ]
    },
    {
      "cell_type": "code",
      "metadata": {
        "scrolled": true,
        "id": "fa6c78de",
        "outputId": "595e44ba-009e-4d5d-e209-6592ad2a275f"
      },
      "source": [
        "seoul_1"
      ],
      "id": "fa6c78de",
      "execution_count": null,
      "outputs": [
        {
          "output_type": "execute_result",
          "data": {
            "text/html": [
              "<div>\n",
              "<style scoped>\n",
              "    .dataframe tbody tr th:only-of-type {\n",
              "        vertical-align: middle;\n",
              "    }\n",
              "\n",
              "    .dataframe tbody tr th {\n",
              "        vertical-align: top;\n",
              "    }\n",
              "\n",
              "    .dataframe thead th {\n",
              "        text-align: right;\n",
              "    }\n",
              "</style>\n",
              "<table border=\"1\" class=\"dataframe\">\n",
              "  <thead>\n",
              "    <tr style=\"text-align: right;\">\n",
              "      <th></th>\n",
              "      <th>gu</th>\n",
              "      <th>dong</th>\n",
              "      <th>used_y</th>\n",
              "      <th>square</th>\n",
              "      <th>per_cost_man</th>\n",
              "      <th>name</th>\n",
              "      <th>floor</th>\n",
              "      <th>cost</th>\n",
              "      <th>token</th>\n",
              "      <th>YN_r</th>\n",
              "      <th>temp</th>\n",
              "      <th>YN_top10</th>\n",
              "    </tr>\n",
              "  </thead>\n",
              "  <tbody>\n",
              "    <tr>\n",
              "      <th>0</th>\n",
              "      <td>강남구</td>\n",
              "      <td>개포동</td>\n",
              "      <td>32</td>\n",
              "      <td>77.75</td>\n",
              "      <td>1922.829582</td>\n",
              "      <td>개포2차현대아파트(220)</td>\n",
              "      <td>4</td>\n",
              "      <td>149500</td>\n",
              "      <td>현대</td>\n",
              "      <td>1</td>\n",
              "      <td>개포</td>\n",
              "      <td>1</td>\n",
              "    </tr>\n",
              "    <tr>\n",
              "      <th>1</th>\n",
              "      <td>강남구</td>\n",
              "      <td>개포동</td>\n",
              "      <td>33</td>\n",
              "      <td>54.98</td>\n",
              "      <td>2619.134231</td>\n",
              "      <td>개포6차우성아파트1동~8동</td>\n",
              "      <td>4</td>\n",
              "      <td>144000</td>\n",
              "      <td>우성</td>\n",
              "      <td>1</td>\n",
              "      <td>개포</td>\n",
              "      <td>1</td>\n",
              "    </tr>\n",
              "    <tr>\n",
              "      <th>2</th>\n",
              "      <td>강남구</td>\n",
              "      <td>개포동</td>\n",
              "      <td>33</td>\n",
              "      <td>79.97</td>\n",
              "      <td>2035.138177</td>\n",
              "      <td>개포6차우성아파트1동~8동</td>\n",
              "      <td>4</td>\n",
              "      <td>162750</td>\n",
              "      <td>우성</td>\n",
              "      <td>1</td>\n",
              "      <td>개포</td>\n",
              "      <td>1</td>\n",
              "    </tr>\n",
              "    <tr>\n",
              "      <th>3</th>\n",
              "      <td>강남구</td>\n",
              "      <td>개포동</td>\n",
              "      <td>33</td>\n",
              "      <td>79.97</td>\n",
              "      <td>2000.750281</td>\n",
              "      <td>개포6차우성아파트1동~8동</td>\n",
              "      <td>5</td>\n",
              "      <td>160000</td>\n",
              "      <td>우성</td>\n",
              "      <td>1</td>\n",
              "      <td>개포</td>\n",
              "      <td>1</td>\n",
              "    </tr>\n",
              "    <tr>\n",
              "      <th>4</th>\n",
              "      <td>강남구</td>\n",
              "      <td>개포동</td>\n",
              "      <td>33</td>\n",
              "      <td>79.97</td>\n",
              "      <td>1875.703389</td>\n",
              "      <td>개포6차우성아파트1동~8동</td>\n",
              "      <td>2</td>\n",
              "      <td>150000</td>\n",
              "      <td>우성</td>\n",
              "      <td>1</td>\n",
              "      <td>개포</td>\n",
              "      <td>1</td>\n",
              "    </tr>\n",
              "    <tr>\n",
              "      <th>...</th>\n",
              "      <td>...</td>\n",
              "      <td>...</td>\n",
              "      <td>...</td>\n",
              "      <td>...</td>\n",
              "      <td>...</td>\n",
              "      <td>...</td>\n",
              "      <td>...</td>\n",
              "      <td>...</td>\n",
              "      <td>...</td>\n",
              "      <td>...</td>\n",
              "      <td>...</td>\n",
              "      <td>...</td>\n",
              "    </tr>\n",
              "    <tr>\n",
              "      <th>29918</th>\n",
              "      <td>중랑구</td>\n",
              "      <td>중화동</td>\n",
              "      <td>23</td>\n",
              "      <td>59.76</td>\n",
              "      <td>1104.417671</td>\n",
              "      <td>한신2</td>\n",
              "      <td>6</td>\n",
              "      <td>66000</td>\n",
              "      <td>한신</td>\n",
              "      <td>0</td>\n",
              "      <td>중화</td>\n",
              "      <td>1</td>\n",
              "    </tr>\n",
              "    <tr>\n",
              "      <th>29919</th>\n",
              "      <td>중랑구</td>\n",
              "      <td>중화동</td>\n",
              "      <td>23</td>\n",
              "      <td>59.76</td>\n",
              "      <td>1137.884873</td>\n",
              "      <td>한신2</td>\n",
              "      <td>13</td>\n",
              "      <td>68000</td>\n",
              "      <td>한신</td>\n",
              "      <td>0</td>\n",
              "      <td>중화</td>\n",
              "      <td>1</td>\n",
              "    </tr>\n",
              "    <tr>\n",
              "      <th>29920</th>\n",
              "      <td>중랑구</td>\n",
              "      <td>중화동</td>\n",
              "      <td>18</td>\n",
              "      <td>57.66</td>\n",
              "      <td>528.962886</td>\n",
              "      <td>한영(101)</td>\n",
              "      <td>5</td>\n",
              "      <td>30500</td>\n",
              "      <td>한영</td>\n",
              "      <td>0</td>\n",
              "      <td>중화</td>\n",
              "      <td>0</td>\n",
              "    </tr>\n",
              "    <tr>\n",
              "      <th>29921</th>\n",
              "      <td>중랑구</td>\n",
              "      <td>중화동</td>\n",
              "      <td>18</td>\n",
              "      <td>72.22</td>\n",
              "      <td>685.405705</td>\n",
              "      <td>한영(102)</td>\n",
              "      <td>4</td>\n",
              "      <td>49500</td>\n",
              "      <td>한영</td>\n",
              "      <td>0</td>\n",
              "      <td>중화</td>\n",
              "      <td>0</td>\n",
              "    </tr>\n",
              "    <tr>\n",
              "      <th>29922</th>\n",
              "      <td>중랑구</td>\n",
              "      <td>중화동</td>\n",
              "      <td>18</td>\n",
              "      <td>58.46</td>\n",
              "      <td>513.171399</td>\n",
              "      <td>한영(103)</td>\n",
              "      <td>2</td>\n",
              "      <td>30000</td>\n",
              "      <td>한영</td>\n",
              "      <td>0</td>\n",
              "      <td>중화</td>\n",
              "      <td>0</td>\n",
              "    </tr>\n",
              "  </tbody>\n",
              "</table>\n",
              "<p>114149 rows × 12 columns</p>\n",
              "</div>"
            ],
            "text/plain": [
              "        gu dong  used_y  square  per_cost_man            name  floor    cost  \\\n",
              "0      강남구  개포동      32   77.75   1922.829582  개포2차현대아파트(220)      4  149500   \n",
              "1      강남구  개포동      33   54.98   2619.134231  개포6차우성아파트1동~8동      4  144000   \n",
              "2      강남구  개포동      33   79.97   2035.138177  개포6차우성아파트1동~8동      4  162750   \n",
              "3      강남구  개포동      33   79.97   2000.750281  개포6차우성아파트1동~8동      5  160000   \n",
              "4      강남구  개포동      33   79.97   1875.703389  개포6차우성아파트1동~8동      2  150000   \n",
              "...    ...  ...     ...     ...           ...             ...    ...     ...   \n",
              "29918  중랑구  중화동      23   59.76   1104.417671             한신2      6   66000   \n",
              "29919  중랑구  중화동      23   59.76   1137.884873             한신2     13   68000   \n",
              "29920  중랑구  중화동      18   57.66    528.962886         한영(101)      5   30500   \n",
              "29921  중랑구  중화동      18   72.22    685.405705         한영(102)      4   49500   \n",
              "29922  중랑구  중화동      18   58.46    513.171399         한영(103)      2   30000   \n",
              "\n",
              "      token  YN_r temp  YN_top10  \n",
              "0        현대     1   개포         1  \n",
              "1        우성     1   개포         1  \n",
              "2        우성     1   개포         1  \n",
              "3        우성     1   개포         1  \n",
              "4        우성     1   개포         1  \n",
              "...     ...   ...  ...       ...  \n",
              "29918    한신     0   중화         1  \n",
              "29919    한신     0   중화         1  \n",
              "29920    한영     0   중화         0  \n",
              "29921    한영     0   중화         0  \n",
              "29922    한영     0   중화         0  \n",
              "\n",
              "[114149 rows x 12 columns]"
            ]
          },
          "metadata": {
            "tags": []
          },
          "execution_count": 103
        }
      ]
    },
    {
      "cell_type": "code",
      "metadata": {
        "colab": {
          "base_uri": "https://localhost:8080/",
          "height": 172
        },
        "id": "b7b1d3f8",
        "outputId": "6f20935e-3e55-47a4-820b-17923f7dfead"
      },
      "source": [
        "seoul_1.to_csv('seoul_1.csv')"
      ],
      "id": "b7b1d3f8",
      "execution_count": 2,
      "outputs": [
        {
          "output_type": "error",
          "ename": "NameError",
          "evalue": "ignored",
          "traceback": [
            "\u001b[0;31m---------------------------------------------------------------------------\u001b[0m",
            "\u001b[0;31mNameError\u001b[0m                                 Traceback (most recent call last)",
            "\u001b[0;32m<ipython-input-2-8f750e7d162b>\u001b[0m in \u001b[0;36m<module>\u001b[0;34m()\u001b[0m\n\u001b[0;32m----> 1\u001b[0;31m \u001b[0mseoul_1\u001b[0m\u001b[0;34m.\u001b[0m\u001b[0mto_csv\u001b[0m\u001b[0;34m(\u001b[0m\u001b[0;34m'seoul_1.csv'\u001b[0m\u001b[0;34m)\u001b[0m\u001b[0;34m\u001b[0m\u001b[0;34m\u001b[0m\u001b[0m\n\u001b[0m",
            "\u001b[0;31mNameError\u001b[0m: name 'seoul_1' is not defined"
          ]
        }
      ]
    },
    {
      "cell_type": "markdown",
      "metadata": {
        "id": "7pP3m_0KS3K-"
      },
      "source": [
        ""
      ],
      "id": "7pP3m_0KS3K-"
    },
    {
      "cell_type": "code",
      "metadata": {
        "id": "176f2433"
      },
      "source": [
        "seoul = pd.read_csv('./seoul_1.csv')"
      ],
      "id": "176f2433",
      "execution_count": 20,
      "outputs": []
    },
    {
      "cell_type": "code",
      "metadata": {
        "id": "wSr5TU8vn7bY"
      },
      "source": [
        "seoul"
      ],
      "id": "wSr5TU8vn7bY",
      "execution_count": null,
      "outputs": []
    },
    {
      "cell_type": "code",
      "metadata": {
        "id": "0nuNGLtzMC7s"
      },
      "source": [
        "import pandas_profiling "
      ],
      "id": "0nuNGLtzMC7s",
      "execution_count": 21,
      "outputs": []
    },
    {
      "cell_type": "code",
      "metadata": {
        "id": "DQ2WCnExMIBp"
      },
      "source": [
        "# pip install -U pandas-profiling"
      ],
      "id": "DQ2WCnExMIBp",
      "execution_count": 22,
      "outputs": []
    },
    {
      "cell_type": "code",
      "metadata": {
        "id": "AUuq1NmiM39I"
      },
      "source": [
        "count_gu = seoul.gu.value_counts()"
      ],
      "id": "AUuq1NmiM39I",
      "execution_count": 23,
      "outputs": []
    },
    {
      "cell_type": "code",
      "metadata": {
        "id": "S6FmyHBHPJwX"
      },
      "source": [
        "count_gu = pd.DataFrame(count_gu).reset_index()"
      ],
      "id": "S6FmyHBHPJwX",
      "execution_count": 24,
      "outputs": []
    },
    {
      "cell_type": "code",
      "metadata": {
        "colab": {
          "base_uri": "https://localhost:8080/",
          "height": 824
        },
        "id": "liV0Vlq2PiGS",
        "outputId": "38fbcb1c-b8d2-40af-9cb2-0b294d945cb4"
      },
      "source": [
        "count_gu"
      ],
      "id": "liV0Vlq2PiGS",
      "execution_count": 25,
      "outputs": [
        {
          "output_type": "execute_result",
          "data": {
            "text/html": [
              "<div>\n",
              "<style scoped>\n",
              "    .dataframe tbody tr th:only-of-type {\n",
              "        vertical-align: middle;\n",
              "    }\n",
              "\n",
              "    .dataframe tbody tr th {\n",
              "        vertical-align: top;\n",
              "    }\n",
              "\n",
              "    .dataframe thead th {\n",
              "        text-align: right;\n",
              "    }\n",
              "</style>\n",
              "<table border=\"1\" class=\"dataframe\">\n",
              "  <thead>\n",
              "    <tr style=\"text-align: right;\">\n",
              "      <th></th>\n",
              "      <th>index</th>\n",
              "      <th>gu</th>\n",
              "    </tr>\n",
              "  </thead>\n",
              "  <tbody>\n",
              "    <tr>\n",
              "      <th>0</th>\n",
              "      <td>노원구</td>\n",
              "      <td>12066</td>\n",
              "    </tr>\n",
              "    <tr>\n",
              "      <th>1</th>\n",
              "      <td>강서구</td>\n",
              "      <td>7796</td>\n",
              "    </tr>\n",
              "    <tr>\n",
              "      <th>2</th>\n",
              "      <td>구로구</td>\n",
              "      <td>6940</td>\n",
              "    </tr>\n",
              "    <tr>\n",
              "      <th>3</th>\n",
              "      <td>송파구</td>\n",
              "      <td>6059</td>\n",
              "    </tr>\n",
              "    <tr>\n",
              "      <th>4</th>\n",
              "      <td>도봉구</td>\n",
              "      <td>5995</td>\n",
              "    </tr>\n",
              "    <tr>\n",
              "      <th>5</th>\n",
              "      <td>성북구</td>\n",
              "      <td>5966</td>\n",
              "    </tr>\n",
              "    <tr>\n",
              "      <th>6</th>\n",
              "      <td>강동구</td>\n",
              "      <td>5637</td>\n",
              "    </tr>\n",
              "    <tr>\n",
              "      <th>7</th>\n",
              "      <td>강남구</td>\n",
              "      <td>5465</td>\n",
              "    </tr>\n",
              "    <tr>\n",
              "      <th>8</th>\n",
              "      <td>서초구</td>\n",
              "      <td>4859</td>\n",
              "    </tr>\n",
              "    <tr>\n",
              "      <th>9</th>\n",
              "      <td>양천구</td>\n",
              "      <td>4851</td>\n",
              "    </tr>\n",
              "    <tr>\n",
              "      <th>10</th>\n",
              "      <td>영등포구</td>\n",
              "      <td>4676</td>\n",
              "    </tr>\n",
              "    <tr>\n",
              "      <th>11</th>\n",
              "      <td>은평구</td>\n",
              "      <td>4537</td>\n",
              "    </tr>\n",
              "    <tr>\n",
              "      <th>12</th>\n",
              "      <td>동대문구</td>\n",
              "      <td>4417</td>\n",
              "    </tr>\n",
              "    <tr>\n",
              "      <th>13</th>\n",
              "      <td>성동구</td>\n",
              "      <td>4029</td>\n",
              "    </tr>\n",
              "    <tr>\n",
              "      <th>14</th>\n",
              "      <td>중랑구</td>\n",
              "      <td>4009</td>\n",
              "    </tr>\n",
              "    <tr>\n",
              "      <th>15</th>\n",
              "      <td>동작구</td>\n",
              "      <td>3936</td>\n",
              "    </tr>\n",
              "    <tr>\n",
              "      <th>16</th>\n",
              "      <td>마포구</td>\n",
              "      <td>3839</td>\n",
              "    </tr>\n",
              "    <tr>\n",
              "      <th>17</th>\n",
              "      <td>서대문구</td>\n",
              "      <td>3697</td>\n",
              "    </tr>\n",
              "    <tr>\n",
              "      <th>18</th>\n",
              "      <td>관악구</td>\n",
              "      <td>3668</td>\n",
              "    </tr>\n",
              "    <tr>\n",
              "      <th>19</th>\n",
              "      <td>강북구</td>\n",
              "      <td>2848</td>\n",
              "    </tr>\n",
              "    <tr>\n",
              "      <th>20</th>\n",
              "      <td>금천구</td>\n",
              "      <td>2370</td>\n",
              "    </tr>\n",
              "    <tr>\n",
              "      <th>21</th>\n",
              "      <td>용산구</td>\n",
              "      <td>2158</td>\n",
              "    </tr>\n",
              "    <tr>\n",
              "      <th>22</th>\n",
              "      <td>광진구</td>\n",
              "      <td>1783</td>\n",
              "    </tr>\n",
              "    <tr>\n",
              "      <th>23</th>\n",
              "      <td>중구</td>\n",
              "      <td>1468</td>\n",
              "    </tr>\n",
              "    <tr>\n",
              "      <th>24</th>\n",
              "      <td>종로구</td>\n",
              "      <td>1080</td>\n",
              "    </tr>\n",
              "  </tbody>\n",
              "</table>\n",
              "</div>"
            ],
            "text/plain": [
              "   index     gu\n",
              "0    노원구  12066\n",
              "1    강서구   7796\n",
              "2    구로구   6940\n",
              "3    송파구   6059\n",
              "4    도봉구   5995\n",
              "5    성북구   5966\n",
              "6    강동구   5637\n",
              "7    강남구   5465\n",
              "8    서초구   4859\n",
              "9    양천구   4851\n",
              "10  영등포구   4676\n",
              "11   은평구   4537\n",
              "12  동대문구   4417\n",
              "13   성동구   4029\n",
              "14   중랑구   4009\n",
              "15   동작구   3936\n",
              "16   마포구   3839\n",
              "17  서대문구   3697\n",
              "18   관악구   3668\n",
              "19   강북구   2848\n",
              "20   금천구   2370\n",
              "21   용산구   2158\n",
              "22   광진구   1783\n",
              "23    중구   1468\n",
              "24   종로구   1080"
            ]
          },
          "metadata": {
            "tags": []
          },
          "execution_count": 25
        }
      ]
    },
    {
      "cell_type": "code",
      "metadata": {
        "id": "RwxklLIWPNWV"
      },
      "source": [
        "from sklearn.preprocessing import LabelEncoder\n",
        "\n",
        "encoder = LabelEncoder()\n",
        "count_gu['labled_gu'] = encoder.fit_transform(count_gu['gu'].values)"
      ],
      "id": "RwxklLIWPNWV",
      "execution_count": 26,
      "outputs": []
    },
    {
      "cell_type": "code",
      "metadata": {
        "id": "vfjmtQw_PvaL"
      },
      "source": [
        "count_gu.columns = ['gu', 'counted_gu', 'labled_gu']"
      ],
      "id": "vfjmtQw_PvaL",
      "execution_count": 27,
      "outputs": []
    },
    {
      "cell_type": "code",
      "metadata": {
        "id": "5ZAlSLogPwq-"
      },
      "source": [
        "joined_seoul = pd.merge(seoul, count_gu, left_on='gu', right_on='gu', how='inner')"
      ],
      "id": "5ZAlSLogPwq-",
      "execution_count": 28,
      "outputs": []
    },
    {
      "cell_type": "code",
      "metadata": {
        "id": "05AAGHgHQkWc"
      },
      "source": [
        "from sklearn.datasets import load_wine\n",
        "from sklearn.model_selection import train_test_split\n",
        "from sklearn import ensemble\n",
        "from sklearn.metrics import mean_squared_error\n",
        "import pandas as pd\n",
        "from sklearn.ensemble import RandomForestRegressor\n",
        "import numpy as np\n",
        "import matplotlib.pyplot as plt\n",
        "%matplotlib inline \n"
      ],
      "id": "05AAGHgHQkWc",
      "execution_count": 47,
      "outputs": []
    },
    {
      "cell_type": "code",
      "metadata": {
        "id": "N6jENnIXSaJ5"
      },
      "source": [
        "X = joined_seoul.drop(['cost','dong','name','token','temp','gu', 'counted_gu'], axis = 1)\n",
        "Y = joined_seoul['cost']"
      ],
      "id": "N6jENnIXSaJ5",
      "execution_count": 53,
      "outputs": []
    },
    {
      "cell_type": "code",
      "metadata": {
        "colab": {
          "base_uri": "https://localhost:8080/"
        },
        "id": "4-rTvrJ9SOi1",
        "outputId": "5415072c-2710-44f4-f441-f32fcd9e1363"
      },
      "source": [
        "xTrain, xTest, yTrain, yTest = train_test_split(X, Y, test_size = 0.3, random_state = 531)\n",
        "print(len(xTrain), len(xTest))\n",
        "mseOos = []\n",
        "# nTreeList = range(50, 500, 10)\n",
        "\n",
        "RFModel = ensemble.RandomForestRegressor(n_estimators=100,\n",
        "                    oob_score=False, random_state=531)\n",
        "RFModel.fit(xTrain, yTrain)\n",
        "    #데이터 세트에 대한 MSE 누적\n",
        "prediction = RFModel.predict(xTest)\n",
        "mseOos.append(mean_squared_error(yTest, prediction))\n",
        "print(\"MSE\")\n",
        "print(mseOos)"
      ],
      "id": "4-rTvrJ9SOi1",
      "execution_count": 54,
      "outputs": [
        {
          "output_type": "stream",
          "text": [
            "79904 34245\n",
            "MSE\n",
            "[1134531.9246213783]\n"
          ],
          "name": "stdout"
        }
      ]
    },
    {
      "cell_type": "code",
      "metadata": {
        "colab": {
          "base_uri": "https://localhost:8080/",
          "height": 283
        },
        "id": "8cHMEbohaT3b",
        "outputId": "65135ea4-1ff9-47e1-ba08-e99ac05dedfd"
      },
      "source": [
        "answer = pd.DataFrame(yTest[-101:].reset_index())\n",
        "del answer[\"index\"]\n",
        "\n",
        "plt.plot(answer, label=\"answer\")\n",
        "plt.plot(RFModel.predict(xTest[:100]), label=\"predict\")\n",
        "plt.legend()"
      ],
      "id": "8cHMEbohaT3b",
      "execution_count": 56,
      "outputs": [
        {
          "output_type": "execute_result",
          "data": {
            "text/plain": [
              "<matplotlib.legend.Legend at 0x7f135a257c10>"
            ]
          },
          "metadata": {
            "tags": []
          },
          "execution_count": 56
        },
        {
          "output_type": "display_data",
          "data": {
            "image/png": "[encoded data removed]",
            "text/plain": [
              "<Figure size 432x288 with 1 Axes>"
            ]
          },
          "metadata": {
            "tags": [],
            "needs_background": "light"
          }
        }
      ]
    },
    {
      "cell_type": "code",
      "metadata": {
        "id": "viCBdiAJTNTZ"
      },
      "source": [
        "# plot.plot(nTreeList, mseOos)\n",
        "# plot.xlabel('Number of Trees in Ensemble')\n",
        "# plot.ylabel('Mean Squared Error')\n",
        "# #plot.ylim([0.0, 1.1*max(mseOob)])\n",
        "# plot.show()\n",
        "\n",
        "#피처 중요도 도표 그리기\n",
        "featureImportance = RFModel.feature_importances_\n",
        "\n",
        "#가장 높은 중요도 기준으로 스케일링\n",
        "featureImportance = featureImportance/featureImportance.max()\n",
        "sorted_idx = np.argsort(featureImportance)\n",
        "barPos = np.arange(sorted_idx.shape[0])+.5\n",
        "plt.barh(barPos, featureImportance[sorted_idx], align='center')\n",
        "plt.yticks(barPos, sorted_idx)\n",
        "plt.xlabel('Variable Importance')\n",
        "plt.show()"
      ],
      "id": "viCBdiAJTNTZ",
      "execution_count": 37,
      "outputs": []
    },
    {
      "cell_type": "code",
      "metadata": {
        "colab": {
          "base_uri": "https://localhost:8080/"
        },
        "id": "v4IkYwsoXorD",
        "outputId": "76589874-a1e3-43ce-9517-1dcaaffad617"
      },
      "source": [
        "featureImportance"
      ],
      "id": "v4IkYwsoXorD",
      "execution_count": 35,
      "outputs": [
        {
          "output_type": "execute_result",
          "data": {
            "text/plain": [
              "array([3.95710005e-04, 1.40969358e-03, 7.54176720e-01, 1.00000000e+00,\n",
              "       1.47123851e-04, 7.10138607e-05, 1.27678840e-05, 3.73224638e-05,\n",
              "       2.89991350e-05])"
            ]
          },
          "metadata": {
            "tags": []
          },
          "execution_count": 35
        }
      ]
    },
    {
      "cell_type": "code",
      "metadata": {
        "colab": {
          "base_uri": "https://localhost:8080/",
          "height": 646
        },
        "id": "rRH4bF0qX7sv",
        "outputId": "2298ac1f-3db9-4928-fe9a-724f5620df0a"
      },
      "source": [
        "def plot_feature_importance(model):\n",
        "    n_features = 9\n",
        "    plt.barh(np.arange(n_features), sorted(RFModel.feature_importances_), align=\"center\")\n",
        "    plt.yticks(np.arange(n_features), X.columns)\n",
        "    plt.xlabel(\"Random Forest Feature Importance\")\n",
        "    plt.ylabel(\"Feature\")\n",
        "    plt.ylim(-1, n_features)\n",
        "    plt.show()\n",
        "plot_feature_importance(RFModel)"
      ],
      "id": "rRH4bF0qX7sv",
      "execution_count": 57,
      "outputs": [
        {
          "output_type": "error",
          "ename": "ValueError",
          "evalue": "ignored",
          "traceback": [
            "\u001b[0;31m---------------------------------------------------------------------------\u001b[0m",
            "\u001b[0;31mValueError\u001b[0m                                Traceback (most recent call last)",
            "\u001b[0;32m<ipython-input-57-09a85adbf451>\u001b[0m in \u001b[0;36m<module>\u001b[0;34m()\u001b[0m\n\u001b[1;32m      7\u001b[0m     \u001b[0mplt\u001b[0m\u001b[0;34m.\u001b[0m\u001b[0mylim\u001b[0m\u001b[0;34m(\u001b[0m\u001b[0;34m-\u001b[0m\u001b[0;36m1\u001b[0m\u001b[0;34m,\u001b[0m \u001b[0mn_features\u001b[0m\u001b[0;34m)\u001b[0m\u001b[0;34m\u001b[0m\u001b[0;34m\u001b[0m\u001b[0m\n\u001b[1;32m      8\u001b[0m     \u001b[0mplt\u001b[0m\u001b[0;34m.\u001b[0m\u001b[0mshow\u001b[0m\u001b[0;34m(\u001b[0m\u001b[0;34m)\u001b[0m\u001b[0;34m\u001b[0m\u001b[0;34m\u001b[0m\u001b[0m\n\u001b[0;32m----> 9\u001b[0;31m \u001b[0mplot_feature_importance\u001b[0m\u001b[0;34m(\u001b[0m\u001b[0mRFModel\u001b[0m\u001b[0;34m)\u001b[0m\u001b[0;34m\u001b[0m\u001b[0;34m\u001b[0m\u001b[0m\n\u001b[0m",
            "\u001b[0;32m<ipython-input-57-09a85adbf451>\u001b[0m in \u001b[0;36mplot_feature_importance\u001b[0;34m(model)\u001b[0m\n\u001b[1;32m      1\u001b[0m \u001b[0;32mdef\u001b[0m \u001b[0mplot_feature_importance\u001b[0m\u001b[0;34m(\u001b[0m\u001b[0mmodel\u001b[0m\u001b[0;34m)\u001b[0m\u001b[0;34m:\u001b[0m\u001b[0;34m\u001b[0m\u001b[0;34m\u001b[0m\u001b[0m\n\u001b[1;32m      2\u001b[0m     \u001b[0mn_features\u001b[0m \u001b[0;34m=\u001b[0m \u001b[0;36m9\u001b[0m\u001b[0;34m\u001b[0m\u001b[0;34m\u001b[0m\u001b[0m\n\u001b[0;32m----> 3\u001b[0;31m     \u001b[0mplt\u001b[0m\u001b[0;34m.\u001b[0m\u001b[0mbarh\u001b[0m\u001b[0;34m(\u001b[0m\u001b[0mnp\u001b[0m\u001b[0;34m.\u001b[0m\u001b[0marange\u001b[0m\u001b[0;34m(\u001b[0m\u001b[0mn_features\u001b[0m\u001b[0;34m)\u001b[0m\u001b[0;34m,\u001b[0m \u001b[0msorted\u001b[0m\u001b[0;34m(\u001b[0m\u001b[0mRFModel\u001b[0m\u001b[0;34m.\u001b[0m\u001b[0mfeature_importances_\u001b[0m\u001b[0;34m)\u001b[0m\u001b[0;34m,\u001b[0m \u001b[0malign\u001b[0m\u001b[0;34m=\u001b[0m\u001b[0;34m\"center\"\u001b[0m\u001b[0;34m)\u001b[0m\u001b[0;34m\u001b[0m\u001b[0;34m\u001b[0m\u001b[0m\n\u001b[0m\u001b[1;32m      4\u001b[0m     \u001b[0mplt\u001b[0m\u001b[0;34m.\u001b[0m\u001b[0myticks\u001b[0m\u001b[0;34m(\u001b[0m\u001b[0mnp\u001b[0m\u001b[0;34m.\u001b[0m\u001b[0marange\u001b[0m\u001b[0;34m(\u001b[0m\u001b[0mn_features\u001b[0m\u001b[0;34m)\u001b[0m\u001b[0;34m,\u001b[0m \u001b[0mX\u001b[0m\u001b[0;34m.\u001b[0m\u001b[0mcolumns\u001b[0m\u001b[0;34m)\u001b[0m\u001b[0;34m\u001b[0m\u001b[0;34m\u001b[0m\u001b[0m\n\u001b[1;32m      5\u001b[0m     \u001b[0mplt\u001b[0m\u001b[0;34m.\u001b[0m\u001b[0mxlabel\u001b[0m\u001b[0;34m(\u001b[0m\u001b[0;34m\"Random Forest Feature Importance\"\u001b[0m\u001b[0;34m)\u001b[0m\u001b[0;34m\u001b[0m\u001b[0;34m\u001b[0m\u001b[0m\n",
            "\u001b[0;32m/usr/local/lib/python3.7/dist-packages/matplotlib/pyplot.py\u001b[0m in \u001b[0;36mbarh\u001b[0;34m(y, width, height, left, align, **kwargs)\u001b[0m\n\u001b[1;32m   2421\u001b[0m \u001b[0;32mdef\u001b[0m \u001b[0mbarh\u001b[0m\u001b[0;34m(\u001b[0m\u001b[0my\u001b[0m\u001b[0;34m,\u001b[0m \u001b[0mwidth\u001b[0m\u001b[0;34m,\u001b[0m \u001b[0mheight\u001b[0m\u001b[0;34m=\u001b[0m\u001b[0;36m0.8\u001b[0m\u001b[0;34m,\u001b[0m \u001b[0mleft\u001b[0m\u001b[0;34m=\u001b[0m\u001b[0;32mNone\u001b[0m\u001b[0;34m,\u001b[0m \u001b[0;34m*\u001b[0m\u001b[0;34m,\u001b[0m \u001b[0malign\u001b[0m\u001b[0;34m=\u001b[0m\u001b[0;34m'center'\u001b[0m\u001b[0;34m,\u001b[0m \u001b[0;34m**\u001b[0m\u001b[0mkwargs\u001b[0m\u001b[0;34m)\u001b[0m\u001b[0;34m:\u001b[0m\u001b[0;34m\u001b[0m\u001b[0;34m\u001b[0m\u001b[0m\n\u001b[1;32m   2422\u001b[0m     return gca().barh(\n\u001b[0;32m-> 2423\u001b[0;31m         y, width, height=height, left=left, align=align, **kwargs)\n\u001b[0m\u001b[1;32m   2424\u001b[0m \u001b[0;34m\u001b[0m\u001b[0m\n\u001b[1;32m   2425\u001b[0m \u001b[0;34m\u001b[0m\u001b[0m\n",
            "\u001b[0;32m/usr/local/lib/python3.7/dist-packages/matplotlib/axes/_axes.py\u001b[0m in \u001b[0;36mbarh\u001b[0;34m(self, y, width, height, left, align, **kwargs)\u001b[0m\n\u001b[1;32m   2545\u001b[0m         \u001b[0mkwargs\u001b[0m\u001b[0;34m.\u001b[0m\u001b[0msetdefault\u001b[0m\u001b[0;34m(\u001b[0m\u001b[0;34m'orientation'\u001b[0m\u001b[0;34m,\u001b[0m \u001b[0;34m'horizontal'\u001b[0m\u001b[0;34m)\u001b[0m\u001b[0;34m\u001b[0m\u001b[0;34m\u001b[0m\u001b[0m\n\u001b[1;32m   2546\u001b[0m         patches = self.bar(x=left, height=height, width=width, bottom=y,\n\u001b[0;32m-> 2547\u001b[0;31m                            align=align, **kwargs)\n\u001b[0m\u001b[1;32m   2548\u001b[0m         \u001b[0;32mreturn\u001b[0m \u001b[0mpatches\u001b[0m\u001b[0;34m\u001b[0m\u001b[0;34m\u001b[0m\u001b[0m\n\u001b[1;32m   2549\u001b[0m \u001b[0;34m\u001b[0m\u001b[0m\n",
            "\u001b[0;32m/usr/local/lib/python3.7/dist-packages/matplotlib/__init__.py\u001b[0m in \u001b[0;36minner\u001b[0;34m(ax, data, *args, **kwargs)\u001b[0m\n\u001b[1;32m   1563\u001b[0m     \u001b[0;32mdef\u001b[0m \u001b[0minner\u001b[0m\u001b[0;34m(\u001b[0m\u001b[0max\u001b[0m\u001b[0;34m,\u001b[0m \u001b[0;34m*\u001b[0m\u001b[0margs\u001b[0m\u001b[0;34m,\u001b[0m \u001b[0mdata\u001b[0m\u001b[0;34m=\u001b[0m\u001b[0;32mNone\u001b[0m\u001b[0;34m,\u001b[0m \u001b[0;34m**\u001b[0m\u001b[0mkwargs\u001b[0m\u001b[0;34m)\u001b[0m\u001b[0;34m:\u001b[0m\u001b[0;34m\u001b[0m\u001b[0;34m\u001b[0m\u001b[0m\n\u001b[1;32m   1564\u001b[0m         \u001b[0;32mif\u001b[0m \u001b[0mdata\u001b[0m \u001b[0;32mis\u001b[0m \u001b[0;32mNone\u001b[0m\u001b[0;34m:\u001b[0m\u001b[0;34m\u001b[0m\u001b[0;34m\u001b[0m\u001b[0m\n\u001b[0;32m-> 1565\u001b[0;31m             \u001b[0;32mreturn\u001b[0m \u001b[0mfunc\u001b[0m\u001b[0;34m(\u001b[0m\u001b[0max\u001b[0m\u001b[0;34m,\u001b[0m \u001b[0;34m*\u001b[0m\u001b[0mmap\u001b[0m\u001b[0;34m(\u001b[0m\u001b[0msanitize_sequence\u001b[0m\u001b[0;34m,\u001b[0m \u001b[0margs\u001b[0m\u001b[0;34m)\u001b[0m\u001b[0;34m,\u001b[0m \u001b[0;34m**\u001b[0m\u001b[0mkwargs\u001b[0m\u001b[0;34m)\u001b[0m\u001b[0;34m\u001b[0m\u001b[0;34m\u001b[0m\u001b[0m\n\u001b[0m\u001b[1;32m   1566\u001b[0m \u001b[0;34m\u001b[0m\u001b[0m\n\u001b[1;32m   1567\u001b[0m         \u001b[0mbound\u001b[0m \u001b[0;34m=\u001b[0m \u001b[0mnew_sig\u001b[0m\u001b[0;34m.\u001b[0m\u001b[0mbind\u001b[0m\u001b[0;34m(\u001b[0m\u001b[0max\u001b[0m\u001b[0;34m,\u001b[0m \u001b[0;34m*\u001b[0m\u001b[0margs\u001b[0m\u001b[0;34m,\u001b[0m \u001b[0;34m**\u001b[0m\u001b[0mkwargs\u001b[0m\u001b[0;34m)\u001b[0m\u001b[0;34m\u001b[0m\u001b[0;34m\u001b[0m\u001b[0m\n",
            "\u001b[0;32m/usr/local/lib/python3.7/dist-packages/matplotlib/axes/_axes.py\u001b[0m in \u001b[0;36mbar\u001b[0;34m(self, x, height, width, bottom, align, **kwargs)\u001b[0m\n\u001b[1;32m   2340\u001b[0m         x, height, width, y, linewidth = np.broadcast_arrays(\n\u001b[1;32m   2341\u001b[0m             \u001b[0;31m# Make args iterable too.\u001b[0m\u001b[0;34m\u001b[0m\u001b[0;34m\u001b[0m\u001b[0;34m\u001b[0m\u001b[0m\n\u001b[0;32m-> 2342\u001b[0;31m             np.atleast_1d(x), height, width, y, linewidth)\n\u001b[0m\u001b[1;32m   2343\u001b[0m \u001b[0;34m\u001b[0m\u001b[0m\n\u001b[1;32m   2344\u001b[0m         \u001b[0;31m# Now that units have been converted, set the tick locations.\u001b[0m\u001b[0;34m\u001b[0m\u001b[0;34m\u001b[0m\u001b[0;34m\u001b[0m\u001b[0m\n",
            "\u001b[0;32m<__array_function__ internals>\u001b[0m in \u001b[0;36mbroadcast_arrays\u001b[0;34m(*args, **kwargs)\u001b[0m\n",
            "\u001b[0;32m/usr/local/lib/python3.7/dist-packages/numpy/lib/stride_tricks.py\u001b[0m in \u001b[0;36mbroadcast_arrays\u001b[0;34m(subok, *args)\u001b[0m\n\u001b[1;32m    256\u001b[0m     \u001b[0margs\u001b[0m \u001b[0;34m=\u001b[0m \u001b[0;34m[\u001b[0m\u001b[0mnp\u001b[0m\u001b[0;34m.\u001b[0m\u001b[0marray\u001b[0m\u001b[0;34m(\u001b[0m\u001b[0m_m\u001b[0m\u001b[0;34m,\u001b[0m \u001b[0mcopy\u001b[0m\u001b[0;34m=\u001b[0m\u001b[0;32mFalse\u001b[0m\u001b[0;34m,\u001b[0m \u001b[0msubok\u001b[0m\u001b[0;34m=\u001b[0m\u001b[0msubok\u001b[0m\u001b[0;34m)\u001b[0m \u001b[0;32mfor\u001b[0m \u001b[0m_m\u001b[0m \u001b[0;32min\u001b[0m \u001b[0margs\u001b[0m\u001b[0;34m]\u001b[0m\u001b[0;34m\u001b[0m\u001b[0;34m\u001b[0m\u001b[0m\n\u001b[1;32m    257\u001b[0m \u001b[0;34m\u001b[0m\u001b[0m\n\u001b[0;32m--> 258\u001b[0;31m     \u001b[0mshape\u001b[0m \u001b[0;34m=\u001b[0m \u001b[0m_broadcast_shape\u001b[0m\u001b[0;34m(\u001b[0m\u001b[0;34m*\u001b[0m\u001b[0margs\u001b[0m\u001b[0;34m)\u001b[0m\u001b[0;34m\u001b[0m\u001b[0;34m\u001b[0m\u001b[0m\n\u001b[0m\u001b[1;32m    259\u001b[0m \u001b[0;34m\u001b[0m\u001b[0m\n\u001b[1;32m    260\u001b[0m     \u001b[0;32mif\u001b[0m \u001b[0mall\u001b[0m\u001b[0;34m(\u001b[0m\u001b[0marray\u001b[0m\u001b[0;34m.\u001b[0m\u001b[0mshape\u001b[0m \u001b[0;34m==\u001b[0m \u001b[0mshape\u001b[0m \u001b[0;32mfor\u001b[0m \u001b[0marray\u001b[0m \u001b[0;32min\u001b[0m \u001b[0margs\u001b[0m\u001b[0;34m)\u001b[0m\u001b[0;34m:\u001b[0m\u001b[0;34m\u001b[0m\u001b[0;34m\u001b[0m\u001b[0m\n",
            "\u001b[0;32m/usr/local/lib/python3.7/dist-packages/numpy/lib/stride_tricks.py\u001b[0m in \u001b[0;36m_broadcast_shape\u001b[0;34m(*args)\u001b[0m\n\u001b[1;32m    187\u001b[0m     \u001b[0;31m# use the old-iterator because np.nditer does not handle size 0 arrays\u001b[0m\u001b[0;34m\u001b[0m\u001b[0;34m\u001b[0m\u001b[0;34m\u001b[0m\u001b[0m\n\u001b[1;32m    188\u001b[0m     \u001b[0;31m# consistently\u001b[0m\u001b[0;34m\u001b[0m\u001b[0;34m\u001b[0m\u001b[0;34m\u001b[0m\u001b[0m\n\u001b[0;32m--> 189\u001b[0;31m     \u001b[0mb\u001b[0m \u001b[0;34m=\u001b[0m \u001b[0mnp\u001b[0m\u001b[0;34m.\u001b[0m\u001b[0mbroadcast\u001b[0m\u001b[0;34m(\u001b[0m\u001b[0;34m*\u001b[0m\u001b[0margs\u001b[0m\u001b[0;34m[\u001b[0m\u001b[0;34m:\u001b[0m\u001b[0;36m32\u001b[0m\u001b[0;34m]\u001b[0m\u001b[0;34m)\u001b[0m\u001b[0;34m\u001b[0m\u001b[0;34m\u001b[0m\u001b[0m\n\u001b[0m\u001b[1;32m    190\u001b[0m     \u001b[0;31m# unfortunately, it cannot handle 32 or more arguments directly\u001b[0m\u001b[0;34m\u001b[0m\u001b[0;34m\u001b[0m\u001b[0;34m\u001b[0m\u001b[0m\n\u001b[1;32m    191\u001b[0m     \u001b[0;32mfor\u001b[0m \u001b[0mpos\u001b[0m \u001b[0;32min\u001b[0m \u001b[0mrange\u001b[0m\u001b[0;34m(\u001b[0m\u001b[0;36m32\u001b[0m\u001b[0;34m,\u001b[0m \u001b[0mlen\u001b[0m\u001b[0;34m(\u001b[0m\u001b[0margs\u001b[0m\u001b[0;34m)\u001b[0m\u001b[0;34m,\u001b[0m \u001b[0;36m31\u001b[0m\u001b[0;34m)\u001b[0m\u001b[0;34m:\u001b[0m\u001b[0;34m\u001b[0m\u001b[0;34m\u001b[0m\u001b[0m\n",
            "\u001b[0;31mValueError\u001b[0m: shape mismatch: objects cannot be broadcast to a single shape"
          ]
        },
        {
          "output_type": "display_data",
          "data": {
            "image/png": "[encoded data removed]",
            "text/plain": [
              "<Figure size 432x288 with 1 Axes>"
            ]
          },
          "metadata": {
            "tags": [],
            "needs_background": "light"
          }
        }
      ]
    },
    {
      "cell_type": "code",
      "metadata": {
        "id": "lJJvFVF1Z6S8"
      },
      "source": [
        ""
      ],
      "id": "lJJvFVF1Z6S8",
      "execution_count": null,
      "outputs": []
    }
  ]
}