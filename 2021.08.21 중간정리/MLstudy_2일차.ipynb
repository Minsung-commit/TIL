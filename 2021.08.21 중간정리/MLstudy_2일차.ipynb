{
  "nbformat": 4,
  "nbformat_minor": 0,
  "metadata": {
    "colab": {
      "name": "MLstudy_2일차.ipynb",
      "provenance": [],
      "authorship_tag": "ABX9TyOrQjmp55AmhFDDuGqub63I",
      "include_colab_link": true
    },
    "kernelspec": {
      "name": "python3",
      "display_name": "Python 3"
    },
    "language_info": {
      "name": "python"
    }
  },
  "cells": [
    {
      "cell_type": "markdown",
      "metadata": {
        "id": "view-in-github",
        "colab_type": "text"
      },
      "source": [
        "<a href=\"https://colab.research.google.com/github/Minsung-commit/TIL/blob/master/MLstudy_2%EC%9D%BC%EC%B0%A8.ipynb\" target=\"_parent\"><img src=\"https://colab.research.google.com/assets/colab-badge.svg\" alt=\"Open In Colab\"/></a>"
      ]
    },
    {
      "cell_type": "code",
      "metadata": {
        "colab": {
          "base_uri": "https://localhost:8080/"
        },
        "id": "eAbkKMFlo1Pq",
        "outputId": "8b4f5248-fa6f-4d7d-91a1-db2f30df09db"
      },
      "source": [
        "from sklearn.datasets import load_iris\n",
        "from sklearn.tree import DecisionTreeClassifier\n",
        "from sklearn.metrics import accuracy_score\n",
        "from sklearn.model_selection import train_test_split\n",
        "\n",
        "\n",
        "iris_data = load_iris()\n",
        "df_clf = DecisionTreeClassifier()\n",
        "\n",
        "train_data = iris_data.data\n",
        "train_label = iris_data.target\n",
        "\n",
        "# 학습 수행\n",
        "df_clf.fit(train_data, train_label)\n",
        "\n",
        "# 테스트\n",
        "pred = df_clf.predict(train_data)\n",
        "print(\"예측 정확도 : {}\".format(accuracy_score(train_label, pred)))"
      ],
      "execution_count": 6,
      "outputs": [
        {
          "output_type": "stream",
          "text": [
            "예측 정확도 : 1.0\n"
          ],
          "name": "stdout"
        }
      ]
    },
    {
      "cell_type": "markdown",
      "metadata": {
        "id": "F2EfHBPlqX5U"
      },
      "source": [
        "# 학습/테스트 데이터 셋 분리 > 예측"
      ]
    },
    {
      "cell_type": "code",
      "metadata": {
        "id": "Br95qycErQBE"
      },
      "source": [
        "from sklearn.model_selection import train_test_split"
      ],
      "execution_count": 9,
      "outputs": []
    },
    {
      "cell_type": "code",
      "metadata": {
        "colab": {
          "base_uri": "https://localhost:8080/"
        },
        "id": "3V5-yGl4qAzr",
        "outputId": "b56467eb-9bac-4e33-ceb7-f73ca4833053"
      },
      "source": [
        "# 학습/테스트 데이터 셋 분리하고 예측\n",
        "\n",
        "iris_data = load_iris()\n",
        "df_clf = DecisionTreeClassifier()\n",
        "\n",
        "# 학습/테스트 분할(split)\n",
        "X_train, X_test, y_train, y_test = train_test_split(iris_data.data,\n",
        "                                                    iris_data.target,\n",
        "                                                    test_size = 0.3,\n",
        "                                                    random_state = 20)\n",
        "print(y_train)"
      ],
      "execution_count": 10,
      "outputs": [
        {
          "output_type": "stream",
          "text": [
            "[0 0 0 2 0 2 2 0 2 1 1 1 0 0 1 1 1 1 1 1 1 0 1 1 0 0 1 1 1 0 0 2 0 0 1 2 2\n",
            " 2 2 2 2 1 2 2 2 0 2 0 0 0 2 1 1 2 2 1 0 2 0 1 2 0 1 1 2 0 0 2 2 1 1 1 2 2\n",
            " 0 2 0 1 0 0 2 2 2 0 0 2 1 1 2 0 2 0 0 2 2 0 0 0 2 1 0 1 2 0 1]\n"
          ],
          "name": "stdout"
        }
      ]
    },
    {
      "cell_type": "code",
      "metadata": {
        "colab": {
          "base_uri": "https://localhost:8080/"
        },
        "id": "F2WsCy0-q3PI",
        "outputId": "e804325a-9cdb-4698-a618-3e90951b226f"
      },
      "source": [
        "# 학습 수행\n",
        "dt_clf.fit(X_train, y_train)\n",
        "\n",
        "# 예측 수행\n",
        "pred = dt_clf.predict(X_test)\n",
        "print(pred)\n",
        "print(\"예측 정확도 : \", accuracy_score(y_test, pred))"
      ],
      "execution_count": 12,
      "outputs": [
        {
          "output_type": "stream",
          "text": [
            "[0 1 1 1 1 1 2 0 2 0 2 1 1 0 0 2 0 1 2 1 1 2 2 0 1 1 1 0 2 1 1 1 0 0 0 1 1\n",
            " 0 1 2 1 1 0 1 1]\n",
            "예측 정확도 :  0.8888888888888888\n"
          ],
          "name": "stdout"
        }
      ]
    },
    {
      "cell_type": "markdown",
      "metadata": {
        "id": "G0uzV94vr-2q"
      },
      "source": [
        "### 판다스도 가능"
      ]
    },
    {
      "cell_type": "code",
      "metadata": {
        "colab": {
          "base_uri": "https://localhost:8080/",
          "height": 158
        },
        "id": "L9CHq2tWriTP",
        "outputId": "fd3900f5-23fe-4631-b091-b45d9656515b"
      },
      "source": [
        "import numpy as np\n",
        "import pandas as pd\n",
        "iris_df = pd.DataFrame(iris_data.data, columns = iris_data.feature_names)\n",
        "iris_df['target'] = iris_data.target\n",
        "iris_df.head(3)"
      ],
      "execution_count": 14,
      "outputs": [
        {
          "output_type": "execute_result",
          "data": {
            "text/html": [
              "<div>\n",
              "<style scoped>\n",
              "    .dataframe tbody tr th:only-of-type {\n",
              "        vertical-align: middle;\n",
              "    }\n",
              "\n",
              "    .dataframe tbody tr th {\n",
              "        vertical-align: top;\n",
              "    }\n",
              "\n",
              "    .dataframe thead th {\n",
              "        text-align: right;\n",
              "    }\n",
              "</style>\n",
              "<table border=\"1\" class=\"dataframe\">\n",
              "  <thead>\n",
              "    <tr style=\"text-align: right;\">\n",
              "      <th></th>\n",
              "      <th>sepal length (cm)</th>\n",
              "      <th>sepal width (cm)</th>\n",
              "      <th>petal length (cm)</th>\n",
              "      <th>petal width (cm)</th>\n",
              "      <th>target</th>\n",
              "    </tr>\n",
              "  </thead>\n",
              "  <tbody>\n",
              "    <tr>\n",
              "      <th>0</th>\n",
              "      <td>5.1</td>\n",
              "      <td>3.5</td>\n",
              "      <td>1.4</td>\n",
              "      <td>0.2</td>\n",
              "      <td>0</td>\n",
              "    </tr>\n",
              "    <tr>\n",
              "      <th>1</th>\n",
              "      <td>4.9</td>\n",
              "      <td>3.0</td>\n",
              "      <td>1.4</td>\n",
              "      <td>0.2</td>\n",
              "      <td>0</td>\n",
              "    </tr>\n",
              "    <tr>\n",
              "      <th>2</th>\n",
              "      <td>4.7</td>\n",
              "      <td>3.2</td>\n",
              "      <td>1.3</td>\n",
              "      <td>0.2</td>\n",
              "      <td>0</td>\n",
              "    </tr>\n",
              "  </tbody>\n",
              "</table>\n",
              "</div>"
            ],
            "text/plain": [
              "   sepal length (cm)  sepal width (cm)  ...  petal width (cm)  target\n",
              "0                5.1               3.5  ...               0.2       0\n",
              "1                4.9               3.0  ...               0.2       0\n",
              "2                4.7               3.2  ...               0.2       0\n",
              "\n",
              "[3 rows x 5 columns]"
            ]
          },
          "metadata": {
            "tags": []
          },
          "execution_count": 14
        }
      ]
    },
    {
      "cell_type": "code",
      "metadata": {
        "id": "rM9QEBnCvhpb"
      },
      "source": [
        "# 피처 데이터프레임 반환(마지막 열 전까지, 마지막 열 제외)\n",
        "feature_df = iris_df.iloc[:, :-1]\n",
        "\n",
        "# 타깃 데이터프레임 반환\n",
        "target_df = iris_df.iloc[:, -1]\n",
        "\n",
        "# 학습/테스트 데이터 셋 분할\n",
        "\n",
        "X_train, X_test, y_train, y_test = train_test_split(feature_df,\n",
        "                                                    target_df,\n",
        "                                                    test_size = 0.3,\n",
        "                                                    random_state = 4)"
      ],
      "execution_count": 15,
      "outputs": []
    },
    {
      "cell_type": "code",
      "metadata": {
        "id": "W0sopAjywyrE"
      },
      "source": [
        "dt_clf = DecisionTreeClassifier()"
      ],
      "execution_count": 16,
      "outputs": []
    },
    {
      "cell_type": "code",
      "metadata": {
        "colab": {
          "base_uri": "https://localhost:8080/"
        },
        "id": "4XE64VSFxHIB",
        "outputId": "bbf854e7-adfc-47ed-866a-1cdbd5cd7edf"
      },
      "source": [
        "dt_clf.fit(X_train, y_train)\n",
        "pred = dt_clf.predict(X_test)\n",
        "print('예측정확도 : {:.3f}'.format(accuracy_score(y_test, pred)))"
      ],
      "execution_count": 21,
      "outputs": [
        {
          "output_type": "stream",
          "text": [
            "예측정확도 : 0.978\n"
          ],
          "name": "stdout"
        }
      ]
    },
    {
      "cell_type": "code",
      "metadata": {
        "id": "Haf7Gg21xXyf"
      },
      "source": [
        ""
      ],
      "execution_count": null,
      "outputs": []
    },
    {
      "cell_type": "markdown",
      "metadata": {
        "id": "vsAZ_Jej1M5W"
      },
      "source": [
        "# Kfold"
      ]
    },
    {
      "cell_type": "code",
      "metadata": {
        "colab": {
          "base_uri": "https://localhost:8080/"
        },
        "id": "FS3Hgh8c1P5K",
        "outputId": "8a13c1ca-ff6f-4065-ad27-a62cf01bc1c3"
      },
      "source": [
        "from sklearn.model_selection import KFold\n",
        "\n",
        "iris = load_iris()\n",
        "features = iris.data\n",
        "label = iris.target\n",
        "\n",
        "features.shape"
      ],
      "execution_count": 25,
      "outputs": [
        {
          "output_type": "execute_result",
          "data": {
            "text/plain": [
              "(150, 4)"
            ]
          },
          "metadata": {
            "tags": []
          },
          "execution_count": 25
        }
      ]
    },
    {
      "cell_type": "code",
      "metadata": {
        "id": "lKgguR5m1c38"
      },
      "source": [
        "# DecisionTreeClassifier 객체 생성\n",
        "dt_clf = DecisionTreeClassifier(random_state = 156)\n",
        "\n",
        "# 5개의 폴드 세트로 분리하는 KFold 객체 생성\n",
        "kfold = KFold(n_splits=5)\n",
        "\n",
        "# 폴드 세트별 정확도를 담을 리스트 객체 생성\n",
        "cv_accuaracy = []"
      ],
      "execution_count": 26,
      "outputs": []
    },
    {
      "cell_type": "code",
      "metadata": {
        "colab": {
          "base_uri": "https://localhost:8080/"
        },
        "id": "e4t4bcBQ18rn",
        "outputId": "51d5309e-f539-4d3d-bec1-5bfe923efacc"
      },
      "source": [
        "# 폴드 별 학습용, 검증용 데이터 세트의 행 인덱스 확인\n",
        "kfold.split(features)"
      ],
      "execution_count": 27,
      "outputs": [
        {
          "output_type": "execute_result",
          "data": {
            "text/plain": [
              "<generator object _BaseKFold.split at 0x7fe28093fc50>"
            ]
          },
          "metadata": {
            "tags": []
          },
          "execution_count": 27
        }
      ]
    },
    {
      "cell_type": "code",
      "metadata": {
        "id": "mFrJ2N7E2EsE"
      },
      "source": [
        "for train_index, test_index in kfold.split(features):\n",
        "  print(train_index, test_index)"
      ],
      "execution_count": null,
      "outputs": []
    },
    {
      "cell_type": "code",
      "metadata": {
        "colab": {
          "base_uri": "https://localhost:8080/"
        },
        "id": "QV7cfsCG2XKQ",
        "outputId": "d68e2b92-cbe9-4379-ded8-350dc6564453"
      },
      "source": [
        "for train_index, test_index in kfold.split(features):\n",
        "  X_train, X_test = features[train_index], features[test_index]\n",
        "  y_train = label[train_index]\n",
        "  y_test = label[test_index]\n",
        "\n",
        "  dt_clf.fit(X_train, y_train)\n",
        "  pred = dt_clf.predict(X_test)\n",
        "\n",
        "  acc = np.round(accuracy_score(y_test, pred), 3)\n",
        "  train_size = X_train.shape[0]\n",
        "  test_size = X_test.shape[0]\n",
        "\n",
        "  print('정확도 : {}, 학습데이터크기 : {}, 검증데이터크기 : {}'.format(acc, train_size, test_size))\n",
        "  cv_accuaracy.append(acc)\n",
        "print('평균 검증 정확도: {:.1f}'.format(np.mean(cv_accuaracy)))"
      ],
      "execution_count": 36,
      "outputs": [
        {
          "output_type": "stream",
          "text": [
            "정확도 : 1.0, 학습데이터크기 : 120, 검증데이터크기 : 30\n",
            "정확도 : 0.967, 학습데이터크기 : 120, 검증데이터크기 : 30\n",
            "정확도 : 0.867, 학습데이터크기 : 120, 검증데이터크기 : 30\n",
            "정확도 : 0.933, 학습데이터크기 : 120, 검증데이터크기 : 30\n",
            "정확도 : 0.733, 학습데이터크기 : 120, 검증데이터크기 : 30\n",
            "평균 검증 정확도: 0.9\n"
          ],
          "name": "stdout"
        }
      ]
    },
    {
      "cell_type": "code",
      "metadata": {
        "id": "2C55pdPw4hd1"
      },
      "source": [
        ""
      ],
      "execution_count": null,
      "outputs": []
    },
    {
      "cell_type": "markdown",
      "metadata": {
        "id": "jYpFHORV_D-V"
      },
      "source": [
        "#Stratified K 폴드 교차검증 (데이터 불균형시 사용)\n",
        "분류 문제에서 주로 사용"
      ]
    },
    {
      "cell_type": "code",
      "metadata": {
        "id": "n9QPK1Qt_JAR"
      },
      "source": [
        "from sklearn.model_selection import StratifiedKFold\n",
        "\n",
        "iris = load_iris()\n",
        "iris_df = pd.DataFrame(iris.data, columns=iris.feature_names)\n",
        "iris_df['label'] = iris.target\n",
        "\n"
      ],
      "execution_count": 50,
      "outputs": []
    },
    {
      "cell_type": "code",
      "metadata": {
        "colab": {
          "base_uri": "https://localhost:8080/"
        },
        "id": "-3JPn3Bk_nOJ",
        "outputId": "731c6327-824b-4fc2-feaf-218a590aaa2f"
      },
      "source": [
        "skf = StratifiedKFold(n_splits = 3)\n",
        "\n",
        "n = 0\n",
        "\n",
        "for train_index, test_index in skf.split(iris_df, iris_df['label']):\n",
        "  n += 1\n",
        "\n",
        "  label_train = iris_df['label'].iloc[train_index]\n",
        "  label_test = iris_df['label'].iloc[test_index]\n",
        "  \n",
        "  print(\"[교차검증] : %d\" %(n))\n",
        "  print()\n",
        "  \n",
        "  print(\"학습용 : \",label_train.value_counts())\n",
        "  print()\n",
        "\n",
        "  print(\"검증용 : \",label_test.value_counts())\n",
        "  print()\n"
      ],
      "execution_count": 52,
      "outputs": [
        {
          "output_type": "stream",
          "text": [
            "[교차검증] : 1\n",
            "\n",
            "학습용 :  2    34\n",
            "1    33\n",
            "0    33\n",
            "Name: label, dtype: int64\n",
            "\n",
            "검증용 :  1    17\n",
            "0    17\n",
            "2    16\n",
            "Name: label, dtype: int64\n",
            "\n",
            "[교차검증] : 2\n",
            "\n",
            "학습용 :  1    34\n",
            "2    33\n",
            "0    33\n",
            "Name: label, dtype: int64\n",
            "\n",
            "검증용 :  2    17\n",
            "0    17\n",
            "1    16\n",
            "Name: label, dtype: int64\n",
            "\n",
            "[교차검증] : 3\n",
            "\n",
            "학습용 :  0    34\n",
            "2    33\n",
            "1    33\n",
            "Name: label, dtype: int64\n",
            "\n",
            "검증용 :  2    17\n",
            "1    17\n",
            "0    16\n",
            "Name: label, dtype: int64\n",
            "\n"
          ],
          "name": "stdout"
        }
      ]
    },
    {
      "cell_type": "code",
      "metadata": {
        "colab": {
          "base_uri": "https://localhost:8080/"
        },
        "id": "RjStoFbAAeoq",
        "outputId": "ed26e541-da77-4c4d-f8ee-2500cd68fbcb"
      },
      "source": [
        "# DecisionTreeClassifier 객체 생성\n",
        "dt_clf = DecisionTreeClassifier(random_state = 156)\n",
        "\n",
        "# 3개의 폴드 세트로 분리하는 StratifiedKFold 객체 생성\n",
        "skfold = StratifiedKFold(n_splits=3)\n",
        "\n",
        "# 폴드 세트별 정확도를 담을 리스트 객체 생성\n",
        "cv_accuaracy = []\n",
        "\n",
        "# StratifiedKFold를 이용해 붓꽃데이터 교차검증\n",
        "iris = load_iris()\n",
        "features = iris.data\n",
        "label = iris.target\n",
        "\n",
        "n = 0\n",
        "\n",
        "for train_index, test_index in skf.split(features, label):\n",
        "  X_train, X_test = features[train_index], features[test_index]\n",
        "  y_train = label[train_index]\n",
        "  y_test = label[test_index]\n",
        "\n",
        "  #학습 및 예측\n",
        "  dt_clf.fit(X_train, y_train)\n",
        "  pred = dt_clf.predict(X_test)\n",
        "\n",
        "  # 반복 시 마다 정확도 측정\n",
        "\n",
        "  n += 1\n",
        "  acc = np.round(accuracy_score(y_test, pred), 3)\n",
        "  train_size = X_train.shape[0]\n",
        "  test_size = X_test.shape[0]\n",
        "\n",
        "  print('정확도 : {}, 학습데이터크기 : {}, 검증데이터크기 : {}'.format(acc, train_size, test_size))\n",
        "  cv_accuaracy.append(acc)\n",
        "print('\\n##평균 검증 정확도: ', np.mean(cv_accuaracy))"
      ],
      "execution_count": 60,
      "outputs": [
        {
          "output_type": "stream",
          "text": [
            "정확도 : 0.98, 학습데이터크기 : 100, 검증데이터크기 : 50\n",
            "정확도 : 0.94, 학습데이터크기 : 100, 검증데이터크기 : 50\n",
            "정확도 : 0.98, 학습데이터크기 : 100, 검증데이터크기 : 50\n",
            "\n",
            "##평균 검증 정확도:  0.9666666666666667\n"
          ],
          "name": "stdout"
        }
      ]
    },
    {
      "cell_type": "code",
      "metadata": {
        "id": "gEt_MzCNF2my"
      },
      "source": [
        ""
      ],
      "execution_count": null,
      "outputs": []
    },
    {
      "cell_type": "markdown",
      "metadata": {
        "id": "RgkF2dI_Gha1"
      },
      "source": [
        "#Cross_val_score 함수 \n",
        "  * 1~3단계의 교차 검증 과정을 한꺼번에 수행\n",
        "  * 내부에서 Estimator를 학습(fit), 예측, 평가\n",
        "  * 간단하게 교차검증수행 가능\n",
        "  "
      ]
    },
    {
      "cell_type": "markdown",
      "metadata": {
        "id": "qR6tyTTJYU0c"
      },
      "source": [
        "### **붓꽃 자료를 3개 폴드로 분할하여 학습 및 검증**"
      ]
    },
    {
      "cell_type": "code",
      "metadata": {
        "id": "ziyU4dl6Gt7g"
      },
      "source": [
        "from sklearn.model_selection import  cross_val_score , cross_validate\n",
        "from sklearn.datasets import load_iris\n",
        "from sklearn.tree import DecisionTreeClassifier\n",
        "from sklearn.metrics import accuracy_score\n",
        "from sklearn.model_selection import train_test_split\n",
        "import numpy  as np\n",
        "import pandas as pd"
      ],
      "execution_count": 6,
      "outputs": []
    },
    {
      "cell_type": "code",
      "metadata": {
        "colab": {
          "base_uri": "https://localhost:8080/"
        },
        "id": "zDMo-ESuYiGo",
        "outputId": "4bb1749a-b2bd-45e0-8e95-7da236ebe2a5"
      },
      "source": [
        "iris_data = load_iris()\n",
        "dt_clf = DecisionTreeClassifier(random_state=156)\n",
        "features =iris_data.data\n",
        "label = iris_data.target\n",
        "\n",
        "scores = cross_val_score(dt_clf, features, label, scoring='accuracy', cv=3)\n",
        "print('교차 검정별 정확도 : ', scores)\n",
        "print('평균 검증 정확도:', np.round(np.mean(scores), 4))"
      ],
      "execution_count": 7,
      "outputs": [
        {
          "output_type": "stream",
          "text": [
            "교차 검정별 정확도 :  [0.98 0.94 0.98]\n",
            "평균 검증 정확도: 0.9667\n"
          ],
          "name": "stdout"
        }
      ]
    },
    {
      "cell_type": "markdown",
      "metadata": {
        "id": "l5YXTchoaYqH"
      },
      "source": [
        "  * cross_val_score()는 cv로 지정된 횟수만큼\n",
        "  * scoring 파라미터로 지정된 평가 지표로 평가 결과값을 배열로 반환\n",
        "  * 일반적으로 평가 결과값 평균을 평가 수치로 주로 사용"
      ]
    },
    {
      "cell_type": "markdown",
      "metadata": {
        "id": "8KJTeNmvev2b"
      },
      "source": [
        "# GridSerchCV"
      ]
    },
    {
      "cell_type": "code",
      "metadata": {
        "id": "PtAT7CQRZ37E"
      },
      "source": [
        "# GridSerchCV를 이용해\n",
        "# 결정 트리 알고리즘의 여러 가지 최적화 파라미터를 순차적으로 적용해서\n",
        "# 붓꽃 데이터 예측 분석\n",
        "\n",
        "from sklearn.model_selection import GridSearchCV, train_test_split"
      ],
      "execution_count": 8,
      "outputs": []
    },
    {
      "cell_type": "code",
      "metadata": {
        "colab": {
          "base_uri": "https://localhost:8080/",
          "height": 134
        },
        "id": "fvsc4wZ6cIa9",
        "outputId": "e61b2f03-312d-44c6-e4ca-159a2ed9d185"
      },
      "source": [
        "iris = load_iris()\n",
        "X_train, X_test, y_train, y_test = train_test_split(iris.data,\n",
        "                                                    iris.target,\n",
        "                                                    test_size = 0.2,\n",
        "                                                    random_state = 121)\n",
        "\n",
        "st_clf = DecisionTreeClassifier()\n",
        "parameter = [{'max_depth':1,2,3, 'min_samples_split':2,3}]\n",
        "# 하이퍼파라미터는 딕셔너리 형식으로 지정\n",
        "# key 값이 하이퍼파라미터\n",
        "# value : 하이퍼파라미터의 값"
      ],
      "execution_count": 26,
      "outputs": [
        {
          "output_type": "error",
          "ename": "SyntaxError",
          "evalue": "ignored",
          "traceback": [
            "\u001b[0;36m  File \u001b[0;32m\"<ipython-input-26-a7b783812fef>\"\u001b[0;36m, line \u001b[0;32m8\u001b[0m\n\u001b[0;31m    parameter = [{'max_depth':1,2,3, 'min_samples_split':2, 3}]\u001b[0m\n\u001b[0m                                 ^\u001b[0m\n\u001b[0;31mSyntaxError\u001b[0m\u001b[0;31m:\u001b[0m invalid syntax\n"
          ]
        }
      ]
    },
    {
      "cell_type": "code",
      "metadata": {
        "colab": {
          "base_uri": "https://localhost:8080/",
          "height": 422
        },
        "id": "s9HUa97wdzpI",
        "outputId": "822cc19f-8489-4e6b-d142-e2b24d1c928f"
      },
      "source": [
        "grid_tree = GridSearchCV(st_clf, param_grid=parameter, cv = 3, refit=True,\n",
        "             return_train_score=True)\n",
        "grid_tree.fit(X_train, y_train)\n",
        "\n",
        "scores_df = pd.DataFrame(grid_tree.cv_results_)\n",
        "scores_df"
      ],
      "execution_count": 16,
      "outputs": [
        {
          "output_type": "error",
          "ename": "ValueError",
          "evalue": "ignored",
          "traceback": [
            "\u001b[0;31m---------------------------------------------------------------------------\u001b[0m",
            "\u001b[0;31mValueError\u001b[0m                                Traceback (most recent call last)",
            "\u001b[0;32m<ipython-input-16-526b60396236>\u001b[0m in \u001b[0;36m<module>\u001b[0;34m()\u001b[0m\n\u001b[1;32m      1\u001b[0m grid_tree = GridSearchCV(st_clf, param_grid=parameter, cv = 3, refit=True,\n\u001b[0;32m----> 2\u001b[0;31m              return_train_score=True)\n\u001b[0m\u001b[1;32m      3\u001b[0m \u001b[0mgrid_tree\u001b[0m\u001b[0;34m.\u001b[0m\u001b[0mfit\u001b[0m\u001b[0;34m(\u001b[0m\u001b[0mX_train\u001b[0m\u001b[0;34m,\u001b[0m \u001b[0my_train\u001b[0m\u001b[0;34m)\u001b[0m\u001b[0;34m\u001b[0m\u001b[0;34m\u001b[0m\u001b[0m\n\u001b[1;32m      4\u001b[0m \u001b[0;34m\u001b[0m\u001b[0m\n\u001b[1;32m      5\u001b[0m \u001b[0mscores_df\u001b[0m \u001b[0;34m=\u001b[0m \u001b[0mpd\u001b[0m\u001b[0;34m.\u001b[0m\u001b[0mDataFrame\u001b[0m\u001b[0;34m(\u001b[0m\u001b[0mgrid_tree\u001b[0m\u001b[0;34m.\u001b[0m\u001b[0mcv_results_\u001b[0m\u001b[0;34m)\u001b[0m\u001b[0;34m\u001b[0m\u001b[0;34m\u001b[0m\u001b[0m\n",
            "\u001b[0;32m/usr/local/lib/python3.7/dist-packages/sklearn/model_selection/_search.py\u001b[0m in \u001b[0;36m__init__\u001b[0;34m(self, estimator, param_grid, scoring, n_jobs, iid, refit, cv, verbose, pre_dispatch, error_score, return_train_score)\u001b[0m\n\u001b[1;32m   1145\u001b[0m             return_train_score=return_train_score)\n\u001b[1;32m   1146\u001b[0m         \u001b[0mself\u001b[0m\u001b[0;34m.\u001b[0m\u001b[0mparam_grid\u001b[0m \u001b[0;34m=\u001b[0m \u001b[0mparam_grid\u001b[0m\u001b[0;34m\u001b[0m\u001b[0;34m\u001b[0m\u001b[0m\n\u001b[0;32m-> 1147\u001b[0;31m         \u001b[0m_check_param_grid\u001b[0m\u001b[0;34m(\u001b[0m\u001b[0mparam_grid\u001b[0m\u001b[0;34m)\u001b[0m\u001b[0;34m\u001b[0m\u001b[0;34m\u001b[0m\u001b[0m\n\u001b[0m\u001b[1;32m   1148\u001b[0m \u001b[0;34m\u001b[0m\u001b[0m\n\u001b[1;32m   1149\u001b[0m     \u001b[0;32mdef\u001b[0m \u001b[0m_run_search\u001b[0m\u001b[0;34m(\u001b[0m\u001b[0mself\u001b[0m\u001b[0;34m,\u001b[0m \u001b[0mevaluate_candidates\u001b[0m\u001b[0;34m)\u001b[0m\u001b[0;34m:\u001b[0m\u001b[0;34m\u001b[0m\u001b[0;34m\u001b[0m\u001b[0m\n",
            "\u001b[0;32m/usr/local/lib/python3.7/dist-packages/sklearn/model_selection/_search.py\u001b[0m in \u001b[0;36m_check_param_grid\u001b[0;34m(param_grid)\u001b[0m\n\u001b[1;32m    384\u001b[0m                 raise ValueError(\"Parameter values for parameter ({0}) need \"\n\u001b[1;32m    385\u001b[0m                                  \u001b[0;34m\"to be a sequence(but not a string) or\"\u001b[0m\u001b[0;34m\u001b[0m\u001b[0;34m\u001b[0m\u001b[0m\n\u001b[0;32m--> 386\u001b[0;31m                                  \" np.ndarray.\".format(name))\n\u001b[0m\u001b[1;32m    387\u001b[0m \u001b[0;34m\u001b[0m\u001b[0m\n\u001b[1;32m    388\u001b[0m             \u001b[0;32mif\u001b[0m \u001b[0mlen\u001b[0m\u001b[0;34m(\u001b[0m\u001b[0mv\u001b[0m\u001b[0;34m)\u001b[0m \u001b[0;34m==\u001b[0m \u001b[0;36m0\u001b[0m\u001b[0;34m:\u001b[0m\u001b[0;34m\u001b[0m\u001b[0;34m\u001b[0m\u001b[0m\n",
            "\u001b[0;31mValueError\u001b[0m: Parameter values for parameter (max_depth) need to be a sequence(but not a string) or np.ndarray."
          ]
        }
      ]
    },
    {
      "cell_type": "code",
      "metadata": {
        "id": "0CtZiYg5ezos"
      },
      "source": [
        ""
      ],
      "execution_count": null,
      "outputs": []
    }
  ]
}