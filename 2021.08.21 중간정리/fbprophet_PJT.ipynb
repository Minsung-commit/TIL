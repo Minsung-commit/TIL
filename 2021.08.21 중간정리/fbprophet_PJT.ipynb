{
  "nbformat": 4,
  "nbformat_minor": 5,
  "metadata": {
    "kernelspec": {
      "display_name": "Python Multi",
      "language": "python",
      "name": "multi"
    },
    "language_info": {
      "codemirror_mode": {
        "name": "ipython",
        "version": 3
      },
      "file_extension": ".py",
      "mimetype": "text/x-python",
      "name": "python",
      "nbconvert_exporter": "python",
      "pygments_lexer": "ipython3",
      "version": "3.7.6"
    },
    "colab": {
      "name": "Untitled.ipynb",
      "provenance": [],
      "include_colab_link": true
    }
  },
  "cells": [
    {
      "cell_type": "markdown",
      "metadata": {
        "id": "view-in-github",
        "colab_type": "text"
      },
      "source": [
        "<a href=\"https://colab.research.google.com/github/Minsung-commit/TIL/blob/master/fbprophet_PJT.ipynb\" target=\"_parent\"><img src=\"https://colab.research.google.com/assets/colab-badge.svg\" alt=\"Open In Colab\"/></a>"
      ]
    },
    {
      "cell_type": "code",
      "metadata": {
        "id": "40438495-5314-407f-8292-ae8a7d7c8c3c"
      },
      "source": [
        "import pandas as pd\n",
        "import numpy as np\n",
        "from sklearn.preprocessing import MinMaxScaler"
      ],
      "id": "40438495-5314-407f-8292-ae8a7d7c8c3c",
      "execution_count": 1,
      "outputs": []
    },
    {
      "cell_type": "code",
      "metadata": {
        "id": "ef0b6ed8-efe6-4653-8417-d259c53cdc78"
      },
      "source": [
        "apt2016 = pd.DataFrame(pd.read_csv('./apt_2016_17.csv'))\n",
        "apt2017 = pd.DataFrame(pd.read_csv('./apt_2017_18.csv'))\n",
        "apt2018 = pd.DataFrame(pd.read_csv('./apt_2018_19.csv'))\n",
        "apt2019 = pd.DataFrame(pd.read_csv('./apt_2019_20.csv'))\n",
        "apt2020 = pd.DataFrame(pd.read_csv('./apt_2020_21.csv'))"
      ],
      "id": "ef0b6ed8-efe6-4653-8417-d259c53cdc78",
      "execution_count": 2,
      "outputs": []
    },
    {
      "cell_type": "code",
      "metadata": {
        "colab": {
          "base_uri": "https://localhost:8080/"
        },
        "id": "19832eb4-4b95-4a8a-9fce-66aeff13649b",
        "outputId": "5fd9b9ea-8012-4224-b611-71224bd275ce"
      },
      "source": [
        "apt2016.info()"
      ],
      "id": "19832eb4-4b95-4a8a-9fce-66aeff13649b",
      "execution_count": 3,
      "outputs": [
        {
          "output_type": "stream",
          "text": [
            "<class 'pandas.core.frame.DataFrame'>\n",
            "RangeIndex: 109102 entries, 0 to 109101\n",
            "Data columns (total 13 columns):\n",
            " #   Column    Non-Null Count   Dtype  \n",
            "---  ------    --------------   -----  \n",
            " 0   시군구       109102 non-null  object \n",
            " 1   번지        109091 non-null  object \n",
            " 2   본번        109093 non-null  float64\n",
            " 3   부번        109093 non-null  float64\n",
            " 4   단지명       109102 non-null  object \n",
            " 5   전용면적(㎡)   109102 non-null  float64\n",
            " 6   계약년월      109102 non-null  int64  \n",
            " 7   계약일       109102 non-null  int64  \n",
            " 8   거래금액(만원)  109102 non-null  int64  \n",
            " 9   층         109102 non-null  int64  \n",
            " 10  건축년도      109102 non-null  int64  \n",
            " 11  도로명       109102 non-null  object \n",
            " 12  해제사유발생일   0 non-null       float64\n",
            "dtypes: float64(4), int64(5), object(4)\n",
            "memory usage: 10.8+ MB\n"
          ],
          "name": "stdout"
        }
      ]
    },
    {
      "cell_type": "code",
      "metadata": {
        "colab": {
          "base_uri": "https://localhost:8080/",
          "height": 419
        },
        "id": "6ef0c869-d948-493a-89be-f5f2db25d451",
        "outputId": "eeb956e5-017c-4c3c-8cdc-bc589d61ed77"
      },
      "source": [
        "apt2017"
      ],
      "id": "6ef0c869-d948-493a-89be-f5f2db25d451",
      "execution_count": 4,
      "outputs": [
        {
          "output_type": "execute_result",
          "data": {
            "text/html": [
              "<div>\n",
              "<style scoped>\n",
              "    .dataframe tbody tr th:only-of-type {\n",
              "        vertical-align: middle;\n",
              "    }\n",
              "\n",
              "    .dataframe tbody tr th {\n",
              "        vertical-align: top;\n",
              "    }\n",
              "\n",
              "    .dataframe thead th {\n",
              "        text-align: right;\n",
              "    }\n",
              "</style>\n",
              "<table border=\"1\" class=\"dataframe\">\n",
              "  <thead>\n",
              "    <tr style=\"text-align: right;\">\n",
              "      <th></th>\n",
              "      <th>시군구</th>\n",
              "      <th>번지</th>\n",
              "      <th>본번</th>\n",
              "      <th>부번</th>\n",
              "      <th>단지명</th>\n",
              "      <th>전용면적(㎡)</th>\n",
              "      <th>계약년월</th>\n",
              "      <th>계약일</th>\n",
              "      <th>거래금액(만원)</th>\n",
              "      <th>층</th>\n",
              "      <th>건축년도</th>\n",
              "      <th>도로명</th>\n",
              "      <th>해제사유발생일</th>\n",
              "    </tr>\n",
              "  </thead>\n",
              "  <tbody>\n",
              "    <tr>\n",
              "      <th>0</th>\n",
              "      <td>서울특별시 강남구 개포동</td>\n",
              "      <td>655-2</td>\n",
              "      <td>655.0</td>\n",
              "      <td>2.0</td>\n",
              "      <td>개포2차현대아파트(220)</td>\n",
              "      <td>77.75</td>\n",
              "      <td>201704</td>\n",
              "      <td>19</td>\n",
              "      <td>85000</td>\n",
              "      <td>2</td>\n",
              "      <td>1988</td>\n",
              "      <td>언주로 103</td>\n",
              "      <td>NaN</td>\n",
              "    </tr>\n",
              "    <tr>\n",
              "      <th>1</th>\n",
              "      <td>서울특별시 강남구 개포동</td>\n",
              "      <td>655-2</td>\n",
              "      <td>655.0</td>\n",
              "      <td>2.0</td>\n",
              "      <td>개포2차현대아파트(220)</td>\n",
              "      <td>77.75</td>\n",
              "      <td>201707</td>\n",
              "      <td>8</td>\n",
              "      <td>89900</td>\n",
              "      <td>1</td>\n",
              "      <td>1988</td>\n",
              "      <td>언주로 103</td>\n",
              "      <td>NaN</td>\n",
              "    </tr>\n",
              "    <tr>\n",
              "      <th>2</th>\n",
              "      <td>서울특별시 강남구 개포동</td>\n",
              "      <td>658-1</td>\n",
              "      <td>658.0</td>\n",
              "      <td>1.0</td>\n",
              "      <td>개포6차우성아파트1동~8동</td>\n",
              "      <td>79.97</td>\n",
              "      <td>201704</td>\n",
              "      <td>13</td>\n",
              "      <td>97500</td>\n",
              "      <td>4</td>\n",
              "      <td>1987</td>\n",
              "      <td>언주로 3</td>\n",
              "      <td>NaN</td>\n",
              "    </tr>\n",
              "    <tr>\n",
              "      <th>3</th>\n",
              "      <td>서울특별시 강남구 개포동</td>\n",
              "      <td>658-1</td>\n",
              "      <td>658.0</td>\n",
              "      <td>1.0</td>\n",
              "      <td>개포6차우성아파트1동~8동</td>\n",
              "      <td>79.97</td>\n",
              "      <td>201704</td>\n",
              "      <td>17</td>\n",
              "      <td>98000</td>\n",
              "      <td>1</td>\n",
              "      <td>1987</td>\n",
              "      <td>언주로 3</td>\n",
              "      <td>NaN</td>\n",
              "    </tr>\n",
              "    <tr>\n",
              "      <th>4</th>\n",
              "      <td>서울특별시 강남구 개포동</td>\n",
              "      <td>658-1</td>\n",
              "      <td>658.0</td>\n",
              "      <td>1.0</td>\n",
              "      <td>개포6차우성아파트1동~8동</td>\n",
              "      <td>79.97</td>\n",
              "      <td>201705</td>\n",
              "      <td>16</td>\n",
              "      <td>98000</td>\n",
              "      <td>1</td>\n",
              "      <td>1987</td>\n",
              "      <td>언주로 3</td>\n",
              "      <td>NaN</td>\n",
              "    </tr>\n",
              "    <tr>\n",
              "      <th>...</th>\n",
              "      <td>...</td>\n",
              "      <td>...</td>\n",
              "      <td>...</td>\n",
              "      <td>...</td>\n",
              "      <td>...</td>\n",
              "      <td>...</td>\n",
              "      <td>...</td>\n",
              "      <td>...</td>\n",
              "      <td>...</td>\n",
              "      <td>...</td>\n",
              "      <td>...</td>\n",
              "      <td>...</td>\n",
              "      <td>...</td>\n",
              "    </tr>\n",
              "    <tr>\n",
              "      <th>118209</th>\n",
              "      <td>서울특별시 중랑구 중화동</td>\n",
              "      <td>274-75</td>\n",
              "      <td>274.0</td>\n",
              "      <td>75.0</td>\n",
              "      <td>한영(102)</td>\n",
              "      <td>72.22</td>\n",
              "      <td>201711</td>\n",
              "      <td>18</td>\n",
              "      <td>28300</td>\n",
              "      <td>4</td>\n",
              "      <td>2003</td>\n",
              "      <td>동일로144길 74</td>\n",
              "      <td>NaN</td>\n",
              "    </tr>\n",
              "    <tr>\n",
              "      <th>118210</th>\n",
              "      <td>서울특별시 중랑구 중화동</td>\n",
              "      <td>274-76</td>\n",
              "      <td>274.0</td>\n",
              "      <td>76.0</td>\n",
              "      <td>한영(103)</td>\n",
              "      <td>125.09</td>\n",
              "      <td>201705</td>\n",
              "      <td>29</td>\n",
              "      <td>36900</td>\n",
              "      <td>6</td>\n",
              "      <td>2003</td>\n",
              "      <td>동일로144길 74</td>\n",
              "      <td>NaN</td>\n",
              "    </tr>\n",
              "    <tr>\n",
              "      <th>118211</th>\n",
              "      <td>서울특별시 중랑구 중화동</td>\n",
              "      <td>274-76</td>\n",
              "      <td>274.0</td>\n",
              "      <td>76.0</td>\n",
              "      <td>한영(103)</td>\n",
              "      <td>50.29</td>\n",
              "      <td>201708</td>\n",
              "      <td>17</td>\n",
              "      <td>19100</td>\n",
              "      <td>5</td>\n",
              "      <td>2003</td>\n",
              "      <td>동일로144길 74</td>\n",
              "      <td>NaN</td>\n",
              "    </tr>\n",
              "    <tr>\n",
              "      <th>118212</th>\n",
              "      <td>서울특별시 중랑구 중화동</td>\n",
              "      <td>274-76</td>\n",
              "      <td>274.0</td>\n",
              "      <td>76.0</td>\n",
              "      <td>한영(103)</td>\n",
              "      <td>87.31</td>\n",
              "      <td>201708</td>\n",
              "      <td>28</td>\n",
              "      <td>30500</td>\n",
              "      <td>6</td>\n",
              "      <td>2003</td>\n",
              "      <td>동일로144길 74</td>\n",
              "      <td>NaN</td>\n",
              "    </tr>\n",
              "    <tr>\n",
              "      <th>118213</th>\n",
              "      <td>서울특별시 중랑구 중화동</td>\n",
              "      <td>274-77</td>\n",
              "      <td>274.0</td>\n",
              "      <td>77.0</td>\n",
              "      <td>한영(104)</td>\n",
              "      <td>67.57</td>\n",
              "      <td>201711</td>\n",
              "      <td>4</td>\n",
              "      <td>25100</td>\n",
              "      <td>4</td>\n",
              "      <td>2003</td>\n",
              "      <td>동일로144길 74</td>\n",
              "      <td>NaN</td>\n",
              "    </tr>\n",
              "  </tbody>\n",
              "</table>\n",
              "<p>118214 rows × 13 columns</p>\n",
              "</div>"
            ],
            "text/plain": [
              "                  시군구      번지     본번    부번  ...  층  건축년도         도로명  해제사유발생일\n",
              "0       서울특별시 강남구 개포동   655-2  655.0   2.0  ...  2  1988     언주로 103      NaN\n",
              "1       서울특별시 강남구 개포동   655-2  655.0   2.0  ...  1  1988     언주로 103      NaN\n",
              "2       서울특별시 강남구 개포동   658-1  658.0   1.0  ...  4  1987       언주로 3      NaN\n",
              "3       서울특별시 강남구 개포동   658-1  658.0   1.0  ...  1  1987       언주로 3      NaN\n",
              "4       서울특별시 강남구 개포동   658-1  658.0   1.0  ...  1  1987       언주로 3      NaN\n",
              "...               ...     ...    ...   ...  ... ..   ...         ...      ...\n",
              "118209  서울특별시 중랑구 중화동  274-75  274.0  75.0  ...  4  2003  동일로144길 74      NaN\n",
              "118210  서울특별시 중랑구 중화동  274-76  274.0  76.0  ...  6  2003  동일로144길 74      NaN\n",
              "118211  서울특별시 중랑구 중화동  274-76  274.0  76.0  ...  5  2003  동일로144길 74      NaN\n",
              "118212  서울특별시 중랑구 중화동  274-76  274.0  76.0  ...  6  2003  동일로144길 74      NaN\n",
              "118213  서울특별시 중랑구 중화동  274-77  274.0  77.0  ...  4  2003  동일로144길 74      NaN\n",
              "\n",
              "[118214 rows x 13 columns]"
            ]
          },
          "metadata": {
            "tags": []
          },
          "execution_count": 4
        }
      ]
    },
    {
      "cell_type": "code",
      "metadata": {
        "id": "26116810-0e71-45f2-b3bc-d0b20e2043cc"
      },
      "source": [
        "apt = apt2016"
      ],
      "id": "26116810-0e71-45f2-b3bc-d0b20e2043cc",
      "execution_count": 5,
      "outputs": []
    },
    {
      "cell_type": "code",
      "metadata": {
        "id": "155ae1f0-9d22-4465-8540-048361e47978"
      },
      "source": [
        "apt = apt.append([apt2017, apt2018, apt2019, apt2020], sort = False)\n",
        "# apt.append(apt2018, sort = False)\n",
        "# apt.append(apt2019, sort = False)\n",
        "# apt.append(apt2020, sort = False)"
      ],
      "id": "155ae1f0-9d22-4465-8540-048361e47978",
      "execution_count": 6,
      "outputs": []
    },
    {
      "cell_type": "code",
      "metadata": {
        "colab": {
          "base_uri": "https://localhost:8080/"
        },
        "id": "87eeed0d-2cbc-4422-8850-f7faa04aa6f1",
        "outputId": "b75d56ec-bd7c-4858-bdf7-852af4d2350e"
      },
      "source": [
        "apt.info()"
      ],
      "id": "87eeed0d-2cbc-4422-8850-f7faa04aa6f1",
      "execution_count": 7,
      "outputs": [
        {
          "output_type": "stream",
          "text": [
            "<class 'pandas.core.frame.DataFrame'>\n",
            "Int64Index: 450907 entries, 0 to 78545\n",
            "Data columns (total 13 columns):\n",
            " #   Column    Non-Null Count   Dtype  \n",
            "---  ------    --------------   -----  \n",
            " 0   시군구       450907 non-null  object \n",
            " 1   번지        450709 non-null  object \n",
            " 2   본번        450846 non-null  float64\n",
            " 3   부번        450846 non-null  float64\n",
            " 4   단지명       450907 non-null  object \n",
            " 5   전용면적(㎡)   450907 non-null  float64\n",
            " 6   계약년월      450907 non-null  int64  \n",
            " 7   계약일       450907 non-null  int64  \n",
            " 8   거래금액(만원)  450907 non-null  int64  \n",
            " 9   층         450907 non-null  int64  \n",
            " 10  건축년도      450907 non-null  int64  \n",
            " 11  도로명       450907 non-null  object \n",
            " 12  해제사유발생일   3464 non-null    float64\n",
            "dtypes: float64(4), int64(5), object(4)\n",
            "memory usage: 48.2+ MB\n"
          ],
          "name": "stdout"
        }
      ]
    },
    {
      "cell_type": "code",
      "metadata": {
        "id": "6202cbd4-c1ef-437e-a1be-dab056d43ed6"
      },
      "source": [
        "from datetime import datetime, timedelta"
      ],
      "id": "6202cbd4-c1ef-437e-a1be-dab056d43ed6",
      "execution_count": 8,
      "outputs": []
    },
    {
      "cell_type": "code",
      "metadata": {
        "id": "cd7bda21-47ad-4889-a919-d8a7f22e4179"
      },
      "source": [
        ""
      ],
      "id": "cd7bda21-47ad-4889-a919-d8a7f22e4179",
      "execution_count": 8,
      "outputs": []
    },
    {
      "cell_type": "code",
      "metadata": {
        "id": "6652084f-c539-4d3a-ba28-473eb343ce32"
      },
      "source": [
        "apt.계약년월 = apt.계약년월.astype(str).apply(lambda s: s[:4] + '-' + s[4:])"
      ],
      "id": "6652084f-c539-4d3a-ba28-473eb343ce32",
      "execution_count": 9,
      "outputs": []
    },
    {
      "cell_type": "code",
      "metadata": {
        "colab": {
          "base_uri": "https://localhost:8080/"
        },
        "id": "8d6e23bb-16b3-4cd8-b1ad-dbe451aa56fe",
        "outputId": "5a4cfbf7-b73a-4a20-83a4-2c5ab128879b"
      },
      "source": [
        "apt.계약년월"
      ],
      "id": "8d6e23bb-16b3-4cd8-b1ad-dbe451aa56fe",
      "execution_count": 10,
      "outputs": [
        {
          "output_type": "execute_result",
          "data": {
            "text/plain": [
              "0        2016-04\n",
              "1        2016-05\n",
              "2        2016-05\n",
              "3        2016-12\n",
              "4        2017-03\n",
              "          ...   \n",
              "78541    2020-08\n",
              "78542    2020-07\n",
              "78543    2020-12\n",
              "78544    2020-09\n",
              "78545    2020-09\n",
              "Name: 계약년월, Length: 450907, dtype: object"
            ]
          },
          "metadata": {
            "tags": []
          },
          "execution_count": 10
        }
      ]
    },
    {
      "cell_type": "code",
      "metadata": {
        "id": "f387441b-4345-4b37-81a4-8d02b022bdbd"
      },
      "source": [
        "apt.계약일 = apt.계약일.astype(str)"
      ],
      "id": "f387441b-4345-4b37-81a4-8d02b022bdbd",
      "execution_count": 11,
      "outputs": []
    },
    {
      "cell_type": "code",
      "metadata": {
        "id": "5c52e23e-d6d1-45f4-9085-fc2d4f4f36b3"
      },
      "source": [
        "apt['fulldate'] = apt[\"계약년월\"].map(str) + \"-\" + apt[\"계약일\"]"
      ],
      "id": "5c52e23e-d6d1-45f4-9085-fc2d4f4f36b3",
      "execution_count": 12,
      "outputs": []
    },
    {
      "cell_type": "code",
      "metadata": {
        "id": "28bf781a-49c5-4be3-ade5-11ff1b97877b"
      },
      "source": [
        "apt.fulldate = pd.to_datetime(apt['fulldate'])"
      ],
      "id": "28bf781a-49c5-4be3-ade5-11ff1b97877b",
      "execution_count": 13,
      "outputs": []
    },
    {
      "cell_type": "code",
      "metadata": {
        "id": "3260247d-39ca-4844-b62a-38fcaf413b7e"
      },
      "source": [
        "apt = apt.sort_values(by='fulldate')"
      ],
      "id": "3260247d-39ca-4844-b62a-38fcaf413b7e",
      "execution_count": 14,
      "outputs": []
    },
    {
      "cell_type": "code",
      "metadata": {
        "colab": {
          "base_uri": "https://localhost:8080/"
        },
        "id": "3ab383b5-6839-498f-9494-12573e6c89be",
        "outputId": "579fecca-4f26-4696-a4ed-ba82097284ef"
      },
      "source": [
        "apt.info()"
      ],
      "id": "3ab383b5-6839-498f-9494-12573e6c89be",
      "execution_count": 15,
      "outputs": [
        {
          "output_type": "stream",
          "text": [
            "<class 'pandas.core.frame.DataFrame'>\n",
            "Int64Index: 450907 entries, 23397 to 24951\n",
            "Data columns (total 14 columns):\n",
            " #   Column    Non-Null Count   Dtype         \n",
            "---  ------    --------------   -----         \n",
            " 0   시군구       450907 non-null  object        \n",
            " 1   번지        450709 non-null  object        \n",
            " 2   본번        450846 non-null  float64       \n",
            " 3   부번        450846 non-null  float64       \n",
            " 4   단지명       450907 non-null  object        \n",
            " 5   전용면적(㎡)   450907 non-null  float64       \n",
            " 6   계약년월      450907 non-null  object        \n",
            " 7   계약일       450907 non-null  object        \n",
            " 8   거래금액(만원)  450907 non-null  int64         \n",
            " 9   층         450907 non-null  int64         \n",
            " 10  건축년도      450907 non-null  int64         \n",
            " 11  도로명       450907 non-null  object        \n",
            " 12  해제사유발생일   3464 non-null    float64       \n",
            " 13  fulldate  450907 non-null  datetime64[ns]\n",
            "dtypes: datetime64[ns](1), float64(4), int64(3), object(6)\n",
            "memory usage: 51.6+ MB\n"
          ],
          "name": "stdout"
        }
      ]
    },
    {
      "cell_type": "code",
      "metadata": {
        "id": "3dd2b391-e8f4-4ef5-82fc-cdab6f6172f1"
      },
      "source": [
        "apt_df = apt.drop(['번지','본번','부번','단지명','전용면적(㎡)','층','건축년도','도로명','해제사유발생일'], axis = 1)"
      ],
      "id": "3dd2b391-e8f4-4ef5-82fc-cdab6f6172f1",
      "execution_count": 16,
      "outputs": []
    },
    {
      "cell_type": "code",
      "metadata": {
        "id": "21c4d247-5f0e-4737-9ae7-f02f967f4e65"
      },
      "source": [
        "apt_df.columns = ['place','con_date','con_day','price','fulldate']"
      ],
      "id": "21c4d247-5f0e-4737-9ae7-f02f967f4e65",
      "execution_count": 17,
      "outputs": []
    },
    {
      "cell_type": "code",
      "metadata": {
        "colab": {
          "base_uri": "https://localhost:8080/"
        },
        "id": "c9f0ed8d-84e1-434b-8a63-c812bbf17172",
        "outputId": "7f0c12c1-a94c-48f5-d47d-51528795a99b"
      },
      "source": [
        "apt_df.fulldate.value_counts()"
      ],
      "id": "c9f0ed8d-84e1-434b-8a63-c812bbf17172",
      "execution_count": 18,
      "outputs": [
        {
          "output_type": "execute_result",
          "data": {
            "text/plain": [
              "2020-06-13    1295\n",
              "2018-08-25    1152\n",
              "2020-06-16    1095\n",
              "2020-06-27    1088\n",
              "2020-07-04    1001\n",
              "              ... \n",
              "2019-02-05       2\n",
              "2017-01-28       2\n",
              "2017-10-04       1\n",
              "2020-10-02       1\n",
              "2020-10-01       1\n",
              "Name: fulldate, Length: 1826, dtype: int64"
            ]
          },
          "metadata": {
            "tags": []
          },
          "execution_count": 18
        }
      ]
    },
    {
      "cell_type": "code",
      "metadata": {
        "colab": {
          "base_uri": "https://localhost:8080/"
        },
        "id": "7e84fafd-8dad-43f4-b6ba-bd1f512426ae",
        "outputId": "d1865c52-4cba-45ce-ac76-42999d556d69"
      },
      "source": [
        "apt_df[\"fulldate\"].dt.month"
      ],
      "id": "7e84fafd-8dad-43f4-b6ba-bd1f512426ae",
      "execution_count": 19,
      "outputs": [
        {
          "output_type": "execute_result",
          "data": {
            "text/plain": [
              "23397     4\n",
              "108505    4\n",
              "72694     4\n",
              "33321     4\n",
              "5130      4\n",
              "         ..\n",
              "6545      3\n",
              "966       3\n",
              "965       3\n",
              "53502     3\n",
              "24951     3\n",
              "Name: fulldate, Length: 450907, dtype: int64"
            ]
          },
          "metadata": {
            "tags": []
          },
          "execution_count": 19
        }
      ]
    },
    {
      "cell_type": "code",
      "metadata": {
        "id": "5e3734f6-c194-44bd-be2a-5cf5c93be8fb"
      },
      "source": [
        "# apt_df.to_csv('apt_df.csv')"
      ],
      "id": "5e3734f6-c194-44bd-be2a-5cf5c93be8fb",
      "execution_count": 20,
      "outputs": []
    },
    {
      "cell_type": "code",
      "metadata": {
        "id": "3428769a-ce40-4096-833e-2278c56dca00"
      },
      "source": [
        "apt_lstm1 = apt_df.groupby('fulldate')['price'].agg(**{'mean_price':'mean'}).reset_index()"
      ],
      "id": "3428769a-ce40-4096-833e-2278c56dca00",
      "execution_count": 21,
      "outputs": []
    },
    {
      "cell_type": "code",
      "metadata": {
        "id": "a003d56d-d34d-4b32-9438-b33a167b1408"
      },
      "source": [
        "apt_lstm = apt_df.groupby('fulldate')['price'].agg(**{'median_price':'median'}).reset_index()"
      ],
      "id": "a003d56d-d34d-4b32-9438-b33a167b1408",
      "execution_count": 22,
      "outputs": []
    },
    {
      "cell_type": "code",
      "metadata": {
        "id": "0ec3c698-7e31-421c-b468-369132f1d113"
      },
      "source": [
        "apt_group = apt_df.groupby('con_date')['price'].agg(**{'mean_price':'mean'}).reset_index()"
      ],
      "id": "0ec3c698-7e31-421c-b468-369132f1d113",
      "execution_count": 23,
      "outputs": []
    },
    {
      "cell_type": "code",
      "metadata": {
        "id": "4c6df7b6-db75-49db-a9b4-0d68393674ea"
      },
      "source": [
        "apt_group['con_date'] = pd.to_datetime(apt_group.con_date)"
      ],
      "id": "4c6df7b6-db75-49db-a9b4-0d68393674ea",
      "execution_count": 24,
      "outputs": []
    },
    {
      "cell_type": "code",
      "metadata": {
        "colab": {
          "base_uri": "https://localhost:8080/",
          "height": 1000
        },
        "id": "5978a8a1-d649-4602-8497-62deb0eb2b6e",
        "outputId": "e112c41a-dba3-454e-b316-e3f67915a94f"
      },
      "source": [
        "apt_group"
      ],
      "id": "5978a8a1-d649-4602-8497-62deb0eb2b6e",
      "execution_count": 25,
      "outputs": [
        {
          "output_type": "execute_result",
          "data": {
            "text/html": [
              "<div>\n",
              "<style scoped>\n",
              "    .dataframe tbody tr th:only-of-type {\n",
              "        vertical-align: middle;\n",
              "    }\n",
              "\n",
              "    .dataframe tbody tr th {\n",
              "        vertical-align: top;\n",
              "    }\n",
              "\n",
              "    .dataframe thead th {\n",
              "        text-align: right;\n",
              "    }\n",
              "</style>\n",
              "<table border=\"1\" class=\"dataframe\">\n",
              "  <thead>\n",
              "    <tr style=\"text-align: right;\">\n",
              "      <th></th>\n",
              "      <th>con_date</th>\n",
              "      <th>mean_price</th>\n",
              "    </tr>\n",
              "  </thead>\n",
              "  <tbody>\n",
              "    <tr>\n",
              "      <th>0</th>\n",
              "      <td>2016-04-01</td>\n",
              "      <td>53665.162660</td>\n",
              "    </tr>\n",
              "    <tr>\n",
              "      <th>1</th>\n",
              "      <td>2016-05-01</td>\n",
              "      <td>55910.395086</td>\n",
              "    </tr>\n",
              "    <tr>\n",
              "      <th>2</th>\n",
              "      <td>2016-06-01</td>\n",
              "      <td>54816.095642</td>\n",
              "    </tr>\n",
              "    <tr>\n",
              "      <th>3</th>\n",
              "      <td>2016-07-01</td>\n",
              "      <td>52815.155087</td>\n",
              "    </tr>\n",
              "    <tr>\n",
              "      <th>4</th>\n",
              "      <td>2016-08-01</td>\n",
              "      <td>55442.916720</td>\n",
              "    </tr>\n",
              "    <tr>\n",
              "      <th>5</th>\n",
              "      <td>2016-09-01</td>\n",
              "      <td>56569.600124</td>\n",
              "    </tr>\n",
              "    <tr>\n",
              "      <th>6</th>\n",
              "      <td>2016-10-01</td>\n",
              "      <td>55966.206965</td>\n",
              "    </tr>\n",
              "    <tr>\n",
              "      <th>7</th>\n",
              "      <td>2016-11-01</td>\n",
              "      <td>52360.432611</td>\n",
              "    </tr>\n",
              "    <tr>\n",
              "      <th>8</th>\n",
              "      <td>2016-12-01</td>\n",
              "      <td>54961.550071</td>\n",
              "    </tr>\n",
              "    <tr>\n",
              "      <th>9</th>\n",
              "      <td>2017-01-01</td>\n",
              "      <td>53921.015245</td>\n",
              "    </tr>\n",
              "    <tr>\n",
              "      <th>10</th>\n",
              "      <td>2017-02-01</td>\n",
              "      <td>55236.256849</td>\n",
              "    </tr>\n",
              "    <tr>\n",
              "      <th>11</th>\n",
              "      <td>2017-03-01</td>\n",
              "      <td>56172.866326</td>\n",
              "    </tr>\n",
              "    <tr>\n",
              "      <th>12</th>\n",
              "      <td>2017-04-01</td>\n",
              "      <td>59094.573134</td>\n",
              "    </tr>\n",
              "    <tr>\n",
              "      <th>13</th>\n",
              "      <td>2017-05-01</td>\n",
              "      <td>62606.375816</td>\n",
              "    </tr>\n",
              "    <tr>\n",
              "      <th>14</th>\n",
              "      <td>2017-06-01</td>\n",
              "      <td>57803.830168</td>\n",
              "    </tr>\n",
              "    <tr>\n",
              "      <th>15</th>\n",
              "      <td>2017-07-01</td>\n",
              "      <td>62077.474008</td>\n",
              "    </tr>\n",
              "    <tr>\n",
              "      <th>16</th>\n",
              "      <td>2017-08-01</td>\n",
              "      <td>56930.886435</td>\n",
              "    </tr>\n",
              "    <tr>\n",
              "      <th>17</th>\n",
              "      <td>2017-09-01</td>\n",
              "      <td>65502.064732</td>\n",
              "    </tr>\n",
              "    <tr>\n",
              "      <th>18</th>\n",
              "      <td>2017-10-01</td>\n",
              "      <td>65143.428662</td>\n",
              "    </tr>\n",
              "    <tr>\n",
              "      <th>19</th>\n",
              "      <td>2017-11-01</td>\n",
              "      <td>71908.118153</td>\n",
              "    </tr>\n",
              "    <tr>\n",
              "      <th>20</th>\n",
              "      <td>2017-12-01</td>\n",
              "      <td>71675.668421</td>\n",
              "    </tr>\n",
              "    <tr>\n",
              "      <th>21</th>\n",
              "      <td>2018-01-01</td>\n",
              "      <td>70612.792594</td>\n",
              "    </tr>\n",
              "    <tr>\n",
              "      <th>22</th>\n",
              "      <td>2018-02-01</td>\n",
              "      <td>61523.327817</td>\n",
              "    </tr>\n",
              "    <tr>\n",
              "      <th>23</th>\n",
              "      <td>2018-03-01</td>\n",
              "      <td>58725.703021</td>\n",
              "    </tr>\n",
              "    <tr>\n",
              "      <th>24</th>\n",
              "      <td>2018-04-01</td>\n",
              "      <td>59880.198845</td>\n",
              "    </tr>\n",
              "    <tr>\n",
              "      <th>25</th>\n",
              "      <td>2018-05-01</td>\n",
              "      <td>58970.469115</td>\n",
              "    </tr>\n",
              "    <tr>\n",
              "      <th>26</th>\n",
              "      <td>2018-06-01</td>\n",
              "      <td>60259.647104</td>\n",
              "    </tr>\n",
              "    <tr>\n",
              "      <th>27</th>\n",
              "      <td>2018-07-01</td>\n",
              "      <td>69969.540974</td>\n",
              "    </tr>\n",
              "    <tr>\n",
              "      <th>28</th>\n",
              "      <td>2018-08-01</td>\n",
              "      <td>71531.598897</td>\n",
              "    </tr>\n",
              "    <tr>\n",
              "      <th>29</th>\n",
              "      <td>2018-09-01</td>\n",
              "      <td>70356.327648</td>\n",
              "    </tr>\n",
              "    <tr>\n",
              "      <th>30</th>\n",
              "      <td>2018-10-01</td>\n",
              "      <td>65332.377560</td>\n",
              "    </tr>\n",
              "    <tr>\n",
              "      <th>31</th>\n",
              "      <td>2018-11-01</td>\n",
              "      <td>64156.044994</td>\n",
              "    </tr>\n",
              "    <tr>\n",
              "      <th>32</th>\n",
              "      <td>2018-12-01</td>\n",
              "      <td>60623.685499</td>\n",
              "    </tr>\n",
              "    <tr>\n",
              "      <th>33</th>\n",
              "      <td>2019-01-01</td>\n",
              "      <td>61805.586127</td>\n",
              "    </tr>\n",
              "    <tr>\n",
              "      <th>34</th>\n",
              "      <td>2019-02-01</td>\n",
              "      <td>62749.991090</td>\n",
              "    </tr>\n",
              "    <tr>\n",
              "      <th>35</th>\n",
              "      <td>2019-03-01</td>\n",
              "      <td>70164.976337</td>\n",
              "    </tr>\n",
              "    <tr>\n",
              "      <th>36</th>\n",
              "      <td>2019-04-01</td>\n",
              "      <td>77298.513602</td>\n",
              "    </tr>\n",
              "    <tr>\n",
              "      <th>37</th>\n",
              "      <td>2019-05-01</td>\n",
              "      <td>86187.079049</td>\n",
              "    </tr>\n",
              "    <tr>\n",
              "      <th>38</th>\n",
              "      <td>2019-06-01</td>\n",
              "      <td>86413.339250</td>\n",
              "    </tr>\n",
              "    <tr>\n",
              "      <th>39</th>\n",
              "      <td>2019-07-01</td>\n",
              "      <td>86793.135890</td>\n",
              "    </tr>\n",
              "    <tr>\n",
              "      <th>40</th>\n",
              "      <td>2019-08-01</td>\n",
              "      <td>80465.535428</td>\n",
              "    </tr>\n",
              "    <tr>\n",
              "      <th>41</th>\n",
              "      <td>2019-09-01</td>\n",
              "      <td>85962.609357</td>\n",
              "    </tr>\n",
              "    <tr>\n",
              "      <th>42</th>\n",
              "      <td>2019-10-01</td>\n",
              "      <td>84917.090878</td>\n",
              "    </tr>\n",
              "    <tr>\n",
              "      <th>43</th>\n",
              "      <td>2019-11-01</td>\n",
              "      <td>83681.973586</td>\n",
              "    </tr>\n",
              "    <tr>\n",
              "      <th>44</th>\n",
              "      <td>2019-12-01</td>\n",
              "      <td>75450.008518</td>\n",
              "    </tr>\n",
              "    <tr>\n",
              "      <th>45</th>\n",
              "      <td>2020-01-01</td>\n",
              "      <td>65707.399262</td>\n",
              "    </tr>\n",
              "    <tr>\n",
              "      <th>46</th>\n",
              "      <td>2020-02-01</td>\n",
              "      <td>68921.406057</td>\n",
              "    </tr>\n",
              "    <tr>\n",
              "      <th>47</th>\n",
              "      <td>2020-03-01</td>\n",
              "      <td>66624.797758</td>\n",
              "    </tr>\n",
              "    <tr>\n",
              "      <th>48</th>\n",
              "      <td>2020-04-01</td>\n",
              "      <td>71391.079180</td>\n",
              "    </tr>\n",
              "    <tr>\n",
              "      <th>49</th>\n",
              "      <td>2020-05-01</td>\n",
              "      <td>80952.042244</td>\n",
              "    </tr>\n",
              "    <tr>\n",
              "      <th>50</th>\n",
              "      <td>2020-06-01</td>\n",
              "      <td>86726.564492</td>\n",
              "    </tr>\n",
              "    <tr>\n",
              "      <th>51</th>\n",
              "      <td>2020-07-01</td>\n",
              "      <td>86238.728461</td>\n",
              "    </tr>\n",
              "    <tr>\n",
              "      <th>52</th>\n",
              "      <td>2020-08-01</td>\n",
              "      <td>94964.726535</td>\n",
              "    </tr>\n",
              "    <tr>\n",
              "      <th>53</th>\n",
              "      <td>2020-09-01</td>\n",
              "      <td>94727.521034</td>\n",
              "    </tr>\n",
              "    <tr>\n",
              "      <th>54</th>\n",
              "      <td>2020-10-01</td>\n",
              "      <td>89677.123996</td>\n",
              "    </tr>\n",
              "    <tr>\n",
              "      <th>55</th>\n",
              "      <td>2020-11-01</td>\n",
              "      <td>98190.970029</td>\n",
              "    </tr>\n",
              "    <tr>\n",
              "      <th>56</th>\n",
              "      <td>2020-12-01</td>\n",
              "      <td>104065.222079</td>\n",
              "    </tr>\n",
              "    <tr>\n",
              "      <th>57</th>\n",
              "      <td>2021-01-01</td>\n",
              "      <td>100495.065090</td>\n",
              "    </tr>\n",
              "    <tr>\n",
              "      <th>58</th>\n",
              "      <td>2021-02-01</td>\n",
              "      <td>100247.766402</td>\n",
              "    </tr>\n",
              "    <tr>\n",
              "      <th>59</th>\n",
              "      <td>2021-03-01</td>\n",
              "      <td>97155.383333</td>\n",
              "    </tr>\n",
              "  </tbody>\n",
              "</table>\n",
              "</div>"
            ],
            "text/plain": [
              "     con_date     mean_price\n",
              "0  2016-04-01   53665.162660\n",
              "1  2016-05-01   55910.395086\n",
              "2  2016-06-01   54816.095642\n",
              "3  2016-07-01   52815.155087\n",
              "4  2016-08-01   55442.916720\n",
              "5  2016-09-01   56569.600124\n",
              "6  2016-10-01   55966.206965\n",
              "7  2016-11-01   52360.432611\n",
              "8  2016-12-01   54961.550071\n",
              "9  2017-01-01   53921.015245\n",
              "10 2017-02-01   55236.256849\n",
              "11 2017-03-01   56172.866326\n",
              "12 2017-04-01   59094.573134\n",
              "13 2017-05-01   62606.375816\n",
              "14 2017-06-01   57803.830168\n",
              "15 2017-07-01   62077.474008\n",
              "16 2017-08-01   56930.886435\n",
              "17 2017-09-01   65502.064732\n",
              "18 2017-10-01   65143.428662\n",
              "19 2017-11-01   71908.118153\n",
              "20 2017-12-01   71675.668421\n",
              "21 2018-01-01   70612.792594\n",
              "22 2018-02-01   61523.327817\n",
              "23 2018-03-01   58725.703021\n",
              "24 2018-04-01   59880.198845\n",
              "25 2018-05-01   58970.469115\n",
              "26 2018-06-01   60259.647104\n",
              "27 2018-07-01   69969.540974\n",
              "28 2018-08-01   71531.598897\n",
              "29 2018-09-01   70356.327648\n",
              "30 2018-10-01   65332.377560\n",
              "31 2018-11-01   64156.044994\n",
              "32 2018-12-01   60623.685499\n",
              "33 2019-01-01   61805.586127\n",
              "34 2019-02-01   62749.991090\n",
              "35 2019-03-01   70164.976337\n",
              "36 2019-04-01   77298.513602\n",
              "37 2019-05-01   86187.079049\n",
              "38 2019-06-01   86413.339250\n",
              "39 2019-07-01   86793.135890\n",
              "40 2019-08-01   80465.535428\n",
              "41 2019-09-01   85962.609357\n",
              "42 2019-10-01   84917.090878\n",
              "43 2019-11-01   83681.973586\n",
              "44 2019-12-01   75450.008518\n",
              "45 2020-01-01   65707.399262\n",
              "46 2020-02-01   68921.406057\n",
              "47 2020-03-01   66624.797758\n",
              "48 2020-04-01   71391.079180\n",
              "49 2020-05-01   80952.042244\n",
              "50 2020-06-01   86726.564492\n",
              "51 2020-07-01   86238.728461\n",
              "52 2020-08-01   94964.726535\n",
              "53 2020-09-01   94727.521034\n",
              "54 2020-10-01   89677.123996\n",
              "55 2020-11-01   98190.970029\n",
              "56 2020-12-01  104065.222079\n",
              "57 2021-01-01  100495.065090\n",
              "58 2021-02-01  100247.766402\n",
              "59 2021-03-01   97155.383333"
            ]
          },
          "metadata": {
            "tags": []
          },
          "execution_count": 25
        }
      ]
    },
    {
      "cell_type": "code",
      "metadata": {
        "id": "f81a97be-86d8-4e39-a394-2647186b9113"
      },
      "source": [
        "# apt_lstm.to_csv('apt_season.csv')"
      ],
      "id": "f81a97be-86d8-4e39-a394-2647186b9113",
      "execution_count": 26,
      "outputs": []
    },
    {
      "cell_type": "code",
      "metadata": {
        "colab": {
          "base_uri": "https://localhost:8080/",
          "height": 265
        },
        "id": "6ecfc6fa-a7a9-4bbb-8100-4a51ea5a537e",
        "outputId": "55a1986f-5037-45f1-a225-53f90fad3a7f"
      },
      "source": [
        "from matplotlib import pyplot as plt\n",
        "plt.plot(apt_group.con_date, apt_group.mean_price)\n",
        "plt.show()"
      ],
      "id": "6ecfc6fa-a7a9-4bbb-8100-4a51ea5a537e",
      "execution_count": 27,
      "outputs": [
        {
          "output_type": "display_data",
          "data": {
            "image/png": "[encoded data removed]",
            "text/plain": [
              "<Figure size 432x288 with 1 Axes>"
            ]
          },
          "metadata": {
            "tags": [],
            "needs_background": "light"
          }
        }
      ]
    },
    {
      "cell_type": "code",
      "metadata": {
        "colab": {
          "base_uri": "https://localhost:8080/",
          "height": 265
        },
        "id": "dc1280e7-e960-40ff-810e-7d84e875e780",
        "outputId": "4a339100-2976-4518-ab36-ce6a9f4ef1ec"
      },
      "source": [
        "plt.plot(apt_lstm.fulldate, apt_lstm.median_price)\n",
        "plt.show()"
      ],
      "id": "dc1280e7-e960-40ff-810e-7d84e875e780",
      "execution_count": 28,
      "outputs": [
        {
          "output_type": "display_data",
          "data": {
            "image/png": "[encoded data removed]",
            "text/plain": [
              "<Figure size 432x288 with 1 Axes>"
            ]
          },
          "metadata": {
            "tags": [],
            "needs_background": "light"
          }
        }
      ]
    },
    {
      "cell_type": "code",
      "metadata": {
        "colab": {
          "base_uri": "https://localhost:8080/",
          "height": 265
        },
        "id": "64af3e30-8dc2-456f-9070-df1eca18571e",
        "outputId": "eb49a077-3041-491d-c302-51b0632dbf8d"
      },
      "source": [
        "plt.plot(apt_lstm1.fulldate, apt_lstm1.mean_price)\n",
        "plt.show()"
      ],
      "id": "64af3e30-8dc2-456f-9070-df1eca18571e",
      "execution_count": 29,
      "outputs": [
        {
          "output_type": "display_data",
          "data": {
            "image/png": "[encoded data removed]",
            "text/plain": [
              "<Figure size 432x288 with 1 Axes>"
            ]
          },
          "metadata": {
            "tags": [],
            "needs_background": "light"
          }
        }
      ]
    },
    {
      "cell_type": "code",
      "metadata": {
        "id": "30af1aa8-038c-46c0-bc19-c8397a29a6c8"
      },
      "source": [
        "from sklearn.preprocessing import MinMaxScaler"
      ],
      "id": "30af1aa8-038c-46c0-bc19-c8397a29a6c8",
      "execution_count": 30,
      "outputs": []
    },
    {
      "cell_type": "code",
      "metadata": {
        "id": "OyGkEbhTrFe3"
      },
      "source": [
        "df = apt_lstm"
      ],
      "id": "OyGkEbhTrFe3",
      "execution_count": 31,
      "outputs": []
    },
    {
      "cell_type": "code",
      "metadata": {
        "colab": {
          "base_uri": "https://localhost:8080/",
          "height": 419
        },
        "id": "0OkwOrsyrGlz",
        "outputId": "6444598f-1c5d-4b25-ecbc-9dbb0aa67f7c"
      },
      "source": [
        "df"
      ],
      "id": "0OkwOrsyrGlz",
      "execution_count": 32,
      "outputs": [
        {
          "output_type": "execute_result",
          "data": {
            "text/html": [
              "<div>\n",
              "<style scoped>\n",
              "    .dataframe tbody tr th:only-of-type {\n",
              "        vertical-align: middle;\n",
              "    }\n",
              "\n",
              "    .dataframe tbody tr th {\n",
              "        vertical-align: top;\n",
              "    }\n",
              "\n",
              "    .dataframe thead th {\n",
              "        text-align: right;\n",
              "    }\n",
              "</style>\n",
              "<table border=\"1\" class=\"dataframe\">\n",
              "  <thead>\n",
              "    <tr style=\"text-align: right;\">\n",
              "      <th></th>\n",
              "      <th>fulldate</th>\n",
              "      <th>median_price</th>\n",
              "    </tr>\n",
              "  </thead>\n",
              "  <tbody>\n",
              "    <tr>\n",
              "      <th>0</th>\n",
              "      <td>2016-04-01</td>\n",
              "      <td>44750.0</td>\n",
              "    </tr>\n",
              "    <tr>\n",
              "      <th>1</th>\n",
              "      <td>2016-04-02</td>\n",
              "      <td>43250.0</td>\n",
              "    </tr>\n",
              "    <tr>\n",
              "      <th>2</th>\n",
              "      <td>2016-04-03</td>\n",
              "      <td>39650.0</td>\n",
              "    </tr>\n",
              "    <tr>\n",
              "      <th>3</th>\n",
              "      <td>2016-04-04</td>\n",
              "      <td>43500.0</td>\n",
              "    </tr>\n",
              "    <tr>\n",
              "      <th>4</th>\n",
              "      <td>2016-04-05</td>\n",
              "      <td>44250.0</td>\n",
              "    </tr>\n",
              "    <tr>\n",
              "      <th>...</th>\n",
              "      <td>...</td>\n",
              "      <td>...</td>\n",
              "    </tr>\n",
              "    <tr>\n",
              "      <th>1821</th>\n",
              "      <td>2021-03-27</td>\n",
              "      <td>83000.0</td>\n",
              "    </tr>\n",
              "    <tr>\n",
              "      <th>1822</th>\n",
              "      <td>2021-03-28</td>\n",
              "      <td>60000.0</td>\n",
              "    </tr>\n",
              "    <tr>\n",
              "      <th>1823</th>\n",
              "      <td>2021-03-29</td>\n",
              "      <td>72750.0</td>\n",
              "    </tr>\n",
              "    <tr>\n",
              "      <th>1824</th>\n",
              "      <td>2021-03-30</td>\n",
              "      <td>83800.0</td>\n",
              "    </tr>\n",
              "    <tr>\n",
              "      <th>1825</th>\n",
              "      <td>2021-03-31</td>\n",
              "      <td>73500.0</td>\n",
              "    </tr>\n",
              "  </tbody>\n",
              "</table>\n",
              "<p>1826 rows × 2 columns</p>\n",
              "</div>"
            ],
            "text/plain": [
              "       fulldate  median_price\n",
              "0    2016-04-01       44750.0\n",
              "1    2016-04-02       43250.0\n",
              "2    2016-04-03       39650.0\n",
              "3    2016-04-04       43500.0\n",
              "4    2016-04-05       44250.0\n",
              "...         ...           ...\n",
              "1821 2021-03-27       83000.0\n",
              "1822 2021-03-28       60000.0\n",
              "1823 2021-03-29       72750.0\n",
              "1824 2021-03-30       83800.0\n",
              "1825 2021-03-31       73500.0\n",
              "\n",
              "[1826 rows x 2 columns]"
            ]
          },
          "metadata": {
            "tags": []
          },
          "execution_count": 32
        }
      ]
    },
    {
      "cell_type": "code",
      "metadata": {
        "id": "Wcu8Gto-rcD2"
      },
      "source": [
        "df = apt_lstm['median_price'].values.reshape(-1,1)"
      ],
      "id": "Wcu8Gto-rcD2",
      "execution_count": 33,
      "outputs": []
    },
    {
      "cell_type": "code",
      "metadata": {
        "colab": {
          "base_uri": "https://localhost:8080/"
        },
        "id": "0UAfuk0gsHda",
        "outputId": "5a020d84-f5d5-4157-e063-5f9d1766a4c3"
      },
      "source": [
        "df"
      ],
      "id": "0UAfuk0gsHda",
      "execution_count": 34,
      "outputs": [
        {
          "output_type": "execute_result",
          "data": {
            "text/plain": [
              "array([[44750.],\n",
              "       [43250.],\n",
              "       [39650.],\n",
              "       ...,\n",
              "       [72750.],\n",
              "       [83800.],\n",
              "       [73500.]])"
            ]
          },
          "metadata": {
            "tags": []
          },
          "execution_count": 34
        }
      ]
    },
    {
      "cell_type": "code",
      "metadata": {
        "colab": {
          "base_uri": "https://localhost:8080/",
          "height": 419
        },
        "id": "62badbd0-bcc6-4528-82be-3807b7166c8e",
        "outputId": "9b03a83a-44ce-46aa-bf3a-3389c6b893c5"
      },
      "source": [
        "\n",
        "scale_cols = ['fulldate', 'median_price']\n",
        "# df.columns = scale_cols\n",
        "\n",
        "scaler = MinMaxScaler()\n",
        "scale_cols = ['mean_price']\n",
        "df_scaled = scaler.fit_transform(df)\n",
        "df_scaled = pd.DataFrame(df_scaled)\n",
        "df_scaled.columns = scale_cols\n",
        "\n",
        "df_scaled"
      ],
      "id": "62badbd0-bcc6-4528-82be-3807b7166c8e",
      "execution_count": 35,
      "outputs": [
        {
          "output_type": "execute_result",
          "data": {
            "text/html": [
              "<div>\n",
              "<style scoped>\n",
              "    .dataframe tbody tr th:only-of-type {\n",
              "        vertical-align: middle;\n",
              "    }\n",
              "\n",
              "    .dataframe tbody tr th {\n",
              "        vertical-align: top;\n",
              "    }\n",
              "\n",
              "    .dataframe thead th {\n",
              "        text-align: right;\n",
              "    }\n",
              "</style>\n",
              "<table border=\"1\" class=\"dataframe\">\n",
              "  <thead>\n",
              "    <tr style=\"text-align: right;\">\n",
              "      <th></th>\n",
              "      <th>mean_price</th>\n",
              "    </tr>\n",
              "  </thead>\n",
              "  <tbody>\n",
              "    <tr>\n",
              "      <th>0</th>\n",
              "      <td>0.235849</td>\n",
              "    </tr>\n",
              "    <tr>\n",
              "      <th>1</th>\n",
              "      <td>0.218800</td>\n",
              "    </tr>\n",
              "    <tr>\n",
              "      <th>2</th>\n",
              "      <td>0.177881</td>\n",
              "    </tr>\n",
              "    <tr>\n",
              "      <th>3</th>\n",
              "      <td>0.221641</td>\n",
              "    </tr>\n",
              "    <tr>\n",
              "      <th>4</th>\n",
              "      <td>0.230166</td>\n",
              "    </tr>\n",
              "    <tr>\n",
              "      <th>...</th>\n",
              "      <td>...</td>\n",
              "    </tr>\n",
              "    <tr>\n",
              "      <th>1821</th>\n",
              "      <td>0.670607</td>\n",
              "    </tr>\n",
              "    <tr>\n",
              "      <th>1822</th>\n",
              "      <td>0.409184</td>\n",
              "    </tr>\n",
              "    <tr>\n",
              "      <th>1823</th>\n",
              "      <td>0.554103</td>\n",
              "    </tr>\n",
              "    <tr>\n",
              "      <th>1824</th>\n",
              "      <td>0.679700</td>\n",
              "    </tr>\n",
              "    <tr>\n",
              "      <th>1825</th>\n",
              "      <td>0.562628</td>\n",
              "    </tr>\n",
              "  </tbody>\n",
              "</table>\n",
              "<p>1826 rows × 1 columns</p>\n",
              "</div>"
            ],
            "text/plain": [
              "      mean_price\n",
              "0       0.235849\n",
              "1       0.218800\n",
              "2       0.177881\n",
              "3       0.221641\n",
              "4       0.230166\n",
              "...          ...\n",
              "1821    0.670607\n",
              "1822    0.409184\n",
              "1823    0.554103\n",
              "1824    0.679700\n",
              "1825    0.562628\n",
              "\n",
              "[1826 rows x 1 columns]"
            ]
          },
          "metadata": {
            "tags": []
          },
          "execution_count": 35
        }
      ]
    },
    {
      "cell_type": "code",
      "metadata": {
        "id": "2fbdaf91-9485-4203-87df-18f0d0b9a5cf"
      },
      "source": [
        "df_scaled['fulldate'] = apt_lstm['fulldate']"
      ],
      "id": "2fbdaf91-9485-4203-87df-18f0d0b9a5cf",
      "execution_count": 36,
      "outputs": []
    },
    {
      "cell_type": "code",
      "metadata": {
        "id": "FHIMu9oO2bf6"
      },
      "source": [
        "dataset = apt_lstm.set_index('fulldate')"
      ],
      "id": "FHIMu9oO2bf6",
      "execution_count": 37,
      "outputs": []
    },
    {
      "cell_type": "code",
      "metadata": {
        "colab": {
          "base_uri": "https://localhost:8080/"
        },
        "id": "zBfbQRhK3FSR",
        "outputId": "aa2167ee-3e9a-4116-c49c-ac08fe28cf3e"
      },
      "source": [
        "from statsmodels.tsa.stattools import adfuller\n",
        "def ad_test(dataset):\n",
        "     dftest = adfuller(dataset, autolag = 'AIC')\n",
        "     print(\"1. ADF : \",dftest[0])\n",
        "     print(\"2. P-Value : \", dftest[1])\n",
        "     print(\"3. Num Of Lags : \", dftest[2])\n",
        "     print(\"4. Num Of Observations Used For ADF Regression:\",      dftest[3])\n",
        "     print(\"5. Critical Values :\")\n",
        "     for key, val in dftest[4].items():\n",
        "         print(\"\\t\",key, \": \", val)\n",
        "ad_test(dataset['median_price'])"
      ],
      "id": "zBfbQRhK3FSR",
      "execution_count": 38,
      "outputs": [
        {
          "output_type": "stream",
          "text": [
            "1. ADF :  -1.3145837532890547\n",
            "2. P-Value :  0.6224740990221669\n",
            "3. Num Of Lags :  23\n",
            "4. Num Of Observations Used For ADF Regression: 1802\n",
            "5. Critical Values :\n",
            "\t 1% :  -3.4339840952648695\n",
            "\t 5% :  -2.8631452508003057\n",
            "\t 10% :  -2.567624583142913\n"
          ],
          "name": "stdout"
        }
      ]
    },
    {
      "cell_type": "code",
      "metadata": {
        "colab": {
          "base_uri": "https://localhost:8080/",
          "height": 540
        },
        "id": "nzedJqc-37dB",
        "outputId": "1e1bb90f-ce83-46f4-db4e-18d08f2535de"
      },
      "source": [
        "# pip install pmdarima"
      ],
      "id": "nzedJqc-37dB",
      "execution_count": 65,
      "outputs": [
        {
          "output_type": "stream",
          "text": [
            "Collecting pmdarima\n",
            "  Downloading pmdarima-1.8.2-cp37-cp37m-manylinux1_x86_64.whl (1.5 MB)\n",
            "\u001b[K     |████████████████████████████████| 1.5 MB 35.5 MB/s \n",
            "\u001b[?25hCollecting statsmodels!=0.12.0,>=0.11\n",
            "  Downloading statsmodels-0.12.2-cp37-cp37m-manylinux1_x86_64.whl (9.5 MB)\n",
            "\u001b[K     |████████████████████████████████| 9.5 MB 46.5 MB/s \n",
            "\u001b[?25hRequirement already satisfied: numpy~=1.19.0 in /usr/local/lib/python3.7/dist-packages (from pmdarima) (1.19.5)\n",
            "Requirement already satisfied: urllib3 in /usr/local/lib/python3.7/dist-packages (from pmdarima) (1.24.3)\n",
            "Requirement already satisfied: pandas>=0.19 in /usr/local/lib/python3.7/dist-packages (from pmdarima) (1.1.5)\n",
            "Requirement already satisfied: Cython!=0.29.18,>=0.29 in /usr/local/lib/python3.7/dist-packages (from pmdarima) (0.29.23)\n",
            "Requirement already satisfied: joblib>=0.11 in /usr/local/lib/python3.7/dist-packages (from pmdarima) (1.0.1)\n",
            "Requirement already satisfied: setuptools!=50.0.0,>=38.6.0 in /usr/local/lib/python3.7/dist-packages (from pmdarima) (57.2.0)\n",
            "Requirement already satisfied: scipy>=1.3.2 in /usr/local/lib/python3.7/dist-packages (from pmdarima) (1.4.1)\n",
            "Requirement already satisfied: scikit-learn>=0.22 in /usr/local/lib/python3.7/dist-packages (from pmdarima) (0.22.2.post1)\n",
            "Requirement already satisfied: pytz>=2017.2 in /usr/local/lib/python3.7/dist-packages (from pandas>=0.19->pmdarima) (2018.9)\n",
            "Requirement already satisfied: python-dateutil>=2.7.3 in /usr/local/lib/python3.7/dist-packages (from pandas>=0.19->pmdarima) (2.8.1)\n",
            "Requirement already satisfied: six>=1.5 in /usr/local/lib/python3.7/dist-packages (from python-dateutil>=2.7.3->pandas>=0.19->pmdarima) (1.15.0)\n",
            "Requirement already satisfied: patsy>=0.5 in /usr/local/lib/python3.7/dist-packages (from statsmodels!=0.12.0,>=0.11->pmdarima) (0.5.1)\n",
            "Installing collected packages: statsmodels, pmdarima\n",
            "  Attempting uninstall: statsmodels\n",
            "    Found existing installation: statsmodels 0.10.2\n",
            "    Uninstalling statsmodels-0.10.2:\n",
            "      Successfully uninstalled statsmodels-0.10.2\n",
            "Successfully installed pmdarima-1.8.2 statsmodels-0.12.2\n"
          ],
          "name": "stdout"
        },
        {
          "output_type": "display_data",
          "data": {
            "application/vnd.colab-display-data+json": {
              "pip_warning": {
                "packages": [
                  "statsmodels"
                ]
              }
            }
          },
          "metadata": {
            "tags": []
          }
        }
      ]
    },
    {
      "cell_type": "code",
      "metadata": {
        "colab": {
          "base_uri": "https://localhost:8080/"
        },
        "id": "IDvQMzOe3vie",
        "outputId": "3a9a2d48-f069-4420-b531-a9dbc9af0998"
      },
      "source": [
        "from pmdarima import auto_arima\n",
        "stepwise_fit = auto_arima(dataset['median_price'], trace=True,\n",
        "suppress_warnings=True)"
      ],
      "id": "IDvQMzOe3vie",
      "execution_count": 39,
      "outputs": [
        {
          "output_type": "stream",
          "text": [
            "Performing stepwise search to minimize aic\n",
            " ARIMA(2,1,2)(0,0,0)[0] intercept   : AIC=36581.475, Time=2.09 sec\n",
            " ARIMA(0,1,0)(0,0,0)[0] intercept   : AIC=37561.355, Time=0.08 sec\n",
            " ARIMA(1,1,0)(0,0,0)[0] intercept   : AIC=37155.707, Time=0.12 sec\n",
            " ARIMA(0,1,1)(0,0,0)[0] intercept   : AIC=36590.061, Time=1.18 sec\n",
            " ARIMA(0,1,0)(0,0,0)[0]             : AIC=37559.364, Time=0.04 sec\n",
            " ARIMA(1,1,2)(0,0,0)[0] intercept   : AIC=36590.941, Time=0.70 sec\n",
            " ARIMA(2,1,1)(0,0,0)[0] intercept   : AIC=36587.843, Time=0.53 sec\n",
            " ARIMA(3,1,2)(0,0,0)[0] intercept   : AIC=36583.996, Time=2.08 sec\n",
            " ARIMA(2,1,3)(0,0,0)[0] intercept   : AIC=36554.306, Time=2.47 sec\n",
            " ARIMA(1,1,3)(0,0,0)[0] intercept   : AIC=36589.048, Time=1.02 sec\n",
            " ARIMA(3,1,3)(0,0,0)[0] intercept   : AIC=36558.279, Time=2.59 sec\n",
            " ARIMA(2,1,4)(0,0,0)[0] intercept   : AIC=36557.970, Time=2.35 sec\n",
            " ARIMA(1,1,4)(0,0,0)[0] intercept   : AIC=36585.243, Time=2.16 sec\n",
            " ARIMA(3,1,4)(0,0,0)[0] intercept   : AIC=36559.664, Time=4.11 sec\n",
            " ARIMA(2,1,3)(0,0,0)[0]             : AIC=36553.150, Time=2.15 sec\n",
            " ARIMA(1,1,3)(0,0,0)[0]             : AIC=36582.338, Time=0.82 sec\n",
            " ARIMA(2,1,2)(0,0,0)[0]             : AIC=36580.699, Time=0.97 sec\n",
            " ARIMA(3,1,3)(0,0,0)[0]             : AIC=36556.345, Time=2.36 sec\n",
            " ARIMA(2,1,4)(0,0,0)[0]             : AIC=36556.338, Time=1.22 sec\n",
            " ARIMA(1,1,2)(0,0,0)[0]             : AIC=36588.600, Time=0.55 sec\n",
            " ARIMA(1,1,4)(0,0,0)[0]             : AIC=36584.569, Time=0.55 sec\n",
            " ARIMA(3,1,2)(0,0,0)[0]             : AIC=36583.397, Time=0.66 sec\n",
            " ARIMA(3,1,4)(0,0,0)[0]             : AIC=36558.351, Time=2.15 sec\n",
            "\n",
            "Best model:  ARIMA(2,1,3)(0,0,0)[0]          \n",
            "Total fit time: 32.991 seconds\n"
          ],
          "name": "stdout"
        }
      ]
    },
    {
      "cell_type": "code",
      "metadata": {
        "colab": {
          "base_uri": "https://localhost:8080/"
        },
        "id": "iRC0c0Ni4ZfY",
        "outputId": "bcfe7388-5b86-4983-af98-8362bb6fca89"
      },
      "source": [
        "# print(df.shape)\n",
        "train=dataset.iloc[:-30]\n",
        "test=dataset.iloc[-30:]\n",
        "print(train.shape,test.shape)"
      ],
      "id": "iRC0c0Ni4ZfY",
      "execution_count": 41,
      "outputs": [
        {
          "output_type": "stream",
          "text": [
            "(1796, 1) (30, 1)\n"
          ],
          "name": "stdout"
        }
      ]
    },
    {
      "cell_type": "code",
      "metadata": {
        "colab": {
          "base_uri": "https://localhost:8080/",
          "height": 1000
        },
        "id": "Bp4tr08z4fXv",
        "outputId": "60a018d4-36e2-4ac4-b12b-002ae71ea9fd"
      },
      "source": [
        "from statsmodels.tsa.arima_model import ARIMA\n",
        "model=ARIMA(train['median_price'],order=(2,1,3))\n",
        "model=model.fit()\n",
        "model.summary()"
      ],
      "id": "Bp4tr08z4fXv",
      "execution_count": 42,
      "outputs": [
        {
          "output_type": "stream",
          "text": [
            "/usr/local/lib/python3.7/dist-packages/statsmodels/tsa/arima_model.py:472: FutureWarning: \n",
            "statsmodels.tsa.arima_model.ARMA and statsmodels.tsa.arima_model.ARIMA have\n",
            "been deprecated in favor of statsmodels.tsa.arima.model.ARIMA (note the .\n",
            "between arima and model) and\n",
            "statsmodels.tsa.SARIMAX. These will be removed after the 0.12 release.\n",
            "\n",
            "statsmodels.tsa.arima.model.ARIMA makes use of the statespace framework and\n",
            "is both well tested and maintained.\n",
            "\n",
            "To silence this warning and continue using ARMA and ARIMA until they are\n",
            "removed, use:\n",
            "\n",
            "import warnings\n",
            "warnings.filterwarnings('ignore', 'statsmodels.tsa.arima_model.ARMA',\n",
            "                        FutureWarning)\n",
            "warnings.filterwarnings('ignore', 'statsmodels.tsa.arima_model.ARIMA',\n",
            "                        FutureWarning)\n",
            "\n",
            "  warnings.warn(ARIMA_DEPRECATION_WARN, FutureWarning)\n",
            "/usr/local/lib/python3.7/dist-packages/statsmodels/tsa/base/tsa_model.py:527: ValueWarning: No frequency information was provided, so inferred frequency D will be used.\n",
            "  % freq, ValueWarning)\n",
            "/usr/local/lib/python3.7/dist-packages/statsmodels/tsa/base/tsa_model.py:527: ValueWarning: No frequency information was provided, so inferred frequency D will be used.\n",
            "  % freq, ValueWarning)\n",
            "/usr/local/lib/python3.7/dist-packages/statsmodels/tsa/arima_model.py:472: FutureWarning: \n",
            "statsmodels.tsa.arima_model.ARMA and statsmodels.tsa.arima_model.ARIMA have\n",
            "been deprecated in favor of statsmodels.tsa.arima.model.ARIMA (note the .\n",
            "between arima and model) and\n",
            "statsmodels.tsa.SARIMAX. These will be removed after the 0.12 release.\n",
            "\n",
            "statsmodels.tsa.arima.model.ARIMA makes use of the statespace framework and\n",
            "is both well tested and maintained.\n",
            "\n",
            "To silence this warning and continue using ARMA and ARIMA until they are\n",
            "removed, use:\n",
            "\n",
            "import warnings\n",
            "warnings.filterwarnings('ignore', 'statsmodels.tsa.arima_model.ARMA',\n",
            "                        FutureWarning)\n",
            "warnings.filterwarnings('ignore', 'statsmodels.tsa.arima_model.ARIMA',\n",
            "                        FutureWarning)\n",
            "\n",
            "  warnings.warn(ARIMA_DEPRECATION_WARN, FutureWarning)\n"
          ],
          "name": "stderr"
        },
        {
          "output_type": "execute_result",
          "data": {
            "text/html": [
              "<table class=\"simpletable\">\n",
              "<caption>ARIMA Model Results</caption>\n",
              "<tr>\n",
              "  <th>Dep. Variable:</th>  <td>D.median_price</td>  <th>  No. Observations:  </th>    <td>1795</td>   \n",
              "</tr>\n",
              "<tr>\n",
              "  <th>Model:</th>          <td>ARIMA(2, 1, 3)</td>  <th>  Log Likelihood     </th> <td>-17945.519</td>\n",
              "</tr>\n",
              "<tr>\n",
              "  <th>Method:</th>             <td>css-mle</td>     <th>  S.D. of innovations</th>  <td>5314.302</td> \n",
              "</tr>\n",
              "<tr>\n",
              "  <th>Date:</th>          <td>Thu, 12 Aug 2021</td> <th>  AIC                </th>  <td>35905.039</td>\n",
              "</tr>\n",
              "<tr>\n",
              "  <th>Time:</th>              <td>05:43:37</td>     <th>  BIC                </th>  <td>35943.488</td>\n",
              "</tr>\n",
              "<tr>\n",
              "  <th>Sample:</th>           <td>04-02-2016</td>    <th>  HQIC               </th>  <td>35919.234</td>\n",
              "</tr>\n",
              "<tr>\n",
              "  <th></th>                 <td>- 03-01-2021</td>   <th>                     </th>      <td> </td>    \n",
              "</tr>\n",
              "</table>\n",
              "<table class=\"simpletable\">\n",
              "<tr>\n",
              "            <td></td>              <th>coef</th>     <th>std err</th>      <th>z</th>      <th>P>|z|</th>  <th>[0.025</th>    <th>0.975]</th>  \n",
              "</tr>\n",
              "<tr>\n",
              "  <th>const</th>                <td>   20.5242</td> <td>   17.956</td> <td>    1.143</td> <td> 0.253</td> <td>  -14.670</td> <td>   55.718</td>\n",
              "</tr>\n",
              "<tr>\n",
              "  <th>ar.L1.D.median_price</th> <td>   -0.7287</td> <td>    0.056</td> <td>  -13.066</td> <td> 0.000</td> <td>   -0.838</td> <td>   -0.619</td>\n",
              "</tr>\n",
              "<tr>\n",
              "  <th>ar.L2.D.median_price</th> <td>   -0.8723</td> <td>    0.047</td> <td>  -18.646</td> <td> 0.000</td> <td>   -0.964</td> <td>   -0.781</td>\n",
              "</tr>\n",
              "<tr>\n",
              "  <th>ma.L1.D.median_price</th> <td>   -0.0929</td> <td>    0.062</td> <td>   -1.498</td> <td> 0.134</td> <td>   -0.214</td> <td>    0.029</td>\n",
              "</tr>\n",
              "<tr>\n",
              "  <th>ma.L2.D.median_price</th> <td>    0.1707</td> <td>    0.050</td> <td>    3.422</td> <td> 0.001</td> <td>    0.073</td> <td>    0.268</td>\n",
              "</tr>\n",
              "<tr>\n",
              "  <th>ma.L3.D.median_price</th> <td>   -0.7067</td> <td>    0.051</td> <td>  -13.823</td> <td> 0.000</td> <td>   -0.807</td> <td>   -0.607</td>\n",
              "</tr>\n",
              "</table>\n",
              "<table class=\"simpletable\">\n",
              "<caption>Roots</caption>\n",
              "<tr>\n",
              "    <td></td>   <th>            Real</th>  <th>         Imaginary</th> <th>         Modulus</th>  <th>        Frequency</th>\n",
              "</tr>\n",
              "<tr>\n",
              "  <th>AR.1</th> <td>          -0.4177</td> <td>          -0.9859j</td> <td>           1.0707</td> <td>          -0.3138</td>\n",
              "</tr>\n",
              "<tr>\n",
              "  <th>AR.2</th> <td>          -0.4177</td> <td>          +0.9859j</td> <td>           1.0707</td> <td>           0.3138</td>\n",
              "</tr>\n",
              "<tr>\n",
              "  <th>MA.1</th> <td>          -0.4629</td> <td>          -0.9989j</td> <td>           1.1010</td> <td>          -0.3191</td>\n",
              "</tr>\n",
              "<tr>\n",
              "  <th>MA.2</th> <td>          -0.4629</td> <td>          +0.9989j</td> <td>           1.1010</td> <td>           0.3191</td>\n",
              "</tr>\n",
              "<tr>\n",
              "  <th>MA.3</th> <td>           1.1673</td> <td>          -0.0000j</td> <td>           1.1673</td> <td>          -0.0000</td>\n",
              "</tr>\n",
              "</table>"
            ],
            "text/plain": [
              "<class 'statsmodels.iolib.summary.Summary'>\n",
              "\"\"\"\n",
              "                             ARIMA Model Results                              \n",
              "==============================================================================\n",
              "Dep. Variable:         D.median_price   No. Observations:                 1795\n",
              "Model:                 ARIMA(2, 1, 3)   Log Likelihood              -17945.519\n",
              "Method:                       css-mle   S.D. of innovations           5314.302\n",
              "Date:                Thu, 12 Aug 2021   AIC                          35905.039\n",
              "Time:                        05:43:37   BIC                          35943.488\n",
              "Sample:                    04-02-2016   HQIC                         35919.234\n",
              "                         - 03-01-2021                                         \n",
              "========================================================================================\n",
              "                           coef    std err          z      P>|z|      [0.025      0.975]\n",
              "----------------------------------------------------------------------------------------\n",
              "const                   20.5242     17.956      1.143      0.253     -14.670      55.718\n",
              "ar.L1.D.median_price    -0.7287      0.056    -13.066      0.000      -0.838      -0.619\n",
              "ar.L2.D.median_price    -0.8723      0.047    -18.646      0.000      -0.964      -0.781\n",
              "ma.L1.D.median_price    -0.0929      0.062     -1.498      0.134      -0.214       0.029\n",
              "ma.L2.D.median_price     0.1707      0.050      3.422      0.001       0.073       0.268\n",
              "ma.L3.D.median_price    -0.7067      0.051    -13.823      0.000      -0.807      -0.607\n",
              "                                    Roots                                    \n",
              "=============================================================================\n",
              "                  Real          Imaginary           Modulus         Frequency\n",
              "-----------------------------------------------------------------------------\n",
              "AR.1           -0.4177           -0.9859j            1.0707           -0.3138\n",
              "AR.2           -0.4177           +0.9859j            1.0707            0.3138\n",
              "MA.1           -0.4629           -0.9989j            1.1010           -0.3191\n",
              "MA.2           -0.4629           +0.9989j            1.1010            0.3191\n",
              "MA.3            1.1673           -0.0000j            1.1673           -0.0000\n",
              "-----------------------------------------------------------------------------\n",
              "\"\"\""
            ]
          },
          "metadata": {
            "tags": []
          },
          "execution_count": 42
        }
      ]
    },
    {
      "cell_type": "code",
      "metadata": {
        "id": "uCZR-M7q5EEQ"
      },
      "source": [
        "start=len(train)\n",
        "end=len(train)+len(test)-1\n",
        "pred=model.predict(start=start,end=end,typ='levels').rename('ARIMA Predictions')\n",
        "pred.plot(legend=True)\n",
        "test['median_price'].plot(legend=True)"
      ],
      "id": "uCZR-M7q5EEQ",
      "execution_count": null,
      "outputs": []
    },
    {
      "cell_type": "code",
      "metadata": {
        "colab": {
          "base_uri": "https://localhost:8080/"
        },
        "id": "BcYjNkdO5WF3",
        "outputId": "c4c2c0f6-341e-43aa-cb5e-246ff6968f5e"
      },
      "source": [
        "from sklearn.metrics import mean_squared_error\n",
        "from math import sqrt\n",
        "test['median_price'].mean()\n",
        "rmse=sqrt(mean_squared_error(pred,test['median_price']))\n",
        "print(rmse)"
      ],
      "id": "BcYjNkdO5WF3",
      "execution_count": 46,
      "outputs": [
        {
          "output_type": "stream",
          "text": [
            "7703.445520903378\n"
          ],
          "name": "stdout"
        }
      ]
    },
    {
      "cell_type": "code",
      "metadata": {
        "id": "ufVNsWaA0IIy"
      },
      "source": [
        "import matplotlib.pyplot as plt\n",
        "from statsmodels.graphics.tsaplots import plot_acf, plot_pacf\n",
        "\n",
        "plot_acf(apt_lstm.median_price)\n",
        "plot_pacf(apt_lstm.median_price)\n",
        "plt.show()"
      ],
      "id": "ufVNsWaA0IIy",
      "execution_count": null,
      "outputs": []
    },
    {
      "cell_type": "code",
      "metadata": {
        "id": "fI6AtsVv0o5N"
      },
      "source": [
        "diff_1=apt_lstm.median_price.diff(periods=1).iloc[1:]\n",
        "diff_1.plot()\n",
        "plot_acf(diff_1)\n",
        "plot_pacf(diff_1)\n",
        "plt.show()"
      ],
      "id": "fI6AtsVv0o5N",
      "execution_count": null,
      "outputs": []
    },
    {
      "cell_type": "code",
      "metadata": {
        "colab": {
          "base_uri": "https://localhost:8080/"
        },
        "id": "YWtymbIO1CD6",
        "outputId": "01ab1681-9738-41c9-b3fd-a3cd7fab4db9"
      },
      "source": [
        "from statsmodels.tsa.arima_model import ARIMA\n",
        "\n",
        "model = ARIMA(apt_lstm.median_price, order=(0,1,1))\n",
        "model_fit = model.fit(trend='nc',full_output=True, disp=1)\n",
        "print(model_fit.summary())"
      ],
      "id": "YWtymbIO1CD6",
      "execution_count": 54,
      "outputs": [
        {
          "output_type": "stream",
          "text": [
            "                             ARIMA Model Results                              \n",
            "==============================================================================\n",
            "Dep. Variable:         D.median_price   No. Observations:                 1825\n",
            "Model:                 ARIMA(0, 1, 1)   Log Likelihood              -18280.674\n",
            "Method:                       css-mle   S.D. of innovations           5418.091\n",
            "Date:                Thu, 12 Aug 2021   AIC                          36565.348\n",
            "Time:                        05:29:00   BIC                          36576.367\n",
            "Sample:                             1   HQIC                         36569.413\n",
            "                                                                              \n",
            "========================================================================================\n",
            "                           coef    std err          z      P>|z|      [0.025      0.975]\n",
            "----------------------------------------------------------------------------------------\n",
            "ma.L1.D.median_price    -0.8609      0.011    -77.322      0.000      -0.883      -0.839\n",
            "                                    Roots                                    \n",
            "=============================================================================\n",
            "                  Real          Imaginary           Modulus         Frequency\n",
            "-----------------------------------------------------------------------------\n",
            "MA.1            1.1615           +0.0000j            1.1615            0.0000\n",
            "-----------------------------------------------------------------------------\n"
          ],
          "name": "stdout"
        }
      ]
    },
    {
      "cell_type": "code",
      "metadata": {
        "colab": {
          "base_uri": "https://localhost:8080/",
          "height": 513
        },
        "id": "jgObWNb91stU",
        "outputId": "0f1e1b11-0757-4df9-eb93-23f6d8a3f095"
      },
      "source": [
        "model_fit.plot_predict()"
      ],
      "id": "jgObWNb91stU",
      "execution_count": 55,
      "outputs": [
        {
          "output_type": "execute_result",
          "data": {
            "image/png": "[encoded data removed]",
            "text/plain": [
              "<Figure size 432x288 with 1 Axes>"
            ]
          },
          "metadata": {
            "tags": []
          },
          "execution_count": 55
        },
        {
          "output_type": "display_data",
          "data": {
            "image/png": "[encoded data removed]",
            "text/plain": [
              "<Figure size 432x288 with 1 Axes>"
            ]
          },
          "metadata": {
            "tags": [],
            "needs_background": "light"
          }
        }
      ]
    },
    {
      "cell_type": "code",
      "metadata": {
        "colab": {
          "base_uri": "https://localhost:8080/"
        },
        "id": "L2DShFz215Cb",
        "outputId": "5abb9693-e27d-4348-e8f7-ae3137f6b993"
      },
      "source": [
        "fore = model_fit.forecast(steps=1)\n",
        "print(fore)"
      ],
      "id": "L2DShFz215Cb",
      "execution_count": 56,
      "outputs": [
        {
          "output_type": "stream",
          "text": [
            "(array([75755.97440041]), array([5418.09083053]), array([[65136.7115076 , 86375.23729322]]))\n"
          ],
          "name": "stdout"
        }
      ]
    },
    {
      "cell_type": "code",
      "metadata": {
        "id": "5vJFy810sz8j"
      },
      "source": [
        "TEST_SIZE = 1600\n",
        "WINDOW_SIZE = 100\n",
        "\n",
        "train = df_scaled[:-TEST_SIZE]\n",
        "test = df_scaled[-TEST_SIZE:]"
      ],
      "id": "5vJFy810sz8j",
      "execution_count": 48,
      "outputs": []
    },
    {
      "cell_type": "code",
      "metadata": {
        "id": "bvSyUwz9s-GR"
      },
      "source": [
        "def make_dataset(data, label, window_size=20):\n",
        "    feature_list = []\n",
        "    label_list = []\n",
        "    for i in range(len(data) - window_size):\n",
        "        feature_list.append(np.array(data.iloc[i:i+window_size]))\n",
        "        label_list.append(np.array(label.iloc[i+window_size]))\n",
        "    return np.array(feature_list), np.array(label_list)"
      ],
      "id": "bvSyUwz9s-GR",
      "execution_count": 49,
      "outputs": []
    },
    {
      "cell_type": "code",
      "metadata": {
        "id": "aXNntxqgtTE5"
      },
      "source": [
        "from sklearn.model_selection import train_test_split\n",
        "\n",
        "feature_cols = ['시가', '고가', '저가', '거래량']\n",
        "label_cols = ['full']\n",
        "\n",
        "train_feature = train[feature_cols]\n",
        "train_label = train[label_cols]\n",
        "\n",
        "train_feature, train_label = make_dataset(train_feature, train_label, 20)\n",
        "\n",
        "x_train, x_valid, y_train, y_valid = train_test_split(train_feature, train_label, test_size=0.2)\n",
        "x_train.shape, x_valid.shape"
      ],
      "id": "aXNntxqgtTE5",
      "execution_count": null,
      "outputs": []
    },
    {
      "cell_type": "code",
      "metadata": {
        "colab": {
          "base_uri": "https://localhost:8080/"
        },
        "id": "X6yGGBHq69FZ",
        "outputId": "c5a8b2a0-0de0-4df4-c241-f0f955514d67"
      },
      "source": [
        "pip install fbprophet"
      ],
      "id": "X6yGGBHq69FZ",
      "execution_count": 47,
      "outputs": [
        {
          "output_type": "stream",
          "text": [
            "Requirement already satisfied: fbprophet in /usr/local/lib/python3.7/dist-packages (0.7.1)\n",
            "Requirement already satisfied: Cython>=0.22 in /usr/local/lib/python3.7/dist-packages (from fbprophet) (0.29.23)\n",
            "Requirement already satisfied: cmdstanpy==0.9.5 in /usr/local/lib/python3.7/dist-packages (from fbprophet) (0.9.5)\n",
            "Requirement already satisfied: pystan>=2.14 in /usr/local/lib/python3.7/dist-packages (from fbprophet) (2.19.1.1)\n",
            "Requirement already satisfied: numpy>=1.15.4 in /usr/local/lib/python3.7/dist-packages (from fbprophet) (1.19.5)\n",
            "Requirement already satisfied: pandas>=1.0.4 in /usr/local/lib/python3.7/dist-packages (from fbprophet) (1.1.5)\n",
            "Requirement already satisfied: matplotlib>=2.0.0 in /usr/local/lib/python3.7/dist-packages (from fbprophet) (3.2.2)\n",
            "Requirement already satisfied: LunarCalendar>=0.0.9 in /usr/local/lib/python3.7/dist-packages (from fbprophet) (0.0.9)\n",
            "Requirement already satisfied: convertdate>=2.1.2 in /usr/local/lib/python3.7/dist-packages (from fbprophet) (2.3.2)\n",
            "Requirement already satisfied: holidays>=0.10.2 in /usr/local/lib/python3.7/dist-packages (from fbprophet) (0.10.5.2)\n",
            "Requirement already satisfied: setuptools-git>=1.2 in /usr/local/lib/python3.7/dist-packages (from fbprophet) (1.2)\n",
            "Requirement already satisfied: python-dateutil>=2.8.0 in /usr/local/lib/python3.7/dist-packages (from fbprophet) (2.8.1)\n",
            "Requirement already satisfied: tqdm>=4.36.1 in /usr/local/lib/python3.7/dist-packages (from fbprophet) (4.41.1)\n",
            "Requirement already satisfied: pymeeus<=1,>=0.3.13 in /usr/local/lib/python3.7/dist-packages (from convertdate>=2.1.2->fbprophet) (0.5.11)\n",
            "Requirement already satisfied: pytz>=2014.10 in /usr/local/lib/python3.7/dist-packages (from convertdate>=2.1.2->fbprophet) (2018.9)\n",
            "Requirement already satisfied: hijri-converter in /usr/local/lib/python3.7/dist-packages (from holidays>=0.10.2->fbprophet) (2.1.3)\n",
            "Requirement already satisfied: korean-lunar-calendar in /usr/local/lib/python3.7/dist-packages (from holidays>=0.10.2->fbprophet) (0.2.1)\n",
            "Requirement already satisfied: six in /usr/local/lib/python3.7/dist-packages (from holidays>=0.10.2->fbprophet) (1.15.0)\n",
            "Requirement already satisfied: ephem>=3.7.5.3 in /usr/local/lib/python3.7/dist-packages (from LunarCalendar>=0.0.9->fbprophet) (4.0.0.2)\n",
            "Requirement already satisfied: pyparsing!=2.0.4,!=2.1.2,!=2.1.6,>=2.0.1 in /usr/local/lib/python3.7/dist-packages (from matplotlib>=2.0.0->fbprophet) (2.4.7)\n",
            "Requirement already satisfied: cycler>=0.10 in /usr/local/lib/python3.7/dist-packages (from matplotlib>=2.0.0->fbprophet) (0.10.0)\n",
            "Requirement already satisfied: kiwisolver>=1.0.1 in /usr/local/lib/python3.7/dist-packages (from matplotlib>=2.0.0->fbprophet) (1.3.1)\n"
          ],
          "name": "stdout"
        }
      ]
    },
    {
      "cell_type": "code",
      "metadata": {
        "colab": {
          "base_uri": "https://localhost:8080/"
        },
        "id": "M_a1YoCQ69lV",
        "outputId": "3c6f1c40-5367-44ab-96b9-8b29edcce18f"
      },
      "source": [
        "import fbprophet\n",
        "print(fbprophet.__version__)"
      ],
      "id": "M_a1YoCQ69lV",
      "execution_count": 54,
      "outputs": [
        {
          "output_type": "stream",
          "text": [
            "0.7.1\n"
          ],
          "name": "stdout"
        }
      ]
    },
    {
      "cell_type": "code",
      "metadata": {
        "id": "6DvBmxyn7Yan"
      },
      "source": [
        "from fbprophet import Prophet\n",
        "model = Prophet(daily_seasonality=True)"
      ],
      "id": "6DvBmxyn7Yan",
      "execution_count": 59,
      "outputs": []
    },
    {
      "cell_type": "code",
      "metadata": {
        "id": "BG4aBU0P8Mjf"
      },
      "source": [
        "apt_lstm.columns = ['ds', 'y']"
      ],
      "id": "BG4aBU0P8Mjf",
      "execution_count": 62,
      "outputs": []
    },
    {
      "cell_type": "code",
      "metadata": {
        "colab": {
          "base_uri": "https://localhost:8080/",
          "height": 298
        },
        "id": "9uTTfjju72uH",
        "outputId": "ea8f5b12-e2a1-4084-9131-85a03bf112f5"
      },
      "source": [
        "model.fit(apt_lstm)"
      ],
      "id": "9uTTfjju72uH",
      "execution_count": 63,
      "outputs": [
        {
          "output_type": "error",
          "ename": "Exception",
          "evalue": "ignored",
          "traceback": [
            "\u001b[0;31m---------------------------------------------------------------------------\u001b[0m",
            "\u001b[0;31mException\u001b[0m                                 Traceback (most recent call last)",
            "\u001b[0;32m<ipython-input-63-544c6dcb9836>\u001b[0m in \u001b[0;36m<module>\u001b[0;34m()\u001b[0m\n\u001b[0;32m----> 1\u001b[0;31m \u001b[0mmodel\u001b[0m\u001b[0;34m.\u001b[0m\u001b[0mfit\u001b[0m\u001b[0;34m(\u001b[0m\u001b[0mapt_lstm\u001b[0m\u001b[0;34m)\u001b[0m\u001b[0;34m\u001b[0m\u001b[0;34m\u001b[0m\u001b[0m\n\u001b[0m",
            "\u001b[0;32m/usr/local/lib/python3.7/dist-packages/fbprophet/forecaster.py\u001b[0m in \u001b[0;36mfit\u001b[0;34m(self, df, **kwargs)\u001b[0m\n\u001b[1;32m   1097\u001b[0m         \"\"\"\n\u001b[1;32m   1098\u001b[0m         \u001b[0;32mif\u001b[0m \u001b[0mself\u001b[0m\u001b[0;34m.\u001b[0m\u001b[0mhistory\u001b[0m \u001b[0;32mis\u001b[0m \u001b[0;32mnot\u001b[0m \u001b[0;32mNone\u001b[0m\u001b[0;34m:\u001b[0m\u001b[0;34m\u001b[0m\u001b[0;34m\u001b[0m\u001b[0m\n\u001b[0;32m-> 1099\u001b[0;31m             raise Exception('Prophet object can only be fit once. '\n\u001b[0m\u001b[1;32m   1100\u001b[0m                             'Instantiate a new object.')\n\u001b[1;32m   1101\u001b[0m         \u001b[0;32mif\u001b[0m \u001b[0;34m(\u001b[0m\u001b[0;34m'ds'\u001b[0m \u001b[0;32mnot\u001b[0m \u001b[0;32min\u001b[0m \u001b[0mdf\u001b[0m\u001b[0;34m)\u001b[0m \u001b[0;32mor\u001b[0m \u001b[0;34m(\u001b[0m\u001b[0;34m'y'\u001b[0m \u001b[0;32mnot\u001b[0m \u001b[0;32min\u001b[0m \u001b[0mdf\u001b[0m\u001b[0;34m)\u001b[0m\u001b[0;34m:\u001b[0m\u001b[0;34m\u001b[0m\u001b[0;34m\u001b[0m\u001b[0m\n",
            "\u001b[0;31mException\u001b[0m: Prophet object can only be fit once. Instantiate a new object."
          ]
        }
      ]
    },
    {
      "cell_type": "code",
      "metadata": {
        "id": "AXU6UWQJ8Kni"
      },
      "source": [
        "last_1year = list()\n",
        "for i in range(1, 13):\n",
        "    last_1year.append(['2020-%02d' % i])\n",
        "last_1year = pd.DataFrame(last_1year, columns = ['ds'])\n",
        "last_1year['ds']= pd.to_datetime(last_1year['ds'])"
      ],
      "id": "AXU6UWQJ8Kni",
      "execution_count": 64,
      "outputs": []
    },
    {
      "cell_type": "code",
      "metadata": {
        "id": "SKY-8ylU9I-I"
      },
      "source": [
        "forecast = model.predict(last_1year)"
      ],
      "id": "SKY-8ylU9I-I",
      "execution_count": 66,
      "outputs": []
    },
    {
      "cell_type": "code",
      "metadata": {
        "id": "Kbos-uM-9S2P"
      },
      "source": [
        "from matplotlib import pyplot\n"
      ],
      "id": "Kbos-uM-9S2P",
      "execution_count": 68,
      "outputs": []
    },
    {
      "cell_type": "code",
      "metadata": {
        "colab": {
          "base_uri": "https://localhost:8080/",
          "height": 441
        },
        "id": "UgCttNiY9BoQ",
        "outputId": "cff4a41f-0e36-4245-d743-2ef976f6b3cb"
      },
      "source": [
        "model.plot(forecast)\n",
        "pyplot.show()"
      ],
      "id": "UgCttNiY9BoQ",
      "execution_count": 69,
      "outputs": [
        {
          "output_type": "display_data",
          "data": {
            "image/png": "[encoded data removed]",
            "text/plain": [
              "<Figure size 720x432 with 1 Axes>"
            ]
          },
          "metadata": {
            "tags": []
          }
        }
      ]
    },
    {
      "cell_type": "code",
      "metadata": {
        "id": "WkXwAE8x9E9I"
      },
      "source": [
        "# train set 이후 1년 날짜 생성\n",
        "last_1year = list()\n",
        "for i in range(1, 13):\n",
        "    last_1year.append(['2021-%02d' % i])\n",
        "last_1year = pd.DataFrame(last_1year, columns = ['ds'])\n",
        "last_1year['ds']= pd.to_datetime(last_1year['ds'])"
      ],
      "id": "WkXwAE8x9E9I",
      "execution_count": 72,
      "outputs": []
    },
    {
      "cell_type": "code",
      "metadata": {
        "colab": {
          "base_uri": "https://localhost:8080/",
          "height": 441
        },
        "id": "xgWZKTKu9qfp",
        "outputId": "d783c3c0-6191-4405-cc4e-75cbc38f91fb"
      },
      "source": [
        "forecast = model.predict(last_1year)\n",
        "model.plot(forecast)\n",
        "pyplot.show()"
      ],
      "id": "xgWZKTKu9qfp",
      "execution_count": 73,
      "outputs": [
        {
          "output_type": "display_data",
          "data": {
            "image/png": "[encoded data removed]",
            "text/plain": [
              "<Figure size 720x432 with 1 Axes>"
            ]
          },
          "metadata": {
            "tags": []
          }
        }
      ]
    },
    {
      "cell_type": "code",
      "metadata": {
        "id": "fplWGv67-S31"
      },
      "source": [
        "last_1year = pd.date_range('03/02/2021', '03/31/2021').values.reshape(-1,1)"
      ],
      "id": "fplWGv67-S31",
      "execution_count": 123,
      "outputs": []
    },
    {
      "cell_type": "code",
      "metadata": {
        "colab": {
          "base_uri": "https://localhost:8080/"
        },
        "id": "eq50Sxc2-UXz",
        "outputId": "598d8cbd-c50e-4beb-d7b9-bcfaf82ed54c"
      },
      "source": [
        "last_1year"
      ],
      "id": "eq50Sxc2-UXz",
      "execution_count": 124,
      "outputs": [
        {
          "output_type": "execute_result",
          "data": {
            "text/plain": [
              "array([['2021-03-02T00:00:00.000000000'],\n",
              "       ['2021-03-03T00:00:00.000000000'],\n",
              "       ['2021-03-04T00:00:00.000000000'],\n",
              "       ['2021-03-05T00:00:00.000000000'],\n",
              "       ['2021-03-06T00:00:00.000000000'],\n",
              "       ['2021-03-07T00:00:00.000000000'],\n",
              "       ['2021-03-08T00:00:00.000000000'],\n",
              "       ['2021-03-09T00:00:00.000000000'],\n",
              "       ['2021-03-10T00:00:00.000000000'],\n",
              "       ['2021-03-11T00:00:00.000000000'],\n",
              "       ['2021-03-12T00:00:00.000000000'],\n",
              "       ['2021-03-13T00:00:00.000000000'],\n",
              "       ['2021-03-14T00:00:00.000000000'],\n",
              "       ['2021-03-15T00:00:00.000000000'],\n",
              "       ['2021-03-16T00:00:00.000000000'],\n",
              "       ['2021-03-17T00:00:00.000000000'],\n",
              "       ['2021-03-18T00:00:00.000000000'],\n",
              "       ['2021-03-19T00:00:00.000000000'],\n",
              "       ['2021-03-20T00:00:00.000000000'],\n",
              "       ['2021-03-21T00:00:00.000000000'],\n",
              "       ['2021-03-22T00:00:00.000000000'],\n",
              "       ['2021-03-23T00:00:00.000000000'],\n",
              "       ['2021-03-24T00:00:00.000000000'],\n",
              "       ['2021-03-25T00:00:00.000000000'],\n",
              "       ['2021-03-26T00:00:00.000000000'],\n",
              "       ['2021-03-27T00:00:00.000000000'],\n",
              "       ['2021-03-28T00:00:00.000000000'],\n",
              "       ['2021-03-29T00:00:00.000000000'],\n",
              "       ['2021-03-30T00:00:00.000000000'],\n",
              "       ['2021-03-31T00:00:00.000000000']], dtype='datetime64[ns]')"
            ]
          },
          "metadata": {
            "tags": []
          },
          "execution_count": 124
        }
      ]
    },
    {
      "cell_type": "code",
      "metadata": {
        "colab": {
          "base_uri": "https://localhost:8080/"
        },
        "id": "DFGUka5xJnmZ",
        "outputId": "c488aae5-1c16-428f-e922-ecfa26483680"
      },
      "source": [
        "apt_lstm[-30:].values"
      ],
      "id": "DFGUka5xJnmZ",
      "execution_count": 120,
      "outputs": [
        {
          "output_type": "execute_result",
          "data": {
            "text/plain": [
              "array([[Timestamp('2021-03-02 00:00:00'), 83000.0],\n",
              "       [Timestamp('2021-03-03 00:00:00'), 90500.0],\n",
              "       [Timestamp('2021-03-04 00:00:00'), 75000.0],\n",
              "       [Timestamp('2021-03-05 00:00:00'), 79500.0],\n",
              "       [Timestamp('2021-03-06 00:00:00'), 83900.0],\n",
              "       [Timestamp('2021-03-07 00:00:00'), 79750.0],\n",
              "       [Timestamp('2021-03-08 00:00:00'), 78000.0],\n",
              "       [Timestamp('2021-03-09 00:00:00'), 82000.0],\n",
              "       [Timestamp('2021-03-10 00:00:00'), 73500.0],\n",
              "       [Timestamp('2021-03-11 00:00:00'), 81000.0],\n",
              "       [Timestamp('2021-03-12 00:00:00'), 80500.0],\n",
              "       [Timestamp('2021-03-13 00:00:00'), 81750.0],\n",
              "       [Timestamp('2021-03-14 00:00:00'), 89250.0],\n",
              "       [Timestamp('2021-03-15 00:00:00'), 73250.0],\n",
              "       [Timestamp('2021-03-16 00:00:00'), 71875.0],\n",
              "       [Timestamp('2021-03-17 00:00:00'), 83000.0],\n",
              "       [Timestamp('2021-03-18 00:00:00'), 76000.0],\n",
              "       [Timestamp('2021-03-19 00:00:00'), 72000.0],\n",
              "       [Timestamp('2021-03-20 00:00:00'), 81950.0],\n",
              "       [Timestamp('2021-03-21 00:00:00'), 92250.0],\n",
              "       [Timestamp('2021-03-22 00:00:00'), 63000.0],\n",
              "       [Timestamp('2021-03-23 00:00:00'), 72000.0],\n",
              "       [Timestamp('2021-03-24 00:00:00'), 73000.0],\n",
              "       [Timestamp('2021-03-25 00:00:00'), 68900.0],\n",
              "       [Timestamp('2021-03-26 00:00:00'), 84400.0],\n",
              "       [Timestamp('2021-03-27 00:00:00'), 83000.0],\n",
              "       [Timestamp('2021-03-28 00:00:00'), 60000.0],\n",
              "       [Timestamp('2021-03-29 00:00:00'), 72750.0],\n",
              "       [Timestamp('2021-03-30 00:00:00'), 83800.0],\n",
              "       [Timestamp('2021-03-31 00:00:00'), 73500.0]], dtype=object)"
            ]
          },
          "metadata": {
            "tags": []
          },
          "execution_count": 120
        }
      ]
    },
    {
      "cell_type": "code",
      "metadata": {
        "colab": {
          "base_uri": "https://localhost:8080/"
        },
        "id": "59T4cJdw9ssz",
        "outputId": "a64eae1d-1b49-4a1f-a855-0bcb7a946803"
      },
      "source": [
        "# 마지막 12개월 제외시키기\n",
        "train = apt_lstm.drop(apt_lstm.index[-30:])\n",
        "y_true = apt_lstm['y'][-30:].values\n",
        "\n",
        "# 모델 생성 후 학습\n",
        "model = Prophet(daily_seasonality=0.005, \n",
        "                weekly_seasonality=1000,\n",
        "                yearly_seasonality=10,\n",
        "                seasonality_mode='multiplicative',\n",
        "                holidays_prior_scale=150)\n",
        "model.add_seasonality(name='monthly', period=30.5, fourier_order=5)\n",
        "model.add_country_holidays(country_name=\"KR\")\n",
        "\n",
        "model.fit(train)\n",
        "\n",
        "# train set 마지막 1년 날짜 생성\n",
        "# last_1year = list()\n",
        "# for i in range(1, 13):\n",
        "#     last_1year.append(['2019-%03d' % i])\n",
        "last_1year = pd.DataFrame(last_1year, columns = ['ds'])\n",
        "last_1year['ds']= pd.to_datetime(last_1year['ds'])\n",
        "\n",
        "# 예측하고 비교하기\n",
        "# 여기에서는 MAE를 살펴본다.\n",
        "forecast = model.predict(last_1year)\n",
        "y_pred = forecast['yhat'].values\n",
        "from sklearn.metrics import mean_absolute_error\n",
        "mae = mean_absolute_error(y_true, y_pred)\n",
        "print('MAE: %.3f' % mae)"
      ],
      "id": "59T4cJdw9ssz",
      "execution_count": 134,
      "outputs": [
        {
          "output_type": "stream",
          "text": [
            "MAE: 5255.378\n"
          ],
          "name": "stdout"
        }
      ]
    },
    {
      "cell_type": "code",
      "metadata": {
        "colab": {
          "base_uri": "https://localhost:8080/",
          "height": 265
        },
        "id": "Qxs5svQS_oms",
        "outputId": "a9046229-ef66-446d-f380-dd5a94ba8407"
      },
      "source": [
        "pyplot.plot(y_true, label='Actual')\n",
        "pyplot.plot(y_pred, label='Predicted')\n",
        "pyplot.legend()\n",
        "pyplot.show()"
      ],
      "id": "Qxs5svQS_oms",
      "execution_count": 133,
      "outputs": [
        {
          "output_type": "display_data",
          "data": {
            "image/png": "[encoded data removed]",
            "text/plain": [
              "<Figure size 432x288 with 1 Axes>"
            ]
          },
          "metadata": {
            "tags": [],
            "needs_background": "light"
          }
        }
      ]
    },
    {
      "cell_type": "code",
      "metadata": {
        "colab": {
          "base_uri": "https://localhost:8080/"
        },
        "id": "oHlfMOfs_2mg",
        "outputId": "56fe6336-6113-47f9-f42a-b649ea3df5f8"
      },
      "source": [
        "pip install pytimekr"
      ],
      "id": "oHlfMOfs_2mg",
      "execution_count": 88,
      "outputs": [
        {
          "output_type": "stream",
          "text": [
            "Collecting pytimekr\n",
            "  Downloading pytimekr-0.1.0.tar.gz (7.3 kB)\n",
            "Collecting lunardate>=0.1.5\n",
            "  Downloading lunardate-0.2.0-py3-none-any.whl (5.6 kB)\n",
            "Building wheels for collected packages: pytimekr\n",
            "  Building wheel for pytimekr (setup.py) ... \u001b[?25l\u001b[?25hdone\n",
            "  Created wheel for pytimekr: filename=pytimekr-0.1.0-py3-none-any.whl size=7941 sha256=2b63a784dddc696b0be835e1789c78f24a48fbc86c47e3f3f5f9e2a4f0b022ff\n",
            "  Stored in directory: /root/.cache/pip/wheels/7c/54/31/d099bce210ce51c45eeb97e149699dedc66c78eb84c01be9c2\n",
            "Successfully built pytimekr\n",
            "Installing collected packages: lunardate, pytimekr\n",
            "Successfully installed lunardate-0.2.0 pytimekr-0.1.0\n"
          ],
          "name": "stdout"
        }
      ]
    },
    {
      "cell_type": "code",
      "metadata": {
        "colab": {
          "base_uri": "https://localhost:8080/"
        },
        "id": "gyDBiyhLFWNQ",
        "outputId": "b26486f6-bbc3-4737-8499-529d67978945"
      },
      "source": [
        "pip install holidays"
      ],
      "id": "gyDBiyhLFWNQ",
      "execution_count": 91,
      "outputs": [
        {
          "output_type": "stream",
          "text": [
            "Requirement already satisfied: holidays in /usr/local/lib/python3.7/dist-packages (0.10.5.2)\n",
            "Requirement already satisfied: hijri-converter in /usr/local/lib/python3.7/dist-packages (from holidays) (2.1.3)\n",
            "Requirement already satisfied: python-dateutil in /usr/local/lib/python3.7/dist-packages (from holidays) (2.8.1)\n",
            "Requirement already satisfied: convertdate>=2.3.0 in /usr/local/lib/python3.7/dist-packages (from holidays) (2.3.2)\n",
            "Requirement already satisfied: korean-lunar-calendar in /usr/local/lib/python3.7/dist-packages (from holidays) (0.2.1)\n",
            "Requirement already satisfied: six in /usr/local/lib/python3.7/dist-packages (from holidays) (1.15.0)\n",
            "Requirement already satisfied: pymeeus<=1,>=0.3.13 in /usr/local/lib/python3.7/dist-packages (from convertdate>=2.3.0->holidays) (0.5.11)\n",
            "Requirement already satisfied: pytz>=2014.10 in /usr/local/lib/python3.7/dist-packages (from convertdate>=2.3.0->holidays) (2018.9)\n"
          ],
          "name": "stdout"
        }
      ]
    },
    {
      "cell_type": "code",
      "metadata": {
        "id": "DXf_lOJHFm0n"
      },
      "source": [
        "import holidays"
      ],
      "id": "DXf_lOJHFm0n",
      "execution_count": 92,
      "outputs": []
    },
    {
      "cell_type": "code",
      "metadata": {
        "id": "nqv7nvsRF8Jr"
      },
      "source": [
        "us_holidays = holidays.KR()"
      ],
      "id": "nqv7nvsRF8Jr",
      "execution_count": null,
      "outputs": []
    }
  ]
}