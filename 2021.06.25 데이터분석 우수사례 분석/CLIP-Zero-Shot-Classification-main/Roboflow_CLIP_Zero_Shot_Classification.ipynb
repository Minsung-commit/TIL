{
  "nbformat": 4,
  "nbformat_minor": 0,
  "metadata": {
    "colab": {
      "name": "Roboflow-CLIP-Zero-Shot-Classification.ipynb",
      "provenance": [],
      "include_colab_link": true
    },
    "kernelspec": {
      "name": "python3",
      "display_name": "Python 3"
    },
    "accelerator": "GPU"
  },
  "cells": [
    {
      "cell_type": "markdown",
      "metadata": {
        "id": "view-in-github",
        "colab_type": "text"
      },
      "source": [
        "<a href=\"https://colab.research.google.com/github/JSJeong-me/CLIP-Zero-Shot-Classification/blob/main/Roboflow_CLIP_Zero_Shot_Classification.ipynb\" target=\"_parent\"><img src=\"https://colab.research.google.com/assets/colab-badge.svg\" alt=\"Open In Colab\"/></a>"
      ]
    },
    {
      "cell_type": "markdown",
      "metadata": {
        "id": "C76CDbIJi2DY"
      },
      "source": [
        "# How to use CLIP Zero-Shot on your own classificaiton dataset\n",
        "\n",
        "This notebook provides an example of how to benchmark CLIP's zero shot classification performance on your own classification dataset.\n",
        "\n",
        "[CLIP](https://openai.com/blog/clip/) is a new zero shot image classifier relased by OpenAI that has been trained on 400 million text/image pairs across the web. CLIP uses these learnings to make predicts based on a flexible span of possible classification categories.\n",
        "\n",
        "CLIP is zero shot, that means **no training is required**. \n",
        "\n",
        "Try it out on your own task here!\n",
        "\n",
        "Be sure to experiment with various text prompts to unlock the richness of CLIP's pretraining procedure.\n",
        "\n",
        "\n",
        "![Roboflow Wordmark](https://i.imgur.com/dcLNMhV.png)\n"
      ]
    },
    {
      "cell_type": "markdown",
      "metadata": {
        "id": "lOF3Feb7jrnu"
      },
      "source": [
        "# Download and Install CLIP Dependencies"
      ]
    },
    {
      "cell_type": "code",
      "metadata": {
        "colab": {
          "base_uri": "https://localhost:8080/"
        },
        "id": "FyUIWjzOi23X",
        "outputId": "02c59157-8726-4a23-87d0-4c3d49774f7a"
      },
      "source": [
        "#installing some dependencies, CLIP was release in PyTorch\n",
        "import subprocess\n",
        "\n",
        "CUDA_version = [s for s in subprocess.check_output([\"nvcc\", \"--version\"]).decode(\"UTF-8\").split(\", \") if s.startswith(\"release\")][0].split(\" \")[-1]\n",
        "print(\"CUDA version:\", CUDA_version)\n",
        "\n",
        "if CUDA_version == \"10.0\":\n",
        "    torch_version_suffix = \"+cu100\"\n",
        "elif CUDA_version == \"10.1\":\n",
        "    torch_version_suffix = \"+cu101\"\n",
        "elif CUDA_version == \"10.2\":\n",
        "    torch_version_suffix = \"\"\n",
        "else:\n",
        "    torch_version_suffix = \"+cu110\"\n",
        "\n",
        "!pip install torch==1.7.1{torch_version_suffix} torchvision==0.8.2{torch_version_suffix} -f https://download.pytorch.org/whl/torch_stable.html ftfy regex\n",
        "\n",
        "import numpy as np\n",
        "import torch\n",
        "\n",
        "print(\"Torch version:\", torch.__version__)"
      ],
      "execution_count": 1,
      "outputs": [
        {
          "output_type": "stream",
          "text": [
            "CUDA version: 10.1\n",
            "Looking in links: https://download.pytorch.org/whl/torch_stable.html\n",
            "Collecting torch==1.7.1+cu101\n",
            "\u001b[?25l  Downloading https://download.pytorch.org/whl/cu101/torch-1.7.1%2Bcu101-cp36-cp36m-linux_x86_64.whl (735.4MB)\n",
            "\u001b[K     |████████████████████████████████| 735.4MB 24kB/s \n",
            "\u001b[?25hCollecting torchvision==0.8.2+cu101\n",
            "\u001b[?25l  Downloading https://download.pytorch.org/whl/cu101/torchvision-0.8.2%2Bcu101-cp36-cp36m-linux_x86_64.whl (12.8MB)\n",
            "\u001b[K     |████████████████████████████████| 12.8MB 198kB/s \n",
            "\u001b[?25hCollecting ftfy\n",
            "\u001b[?25l  Downloading https://files.pythonhosted.org/packages/ff/e2/3b51c53dffb1e52d9210ebc01f1fb9f2f6eba9b3201fa971fd3946643c71/ftfy-5.8.tar.gz (64kB)\n",
            "\u001b[K     |████████████████████████████████| 71kB 8.0MB/s \n",
            "\u001b[?25hRequirement already satisfied: regex in /usr/local/lib/python3.6/dist-packages (2019.12.20)\n",
            "Requirement already satisfied: numpy in /usr/local/lib/python3.6/dist-packages (from torch==1.7.1+cu101) (1.19.5)\n",
            "Requirement already satisfied: typing-extensions in /usr/local/lib/python3.6/dist-packages (from torch==1.7.1+cu101) (3.7.4.3)\n",
            "Requirement already satisfied: dataclasses; python_version < \"3.7\" in /usr/local/lib/python3.6/dist-packages (from torch==1.7.1+cu101) (0.8)\n",
            "Requirement already satisfied: pillow>=4.1.1 in /usr/local/lib/python3.6/dist-packages (from torchvision==0.8.2+cu101) (7.0.0)\n",
            "Requirement already satisfied: wcwidth in /usr/local/lib/python3.6/dist-packages (from ftfy) (0.2.5)\n",
            "Building wheels for collected packages: ftfy\n",
            "  Building wheel for ftfy (setup.py) ... \u001b[?25l\u001b[?25hdone\n",
            "  Created wheel for ftfy: filename=ftfy-5.8-cp36-none-any.whl size=45613 sha256=aba640139df81eca2114e2575f85a4f25618bfce84bd3fd3c688b98cb4dd0ca2\n",
            "  Stored in directory: /root/.cache/pip/wheels/ba/c0/ef/f28c4da5ac84a4e06ac256ca9182fc34fa57fefffdbc68425b\n",
            "Successfully built ftfy\n",
            "Installing collected packages: torch, torchvision, ftfy\n",
            "  Found existing installation: torch 1.7.0+cu101\n",
            "    Uninstalling torch-1.7.0+cu101:\n",
            "      Successfully uninstalled torch-1.7.0+cu101\n",
            "  Found existing installation: torchvision 0.8.1+cu101\n",
            "    Uninstalling torchvision-0.8.1+cu101:\n",
            "      Successfully uninstalled torchvision-0.8.1+cu101\n",
            "Successfully installed ftfy-5.8 torch-1.7.1+cu101 torchvision-0.8.2+cu101\n",
            "Torch version: 1.7.1+cu101\n"
          ],
          "name": "stdout"
        }
      ]
    },
    {
      "cell_type": "code",
      "metadata": {
        "colab": {
          "base_uri": "https://localhost:8080/"
        },
        "id": "cqN0UVpssA7J",
        "outputId": "87539ed6-f0b5-4ba9-a241-10abfaf8bdab"
      },
      "source": [
        "#clone the CLIP repository\n",
        "!git clone https://github.com/openai/CLIP.git\n",
        "%cd CLIP"
      ],
      "execution_count": 2,
      "outputs": [
        {
          "output_type": "stream",
          "text": [
            "Cloning into 'CLIP'...\n",
            "remote: Enumerating objects: 24, done.\u001b[K\n",
            "remote: Total 24 (delta 0), reused 0 (delta 0), pack-reused 24\u001b[K\n",
            "Unpacking objects: 100% (24/24), done.\n",
            "/content/CLIP\n"
          ],
          "name": "stdout"
        }
      ]
    },
    {
      "cell_type": "markdown",
      "metadata": {
        "id": "hwCkgL73rHE0"
      },
      "source": [
        "# Download Classification Data or Object Detection Data\n",
        "\n",
        "We will download the [public flowers classificaiton dataset](https://public.roboflow.com/classification/flowers_classification) from Roboflow. The data will come out as folders broken into train/valid/test splits and seperate folders for each class label.\n",
        "\n",
        "You can easily download your own dataset from Roboflow in this format, too.\n",
        "\n",
        "We made a conversion from object detection to CLIP text prompts in Roboflow, too, if you want to try that out.\n",
        "\n",
        "\n",
        "To get your data into Roboflow, follow the [Getting Started Guide](https://blog.roboflow.ai/getting-started-with-roboflow/)."
      ]
    },
    {
      "cell_type": "code",
      "metadata": {
        "id": "wC1MFOK84m8N"
      },
      "source": [
        ""
      ],
      "execution_count": null,
      "outputs": []
    },
    {
      "cell_type": "code",
      "metadata": {
        "id": "iau0TS0t4nbD",
        "outputId": "39659349-6f48-469e-cc19-4cb0a36407ad",
        "colab": {
          "base_uri": "https://localhost:8080/"
        }
      },
      "source": [
        "from google.colab import drive\n",
        "drive.mount('/content/drive')"
      ],
      "execution_count": 3,
      "outputs": [
        {
          "output_type": "stream",
          "text": [
            "Mounted at /content/drive\n"
          ],
          "name": "stdout"
        }
      ]
    },
    {
      "cell_type": "code",
      "metadata": {
        "id": "vfzMc8iC5CLq",
        "outputId": "29b7f465-2de1-4172-9b40-3b64359ff2b3",
        "colab": {
          "base_uri": "https://localhost:8080/"
        }
      },
      "source": [
        "%cd .."
      ],
      "execution_count": 11,
      "outputs": [
        {
          "output_type": "stream",
          "text": [
            "/content\n"
          ],
          "name": "stdout"
        }
      ]
    },
    {
      "cell_type": "code",
      "metadata": {
        "id": "T6EFKbgR4uSw"
      },
      "source": [
        "!cp /content/drive/MyDrive/Flowers_Classification.v3-augmented.clip.zip ."
      ],
      "execution_count": 4,
      "outputs": []
    },
    {
      "cell_type": "code",
      "metadata": {
        "id": "IYm8wYM_47uM",
        "outputId": "7d45bcca-2458-4a83-97ee-3676b1cdc539",
        "colab": {
          "base_uri": "https://localhost:8080/"
        }
      },
      "source": [
        "!pwd"
      ],
      "execution_count": 12,
      "outputs": [
        {
          "output_type": "stream",
          "text": [
            "/content\n"
          ],
          "name": "stdout"
        }
      ]
    },
    {
      "cell_type": "code",
      "metadata": {
        "id": "AHHnCdsKrCVF"
      },
      "source": [
        "#download classification data\n",
        "#replace with your link\n",
        "!curl -L \"https://public.roboflow.com/ds/[YOUR KEY HERE]\" > roboflow.zip; unzip roboflow.zip; rm roboflow.zip"
      ],
      "execution_count": null,
      "outputs": []
    },
    {
      "cell_type": "code",
      "metadata": {
        "id": "0hR06qNp5KnC"
      },
      "source": [
        "!unzip ./Flowers.zip"
      ],
      "execution_count": null,
      "outputs": []
    },
    {
      "cell_type": "code",
      "metadata": {
        "colab": {
          "base_uri": "https://localhost:8080/"
        },
        "id": "-m7FYTSjCN46",
        "outputId": "f33abd6b-f258-4f2a-9dba-07aae30fa826"
      },
      "source": [
        "import os\n",
        "#our the classes and images we want to test are stored in folders in the test set\n",
        "class_names = os.listdir('./test/')\n",
        "class_names.remove('_tokenization.txt')\n",
        "class_names"
      ],
      "execution_count": 14,
      "outputs": [
        {
          "output_type": "execute_result",
          "data": {
            "text/plain": [
              "['daisy', 'dandelion']"
            ]
          },
          "metadata": {
            "tags": []
          },
          "execution_count": 14
        }
      ]
    },
    {
      "cell_type": "code",
      "metadata": {
        "colab": {
          "base_uri": "https://localhost:8080/"
        },
        "id": "QELzUB7pnr-h",
        "outputId": "0ac8e31f-19f2-48ef-9808-eb55d8c98ee4"
      },
      "source": [
        "#we auto generate some example tokenizations in Roboflow but you should edit this file to try out your own prompts\n",
        "#CLIP gets a lot better with the right prompting!\n",
        "#be sure the tokenizations are in the same order as your class_names above!\n",
        "%cat ./test/_tokenization.txt"
      ],
      "execution_count": 15,
      "outputs": [
        {
          "output_type": "stream",
          "text": [
            "An example picture from the Flowers_Classification dataset depicting a daisy\n",
            "An example picture from the Flowers_Classification dataset depicting a dandelion"
          ],
          "name": "stdout"
        }
      ]
    },
    {
      "cell_type": "code",
      "metadata": {
        "colab": {
          "base_uri": "https://localhost:8080/"
        },
        "id": "jPQxIGxXn8bR",
        "outputId": "87f1c8f0-17e1-4312-edfd-78cdc34060cb"
      },
      "source": [
        "#edit your prompts as you see fit here\n",
        "%%writefile ./test/_tokenization.txt\n",
        "An example picture from the flowers dataset depicting a daisy\n",
        "An example picture from the flowers dataset depicting a dandelion"
      ],
      "execution_count": 16,
      "outputs": [
        {
          "output_type": "stream",
          "text": [
            "Overwriting ./test/_tokenization.txt\n"
          ],
          "name": "stdout"
        }
      ]
    },
    {
      "cell_type": "code",
      "metadata": {
        "id": "gpXaqPH3oSyO"
      },
      "source": [
        "candidate_captions = []\n",
        "with open('./test/_tokenization.txt') as f:\n",
        "    candidate_captions = f.read().splitlines()"
      ],
      "execution_count": 17,
      "outputs": []
    },
    {
      "cell_type": "code",
      "metadata": {
        "id": "Yy7Usly56HIM",
        "outputId": "3d28f634-2b72-44b1-b797-8190ef19334c",
        "colab": {
          "base_uri": "https://localhost:8080/"
        }
      },
      "source": [
        "%cd ./CLIP/"
      ],
      "execution_count": 19,
      "outputs": [
        {
          "output_type": "stream",
          "text": [
            "/content/CLIP\n"
          ],
          "name": "stdout"
        }
      ]
    },
    {
      "cell_type": "markdown",
      "metadata": {
        "id": "vMZJy1SduxiE"
      },
      "source": [
        "# Run CLIP inference on your classification dataset"
      ]
    },
    {
      "cell_type": "code",
      "metadata": {
        "colab": {
          "base_uri": "https://localhost:8080/"
        },
        "id": "yAi7cvucnFPr",
        "outputId": "553a1121-3e7f-4cf3-95b5-0fade9479b67"
      },
      "source": [
        "import torch\n",
        "import clip\n",
        "from PIL import Image\n",
        "import glob\n",
        "\n",
        "def argmax(iterable):\n",
        "    return max(enumerate(iterable), key=lambda x: x[1])[0]\n",
        "\n",
        "device = \"cuda\" if torch.cuda.is_available() else \"cpu\"\n",
        "model, transform = clip.load(\"ViT-B/32\", device=device)\n",
        "\n",
        "correct = []\n",
        "\n",
        "#define our target classificaitons, you can should experiment with these strings of text as you see fit, though, make sure they are in the same order as your class names above\n",
        "text = clip.tokenize(candidate_captions).to(device)\n",
        "\n",
        "for cls in class_names:\n",
        "    class_correct = []\n",
        "    test_imgs = glob.glob('./test/' + cls + '/*.jpg')\n",
        "    for img in test_imgs:\n",
        "        print(img)\n",
        "        image = transform(Image.open(img)).unsqueeze(0).to(device)\n",
        "        with torch.no_grad():\n",
        "            image_features = model.encode_image(image)\n",
        "            text_features = model.encode_text(text)\n",
        "            \n",
        "            logits_per_image, logits_per_text = model(image, text)\n",
        "            probs = logits_per_image.softmax(dim=-1).cpu().numpy()\n",
        "\n",
        "            pred = class_names[argmax(list(probs)[0])]\n",
        "            print(pred)\n",
        "            if pred == cls:\n",
        "                correct.append(1)\n",
        "                class_correct.append(1)\n",
        "            else:\n",
        "                correct.append(0)\n",
        "                class_correct.append(0)\n",
        "    \n",
        "    print('accuracy on class ' + cls + ' is :' + str(sum(class_correct)/len(class_correct)))\n",
        "print('accuracy on all is : ' + str(sum(correct)/len(correct)))"
      ],
      "execution_count": 22,
      "outputs": [
        {
          "output_type": "stream",
          "text": [
            "./test/daisy/33891398493_e0b6d7f683_n_jpg.rf.056074d40fb04ac0330dcb40dc9d173d.jpg\n",
            "daisy\n",
            "./test/daisy/10466290366_cc72e33532_jpg.rf.9481adbf72e9d757b640219f327b2c31.jpg\n",
            "dandelion\n",
            "./test/daisy/14907815010_bff495449f_jpg.rf.d184c6dae55a882ebd35d816eb0f79f5.jpg\n",
            "daisy\n",
            "./test/daisy/6207492986_0ff91f3296_jpg.rf.f7e0e335cb1379cb92a5cea50656c528.jpg\n",
            "daisy\n",
            "./test/daisy/2578695910_5ab8ee17c1_n_jpg.rf.bdcce16fe2988974f32cd3fa5dec38fa.jpg\n",
            "daisy\n",
            "./test/daisy/2632216904_274aa17433_jpg.rf.c65a6dd63aa759e264a93d872f1985a2.jpg\n",
            "daisy\n",
            "./test/daisy/34571214621_f655295459_n_jpg.rf.e77f6a52632920db03e558ef5a25dc87.jpg\n",
            "daisy\n",
            "./test/daisy/33874126263_3f6f965784_n_jpg.rf.af5b4df8f61425ff68c02eeca5b15e05.jpg\n",
            "daisy\n",
            "./test/daisy/5905504340_1d60fa9611_n_jpg.rf.0a9695dc3cc728bd5e01b589d77f5313.jpg\n",
            "daisy\n",
            "./test/daisy/6776075110_1ea7a09dd4_n_jpg.rf.3725c92eba2068938f6a94e1d880b5d8.jpg\n",
            "daisy\n",
            "./test/daisy/14333681205_a07c9f1752_m_jpg.rf.431f5d547b0a428a0e6025d5acb840e0.jpg\n",
            "daisy\n",
            "./test/daisy/5765646947_82e95a9cc9_n_jpg.rf.dd4e16c1a90550fa1c64e443b123ac76.jpg\n",
            "daisy\n",
            "./test/daisy/1354396826_2868631432_m_jpg.rf.cd0d3d247c7f6ca33bbbaf34ff55f843.jpg\n",
            "daisy\n",
            "./test/daisy/7066602021_2647457985_m_jpg.rf.bec5e7ed4d27a7e48eefc07644a8e9e1.jpg\n",
            "daisy\n",
            "./test/daisy/33843400403_db00aa16b8_n_jpg.rf.6bc01b7a88cc72327031650b1050cb27.jpg\n",
            "daisy\n",
            "./test/daisy/4482623536_b9fb5ae41f_n_jpg.rf.a7522059812dec423f620c1e8ec43757.jpg\n",
            "daisy\n",
            "./test/daisy/8709535323_a6bea3e43f_jpg.rf.781f842d4354bbc91106eab7651fc51a.jpg\n",
            "daisy\n",
            "./test/daisy/2621723097_736febb4a4_n_jpg.rf.f2ff044691c8bb09e45df8b26b9445ac.jpg\n",
            "daisy\n",
            "./test/daisy/2877860110_a842f8b14a_m_jpg.rf.2487554e9a769a96865c8fa194aa3069.jpg\n",
            "daisy\n",
            "./test/daisy/2579018590_74359dcf1a_m_jpg.rf.7588e86e857e72d491e59ac5431b8c2e.jpg\n",
            "daisy\n",
            "./test/daisy/6299498346_b9774b6500_jpg.rf.b2c2333eef1544f44a607de610d014b8.jpg\n",
            "daisy\n",
            "./test/daisy/22244161124_53e457bb66_n_jpg.rf.3de7dfc58e302d5985eaa5c95d72f0fd.jpg\n",
            "daisy\n",
            "./test/daisy/33843240613_0b736f9896_n_jpg.rf.3d8c986bbd8d1cf2c71b5baa5c9d2d25.jpg\n",
            "daisy\n",
            "./test/daisy/34562146951_cf3d2a627c_n_jpg.rf.8d78a9e02a3836976fa4da00f1f086c4.jpg\n",
            "daisy\n",
            "./test/daisy/7538403124_f2fc48750a_jpg.rf.0171c36e1649200c9a7c1f3fd416b195.jpg\n",
            "daisy\n",
            "./test/daisy/14613443462_d4ed356201_jpg.rf.e13e076d42bb16e59b2b1bde7fe2e3c9.jpg\n",
            "daisy\n",
            "./test/daisy/9221345475_67735dbf4f_n_jpg.rf.351e1009be75009e035d1b89fbb3f5ff.jpg\n",
            "daisy\n",
            "./test/daisy/33879354664_615c72773d_n_jpg.rf.067fe875f8136bd23dab8bc227b44059.jpg\n",
            "daisy\n",
            "./test/daisy/488202750_c420cbce61_jpg.rf.6170c402b776beddce987b834974679c.jpg\n",
            "daisy\n",
            "./test/daisy/5896110423_e084b33401_n_jpg.rf.4bbd79813292bba4fae71c84d1474aa3.jpg\n",
            "dandelion\n",
            "./test/daisy/3463313493_9497aa47e5_n_jpg.rf.e7b8c4dd981881506337011234bca177.jpg\n",
            "daisy\n",
            "./test/daisy/18684594849_7dd3634f5e_n_jpg.rf.0d3f331cb9bc248346a2b25722cb74c3.jpg\n",
            "daisy\n",
            "./test/daisy/4117918318_3c8935289b_m_jpg.rf.9a757a8d8a49c9cf6dbb78c49ab91c1a.jpg\n",
            "daisy\n",
            "./test/daisy/4858518329_7563eb0baa_m_jpg.rf.84e74bc2871caaaf1c985e08b2cfdefb.jpg\n",
            "daisy\n",
            "./test/daisy/6089825811_80f253fbe1_jpg.rf.feeb472c601418adda370708b594b205.jpg\n",
            "daisy\n",
            "./test/daisy/1342002397_9503c97b49_jpg.rf.be4902de521032eed5de0f77d7788fe9.jpg\n",
            "daisy\n",
            "./test/daisy/6136947177_47ff445eb4_n_jpg.rf.98deeaf67b5dab9c7046012a09566bfa.jpg\n",
            "daisy\n",
            "./test/daisy/16737503507_431768a927_jpg.rf.235a535aacbc7e75c544fec26d510f34.jpg\n",
            "daisy\n",
            "./test/daisy/14866200659_6462c723cb_m_jpg.rf.da00a8b41ad8f62b313964fb4969946b.jpg\n",
            "daisy\n",
            "./test/daisy/14707111433_cce08ee007_jpg.rf.3fa53be80ce70e7b14e7e6ec7a720044.jpg\n",
            "daisy\n",
            "./test/daisy/16025261368_911703a536_n_jpg.rf.e74d246d8beda1a584466527446c8bc9.jpg\n",
            "daisy\n",
            "./test/daisy/14591326135_930703dbed_m_jpg.rf.b023f93cba842adfb9738bba3179a41e.jpg\n",
            "daisy\n",
            "./test/daisy/519880292_7a3a6c6b69_jpg.rf.df3fa3e8d32ca9c222a7d9dc5feb27ba.jpg\n",
            "daisy\n",
            "./test/daisy/14564545365_1f1d267bf1_n_jpg.rf.76d17c4bb9cf8cbb7c4b4a5beb746d24.jpg\n",
            "daisy\n",
            "./test/daisy/14569895116_32f0dcb0f9_jpg.rf.54efb1eba61c2e650f2f66b07df30407.jpg\n",
            "daisy\n",
            "./test/daisy/754248840_95092de274_jpg.rf.5f897f1d47b2b632a9c7a492b302a024.jpg\n",
            "daisy\n",
            "./test/daisy/4563059851_45a9d21a75_jpg.rf.f5098f3f883972a6dacdb868587b72e7.jpg\n",
            "daisy\n",
            "./test/daisy/1374193928_a52320eafa_jpg.rf.b27013a088a330c6401e2a1776306ca6.jpg\n",
            "daisy\n",
            "./test/daisy/33855966243_01b2486428_n_jpg.rf.05d9b697ece3b2311f09991a44d05bb8.jpg\n",
            "daisy\n",
            "./test/daisy/16482676953_5296227d40_n_jpg.rf.1426ff8c8ee194ee14a59076a6c63101.jpg\n",
            "daisy\n",
            "./test/daisy/33810542134_a493f19a71_n_jpg.rf.5d62b40ae8fb540dceb628a75c2aede5.jpg\n",
            "dandelion\n",
            "./test/daisy/5904946193_bd1eb1f39d_n_jpg.rf.92e9809de09127638b02b8231f93b66b.jpg\n",
            "daisy\n",
            "./test/daisy/8322526877_95d1c0f8bc_n_jpg.rf.829210276cee9bd966905a38d8cbc363.jpg\n",
            "daisy\n",
            "./test/daisy/18442919723_d1251d3e14_n_jpg.rf.7129cef1f83378cb836de234edbf6acf.jpg\n",
            "daisy\n",
            "./test/daisy/15813862117_dedcd1c56f_m_jpg.rf.99fff7c930062fe98f0f6314bf63fb93.jpg\n",
            "daisy\n",
            "./test/daisy/476857510_d2b30175de_n_jpg.rf.c77b726e5dbc1fc450cd45d9b9bf6100.jpg\n",
            "daisy\n",
            "./test/daisy/3699235066_fc09a02dfe_m_jpg.rf.6df90845783d2e7fe9832561c705d747.jpg\n",
            "daisy\n",
            "./test/daisy/15760153042_a2a90e9da5_m_jpg.rf.1a7692f82b86d014f961be4b8dc2361b.jpg\n",
            "daisy\n",
            "./test/daisy/2482982436_a2145359e0_n_jpg.rf.49271cf1e2f02eb2f9dd723966b14e26.jpg\n",
            "daisy\n",
            "./test/daisy/4790631791_21e9648097_n_jpg.rf.5f5b92b009a8fa438aff2100db614024.jpg\n",
            "daisy\n",
            "./test/daisy/22873310415_3a5674ec10_m_jpg.rf.c606cdb64c954ebfe6dfb8be839fd34f.jpg\n",
            "daisy\n",
            "./test/daisy/34542837641_10492bf600_n_jpg.rf.a0f159a4b03a6969844e789a3752e752.jpg\n",
            "daisy\n",
            "./test/daisy/6480809573_76a0074b69_n_jpg.rf.5dbdb2fba3f053c8de33e5761a86edcd.jpg\n",
            "daisy\n",
            "./test/daisy/3504430338_77d6a7fab4_n_jpg.rf.f337941a6aa5fc93a25a50eed93dd658.jpg\n",
            "daisy\n",
            "./test/daisy/14399435971_ea5868c792_jpg.rf.fa64b4f67239b70500f9a7455f33d900.jpg\n",
            "daisy\n",
            "./test/daisy/18622672908_eab6dc9140_n_jpg.rf.0690fa8667eabd549303197f44c9a53c.jpg\n",
            "daisy\n",
            "./test/daisy/33814092924_b23d019011_n_jpg.rf.1491f7ec746d13cb63a9f08234b95101.jpg\n",
            "daisy\n",
            "./test/daisy/10466558316_a7198b87e2_jpg.rf.76eab3f735686fb305b90618e60718ba.jpg\n",
            "daisy\n",
            "./test/daisy/34695914906_961f92ffcd_n_jpg.rf.504dbd9575e40bc9f91ab2e124869b0b.jpg\n",
            "daisy\n",
            "./test/daisy/476856232_7c35952f40_n_jpg.rf.6be1b321438811a3c99520214ef73de2.jpg\n",
            "dandelion\n",
            "./test/daisy/4565255237_9ba29c4d4e_n_jpg.rf.a3da58f8c7b6c65685a0338bd4ef6fe9.jpg\n",
            "daisy\n",
            "./test/daisy/9345273630_af3550031d_jpg.rf.957a56380f93dd6c16e49ee7d7dd782d.jpg\n",
            "daisy\n",
            "./test/daisy/2520369272_1dcdb5a892_m_jpg.rf.7f2f0b7dd130bdbcdefec29ba2cbce83.jpg\n",
            "daisy\n",
            "./test/daisy/12193032636_b50ae7db35_n_jpg.rf.431ea9791e62f8d48ff0037a7326e484.jpg\n",
            "daisy\n",
            "./test/daisy/1392131677_116ec04751_jpg.rf.83705c503f603f283a0ee2dd2adc9cf4.jpg\n",
            "daisy\n",
            "./test/daisy/7416083788_fcb4c4f27e_n_jpg.rf.c91e49e1e86a6953e0d42f006283bdcb.jpg\n",
            "daisy\n",
            "./test/daisy/5435513198_90ce39f1aa_n_jpg.rf.e8edd847169f79ea08c5accc052ff03a.jpg\n",
            "daisy\n",
            "accuracy on class daisy is :0.948051948051948\n",
            "./test/dandelion/18183515403_13a9ca6d86_n_jpg.rf.bfe7a5a469dea336979ecb194ac7500d.jpg\n",
            "dandelion\n",
            "./test/dandelion/33850973214_c1b4000d9c_n_jpg.rf.88d8852cecec97971141439da67165b4.jpg\n",
            "dandelion\n",
            "./test/dandelion/5033866477_a77cccba49_m_jpg.rf.ca76749da1541afa0929ab9ba804c397.jpg\n",
            "dandelion\n",
            "./test/dandelion/8757650550_113d7af3bd_jpg.rf.480d2240eed0632a604c5ff43d1bb55d.jpg\n",
            "dandelion\n",
            "./test/dandelion/34719957845_c929f480a3_n_jpg.rf.350c998306acea402b71c3e6478d6de6.jpg\n",
            "dandelion\n",
            "./test/dandelion/808239968_318722e4db_jpg.rf.e76e25f04857e3a6f6924c939e43e311.jpg\n",
            "dandelion\n",
            "./test/dandelion/1776290427_9d8d5be6ac_jpg.rf.e3acd8101062146ec0875b952e971d98.jpg\n",
            "dandelion\n",
            "./test/dandelion/2401343175_d2a892cf25_n_jpg.rf.1a90dd2887a686e0b5ae8daf62f73d1c.jpg\n",
            "dandelion\n",
            "./test/dandelion/3513200808_390f1d63a7_m_jpg.rf.ed8e420da16035581f1a7582e0c7cdf4.jpg\n",
            "dandelion\n",
            "./test/dandelion/13471273823_4800ca8eec_jpg.rf.e7b93407d2f8ba70d5df4c24f24d9248.jpg\n",
            "dandelion\n",
            "./test/dandelion/4523862714_b41b459c88_jpg.rf.fba62026739ee2c1fbf687c92f553447.jpg\n",
            "dandelion\n",
            "./test/dandelion/13887031789_97437f246b_jpg.rf.759a64083171bbf7e1392b6147e37feb.jpg\n",
            "dandelion\n",
            "./test/dandelion/34700475225_fbc12d0834_n_jpg.rf.8bb681a685bbeb36b13d9f2c9ab30cc4.jpg\n",
            "dandelion\n",
            "./test/dandelion/17220096449_0e535989f0_n_jpg.rf.574616f24ac96367e6c7350def0785de.jpg\n",
            "dandelion\n",
            "./test/dandelion/3398195641_456872b48b_n_jpg.rf.0ec1a33d96a835903e69198689b41f7b.jpg\n",
            "dandelion\n",
            "./test/dandelion/15002906952_cab2cb29cf_jpg.rf.ed2ec63be6c25e05910e7dd4a31bb112.jpg\n",
            "dandelion\n",
            "./test/dandelion/3491333876_e3fed43c0d_jpg.rf.b773b1d2318b43512012bbcedb30cdc1.jpg\n",
            "dandelion\n",
            "./test/dandelion/16096748028_7876887ab2_jpg.rf.34eefe9f7905cb801fee65d806b10165.jpg\n",
            "dandelion\n",
            "./test/dandelion/5674707921_1ffd141bab_n_jpg.rf.59d54e47ed562b0ff5805a0946b06f7b.jpg\n",
            "dandelion\n",
            "./test/dandelion/4489359360_09db62f825_jpg.rf.6420087dd267028c0bc7e67bc18feaa0.jpg\n",
            "dandelion\n",
            "./test/dandelion/15139657325_74031c44fc_jpg.rf.50a87c062760ec00273752ce27c5ba77.jpg\n",
            "dandelion\n",
            "./test/dandelion/17688233756_21879104c1_n_jpg.rf.a45719424f78698894697eb7a29a7205.jpg\n",
            "daisy\n",
            "./test/dandelion/13916196427_50a611008f_jpg.rf.5f39314188d9483da21c494cc2dbf721.jpg\n",
            "dandelion\n",
            "./test/dandelion/14053173516_a00150a919_m_jpg.rf.de3bb3ff435c93e71beab352e1606169.jpg\n",
            "dandelion\n",
            "./test/dandelion/7280221020_98b473b20d_n_jpg.rf.5d66dd08708f7469367b8d9ae4bdbece.jpg\n",
            "dandelion\n",
            "./test/dandelion/3554435478_1a7ab743e9_n_jpg.rf.2f452ae33c7c9bb1ee70868f34613638.jpg\n",
            "dandelion\n",
            "./test/dandelion/8707349105_6d06b543b0_jpg.rf.5619c22eaaea0f86913903c94baf8cff.jpg\n",
            "dandelion\n",
            "./test/dandelion/3517492544_0fd3ed6a66_m_jpg.rf.bc1edf18dfccbcf57b9769fbeda9c1be.jpg\n",
            "dandelion\n",
            "./test/dandelion/34552250422_320900fd8e_n_jpg.rf.bd7c94f99202229dccaa35d2d12e147e.jpg\n",
            "dandelion\n",
            "./test/dandelion/14093789753_f0f1acdb57_jpg.rf.535640d12aedc0c56150834d7fecd32a.jpg\n",
            "dandelion\n",
            "./test/dandelion/15268682367_5a4512b29f_m_jpg.rf.5e671de012205ea7520d8a56a670e3c1.jpg\n",
            "dandelion\n",
            "./test/dandelion/9595369280_dd88b61814_jpg.rf.c54d89d400f99c41439a46f6fd7ee94a.jpg\n",
            "dandelion\n",
            "./test/dandelion/27186992702_449dfa54ef_n_jpg.rf.e1994c4bd81f53b4870c070094ab2478.jpg\n",
            "dandelion\n",
            "./test/dandelion/5628296138_9031791fab_jpg.rf.6f852adaeeed84c5d1ce0f56329f06b4.jpg\n",
            "dandelion\n",
            "./test/dandelion/8613502159_d9ea67ba63_jpg.rf.f462a738672187a2cb05fcead2190462.jpg\n",
            "dandelion\n",
            "./test/dandelion/34592557281_5f254b3a46_n_jpg.rf.cff16dbfa18f4e6e9371691b044a0961.jpg\n",
            "dandelion\n",
            "./test/dandelion/7465850028_cdfaae235a_n_jpg.rf.1491a7f2042f06b3af7c0dca54b93492.jpg\n",
            "dandelion\n",
            "./test/dandelion/33877161494_05686b7f7a_n_jpg.rf.aa8d5cf479bddcd09ee1563f8db6351c.jpg\n",
            "dandelion\n",
            "./test/dandelion/4151883194_e45505934d_n_jpg.rf.e0de04346a72d093fd7e7d8214fe674f.jpg\n",
            "dandelion\n",
            "./test/dandelion/6983113346_21551e1b52_n_jpg.rf.5f81d5f35c899319e815d92d83b5e700.jpg\n",
            "dandelion\n",
            "./test/dandelion/8083321316_f62ea76f72_n_jpg.rf.04a4be7c8218447e23467d09298cd82f.jpg\n",
            "dandelion\n",
            "./test/dandelion/7243174412_d3628e4cc4_m_jpg.rf.e8565ac2b349cc56ba93efd9f2dbbf75.jpg\n",
            "dandelion\n",
            "./test/dandelion/8720503800_cab5c62a34_jpg.rf.f65190543b4398b99c43b0555340a6d0.jpg\n",
            "dandelion\n",
            "./test/dandelion/510874382_f7e3435043_jpg.rf.b6c75e64b5b42bcbf519730ac289a08c.jpg\n",
            "dandelion\n",
            "./test/dandelion/6132275522_ce46b33c33_m_jpg.rf.8dd57d9253879466c5d22a2bae18660a.jpg\n",
            "dandelion\n",
            "./test/dandelion/3459346147_faffff51c7_n_jpg.rf.f83a014f16c8d7893d76b93185d91434.jpg\n",
            "dandelion\n",
            "./test/dandelion/461632542_0387557eff_jpg.rf.7e9dcd8a31b3b44fb55fe884518dfdb5.jpg\n",
            "dandelion\n",
            "./test/dandelion/6954604340_d3223ed296_m_jpg.rf.c7db0578fcd5cde9dbf5257f51e4764f.jpg\n",
            "dandelion\n",
            "./test/dandelion/3585220976_5acac92d1c_jpg.rf.79bcfbedae49602341b952da8f1f8e5b.jpg\n",
            "dandelion\n",
            "./test/dandelion/15358221063_2c6e548e84_jpg.rf.b07b765aacc48803121b781e1011e251.jpg\n",
            "dandelion\n",
            "./test/dandelion/6400843175_ef07053f8f_m_jpg.rf.d918f63571abf495d0d9693497d460e5.jpg\n",
            "dandelion\n",
            "./test/dandelion/2938040169_eb38581359_jpg.rf.f5998ddb53ae23d33916fa68b0dbaa69.jpg\n",
            "dandelion\n",
            "./test/dandelion/7197581386_8a51f1bb12_n_jpg.rf.7c4ccc38fb01dbb8fb0e6b0b965b76c0.jpg\n",
            "dandelion\n",
            "./test/dandelion/16510864164_3afa8ac37f_jpg.rf.bb64f647b50f0c84c342c8dbb7952d8f.jpg\n",
            "dandelion\n",
            "./test/dandelion/4588529727_4a79c61577_jpg.rf.dd7d17643d7c9aed6f76007895eea91f.jpg\n",
            "dandelion\n",
            "./test/dandelion/15005530987_e13b328047_n_jpg.rf.75102739a80ef6ac34b781fc3064cd34.jpg\n",
            "dandelion\n",
            "./test/dandelion/14060367700_fe87e99b6a_m_jpg.rf.638675b2755816d9892321733c501a49.jpg\n",
            "dandelion\n",
            "./test/dandelion/4552591312_02fe1dcc04_n_jpg.rf.9ea05dde81ee922b98029d1ed0e1247c.jpg\n",
            "dandelion\n",
            "./test/dandelion/8376558865_19c5cd6fd6_n_jpg.rf.eb227cef9d6a3f5a7593dc20b165b9f1.jpg\n",
            "dandelion\n",
            "./test/dandelion/23414449869_ee849a80d4_jpg.rf.d9e28d0d246a3de484b442a9be1e4e55.jpg\n",
            "dandelion\n",
            "./test/dandelion/9152356642_06ae73113f_jpg.rf.7c5b0bb9332355b1794485e28ce171b7.jpg\n",
            "dandelion\n",
            "./test/dandelion/141340262_ca2e576490_jpg.rf.a16a5434ef8e3b29d346ccdaae84b397.jpg\n",
            "dandelion\n",
            "./test/dandelion/4134441089_c8c1e6132a_jpg.rf.5566c4464ca38dcfbb8582b990400f1b.jpg\n",
            "dandelion\n",
            "./test/dandelion/8797114213_103535743c_m_jpg.rf.ff6f82aa766285b362819a3e22beb27a.jpg\n",
            "dandelion\n",
            "./test/dandelion/3458770076_17ed3a1225_jpg.rf.1cf4d6bf05559af9b6cd81f857849bb6.jpg\n",
            "dandelion\n",
            "./test/dandelion/7280222348_a87725ca77_jpg.rf.fd8d0771351790384dff00b2b77f6d1d.jpg\n",
            "dandelion\n",
            "./test/dandelion/5129135346_3fa8e804d8_n_jpg.rf.ec75a8a5840e7aaeb4d41d41c96de413.jpg\n",
            "dandelion\n",
            "./test/dandelion/26004221274_74900d17e1_n_jpg.rf.dadf11b0c27dc7186fb832596833a528.jpg\n",
            "dandelion\n",
            "./test/dandelion/4500964841_b1142b50fb_n_jpg.rf.80ed90ea925a8c07e6e7451eed4761a5.jpg\n",
            "dandelion\n",
            "./test/dandelion/3998275481_651205e02d_jpg.rf.ca53c07369e229ec01209ec0394ab066.jpg\n",
            "dandelion\n",
            "./test/dandelion/7196683612_6c4cf05b24_jpg.rf.66dc5c633a3cdabac36a801853ee75e5.jpg\n",
            "dandelion\n",
            "./test/dandelion/16744522344_8d21b1530d_n_jpg.rf.8f285b87a3b596298578f8308dede04d.jpg\n",
            "dandelion\n",
            "./test/dandelion/13900486390_5a25785645_n_jpg.rf.5acbcf6d2eb7f5ebfe536eb1276896bb.jpg\n",
            "dandelion\n",
            "./test/dandelion/5003160931_cf8cbb846f_jpg.rf.a777c604ab2e1eee5c2b3eccfca42ed8.jpg\n",
            "dandelion\n",
            "./test/dandelion/3688128868_031e7b53e1_n_jpg.rf.8ca6b502fce2b83026a870fec9888cba.jpg\n",
            "dandelion\n",
            "./test/dandelion/34339792440_8224ca420d_n_jpg.rf.69e5dacf575e81f83c928d4f8ef5fb6b.jpg\n",
            "dandelion\n",
            "./test/dandelion/6994933428_307b092ce7_m_jpg.rf.f96784a3dccefd77502c76f2a2bc42da.jpg\n",
            "dandelion\n",
            "./test/dandelion/14728922673_99086a3818_n_jpg.rf.6e4562ad9efeae6ebd1031a084e90de2.jpg\n",
            "dandelion\n",
            "./test/dandelion/9853885425_4a82356f1d_m_jpg.rf.f0fa6743094fb9f2fd7c53087bacb813.jpg\n",
            "dandelion\n",
            "./test/dandelion/14292205986_da230467ef_jpg.rf.56649f9797437af4c6ea20e4b1f13df5.jpg\n",
            "dandelion\n",
            "./test/dandelion/9472854850_fc9e1db673_jpg.rf.f9a4fb60fe9d5e1076ad4c82bb7b9b8b.jpg\n",
            "dandelion\n",
            "./test/dandelion/11595255065_d9550012fc_jpg.rf.095e46341283eecfcf74508287c230f4.jpg\n",
            "dandelion\n",
            "./test/dandelion/7243478942_30bf542a2d_m_jpg.rf.e21883e901850cf92280dbded26bfd7c.jpg\n",
            "dandelion\n",
            "./test/dandelion/3530500952_9f94fb8b9c_m_jpg.rf.af5ea1fa42554beeef93515b510e7586.jpg\n",
            "dandelion\n",
            "./test/dandelion/4953240903_a121fba81f_m_jpg.rf.63529538201a05701f40ce6de345ddfc.jpg\n",
            "dandelion\n",
            "./test/dandelion/14376454225_a1de336c5b_jpg.rf.4dac57ae95df2e274455913a3d6a8d3f.jpg\n",
            "dandelion\n",
            "./test/dandelion/129019877_8eea2978ca_m_jpg.rf.c55302c2884d2c5f86c58f9a89146ac4.jpg\n",
            "dandelion\n",
            "./test/dandelion/34540904752_ae86e5f6ce_n_jpg.rf.ec75fcff6140a379b3e52c3545433746.jpg\n",
            "dandelion\n",
            "./test/dandelion/149782934_21adaf4a21_jpg.rf.10945acdd46c0dabeeca3033801fc0f1.jpg\n",
            "dandelion\n",
            "./test/dandelion/16159487_3a6615a565_n_jpg.rf.8d1525a2bded56835352da4a90e71e05.jpg\n",
            "dandelion\n",
            "./test/dandelion/34719559905_46ba779d79_n_jpg.rf.f92ff70bc1f4c9315d2fde99a45a843a.jpg\n",
            "dandelion\n",
            "./test/dandelion/19600096066_67dc941042_jpg.rf.6e1d0e44e4fda7a8362a5def96e6fd85.jpg\n",
            "dandelion\n",
            "./test/dandelion/2392273474_a64cef0eaf_n_jpg.rf.0fd3dbaf7b29a8e0231c545674672e47.jpg\n",
            "dandelion\n",
            "./test/dandelion/2478018280_1be353ca8c_m_jpg.rf.a3e1d7228eb6dfa885ed7dfcb2b4fd86.jpg\n",
            "dandelion\n",
            "./test/dandelion/1241011700_261ae180ca_jpg.rf.c81349468cc558666995871823737ddb.jpg\n",
            "dandelion\n",
            "./test/dandelion/5608832856_f5d49de778_jpg.rf.eaa4df5ba8d2692dd684b0533c4d227f.jpg\n",
            "dandelion\n",
            "./test/dandelion/9293460423_7fbb1e3c32_n_jpg.rf.2d168aec20c49634cef6a6937f9d0132.jpg\n",
            "dandelion\n",
            "./test/dandelion/3393060921_2328b752f4_jpg.rf.518f73028aa006c3932ec8e791e751d0.jpg\n",
            "dandelion\n",
            "./test/dandelion/8663932737_0a603ab718_n_jpg.rf.8e9c25dba798d2e32a044cf83436d416.jpg\n",
            "dandelion\n",
            "./test/dandelion/5446666484_365f3be83a_n_jpg.rf.4c1aa8e2ab498e8b23090c978e9ffc4a.jpg\n",
            "dandelion\n",
            "./test/dandelion/1297972485_33266a18d9_jpg.rf.636b3212193b27348001eaf96248bbf8.jpg\n",
            "dandelion\n",
            "./test/dandelion/34587720941_ccbbc420ec_n_jpg.rf.6296c351681cb74d1fdefb4ebd8c128b.jpg\n",
            "dandelion\n",
            "./test/dandelion/4510938552_6f7bae172a_n_jpg.rf.1903a00d2df48fc0ee93625bb5a85d4b.jpg\n",
            "dandelion\n",
            "./test/dandelion/11768468623_9399b5111b_n_jpg.rf.d8bd4fcf8eb8b4da6f8757d141e8b230.jpg\n",
            "dandelion\n",
            "./test/dandelion/5996421299_b9bf488c1a_n_jpg.rf.3ba975737d5f55ae2c161000248e2dba.jpg\n",
            "dandelion\n",
            "accuracy on class dandelion is :0.9904761904761905\n",
            "accuracy on all is : 0.9725274725274725\n"
          ],
          "name": "stdout"
        }
      ]
    },
    {
      "cell_type": "code",
      "metadata": {
        "id": "4yrqnKyUofrb"
      },
      "source": [
        "#Hope you enjoyed!\n",
        "#As always, happy inferencing\n",
        "#Roboflow"
      ],
      "execution_count": null,
      "outputs": []
    },
    {
      "cell_type": "code",
      "metadata": {
        "id": "beM5N-2iudEk"
      },
      "source": [
        ""
      ],
      "execution_count": null,
      "outputs": []
    }
  ]
}