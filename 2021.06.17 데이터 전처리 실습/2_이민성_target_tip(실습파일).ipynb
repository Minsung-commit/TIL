{
 "cells": [
  {
   "cell_type": "code",
   "execution_count": 1,
   "id": "264c4816-ba23-40d9-a05e-a6587229b516",
   "metadata": {},
   "outputs": [],
   "source": [
    "import pymysql.cursors\n",
    "# Connect to the database\n",
    "import numpy as np\n",
    "import pandas as pd"
   ]
  },
  {
   "cell_type": "markdown",
   "id": "e1a55ff9-f5b0-4832-abd3-be404b272c2d",
   "metadata": {},
   "source": [
    "#DB 불러오기"
   ]
  },
  {
   "cell_type": "code",
   "execution_count": 2,
   "id": "28fa2857-da9c-4896-b2e4-7402e41f3fcb",
   "metadata": {},
   "outputs": [],
   "source": [
    "connection = pymysql.connect(host='localhost',\n",
    "        user='practice',\n",
    "        password='6725',\n",
    "        db='tip',\n",
    "        charset='utf8',\n",
    "        cursorclass=pymysql.cursors.DictCursor)"
   ]
  },
  {
   "cell_type": "code",
   "execution_count": 3,
   "id": "5c7b07b2-3879-467b-b538-e8f5c6f209e1",
   "metadata": {},
   "outputs": [],
   "source": [
    "try:\n",
    "    with connection.cursor() as cursor:\n",
    "        sql = \"SELECT * FROM tip.tips;\"\n",
    "        cursor.execute(sql)\n",
    "        result = cursor.fetchall()\n",
    "        tips = pd.DataFrame(result) #불러온 db를 df로 저장\n",
    "finally:\n",
    "    connection.close()"
   ]
  },
  {
   "cell_type": "code",
   "execution_count": 4,
   "id": "49f536c5-75f6-4d67-84c7-eab0e7f77f0b",
   "metadata": {},
   "outputs": [
    {
     "data": {
      "text/html": [
       "<div>\n",
       "<style scoped>\n",
       "    .dataframe tbody tr th:only-of-type {\n",
       "        vertical-align: middle;\n",
       "    }\n",
       "\n",
       "    .dataframe tbody tr th {\n",
       "        vertical-align: top;\n",
       "    }\n",
       "\n",
       "    .dataframe thead th {\n",
       "        text-align: right;\n",
       "    }\n",
       "</style>\n",
       "<table border=\"1\" class=\"dataframe\">\n",
       "  <thead>\n",
       "    <tr style=\"text-align: right;\">\n",
       "      <th></th>\n",
       "      <th>total_bill</th>\n",
       "      <th>tip</th>\n",
       "      <th>sex</th>\n",
       "      <th>smoker</th>\n",
       "      <th>day</th>\n",
       "      <th>time</th>\n",
       "      <th>size</th>\n",
       "    </tr>\n",
       "  </thead>\n",
       "  <tbody>\n",
       "    <tr>\n",
       "      <th>0</th>\n",
       "      <td>16.99</td>\n",
       "      <td>1.01</td>\n",
       "      <td>Female</td>\n",
       "      <td>No</td>\n",
       "      <td>Sun</td>\n",
       "      <td>Dinner</td>\n",
       "      <td>2</td>\n",
       "    </tr>\n",
       "    <tr>\n",
       "      <th>1</th>\n",
       "      <td>10.34</td>\n",
       "      <td>1.66</td>\n",
       "      <td>Male</td>\n",
       "      <td>No</td>\n",
       "      <td>Sun</td>\n",
       "      <td>Dinner</td>\n",
       "      <td>3</td>\n",
       "    </tr>\n",
       "    <tr>\n",
       "      <th>2</th>\n",
       "      <td>21.01</td>\n",
       "      <td>3.50</td>\n",
       "      <td>Male</td>\n",
       "      <td>No</td>\n",
       "      <td>Sun</td>\n",
       "      <td>Dinner</td>\n",
       "      <td>3</td>\n",
       "    </tr>\n",
       "    <tr>\n",
       "      <th>3</th>\n",
       "      <td>23.68</td>\n",
       "      <td>3.31</td>\n",
       "      <td>Male</td>\n",
       "      <td>No</td>\n",
       "      <td>Sun</td>\n",
       "      <td>Dinner</td>\n",
       "      <td>2</td>\n",
       "    </tr>\n",
       "    <tr>\n",
       "      <th>4</th>\n",
       "      <td>24.59</td>\n",
       "      <td>3.61</td>\n",
       "      <td>Female</td>\n",
       "      <td>No</td>\n",
       "      <td>Sun</td>\n",
       "      <td>Dinner</td>\n",
       "      <td>4</td>\n",
       "    </tr>\n",
       "    <tr>\n",
       "      <th>...</th>\n",
       "      <td>...</td>\n",
       "      <td>...</td>\n",
       "      <td>...</td>\n",
       "      <td>...</td>\n",
       "      <td>...</td>\n",
       "      <td>...</td>\n",
       "      <td>...</td>\n",
       "    </tr>\n",
       "    <tr>\n",
       "      <th>271</th>\n",
       "      <td>20.65</td>\n",
       "      <td>3.35</td>\n",
       "      <td>Male</td>\n",
       "      <td>No</td>\n",
       "      <td>None</td>\n",
       "      <td>Dinner</td>\n",
       "      <td>5</td>\n",
       "    </tr>\n",
       "    <tr>\n",
       "      <th>272</th>\n",
       "      <td>16.99</td>\n",
       "      <td>1.01</td>\n",
       "      <td>Female</td>\n",
       "      <td>None</td>\n",
       "      <td>Sun</td>\n",
       "      <td>Dinner</td>\n",
       "      <td>2</td>\n",
       "    </tr>\n",
       "    <tr>\n",
       "      <th>273</th>\n",
       "      <td>10.34</td>\n",
       "      <td>1.66</td>\n",
       "      <td>None</td>\n",
       "      <td>No</td>\n",
       "      <td>Sun</td>\n",
       "      <td>Dinner</td>\n",
       "      <td>3</td>\n",
       "    </tr>\n",
       "    <tr>\n",
       "      <th>274</th>\n",
       "      <td>20.65</td>\n",
       "      <td>3.35</td>\n",
       "      <td>Male</td>\n",
       "      <td>No</td>\n",
       "      <td>None</td>\n",
       "      <td>Dinner</td>\n",
       "      <td>4</td>\n",
       "    </tr>\n",
       "    <tr>\n",
       "      <th>275</th>\n",
       "      <td>20.65</td>\n",
       "      <td>3.35</td>\n",
       "      <td>Male</td>\n",
       "      <td>No</td>\n",
       "      <td>None</td>\n",
       "      <td>Dinner</td>\n",
       "      <td>5</td>\n",
       "    </tr>\n",
       "  </tbody>\n",
       "</table>\n",
       "<p>276 rows × 7 columns</p>\n",
       "</div>"
      ],
      "text/plain": [
       "     total_bill   tip     sex smoker   day    time  size\n",
       "0         16.99  1.01  Female     No   Sun  Dinner     2\n",
       "1         10.34  1.66    Male     No   Sun  Dinner     3\n",
       "2         21.01  3.50    Male     No   Sun  Dinner     3\n",
       "3         23.68  3.31    Male     No   Sun  Dinner     2\n",
       "4         24.59  3.61  Female     No   Sun  Dinner     4\n",
       "..          ...   ...     ...    ...   ...     ...   ...\n",
       "271       20.65  3.35    Male     No  None  Dinner     5\n",
       "272       16.99  1.01  Female   None   Sun  Dinner     2\n",
       "273       10.34  1.66    None     No   Sun  Dinner     3\n",
       "274       20.65  3.35    Male     No  None  Dinner     4\n",
       "275       20.65  3.35    Male     No  None  Dinner     5\n",
       "\n",
       "[276 rows x 7 columns]"
      ]
     },
     "execution_count": 4,
     "metadata": {},
     "output_type": "execute_result"
    }
   ],
   "source": [
    "tips #불러온 데이터셋 확인"
   ]
  },
  {
   "cell_type": "code",
   "execution_count": 5,
   "id": "ebf16ff1-7fa7-42a5-995d-7e41a6ca4185",
   "metadata": {},
   "outputs": [],
   "source": [
    "tip_rate = tips.tip / tips.total_bill"
   ]
  },
  {
   "cell_type": "code",
   "execution_count": 6,
   "id": "109d4b1c-9982-421a-bbc3-b8f814e92a50",
   "metadata": {},
   "outputs": [],
   "source": [
    "tips['tip_rate'] = tip_rate"
   ]
  },
  {
   "cell_type": "code",
   "execution_count": 7,
   "id": "ed5eb1df-e9cc-4d83-bf3e-63ec838d8ddb",
   "metadata": {},
   "outputs": [
    {
     "data": {
      "text/plain": [
       "total_bill     0\n",
       "tip            0\n",
       "sex            7\n",
       "smoker         7\n",
       "day           14\n",
       "time           0\n",
       "size           0\n",
       "tip_rate       0\n",
       "dtype: int64"
      ]
     },
     "execution_count": 7,
     "metadata": {},
     "output_type": "execute_result"
    }
   ],
   "source": [
    "tips.isnull().sum() #결측치 확인"
   ]
  },
  {
   "cell_type": "markdown",
   "id": "3b5bf9d1-7a45-42e5-b7f7-c4693f6bb1c0",
   "metadata": {},
   "source": [
    "인코딩(바이너리, 라벨)"
   ]
  },
  {
   "cell_type": "code",
   "execution_count": 8,
   "id": "62b91d79-e5f0-45cf-bb39-63cb45b6a258",
   "metadata": {},
   "outputs": [],
   "source": [
    "tips[\"sex\"] = tips[\"sex\"].replace({\"Female\" : 0, \"Male\" : 1})\n",
    "tips[\"smoker\"] = tips[\"smoker\"].replace({\"No\" : 0, \"Yes\" : 1})\n",
    "tips[\"day\"] = tips[\"day\"].replace({\"Thur\" : 0, \"Fri\" : 1, \"Sat\" : 2, \"Sun\" : 3})\n",
    "tips[\"time\"] = tips[\"time\"].replace({\"Lunch\" : 0, \"Dinner\" : 1})"
   ]
  },
  {
   "cell_type": "code",
   "execution_count": null,
   "id": "62412c71-24d9-4a99-9bcf-b1e467e7e164",
   "metadata": {},
   "outputs": [],
   "source": []
  },
  {
   "cell_type": "markdown",
   "id": "f442d524-82c4-41d2-a77f-a85f285d8ffa",
   "metadata": {},
   "source": [
    "#결측치제거"
   ]
  },
  {
   "cell_type": "code",
   "execution_count": 9,
   "id": "ae4b51bc-da35-4f98-8edc-ea7365b42c80",
   "metadata": {},
   "outputs": [],
   "source": [
    "from sklearn.impute import SimpleImputer # 결측치제거 모듈 호출"
   ]
  },
  {
   "cell_type": "code",
   "execution_count": 10,
   "id": "7d5e7bf1-31fc-47bc-af7d-e20836a870cf",
   "metadata": {},
   "outputs": [],
   "source": [
    "y = tips['tip'] #목표변수 지정"
   ]
  },
  {
   "cell_type": "code",
   "execution_count": 11,
   "id": "d4f10f08-14d8-4ec7-85f7-945f50744def",
   "metadata": {},
   "outputs": [],
   "source": [
    "tips_array = tips.drop('tip', axis = 1) #데이터프레임에서 목표변수를 제거한 데이터셋 생성, axis는 적용할 축(0 = index, 1 = columns)"
   ]
  },
  {
   "cell_type": "code",
   "execution_count": 12,
   "id": "f979a85d-456c-49bc-a580-20a289a23531",
   "metadata": {},
   "outputs": [],
   "source": [
    "tips_array = tips_array.values #array 전환, imputer가 df를 읽지 못하기때문"
   ]
  },
  {
   "cell_type": "code",
   "execution_count": 13,
   "id": "bdf208b6-2115-40ab-8db3-a924ac1d3567",
   "metadata": {},
   "outputs": [
    {
     "data": {
      "text/plain": [
       "SimpleImputer()"
      ]
     },
     "execution_count": 13,
     "metadata": {},
     "output_type": "execute_result"
    }
   ],
   "source": [
    "# define imputer\n",
    "imputer = SimpleImputer(strategy='mean')\n",
    "\n",
    "# fit on the dataset\n",
    "imputer.fit(tips_array)"
   ]
  },
  {
   "cell_type": "code",
   "execution_count": 14,
   "id": "de540c25-a4ff-4687-ac40-73d966b607c1",
   "metadata": {},
   "outputs": [
    {
     "name": "stdout",
     "output_type": "stream",
     "text": [
      "Missing: 0\n"
     ]
    }
   ],
   "source": [
    "# transform the dataset\n",
    "Xtrans = imputer.transform(tips_array)\n",
    "\n",
    "# print total missing\n",
    "print('Missing: %d' % sum(np.isnan(Xtrans).flatten()))"
   ]
  },
  {
   "cell_type": "code",
   "execution_count": 15,
   "id": "a83518fa-cda2-4a34-96a2-08578ebe9c5e",
   "metadata": {},
   "outputs": [],
   "source": [
    "df_tips = pd.DataFrame(Xtrans) #결측치 제거 데이터셋을 데이터 프레임으로 전환"
   ]
  },
  {
   "cell_type": "code",
   "execution_count": 16,
   "id": "5e63f465-94a4-4424-bec0-ba54297a3d88",
   "metadata": {},
   "outputs": [
    {
     "data": {
      "text/html": [
       "<div>\n",
       "<style scoped>\n",
       "    .dataframe tbody tr th:only-of-type {\n",
       "        vertical-align: middle;\n",
       "    }\n",
       "\n",
       "    .dataframe tbody tr th {\n",
       "        vertical-align: top;\n",
       "    }\n",
       "\n",
       "    .dataframe thead th {\n",
       "        text-align: right;\n",
       "    }\n",
       "</style>\n",
       "<table border=\"1\" class=\"dataframe\">\n",
       "  <thead>\n",
       "    <tr style=\"text-align: right;\">\n",
       "      <th></th>\n",
       "      <th>0</th>\n",
       "      <th>1</th>\n",
       "      <th>2</th>\n",
       "      <th>3</th>\n",
       "      <th>4</th>\n",
       "      <th>5</th>\n",
       "      <th>6</th>\n",
       "    </tr>\n",
       "  </thead>\n",
       "  <tbody>\n",
       "    <tr>\n",
       "      <th>count</th>\n",
       "      <td>276.000000</td>\n",
       "      <td>276.000000</td>\n",
       "      <td>276.000000</td>\n",
       "      <td>276.000000</td>\n",
       "      <td>276.000000</td>\n",
       "      <td>276.000000</td>\n",
       "      <td>276.000000</td>\n",
       "    </tr>\n",
       "    <tr>\n",
       "      <th>mean</th>\n",
       "      <td>19.478768</td>\n",
       "      <td>0.635688</td>\n",
       "      <td>0.345725</td>\n",
       "      <td>1.812977</td>\n",
       "      <td>0.753623</td>\n",
       "      <td>2.655797</td>\n",
       "      <td>0.156829</td>\n",
       "    </tr>\n",
       "    <tr>\n",
       "      <th>std</th>\n",
       "      <td>8.518097</td>\n",
       "      <td>0.475958</td>\n",
       "      <td>0.470387</td>\n",
       "      <td>1.131107</td>\n",
       "      <td>0.431683</td>\n",
       "      <td>1.005983</td>\n",
       "      <td>0.060753</td>\n",
       "    </tr>\n",
       "    <tr>\n",
       "      <th>min</th>\n",
       "      <td>3.070000</td>\n",
       "      <td>0.000000</td>\n",
       "      <td>0.000000</td>\n",
       "      <td>0.000000</td>\n",
       "      <td>0.000000</td>\n",
       "      <td>1.000000</td>\n",
       "      <td>0.035638</td>\n",
       "    </tr>\n",
       "    <tr>\n",
       "      <th>25%</th>\n",
       "      <td>13.385000</td>\n",
       "      <td>0.000000</td>\n",
       "      <td>0.000000</td>\n",
       "      <td>1.000000</td>\n",
       "      <td>1.000000</td>\n",
       "      <td>2.000000</td>\n",
       "      <td>0.125340</td>\n",
       "    </tr>\n",
       "    <tr>\n",
       "      <th>50%</th>\n",
       "      <td>17.550000</td>\n",
       "      <td>1.000000</td>\n",
       "      <td>0.000000</td>\n",
       "      <td>2.000000</td>\n",
       "      <td>1.000000</td>\n",
       "      <td>2.000000</td>\n",
       "      <td>0.156805</td>\n",
       "    </tr>\n",
       "    <tr>\n",
       "      <th>75%</th>\n",
       "      <td>22.890000</td>\n",
       "      <td>1.000000</td>\n",
       "      <td>1.000000</td>\n",
       "      <td>3.000000</td>\n",
       "      <td>1.000000</td>\n",
       "      <td>3.000000</td>\n",
       "      <td>0.185401</td>\n",
       "    </tr>\n",
       "    <tr>\n",
       "      <th>max</th>\n",
       "      <td>50.810000</td>\n",
       "      <td>1.000000</td>\n",
       "      <td>1.000000</td>\n",
       "      <td>3.000000</td>\n",
       "      <td>1.000000</td>\n",
       "      <td>6.000000</td>\n",
       "      <td>0.710345</td>\n",
       "    </tr>\n",
       "  </tbody>\n",
       "</table>\n",
       "</div>"
      ],
      "text/plain": [
       "                0           1           2           3           4           5  \\\n",
       "count  276.000000  276.000000  276.000000  276.000000  276.000000  276.000000   \n",
       "mean    19.478768    0.635688    0.345725    1.812977    0.753623    2.655797   \n",
       "std      8.518097    0.475958    0.470387    1.131107    0.431683    1.005983   \n",
       "min      3.070000    0.000000    0.000000    0.000000    0.000000    1.000000   \n",
       "25%     13.385000    0.000000    0.000000    1.000000    1.000000    2.000000   \n",
       "50%     17.550000    1.000000    0.000000    2.000000    1.000000    2.000000   \n",
       "75%     22.890000    1.000000    1.000000    3.000000    1.000000    3.000000   \n",
       "max     50.810000    1.000000    1.000000    3.000000    1.000000    6.000000   \n",
       "\n",
       "                6  \n",
       "count  276.000000  \n",
       "mean     0.156829  \n",
       "std      0.060753  \n",
       "min      0.035638  \n",
       "25%      0.125340  \n",
       "50%      0.156805  \n",
       "75%      0.185401  \n",
       "max      0.710345  "
      ]
     },
     "execution_count": 16,
     "metadata": {},
     "output_type": "execute_result"
    }
   ],
   "source": [
    "df_tips.describe() #데이터프레임 확인"
   ]
  },
  {
   "cell_type": "markdown",
   "id": "24e2564d-98cf-499c-b207-1397597f54be",
   "metadata": {},
   "source": [
    "RFE"
   ]
  },
  {
   "cell_type": "code",
   "execution_count": 17,
   "id": "ec9d34a3-ec06-47d3-ad35-95cff7e1c9f1",
   "metadata": {},
   "outputs": [],
   "source": [
    "from sklearn.feature_selection import RFE\n",
    "from sklearn.svm import SVR\n",
    "estimator = SVR(kernel='linear')"
   ]
  },
  {
   "cell_type": "code",
   "execution_count": 18,
   "id": "581e017a-7d49-4d58-9909-20d5de80cdd5",
   "metadata": {},
   "outputs": [
    {
     "data": {
      "text/plain": [
       "array([ True, False,  True, False, False,  True,  True])"
      ]
     },
     "execution_count": 18,
     "metadata": {},
     "output_type": "execute_result"
    }
   ],
   "source": [
    "# define RFE\n",
    "rfe = RFE(estimator, n_features_to_select=4) #4개 변수 추출\n",
    "# fit RFE\n",
    "select = rfe.fit(df_tips, y) #y는 목표변수 tip\n",
    "select.support_ #선택된 값 확인"
   ]
  },
  {
   "cell_type": "code",
   "execution_count": 19,
   "id": "f5d8aa03-fc91-46a5-9e8e-a350b2cc3a5b",
   "metadata": {},
   "outputs": [
    {
     "name": "stdout",
     "output_type": "stream",
     "text": [
      "Column: 0, Selected=True, Rank: 1\n",
      "Column: 1, Selected=False, Rank: 4\n",
      "Column: 2, Selected=True, Rank: 1\n",
      "Column: 3, Selected=False, Rank: 3\n",
      "Column: 4, Selected=False, Rank: 2\n",
      "Column: 5, Selected=True, Rank: 1\n",
      "Column: 6, Selected=True, Rank: 1\n"
     ]
    }
   ],
   "source": [
    "# summarize all features #결과값 표시 0,3,4,5 선택\n",
    "for i in range(df_tips.shape[1]):\n",
    "  print('Column: %d, Selected=%s, Rank: %d' % (i, rfe.support_[i], rfe.ranking_[i]))"
   ]
  },
  {
   "cell_type": "markdown",
   "id": "57c50f48-930f-46c1-a8e8-dffa1bbdb926",
   "metadata": {},
   "source": [
    "Regression feature selection"
   ]
  },
  {
   "cell_type": "code",
   "execution_count": 20,
   "id": "4106ae6b-7385-4ce0-9e7e-56f7e10e71e3",
   "metadata": {},
   "outputs": [],
   "source": [
    "#feature selection 호출\n",
    "from sklearn.feature_selection import SelectKBest\n",
    "from sklearn.feature_selection import f_regression "
   ]
  },
  {
   "cell_type": "code",
   "execution_count": 21,
   "id": "e2799b5d-ef64-4da0-b47d-6a26f196a7bd",
   "metadata": {},
   "outputs": [],
   "source": [
    "# define feature selection 선택 종류와 개수 설정\n",
    "fs = SelectKBest(score_func=f_regression, k=4)"
   ]
  },
  {
   "cell_type": "code",
   "execution_count": 22,
   "id": "5fc33503-6ac8-467f-824b-71a209ca1218",
   "metadata": {},
   "outputs": [
    {
     "name": "stdout",
     "output_type": "stream",
     "text": [
      "(276, 4)\n"
     ]
    }
   ],
   "source": [
    "#실행\n",
    "# apply feature selection\n",
    "X_selected = fs.fit_transform(df_tips, y)\n",
    "\n",
    "print(X_selected.shape)\n"
   ]
  },
  {
   "cell_type": "markdown",
   "id": "fa8b2b27-0f77-4cc8-a823-315f3b03bff0",
   "metadata": {},
   "source": [
    "PCA"
   ]
  },
  {
   "cell_type": "code",
   "execution_count": 23,
   "id": "42bb3041-d2e2-42e6-861e-caedfa2df2b5",
   "metadata": {},
   "outputs": [],
   "source": [
    "#PCA호출\n",
    "from sklearn.decomposition import PCA"
   ]
  },
  {
   "cell_type": "code",
   "execution_count": 24,
   "id": "f914da6a-55d0-455a-80f4-a2a2179d9fac",
   "metadata": {},
   "outputs": [
    {
     "name": "stdout",
     "output_type": "stream",
     "text": [
      "[[-2.51059805 -1.14704287 -0.61972253  0.74829909]\n",
      " [-9.07404305 -1.50877356  0.79948462 -0.25075255]\n",
      " [ 1.57224459 -1.23266395  0.17863205 -0.16312943]]\n"
     ]
    }
   ],
   "source": [
    "# define the transform #PCA는 목표변수 설정이 필요하지 않음\n",
    "trans = PCA(n_components=4)\n",
    "\n",
    "# transform the data\n",
    "X_dim = trans.fit_transform(df_tips)\n",
    "\n",
    "# summarize data after the transform\n",
    "print(X_dim[:3, :])"
   ]
  },
  {
   "cell_type": "markdown",
   "id": "f65c014f-d2e2-487f-8812-2d3e83f4175d",
   "metadata": {},
   "source": [
    "Nomalization, Standadization"
   ]
  },
  {
   "cell_type": "code",
   "execution_count": 25,
   "id": "db359b5f-824a-4e7a-90df-29bcaa77b383",
   "metadata": {},
   "outputs": [],
   "source": [
    "#Nomalization 호출\n",
    "from sklearn.preprocessing import MinMaxScaler\n",
    "#Standardization 호출\n",
    "from sklearn.preprocessing import StandardScaler\n"
   ]
  },
  {
   "cell_type": "code",
   "execution_count": 26,
   "id": "a3de173f-4fd4-4921-886b-1a9a4796ccf7",
   "metadata": {},
   "outputs": [
    {
     "name": "stdout",
     "output_type": "stream",
     "text": [
      "[[0.29157939 0.         0.         1.         1.         0.2\n",
      "  0.03528733]\n",
      " [0.1522832  1.         0.         1.         1.         0.4\n",
      "  0.18512259]\n",
      " [0.3757855  1.         0.         1.         1.         0.4\n",
      "  0.19408316]]\n"
     ]
    }
   ],
   "source": [
    "#Nomalization 적용\n",
    "# define the scaler\n",
    "trans = MinMaxScaler()\n",
    "\n",
    "# transform the data\n",
    "X_norm = trans.fit_transform(df_tips)\n",
    "\n",
    "# summarize data after the transform\n",
    "print(X_norm[:3, :])"
   ]
  },
  {
   "cell_type": "code",
   "execution_count": 27,
   "id": "cb5027ce-39bb-4f57-bec1-d6b36423465a",
   "metadata": {},
   "outputs": [],
   "source": [
    "#Standardization 적용\n",
    "sc = StandardScaler()\n",
    "X_train = sc.fit_transform(df_tips)\n",
    "df_std = pd.DataFrame(X_train)"
   ]
  },
  {
   "cell_type": "code",
   "execution_count": 28,
   "id": "e00b1f9f-acf8-4054-ad2f-d948d3ae594b",
   "metadata": {},
   "outputs": [],
   "source": [
    "#Nomalization 확인"
   ]
  },
  {
   "cell_type": "code",
   "execution_count": 29,
   "id": "8cc4c7ef-0c76-489e-b541-6ca1fc1c0b3f",
   "metadata": {},
   "outputs": [
    {
     "data": {
      "text/html": [
       "<div>\n",
       "<style scoped>\n",
       "    .dataframe tbody tr th:only-of-type {\n",
       "        vertical-align: middle;\n",
       "    }\n",
       "\n",
       "    .dataframe tbody tr th {\n",
       "        vertical-align: top;\n",
       "    }\n",
       "\n",
       "    .dataframe thead th {\n",
       "        text-align: right;\n",
       "    }\n",
       "</style>\n",
       "<table border=\"1\" class=\"dataframe\">\n",
       "  <thead>\n",
       "    <tr style=\"text-align: right;\">\n",
       "      <th></th>\n",
       "      <th>0</th>\n",
       "      <th>1</th>\n",
       "      <th>2</th>\n",
       "      <th>3</th>\n",
       "      <th>4</th>\n",
       "      <th>5</th>\n",
       "      <th>6</th>\n",
       "    </tr>\n",
       "  </thead>\n",
       "  <tbody>\n",
       "    <tr>\n",
       "      <th>count</th>\n",
       "      <td>276.000000</td>\n",
       "      <td>276.000000</td>\n",
       "      <td>276.000000</td>\n",
       "      <td>276.000000</td>\n",
       "      <td>276.000000</td>\n",
       "      <td>276.000000</td>\n",
       "      <td>276.000000</td>\n",
       "    </tr>\n",
       "    <tr>\n",
       "      <th>mean</th>\n",
       "      <td>0.343711</td>\n",
       "      <td>0.635688</td>\n",
       "      <td>0.345725</td>\n",
       "      <td>0.604326</td>\n",
       "      <td>0.753623</td>\n",
       "      <td>0.331159</td>\n",
       "      <td>0.179620</td>\n",
       "    </tr>\n",
       "    <tr>\n",
       "      <th>std</th>\n",
       "      <td>0.178427</td>\n",
       "      <td>0.475958</td>\n",
       "      <td>0.470387</td>\n",
       "      <td>0.377036</td>\n",
       "      <td>0.431683</td>\n",
       "      <td>0.201197</td>\n",
       "      <td>0.090044</td>\n",
       "    </tr>\n",
       "    <tr>\n",
       "      <th>min</th>\n",
       "      <td>0.000000</td>\n",
       "      <td>0.000000</td>\n",
       "      <td>0.000000</td>\n",
       "      <td>0.000000</td>\n",
       "      <td>0.000000</td>\n",
       "      <td>0.000000</td>\n",
       "      <td>0.000000</td>\n",
       "    </tr>\n",
       "    <tr>\n",
       "      <th>25%</th>\n",
       "      <td>0.216066</td>\n",
       "      <td>0.000000</td>\n",
       "      <td>0.000000</td>\n",
       "      <td>0.333333</td>\n",
       "      <td>1.000000</td>\n",
       "      <td>0.200000</td>\n",
       "      <td>0.132950</td>\n",
       "    </tr>\n",
       "    <tr>\n",
       "      <th>50%</th>\n",
       "      <td>0.303310</td>\n",
       "      <td>1.000000</td>\n",
       "      <td>0.000000</td>\n",
       "      <td>0.666667</td>\n",
       "      <td>1.000000</td>\n",
       "      <td>0.200000</td>\n",
       "      <td>0.179585</td>\n",
       "    </tr>\n",
       "    <tr>\n",
       "      <th>75%</th>\n",
       "      <td>0.415165</td>\n",
       "      <td>1.000000</td>\n",
       "      <td>1.000000</td>\n",
       "      <td>1.000000</td>\n",
       "      <td>1.000000</td>\n",
       "      <td>0.400000</td>\n",
       "      <td>0.221967</td>\n",
       "    </tr>\n",
       "    <tr>\n",
       "      <th>max</th>\n",
       "      <td>1.000000</td>\n",
       "      <td>1.000000</td>\n",
       "      <td>1.000000</td>\n",
       "      <td>1.000000</td>\n",
       "      <td>1.000000</td>\n",
       "      <td>1.000000</td>\n",
       "      <td>1.000000</td>\n",
       "    </tr>\n",
       "  </tbody>\n",
       "</table>\n",
       "</div>"
      ],
      "text/plain": [
       "                0           1           2           3           4           5  \\\n",
       "count  276.000000  276.000000  276.000000  276.000000  276.000000  276.000000   \n",
       "mean     0.343711    0.635688    0.345725    0.604326    0.753623    0.331159   \n",
       "std      0.178427    0.475958    0.470387    0.377036    0.431683    0.201197   \n",
       "min      0.000000    0.000000    0.000000    0.000000    0.000000    0.000000   \n",
       "25%      0.216066    0.000000    0.000000    0.333333    1.000000    0.200000   \n",
       "50%      0.303310    1.000000    0.000000    0.666667    1.000000    0.200000   \n",
       "75%      0.415165    1.000000    1.000000    1.000000    1.000000    0.400000   \n",
       "max      1.000000    1.000000    1.000000    1.000000    1.000000    1.000000   \n",
       "\n",
       "                6  \n",
       "count  276.000000  \n",
       "mean     0.179620  \n",
       "std      0.090044  \n",
       "min      0.000000  \n",
       "25%      0.132950  \n",
       "50%      0.179585  \n",
       "75%      0.221967  \n",
       "max      1.000000  "
      ]
     },
     "execution_count": 29,
     "metadata": {},
     "output_type": "execute_result"
    }
   ],
   "source": [
    "pd.DataFrame(X_norm).describe()#값이 0과 1"
   ]
  },
  {
   "cell_type": "code",
   "execution_count": 30,
   "id": "b9242b88-a2e0-47ec-b7b5-fadb4d54b02c",
   "metadata": {},
   "outputs": [],
   "source": [
    "#Standardization 확인"
   ]
  },
  {
   "cell_type": "code",
   "execution_count": 31,
   "id": "bb554522-9780-48d6-bc12-57f15551a9a7",
   "metadata": {},
   "outputs": [
    {
     "data": {
      "text/html": [
       "<div>\n",
       "<style scoped>\n",
       "    .dataframe tbody tr th:only-of-type {\n",
       "        vertical-align: middle;\n",
       "    }\n",
       "\n",
       "    .dataframe tbody tr th {\n",
       "        vertical-align: top;\n",
       "    }\n",
       "\n",
       "    .dataframe thead th {\n",
       "        text-align: right;\n",
       "    }\n",
       "</style>\n",
       "<table border=\"1\" class=\"dataframe\">\n",
       "  <thead>\n",
       "    <tr style=\"text-align: right;\">\n",
       "      <th></th>\n",
       "      <th>0</th>\n",
       "      <th>1</th>\n",
       "      <th>2</th>\n",
       "      <th>3</th>\n",
       "      <th>4</th>\n",
       "      <th>5</th>\n",
       "      <th>6</th>\n",
       "    </tr>\n",
       "  </thead>\n",
       "  <tbody>\n",
       "    <tr>\n",
       "      <th>count</th>\n",
       "      <td>276.0</td>\n",
       "      <td>276.0</td>\n",
       "      <td>276.0</td>\n",
       "      <td>276.0</td>\n",
       "      <td>276.0</td>\n",
       "      <td>276.0</td>\n",
       "      <td>276.0</td>\n",
       "    </tr>\n",
       "    <tr>\n",
       "      <th>mean</th>\n",
       "      <td>-0.0</td>\n",
       "      <td>0.0</td>\n",
       "      <td>0.0</td>\n",
       "      <td>0.0</td>\n",
       "      <td>-0.0</td>\n",
       "      <td>0.0</td>\n",
       "      <td>0.0</td>\n",
       "    </tr>\n",
       "    <tr>\n",
       "      <th>std</th>\n",
       "      <td>1.0</td>\n",
       "      <td>1.0</td>\n",
       "      <td>1.0</td>\n",
       "      <td>1.0</td>\n",
       "      <td>1.0</td>\n",
       "      <td>1.0</td>\n",
       "      <td>1.0</td>\n",
       "    </tr>\n",
       "    <tr>\n",
       "      <th>min</th>\n",
       "      <td>-2.0</td>\n",
       "      <td>-1.0</td>\n",
       "      <td>-1.0</td>\n",
       "      <td>-2.0</td>\n",
       "      <td>-2.0</td>\n",
       "      <td>-2.0</td>\n",
       "      <td>-2.0</td>\n",
       "    </tr>\n",
       "    <tr>\n",
       "      <th>25%</th>\n",
       "      <td>-1.0</td>\n",
       "      <td>-1.0</td>\n",
       "      <td>-1.0</td>\n",
       "      <td>-1.0</td>\n",
       "      <td>1.0</td>\n",
       "      <td>-1.0</td>\n",
       "      <td>-1.0</td>\n",
       "    </tr>\n",
       "    <tr>\n",
       "      <th>50%</th>\n",
       "      <td>-0.0</td>\n",
       "      <td>1.0</td>\n",
       "      <td>-1.0</td>\n",
       "      <td>0.0</td>\n",
       "      <td>1.0</td>\n",
       "      <td>-1.0</td>\n",
       "      <td>-0.0</td>\n",
       "    </tr>\n",
       "    <tr>\n",
       "      <th>75%</th>\n",
       "      <td>0.0</td>\n",
       "      <td>1.0</td>\n",
       "      <td>1.0</td>\n",
       "      <td>1.0</td>\n",
       "      <td>1.0</td>\n",
       "      <td>0.0</td>\n",
       "      <td>0.0</td>\n",
       "    </tr>\n",
       "    <tr>\n",
       "      <th>max</th>\n",
       "      <td>4.0</td>\n",
       "      <td>1.0</td>\n",
       "      <td>1.0</td>\n",
       "      <td>1.0</td>\n",
       "      <td>1.0</td>\n",
       "      <td>3.0</td>\n",
       "      <td>9.0</td>\n",
       "    </tr>\n",
       "  </tbody>\n",
       "</table>\n",
       "</div>"
      ],
      "text/plain": [
       "           0      1      2      3      4      5      6\n",
       "count  276.0  276.0  276.0  276.0  276.0  276.0  276.0\n",
       "mean    -0.0    0.0    0.0    0.0   -0.0    0.0    0.0\n",
       "std      1.0    1.0    1.0    1.0    1.0    1.0    1.0\n",
       "min     -2.0   -1.0   -1.0   -2.0   -2.0   -2.0   -2.0\n",
       "25%     -1.0   -1.0   -1.0   -1.0    1.0   -1.0   -1.0\n",
       "50%     -0.0    1.0   -1.0    0.0    1.0   -1.0   -0.0\n",
       "75%      0.0    1.0    1.0    1.0    1.0    0.0    0.0\n",
       "max      4.0    1.0    1.0    1.0    1.0    3.0    9.0"
      ]
     },
     "execution_count": 31,
     "metadata": {},
     "output_type": "execute_result"
    }
   ],
   "source": [
    "df_std.describe().round() #평균은 0 분산은 1"
   ]
  },
  {
   "cell_type": "code",
   "execution_count": null,
   "id": "bd664f92-a7c3-4d36-8dc2-5776048659eb",
   "metadata": {},
   "outputs": [],
   "source": []
  }
 ],
 "metadata": {
  "kernelspec": {
   "display_name": "Python Multi",
   "language": "python",
   "name": "multi"
  },
  "language_info": {
   "codemirror_mode": {
    "name": "ipython",
    "version": 3
   },
   "file_extension": ".py",
   "mimetype": "text/x-python",
   "name": "python",
   "nbconvert_exporter": "python",
   "pygments_lexer": "ipython3",
   "version": "3.7.6"
  }
 },
 "nbformat": 4,
 "nbformat_minor": 5
}
