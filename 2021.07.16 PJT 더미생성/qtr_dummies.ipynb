{
 "cells": [
  {
   "cell_type": "code",
   "execution_count": 1,
   "id": "196d8b12-734a-406f-8785-399bae1f54a9",
   "metadata": {},
   "outputs": [],
   "source": [
    "import pandas as pd"
   ]
  },
  {
   "cell_type": "code",
   "execution_count": 2,
   "id": "dfa3e4e0-b59c-4e12-8281-a2192e3cfbb4",
   "metadata": {},
   "outputs": [],
   "source": [
    "import numpy as np"
   ]
  },
  {
   "cell_type": "code",
   "execution_count": null,
   "id": "76dff3fb-7875-43f3-8d42-68b6bc629419",
   "metadata": {},
   "outputs": [],
   "source": [
    "# SocialDistance = ['사회적거리두기1','사회적거리두기1','사회적거리두기2','사회적거리두기2','사회적거리두기2','사회적거리두기1','사회적거리두기1','사회적거리두기2','사회적거리두기2','사회적거리두기2','사회적거리두기2',\n",
    "#                               '사회적거리두기2','사회적거리두기2','사회적거리두기2','사회적거리두기2','사회적거리두기2','사회적거리두기2','사회적거리두기2','사회적거리두기2','사회적거리두기2','사회적거리두기2','사회적거리두기2',\n",
    "#                               '사회적거리두기2','사회적거리두기2'] #사회적 거리두기 리스트 생성"
   ]
  },
  {
   "cell_type": "code",
   "execution_count": null,
   "id": "dc490026-0a02-4ed9-bf6b-973262bcf121",
   "metadata": {},
   "outputs": [],
   "source": [
    "df = pd.date_range('2019-01-01', periods = 731, freq = 'D') #월별 날짜 데이터 생성"
   ]
  },
  {
   "cell_type": "code",
   "execution_count": null,
   "id": "da9cd9f0-22d2-47f3-ab99-47c2b576251e",
   "metadata": {},
   "outputs": [],
   "source": [
    "df = pd.DataFrame(df, columns = ['Date']) #컬럼명 지정"
   ]
  },
  {
   "cell_type": "code",
   "execution_count": null,
   "id": "4fe5c82b-1a24-48c0-97e2-5dd95139ce01",
   "metadata": {},
   "outputs": [],
   "source": [
    "# dates['social_dst'] = SocialDistance"
   ]
  },
  {
   "cell_type": "code",
   "execution_count": null,
   "id": "35c572cc-ec5d-4fb1-99b5-a1338c0249be",
   "metadata": {},
   "outputs": [],
   "source": [
    "df['social_dst'] = np.NaN"
   ]
  },
  {
   "cell_type": "code",
   "execution_count": null,
   "id": "b9af9220-7f6a-41c7-95c3-9343a1f850d8",
   "metadata": {},
   "outputs": [],
   "source": [
    "df = df.fillna(1)"
   ]
  },
  {
   "cell_type": "code",
   "execution_count": null,
   "id": "33c901f0-dd9c-43bb-81ca-6c60fc910f92",
   "metadata": {},
   "outputs": [],
   "source": [
    "filtered_df = df[df[\"Date\"].isin(pd.date_range('2020-02-29', '2020-05-05'))]\n",
    "filtered_df1 = df[df[\"Date\"].isin(pd.date_range('2020-08-16', '2020-10-11'))]\n",
    "filtered_df2 = df[df[\"Date\"].isin(pd.date_range('2020-11-24', '2020-12-31'))]"
   ]
  },
  {
   "cell_type": "code",
   "execution_count": null,
   "id": "7140e173-1c8c-4918-99b6-83ae593b6b56",
   "metadata": {},
   "outputs": [],
   "source": [
    "filtered_df2"
   ]
  },
  {
   "cell_type": "code",
   "execution_count": null,
   "id": "cdf81feb-b7e5-49fc-b552-0986596d5d2a",
   "metadata": {},
   "outputs": [],
   "source": [
    "df.iloc[424:491, 1] = 2"
   ]
  },
  {
   "cell_type": "code",
   "execution_count": null,
   "id": "5d006d11-d9d4-455d-a5f3-448009ef9095",
   "metadata": {},
   "outputs": [],
   "source": [
    "df.iloc[593:650, 1] = 2"
   ]
  },
  {
   "cell_type": "code",
   "execution_count": null,
   "id": "36fffb98-2f3e-470a-9d50-a209454d6655",
   "metadata": {},
   "outputs": [],
   "source": [
    "df.iloc[693:731, 1] = 2"
   ]
  },
  {
   "cell_type": "code",
   "execution_count": null,
   "id": "11b25cee-64ca-45ba-b4e5-d732059992b4",
   "metadata": {},
   "outputs": [],
   "source": [
    "df['social_dst'].sum()"
   ]
  },
  {
   "cell_type": "code",
   "execution_count": null,
   "id": "4c9eb7cd-119f-4ee2-b5d1-acec4930b820",
   "metadata": {},
   "outputs": [],
   "source": [
    "df.to_csv('social_dst.csv')"
   ]
  },
  {
   "cell_type": "code",
   "execution_count": 3,
   "id": "eba486d8-6e7f-40dc-922a-0b5640fc236e",
   "metadata": {},
   "outputs": [],
   "source": [
    "dfdf = pd.date_range('2019-01-01', '2020-12-31', freq = 'QS')"
   ]
  },
  {
   "cell_type": "code",
   "execution_count": 4,
   "id": "6bbbfc31-b826-4fa4-a3df-1e6738b4146a",
   "metadata": {},
   "outputs": [],
   "source": [
    "dfdf = pd.DataFrame(dfdf, columns = ['year_qtr'])"
   ]
  },
  {
   "cell_type": "code",
   "execution_count": 5,
   "id": "365e0207-ff3c-439f-b16b-f8665bb07593",
   "metadata": {},
   "outputs": [
    {
     "data": {
      "text/html": [
       "<div>\n",
       "<style scoped>\n",
       "    .dataframe tbody tr th:only-of-type {\n",
       "        vertical-align: middle;\n",
       "    }\n",
       "\n",
       "    .dataframe tbody tr th {\n",
       "        vertical-align: top;\n",
       "    }\n",
       "\n",
       "    .dataframe thead th {\n",
       "        text-align: right;\n",
       "    }\n",
       "</style>\n",
       "<table border=\"1\" class=\"dataframe\">\n",
       "  <thead>\n",
       "    <tr style=\"text-align: right;\">\n",
       "      <th></th>\n",
       "      <th>year_qtr</th>\n",
       "    </tr>\n",
       "  </thead>\n",
       "  <tbody>\n",
       "    <tr>\n",
       "      <th>0</th>\n",
       "      <td>2019-01-01</td>\n",
       "    </tr>\n",
       "    <tr>\n",
       "      <th>1</th>\n",
       "      <td>2019-04-01</td>\n",
       "    </tr>\n",
       "    <tr>\n",
       "      <th>2</th>\n",
       "      <td>2019-07-01</td>\n",
       "    </tr>\n",
       "    <tr>\n",
       "      <th>3</th>\n",
       "      <td>2019-10-01</td>\n",
       "    </tr>\n",
       "    <tr>\n",
       "      <th>4</th>\n",
       "      <td>2020-01-01</td>\n",
       "    </tr>\n",
       "    <tr>\n",
       "      <th>5</th>\n",
       "      <td>2020-04-01</td>\n",
       "    </tr>\n",
       "    <tr>\n",
       "      <th>6</th>\n",
       "      <td>2020-07-01</td>\n",
       "    </tr>\n",
       "    <tr>\n",
       "      <th>7</th>\n",
       "      <td>2020-10-01</td>\n",
       "    </tr>\n",
       "  </tbody>\n",
       "</table>\n",
       "</div>"
      ],
      "text/plain": [
       "    year_qtr\n",
       "0 2019-01-01\n",
       "1 2019-04-01\n",
       "2 2019-07-01\n",
       "3 2019-10-01\n",
       "4 2020-01-01\n",
       "5 2020-04-01\n",
       "6 2020-07-01\n",
       "7 2020-10-01"
      ]
     },
     "execution_count": 5,
     "metadata": {},
     "output_type": "execute_result"
    }
   ],
   "source": [
    "dfdf"
   ]
  },
  {
   "cell_type": "code",
   "execution_count": 6,
   "id": "c564fc8a-9f28-42ce-b064-14ab32fcdac1",
   "metadata": {},
   "outputs": [],
   "source": [
    "social_distance = ['1단계','1단계','1단계','1단계','1단계','1단계','2단계','2단계']"
   ]
  },
  {
   "cell_type": "code",
   "execution_count": 7,
   "id": "8858b07f-a354-46dc-bf27-7e25db231d62",
   "metadata": {},
   "outputs": [],
   "source": [
    "sdst = pd.DataFrame(social_distance, columns = ['사회적거리두기'])"
   ]
  },
  {
   "cell_type": "code",
   "execution_count": 8,
   "id": "1ad94f02-6df3-46fc-b298-8e8bcc703576",
   "metadata": {},
   "outputs": [],
   "source": [
    "sdst = pd.get_dummies(sdst, sparse=True, drop_first=True)"
   ]
  },
  {
   "cell_type": "code",
   "execution_count": 9,
   "id": "f8626a4f-1c0c-477b-ba24-22ce2d55c378",
   "metadata": {},
   "outputs": [
    {
     "data": {
      "text/html": [
       "<div>\n",
       "<style scoped>\n",
       "    .dataframe tbody tr th:only-of-type {\n",
       "        vertical-align: middle;\n",
       "    }\n",
       "\n",
       "    .dataframe tbody tr th {\n",
       "        vertical-align: top;\n",
       "    }\n",
       "\n",
       "    .dataframe thead th {\n",
       "        text-align: right;\n",
       "    }\n",
       "</style>\n",
       "<table border=\"1\" class=\"dataframe\">\n",
       "  <thead>\n",
       "    <tr style=\"text-align: right;\">\n",
       "      <th></th>\n",
       "      <th>사회적거리두기_2단계</th>\n",
       "    </tr>\n",
       "  </thead>\n",
       "  <tbody>\n",
       "    <tr>\n",
       "      <th>0</th>\n",
       "      <td>0</td>\n",
       "    </tr>\n",
       "    <tr>\n",
       "      <th>1</th>\n",
       "      <td>0</td>\n",
       "    </tr>\n",
       "    <tr>\n",
       "      <th>2</th>\n",
       "      <td>0</td>\n",
       "    </tr>\n",
       "    <tr>\n",
       "      <th>3</th>\n",
       "      <td>0</td>\n",
       "    </tr>\n",
       "    <tr>\n",
       "      <th>4</th>\n",
       "      <td>0</td>\n",
       "    </tr>\n",
       "    <tr>\n",
       "      <th>5</th>\n",
       "      <td>0</td>\n",
       "    </tr>\n",
       "    <tr>\n",
       "      <th>6</th>\n",
       "      <td>1</td>\n",
       "    </tr>\n",
       "    <tr>\n",
       "      <th>7</th>\n",
       "      <td>1</td>\n",
       "    </tr>\n",
       "  </tbody>\n",
       "</table>\n",
       "</div>"
      ],
      "text/plain": [
       "   사회적거리두기_2단계\n",
       "0            0\n",
       "1            0\n",
       "2            0\n",
       "3            0\n",
       "4            0\n",
       "5            0\n",
       "6            1\n",
       "7            1"
      ]
     },
     "execution_count": 9,
     "metadata": {},
     "output_type": "execute_result"
    }
   ],
   "source": [
    "sdst"
   ]
  },
  {
   "cell_type": "code",
   "execution_count": 10,
   "id": "f8c8901f-d7e1-4f2c-82cf-6d8361108f0d",
   "metadata": {},
   "outputs": [],
   "source": [
    "money = ['미지급','미지급','미지급','미지급','미지급','지급','지급','미지급']\n",
    "money = pd.DataFrame(money, columns = ['지원금'])\n",
    "money = pd.get_dummies(money, sparse=True, drop_first=True)"
   ]
  },
  {
   "cell_type": "code",
   "execution_count": 11,
   "id": "dd1176f5-3931-430e-baba-303a57ee5915",
   "metadata": {},
   "outputs": [
    {
     "data": {
      "text/html": [
       "<div>\n",
       "<style scoped>\n",
       "    .dataframe tbody tr th:only-of-type {\n",
       "        vertical-align: middle;\n",
       "    }\n",
       "\n",
       "    .dataframe tbody tr th {\n",
       "        vertical-align: top;\n",
       "    }\n",
       "\n",
       "    .dataframe thead th {\n",
       "        text-align: right;\n",
       "    }\n",
       "</style>\n",
       "<table border=\"1\" class=\"dataframe\">\n",
       "  <thead>\n",
       "    <tr style=\"text-align: right;\">\n",
       "      <th></th>\n",
       "      <th>지원금_지급</th>\n",
       "    </tr>\n",
       "  </thead>\n",
       "  <tbody>\n",
       "    <tr>\n",
       "      <th>0</th>\n",
       "      <td>0</td>\n",
       "    </tr>\n",
       "    <tr>\n",
       "      <th>1</th>\n",
       "      <td>0</td>\n",
       "    </tr>\n",
       "    <tr>\n",
       "      <th>2</th>\n",
       "      <td>0</td>\n",
       "    </tr>\n",
       "    <tr>\n",
       "      <th>3</th>\n",
       "      <td>0</td>\n",
       "    </tr>\n",
       "    <tr>\n",
       "      <th>4</th>\n",
       "      <td>0</td>\n",
       "    </tr>\n",
       "    <tr>\n",
       "      <th>5</th>\n",
       "      <td>1</td>\n",
       "    </tr>\n",
       "    <tr>\n",
       "      <th>6</th>\n",
       "      <td>1</td>\n",
       "    </tr>\n",
       "    <tr>\n",
       "      <th>7</th>\n",
       "      <td>0</td>\n",
       "    </tr>\n",
       "  </tbody>\n",
       "</table>\n",
       "</div>"
      ],
      "text/plain": [
       "   지원금_지급\n",
       "0       0\n",
       "1       0\n",
       "2       0\n",
       "3       0\n",
       "4       0\n",
       "5       1\n",
       "6       1\n",
       "7       0"
      ]
     },
     "execution_count": 11,
     "metadata": {},
     "output_type": "execute_result"
    }
   ],
   "source": [
    "money"
   ]
  },
  {
   "cell_type": "code",
   "execution_count": 12,
   "id": "8aa4812e-9eef-4af5-a49c-6926d50644fd",
   "metadata": {},
   "outputs": [],
   "source": [
    "christmas = ['없음','없음','없음','없음','없음','없음','없음','있음']\n",
    "christmas = pd.DataFrame(christmas, columns = ['크리스마스'])\n",
    "christmas = pd.get_dummies(christmas, sparse=True, drop_first=True)"
   ]
  },
  {
   "cell_type": "code",
   "execution_count": 13,
   "id": "f566bfbd-fc39-40e7-8ce1-8ded96dc07ca",
   "metadata": {},
   "outputs": [
    {
     "data": {
      "text/html": [
       "<div>\n",
       "<style scoped>\n",
       "    .dataframe tbody tr th:only-of-type {\n",
       "        vertical-align: middle;\n",
       "    }\n",
       "\n",
       "    .dataframe tbody tr th {\n",
       "        vertical-align: top;\n",
       "    }\n",
       "\n",
       "    .dataframe thead th {\n",
       "        text-align: right;\n",
       "    }\n",
       "</style>\n",
       "<table border=\"1\" class=\"dataframe\">\n",
       "  <thead>\n",
       "    <tr style=\"text-align: right;\">\n",
       "      <th></th>\n",
       "      <th>크리스마스_있음</th>\n",
       "    </tr>\n",
       "  </thead>\n",
       "  <tbody>\n",
       "    <tr>\n",
       "      <th>0</th>\n",
       "      <td>0</td>\n",
       "    </tr>\n",
       "    <tr>\n",
       "      <th>1</th>\n",
       "      <td>0</td>\n",
       "    </tr>\n",
       "    <tr>\n",
       "      <th>2</th>\n",
       "      <td>0</td>\n",
       "    </tr>\n",
       "    <tr>\n",
       "      <th>3</th>\n",
       "      <td>0</td>\n",
       "    </tr>\n",
       "    <tr>\n",
       "      <th>4</th>\n",
       "      <td>0</td>\n",
       "    </tr>\n",
       "    <tr>\n",
       "      <th>5</th>\n",
       "      <td>0</td>\n",
       "    </tr>\n",
       "    <tr>\n",
       "      <th>6</th>\n",
       "      <td>0</td>\n",
       "    </tr>\n",
       "    <tr>\n",
       "      <th>7</th>\n",
       "      <td>1</td>\n",
       "    </tr>\n",
       "  </tbody>\n",
       "</table>\n",
       "</div>"
      ],
      "text/plain": [
       "   크리스마스_있음\n",
       "0         0\n",
       "1         0\n",
       "2         0\n",
       "3         0\n",
       "4         0\n",
       "5         0\n",
       "6         0\n",
       "7         1"
      ]
     },
     "execution_count": 13,
     "metadata": {},
     "output_type": "execute_result"
    }
   ],
   "source": [
    "christmas"
   ]
  },
  {
   "cell_type": "code",
   "execution_count": 14,
   "id": "c24ab66b-c95a-49a0-a9db-557e7f392dd8",
   "metadata": {},
   "outputs": [],
   "source": [
    "dfdf['사회적거리두기_2단계(더미)'] = sdst\n",
    "dfdf['지원금(더미)'] = money\n",
    "dfdf['크리스마스(더미)'] = christmas"
   ]
  },
  {
   "cell_type": "code",
   "execution_count": 15,
   "id": "2e5bd907-ce66-4564-b880-a7e51a7afd82",
   "metadata": {},
   "outputs": [
    {
     "data": {
      "text/html": [
       "<div>\n",
       "<style scoped>\n",
       "    .dataframe tbody tr th:only-of-type {\n",
       "        vertical-align: middle;\n",
       "    }\n",
       "\n",
       "    .dataframe tbody tr th {\n",
       "        vertical-align: top;\n",
       "    }\n",
       "\n",
       "    .dataframe thead th {\n",
       "        text-align: right;\n",
       "    }\n",
       "</style>\n",
       "<table border=\"1\" class=\"dataframe\">\n",
       "  <thead>\n",
       "    <tr style=\"text-align: right;\">\n",
       "      <th></th>\n",
       "      <th>year_qtr</th>\n",
       "      <th>사회적거리두기_2단계(더미)</th>\n",
       "      <th>지원금(더미)</th>\n",
       "      <th>크리스마스(더미)</th>\n",
       "    </tr>\n",
       "  </thead>\n",
       "  <tbody>\n",
       "    <tr>\n",
       "      <th>0</th>\n",
       "      <td>2019-01-01</td>\n",
       "      <td>0</td>\n",
       "      <td>0</td>\n",
       "      <td>0</td>\n",
       "    </tr>\n",
       "    <tr>\n",
       "      <th>1</th>\n",
       "      <td>2019-04-01</td>\n",
       "      <td>0</td>\n",
       "      <td>0</td>\n",
       "      <td>0</td>\n",
       "    </tr>\n",
       "    <tr>\n",
       "      <th>2</th>\n",
       "      <td>2019-07-01</td>\n",
       "      <td>0</td>\n",
       "      <td>0</td>\n",
       "      <td>0</td>\n",
       "    </tr>\n",
       "    <tr>\n",
       "      <th>3</th>\n",
       "      <td>2019-10-01</td>\n",
       "      <td>0</td>\n",
       "      <td>0</td>\n",
       "      <td>0</td>\n",
       "    </tr>\n",
       "    <tr>\n",
       "      <th>4</th>\n",
       "      <td>2020-01-01</td>\n",
       "      <td>0</td>\n",
       "      <td>0</td>\n",
       "      <td>0</td>\n",
       "    </tr>\n",
       "    <tr>\n",
       "      <th>5</th>\n",
       "      <td>2020-04-01</td>\n",
       "      <td>0</td>\n",
       "      <td>1</td>\n",
       "      <td>0</td>\n",
       "    </tr>\n",
       "    <tr>\n",
       "      <th>6</th>\n",
       "      <td>2020-07-01</td>\n",
       "      <td>1</td>\n",
       "      <td>1</td>\n",
       "      <td>0</td>\n",
       "    </tr>\n",
       "    <tr>\n",
       "      <th>7</th>\n",
       "      <td>2020-10-01</td>\n",
       "      <td>1</td>\n",
       "      <td>0</td>\n",
       "      <td>1</td>\n",
       "    </tr>\n",
       "  </tbody>\n",
       "</table>\n",
       "</div>"
      ],
      "text/plain": [
       "    year_qtr  사회적거리두기_2단계(더미)  지원금(더미)  크리스마스(더미)\n",
       "0 2019-01-01                0        0          0\n",
       "1 2019-04-01                0        0          0\n",
       "2 2019-07-01                0        0          0\n",
       "3 2019-10-01                0        0          0\n",
       "4 2020-01-01                0        0          0\n",
       "5 2020-04-01                0        1          0\n",
       "6 2020-07-01                1        1          0\n",
       "7 2020-10-01                1        0          1"
      ]
     },
     "execution_count": 15,
     "metadata": {},
     "output_type": "execute_result"
    }
   ],
   "source": [
    "dfdf"
   ]
  },
  {
   "cell_type": "code",
   "execution_count": 16,
   "id": "e577b931-5627-4501-af3b-5a5804ab5a92",
   "metadata": {},
   "outputs": [],
   "source": [
    "dfdf.to_csv('qtr_dummies.csv')"
   ]
  },
  {
   "cell_type": "code",
   "execution_count": null,
   "id": "7097e4ff-9505-4e33-80a8-787eea576da9",
   "metadata": {},
   "outputs": [],
   "source": []
  }
 ],
 "metadata": {
  "kernelspec": {
   "display_name": "Python Multi",
   "language": "python",
   "name": "multi"
  },
  "language_info": {
   "codemirror_mode": {
    "name": "ipython",
    "version": 3
   },
   "file_extension": ".py",
   "mimetype": "text/x-python",
   "name": "python",
   "nbconvert_exporter": "python",
   "pygments_lexer": "ipython3",
   "version": "3.7.6"
  }
 },
 "nbformat": 4,
 "nbformat_minor": 5
}
