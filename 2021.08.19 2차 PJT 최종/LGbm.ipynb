{
 "cells": [
  {
   "cell_type": "code",
   "execution_count": 1,
   "id": "d05e335c",
   "metadata": {},
   "outputs": [],
   "source": [
    "import numpy as np\n",
    "import pandas as pd\n",
    "import matplotlib.pyplot as plt\n",
    "import seaborn as sns\n",
    "\n",
    "from sklearn.model_selection import train_test_split\n",
    "from sklearn.metrics import mean_squared_error\n",
    "\n",
    "df = pd.read_csv('./seoul_5.csv')"
   ]
  },
  {
   "cell_type": "code",
   "execution_count": 2,
   "id": "bd7b4aa8",
   "metadata": {},
   "outputs": [
    {
     "data": {
      "text/html": [
       "<div>\n",
       "<style scoped>\n",
       "    .dataframe tbody tr th:only-of-type {\n",
       "        vertical-align: middle;\n",
       "    }\n",
       "\n",
       "    .dataframe tbody tr th {\n",
       "        vertical-align: top;\n",
       "    }\n",
       "\n",
       "    .dataframe thead th {\n",
       "        text-align: right;\n",
       "    }\n",
       "</style>\n",
       "<table border=\"1\" class=\"dataframe\">\n",
       "  <thead>\n",
       "    <tr style=\"text-align: right;\">\n",
       "      <th></th>\n",
       "      <th>gu_l</th>\n",
       "      <th>dong_l</th>\n",
       "      <th>used_y</th>\n",
       "      <th>square</th>\n",
       "      <th>per_cost_man</th>\n",
       "      <th>Price per squar</th>\n",
       "      <th>floor</th>\n",
       "      <th>top10</th>\n",
       "      <th>YN_r</th>\n",
       "      <th>YN_top10</th>\n",
       "      <th>s_c</th>\n",
       "      <th>Hospital</th>\n",
       "      <th>cost</th>\n",
       "    </tr>\n",
       "  </thead>\n",
       "  <tbody>\n",
       "    <tr>\n",
       "      <th>0</th>\n",
       "      <td>0</td>\n",
       "      <td>8</td>\n",
       "      <td>32</td>\n",
       "      <td>77.75</td>\n",
       "      <td>1922.829582</td>\n",
       "      <td>2122.127392</td>\n",
       "      <td>7</td>\n",
       "      <td>0</td>\n",
       "      <td>1</td>\n",
       "      <td>1</td>\n",
       "      <td>1</td>\n",
       "      <td>0.0</td>\n",
       "      <td>149500</td>\n",
       "    </tr>\n",
       "    <tr>\n",
       "      <th>1</th>\n",
       "      <td>0</td>\n",
       "      <td>8</td>\n",
       "      <td>33</td>\n",
       "      <td>54.98</td>\n",
       "      <td>2619.134231</td>\n",
       "      <td>2122.127392</td>\n",
       "      <td>7</td>\n",
       "      <td>0</td>\n",
       "      <td>1</td>\n",
       "      <td>1</td>\n",
       "      <td>1</td>\n",
       "      <td>0.0</td>\n",
       "      <td>144000</td>\n",
       "    </tr>\n",
       "    <tr>\n",
       "      <th>2</th>\n",
       "      <td>0</td>\n",
       "      <td>8</td>\n",
       "      <td>33</td>\n",
       "      <td>79.97</td>\n",
       "      <td>2035.138177</td>\n",
       "      <td>2122.127392</td>\n",
       "      <td>7</td>\n",
       "      <td>0</td>\n",
       "      <td>1</td>\n",
       "      <td>1</td>\n",
       "      <td>1</td>\n",
       "      <td>0.0</td>\n",
       "      <td>162750</td>\n",
       "    </tr>\n",
       "    <tr>\n",
       "      <th>3</th>\n",
       "      <td>0</td>\n",
       "      <td>8</td>\n",
       "      <td>33</td>\n",
       "      <td>79.97</td>\n",
       "      <td>2000.750281</td>\n",
       "      <td>2122.127392</td>\n",
       "      <td>8</td>\n",
       "      <td>0</td>\n",
       "      <td>1</td>\n",
       "      <td>1</td>\n",
       "      <td>1</td>\n",
       "      <td>0.0</td>\n",
       "      <td>160000</td>\n",
       "    </tr>\n",
       "    <tr>\n",
       "      <th>4</th>\n",
       "      <td>0</td>\n",
       "      <td>8</td>\n",
       "      <td>33</td>\n",
       "      <td>79.97</td>\n",
       "      <td>1875.703389</td>\n",
       "      <td>2122.127392</td>\n",
       "      <td>5</td>\n",
       "      <td>0</td>\n",
       "      <td>1</td>\n",
       "      <td>1</td>\n",
       "      <td>1</td>\n",
       "      <td>0.0</td>\n",
       "      <td>150000</td>\n",
       "    </tr>\n",
       "  </tbody>\n",
       "</table>\n",
       "</div>"
      ],
      "text/plain": [
       "   gu_l  dong_l  used_y  square  per_cost_man  Price per squar  floor  top10  \\\n",
       "0     0       8      32   77.75   1922.829582      2122.127392      7      0   \n",
       "1     0       8      33   54.98   2619.134231      2122.127392      7      0   \n",
       "2     0       8      33   79.97   2035.138177      2122.127392      7      0   \n",
       "3     0       8      33   79.97   2000.750281      2122.127392      8      0   \n",
       "4     0       8      33   79.97   1875.703389      2122.127392      5      0   \n",
       "\n",
       "   YN_r  YN_top10  s_c  Hospital    cost  \n",
       "0     1         1    1       0.0  149500  \n",
       "1     1         1    1       0.0  144000  \n",
       "2     1         1    1       0.0  162750  \n",
       "3     1         1    1       0.0  160000  \n",
       "4     1         1    1       0.0  150000  "
      ]
     },
     "execution_count": 2,
     "metadata": {},
     "output_type": "execute_result"
    }
   ],
   "source": [
    "df.head()"
   ]
  },
  {
   "cell_type": "code",
   "execution_count": 35,
   "id": "d12b999d",
   "metadata": {},
   "outputs": [],
   "source": [
    "X = df.drop(['cost'], axis = 1)\n",
    "y = df['cost']\n",
    "\n",
    "X_train, X_test, y_train, y_test = train_test_split(X, y,\n",
    "                                                   test_size = 0.2,\n",
    "                                                   random_state = 99)"
   ]
  },
  {
   "cell_type": "code",
   "execution_count": 4,
   "id": "6fd6999a",
   "metadata": {},
   "outputs": [],
   "source": [
    "from lightgbm import LGBMRegressor"
   ]
  },
  {
   "cell_type": "code",
   "execution_count": 5,
   "id": "5d5e7574",
   "metadata": {},
   "outputs": [
    {
     "name": "stdout",
     "output_type": "stream",
     "text": [
      "CPU times: user 3 µs, sys: 0 ns, total: 3 µs\n",
      "Wall time: 5.72 µs\n"
     ]
    },
    {
     "data": {
      "text/plain": [
       "LGBMRegressor(learning_rate=0.001, linear_tree=True, max_depth=4,\n",
       "              n_estimators=9000, objective='regression')"
      ]
     },
     "execution_count": 5,
     "metadata": {},
     "output_type": "execute_result"
    }
   ],
   "source": [
    "%time\n",
    "lgb = LGBMRegressor(linear_tree = True,\n",
    "                   boosting_type = 'gbdt',\n",
    "                   objective = 'regression',\n",
    "                   n_estimators = 9000,\n",
    "                   learning_rate = 0.001,\n",
    "                   max_depth = 4,\n",
    "                   n_jobs = -1)\n",
    "\n",
    "lgb.fit(X_train, y_train)"
   ]
  },
  {
   "cell_type": "code",
   "execution_count": 6,
   "id": "13ab9a00",
   "metadata": {},
   "outputs": [],
   "source": [
    "MSE = mean_squared_error(y_test, lgb.predict(X_test))"
   ]
  },
  {
   "cell_type": "code",
   "execution_count": 7,
   "id": "6139d5a9",
   "metadata": {},
   "outputs": [
    {
     "name": "stdout",
     "output_type": "stream",
     "text": [
      "MSE : 1829758.059959414\n",
      "RMSE : 1352.6854992789026\n"
     ]
    }
   ],
   "source": [
    "from math import sqrt\n",
    "print(f'MSE : {MSE}')\n",
    "print(f'RMSE : {sqrt(MSE)}')"
   ]
  },
  {
   "cell_type": "code",
   "execution_count": 8,
   "id": "cb785aeb",
   "metadata": {},
   "outputs": [
    {
     "data": {
      "text/plain": [
       "array([   88,   566,  3361, 62039, 58621,  1239,  1521,    51,   168,\n",
       "          78,   483,     0], dtype=int32)"
      ]
     },
     "execution_count": 8,
     "metadata": {},
     "output_type": "execute_result"
    }
   ],
   "source": [
    "lgb.feature_importances_"
   ]
  },
  {
   "cell_type": "code",
   "execution_count": 9,
   "id": "3c7a58ed",
   "metadata": {},
   "outputs": [
    {
     "data": {
      "text/plain": [
       "Index(['gu_l', 'dong_l', 'used_y', 'square', 'per_cost_man', 'Price per squar',\n",
       "       'floor', 'top10', 'YN_r', 'YN_top10', 's_c', 'Hospital'],\n",
       "      dtype='object')"
      ]
     },
     "execution_count": 9,
     "metadata": {},
     "output_type": "execute_result"
    }
   ],
   "source": [
    "X.columns"
   ]
  },
  {
   "cell_type": "code",
   "execution_count": 11,
   "id": "1c367c3d",
   "metadata": {},
   "outputs": [
    {
     "name": "stderr",
     "output_type": "stream",
     "text": [
      "/home/ubuntu/anaconda3/envs/multi/lib/python3.7/site-packages/seaborn/_decorators.py:43: FutureWarning: Pass the following variables as keyword args: x, y. From version 0.12, the only valid positional argument will be `data`, and passing other arguments without an explicit keyword will result in an error or misinterpretation.\n",
      "  FutureWarning\n"
     ]
    },
    {
     "data": {
      "text/plain": [
       "<Figure size 700x500 with 0 Axes>"
      ]
     },
     "metadata": {},
     "output_type": "display_data"
    },
    {
     "data": {
      "image/png": "[encoded data removed]",
      "text/plain": [
       "<Figure size 700x500 with 1 Axes>"
      ]
     },
     "metadata": {},
     "output_type": "display_data"
    }
   ],
   "source": [
    "plt.figure(figsize=(7,5))\n",
    "sns.barplot(lgb.feature_importances_,['gu_l', 'dong_l', 'used_y', 'square', 'per_cost_man', 'Price per squar',\n",
    "       'floor', 'top10', 'YN_r', 'YN_top10', 's_c', 'Hospital'])\n",
    "plt.show()"
   ]
  },
  {
   "cell_type": "code",
   "execution_count": 12,
   "id": "7d2cb65d",
   "metadata": {},
   "outputs": [
    {
     "data": {
      "text/plain": [
       "array([61653.34578109, 95385.1443382 , 13022.96341205, ...,\n",
       "       64174.72556671, 30008.49168428, 53337.2565952 ])"
      ]
     },
     "execution_count": 12,
     "metadata": {},
     "output_type": "execute_result"
    }
   ],
   "source": [
    "lgb.predict(X_test)"
   ]
  },
  {
   "cell_type": "code",
   "execution_count": 13,
   "id": "bf6202ba",
   "metadata": {},
   "outputs": [
    {
     "data": {
      "text/plain": [
       "['lgb_model.pkl']"
      ]
     },
     "execution_count": 13,
     "metadata": {},
     "output_type": "execute_result"
    }
   ],
   "source": [
    "import joblib\n",
    "\n",
    "joblib.dump(lgb, 'lgb_model.pkl')"
   ]
  },
  {
   "cell_type": "code",
   "execution_count": 14,
   "id": "ad7ebd8b",
   "metadata": {},
   "outputs": [
    {
     "data": {
      "text/plain": [
       "array([61653.34578109, 95385.1443382 , 13022.96341205, ...,\n",
       "       64174.72556671, 30008.49168428, 53337.2565952 ])"
      ]
     },
     "execution_count": 14,
     "metadata": {},
     "output_type": "execute_result"
    }
   ],
   "source": [
    "lgb_from_joblib = joblib.load('lgb_model.pkl') \n",
    "lgb_from_joblib.predict(X_test)"
   ]
  },
  {
   "cell_type": "markdown",
   "id": "a5713fba",
   "metadata": {},
   "source": [
    "## 하위 2개 변수 삭제 후 다시 모델링\n",
    "- 별 차이 없음.."
   ]
  },
  {
   "cell_type": "code",
   "execution_count": 26,
   "id": "026d4e52",
   "metadata": {},
   "outputs": [],
   "source": [
    "df_1 = df.drop(['top10', 'Hospital'], axis=1)"
   ]
  },
  {
   "cell_type": "code",
   "execution_count": 21,
   "id": "5fbd98d6",
   "metadata": {},
   "outputs": [
    {
     "data": {
      "text/html": [
       "<div>\n",
       "<style scoped>\n",
       "    .dataframe tbody tr th:only-of-type {\n",
       "        vertical-align: middle;\n",
       "    }\n",
       "\n",
       "    .dataframe tbody tr th {\n",
       "        vertical-align: top;\n",
       "    }\n",
       "\n",
       "    .dataframe thead th {\n",
       "        text-align: right;\n",
       "    }\n",
       "</style>\n",
       "<table border=\"1\" class=\"dataframe\">\n",
       "  <thead>\n",
       "    <tr style=\"text-align: right;\">\n",
       "      <th></th>\n",
       "      <th>gu_l</th>\n",
       "      <th>dong_l</th>\n",
       "      <th>used_y</th>\n",
       "      <th>square</th>\n",
       "      <th>per_cost_man</th>\n",
       "      <th>Price per squar</th>\n",
       "      <th>floor</th>\n",
       "      <th>YN_r</th>\n",
       "      <th>YN_top10</th>\n",
       "      <th>s_c</th>\n",
       "      <th>cost</th>\n",
       "    </tr>\n",
       "  </thead>\n",
       "  <tbody>\n",
       "    <tr>\n",
       "      <th>0</th>\n",
       "      <td>0</td>\n",
       "      <td>8</td>\n",
       "      <td>32</td>\n",
       "      <td>77.75</td>\n",
       "      <td>1922.829582</td>\n",
       "      <td>2122.127392</td>\n",
       "      <td>7</td>\n",
       "      <td>1</td>\n",
       "      <td>1</td>\n",
       "      <td>1</td>\n",
       "      <td>149500</td>\n",
       "    </tr>\n",
       "  </tbody>\n",
       "</table>\n",
       "</div>"
      ],
      "text/plain": [
       "   gu_l  dong_l  used_y  square  per_cost_man  Price per squar  floor  YN_r  \\\n",
       "0     0       8      32   77.75   1922.829582      2122.127392      7     1   \n",
       "\n",
       "   YN_top10  s_c    cost  \n",
       "0         1    1  149500  "
      ]
     },
     "execution_count": 21,
     "metadata": {},
     "output_type": "execute_result"
    }
   ],
   "source": [
    "df_1.head(1)"
   ]
  },
  {
   "cell_type": "code",
   "execution_count": 22,
   "id": "11c522da",
   "metadata": {},
   "outputs": [],
   "source": [
    "X = df_1.drop(['cost'], axis = 1)\n",
    "y = df_1['cost']\n",
    "\n",
    "X_train, X_test, y_train, y_test = train_test_split(X, y,\n",
    "                                                   test_size = 0.2,\n",
    "                                                   random_state = 99)"
   ]
  },
  {
   "cell_type": "code",
   "execution_count": 23,
   "id": "6b30857a",
   "metadata": {},
   "outputs": [
    {
     "name": "stdout",
     "output_type": "stream",
     "text": [
      "CPU times: user 3 µs, sys: 0 ns, total: 3 µs\n",
      "Wall time: 5.96 µs\n",
      "MSE : 1830351.8187582497\n",
      "RMSE : 1352.9049555524032\n"
     ]
    }
   ],
   "source": [
    "%time\n",
    "lgb = LGBMRegressor(linear_tree = True,\n",
    "                   boosting_type = 'gbdt',\n",
    "                   objective = 'regression',\n",
    "                   n_estimators = 9000,\n",
    "                   learning_rate = 0.001,\n",
    "                   max_depth = 4,\n",
    "                   n_jobs = -1)\n",
    "\n",
    "lgb.fit(X_train, y_train)\n",
    "\n",
    "MSE = mean_squared_error(y_test, lgb.predict(X_test))\n",
    "print(f'MSE : {MSE}')\n",
    "print(f'RMSE : {sqrt(MSE)}')"
   ]
  },
  {
   "cell_type": "code",
   "execution_count": 24,
   "id": "b79272fc",
   "metadata": {},
   "outputs": [
    {
     "data": {
      "text/plain": [
       "array([  103,   567,  3362, 62127, 58549,  1258,  1527,   169,    78,\n",
       "         483], dtype=int32)"
      ]
     },
     "execution_count": 24,
     "metadata": {},
     "output_type": "execute_result"
    }
   ],
   "source": [
    "lgb.feature_importances_"
   ]
  },
  {
   "cell_type": "code",
   "execution_count": null,
   "id": "c62eccc5",
   "metadata": {},
   "outputs": [],
   "source": []
  },
  {
   "cell_type": "markdown",
   "id": "2b1849df",
   "metadata": {},
   "source": [
    "## feature_importances 기준 200 밑의 변수들 삭제 후 다시 모델링\n",
    "\n",
    "- 별 차이 없다.."
   ]
  },
  {
   "cell_type": "code",
   "execution_count": 27,
   "id": "939690c3",
   "metadata": {},
   "outputs": [],
   "source": [
    "df_2 = df.drop(['top10', 'Hospital','gu_l','YN_r','YN_top10'], axis=1)"
   ]
  },
  {
   "cell_type": "code",
   "execution_count": 28,
   "id": "139482ee",
   "metadata": {},
   "outputs": [
    {
     "data": {
      "text/html": [
       "<div>\n",
       "<style scoped>\n",
       "    .dataframe tbody tr th:only-of-type {\n",
       "        vertical-align: middle;\n",
       "    }\n",
       "\n",
       "    .dataframe tbody tr th {\n",
       "        vertical-align: top;\n",
       "    }\n",
       "\n",
       "    .dataframe thead th {\n",
       "        text-align: right;\n",
       "    }\n",
       "</style>\n",
       "<table border=\"1\" class=\"dataframe\">\n",
       "  <thead>\n",
       "    <tr style=\"text-align: right;\">\n",
       "      <th></th>\n",
       "      <th>dong_l</th>\n",
       "      <th>used_y</th>\n",
       "      <th>square</th>\n",
       "      <th>per_cost_man</th>\n",
       "      <th>Price per squar</th>\n",
       "      <th>floor</th>\n",
       "      <th>s_c</th>\n",
       "      <th>cost</th>\n",
       "    </tr>\n",
       "  </thead>\n",
       "  <tbody>\n",
       "    <tr>\n",
       "      <th>0</th>\n",
       "      <td>8</td>\n",
       "      <td>32</td>\n",
       "      <td>77.75</td>\n",
       "      <td>1922.829582</td>\n",
       "      <td>2122.127392</td>\n",
       "      <td>7</td>\n",
       "      <td>1</td>\n",
       "      <td>149500</td>\n",
       "    </tr>\n",
       "  </tbody>\n",
       "</table>\n",
       "</div>"
      ],
      "text/plain": [
       "   dong_l  used_y  square  per_cost_man  Price per squar  floor  s_c    cost\n",
       "0       8      32   77.75   1922.829582      2122.127392      7    1  149500"
      ]
     },
     "execution_count": 28,
     "metadata": {},
     "output_type": "execute_result"
    }
   ],
   "source": [
    "df_2.head(1)"
   ]
  },
  {
   "cell_type": "code",
   "execution_count": 29,
   "id": "eeddc43a",
   "metadata": {},
   "outputs": [],
   "source": [
    "X = df_2.drop(['cost'], axis = 1)\n",
    "y = df_2['cost']\n",
    "\n",
    "X_train, X_test, y_train, y_test = train_test_split(X, y,\n",
    "                                                   test_size = 0.2,\n",
    "                                                   random_state = 99)"
   ]
  },
  {
   "cell_type": "code",
   "execution_count": 30,
   "id": "32a506bd",
   "metadata": {},
   "outputs": [
    {
     "name": "stdout",
     "output_type": "stream",
     "text": [
      "CPU times: user 2 µs, sys: 0 ns, total: 2 µs\n",
      "Wall time: 5.48 µs\n",
      "MSE : 1837465.7173544266\n",
      "RMSE : 1355.5315257692928\n"
     ]
    }
   ],
   "source": [
    "%time\n",
    "lgb = LGBMRegressor(linear_tree = True,\n",
    "                   boosting_type = 'gbdt',\n",
    "                   objective = 'regression',\n",
    "                   n_estimators = 9000,\n",
    "                   learning_rate = 0.001,\n",
    "                   max_depth = 4,\n",
    "                   n_jobs = -1)\n",
    "\n",
    "lgb.fit(X_train, y_train)\n",
    "\n",
    "MSE = mean_squared_error(y_test, lgb.predict(X_test))\n",
    "print(f'MSE : {MSE}')\n",
    "print(f'RMSE : {sqrt(MSE)}')"
   ]
  },
  {
   "cell_type": "markdown",
   "id": "cf607eb7",
   "metadata": {},
   "source": [
    "## 하이퍼 파라미터 튜닝\n",
    "\n",
    "- 특성 선택에 별 영향이 없으므로 파라미터를 튜닝해서 다시 모델링"
   ]
  },
  {
   "cell_type": "code",
   "execution_count": 15,
   "id": "b7fde9f5",
   "metadata": {},
   "outputs": [
    {
     "name": "stdout",
     "output_type": "stream",
     "text": [
      "CPU times: user 3 µs, sys: 0 ns, total: 3 µs\n",
      "Wall time: 5.72 µs\n",
      "Fitting 4 folds for each of 16 candidates, totalling 64 fits\n"
     ]
    },
    {
     "name": "stderr",
     "output_type": "stream",
     "text": [
      "[Parallel(n_jobs=1)]: Using backend SequentialBackend with 1 concurrent workers.\n",
      "[Parallel(n_jobs=1)]: Done  64 out of  64 | elapsed: 25.8min finished\n"
     ]
    },
    {
     "data": {
      "text/plain": [
       "GridSearchCV(cv=4,\n",
       "             estimator=LGBMRegressor(learning_rate=0.001, linear_tree=True,\n",
       "                                     max_depth=4, n_estimators=9000,\n",
       "                                     objective='regression'),\n",
       "             param_grid={'learning_rate': [0.1, 0.01, 0.001, 0.0001],\n",
       "                         'max_depth': [1, 2, 3, 4]},\n",
       "             scoring='neg_mean_squared_error', verbose=1)"
      ]
     },
     "execution_count": 15,
     "metadata": {},
     "output_type": "execute_result"
    }
   ],
   "source": [
    "# 하이퍼 파라미터 튜닝\n",
    "%time\n",
    "from sklearn.model_selection import GridSearchCV\n",
    "\n",
    "params = {\n",
    "    'learning_rate' : [0.1, 0.01, 0.001, 0.0001],\n",
    "    'max_depth' : [1,2,3,4]\n",
    "}\n",
    "\n",
    "grid_cv = GridSearchCV(lgb, param_grid = params, cv=4, scoring='neg_mean_squared_error', verbose=1)\n",
    "grid_cv.fit(X_train, y_train)"
   ]
  },
  {
   "cell_type": "code",
   "execution_count": 16,
   "id": "8494b5d1",
   "metadata": {},
   "outputs": [
    {
     "name": "stdout",
     "output_type": "stream",
     "text": [
      "최적의 하이퍼 파라미터 : {'learning_rate': 0.1, 'max_depth': 4}\n",
      "예측 오차 : -140939.36042289424\n"
     ]
    }
   ],
   "source": [
    "print(f'최적의 하이퍼 파라미터 : {grid_cv.best_params_}')\n",
    "print(f'예측 오차 : {grid_cv.best_score_}')"
   ]
  },
  {
   "cell_type": "code",
   "execution_count": null,
   "id": "7bf5d40c",
   "metadata": {},
   "outputs": [],
   "source": [
    "X = df.drop(['cost'], axis = 1)\n",
    "y = df['cost']\n",
    "\n",
    "X_train, X_test, y_train, y_test = train_test_split(X, y,\n",
    "                                                   test_size = 0.2,\n",
    "                                                   random_state = 99)"
   ]
  },
  {
   "cell_type": "code",
   "execution_count": 36,
   "id": "67157fdc",
   "metadata": {},
   "outputs": [
    {
     "name": "stdout",
     "output_type": "stream",
     "text": [
      "CPU times: user 3 µs, sys: 0 ns, total: 3 µs\n",
      "Wall time: 5.96 µs\n"
     ]
    },
    {
     "data": {
      "text/plain": [
       "LGBMRegressor(linear_tree=True, max_depth=4, n_estimators=9000,\n",
       "              objective='regression')"
      ]
     },
     "execution_count": 36,
     "metadata": {},
     "output_type": "execute_result"
    }
   ],
   "source": [
    "%time\n",
    "lgb_r = LGBMRegressor(linear_tree = True,\n",
    "                   boosting_type = 'gbdt',\n",
    "                   objective = 'regression',\n",
    "                   n_estimators = 9000,\n",
    "                   learning_rate = 0.1,\n",
    "                   max_depth = 4,\n",
    "                   n_jobs = -1)\n",
    "\n",
    "lgb_r.fit(X_train, y_train)"
   ]
  },
  {
   "cell_type": "code",
   "execution_count": 37,
   "id": "5d23f5d7",
   "metadata": {},
   "outputs": [],
   "source": [
    "MSE = mean_squared_error(y_test, lgb_r.predict(X_test))"
   ]
  },
  {
   "cell_type": "code",
   "execution_count": 38,
   "id": "981ec513",
   "metadata": {},
   "outputs": [
    {
     "name": "stdout",
     "output_type": "stream",
     "text": [
      "MSE : 537552.7584483256\n",
      "RMSE : 733.1798950109895\n"
     ]
    }
   ],
   "source": [
    "print(f'MSE : {MSE}')\n",
    "print(f'RMSE : {sqrt(MSE)}')"
   ]
  },
  {
   "cell_type": "code",
   "execution_count": 39,
   "id": "d5aa3080",
   "metadata": {
    "scrolled": true
   },
   "outputs": [
    {
     "data": {
      "text/plain": [
       "array([ 2306,  6072,  9268, 38088, 42785,  2436, 11547,   849,   698,\n",
       "         523,  1266,   735], dtype=int32)"
      ]
     },
     "execution_count": 39,
     "metadata": {},
     "output_type": "execute_result"
    }
   ],
   "source": [
    "lgb_r.feature_importances_"
   ]
  },
  {
   "cell_type": "code",
   "execution_count": 40,
   "id": "3eafa5fb",
   "metadata": {},
   "outputs": [
    {
     "data": {
      "text/plain": [
       "Index(['gu_l', 'dong_l', 'used_y', 'square', 'per_cost_man', 'Price per squar',\n",
       "       'floor', 'top10', 'YN_r', 'YN_top10', 's_c', 'Hospital'],\n",
       "      dtype='object')"
      ]
     },
     "execution_count": 40,
     "metadata": {},
     "output_type": "execute_result"
    }
   ],
   "source": [
    "X.columns"
   ]
  },
  {
   "cell_type": "code",
   "execution_count": 41,
   "id": "4038f067",
   "metadata": {},
   "outputs": [
    {
     "name": "stderr",
     "output_type": "stream",
     "text": [
      "/home/ubuntu/anaconda3/envs/multi/lib/python3.7/site-packages/seaborn/_decorators.py:43: FutureWarning: Pass the following variables as keyword args: x, y. From version 0.12, the only valid positional argument will be `data`, and passing other arguments without an explicit keyword will result in an error or misinterpretation.\n",
      "  FutureWarning\n"
     ]
    },
    {
     "data": {
      "text/plain": [
       "<Figure size 700x500 with 0 Axes>"
      ]
     },
     "metadata": {},
     "output_type": "display_data"
    },
    {
     "data": {
      "image/png": "[encoded data removed]",
      "text/plain": [
       "<Figure size 700x500 with 1 Axes>"
      ]
     },
     "metadata": {},
     "output_type": "display_data"
    }
   ],
   "source": [
    "plt.figure(figsize=(7,5))\n",
    "sns.barplot(lgb_r.feature_importances_,['gu_l', 'dong_l', 'used_y', 'square', 'per_cost_man', 'Price per squar',\n",
    "       'floor', 'top10', 'YN_r', 'YN_top10', 's_c', 'Hospital'])\n",
    "plt.show()"
   ]
  },
  {
   "cell_type": "code",
   "execution_count": 58,
   "id": "e1525c9f",
   "metadata": {},
   "outputs": [],
   "source": [
    "pred = lgb_r.predict(X_test)"
   ]
  },
  {
   "cell_type": "code",
   "execution_count": 63,
   "id": "89107bf8",
   "metadata": {},
   "outputs": [
    {
     "data": {
      "text/plain": [
       "array([62496.67968628, 96005.28788484, 13981.8818354 , ...,\n",
       "       64662.30045699, 29730.02776814, 53588.45829041])"
      ]
     },
     "execution_count": 63,
     "metadata": {},
     "output_type": "execute_result"
    }
   ],
   "source": [
    "pred"
   ]
  },
  {
   "cell_type": "code",
   "execution_count": 62,
   "id": "9a5ed9ac",
   "metadata": {},
   "outputs": [
    {
     "data": {
      "text/plain": [
       "62496.679686278745"
      ]
     },
     "execution_count": 62,
     "metadata": {},
     "output_type": "execute_result"
    }
   ],
   "source": [
    "pred[0]"
   ]
  },
  {
   "cell_type": "code",
   "execution_count": 60,
   "id": "2101e316",
   "metadata": {},
   "outputs": [
    {
     "data": {
      "text/plain": [
       "62500"
      ]
     },
     "execution_count": 60,
     "metadata": {},
     "output_type": "execute_result"
    }
   ],
   "source": [
    "y_test.iloc[0]"
   ]
  },
  {
   "cell_type": "code",
   "execution_count": 43,
   "id": "fb7fbd8a",
   "metadata": {},
   "outputs": [
    {
     "data": {
      "text/plain": [
       "['lgb_model_re.pkl']"
      ]
     },
     "execution_count": 43,
     "metadata": {},
     "output_type": "execute_result"
    }
   ],
   "source": [
    "joblib.dump(lgb_r, 'lgb_model_re.pkl')"
   ]
  },
  {
   "cell_type": "code",
   "execution_count": 44,
   "id": "e7ea5eee",
   "metadata": {},
   "outputs": [
    {
     "data": {
      "text/plain": [
       "array([62496.67968628, 96005.28788484, 13981.8818354 , ...,\n",
       "       64662.30045699, 29730.02776814, 53588.45829041])"
      ]
     },
     "execution_count": 44,
     "metadata": {},
     "output_type": "execute_result"
    }
   ],
   "source": [
    "lgb_re_from_joblib = joblib.load('lgb_model_re.pkl') \n",
    "lgb_re_from_joblib.predict(X_test)"
   ]
  },
  {
   "cell_type": "code",
   "execution_count": null,
   "id": "20a75d45",
   "metadata": {},
   "outputs": [],
   "source": []
  }
 ],
 "metadata": {
  "kernelspec": {
   "display_name": "Python 3",
   "language": "python",
   "name": "python3"
  },
  "language_info": {
   "codemirror_mode": {
    "name": "ipython",
    "version": 3
   },
   "file_extension": ".py",
   "mimetype": "text/x-python",
   "name": "python",
   "nbconvert_exporter": "python",
   "pygments_lexer": "ipython3",
   "version": "3.7.11"
  }
 },
 "nbformat": 4,
 "nbformat_minor": 5
}
