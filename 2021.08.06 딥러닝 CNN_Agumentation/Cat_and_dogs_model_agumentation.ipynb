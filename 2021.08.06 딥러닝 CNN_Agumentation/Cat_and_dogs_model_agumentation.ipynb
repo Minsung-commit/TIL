{
  "nbformat": 4,
  "nbformat_minor": 0,
  "metadata": {
    "colab": {
      "name": "Cat_and_dogs_model_agumentation.ipynb",
      "provenance": [],
      "mount_file_id": "1PyXsxKY0DJVp6OdnVr0k_Ob37xIbdo5N",
      "authorship_tag": "ABX9TyPV+a/nliyF7JWspNXK103D",
      "include_colab_link": true
    },
    "kernelspec": {
      "name": "python3",
      "display_name": "Python 3"
    },
    "language_info": {
      "name": "python"
    },
    "accelerator": "GPU"
  },
  "cells": [
    {
      "cell_type": "markdown",
      "metadata": {
        "id": "view-in-github",
        "colab_type": "text"
      },
      "source": [
        "<a href=\"https://colab.research.google.com/github/Minsung-commit/TIL/blob/master/Cat_and_dogs_model_agumentation.ipynb\" target=\"_parent\"><img src=\"https://colab.research.google.com/assets/colab-badge.svg\" alt=\"Open In Colab\"/></a>"
      ]
    },
    {
      "cell_type": "code",
      "metadata": {
        "colab": {
          "base_uri": "https://localhost:8080/",
          "height": 35
        },
        "id": "n0k1kVhYDRe8",
        "outputId": "9e7adc26-ff8a-4bef-fe5a-18daf6015368"
      },
      "source": [
        "import warnings\n",
        "warnings.filterwarnings('ignore')\n",
        "import tensorflow\n",
        "\n",
        "tensorflow.__version__"
      ],
      "execution_count": 2,
      "outputs": [
        {
          "output_type": "execute_result",
          "data": {
            "application/vnd.google.colaboratory.intrinsic+json": {
              "type": "string"
            },
            "text/plain": [
              "'2.5.0'"
            ]
          },
          "metadata": {
            "tags": []
          },
          "execution_count": 2
        }
      ]
    },
    {
      "cell_type": "code",
      "metadata": {
        "colab": {
          "base_uri": "https://localhost:8080/"
        },
        "id": "Di3q-9ttDmCe",
        "outputId": "5a95ad0e-1b47-4d9a-99d0-199d71fe6394"
      },
      "source": [
        "!nvidia-smi"
      ],
      "execution_count": 3,
      "outputs": [
        {
          "output_type": "stream",
          "text": [
            "Fri Aug  6 07:23:41 2021       \n",
            "+-----------------------------------------------------------------------------+\n",
            "| NVIDIA-SMI 470.42.01    Driver Version: 460.32.03    CUDA Version: 11.2     |\n",
            "|-------------------------------+----------------------+----------------------+\n",
            "| GPU  Name        Persistence-M| Bus-Id        Disp.A | Volatile Uncorr. ECC |\n",
            "| Fan  Temp  Perf  Pwr:Usage/Cap|         Memory-Usage | GPU-Util  Compute M. |\n",
            "|                               |                      |               MIG M. |\n",
            "|===============================+======================+======================|\n",
            "|   0  Tesla T4            Off  | 00000000:00:04.0 Off |                    0 |\n",
            "| N/A   36C    P8     9W /  70W |      0MiB / 15109MiB |      0%      Default |\n",
            "|                               |                      |                  N/A |\n",
            "+-------------------------------+----------------------+----------------------+\n",
            "                                                                               \n",
            "+-----------------------------------------------------------------------------+\n",
            "| Processes:                                                                  |\n",
            "|  GPU   GI   CI        PID   Type   Process name                  GPU Memory |\n",
            "|        ID   ID                                                   Usage      |\n",
            "|=============================================================================|\n",
            "|  No running processes found                                                 |\n",
            "+-----------------------------------------------------------------------------+\n"
          ],
          "name": "stdout"
        }
      ]
    },
    {
      "cell_type": "code",
      "metadata": {
        "id": "F642f5OPDn38"
      },
      "source": [
        "!unzip \"/content/drive/MyDrive/Colab Notebooks/datasets/dogs_and_cats_small.zip\""
      ],
      "execution_count": null,
      "outputs": []
    },
    {
      "cell_type": "code",
      "metadata": {
        "id": "WJ4ofcKGD-m9"
      },
      "source": [
        "train_dir = 'train'\n",
        "valid_dir = 'validation'\n",
        "test_dir = 'test'"
      ],
      "execution_count": 6,
      "outputs": []
    },
    {
      "cell_type": "code",
      "metadata": {
        "id": "pbhimDtnEGOE"
      },
      "source": [
        "from tensorflow.keras.preprocessing.image import ImageDataGenerator"
      ],
      "execution_count": 7,
      "outputs": []
    },
    {
      "cell_type": "code",
      "metadata": {
        "id": "p_oKOCtpENLI"
      },
      "source": [
        "# With Augmentation\n",
        "\n",
        "train_datagen = ImageDataGenerator(rescale= 1./255,\n",
        "                                   rotation_range = 40,\n",
        "                                   width_shift_range = 0.2,\n",
        "                                   height_shift_range = 0.2,\n",
        "                                   shear_range = 0.2,\n",
        "                                   zoom_range = 0.2,\n",
        "                                   horizontal_flip = True,\n",
        "                                   vertical_flip = True,\n",
        "                                   fill_mode = 'nearest')\n",
        "valid_datagen = ImageDataGenerator(rescale= 1./255,)"
      ],
      "execution_count": 8,
      "outputs": []
    },
    {
      "cell_type": "code",
      "metadata": {
        "colab": {
          "base_uri": "https://localhost:8080/"
        },
        "id": "U48K33hkEmse",
        "outputId": "fceccb37-76fc-4032-e3f3-3f199b619fb3"
      },
      "source": [
        "train_generator = train_datagen.flow_from_directory(train_dir, target_size=(150,150), batch_size=20, class_mode='binary')\n",
        "valid_generator = valid_datagen.flow_from_directory(valid_dir, target_size=(150,150), batch_size=20, class_mode='binary')"
      ],
      "execution_count": 9,
      "outputs": [
        {
          "output_type": "stream",
          "text": [
            "Found 2000 images belonging to 2 classes.\n",
            "Found 1000 images belonging to 2 classes.\n"
          ],
          "name": "stdout"
        }
      ]
    },
    {
      "cell_type": "code",
      "metadata": {
        "id": "BUkTNe8FE4vI"
      },
      "source": [
        "from tensorflow.keras import models\n",
        "from tensorflow.keras import layers"
      ],
      "execution_count": 10,
      "outputs": []
    },
    {
      "cell_type": "code",
      "metadata": {
        "colab": {
          "base_uri": "https://localhost:8080/"
        },
        "id": "x2WkRBt0GMf1",
        "outputId": "1e84bee1-536e-40f3-82c2-88e48bd1cf93"
      },
      "source": [
        "model = models.Sequential()\n",
        "model.add(layers.Conv2D(filters=32, kernel_size=(3,3), activation='relu', input_shape=(150,150, 3)))\n",
        "model.add(layers.MaxPool2D(pool_size=(2,2)))\n",
        "model.add(layers.Conv2D(filters=64, kernel_size=(3,3), activation='relu'))\n",
        "model.add(layers.MaxPool2D(pool_size=(2,2)))\n",
        "model.add(layers.Conv2D(filters=128, kernel_size=(3,3), activation='relu'))\n",
        "model.add(layers.MaxPool2D(pool_size=(2,2)))\n",
        "model.add(layers.Conv2D(filters=128, kernel_size=(3,3), activation='relu'))\n",
        "model.add(layers.MaxPool2D(pool_size=(2,2)))\n",
        "model.summary()"
      ],
      "execution_count": 11,
      "outputs": [
        {
          "output_type": "stream",
          "text": [
            "Model: \"sequential\"\n",
            "_________________________________________________________________\n",
            "Layer (type)                 Output Shape              Param #   \n",
            "=================================================================\n",
            "conv2d (Conv2D)              (None, 148, 148, 32)      896       \n",
            "_________________________________________________________________\n",
            "max_pooling2d (MaxPooling2D) (None, 74, 74, 32)        0         \n",
            "_________________________________________________________________\n",
            "conv2d_1 (Conv2D)            (None, 72, 72, 64)        18496     \n",
            "_________________________________________________________________\n",
            "max_pooling2d_1 (MaxPooling2 (None, 36, 36, 64)        0         \n",
            "_________________________________________________________________\n",
            "conv2d_2 (Conv2D)            (None, 34, 34, 128)       73856     \n",
            "_________________________________________________________________\n",
            "max_pooling2d_2 (MaxPooling2 (None, 17, 17, 128)       0         \n",
            "_________________________________________________________________\n",
            "conv2d_3 (Conv2D)            (None, 15, 15, 128)       147584    \n",
            "_________________________________________________________________\n",
            "max_pooling2d_3 (MaxPooling2 (None, 7, 7, 128)         0         \n",
            "=================================================================\n",
            "Total params: 240,832\n",
            "Trainable params: 240,832\n",
            "Non-trainable params: 0\n",
            "_________________________________________________________________\n"
          ],
          "name": "stdout"
        }
      ]
    },
    {
      "cell_type": "code",
      "metadata": {
        "colab": {
          "base_uri": "https://localhost:8080/"
        },
        "id": "vhGF7C0JGeD8",
        "outputId": "45dbe068-01a4-48ee-a11f-cd49fc31b468"
      },
      "source": [
        "model.add(layers.Flatten())\n",
        "model.add(layers.Dense(units=512, activation='relu'))\n",
        "model.add(layers.Dense(units=1, activation='sigmoid'))\n",
        "model.summary()"
      ],
      "execution_count": 12,
      "outputs": [
        {
          "output_type": "stream",
          "text": [
            "Model: \"sequential\"\n",
            "_________________________________________________________________\n",
            "Layer (type)                 Output Shape              Param #   \n",
            "=================================================================\n",
            "conv2d (Conv2D)              (None, 148, 148, 32)      896       \n",
            "_________________________________________________________________\n",
            "max_pooling2d (MaxPooling2D) (None, 74, 74, 32)        0         \n",
            "_________________________________________________________________\n",
            "conv2d_1 (Conv2D)            (None, 72, 72, 64)        18496     \n",
            "_________________________________________________________________\n",
            "max_pooling2d_1 (MaxPooling2 (None, 36, 36, 64)        0         \n",
            "_________________________________________________________________\n",
            "conv2d_2 (Conv2D)            (None, 34, 34, 128)       73856     \n",
            "_________________________________________________________________\n",
            "max_pooling2d_2 (MaxPooling2 (None, 17, 17, 128)       0         \n",
            "_________________________________________________________________\n",
            "conv2d_3 (Conv2D)            (None, 15, 15, 128)       147584    \n",
            "_________________________________________________________________\n",
            "max_pooling2d_3 (MaxPooling2 (None, 7, 7, 128)         0         \n",
            "_________________________________________________________________\n",
            "flatten (Flatten)            (None, 6272)              0         \n",
            "_________________________________________________________________\n",
            "dense (Dense)                (None, 512)               3211776   \n",
            "_________________________________________________________________\n",
            "dense_1 (Dense)              (None, 1)                 513       \n",
            "=================================================================\n",
            "Total params: 3,453,121\n",
            "Trainable params: 3,453,121\n",
            "Non-trainable params: 0\n",
            "_________________________________________________________________\n"
          ],
          "name": "stdout"
        }
      ]
    },
    {
      "cell_type": "code",
      "metadata": {
        "id": "g4uR_ZhUGmgI"
      },
      "source": [
        "model.compile(loss = 'binary_crossentropy',\n",
        "              optimizer = 'adam',\n",
        "              metrics=['accuracy'])"
      ],
      "execution_count": 13,
      "outputs": []
    },
    {
      "cell_type": "code",
      "metadata": {
        "colab": {
          "base_uri": "https://localhost:8080/"
        },
        "id": "0sm2i7EcGvVz",
        "outputId": "e049668a-574d-4ea1-82e0-6acbc2440240"
      },
      "source": [
        "%%time\n",
        "\n",
        "hist_mnist = model.fit(train_generator,\n",
        "                       steps_per_epoch = 100,\n",
        "                       epochs = 100,\n",
        "                       validation_data = valid_generator,\n",
        "                       validation_steps = 50)"
      ],
      "execution_count": 14,
      "outputs": [
        {
          "output_type": "stream",
          "text": [
            "Epoch 1/100\n",
            "100/100 [==============================] - 50s 185ms/step - loss: 0.7012 - accuracy: 0.5130 - val_loss: 0.6978 - val_accuracy: 0.5000\n",
            "Epoch 2/100\n",
            "100/100 [==============================] - 18s 176ms/step - loss: 0.6946 - accuracy: 0.5025 - val_loss: 0.6902 - val_accuracy: 0.4950\n",
            "Epoch 3/100\n",
            "100/100 [==============================] - 17s 169ms/step - loss: 0.6900 - accuracy: 0.5050 - val_loss: 0.6933 - val_accuracy: 0.5000\n",
            "Epoch 4/100\n",
            "100/100 [==============================] - 18s 180ms/step - loss: 0.6936 - accuracy: 0.4880 - val_loss: 0.6932 - val_accuracy: 0.5000\n",
            "Epoch 5/100\n",
            "100/100 [==============================] - 18s 183ms/step - loss: 0.6934 - accuracy: 0.4930 - val_loss: 0.6932 - val_accuracy: 0.5000\n",
            "Epoch 6/100\n",
            "100/100 [==============================] - 17s 170ms/step - loss: 0.6934 - accuracy: 0.4945 - val_loss: 0.6932 - val_accuracy: 0.5000\n",
            "Epoch 7/100\n",
            "100/100 [==============================] - 17s 170ms/step - loss: 0.6933 - accuracy: 0.5000 - val_loss: 0.6932 - val_accuracy: 0.5000\n",
            "Epoch 8/100\n",
            "100/100 [==============================] - 18s 183ms/step - loss: 0.6933 - accuracy: 0.5010 - val_loss: 0.6931 - val_accuracy: 0.5000\n",
            "Epoch 9/100\n",
            "100/100 [==============================] - 18s 177ms/step - loss: 0.6933 - accuracy: 0.4780 - val_loss: 0.6931 - val_accuracy: 0.5000\n",
            "Epoch 10/100\n",
            "100/100 [==============================] - 18s 183ms/step - loss: 0.6932 - accuracy: 0.4960 - val_loss: 0.6931 - val_accuracy: 0.5000\n",
            "Epoch 11/100\n",
            "100/100 [==============================] - 17s 174ms/step - loss: 0.6932 - accuracy: 0.4770 - val_loss: 0.6931 - val_accuracy: 0.5000\n",
            "Epoch 12/100\n",
            "100/100 [==============================] - 17s 170ms/step - loss: 0.6933 - accuracy: 0.4875 - val_loss: 0.6931 - val_accuracy: 0.5000\n",
            "Epoch 13/100\n",
            "100/100 [==============================] - 17s 174ms/step - loss: 0.6933 - accuracy: 0.4955 - val_loss: 0.6931 - val_accuracy: 0.5000\n",
            "Epoch 14/100\n",
            "100/100 [==============================] - 18s 183ms/step - loss: 0.6932 - accuracy: 0.5000 - val_loss: 0.6931 - val_accuracy: 0.5000\n",
            "Epoch 15/100\n",
            "100/100 [==============================] - 17s 172ms/step - loss: 0.6932 - accuracy: 0.4830 - val_loss: 0.6931 - val_accuracy: 0.5000\n",
            "Epoch 16/100\n",
            "100/100 [==============================] - 17s 169ms/step - loss: 0.6932 - accuracy: 0.4970 - val_loss: 0.6931 - val_accuracy: 0.5000\n",
            "Epoch 17/100\n",
            "100/100 [==============================] - 18s 177ms/step - loss: 0.6932 - accuracy: 0.4990 - val_loss: 0.6931 - val_accuracy: 0.5000\n",
            "Epoch 18/100\n",
            "100/100 [==============================] - 18s 182ms/step - loss: 0.6932 - accuracy: 0.4900 - val_loss: 0.6931 - val_accuracy: 0.5000\n",
            "Epoch 19/100\n",
            "100/100 [==============================] - 17s 170ms/step - loss: 0.6932 - accuracy: 0.5000 - val_loss: 0.6931 - val_accuracy: 0.5000\n",
            "Epoch 20/100\n",
            "100/100 [==============================] - 17s 172ms/step - loss: 0.6932 - accuracy: 0.5000 - val_loss: 0.6931 - val_accuracy: 0.5000\n",
            "Epoch 21/100\n",
            "100/100 [==============================] - 18s 183ms/step - loss: 0.6932 - accuracy: 0.4800 - val_loss: 0.6931 - val_accuracy: 0.5000\n",
            "Epoch 22/100\n",
            "100/100 [==============================] - 18s 181ms/step - loss: 0.6932 - accuracy: 0.4730 - val_loss: 0.6931 - val_accuracy: 0.5000\n",
            "Epoch 23/100\n",
            "100/100 [==============================] - 18s 177ms/step - loss: 0.6932 - accuracy: 0.4855 - val_loss: 0.6931 - val_accuracy: 0.5000\n",
            "Epoch 24/100\n",
            "100/100 [==============================] - 18s 180ms/step - loss: 0.6932 - accuracy: 0.4865 - val_loss: 0.6931 - val_accuracy: 0.5000\n",
            "Epoch 25/100\n",
            "100/100 [==============================] - 19s 188ms/step - loss: 0.6932 - accuracy: 0.5000 - val_loss: 0.6931 - val_accuracy: 0.5000\n",
            "Epoch 26/100\n",
            "100/100 [==============================] - 18s 176ms/step - loss: 0.6932 - accuracy: 0.4790 - val_loss: 0.6931 - val_accuracy: 0.5000\n",
            "Epoch 27/100\n",
            "100/100 [==============================] - 17s 172ms/step - loss: 0.6932 - accuracy: 0.4890 - val_loss: 0.6931 - val_accuracy: 0.5000\n",
            "Epoch 28/100\n",
            "100/100 [==============================] - 18s 177ms/step - loss: 0.6932 - accuracy: 0.4895 - val_loss: 0.6931 - val_accuracy: 0.5000\n",
            "Epoch 29/100\n",
            "100/100 [==============================] - 18s 185ms/step - loss: 0.6932 - accuracy: 0.4765 - val_loss: 0.6931 - val_accuracy: 0.5000\n",
            "Epoch 30/100\n",
            "100/100 [==============================] - 18s 180ms/step - loss: 0.6932 - accuracy: 0.5000 - val_loss: 0.6931 - val_accuracy: 0.5000\n",
            "Epoch 31/100\n",
            "100/100 [==============================] - 18s 181ms/step - loss: 0.6931 - accuracy: 0.5175 - val_loss: 0.6880 - val_accuracy: 0.5450\n",
            "Epoch 32/100\n",
            "100/100 [==============================] - 17s 172ms/step - loss: 0.6940 - accuracy: 0.5110 - val_loss: 0.6921 - val_accuracy: 0.5180\n",
            "Epoch 33/100\n",
            "100/100 [==============================] - 17s 170ms/step - loss: 0.6931 - accuracy: 0.5095 - val_loss: 0.6873 - val_accuracy: 0.5000\n",
            "Epoch 34/100\n",
            "100/100 [==============================] - 18s 183ms/step - loss: 0.6890 - accuracy: 0.5290 - val_loss: 0.6922 - val_accuracy: 0.5150\n",
            "Epoch 35/100\n",
            "100/100 [==============================] - 18s 178ms/step - loss: 0.6922 - accuracy: 0.5055 - val_loss: 0.6859 - val_accuracy: 0.5390\n",
            "Epoch 36/100\n",
            "100/100 [==============================] - 17s 171ms/step - loss: 0.6921 - accuracy: 0.5220 - val_loss: 0.6886 - val_accuracy: 0.5300\n",
            "Epoch 37/100\n",
            "100/100 [==============================] - 17s 171ms/step - loss: 0.6900 - accuracy: 0.5285 - val_loss: 0.6935 - val_accuracy: 0.4990\n",
            "Epoch 38/100\n",
            "100/100 [==============================] - 19s 185ms/step - loss: 0.6883 - accuracy: 0.5350 - val_loss: 0.6895 - val_accuracy: 0.5290\n",
            "Epoch 39/100\n",
            "100/100 [==============================] - 18s 178ms/step - loss: 0.6873 - accuracy: 0.5510 - val_loss: 0.6887 - val_accuracy: 0.5400\n",
            "Epoch 40/100\n",
            "100/100 [==============================] - 17s 172ms/step - loss: 0.6817 - accuracy: 0.5720 - val_loss: 0.6579 - val_accuracy: 0.5820\n",
            "Epoch 41/100\n",
            "100/100 [==============================] - 18s 175ms/step - loss: 0.6813 - accuracy: 0.5625 - val_loss: 0.6519 - val_accuracy: 0.6130\n",
            "Epoch 42/100\n",
            "100/100 [==============================] - 18s 184ms/step - loss: 0.6721 - accuracy: 0.5910 - val_loss: 0.6725 - val_accuracy: 0.5770\n",
            "Epoch 43/100\n",
            "100/100 [==============================] - 17s 172ms/step - loss: 0.6523 - accuracy: 0.6110 - val_loss: 0.6248 - val_accuracy: 0.6340\n",
            "Epoch 44/100\n",
            "100/100 [==============================] - 17s 171ms/step - loss: 0.6472 - accuracy: 0.6340 - val_loss: 0.6250 - val_accuracy: 0.6570\n",
            "Epoch 45/100\n",
            "100/100 [==============================] - 18s 179ms/step - loss: 0.6519 - accuracy: 0.6115 - val_loss: 0.6301 - val_accuracy: 0.6600\n",
            "Epoch 46/100\n",
            "100/100 [==============================] - 18s 181ms/step - loss: 0.6410 - accuracy: 0.6405 - val_loss: 0.6159 - val_accuracy: 0.6710\n",
            "Epoch 47/100\n",
            "100/100 [==============================] - 18s 181ms/step - loss: 0.6241 - accuracy: 0.6595 - val_loss: 0.5901 - val_accuracy: 0.6850\n",
            "Epoch 48/100\n",
            "100/100 [==============================] - 18s 179ms/step - loss: 0.6206 - accuracy: 0.6530 - val_loss: 0.5783 - val_accuracy: 0.7090\n",
            "Epoch 49/100\n",
            "100/100 [==============================] - 17s 172ms/step - loss: 0.6029 - accuracy: 0.6795 - val_loss: 0.6259 - val_accuracy: 0.6510\n",
            "Epoch 50/100\n",
            "100/100 [==============================] - 17s 173ms/step - loss: 0.5888 - accuracy: 0.6935 - val_loss: 0.5964 - val_accuracy: 0.6760\n",
            "Epoch 51/100\n",
            "100/100 [==============================] - 19s 185ms/step - loss: 0.5914 - accuracy: 0.6985 - val_loss: 0.5756 - val_accuracy: 0.6940\n",
            "Epoch 52/100\n",
            "100/100 [==============================] - 17s 175ms/step - loss: 0.5902 - accuracy: 0.6830 - val_loss: 0.5809 - val_accuracy: 0.6940\n",
            "Epoch 53/100\n",
            "100/100 [==============================] - 17s 172ms/step - loss: 0.5891 - accuracy: 0.6940 - val_loss: 0.5793 - val_accuracy: 0.7010\n",
            "Epoch 54/100\n",
            "100/100 [==============================] - 18s 178ms/step - loss: 0.5687 - accuracy: 0.7080 - val_loss: 0.5731 - val_accuracy: 0.7020\n",
            "Epoch 55/100\n",
            "100/100 [==============================] - 18s 183ms/step - loss: 0.5827 - accuracy: 0.6985 - val_loss: 0.5887 - val_accuracy: 0.6910\n",
            "Epoch 56/100\n",
            "100/100 [==============================] - 17s 171ms/step - loss: 0.5692 - accuracy: 0.7085 - val_loss: 0.5611 - val_accuracy: 0.7220\n",
            "Epoch 57/100\n",
            "100/100 [==============================] - 17s 173ms/step - loss: 0.5752 - accuracy: 0.6990 - val_loss: 0.5834 - val_accuracy: 0.7110\n",
            "Epoch 58/100\n",
            "100/100 [==============================] - 18s 183ms/step - loss: 0.5557 - accuracy: 0.7100 - val_loss: 0.5998 - val_accuracy: 0.7170\n",
            "Epoch 59/100\n",
            "100/100 [==============================] - 18s 180ms/step - loss: 0.5550 - accuracy: 0.7145 - val_loss: 0.5803 - val_accuracy: 0.6870\n",
            "Epoch 60/100\n",
            "100/100 [==============================] - 17s 170ms/step - loss: 0.5539 - accuracy: 0.7250 - val_loss: 0.5384 - val_accuracy: 0.7380\n",
            "Epoch 61/100\n",
            "100/100 [==============================] - 17s 170ms/step - loss: 0.5557 - accuracy: 0.7145 - val_loss: 0.5691 - val_accuracy: 0.7060\n",
            "Epoch 62/100\n",
            "100/100 [==============================] - 19s 185ms/step - loss: 0.5482 - accuracy: 0.7230 - val_loss: 0.5538 - val_accuracy: 0.7210\n",
            "Epoch 63/100\n",
            "100/100 [==============================] - 18s 178ms/step - loss: 0.5476 - accuracy: 0.7205 - val_loss: 0.5518 - val_accuracy: 0.7050\n",
            "Epoch 64/100\n",
            "100/100 [==============================] - 18s 184ms/step - loss: 0.5253 - accuracy: 0.7440 - val_loss: 0.5283 - val_accuracy: 0.7560\n",
            "Epoch 65/100\n",
            "100/100 [==============================] - 17s 173ms/step - loss: 0.5315 - accuracy: 0.7405 - val_loss: 0.5281 - val_accuracy: 0.7380\n",
            "Epoch 66/100\n",
            "100/100 [==============================] - 17s 170ms/step - loss: 0.5259 - accuracy: 0.7330 - val_loss: 0.5525 - val_accuracy: 0.7490\n",
            "Epoch 67/100\n",
            "100/100 [==============================] - 18s 177ms/step - loss: 0.5352 - accuracy: 0.7310 - val_loss: 0.5327 - val_accuracy: 0.7330\n",
            "Epoch 68/100\n",
            "100/100 [==============================] - 18s 183ms/step - loss: 0.5209 - accuracy: 0.7405 - val_loss: 0.5749 - val_accuracy: 0.7120\n",
            "Epoch 69/100\n",
            "100/100 [==============================] - 17s 170ms/step - loss: 0.5311 - accuracy: 0.7365 - val_loss: 0.5181 - val_accuracy: 0.7640\n",
            "Epoch 70/100\n",
            "100/100 [==============================] - 17s 170ms/step - loss: 0.5201 - accuracy: 0.7360 - val_loss: 0.5250 - val_accuracy: 0.7480\n",
            "Epoch 71/100\n",
            "100/100 [==============================] - 18s 179ms/step - loss: 0.5370 - accuracy: 0.7275 - val_loss: 0.5297 - val_accuracy: 0.7620\n",
            "Epoch 72/100\n",
            "100/100 [==============================] - 18s 180ms/step - loss: 0.5123 - accuracy: 0.7535 - val_loss: 0.5353 - val_accuracy: 0.7310\n",
            "Epoch 73/100\n",
            "100/100 [==============================] - 17s 171ms/step - loss: 0.5157 - accuracy: 0.7570 - val_loss: 0.5215 - val_accuracy: 0.7580\n",
            "Epoch 74/100\n",
            "100/100 [==============================] - 17s 171ms/step - loss: 0.5254 - accuracy: 0.7365 - val_loss: 0.5680 - val_accuracy: 0.6930\n",
            "Epoch 75/100\n",
            "100/100 [==============================] - 18s 184ms/step - loss: 0.5036 - accuracy: 0.7490 - val_loss: 0.5199 - val_accuracy: 0.7620\n",
            "Epoch 76/100\n",
            "100/100 [==============================] - 18s 179ms/step - loss: 0.5083 - accuracy: 0.7555 - val_loss: 0.5340 - val_accuracy: 0.7430\n",
            "Epoch 77/100\n",
            "100/100 [==============================] - 17s 171ms/step - loss: 0.4988 - accuracy: 0.7585 - val_loss: 0.5026 - val_accuracy: 0.7660\n",
            "Epoch 78/100\n",
            "100/100 [==============================] - 17s 173ms/step - loss: 0.4904 - accuracy: 0.7590 - val_loss: 0.5726 - val_accuracy: 0.7460\n",
            "Epoch 79/100\n",
            "100/100 [==============================] - 19s 186ms/step - loss: 0.4963 - accuracy: 0.7590 - val_loss: 0.4991 - val_accuracy: 0.7680\n",
            "Epoch 80/100\n",
            "100/100 [==============================] - 17s 175ms/step - loss: 0.5033 - accuracy: 0.7625 - val_loss: 0.5215 - val_accuracy: 0.7400\n",
            "Epoch 81/100\n",
            "100/100 [==============================] - 17s 171ms/step - loss: 0.4889 - accuracy: 0.7625 - val_loss: 0.5077 - val_accuracy: 0.7650\n",
            "Epoch 82/100\n",
            "100/100 [==============================] - 18s 177ms/step - loss: 0.4986 - accuracy: 0.7540 - val_loss: 0.5093 - val_accuracy: 0.7610\n",
            "Epoch 83/100\n",
            "100/100 [==============================] - 18s 184ms/step - loss: 0.4984 - accuracy: 0.7560 - val_loss: 0.4991 - val_accuracy: 0.7840\n",
            "Epoch 84/100\n",
            "100/100 [==============================] - 18s 180ms/step - loss: 0.4914 - accuracy: 0.7620 - val_loss: 0.5215 - val_accuracy: 0.7640\n",
            "Epoch 85/100\n",
            "100/100 [==============================] - 18s 182ms/step - loss: 0.4815 - accuracy: 0.7665 - val_loss: 0.5460 - val_accuracy: 0.7370\n",
            "Epoch 86/100\n",
            "100/100 [==============================] - 17s 171ms/step - loss: 0.4693 - accuracy: 0.7750 - val_loss: 0.5791 - val_accuracy: 0.7270\n",
            "Epoch 87/100\n",
            "100/100 [==============================] - 17s 171ms/step - loss: 0.4936 - accuracy: 0.7515 - val_loss: 0.6327 - val_accuracy: 0.7070\n",
            "Epoch 88/100\n",
            "100/100 [==============================] - 18s 183ms/step - loss: 0.4790 - accuracy: 0.7640 - val_loss: 0.4841 - val_accuracy: 0.7750\n",
            "Epoch 89/100\n",
            "100/100 [==============================] - 18s 179ms/step - loss: 0.4655 - accuracy: 0.7790 - val_loss: 0.5389 - val_accuracy: 0.7730\n",
            "Epoch 90/100\n",
            "100/100 [==============================] - 17s 172ms/step - loss: 0.4924 - accuracy: 0.7605 - val_loss: 0.5069 - val_accuracy: 0.7600\n",
            "Epoch 91/100\n",
            "100/100 [==============================] - 17s 171ms/step - loss: 0.4683 - accuracy: 0.7725 - val_loss: 0.4870 - val_accuracy: 0.7690\n",
            "Epoch 92/100\n",
            "100/100 [==============================] - 19s 187ms/step - loss: 0.4617 - accuracy: 0.7765 - val_loss: 0.4992 - val_accuracy: 0.7650\n",
            "Epoch 93/100\n",
            "100/100 [==============================] - 18s 178ms/step - loss: 0.4727 - accuracy: 0.7735 - val_loss: 0.5210 - val_accuracy: 0.7640\n",
            "Epoch 94/100\n",
            "100/100 [==============================] - 17s 172ms/step - loss: 0.4648 - accuracy: 0.7750 - val_loss: 0.5365 - val_accuracy: 0.7410\n",
            "Epoch 95/100\n",
            "100/100 [==============================] - 18s 176ms/step - loss: 0.4615 - accuracy: 0.7785 - val_loss: 0.5110 - val_accuracy: 0.7630\n",
            "Epoch 96/100\n",
            "100/100 [==============================] - 18s 184ms/step - loss: 0.4558 - accuracy: 0.7845 - val_loss: 0.4901 - val_accuracy: 0.7800\n",
            "Epoch 97/100\n",
            "100/100 [==============================] - 17s 171ms/step - loss: 0.4641 - accuracy: 0.7835 - val_loss: 0.4840 - val_accuracy: 0.7840\n",
            "Epoch 98/100\n",
            "100/100 [==============================] - 17s 171ms/step - loss: 0.4569 - accuracy: 0.7795 - val_loss: 0.4932 - val_accuracy: 0.7670\n",
            "Epoch 99/100\n",
            "100/100 [==============================] - 18s 180ms/step - loss: 0.4380 - accuracy: 0.8030 - val_loss: 0.5201 - val_accuracy: 0.7650\n",
            "Epoch 100/100\n",
            "100/100 [==============================] - 18s 180ms/step - loss: 0.4518 - accuracy: 0.7880 - val_loss: 0.5022 - val_accuracy: 0.7750\n",
            "CPU times: user 33min 7s, sys: 32.4 s, total: 33min 40s\n",
            "Wall time: 30min 4s\n"
          ],
          "name": "stdout"
        }
      ]
    },
    {
      "cell_type": "code",
      "metadata": {
        "id": "k1Z4dQRrHCPM",
        "colab": {
          "base_uri": "https://localhost:8080/",
          "height": 791
        },
        "outputId": "eb598321-1e02-45b4-93d8-2a332f9f3007"
      },
      "source": [
        "import matplotlib.pyplot as plt\n",
        "\n",
        "epochs = range(1, len(hist_mnist.history['loss']) + 1)\n",
        "\n",
        "plt.figure(figsize = (9, 6))\n",
        "plt.plot(epochs, hist_mnist.history['loss'])\n",
        "plt.plot(epochs, hist_mnist.history['val_loss'])\n",
        "# plt.ylim(0, 0.4)\n",
        "plt.title('Training & Validation Loss')\n",
        "plt.xlabel('Epochs')\n",
        "plt.ylabel('Loss')\n",
        "plt.legend(['Training Loss', 'Validation Loss'])\n",
        "plt.grid()\n",
        "plt.show()\n",
        "\n",
        "\n",
        "plt.figure(figsize = (9, 6))\n",
        "plt.plot(epochs, hist_mnist.history['accuracy'])\n",
        "plt.plot(epochs, hist_mnist.history['val_accuracy'])\n",
        "# plt.ylim(0, 0.4)\n",
        "plt.title('Training & Validation accuacy')\n",
        "plt.xlabel('Epochs')\n",
        "plt.ylabel('accuracy')\n",
        "plt.legend(['Training accuracy', 'Validation accuracy'])\n",
        "plt.grid()\n",
        "plt.show()"
      ],
      "execution_count": 15,
      "outputs": [
        {
          "output_type": "display_data",
          "data": {
            "image/png": "[encoded data removed]",
            "text/plain": [
              "<Figure size 648x432 with 1 Axes>"
            ]
          },
          "metadata": {
            "tags": [],
            "needs_background": "light"
          }
        },
        {
          "output_type": "display_data",
          "data": {
            "image/png": "[encoded data removed]",
            "text/plain": [
              "<Figure size 648x432 with 1 Axes>"
            ]
          },
          "metadata": {
            "tags": [],
            "needs_background": "light"
          }
        }
      ]
    },
    {
      "cell_type": "code",
      "metadata": {
        "id": "dMH4GSj4HH15",
        "colab": {
          "base_uri": "https://localhost:8080/"
        },
        "outputId": "c216e7a7-e7dd-4e30-e1f7-db0428622d95"
      },
      "source": [
        "test_datagen = ImageDataGenerator(rescale= 1./255)\n",
        "\n",
        "test_generator = test_datagen.flow_from_directory(test_dir, target_size = (150,150), batch_size = 20, class_mode = 'binary')\n",
        "\n",
        "loss, accuracy = model.evaluate(test_generator, steps = 50)\n",
        "\n",
        "print('Loss = {:.5f}'.format(loss))\n",
        "print('Accuracy = {:.5f}'.format(accuracy))"
      ],
      "execution_count": 17,
      "outputs": [
        {
          "output_type": "stream",
          "text": [
            "Found 1000 images belonging to 2 classes.\n",
            "50/50 [==============================] - 3s 57ms/step - loss: 0.5528 - accuracy: 0.7320\n",
            "Loss = 0.55283\n",
            "Accuracy = 0.73200\n"
          ],
          "name": "stdout"
        }
      ]
    },
    {
      "cell_type": "code",
      "metadata": {
        "colab": {
          "base_uri": "https://localhost:8080/",
          "height": 430
        },
        "id": "eloiSmJZIHNt",
        "outputId": "e9609913-15da-4d8c-f5ec-301601e90ee0"
      },
      "source": [
        "from tensorflow.keras.models import load_model\n",
        "model.save('/content/drive/My Drive/Colab Notebooks/models/002_dogs_and_cats_small.h5')"
      ],
      "execution_count": 18,
      "outputs": [
        {
          "output_type": "error",
          "ename": "KeyboardInterrupt",
          "evalue": "ignored",
          "traceback": [
            "\u001b[0;31m---------------------------------------------------------------------------\u001b[0m",
            "\u001b[0;31mKeyboardInterrupt\u001b[0m                         Traceback (most recent call last)",
            "\u001b[0;32m<ipython-input-18-0ed45de07ff8>\u001b[0m in \u001b[0;36m<module>\u001b[0;34m()\u001b[0m\n\u001b[1;32m      1\u001b[0m \u001b[0;32mfrom\u001b[0m \u001b[0mtensorflow\u001b[0m\u001b[0;34m.\u001b[0m\u001b[0mkeras\u001b[0m\u001b[0;34m.\u001b[0m\u001b[0mmodels\u001b[0m \u001b[0;32mimport\u001b[0m \u001b[0mload_model\u001b[0m\u001b[0;34m\u001b[0m\u001b[0;34m\u001b[0m\u001b[0m\n\u001b[0;32m----> 2\u001b[0;31m \u001b[0mmodel\u001b[0m\u001b[0;34m.\u001b[0m\u001b[0msave\u001b[0m\u001b[0;34m(\u001b[0m\u001b[0;34m'/content/drive/My Drive/Colab Notebooks/models/002_dogs_and_cats_small.h5'\u001b[0m\u001b[0;34m)\u001b[0m\u001b[0;34m\u001b[0m\u001b[0;34m\u001b[0m\u001b[0m\n\u001b[0m",
            "\u001b[0;32m/usr/local/lib/python3.7/dist-packages/tensorflow/python/keras/engine/training.py\u001b[0m in \u001b[0;36msave\u001b[0;34m(self, filepath, overwrite, include_optimizer, save_format, signatures, options, save_traces)\u001b[0m\n\u001b[1;32m   2110\u001b[0m     \u001b[0;31m# pylint: enable=line-too-long\u001b[0m\u001b[0;34m\u001b[0m\u001b[0;34m\u001b[0m\u001b[0;34m\u001b[0m\u001b[0m\n\u001b[1;32m   2111\u001b[0m     save.save_model(self, filepath, overwrite, include_optimizer, save_format,\n\u001b[0;32m-> 2112\u001b[0;31m                     signatures, options, save_traces)\n\u001b[0m\u001b[1;32m   2113\u001b[0m \u001b[0;34m\u001b[0m\u001b[0m\n\u001b[1;32m   2114\u001b[0m   def save_weights(self,\n",
            "\u001b[0;32m/usr/local/lib/python3.7/dist-packages/tensorflow/python/keras/saving/save.py\u001b[0m in \u001b[0;36msave_model\u001b[0;34m(model, filepath, overwrite, include_optimizer, save_format, signatures, options, save_traces)\u001b[0m\n\u001b[1;32m    145\u001b[0m           'or using `save_weights`.')\n\u001b[1;32m    146\u001b[0m     hdf5_format.save_model_to_hdf5(\n\u001b[0;32m--> 147\u001b[0;31m         model, filepath, overwrite, include_optimizer)\n\u001b[0m\u001b[1;32m    148\u001b[0m   \u001b[0;32melse\u001b[0m\u001b[0;34m:\u001b[0m\u001b[0;34m\u001b[0m\u001b[0;34m\u001b[0m\u001b[0m\n\u001b[1;32m    149\u001b[0m     \u001b[0;32mwith\u001b[0m \u001b[0mgeneric_utils\u001b[0m\u001b[0;34m.\u001b[0m\u001b[0mSharedObjectSavingScope\u001b[0m\u001b[0;34m(\u001b[0m\u001b[0;34m)\u001b[0m\u001b[0;34m:\u001b[0m\u001b[0;34m\u001b[0m\u001b[0;34m\u001b[0m\u001b[0m\n",
            "\u001b[0;32m/usr/local/lib/python3.7/dist-packages/tensorflow/python/keras/saving/hdf5_format.py\u001b[0m in \u001b[0;36msave_model_to_hdf5\u001b[0;34m(model, filepath, overwrite, include_optimizer)\u001b[0m\n\u001b[1;32m    101\u001b[0m       \u001b[0mgfile\u001b[0m\u001b[0;34m.\u001b[0m\u001b[0mMakeDirs\u001b[0m\u001b[0;34m(\u001b[0m\u001b[0mdirpath\u001b[0m\u001b[0;34m)\u001b[0m\u001b[0;34m\u001b[0m\u001b[0;34m\u001b[0m\u001b[0m\n\u001b[1;32m    102\u001b[0m \u001b[0;34m\u001b[0m\u001b[0m\n\u001b[0;32m--> 103\u001b[0;31m     \u001b[0mf\u001b[0m \u001b[0;34m=\u001b[0m \u001b[0mh5py\u001b[0m\u001b[0;34m.\u001b[0m\u001b[0mFile\u001b[0m\u001b[0;34m(\u001b[0m\u001b[0mfilepath\u001b[0m\u001b[0;34m,\u001b[0m \u001b[0mmode\u001b[0m\u001b[0;34m=\u001b[0m\u001b[0;34m'w'\u001b[0m\u001b[0;34m)\u001b[0m\u001b[0;34m\u001b[0m\u001b[0;34m\u001b[0m\u001b[0m\n\u001b[0m\u001b[1;32m    104\u001b[0m     \u001b[0mopened_new_file\u001b[0m \u001b[0;34m=\u001b[0m \u001b[0;32mTrue\u001b[0m\u001b[0;34m\u001b[0m\u001b[0;34m\u001b[0m\u001b[0m\n\u001b[1;32m    105\u001b[0m   \u001b[0;32melse\u001b[0m\u001b[0;34m:\u001b[0m\u001b[0;34m\u001b[0m\u001b[0;34m\u001b[0m\u001b[0m\n",
            "\u001b[0;32m/usr/local/lib/python3.7/dist-packages/h5py/_hl/files.py\u001b[0m in \u001b[0;36m__init__\u001b[0;34m(self, name, mode, driver, libver, userblock_size, swmr, rdcc_nslots, rdcc_nbytes, rdcc_w0, track_order, fs_strategy, fs_persist, fs_threshold, **kwds)\u001b[0m\n\u001b[1;32m    425\u001b[0m                                fapl, fcpl=make_fcpl(track_order=track_order, fs_strategy=fs_strategy,\n\u001b[1;32m    426\u001b[0m                                fs_persist=fs_persist, fs_threshold=fs_threshold),\n\u001b[0;32m--> 427\u001b[0;31m                                swmr=swmr)\n\u001b[0m\u001b[1;32m    428\u001b[0m \u001b[0;34m\u001b[0m\u001b[0m\n\u001b[1;32m    429\u001b[0m             \u001b[0;32mif\u001b[0m \u001b[0misinstance\u001b[0m\u001b[0;34m(\u001b[0m\u001b[0mlibver\u001b[0m\u001b[0;34m,\u001b[0m \u001b[0mtuple\u001b[0m\u001b[0;34m)\u001b[0m\u001b[0;34m:\u001b[0m\u001b[0;34m\u001b[0m\u001b[0;34m\u001b[0m\u001b[0m\n",
            "\u001b[0;32m/usr/local/lib/python3.7/dist-packages/h5py/_hl/files.py\u001b[0m in \u001b[0;36mmake_fid\u001b[0;34m(name, mode, userblock_size, fapl, fcpl, swmr)\u001b[0m\n\u001b[1;32m    194\u001b[0m         \u001b[0mfid\u001b[0m \u001b[0;34m=\u001b[0m \u001b[0mh5f\u001b[0m\u001b[0;34m.\u001b[0m\u001b[0mcreate\u001b[0m\u001b[0;34m(\u001b[0m\u001b[0mname\u001b[0m\u001b[0;34m,\u001b[0m \u001b[0mh5f\u001b[0m\u001b[0;34m.\u001b[0m\u001b[0mACC_EXCL\u001b[0m\u001b[0;34m,\u001b[0m \u001b[0mfapl\u001b[0m\u001b[0;34m=\u001b[0m\u001b[0mfapl\u001b[0m\u001b[0;34m,\u001b[0m \u001b[0mfcpl\u001b[0m\u001b[0;34m=\u001b[0m\u001b[0mfcpl\u001b[0m\u001b[0;34m)\u001b[0m\u001b[0;34m\u001b[0m\u001b[0;34m\u001b[0m\u001b[0m\n\u001b[1;32m    195\u001b[0m     \u001b[0;32melif\u001b[0m \u001b[0mmode\u001b[0m \u001b[0;34m==\u001b[0m \u001b[0;34m'w'\u001b[0m\u001b[0;34m:\u001b[0m\u001b[0;34m\u001b[0m\u001b[0;34m\u001b[0m\u001b[0m\n\u001b[0;32m--> 196\u001b[0;31m         \u001b[0mfid\u001b[0m \u001b[0;34m=\u001b[0m \u001b[0mh5f\u001b[0m\u001b[0;34m.\u001b[0m\u001b[0mcreate\u001b[0m\u001b[0;34m(\u001b[0m\u001b[0mname\u001b[0m\u001b[0;34m,\u001b[0m \u001b[0mh5f\u001b[0m\u001b[0;34m.\u001b[0m\u001b[0mACC_TRUNC\u001b[0m\u001b[0;34m,\u001b[0m \u001b[0mfapl\u001b[0m\u001b[0;34m=\u001b[0m\u001b[0mfapl\u001b[0m\u001b[0;34m,\u001b[0m \u001b[0mfcpl\u001b[0m\u001b[0;34m=\u001b[0m\u001b[0mfcpl\u001b[0m\u001b[0;34m)\u001b[0m\u001b[0;34m\u001b[0m\u001b[0;34m\u001b[0m\u001b[0m\n\u001b[0m\u001b[1;32m    197\u001b[0m     \u001b[0;32melif\u001b[0m \u001b[0mmode\u001b[0m \u001b[0;34m==\u001b[0m \u001b[0;34m'a'\u001b[0m\u001b[0;34m:\u001b[0m\u001b[0;34m\u001b[0m\u001b[0;34m\u001b[0m\u001b[0m\n\u001b[1;32m    198\u001b[0m         \u001b[0;31m# Open in append mode (read/write).\u001b[0m\u001b[0;34m\u001b[0m\u001b[0;34m\u001b[0m\u001b[0;34m\u001b[0m\u001b[0m\n",
            "\u001b[0;32mh5py/_objects.pyx\u001b[0m in \u001b[0;36mh5py._objects.with_phil.wrapper\u001b[0;34m()\u001b[0m\n",
            "\u001b[0;32mh5py/_objects.pyx\u001b[0m in \u001b[0;36mh5py._objects.with_phil.wrapper\u001b[0;34m()\u001b[0m\n",
            "\u001b[0;32mh5py/h5f.pyx\u001b[0m in \u001b[0;36mh5py.h5f.create\u001b[0;34m()\u001b[0m\n",
            "\u001b[0;32mh5py/h5g.pyx\u001b[0m in \u001b[0;36mh5py.h5g.GroupID.__init__\u001b[0;34m()\u001b[0m\n",
            "\u001b[0;32mh5py/h5g.pyx\u001b[0m in \u001b[0;36mh5py.h5g.GroupID.__init__\u001b[0;34m()\u001b[0m\n",
            "\u001b[0;32m/usr/lib/python3.7/importlib/_bootstrap.py\u001b[0m in \u001b[0;36mparent\u001b[0;34m(self)\u001b[0m\n",
            "\u001b[0;31mKeyboardInterrupt\u001b[0m: "
          ]
        }
      ]
    },
    {
      "cell_type": "code",
      "metadata": {
        "id": "22QlERaJMPEG"
      },
      "source": [
        "model_small = load_model('/content/drive/My Drive/Colab Notebooks/models/002_dogs_and_cats_small.h5')"
      ],
      "execution_count": 24,
      "outputs": []
    },
    {
      "cell_type": "code",
      "metadata": {
        "id": "quP-rt8mMYyM"
      },
      "source": [
        ""
      ],
      "execution_count": null,
      "outputs": []
    }
  ]
}