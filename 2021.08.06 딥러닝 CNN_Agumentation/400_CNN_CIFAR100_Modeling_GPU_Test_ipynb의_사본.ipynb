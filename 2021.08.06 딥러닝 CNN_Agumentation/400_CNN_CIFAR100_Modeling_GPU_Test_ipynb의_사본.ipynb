{
  "nbformat": 4,
  "nbformat_minor": 0,
  "metadata": {
    "colab": {
      "name": "400_CNN_CIFAR100_Modeling_GPU_Test.ipynb의 사본",
      "provenance": [],
      "collapsed_sections": [],
      "include_colab_link": true
    },
    "kernelspec": {
      "name": "python3",
      "display_name": "Python 3"
    },
    "accelerator": "GPU"
  },
  "cells": [
    {
      "cell_type": "markdown",
      "metadata": {
        "id": "view-in-github",
        "colab_type": "text"
      },
      "source": [
        "<a href=\"https://colab.research.google.com/github/Minsung-commit/TIL/blob/master/400_CNN_CIFAR100_Modeling_GPU_Test_ipynb%EC%9D%98_%EC%82%AC%EB%B3%B8.ipynb\" target=\"_parent\"><img src=\"https://colab.research.google.com/assets/colab-badge.svg\" alt=\"Open In Colab\"/></a>"
      ]
    },
    {
      "cell_type": "markdown",
      "metadata": {
        "id": "q2Pr7oBdYLdf"
      },
      "source": [
        "# CIFAR100 - Categorical Classification\n",
        "> # Convolutional Neural Network"
      ]
    },
    {
      "cell_type": "code",
      "metadata": {
        "id": "RbPgODpVzdHI"
      },
      "source": [
        "import warnings\n",
        "warnings.filterwarnings('ignore')"
      ],
      "execution_count": 1,
      "outputs": []
    },
    {
      "cell_type": "markdown",
      "metadata": {
        "id": "tUvJIk2aRFtw"
      },
      "source": [
        "* import Tensorflow"
      ]
    },
    {
      "cell_type": "code",
      "metadata": {
        "id": "GR4j3p6N_rDV",
        "colab": {
          "base_uri": "https://localhost:8080/",
          "height": 35
        },
        "outputId": "f356e889-63cd-43ef-add1-8f715fd37c87"
      },
      "source": [
        "import tensorflow\n",
        "\n",
        "tensorflow.__version__"
      ],
      "execution_count": 2,
      "outputs": [
        {
          "output_type": "execute_result",
          "data": {
            "application/vnd.google.colaboratory.intrinsic+json": {
              "type": "string"
            },
            "text/plain": [
              "'2.5.0'"
            ]
          },
          "metadata": {
            "tags": []
          },
          "execution_count": 2
        }
      ]
    },
    {
      "cell_type": "markdown",
      "metadata": {
        "id": "H49A769LYp-a"
      },
      "source": [
        "# I. CIFAR100 Data_Set Load"
      ]
    },
    {
      "cell_type": "code",
      "metadata": {
        "id": "DxstjE8b_6Te",
        "colab": {
          "base_uri": "https://localhost:8080/"
        },
        "outputId": "76c69a6f-47a5-427b-fb69-4640ebb533ca"
      },
      "source": [
        "from tensorflow.keras.datasets import cifar100\n",
        "\n",
        "(X_train, y_train), (X_test, y_test) = cifar100.load_data(label_mode = 'fine')"
      ],
      "execution_count": 3,
      "outputs": [
        {
          "output_type": "stream",
          "text": [
            "Downloading data from https://www.cs.toronto.edu/~kriz/cifar-100-python.tar.gz\n",
            "169009152/169001437 [==============================] - 4s 0us/step\n"
          ],
          "name": "stdout"
        }
      ]
    },
    {
      "cell_type": "markdown",
      "metadata": {
        "id": "Mk9XL5vGHor6"
      },
      "source": [
        "# II. Data Preprocessing"
      ]
    },
    {
      "cell_type": "markdown",
      "metadata": {
        "id": "ec8zU4XCZRUF"
      },
      "source": [
        "> ## 1) Reshape and Normalization"
      ]
    },
    {
      "cell_type": "markdown",
      "metadata": {
        "id": "olI6ZPtEIb8H"
      },
      "source": [
        "* reshape"
      ]
    },
    {
      "cell_type": "code",
      "metadata": {
        "id": "8-toPn1ZAmFd"
      },
      "source": [
        "X_train = X_train.reshape((50000,  32, 32, 3))\n",
        "X_test = X_test.reshape((10000,  32, 32, 3))"
      ],
      "execution_count": 4,
      "outputs": []
    },
    {
      "cell_type": "markdown",
      "metadata": {
        "id": "UN-xPWjYIeWL"
      },
      "source": [
        "* Normalization"
      ]
    },
    {
      "cell_type": "code",
      "metadata": {
        "id": "SoGHuYeFIGBj"
      },
      "source": [
        "X_train = X_train.astype(float) / 255\n",
        "X_test = X_test.astype(float) / 255"
      ],
      "execution_count": 5,
      "outputs": []
    },
    {
      "cell_type": "markdown",
      "metadata": {
        "id": "BtSROU80aF12"
      },
      "source": [
        "> ## 2) One Hot Encoding"
      ]
    },
    {
      "cell_type": "code",
      "metadata": {
        "id": "eC48Oym3Ao8E"
      },
      "source": [
        "from tensorflow.keras.utils import to_categorical\n",
        "\n",
        "y_train = to_categorical(y_train)\n",
        "y_test = to_categorical(y_test)"
      ],
      "execution_count": 6,
      "outputs": []
    },
    {
      "cell_type": "markdown",
      "metadata": {
        "id": "NTwZiSjiop3v"
      },
      "source": [
        "# III. MNIST Keras Modeling"
      ]
    },
    {
      "cell_type": "markdown",
      "metadata": {
        "id": "j5CT0TurJCkc"
      },
      "source": [
        "> ## 1) Model Define"
      ]
    },
    {
      "cell_type": "code",
      "metadata": {
        "id": "II0DskRdAcHS"
      },
      "source": [
        "from tensorflow.keras import models\n",
        "from tensorflow.keras import layers"
      ],
      "execution_count": 7,
      "outputs": []
    },
    {
      "cell_type": "code",
      "metadata": {
        "id": "kQ02_BOz8-ek",
        "colab": {
          "base_uri": "https://localhost:8080/"
        },
        "outputId": "2ee46f6e-9329-4f6e-aab1-82c7256fcc50"
      },
      "source": [
        "model = models.Sequential()\n",
        "model.add(layers.Conv2D(filters=32, kernel_size=(3,3), activation='relu', input_shape=(32,32, 3)))\n",
        "model.add(layers.MaxPool2D(pool_size=(2,2)))\n",
        "model.add(layers.Conv2D(filters=32, kernel_size=(3,3), activation='relu'))\n",
        "model.add(layers.MaxPool2D(pool_size=(2,2)))\n",
        "model.add(layers.Conv2D(filters=32, kernel_size=(3,3), activation='relu'))\n",
        "model.summary()"
      ],
      "execution_count": 8,
      "outputs": [
        {
          "output_type": "stream",
          "text": [
            "Model: \"sequential\"\n",
            "_________________________________________________________________\n",
            "Layer (type)                 Output Shape              Param #   \n",
            "=================================================================\n",
            "conv2d (Conv2D)              (None, 30, 30, 32)        896       \n",
            "_________________________________________________________________\n",
            "max_pooling2d (MaxPooling2D) (None, 15, 15, 32)        0         \n",
            "_________________________________________________________________\n",
            "conv2d_1 (Conv2D)            (None, 13, 13, 32)        9248      \n",
            "_________________________________________________________________\n",
            "max_pooling2d_1 (MaxPooling2 (None, 6, 6, 32)          0         \n",
            "_________________________________________________________________\n",
            "conv2d_2 (Conv2D)            (None, 4, 4, 32)          9248      \n",
            "=================================================================\n",
            "Total params: 19,392\n",
            "Trainable params: 19,392\n",
            "Non-trainable params: 0\n",
            "_________________________________________________________________\n"
          ],
          "name": "stdout"
        }
      ]
    },
    {
      "cell_type": "code",
      "metadata": {
        "colab": {
          "base_uri": "https://localhost:8080/"
        },
        "id": "M84HcKTSvAKf",
        "outputId": "4c42c1e3-6b53-4a45-e34c-94433be336db"
      },
      "source": [
        "model.add(layers.Flatten())\n",
        "model.add(layers.Dense(units=256, activation='relu'))\n",
        "model.add(layers.Dense(units=128, activation='relu'))\n",
        "model.add(layers.Dense(units=100, activation='softmax'))\n",
        "model.summary()"
      ],
      "execution_count": 9,
      "outputs": [
        {
          "output_type": "stream",
          "text": [
            "Model: \"sequential\"\n",
            "_________________________________________________________________\n",
            "Layer (type)                 Output Shape              Param #   \n",
            "=================================================================\n",
            "conv2d (Conv2D)              (None, 30, 30, 32)        896       \n",
            "_________________________________________________________________\n",
            "max_pooling2d (MaxPooling2D) (None, 15, 15, 32)        0         \n",
            "_________________________________________________________________\n",
            "conv2d_1 (Conv2D)            (None, 13, 13, 32)        9248      \n",
            "_________________________________________________________________\n",
            "max_pooling2d_1 (MaxPooling2 (None, 6, 6, 32)          0         \n",
            "_________________________________________________________________\n",
            "conv2d_2 (Conv2D)            (None, 4, 4, 32)          9248      \n",
            "_________________________________________________________________\n",
            "flatten (Flatten)            (None, 512)               0         \n",
            "_________________________________________________________________\n",
            "dense (Dense)                (None, 256)               131328    \n",
            "_________________________________________________________________\n",
            "dense_1 (Dense)              (None, 128)               32896     \n",
            "_________________________________________________________________\n",
            "dense_2 (Dense)              (None, 100)               12900     \n",
            "=================================================================\n",
            "Total params: 196,516\n",
            "Trainable params: 196,516\n",
            "Non-trainable params: 0\n",
            "_________________________________________________________________\n"
          ],
          "name": "stdout"
        }
      ]
    },
    {
      "cell_type": "markdown",
      "metadata": {
        "id": "tpjBDBeYoyuj"
      },
      "source": [
        "> ## 2) Model Compile"
      ]
    },
    {
      "cell_type": "markdown",
      "metadata": {
        "id": "f3sxkQa0JoUr"
      },
      "source": [
        "* 모델 학습방법 설정"
      ]
    },
    {
      "cell_type": "code",
      "metadata": {
        "id": "AyK_t1qwAi6M"
      },
      "source": [
        "model.compile(loss = 'categorical_crossentropy',\n",
        "              optimizer = 'rmsprop',\n",
        "              metrics=['accuracy'])"
      ],
      "execution_count": 10,
      "outputs": []
    },
    {
      "cell_type": "markdown",
      "metadata": {
        "id": "umiq4B-Xo3OB"
      },
      "source": [
        "> ## 3) Model Fit"
      ]
    },
    {
      "cell_type": "markdown",
      "metadata": {
        "id": "1KuXREziKMD1"
      },
      "source": [
        "* 약 5분"
      ]
    },
    {
      "cell_type": "code",
      "metadata": {
        "id": "zxwqwAqRAqRP",
        "colab": {
          "base_uri": "https://localhost:8080/"
        },
        "outputId": "d6d8683c-29a9-46e5-88c4-e0b957509d16"
      },
      "source": [
        "%%time\n",
        "\n",
        "hist_mnist = model.fit(X_train, y_train,\n",
        "                       epochs = 100,\n",
        "                       batch_size = 128,\n",
        "                       validation_split = 0.2)"
      ],
      "execution_count": 11,
      "outputs": [
        {
          "output_type": "stream",
          "text": [
            "Epoch 1/100\n",
            "313/313 [==============================] - 34s 8ms/step - loss: 4.2065 - accuracy: 0.0553 - val_loss: 3.9240 - val_accuracy: 0.0942\n",
            "Epoch 2/100\n",
            "313/313 [==============================] - 2s 7ms/step - loss: 3.6989 - accuracy: 0.1342 - val_loss: 3.6625 - val_accuracy: 0.1310\n",
            "Epoch 3/100\n",
            "313/313 [==============================] - 2s 7ms/step - loss: 3.4406 - accuracy: 0.1793 - val_loss: 3.4345 - val_accuracy: 0.1771\n",
            "Epoch 4/100\n",
            "313/313 [==============================] - 2s 7ms/step - loss: 3.2356 - accuracy: 0.2154 - val_loss: 3.1918 - val_accuracy: 0.2209\n",
            "Epoch 5/100\n",
            "313/313 [==============================] - 2s 7ms/step - loss: 3.0608 - accuracy: 0.2498 - val_loss: 3.2691 - val_accuracy: 0.2211\n",
            "Epoch 6/100\n",
            "313/313 [==============================] - 2s 7ms/step - loss: 2.9195 - accuracy: 0.2751 - val_loss: 3.0396 - val_accuracy: 0.2555\n",
            "Epoch 7/100\n",
            "313/313 [==============================] - 2s 7ms/step - loss: 2.7979 - accuracy: 0.3018 - val_loss: 3.0971 - val_accuracy: 0.2458\n",
            "Epoch 8/100\n",
            "313/313 [==============================] - 2s 6ms/step - loss: 2.6998 - accuracy: 0.3215 - val_loss: 3.0470 - val_accuracy: 0.2643\n",
            "Epoch 9/100\n",
            "313/313 [==============================] - 2s 6ms/step - loss: 2.6004 - accuracy: 0.3417 - val_loss: 2.8494 - val_accuracy: 0.3003\n",
            "Epoch 10/100\n",
            "313/313 [==============================] - 2s 6ms/step - loss: 2.5057 - accuracy: 0.3600 - val_loss: 2.9902 - val_accuracy: 0.2841\n",
            "Epoch 11/100\n",
            "313/313 [==============================] - 2s 7ms/step - loss: 2.4228 - accuracy: 0.3780 - val_loss: 2.8737 - val_accuracy: 0.3046\n",
            "Epoch 12/100\n",
            "313/313 [==============================] - 2s 7ms/step - loss: 2.3350 - accuracy: 0.3949 - val_loss: 2.8419 - val_accuracy: 0.3198\n",
            "Epoch 13/100\n",
            "313/313 [==============================] - 2s 7ms/step - loss: 2.2536 - accuracy: 0.4110 - val_loss: 2.9242 - val_accuracy: 0.2989\n",
            "Epoch 14/100\n",
            "313/313 [==============================] - 2s 7ms/step - loss: 2.1800 - accuracy: 0.4246 - val_loss: 2.7951 - val_accuracy: 0.3261\n",
            "Epoch 15/100\n",
            "313/313 [==============================] - 2s 7ms/step - loss: 2.1043 - accuracy: 0.4444 - val_loss: 2.8259 - val_accuracy: 0.3265\n",
            "Epoch 16/100\n",
            "313/313 [==============================] - 2s 7ms/step - loss: 2.0309 - accuracy: 0.4604 - val_loss: 2.7949 - val_accuracy: 0.3304\n",
            "Epoch 17/100\n",
            "313/313 [==============================] - 2s 7ms/step - loss: 1.9595 - accuracy: 0.4757 - val_loss: 2.7822 - val_accuracy: 0.3407\n",
            "Epoch 18/100\n",
            "313/313 [==============================] - 2s 7ms/step - loss: 1.8904 - accuracy: 0.4884 - val_loss: 2.9577 - val_accuracy: 0.3308\n",
            "Epoch 19/100\n",
            "313/313 [==============================] - 2s 7ms/step - loss: 1.8156 - accuracy: 0.5080 - val_loss: 3.0202 - val_accuracy: 0.3182\n",
            "Epoch 20/100\n",
            "313/313 [==============================] - 2s 7ms/step - loss: 1.7530 - accuracy: 0.5217 - val_loss: 3.0156 - val_accuracy: 0.3268\n",
            "Epoch 21/100\n",
            "313/313 [==============================] - 2s 7ms/step - loss: 1.6783 - accuracy: 0.5393 - val_loss: 3.0534 - val_accuracy: 0.3346\n",
            "Epoch 22/100\n",
            "313/313 [==============================] - 2s 7ms/step - loss: 1.6188 - accuracy: 0.5557 - val_loss: 3.1055 - val_accuracy: 0.3182\n",
            "Epoch 23/100\n",
            "313/313 [==============================] - 2s 7ms/step - loss: 1.5529 - accuracy: 0.5694 - val_loss: 3.2596 - val_accuracy: 0.3201\n",
            "Epoch 24/100\n",
            "313/313 [==============================] - 2s 7ms/step - loss: 1.4869 - accuracy: 0.5848 - val_loss: 3.2611 - val_accuracy: 0.3157\n",
            "Epoch 25/100\n",
            "313/313 [==============================] - 2s 6ms/step - loss: 1.4266 - accuracy: 0.5985 - val_loss: 3.4192 - val_accuracy: 0.3095\n",
            "Epoch 26/100\n",
            "313/313 [==============================] - 2s 6ms/step - loss: 1.3768 - accuracy: 0.6083 - val_loss: 3.4221 - val_accuracy: 0.3108\n",
            "Epoch 27/100\n",
            "313/313 [==============================] - 2s 6ms/step - loss: 1.3095 - accuracy: 0.6266 - val_loss: 3.4368 - val_accuracy: 0.3283\n",
            "Epoch 28/100\n",
            "313/313 [==============================] - 2s 7ms/step - loss: 1.2508 - accuracy: 0.6435 - val_loss: 3.7619 - val_accuracy: 0.3017\n",
            "Epoch 29/100\n",
            "313/313 [==============================] - 2s 6ms/step - loss: 1.2012 - accuracy: 0.6539 - val_loss: 3.6399 - val_accuracy: 0.3128\n",
            "Epoch 30/100\n",
            "313/313 [==============================] - 2s 6ms/step - loss: 1.1480 - accuracy: 0.6674 - val_loss: 3.8473 - val_accuracy: 0.3142\n",
            "Epoch 31/100\n",
            "313/313 [==============================] - 2s 7ms/step - loss: 1.0962 - accuracy: 0.6778 - val_loss: 4.0655 - val_accuracy: 0.2956\n",
            "Epoch 32/100\n",
            "313/313 [==============================] - 2s 6ms/step - loss: 1.0460 - accuracy: 0.6932 - val_loss: 4.0013 - val_accuracy: 0.3074\n",
            "Epoch 33/100\n",
            "313/313 [==============================] - 2s 6ms/step - loss: 1.0005 - accuracy: 0.7033 - val_loss: 4.3122 - val_accuracy: 0.3000\n",
            "Epoch 34/100\n",
            "313/313 [==============================] - 2s 6ms/step - loss: 0.9529 - accuracy: 0.7161 - val_loss: 4.5016 - val_accuracy: 0.3029\n",
            "Epoch 35/100\n",
            "313/313 [==============================] - 2s 6ms/step - loss: 0.9127 - accuracy: 0.7257 - val_loss: 4.2612 - val_accuracy: 0.3119\n",
            "Epoch 36/100\n",
            "313/313 [==============================] - 2s 6ms/step - loss: 0.8720 - accuracy: 0.7359 - val_loss: 4.5433 - val_accuracy: 0.3114\n",
            "Epoch 37/100\n",
            "313/313 [==============================] - 2s 7ms/step - loss: 0.8322 - accuracy: 0.7477 - val_loss: 4.7639 - val_accuracy: 0.2913\n",
            "Epoch 38/100\n",
            "313/313 [==============================] - 2s 7ms/step - loss: 0.7921 - accuracy: 0.7580 - val_loss: 4.8716 - val_accuracy: 0.2990\n",
            "Epoch 39/100\n",
            "313/313 [==============================] - 2s 7ms/step - loss: 0.7518 - accuracy: 0.7679 - val_loss: 4.9082 - val_accuracy: 0.3095\n",
            "Epoch 40/100\n",
            "313/313 [==============================] - 2s 6ms/step - loss: 0.7201 - accuracy: 0.7767 - val_loss: 5.2710 - val_accuracy: 0.2958\n",
            "Epoch 41/100\n",
            "313/313 [==============================] - 2s 6ms/step - loss: 0.6848 - accuracy: 0.7889 - val_loss: 5.3766 - val_accuracy: 0.3029\n",
            "Epoch 42/100\n",
            "313/313 [==============================] - 2s 7ms/step - loss: 0.6611 - accuracy: 0.7943 - val_loss: 5.6398 - val_accuracy: 0.2949\n",
            "Epoch 43/100\n",
            "313/313 [==============================] - 2s 6ms/step - loss: 0.6245 - accuracy: 0.8029 - val_loss: 5.5831 - val_accuracy: 0.2992\n",
            "Epoch 44/100\n",
            "313/313 [==============================] - 2s 7ms/step - loss: 0.6086 - accuracy: 0.8072 - val_loss: 5.8193 - val_accuracy: 0.3008\n",
            "Epoch 45/100\n",
            "313/313 [==============================] - 2s 7ms/step - loss: 0.5738 - accuracy: 0.8186 - val_loss: 6.0077 - val_accuracy: 0.2954\n",
            "Epoch 46/100\n",
            "313/313 [==============================] - 2s 7ms/step - loss: 0.5504 - accuracy: 0.8255 - val_loss: 6.2441 - val_accuracy: 0.3009\n",
            "Epoch 47/100\n",
            "313/313 [==============================] - 2s 7ms/step - loss: 0.5294 - accuracy: 0.8323 - val_loss: 6.3265 - val_accuracy: 0.2940\n",
            "Epoch 48/100\n",
            "313/313 [==============================] - 2s 7ms/step - loss: 0.5067 - accuracy: 0.8354 - val_loss: 6.4376 - val_accuracy: 0.2946\n",
            "Epoch 49/100\n",
            "313/313 [==============================] - 2s 7ms/step - loss: 0.4936 - accuracy: 0.8432 - val_loss: 6.6650 - val_accuracy: 0.2891\n",
            "Epoch 50/100\n",
            "313/313 [==============================] - 2s 7ms/step - loss: 0.4709 - accuracy: 0.8500 - val_loss: 7.1094 - val_accuracy: 0.2911\n",
            "Epoch 51/100\n",
            "313/313 [==============================] - 2s 7ms/step - loss: 0.4498 - accuracy: 0.8529 - val_loss: 7.1252 - val_accuracy: 0.2959\n",
            "Epoch 52/100\n",
            "313/313 [==============================] - 2s 7ms/step - loss: 0.4346 - accuracy: 0.8598 - val_loss: 7.2245 - val_accuracy: 0.2928\n",
            "Epoch 53/100\n",
            "313/313 [==============================] - 2s 7ms/step - loss: 0.4342 - accuracy: 0.8609 - val_loss: 7.4679 - val_accuracy: 0.2917\n",
            "Epoch 54/100\n",
            "313/313 [==============================] - 2s 7ms/step - loss: 0.4082 - accuracy: 0.8658 - val_loss: 7.6540 - val_accuracy: 0.2878\n",
            "Epoch 55/100\n",
            "313/313 [==============================] - 2s 7ms/step - loss: 0.4017 - accuracy: 0.8694 - val_loss: 7.6748 - val_accuracy: 0.2918\n",
            "Epoch 56/100\n",
            "313/313 [==============================] - 2s 6ms/step - loss: 0.3839 - accuracy: 0.8775 - val_loss: 8.2643 - val_accuracy: 0.2825\n",
            "Epoch 57/100\n",
            "313/313 [==============================] - 2s 6ms/step - loss: 0.3778 - accuracy: 0.8771 - val_loss: 8.2747 - val_accuracy: 0.2855\n",
            "Epoch 58/100\n",
            "313/313 [==============================] - 2s 6ms/step - loss: 0.3705 - accuracy: 0.8794 - val_loss: 8.3893 - val_accuracy: 0.2787\n",
            "Epoch 59/100\n",
            "313/313 [==============================] - 2s 7ms/step - loss: 0.3515 - accuracy: 0.8840 - val_loss: 8.4695 - val_accuracy: 0.2846\n",
            "Epoch 60/100\n",
            "313/313 [==============================] - 2s 6ms/step - loss: 0.3516 - accuracy: 0.8856 - val_loss: 8.5906 - val_accuracy: 0.2838\n",
            "Epoch 61/100\n",
            "313/313 [==============================] - 2s 6ms/step - loss: 0.3440 - accuracy: 0.8867 - val_loss: 8.6516 - val_accuracy: 0.2843\n",
            "Epoch 62/100\n",
            "313/313 [==============================] - 2s 6ms/step - loss: 0.3296 - accuracy: 0.8922 - val_loss: 8.8179 - val_accuracy: 0.2919\n",
            "Epoch 63/100\n",
            "313/313 [==============================] - 2s 6ms/step - loss: 0.3257 - accuracy: 0.8937 - val_loss: 9.1860 - val_accuracy: 0.2837\n",
            "Epoch 64/100\n",
            "313/313 [==============================] - 2s 6ms/step - loss: 0.3175 - accuracy: 0.8970 - val_loss: 9.4177 - val_accuracy: 0.2849\n",
            "Epoch 65/100\n",
            "313/313 [==============================] - 2s 6ms/step - loss: 0.3099 - accuracy: 0.9002 - val_loss: 9.2525 - val_accuracy: 0.2808\n",
            "Epoch 66/100\n",
            "313/313 [==============================] - 2s 6ms/step - loss: 0.3072 - accuracy: 0.9014 - val_loss: 9.7059 - val_accuracy: 0.2893\n",
            "Epoch 67/100\n",
            "313/313 [==============================] - 2s 6ms/step - loss: 0.3078 - accuracy: 0.9016 - val_loss: 9.3648 - val_accuracy: 0.2924\n",
            "Epoch 68/100\n",
            "313/313 [==============================] - 2s 6ms/step - loss: 0.3051 - accuracy: 0.9039 - val_loss: 9.8343 - val_accuracy: 0.2893\n",
            "Epoch 69/100\n",
            "313/313 [==============================] - 2s 6ms/step - loss: 0.2933 - accuracy: 0.9053 - val_loss: 9.8294 - val_accuracy: 0.2866\n",
            "Epoch 70/100\n",
            "313/313 [==============================] - 2s 6ms/step - loss: 0.2808 - accuracy: 0.9088 - val_loss: 10.1263 - val_accuracy: 0.2867\n",
            "Epoch 71/100\n",
            "313/313 [==============================] - 2s 6ms/step - loss: 0.2895 - accuracy: 0.9075 - val_loss: 10.4529 - val_accuracy: 0.2863\n",
            "Epoch 72/100\n",
            "313/313 [==============================] - 2s 7ms/step - loss: 0.2896 - accuracy: 0.9085 - val_loss: 10.1192 - val_accuracy: 0.2876\n",
            "Epoch 73/100\n",
            "313/313 [==============================] - 2s 7ms/step - loss: 0.2761 - accuracy: 0.9123 - val_loss: 10.2640 - val_accuracy: 0.2804\n",
            "Epoch 74/100\n",
            "313/313 [==============================] - 2s 6ms/step - loss: 0.2776 - accuracy: 0.9134 - val_loss: 11.1039 - val_accuracy: 0.2840\n",
            "Epoch 75/100\n",
            "313/313 [==============================] - 2s 6ms/step - loss: 0.2765 - accuracy: 0.9118 - val_loss: 11.4275 - val_accuracy: 0.2794\n",
            "Epoch 76/100\n",
            "313/313 [==============================] - 2s 7ms/step - loss: 0.2719 - accuracy: 0.9153 - val_loss: 11.0260 - val_accuracy: 0.2853\n",
            "Epoch 77/100\n",
            "313/313 [==============================] - 2s 7ms/step - loss: 0.2628 - accuracy: 0.9172 - val_loss: 10.7903 - val_accuracy: 0.2856\n",
            "Epoch 78/100\n",
            "313/313 [==============================] - 2s 7ms/step - loss: 0.2616 - accuracy: 0.9170 - val_loss: 11.0451 - val_accuracy: 0.2865\n",
            "Epoch 79/100\n",
            "313/313 [==============================] - 2s 7ms/step - loss: 0.2542 - accuracy: 0.9207 - val_loss: 10.8807 - val_accuracy: 0.2840\n",
            "Epoch 80/100\n",
            "313/313 [==============================] - 2s 7ms/step - loss: 0.2597 - accuracy: 0.9190 - val_loss: 11.1552 - val_accuracy: 0.2882\n",
            "Epoch 81/100\n",
            "313/313 [==============================] - 2s 7ms/step - loss: 0.2618 - accuracy: 0.9183 - val_loss: 11.5880 - val_accuracy: 0.2868\n",
            "Epoch 82/100\n",
            "313/313 [==============================] - 2s 7ms/step - loss: 0.2546 - accuracy: 0.9226 - val_loss: 11.1823 - val_accuracy: 0.2895\n",
            "Epoch 83/100\n",
            "313/313 [==============================] - 2s 7ms/step - loss: 0.2531 - accuracy: 0.9214 - val_loss: 11.6925 - val_accuracy: 0.2895\n",
            "Epoch 84/100\n",
            "313/313 [==============================] - 2s 7ms/step - loss: 0.2538 - accuracy: 0.9219 - val_loss: 11.5151 - val_accuracy: 0.2882\n",
            "Epoch 85/100\n",
            "313/313 [==============================] - 2s 7ms/step - loss: 0.2468 - accuracy: 0.9235 - val_loss: 11.7682 - val_accuracy: 0.2794\n",
            "Epoch 86/100\n",
            "313/313 [==============================] - 2s 7ms/step - loss: 0.2565 - accuracy: 0.9226 - val_loss: 12.1511 - val_accuracy: 0.2897\n",
            "Epoch 87/100\n",
            "313/313 [==============================] - 2s 7ms/step - loss: 0.2423 - accuracy: 0.9252 - val_loss: 12.0994 - val_accuracy: 0.2855\n",
            "Epoch 88/100\n",
            "313/313 [==============================] - 2s 7ms/step - loss: 0.2383 - accuracy: 0.9276 - val_loss: 12.0844 - val_accuracy: 0.2865\n",
            "Epoch 89/100\n",
            "313/313 [==============================] - 2s 6ms/step - loss: 0.2493 - accuracy: 0.9266 - val_loss: 12.0611 - val_accuracy: 0.2780\n",
            "Epoch 90/100\n",
            "313/313 [==============================] - 2s 6ms/step - loss: 0.2484 - accuracy: 0.9252 - val_loss: 12.4320 - val_accuracy: 0.2922\n",
            "Epoch 91/100\n",
            "313/313 [==============================] - 2s 6ms/step - loss: 0.2368 - accuracy: 0.9274 - val_loss: 12.7678 - val_accuracy: 0.2774\n",
            "Epoch 92/100\n",
            "313/313 [==============================] - 2s 6ms/step - loss: 0.2393 - accuracy: 0.9279 - val_loss: 12.4259 - val_accuracy: 0.2859\n",
            "Epoch 93/100\n",
            "313/313 [==============================] - 2s 6ms/step - loss: 0.2418 - accuracy: 0.9279 - val_loss: 12.1933 - val_accuracy: 0.2832\n",
            "Epoch 94/100\n",
            "313/313 [==============================] - 2s 6ms/step - loss: 0.2426 - accuracy: 0.9278 - val_loss: 12.6135 - val_accuracy: 0.2917\n",
            "Epoch 95/100\n",
            "313/313 [==============================] - 2s 7ms/step - loss: 0.2338 - accuracy: 0.9310 - val_loss: 12.8295 - val_accuracy: 0.2872\n",
            "Epoch 96/100\n",
            "313/313 [==============================] - 2s 6ms/step - loss: 0.2321 - accuracy: 0.9304 - val_loss: 12.6611 - val_accuracy: 0.2912\n",
            "Epoch 97/100\n",
            "313/313 [==============================] - 2s 6ms/step - loss: 0.2392 - accuracy: 0.9291 - val_loss: 12.9192 - val_accuracy: 0.2897\n",
            "Epoch 98/100\n",
            "313/313 [==============================] - 2s 6ms/step - loss: 0.2309 - accuracy: 0.9314 - val_loss: 13.3006 - val_accuracy: 0.2758\n",
            "Epoch 99/100\n",
            "313/313 [==============================] - 2s 6ms/step - loss: 0.2333 - accuracy: 0.9313 - val_loss: 13.5892 - val_accuracy: 0.2835\n",
            "Epoch 100/100\n",
            "313/313 [==============================] - 2s 6ms/step - loss: 0.2236 - accuracy: 0.9323 - val_loss: 13.4433 - val_accuracy: 0.2830\n",
            "CPU times: user 3min 48s, sys: 20.2 s, total: 4min 8s\n",
            "Wall time: 3min 57s\n"
          ],
          "name": "stdout"
        }
      ]
    },
    {
      "cell_type": "markdown",
      "metadata": {
        "id": "FnnIyFtNKhbD"
      },
      "source": [
        "> ## 4) 학습 결과 시각화"
      ]
    },
    {
      "cell_type": "markdown",
      "metadata": {
        "id": "YgXRhVauKqOm"
      },
      "source": [
        "* Loss Visualization"
      ]
    },
    {
      "cell_type": "code",
      "metadata": {
        "id": "OQ4ke8BbKi50",
        "colab": {
          "base_uri": "https://localhost:8080/",
          "height": 404
        },
        "outputId": "b2b58542-2761-482f-8e09-d8cc9c4fb356"
      },
      "source": [
        "import matplotlib.pyplot as plt\n",
        "\n",
        "epochs = range(1, len(hist_mnist.history['loss']) + 1)\n",
        "\n",
        "plt.figure(figsize = (9, 6))\n",
        "plt.plot(epochs, hist_mnist.history['loss'])\n",
        "plt.plot(epochs, hist_mnist.history['val_loss'])\n",
        "# plt.ylim(0, 0.4)\n",
        "plt.title('Training & Validation Loss')\n",
        "plt.xlabel('Epochs')\n",
        "plt.ylabel('Loss')\n",
        "plt.legend(['Training Loss', 'Validation Loss'])\n",
        "plt.grid()\n",
        "plt.show()"
      ],
      "execution_count": 13,
      "outputs": [
        {
          "output_type": "display_data",
          "data": {
            "image/png": "[encoded data removed]",
            "text/plain": [
              "<Figure size 648x432 with 1 Axes>"
            ]
          },
          "metadata": {
            "tags": [],
            "needs_background": "light"
          }
        }
      ]
    },
    {
      "cell_type": "markdown",
      "metadata": {
        "id": "_uJSOLBko7lh"
      },
      "source": [
        "> ## 5) Model Evaluate"
      ]
    },
    {
      "cell_type": "markdown",
      "metadata": {
        "id": "i-TqAB2ALGzZ"
      },
      "source": [
        "* Loss & Accuracy"
      ]
    },
    {
      "cell_type": "code",
      "metadata": {
        "id": "OF30PuZsAxQJ",
        "colab": {
          "base_uri": "https://localhost:8080/"
        },
        "outputId": "c2419dee-e875-4c7b-d5c8-50e97b4aaeaf"
      },
      "source": [
        "loss, accuracy = model.evaluate(X_test, y_test)\n",
        "\n",
        "print('Loss = {:.5f}'.format(loss))\n",
        "print('Accuracy = {:.5f}'.format(accuracy))"
      ],
      "execution_count": 14,
      "outputs": [
        {
          "output_type": "stream",
          "text": [
            "313/313 [==============================] - 1s 3ms/step - loss: 13.4526 - accuracy: 0.2835\n",
            "Loss = 13.45261\n",
            "Accuracy = 0.28350\n"
          ],
          "name": "stdout"
        }
      ]
    },
    {
      "cell_type": "markdown",
      "metadata": {
        "id": "sN48I9GrLxOX"
      },
      "source": [
        "# \n",
        "# \n",
        "# \n",
        "# The End\n",
        "# \n",
        "# \n",
        "# "
      ]
    }
  ]
}