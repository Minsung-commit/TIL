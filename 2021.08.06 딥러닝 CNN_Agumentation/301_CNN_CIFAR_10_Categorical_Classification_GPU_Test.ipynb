{
  "nbformat": 4,
  "nbformat_minor": 0,
  "metadata": {
    "colab": {
      "name": "301_CNN_CIFAR_10_Categorical_Classification_GPU_Test.ipynb",
      "provenance": [],
      "collapsed_sections": [],
      "include_colab_link": true
    },
    "kernelspec": {
      "name": "python3",
      "display_name": "Python 3"
    },
    "accelerator": "GPU"
  },
  "cells": [
    {
      "cell_type": "markdown",
      "metadata": {
        "id": "view-in-github",
        "colab_type": "text"
      },
      "source": [
        "<a href=\"https://colab.research.google.com/github/Minsung-commit/TIL/blob/master/301_CNN_CIFAR_10_Categorical_Classification_GPU_Test.ipynb\" target=\"_parent\"><img src=\"https://colab.research.google.com/assets/colab-badge.svg\" alt=\"Open In Colab\"/></a>"
      ]
    },
    {
      "cell_type": "markdown",
      "metadata": {
        "id": "q2Pr7oBdYLdf"
      },
      "source": [
        "# CIFAR 10 - Categorical Classification"
      ]
    },
    {
      "cell_type": "code",
      "metadata": {
        "id": "RbPgODpVzdHI"
      },
      "source": [
        "import warnings\n",
        "warnings.filterwarnings('ignore')"
      ],
      "execution_count": null,
      "outputs": []
    },
    {
      "cell_type": "markdown",
      "metadata": {
        "id": "tUvJIk2aRFtw"
      },
      "source": [
        "* import Tensorflow"
      ]
    },
    {
      "cell_type": "code",
      "metadata": {
        "id": "GR4j3p6N_rDV",
        "colab": {
          "base_uri": "https://localhost:8080/",
          "height": 35
        },
        "outputId": "3c462057-cb8f-40b4-a53d-9e5f090d1e00"
      },
      "source": [
        "import tensorflow\n",
        "\n",
        "tensorflow.__version__"
      ],
      "execution_count": null,
      "outputs": [
        {
          "output_type": "execute_result",
          "data": {
            "application/vnd.google.colaboratory.intrinsic+json": {
              "type": "string"
            },
            "text/plain": [
              "'2.5.0'"
            ]
          },
          "metadata": {
            "tags": []
          },
          "execution_count": 2
        }
      ]
    },
    {
      "cell_type": "markdown",
      "metadata": {
        "id": "H49A769LYp-a"
      },
      "source": [
        "# I. CIFAR 10 Data_Set Load & Review"
      ]
    },
    {
      "cell_type": "markdown",
      "metadata": {
        "id": "vb6EIkRcbPb4"
      },
      "source": [
        "> ## 1) Load CIFAR 10 Data_Set"
      ]
    },
    {
      "cell_type": "code",
      "metadata": {
        "id": "DxstjE8b_6Te"
      },
      "source": [
        "from tensorflow.keras.datasets import cifar10\n",
        "\n",
        "(X_train, y_train), (X_test, y_test) = cifar10.load_data()"
      ],
      "execution_count": null,
      "outputs": []
    },
    {
      "cell_type": "markdown",
      "metadata": {
        "id": "Mt11QE0EHCiJ"
      },
      "source": [
        "* Train_Data Information"
      ]
    },
    {
      "cell_type": "code",
      "metadata": {
        "id": "KT_Mr_Hb__VH",
        "colab": {
          "base_uri": "https://localhost:8080/"
        },
        "outputId": "4985d2d7-fbfe-4bd8-fff5-4e0d61f7d489"
      },
      "source": [
        "print(len(X_train))\n",
        "print(X_train.shape)\n",
        "\n",
        "print(len(y_train))\n",
        "print(y_train[0:5])"
      ],
      "execution_count": null,
      "outputs": [
        {
          "output_type": "stream",
          "text": [
            "50000\n",
            "(50000, 32, 32, 3)\n",
            "50000\n",
            "[[6]\n",
            " [9]\n",
            " [9]\n",
            " [4]\n",
            " [1]]\n"
          ],
          "name": "stdout"
        }
      ]
    },
    {
      "cell_type": "markdown",
      "metadata": {
        "id": "QolAqIwgHGRI"
      },
      "source": [
        "* Test_Data Information"
      ]
    },
    {
      "cell_type": "code",
      "metadata": {
        "id": "NtkD2BKUANZE",
        "colab": {
          "base_uri": "https://localhost:8080/"
        },
        "outputId": "61c1a32c-00e5-4e10-9c06-d441ed3d9cd2"
      },
      "source": [
        "print(len(X_test))\n",
        "print(X_test.shape)\n",
        "\n",
        "print(len(y_test))\n",
        "print(y_test[0:5])"
      ],
      "execution_count": null,
      "outputs": [
        {
          "output_type": "stream",
          "text": [
            "10000\n",
            "(10000, 32, 32, 3)\n",
            "10000\n",
            "[[3]\n",
            " [8]\n",
            " [8]\n",
            " [0]\n",
            " [6]]\n"
          ],
          "name": "stdout"
        }
      ]
    },
    {
      "cell_type": "markdown",
      "metadata": {
        "id": "Mk9XL5vGHor6"
      },
      "source": [
        "# II. Data Preprocessing"
      ]
    },
    {
      "cell_type": "markdown",
      "metadata": {
        "id": "ec8zU4XCZRUF"
      },
      "source": [
        "> ## 1) Normalization"
      ]
    },
    {
      "cell_type": "code",
      "metadata": {
        "id": "SoGHuYeFIGBj"
      },
      "source": [
        "X_train = X_train.astype(float) / 255\n",
        "X_test = X_test.astype(float) / 255"
      ],
      "execution_count": null,
      "outputs": []
    },
    {
      "cell_type": "code",
      "metadata": {
        "id": "m1HezAboV-x8",
        "colab": {
          "base_uri": "https://localhost:8080/"
        },
        "outputId": "313e7a76-ad20-4f75-b127-ab4ae4b4adb3"
      },
      "source": [
        "print(X_train[0])"
      ],
      "execution_count": null,
      "outputs": [
        {
          "output_type": "stream",
          "text": [
            "[[[0.23137255 0.24313725 0.24705882]\n",
            "  [0.16862745 0.18039216 0.17647059]\n",
            "  [0.19607843 0.18823529 0.16862745]\n",
            "  ...\n",
            "  [0.61960784 0.51764706 0.42352941]\n",
            "  [0.59607843 0.49019608 0.4       ]\n",
            "  [0.58039216 0.48627451 0.40392157]]\n",
            "\n",
            " [[0.0627451  0.07843137 0.07843137]\n",
            "  [0.         0.         0.        ]\n",
            "  [0.07058824 0.03137255 0.        ]\n",
            "  ...\n",
            "  [0.48235294 0.34509804 0.21568627]\n",
            "  [0.46666667 0.3254902  0.19607843]\n",
            "  [0.47843137 0.34117647 0.22352941]]\n",
            "\n",
            " [[0.09803922 0.09411765 0.08235294]\n",
            "  [0.0627451  0.02745098 0.        ]\n",
            "  [0.19215686 0.10588235 0.03137255]\n",
            "  ...\n",
            "  [0.4627451  0.32941176 0.19607843]\n",
            "  [0.47058824 0.32941176 0.19607843]\n",
            "  [0.42745098 0.28627451 0.16470588]]\n",
            "\n",
            " ...\n",
            "\n",
            " [[0.81568627 0.66666667 0.37647059]\n",
            "  [0.78823529 0.6        0.13333333]\n",
            "  [0.77647059 0.63137255 0.10196078]\n",
            "  ...\n",
            "  [0.62745098 0.52156863 0.2745098 ]\n",
            "  [0.21960784 0.12156863 0.02745098]\n",
            "  [0.20784314 0.13333333 0.07843137]]\n",
            "\n",
            " [[0.70588235 0.54509804 0.37647059]\n",
            "  [0.67843137 0.48235294 0.16470588]\n",
            "  [0.72941176 0.56470588 0.11764706]\n",
            "  ...\n",
            "  [0.72156863 0.58039216 0.36862745]\n",
            "  [0.38039216 0.24313725 0.13333333]\n",
            "  [0.3254902  0.20784314 0.13333333]]\n",
            "\n",
            " [[0.69411765 0.56470588 0.45490196]\n",
            "  [0.65882353 0.50588235 0.36862745]\n",
            "  [0.70196078 0.55686275 0.34117647]\n",
            "  ...\n",
            "  [0.84705882 0.72156863 0.54901961]\n",
            "  [0.59215686 0.4627451  0.32941176]\n",
            "  [0.48235294 0.36078431 0.28235294]]]\n"
          ],
          "name": "stdout"
        }
      ]
    },
    {
      "cell_type": "markdown",
      "metadata": {
        "id": "BtSROU80aF12"
      },
      "source": [
        "> ## 2) One Hot Encoding"
      ]
    },
    {
      "cell_type": "code",
      "metadata": {
        "id": "eC48Oym3Ao8E"
      },
      "source": [
        "from tensorflow.keras.utils import to_categorical\n",
        "\n",
        "y_train = to_categorical(y_train)\n",
        "y_test = to_categorical(y_test)"
      ],
      "execution_count": null,
      "outputs": []
    },
    {
      "cell_type": "code",
      "metadata": {
        "id": "q1O-NsoJMyWU",
        "colab": {
          "base_uri": "https://localhost:8080/"
        },
        "outputId": "d193603a-50fd-493a-bffe-43c8fcdbc304"
      },
      "source": [
        "print(y_train[:5])"
      ],
      "execution_count": null,
      "outputs": [
        {
          "output_type": "stream",
          "text": [
            "[[0. 0. 0. 0. 0. 0. 1. 0. 0. 0.]\n",
            " [0. 0. 0. 0. 0. 0. 0. 0. 0. 1.]\n",
            " [0. 0. 0. 0. 0. 0. 0. 0. 0. 1.]\n",
            " [0. 0. 0. 0. 1. 0. 0. 0. 0. 0.]\n",
            " [0. 1. 0. 0. 0. 0. 0. 0. 0. 0.]]\n"
          ],
          "name": "stdout"
        }
      ]
    },
    {
      "cell_type": "markdown",
      "metadata": {
        "id": "NTwZiSjiop3v"
      },
      "source": [
        "# III. Keras Modeling"
      ]
    },
    {
      "cell_type": "markdown",
      "metadata": {
        "id": "j5CT0TurJCkc"
      },
      "source": [
        "> ## 1) Model Define"
      ]
    },
    {
      "cell_type": "markdown",
      "metadata": {
        "id": "ydDCl0jTJD58"
      },
      "source": [
        "* 모델 신경망 구조 정의\n",
        " - CNN & DNN"
      ]
    },
    {
      "cell_type": "code",
      "metadata": {
        "id": "II0DskRdAcHS"
      },
      "source": [
        "from tensorflow.keras import models\n",
        "from tensorflow.keras import layers"
      ],
      "execution_count": null,
      "outputs": []
    },
    {
      "cell_type": "code",
      "metadata": {
        "colab": {
          "base_uri": "https://localhost:8080/"
        },
        "id": "Vlj4aL2FpilX",
        "outputId": "876d1a8d-59f2-4c8e-e404-062bc973d450"
      },
      "source": [
        "model = models.Sequential()\n",
        "model.add(layers.Conv2D(filters=32, kernel_size=(3,3), activation='relu', input_shape=(32,32, 3)))\n",
        "model.add(layers.MaxPool2D(pool_size=(2,2)))\n",
        "model.add(layers.Conv2D(filters=32, kernel_size=(3,3), activation='relu'))\n",
        "model.add(layers.MaxPool2D(pool_size=(2,2)))\n",
        "model.add(layers.Conv2D(filters=32, kernel_size=(3,3), activation='relu'))\n",
        "model.summary()"
      ],
      "execution_count": null,
      "outputs": [
        {
          "output_type": "stream",
          "text": [
            "Model: \"sequential\"\n",
            "_________________________________________________________________\n",
            "Layer (type)                 Output Shape              Param #   \n",
            "=================================================================\n",
            "conv2d (Conv2D)              (None, 30, 30, 32)        896       \n",
            "_________________________________________________________________\n",
            "max_pooling2d (MaxPooling2D) (None, 15, 15, 32)        0         \n",
            "_________________________________________________________________\n",
            "conv2d_1 (Conv2D)            (None, 13, 13, 32)        9248      \n",
            "_________________________________________________________________\n",
            "max_pooling2d_1 (MaxPooling2 (None, 6, 6, 32)          0         \n",
            "_________________________________________________________________\n",
            "conv2d_2 (Conv2D)            (None, 4, 4, 32)          9248      \n",
            "=================================================================\n",
            "Total params: 19,392\n",
            "Trainable params: 19,392\n",
            "Non-trainable params: 0\n",
            "_________________________________________________________________\n"
          ],
          "name": "stdout"
        }
      ]
    },
    {
      "cell_type": "markdown",
      "metadata": {
        "id": "PqrObAHZJTN8"
      },
      "source": [
        "* 모델 구조 확인"
      ]
    },
    {
      "cell_type": "code",
      "metadata": {
        "id": "wbtjOA4XMTUd"
      },
      "source": [
        "model.add(layers.Flatten())\n",
        "model.add(layers.Dense(units=64, activation='relu'))\n",
        "model.add(layers.Dense(units=10, activation='softmax'))"
      ],
      "execution_count": null,
      "outputs": []
    },
    {
      "cell_type": "code",
      "metadata": {
        "colab": {
          "base_uri": "https://localhost:8080/"
        },
        "id": "Vgq8PAkZrJAs",
        "outputId": "62194bc2-02c0-4345-ec74-13721a5ee039"
      },
      "source": [
        "model.summary()"
      ],
      "execution_count": null,
      "outputs": [
        {
          "output_type": "stream",
          "text": [
            "Model: \"sequential\"\n",
            "_________________________________________________________________\n",
            "Layer (type)                 Output Shape              Param #   \n",
            "=================================================================\n",
            "conv2d (Conv2D)              (None, 30, 30, 32)        896       \n",
            "_________________________________________________________________\n",
            "max_pooling2d (MaxPooling2D) (None, 15, 15, 32)        0         \n",
            "_________________________________________________________________\n",
            "conv2d_1 (Conv2D)            (None, 13, 13, 32)        9248      \n",
            "_________________________________________________________________\n",
            "max_pooling2d_1 (MaxPooling2 (None, 6, 6, 32)          0         \n",
            "_________________________________________________________________\n",
            "conv2d_2 (Conv2D)            (None, 4, 4, 32)          9248      \n",
            "_________________________________________________________________\n",
            "flatten (Flatten)            (None, 512)               0         \n",
            "_________________________________________________________________\n",
            "dense (Dense)                (None, 64)                32832     \n",
            "_________________________________________________________________\n",
            "dense_1 (Dense)              (None, 10)                650       \n",
            "=================================================================\n",
            "Total params: 52,874\n",
            "Trainable params: 52,874\n",
            "Non-trainable params: 0\n",
            "_________________________________________________________________\n"
          ],
          "name": "stdout"
        }
      ]
    },
    {
      "cell_type": "markdown",
      "metadata": {
        "id": "tpjBDBeYoyuj"
      },
      "source": [
        "> ## 2) Model Compile"
      ]
    },
    {
      "cell_type": "markdown",
      "metadata": {
        "id": "f3sxkQa0JoUr"
      },
      "source": [
        "* 모델 학습방법 설정"
      ]
    },
    {
      "cell_type": "code",
      "metadata": {
        "id": "AyK_t1qwAi6M"
      },
      "source": [
        "model.compile(loss = 'categorical_crossentropy',\n",
        "              optimizer = 'rmsprop',\n",
        "              metrics=['accuracy'])"
      ],
      "execution_count": null,
      "outputs": []
    },
    {
      "cell_type": "markdown",
      "metadata": {
        "id": "umiq4B-Xo3OB"
      },
      "source": [
        "> ## 3) Model Fit"
      ]
    },
    {
      "cell_type": "markdown",
      "metadata": {
        "id": "1KuXREziKMD1"
      },
      "source": [
        "* 약 4분"
      ]
    },
    {
      "cell_type": "code",
      "metadata": {
        "id": "zxwqwAqRAqRP",
        "colab": {
          "base_uri": "https://localhost:8080/"
        },
        "outputId": "c5994e45-af63-4f55-8f84-f028e09ea222"
      },
      "source": [
        "%%time\n",
        "\n",
        "hist_mnist = model.fit(X_train, y_train,\n",
        "                       epochs = 100,\n",
        "                       batch_size = 128,\n",
        "                       validation_split = 0.2)\n"
      ],
      "execution_count": null,
      "outputs": [
        {
          "output_type": "stream",
          "text": [
            "Epoch 1/100\n",
            "313/313 [==============================] - 33s 13ms/step - loss: 1.8469 - accuracy: 0.3311 - val_loss: 1.6511 - val_accuracy: 0.4072\n",
            "Epoch 2/100\n",
            "313/313 [==============================] - 4s 12ms/step - loss: 1.5353 - accuracy: 0.4473 - val_loss: 1.5009 - val_accuracy: 0.4585\n",
            "Epoch 3/100\n",
            "313/313 [==============================] - 4s 11ms/step - loss: 1.3938 - accuracy: 0.5030 - val_loss: 1.5355 - val_accuracy: 0.4677\n",
            "Epoch 4/100\n",
            "313/313 [==============================] - 3s 11ms/step - loss: 1.2827 - accuracy: 0.5451 - val_loss: 1.2674 - val_accuracy: 0.5566\n",
            "Epoch 5/100\n",
            "313/313 [==============================] - 4s 11ms/step - loss: 1.1991 - accuracy: 0.5760 - val_loss: 1.2367 - val_accuracy: 0.5614\n",
            "Epoch 6/100\n",
            "313/313 [==============================] - 4s 11ms/step - loss: 1.1313 - accuracy: 0.6001 - val_loss: 1.1375 - val_accuracy: 0.6017\n",
            "Epoch 7/100\n",
            "313/313 [==============================] - 3s 11ms/step - loss: 1.0792 - accuracy: 0.6212 - val_loss: 1.2639 - val_accuracy: 0.5638\n",
            "Epoch 8/100\n",
            "313/313 [==============================] - 4s 11ms/step - loss: 1.0315 - accuracy: 0.6362 - val_loss: 1.1564 - val_accuracy: 0.5978\n",
            "Epoch 9/100\n",
            "313/313 [==============================] - 4s 11ms/step - loss: 0.9936 - accuracy: 0.6503 - val_loss: 1.1250 - val_accuracy: 0.6019\n",
            "Epoch 10/100\n",
            "313/313 [==============================] - 4s 12ms/step - loss: 0.9542 - accuracy: 0.6647 - val_loss: 1.0276 - val_accuracy: 0.6426\n",
            "Epoch 11/100\n",
            "313/313 [==============================] - 4s 11ms/step - loss: 0.9164 - accuracy: 0.6763 - val_loss: 1.0691 - val_accuracy: 0.6286\n",
            "Epoch 12/100\n",
            "313/313 [==============================] - 4s 12ms/step - loss: 0.8866 - accuracy: 0.6875 - val_loss: 1.0233 - val_accuracy: 0.6471\n",
            "Epoch 13/100\n",
            "313/313 [==============================] - 3s 11ms/step - loss: 0.8584 - accuracy: 0.6997 - val_loss: 1.0187 - val_accuracy: 0.6456\n",
            "Epoch 14/100\n",
            "313/313 [==============================] - 3s 11ms/step - loss: 0.8295 - accuracy: 0.7104 - val_loss: 1.0076 - val_accuracy: 0.6589\n",
            "Epoch 15/100\n",
            "313/313 [==============================] - 3s 11ms/step - loss: 0.8031 - accuracy: 0.7177 - val_loss: 1.1032 - val_accuracy: 0.6293\n",
            "Epoch 16/100\n",
            "313/313 [==============================] - 3s 11ms/step - loss: 0.7812 - accuracy: 0.7252 - val_loss: 1.1219 - val_accuracy: 0.6242\n",
            "Epoch 17/100\n",
            "313/313 [==============================] - 3s 11ms/step - loss: 0.7546 - accuracy: 0.7343 - val_loss: 1.0190 - val_accuracy: 0.6424\n",
            "Epoch 18/100\n",
            "313/313 [==============================] - 3s 11ms/step - loss: 0.7384 - accuracy: 0.7412 - val_loss: 0.9364 - val_accuracy: 0.6764\n",
            "Epoch 19/100\n",
            "313/313 [==============================] - 4s 12ms/step - loss: 0.7156 - accuracy: 0.7498 - val_loss: 0.9547 - val_accuracy: 0.6721\n",
            "Epoch 20/100\n",
            "313/313 [==============================] - 3s 11ms/step - loss: 0.6932 - accuracy: 0.7569 - val_loss: 0.9946 - val_accuracy: 0.6644\n",
            "Epoch 21/100\n",
            "313/313 [==============================] - 4s 12ms/step - loss: 0.6745 - accuracy: 0.7637 - val_loss: 1.0173 - val_accuracy: 0.6615\n",
            "Epoch 22/100\n",
            "313/313 [==============================] - 4s 12ms/step - loss: 0.6562 - accuracy: 0.7696 - val_loss: 1.0272 - val_accuracy: 0.6668\n",
            "Epoch 23/100\n",
            "313/313 [==============================] - 3s 11ms/step - loss: 0.6363 - accuracy: 0.7779 - val_loss: 0.9645 - val_accuracy: 0.6796\n",
            "Epoch 24/100\n",
            "313/313 [==============================] - 3s 11ms/step - loss: 0.6185 - accuracy: 0.7821 - val_loss: 1.0116 - val_accuracy: 0.6692\n",
            "Epoch 25/100\n",
            "313/313 [==============================] - 3s 11ms/step - loss: 0.6054 - accuracy: 0.7849 - val_loss: 1.0368 - val_accuracy: 0.6726\n",
            "Epoch 26/100\n",
            "313/313 [==============================] - 3s 11ms/step - loss: 0.5876 - accuracy: 0.7925 - val_loss: 1.0100 - val_accuracy: 0.6672\n",
            "Epoch 27/100\n",
            "313/313 [==============================] - 3s 11ms/step - loss: 0.5678 - accuracy: 0.8001 - val_loss: 1.1093 - val_accuracy: 0.6581\n",
            "Epoch 28/100\n",
            "313/313 [==============================] - 3s 11ms/step - loss: 0.5539 - accuracy: 0.8029 - val_loss: 1.1000 - val_accuracy: 0.6568\n",
            "Epoch 29/100\n",
            "313/313 [==============================] - 3s 11ms/step - loss: 0.5402 - accuracy: 0.8108 - val_loss: 1.0189 - val_accuracy: 0.6804\n",
            "Epoch 30/100\n",
            "313/313 [==============================] - 3s 11ms/step - loss: 0.5256 - accuracy: 0.8154 - val_loss: 1.0674 - val_accuracy: 0.6709\n",
            "Epoch 31/100\n",
            "313/313 [==============================] - 3s 11ms/step - loss: 0.5098 - accuracy: 0.8204 - val_loss: 1.0730 - val_accuracy: 0.6662\n",
            "Epoch 32/100\n",
            "313/313 [==============================] - 3s 11ms/step - loss: 0.4944 - accuracy: 0.8261 - val_loss: 1.0690 - val_accuracy: 0.6781\n",
            "Epoch 33/100\n",
            "313/313 [==============================] - 4s 12ms/step - loss: 0.4822 - accuracy: 0.8290 - val_loss: 1.0761 - val_accuracy: 0.6795\n",
            "Epoch 34/100\n",
            "313/313 [==============================] - 3s 11ms/step - loss: 0.4663 - accuracy: 0.8351 - val_loss: 1.1936 - val_accuracy: 0.6676\n",
            "Epoch 35/100\n",
            "313/313 [==============================] - 4s 12ms/step - loss: 0.4540 - accuracy: 0.8397 - val_loss: 1.2040 - val_accuracy: 0.6670\n",
            "Epoch 36/100\n",
            "313/313 [==============================] - 3s 11ms/step - loss: 0.4435 - accuracy: 0.8440 - val_loss: 1.1929 - val_accuracy: 0.6661\n",
            "Epoch 37/100\n",
            "313/313 [==============================] - 3s 11ms/step - loss: 0.4253 - accuracy: 0.8504 - val_loss: 1.2344 - val_accuracy: 0.6637\n",
            "Epoch 38/100\n",
            "313/313 [==============================] - 3s 11ms/step - loss: 0.4175 - accuracy: 0.8514 - val_loss: 1.2350 - val_accuracy: 0.6681\n",
            "Epoch 39/100\n",
            "313/313 [==============================] - 3s 11ms/step - loss: 0.4024 - accuracy: 0.8558 - val_loss: 1.2287 - val_accuracy: 0.6715\n",
            "Epoch 40/100\n",
            "313/313 [==============================] - 3s 11ms/step - loss: 0.3881 - accuracy: 0.8632 - val_loss: 1.2228 - val_accuracy: 0.6708\n",
            "Epoch 41/100\n",
            "313/313 [==============================] - 3s 11ms/step - loss: 0.3818 - accuracy: 0.8645 - val_loss: 1.2846 - val_accuracy: 0.6676\n",
            "Epoch 42/100\n",
            "313/313 [==============================] - 3s 11ms/step - loss: 0.3701 - accuracy: 0.8707 - val_loss: 1.3154 - val_accuracy: 0.6675\n",
            "Epoch 43/100\n",
            "313/313 [==============================] - 4s 12ms/step - loss: 0.3560 - accuracy: 0.8725 - val_loss: 1.3631 - val_accuracy: 0.6643\n",
            "Epoch 44/100\n",
            "313/313 [==============================] - 3s 11ms/step - loss: 0.3423 - accuracy: 0.8784 - val_loss: 1.3925 - val_accuracy: 0.6626\n",
            "Epoch 45/100\n",
            "313/313 [==============================] - 3s 11ms/step - loss: 0.3335 - accuracy: 0.8814 - val_loss: 1.4106 - val_accuracy: 0.6594\n",
            "Epoch 46/100\n",
            "313/313 [==============================] - 3s 11ms/step - loss: 0.3251 - accuracy: 0.8834 - val_loss: 1.4119 - val_accuracy: 0.6724\n",
            "Epoch 47/100\n",
            "313/313 [==============================] - 3s 11ms/step - loss: 0.3125 - accuracy: 0.8895 - val_loss: 1.4057 - val_accuracy: 0.6657\n",
            "Epoch 48/100\n",
            "313/313 [==============================] - 3s 11ms/step - loss: 0.3053 - accuracy: 0.8897 - val_loss: 1.4710 - val_accuracy: 0.6612\n",
            "Epoch 49/100\n",
            "313/313 [==============================] - 4s 12ms/step - loss: 0.2929 - accuracy: 0.8967 - val_loss: 1.4952 - val_accuracy: 0.6638\n",
            "Epoch 50/100\n",
            "313/313 [==============================] - 3s 11ms/step - loss: 0.2874 - accuracy: 0.8982 - val_loss: 1.5630 - val_accuracy: 0.6612\n",
            "Epoch 51/100\n",
            "313/313 [==============================] - 3s 11ms/step - loss: 0.2769 - accuracy: 0.8997 - val_loss: 1.5961 - val_accuracy: 0.6525\n",
            "Epoch 52/100\n",
            "313/313 [==============================] - 3s 11ms/step - loss: 0.2681 - accuracy: 0.9045 - val_loss: 1.5993 - val_accuracy: 0.6618\n",
            "Epoch 53/100\n",
            "313/313 [==============================] - 3s 11ms/step - loss: 0.2608 - accuracy: 0.9075 - val_loss: 1.6680 - val_accuracy: 0.6605\n",
            "Epoch 54/100\n",
            "313/313 [==============================] - 3s 11ms/step - loss: 0.2529 - accuracy: 0.9103 - val_loss: 1.8139 - val_accuracy: 0.6522\n",
            "Epoch 55/100\n",
            "313/313 [==============================] - 4s 11ms/step - loss: 0.2467 - accuracy: 0.9117 - val_loss: 1.6443 - val_accuracy: 0.6656\n",
            "Epoch 56/100\n",
            "313/313 [==============================] - 4s 12ms/step - loss: 0.2372 - accuracy: 0.9163 - val_loss: 1.8293 - val_accuracy: 0.6526\n",
            "Epoch 57/100\n",
            "313/313 [==============================] - 3s 11ms/step - loss: 0.2303 - accuracy: 0.9179 - val_loss: 1.7949 - val_accuracy: 0.6695\n",
            "Epoch 58/100\n",
            "313/313 [==============================] - 3s 11ms/step - loss: 0.2248 - accuracy: 0.9199 - val_loss: 1.7971 - val_accuracy: 0.6638\n",
            "Epoch 59/100\n",
            "313/313 [==============================] - 3s 11ms/step - loss: 0.2119 - accuracy: 0.9254 - val_loss: 1.8540 - val_accuracy: 0.6643\n",
            "Epoch 60/100\n",
            "313/313 [==============================] - 3s 11ms/step - loss: 0.2085 - accuracy: 0.9254 - val_loss: 1.9943 - val_accuracy: 0.6457\n",
            "Epoch 61/100\n",
            "313/313 [==============================] - 3s 11ms/step - loss: 0.2022 - accuracy: 0.9278 - val_loss: 2.2634 - val_accuracy: 0.6376\n",
            "Epoch 62/100\n",
            "313/313 [==============================] - 3s 11ms/step - loss: 0.1983 - accuracy: 0.9290 - val_loss: 1.9826 - val_accuracy: 0.6554\n",
            "Epoch 63/100\n",
            "313/313 [==============================] - 3s 11ms/step - loss: 0.1890 - accuracy: 0.9320 - val_loss: 2.0663 - val_accuracy: 0.6532\n",
            "Epoch 64/100\n",
            "313/313 [==============================] - 3s 11ms/step - loss: 0.1879 - accuracy: 0.9323 - val_loss: 2.0904 - val_accuracy: 0.6590\n",
            "Epoch 65/100\n",
            "313/313 [==============================] - 4s 12ms/step - loss: 0.1814 - accuracy: 0.9342 - val_loss: 2.1585 - val_accuracy: 0.6605\n",
            "Epoch 66/100\n",
            "313/313 [==============================] - 3s 11ms/step - loss: 0.1748 - accuracy: 0.9377 - val_loss: 2.1925 - val_accuracy: 0.6425\n",
            "Epoch 67/100\n",
            "313/313 [==============================] - 3s 11ms/step - loss: 0.1684 - accuracy: 0.9407 - val_loss: 2.1701 - val_accuracy: 0.6546\n",
            "Epoch 68/100\n",
            "313/313 [==============================] - 3s 11ms/step - loss: 0.1675 - accuracy: 0.9407 - val_loss: 2.3580 - val_accuracy: 0.6524\n",
            "Epoch 69/100\n",
            "313/313 [==============================] - 4s 11ms/step - loss: 0.1607 - accuracy: 0.9416 - val_loss: 2.3110 - val_accuracy: 0.6529\n",
            "Epoch 70/100\n",
            "313/313 [==============================] - 4s 12ms/step - loss: 0.1564 - accuracy: 0.9438 - val_loss: 2.4320 - val_accuracy: 0.6504\n",
            "Epoch 71/100\n",
            "313/313 [==============================] - 3s 11ms/step - loss: 0.1542 - accuracy: 0.9442 - val_loss: 2.5147 - val_accuracy: 0.6484\n",
            "Epoch 72/100\n",
            "313/313 [==============================] - 3s 11ms/step - loss: 0.1497 - accuracy: 0.9460 - val_loss: 2.4702 - val_accuracy: 0.6550\n",
            "Epoch 73/100\n",
            "313/313 [==============================] - 3s 11ms/step - loss: 0.1476 - accuracy: 0.9474 - val_loss: 2.5167 - val_accuracy: 0.6551\n",
            "Epoch 74/100\n",
            "313/313 [==============================] - 3s 11ms/step - loss: 0.1437 - accuracy: 0.9492 - val_loss: 2.5161 - val_accuracy: 0.6553\n",
            "Epoch 75/100\n",
            "313/313 [==============================] - 3s 11ms/step - loss: 0.1361 - accuracy: 0.9507 - val_loss: 2.7650 - val_accuracy: 0.6515\n",
            "Epoch 76/100\n",
            "313/313 [==============================] - 3s 11ms/step - loss: 0.1344 - accuracy: 0.9510 - val_loss: 2.5346 - val_accuracy: 0.6621\n",
            "Epoch 77/100\n",
            "313/313 [==============================] - 3s 11ms/step - loss: 0.1326 - accuracy: 0.9524 - val_loss: 2.6030 - val_accuracy: 0.6588\n",
            "Epoch 78/100\n",
            "313/313 [==============================] - 3s 11ms/step - loss: 0.1279 - accuracy: 0.9558 - val_loss: 2.7009 - val_accuracy: 0.6572\n",
            "Epoch 79/100\n",
            "313/313 [==============================] - 3s 11ms/step - loss: 0.1249 - accuracy: 0.9546 - val_loss: 2.7353 - val_accuracy: 0.6563\n",
            "Epoch 80/100\n",
            "313/313 [==============================] - 3s 11ms/step - loss: 0.1248 - accuracy: 0.9560 - val_loss: 2.7455 - val_accuracy: 0.6416\n",
            "Epoch 81/100\n",
            "313/313 [==============================] - 3s 11ms/step - loss: 0.1210 - accuracy: 0.9572 - val_loss: 2.7172 - val_accuracy: 0.6578\n",
            "Epoch 82/100\n",
            "313/313 [==============================] - 3s 11ms/step - loss: 0.1204 - accuracy: 0.9579 - val_loss: 2.8342 - val_accuracy: 0.6571\n",
            "Epoch 83/100\n",
            "313/313 [==============================] - 4s 11ms/step - loss: 0.1163 - accuracy: 0.9588 - val_loss: 2.9462 - val_accuracy: 0.6492\n",
            "Epoch 84/100\n",
            "313/313 [==============================] - 4s 12ms/step - loss: 0.1114 - accuracy: 0.9606 - val_loss: 2.9831 - val_accuracy: 0.6537\n",
            "Epoch 85/100\n",
            "313/313 [==============================] - 4s 11ms/step - loss: 0.1123 - accuracy: 0.9607 - val_loss: 2.9201 - val_accuracy: 0.6573\n",
            "Epoch 86/100\n",
            "313/313 [==============================] - 3s 11ms/step - loss: 0.1109 - accuracy: 0.9608 - val_loss: 3.1071 - val_accuracy: 0.6380\n",
            "Epoch 87/100\n",
            "313/313 [==============================] - 4s 11ms/step - loss: 0.1095 - accuracy: 0.9603 - val_loss: 3.1505 - val_accuracy: 0.6499\n",
            "Epoch 88/100\n",
            "313/313 [==============================] - 3s 11ms/step - loss: 0.1092 - accuracy: 0.9615 - val_loss: 3.1849 - val_accuracy: 0.6557\n",
            "Epoch 89/100\n",
            "313/313 [==============================] - 4s 12ms/step - loss: 0.1079 - accuracy: 0.9628 - val_loss: 3.2064 - val_accuracy: 0.6476\n",
            "Epoch 90/100\n",
            "313/313 [==============================] - 4s 12ms/step - loss: 0.1068 - accuracy: 0.9631 - val_loss: 3.1663 - val_accuracy: 0.6552\n",
            "Epoch 91/100\n",
            "313/313 [==============================] - 4s 12ms/step - loss: 0.1030 - accuracy: 0.9640 - val_loss: 3.2409 - val_accuracy: 0.6516\n",
            "Epoch 92/100\n",
            "313/313 [==============================] - 4s 12ms/step - loss: 0.1007 - accuracy: 0.9655 - val_loss: 3.2411 - val_accuracy: 0.6519\n",
            "Epoch 93/100\n",
            "313/313 [==============================] - 3s 11ms/step - loss: 0.1024 - accuracy: 0.9645 - val_loss: 3.5986 - val_accuracy: 0.6308\n",
            "Epoch 94/100\n",
            "313/313 [==============================] - 4s 12ms/step - loss: 0.0982 - accuracy: 0.9651 - val_loss: 3.4670 - val_accuracy: 0.6525\n",
            "Epoch 95/100\n",
            "313/313 [==============================] - 3s 11ms/step - loss: 0.0995 - accuracy: 0.9658 - val_loss: 3.5114 - val_accuracy: 0.6418\n",
            "Epoch 96/100\n",
            "313/313 [==============================] - 3s 11ms/step - loss: 0.0958 - accuracy: 0.9675 - val_loss: 3.3861 - val_accuracy: 0.6530\n",
            "Epoch 97/100\n",
            "313/313 [==============================] - 4s 11ms/step - loss: 0.1020 - accuracy: 0.9653 - val_loss: 3.5872 - val_accuracy: 0.6357\n",
            "Epoch 98/100\n",
            "313/313 [==============================] - 3s 11ms/step - loss: 0.0986 - accuracy: 0.9662 - val_loss: 3.6769 - val_accuracy: 0.6421\n",
            "Epoch 99/100\n",
            "313/313 [==============================] - 3s 11ms/step - loss: 0.0925 - accuracy: 0.9677 - val_loss: 3.4890 - val_accuracy: 0.6537\n",
            "Epoch 100/100\n",
            "313/313 [==============================] - 4s 11ms/step - loss: 0.0919 - accuracy: 0.9688 - val_loss: 3.7947 - val_accuracy: 0.6298\n",
            "CPU times: user 5min 21s, sys: 36.6 s, total: 5min 58s\n",
            "Wall time: 6min 23s\n"
          ],
          "name": "stdout"
        }
      ]
    },
    {
      "cell_type": "markdown",
      "metadata": {
        "id": "FnnIyFtNKhbD"
      },
      "source": [
        "> ## 4) 학습 결과 시각화"
      ]
    },
    {
      "cell_type": "markdown",
      "metadata": {
        "id": "YgXRhVauKqOm"
      },
      "source": [
        "* Loss Visualization"
      ]
    },
    {
      "cell_type": "code",
      "metadata": {
        "id": "OQ4ke8BbKi50",
        "colab": {
          "base_uri": "https://localhost:8080/",
          "height": 404
        },
        "outputId": "c5dcfa6d-b996-439e-ead4-af679c7dd9d5"
      },
      "source": [
        "import matplotlib.pyplot as plt\n",
        "\n",
        "epochs = range(1, len(hist_mnist.history['loss']) + 1)\n",
        "\n",
        "plt.figure(figsize = (9, 6))\n",
        "plt.plot(epochs, hist_mnist.history['loss'])\n",
        "plt.plot(epochs, hist_mnist.history['val_loss'])\n",
        "# plt.ylim(0, 0.25)\n",
        "plt.title('Training & Validation Loss')\n",
        "plt.xlabel('Epochs')\n",
        "plt.ylabel('Loss')\n",
        "plt.legend(['Training Loss', 'Validation Loss'])\n",
        "plt.grid()\n",
        "plt.show()"
      ],
      "execution_count": null,
      "outputs": [
        {
          "output_type": "display_data",
          "data": {
            "image/png": "[encoded data removed]",
            "text/plain": [
              "<Figure size 648x432 with 1 Axes>"
            ]
          },
          "metadata": {
            "tags": [],
            "needs_background": "light"
          }
        }
      ]
    },
    {
      "cell_type": "markdown",
      "metadata": {
        "id": "_uJSOLBko7lh"
      },
      "source": [
        "> ## 5) Model Evaluate"
      ]
    },
    {
      "cell_type": "markdown",
      "metadata": {
        "id": "i-TqAB2ALGzZ"
      },
      "source": [
        "* Loss & Accuracy"
      ]
    },
    {
      "cell_type": "code",
      "metadata": {
        "id": "OF30PuZsAxQJ"
      },
      "source": [
        "loss, accuracy = model.evaluate(X_test, y_test)\n",
        "\n",
        "print('Loss = {:.5f}'.format(loss))\n",
        "print('Accuracy = {:.5f}'.format(accuracy))"
      ],
      "execution_count": null,
      "outputs": []
    },
    {
      "cell_type": "markdown",
      "metadata": {
        "id": "sN48I9GrLxOX"
      },
      "source": [
        "# \n",
        "# \n",
        "# \n",
        "# The End\n",
        "# \n",
        "# \n",
        "# "
      ]
    }
  ]
}