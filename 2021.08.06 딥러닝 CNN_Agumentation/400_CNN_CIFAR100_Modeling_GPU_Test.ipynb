{
  "nbformat": 4,
  "nbformat_minor": 0,
  "metadata": {
    "colab": {
      "name": "400_CNN_CIFAR100_Modeling_GPU_Test.ipynb",
      "provenance": [],
      "collapsed_sections": [],
      "include_colab_link": true
    },
    "kernelspec": {
      "name": "python3",
      "display_name": "Python 3"
    },
    "accelerator": "GPU"
  },
  "cells": [
    {
      "cell_type": "markdown",
      "metadata": {
        "id": "view-in-github",
        "colab_type": "text"
      },
      "source": [
        "<a href=\"https://colab.research.google.com/github/Minsung-commit/TIL/blob/master/400_CNN_CIFAR100_Modeling_GPU_Test.ipynb\" target=\"_parent\"><img src=\"https://colab.research.google.com/assets/colab-badge.svg\" alt=\"Open In Colab\"/></a>"
      ]
    },
    {
      "cell_type": "markdown",
      "metadata": {
        "id": "q2Pr7oBdYLdf"
      },
      "source": [
        "# CIFAR100 - Categorical Classification\n",
        "> # Convolutional Neural Network"
      ]
    },
    {
      "cell_type": "code",
      "metadata": {
        "id": "RbPgODpVzdHI"
      },
      "source": [
        "import warnings\n",
        "warnings.filterwarnings('ignore')"
      ],
      "execution_count": 1,
      "outputs": []
    },
    {
      "cell_type": "markdown",
      "metadata": {
        "id": "tUvJIk2aRFtw"
      },
      "source": [
        "* import Tensorflow"
      ]
    },
    {
      "cell_type": "code",
      "metadata": {
        "id": "GR4j3p6N_rDV",
        "colab": {
          "base_uri": "https://localhost:8080/",
          "height": 35
        },
        "outputId": "f356e889-63cd-43ef-add1-8f715fd37c87"
      },
      "source": [
        "import tensorflow\n",
        "\n",
        "tensorflow.__version__"
      ],
      "execution_count": 2,
      "outputs": [
        {
          "output_type": "execute_result",
          "data": {
            "application/vnd.google.colaboratory.intrinsic+json": {
              "type": "string"
            },
            "text/plain": [
              "'2.5.0'"
            ]
          },
          "metadata": {
            "tags": []
          },
          "execution_count": 2
        }
      ]
    },
    {
      "cell_type": "markdown",
      "metadata": {
        "id": "H49A769LYp-a"
      },
      "source": [
        "# I. CIFAR100 Data_Set Load"
      ]
    },
    {
      "cell_type": "code",
      "metadata": {
        "id": "DxstjE8b_6Te",
        "colab": {
          "base_uri": "https://localhost:8080/"
        },
        "outputId": "76c69a6f-47a5-427b-fb69-4640ebb533ca"
      },
      "source": [
        "from tensorflow.keras.datasets import cifar100\n",
        "\n",
        "(X_train, y_train), (X_test, y_test) = cifar100.load_data(label_mode = 'fine')"
      ],
      "execution_count": 3,
      "outputs": [
        {
          "output_type": "stream",
          "text": [
            "Downloading data from https://www.cs.toronto.edu/~kriz/cifar-100-python.tar.gz\n",
            "169009152/169001437 [==============================] - 4s 0us/step\n"
          ],
          "name": "stdout"
        }
      ]
    },
    {
      "cell_type": "markdown",
      "metadata": {
        "id": "Mk9XL5vGHor6"
      },
      "source": [
        "# II. Data Preprocessing"
      ]
    },
    {
      "cell_type": "markdown",
      "metadata": {
        "id": "ec8zU4XCZRUF"
      },
      "source": [
        "> ## 1) Reshape and Normalization"
      ]
    },
    {
      "cell_type": "markdown",
      "metadata": {
        "id": "olI6ZPtEIb8H"
      },
      "source": [
        "* reshape"
      ]
    },
    {
      "cell_type": "code",
      "metadata": {
        "id": "8-toPn1ZAmFd"
      },
      "source": [
        "X_train = X_train.reshape((50000,  32, 32, 3))\n",
        "X_test = X_test.reshape((10000,  32, 32, 3))"
      ],
      "execution_count": 4,
      "outputs": []
    },
    {
      "cell_type": "markdown",
      "metadata": {
        "id": "UN-xPWjYIeWL"
      },
      "source": [
        "* Normalization"
      ]
    },
    {
      "cell_type": "code",
      "metadata": {
        "id": "SoGHuYeFIGBj"
      },
      "source": [
        "X_train = X_train.astype(float) / 255\n",
        "X_test = X_test.astype(float) / 255"
      ],
      "execution_count": 5,
      "outputs": []
    },
    {
      "cell_type": "markdown",
      "metadata": {
        "id": "BtSROU80aF12"
      },
      "source": [
        "> ## 2) One Hot Encoding"
      ]
    },
    {
      "cell_type": "code",
      "metadata": {
        "id": "eC48Oym3Ao8E"
      },
      "source": [
        "from tensorflow.keras.utils import to_categorical\n",
        "\n",
        "y_train = to_categorical(y_train)\n",
        "y_test = to_categorical(y_test)"
      ],
      "execution_count": 6,
      "outputs": []
    },
    {
      "cell_type": "markdown",
      "metadata": {
        "id": "NTwZiSjiop3v"
      },
      "source": [
        "# III. MNIST Keras Modeling"
      ]
    },
    {
      "cell_type": "markdown",
      "metadata": {
        "id": "j5CT0TurJCkc"
      },
      "source": [
        "> ## 1) Model Define"
      ]
    },
    {
      "cell_type": "code",
      "metadata": {
        "id": "II0DskRdAcHS"
      },
      "source": [
        "from tensorflow.keras import models\n",
        "from tensorflow.keras import layers"
      ],
      "execution_count": 7,
      "outputs": []
    },
    {
      "cell_type": "code",
      "metadata": {
        "id": "kQ02_BOz8-ek",
        "colab": {
          "base_uri": "https://localhost:8080/"
        },
        "outputId": "7d3fff0b-f18e-40f9-8cba-304911671bd6"
      },
      "source": [
        "model = models.Sequential()\n",
        "model.add(layers.Conv2D(filters=32, kernel_size=(3,3), padding='same', activation='relu', input_shape=(32,32, 3)))\n",
        "model.add(layers.MaxPool2D(pool_size=(2,2)))\n",
        "model.add(layers.Conv2D(filters=32, kernel_size=(3,3),padding='same', activation='relu'))\n",
        "model.add(layers.MaxPool2D(pool_size=(2,2)))\n",
        "model.add(layers.Conv2D(filters=32, kernel_size=(3,3),padding='same', activation='relu'))\n",
        "model.summary()"
      ],
      "execution_count": 17,
      "outputs": [
        {
          "output_type": "stream",
          "text": [
            "Model: \"sequential_2\"\n",
            "_________________________________________________________________\n",
            "Layer (type)                 Output Shape              Param #   \n",
            "=================================================================\n",
            "conv2d_6 (Conv2D)            (None, 32, 32, 32)        896       \n",
            "_________________________________________________________________\n",
            "max_pooling2d_4 (MaxPooling2 (None, 16, 16, 32)        0         \n",
            "_________________________________________________________________\n",
            "conv2d_7 (Conv2D)            (None, 16, 16, 32)        9248      \n",
            "_________________________________________________________________\n",
            "max_pooling2d_5 (MaxPooling2 (None, 8, 8, 32)          0         \n",
            "_________________________________________________________________\n",
            "conv2d_8 (Conv2D)            (None, 8, 8, 32)          9248      \n",
            "=================================================================\n",
            "Total params: 19,392\n",
            "Trainable params: 19,392\n",
            "Non-trainable params: 0\n",
            "_________________________________________________________________\n"
          ],
          "name": "stdout"
        }
      ]
    },
    {
      "cell_type": "code",
      "metadata": {
        "id": "M84HcKTSvAKf"
      },
      "source": [
        "model.add(layers.Flatten())\n",
        "model.add(layers.Dense(units=128, activation='relu'))\n",
        "model.add(layers.Dense(units=100, activation='softmax'))\n"
      ],
      "execution_count": 18,
      "outputs": []
    },
    {
      "cell_type": "markdown",
      "metadata": {
        "id": "tpjBDBeYoyuj"
      },
      "source": [
        "> ## 2) Model Compile"
      ]
    },
    {
      "cell_type": "markdown",
      "metadata": {
        "id": "f3sxkQa0JoUr"
      },
      "source": [
        "* 모델 학습방법 설정"
      ]
    },
    {
      "cell_type": "code",
      "metadata": {
        "id": "AyK_t1qwAi6M"
      },
      "source": [
        "model.compile(loss = 'categorical_crossentropy',\n",
        "              optimizer = 'rmsprop',\n",
        "              metrics=['accuracy'])"
      ],
      "execution_count": 19,
      "outputs": []
    },
    {
      "cell_type": "markdown",
      "metadata": {
        "id": "umiq4B-Xo3OB"
      },
      "source": [
        "> ## 3) Model Fit"
      ]
    },
    {
      "cell_type": "markdown",
      "metadata": {
        "id": "1KuXREziKMD1"
      },
      "source": [
        "* 약 5분"
      ]
    },
    {
      "cell_type": "code",
      "metadata": {
        "id": "zxwqwAqRAqRP",
        "colab": {
          "base_uri": "https://localhost:8080/"
        },
        "outputId": "49b184b6-4420-43df-9c41-1180fc565d24"
      },
      "source": [
        "%%time\n",
        "\n",
        "hist_mnist = model.fit(X_train, y_train,\n",
        "                       epochs = 100,\n",
        "                       batch_size = 128,\n",
        "                       validation_split = 0.2)"
      ],
      "execution_count": 20,
      "outputs": [
        {
          "output_type": "stream",
          "text": [
            "Epoch 1/100\n",
            "313/313 [==============================] - 3s 8ms/step - loss: 4.0042 - accuracy: 0.0926 - val_loss: 3.6175 - val_accuracy: 0.1554\n",
            "Epoch 2/100\n",
            "313/313 [==============================] - 2s 7ms/step - loss: 3.4238 - accuracy: 0.1880 - val_loss: 3.3257 - val_accuracy: 0.2063\n",
            "Epoch 3/100\n",
            "313/313 [==============================] - 2s 7ms/step - loss: 3.1192 - accuracy: 0.2440 - val_loss: 3.2098 - val_accuracy: 0.2176\n",
            "Epoch 4/100\n",
            "313/313 [==============================] - 2s 7ms/step - loss: 2.8955 - accuracy: 0.2853 - val_loss: 3.0666 - val_accuracy: 0.2574\n",
            "Epoch 5/100\n",
            "313/313 [==============================] - 2s 7ms/step - loss: 2.7016 - accuracy: 0.3263 - val_loss: 2.9514 - val_accuracy: 0.2791\n",
            "Epoch 6/100\n",
            "313/313 [==============================] - 2s 7ms/step - loss: 2.5454 - accuracy: 0.3590 - val_loss: 2.8077 - val_accuracy: 0.3104\n",
            "Epoch 7/100\n",
            "313/313 [==============================] - 2s 7ms/step - loss: 2.4056 - accuracy: 0.3881 - val_loss: 2.8232 - val_accuracy: 0.3096\n",
            "Epoch 8/100\n",
            "313/313 [==============================] - 2s 7ms/step - loss: 2.2782 - accuracy: 0.4145 - val_loss: 2.7796 - val_accuracy: 0.3260\n",
            "Epoch 9/100\n",
            "313/313 [==============================] - 2s 7ms/step - loss: 2.1518 - accuracy: 0.4387 - val_loss: 2.8269 - val_accuracy: 0.3232\n",
            "Epoch 10/100\n",
            "313/313 [==============================] - 2s 7ms/step - loss: 2.0368 - accuracy: 0.4652 - val_loss: 2.8135 - val_accuracy: 0.3279\n",
            "Epoch 11/100\n",
            "313/313 [==============================] - 2s 7ms/step - loss: 1.9195 - accuracy: 0.4934 - val_loss: 2.8258 - val_accuracy: 0.3345\n",
            "Epoch 12/100\n",
            "313/313 [==============================] - 2s 7ms/step - loss: 1.8096 - accuracy: 0.5176 - val_loss: 2.8343 - val_accuracy: 0.3372\n",
            "Epoch 13/100\n",
            "313/313 [==============================] - 2s 7ms/step - loss: 1.7029 - accuracy: 0.5407 - val_loss: 2.9196 - val_accuracy: 0.3351\n",
            "Epoch 14/100\n",
            "313/313 [==============================] - 2s 7ms/step - loss: 1.5998 - accuracy: 0.5660 - val_loss: 3.0281 - val_accuracy: 0.3270\n",
            "Epoch 15/100\n",
            "313/313 [==============================] - 2s 7ms/step - loss: 1.4965 - accuracy: 0.5903 - val_loss: 3.0031 - val_accuracy: 0.3415\n",
            "Epoch 16/100\n",
            "313/313 [==============================] - 2s 7ms/step - loss: 1.3882 - accuracy: 0.6153 - val_loss: 3.0650 - val_accuracy: 0.3373\n",
            "Epoch 17/100\n",
            "313/313 [==============================] - 2s 7ms/step - loss: 1.2919 - accuracy: 0.6383 - val_loss: 3.4028 - val_accuracy: 0.3254\n",
            "Epoch 18/100\n",
            "313/313 [==============================] - 2s 7ms/step - loss: 1.1952 - accuracy: 0.6636 - val_loss: 3.5713 - val_accuracy: 0.3208\n",
            "Epoch 19/100\n",
            "313/313 [==============================] - 2s 7ms/step - loss: 1.1013 - accuracy: 0.6877 - val_loss: 3.5824 - val_accuracy: 0.3161\n",
            "Epoch 20/100\n",
            "313/313 [==============================] - 2s 7ms/step - loss: 1.0143 - accuracy: 0.7089 - val_loss: 3.6990 - val_accuracy: 0.3210\n",
            "Epoch 21/100\n",
            "313/313 [==============================] - 2s 7ms/step - loss: 0.9270 - accuracy: 0.7320 - val_loss: 3.8865 - val_accuracy: 0.3183\n",
            "Epoch 22/100\n",
            "313/313 [==============================] - 2s 7ms/step - loss: 0.8484 - accuracy: 0.7501 - val_loss: 4.2495 - val_accuracy: 0.3133\n",
            "Epoch 23/100\n",
            "313/313 [==============================] - 2s 7ms/step - loss: 0.7678 - accuracy: 0.7716 - val_loss: 4.4134 - val_accuracy: 0.3151\n",
            "Epoch 24/100\n",
            "313/313 [==============================] - 2s 7ms/step - loss: 0.7058 - accuracy: 0.7884 - val_loss: 4.5466 - val_accuracy: 0.3086\n",
            "Epoch 25/100\n",
            "313/313 [==============================] - 2s 7ms/step - loss: 0.6395 - accuracy: 0.8088 - val_loss: 4.9287 - val_accuracy: 0.3086\n",
            "Epoch 26/100\n",
            "313/313 [==============================] - 2s 7ms/step - loss: 0.5825 - accuracy: 0.8225 - val_loss: 5.1734 - val_accuracy: 0.3093\n",
            "Epoch 27/100\n",
            "313/313 [==============================] - 2s 7ms/step - loss: 0.5229 - accuracy: 0.8378 - val_loss: 5.3029 - val_accuracy: 0.3063\n",
            "Epoch 28/100\n",
            "313/313 [==============================] - 2s 7ms/step - loss: 0.4764 - accuracy: 0.8522 - val_loss: 5.7134 - val_accuracy: 0.3048\n",
            "Epoch 29/100\n",
            "313/313 [==============================] - 2s 7ms/step - loss: 0.4352 - accuracy: 0.8641 - val_loss: 6.0650 - val_accuracy: 0.2959\n",
            "Epoch 30/100\n",
            "313/313 [==============================] - 2s 7ms/step - loss: 0.3948 - accuracy: 0.8767 - val_loss: 6.3831 - val_accuracy: 0.2967\n",
            "Epoch 31/100\n",
            "313/313 [==============================] - 2s 7ms/step - loss: 0.3631 - accuracy: 0.8831 - val_loss: 6.5391 - val_accuracy: 0.3032\n",
            "Epoch 32/100\n",
            "313/313 [==============================] - 2s 7ms/step - loss: 0.3304 - accuracy: 0.8921 - val_loss: 6.9103 - val_accuracy: 0.3020\n",
            "Epoch 33/100\n",
            "313/313 [==============================] - 2s 7ms/step - loss: 0.3102 - accuracy: 0.8981 - val_loss: 7.3796 - val_accuracy: 0.2992\n",
            "Epoch 34/100\n",
            "313/313 [==============================] - 2s 7ms/step - loss: 0.2827 - accuracy: 0.9080 - val_loss: 7.4307 - val_accuracy: 0.3015\n",
            "Epoch 35/100\n",
            "313/313 [==============================] - 2s 7ms/step - loss: 0.2644 - accuracy: 0.9132 - val_loss: 7.8757 - val_accuracy: 0.2928\n",
            "Epoch 36/100\n",
            "313/313 [==============================] - 2s 7ms/step - loss: 0.2518 - accuracy: 0.9180 - val_loss: 7.7831 - val_accuracy: 0.2871\n",
            "Epoch 37/100\n",
            "313/313 [==============================] - 2s 7ms/step - loss: 0.2333 - accuracy: 0.9233 - val_loss: 8.2252 - val_accuracy: 0.2989\n",
            "Epoch 38/100\n",
            "313/313 [==============================] - 2s 7ms/step - loss: 0.2262 - accuracy: 0.9263 - val_loss: 8.4077 - val_accuracy: 0.2947\n",
            "Epoch 39/100\n",
            "313/313 [==============================] - 2s 7ms/step - loss: 0.2101 - accuracy: 0.9314 - val_loss: 8.6653 - val_accuracy: 0.2968\n",
            "Epoch 40/100\n",
            "313/313 [==============================] - 2s 7ms/step - loss: 0.2091 - accuracy: 0.9318 - val_loss: 8.8986 - val_accuracy: 0.2939\n",
            "Epoch 41/100\n",
            "313/313 [==============================] - 2s 7ms/step - loss: 0.1963 - accuracy: 0.9358 - val_loss: 9.2085 - val_accuracy: 0.2970\n",
            "Epoch 42/100\n",
            "313/313 [==============================] - 2s 7ms/step - loss: 0.1905 - accuracy: 0.9370 - val_loss: 9.2939 - val_accuracy: 0.2984\n",
            "Epoch 43/100\n",
            "313/313 [==============================] - 2s 7ms/step - loss: 0.1832 - accuracy: 0.9398 - val_loss: 9.3905 - val_accuracy: 0.2900\n",
            "Epoch 44/100\n",
            "313/313 [==============================] - 2s 7ms/step - loss: 0.1744 - accuracy: 0.9427 - val_loss: 9.5945 - val_accuracy: 0.2968\n",
            "Epoch 45/100\n",
            "313/313 [==============================] - 2s 7ms/step - loss: 0.1682 - accuracy: 0.9440 - val_loss: 10.2448 - val_accuracy: 0.2902\n",
            "Epoch 46/100\n",
            "313/313 [==============================] - 2s 7ms/step - loss: 0.1658 - accuracy: 0.9443 - val_loss: 10.1943 - val_accuracy: 0.2994\n",
            "Epoch 47/100\n",
            "313/313 [==============================] - 2s 7ms/step - loss: 0.1682 - accuracy: 0.9466 - val_loss: 10.6773 - val_accuracy: 0.2884\n",
            "Epoch 48/100\n",
            "313/313 [==============================] - 2s 7ms/step - loss: 0.1595 - accuracy: 0.9486 - val_loss: 10.5596 - val_accuracy: 0.2979\n",
            "Epoch 49/100\n",
            "313/313 [==============================] - 2s 7ms/step - loss: 0.1523 - accuracy: 0.9516 - val_loss: 10.6157 - val_accuracy: 0.3002\n",
            "Epoch 50/100\n",
            "313/313 [==============================] - 2s 7ms/step - loss: 0.1539 - accuracy: 0.9507 - val_loss: 10.9043 - val_accuracy: 0.2965\n",
            "Epoch 51/100\n",
            "313/313 [==============================] - 2s 7ms/step - loss: 0.1560 - accuracy: 0.9483 - val_loss: 10.8186 - val_accuracy: 0.2924\n",
            "Epoch 52/100\n",
            "313/313 [==============================] - 2s 7ms/step - loss: 0.1484 - accuracy: 0.9527 - val_loss: 11.3032 - val_accuracy: 0.2950\n",
            "Epoch 53/100\n",
            "313/313 [==============================] - 2s 7ms/step - loss: 0.1458 - accuracy: 0.9528 - val_loss: 11.3877 - val_accuracy: 0.2972\n",
            "Epoch 54/100\n",
            "313/313 [==============================] - 2s 7ms/step - loss: 0.1434 - accuracy: 0.9538 - val_loss: 11.6970 - val_accuracy: 0.2962\n",
            "Epoch 55/100\n",
            "313/313 [==============================] - 2s 7ms/step - loss: 0.1407 - accuracy: 0.9542 - val_loss: 11.8307 - val_accuracy: 0.2958\n",
            "Epoch 56/100\n",
            "313/313 [==============================] - 2s 7ms/step - loss: 0.1433 - accuracy: 0.9532 - val_loss: 11.7415 - val_accuracy: 0.2908\n",
            "Epoch 57/100\n",
            "313/313 [==============================] - 2s 7ms/step - loss: 0.1386 - accuracy: 0.9558 - val_loss: 12.0837 - val_accuracy: 0.2820\n",
            "Epoch 58/100\n",
            "313/313 [==============================] - 2s 7ms/step - loss: 0.1391 - accuracy: 0.9557 - val_loss: 12.1159 - val_accuracy: 0.2931\n",
            "Epoch 59/100\n",
            "313/313 [==============================] - 2s 7ms/step - loss: 0.1298 - accuracy: 0.9595 - val_loss: 12.4946 - val_accuracy: 0.2835\n",
            "Epoch 60/100\n",
            "313/313 [==============================] - 2s 7ms/step - loss: 0.1287 - accuracy: 0.9582 - val_loss: 12.4739 - val_accuracy: 0.2925\n",
            "Epoch 61/100\n",
            "313/313 [==============================] - 2s 7ms/step - loss: 0.1250 - accuracy: 0.9596 - val_loss: 12.6817 - val_accuracy: 0.2943\n",
            "Epoch 62/100\n",
            "313/313 [==============================] - 2s 7ms/step - loss: 0.1324 - accuracy: 0.9583 - val_loss: 12.5606 - val_accuracy: 0.2957\n",
            "Epoch 63/100\n",
            "313/313 [==============================] - 2s 7ms/step - loss: 0.1273 - accuracy: 0.9603 - val_loss: 13.0037 - val_accuracy: 0.2992\n",
            "Epoch 64/100\n",
            "313/313 [==============================] - 2s 7ms/step - loss: 0.1286 - accuracy: 0.9606 - val_loss: 12.9267 - val_accuracy: 0.2917\n",
            "Epoch 65/100\n",
            "313/313 [==============================] - 2s 7ms/step - loss: 0.1221 - accuracy: 0.9618 - val_loss: 13.2519 - val_accuracy: 0.2970\n",
            "Epoch 66/100\n",
            "313/313 [==============================] - 2s 7ms/step - loss: 0.1220 - accuracy: 0.9621 - val_loss: 12.9756 - val_accuracy: 0.2913\n",
            "Epoch 67/100\n",
            "313/313 [==============================] - 2s 7ms/step - loss: 0.1212 - accuracy: 0.9623 - val_loss: 13.2063 - val_accuracy: 0.2957\n",
            "Epoch 68/100\n",
            "313/313 [==============================] - 2s 7ms/step - loss: 0.1214 - accuracy: 0.9643 - val_loss: 13.4495 - val_accuracy: 0.2980\n",
            "Epoch 69/100\n",
            "313/313 [==============================] - 2s 7ms/step - loss: 0.1217 - accuracy: 0.9616 - val_loss: 13.7103 - val_accuracy: 0.2969\n",
            "Epoch 70/100\n",
            "313/313 [==============================] - 2s 7ms/step - loss: 0.1227 - accuracy: 0.9632 - val_loss: 13.7983 - val_accuracy: 0.2960\n",
            "Epoch 71/100\n",
            "313/313 [==============================] - 2s 7ms/step - loss: 0.1175 - accuracy: 0.9640 - val_loss: 14.1585 - val_accuracy: 0.2910\n",
            "Epoch 72/100\n",
            "313/313 [==============================] - 2s 7ms/step - loss: 0.1178 - accuracy: 0.9648 - val_loss: 14.4726 - val_accuracy: 0.2920\n",
            "Epoch 73/100\n",
            "313/313 [==============================] - 2s 7ms/step - loss: 0.1144 - accuracy: 0.9659 - val_loss: 14.4409 - val_accuracy: 0.2951\n",
            "Epoch 74/100\n",
            "313/313 [==============================] - 2s 7ms/step - loss: 0.1148 - accuracy: 0.9657 - val_loss: 14.7765 - val_accuracy: 0.2886\n",
            "Epoch 75/100\n",
            "313/313 [==============================] - 2s 7ms/step - loss: 0.1150 - accuracy: 0.9654 - val_loss: 14.2366 - val_accuracy: 0.2943\n",
            "Epoch 76/100\n",
            "313/313 [==============================] - 2s 7ms/step - loss: 0.1121 - accuracy: 0.9663 - val_loss: 14.1933 - val_accuracy: 0.2958\n",
            "Epoch 77/100\n",
            "313/313 [==============================] - 2s 7ms/step - loss: 0.1164 - accuracy: 0.9657 - val_loss: 14.9913 - val_accuracy: 0.2925\n",
            "Epoch 78/100\n",
            "313/313 [==============================] - 2s 7ms/step - loss: 0.1137 - accuracy: 0.9657 - val_loss: 14.6181 - val_accuracy: 0.2984\n",
            "Epoch 79/100\n",
            "313/313 [==============================] - 2s 7ms/step - loss: 0.1106 - accuracy: 0.9677 - val_loss: 14.9126 - val_accuracy: 0.2904\n",
            "Epoch 80/100\n",
            "313/313 [==============================] - 2s 7ms/step - loss: 0.1113 - accuracy: 0.9669 - val_loss: 15.1743 - val_accuracy: 0.2896\n",
            "Epoch 81/100\n",
            "313/313 [==============================] - 2s 7ms/step - loss: 0.1095 - accuracy: 0.9682 - val_loss: 15.3997 - val_accuracy: 0.2922\n",
            "Epoch 82/100\n",
            "313/313 [==============================] - 2s 7ms/step - loss: 0.1094 - accuracy: 0.9675 - val_loss: 15.0345 - val_accuracy: 0.2959\n",
            "Epoch 83/100\n",
            "313/313 [==============================] - 2s 7ms/step - loss: 0.1085 - accuracy: 0.9695 - val_loss: 15.2000 - val_accuracy: 0.2993\n",
            "Epoch 84/100\n",
            "313/313 [==============================] - 2s 7ms/step - loss: 0.1098 - accuracy: 0.9681 - val_loss: 15.9762 - val_accuracy: 0.2988\n",
            "Epoch 85/100\n",
            "313/313 [==============================] - 2s 7ms/step - loss: 0.1099 - accuracy: 0.9680 - val_loss: 15.6090 - val_accuracy: 0.2861\n",
            "Epoch 86/100\n",
            "313/313 [==============================] - 2s 7ms/step - loss: 0.1106 - accuracy: 0.9677 - val_loss: 15.2797 - val_accuracy: 0.2956\n",
            "Epoch 87/100\n",
            "313/313 [==============================] - 2s 7ms/step - loss: 0.1079 - accuracy: 0.9689 - val_loss: 15.9285 - val_accuracy: 0.2971\n",
            "Epoch 88/100\n",
            "313/313 [==============================] - 2s 7ms/step - loss: 0.1083 - accuracy: 0.9678 - val_loss: 16.1666 - val_accuracy: 0.2892\n",
            "Epoch 89/100\n",
            "313/313 [==============================] - 2s 7ms/step - loss: 0.1058 - accuracy: 0.9691 - val_loss: 16.2147 - val_accuracy: 0.2914\n",
            "Epoch 90/100\n",
            "313/313 [==============================] - 2s 7ms/step - loss: 0.1105 - accuracy: 0.9689 - val_loss: 16.2301 - val_accuracy: 0.2909\n",
            "Epoch 91/100\n",
            "313/313 [==============================] - 2s 7ms/step - loss: 0.1083 - accuracy: 0.9688 - val_loss: 16.1057 - val_accuracy: 0.2939\n",
            "Epoch 92/100\n",
            "313/313 [==============================] - 2s 7ms/step - loss: 0.1030 - accuracy: 0.9705 - val_loss: 16.3009 - val_accuracy: 0.2887\n",
            "Epoch 93/100\n",
            "313/313 [==============================] - 2s 7ms/step - loss: 0.1064 - accuracy: 0.9703 - val_loss: 16.2011 - val_accuracy: 0.2902\n",
            "Epoch 94/100\n",
            "313/313 [==============================] - 2s 7ms/step - loss: 0.1058 - accuracy: 0.9696 - val_loss: 16.8678 - val_accuracy: 0.2988\n",
            "Epoch 95/100\n",
            "313/313 [==============================] - 2s 7ms/step - loss: 0.1016 - accuracy: 0.9709 - val_loss: 16.2964 - val_accuracy: 0.2927\n",
            "Epoch 96/100\n",
            "313/313 [==============================] - 2s 7ms/step - loss: 0.1075 - accuracy: 0.9700 - val_loss: 16.8206 - val_accuracy: 0.2866\n",
            "Epoch 97/100\n",
            "313/313 [==============================] - 2s 7ms/step - loss: 0.0978 - accuracy: 0.9720 - val_loss: 17.1835 - val_accuracy: 0.2939\n",
            "Epoch 98/100\n",
            "313/313 [==============================] - 2s 7ms/step - loss: 0.1020 - accuracy: 0.9710 - val_loss: 17.5929 - val_accuracy: 0.2907\n",
            "Epoch 99/100\n",
            "313/313 [==============================] - 2s 7ms/step - loss: 0.1049 - accuracy: 0.9709 - val_loss: 17.5096 - val_accuracy: 0.2858\n",
            "Epoch 100/100\n",
            "313/313 [==============================] - 2s 7ms/step - loss: 0.0990 - accuracy: 0.9709 - val_loss: 17.0374 - val_accuracy: 0.2967\n",
            "CPU times: user 3min 54s, sys: 18.3 s, total: 4min 12s\n",
            "Wall time: 3min 37s\n"
          ],
          "name": "stdout"
        }
      ]
    },
    {
      "cell_type": "markdown",
      "metadata": {
        "id": "FnnIyFtNKhbD"
      },
      "source": [
        "> ## 4) 학습 결과 시각화"
      ]
    },
    {
      "cell_type": "markdown",
      "metadata": {
        "id": "YgXRhVauKqOm"
      },
      "source": [
        "* Loss Visualization"
      ]
    },
    {
      "cell_type": "code",
      "metadata": {
        "id": "OQ4ke8BbKi50",
        "colab": {
          "base_uri": "https://localhost:8080/",
          "height": 404
        },
        "outputId": "0c64f606-6f2d-45b6-8f3e-9789570fe173"
      },
      "source": [
        "import matplotlib.pyplot as plt\n",
        "\n",
        "epochs = range(1, len(hist_mnist.history['loss']) + 1)\n",
        "\n",
        "plt.figure(figsize = (9, 6))\n",
        "plt.plot(epochs, hist_mnist.history['loss'])\n",
        "plt.plot(epochs, hist_mnist.history['val_loss'])\n",
        "# plt.ylim(0, 0.4)\n",
        "plt.title('Training & Validation Loss')\n",
        "plt.xlabel('Epochs')\n",
        "plt.ylabel('Loss')\n",
        "plt.legend(['Training Loss', 'Validation Loss'])\n",
        "plt.grid()\n",
        "plt.show()"
      ],
      "execution_count": 21,
      "outputs": [
        {
          "output_type": "display_data",
          "data": {
            "image/png": "[encoded data removed]",
            "text/plain": [
              "<Figure size 648x432 with 1 Axes>"
            ]
          },
          "metadata": {
            "tags": [],
            "needs_background": "light"
          }
        }
      ]
    },
    {
      "cell_type": "markdown",
      "metadata": {
        "id": "_uJSOLBko7lh"
      },
      "source": [
        "> ## 5) Model Evaluate"
      ]
    },
    {
      "cell_type": "markdown",
      "metadata": {
        "id": "i-TqAB2ALGzZ"
      },
      "source": [
        "* Loss & Accuracy"
      ]
    },
    {
      "cell_type": "code",
      "metadata": {
        "id": "OF30PuZsAxQJ",
        "colab": {
          "base_uri": "https://localhost:8080/"
        },
        "outputId": "f0592974-5065-4756-f18c-1214c3934e2f"
      },
      "source": [
        "loss, accuracy = model.evaluate(X_test, y_test)\n",
        "\n",
        "print('Loss = {:.5f}'.format(loss))\n",
        "print('Accuracy = {:.5f}'.format(accuracy))"
      ],
      "execution_count": 22,
      "outputs": [
        {
          "output_type": "stream",
          "text": [
            "313/313 [==============================] - 1s 3ms/step - loss: 16.6042 - accuracy: 0.3014\n",
            "Loss = 16.60420\n",
            "Accuracy = 0.30140\n"
          ],
          "name": "stdout"
        }
      ]
    },
    {
      "cell_type": "markdown",
      "metadata": {
        "id": "sN48I9GrLxOX"
      },
      "source": [
        "# \n",
        "# \n",
        "# \n",
        "# The End\n",
        "# \n",
        "# \n",
        "# "
      ]
    }
  ]
}