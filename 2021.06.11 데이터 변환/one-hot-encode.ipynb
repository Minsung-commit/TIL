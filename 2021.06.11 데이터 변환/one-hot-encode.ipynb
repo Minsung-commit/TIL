{
 "cells": [
  {
   "cell_type": "markdown",
   "id": "bearing-likelihood",
   "metadata": {},
   "source": [
    "### one hot encode\n",
    "\n",
    "For example, imagine we have a “color” variable with three categories (‘red‘, ‘green‘, and ‘blue‘). In this case, three binary variables are needed. A “1” value is placed in the binary variable for the color and “0” values for the other colors.\n",
    "\n",
    "red,\tgreen,\tblue\n",
    "1,\t\t0,\t\t0\n",
    "0,\t\t1,\t\t0\n",
    "0,\t\t0,\t\t1"
   ]
  },
  {
   "cell_type": "code",
   "execution_count": 1,
   "id": "established-extension",
   "metadata": {},
   "outputs": [],
   "source": [
    "# one hot encode the breast cancer dataset\n",
    "from pandas import read_csv\n",
    "from sklearn.preprocessing import OneHotEncoder"
   ]
  },
  {
   "cell_type": "code",
   "execution_count": 2,
   "id": "acceptable-aviation",
   "metadata": {},
   "outputs": [],
   "source": [
    "# define the location of the dataset\n",
    "url = \"https://raw.githubusercontent.com/jbrownlee/Datasets/master/breast-cancer.csv\""
   ]
  },
  {
   "cell_type": "code",
   "execution_count": 3,
   "id": "under-mailman",
   "metadata": {},
   "outputs": [],
   "source": [
    "# load the dataset\n",
    "dataset = read_csv(url, header=None)"
   ]
  },
  {
   "cell_type": "code",
   "execution_count": 14,
   "id": "durable-ranking",
   "metadata": {},
   "outputs": [
    {
     "data": {
      "text/plain": [
       "array([\"'premeno'\", \"'ge40'\", \"'lt40'\"], dtype=object)"
      ]
     },
     "execution_count": 14,
     "metadata": {},
     "output_type": "execute_result"
    }
   ],
   "source": [
    "dataset[1].unique()\n"
   ]
  },
  {
   "cell_type": "code",
   "execution_count": 4,
   "id": "increasing-reverse",
   "metadata": {},
   "outputs": [],
   "source": [
    "# retrieve the array of data\n",
    "data = dataset.values"
   ]
  },
  {
   "cell_type": "code",
   "execution_count": 5,
   "id": "hydraulic-anderson",
   "metadata": {},
   "outputs": [
    {
     "data": {
      "text/plain": [
       "(286, 10)"
      ]
     },
     "execution_count": 5,
     "metadata": {},
     "output_type": "execute_result"
    }
   ],
   "source": [
    "data.shape"
   ]
  },
  {
   "cell_type": "code",
   "execution_count": 12,
   "id": "6e850fc7-da14-4fb8-8aec-53144d77c3a0",
   "metadata": {},
   "outputs": [
    {
     "ename": "AttributeError",
     "evalue": "'numpy.ndarray' object has no attribute 'unique'",
     "output_type": "error",
     "traceback": [
      "\u001b[1;31m---------------------------------------------------------------------------\u001b[0m",
      "\u001b[1;31mAttributeError\u001b[0m                            Traceback (most recent call last)",
      "\u001b[1;32m<ipython-input-12-29a79790751a>\u001b[0m in \u001b[0;36m<module>\u001b[1;34m\u001b[0m\n\u001b[1;32m----> 1\u001b[1;33m \u001b[0mdata\u001b[0m\u001b[1;33m.\u001b[0m\u001b[0munique\u001b[0m\u001b[1;33m(\u001b[0m\u001b[1;33m)\u001b[0m\u001b[1;33m\u001b[0m\u001b[1;33m\u001b[0m\u001b[0m\n\u001b[0m",
      "\u001b[1;31mAttributeError\u001b[0m: 'numpy.ndarray' object has no attribute 'unique'"
     ]
    }
   ],
   "source": []
  },
  {
   "cell_type": "code",
   "execution_count": 6,
   "id": "ad8024a8-d33b-40d3-8de9-1339588712bf",
   "metadata": {},
   "outputs": [],
   "source": [
    "# separate into input and output columns\n",
    "X = data[:, :-1].astype(str)\n",
    "y = data[:, -1].astype(str)"
   ]
  },
  {
   "cell_type": "code",
   "execution_count": 7,
   "id": "piano-casting",
   "metadata": {},
   "outputs": [
    {
     "name": "stdout",
     "output_type": "stream",
     "text": [
      "[[\"'40-49'\" \"'premeno'\" \"'15-19'\" \"'0-2'\" \"'yes'\" \"'3'\" \"'right'\"\n",
      "  \"'left_up'\" \"'no'\"]\n",
      " [\"'50-59'\" \"'ge40'\" \"'15-19'\" \"'0-2'\" \"'no'\" \"'1'\" \"'right'\" \"'central'\"\n",
      "  \"'no'\"]\n",
      " [\"'50-59'\" \"'ge40'\" \"'35-39'\" \"'0-2'\" \"'no'\" \"'2'\" \"'left'\" \"'left_low'\"\n",
      "  \"'no'\"]]\n"
     ]
    }
   ],
   "source": [
    "# summarize the raw data\n",
    "print(X[:3, :])"
   ]
  },
  {
   "cell_type": "code",
   "execution_count": 8,
   "id": "regional-crowd",
   "metadata": {},
   "outputs": [
    {
     "data": {
      "text/plain": [
       "(286, 9)"
      ]
     },
     "execution_count": 8,
     "metadata": {},
     "output_type": "execute_result"
    }
   ],
   "source": [
    "X.shape"
   ]
  },
  {
   "cell_type": "code",
   "execution_count": 46,
   "id": "olive-modem",
   "metadata": {},
   "outputs": [
    {
     "data": {
      "text/plain": [
       "array([\"'no'\", \"'yes'\"], dtype=object)"
      ]
     },
     "execution_count": 46,
     "metadata": {},
     "output_type": "execute_result"
    }
   ],
   "source": [
    "dataset[8].unique()"
   ]
  },
  {
   "cell_type": "code",
   "execution_count": 39,
   "id": "brazilian-street",
   "metadata": {},
   "outputs": [],
   "source": [
    "# define the one hot encoding transform\n",
    "encoder = OneHotEncoder(sparse=False)"
   ]
  },
  {
   "cell_type": "code",
   "execution_count": 40,
   "id": "pharmaceutical-filing",
   "metadata": {},
   "outputs": [
    {
     "data": {
      "text/plain": [
       "OneHotEncoder(sparse=False)"
      ]
     },
     "execution_count": 40,
     "metadata": {},
     "output_type": "execute_result"
    }
   ],
   "source": [
    "encoder"
   ]
  },
  {
   "cell_type": "code",
   "execution_count": 41,
   "id": "moderate-vienna",
   "metadata": {},
   "outputs": [],
   "source": [
    "# fit and apply the transform to the input data\n",
    "X_oe = encoder.fit_transform(X)"
   ]
  },
  {
   "cell_type": "code",
   "execution_count": 42,
   "id": "recent-victory",
   "metadata": {},
   "outputs": [
    {
     "data": {
      "text/plain": [
       "(286, 43)"
      ]
     },
     "execution_count": 42,
     "metadata": {},
     "output_type": "execute_result"
    }
   ],
   "source": [
    "X_oe.shape"
   ]
  },
  {
   "cell_type": "code",
   "execution_count": 43,
   "id": "adolescent-yukon",
   "metadata": {},
   "outputs": [
    {
     "name": "stdout",
     "output_type": "stream",
     "text": [
      "[[0. 0. 1. 0. 0. 0. 0. 0. 1. 0. 0. 1. 0. 0. 0. 0. 0. 0. 0. 0. 1. 0. 0. 0.\n",
      "  0. 0. 0. 0. 1. 0. 0. 0. 1. 0. 1. 0. 0. 1. 0. 0. 0. 1. 0.]\n",
      " [0. 0. 0. 1. 0. 0. 1. 0. 0. 0. 0. 1. 0. 0. 0. 0. 0. 0. 0. 0. 1. 0. 0. 0.\n",
      "  0. 0. 0. 1. 0. 0. 1. 0. 0. 0. 1. 1. 0. 0. 0. 0. 0. 1. 0.]\n",
      " [0. 0. 0. 1. 0. 0. 1. 0. 0. 0. 0. 0. 0. 0. 0. 1. 0. 0. 0. 0. 1. 0. 0. 0.\n",
      "  0. 0. 0. 1. 0. 0. 0. 1. 0. 1. 0. 0. 1. 0. 0. 0. 0. 1. 0.]]\n"
     ]
    }
   ],
   "source": [
    "# summarize tratransformed data\n",
    "print(X_oe[:3, :])"
   ]
  },
  {
   "cell_type": "code",
   "execution_count": 45,
   "id": "latter-manner",
   "metadata": {},
   "outputs": [
    {
     "data": {
      "text/plain": [
       "9.0"
      ]
     },
     "execution_count": 45,
     "metadata": {},
     "output_type": "execute_result"
    }
   ],
   "source": [
    "X_oe[0].sum()"
   ]
  },
  {
   "cell_type": "code",
   "execution_count": 14,
   "id": "complicated-explosion",
   "metadata": {},
   "outputs": [],
   "source": [
    "encoder = OneHotEncoder() # OneHotEncoder(sparse=True)"
   ]
  },
  {
   "cell_type": "code",
   "execution_count": 15,
   "id": "difficult-madison",
   "metadata": {},
   "outputs": [],
   "source": [
    "# fit and apply the transform to the input data\n",
    "X_oe = encoder.fit_transform(X)"
   ]
  },
  {
   "cell_type": "code",
   "execution_count": 20,
   "id": "blocked-pontiac",
   "metadata": {},
   "outputs": [
    {
     "data": {
      "text/plain": [
       "(286, 43)"
      ]
     },
     "execution_count": 20,
     "metadata": {},
     "output_type": "execute_result"
    }
   ],
   "source": [
    "X_oe.shape"
   ]
  },
  {
   "cell_type": "code",
   "execution_count": 22,
   "id": "limiting-picture",
   "metadata": {},
   "outputs": [
    {
     "name": "stdout",
     "output_type": "stream",
     "text": [
      "  (0, 2)\t1.0\n",
      "  (0, 8)\t1.0\n",
      "  (0, 11)\t1.0\n",
      "  (0, 20)\t1.0\n",
      "  (0, 28)\t1.0\n",
      "  (0, 32)\t1.0\n",
      "  (0, 34)\t1.0\n",
      "  (0, 37)\t1.0\n",
      "  (0, 41)\t1.0\n"
     ]
    }
   ],
   "source": [
    "# summarize tratransformed data\n",
    "print(X_oe[:1, :])"
   ]
  },
  {
   "cell_type": "code",
   "execution_count": null,
   "id": "sufficient-treasury",
   "metadata": {},
   "outputs": [],
   "source": []
  },
  {
   "cell_type": "code",
   "execution_count": 24,
   "id": "fleet-storage",
   "metadata": {},
   "outputs": [],
   "source": [
    "import pandas as pd"
   ]
  },
  {
   "cell_type": "code",
   "execution_count": 25,
   "id": "suitable-progress",
   "metadata": {},
   "outputs": [
    {
     "data": {
      "text/html": [
       "<div>\n",
       "<style scoped>\n",
       "    .dataframe tbody tr th:only-of-type {\n",
       "        vertical-align: middle;\n",
       "    }\n",
       "\n",
       "    .dataframe tbody tr th {\n",
       "        vertical-align: top;\n",
       "    }\n",
       "\n",
       "    .dataframe thead th {\n",
       "        text-align: right;\n",
       "    }\n",
       "</style>\n",
       "<table border=\"1\" class=\"dataframe\">\n",
       "  <thead>\n",
       "    <tr style=\"text-align: right;\">\n",
       "      <th></th>\n",
       "      <th>name</th>\n",
       "      <th>color</th>\n",
       "    </tr>\n",
       "  </thead>\n",
       "  <tbody>\n",
       "    <tr>\n",
       "      <th>0</th>\n",
       "      <td>apple</td>\n",
       "      <td>red</td>\n",
       "    </tr>\n",
       "    <tr>\n",
       "      <th>1</th>\n",
       "      <td>banana</td>\n",
       "      <td>yellow</td>\n",
       "    </tr>\n",
       "    <tr>\n",
       "      <th>2</th>\n",
       "      <td>cherry</td>\n",
       "      <td>red</td>\n",
       "    </tr>\n",
       "    <tr>\n",
       "      <th>3</th>\n",
       "      <td>durian</td>\n",
       "      <td>green</td>\n",
       "    </tr>\n",
       "  </tbody>\n",
       "</table>\n",
       "</div>"
      ],
      "text/plain": [
       "     name   color\n",
       "0   apple     red\n",
       "1  banana  yellow\n",
       "2  cherry     red\n",
       "3  durian   green"
      ]
     },
     "execution_count": 25,
     "metadata": {},
     "output_type": "execute_result"
    }
   ],
   "source": [
    "fruit = pd.DataFrame({'name':['apple', 'banana', 'cherry', 'durian'],\n",
    "                      'color':['red', 'yellow', 'red', 'green']})   \n",
    "fruit"
   ]
  },
  {
   "cell_type": "code",
   "execution_count": 26,
   "id": "studied-ribbon",
   "metadata": {},
   "outputs": [
    {
     "data": {
      "text/html": [
       "<div>\n",
       "<style scoped>\n",
       "    .dataframe tbody tr th:only-of-type {\n",
       "        vertical-align: middle;\n",
       "    }\n",
       "\n",
       "    .dataframe tbody tr th {\n",
       "        vertical-align: top;\n",
       "    }\n",
       "\n",
       "    .dataframe thead th {\n",
       "        text-align: right;\n",
       "    }\n",
       "</style>\n",
       "<table border=\"1\" class=\"dataframe\">\n",
       "  <thead>\n",
       "    <tr style=\"text-align: right;\">\n",
       "      <th></th>\n",
       "      <th>name</th>\n",
       "      <th>color</th>\n",
       "    </tr>\n",
       "  </thead>\n",
       "  <tbody>\n",
       "    <tr>\n",
       "      <th>0</th>\n",
       "      <td>0</td>\n",
       "      <td>red</td>\n",
       "    </tr>\n",
       "    <tr>\n",
       "      <th>1</th>\n",
       "      <td>1</td>\n",
       "      <td>yellow</td>\n",
       "    </tr>\n",
       "    <tr>\n",
       "      <th>2</th>\n",
       "      <td>2</td>\n",
       "      <td>red</td>\n",
       "    </tr>\n",
       "    <tr>\n",
       "      <th>3</th>\n",
       "      <td>3</td>\n",
       "      <td>green</td>\n",
       "    </tr>\n",
       "  </tbody>\n",
       "</table>\n",
       "</div>"
      ],
      "text/plain": [
       "   name   color\n",
       "0     0     red\n",
       "1     1  yellow\n",
       "2     2     red\n",
       "3     3   green"
      ]
     },
     "execution_count": 26,
     "metadata": {},
     "output_type": "execute_result"
    }
   ],
   "source": [
    "from sklearn.preprocessing import LabelEncoder\n",
    "\n",
    "le = LabelEncoder()\n",
    "le.fit(fruit['name'])\n",
    "fruit['name'] = le.transform(fruit['name'])\n",
    "fruit"
   ]
  },
  {
   "cell_type": "code",
   "execution_count": 47,
   "id": "completed-murder",
   "metadata": {},
   "outputs": [],
   "source": [
    "# a = 'Python'"
   ]
  },
  {
   "cell_type": "code",
   "execution_count": 48,
   "id": "ded41e3e-6497-48b4-ba66-531ea50d6c44",
   "metadata": {},
   "outputs": [
    {
     "data": {
      "text/plain": [
       "6"
      ]
     },
     "execution_count": 48,
     "metadata": {},
     "output_type": "execute_result"
    }
   ],
   "source": [
    "# len(a)"
   ]
  },
  {
   "cell_type": "code",
   "execution_count": 49,
   "id": "f00b9b04-795b-4bda-bc92-91271296488b",
   "metadata": {},
   "outputs": [],
   "source": [
    "# fruits = ('apple', 'banana', 'plum', 'watermelon', 'peach')"
   ]
  },
  {
   "cell_type": "code",
   "execution_count": 50,
   "id": "8be87ca2-ccb1-4066-a131-16c2e088e363",
   "metadata": {},
   "outputs": [
    {
     "data": {
      "text/plain": [
       "('banana', 'plum', 'watermelon')"
      ]
     },
     "execution_count": 50,
     "metadata": {},
     "output_type": "execute_result"
    }
   ],
   "source": [
    "# fruits[1:4]"
   ]
  },
  {
   "cell_type": "code",
   "execution_count": 56,
   "id": "ddfeaab9-75d6-4bf2-865a-619b3d44adb8",
   "metadata": {},
   "outputs": [
    {
     "name": "stdout",
     "output_type": "stream",
     "text": [
      "파이썬 정말 재미있어요~\n",
      "파이썬 정말 재미있어요~\n",
      "파이썬 정말 재미있어요~\n",
      "파이썬 정말 재미있어요~\n",
      "파이썬 정말 재미있어요~\n",
      "파이썬 정말 재미있어요~\n",
      "파이썬 정말 재미있어요~\n",
      "파이썬 정말 재미있어요~\n",
      "파이썬 정말 재미있어요~\n",
      "파이썬 정말 재미있어요~\n",
      "파이썬 정말 재미있어요~\n",
      "파이썬 정말 재미있어요~\n",
      "파이썬 정말 재미있어요~\n",
      "파이썬 정말 재미있어요~\n",
      "파이썬 정말 재미있어요~\n",
      "파이썬 정말 재미있어요~\n",
      "파이썬 정말 재미있어요~\n",
      "파이썬 정말 재미있어요~\n",
      "파이썬 정말 재미있어요~\n",
      "파이썬 정말 재미있어요~\n",
      "파이썬 정말 재미있어요~\n",
      "파이썬 정말 재미있어요~\n",
      "파이썬 정말 재미있어요~\n",
      "파이썬 정말 재미있어요~\n",
      "파이썬 정말 재미있어요~\n",
      "파이썬 정말 재미있어요~\n",
      "파이썬 정말 재미있어요~\n",
      "파이썬 정말 재미있어요~\n",
      "파이썬 정말 재미있어요~\n",
      "파이썬 정말 재미있어요~\n",
      "파이썬 정말 재미있어요~\n",
      "파이썬 정말 재미있어요~\n",
      "파이썬 정말 재미있어요~\n",
      "파이썬 정말 재미있어요~\n",
      "파이썬 정말 재미있어요~\n",
      "파이썬 정말 재미있어요~\n",
      "파이썬 정말 재미있어요~\n",
      "파이썬 정말 재미있어요~\n",
      "파이썬 정말 재미있어요~\n",
      "파이썬 정말 재미있어요~\n",
      "파이썬 정말 재미있어요~\n",
      "파이썬 정말 재미있어요~\n",
      "파이썬 정말 재미있어요~\n",
      "파이썬 정말 재미있어요~\n",
      "파이썬 정말 재미있어요~\n"
     ]
    }
   ],
   "source": [
    "# for i in range(1,10) :\n",
    "#     for k in range (0, 10, 2) :\n",
    "#         print(\"파이썬 정말 재미있어요~\")"
   ]
  },
  {
   "cell_type": "code",
   "execution_count": 53,
   "id": "829a1864-9318-4310-90a1-75192a4b9c2c",
   "metadata": {},
   "outputs": [
    {
     "data": {
      "text/plain": [
       "'Python'"
      ]
     },
     "execution_count": 53,
     "metadata": {},
     "output_type": "execute_result"
    }
   ],
   "source": [
    "a"
   ]
  },
  {
   "cell_type": "code",
   "execution_count": null,
   "id": "fb42f139-f3dd-47a5-a19d-05a8f4c4012e",
   "metadata": {},
   "outputs": [],
   "source": []
  }
 ],
 "metadata": {
  "kernelspec": {
   "display_name": "Python 3",
   "language": "python",
   "name": "python3"
  },
  "language_info": {
   "codemirror_mode": {
    "name": "ipython",
    "version": 3
   },
   "file_extension": ".py",
   "mimetype": "text/x-python",
   "name": "python",
   "nbconvert_exporter": "python",
   "pygments_lexer": "ipython3",
   "version": "3.8.8"
  }
 },
 "nbformat": 4,
 "nbformat_minor": 5
}
